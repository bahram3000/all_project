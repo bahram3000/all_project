{
 "cells": [
  {
   "cell_type": "code",
   "execution_count": 1,
   "metadata": {
    "collapsed": true,
    "pycharm": {
     "name": "#%%\n"
    }
   },
   "outputs": [],
   "source": [
    "import numpy as np\n",
    "import pandas as pd\n",
    "import finpy_tse as tse\n",
    "import mplfinance as mplf\n",
    "import scipy.stats as stt\n",
    "import matplotlib.pyplot as plt"
   ]
  },
  {
   "cell_type": "code",
   "execution_count": 2,
   "outputs": [
    {
     "name": "stdout",
     "output_type": "stream",
     "text": [
      "Progress : 100 % , Done in 21 seconds!\n",
      "Save path does not exist, you can handle saving this data by returned dataframe as Excel using \".to_excel()\", if you will!\n",
      "Save path does not exist, you can handle saving this data by returned dataframe as CSV using \".to_csv()\", if you will!\n"
     ]
    },
    {
     "data": {
      "text/plain": "          Name   Market                         Panel  \\\nTicker                                                  \nآباد      آباد     بورس                بازار دوم بورس   \nآبادا    آبادا     بورس                بازار دوم بورس   \nآپ          آپ     بورس  بازار اول (تابلوی فرعی) بورس   \nآسیا      آسیا     بورس  بازار اول (تابلوی اصلی) بورس   \nاپال      اپال     بورس                بازار دوم بورس   \n...        ...      ...                           ...   \nولشرق    ولشرق  فرابورس             بازار اول فرابورس   \nومعلم    ومعلم  فرابورس             بازار دوم فرابورس   \nوملل      وملل  فرابورس             بازار دوم فرابورس   \nوهامون  وهامون  فرابورس             بازار اول فرابورس   \nوهور      وهور  فرابورس             بازار دوم فرابورس   \n\n                                          Sector  \\\nTicker                                             \nآباد                               هتل و رستوران   \nآبادا                 عرضه برق، گاز، بخاروآب گرم   \nآپ              رایانه و فعالیت های وابسته به آن   \nآسیا    بیمه وصندوق بازنشستگی به جزتامین اجتماعی   \nاپال                       استخراج کانه های فلزی   \n...                                          ...   \nولشرق                     سایر واسطه گریهای مالی   \nومعلم   بیمه وصندوق بازنشستگی به جزتامین اجتماعی   \nوملل                     بانکها و موسسات اعتباری   \nوهامون                            سرمایه گذاریها   \nوهور                  عرضه برق، گاز، بخاروآب گرم   \n\n                                      Sub-Sector Comment            Name(EN)  \\\nTicker                                                                         \nآباد    هتل ها ، اردو و دیگر تدارکات اقامت کوتاه       -           Abadgaran   \nآبادا             تولید انتقال و توزیع نیروی برق       -           Abadan PG   \nآپ                       مشاوره و تهیه نرم افزار       -  Asan Pardakht Pers   \nآسیا                               بیمه غیرزندگی       -           Asia Bime   \nاپال                                 استخراج آهن       -      Opal Kani Pars   \n...                                          ...     ...                 ...   \nولشرق                                لیزینگ مالی       -  Iran & Shargh Lsg.   \nومعلم                              بیمه غیرزندگی       -   Moallem Insurance   \nوملل                         سایر واسطه های پولی       -  Melal Credit Inst.   \nوهامون                       سایر واسطه های مالی       -    Hamoon Saba Inv.   \nوهور              تولید انتقال و توزیع نیروی برق       -     Omid Taban Hoor   \n\n       Company Code(12) Ticker(4) Ticker(5)    Ticker(12) Sector Code  \\\nTicker                                                                  \nآباد       IRO1ABAD0002      ABAD     ABAD1  IRO1ABAD0001          55   \nآبادا      IRO1NBAB0009      NBAB     NBAB1  IRO1NBAB0001          40   \nآپ         IRO1APPE0008      APPE     APPE1  IRO1APPE0001          72   \nآسیا       IRO1ASIA0008      ASIA     ASIA1  IRO1ASIA0001          66   \nاپال       IRO1OPAL0000      OPAL     OPAL1  IRO1OPAL0001          13   \n...                 ...       ...       ...           ...         ...   \nولشرق      IRO3ISLZ0004      ISLZ     ISLZ1  IRO3ISLZ0001          58   \nومعلم      IRO3MOIZ0007      MOIZ     MOIZ1  IRO3MOIZ0001          66   \nوملل       IRO3ASKZ0003      ASKZ     ASKZ1  IRO3ASKZ0001          57   \nوهامون     IRO3HAIZ0000      HAIZ     HAIZ1  IRO3HAIZ0001          56   \nوهور       IRO3HORZ0003      HORZ     HORZ1  IRO3HORZ0001          40   \n\n       Sub-Sector Code Panel Code  \nTicker                             \nآباد              5510          5  \nآبادا             4010          5  \nآپ                7220          3  \nآسیا              6603          1  \nاپال              1310          5  \n...                ...        ...  \nولشرق             5891          1  \nومعلم             6603          3  \nوملل              5719          3  \nوهامون            5699          1  \nوهور              4010          3  \n\n[554 rows x 14 columns]",
      "text/html": "<div>\n<style scoped>\n    .dataframe tbody tr th:only-of-type {\n        vertical-align: middle;\n    }\n\n    .dataframe tbody tr th {\n        vertical-align: top;\n    }\n\n    .dataframe thead th {\n        text-align: right;\n    }\n</style>\n<table border=\"1\" class=\"dataframe\">\n  <thead>\n    <tr style=\"text-align: right;\">\n      <th></th>\n      <th>Name</th>\n      <th>Market</th>\n      <th>Panel</th>\n      <th>Sector</th>\n      <th>Sub-Sector</th>\n      <th>Comment</th>\n      <th>Name(EN)</th>\n      <th>Company Code(12)</th>\n      <th>Ticker(4)</th>\n      <th>Ticker(5)</th>\n      <th>Ticker(12)</th>\n      <th>Sector Code</th>\n      <th>Sub-Sector Code</th>\n      <th>Panel Code</th>\n    </tr>\n    <tr>\n      <th>Ticker</th>\n      <th></th>\n      <th></th>\n      <th></th>\n      <th></th>\n      <th></th>\n      <th></th>\n      <th></th>\n      <th></th>\n      <th></th>\n      <th></th>\n      <th></th>\n      <th></th>\n      <th></th>\n      <th></th>\n    </tr>\n  </thead>\n  <tbody>\n    <tr>\n      <th>آباد</th>\n      <td>آباد</td>\n      <td>بورس</td>\n      <td>بازار دوم بورس</td>\n      <td>هتل و رستوران</td>\n      <td>هتل ها ، اردو و دیگر تدارکات اقامت کوتاه</td>\n      <td>-</td>\n      <td>Abadgaran</td>\n      <td>IRO1ABAD0002</td>\n      <td>ABAD</td>\n      <td>ABAD1</td>\n      <td>IRO1ABAD0001</td>\n      <td>55</td>\n      <td>5510</td>\n      <td>5</td>\n    </tr>\n    <tr>\n      <th>آبادا</th>\n      <td>آبادا</td>\n      <td>بورس</td>\n      <td>بازار دوم بورس</td>\n      <td>عرضه برق، گاز، بخاروآب گرم</td>\n      <td>تولید انتقال و توزیع نیروی برق</td>\n      <td>-</td>\n      <td>Abadan PG</td>\n      <td>IRO1NBAB0009</td>\n      <td>NBAB</td>\n      <td>NBAB1</td>\n      <td>IRO1NBAB0001</td>\n      <td>40</td>\n      <td>4010</td>\n      <td>5</td>\n    </tr>\n    <tr>\n      <th>آپ</th>\n      <td>آپ</td>\n      <td>بورس</td>\n      <td>بازار اول (تابلوی فرعی) بورس</td>\n      <td>رایانه و فعالیت های وابسته به آن</td>\n      <td>مشاوره و تهیه نرم افزار</td>\n      <td>-</td>\n      <td>Asan Pardakht Pers</td>\n      <td>IRO1APPE0008</td>\n      <td>APPE</td>\n      <td>APPE1</td>\n      <td>IRO1APPE0001</td>\n      <td>72</td>\n      <td>7220</td>\n      <td>3</td>\n    </tr>\n    <tr>\n      <th>آسیا</th>\n      <td>آسیا</td>\n      <td>بورس</td>\n      <td>بازار اول (تابلوی اصلی) بورس</td>\n      <td>بیمه وصندوق بازنشستگی به جزتامین اجتماعی</td>\n      <td>بیمه غیرزندگی</td>\n      <td>-</td>\n      <td>Asia Bime</td>\n      <td>IRO1ASIA0008</td>\n      <td>ASIA</td>\n      <td>ASIA1</td>\n      <td>IRO1ASIA0001</td>\n      <td>66</td>\n      <td>6603</td>\n      <td>1</td>\n    </tr>\n    <tr>\n      <th>اپال</th>\n      <td>اپال</td>\n      <td>بورس</td>\n      <td>بازار دوم بورس</td>\n      <td>استخراج کانه های فلزی</td>\n      <td>استخراج آهن</td>\n      <td>-</td>\n      <td>Opal Kani Pars</td>\n      <td>IRO1OPAL0000</td>\n      <td>OPAL</td>\n      <td>OPAL1</td>\n      <td>IRO1OPAL0001</td>\n      <td>13</td>\n      <td>1310</td>\n      <td>5</td>\n    </tr>\n    <tr>\n      <th>...</th>\n      <td>...</td>\n      <td>...</td>\n      <td>...</td>\n      <td>...</td>\n      <td>...</td>\n      <td>...</td>\n      <td>...</td>\n      <td>...</td>\n      <td>...</td>\n      <td>...</td>\n      <td>...</td>\n      <td>...</td>\n      <td>...</td>\n      <td>...</td>\n    </tr>\n    <tr>\n      <th>ولشرق</th>\n      <td>ولشرق</td>\n      <td>فرابورس</td>\n      <td>بازار اول فرابورس</td>\n      <td>سایر واسطه گریهای مالی</td>\n      <td>لیزینگ مالی</td>\n      <td>-</td>\n      <td>Iran &amp; Shargh Lsg.</td>\n      <td>IRO3ISLZ0004</td>\n      <td>ISLZ</td>\n      <td>ISLZ1</td>\n      <td>IRO3ISLZ0001</td>\n      <td>58</td>\n      <td>5891</td>\n      <td>1</td>\n    </tr>\n    <tr>\n      <th>ومعلم</th>\n      <td>ومعلم</td>\n      <td>فرابورس</td>\n      <td>بازار دوم فرابورس</td>\n      <td>بیمه وصندوق بازنشستگی به جزتامین اجتماعی</td>\n      <td>بیمه غیرزندگی</td>\n      <td>-</td>\n      <td>Moallem Insurance</td>\n      <td>IRO3MOIZ0007</td>\n      <td>MOIZ</td>\n      <td>MOIZ1</td>\n      <td>IRO3MOIZ0001</td>\n      <td>66</td>\n      <td>6603</td>\n      <td>3</td>\n    </tr>\n    <tr>\n      <th>وملل</th>\n      <td>وملل</td>\n      <td>فرابورس</td>\n      <td>بازار دوم فرابورس</td>\n      <td>بانکها و موسسات اعتباری</td>\n      <td>سایر واسطه های پولی</td>\n      <td>-</td>\n      <td>Melal Credit Inst.</td>\n      <td>IRO3ASKZ0003</td>\n      <td>ASKZ</td>\n      <td>ASKZ1</td>\n      <td>IRO3ASKZ0001</td>\n      <td>57</td>\n      <td>5719</td>\n      <td>3</td>\n    </tr>\n    <tr>\n      <th>وهامون</th>\n      <td>وهامون</td>\n      <td>فرابورس</td>\n      <td>بازار اول فرابورس</td>\n      <td>سرمایه گذاریها</td>\n      <td>سایر واسطه های مالی</td>\n      <td>-</td>\n      <td>Hamoon Saba Inv.</td>\n      <td>IRO3HAIZ0000</td>\n      <td>HAIZ</td>\n      <td>HAIZ1</td>\n      <td>IRO3HAIZ0001</td>\n      <td>56</td>\n      <td>5699</td>\n      <td>1</td>\n    </tr>\n    <tr>\n      <th>وهور</th>\n      <td>وهور</td>\n      <td>فرابورس</td>\n      <td>بازار دوم فرابورس</td>\n      <td>عرضه برق، گاز، بخاروآب گرم</td>\n      <td>تولید انتقال و توزیع نیروی برق</td>\n      <td>-</td>\n      <td>Omid Taban Hoor</td>\n      <td>IRO3HORZ0003</td>\n      <td>HORZ</td>\n      <td>HORZ1</td>\n      <td>IRO3HORZ0001</td>\n      <td>40</td>\n      <td>4010</td>\n      <td>3</td>\n    </tr>\n  </tbody>\n</table>\n<p>554 rows × 14 columns</p>\n</div>"
     },
     "execution_count": 2,
     "metadata": {},
     "output_type": "execute_result"
    }
   ],
   "source": [
    "symbol=tse.Build_Market_StockList(bourse=True,farabourse=True,payeh=False)\n",
    "symbol.Name=symbol.index\n",
    "symbol"
   ],
   "metadata": {
    "collapsed": false,
    "pycharm": {
     "name": "#%%\n"
    }
   }
  },
  {
   "cell_type": "code",
   "execution_count": 3,
   "outputs": [
    {
     "data": {
      "text/plain": "          Name            Name(EN)\nTicker                            \nآباد      آباد           Abadgaran\nآبادا    آبادا           Abadan PG\nآپ          آپ  Asan Pardakht Pers\nآسیا      آسیا           Asia Bime\nاپال      اپال      Opal Kani Pars\n...        ...                 ...\nولشرق    ولشرق  Iran & Shargh Lsg.\nومعلم    ومعلم   Moallem Insurance\nوملل      وملل  Melal Credit Inst.\nوهامون  وهامون    Hamoon Saba Inv.\nوهور      وهور     Omid Taban Hoor\n\n[554 rows x 2 columns]",
      "text/html": "<div>\n<style scoped>\n    .dataframe tbody tr th:only-of-type {\n        vertical-align: middle;\n    }\n\n    .dataframe tbody tr th {\n        vertical-align: top;\n    }\n\n    .dataframe thead th {\n        text-align: right;\n    }\n</style>\n<table border=\"1\" class=\"dataframe\">\n  <thead>\n    <tr style=\"text-align: right;\">\n      <th></th>\n      <th>Name</th>\n      <th>Name(EN)</th>\n    </tr>\n    <tr>\n      <th>Ticker</th>\n      <th></th>\n      <th></th>\n    </tr>\n  </thead>\n  <tbody>\n    <tr>\n      <th>آباد</th>\n      <td>آباد</td>\n      <td>Abadgaran</td>\n    </tr>\n    <tr>\n      <th>آبادا</th>\n      <td>آبادا</td>\n      <td>Abadan PG</td>\n    </tr>\n    <tr>\n      <th>آپ</th>\n      <td>آپ</td>\n      <td>Asan Pardakht Pers</td>\n    </tr>\n    <tr>\n      <th>آسیا</th>\n      <td>آسیا</td>\n      <td>Asia Bime</td>\n    </tr>\n    <tr>\n      <th>اپال</th>\n      <td>اپال</td>\n      <td>Opal Kani Pars</td>\n    </tr>\n    <tr>\n      <th>...</th>\n      <td>...</td>\n      <td>...</td>\n    </tr>\n    <tr>\n      <th>ولشرق</th>\n      <td>ولشرق</td>\n      <td>Iran &amp; Shargh Lsg.</td>\n    </tr>\n    <tr>\n      <th>ومعلم</th>\n      <td>ومعلم</td>\n      <td>Moallem Insurance</td>\n    </tr>\n    <tr>\n      <th>وملل</th>\n      <td>وملل</td>\n      <td>Melal Credit Inst.</td>\n    </tr>\n    <tr>\n      <th>وهامون</th>\n      <td>وهامون</td>\n      <td>Hamoon Saba Inv.</td>\n    </tr>\n    <tr>\n      <th>وهور</th>\n      <td>وهور</td>\n      <td>Omid Taban Hoor</td>\n    </tr>\n  </tbody>\n</table>\n<p>554 rows × 2 columns</p>\n</div>"
     },
     "execution_count": 3,
     "metadata": {},
     "output_type": "execute_result"
    }
   ],
   "source": [
    "symbol.drop(['Market','Panel','Sector',\"Sub-Sector\",'Comment','Company Code(12)','Ticker(4)','Ticker(5)','Ticker(12)','Sector Code','Sub-Sector Code','Panel Code'],axis=1,inplace=True)\n",
    "symbol"
   ],
   "metadata": {
    "collapsed": false,
    "pycharm": {
     "name": "#%%\n"
    }
   }
  },
  {
   "cell_type": "code",
   "execution_count": 4,
   "outputs": [
    {
     "data": {
      "text/plain": "     Ticker    Name            Name(EN)\n0      آباد    آباد           Abadgaran\n1     آبادا   آبادا           Abadan PG\n2        آپ      آپ  Asan Pardakht Pers\n3      آسیا    آسیا           Asia Bime\n4      اپال    اپال      Opal Kani Pars\n..      ...     ...                 ...\n549   ولشرق   ولشرق  Iran & Shargh Lsg.\n550   ومعلم   ومعلم   Moallem Insurance\n551    وملل    وملل  Melal Credit Inst.\n552  وهامون  وهامون    Hamoon Saba Inv.\n553    وهور    وهور     Omid Taban Hoor\n\n[554 rows x 3 columns]",
      "text/html": "<div>\n<style scoped>\n    .dataframe tbody tr th:only-of-type {\n        vertical-align: middle;\n    }\n\n    .dataframe tbody tr th {\n        vertical-align: top;\n    }\n\n    .dataframe thead th {\n        text-align: right;\n    }\n</style>\n<table border=\"1\" class=\"dataframe\">\n  <thead>\n    <tr style=\"text-align: right;\">\n      <th></th>\n      <th>Ticker</th>\n      <th>Name</th>\n      <th>Name(EN)</th>\n    </tr>\n  </thead>\n  <tbody>\n    <tr>\n      <th>0</th>\n      <td>آباد</td>\n      <td>آباد</td>\n      <td>Abadgaran</td>\n    </tr>\n    <tr>\n      <th>1</th>\n      <td>آبادا</td>\n      <td>آبادا</td>\n      <td>Abadan PG</td>\n    </tr>\n    <tr>\n      <th>2</th>\n      <td>آپ</td>\n      <td>آپ</td>\n      <td>Asan Pardakht Pers</td>\n    </tr>\n    <tr>\n      <th>3</th>\n      <td>آسیا</td>\n      <td>آسیا</td>\n      <td>Asia Bime</td>\n    </tr>\n    <tr>\n      <th>4</th>\n      <td>اپال</td>\n      <td>اپال</td>\n      <td>Opal Kani Pars</td>\n    </tr>\n    <tr>\n      <th>...</th>\n      <td>...</td>\n      <td>...</td>\n      <td>...</td>\n    </tr>\n    <tr>\n      <th>549</th>\n      <td>ولشرق</td>\n      <td>ولشرق</td>\n      <td>Iran &amp; Shargh Lsg.</td>\n    </tr>\n    <tr>\n      <th>550</th>\n      <td>ومعلم</td>\n      <td>ومعلم</td>\n      <td>Moallem Insurance</td>\n    </tr>\n    <tr>\n      <th>551</th>\n      <td>وملل</td>\n      <td>وملل</td>\n      <td>Melal Credit Inst.</td>\n    </tr>\n    <tr>\n      <th>552</th>\n      <td>وهامون</td>\n      <td>وهامون</td>\n      <td>Hamoon Saba Inv.</td>\n    </tr>\n    <tr>\n      <th>553</th>\n      <td>وهور</td>\n      <td>وهور</td>\n      <td>Omid Taban Hoor</td>\n    </tr>\n  </tbody>\n</table>\n<p>554 rows × 3 columns</p>\n</div>"
     },
     "execution_count": 4,
     "metadata": {},
     "output_type": "execute_result"
    }
   ],
   "source": [
    "symbol.reset_index(inplace=True)\n",
    "symbol"
   ],
   "metadata": {
    "collapsed": false,
    "pycharm": {
     "name": "#%%\n"
    }
   }
  },
  {
   "cell_type": "code",
   "execution_count": 5,
   "outputs": [
    {
     "data": {
      "text/plain": "       Name            Name(EN)\n0      آباد           Abadgaran\n1     آبادا           Abadan PG\n2        آپ  Asan Pardakht Pers\n3      آسیا           Asia Bime\n4      اپال      Opal Kani Pars\n..      ...                 ...\n549   ولشرق  Iran & Shargh Lsg.\n550   ومعلم   Moallem Insurance\n551    وملل  Melal Credit Inst.\n552  وهامون    Hamoon Saba Inv.\n553    وهور     Omid Taban Hoor\n\n[554 rows x 2 columns]",
      "text/html": "<div>\n<style scoped>\n    .dataframe tbody tr th:only-of-type {\n        vertical-align: middle;\n    }\n\n    .dataframe tbody tr th {\n        vertical-align: top;\n    }\n\n    .dataframe thead th {\n        text-align: right;\n    }\n</style>\n<table border=\"1\" class=\"dataframe\">\n  <thead>\n    <tr style=\"text-align: right;\">\n      <th></th>\n      <th>Name</th>\n      <th>Name(EN)</th>\n    </tr>\n  </thead>\n  <tbody>\n    <tr>\n      <th>0</th>\n      <td>آباد</td>\n      <td>Abadgaran</td>\n    </tr>\n    <tr>\n      <th>1</th>\n      <td>آبادا</td>\n      <td>Abadan PG</td>\n    </tr>\n    <tr>\n      <th>2</th>\n      <td>آپ</td>\n      <td>Asan Pardakht Pers</td>\n    </tr>\n    <tr>\n      <th>3</th>\n      <td>آسیا</td>\n      <td>Asia Bime</td>\n    </tr>\n    <tr>\n      <th>4</th>\n      <td>اپال</td>\n      <td>Opal Kani Pars</td>\n    </tr>\n    <tr>\n      <th>...</th>\n      <td>...</td>\n      <td>...</td>\n    </tr>\n    <tr>\n      <th>549</th>\n      <td>ولشرق</td>\n      <td>Iran &amp; Shargh Lsg.</td>\n    </tr>\n    <tr>\n      <th>550</th>\n      <td>ومعلم</td>\n      <td>Moallem Insurance</td>\n    </tr>\n    <tr>\n      <th>551</th>\n      <td>وملل</td>\n      <td>Melal Credit Inst.</td>\n    </tr>\n    <tr>\n      <th>552</th>\n      <td>وهامون</td>\n      <td>Hamoon Saba Inv.</td>\n    </tr>\n    <tr>\n      <th>553</th>\n      <td>وهور</td>\n      <td>Omid Taban Hoor</td>\n    </tr>\n  </tbody>\n</table>\n<p>554 rows × 2 columns</p>\n</div>"
     },
     "execution_count": 5,
     "metadata": {},
     "output_type": "execute_result"
    }
   ],
   "source": [
    "symbol.drop('Ticker',axis=1,inplace=True)\n",
    "symbol"
   ],
   "metadata": {
    "collapsed": false,
    "pycharm": {
     "name": "#%%\n"
    }
   }
  },
  {
   "cell_type": "code",
   "execution_count": 6,
   "outputs": [],
   "source": [
    "symbol.to_csv('F:\\\\my project\\\\dataset\\\\tse\\\\symbols.csv')"
   ],
   "metadata": {
    "collapsed": false,
    "pycharm": {
     "name": "#%%\n"
    }
   }
  },
  {
   "cell_type": "code",
   "execution_count": 20,
   "outputs": [],
   "source": [],
   "metadata": {
    "collapsed": false,
    "pycharm": {
     "name": "#%%\n"
    }
   }
  },
  {
   "cell_type": "code",
   "execution_count": 20,
   "outputs": [],
   "source": [],
   "metadata": {
    "collapsed": false,
    "pycharm": {
     "name": "#%%\n"
    }
   }
  },
  {
   "cell_type": "code",
   "execution_count": null,
   "outputs": [],
   "source": [],
   "metadata": {
    "collapsed": false,
    "pycharm": {
     "name": "#%%\n"
    }
   }
  }
 ],
 "metadata": {
  "kernelspec": {
   "display_name": "Python 3",
   "language": "python",
   "name": "python3"
  },
  "language_info": {
   "codemirror_mode": {
    "name": "ipython",
    "version": 2
   },
   "file_extension": ".py",
   "mimetype": "text/x-python",
   "name": "python",
   "nbconvert_exporter": "python",
   "pygments_lexer": "ipython2",
   "version": "2.7.6"
  }
 },
 "nbformat": 4,
 "nbformat_minor": 0
}