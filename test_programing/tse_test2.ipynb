{
 "cells": [
  {
   "cell_type": "code",
   "execution_count": 17,
   "metadata": {
    "collapsed": true,
    "pycharm": {
     "name": "#%%\n"
    }
   },
   "outputs": [],
   "source": [
    "import numpy as np\n",
    "import pandas as pd\n",
    "import finpy_tse as tse"
   ]
  },
  {
   "cell_type": "code",
   "execution_count": 18,
   "outputs": [
    {
     "name": "stdout",
     "output_type": "stream",
     "text": [
      "Progress : 100 % , Done in 72 seconds!\n",
      "Save path does not exist, you can handle saving this data by returned dataframe as Excel using \".to_excel()\", if you will!\n",
      "Save path does not exist, you can handle saving this data by returned dataframe as CSV using \".to_csv()\", if you will!\n"
     ]
    }
   ],
   "source": [
    "tse_symbols = tse.Build_Market_StockList(bourse=True, farabourse=True, payeh=True)"
   ],
   "metadata": {
    "collapsed": false,
    "pycharm": {
     "name": "#%%\n"
    }
   }
  },
  {
   "cell_type": "code",
   "execution_count": 19,
   "outputs": [
    {
     "data": {
      "text/plain": "                                 Name       Market  \\\nTicker                                               \nآباد    توریستی ورفاهی آبادگران ایران         بورس   \nآبادا          تولید نیروی برق آبادان         بورس   \nآپ                  آسان پرداخت پرشین         بورس   \nآسیا                        بیمه آسیا         بورس   \nاپال      فرآوری معدنی اپال کانی پارس         بورس   \n...                               ...          ...   \nکابگن           تولیدی و صنعتی آبگینه    پایه قرمز   \nغیوان                           کیوان    پایه قرمز   \nفالوم                          آلومتک     پایه زرد   \nسباقر                    سیمان باقران     پایه زرد   \nدتهران          داروسازی  تهران  دارو  پایه نارنجی   \n\n                               Panel  \\\nTicker                                 \nآباد                  بازار دوم بورس   \nآبادا                 بازار دوم بورس   \nآپ                    بازار دوم بورس   \nآسیا    بازار اول (تابلوی اصلی) بورس   \nاپال                  بازار دوم بورس   \n...                              ...   \nکابگن        بازار پایه قرمز فرابورس   \nغیوان        بازار پایه قرمز فرابورس   \nفالوم         بازار پایه زرد فرابورس   \nسباقر         بازار پایه زرد فرابورس   \nدتهران     بازار پایه نارنجی فرابورس   \n\n                                          Sector  \\\nTicker                                             \nآباد                               هتل و رستوران   \nآبادا                 عرضه برق، گاز، بخاروآب گرم   \nآپ              رایانه و فعالیت های وابسته به آن   \nآسیا    بیمه وصندوق بازنشستگی به جزتامین اجتماعی   \nاپال                       استخراج کانه های فلزی   \n...                                          ...   \nکابگن                  سایر محصولات کانی غیرفلزی   \nغیوان   محصولات غذایی و آشامیدنی به جز قند و شکر   \nفالوم                                فلزات اساسی   \nسباقر                            سیمان، آهک و گچ   \nدتهران                     مواد و محصولات دارویی   \n\n                                      Sub-Sector  \\\nTicker                                             \nآباد    هتل ها ، اردو و دیگر تدارکات اقامت کوتاه   \nآبادا             تولید انتقال و توزیع نیروی برق   \nآپ                       مشاوره و تهیه نرم افزار   \nآسیا                               بیمه غیرزندگی   \nاپال                                 استخراج آهن   \n...                                          ...   \nکابگن                                 تولید شیشه   \nغیوان                 تولید نان و محصولات وابسته   \nفالوم                تولید فلزات گرانبهای غیرآهن   \nسباقر                      تولید سیمان، آهک و گچ   \nدتهران             تولید داروهای شیمیایی و گیاهی   \n\n                                         Comment            Name(EN)  \\\nTicker                                                                 \nآباد                                           -           Abadgaran   \nآبادا                                          -           Abadan PG   \nآپ                                             -  Asan Pardakht Pers   \nآسیا                                           -           Asia Bime   \nاپال                                           -      Opal Kani Pars   \n...                                          ...                 ...   \nکابگن                              لغو پذیرش شده             Abgineh   \nغیوان                 لغو پذیرش شده/عدم اظهارنظر              Keivan   \nفالوم                              لغو پذیرش شده             Alumtek   \nسباقر    قانون احکام دائمی برنامه های توسعه کشور     Bagheran Cement   \nدتهران                             لغو پذیرش شده        Tehran Darou   \n\n       Company Code(12) Ticker(4) Ticker(5)    Ticker(12) Sector Code  \\\nTicker                                                                  \nآباد       IRO1ABAD0002      ABAD     ABAD1  IRO1ABAD0001          55   \nآبادا      IRO1NBAB0009      NBAB     NBAB1  IRO1NBAB0001          40   \nآپ         IRO1APPE0008      APPE     APPE1  IRO1APPE0001          72   \nآسیا       IRO1ASIA0008      ASIA     ASIA1  IRO1ASIA0001          66   \nاپال       IRO1OPAL0000      OPAL     OPAL1  IRO1OPAL0001          13   \n...                 ...       ...       ...           ...         ...   \nکابگن      IRO7ABGP0006      ABGP     ABGP1  IRO7ABGP0001          54   \nغیوان      IRO7KIVP0008      KIVP     KIVP1  IRO7KIVP0001          42   \nفالوم      IRO7ALTP0009      ALTP     ALTP1  IRO7ALTP0001          27   \nسباقر      IRO7CBBP0009      CBBP     CBBP1  IRO7CBBP0001          53   \nدتهران     IRO7THDP0002      THDP     THDP1  IRO7THDP0001          43   \n\n       Sub-Sector Code Panel Code  \nTicker                             \nآباد              5510          5  \nآبادا             4010          5  \nآپ                7220          5  \nآسیا              6603          1  \nاپال              1310          5  \n...                ...        ...  \nکابگن             5410          7  \nغیوان             4241          7  \nفالوم             2720          7  \nسباقر             5394          7  \nدتهران            4323          7  \n\n[720 rows x 14 columns]",
      "text/html": "<div>\n<style scoped>\n    .dataframe tbody tr th:only-of-type {\n        vertical-align: middle;\n    }\n\n    .dataframe tbody tr th {\n        vertical-align: top;\n    }\n\n    .dataframe thead th {\n        text-align: right;\n    }\n</style>\n<table border=\"1\" class=\"dataframe\">\n  <thead>\n    <tr style=\"text-align: right;\">\n      <th></th>\n      <th>Name</th>\n      <th>Market</th>\n      <th>Panel</th>\n      <th>Sector</th>\n      <th>Sub-Sector</th>\n      <th>Comment</th>\n      <th>Name(EN)</th>\n      <th>Company Code(12)</th>\n      <th>Ticker(4)</th>\n      <th>Ticker(5)</th>\n      <th>Ticker(12)</th>\n      <th>Sector Code</th>\n      <th>Sub-Sector Code</th>\n      <th>Panel Code</th>\n    </tr>\n    <tr>\n      <th>Ticker</th>\n      <th></th>\n      <th></th>\n      <th></th>\n      <th></th>\n      <th></th>\n      <th></th>\n      <th></th>\n      <th></th>\n      <th></th>\n      <th></th>\n      <th></th>\n      <th></th>\n      <th></th>\n      <th></th>\n    </tr>\n  </thead>\n  <tbody>\n    <tr>\n      <th>آباد</th>\n      <td>توریستی ورفاهی آبادگران ایران</td>\n      <td>بورس</td>\n      <td>بازار دوم بورس</td>\n      <td>هتل و رستوران</td>\n      <td>هتل ها ، اردو و دیگر تدارکات اقامت کوتاه</td>\n      <td>-</td>\n      <td>Abadgaran</td>\n      <td>IRO1ABAD0002</td>\n      <td>ABAD</td>\n      <td>ABAD1</td>\n      <td>IRO1ABAD0001</td>\n      <td>55</td>\n      <td>5510</td>\n      <td>5</td>\n    </tr>\n    <tr>\n      <th>آبادا</th>\n      <td>تولید نیروی برق آبادان</td>\n      <td>بورس</td>\n      <td>بازار دوم بورس</td>\n      <td>عرضه برق، گاز، بخاروآب گرم</td>\n      <td>تولید انتقال و توزیع نیروی برق</td>\n      <td>-</td>\n      <td>Abadan PG</td>\n      <td>IRO1NBAB0009</td>\n      <td>NBAB</td>\n      <td>NBAB1</td>\n      <td>IRO1NBAB0001</td>\n      <td>40</td>\n      <td>4010</td>\n      <td>5</td>\n    </tr>\n    <tr>\n      <th>آپ</th>\n      <td>آسان پرداخت پرشین</td>\n      <td>بورس</td>\n      <td>بازار دوم بورس</td>\n      <td>رایانه و فعالیت های وابسته به آن</td>\n      <td>مشاوره و تهیه نرم افزار</td>\n      <td>-</td>\n      <td>Asan Pardakht Pers</td>\n      <td>IRO1APPE0008</td>\n      <td>APPE</td>\n      <td>APPE1</td>\n      <td>IRO1APPE0001</td>\n      <td>72</td>\n      <td>7220</td>\n      <td>5</td>\n    </tr>\n    <tr>\n      <th>آسیا</th>\n      <td>بیمه آسیا</td>\n      <td>بورس</td>\n      <td>بازار اول (تابلوی اصلی) بورس</td>\n      <td>بیمه وصندوق بازنشستگی به جزتامین اجتماعی</td>\n      <td>بیمه غیرزندگی</td>\n      <td>-</td>\n      <td>Asia Bime</td>\n      <td>IRO1ASIA0008</td>\n      <td>ASIA</td>\n      <td>ASIA1</td>\n      <td>IRO1ASIA0001</td>\n      <td>66</td>\n      <td>6603</td>\n      <td>1</td>\n    </tr>\n    <tr>\n      <th>اپال</th>\n      <td>فرآوری معدنی اپال کانی پارس</td>\n      <td>بورس</td>\n      <td>بازار دوم بورس</td>\n      <td>استخراج کانه های فلزی</td>\n      <td>استخراج آهن</td>\n      <td>-</td>\n      <td>Opal Kani Pars</td>\n      <td>IRO1OPAL0000</td>\n      <td>OPAL</td>\n      <td>OPAL1</td>\n      <td>IRO1OPAL0001</td>\n      <td>13</td>\n      <td>1310</td>\n      <td>5</td>\n    </tr>\n    <tr>\n      <th>...</th>\n      <td>...</td>\n      <td>...</td>\n      <td>...</td>\n      <td>...</td>\n      <td>...</td>\n      <td>...</td>\n      <td>...</td>\n      <td>...</td>\n      <td>...</td>\n      <td>...</td>\n      <td>...</td>\n      <td>...</td>\n      <td>...</td>\n      <td>...</td>\n    </tr>\n    <tr>\n      <th>کابگن</th>\n      <td>تولیدی و صنعتی آبگینه</td>\n      <td>پایه قرمز</td>\n      <td>بازار پایه قرمز فرابورس</td>\n      <td>سایر محصولات کانی غیرفلزی</td>\n      <td>تولید شیشه</td>\n      <td>لغو پذیرش شده</td>\n      <td>Abgineh</td>\n      <td>IRO7ABGP0006</td>\n      <td>ABGP</td>\n      <td>ABGP1</td>\n      <td>IRO7ABGP0001</td>\n      <td>54</td>\n      <td>5410</td>\n      <td>7</td>\n    </tr>\n    <tr>\n      <th>غیوان</th>\n      <td>کیوان</td>\n      <td>پایه قرمز</td>\n      <td>بازار پایه قرمز فرابورس</td>\n      <td>محصولات غذایی و آشامیدنی به جز قند و شکر</td>\n      <td>تولید نان و محصولات وابسته</td>\n      <td>لغو پذیرش شده/عدم اظهارنظر</td>\n      <td>Keivan</td>\n      <td>IRO7KIVP0008</td>\n      <td>KIVP</td>\n      <td>KIVP1</td>\n      <td>IRO7KIVP0001</td>\n      <td>42</td>\n      <td>4241</td>\n      <td>7</td>\n    </tr>\n    <tr>\n      <th>فالوم</th>\n      <td>آلومتک</td>\n      <td>پایه زرد</td>\n      <td>بازار پایه زرد فرابورس</td>\n      <td>فلزات اساسی</td>\n      <td>تولید فلزات گرانبهای غیرآهن</td>\n      <td>لغو پذیرش شده</td>\n      <td>Alumtek</td>\n      <td>IRO7ALTP0009</td>\n      <td>ALTP</td>\n      <td>ALTP1</td>\n      <td>IRO7ALTP0001</td>\n      <td>27</td>\n      <td>2720</td>\n      <td>7</td>\n    </tr>\n    <tr>\n      <th>سباقر</th>\n      <td>سیمان باقران</td>\n      <td>پایه زرد</td>\n      <td>بازار پایه زرد فرابورس</td>\n      <td>سیمان، آهک و گچ</td>\n      <td>تولید سیمان، آهک و گچ</td>\n      <td>قانون احکام دائمی برنامه های توسعه کشور</td>\n      <td>Bagheran Cement</td>\n      <td>IRO7CBBP0009</td>\n      <td>CBBP</td>\n      <td>CBBP1</td>\n      <td>IRO7CBBP0001</td>\n      <td>53</td>\n      <td>5394</td>\n      <td>7</td>\n    </tr>\n    <tr>\n      <th>دتهران</th>\n      <td>داروسازی  تهران  دارو</td>\n      <td>پایه نارنجی</td>\n      <td>بازار پایه نارنجی فرابورس</td>\n      <td>مواد و محصولات دارویی</td>\n      <td>تولید داروهای شیمیایی و گیاهی</td>\n      <td>لغو پذیرش شده</td>\n      <td>Tehran Darou</td>\n      <td>IRO7THDP0002</td>\n      <td>THDP</td>\n      <td>THDP1</td>\n      <td>IRO7THDP0001</td>\n      <td>43</td>\n      <td>4323</td>\n      <td>7</td>\n    </tr>\n  </tbody>\n</table>\n<p>720 rows × 14 columns</p>\n</div>"
     },
     "execution_count": 19,
     "metadata": {},
     "output_type": "execute_result"
    }
   ],
   "source": [
    "tse_symbols"
   ],
   "metadata": {
    "collapsed": false,
    "pycharm": {
     "name": "#%%\n"
    }
   }
  },
  {
   "cell_type": "code",
   "execution_count": 20,
   "outputs": [
    {
     "data": {
      "text/plain": "       Name       Market            Name(EN)\n0      آباد         بورس           Abadgaran\n1     آبادا         بورس           Abadan PG\n2        آپ         بورس  Asan Pardakht Pers\n3      آسیا         بورس           Asia Bime\n4      اپال         بورس      Opal Kani Pars\n..      ...          ...                 ...\n715   کابگن    پایه قرمز             Abgineh\n716   غیوان    پایه قرمز              Keivan\n717   فالوم     پایه زرد             Alumtek\n718   سباقر     پایه زرد     Bagheran Cement\n719  دتهران  پایه نارنجی        Tehran Darou\n\n[720 rows x 3 columns]",
      "text/html": "<div>\n<style scoped>\n    .dataframe tbody tr th:only-of-type {\n        vertical-align: middle;\n    }\n\n    .dataframe tbody tr th {\n        vertical-align: top;\n    }\n\n    .dataframe thead th {\n        text-align: right;\n    }\n</style>\n<table border=\"1\" class=\"dataframe\">\n  <thead>\n    <tr style=\"text-align: right;\">\n      <th></th>\n      <th>Name</th>\n      <th>Market</th>\n      <th>Name(EN)</th>\n    </tr>\n  </thead>\n  <tbody>\n    <tr>\n      <th>0</th>\n      <td>آباد</td>\n      <td>بورس</td>\n      <td>Abadgaran</td>\n    </tr>\n    <tr>\n      <th>1</th>\n      <td>آبادا</td>\n      <td>بورس</td>\n      <td>Abadan PG</td>\n    </tr>\n    <tr>\n      <th>2</th>\n      <td>آپ</td>\n      <td>بورس</td>\n      <td>Asan Pardakht Pers</td>\n    </tr>\n    <tr>\n      <th>3</th>\n      <td>آسیا</td>\n      <td>بورس</td>\n      <td>Asia Bime</td>\n    </tr>\n    <tr>\n      <th>4</th>\n      <td>اپال</td>\n      <td>بورس</td>\n      <td>Opal Kani Pars</td>\n    </tr>\n    <tr>\n      <th>...</th>\n      <td>...</td>\n      <td>...</td>\n      <td>...</td>\n    </tr>\n    <tr>\n      <th>715</th>\n      <td>کابگن</td>\n      <td>پایه قرمز</td>\n      <td>Abgineh</td>\n    </tr>\n    <tr>\n      <th>716</th>\n      <td>غیوان</td>\n      <td>پایه قرمز</td>\n      <td>Keivan</td>\n    </tr>\n    <tr>\n      <th>717</th>\n      <td>فالوم</td>\n      <td>پایه زرد</td>\n      <td>Alumtek</td>\n    </tr>\n    <tr>\n      <th>718</th>\n      <td>سباقر</td>\n      <td>پایه زرد</td>\n      <td>Bagheran Cement</td>\n    </tr>\n    <tr>\n      <th>719</th>\n      <td>دتهران</td>\n      <td>پایه نارنجی</td>\n      <td>Tehran Darou</td>\n    </tr>\n  </tbody>\n</table>\n<p>720 rows × 3 columns</p>\n</div>"
     },
     "execution_count": 20,
     "metadata": {},
     "output_type": "execute_result"
    }
   ],
   "source": [
    "tse_symbols.Name = tse_symbols.index\n",
    "tse_symbols.drop(\n",
    "    ['Panel', 'Sector', \"Sub-Sector\", 'Comment', 'Company Code(12)', 'Ticker(4)', 'Ticker(5)', 'Ticker(12)',\n",
    "     'Sector Code', 'Sub-Sector Code', 'Panel Code'], axis=1, inplace=True)\n",
    "tse_symbols.reset_index(inplace=True)\n",
    "tse_symbols.drop('Ticker', axis=1, inplace=True)\n",
    "#tse_symbols.to_csv('F:\\\\my project\\\\dataset\\\\tse\\\\symbols.csv')\n",
    "tse_symbols"
   ],
   "metadata": {
    "collapsed": false,
    "pycharm": {
     "name": "#%%\n"
    }
   }
  },
  {
   "cell_type": "code",
   "execution_count": 21,
   "outputs": [
    {
     "data": {
      "text/plain": "             Market            Name(EN)\nName                                   \nآباد           بورس           Abadgaran\nآبادا          بورس           Abadan PG\nآپ             بورس  Asan Pardakht Pers\nآسیا           بورس           Asia Bime\nاپال           بورس      Opal Kani Pars\n...             ...                 ...\nکابگن     پایه قرمز             Abgineh\nغیوان     پایه قرمز              Keivan\nفالوم      پایه زرد             Alumtek\nسباقر      پایه زرد     Bagheran Cement\nدتهران  پایه نارنجی        Tehran Darou\n\n[720 rows x 2 columns]",
      "text/html": "<div>\n<style scoped>\n    .dataframe tbody tr th:only-of-type {\n        vertical-align: middle;\n    }\n\n    .dataframe tbody tr th {\n        vertical-align: top;\n    }\n\n    .dataframe thead th {\n        text-align: right;\n    }\n</style>\n<table border=\"1\" class=\"dataframe\">\n  <thead>\n    <tr style=\"text-align: right;\">\n      <th></th>\n      <th>Market</th>\n      <th>Name(EN)</th>\n    </tr>\n    <tr>\n      <th>Name</th>\n      <th></th>\n      <th></th>\n    </tr>\n  </thead>\n  <tbody>\n    <tr>\n      <th>آباد</th>\n      <td>بورس</td>\n      <td>Abadgaran</td>\n    </tr>\n    <tr>\n      <th>آبادا</th>\n      <td>بورس</td>\n      <td>Abadan PG</td>\n    </tr>\n    <tr>\n      <th>آپ</th>\n      <td>بورس</td>\n      <td>Asan Pardakht Pers</td>\n    </tr>\n    <tr>\n      <th>آسیا</th>\n      <td>بورس</td>\n      <td>Asia Bime</td>\n    </tr>\n    <tr>\n      <th>اپال</th>\n      <td>بورس</td>\n      <td>Opal Kani Pars</td>\n    </tr>\n    <tr>\n      <th>...</th>\n      <td>...</td>\n      <td>...</td>\n    </tr>\n    <tr>\n      <th>کابگن</th>\n      <td>پایه قرمز</td>\n      <td>Abgineh</td>\n    </tr>\n    <tr>\n      <th>غیوان</th>\n      <td>پایه قرمز</td>\n      <td>Keivan</td>\n    </tr>\n    <tr>\n      <th>فالوم</th>\n      <td>پایه زرد</td>\n      <td>Alumtek</td>\n    </tr>\n    <tr>\n      <th>سباقر</th>\n      <td>پایه زرد</td>\n      <td>Bagheran Cement</td>\n    </tr>\n    <tr>\n      <th>دتهران</th>\n      <td>پایه نارنجی</td>\n      <td>Tehran Darou</td>\n    </tr>\n  </tbody>\n</table>\n<p>720 rows × 2 columns</p>\n</div>"
     },
     "execution_count": 21,
     "metadata": {},
     "output_type": "execute_result"
    }
   ],
   "source": [
    "tse_symbols.index = tse_symbols.Name\n",
    "tse_symbols.drop('Name', axis=1, inplace=True)\n",
    "tse_symbols"
   ],
   "metadata": {
    "collapsed": false,
    "pycharm": {
     "name": "#%%\n"
    }
   }
  },
  {
   "cell_type": "code",
   "execution_count": 34,
   "outputs": [],
   "source": [
    "path1 = input('Enter your path for save files like as C:\\\\Users\\\\ADMIN\\\\Desktop\\\\dir :')"
   ],
   "metadata": {
    "collapsed": false,
    "pycharm": {
     "name": "#%%\n"
    }
   }
  },
  {
   "cell_type": "code",
   "execution_count": 35,
   "outputs": [],
   "source": [
    "tse_symbols.to_csv(path1 + '\\\\symbols.csv')"
   ],
   "metadata": {
    "collapsed": false,
    "pycharm": {
     "name": "#%%\n"
    }
   }
  },
  {
   "cell_type": "code",
   "execution_count": 64,
   "outputs": [],
   "source": [
    "def export_data_by_name(name: str):\n",
    "    file_name = tse_symbols['Name(EN)'][name].replace('*', '').replace(' ', '_')\n",
    "    file_name += '.prn'\n",
    "    exp_f = open(path1 + '\\\\' + file_name, 'a')\n",
    "    exp_f.write('<DTYYYYMMDD>,<OPEN>,<HIGH>,<LOW>,<CLOSE>,<VOL>')\n",
    "    exp_f.write('\\n')\n",
    "    exp_df = tse.Get_Price_History(name, ignore_date=True, double_date=True)\n",
    "    for i in exp_df.index:\n",
    "        str_lne = str(exp_df.Date[i])[:10].replace('-',\n",
    "                                                   '') + f',{exp_df.Open[i]},{exp_df.High[i]},{exp_df.Low[i]},{exp_df.Close[i]},{exp_df.Volume[i]}'\n",
    "        exp_f.write(str_lne)\n",
    "        exp_f.write('\\n')\n",
    "    exp_f.close()"
   ],
   "metadata": {
    "collapsed": false,
    "pycharm": {
     "name": "#%%\n"
    }
   }
  },
  {
   "cell_type": "code",
   "execution_count": 66,
   "outputs": [],
   "source": [
    "method1 = int(input('if you have a list of symbols enter 1 else enter 0 :'))\n",
    "while True:\n",
    "    if method1 == 0 or method1 == 1:\n",
    "        break\n",
    "    method1 = int(input('if you have a list of symbols enter 1 else enter 0 :'))"
   ],
   "metadata": {
    "collapsed": false,
    "pycharm": {
     "name": "#%%\n"
    }
   }
  },
  {
   "cell_type": "code",
   "execution_count": 68,
   "outputs": [],
   "source": [
    "if method1 == 1:\n",
    "    inp1 = input('Enter your symbols with sapace,like as AAPL TSLA AMZN :')\n",
    "    list_symbol1 = inp1.split()\n",
    "    for nme in list_symbol1:\n",
    "        if nme in tse_symbols.index:\n",
    "            export_data_by_name(nme)\n",
    "elif method1 == 0:\n",
    "    bourse = bool(int(input('for get bourse enter 1 otherwise 0 :')))\n",
    "    farabourse = bool(int(input('for get farabourse enter 1 otherwise 0 :')))\n",
    "    payeh = bool(int(input('for get payeh enter 1 otherwise 0 :')))\n",
    "    dic = {'بورس': bourse, 'فرابورس': farabourse, 'پایه زرد': payeh, 'پایه نارنجی': payeh, 'پایه قرمز': payeh}\n",
    "    for nme in tse_symbols.index:\n",
    "        if dic[tse_symbols['Market'][nme]]:\n",
    "            export_data_by_name(nme)\n",
    "else:\n",
    "    print(\"Error\")"
   ],
   "metadata": {
    "collapsed": false,
    "pycharm": {
     "name": "#%%\n"
    }
   }
  },
  {
   "cell_type": "code",
   "execution_count": 46,
   "outputs": [],
   "source": [
    "a = 2\n",
    "while True:\n",
    "    a = int(input('Enter a number 0 or 1 :'))\n",
    "    if a == 0 or a == 1:\n",
    "        break"
   ],
   "metadata": {
    "collapsed": false,
    "pycharm": {
     "name": "#%%\n"
    }
   }
  },
  {
   "cell_type": "code",
   "execution_count": 47,
   "outputs": [
    {
     "data": {
      "text/plain": "0"
     },
     "execution_count": 47,
     "metadata": {},
     "output_type": "execute_result"
    }
   ],
   "source": [
    "a"
   ],
   "metadata": {
    "collapsed": false,
    "pycharm": {
     "name": "#%%\n"
    }
   }
  },
  {
   "cell_type": "code",
   "execution_count": 62,
   "outputs": [
    {
     "data": {
      "text/plain": "Index(['آباد', 'آبادا', 'آپ', 'آسیا', 'اپال', 'اتکام', 'اخابر', 'اسیاتک',\n       'افق', 'البرز',\n       ...\n       'ثجوان', 'کصدف', 'کباده', 'خکرمان', 'بهیر', 'کابگن', 'غیوان', 'فالوم',\n       'سباقر', 'دتهران'],\n      dtype='object', name='Name', length=720)"
     },
     "execution_count": 62,
     "metadata": {},
     "output_type": "execute_result"
    }
   ],
   "source": [
    "tse_symbols.index"
   ],
   "metadata": {
    "collapsed": false,
    "pycharm": {
     "name": "#%%\n"
    }
   }
  },
  {
   "cell_type": "code",
   "execution_count": null,
   "outputs": [],
   "source": [],
   "metadata": {
    "collapsed": false,
    "pycharm": {
     "name": "#%%\n"
    }
   }
  }
 ],
 "metadata": {
  "kernelspec": {
   "display_name": "Python 3",
   "language": "python",
   "name": "python3"
  },
  "language_info": {
   "codemirror_mode": {
    "name": "ipython",
    "version": 2
   },
   "file_extension": ".py",
   "mimetype": "text/x-python",
   "name": "python",
   "nbconvert_exporter": "python",
   "pygments_lexer": "ipython2",
   "version": "2.7.6"
  }
 },
 "nbformat": 4,
 "nbformat_minor": 0
}