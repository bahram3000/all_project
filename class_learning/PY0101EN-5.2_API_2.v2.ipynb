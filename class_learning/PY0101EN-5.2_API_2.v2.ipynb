{
 "cells": [
  {
   "cell_type": "markdown",
   "metadata": {
    "pycharm": {
     "name": "#%% md\n"
    }
   },
   "source": [
    "<center>\n",
    "    <img src=\"https://cf-courses-data.s3.us.cloud-object-storage.appdomain.cloud/assets/logos/SN_web_lightmode.png\" width=\"300\" alt=\"cognitiveclass.ai logo\">\n",
    "</center>\n",
    "\n",
    "# Hands-on Lab: API Examples\n",
    "## Random User and Fruityvice API Examples\n",
    "\n",
    "\n",
    "Estimated time needed: **30** minutes\n",
    "\n",
    "## Objectives\n",
    "\n",
    "After completing this lab you will be able to:\n",
    "\n",
    "*   Load and use RandomUser API, using `RandomUser()` Python library\n",
    "*   Load and use Fruityvice API, using `requests` Python library\n",
    "*   Load and use Open-Joke-API, using `requests` Python library\n",
    "\n"
   ]
  },
  {
   "cell_type": "markdown",
   "metadata": {
    "pycharm": {
     "name": "#%% md\n"
    }
   },
   "source": [
    "The purpose of this notebook is to provide more examples on how to use simple APIs. As you have already learned from previous videos and notebooks, API stands for Application Programming Interface and is a software intermediary that allows two applications to talk to each other. \n",
    "\n",
    "The advantages of using APIs:\n",
    " *   **Automation**. Less human effort is required and workflows can be easily updated to become faster and more      \n",
    "     productive.\n",
    " *   **Efficiency**. It allows to use the capabilities of one of the already developed APIs than to try to \n",
    "     independently implement some functionality from scratch.\n",
    " \n",
    "The disadvantage of using APIs:\n",
    " *   **Security**. If the API is poorly integrated, it means it will be vulnerable to attacks, resulting in data breeches or losses having financial or reputation implications.\n",
    "\n",
    "One of the applications we will use in this notebook is Random User Generator. RandomUser is an open-source, free API providing developers with randomly generated users to be used as placeholders for testing purposes. This makes the tool similar to Lorem Ipsum, but is a placeholder for people instead of text. The API can return multiple results, as well as specify generated user details such as gender, email, image, username, address, title, first and last name, and more. More information on [RandomUser](https://randomuser.me/documentation#intro) can be found here.\n",
    "\n",
    "Another example of simple API we will use in this notebook is Fruityvice application. The Fruityvice API web service which provides data for all kinds of fruit! You can use Fruityvice to find out interesting information about fruit and educate yourself. The web service is completely free to use and contribute to.\n"
   ]
  },
  {
   "cell_type": "markdown",
   "metadata": {
    "pycharm": {
     "name": "#%% md\n"
    }
   },
   "source": [
    "## Example 1: RandomUser API\n",
    "Bellow are Get Methods parameters that we can generate. For more information on the parameters, please visit this [documentation](https://randomuser.me/documentation) page.\n"
   ]
  },
  {
   "cell_type": "markdown",
   "metadata": {
    "pycharm": {
     "name": "#%% md\n"
    }
   },
   "source": [
    "## **Get Methods**\n",
    "\n",
    "- get_cell()\n",
    "- get_city()\n",
    "- get_dob()\n",
    "- get_email()\n",
    "- get_first_name()\n",
    "- get_full_name()\n",
    "- get_gender()\n",
    "- get_id()\n",
    "- get_id_number()\n",
    "- get_id_type()\n",
    "- get_info()\n",
    "- get_last_name()\n",
    "- get_login_md5()\n",
    "- get_login_salt()\n",
    "- get_login_sha1()\n",
    "- get_login_sha256()\n",
    "- get_nat()\n",
    "- get_password()\n",
    "- get_phone()\n",
    "- get_picture()\n",
    "- get_postcode()\n",
    "- get_registered()\n",
    "- get_state()\n",
    "- get_street()\n",
    "- get_username()\n",
    "- get_zipcode()\n"
   ]
  },
  {
   "cell_type": "markdown",
   "metadata": {
    "pycharm": {
     "name": "#%% md\n"
    }
   },
   "source": [
    "To start using the API you can install the `randomuser` library running the `pip install` command.\n"
   ]
  },
  {
   "cell_type": "code",
   "execution_count": null,
   "metadata": {
    "tags": [],
    "pycharm": {
     "name": "#%%\n",
     "is_executing": true
    }
   },
   "outputs": [],
   "source": [
    "#!pip install randomuser"
   ]
  },
  {
   "cell_type": "markdown",
   "metadata": {
    "pycharm": {
     "name": "#%% md\n"
    }
   },
   "source": [
    "Then, we will load the necessary libraries.\n"
   ]
  },
  {
   "cell_type": "code",
   "execution_count": 1,
   "metadata": {
    "tags": [],
    "pycharm": {
     "name": "#%%\n"
    }
   },
   "outputs": [],
   "source": [
    "from randomuser import RandomUser\n",
    "import pandas as pd"
   ]
  },
  {
   "cell_type": "markdown",
   "metadata": {
    "pycharm": {
     "name": "#%% md\n"
    }
   },
   "source": [
    "First, we will create a random user object, r.\n"
   ]
  },
  {
   "cell_type": "code",
   "execution_count": 2,
   "metadata": {
    "tags": [],
    "pycharm": {
     "name": "#%%\n"
    }
   },
   "outputs": [],
   "source": [
    "r = RandomUser()"
   ]
  },
  {
   "cell_type": "markdown",
   "metadata": {
    "pycharm": {
     "name": "#%% md\n"
    }
   },
   "source": [
    "Then, using `generate_users()` function, we get a list of random 10 users.\n"
   ]
  },
  {
   "cell_type": "code",
   "execution_count": 3,
   "metadata": {
    "tags": [],
    "pycharm": {
     "name": "#%%\n"
    }
   },
   "outputs": [],
   "source": [
    "some_list = r.generate_users(10)"
   ]
  },
  {
   "cell_type": "code",
   "execution_count": 4,
   "metadata": {
    "tags": [],
    "pycharm": {
     "name": "#%%\n"
    }
   },
   "outputs": [
    {
     "data": {
      "text/plain": "[<randomuser.RandomUser at 0x24587c899c0>,\n <randomuser.RandomUser at 0x24587c88fd0>,\n <randomuser.RandomUser at 0x24587c88f70>,\n <randomuser.RandomUser at 0x24587833010>,\n <randomuser.RandomUser at 0x24587832c50>,\n <randomuser.RandomUser at 0x24587830a30>,\n <randomuser.RandomUser at 0x2458ff73f10>,\n <randomuser.RandomUser at 0x2458ff73940>,\n <randomuser.RandomUser at 0x2458ff73f40>,\n <randomuser.RandomUser at 0x24587885060>]"
     },
     "execution_count": 4,
     "metadata": {},
     "output_type": "execute_result"
    }
   ],
   "source": [
    "some_list"
   ]
  },
  {
   "cell_type": "markdown",
   "metadata": {
    "pycharm": {
     "name": "#%% md\n"
    }
   },
   "source": [
    "The **\"Get Methods\"** functions mentioned at the beginning of this notebook, can generate the required parameters to construct a dataset. For example, to get full name, we call `get_full_name()` function.\n"
   ]
  },
  {
   "cell_type": "code",
   "execution_count": 5,
   "metadata": {
    "tags": [],
    "pycharm": {
     "name": "#%%\n"
    }
   },
   "outputs": [],
   "source": [
    "name = r.get_full_name()"
   ]
  },
  {
   "cell_type": "markdown",
   "metadata": {
    "pycharm": {
     "name": "#%% md\n"
    }
   },
   "source": [
    "Let's say we only need 10 users with full names and their email addresses. We can write a \"for-loop\" to print these 10 users.\n"
   ]
  },
  {
   "cell_type": "code",
   "execution_count": 6,
   "metadata": {
    "tags": [],
    "pycharm": {
     "name": "#%%\n"
    }
   },
   "outputs": [
    {
     "name": "stdout",
     "output_type": "stream",
     "text": [
      "بیتا یاسمی   byt.ysmy@example.com\n",
      "Morris Garcia   morris.garcia@example.com\n",
      "Oliver Utvik   oliver.utvik@example.com\n",
      "Thea Petersen   thea.petersen@example.com\n",
      "Aaron Myers   aaron.myers@example.com\n",
      "Christian Delgado   christian.delgado@example.com\n",
      "Monica Moreno   monica.moreno@example.com\n",
      "Zachary Claire   zachary.claire@example.com\n",
      "Charlie Harcourt   charlie.harcourt@example.com\n",
      "Roselyn The   roselyn.the@example.com\n"
     ]
    }
   ],
   "source": [
    "for user in some_list:\n",
    "    print (user.get_full_name(),\" \",user.get_email())"
   ]
  },
  {
   "cell_type": "markdown",
   "metadata": {
    "pycharm": {
     "name": "#%% md\n"
    }
   },
   "source": [
    "## Exercise 1\n",
    "In this Exercise, generate photos of the random 10 users.\n"
   ]
  },
  {
   "cell_type": "code",
   "execution_count": 7,
   "metadata": {
    "tags": [],
    "pycharm": {
     "name": "#%%\n"
    }
   },
   "outputs": [
    {
     "name": "stdout",
     "output_type": "stream",
     "text": [
      "https://randomuser.me/api/portraits/women/41.jpg\n",
      "https://randomuser.me/api/portraits/men/79.jpg\n",
      "https://randomuser.me/api/portraits/men/83.jpg\n",
      "https://randomuser.me/api/portraits/women/23.jpg\n",
      "https://randomuser.me/api/portraits/men/67.jpg\n",
      "https://randomuser.me/api/portraits/men/24.jpg\n",
      "https://randomuser.me/api/portraits/women/80.jpg\n",
      "https://randomuser.me/api/portraits/men/78.jpg\n",
      "https://randomuser.me/api/portraits/women/76.jpg\n",
      "https://randomuser.me/api/portraits/women/20.jpg\n"
     ]
    }
   ],
   "source": [
    "## Write your code here\n",
    "for user in some_list:\n",
    "    print (user.get_picture())"
   ]
  },
  {
   "cell_type": "markdown",
   "metadata": {
    "pycharm": {
     "name": "#%% md\n"
    }
   },
   "source": [
    "<details><summary>Click here for the solution</summary>\n",
    "\n",
    "```python\n",
    "for user in some_list:\n",
    "    print (user.get_picture())\n",
    "```\n",
    "\n",
    "</details>\n"
   ]
  },
  {
   "cell_type": "markdown",
   "metadata": {
    "pycharm": {
     "name": "#%% md\n"
    }
   },
   "source": [
    "To generate a table with information about the users, we can write a function containing all desirable parameters. For example, name, gender, city, etc. The parameters will depend on the requirements of the test to be performed. We call the Get Methods, listed at the beginning of this notebook. Then, we return pandas dataframe with the users.\n"
   ]
  },
  {
   "cell_type": "code",
   "execution_count": 8,
   "metadata": {
    "tags": [],
    "pycharm": {
     "name": "#%%\n"
    }
   },
   "outputs": [],
   "source": [
    "def get_users():\n",
    "    users =[]\n",
    "     \n",
    "    for user in RandomUser.generate_users(10):\n",
    "        users.append({\"Name\":user.get_full_name(),\"Gender\":user.get_gender(),\"City\":user.get_city(),\"State\":user.get_state(),\"Email\":user.get_email(), \"DOB\":user.get_dob(),\"Picture\":user.get_picture()})\n",
    "      \n",
    "    return pd.DataFrame(users)     "
   ]
  },
  {
   "cell_type": "code",
   "execution_count": 9,
   "metadata": {
    "tags": [],
    "pycharm": {
     "name": "#%%\n"
    }
   },
   "outputs": [
    {
     "data": {
      "text/plain": "               Name  Gender          City                State  \\\n0  Gonzalo Castillo    male         Gijón            Andalucía   \n1       Folker Neff    male     Remscheid   Schleswig-Holstein   \n2    Andrea Morales  female   Fuenlabrada  Comunidad de Madrid   \n3       عسل علیزاده  female          مشهد       آذربایجان غربی   \n4         Owen Reid    male       Boulder                 Utah   \n5   Eleanor Jimenez  female        Dundee   County Londonderry   \n6  Ellen Cunningham  female    Nottingham        Herefordshire   \n7      Rosa Herrera  female      Valencia             Canarias   \n8    Mio Kverneland    male   Fotlandsvåg           Vest-Agder   \n9         Phil Reid    male  Peterborough        County Tyrone   \n\n                          Email                       DOB  \\\n0  gonzalo.castillo@example.com  1978-11-02T13:50:22.757Z   \n1       folker.neff@example.com  1989-06-12T22:11:03.249Z   \n2    andrea.morales@example.com  1996-10-02T00:46:20.195Z   \n3      aasl.aalyzdh@example.com  1992-07-29T07:19:20.924Z   \n4         owen.reid@example.com  1992-10-26T10:21:07.256Z   \n5   eleanor.jimenez@example.com  1994-12-21T19:19:18.028Z   \n6  ellen.cunningham@example.com  1945-11-25T21:00:50.159Z   \n7      rosa.herrera@example.com  1992-03-02T11:52:37.816Z   \n8    mio.kverneland@example.com  1955-06-01T14:28:50.767Z   \n9         phil.reid@example.com  1993-05-01T21:23:13.605Z   \n\n                                            Picture  \n0     https://randomuser.me/api/portraits/men/4.jpg  \n1    https://randomuser.me/api/portraits/men/72.jpg  \n2  https://randomuser.me/api/portraits/women/80.jpg  \n3   https://randomuser.me/api/portraits/women/3.jpg  \n4    https://randomuser.me/api/portraits/men/28.jpg  \n5  https://randomuser.me/api/portraits/women/87.jpg  \n6  https://randomuser.me/api/portraits/women/79.jpg  \n7  https://randomuser.me/api/portraits/women/44.jpg  \n8    https://randomuser.me/api/portraits/men/22.jpg  \n9    https://randomuser.me/api/portraits/men/76.jpg  ",
      "text/html": "<div>\n<style scoped>\n    .dataframe tbody tr th:only-of-type {\n        vertical-align: middle;\n    }\n\n    .dataframe tbody tr th {\n        vertical-align: top;\n    }\n\n    .dataframe thead th {\n        text-align: right;\n    }\n</style>\n<table border=\"1\" class=\"dataframe\">\n  <thead>\n    <tr style=\"text-align: right;\">\n      <th></th>\n      <th>Name</th>\n      <th>Gender</th>\n      <th>City</th>\n      <th>State</th>\n      <th>Email</th>\n      <th>DOB</th>\n      <th>Picture</th>\n    </tr>\n  </thead>\n  <tbody>\n    <tr>\n      <th>0</th>\n      <td>Gonzalo Castillo</td>\n      <td>male</td>\n      <td>Gijón</td>\n      <td>Andalucía</td>\n      <td>gonzalo.castillo@example.com</td>\n      <td>1978-11-02T13:50:22.757Z</td>\n      <td>https://randomuser.me/api/portraits/men/4.jpg</td>\n    </tr>\n    <tr>\n      <th>1</th>\n      <td>Folker Neff</td>\n      <td>male</td>\n      <td>Remscheid</td>\n      <td>Schleswig-Holstein</td>\n      <td>folker.neff@example.com</td>\n      <td>1989-06-12T22:11:03.249Z</td>\n      <td>https://randomuser.me/api/portraits/men/72.jpg</td>\n    </tr>\n    <tr>\n      <th>2</th>\n      <td>Andrea Morales</td>\n      <td>female</td>\n      <td>Fuenlabrada</td>\n      <td>Comunidad de Madrid</td>\n      <td>andrea.morales@example.com</td>\n      <td>1996-10-02T00:46:20.195Z</td>\n      <td>https://randomuser.me/api/portraits/women/80.jpg</td>\n    </tr>\n    <tr>\n      <th>3</th>\n      <td>عسل علیزاده</td>\n      <td>female</td>\n      <td>مشهد</td>\n      <td>آذربایجان غربی</td>\n      <td>aasl.aalyzdh@example.com</td>\n      <td>1992-07-29T07:19:20.924Z</td>\n      <td>https://randomuser.me/api/portraits/women/3.jpg</td>\n    </tr>\n    <tr>\n      <th>4</th>\n      <td>Owen Reid</td>\n      <td>male</td>\n      <td>Boulder</td>\n      <td>Utah</td>\n      <td>owen.reid@example.com</td>\n      <td>1992-10-26T10:21:07.256Z</td>\n      <td>https://randomuser.me/api/portraits/men/28.jpg</td>\n    </tr>\n    <tr>\n      <th>5</th>\n      <td>Eleanor Jimenez</td>\n      <td>female</td>\n      <td>Dundee</td>\n      <td>County Londonderry</td>\n      <td>eleanor.jimenez@example.com</td>\n      <td>1994-12-21T19:19:18.028Z</td>\n      <td>https://randomuser.me/api/portraits/women/87.jpg</td>\n    </tr>\n    <tr>\n      <th>6</th>\n      <td>Ellen Cunningham</td>\n      <td>female</td>\n      <td>Nottingham</td>\n      <td>Herefordshire</td>\n      <td>ellen.cunningham@example.com</td>\n      <td>1945-11-25T21:00:50.159Z</td>\n      <td>https://randomuser.me/api/portraits/women/79.jpg</td>\n    </tr>\n    <tr>\n      <th>7</th>\n      <td>Rosa Herrera</td>\n      <td>female</td>\n      <td>Valencia</td>\n      <td>Canarias</td>\n      <td>rosa.herrera@example.com</td>\n      <td>1992-03-02T11:52:37.816Z</td>\n      <td>https://randomuser.me/api/portraits/women/44.jpg</td>\n    </tr>\n    <tr>\n      <th>8</th>\n      <td>Mio Kverneland</td>\n      <td>male</td>\n      <td>Fotlandsvåg</td>\n      <td>Vest-Agder</td>\n      <td>mio.kverneland@example.com</td>\n      <td>1955-06-01T14:28:50.767Z</td>\n      <td>https://randomuser.me/api/portraits/men/22.jpg</td>\n    </tr>\n    <tr>\n      <th>9</th>\n      <td>Phil Reid</td>\n      <td>male</td>\n      <td>Peterborough</td>\n      <td>County Tyrone</td>\n      <td>phil.reid@example.com</td>\n      <td>1993-05-01T21:23:13.605Z</td>\n      <td>https://randomuser.me/api/portraits/men/76.jpg</td>\n    </tr>\n  </tbody>\n</table>\n</div>"
     },
     "execution_count": 9,
     "metadata": {},
     "output_type": "execute_result"
    }
   ],
   "source": [
    "get_users()"
   ]
  },
  {
   "cell_type": "code",
   "execution_count": 10,
   "metadata": {
    "tags": [],
    "pycharm": {
     "name": "#%%\n"
    }
   },
   "outputs": [],
   "source": [
    "df1 = pd.DataFrame(get_users())  "
   ]
  },
  {
   "cell_type": "markdown",
   "metadata": {
    "pycharm": {
     "name": "#%% md\n"
    }
   },
   "source": [
    "Now we have a *pandas* dataframe that can be used for any testing purposes that the tester might have.\n"
   ]
  },
  {
   "cell_type": "markdown",
   "metadata": {
    "pycharm": {
     "name": "#%% md\n"
    }
   },
   "source": [
    "## Example 2: Fruityvice API\n",
    "\n",
    "Another, more common way to use APIs, is through `requests` library. The next lab, Requests and HTTP, will contain more information about requests.\n",
    "\n",
    "We will start by importing all required libraries.\n"
   ]
  },
  {
   "cell_type": "code",
   "execution_count": 11,
   "metadata": {
    "tags": [],
    "pycharm": {
     "name": "#%%\n"
    }
   },
   "outputs": [],
   "source": [
    "import requests\n",
    "import json"
   ]
  },
  {
   "cell_type": "markdown",
   "metadata": {
    "pycharm": {
     "name": "#%% md\n"
    }
   },
   "source": [
    "We will obtain the [fruityvice](https://www.fruityvice.com) API data using `requests.get(\"url\")` function. The data is in a json format.\n"
   ]
  },
  {
   "cell_type": "code",
   "execution_count": 17,
   "metadata": {
    "tags": [],
    "pycharm": {
     "name": "#%%\n"
    }
   },
   "outputs": [
    {
     "data": {
      "text/plain": "[{'name': 'Persimmon',\n  'id': 52,\n  'family': 'Ebenaceae',\n  'order': 'Rosales',\n  'genus': 'Diospyros',\n  'nutritions': {'calories': 81,\n   'fat': 0.0,\n   'sugar': 18.0,\n   'carbohydrates': 18.0,\n   'protein': 0.0}},\n {'name': 'Strawberry',\n  'id': 3,\n  'family': 'Rosaceae',\n  'order': 'Rosales',\n  'genus': 'Fragaria',\n  'nutritions': {'calories': 29,\n   'fat': 0.4,\n   'sugar': 5.4,\n   'carbohydrates': 5.5,\n   'protein': 0.8}},\n {'name': 'Banana',\n  'id': 1,\n  'family': 'Musaceae',\n  'order': 'Zingiberales',\n  'genus': 'Musa',\n  'nutritions': {'calories': 96,\n   'fat': 0.2,\n   'sugar': 17.2,\n   'carbohydrates': 22.0,\n   'protein': 1.0}},\n {'name': 'Tomato',\n  'id': 5,\n  'family': 'Solanaceae',\n  'order': 'Solanales',\n  'genus': 'Solanum',\n  'nutritions': {'calories': 74,\n   'fat': 0.2,\n   'sugar': 2.6,\n   'carbohydrates': 3.9,\n   'protein': 0.9}},\n {'name': 'Pear',\n  'id': 4,\n  'family': 'Rosaceae',\n  'order': 'Rosales',\n  'genus': 'Pyrus',\n  'nutritions': {'calories': 57,\n   'fat': 0.1,\n   'sugar': 10.0,\n   'carbohydrates': 15.0,\n   'protein': 0.4}},\n {'name': 'Durian',\n  'id': 60,\n  'family': 'Malvaceae',\n  'order': 'Malvales',\n  'genus': 'Durio',\n  'nutritions': {'calories': 147,\n   'fat': 5.3,\n   'sugar': 6.75,\n   'carbohydrates': 27.1,\n   'protein': 1.5}},\n {'name': 'Blackberry',\n  'id': 64,\n  'family': 'Rosaceae',\n  'order': 'Rosales',\n  'genus': 'Rubus',\n  'nutritions': {'calories': 40,\n   'fat': 0.4,\n   'sugar': 4.5,\n   'carbohydrates': 9.0,\n   'protein': 1.3}},\n {'name': 'Lingonberry',\n  'id': 65,\n  'family': 'Ericaceae',\n  'order': 'Ericales',\n  'genus': 'Vaccinium',\n  'nutritions': {'calories': 50,\n   'fat': 0.34,\n   'sugar': 5.74,\n   'carbohydrates': 11.3,\n   'protein': 0.75}},\n {'name': 'Kiwi',\n  'id': 66,\n  'family': 'Actinidiaceae',\n  'order': 'Struthioniformes',\n  'genus': 'Apteryx',\n  'nutritions': {'calories': 61,\n   'fat': 0.5,\n   'sugar': 9.0,\n   'carbohydrates': 15.0,\n   'protein': 1.1}},\n {'name': 'Lychee',\n  'id': 67,\n  'family': 'Sapindaceae',\n  'order': 'Sapindales',\n  'genus': 'Litchi',\n  'nutritions': {'calories': 66,\n   'fat': 0.44,\n   'sugar': 15.0,\n   'carbohydrates': 17.0,\n   'protein': 0.8}},\n {'name': 'Pineapple',\n  'id': 10,\n  'family': 'Bromeliaceae',\n  'order': 'Poales',\n  'genus': 'Ananas',\n  'nutritions': {'calories': 50,\n   'fat': 0.12,\n   'sugar': 9.85,\n   'carbohydrates': 13.12,\n   'protein': 0.54}},\n {'name': 'Fig',\n  'id': 68,\n  'family': 'Moraceae',\n  'order': 'Rosales',\n  'genus': 'Ficus',\n  'nutritions': {'calories': 74,\n   'fat': 0.3,\n   'sugar': 16.0,\n   'carbohydrates': 19.0,\n   'protein': 0.8}},\n {'name': 'Gooseberry',\n  'id': 69,\n  'family': 'Grossulariaceae',\n  'order': 'Saxifragales',\n  'genus': 'Ribes',\n  'nutritions': {'calories': 44,\n   'fat': 0.6,\n   'sugar': 0.0,\n   'carbohydrates': 10.0,\n   'protein': 0.9}},\n {'name': 'Passionfruit',\n  'id': 70,\n  'family': 'Passifloraceae',\n  'order': 'Malpighiales',\n  'genus': 'Passiflora',\n  'nutritions': {'calories': 97,\n   'fat': 0.7,\n   'sugar': 11.2,\n   'carbohydrates': 22.4,\n   'protein': 2.2}},\n {'name': 'Plum',\n  'id': 71,\n  'family': 'Rosaceae',\n  'order': 'Rosales',\n  'genus': 'Prunus',\n  'nutritions': {'calories': 46,\n   'fat': 0.28,\n   'sugar': 9.92,\n   'carbohydrates': 11.4,\n   'protein': 0.7}},\n {'name': 'Orange',\n  'id': 2,\n  'family': 'Rutaceae',\n  'order': 'Sapindales',\n  'genus': 'Citrus',\n  'nutritions': {'calories': 43,\n   'fat': 0.2,\n   'sugar': 8.2,\n   'carbohydrates': 8.3,\n   'protein': 1.0}},\n {'name': 'GreenApple',\n  'id': 72,\n  'family': 'Rosaceae',\n  'order': 'Rosales',\n  'genus': 'Malus',\n  'nutritions': {'calories': 21,\n   'fat': 0.1,\n   'sugar': 6.4,\n   'carbohydrates': 3.1,\n   'protein': 0.4}},\n {'name': 'Raspberry',\n  'id': 23,\n  'family': 'Rosaceae',\n  'order': 'Rosales',\n  'genus': 'Rubus',\n  'nutritions': {'calories': 53,\n   'fat': 0.7,\n   'sugar': 4.4,\n   'carbohydrates': 12.0,\n   'protein': 1.2}},\n {'name': 'Watermelon',\n  'id': 25,\n  'family': 'Cucurbitaceae',\n  'order': 'Cucurbitales',\n  'genus': 'Citrullus',\n  'nutritions': {'calories': 30,\n   'fat': 0.2,\n   'sugar': 6.0,\n   'carbohydrates': 8.0,\n   'protein': 0.6}},\n {'name': 'Lemon',\n  'id': 26,\n  'family': 'Rutaceae',\n  'order': 'Sapindales',\n  'genus': 'Citrus',\n  'nutritions': {'calories': 29,\n   'fat': 0.3,\n   'sugar': 2.5,\n   'carbohydrates': 9.0,\n   'protein': 1.1}},\n {'name': 'Mango',\n  'id': 27,\n  'family': 'Anacardiaceae',\n  'order': 'Sapindales',\n  'genus': 'Mangifera',\n  'nutritions': {'calories': 60,\n   'fat': 0.38,\n   'sugar': 13.7,\n   'carbohydrates': 15.0,\n   'protein': 0.82}},\n {'name': 'Blueberry',\n  'id': 33,\n  'family': 'Rosaceae',\n  'order': 'Rosales',\n  'genus': 'Fragaria',\n  'nutritions': {'calories': 29,\n   'fat': 0.4,\n   'sugar': 5.4,\n   'carbohydrates': 5.5,\n   'protein': 0.0}},\n {'name': 'Apple',\n  'id': 6,\n  'family': 'Rosaceae',\n  'order': 'Rosales',\n  'genus': 'Malus',\n  'nutritions': {'calories': 52,\n   'fat': 0.4,\n   'sugar': 10.3,\n   'carbohydrates': 11.4,\n   'protein': 0.3}},\n {'name': 'Guava',\n  'id': 37,\n  'family': 'Myrtaceae',\n  'order': 'Myrtales',\n  'genus': 'Psidium',\n  'nutritions': {'calories': 68,\n   'fat': 1.0,\n   'sugar': 9.0,\n   'carbohydrates': 14.0,\n   'protein': 2.6}},\n {'name': 'Apricot',\n  'id': 35,\n  'family': 'Rosaceae',\n  'order': 'Rosales',\n  'genus': 'Prunus',\n  'nutritions': {'calories': 15,\n   'fat': 0.1,\n   'sugar': 3.2,\n   'carbohydrates': 3.9,\n   'protein': 0.5}},\n {'name': 'Papaya',\n  'id': 42,\n  'family': 'Caricaceae',\n  'order': 'Caricacea',\n  'genus': 'Carica',\n  'nutritions': {'calories': 43,\n   'fat': 0.4,\n   'sugar': 1.0,\n   'carbohydrates': 11.0,\n   'protein': 0.0}},\n {'name': 'Melon',\n  'id': 41,\n  'family': 'Cucurbitaceae',\n  'order': 'Cucurbitaceae',\n  'genus': 'Cucumis',\n  'nutritions': {'calories': 34,\n   'fat': 0.0,\n   'sugar': 8.0,\n   'carbohydrates': 8.0,\n   'protein': 0.0}},\n {'name': 'Tangerine',\n  'id': 77,\n  'family': 'Rutaceae',\n  'order': 'Sapindales',\n  'genus': 'Citrus',\n  'nutritions': {'calories': 45,\n   'fat': 0.4,\n   'sugar': 9.1,\n   'carbohydrates': 8.3,\n   'protein': 0.0}},\n {'name': 'Pitahaya',\n  'id': 78,\n  'family': 'Cactaceae',\n  'order': 'Caryophyllales',\n  'genus': 'Cactaceae',\n  'nutritions': {'calories': 36,\n   'fat': 0.4,\n   'sugar': 3.0,\n   'carbohydrates': 7.0,\n   'protein': 1.0}},\n {'name': 'Lime',\n  'id': 44,\n  'family': 'Rutaceae',\n  'order': 'Sapindales',\n  'genus': 'Citrus',\n  'nutritions': {'calories': 25,\n   'fat': 0.1,\n   'sugar': 1.7,\n   'carbohydrates': 8.4,\n   'protein': 0.3}},\n {'name': 'Pomegranate',\n  'id': 79,\n  'family': 'Lythraceae',\n  'order': 'Myrtales',\n  'genus': 'Punica',\n  'nutritions': {'calories': 83,\n   'fat': 1.2,\n   'sugar': 13.7,\n   'carbohydrates': 18.7,\n   'protein': 1.7}},\n {'name': 'Dragonfruit',\n  'id': 80,\n  'family': 'Cactaceae',\n  'order': 'Caryophyllales',\n  'genus': 'Selenicereus',\n  'nutritions': {'calories': 60,\n   'fat': 1.5,\n   'sugar': 8.0,\n   'carbohydrates': 9.0,\n   'protein': 9.0}},\n {'name': 'Grape',\n  'id': 81,\n  'family': 'Vitaceae',\n  'order': 'Vitales',\n  'genus': 'Vitis',\n  'nutritions': {'calories': 69,\n   'fat': 0.16,\n   'sugar': 16.0,\n   'carbohydrates': 18.1,\n   'protein': 0.72}},\n {'name': 'Morus',\n  'id': 82,\n  'family': 'Moraceae',\n  'order': 'Rosales',\n  'genus': 'Morus',\n  'nutritions': {'calories': 43,\n   'fat': 0.39,\n   'sugar': 8.1,\n   'carbohydrates': 9.8,\n   'protein': 1.44}},\n {'name': 'Feijoa',\n  'id': 76,\n  'family': 'Myrtaceae',\n  'order': 'Myrtoideae',\n  'genus': 'Sellowiana',\n  'nutritions': {'calories': 44,\n   'fat': 0.4,\n   'sugar': 3.0,\n   'carbohydrates': 8.0,\n   'protein': 0.6}},\n {'name': 'Avocado',\n  'id': 84,\n  'family': 'Lauraceae',\n  'order': 'Laurales',\n  'genus': 'Persea',\n  'nutritions': {'calories': 160,\n   'fat': 14.66,\n   'sugar': 0.66,\n   'carbohydrates': 8.53,\n   'protein': 2.0}},\n {'name': 'Kiwifruit',\n  'id': 85,\n  'family': 'Actinidiaceae',\n  'order': 'Ericales',\n  'genus': 'Actinidia',\n  'nutritions': {'calories': 61,\n   'fat': 0.5,\n   'sugar': 8.9,\n   'carbohydrates': 14.6,\n   'protein': 1.14}},\n {'name': 'Cranberry',\n  'id': 87,\n  'family': 'Ericaceae',\n  'order': 'Ericales',\n  'genus': 'Vaccinium',\n  'nutritions': {'calories': 46,\n   'fat': 0.1,\n   'sugar': 4.0,\n   'carbohydrates': 12.2,\n   'protein': 0.4}},\n {'name': 'Cherry',\n  'id': 9,\n  'family': 'Rosaceae',\n  'order': 'Rosales',\n  'genus': 'Prunus',\n  'nutritions': {'calories': 50,\n   'fat': 0.3,\n   'sugar': 8.0,\n   'carbohydrates': 12.0,\n   'protein': 1.0}},\n {'name': 'Peach',\n  'id': 86,\n  'family': 'Rosaceae',\n  'order': 'Rosales',\n  'genus': 'Prunus',\n  'nutritions': {'calories': 39,\n   'fat': 0.25,\n   'sugar': 8.4,\n   'carbohydrates': 9.5,\n   'protein': 0.9}},\n {'name': 'Jackfruit',\n  'id': 94,\n  'family': 'Moraceae',\n  'order': 'Rosales',\n  'genus': 'Artocarpus',\n  'nutritions': {'calories': 95,\n   'fat': 0.0,\n   'sugar': 19.1,\n   'carbohydrates': 23.2,\n   'protein': 1.72}},\n {'name': 'Horned Melon',\n  'id': 95,\n  'family': 'Cucurbitaceae',\n  'order': 'Cucurbitales',\n  'genus': 'Cucumis',\n  'nutritions': {'calories': 44,\n   'fat': 1.26,\n   'sugar': 0.5,\n   'carbohydrates': 7.56,\n   'protein': 1.78}},\n {'name': 'Hazelnut',\n  'id': 96,\n  'family': 'Betulaceae',\n  'order': 'Fagales',\n  'genus': 'Corylus',\n  'nutritions': {'calories': 628,\n   'fat': 61.0,\n   'sugar': 4.3,\n   'carbohydrates': 17.0,\n   'protein': 15.0}},\n {'name': 'Pomelo',\n  'id': 98,\n  'family': 'Rutaceae',\n  'order': 'Sapindales',\n  'genus': 'Citrus',\n  'nutritions': {'calories': 37,\n   'fat': 0.0,\n   'sugar': 8.5,\n   'carbohydrates': 9.67,\n   'protein': 0.82}},\n {'name': 'Mangosteen',\n  'id': 99,\n  'family': 'Clusiaceae',\n  'order': 'Malpighiales',\n  'genus': 'Garcinia',\n  'nutritions': {'calories': 73,\n   'fat': 0.58,\n   'sugar': 16.11,\n   'carbohydrates': 17.91,\n   'protein': 0.41}}]"
     },
     "execution_count": 17,
     "metadata": {},
     "output_type": "execute_result"
    }
   ],
   "source": [
    "data = requests.get(\"https://fruityvice.com/api/fruit/all\")\n",
    "data.json()"
   ]
  },
  {
   "cell_type": "markdown",
   "metadata": {
    "pycharm": {
     "name": "#%% md\n"
    }
   },
   "source": [
    "We will retrieve results using `json.loads()` function.\n"
   ]
  },
  {
   "cell_type": "code",
   "execution_count": 18,
   "metadata": {
    "tags": [],
    "pycharm": {
     "name": "#%%\n"
    }
   },
   "outputs": [],
   "source": [
    "results = json.loads(data.text)"
   ]
  },
  {
   "cell_type": "markdown",
   "metadata": {
    "pycharm": {
     "name": "#%% md\n"
    }
   },
   "source": [
    "We will convert our json data into *pandas* data frame. \n"
   ]
  },
  {
   "cell_type": "code",
   "execution_count": 19,
   "metadata": {
    "tags": [],
    "pycharm": {
     "name": "#%%\n"
    }
   },
   "outputs": [
    {
     "data": {
      "text/plain": "            name  id           family             order         genus  \\\n0      Persimmon  52        Ebenaceae           Rosales     Diospyros   \n1     Strawberry   3         Rosaceae           Rosales      Fragaria   \n2         Banana   1         Musaceae      Zingiberales          Musa   \n3         Tomato   5       Solanaceae         Solanales       Solanum   \n4           Pear   4         Rosaceae           Rosales         Pyrus   \n5         Durian  60        Malvaceae          Malvales         Durio   \n6     Blackberry  64         Rosaceae           Rosales         Rubus   \n7    Lingonberry  65        Ericaceae          Ericales     Vaccinium   \n8           Kiwi  66    Actinidiaceae  Struthioniformes       Apteryx   \n9         Lychee  67      Sapindaceae        Sapindales        Litchi   \n10     Pineapple  10     Bromeliaceae            Poales        Ananas   \n11           Fig  68         Moraceae           Rosales         Ficus   \n12    Gooseberry  69  Grossulariaceae      Saxifragales         Ribes   \n13  Passionfruit  70   Passifloraceae      Malpighiales    Passiflora   \n14          Plum  71         Rosaceae           Rosales        Prunus   \n15        Orange   2         Rutaceae        Sapindales        Citrus   \n16    GreenApple  72         Rosaceae           Rosales         Malus   \n17     Raspberry  23         Rosaceae           Rosales         Rubus   \n18    Watermelon  25    Cucurbitaceae      Cucurbitales     Citrullus   \n19         Lemon  26         Rutaceae        Sapindales        Citrus   \n20         Mango  27    Anacardiaceae        Sapindales     Mangifera   \n21     Blueberry  33         Rosaceae           Rosales      Fragaria   \n22         Apple   6         Rosaceae           Rosales         Malus   \n23         Guava  37        Myrtaceae          Myrtales       Psidium   \n24       Apricot  35         Rosaceae           Rosales        Prunus   \n25        Papaya  42       Caricaceae         Caricacea        Carica   \n26         Melon  41    Cucurbitaceae     Cucurbitaceae       Cucumis   \n27     Tangerine  77         Rutaceae        Sapindales        Citrus   \n28      Pitahaya  78        Cactaceae    Caryophyllales     Cactaceae   \n29          Lime  44         Rutaceae        Sapindales        Citrus   \n30   Pomegranate  79       Lythraceae          Myrtales        Punica   \n31   Dragonfruit  80        Cactaceae    Caryophyllales  Selenicereus   \n32         Grape  81         Vitaceae           Vitales         Vitis   \n33         Morus  82         Moraceae           Rosales         Morus   \n34        Feijoa  76        Myrtaceae        Myrtoideae    Sellowiana   \n35       Avocado  84        Lauraceae          Laurales        Persea   \n36     Kiwifruit  85    Actinidiaceae          Ericales     Actinidia   \n37     Cranberry  87        Ericaceae          Ericales     Vaccinium   \n38        Cherry   9         Rosaceae           Rosales        Prunus   \n39         Peach  86         Rosaceae           Rosales        Prunus   \n40     Jackfruit  94         Moraceae           Rosales    Artocarpus   \n41  Horned Melon  95    Cucurbitaceae      Cucurbitales       Cucumis   \n42      Hazelnut  96       Betulaceae           Fagales       Corylus   \n43        Pomelo  98         Rutaceae        Sapindales        Citrus   \n44    Mangosteen  99       Clusiaceae      Malpighiales      Garcinia   \n\n                                           nutritions  \n0   {'calories': 81, 'fat': 0.0, 'sugar': 18.0, 'c...  \n1   {'calories': 29, 'fat': 0.4, 'sugar': 5.4, 'ca...  \n2   {'calories': 96, 'fat': 0.2, 'sugar': 17.2, 'c...  \n3   {'calories': 74, 'fat': 0.2, 'sugar': 2.6, 'ca...  \n4   {'calories': 57, 'fat': 0.1, 'sugar': 10.0, 'c...  \n5   {'calories': 147, 'fat': 5.3, 'sugar': 6.75, '...  \n6   {'calories': 40, 'fat': 0.4, 'sugar': 4.5, 'ca...  \n7   {'calories': 50, 'fat': 0.34, 'sugar': 5.74, '...  \n8   {'calories': 61, 'fat': 0.5, 'sugar': 9.0, 'ca...  \n9   {'calories': 66, 'fat': 0.44, 'sugar': 15.0, '...  \n10  {'calories': 50, 'fat': 0.12, 'sugar': 9.85, '...  \n11  {'calories': 74, 'fat': 0.3, 'sugar': 16.0, 'c...  \n12  {'calories': 44, 'fat': 0.6, 'sugar': 0.0, 'ca...  \n13  {'calories': 97, 'fat': 0.7, 'sugar': 11.2, 'c...  \n14  {'calories': 46, 'fat': 0.28, 'sugar': 9.92, '...  \n15  {'calories': 43, 'fat': 0.2, 'sugar': 8.2, 'ca...  \n16  {'calories': 21, 'fat': 0.1, 'sugar': 6.4, 'ca...  \n17  {'calories': 53, 'fat': 0.7, 'sugar': 4.4, 'ca...  \n18  {'calories': 30, 'fat': 0.2, 'sugar': 6.0, 'ca...  \n19  {'calories': 29, 'fat': 0.3, 'sugar': 2.5, 'ca...  \n20  {'calories': 60, 'fat': 0.38, 'sugar': 13.7, '...  \n21  {'calories': 29, 'fat': 0.4, 'sugar': 5.4, 'ca...  \n22  {'calories': 52, 'fat': 0.4, 'sugar': 10.3, 'c...  \n23  {'calories': 68, 'fat': 1.0, 'sugar': 9.0, 'ca...  \n24  {'calories': 15, 'fat': 0.1, 'sugar': 3.2, 'ca...  \n25  {'calories': 43, 'fat': 0.4, 'sugar': 1.0, 'ca...  \n26  {'calories': 34, 'fat': 0.0, 'sugar': 8.0, 'ca...  \n27  {'calories': 45, 'fat': 0.4, 'sugar': 9.1, 'ca...  \n28  {'calories': 36, 'fat': 0.4, 'sugar': 3.0, 'ca...  \n29  {'calories': 25, 'fat': 0.1, 'sugar': 1.7, 'ca...  \n30  {'calories': 83, 'fat': 1.2, 'sugar': 13.7, 'c...  \n31  {'calories': 60, 'fat': 1.5, 'sugar': 8.0, 'ca...  \n32  {'calories': 69, 'fat': 0.16, 'sugar': 16.0, '...  \n33  {'calories': 43, 'fat': 0.39, 'sugar': 8.1, 'c...  \n34  {'calories': 44, 'fat': 0.4, 'sugar': 3.0, 'ca...  \n35  {'calories': 160, 'fat': 14.66, 'sugar': 0.66,...  \n36  {'calories': 61, 'fat': 0.5, 'sugar': 8.9, 'ca...  \n37  {'calories': 46, 'fat': 0.1, 'sugar': 4.0, 'ca...  \n38  {'calories': 50, 'fat': 0.3, 'sugar': 8.0, 'ca...  \n39  {'calories': 39, 'fat': 0.25, 'sugar': 8.4, 'c...  \n40  {'calories': 95, 'fat': 0.0, 'sugar': 19.1, 'c...  \n41  {'calories': 44, 'fat': 1.26, 'sugar': 0.5, 'c...  \n42  {'calories': 628, 'fat': 61.0, 'sugar': 4.3, '...  \n43  {'calories': 37, 'fat': 0.0, 'sugar': 8.5, 'ca...  \n44  {'calories': 73, 'fat': 0.58, 'sugar': 16.11, ...  ",
      "text/html": "<div>\n<style scoped>\n    .dataframe tbody tr th:only-of-type {\n        vertical-align: middle;\n    }\n\n    .dataframe tbody tr th {\n        vertical-align: top;\n    }\n\n    .dataframe thead th {\n        text-align: right;\n    }\n</style>\n<table border=\"1\" class=\"dataframe\">\n  <thead>\n    <tr style=\"text-align: right;\">\n      <th></th>\n      <th>name</th>\n      <th>id</th>\n      <th>family</th>\n      <th>order</th>\n      <th>genus</th>\n      <th>nutritions</th>\n    </tr>\n  </thead>\n  <tbody>\n    <tr>\n      <th>0</th>\n      <td>Persimmon</td>\n      <td>52</td>\n      <td>Ebenaceae</td>\n      <td>Rosales</td>\n      <td>Diospyros</td>\n      <td>{'calories': 81, 'fat': 0.0, 'sugar': 18.0, 'c...</td>\n    </tr>\n    <tr>\n      <th>1</th>\n      <td>Strawberry</td>\n      <td>3</td>\n      <td>Rosaceae</td>\n      <td>Rosales</td>\n      <td>Fragaria</td>\n      <td>{'calories': 29, 'fat': 0.4, 'sugar': 5.4, 'ca...</td>\n    </tr>\n    <tr>\n      <th>2</th>\n      <td>Banana</td>\n      <td>1</td>\n      <td>Musaceae</td>\n      <td>Zingiberales</td>\n      <td>Musa</td>\n      <td>{'calories': 96, 'fat': 0.2, 'sugar': 17.2, 'c...</td>\n    </tr>\n    <tr>\n      <th>3</th>\n      <td>Tomato</td>\n      <td>5</td>\n      <td>Solanaceae</td>\n      <td>Solanales</td>\n      <td>Solanum</td>\n      <td>{'calories': 74, 'fat': 0.2, 'sugar': 2.6, 'ca...</td>\n    </tr>\n    <tr>\n      <th>4</th>\n      <td>Pear</td>\n      <td>4</td>\n      <td>Rosaceae</td>\n      <td>Rosales</td>\n      <td>Pyrus</td>\n      <td>{'calories': 57, 'fat': 0.1, 'sugar': 10.0, 'c...</td>\n    </tr>\n    <tr>\n      <th>5</th>\n      <td>Durian</td>\n      <td>60</td>\n      <td>Malvaceae</td>\n      <td>Malvales</td>\n      <td>Durio</td>\n      <td>{'calories': 147, 'fat': 5.3, 'sugar': 6.75, '...</td>\n    </tr>\n    <tr>\n      <th>6</th>\n      <td>Blackberry</td>\n      <td>64</td>\n      <td>Rosaceae</td>\n      <td>Rosales</td>\n      <td>Rubus</td>\n      <td>{'calories': 40, 'fat': 0.4, 'sugar': 4.5, 'ca...</td>\n    </tr>\n    <tr>\n      <th>7</th>\n      <td>Lingonberry</td>\n      <td>65</td>\n      <td>Ericaceae</td>\n      <td>Ericales</td>\n      <td>Vaccinium</td>\n      <td>{'calories': 50, 'fat': 0.34, 'sugar': 5.74, '...</td>\n    </tr>\n    <tr>\n      <th>8</th>\n      <td>Kiwi</td>\n      <td>66</td>\n      <td>Actinidiaceae</td>\n      <td>Struthioniformes</td>\n      <td>Apteryx</td>\n      <td>{'calories': 61, 'fat': 0.5, 'sugar': 9.0, 'ca...</td>\n    </tr>\n    <tr>\n      <th>9</th>\n      <td>Lychee</td>\n      <td>67</td>\n      <td>Sapindaceae</td>\n      <td>Sapindales</td>\n      <td>Litchi</td>\n      <td>{'calories': 66, 'fat': 0.44, 'sugar': 15.0, '...</td>\n    </tr>\n    <tr>\n      <th>10</th>\n      <td>Pineapple</td>\n      <td>10</td>\n      <td>Bromeliaceae</td>\n      <td>Poales</td>\n      <td>Ananas</td>\n      <td>{'calories': 50, 'fat': 0.12, 'sugar': 9.85, '...</td>\n    </tr>\n    <tr>\n      <th>11</th>\n      <td>Fig</td>\n      <td>68</td>\n      <td>Moraceae</td>\n      <td>Rosales</td>\n      <td>Ficus</td>\n      <td>{'calories': 74, 'fat': 0.3, 'sugar': 16.0, 'c...</td>\n    </tr>\n    <tr>\n      <th>12</th>\n      <td>Gooseberry</td>\n      <td>69</td>\n      <td>Grossulariaceae</td>\n      <td>Saxifragales</td>\n      <td>Ribes</td>\n      <td>{'calories': 44, 'fat': 0.6, 'sugar': 0.0, 'ca...</td>\n    </tr>\n    <tr>\n      <th>13</th>\n      <td>Passionfruit</td>\n      <td>70</td>\n      <td>Passifloraceae</td>\n      <td>Malpighiales</td>\n      <td>Passiflora</td>\n      <td>{'calories': 97, 'fat': 0.7, 'sugar': 11.2, 'c...</td>\n    </tr>\n    <tr>\n      <th>14</th>\n      <td>Plum</td>\n      <td>71</td>\n      <td>Rosaceae</td>\n      <td>Rosales</td>\n      <td>Prunus</td>\n      <td>{'calories': 46, 'fat': 0.28, 'sugar': 9.92, '...</td>\n    </tr>\n    <tr>\n      <th>15</th>\n      <td>Orange</td>\n      <td>2</td>\n      <td>Rutaceae</td>\n      <td>Sapindales</td>\n      <td>Citrus</td>\n      <td>{'calories': 43, 'fat': 0.2, 'sugar': 8.2, 'ca...</td>\n    </tr>\n    <tr>\n      <th>16</th>\n      <td>GreenApple</td>\n      <td>72</td>\n      <td>Rosaceae</td>\n      <td>Rosales</td>\n      <td>Malus</td>\n      <td>{'calories': 21, 'fat': 0.1, 'sugar': 6.4, 'ca...</td>\n    </tr>\n    <tr>\n      <th>17</th>\n      <td>Raspberry</td>\n      <td>23</td>\n      <td>Rosaceae</td>\n      <td>Rosales</td>\n      <td>Rubus</td>\n      <td>{'calories': 53, 'fat': 0.7, 'sugar': 4.4, 'ca...</td>\n    </tr>\n    <tr>\n      <th>18</th>\n      <td>Watermelon</td>\n      <td>25</td>\n      <td>Cucurbitaceae</td>\n      <td>Cucurbitales</td>\n      <td>Citrullus</td>\n      <td>{'calories': 30, 'fat': 0.2, 'sugar': 6.0, 'ca...</td>\n    </tr>\n    <tr>\n      <th>19</th>\n      <td>Lemon</td>\n      <td>26</td>\n      <td>Rutaceae</td>\n      <td>Sapindales</td>\n      <td>Citrus</td>\n      <td>{'calories': 29, 'fat': 0.3, 'sugar': 2.5, 'ca...</td>\n    </tr>\n    <tr>\n      <th>20</th>\n      <td>Mango</td>\n      <td>27</td>\n      <td>Anacardiaceae</td>\n      <td>Sapindales</td>\n      <td>Mangifera</td>\n      <td>{'calories': 60, 'fat': 0.38, 'sugar': 13.7, '...</td>\n    </tr>\n    <tr>\n      <th>21</th>\n      <td>Blueberry</td>\n      <td>33</td>\n      <td>Rosaceae</td>\n      <td>Rosales</td>\n      <td>Fragaria</td>\n      <td>{'calories': 29, 'fat': 0.4, 'sugar': 5.4, 'ca...</td>\n    </tr>\n    <tr>\n      <th>22</th>\n      <td>Apple</td>\n      <td>6</td>\n      <td>Rosaceae</td>\n      <td>Rosales</td>\n      <td>Malus</td>\n      <td>{'calories': 52, 'fat': 0.4, 'sugar': 10.3, 'c...</td>\n    </tr>\n    <tr>\n      <th>23</th>\n      <td>Guava</td>\n      <td>37</td>\n      <td>Myrtaceae</td>\n      <td>Myrtales</td>\n      <td>Psidium</td>\n      <td>{'calories': 68, 'fat': 1.0, 'sugar': 9.0, 'ca...</td>\n    </tr>\n    <tr>\n      <th>24</th>\n      <td>Apricot</td>\n      <td>35</td>\n      <td>Rosaceae</td>\n      <td>Rosales</td>\n      <td>Prunus</td>\n      <td>{'calories': 15, 'fat': 0.1, 'sugar': 3.2, 'ca...</td>\n    </tr>\n    <tr>\n      <th>25</th>\n      <td>Papaya</td>\n      <td>42</td>\n      <td>Caricaceae</td>\n      <td>Caricacea</td>\n      <td>Carica</td>\n      <td>{'calories': 43, 'fat': 0.4, 'sugar': 1.0, 'ca...</td>\n    </tr>\n    <tr>\n      <th>26</th>\n      <td>Melon</td>\n      <td>41</td>\n      <td>Cucurbitaceae</td>\n      <td>Cucurbitaceae</td>\n      <td>Cucumis</td>\n      <td>{'calories': 34, 'fat': 0.0, 'sugar': 8.0, 'ca...</td>\n    </tr>\n    <tr>\n      <th>27</th>\n      <td>Tangerine</td>\n      <td>77</td>\n      <td>Rutaceae</td>\n      <td>Sapindales</td>\n      <td>Citrus</td>\n      <td>{'calories': 45, 'fat': 0.4, 'sugar': 9.1, 'ca...</td>\n    </tr>\n    <tr>\n      <th>28</th>\n      <td>Pitahaya</td>\n      <td>78</td>\n      <td>Cactaceae</td>\n      <td>Caryophyllales</td>\n      <td>Cactaceae</td>\n      <td>{'calories': 36, 'fat': 0.4, 'sugar': 3.0, 'ca...</td>\n    </tr>\n    <tr>\n      <th>29</th>\n      <td>Lime</td>\n      <td>44</td>\n      <td>Rutaceae</td>\n      <td>Sapindales</td>\n      <td>Citrus</td>\n      <td>{'calories': 25, 'fat': 0.1, 'sugar': 1.7, 'ca...</td>\n    </tr>\n    <tr>\n      <th>30</th>\n      <td>Pomegranate</td>\n      <td>79</td>\n      <td>Lythraceae</td>\n      <td>Myrtales</td>\n      <td>Punica</td>\n      <td>{'calories': 83, 'fat': 1.2, 'sugar': 13.7, 'c...</td>\n    </tr>\n    <tr>\n      <th>31</th>\n      <td>Dragonfruit</td>\n      <td>80</td>\n      <td>Cactaceae</td>\n      <td>Caryophyllales</td>\n      <td>Selenicereus</td>\n      <td>{'calories': 60, 'fat': 1.5, 'sugar': 8.0, 'ca...</td>\n    </tr>\n    <tr>\n      <th>32</th>\n      <td>Grape</td>\n      <td>81</td>\n      <td>Vitaceae</td>\n      <td>Vitales</td>\n      <td>Vitis</td>\n      <td>{'calories': 69, 'fat': 0.16, 'sugar': 16.0, '...</td>\n    </tr>\n    <tr>\n      <th>33</th>\n      <td>Morus</td>\n      <td>82</td>\n      <td>Moraceae</td>\n      <td>Rosales</td>\n      <td>Morus</td>\n      <td>{'calories': 43, 'fat': 0.39, 'sugar': 8.1, 'c...</td>\n    </tr>\n    <tr>\n      <th>34</th>\n      <td>Feijoa</td>\n      <td>76</td>\n      <td>Myrtaceae</td>\n      <td>Myrtoideae</td>\n      <td>Sellowiana</td>\n      <td>{'calories': 44, 'fat': 0.4, 'sugar': 3.0, 'ca...</td>\n    </tr>\n    <tr>\n      <th>35</th>\n      <td>Avocado</td>\n      <td>84</td>\n      <td>Lauraceae</td>\n      <td>Laurales</td>\n      <td>Persea</td>\n      <td>{'calories': 160, 'fat': 14.66, 'sugar': 0.66,...</td>\n    </tr>\n    <tr>\n      <th>36</th>\n      <td>Kiwifruit</td>\n      <td>85</td>\n      <td>Actinidiaceae</td>\n      <td>Ericales</td>\n      <td>Actinidia</td>\n      <td>{'calories': 61, 'fat': 0.5, 'sugar': 8.9, 'ca...</td>\n    </tr>\n    <tr>\n      <th>37</th>\n      <td>Cranberry</td>\n      <td>87</td>\n      <td>Ericaceae</td>\n      <td>Ericales</td>\n      <td>Vaccinium</td>\n      <td>{'calories': 46, 'fat': 0.1, 'sugar': 4.0, 'ca...</td>\n    </tr>\n    <tr>\n      <th>38</th>\n      <td>Cherry</td>\n      <td>9</td>\n      <td>Rosaceae</td>\n      <td>Rosales</td>\n      <td>Prunus</td>\n      <td>{'calories': 50, 'fat': 0.3, 'sugar': 8.0, 'ca...</td>\n    </tr>\n    <tr>\n      <th>39</th>\n      <td>Peach</td>\n      <td>86</td>\n      <td>Rosaceae</td>\n      <td>Rosales</td>\n      <td>Prunus</td>\n      <td>{'calories': 39, 'fat': 0.25, 'sugar': 8.4, 'c...</td>\n    </tr>\n    <tr>\n      <th>40</th>\n      <td>Jackfruit</td>\n      <td>94</td>\n      <td>Moraceae</td>\n      <td>Rosales</td>\n      <td>Artocarpus</td>\n      <td>{'calories': 95, 'fat': 0.0, 'sugar': 19.1, 'c...</td>\n    </tr>\n    <tr>\n      <th>41</th>\n      <td>Horned Melon</td>\n      <td>95</td>\n      <td>Cucurbitaceae</td>\n      <td>Cucurbitales</td>\n      <td>Cucumis</td>\n      <td>{'calories': 44, 'fat': 1.26, 'sugar': 0.5, 'c...</td>\n    </tr>\n    <tr>\n      <th>42</th>\n      <td>Hazelnut</td>\n      <td>96</td>\n      <td>Betulaceae</td>\n      <td>Fagales</td>\n      <td>Corylus</td>\n      <td>{'calories': 628, 'fat': 61.0, 'sugar': 4.3, '...</td>\n    </tr>\n    <tr>\n      <th>43</th>\n      <td>Pomelo</td>\n      <td>98</td>\n      <td>Rutaceae</td>\n      <td>Sapindales</td>\n      <td>Citrus</td>\n      <td>{'calories': 37, 'fat': 0.0, 'sugar': 8.5, 'ca...</td>\n    </tr>\n    <tr>\n      <th>44</th>\n      <td>Mangosteen</td>\n      <td>99</td>\n      <td>Clusiaceae</td>\n      <td>Malpighiales</td>\n      <td>Garcinia</td>\n      <td>{'calories': 73, 'fat': 0.58, 'sugar': 16.11, ...</td>\n    </tr>\n  </tbody>\n</table>\n</div>"
     },
     "execution_count": 19,
     "metadata": {},
     "output_type": "execute_result"
    }
   ],
   "source": [
    "pd.DataFrame(results)"
   ]
  },
  {
   "cell_type": "markdown",
   "metadata": {
    "pycharm": {
     "name": "#%% md\n"
    }
   },
   "source": [
    "The result is in a nested json format. The 'nutrition' column contains multiple subcolumns, so the data needs to be 'flattened' or normalized.\n"
   ]
  },
  {
   "cell_type": "code",
   "execution_count": 20,
   "metadata": {
    "tags": [],
    "pycharm": {
     "name": "#%%\n"
    }
   },
   "outputs": [],
   "source": [
    "df2 = pd.json_normalize(results)"
   ]
  },
  {
   "cell_type": "code",
   "execution_count": 21,
   "metadata": {
    "tags": [],
    "pycharm": {
     "name": "#%%\n"
    }
   },
   "outputs": [
    {
     "data": {
      "text/plain": "            name  id           family             order         genus  \\\n0      Persimmon  52        Ebenaceae           Rosales     Diospyros   \n1     Strawberry   3         Rosaceae           Rosales      Fragaria   \n2         Banana   1         Musaceae      Zingiberales          Musa   \n3         Tomato   5       Solanaceae         Solanales       Solanum   \n4           Pear   4         Rosaceae           Rosales         Pyrus   \n5         Durian  60        Malvaceae          Malvales         Durio   \n6     Blackberry  64         Rosaceae           Rosales         Rubus   \n7    Lingonberry  65        Ericaceae          Ericales     Vaccinium   \n8           Kiwi  66    Actinidiaceae  Struthioniformes       Apteryx   \n9         Lychee  67      Sapindaceae        Sapindales        Litchi   \n10     Pineapple  10     Bromeliaceae            Poales        Ananas   \n11           Fig  68         Moraceae           Rosales         Ficus   \n12    Gooseberry  69  Grossulariaceae      Saxifragales         Ribes   \n13  Passionfruit  70   Passifloraceae      Malpighiales    Passiflora   \n14          Plum  71         Rosaceae           Rosales        Prunus   \n15        Orange   2         Rutaceae        Sapindales        Citrus   \n16    GreenApple  72         Rosaceae           Rosales         Malus   \n17     Raspberry  23         Rosaceae           Rosales         Rubus   \n18    Watermelon  25    Cucurbitaceae      Cucurbitales     Citrullus   \n19         Lemon  26         Rutaceae        Sapindales        Citrus   \n20         Mango  27    Anacardiaceae        Sapindales     Mangifera   \n21     Blueberry  33         Rosaceae           Rosales      Fragaria   \n22         Apple   6         Rosaceae           Rosales         Malus   \n23         Guava  37        Myrtaceae          Myrtales       Psidium   \n24       Apricot  35         Rosaceae           Rosales        Prunus   \n25        Papaya  42       Caricaceae         Caricacea        Carica   \n26         Melon  41    Cucurbitaceae     Cucurbitaceae       Cucumis   \n27     Tangerine  77         Rutaceae        Sapindales        Citrus   \n28      Pitahaya  78        Cactaceae    Caryophyllales     Cactaceae   \n29          Lime  44         Rutaceae        Sapindales        Citrus   \n30   Pomegranate  79       Lythraceae          Myrtales        Punica   \n31   Dragonfruit  80        Cactaceae    Caryophyllales  Selenicereus   \n32         Grape  81         Vitaceae           Vitales         Vitis   \n33         Morus  82         Moraceae           Rosales         Morus   \n34        Feijoa  76        Myrtaceae        Myrtoideae    Sellowiana   \n35       Avocado  84        Lauraceae          Laurales        Persea   \n36     Kiwifruit  85    Actinidiaceae          Ericales     Actinidia   \n37     Cranberry  87        Ericaceae          Ericales     Vaccinium   \n38        Cherry   9         Rosaceae           Rosales        Prunus   \n39         Peach  86         Rosaceae           Rosales        Prunus   \n40     Jackfruit  94         Moraceae           Rosales    Artocarpus   \n41  Horned Melon  95    Cucurbitaceae      Cucurbitales       Cucumis   \n42      Hazelnut  96       Betulaceae           Fagales       Corylus   \n43        Pomelo  98         Rutaceae        Sapindales        Citrus   \n44    Mangosteen  99       Clusiaceae      Malpighiales      Garcinia   \n\n    nutritions.calories  nutritions.fat  nutritions.sugar  \\\n0                    81            0.00             18.00   \n1                    29            0.40              5.40   \n2                    96            0.20             17.20   \n3                    74            0.20              2.60   \n4                    57            0.10             10.00   \n5                   147            5.30              6.75   \n6                    40            0.40              4.50   \n7                    50            0.34              5.74   \n8                    61            0.50              9.00   \n9                    66            0.44             15.00   \n10                   50            0.12              9.85   \n11                   74            0.30             16.00   \n12                   44            0.60              0.00   \n13                   97            0.70             11.20   \n14                   46            0.28              9.92   \n15                   43            0.20              8.20   \n16                   21            0.10              6.40   \n17                   53            0.70              4.40   \n18                   30            0.20              6.00   \n19                   29            0.30              2.50   \n20                   60            0.38             13.70   \n21                   29            0.40              5.40   \n22                   52            0.40             10.30   \n23                   68            1.00              9.00   \n24                   15            0.10              3.20   \n25                   43            0.40              1.00   \n26                   34            0.00              8.00   \n27                   45            0.40              9.10   \n28                   36            0.40              3.00   \n29                   25            0.10              1.70   \n30                   83            1.20             13.70   \n31                   60            1.50              8.00   \n32                   69            0.16             16.00   \n33                   43            0.39              8.10   \n34                   44            0.40              3.00   \n35                  160           14.66              0.66   \n36                   61            0.50              8.90   \n37                   46            0.10              4.00   \n38                   50            0.30              8.00   \n39                   39            0.25              8.40   \n40                   95            0.00             19.10   \n41                   44            1.26              0.50   \n42                  628           61.00              4.30   \n43                   37            0.00              8.50   \n44                   73            0.58             16.11   \n\n    nutritions.carbohydrates  nutritions.protein  \n0                      18.00                0.00  \n1                       5.50                0.80  \n2                      22.00                1.00  \n3                       3.90                0.90  \n4                      15.00                0.40  \n5                      27.10                1.50  \n6                       9.00                1.30  \n7                      11.30                0.75  \n8                      15.00                1.10  \n9                      17.00                0.80  \n10                     13.12                0.54  \n11                     19.00                0.80  \n12                     10.00                0.90  \n13                     22.40                2.20  \n14                     11.40                0.70  \n15                      8.30                1.00  \n16                      3.10                0.40  \n17                     12.00                1.20  \n18                      8.00                0.60  \n19                      9.00                1.10  \n20                     15.00                0.82  \n21                      5.50                0.00  \n22                     11.40                0.30  \n23                     14.00                2.60  \n24                      3.90                0.50  \n25                     11.00                0.00  \n26                      8.00                0.00  \n27                      8.30                0.00  \n28                      7.00                1.00  \n29                      8.40                0.30  \n30                     18.70                1.70  \n31                      9.00                9.00  \n32                     18.10                0.72  \n33                      9.80                1.44  \n34                      8.00                0.60  \n35                      8.53                2.00  \n36                     14.60                1.14  \n37                     12.20                0.40  \n38                     12.00                1.00  \n39                      9.50                0.90  \n40                     23.20                1.72  \n41                      7.56                1.78  \n42                     17.00               15.00  \n43                      9.67                0.82  \n44                     17.91                0.41  ",
      "text/html": "<div>\n<style scoped>\n    .dataframe tbody tr th:only-of-type {\n        vertical-align: middle;\n    }\n\n    .dataframe tbody tr th {\n        vertical-align: top;\n    }\n\n    .dataframe thead th {\n        text-align: right;\n    }\n</style>\n<table border=\"1\" class=\"dataframe\">\n  <thead>\n    <tr style=\"text-align: right;\">\n      <th></th>\n      <th>name</th>\n      <th>id</th>\n      <th>family</th>\n      <th>order</th>\n      <th>genus</th>\n      <th>nutritions.calories</th>\n      <th>nutritions.fat</th>\n      <th>nutritions.sugar</th>\n      <th>nutritions.carbohydrates</th>\n      <th>nutritions.protein</th>\n    </tr>\n  </thead>\n  <tbody>\n    <tr>\n      <th>0</th>\n      <td>Persimmon</td>\n      <td>52</td>\n      <td>Ebenaceae</td>\n      <td>Rosales</td>\n      <td>Diospyros</td>\n      <td>81</td>\n      <td>0.00</td>\n      <td>18.00</td>\n      <td>18.00</td>\n      <td>0.00</td>\n    </tr>\n    <tr>\n      <th>1</th>\n      <td>Strawberry</td>\n      <td>3</td>\n      <td>Rosaceae</td>\n      <td>Rosales</td>\n      <td>Fragaria</td>\n      <td>29</td>\n      <td>0.40</td>\n      <td>5.40</td>\n      <td>5.50</td>\n      <td>0.80</td>\n    </tr>\n    <tr>\n      <th>2</th>\n      <td>Banana</td>\n      <td>1</td>\n      <td>Musaceae</td>\n      <td>Zingiberales</td>\n      <td>Musa</td>\n      <td>96</td>\n      <td>0.20</td>\n      <td>17.20</td>\n      <td>22.00</td>\n      <td>1.00</td>\n    </tr>\n    <tr>\n      <th>3</th>\n      <td>Tomato</td>\n      <td>5</td>\n      <td>Solanaceae</td>\n      <td>Solanales</td>\n      <td>Solanum</td>\n      <td>74</td>\n      <td>0.20</td>\n      <td>2.60</td>\n      <td>3.90</td>\n      <td>0.90</td>\n    </tr>\n    <tr>\n      <th>4</th>\n      <td>Pear</td>\n      <td>4</td>\n      <td>Rosaceae</td>\n      <td>Rosales</td>\n      <td>Pyrus</td>\n      <td>57</td>\n      <td>0.10</td>\n      <td>10.00</td>\n      <td>15.00</td>\n      <td>0.40</td>\n    </tr>\n    <tr>\n      <th>5</th>\n      <td>Durian</td>\n      <td>60</td>\n      <td>Malvaceae</td>\n      <td>Malvales</td>\n      <td>Durio</td>\n      <td>147</td>\n      <td>5.30</td>\n      <td>6.75</td>\n      <td>27.10</td>\n      <td>1.50</td>\n    </tr>\n    <tr>\n      <th>6</th>\n      <td>Blackberry</td>\n      <td>64</td>\n      <td>Rosaceae</td>\n      <td>Rosales</td>\n      <td>Rubus</td>\n      <td>40</td>\n      <td>0.40</td>\n      <td>4.50</td>\n      <td>9.00</td>\n      <td>1.30</td>\n    </tr>\n    <tr>\n      <th>7</th>\n      <td>Lingonberry</td>\n      <td>65</td>\n      <td>Ericaceae</td>\n      <td>Ericales</td>\n      <td>Vaccinium</td>\n      <td>50</td>\n      <td>0.34</td>\n      <td>5.74</td>\n      <td>11.30</td>\n      <td>0.75</td>\n    </tr>\n    <tr>\n      <th>8</th>\n      <td>Kiwi</td>\n      <td>66</td>\n      <td>Actinidiaceae</td>\n      <td>Struthioniformes</td>\n      <td>Apteryx</td>\n      <td>61</td>\n      <td>0.50</td>\n      <td>9.00</td>\n      <td>15.00</td>\n      <td>1.10</td>\n    </tr>\n    <tr>\n      <th>9</th>\n      <td>Lychee</td>\n      <td>67</td>\n      <td>Sapindaceae</td>\n      <td>Sapindales</td>\n      <td>Litchi</td>\n      <td>66</td>\n      <td>0.44</td>\n      <td>15.00</td>\n      <td>17.00</td>\n      <td>0.80</td>\n    </tr>\n    <tr>\n      <th>10</th>\n      <td>Pineapple</td>\n      <td>10</td>\n      <td>Bromeliaceae</td>\n      <td>Poales</td>\n      <td>Ananas</td>\n      <td>50</td>\n      <td>0.12</td>\n      <td>9.85</td>\n      <td>13.12</td>\n      <td>0.54</td>\n    </tr>\n    <tr>\n      <th>11</th>\n      <td>Fig</td>\n      <td>68</td>\n      <td>Moraceae</td>\n      <td>Rosales</td>\n      <td>Ficus</td>\n      <td>74</td>\n      <td>0.30</td>\n      <td>16.00</td>\n      <td>19.00</td>\n      <td>0.80</td>\n    </tr>\n    <tr>\n      <th>12</th>\n      <td>Gooseberry</td>\n      <td>69</td>\n      <td>Grossulariaceae</td>\n      <td>Saxifragales</td>\n      <td>Ribes</td>\n      <td>44</td>\n      <td>0.60</td>\n      <td>0.00</td>\n      <td>10.00</td>\n      <td>0.90</td>\n    </tr>\n    <tr>\n      <th>13</th>\n      <td>Passionfruit</td>\n      <td>70</td>\n      <td>Passifloraceae</td>\n      <td>Malpighiales</td>\n      <td>Passiflora</td>\n      <td>97</td>\n      <td>0.70</td>\n      <td>11.20</td>\n      <td>22.40</td>\n      <td>2.20</td>\n    </tr>\n    <tr>\n      <th>14</th>\n      <td>Plum</td>\n      <td>71</td>\n      <td>Rosaceae</td>\n      <td>Rosales</td>\n      <td>Prunus</td>\n      <td>46</td>\n      <td>0.28</td>\n      <td>9.92</td>\n      <td>11.40</td>\n      <td>0.70</td>\n    </tr>\n    <tr>\n      <th>15</th>\n      <td>Orange</td>\n      <td>2</td>\n      <td>Rutaceae</td>\n      <td>Sapindales</td>\n      <td>Citrus</td>\n      <td>43</td>\n      <td>0.20</td>\n      <td>8.20</td>\n      <td>8.30</td>\n      <td>1.00</td>\n    </tr>\n    <tr>\n      <th>16</th>\n      <td>GreenApple</td>\n      <td>72</td>\n      <td>Rosaceae</td>\n      <td>Rosales</td>\n      <td>Malus</td>\n      <td>21</td>\n      <td>0.10</td>\n      <td>6.40</td>\n      <td>3.10</td>\n      <td>0.40</td>\n    </tr>\n    <tr>\n      <th>17</th>\n      <td>Raspberry</td>\n      <td>23</td>\n      <td>Rosaceae</td>\n      <td>Rosales</td>\n      <td>Rubus</td>\n      <td>53</td>\n      <td>0.70</td>\n      <td>4.40</td>\n      <td>12.00</td>\n      <td>1.20</td>\n    </tr>\n    <tr>\n      <th>18</th>\n      <td>Watermelon</td>\n      <td>25</td>\n      <td>Cucurbitaceae</td>\n      <td>Cucurbitales</td>\n      <td>Citrullus</td>\n      <td>30</td>\n      <td>0.20</td>\n      <td>6.00</td>\n      <td>8.00</td>\n      <td>0.60</td>\n    </tr>\n    <tr>\n      <th>19</th>\n      <td>Lemon</td>\n      <td>26</td>\n      <td>Rutaceae</td>\n      <td>Sapindales</td>\n      <td>Citrus</td>\n      <td>29</td>\n      <td>0.30</td>\n      <td>2.50</td>\n      <td>9.00</td>\n      <td>1.10</td>\n    </tr>\n    <tr>\n      <th>20</th>\n      <td>Mango</td>\n      <td>27</td>\n      <td>Anacardiaceae</td>\n      <td>Sapindales</td>\n      <td>Mangifera</td>\n      <td>60</td>\n      <td>0.38</td>\n      <td>13.70</td>\n      <td>15.00</td>\n      <td>0.82</td>\n    </tr>\n    <tr>\n      <th>21</th>\n      <td>Blueberry</td>\n      <td>33</td>\n      <td>Rosaceae</td>\n      <td>Rosales</td>\n      <td>Fragaria</td>\n      <td>29</td>\n      <td>0.40</td>\n      <td>5.40</td>\n      <td>5.50</td>\n      <td>0.00</td>\n    </tr>\n    <tr>\n      <th>22</th>\n      <td>Apple</td>\n      <td>6</td>\n      <td>Rosaceae</td>\n      <td>Rosales</td>\n      <td>Malus</td>\n      <td>52</td>\n      <td>0.40</td>\n      <td>10.30</td>\n      <td>11.40</td>\n      <td>0.30</td>\n    </tr>\n    <tr>\n      <th>23</th>\n      <td>Guava</td>\n      <td>37</td>\n      <td>Myrtaceae</td>\n      <td>Myrtales</td>\n      <td>Psidium</td>\n      <td>68</td>\n      <td>1.00</td>\n      <td>9.00</td>\n      <td>14.00</td>\n      <td>2.60</td>\n    </tr>\n    <tr>\n      <th>24</th>\n      <td>Apricot</td>\n      <td>35</td>\n      <td>Rosaceae</td>\n      <td>Rosales</td>\n      <td>Prunus</td>\n      <td>15</td>\n      <td>0.10</td>\n      <td>3.20</td>\n      <td>3.90</td>\n      <td>0.50</td>\n    </tr>\n    <tr>\n      <th>25</th>\n      <td>Papaya</td>\n      <td>42</td>\n      <td>Caricaceae</td>\n      <td>Caricacea</td>\n      <td>Carica</td>\n      <td>43</td>\n      <td>0.40</td>\n      <td>1.00</td>\n      <td>11.00</td>\n      <td>0.00</td>\n    </tr>\n    <tr>\n      <th>26</th>\n      <td>Melon</td>\n      <td>41</td>\n      <td>Cucurbitaceae</td>\n      <td>Cucurbitaceae</td>\n      <td>Cucumis</td>\n      <td>34</td>\n      <td>0.00</td>\n      <td>8.00</td>\n      <td>8.00</td>\n      <td>0.00</td>\n    </tr>\n    <tr>\n      <th>27</th>\n      <td>Tangerine</td>\n      <td>77</td>\n      <td>Rutaceae</td>\n      <td>Sapindales</td>\n      <td>Citrus</td>\n      <td>45</td>\n      <td>0.40</td>\n      <td>9.10</td>\n      <td>8.30</td>\n      <td>0.00</td>\n    </tr>\n    <tr>\n      <th>28</th>\n      <td>Pitahaya</td>\n      <td>78</td>\n      <td>Cactaceae</td>\n      <td>Caryophyllales</td>\n      <td>Cactaceae</td>\n      <td>36</td>\n      <td>0.40</td>\n      <td>3.00</td>\n      <td>7.00</td>\n      <td>1.00</td>\n    </tr>\n    <tr>\n      <th>29</th>\n      <td>Lime</td>\n      <td>44</td>\n      <td>Rutaceae</td>\n      <td>Sapindales</td>\n      <td>Citrus</td>\n      <td>25</td>\n      <td>0.10</td>\n      <td>1.70</td>\n      <td>8.40</td>\n      <td>0.30</td>\n    </tr>\n    <tr>\n      <th>30</th>\n      <td>Pomegranate</td>\n      <td>79</td>\n      <td>Lythraceae</td>\n      <td>Myrtales</td>\n      <td>Punica</td>\n      <td>83</td>\n      <td>1.20</td>\n      <td>13.70</td>\n      <td>18.70</td>\n      <td>1.70</td>\n    </tr>\n    <tr>\n      <th>31</th>\n      <td>Dragonfruit</td>\n      <td>80</td>\n      <td>Cactaceae</td>\n      <td>Caryophyllales</td>\n      <td>Selenicereus</td>\n      <td>60</td>\n      <td>1.50</td>\n      <td>8.00</td>\n      <td>9.00</td>\n      <td>9.00</td>\n    </tr>\n    <tr>\n      <th>32</th>\n      <td>Grape</td>\n      <td>81</td>\n      <td>Vitaceae</td>\n      <td>Vitales</td>\n      <td>Vitis</td>\n      <td>69</td>\n      <td>0.16</td>\n      <td>16.00</td>\n      <td>18.10</td>\n      <td>0.72</td>\n    </tr>\n    <tr>\n      <th>33</th>\n      <td>Morus</td>\n      <td>82</td>\n      <td>Moraceae</td>\n      <td>Rosales</td>\n      <td>Morus</td>\n      <td>43</td>\n      <td>0.39</td>\n      <td>8.10</td>\n      <td>9.80</td>\n      <td>1.44</td>\n    </tr>\n    <tr>\n      <th>34</th>\n      <td>Feijoa</td>\n      <td>76</td>\n      <td>Myrtaceae</td>\n      <td>Myrtoideae</td>\n      <td>Sellowiana</td>\n      <td>44</td>\n      <td>0.40</td>\n      <td>3.00</td>\n      <td>8.00</td>\n      <td>0.60</td>\n    </tr>\n    <tr>\n      <th>35</th>\n      <td>Avocado</td>\n      <td>84</td>\n      <td>Lauraceae</td>\n      <td>Laurales</td>\n      <td>Persea</td>\n      <td>160</td>\n      <td>14.66</td>\n      <td>0.66</td>\n      <td>8.53</td>\n      <td>2.00</td>\n    </tr>\n    <tr>\n      <th>36</th>\n      <td>Kiwifruit</td>\n      <td>85</td>\n      <td>Actinidiaceae</td>\n      <td>Ericales</td>\n      <td>Actinidia</td>\n      <td>61</td>\n      <td>0.50</td>\n      <td>8.90</td>\n      <td>14.60</td>\n      <td>1.14</td>\n    </tr>\n    <tr>\n      <th>37</th>\n      <td>Cranberry</td>\n      <td>87</td>\n      <td>Ericaceae</td>\n      <td>Ericales</td>\n      <td>Vaccinium</td>\n      <td>46</td>\n      <td>0.10</td>\n      <td>4.00</td>\n      <td>12.20</td>\n      <td>0.40</td>\n    </tr>\n    <tr>\n      <th>38</th>\n      <td>Cherry</td>\n      <td>9</td>\n      <td>Rosaceae</td>\n      <td>Rosales</td>\n      <td>Prunus</td>\n      <td>50</td>\n      <td>0.30</td>\n      <td>8.00</td>\n      <td>12.00</td>\n      <td>1.00</td>\n    </tr>\n    <tr>\n      <th>39</th>\n      <td>Peach</td>\n      <td>86</td>\n      <td>Rosaceae</td>\n      <td>Rosales</td>\n      <td>Prunus</td>\n      <td>39</td>\n      <td>0.25</td>\n      <td>8.40</td>\n      <td>9.50</td>\n      <td>0.90</td>\n    </tr>\n    <tr>\n      <th>40</th>\n      <td>Jackfruit</td>\n      <td>94</td>\n      <td>Moraceae</td>\n      <td>Rosales</td>\n      <td>Artocarpus</td>\n      <td>95</td>\n      <td>0.00</td>\n      <td>19.10</td>\n      <td>23.20</td>\n      <td>1.72</td>\n    </tr>\n    <tr>\n      <th>41</th>\n      <td>Horned Melon</td>\n      <td>95</td>\n      <td>Cucurbitaceae</td>\n      <td>Cucurbitales</td>\n      <td>Cucumis</td>\n      <td>44</td>\n      <td>1.26</td>\n      <td>0.50</td>\n      <td>7.56</td>\n      <td>1.78</td>\n    </tr>\n    <tr>\n      <th>42</th>\n      <td>Hazelnut</td>\n      <td>96</td>\n      <td>Betulaceae</td>\n      <td>Fagales</td>\n      <td>Corylus</td>\n      <td>628</td>\n      <td>61.00</td>\n      <td>4.30</td>\n      <td>17.00</td>\n      <td>15.00</td>\n    </tr>\n    <tr>\n      <th>43</th>\n      <td>Pomelo</td>\n      <td>98</td>\n      <td>Rutaceae</td>\n      <td>Sapindales</td>\n      <td>Citrus</td>\n      <td>37</td>\n      <td>0.00</td>\n      <td>8.50</td>\n      <td>9.67</td>\n      <td>0.82</td>\n    </tr>\n    <tr>\n      <th>44</th>\n      <td>Mangosteen</td>\n      <td>99</td>\n      <td>Clusiaceae</td>\n      <td>Malpighiales</td>\n      <td>Garcinia</td>\n      <td>73</td>\n      <td>0.58</td>\n      <td>16.11</td>\n      <td>17.91</td>\n      <td>0.41</td>\n    </tr>\n  </tbody>\n</table>\n</div>"
     },
     "execution_count": 21,
     "metadata": {},
     "output_type": "execute_result"
    }
   ],
   "source": [
    "df2"
   ]
  },
  {
   "cell_type": "markdown",
   "metadata": {
    "pycharm": {
     "name": "#%% md\n"
    }
   },
   "source": [
    "Let's see if we can extract some information from this dataframe. Perhaps, we need to know the family and genus of a cherry.\n"
   ]
  },
  {
   "cell_type": "code",
   "execution_count": 22,
   "metadata": {
    "tags": [],
    "pycharm": {
     "name": "#%%\n"
    }
   },
   "outputs": [],
   "source": [
    "cherry = df2.loc[df2[\"name\"] == 'Cherry']"
   ]
  },
  {
   "cell_type": "code",
   "execution_count": 23,
   "metadata": {
    "tags": [],
    "pycharm": {
     "name": "#%%\n"
    }
   },
   "outputs": [
    {
     "data": {
      "text/plain": "      name  id    family    order   genus  nutritions.calories  \\\n38  Cherry   9  Rosaceae  Rosales  Prunus                   50   \n\n    nutritions.fat  nutritions.sugar  nutritions.carbohydrates  \\\n38             0.3               8.0                      12.0   \n\n    nutritions.protein  \n38                 1.0  ",
      "text/html": "<div>\n<style scoped>\n    .dataframe tbody tr th:only-of-type {\n        vertical-align: middle;\n    }\n\n    .dataframe tbody tr th {\n        vertical-align: top;\n    }\n\n    .dataframe thead th {\n        text-align: right;\n    }\n</style>\n<table border=\"1\" class=\"dataframe\">\n  <thead>\n    <tr style=\"text-align: right;\">\n      <th></th>\n      <th>name</th>\n      <th>id</th>\n      <th>family</th>\n      <th>order</th>\n      <th>genus</th>\n      <th>nutritions.calories</th>\n      <th>nutritions.fat</th>\n      <th>nutritions.sugar</th>\n      <th>nutritions.carbohydrates</th>\n      <th>nutritions.protein</th>\n    </tr>\n  </thead>\n  <tbody>\n    <tr>\n      <th>38</th>\n      <td>Cherry</td>\n      <td>9</td>\n      <td>Rosaceae</td>\n      <td>Rosales</td>\n      <td>Prunus</td>\n      <td>50</td>\n      <td>0.3</td>\n      <td>8.0</td>\n      <td>12.0</td>\n      <td>1.0</td>\n    </tr>\n  </tbody>\n</table>\n</div>"
     },
     "execution_count": 23,
     "metadata": {},
     "output_type": "execute_result"
    }
   ],
   "source": [
    "cherry"
   ]
  },
  {
   "cell_type": "code",
   "execution_count": 24,
   "metadata": {
    "tags": [],
    "pycharm": {
     "name": "#%%\n"
    }
   },
   "outputs": [
    {
     "data": {
      "text/plain": "('Rosaceae', 'Prunus')"
     },
     "execution_count": 24,
     "metadata": {},
     "output_type": "execute_result"
    }
   ],
   "source": [
    "(cherry.iloc[0]['family']) , (cherry.iloc[0]['genus'])"
   ]
  },
  {
   "cell_type": "markdown",
   "metadata": {
    "pycharm": {
     "name": "#%% md\n"
    }
   },
   "source": [
    "## Exercise 2\n",
    "In this Exercise, find out how many calories are contained in a banana.\n"
   ]
  },
  {
   "cell_type": "code",
   "execution_count": 25,
   "metadata": {
    "tags": [],
    "pycharm": {
     "name": "#%%\n"
    }
   },
   "outputs": [
    {
     "data": {
      "text/plain": "96"
     },
     "execution_count": 25,
     "metadata": {},
     "output_type": "execute_result"
    }
   ],
   "source": [
    "# Write your code here\n",
    "df2['name']=='Banana'\n",
    "a=df2[df2['name']=='Banana']\n",
    "a.iloc[0]['nutritions.calories']"
   ]
  },
  {
   "cell_type": "markdown",
   "metadata": {
    "pycharm": {
     "name": "#%% md\n"
    }
   },
   "source": [
    "<details><summary>Click here for the solution</summary>\n",
    "\n",
    "```python\n",
    "cal_banana = df2.loc[df2[\"name\"] == 'Banana']\n",
    "cal_banana.iloc[0]['nutritions.calories']\n",
    "```\n",
    "\n",
    "</details>\n"
   ]
  },
  {
   "cell_type": "markdown",
   "metadata": {
    "pycharm": {
     "name": "#%% md\n"
    }
   },
   "source": [
    "## Exercise 3\n",
    "\n",
    "This [page](https://mixedanalytics.com/blog/list-actually-free-open-no-auth-needed-apis/) contains a list of free public APIs for you to practice. Let us deal with the following example.\n",
    "\n",
    "#### Official Joke API \n",
    "This API returns random jokes from a database. The following URL can be used to retrieve 10 random jokes.\n",
    "\n",
    "https://official-joke-api.appspot.com/jokes/ten\n",
    "\n",
    "1. Using `requests.get(\"url\")` function, load the data from the URL.\n"
   ]
  },
  {
   "cell_type": "code",
   "execution_count": 26,
   "metadata": {
    "tags": [],
    "pycharm": {
     "name": "#%%\n"
    }
   },
   "outputs": [
    {
     "name": "stdout",
     "output_type": "stream",
     "text": [
      "200\n",
      "{'Content-Type': 'application/json; charset=utf-8', 'Vary': 'Accept-Encoding', 'X-Powered-By': 'Express', 'Access-Control-Allow-Origin': '*', 'ETag': 'W/\"4e5-kIDMB9x40YECyouns5eLg0W9l5Y\"', 'Content-Encoding': 'gzip', 'X-Cloud-Trace-Context': '3fcf6cbac8fd2ad5b9e5d22fad9a8468', 'Date': 'Tue, 28 Nov 2023 20:15:24 GMT', 'Server': 'Google Frontend', 'Cache-Control': 'private', 'Alt-Svc': 'h3=\":443\"; ma=2592000,h3-29=\":443\"; ma=2592000', 'Transfer-Encoding': 'chunked'}\n"
     ]
    }
   ],
   "source": [
    "# Write your code here\n",
    "url=\"https://official-joke-api.appspot.com/jokes/ten\"\n",
    "r=requests.get(url)\n",
    "print(r.status_code)\n",
    "print(r.headers)\n",
    "content=r.json()\n",
    "list_joke=[]\n",
    "for i in content:\n",
    "    list_joke.append([i['setup'],i['punchline']])\n",
    "    "
   ]
  },
  {
   "cell_type": "code",
   "execution_count": 27,
   "metadata": {
    "tags": [],
    "pycharm": {
     "name": "#%%\n"
    }
   },
   "outputs": [
    {
     "data": {
      "text/plain": "                                                   0  \\\n0  Why do valley girls hang out in odd numbered g...   \n1                 What do you call cheese by itself?   \n2  A SQL query walks into a bar, walks up to two ...   \n3            I bought some shoes from a drug dealer.   \n4  Why did the A go to the bathroom and come out ...   \n5                Why did the house go to the doctor?   \n6  Why did the Clydesdale give the pony a glass o...   \n7  Knock knock. \\n Who's there? \\n Hatch. \\n Hatc...   \n8                     What do you give a sick lemon?   \n9  What did the Dorito farmer say to the other Do...   \n\n                                                   1  \n0                           Because they can't even.  \n1                                         Provolone.  \n2                                  'Can I join you?'  \n3  I don't know what he laced them with, but I wa...  \n4                   Because he had a vowel movement.  \n5                        It was having window panes.  \n6                     Because he was a little horse!  \n7                                         Bless you!  \n8                                          Lemonaid.  \n9                                        Cool Ranch!  ",
      "text/html": "<div>\n<style scoped>\n    .dataframe tbody tr th:only-of-type {\n        vertical-align: middle;\n    }\n\n    .dataframe tbody tr th {\n        vertical-align: top;\n    }\n\n    .dataframe thead th {\n        text-align: right;\n    }\n</style>\n<table border=\"1\" class=\"dataframe\">\n  <thead>\n    <tr style=\"text-align: right;\">\n      <th></th>\n      <th>0</th>\n      <th>1</th>\n    </tr>\n  </thead>\n  <tbody>\n    <tr>\n      <th>0</th>\n      <td>Why do valley girls hang out in odd numbered g...</td>\n      <td>Because they can't even.</td>\n    </tr>\n    <tr>\n      <th>1</th>\n      <td>What do you call cheese by itself?</td>\n      <td>Provolone.</td>\n    </tr>\n    <tr>\n      <th>2</th>\n      <td>A SQL query walks into a bar, walks up to two ...</td>\n      <td>'Can I join you?'</td>\n    </tr>\n    <tr>\n      <th>3</th>\n      <td>I bought some shoes from a drug dealer.</td>\n      <td>I don't know what he laced them with, but I wa...</td>\n    </tr>\n    <tr>\n      <th>4</th>\n      <td>Why did the A go to the bathroom and come out ...</td>\n      <td>Because he had a vowel movement.</td>\n    </tr>\n    <tr>\n      <th>5</th>\n      <td>Why did the house go to the doctor?</td>\n      <td>It was having window panes.</td>\n    </tr>\n    <tr>\n      <th>6</th>\n      <td>Why did the Clydesdale give the pony a glass o...</td>\n      <td>Because he was a little horse!</td>\n    </tr>\n    <tr>\n      <th>7</th>\n      <td>Knock knock. \\n Who's there? \\n Hatch. \\n Hatc...</td>\n      <td>Bless you!</td>\n    </tr>\n    <tr>\n      <th>8</th>\n      <td>What do you give a sick lemon?</td>\n      <td>Lemonaid.</td>\n    </tr>\n    <tr>\n      <th>9</th>\n      <td>What did the Dorito farmer say to the other Do...</td>\n      <td>Cool Ranch!</td>\n    </tr>\n  </tbody>\n</table>\n</div>"
     },
     "execution_count": 27,
     "metadata": {},
     "output_type": "execute_result"
    }
   ],
   "source": [
    "list_joke=pd.DataFrame(list_joke)\n",
    "list_joke"
   ]
  },
  {
   "cell_type": "markdown",
   "metadata": {
    "pycharm": {
     "name": "#%% md\n"
    }
   },
   "source": [
    "<details><summary>Click here for the solution</summary>\n",
    "\n",
    "```python\n",
    "data2 = requests.get(\"https://official-joke-api.appspot.com/jokes/ten\")\n",
    "```\n",
    "\n",
    "</details>\n"
   ]
  },
  {
   "cell_type": "markdown",
   "metadata": {
    "pycharm": {
     "name": "#%% md\n"
    }
   },
   "source": [
    "2. Retrieve results using `json.loads()` function.\n"
   ]
  },
  {
   "cell_type": "code",
   "execution_count": 39,
   "metadata": {
    "tags": [],
    "pycharm": {
     "name": "#%%\n"
    }
   },
   "outputs": [
    {
     "data": {
      "text/plain": [
       "[{'type': 'general',\n",
       "  'setup': 'Did you hear about the new restaurant on the moon?',\n",
       "  'punchline': 'The food is great, but there’s just no atmosphere.',\n",
       "  'id': 93},\n",
       " {'type': 'general',\n",
       "  'setup': 'Which side of the chicken has more feathers?',\n",
       "  'punchline': 'The outside.',\n",
       "  'id': 300},\n",
       " {'type': 'general',\n",
       "  'setup': 'How do you organize an outer space party?',\n",
       "  'punchline': 'You planet',\n",
       "  'id': 9},\n",
       " {'type': 'general',\n",
       "  'setup': 'What do you get when you cross a bee and a sheep?',\n",
       "  'punchline': 'A bah-humbug.',\n",
       "  'id': 232},\n",
       " {'type': 'general',\n",
       "  'setup': 'Did you hear about the cheese factory that exploded in France?',\n",
       "  'punchline': 'There was nothing left but de Brie.',\n",
       "  'id': 87},\n",
       " {'type': 'general',\n",
       "  'setup': 'I had a dream that I was a muffler last night.',\n",
       "  'punchline': 'I woke up exhausted!',\n",
       "  'id': 54},\n",
       " {'type': 'programming',\n",
       "  'setup': \"['hip', 'hip']\",\n",
       "  'punchline': '(hip hip array)',\n",
       "  'id': 27},\n",
       " {'type': 'general',\n",
       "  'setup': \"Why couldn't the lifeguard save the hippie?\",\n",
       "  'punchline': 'He was too far out, man.',\n",
       "  'id': 316},\n",
       " {'type': 'general',\n",
       "  'setup': 'What do you call a belt made out of watches?',\n",
       "  'punchline': 'A waist of time.',\n",
       "  'id': 4},\n",
       " {'type': 'general',\n",
       "  'setup': \"Do you know what the word 'was' was initially?\",\n",
       "  'punchline': 'Before was was was was was is.',\n",
       "  'id': 37}]"
      ]
     },
     "execution_count": 39,
     "metadata": {},
     "output_type": "execute_result"
    }
   ],
   "source": [
    "# Write your code here\n",
    "data2 = requests.get(\"https://official-joke-api.appspot.com/jokes/ten\")\n",
    "results2 = json.loads(data2.text)\n",
    "results2"
   ]
  },
  {
   "cell_type": "markdown",
   "metadata": {
    "pycharm": {
     "name": "#%% md\n"
    }
   },
   "source": [
    "<details><summary>Click here for the solution</summary>\n",
    "\n",
    "```python\n",
    "results2 = json.loads(data2.text)\n",
    "```\n",
    "\n",
    "</details>\n"
   ]
  },
  {
   "cell_type": "markdown",
   "metadata": {
    "pycharm": {
     "name": "#%% md\n"
    }
   },
   "source": [
    "3. Convert json data into *pandas* data frame. Drop the type and id columns.\n"
   ]
  },
  {
   "cell_type": "code",
   "execution_count": 40,
   "metadata": {
    "tags": [],
    "pycharm": {
     "name": "#%%\n"
    }
   },
   "outputs": [
    {
     "data": {
      "text/html": [
       "<div>\n",
       "<style scoped>\n",
       "    .dataframe tbody tr th:only-of-type {\n",
       "        vertical-align: middle;\n",
       "    }\n",
       "\n",
       "    .dataframe tbody tr th {\n",
       "        vertical-align: top;\n",
       "    }\n",
       "\n",
       "    .dataframe thead th {\n",
       "        text-align: right;\n",
       "    }\n",
       "</style>\n",
       "<table border=\"1\" class=\"dataframe\">\n",
       "  <thead>\n",
       "    <tr style=\"text-align: right;\">\n",
       "      <th></th>\n",
       "      <th>setup</th>\n",
       "      <th>punchline</th>\n",
       "    </tr>\n",
       "  </thead>\n",
       "  <tbody>\n",
       "    <tr>\n",
       "      <th>0</th>\n",
       "      <td>Did you hear about the new restaurant on the m...</td>\n",
       "      <td>The food is great, but there’s just no atmosph...</td>\n",
       "    </tr>\n",
       "    <tr>\n",
       "      <th>1</th>\n",
       "      <td>Which side of the chicken has more feathers?</td>\n",
       "      <td>The outside.</td>\n",
       "    </tr>\n",
       "    <tr>\n",
       "      <th>2</th>\n",
       "      <td>How do you organize an outer space party?</td>\n",
       "      <td>You planet</td>\n",
       "    </tr>\n",
       "    <tr>\n",
       "      <th>3</th>\n",
       "      <td>What do you get when you cross a bee and a sheep?</td>\n",
       "      <td>A bah-humbug.</td>\n",
       "    </tr>\n",
       "    <tr>\n",
       "      <th>4</th>\n",
       "      <td>Did you hear about the cheese factory that exp...</td>\n",
       "      <td>There was nothing left but de Brie.</td>\n",
       "    </tr>\n",
       "    <tr>\n",
       "      <th>5</th>\n",
       "      <td>I had a dream that I was a muffler last night.</td>\n",
       "      <td>I woke up exhausted!</td>\n",
       "    </tr>\n",
       "    <tr>\n",
       "      <th>6</th>\n",
       "      <td>['hip', 'hip']</td>\n",
       "      <td>(hip hip array)</td>\n",
       "    </tr>\n",
       "    <tr>\n",
       "      <th>7</th>\n",
       "      <td>Why couldn't the lifeguard save the hippie?</td>\n",
       "      <td>He was too far out, man.</td>\n",
       "    </tr>\n",
       "    <tr>\n",
       "      <th>8</th>\n",
       "      <td>What do you call a belt made out of watches?</td>\n",
       "      <td>A waist of time.</td>\n",
       "    </tr>\n",
       "    <tr>\n",
       "      <th>9</th>\n",
       "      <td>Do you know what the word 'was' was initially?</td>\n",
       "      <td>Before was was was was was is.</td>\n",
       "    </tr>\n",
       "  </tbody>\n",
       "</table>\n",
       "</div>"
      ],
      "text/plain": [
       "                                               setup  \\\n",
       "0  Did you hear about the new restaurant on the m...   \n",
       "1       Which side of the chicken has more feathers?   \n",
       "2          How do you organize an outer space party?   \n",
       "3  What do you get when you cross a bee and a sheep?   \n",
       "4  Did you hear about the cheese factory that exp...   \n",
       "5     I had a dream that I was a muffler last night.   \n",
       "6                                     ['hip', 'hip']   \n",
       "7        Why couldn't the lifeguard save the hippie?   \n",
       "8       What do you call a belt made out of watches?   \n",
       "9     Do you know what the word 'was' was initially?   \n",
       "\n",
       "                                           punchline  \n",
       "0  The food is great, but there’s just no atmosph...  \n",
       "1                                       The outside.  \n",
       "2                                         You planet  \n",
       "3                                      A bah-humbug.  \n",
       "4                There was nothing left but de Brie.  \n",
       "5                               I woke up exhausted!  \n",
       "6                                    (hip hip array)  \n",
       "7                           He was too far out, man.  \n",
       "8                                   A waist of time.  \n",
       "9                     Before was was was was was is.  "
      ]
     },
     "execution_count": 40,
     "metadata": {},
     "output_type": "execute_result"
    }
   ],
   "source": [
    "# Write your code here\n",
    "df3 = pd.DataFrame(results2)\n",
    "df3.drop(columns=[\"type\",\"id\"],inplace=True)\n",
    "df3"
   ]
  },
  {
   "cell_type": "markdown",
   "metadata": {
    "pycharm": {
     "name": "#%% md\n"
    }
   },
   "source": [
    "<details><summary>Click here for the solution</summary>\n",
    "\n",
    "```python\n",
    "df3 = pd.DataFrame(results2)\n",
    "df3.drop(columns=[\"type\",\"id\"],inplace=True)\n",
    "df3\n",
    "```\n",
    "\n",
    "</details>\n"
   ]
  },
  {
   "cell_type": "markdown",
   "metadata": {
    "pycharm": {
     "name": "#%% md\n"
    }
   },
   "source": [
    "# Congratulations! - You have completed the lab\n"
   ]
  },
  {
   "cell_type": "markdown",
   "metadata": {
    "pycharm": {
     "name": "#%% md\n"
    }
   },
   "source": [
    "## Author\n",
    "<a href=\"https://www.linkedin.com/in/svitlana-kramar\" target=\"_blank\">Svitlana Kramar</a>\n",
    "\n",
    "Svitlana is a master’s degree Data Science and Analytics student at University of Calgary, who enjoys travelling, learning new languages and cultures and loves spreading her passion for Data Science.\n",
    "\n",
    "## Additional Contributor\n",
    "<a href=\"https://www.linkedin.com/in/abhishek-gagneja-23051987/\" target=\"_blank\">Abhishek Gagneja</a>\n"
   ]
  },
  {
   "cell_type": "markdown",
   "metadata": {
    "pycharm": {
     "name": "#%% md\n"
    }
   },
   "source": [
    "Copyright © 2023 IBM Corporation. All rights reserved.\n"
   ]
  }
 ],
 "metadata": {
  "kernelspec": {
   "name": "python3",
   "language": "python",
   "display_name": "Python 3 (ipykernel)"
  },
  "language_info": {
   "codemirror_mode": {
    "name": "ipython",
    "version": 3
   },
   "file_extension": ".py",
   "mimetype": "text/x-python",
   "name": "python",
   "nbconvert_exporter": "python",
   "pygments_lexer": "ipython3",
   "version": "3.7.12"
  }
 },
 "nbformat": 4,
 "nbformat_minor": 4
}