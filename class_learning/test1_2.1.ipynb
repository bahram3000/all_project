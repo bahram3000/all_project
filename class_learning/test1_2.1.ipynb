{
 "cells": [
  {
   "cell_type": "code",
   "execution_count": 1,
   "metadata": {
    "collapsed": true,
    "pycharm": {
     "name": "#%%\n"
    }
   },
   "outputs": [],
   "source": [
    "import numpy as np\n",
    "import pandas as pd\n",
    "import matplotlib.pyplot as plt"
   ]
  },
  {
   "cell_type": "code",
   "execution_count": 2,
   "outputs": [],
   "source": [
    "ret_market = pd.read_excel('F:\\my project\\dataset\\my pro-datasets\\\\tse\\\\all_market_return.xlsx')"
   ],
   "metadata": {
    "collapsed": false,
    "pycharm": {
     "name": "#%%\n"
    }
   }
  },
  {
   "cell_type": "code",
   "execution_count": 3,
   "outputs": [
    {
     "data": {
      "text/plain": "          J-Date  Shakhes_kol     آباد     آبادا        آپ      آسیا  \\\n0     1387-09-16          NaN      NaN       NaN       NaN       NaN   \n1     1387-09-17    -0.005230      NaN       NaN       NaN       NaN   \n2     1387-09-18    -0.004491      NaN       NaN       NaN       NaN   \n3     1387-09-20    -0.007152      NaN       NaN       NaN       NaN   \n4     1387-09-23    -0.005652      NaN       NaN       NaN       NaN   \n...          ...          ...      ...       ...       ...       ...   \n3495  1402-03-27     0.000319  0.00000 -0.028044 -0.011066 -0.036150   \n3496  1402-03-28    -0.009111  0.00000 -0.017464 -0.016277  0.097046   \n3497  1402-03-29     0.000605  0.00000 -0.006955 -0.010341  0.005556   \n3498  1402-03-30     0.001257  0.00000  0.019455 -0.005225 -0.025924   \n3499  1402-03-31     0.003205  0.05544 -0.015267  0.018908 -0.006981   \n\n          اپال     اتکام     اخابر   اردستان  ...     وسپهر     وطوبی  \\\n0          NaN       NaN       NaN       NaN  ...       NaN       NaN   \n1          NaN       NaN       NaN       NaN  ...       NaN       NaN   \n2          NaN       NaN       NaN       NaN  ...       NaN       NaN   \n3          NaN       NaN       NaN       NaN  ...       NaN       NaN   \n4          NaN       NaN       NaN       NaN  ...       NaN       NaN   \n...        ...       ...       ...       ...  ...       ...       ...   \n3495  0.014570 -0.003436 -0.040977  0.012572  ... -0.039735 -0.010999   \n3496  0.008486 -0.010345 -0.020542  0.010067  ...  0.004138  0.000953   \n3497 -0.018770  0.048780  0.000000  0.000000  ...  0.053571 -0.030159   \n3498  0.011873 -0.014950  0.006711  0.001993  ...  0.001304  0.018003   \n3499 -0.010430  0.032040 -0.020000  0.011273  ... -0.026042 -0.025723   \n\n        وکبهمن     وگستر    ولبهمن     ولشرق     ومعلم      وملل    وهامون  \\\n0          NaN       NaN       NaN       NaN       NaN       NaN       NaN   \n1          NaN       NaN       NaN       NaN       NaN       NaN       NaN   \n2          NaN       NaN       NaN       NaN       NaN       NaN       NaN   \n3          NaN       NaN       NaN       NaN       NaN       NaN       NaN   \n4          NaN       NaN       NaN       NaN       NaN       NaN       NaN   \n...        ...       ...       ...       ...       ...       ...       ...   \n3495 -0.027879  0.124117 -0.005682 -0.050314  0.000000 -0.014232 -0.048774   \n3496  0.000000  0.007859 -0.062338  0.031788  0.000000 -0.017984 -0.027162   \n3497  0.000000  0.007797  0.052355 -0.019255  0.000000 -0.005159 -0.014245   \n3498  0.000000 -0.013540  0.010003  0.011780 -0.009107 -0.018667 -0.018497   \n3499 -0.023742 -0.007843  0.063331  0.037516 -0.039236 -0.011625 -0.004711   \n\n          وهور  \n0          NaN  \n1          NaN  \n2          NaN  \n3          NaN  \n4          NaN  \n...        ...  \n3495  0.020171  \n3496  0.000599  \n3497  0.045509  \n3498  0.036655  \n3499 -0.031492  \n\n[3500 rows x 556 columns]",
      "text/html": "<div>\n<style scoped>\n    .dataframe tbody tr th:only-of-type {\n        vertical-align: middle;\n    }\n\n    .dataframe tbody tr th {\n        vertical-align: top;\n    }\n\n    .dataframe thead th {\n        text-align: right;\n    }\n</style>\n<table border=\"1\" class=\"dataframe\">\n  <thead>\n    <tr style=\"text-align: right;\">\n      <th></th>\n      <th>J-Date</th>\n      <th>Shakhes_kol</th>\n      <th>آباد</th>\n      <th>آبادا</th>\n      <th>آپ</th>\n      <th>آسیا</th>\n      <th>اپال</th>\n      <th>اتکام</th>\n      <th>اخابر</th>\n      <th>اردستان</th>\n      <th>...</th>\n      <th>وسپهر</th>\n      <th>وطوبی</th>\n      <th>وکبهمن</th>\n      <th>وگستر</th>\n      <th>ولبهمن</th>\n      <th>ولشرق</th>\n      <th>ومعلم</th>\n      <th>وملل</th>\n      <th>وهامون</th>\n      <th>وهور</th>\n    </tr>\n  </thead>\n  <tbody>\n    <tr>\n      <th>0</th>\n      <td>1387-09-16</td>\n      <td>NaN</td>\n      <td>NaN</td>\n      <td>NaN</td>\n      <td>NaN</td>\n      <td>NaN</td>\n      <td>NaN</td>\n      <td>NaN</td>\n      <td>NaN</td>\n      <td>NaN</td>\n      <td>...</td>\n      <td>NaN</td>\n      <td>NaN</td>\n      <td>NaN</td>\n      <td>NaN</td>\n      <td>NaN</td>\n      <td>NaN</td>\n      <td>NaN</td>\n      <td>NaN</td>\n      <td>NaN</td>\n      <td>NaN</td>\n    </tr>\n    <tr>\n      <th>1</th>\n      <td>1387-09-17</td>\n      <td>-0.005230</td>\n      <td>NaN</td>\n      <td>NaN</td>\n      <td>NaN</td>\n      <td>NaN</td>\n      <td>NaN</td>\n      <td>NaN</td>\n      <td>NaN</td>\n      <td>NaN</td>\n      <td>...</td>\n      <td>NaN</td>\n      <td>NaN</td>\n      <td>NaN</td>\n      <td>NaN</td>\n      <td>NaN</td>\n      <td>NaN</td>\n      <td>NaN</td>\n      <td>NaN</td>\n      <td>NaN</td>\n      <td>NaN</td>\n    </tr>\n    <tr>\n      <th>2</th>\n      <td>1387-09-18</td>\n      <td>-0.004491</td>\n      <td>NaN</td>\n      <td>NaN</td>\n      <td>NaN</td>\n      <td>NaN</td>\n      <td>NaN</td>\n      <td>NaN</td>\n      <td>NaN</td>\n      <td>NaN</td>\n      <td>...</td>\n      <td>NaN</td>\n      <td>NaN</td>\n      <td>NaN</td>\n      <td>NaN</td>\n      <td>NaN</td>\n      <td>NaN</td>\n      <td>NaN</td>\n      <td>NaN</td>\n      <td>NaN</td>\n      <td>NaN</td>\n    </tr>\n    <tr>\n      <th>3</th>\n      <td>1387-09-20</td>\n      <td>-0.007152</td>\n      <td>NaN</td>\n      <td>NaN</td>\n      <td>NaN</td>\n      <td>NaN</td>\n      <td>NaN</td>\n      <td>NaN</td>\n      <td>NaN</td>\n      <td>NaN</td>\n      <td>...</td>\n      <td>NaN</td>\n      <td>NaN</td>\n      <td>NaN</td>\n      <td>NaN</td>\n      <td>NaN</td>\n      <td>NaN</td>\n      <td>NaN</td>\n      <td>NaN</td>\n      <td>NaN</td>\n      <td>NaN</td>\n    </tr>\n    <tr>\n      <th>4</th>\n      <td>1387-09-23</td>\n      <td>-0.005652</td>\n      <td>NaN</td>\n      <td>NaN</td>\n      <td>NaN</td>\n      <td>NaN</td>\n      <td>NaN</td>\n      <td>NaN</td>\n      <td>NaN</td>\n      <td>NaN</td>\n      <td>...</td>\n      <td>NaN</td>\n      <td>NaN</td>\n      <td>NaN</td>\n      <td>NaN</td>\n      <td>NaN</td>\n      <td>NaN</td>\n      <td>NaN</td>\n      <td>NaN</td>\n      <td>NaN</td>\n      <td>NaN</td>\n    </tr>\n    <tr>\n      <th>...</th>\n      <td>...</td>\n      <td>...</td>\n      <td>...</td>\n      <td>...</td>\n      <td>...</td>\n      <td>...</td>\n      <td>...</td>\n      <td>...</td>\n      <td>...</td>\n      <td>...</td>\n      <td>...</td>\n      <td>...</td>\n      <td>...</td>\n      <td>...</td>\n      <td>...</td>\n      <td>...</td>\n      <td>...</td>\n      <td>...</td>\n      <td>...</td>\n      <td>...</td>\n      <td>...</td>\n    </tr>\n    <tr>\n      <th>3495</th>\n      <td>1402-03-27</td>\n      <td>0.000319</td>\n      <td>0.00000</td>\n      <td>-0.028044</td>\n      <td>-0.011066</td>\n      <td>-0.036150</td>\n      <td>0.014570</td>\n      <td>-0.003436</td>\n      <td>-0.040977</td>\n      <td>0.012572</td>\n      <td>...</td>\n      <td>-0.039735</td>\n      <td>-0.010999</td>\n      <td>-0.027879</td>\n      <td>0.124117</td>\n      <td>-0.005682</td>\n      <td>-0.050314</td>\n      <td>0.000000</td>\n      <td>-0.014232</td>\n      <td>-0.048774</td>\n      <td>0.020171</td>\n    </tr>\n    <tr>\n      <th>3496</th>\n      <td>1402-03-28</td>\n      <td>-0.009111</td>\n      <td>0.00000</td>\n      <td>-0.017464</td>\n      <td>-0.016277</td>\n      <td>0.097046</td>\n      <td>0.008486</td>\n      <td>-0.010345</td>\n      <td>-0.020542</td>\n      <td>0.010067</td>\n      <td>...</td>\n      <td>0.004138</td>\n      <td>0.000953</td>\n      <td>0.000000</td>\n      <td>0.007859</td>\n      <td>-0.062338</td>\n      <td>0.031788</td>\n      <td>0.000000</td>\n      <td>-0.017984</td>\n      <td>-0.027162</td>\n      <td>0.000599</td>\n    </tr>\n    <tr>\n      <th>3497</th>\n      <td>1402-03-29</td>\n      <td>0.000605</td>\n      <td>0.00000</td>\n      <td>-0.006955</td>\n      <td>-0.010341</td>\n      <td>0.005556</td>\n      <td>-0.018770</td>\n      <td>0.048780</td>\n      <td>0.000000</td>\n      <td>0.000000</td>\n      <td>...</td>\n      <td>0.053571</td>\n      <td>-0.030159</td>\n      <td>0.000000</td>\n      <td>0.007797</td>\n      <td>0.052355</td>\n      <td>-0.019255</td>\n      <td>0.000000</td>\n      <td>-0.005159</td>\n      <td>-0.014245</td>\n      <td>0.045509</td>\n    </tr>\n    <tr>\n      <th>3498</th>\n      <td>1402-03-30</td>\n      <td>0.001257</td>\n      <td>0.00000</td>\n      <td>0.019455</td>\n      <td>-0.005225</td>\n      <td>-0.025924</td>\n      <td>0.011873</td>\n      <td>-0.014950</td>\n      <td>0.006711</td>\n      <td>0.001993</td>\n      <td>...</td>\n      <td>0.001304</td>\n      <td>0.018003</td>\n      <td>0.000000</td>\n      <td>-0.013540</td>\n      <td>0.010003</td>\n      <td>0.011780</td>\n      <td>-0.009107</td>\n      <td>-0.018667</td>\n      <td>-0.018497</td>\n      <td>0.036655</td>\n    </tr>\n    <tr>\n      <th>3499</th>\n      <td>1402-03-31</td>\n      <td>0.003205</td>\n      <td>0.05544</td>\n      <td>-0.015267</td>\n      <td>0.018908</td>\n      <td>-0.006981</td>\n      <td>-0.010430</td>\n      <td>0.032040</td>\n      <td>-0.020000</td>\n      <td>0.011273</td>\n      <td>...</td>\n      <td>-0.026042</td>\n      <td>-0.025723</td>\n      <td>-0.023742</td>\n      <td>-0.007843</td>\n      <td>0.063331</td>\n      <td>0.037516</td>\n      <td>-0.039236</td>\n      <td>-0.011625</td>\n      <td>-0.004711</td>\n      <td>-0.031492</td>\n    </tr>\n  </tbody>\n</table>\n<p>3500 rows × 556 columns</p>\n</div>"
     },
     "execution_count": 3,
     "metadata": {},
     "output_type": "execute_result"
    }
   ],
   "source": [
    "ret_market"
   ],
   "metadata": {
    "collapsed": false,
    "pycharm": {
     "name": "#%%\n"
    }
   }
  },
  {
   "cell_type": "code",
   "execution_count": 4,
   "outputs": [
    {
     "data": {
      "text/plain": "             mean_ret\nShakhes_kol  0.001621\nآباد         0.001595\nآبادا        0.000187\nآپ           0.000620\nآسیا         0.001381\n...               ...\nولشرق        0.001842\nومعلم        0.000882\nوملل         0.000903\nوهامون       0.001803\nوهور         0.001495\n\n[555 rows x 1 columns]",
      "text/html": "<div>\n<style scoped>\n    .dataframe tbody tr th:only-of-type {\n        vertical-align: middle;\n    }\n\n    .dataframe tbody tr th {\n        vertical-align: top;\n    }\n\n    .dataframe thead th {\n        text-align: right;\n    }\n</style>\n<table border=\"1\" class=\"dataframe\">\n  <thead>\n    <tr style=\"text-align: right;\">\n      <th></th>\n      <th>mean_ret</th>\n    </tr>\n  </thead>\n  <tbody>\n    <tr>\n      <th>Shakhes_kol</th>\n      <td>0.001621</td>\n    </tr>\n    <tr>\n      <th>آباد</th>\n      <td>0.001595</td>\n    </tr>\n    <tr>\n      <th>آبادا</th>\n      <td>0.000187</td>\n    </tr>\n    <tr>\n      <th>آپ</th>\n      <td>0.000620</td>\n    </tr>\n    <tr>\n      <th>آسیا</th>\n      <td>0.001381</td>\n    </tr>\n    <tr>\n      <th>...</th>\n      <td>...</td>\n    </tr>\n    <tr>\n      <th>ولشرق</th>\n      <td>0.001842</td>\n    </tr>\n    <tr>\n      <th>ومعلم</th>\n      <td>0.000882</td>\n    </tr>\n    <tr>\n      <th>وملل</th>\n      <td>0.000903</td>\n    </tr>\n    <tr>\n      <th>وهامون</th>\n      <td>0.001803</td>\n    </tr>\n    <tr>\n      <th>وهور</th>\n      <td>0.001495</td>\n    </tr>\n  </tbody>\n</table>\n<p>555 rows × 1 columns</p>\n</div>"
     },
     "execution_count": 4,
     "metadata": {},
     "output_type": "execute_result"
    }
   ],
   "source": [
    "mean_return_market = pd.Series(np.array([np.mean(ret_market[i]) for i in ret_market.columns[1:]]),\n",
    "                               index=ret_market.columns[1:])\n",
    "mean_return_market = pd.DataFrame(mean_return_market, columns=['mean_ret'])\n",
    "mean_return_market"
   ],
   "metadata": {
    "collapsed": false,
    "pycharm": {
     "name": "#%%\n"
    }
   }
  },
  {
   "cell_type": "code",
   "execution_count": 5,
   "outputs": [
    {
     "data": {
      "text/plain": "              std_ret\nShakhes_kol  0.010698\nآباد         0.028455\nآبادا        0.030162\nآپ           0.033341\nآسیا         0.043701\n...               ...\nولشرق        0.035234\nومعلم        0.037324\nوملل         0.034084\nوهامون       0.031826\nوهور         0.036573\n\n[555 rows x 1 columns]",
      "text/html": "<div>\n<style scoped>\n    .dataframe tbody tr th:only-of-type {\n        vertical-align: middle;\n    }\n\n    .dataframe tbody tr th {\n        vertical-align: top;\n    }\n\n    .dataframe thead th {\n        text-align: right;\n    }\n</style>\n<table border=\"1\" class=\"dataframe\">\n  <thead>\n    <tr style=\"text-align: right;\">\n      <th></th>\n      <th>std_ret</th>\n    </tr>\n  </thead>\n  <tbody>\n    <tr>\n      <th>Shakhes_kol</th>\n      <td>0.010698</td>\n    </tr>\n    <tr>\n      <th>آباد</th>\n      <td>0.028455</td>\n    </tr>\n    <tr>\n      <th>آبادا</th>\n      <td>0.030162</td>\n    </tr>\n    <tr>\n      <th>آپ</th>\n      <td>0.033341</td>\n    </tr>\n    <tr>\n      <th>آسیا</th>\n      <td>0.043701</td>\n    </tr>\n    <tr>\n      <th>...</th>\n      <td>...</td>\n    </tr>\n    <tr>\n      <th>ولشرق</th>\n      <td>0.035234</td>\n    </tr>\n    <tr>\n      <th>ومعلم</th>\n      <td>0.037324</td>\n    </tr>\n    <tr>\n      <th>وملل</th>\n      <td>0.034084</td>\n    </tr>\n    <tr>\n      <th>وهامون</th>\n      <td>0.031826</td>\n    </tr>\n    <tr>\n      <th>وهور</th>\n      <td>0.036573</td>\n    </tr>\n  </tbody>\n</table>\n<p>555 rows × 1 columns</p>\n</div>"
     },
     "execution_count": 5,
     "metadata": {},
     "output_type": "execute_result"
    }
   ],
   "source": [
    "std_return_market = pd.Series(np.array([np.std(ret_market[i]) for i in ret_market.columns[1:]]),\n",
    "                              index=ret_market.columns[1:])\n",
    "std_return_market = pd.DataFrame(std_return_market, columns=['std_ret'])\n",
    "std_return_market"
   ],
   "metadata": {
    "collapsed": false,
    "pycharm": {
     "name": "#%%\n"
    }
   }
  },
  {
   "cell_type": "code",
   "execution_count": 6,
   "outputs": [
    {
     "data": {
      "text/plain": "[<matplotlib.lines.Line2D at 0x2182e913220>]"
     },
     "execution_count": 6,
     "metadata": {},
     "output_type": "execute_result"
    },
    {
     "data": {
      "text/plain": "<Figure size 640x480 with 1 Axes>",
      "image/png": "[encoded data removed]"
     },
     "metadata": {},
     "output_type": "display_data"
    }
   ],
   "source": [
    "plt.plot(mean_return_market.mean_ret.values, c='blue')\n",
    "plt.plot(std_return_market.std_ret.values, c='red')"
   ],
   "metadata": {
    "collapsed": false,
    "pycharm": {
     "name": "#%%\n"
    }
   }
  },
  {
   "cell_type": "code",
   "execution_count": 7,
   "outputs": [
    {
     "data": {
      "text/plain": "شهر        0.049830\nوالماس     0.034303\nزفجر       0.034278\nعالیس      0.030332\nپی پاد     0.029089\n             ...   \nوسکرمان   -0.001238\nوساشرقی   -0.001357\nفغدیر     -0.001583\nوسکرشا    -0.001587\nغزر       -0.001732\nName: mean_ret, Length: 555, dtype: float64"
     },
     "execution_count": 7,
     "metadata": {},
     "output_type": "execute_result"
    }
   ],
   "source": [
    "mean_return_market.mean_ret.sort_values(ascending=False)"
   ],
   "metadata": {
    "collapsed": false,
    "pycharm": {
     "name": "#%%\n"
    }
   }
  },
  {
   "cell_type": "code",
   "execution_count": 8,
   "outputs": [
    {
     "data": {
      "text/plain": "شهر        0.000109\nوسمازن     0.002692\nوسبوشهر    0.003852\nوسکهبو     0.003967\nوسفارس     0.004035\n             ...   \nوالماس     0.066738\nپارتا      0.071376\nپی پاد     0.077016\nشتران      0.139002\nغنوش       0.184748\nName: std_ret, Length: 555, dtype: float64"
     },
     "execution_count": 8,
     "metadata": {},
     "output_type": "execute_result"
    }
   ],
   "source": [
    "std_return_market.std_ret.sort_values()"
   ],
   "metadata": {
    "collapsed": false,
    "pycharm": {
     "name": "#%%\n"
    }
   }
  },
  {
   "cell_type": "code",
   "execution_count": 9,
   "outputs": [
    {
     "data": {
      "text/plain": "0.049830059645987274"
     },
     "execution_count": 9,
     "metadata": {},
     "output_type": "execute_result"
    }
   ],
   "source": [
    "max_ret = np.max(mean_return_market.mean_ret)\n",
    "max_ret"
   ],
   "metadata": {
    "collapsed": false,
    "pycharm": {
     "name": "#%%\n"
    }
   }
  },
  {
   "cell_type": "code",
   "execution_count": 10,
   "outputs": [
    {
     "data": {
      "text/plain": "0.00010903863342587331"
     },
     "execution_count": 10,
     "metadata": {},
     "output_type": "execute_result"
    }
   ],
   "source": [
    "min_var = np.min(std_return_market.std_ret)\n",
    "min_var"
   ],
   "metadata": {
    "collapsed": false,
    "pycharm": {
     "name": "#%%\n"
    }
   }
  },
  {
   "cell_type": "code",
   "execution_count": 11,
   "outputs": [
    {
     "data": {
      "text/plain": "شهر    0.000109\nName: std_ret, dtype: float64"
     },
     "execution_count": 11,
     "metadata": {},
     "output_type": "execute_result"
    }
   ],
   "source": [
    "std_return_market.std_ret[mean_return_market[mean_return_market.mean_ret == max_ret].index]"
   ],
   "metadata": {
    "collapsed": false,
    "pycharm": {
     "name": "#%%\n"
    }
   }
  },
  {
   "cell_type": "code",
   "execution_count": 12,
   "outputs": [
    {
     "data": {
      "text/plain": "0.001559710713263347"
     },
     "execution_count": 12,
     "metadata": {},
     "output_type": "execute_result"
    }
   ],
   "source": [
    "np.quantile(mean_return_market.mean_ret, 0.75)"
   ],
   "metadata": {
    "collapsed": false,
    "pycharm": {
     "name": "#%%\n"
    }
   }
  },
  {
   "cell_type": "code",
   "execution_count": 13,
   "outputs": [
    {
     "data": {
      "text/plain": "0.029753261972889238"
     },
     "execution_count": 13,
     "metadata": {},
     "output_type": "execute_result"
    }
   ],
   "source": [
    "np.quantile(std_return_market, 0.25)"
   ],
   "metadata": {
    "collapsed": false,
    "pycharm": {
     "name": "#%%\n"
    }
   }
  },
  {
   "cell_type": "code",
   "execution_count": 14,
   "outputs": [
    {
     "data": {
      "text/plain": "             mean_ret\nShakhes_kol  0.001621\nآباد         0.001595\nآبادا             NaN\nآپ                NaN\nآسیا              NaN\n...               ...\nولشرق        0.001842\nومعلم             NaN\nوملل              NaN\nوهامون       0.001803\nوهور              NaN\n\n[555 rows x 1 columns]",
      "text/html": "<div>\n<style scoped>\n    .dataframe tbody tr th:only-of-type {\n        vertical-align: middle;\n    }\n\n    .dataframe tbody tr th {\n        vertical-align: top;\n    }\n\n    .dataframe thead th {\n        text-align: right;\n    }\n</style>\n<table border=\"1\" class=\"dataframe\">\n  <thead>\n    <tr style=\"text-align: right;\">\n      <th></th>\n      <th>mean_ret</th>\n    </tr>\n  </thead>\n  <tbody>\n    <tr>\n      <th>Shakhes_kol</th>\n      <td>0.001621</td>\n    </tr>\n    <tr>\n      <th>آباد</th>\n      <td>0.001595</td>\n    </tr>\n    <tr>\n      <th>آبادا</th>\n      <td>NaN</td>\n    </tr>\n    <tr>\n      <th>آپ</th>\n      <td>NaN</td>\n    </tr>\n    <tr>\n      <th>آسیا</th>\n      <td>NaN</td>\n    </tr>\n    <tr>\n      <th>...</th>\n      <td>...</td>\n    </tr>\n    <tr>\n      <th>ولشرق</th>\n      <td>0.001842</td>\n    </tr>\n    <tr>\n      <th>ومعلم</th>\n      <td>NaN</td>\n    </tr>\n    <tr>\n      <th>وملل</th>\n      <td>NaN</td>\n    </tr>\n    <tr>\n      <th>وهامون</th>\n      <td>0.001803</td>\n    </tr>\n    <tr>\n      <th>وهور</th>\n      <td>NaN</td>\n    </tr>\n  </tbody>\n</table>\n<p>555 rows × 1 columns</p>\n</div>"
     },
     "execution_count": 14,
     "metadata": {},
     "output_type": "execute_result"
    }
   ],
   "source": [
    "mean_return_market[mean_return_market > np.quantile(mean_return_market.mean_ret, 0.75)]"
   ],
   "metadata": {
    "collapsed": false,
    "pycharm": {
     "name": "#%%\n"
    }
   }
  },
  {
   "cell_type": "code",
   "execution_count": 15,
   "outputs": [
    {
     "data": {
      "text/plain": "              std_ret\nShakhes_kol  0.010698\nآباد         0.028455\nآبادا             NaN\nآپ                NaN\nآسیا              NaN\n...               ...\nولشرق             NaN\nومعلم             NaN\nوملل              NaN\nوهامون            NaN\nوهور              NaN\n\n[555 rows x 1 columns]",
      "text/html": "<div>\n<style scoped>\n    .dataframe tbody tr th:only-of-type {\n        vertical-align: middle;\n    }\n\n    .dataframe tbody tr th {\n        vertical-align: top;\n    }\n\n    .dataframe thead th {\n        text-align: right;\n    }\n</style>\n<table border=\"1\" class=\"dataframe\">\n  <thead>\n    <tr style=\"text-align: right;\">\n      <th></th>\n      <th>std_ret</th>\n    </tr>\n  </thead>\n  <tbody>\n    <tr>\n      <th>Shakhes_kol</th>\n      <td>0.010698</td>\n    </tr>\n    <tr>\n      <th>آباد</th>\n      <td>0.028455</td>\n    </tr>\n    <tr>\n      <th>آبادا</th>\n      <td>NaN</td>\n    </tr>\n    <tr>\n      <th>آپ</th>\n      <td>NaN</td>\n    </tr>\n    <tr>\n      <th>آسیا</th>\n      <td>NaN</td>\n    </tr>\n    <tr>\n      <th>...</th>\n      <td>...</td>\n    </tr>\n    <tr>\n      <th>ولشرق</th>\n      <td>NaN</td>\n    </tr>\n    <tr>\n      <th>ومعلم</th>\n      <td>NaN</td>\n    </tr>\n    <tr>\n      <th>وملل</th>\n      <td>NaN</td>\n    </tr>\n    <tr>\n      <th>وهامون</th>\n      <td>NaN</td>\n    </tr>\n    <tr>\n      <th>وهور</th>\n      <td>NaN</td>\n    </tr>\n  </tbody>\n</table>\n<p>555 rows × 1 columns</p>\n</div>"
     },
     "execution_count": 15,
     "metadata": {},
     "output_type": "execute_result"
    }
   ],
   "source": [
    "std_return_market[std_return_market < np.quantile(std_return_market, 0.25)]"
   ],
   "metadata": {
    "collapsed": false,
    "pycharm": {
     "name": "#%%\n"
    }
   }
  },
  {
   "cell_type": "code",
   "execution_count": 16,
   "outputs": [
    {
     "data": {
      "text/plain": "             mean_ret\nShakhes_kol      True\nآباد             True\nآبادا           False\nآپ              False\nآسیا            False\n...               ...\nولشرق            True\nومعلم           False\nوملل            False\nوهامون           True\nوهور            False\n\n[555 rows x 1 columns]",
      "text/html": "<div>\n<style scoped>\n    .dataframe tbody tr th:only-of-type {\n        vertical-align: middle;\n    }\n\n    .dataframe tbody tr th {\n        vertical-align: top;\n    }\n\n    .dataframe thead th {\n        text-align: right;\n    }\n</style>\n<table border=\"1\" class=\"dataframe\">\n  <thead>\n    <tr style=\"text-align: right;\">\n      <th></th>\n      <th>mean_ret</th>\n    </tr>\n  </thead>\n  <tbody>\n    <tr>\n      <th>Shakhes_kol</th>\n      <td>True</td>\n    </tr>\n    <tr>\n      <th>آباد</th>\n      <td>True</td>\n    </tr>\n    <tr>\n      <th>آبادا</th>\n      <td>False</td>\n    </tr>\n    <tr>\n      <th>آپ</th>\n      <td>False</td>\n    </tr>\n    <tr>\n      <th>آسیا</th>\n      <td>False</td>\n    </tr>\n    <tr>\n      <th>...</th>\n      <td>...</td>\n    </tr>\n    <tr>\n      <th>ولشرق</th>\n      <td>True</td>\n    </tr>\n    <tr>\n      <th>ومعلم</th>\n      <td>False</td>\n    </tr>\n    <tr>\n      <th>وملل</th>\n      <td>False</td>\n    </tr>\n    <tr>\n      <th>وهامون</th>\n      <td>True</td>\n    </tr>\n    <tr>\n      <th>وهور</th>\n      <td>False</td>\n    </tr>\n  </tbody>\n</table>\n<p>555 rows × 1 columns</p>\n</div>"
     },
     "execution_count": 16,
     "metadata": {},
     "output_type": "execute_result"
    }
   ],
   "source": [
    "mask1 = mean_return_market > np.quantile(mean_return_market.mean_ret, 0.75)\n",
    "mask1"
   ],
   "metadata": {
    "collapsed": false,
    "pycharm": {
     "name": "#%%\n"
    }
   }
  },
  {
   "cell_type": "code",
   "execution_count": 17,
   "outputs": [
    {
     "data": {
      "text/plain": "             std_ret\nShakhes_kol     True\nآباد            True\nآبادا          False\nآپ             False\nآسیا           False\n...              ...\nولشرق          False\nومعلم          False\nوملل           False\nوهامون         False\nوهور           False\n\n[555 rows x 1 columns]",
      "text/html": "<div>\n<style scoped>\n    .dataframe tbody tr th:only-of-type {\n        vertical-align: middle;\n    }\n\n    .dataframe tbody tr th {\n        vertical-align: top;\n    }\n\n    .dataframe thead th {\n        text-align: right;\n    }\n</style>\n<table border=\"1\" class=\"dataframe\">\n  <thead>\n    <tr style=\"text-align: right;\">\n      <th></th>\n      <th>std_ret</th>\n    </tr>\n  </thead>\n  <tbody>\n    <tr>\n      <th>Shakhes_kol</th>\n      <td>True</td>\n    </tr>\n    <tr>\n      <th>آباد</th>\n      <td>True</td>\n    </tr>\n    <tr>\n      <th>آبادا</th>\n      <td>False</td>\n    </tr>\n    <tr>\n      <th>آپ</th>\n      <td>False</td>\n    </tr>\n    <tr>\n      <th>آسیا</th>\n      <td>False</td>\n    </tr>\n    <tr>\n      <th>...</th>\n      <td>...</td>\n    </tr>\n    <tr>\n      <th>ولشرق</th>\n      <td>False</td>\n    </tr>\n    <tr>\n      <th>ومعلم</th>\n      <td>False</td>\n    </tr>\n    <tr>\n      <th>وملل</th>\n      <td>False</td>\n    </tr>\n    <tr>\n      <th>وهامون</th>\n      <td>False</td>\n    </tr>\n    <tr>\n      <th>وهور</th>\n      <td>False</td>\n    </tr>\n  </tbody>\n</table>\n<p>555 rows × 1 columns</p>\n</div>"
     },
     "execution_count": 17,
     "metadata": {},
     "output_type": "execute_result"
    }
   ],
   "source": [
    "mask2 = std_return_market < np.quantile(std_return_market, 0.25)\n",
    "mask2"
   ],
   "metadata": {
    "collapsed": false,
    "pycharm": {
     "name": "#%%\n"
    }
   }
  },
  {
   "cell_type": "code",
   "execution_count": 18,
   "outputs": [
    {
     "data": {
      "text/plain": "                 0\nShakhes_kol   True\nآباد          True\nآبادا        False\nآپ           False\nآسیا         False\n...            ...\nولشرق        False\nومعلم        False\nوملل         False\nوهامون       False\nوهور         False\n\n[555 rows x 1 columns]",
      "text/html": "<div>\n<style scoped>\n    .dataframe tbody tr th:only-of-type {\n        vertical-align: middle;\n    }\n\n    .dataframe tbody tr th {\n        vertical-align: top;\n    }\n\n    .dataframe thead th {\n        text-align: right;\n    }\n</style>\n<table border=\"1\" class=\"dataframe\">\n  <thead>\n    <tr style=\"text-align: right;\">\n      <th></th>\n      <th>0</th>\n    </tr>\n  </thead>\n  <tbody>\n    <tr>\n      <th>Shakhes_kol</th>\n      <td>True</td>\n    </tr>\n    <tr>\n      <th>آباد</th>\n      <td>True</td>\n    </tr>\n    <tr>\n      <th>آبادا</th>\n      <td>False</td>\n    </tr>\n    <tr>\n      <th>آپ</th>\n      <td>False</td>\n    </tr>\n    <tr>\n      <th>آسیا</th>\n      <td>False</td>\n    </tr>\n    <tr>\n      <th>...</th>\n      <td>...</td>\n    </tr>\n    <tr>\n      <th>ولشرق</th>\n      <td>False</td>\n    </tr>\n    <tr>\n      <th>ومعلم</th>\n      <td>False</td>\n    </tr>\n    <tr>\n      <th>وملل</th>\n      <td>False</td>\n    </tr>\n    <tr>\n      <th>وهامون</th>\n      <td>False</td>\n    </tr>\n    <tr>\n      <th>وهور</th>\n      <td>False</td>\n    </tr>\n  </tbody>\n</table>\n<p>555 rows × 1 columns</p>\n</div>"
     },
     "execution_count": 18,
     "metadata": {},
     "output_type": "execute_result"
    }
   ],
   "source": [
    "extern = pd.DataFrame(mask1.values * mask2.values, index=mean_return_market.index)\n",
    "extern"
   ],
   "metadata": {
    "collapsed": false,
    "pycharm": {
     "name": "#%%\n"
    }
   }
  },
  {
   "cell_type": "code",
   "execution_count": 18,
   "outputs": [],
   "source": [],
   "metadata": {
    "collapsed": false,
    "pycharm": {
     "name": "#%%\n"
    }
   }
  },
  {
   "cell_type": "code",
   "execution_count": 35,
   "outputs": [],
   "source": [
    "l = []\n",
    "for i in extern.index:\n",
    "    if extern[0][i] == True:\n",
    "        l.append(i)\n"
   ],
   "metadata": {
    "collapsed": false,
    "pycharm": {
     "name": "#%%\n"
    }
   }
  },
  {
   "cell_type": "code",
   "execution_count": 36,
   "outputs": [
    {
     "data": {
      "text/plain": "array(['Shakhes_kol', 'آباد', 'اردستان', 'جم پیلن', 'خراسان', 'سآبیک',\n       'شهر', 'کساپا', 'ولکار', 'تبرک', 'تجلی', 'توسن', 'حگهر', 'ددانا',\n       'کگهر', 'گلدیرا', 'لطیف'], dtype='<U11')"
     },
     "execution_count": 36,
     "metadata": {},
     "output_type": "execute_result"
    }
   ],
   "source": [
    "np.array(l)"
   ],
   "metadata": {
    "collapsed": false,
    "pycharm": {
     "name": "#%%\n"
    }
   }
  },
  {
   "cell_type": "code",
   "execution_count": 37,
   "outputs": [
    {
     "data": {
      "text/plain": "      Shakhes_kol     آباد   اردستان   جم پیلن    خراسان     سآبیک       شهر  \\\n0             NaN      NaN       NaN       NaN       NaN       NaN       NaN   \n1       -0.005230      NaN       NaN       NaN       NaN       NaN       NaN   \n2       -0.004491      NaN       NaN       NaN       NaN       NaN       NaN   \n3       -0.007152      NaN       NaN       NaN       NaN       NaN       NaN   \n4       -0.005652      NaN       NaN       NaN       NaN       NaN       NaN   \n...           ...      ...       ...       ...       ...       ...       ...   \n3495     0.000319  0.00000  0.012572 -0.011905  0.012707  0.019747  0.049789   \n3496    -0.009111  0.00000  0.010067  0.005120  0.002182 -0.010924  0.049664   \n3497     0.000605  0.00000  0.000000  0.007372 -0.001157  0.020080  0.049872   \n3498     0.001257  0.00000  0.001993 -0.007080  0.008924  0.040846  0.049939   \n3499     0.003205  0.05544  0.011273 -0.013722  0.009588  0.047754  0.049884   \n\n         کساپا     ولکار      تبرک      تجلی      توسن      حگهر     ددانا  \\\n0          NaN       NaN       NaN       NaN       NaN       NaN       NaN   \n1          NaN       NaN       NaN       NaN       NaN       NaN       NaN   \n2          NaN       NaN       NaN       NaN       NaN       NaN       NaN   \n3          NaN       NaN       NaN       NaN       NaN       NaN       NaN   \n4          NaN       NaN       NaN       NaN       NaN       NaN       NaN   \n...        ...       ...       ...       ...       ...       ...       ...   \n3495  0.035643 -0.001395 -0.034127  0.002928 -0.021254  0.000000  0.007600   \n3496  0.027103 -0.043296 -0.020000 -0.007506  0.018458  0.000000 -0.019397   \n3497  0.013613 -0.010219  0.031293 -0.037395 -0.007463  0.000000  0.041758   \n3498  0.025413  0.010324 -0.011873  0.012658  0.013426 -0.015172 -0.008439   \n3499 -0.001209  0.045255  0.002003 -0.021121  0.028617 -0.016075 -0.006383   \n\n          کگهر    گلدیرا      لطیف  \n0          NaN       NaN       NaN  \n1          NaN       NaN       NaN  \n2          NaN       NaN       NaN  \n3          NaN       NaN       NaN  \n4          NaN       NaN       NaN  \n...        ...       ...       ...  \n3495 -0.021008  0.047328 -0.007006  \n3496  0.021459  0.049563 -0.025016  \n3497 -0.007353  0.013889 -0.006579  \n3498  0.013757  0.041096  0.027815  \n3499 -0.041754 -0.022368  0.051546  \n\n[3500 rows x 17 columns]",
      "text/html": "<div>\n<style scoped>\n    .dataframe tbody tr th:only-of-type {\n        vertical-align: middle;\n    }\n\n    .dataframe tbody tr th {\n        vertical-align: top;\n    }\n\n    .dataframe thead th {\n        text-align: right;\n    }\n</style>\n<table border=\"1\" class=\"dataframe\">\n  <thead>\n    <tr style=\"text-align: right;\">\n      <th></th>\n      <th>Shakhes_kol</th>\n      <th>آباد</th>\n      <th>اردستان</th>\n      <th>جم پیلن</th>\n      <th>خراسان</th>\n      <th>سآبیک</th>\n      <th>شهر</th>\n      <th>کساپا</th>\n      <th>ولکار</th>\n      <th>تبرک</th>\n      <th>تجلی</th>\n      <th>توسن</th>\n      <th>حگهر</th>\n      <th>ددانا</th>\n      <th>کگهر</th>\n      <th>گلدیرا</th>\n      <th>لطیف</th>\n    </tr>\n  </thead>\n  <tbody>\n    <tr>\n      <th>0</th>\n      <td>NaN</td>\n      <td>NaN</td>\n      <td>NaN</td>\n      <td>NaN</td>\n      <td>NaN</td>\n      <td>NaN</td>\n      <td>NaN</td>\n      <td>NaN</td>\n      <td>NaN</td>\n      <td>NaN</td>\n      <td>NaN</td>\n      <td>NaN</td>\n      <td>NaN</td>\n      <td>NaN</td>\n      <td>NaN</td>\n      <td>NaN</td>\n      <td>NaN</td>\n    </tr>\n    <tr>\n      <th>1</th>\n      <td>-0.005230</td>\n      <td>NaN</td>\n      <td>NaN</td>\n      <td>NaN</td>\n      <td>NaN</td>\n      <td>NaN</td>\n      <td>NaN</td>\n      <td>NaN</td>\n      <td>NaN</td>\n      <td>NaN</td>\n      <td>NaN</td>\n      <td>NaN</td>\n      <td>NaN</td>\n      <td>NaN</td>\n      <td>NaN</td>\n      <td>NaN</td>\n      <td>NaN</td>\n    </tr>\n    <tr>\n      <th>2</th>\n      <td>-0.004491</td>\n      <td>NaN</td>\n      <td>NaN</td>\n      <td>NaN</td>\n      <td>NaN</td>\n      <td>NaN</td>\n      <td>NaN</td>\n      <td>NaN</td>\n      <td>NaN</td>\n      <td>NaN</td>\n      <td>NaN</td>\n      <td>NaN</td>\n      <td>NaN</td>\n      <td>NaN</td>\n      <td>NaN</td>\n      <td>NaN</td>\n      <td>NaN</td>\n    </tr>\n    <tr>\n      <th>3</th>\n      <td>-0.007152</td>\n      <td>NaN</td>\n      <td>NaN</td>\n      <td>NaN</td>\n      <td>NaN</td>\n      <td>NaN</td>\n      <td>NaN</td>\n      <td>NaN</td>\n      <td>NaN</td>\n      <td>NaN</td>\n      <td>NaN</td>\n      <td>NaN</td>\n      <td>NaN</td>\n      <td>NaN</td>\n      <td>NaN</td>\n      <td>NaN</td>\n      <td>NaN</td>\n    </tr>\n    <tr>\n      <th>4</th>\n      <td>-0.005652</td>\n      <td>NaN</td>\n      <td>NaN</td>\n      <td>NaN</td>\n      <td>NaN</td>\n      <td>NaN</td>\n      <td>NaN</td>\n      <td>NaN</td>\n      <td>NaN</td>\n      <td>NaN</td>\n      <td>NaN</td>\n      <td>NaN</td>\n      <td>NaN</td>\n      <td>NaN</td>\n      <td>NaN</td>\n      <td>NaN</td>\n      <td>NaN</td>\n    </tr>\n    <tr>\n      <th>...</th>\n      <td>...</td>\n      <td>...</td>\n      <td>...</td>\n      <td>...</td>\n      <td>...</td>\n      <td>...</td>\n      <td>...</td>\n      <td>...</td>\n      <td>...</td>\n      <td>...</td>\n      <td>...</td>\n      <td>...</td>\n      <td>...</td>\n      <td>...</td>\n      <td>...</td>\n      <td>...</td>\n      <td>...</td>\n    </tr>\n    <tr>\n      <th>3495</th>\n      <td>0.000319</td>\n      <td>0.00000</td>\n      <td>0.012572</td>\n      <td>-0.011905</td>\n      <td>0.012707</td>\n      <td>0.019747</td>\n      <td>0.049789</td>\n      <td>0.035643</td>\n      <td>-0.001395</td>\n      <td>-0.034127</td>\n      <td>0.002928</td>\n      <td>-0.021254</td>\n      <td>0.000000</td>\n      <td>0.007600</td>\n      <td>-0.021008</td>\n      <td>0.047328</td>\n      <td>-0.007006</td>\n    </tr>\n    <tr>\n      <th>3496</th>\n      <td>-0.009111</td>\n      <td>0.00000</td>\n      <td>0.010067</td>\n      <td>0.005120</td>\n      <td>0.002182</td>\n      <td>-0.010924</td>\n      <td>0.049664</td>\n      <td>0.027103</td>\n      <td>-0.043296</td>\n      <td>-0.020000</td>\n      <td>-0.007506</td>\n      <td>0.018458</td>\n      <td>0.000000</td>\n      <td>-0.019397</td>\n      <td>0.021459</td>\n      <td>0.049563</td>\n      <td>-0.025016</td>\n    </tr>\n    <tr>\n      <th>3497</th>\n      <td>0.000605</td>\n      <td>0.00000</td>\n      <td>0.000000</td>\n      <td>0.007372</td>\n      <td>-0.001157</td>\n      <td>0.020080</td>\n      <td>0.049872</td>\n      <td>0.013613</td>\n      <td>-0.010219</td>\n      <td>0.031293</td>\n      <td>-0.037395</td>\n      <td>-0.007463</td>\n      <td>0.000000</td>\n      <td>0.041758</td>\n      <td>-0.007353</td>\n      <td>0.013889</td>\n      <td>-0.006579</td>\n    </tr>\n    <tr>\n      <th>3498</th>\n      <td>0.001257</td>\n      <td>0.00000</td>\n      <td>0.001993</td>\n      <td>-0.007080</td>\n      <td>0.008924</td>\n      <td>0.040846</td>\n      <td>0.049939</td>\n      <td>0.025413</td>\n      <td>0.010324</td>\n      <td>-0.011873</td>\n      <td>0.012658</td>\n      <td>0.013426</td>\n      <td>-0.015172</td>\n      <td>-0.008439</td>\n      <td>0.013757</td>\n      <td>0.041096</td>\n      <td>0.027815</td>\n    </tr>\n    <tr>\n      <th>3499</th>\n      <td>0.003205</td>\n      <td>0.05544</td>\n      <td>0.011273</td>\n      <td>-0.013722</td>\n      <td>0.009588</td>\n      <td>0.047754</td>\n      <td>0.049884</td>\n      <td>-0.001209</td>\n      <td>0.045255</td>\n      <td>0.002003</td>\n      <td>-0.021121</td>\n      <td>0.028617</td>\n      <td>-0.016075</td>\n      <td>-0.006383</td>\n      <td>-0.041754</td>\n      <td>-0.022368</td>\n      <td>0.051546</td>\n    </tr>\n  </tbody>\n</table>\n<p>3500 rows × 17 columns</p>\n</div>"
     },
     "execution_count": 37,
     "metadata": {},
     "output_type": "execute_result"
    }
   ],
   "source": [
    "ret_market[l]"
   ],
   "metadata": {
    "collapsed": false,
    "pycharm": {
     "name": "#%%\n"
    }
   }
  },
  {
   "cell_type": "code",
   "execution_count": 47,
   "outputs": [
    {
     "data": {
      "text/plain": "nan"
     },
     "execution_count": 47,
     "metadata": {},
     "output_type": "execute_result"
    }
   ],
   "source": [
    "ret_market[l].iloc[0, 0]"
   ],
   "metadata": {
    "collapsed": false,
    "pycharm": {
     "name": "#%%\n"
    }
   }
  },
  {
   "cell_type": "code",
   "execution_count": 52,
   "outputs": [
    {
     "data": {
      "text/plain": "numpy.float64"
     },
     "execution_count": 52,
     "metadata": {},
     "output_type": "execute_result"
    }
   ],
   "source": [
    "type(ret_market[l].iloc[0, 0])"
   ],
   "metadata": {
    "collapsed": false,
    "pycharm": {
     "name": "#%%\n"
    }
   }
  },
  {
   "cell_type": "code",
   "execution_count": 53,
   "outputs": [
    {
     "data": {
      "text/plain": "-0.005229897581172316"
     },
     "execution_count": 53,
     "metadata": {},
     "output_type": "execute_result"
    }
   ],
   "source": [
    "ret_market[l].iloc[1, 0]"
   ],
   "metadata": {
    "collapsed": false,
    "pycharm": {
     "name": "#%%\n"
    }
   }
  },
  {
   "cell_type": "code",
   "execution_count": 54,
   "outputs": [
    {
     "data": {
      "text/plain": "numpy.float64"
     },
     "execution_count": 54,
     "metadata": {},
     "output_type": "execute_result"
    }
   ],
   "source": [
    "type(ret_market[l].iloc[1, 0])"
   ],
   "metadata": {
    "collapsed": false,
    "pycharm": {
     "name": "#%%\n"
    }
   }
  },
  {
   "cell_type": "code",
   "execution_count": 57,
   "outputs": [
    {
     "data": {
      "text/plain": "-0.06614785992217898"
     },
     "execution_count": 57,
     "metadata": {},
     "output_type": "execute_result"
    }
   ],
   "source": [
    "np.min(ret_market[l].dropna().values)"
   ],
   "metadata": {
    "collapsed": false,
    "pycharm": {
     "name": "#%%\n"
    }
   }
  },
  {
   "cell_type": "code",
   "execution_count": 59,
   "outputs": [
    {
     "data": {
      "text/plain": "False"
     },
     "execution_count": 59,
     "metadata": {},
     "output_type": "execute_result"
    }
   ],
   "source": [
    "np.nan >= np.min(ret_market[l].dropna().values)"
   ],
   "metadata": {
    "collapsed": false,
    "pycharm": {
     "name": "#%%\n"
    }
   }
  },
  {
   "cell_type": "code",
   "execution_count": 61,
   "outputs": [
    {
     "data": {
      "text/plain": "[3500,\n 3450,\n 96,\n 956,\n 2427,\n 258,\n 9,\n 3454,\n 483,\n 1257,\n 334,\n 419,\n 263,\n 261,\n 1096,\n 187,\n 471]"
     },
     "execution_count": 61,
     "metadata": {},
     "output_type": "execute_result"
    }
   ],
   "source": [
    "len_data = []\n",
    "for i in ret_market[l].columns:\n",
    "    l1 = 0\n",
    "    for j in ret_market.index:\n",
    "        if ret_market[i][j] >= np.min(ret_market[l].dropna().values):\n",
    "            l1 += 1\n",
    "    len_data.append(l1 + 1)\n",
    "len_data"
   ],
   "metadata": {
    "collapsed": false,
    "pycharm": {
     "name": "#%%\n"
    }
   }
  },
  {
   "cell_type": "code",
   "execution_count": 62,
   "outputs": [
    {
     "data": {
      "text/plain": "                0\nShakhes_kol  3500\nآباد         3450\nاردستان        96\nجم پیلن       956\nخراسان       2427\nسآبیک         258\nشهر             9\nکساپا        3454\nولکار         483\nتبرک         1257\nتجلی          334\nتوسن          419\nحگهر          263\nددانا         261\nکگهر         1096\nگلدیرا        187\nلطیف          471",
      "text/html": "<div>\n<style scoped>\n    .dataframe tbody tr th:only-of-type {\n        vertical-align: middle;\n    }\n\n    .dataframe tbody tr th {\n        vertical-align: top;\n    }\n\n    .dataframe thead th {\n        text-align: right;\n    }\n</style>\n<table border=\"1\" class=\"dataframe\">\n  <thead>\n    <tr style=\"text-align: right;\">\n      <th></th>\n      <th>0</th>\n    </tr>\n  </thead>\n  <tbody>\n    <tr>\n      <th>Shakhes_kol</th>\n      <td>3500</td>\n    </tr>\n    <tr>\n      <th>آباد</th>\n      <td>3450</td>\n    </tr>\n    <tr>\n      <th>اردستان</th>\n      <td>96</td>\n    </tr>\n    <tr>\n      <th>جم پیلن</th>\n      <td>956</td>\n    </tr>\n    <tr>\n      <th>خراسان</th>\n      <td>2427</td>\n    </tr>\n    <tr>\n      <th>سآبیک</th>\n      <td>258</td>\n    </tr>\n    <tr>\n      <th>شهر</th>\n      <td>9</td>\n    </tr>\n    <tr>\n      <th>کساپا</th>\n      <td>3454</td>\n    </tr>\n    <tr>\n      <th>ولکار</th>\n      <td>483</td>\n    </tr>\n    <tr>\n      <th>تبرک</th>\n      <td>1257</td>\n    </tr>\n    <tr>\n      <th>تجلی</th>\n      <td>334</td>\n    </tr>\n    <tr>\n      <th>توسن</th>\n      <td>419</td>\n    </tr>\n    <tr>\n      <th>حگهر</th>\n      <td>263</td>\n    </tr>\n    <tr>\n      <th>ددانا</th>\n      <td>261</td>\n    </tr>\n    <tr>\n      <th>کگهر</th>\n      <td>1096</td>\n    </tr>\n    <tr>\n      <th>گلدیرا</th>\n      <td>187</td>\n    </tr>\n    <tr>\n      <th>لطیف</th>\n      <td>471</td>\n    </tr>\n  </tbody>\n</table>\n</div>"
     },
     "execution_count": 62,
     "metadata": {},
     "output_type": "execute_result"
    }
   ],
   "source": [
    "len_data = pd.DataFrame(np.array(len_data), index=ret_market[l].columns)\n",
    "len_data"
   ],
   "metadata": {
    "collapsed": false,
    "pycharm": {
     "name": "#%%\n"
    }
   }
  },
  {
   "cell_type": "code",
   "execution_count": 63,
   "outputs": [
    {
     "data": {
      "text/plain": "                 0\nShakhes_kol   True\nآباد          True\nاردستان      False\nجم پیلن       True\nخراسان        True\nسآبیک        False\nشهر          False\nکساپا         True\nولکار        False\nتبرک          True\nتجلی         False\nتوسن         False\nحگهر         False\nددانا        False\nکگهر          True\nگلدیرا       False\nلطیف         False",
      "text/html": "<div>\n<style scoped>\n    .dataframe tbody tr th:only-of-type {\n        vertical-align: middle;\n    }\n\n    .dataframe tbody tr th {\n        vertical-align: top;\n    }\n\n    .dataframe thead th {\n        text-align: right;\n    }\n</style>\n<table border=\"1\" class=\"dataframe\">\n  <thead>\n    <tr style=\"text-align: right;\">\n      <th></th>\n      <th>0</th>\n    </tr>\n  </thead>\n  <tbody>\n    <tr>\n      <th>Shakhes_kol</th>\n      <td>True</td>\n    </tr>\n    <tr>\n      <th>آباد</th>\n      <td>True</td>\n    </tr>\n    <tr>\n      <th>اردستان</th>\n      <td>False</td>\n    </tr>\n    <tr>\n      <th>جم پیلن</th>\n      <td>True</td>\n    </tr>\n    <tr>\n      <th>خراسان</th>\n      <td>True</td>\n    </tr>\n    <tr>\n      <th>سآبیک</th>\n      <td>False</td>\n    </tr>\n    <tr>\n      <th>شهر</th>\n      <td>False</td>\n    </tr>\n    <tr>\n      <th>کساپا</th>\n      <td>True</td>\n    </tr>\n    <tr>\n      <th>ولکار</th>\n      <td>False</td>\n    </tr>\n    <tr>\n      <th>تبرک</th>\n      <td>True</td>\n    </tr>\n    <tr>\n      <th>تجلی</th>\n      <td>False</td>\n    </tr>\n    <tr>\n      <th>توسن</th>\n      <td>False</td>\n    </tr>\n    <tr>\n      <th>حگهر</th>\n      <td>False</td>\n    </tr>\n    <tr>\n      <th>ددانا</th>\n      <td>False</td>\n    </tr>\n    <tr>\n      <th>کگهر</th>\n      <td>True</td>\n    </tr>\n    <tr>\n      <th>گلدیرا</th>\n      <td>False</td>\n    </tr>\n    <tr>\n      <th>لطیف</th>\n      <td>False</td>\n    </tr>\n  </tbody>\n</table>\n</div>"
     },
     "execution_count": 63,
     "metadata": {},
     "output_type": "execute_result"
    }
   ],
   "source": [
    "len_data > 500"
   ],
   "metadata": {
    "collapsed": false,
    "pycharm": {
     "name": "#%%\n"
    }
   }
  },
  {
   "cell_type": "code",
   "execution_count": 68,
   "outputs": [
    {
     "data": {
      "text/plain": "['Shakhes_kol',\n 'آباد',\n 'اردستان',\n 'جم پیلن',\n 'خراسان',\n 'سآبیک',\n 'شهر',\n 'کساپا',\n 'ولکار',\n 'تبرک',\n 'تجلی',\n 'توسن',\n 'حگهر',\n 'ددانا',\n 'کگهر',\n 'گلدیرا',\n 'لطیف']"
     },
     "execution_count": 68,
     "metadata": {},
     "output_type": "execute_result"
    }
   ],
   "source": [
    "l"
   ],
   "metadata": {
    "collapsed": false,
    "pycharm": {
     "name": "#%%\n"
    }
   }
  },
  {
   "cell_type": "code",
   "execution_count": 92,
   "outputs": [
    {
     "data": {
      "text/plain": "              0\n0   Shakhes_kol\n1          آباد\n2       اردستان\n3       جم پیلن\n4        خراسان\n5         سآبیک\n6           شهر\n7         کساپا\n8         ولکار\n9          تبرک\n10         تجلی\n11         توسن\n12         حگهر\n13        ددانا\n14         کگهر\n15       گلدیرا\n16         لطیف",
      "text/html": "<div>\n<style scoped>\n    .dataframe tbody tr th:only-of-type {\n        vertical-align: middle;\n    }\n\n    .dataframe tbody tr th {\n        vertical-align: top;\n    }\n\n    .dataframe thead th {\n        text-align: right;\n    }\n</style>\n<table border=\"1\" class=\"dataframe\">\n  <thead>\n    <tr style=\"text-align: right;\">\n      <th></th>\n      <th>0</th>\n    </tr>\n  </thead>\n  <tbody>\n    <tr>\n      <th>0</th>\n      <td>Shakhes_kol</td>\n    </tr>\n    <tr>\n      <th>1</th>\n      <td>آباد</td>\n    </tr>\n    <tr>\n      <th>2</th>\n      <td>اردستان</td>\n    </tr>\n    <tr>\n      <th>3</th>\n      <td>جم پیلن</td>\n    </tr>\n    <tr>\n      <th>4</th>\n      <td>خراسان</td>\n    </tr>\n    <tr>\n      <th>5</th>\n      <td>سآبیک</td>\n    </tr>\n    <tr>\n      <th>6</th>\n      <td>شهر</td>\n    </tr>\n    <tr>\n      <th>7</th>\n      <td>کساپا</td>\n    </tr>\n    <tr>\n      <th>8</th>\n      <td>ولکار</td>\n    </tr>\n    <tr>\n      <th>9</th>\n      <td>تبرک</td>\n    </tr>\n    <tr>\n      <th>10</th>\n      <td>تجلی</td>\n    </tr>\n    <tr>\n      <th>11</th>\n      <td>توسن</td>\n    </tr>\n    <tr>\n      <th>12</th>\n      <td>حگهر</td>\n    </tr>\n    <tr>\n      <th>13</th>\n      <td>ددانا</td>\n    </tr>\n    <tr>\n      <th>14</th>\n      <td>کگهر</td>\n    </tr>\n    <tr>\n      <th>15</th>\n      <td>گلدیرا</td>\n    </tr>\n    <tr>\n      <th>16</th>\n      <td>لطیف</td>\n    </tr>\n  </tbody>\n</table>\n</div>"
     },
     "execution_count": 92,
     "metadata": {},
     "output_type": "execute_result"
    }
   ],
   "source": [
    "b = pd.DataFrame(np.array(l))\n",
    "b"
   ],
   "metadata": {
    "collapsed": false,
    "pycharm": {
     "name": "#%%\n"
    }
   }
  },
  {
   "cell_type": "code",
   "execution_count": 93,
   "outputs": [
    {
     "data": {
      "text/plain": "                 0\nShakhes_kol   True\nآباد          True\nاردستان      False\nجم پیلن       True\nخراسان        True\nسآبیک        False\nشهر          False\nکساپا         True\nولکار        False\nتبرک          True\nتجلی         False\nتوسن         False\nحگهر         False\nددانا        False\nکگهر          True\nگلدیرا       False\nلطیف         False",
      "text/html": "<div>\n<style scoped>\n    .dataframe tbody tr th:only-of-type {\n        vertical-align: middle;\n    }\n\n    .dataframe tbody tr th {\n        vertical-align: top;\n    }\n\n    .dataframe thead th {\n        text-align: right;\n    }\n</style>\n<table border=\"1\" class=\"dataframe\">\n  <thead>\n    <tr style=\"text-align: right;\">\n      <th></th>\n      <th>0</th>\n    </tr>\n  </thead>\n  <tbody>\n    <tr>\n      <th>Shakhes_kol</th>\n      <td>True</td>\n    </tr>\n    <tr>\n      <th>آباد</th>\n      <td>True</td>\n    </tr>\n    <tr>\n      <th>اردستان</th>\n      <td>False</td>\n    </tr>\n    <tr>\n      <th>جم پیلن</th>\n      <td>True</td>\n    </tr>\n    <tr>\n      <th>خراسان</th>\n      <td>True</td>\n    </tr>\n    <tr>\n      <th>سآبیک</th>\n      <td>False</td>\n    </tr>\n    <tr>\n      <th>شهر</th>\n      <td>False</td>\n    </tr>\n    <tr>\n      <th>کساپا</th>\n      <td>True</td>\n    </tr>\n    <tr>\n      <th>ولکار</th>\n      <td>False</td>\n    </tr>\n    <tr>\n      <th>تبرک</th>\n      <td>True</td>\n    </tr>\n    <tr>\n      <th>تجلی</th>\n      <td>False</td>\n    </tr>\n    <tr>\n      <th>توسن</th>\n      <td>False</td>\n    </tr>\n    <tr>\n      <th>حگهر</th>\n      <td>False</td>\n    </tr>\n    <tr>\n      <th>ددانا</th>\n      <td>False</td>\n    </tr>\n    <tr>\n      <th>کگهر</th>\n      <td>True</td>\n    </tr>\n    <tr>\n      <th>گلدیرا</th>\n      <td>False</td>\n    </tr>\n    <tr>\n      <th>لطیف</th>\n      <td>False</td>\n    </tr>\n  </tbody>\n</table>\n</div>"
     },
     "execution_count": 93,
     "metadata": {},
     "output_type": "execute_result"
    }
   ],
   "source": [
    "len_data > 500"
   ],
   "metadata": {
    "collapsed": false,
    "pycharm": {
     "name": "#%%\n"
    }
   }
  },
  {
   "cell_type": "code",
   "execution_count": 96,
   "outputs": [
    {
     "data": {
      "text/plain": "3450"
     },
     "execution_count": 96,
     "metadata": {},
     "output_type": "execute_result"
    }
   ],
   "source": [
    "len_data[0][1]"
   ],
   "metadata": {
    "collapsed": false,
    "pycharm": {
     "name": "#%%\n"
    }
   }
  },
  {
   "cell_type": "code",
   "execution_count": 105,
   "outputs": [
    {
     "data": {
      "text/plain": "'آباد'"
     },
     "execution_count": 105,
     "metadata": {},
     "output_type": "execute_result"
    }
   ],
   "source": [
    "b[0][1]"
   ],
   "metadata": {
    "collapsed": false,
    "pycharm": {
     "name": "#%%\n"
    }
   }
  },
  {
   "cell_type": "code",
   "execution_count": 106,
   "outputs": [
    {
     "data": {
      "text/plain": "['Shakhes_kol', 'آباد', 'جم پیلن', 'خراسان', 'کساپا', 'تبرک', 'کگهر']"
     },
     "execution_count": 106,
     "metadata": {},
     "output_type": "execute_result"
    }
   ],
   "source": [
    "c = []\n",
    "for i in b.index:\n",
    "    if len_data[0][i] > 500:\n",
    "        c.append(b[0][i])\n",
    "c"
   ],
   "metadata": {
    "collapsed": false,
    "pycharm": {
     "name": "#%%\n"
    }
   }
  },
  {
   "cell_type": "code",
   "execution_count": 107,
   "outputs": [
    {
     "data": {
      "text/plain": "             Shakhes_kol      آباد     آبادا        آپ      آسیا      اپال  \\\nUnnamed: 0                                                                   \nShakhes_kol     1.000000  0.913426  0.291431 -0.195089  0.376721 -0.187348   \nآباد            0.913426  1.000000  0.152509 -0.166291  0.223888  0.071318   \nآبادا           0.291431  0.152509  1.000000  0.741144  0.820019  0.013049   \nآپ             -0.195089 -0.166291  0.741144  1.000000  0.652259  0.043866   \nآسیا            0.376721  0.223888  0.820019  0.652259  1.000000 -0.149376   \n...                  ...       ...       ...       ...       ...       ...   \nولشرق           0.563685  0.612656  0.761965  0.588390  0.632362 -0.240394   \nومعلم           0.093295 -0.021877  0.860511  0.899112  0.891015  0.007413   \nوملل            0.657805  0.657905  0.625497  0.400063  0.593893  0.352314   \nوهامون          0.500993  0.732949  0.814401  0.842936  0.737698  0.353773   \nوهور            0.334042  0.206831  0.799443  0.609173  0.954853 -0.135860   \n\n                اتکام     اخابر   اردستان    اسیاتک  ...     وسپهر     وطوبی  \\\nUnnamed: 0                                           ...                       \nShakhes_kol  0.816081  0.837046  0.890251 -0.580418  ... -0.372706  0.943584   \nآباد         0.695070  0.757272  0.762367 -0.454916  ...  0.113508  0.848712   \nآبادا        0.814962  0.931694  0.732464 -0.558056  ...  0.665732  0.942617   \nآپ           0.312553  0.186103  0.769961 -0.466165  ...  0.804436  0.953340   \nآسیا         0.730077  0.741750  0.654841 -0.429385  ...  0.667584  0.890187   \n...               ...       ...       ...       ...  ...       ...       ...   \nولشرق        0.816261  0.836005  0.787112 -0.458451  ...  0.661727  0.912175   \nومعلم        0.730111  0.738923  0.789285 -0.565341  ...  0.827232  0.966644   \nوملل         0.781798  0.830787  0.682690 -0.446838  ...  0.801425  0.919272   \nوهامون       0.600123  0.792048  0.879791 -0.623348  ...  0.282045  0.971459   \nوهور         0.720932  0.731881  0.714834 -0.595607  ...  0.687247  0.865615   \n\n               وکبهمن     وگستر    ولبهمن     ولشرق     ومعلم      وملل  \\\nUnnamed: 0                                                                \nShakhes_kol -0.456785  0.706800  0.639044  0.563685  0.093295  0.657805   \nآباد         0.268179  0.719288  0.646597  0.612656 -0.021877  0.657905   \nآبادا        0.571264  0.785636  0.772937  0.761965  0.860511  0.625497   \nآپ           0.855019  0.471893  0.538955  0.588390  0.899112  0.400063   \nآسیا         0.179488  0.737885  0.770830  0.632362  0.891015  0.593893   \n...               ...       ...       ...       ...       ...       ...   \nولشرق        0.610045  0.934970  0.877139  1.000000  0.720060  0.785703   \nومعلم        0.850153  0.735566  0.801945  0.720060  1.000000  0.572746   \nوملل         0.941286  0.887628  0.913254  0.785703  0.572746  1.000000   \nوهامون       0.551153  0.774564  0.755297  0.748913  0.836364  0.505649   \nوهور         0.664112  0.782524  0.770295  0.694258  0.825929  0.664002   \n\n               وهامون      وهور  \nUnnamed: 0                       \nShakhes_kol  0.500993  0.334042  \nآباد         0.732949  0.206831  \nآبادا        0.814401  0.799443  \nآپ           0.842936  0.609173  \nآسیا         0.737698  0.954853  \n...               ...       ...  \nولشرق        0.748913  0.694258  \nومعلم        0.836364  0.825929  \nوملل         0.505649  0.664002  \nوهامون       1.000000  0.797866  \nوهور         0.797866  1.000000  \n\n[555 rows x 555 columns]",
      "text/html": "<div>\n<style scoped>\n    .dataframe tbody tr th:only-of-type {\n        vertical-align: middle;\n    }\n\n    .dataframe tbody tr th {\n        vertical-align: top;\n    }\n\n    .dataframe thead th {\n        text-align: right;\n    }\n</style>\n<table border=\"1\" class=\"dataframe\">\n  <thead>\n    <tr style=\"text-align: right;\">\n      <th></th>\n      <th>Shakhes_kol</th>\n      <th>آباد</th>\n      <th>آبادا</th>\n      <th>آپ</th>\n      <th>آسیا</th>\n      <th>اپال</th>\n      <th>اتکام</th>\n      <th>اخابر</th>\n      <th>اردستان</th>\n      <th>اسیاتک</th>\n      <th>...</th>\n      <th>وسپهر</th>\n      <th>وطوبی</th>\n      <th>وکبهمن</th>\n      <th>وگستر</th>\n      <th>ولبهمن</th>\n      <th>ولشرق</th>\n      <th>ومعلم</th>\n      <th>وملل</th>\n      <th>وهامون</th>\n      <th>وهور</th>\n    </tr>\n    <tr>\n      <th>Unnamed: 0</th>\n      <th></th>\n      <th></th>\n      <th></th>\n      <th></th>\n      <th></th>\n      <th></th>\n      <th></th>\n      <th></th>\n      <th></th>\n      <th></th>\n      <th></th>\n      <th></th>\n      <th></th>\n      <th></th>\n      <th></th>\n      <th></th>\n      <th></th>\n      <th></th>\n      <th></th>\n      <th></th>\n      <th></th>\n    </tr>\n  </thead>\n  <tbody>\n    <tr>\n      <th>Shakhes_kol</th>\n      <td>1.000000</td>\n      <td>0.913426</td>\n      <td>0.291431</td>\n      <td>-0.195089</td>\n      <td>0.376721</td>\n      <td>-0.187348</td>\n      <td>0.816081</td>\n      <td>0.837046</td>\n      <td>0.890251</td>\n      <td>-0.580418</td>\n      <td>...</td>\n      <td>-0.372706</td>\n      <td>0.943584</td>\n      <td>-0.456785</td>\n      <td>0.706800</td>\n      <td>0.639044</td>\n      <td>0.563685</td>\n      <td>0.093295</td>\n      <td>0.657805</td>\n      <td>0.500993</td>\n      <td>0.334042</td>\n    </tr>\n    <tr>\n      <th>آباد</th>\n      <td>0.913426</td>\n      <td>1.000000</td>\n      <td>0.152509</td>\n      <td>-0.166291</td>\n      <td>0.223888</td>\n      <td>0.071318</td>\n      <td>0.695070</td>\n      <td>0.757272</td>\n      <td>0.762367</td>\n      <td>-0.454916</td>\n      <td>...</td>\n      <td>0.113508</td>\n      <td>0.848712</td>\n      <td>0.268179</td>\n      <td>0.719288</td>\n      <td>0.646597</td>\n      <td>0.612656</td>\n      <td>-0.021877</td>\n      <td>0.657905</td>\n      <td>0.732949</td>\n      <td>0.206831</td>\n    </tr>\n    <tr>\n      <th>آبادا</th>\n      <td>0.291431</td>\n      <td>0.152509</td>\n      <td>1.000000</td>\n      <td>0.741144</td>\n      <td>0.820019</td>\n      <td>0.013049</td>\n      <td>0.814962</td>\n      <td>0.931694</td>\n      <td>0.732464</td>\n      <td>-0.558056</td>\n      <td>...</td>\n      <td>0.665732</td>\n      <td>0.942617</td>\n      <td>0.571264</td>\n      <td>0.785636</td>\n      <td>0.772937</td>\n      <td>0.761965</td>\n      <td>0.860511</td>\n      <td>0.625497</td>\n      <td>0.814401</td>\n      <td>0.799443</td>\n    </tr>\n    <tr>\n      <th>آپ</th>\n      <td>-0.195089</td>\n      <td>-0.166291</td>\n      <td>0.741144</td>\n      <td>1.000000</td>\n      <td>0.652259</td>\n      <td>0.043866</td>\n      <td>0.312553</td>\n      <td>0.186103</td>\n      <td>0.769961</td>\n      <td>-0.466165</td>\n      <td>...</td>\n      <td>0.804436</td>\n      <td>0.953340</td>\n      <td>0.855019</td>\n      <td>0.471893</td>\n      <td>0.538955</td>\n      <td>0.588390</td>\n      <td>0.899112</td>\n      <td>0.400063</td>\n      <td>0.842936</td>\n      <td>0.609173</td>\n    </tr>\n    <tr>\n      <th>آسیا</th>\n      <td>0.376721</td>\n      <td>0.223888</td>\n      <td>0.820019</td>\n      <td>0.652259</td>\n      <td>1.000000</td>\n      <td>-0.149376</td>\n      <td>0.730077</td>\n      <td>0.741750</td>\n      <td>0.654841</td>\n      <td>-0.429385</td>\n      <td>...</td>\n      <td>0.667584</td>\n      <td>0.890187</td>\n      <td>0.179488</td>\n      <td>0.737885</td>\n      <td>0.770830</td>\n      <td>0.632362</td>\n      <td>0.891015</td>\n      <td>0.593893</td>\n      <td>0.737698</td>\n      <td>0.954853</td>\n    </tr>\n    <tr>\n      <th>...</th>\n      <td>...</td>\n      <td>...</td>\n      <td>...</td>\n      <td>...</td>\n      <td>...</td>\n      <td>...</td>\n      <td>...</td>\n      <td>...</td>\n      <td>...</td>\n      <td>...</td>\n      <td>...</td>\n      <td>...</td>\n      <td>...</td>\n      <td>...</td>\n      <td>...</td>\n      <td>...</td>\n      <td>...</td>\n      <td>...</td>\n      <td>...</td>\n      <td>...</td>\n      <td>...</td>\n    </tr>\n    <tr>\n      <th>ولشرق</th>\n      <td>0.563685</td>\n      <td>0.612656</td>\n      <td>0.761965</td>\n      <td>0.588390</td>\n      <td>0.632362</td>\n      <td>-0.240394</td>\n      <td>0.816261</td>\n      <td>0.836005</td>\n      <td>0.787112</td>\n      <td>-0.458451</td>\n      <td>...</td>\n      <td>0.661727</td>\n      <td>0.912175</td>\n      <td>0.610045</td>\n      <td>0.934970</td>\n      <td>0.877139</td>\n      <td>1.000000</td>\n      <td>0.720060</td>\n      <td>0.785703</td>\n      <td>0.748913</td>\n      <td>0.694258</td>\n    </tr>\n    <tr>\n      <th>ومعلم</th>\n      <td>0.093295</td>\n      <td>-0.021877</td>\n      <td>0.860511</td>\n      <td>0.899112</td>\n      <td>0.891015</td>\n      <td>0.007413</td>\n      <td>0.730111</td>\n      <td>0.738923</td>\n      <td>0.789285</td>\n      <td>-0.565341</td>\n      <td>...</td>\n      <td>0.827232</td>\n      <td>0.966644</td>\n      <td>0.850153</td>\n      <td>0.735566</td>\n      <td>0.801945</td>\n      <td>0.720060</td>\n      <td>1.000000</td>\n      <td>0.572746</td>\n      <td>0.836364</td>\n      <td>0.825929</td>\n    </tr>\n    <tr>\n      <th>وملل</th>\n      <td>0.657805</td>\n      <td>0.657905</td>\n      <td>0.625497</td>\n      <td>0.400063</td>\n      <td>0.593893</td>\n      <td>0.352314</td>\n      <td>0.781798</td>\n      <td>0.830787</td>\n      <td>0.682690</td>\n      <td>-0.446838</td>\n      <td>...</td>\n      <td>0.801425</td>\n      <td>0.919272</td>\n      <td>0.941286</td>\n      <td>0.887628</td>\n      <td>0.913254</td>\n      <td>0.785703</td>\n      <td>0.572746</td>\n      <td>1.000000</td>\n      <td>0.505649</td>\n      <td>0.664002</td>\n    </tr>\n    <tr>\n      <th>وهامون</th>\n      <td>0.500993</td>\n      <td>0.732949</td>\n      <td>0.814401</td>\n      <td>0.842936</td>\n      <td>0.737698</td>\n      <td>0.353773</td>\n      <td>0.600123</td>\n      <td>0.792048</td>\n      <td>0.879791</td>\n      <td>-0.623348</td>\n      <td>...</td>\n      <td>0.282045</td>\n      <td>0.971459</td>\n      <td>0.551153</td>\n      <td>0.774564</td>\n      <td>0.755297</td>\n      <td>0.748913</td>\n      <td>0.836364</td>\n      <td>0.505649</td>\n      <td>1.000000</td>\n      <td>0.797866</td>\n    </tr>\n    <tr>\n      <th>وهور</th>\n      <td>0.334042</td>\n      <td>0.206831</td>\n      <td>0.799443</td>\n      <td>0.609173</td>\n      <td>0.954853</td>\n      <td>-0.135860</td>\n      <td>0.720932</td>\n      <td>0.731881</td>\n      <td>0.714834</td>\n      <td>-0.595607</td>\n      <td>...</td>\n      <td>0.687247</td>\n      <td>0.865615</td>\n      <td>0.664112</td>\n      <td>0.782524</td>\n      <td>0.770295</td>\n      <td>0.694258</td>\n      <td>0.825929</td>\n      <td>0.664002</td>\n      <td>0.797866</td>\n      <td>1.000000</td>\n    </tr>\n  </tbody>\n</table>\n<p>555 rows × 555 columns</p>\n</div>"
     },
     "execution_count": 107,
     "metadata": {},
     "output_type": "execute_result"
    }
   ],
   "source": [
    "cor = pd.read_excel('F:\\my project\\dataset\\my pro-datasets\\\\tse\\\\all_market_correlation.xlsx')\n",
    "cor.index = cor['Unnamed: 0']\n",
    "cor.drop(['Unnamed: 0'], axis=1, inplace=True)\n",
    "cor"
   ],
   "metadata": {
    "collapsed": false,
    "pycharm": {
     "name": "#%%\n"
    }
   }
  },
  {
   "cell_type": "code",
   "execution_count": 111,
   "outputs": [
    {
     "data": {
      "text/plain": "             Shakhes_kol      آباد   اردستان   جم پیلن    خراسان     سآبیک  \\\nUnnamed: 0                                                                   \nShakhes_kol     1.000000  0.913426  0.890251  0.880970  0.970080  0.974287   \nآباد            0.913426  1.000000  0.762367  0.613438  0.875776  0.779600   \nاردستان         0.890251  0.762367  1.000000  0.734228  0.778485  0.885453   \nجم پیلن         0.880970  0.613438  0.734228  1.000000  0.963045  0.919847   \nخراسان          0.970080  0.875776  0.778485  0.963045  1.000000  0.879359   \nسآبیک           0.974287  0.779600  0.885453  0.919847  0.879359  1.000000   \nشهر            -0.168066  0.540806  0.910674 -0.561488  0.622378  0.916495   \nکساپا           0.871850  0.809279  0.886299  0.449665  0.834478  0.071492   \nولکار           0.614428 -0.076360  0.159712  0.617992  0.646247  0.474516   \nتبرک            0.631239  0.539581  0.842921  0.014877  0.405821  0.954933   \nتجلی            0.892790  0.876796  0.882237  0.793097  0.814890  0.935507   \nتوسن           -0.056014  0.163348  0.866480  0.140979 -0.015170  0.352497   \nحگهر            0.834934  0.626536  0.778866  0.763605  0.755560  0.837712   \nددانا           0.932929  0.818829  0.809883  0.892390  0.836712  0.961656   \nکگهر            0.929420  0.760992  0.403196  0.733853  0.833517  0.775858   \nگلدیرا          0.777784  0.587401  0.674912  0.212996  0.785072  0.733527   \nلطیف            0.893864  0.543701  0.821884  0.687332  0.582177  0.905290   \n\n                  شهر     کساپا     ولکار      تبرک      تجلی      توسن  \\\nUnnamed: 0                                                                \nShakhes_kol -0.168066  0.871850  0.614428  0.631239  0.892790 -0.056014   \nآباد         0.540806  0.809279 -0.076360  0.539581  0.876796  0.163348   \nاردستان      0.910674  0.886299  0.159712  0.842921  0.882237  0.866480   \nجم پیلن     -0.561488  0.449665  0.617992  0.014877  0.793097  0.140979   \nخراسان       0.622378  0.834478  0.646247  0.405821  0.814890 -0.015170   \nسآبیک        0.916495  0.071492  0.474516  0.954933  0.935507  0.352497   \nشهر          1.000000  0.978637 -0.707056 -0.648267 -0.892915  0.524442   \nکساپا        0.978637  1.000000  0.674497  0.556631  0.134349 -0.644491   \nولکار       -0.707056  0.674497  1.000000  0.123012  0.293023 -0.434973   \nتبرک        -0.648267  0.556631  0.123012  1.000000  0.884125 -0.171034   \nتجلی        -0.892915  0.134349  0.293023  0.884125  1.000000  0.173120   \nتوسن         0.524442 -0.644491 -0.434973 -0.171034  0.173120  1.000000   \nحگهر         0.525360  0.325609  0.791601  0.860761  0.725118 -0.157653   \nددانا        0.281778 -0.012494  0.310142  0.918342  0.929067  0.441378   \nکگهر         0.039093  0.659942  0.036181  0.599940  0.614424  0.346450   \nگلدیرا       0.951006  0.624503  0.184671  0.832583  0.694033  0.811655   \nلطیف         0.511865  0.378553  0.558052  0.797771  0.774056 -0.214324   \n\n                 حگهر     ددانا      کگهر    گلدیرا      لطیف  \nUnnamed: 0                                                     \nShakhes_kol  0.834934  0.932929  0.929420  0.777784  0.893864  \nآباد         0.626536  0.818829  0.760992  0.587401  0.543701  \nاردستان      0.778866  0.809883  0.403196  0.674912  0.821884  \nجم پیلن      0.763605  0.892390  0.733853  0.212996  0.687332  \nخراسان       0.755560  0.836712  0.833517  0.785072  0.582177  \nسآبیک        0.837712  0.961656  0.775858  0.733527  0.905290  \nشهر          0.525360  0.281778  0.039093  0.951006  0.511865  \nکساپا        0.325609 -0.012494  0.659942  0.624503  0.378553  \nولکار        0.791601  0.310142  0.036181  0.184671  0.558052  \nتبرک         0.860761  0.918342  0.599940  0.832583  0.797771  \nتجلی         0.725118  0.929067  0.614424  0.694033  0.774056  \nتوسن        -0.157653  0.441378  0.346450  0.811655 -0.214324  \nحگهر         1.000000  0.752661  0.512223  0.567501  0.931808  \nددانا        0.752661  1.000000  0.707521  0.836394  0.851914  \nکگهر         0.512223  0.707521  1.000000 -0.301409  0.525765  \nگلدیرا       0.567501  0.836394 -0.301409  1.000000  0.565669  \nلطیف         0.931808  0.851914  0.525765  0.565669  1.000000  ",
      "text/html": "<div>\n<style scoped>\n    .dataframe tbody tr th:only-of-type {\n        vertical-align: middle;\n    }\n\n    .dataframe tbody tr th {\n        vertical-align: top;\n    }\n\n    .dataframe thead th {\n        text-align: right;\n    }\n</style>\n<table border=\"1\" class=\"dataframe\">\n  <thead>\n    <tr style=\"text-align: right;\">\n      <th></th>\n      <th>Shakhes_kol</th>\n      <th>آباد</th>\n      <th>اردستان</th>\n      <th>جم پیلن</th>\n      <th>خراسان</th>\n      <th>سآبیک</th>\n      <th>شهر</th>\n      <th>کساپا</th>\n      <th>ولکار</th>\n      <th>تبرک</th>\n      <th>تجلی</th>\n      <th>توسن</th>\n      <th>حگهر</th>\n      <th>ددانا</th>\n      <th>کگهر</th>\n      <th>گلدیرا</th>\n      <th>لطیف</th>\n    </tr>\n    <tr>\n      <th>Unnamed: 0</th>\n      <th></th>\n      <th></th>\n      <th></th>\n      <th></th>\n      <th></th>\n      <th></th>\n      <th></th>\n      <th></th>\n      <th></th>\n      <th></th>\n      <th></th>\n      <th></th>\n      <th></th>\n      <th></th>\n      <th></th>\n      <th></th>\n      <th></th>\n    </tr>\n  </thead>\n  <tbody>\n    <tr>\n      <th>Shakhes_kol</th>\n      <td>1.000000</td>\n      <td>0.913426</td>\n      <td>0.890251</td>\n      <td>0.880970</td>\n      <td>0.970080</td>\n      <td>0.974287</td>\n      <td>-0.168066</td>\n      <td>0.871850</td>\n      <td>0.614428</td>\n      <td>0.631239</td>\n      <td>0.892790</td>\n      <td>-0.056014</td>\n      <td>0.834934</td>\n      <td>0.932929</td>\n      <td>0.929420</td>\n      <td>0.777784</td>\n      <td>0.893864</td>\n    </tr>\n    <tr>\n      <th>آباد</th>\n      <td>0.913426</td>\n      <td>1.000000</td>\n      <td>0.762367</td>\n      <td>0.613438</td>\n      <td>0.875776</td>\n      <td>0.779600</td>\n      <td>0.540806</td>\n      <td>0.809279</td>\n      <td>-0.076360</td>\n      <td>0.539581</td>\n      <td>0.876796</td>\n      <td>0.163348</td>\n      <td>0.626536</td>\n      <td>0.818829</td>\n      <td>0.760992</td>\n      <td>0.587401</td>\n      <td>0.543701</td>\n    </tr>\n    <tr>\n      <th>اردستان</th>\n      <td>0.890251</td>\n      <td>0.762367</td>\n      <td>1.000000</td>\n      <td>0.734228</td>\n      <td>0.778485</td>\n      <td>0.885453</td>\n      <td>0.910674</td>\n      <td>0.886299</td>\n      <td>0.159712</td>\n      <td>0.842921</td>\n      <td>0.882237</td>\n      <td>0.866480</td>\n      <td>0.778866</td>\n      <td>0.809883</td>\n      <td>0.403196</td>\n      <td>0.674912</td>\n      <td>0.821884</td>\n    </tr>\n    <tr>\n      <th>جم پیلن</th>\n      <td>0.880970</td>\n      <td>0.613438</td>\n      <td>0.734228</td>\n      <td>1.000000</td>\n      <td>0.963045</td>\n      <td>0.919847</td>\n      <td>-0.561488</td>\n      <td>0.449665</td>\n      <td>0.617992</td>\n      <td>0.014877</td>\n      <td>0.793097</td>\n      <td>0.140979</td>\n      <td>0.763605</td>\n      <td>0.892390</td>\n      <td>0.733853</td>\n      <td>0.212996</td>\n      <td>0.687332</td>\n    </tr>\n    <tr>\n      <th>خراسان</th>\n      <td>0.970080</td>\n      <td>0.875776</td>\n      <td>0.778485</td>\n      <td>0.963045</td>\n      <td>1.000000</td>\n      <td>0.879359</td>\n      <td>0.622378</td>\n      <td>0.834478</td>\n      <td>0.646247</td>\n      <td>0.405821</td>\n      <td>0.814890</td>\n      <td>-0.015170</td>\n      <td>0.755560</td>\n      <td>0.836712</td>\n      <td>0.833517</td>\n      <td>0.785072</td>\n      <td>0.582177</td>\n    </tr>\n    <tr>\n      <th>سآبیک</th>\n      <td>0.974287</td>\n      <td>0.779600</td>\n      <td>0.885453</td>\n      <td>0.919847</td>\n      <td>0.879359</td>\n      <td>1.000000</td>\n      <td>0.916495</td>\n      <td>0.071492</td>\n      <td>0.474516</td>\n      <td>0.954933</td>\n      <td>0.935507</td>\n      <td>0.352497</td>\n      <td>0.837712</td>\n      <td>0.961656</td>\n      <td>0.775858</td>\n      <td>0.733527</td>\n      <td>0.905290</td>\n    </tr>\n    <tr>\n      <th>شهر</th>\n      <td>-0.168066</td>\n      <td>0.540806</td>\n      <td>0.910674</td>\n      <td>-0.561488</td>\n      <td>0.622378</td>\n      <td>0.916495</td>\n      <td>1.000000</td>\n      <td>0.978637</td>\n      <td>-0.707056</td>\n      <td>-0.648267</td>\n      <td>-0.892915</td>\n      <td>0.524442</td>\n      <td>0.525360</td>\n      <td>0.281778</td>\n      <td>0.039093</td>\n      <td>0.951006</td>\n      <td>0.511865</td>\n    </tr>\n    <tr>\n      <th>کساپا</th>\n      <td>0.871850</td>\n      <td>0.809279</td>\n      <td>0.886299</td>\n      <td>0.449665</td>\n      <td>0.834478</td>\n      <td>0.071492</td>\n      <td>0.978637</td>\n      <td>1.000000</td>\n      <td>0.674497</td>\n      <td>0.556631</td>\n      <td>0.134349</td>\n      <td>-0.644491</td>\n      <td>0.325609</td>\n      <td>-0.012494</td>\n      <td>0.659942</td>\n      <td>0.624503</td>\n      <td>0.378553</td>\n    </tr>\n    <tr>\n      <th>ولکار</th>\n      <td>0.614428</td>\n      <td>-0.076360</td>\n      <td>0.159712</td>\n      <td>0.617992</td>\n      <td>0.646247</td>\n      <td>0.474516</td>\n      <td>-0.707056</td>\n      <td>0.674497</td>\n      <td>1.000000</td>\n      <td>0.123012</td>\n      <td>0.293023</td>\n      <td>-0.434973</td>\n      <td>0.791601</td>\n      <td>0.310142</td>\n      <td>0.036181</td>\n      <td>0.184671</td>\n      <td>0.558052</td>\n    </tr>\n    <tr>\n      <th>تبرک</th>\n      <td>0.631239</td>\n      <td>0.539581</td>\n      <td>0.842921</td>\n      <td>0.014877</td>\n      <td>0.405821</td>\n      <td>0.954933</td>\n      <td>-0.648267</td>\n      <td>0.556631</td>\n      <td>0.123012</td>\n      <td>1.000000</td>\n      <td>0.884125</td>\n      <td>-0.171034</td>\n      <td>0.860761</td>\n      <td>0.918342</td>\n      <td>0.599940</td>\n      <td>0.832583</td>\n      <td>0.797771</td>\n    </tr>\n    <tr>\n      <th>تجلی</th>\n      <td>0.892790</td>\n      <td>0.876796</td>\n      <td>0.882237</td>\n      <td>0.793097</td>\n      <td>0.814890</td>\n      <td>0.935507</td>\n      <td>-0.892915</td>\n      <td>0.134349</td>\n      <td>0.293023</td>\n      <td>0.884125</td>\n      <td>1.000000</td>\n      <td>0.173120</td>\n      <td>0.725118</td>\n      <td>0.929067</td>\n      <td>0.614424</td>\n      <td>0.694033</td>\n      <td>0.774056</td>\n    </tr>\n    <tr>\n      <th>توسن</th>\n      <td>-0.056014</td>\n      <td>0.163348</td>\n      <td>0.866480</td>\n      <td>0.140979</td>\n      <td>-0.015170</td>\n      <td>0.352497</td>\n      <td>0.524442</td>\n      <td>-0.644491</td>\n      <td>-0.434973</td>\n      <td>-0.171034</td>\n      <td>0.173120</td>\n      <td>1.000000</td>\n      <td>-0.157653</td>\n      <td>0.441378</td>\n      <td>0.346450</td>\n      <td>0.811655</td>\n      <td>-0.214324</td>\n    </tr>\n    <tr>\n      <th>حگهر</th>\n      <td>0.834934</td>\n      <td>0.626536</td>\n      <td>0.778866</td>\n      <td>0.763605</td>\n      <td>0.755560</td>\n      <td>0.837712</td>\n      <td>0.525360</td>\n      <td>0.325609</td>\n      <td>0.791601</td>\n      <td>0.860761</td>\n      <td>0.725118</td>\n      <td>-0.157653</td>\n      <td>1.000000</td>\n      <td>0.752661</td>\n      <td>0.512223</td>\n      <td>0.567501</td>\n      <td>0.931808</td>\n    </tr>\n    <tr>\n      <th>ددانا</th>\n      <td>0.932929</td>\n      <td>0.818829</td>\n      <td>0.809883</td>\n      <td>0.892390</td>\n      <td>0.836712</td>\n      <td>0.961656</td>\n      <td>0.281778</td>\n      <td>-0.012494</td>\n      <td>0.310142</td>\n      <td>0.918342</td>\n      <td>0.929067</td>\n      <td>0.441378</td>\n      <td>0.752661</td>\n      <td>1.000000</td>\n      <td>0.707521</td>\n      <td>0.836394</td>\n      <td>0.851914</td>\n    </tr>\n    <tr>\n      <th>کگهر</th>\n      <td>0.929420</td>\n      <td>0.760992</td>\n      <td>0.403196</td>\n      <td>0.733853</td>\n      <td>0.833517</td>\n      <td>0.775858</td>\n      <td>0.039093</td>\n      <td>0.659942</td>\n      <td>0.036181</td>\n      <td>0.599940</td>\n      <td>0.614424</td>\n      <td>0.346450</td>\n      <td>0.512223</td>\n      <td>0.707521</td>\n      <td>1.000000</td>\n      <td>-0.301409</td>\n      <td>0.525765</td>\n    </tr>\n    <tr>\n      <th>گلدیرا</th>\n      <td>0.777784</td>\n      <td>0.587401</td>\n      <td>0.674912</td>\n      <td>0.212996</td>\n      <td>0.785072</td>\n      <td>0.733527</td>\n      <td>0.951006</td>\n      <td>0.624503</td>\n      <td>0.184671</td>\n      <td>0.832583</td>\n      <td>0.694033</td>\n      <td>0.811655</td>\n      <td>0.567501</td>\n      <td>0.836394</td>\n      <td>-0.301409</td>\n      <td>1.000000</td>\n      <td>0.565669</td>\n    </tr>\n    <tr>\n      <th>لطیف</th>\n      <td>0.893864</td>\n      <td>0.543701</td>\n      <td>0.821884</td>\n      <td>0.687332</td>\n      <td>0.582177</td>\n      <td>0.905290</td>\n      <td>0.511865</td>\n      <td>0.378553</td>\n      <td>0.558052</td>\n      <td>0.797771</td>\n      <td>0.774056</td>\n      <td>-0.214324</td>\n      <td>0.931808</td>\n      <td>0.851914</td>\n      <td>0.525765</td>\n      <td>0.565669</td>\n      <td>1.000000</td>\n    </tr>\n  </tbody>\n</table>\n</div>"
     },
     "execution_count": 111,
     "metadata": {},
     "output_type": "execute_result"
    }
   ],
   "source": [
    "a = cor.loc[l, l]\n",
    "a"
   ],
   "metadata": {
    "collapsed": false,
    "pycharm": {
     "name": "#%%\n"
    }
   }
  },
  {
   "cell_type": "code",
   "execution_count": 112,
   "outputs": [
    {
     "data": {
      "text/plain": "             Shakhes_kol   آباد  اردستان  جم پیلن  خراسان  سآبیک    شهر  \\\nUnnamed: 0                                                                \nShakhes_kol        False  False    False    False   False  False   True   \nآباد               False  False    False    False   False  False  False   \nاردستان            False  False    False    False   False  False  False   \nجم پیلن            False  False    False    False   False  False   True   \nخراسان             False  False    False    False   False  False  False   \nسآبیک              False  False    False    False   False  False  False   \nشهر                 True  False    False     True   False  False  False   \nکساپا              False  False    False     True   False   True  False   \nولکار              False   True     True    False   False   True   True   \nتبرک               False  False    False     True    True  False   True   \nتجلی               False  False    False    False   False  False   True   \nتوسن                True   True    False     True    True   True  False   \nحگهر               False  False    False    False   False  False  False   \nددانا              False  False    False    False   False  False   True   \nکگهر               False  False     True    False   False  False   True   \nگلدیرا             False  False    False     True   False  False  False   \nلطیف               False  False    False    False   False  False  False   \n\n             کساپا  ولکار   تبرک   تجلی   توسن   حگهر  ددانا   کگهر  گلدیرا  \\\nUnnamed: 0                                                                    \nShakhes_kol  False  False  False  False   True  False  False  False   False   \nآباد         False   True  False  False   True  False  False  False   False   \nاردستان      False   True  False  False  False  False  False   True   False   \nجم پیلن       True  False   True  False   True  False  False  False    True   \nخراسان       False  False   True  False   True  False  False  False   False   \nسآبیک         True   True  False  False   True  False  False  False   False   \nشهر          False   True   True   True  False  False   True   True   False   \nکساپا        False  False  False   True   True   True   True  False   False   \nولکار        False  False   True   True   True  False   True   True    True   \nتبرک         False   True  False  False   True  False  False  False   False   \nتجلی          True   True  False  False   True  False  False  False   False   \nتوسن          True   True   True   True  False   True   True   True   False   \nحگهر          True  False  False  False   True  False  False  False   False   \nددانا         True   True  False  False   True  False  False  False   False   \nکگهر         False   True  False  False   True  False  False  False    True   \nگلدیرا       False   True  False  False  False  False  False   True   False   \nلطیف          True  False  False  False   True  False  False  False   False   \n\n              لطیف  \nUnnamed: 0          \nShakhes_kol  False  \nآباد         False  \nاردستان      False  \nجم پیلن      False  \nخراسان       False  \nسآبیک        False  \nشهر          False  \nکساپا         True  \nولکار        False  \nتبرک         False  \nتجلی         False  \nتوسن          True  \nحگهر         False  \nددانا        False  \nکگهر         False  \nگلدیرا       False  \nلطیف         False  ",
      "text/html": "<div>\n<style scoped>\n    .dataframe tbody tr th:only-of-type {\n        vertical-align: middle;\n    }\n\n    .dataframe tbody tr th {\n        vertical-align: top;\n    }\n\n    .dataframe thead th {\n        text-align: right;\n    }\n</style>\n<table border=\"1\" class=\"dataframe\">\n  <thead>\n    <tr style=\"text-align: right;\">\n      <th></th>\n      <th>Shakhes_kol</th>\n      <th>آباد</th>\n      <th>اردستان</th>\n      <th>جم پیلن</th>\n      <th>خراسان</th>\n      <th>سآبیک</th>\n      <th>شهر</th>\n      <th>کساپا</th>\n      <th>ولکار</th>\n      <th>تبرک</th>\n      <th>تجلی</th>\n      <th>توسن</th>\n      <th>حگهر</th>\n      <th>ددانا</th>\n      <th>کگهر</th>\n      <th>گلدیرا</th>\n      <th>لطیف</th>\n    </tr>\n    <tr>\n      <th>Unnamed: 0</th>\n      <th></th>\n      <th></th>\n      <th></th>\n      <th></th>\n      <th></th>\n      <th></th>\n      <th></th>\n      <th></th>\n      <th></th>\n      <th></th>\n      <th></th>\n      <th></th>\n      <th></th>\n      <th></th>\n      <th></th>\n      <th></th>\n      <th></th>\n    </tr>\n  </thead>\n  <tbody>\n    <tr>\n      <th>Shakhes_kol</th>\n      <td>False</td>\n      <td>False</td>\n      <td>False</td>\n      <td>False</td>\n      <td>False</td>\n      <td>False</td>\n      <td>True</td>\n      <td>False</td>\n      <td>False</td>\n      <td>False</td>\n      <td>False</td>\n      <td>True</td>\n      <td>False</td>\n      <td>False</td>\n      <td>False</td>\n      <td>False</td>\n      <td>False</td>\n    </tr>\n    <tr>\n      <th>آباد</th>\n      <td>False</td>\n      <td>False</td>\n      <td>False</td>\n      <td>False</td>\n      <td>False</td>\n      <td>False</td>\n      <td>False</td>\n      <td>False</td>\n      <td>True</td>\n      <td>False</td>\n      <td>False</td>\n      <td>True</td>\n      <td>False</td>\n      <td>False</td>\n      <td>False</td>\n      <td>False</td>\n      <td>False</td>\n    </tr>\n    <tr>\n      <th>اردستان</th>\n      <td>False</td>\n      <td>False</td>\n      <td>False</td>\n      <td>False</td>\n      <td>False</td>\n      <td>False</td>\n      <td>False</td>\n      <td>False</td>\n      <td>True</td>\n      <td>False</td>\n      <td>False</td>\n      <td>False</td>\n      <td>False</td>\n      <td>False</td>\n      <td>True</td>\n      <td>False</td>\n      <td>False</td>\n    </tr>\n    <tr>\n      <th>جم پیلن</th>\n      <td>False</td>\n      <td>False</td>\n      <td>False</td>\n      <td>False</td>\n      <td>False</td>\n      <td>False</td>\n      <td>True</td>\n      <td>True</td>\n      <td>False</td>\n      <td>True</td>\n      <td>False</td>\n      <td>True</td>\n      <td>False</td>\n      <td>False</td>\n      <td>False</td>\n      <td>True</td>\n      <td>False</td>\n    </tr>\n    <tr>\n      <th>خراسان</th>\n      <td>False</td>\n      <td>False</td>\n      <td>False</td>\n      <td>False</td>\n      <td>False</td>\n      <td>False</td>\n      <td>False</td>\n      <td>False</td>\n      <td>False</td>\n      <td>True</td>\n      <td>False</td>\n      <td>True</td>\n      <td>False</td>\n      <td>False</td>\n      <td>False</td>\n      <td>False</td>\n      <td>False</td>\n    </tr>\n    <tr>\n      <th>سآبیک</th>\n      <td>False</td>\n      <td>False</td>\n      <td>False</td>\n      <td>False</td>\n      <td>False</td>\n      <td>False</td>\n      <td>False</td>\n      <td>True</td>\n      <td>True</td>\n      <td>False</td>\n      <td>False</td>\n      <td>True</td>\n      <td>False</td>\n      <td>False</td>\n      <td>False</td>\n      <td>False</td>\n      <td>False</td>\n    </tr>\n    <tr>\n      <th>شهر</th>\n      <td>True</td>\n      <td>False</td>\n      <td>False</td>\n      <td>True</td>\n      <td>False</td>\n      <td>False</td>\n      <td>False</td>\n      <td>False</td>\n      <td>True</td>\n      <td>True</td>\n      <td>True</td>\n      <td>False</td>\n      <td>False</td>\n      <td>True</td>\n      <td>True</td>\n      <td>False</td>\n      <td>False</td>\n    </tr>\n    <tr>\n      <th>کساپا</th>\n      <td>False</td>\n      <td>False</td>\n      <td>False</td>\n      <td>True</td>\n      <td>False</td>\n      <td>True</td>\n      <td>False</td>\n      <td>False</td>\n      <td>False</td>\n      <td>False</td>\n      <td>True</td>\n      <td>True</td>\n      <td>True</td>\n      <td>True</td>\n      <td>False</td>\n      <td>False</td>\n      <td>True</td>\n    </tr>\n    <tr>\n      <th>ولکار</th>\n      <td>False</td>\n      <td>True</td>\n      <td>True</td>\n      <td>False</td>\n      <td>False</td>\n      <td>True</td>\n      <td>True</td>\n      <td>False</td>\n      <td>False</td>\n      <td>True</td>\n      <td>True</td>\n      <td>True</td>\n      <td>False</td>\n      <td>True</td>\n      <td>True</td>\n      <td>True</td>\n      <td>False</td>\n    </tr>\n    <tr>\n      <th>تبرک</th>\n      <td>False</td>\n      <td>False</td>\n      <td>False</td>\n      <td>True</td>\n      <td>True</td>\n      <td>False</td>\n      <td>True</td>\n      <td>False</td>\n      <td>True</td>\n      <td>False</td>\n      <td>False</td>\n      <td>True</td>\n      <td>False</td>\n      <td>False</td>\n      <td>False</td>\n      <td>False</td>\n      <td>False</td>\n    </tr>\n    <tr>\n      <th>تجلی</th>\n      <td>False</td>\n      <td>False</td>\n      <td>False</td>\n      <td>False</td>\n      <td>False</td>\n      <td>False</td>\n      <td>True</td>\n      <td>True</td>\n      <td>True</td>\n      <td>False</td>\n      <td>False</td>\n      <td>True</td>\n      <td>False</td>\n      <td>False</td>\n      <td>False</td>\n      <td>False</td>\n      <td>False</td>\n    </tr>\n    <tr>\n      <th>توسن</th>\n      <td>True</td>\n      <td>True</td>\n      <td>False</td>\n      <td>True</td>\n      <td>True</td>\n      <td>True</td>\n      <td>False</td>\n      <td>True</td>\n      <td>True</td>\n      <td>True</td>\n      <td>True</td>\n      <td>False</td>\n      <td>True</td>\n      <td>True</td>\n      <td>True</td>\n      <td>False</td>\n      <td>True</td>\n    </tr>\n    <tr>\n      <th>حگهر</th>\n      <td>False</td>\n      <td>False</td>\n      <td>False</td>\n      <td>False</td>\n      <td>False</td>\n      <td>False</td>\n      <td>False</td>\n      <td>True</td>\n      <td>False</td>\n      <td>False</td>\n      <td>False</td>\n      <td>True</td>\n      <td>False</td>\n      <td>False</td>\n      <td>False</td>\n      <td>False</td>\n      <td>False</td>\n    </tr>\n    <tr>\n      <th>ددانا</th>\n      <td>False</td>\n      <td>False</td>\n      <td>False</td>\n      <td>False</td>\n      <td>False</td>\n      <td>False</td>\n      <td>True</td>\n      <td>True</td>\n      <td>True</td>\n      <td>False</td>\n      <td>False</td>\n      <td>True</td>\n      <td>False</td>\n      <td>False</td>\n      <td>False</td>\n      <td>False</td>\n      <td>False</td>\n    </tr>\n    <tr>\n      <th>کگهر</th>\n      <td>False</td>\n      <td>False</td>\n      <td>True</td>\n      <td>False</td>\n      <td>False</td>\n      <td>False</td>\n      <td>True</td>\n      <td>False</td>\n      <td>True</td>\n      <td>False</td>\n      <td>False</td>\n      <td>True</td>\n      <td>False</td>\n      <td>False</td>\n      <td>False</td>\n      <td>True</td>\n      <td>False</td>\n    </tr>\n    <tr>\n      <th>گلدیرا</th>\n      <td>False</td>\n      <td>False</td>\n      <td>False</td>\n      <td>True</td>\n      <td>False</td>\n      <td>False</td>\n      <td>False</td>\n      <td>False</td>\n      <td>True</td>\n      <td>False</td>\n      <td>False</td>\n      <td>False</td>\n      <td>False</td>\n      <td>False</td>\n      <td>True</td>\n      <td>False</td>\n      <td>False</td>\n    </tr>\n    <tr>\n      <th>لطیف</th>\n      <td>False</td>\n      <td>False</td>\n      <td>False</td>\n      <td>False</td>\n      <td>False</td>\n      <td>False</td>\n      <td>False</td>\n      <td>True</td>\n      <td>False</td>\n      <td>False</td>\n      <td>False</td>\n      <td>True</td>\n      <td>False</td>\n      <td>False</td>\n      <td>False</td>\n      <td>False</td>\n      <td>False</td>\n    </tr>\n  </tbody>\n</table>\n</div>"
     },
     "execution_count": 112,
     "metadata": {},
     "output_type": "execute_result"
    }
   ],
   "source": [
    "a < 0.5"
   ],
   "metadata": {
    "collapsed": false,
    "pycharm": {
     "name": "#%%\n"
    }
   }
  },
  {
   "cell_type": "code",
   "execution_count": 113,
   "outputs": [
    {
     "data": {
      "text/plain": "             Shakhes_kol      آباد   جم پیلن    خراسان     کساپا      تبرک  \\\nUnnamed: 0                                                                   \nShakhes_kol     1.000000  0.913426  0.880970  0.970080  0.871850  0.631239   \nآباد            0.913426  1.000000  0.613438  0.875776  0.809279  0.539581   \nجم پیلن         0.880970  0.613438  1.000000  0.963045  0.449665  0.014877   \nخراسان          0.970080  0.875776  0.963045  1.000000  0.834478  0.405821   \nکساپا           0.871850  0.809279  0.449665  0.834478  1.000000  0.556631   \nتبرک            0.631239  0.539581  0.014877  0.405821  0.556631  1.000000   \nکگهر            0.929420  0.760992  0.733853  0.833517  0.659942  0.599940   \n\n                 کگهر  \nUnnamed: 0             \nShakhes_kol  0.929420  \nآباد         0.760992  \nجم پیلن      0.733853  \nخراسان       0.833517  \nکساپا        0.659942  \nتبرک         0.599940  \nکگهر         1.000000  ",
      "text/html": "<div>\n<style scoped>\n    .dataframe tbody tr th:only-of-type {\n        vertical-align: middle;\n    }\n\n    .dataframe tbody tr th {\n        vertical-align: top;\n    }\n\n    .dataframe thead th {\n        text-align: right;\n    }\n</style>\n<table border=\"1\" class=\"dataframe\">\n  <thead>\n    <tr style=\"text-align: right;\">\n      <th></th>\n      <th>Shakhes_kol</th>\n      <th>آباد</th>\n      <th>جم پیلن</th>\n      <th>خراسان</th>\n      <th>کساپا</th>\n      <th>تبرک</th>\n      <th>کگهر</th>\n    </tr>\n    <tr>\n      <th>Unnamed: 0</th>\n      <th></th>\n      <th></th>\n      <th></th>\n      <th></th>\n      <th></th>\n      <th></th>\n      <th></th>\n    </tr>\n  </thead>\n  <tbody>\n    <tr>\n      <th>Shakhes_kol</th>\n      <td>1.000000</td>\n      <td>0.913426</td>\n      <td>0.880970</td>\n      <td>0.970080</td>\n      <td>0.871850</td>\n      <td>0.631239</td>\n      <td>0.929420</td>\n    </tr>\n    <tr>\n      <th>آباد</th>\n      <td>0.913426</td>\n      <td>1.000000</td>\n      <td>0.613438</td>\n      <td>0.875776</td>\n      <td>0.809279</td>\n      <td>0.539581</td>\n      <td>0.760992</td>\n    </tr>\n    <tr>\n      <th>جم پیلن</th>\n      <td>0.880970</td>\n      <td>0.613438</td>\n      <td>1.000000</td>\n      <td>0.963045</td>\n      <td>0.449665</td>\n      <td>0.014877</td>\n      <td>0.733853</td>\n    </tr>\n    <tr>\n      <th>خراسان</th>\n      <td>0.970080</td>\n      <td>0.875776</td>\n      <td>0.963045</td>\n      <td>1.000000</td>\n      <td>0.834478</td>\n      <td>0.405821</td>\n      <td>0.833517</td>\n    </tr>\n    <tr>\n      <th>کساپا</th>\n      <td>0.871850</td>\n      <td>0.809279</td>\n      <td>0.449665</td>\n      <td>0.834478</td>\n      <td>1.000000</td>\n      <td>0.556631</td>\n      <td>0.659942</td>\n    </tr>\n    <tr>\n      <th>تبرک</th>\n      <td>0.631239</td>\n      <td>0.539581</td>\n      <td>0.014877</td>\n      <td>0.405821</td>\n      <td>0.556631</td>\n      <td>1.000000</td>\n      <td>0.599940</td>\n    </tr>\n    <tr>\n      <th>کگهر</th>\n      <td>0.929420</td>\n      <td>0.760992</td>\n      <td>0.733853</td>\n      <td>0.833517</td>\n      <td>0.659942</td>\n      <td>0.599940</td>\n      <td>1.000000</td>\n    </tr>\n  </tbody>\n</table>\n</div>"
     },
     "execution_count": 113,
     "metadata": {},
     "output_type": "execute_result"
    }
   ],
   "source": [
    "a1 = cor.loc[c, c]\n",
    "a1"
   ],
   "metadata": {
    "collapsed": false,
    "pycharm": {
     "name": "#%%\n"
    }
   }
  },
  {
   "cell_type": "code",
   "execution_count": 114,
   "outputs": [],
   "source": [
    "num = pd.Series(np.array([np.nan] * len(a.index)), index=l)\n",
    "for i in a.columns:\n",
    "    n = 0\n",
    "    for j in a.index:\n",
    "        if a[i][j] < 0.45:\n",
    "            n += 1\n",
    "    num[i] = n"
   ],
   "metadata": {
    "collapsed": false,
    "pycharm": {
     "name": "#%%\n"
    }
   }
  },
  {
   "cell_type": "code",
   "execution_count": 115,
   "outputs": [
    {
     "data": {
      "text/plain": "Shakhes_kol     2.0\nآباد            2.0\nاردستان         2.0\nجم پیلن         5.0\nخراسان          2.0\nسآبیک           2.0\nشهر             7.0\nکساپا           7.0\nولکار           9.0\nتبرک            5.0\nتجلی            4.0\nتوسن           13.0\nحگهر            2.0\nددانا           4.0\nکگهر            5.0\nگلدیرا          3.0\nلطیف            2.0\ndtype: float64"
     },
     "execution_count": 115,
     "metadata": {},
     "output_type": "execute_result"
    }
   ],
   "source": [
    "num"
   ],
   "metadata": {
    "collapsed": false,
    "pycharm": {
     "name": "#%%\n"
    }
   }
  },
  {
   "cell_type": "code",
   "execution_count": 72,
   "outputs": [
    {
     "name": "stdout",
     "output_type": "stream",
     "text": [
      "شهر\n",
      "توسن\n"
     ]
    }
   ],
   "source": [
    "for i in a.index:\n",
    "    if a['Shakhes_kol'][i] < 0.5:\n",
    "        print(i)\n"
   ],
   "metadata": {
    "collapsed": false,
    "pycharm": {
     "name": "#%%\n"
    }
   }
  },
  {
   "cell_type": "code",
   "execution_count": 73,
   "outputs": [
    {
     "name": "stdout",
     "output_type": "stream",
     "text": [
      "آباد\n",
      "اردستان\n",
      "سآبیک\n",
      "شهر\n",
      "تبرک\n",
      "تجلی\n",
      "توسن\n",
      "ددانا\n",
      "کگهر\n",
      "گلدیرا\n"
     ]
    }
   ],
   "source": [
    "for i in a.index:\n",
    "    if a['ولکار'][i] < 0.5:\n",
    "        print(i)\n"
   ],
   "metadata": {
    "collapsed": false,
    "pycharm": {
     "name": "#%%\n"
    }
   }
  },
  {
   "cell_type": "code",
   "execution_count": 74,
   "outputs": [
    {
     "name": "stdout",
     "output_type": "stream",
     "text": [
      "کساپا\n",
      "توسن\n"
     ]
    }
   ],
   "source": [
    "for i in a.index:\n",
    "    if a['حگهر'][i] < 0.5:\n",
    "        print(i)"
   ],
   "metadata": {
    "collapsed": false,
    "pycharm": {
     "name": "#%%\n"
    }
   }
  },
  {
   "cell_type": "code",
   "execution_count": 75,
   "outputs": [
    {
     "name": "stdout",
     "output_type": "stream",
     "text": [
      "کساپا\n",
      "توسن\n"
     ]
    }
   ],
   "source": [
    "for i in a.index:\n",
    "    if a['لطیف'][i] < 0.5:\n",
    "        print(i)"
   ],
   "metadata": {
    "collapsed": false,
    "pycharm": {
     "name": "#%%\n"
    }
   }
  },
  {
   "cell_type": "code",
   "execution_count": 76,
   "outputs": [
    {
     "name": "stdout",
     "output_type": "stream",
     "text": [
      "شهر\n",
      "کساپا\n",
      "ولکار\n",
      "توسن\n"
     ]
    }
   ],
   "source": [
    "for i in a.index:\n",
    "    if a['تجلی'][i] < 0.5:\n",
    "        print(i)"
   ],
   "metadata": {
    "collapsed": false,
    "pycharm": {
     "name": "#%%\n"
    }
   }
  },
  {
   "cell_type": "code",
   "execution_count": 77,
   "outputs": [
    {
     "name": "stdout",
     "output_type": "stream",
     "text": [
      "Shakhes_kol\n",
      "آباد\n",
      "جم پیلن\n",
      "خراسان\n",
      "سآبیک\n",
      "کساپا\n",
      "ولکار\n",
      "تبرک\n",
      "تجلی\n",
      "حگهر\n",
      "ددانا\n",
      "کگهر\n",
      "لطیف\n"
     ]
    }
   ],
   "source": [
    "for i in a.index:\n",
    "    if a['توسن'][i] < 0.5:\n",
    "        print(i)"
   ],
   "metadata": {
    "collapsed": false,
    "pycharm": {
     "name": "#%%\n"
    }
   }
  },
  {
   "cell_type": "code",
   "execution_count": 123,
   "outputs": [
    {
     "data": {
      "text/plain": "7"
     },
     "execution_count": 123,
     "metadata": {},
     "output_type": "execute_result"
    }
   ],
   "source": [
    "len(a1.index)"
   ],
   "metadata": {
    "collapsed": false,
    "pycharm": {
     "name": "#%%\n"
    }
   }
  },
  {
   "cell_type": "code",
   "execution_count": 128,
   "outputs": [
    {
     "data": {
      "text/plain": "Unnamed: 0\nShakhes_kol    1.0\nآباد           2.0\nجم پیلن        3.0\nخراسان         1.0\nکساپا          3.0\nتبرک           6.0\nکگهر           2.0\ndtype: float64"
     },
     "execution_count": 128,
     "metadata": {},
     "output_type": "execute_result"
    }
   ],
   "source": [
    "num1 = pd.Series(np.array([np.nan] * len(a1.index)), index=a1.index)\n",
    "for i in a1.columns:\n",
    "    n = 0\n",
    "    for j in a1.index:\n",
    "        if a1[i][j] < 0.7:\n",
    "            n+=1\n",
    "    num1[i]=n\n",
    "num1"
   ],
   "metadata": {
    "collapsed": false,
    "pycharm": {
     "name": "#%%\n"
    }
   }
  },
  {
   "cell_type": "code",
   "execution_count": 129,
   "outputs": [
    {
     "name": "stdout",
     "output_type": "stream",
     "text": [
      "Shakhes_kol\n",
      "آباد\n",
      "جم پیلن\n",
      "خراسان\n",
      "کساپا\n",
      "کگهر\n"
     ]
    }
   ],
   "source": [
    "for i in a1.index:\n",
    "    if a1['تبرک'][i] <0.7:\n",
    "        print(i)"
   ],
   "metadata": {
    "collapsed": false,
    "pycharm": {
     "name": "#%%\n"
    }
   }
  },
  {
   "cell_type": "code",
   "execution_count": null,
   "outputs": [],
   "source": [],
   "metadata": {
    "collapsed": false,
    "pycharm": {
     "name": "#%%\n"
    }
   }
  }
 ],
 "metadata": {
  "kernelspec": {
   "display_name": "Python 3",
   "language": "python",
   "name": "python3"
  },
  "language_info": {
   "codemirror_mode": {
    "name": "ipython",
    "version": 2
   },
   "file_extension": ".py",
   "mimetype": "text/x-python",
   "name": "python",
   "nbconvert_exporter": "python",
   "pygments_lexer": "ipython2",
   "version": "2.7.6"
  }
 },
 "nbformat": 4,
 "nbformat_minor": 0
}