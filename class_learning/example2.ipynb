{
 "cells": [
  {
   "cell_type": "code",
   "execution_count": 34,
   "metadata": {
    "collapsed": true
   },
   "outputs": [],
   "source": [
    "import numpy as np\n",
    "import pandas as pd\n",
    "import matplotlib.pyplot as plt\n",
    "import openpyxl\n",
    "import seaborn as sb"
   ]
  },
  {
   "cell_type": "code",
   "execution_count": 35,
   "outputs": [
    {
     "data": {
      "text/plain": "'2.5\\n21\\n5.1\\n47\\n3.2\\n27\\n8.5\\n75\\n3.5\\n30\\n1.5\\n20\\n9.2\\n88\\n5.5\\n60\\n8.3\\n81\\n2.7\\n25\\n7.7\\n85\\n5.9\\n62\\n4.5\\n41\\n3.3\\n42\\n1.1\\n17\\n8.9\\n95\\n2.5\\n30\\n1.9\\n24\\n6.1\\n67\\n7.4\\n69\\n2.7\\n30\\n4.8\\n54\\n3.8\\n35\\n6.9\\n76\\n7.8\\n86'"
     },
     "execution_count": 35,
     "metadata": {},
     "output_type": "execute_result"
    }
   ],
   "source": [
    "path = 'C:\\\\Users\\\\ADMIN\\\\Desktop\\\\New Text Document.txt'\n",
    "file = open(path)\n",
    "str = file.read()\n",
    "str"
   ],
   "metadata": {
    "collapsed": false,
    "pycharm": {
     "name": "#%%\n"
    }
   }
  },
  {
   "cell_type": "code",
   "execution_count": 38,
   "outputs": [
    {
     "data": {
      "text/plain": "'2.5'"
     },
     "execution_count": 38,
     "metadata": {},
     "output_type": "execute_result"
    }
   ],
   "source": [
    "data_list = str.split('\\n')\n",
    "data_list\n",
    "data_list[0]"
   ],
   "metadata": {
    "collapsed": false,
    "pycharm": {
     "name": "#%%\n"
    }
   }
  },
  {
   "cell_type": "code",
   "execution_count": 44,
   "outputs": [],
   "source": [
    "hour = []\n",
    "score = []\n",
    "for i in range(len(data_list)):\n",
    "    if i % 2 == 0:\n",
    "        hour.append(float(data_list[i]))\n",
    "    else:\n",
    "        score.append(float(data_list[i]))\n",
    "\n"
   ],
   "metadata": {
    "collapsed": false,
    "pycharm": {
     "name": "#%%\n"
    }
   }
  },
  {
   "cell_type": "code",
   "execution_count": 45,
   "outputs": [
    {
     "data": {
      "text/plain": "[2.5,\n 5.1,\n 3.2,\n 8.5,\n 3.5,\n 1.5,\n 9.2,\n 5.5,\n 8.3,\n 2.7,\n 7.7,\n 5.9,\n 4.5,\n 3.3,\n 1.1,\n 8.9,\n 2.5,\n 1.9,\n 6.1,\n 7.4,\n 2.7,\n 4.8,\n 3.8,\n 6.9,\n 7.8]"
     },
     "execution_count": 45,
     "metadata": {},
     "output_type": "execute_result"
    }
   ],
   "source": [
    "hour"
   ],
   "metadata": {
    "collapsed": false,
    "pycharm": {
     "name": "#%%\n"
    }
   }
  },
  {
   "cell_type": "code",
   "execution_count": 46,
   "outputs": [
    {
     "data": {
      "text/plain": "[21.0,\n 47.0,\n 27.0,\n 75.0,\n 30.0,\n 20.0,\n 88.0,\n 60.0,\n 81.0,\n 25.0,\n 85.0,\n 62.0,\n 41.0,\n 42.0,\n 17.0,\n 95.0,\n 30.0,\n 24.0,\n 67.0,\n 69.0,\n 30.0,\n 54.0,\n 35.0,\n 76.0,\n 86.0]"
     },
     "execution_count": 46,
     "metadata": {},
     "output_type": "execute_result"
    }
   ],
   "source": [
    "score"
   ],
   "metadata": {
    "collapsed": false,
    "pycharm": {
     "name": "#%%\n"
    }
   }
  },
  {
   "cell_type": "code",
   "execution_count": 53,
   "outputs": [
    {
     "data": {
      "text/plain": "{'hour': [2.5,\n  5.1,\n  3.2,\n  8.5,\n  3.5,\n  1.5,\n  9.2,\n  5.5,\n  8.3,\n  2.7,\n  7.7,\n  5.9,\n  4.5,\n  3.3,\n  1.1,\n  8.9,\n  2.5,\n  1.9,\n  6.1,\n  7.4,\n  2.7,\n  4.8,\n  3.8,\n  6.9,\n  7.8],\n 'Score': [21.0,\n  47.0,\n  27.0,\n  75.0,\n  30.0,\n  20.0,\n  88.0,\n  60.0,\n  81.0,\n  25.0,\n  85.0,\n  62.0,\n  41.0,\n  42.0,\n  17.0,\n  95.0,\n  30.0,\n  24.0,\n  67.0,\n  69.0,\n  30.0,\n  54.0,\n  35.0,\n  76.0,\n  86.0]}"
     },
     "execution_count": 53,
     "metadata": {},
     "output_type": "execute_result"
    }
   ],
   "source": [
    "dict = {}\n",
    "dict['hour'] = hour\n",
    "dict['Score']=score\n",
    "dict\n"
   ],
   "metadata": {
    "collapsed": false,
    "pycharm": {
     "name": "#%%\n"
    }
   }
  },
  {
   "cell_type": "code",
   "execution_count": 54,
   "outputs": [],
   "source": [
    "data=pd.DataFrame(dict)"
   ],
   "metadata": {
    "collapsed": false,
    "pycharm": {
     "name": "#%%\n"
    }
   }
  },
  {
   "cell_type": "code",
   "execution_count": 55,
   "outputs": [
    {
     "data": {
      "text/plain": "    hour  Score\n0    2.5   21.0\n1    5.1   47.0\n2    3.2   27.0\n3    8.5   75.0\n4    3.5   30.0\n5    1.5   20.0\n6    9.2   88.0\n7    5.5   60.0\n8    8.3   81.0\n9    2.7   25.0\n10   7.7   85.0\n11   5.9   62.0\n12   4.5   41.0\n13   3.3   42.0\n14   1.1   17.0\n15   8.9   95.0\n16   2.5   30.0\n17   1.9   24.0\n18   6.1   67.0\n19   7.4   69.0\n20   2.7   30.0\n21   4.8   54.0\n22   3.8   35.0\n23   6.9   76.0\n24   7.8   86.0",
      "text/html": "<div>\n<style scoped>\n    .dataframe tbody tr th:only-of-type {\n        vertical-align: middle;\n    }\n\n    .dataframe tbody tr th {\n        vertical-align: top;\n    }\n\n    .dataframe thead th {\n        text-align: right;\n    }\n</style>\n<table border=\"1\" class=\"dataframe\">\n  <thead>\n    <tr style=\"text-align: right;\">\n      <th></th>\n      <th>hour</th>\n      <th>Score</th>\n    </tr>\n  </thead>\n  <tbody>\n    <tr>\n      <th>0</th>\n      <td>2.5</td>\n      <td>21.0</td>\n    </tr>\n    <tr>\n      <th>1</th>\n      <td>5.1</td>\n      <td>47.0</td>\n    </tr>\n    <tr>\n      <th>2</th>\n      <td>3.2</td>\n      <td>27.0</td>\n    </tr>\n    <tr>\n      <th>3</th>\n      <td>8.5</td>\n      <td>75.0</td>\n    </tr>\n    <tr>\n      <th>4</th>\n      <td>3.5</td>\n      <td>30.0</td>\n    </tr>\n    <tr>\n      <th>5</th>\n      <td>1.5</td>\n      <td>20.0</td>\n    </tr>\n    <tr>\n      <th>6</th>\n      <td>9.2</td>\n      <td>88.0</td>\n    </tr>\n    <tr>\n      <th>7</th>\n      <td>5.5</td>\n      <td>60.0</td>\n    </tr>\n    <tr>\n      <th>8</th>\n      <td>8.3</td>\n      <td>81.0</td>\n    </tr>\n    <tr>\n      <th>9</th>\n      <td>2.7</td>\n      <td>25.0</td>\n    </tr>\n    <tr>\n      <th>10</th>\n      <td>7.7</td>\n      <td>85.0</td>\n    </tr>\n    <tr>\n      <th>11</th>\n      <td>5.9</td>\n      <td>62.0</td>\n    </tr>\n    <tr>\n      <th>12</th>\n      <td>4.5</td>\n      <td>41.0</td>\n    </tr>\n    <tr>\n      <th>13</th>\n      <td>3.3</td>\n      <td>42.0</td>\n    </tr>\n    <tr>\n      <th>14</th>\n      <td>1.1</td>\n      <td>17.0</td>\n    </tr>\n    <tr>\n      <th>15</th>\n      <td>8.9</td>\n      <td>95.0</td>\n    </tr>\n    <tr>\n      <th>16</th>\n      <td>2.5</td>\n      <td>30.0</td>\n    </tr>\n    <tr>\n      <th>17</th>\n      <td>1.9</td>\n      <td>24.0</td>\n    </tr>\n    <tr>\n      <th>18</th>\n      <td>6.1</td>\n      <td>67.0</td>\n    </tr>\n    <tr>\n      <th>19</th>\n      <td>7.4</td>\n      <td>69.0</td>\n    </tr>\n    <tr>\n      <th>20</th>\n      <td>2.7</td>\n      <td>30.0</td>\n    </tr>\n    <tr>\n      <th>21</th>\n      <td>4.8</td>\n      <td>54.0</td>\n    </tr>\n    <tr>\n      <th>22</th>\n      <td>3.8</td>\n      <td>35.0</td>\n    </tr>\n    <tr>\n      <th>23</th>\n      <td>6.9</td>\n      <td>76.0</td>\n    </tr>\n    <tr>\n      <th>24</th>\n      <td>7.8</td>\n      <td>86.0</td>\n    </tr>\n  </tbody>\n</table>\n</div>"
     },
     "execution_count": 55,
     "metadata": {},
     "output_type": "execute_result"
    }
   ],
   "source": [
    "data"
   ],
   "metadata": {
    "collapsed": false,
    "pycharm": {
     "name": "#%%\n"
    }
   }
  },
  {
   "cell_type": "code",
   "execution_count": 56,
   "outputs": [
    {
     "data": {
      "text/plain": "<seaborn.axisgrid.PairGrid at 0x23a4a7051e0>"
     },
     "execution_count": 56,
     "metadata": {},
     "output_type": "execute_result"
    },
    {
     "data": {
      "text/plain": "<Figure size 360x360 with 6 Axes>",
      "image/png": "[encoded data removed]"
     },
     "metadata": {
      "needs_background": "light"
     },
     "output_type": "display_data"
    }
   ],
   "source": [
    "sb.pairplot(data)"
   ],
   "metadata": {
    "collapsed": false,
    "pycharm": {
     "name": "#%%\n"
    }
   }
  },
  {
   "cell_type": "code",
   "execution_count": 68,
   "outputs": [
    {
     "data": {
      "text/plain": "<Figure size 3000x3000 with 0 Axes>"
     },
     "execution_count": 68,
     "metadata": {},
     "output_type": "execute_result"
    },
    {
     "data": {
      "text/plain": "<Figure size 640x480 with 1 Axes>",
      "image/png": "[encoded data removed]"
     },
     "metadata": {},
     "output_type": "display_data"
    },
    {
     "data": {
      "text/plain": "<Figure size 3000x3000 with 0 Axes>"
     },
     "metadata": {},
     "output_type": "display_data"
    }
   ],
   "source": [
    "plt.scatter(data.hour,data.Score)\n",
    "plt.xlabel('Hour of study')\n",
    "plt.ylabel('SCORE')\n",
    "plt.figure(figsize=(10,10),dpi=300)\n",
    "\n"
   ],
   "metadata": {
    "collapsed": false,
    "pycharm": {
     "name": "#%%\n"
    }
   }
  },
  {
   "cell_type": "code",
   "execution_count": 64,
   "outputs": [],
   "source": [
    "cor=np.corrcoef(data.hour,data.Score)"
   ],
   "metadata": {
    "collapsed": false,
    "pycharm": {
     "name": "#%%\n"
    }
   }
  },
  {
   "cell_type": "code",
   "execution_count": 65,
   "outputs": [
    {
     "data": {
      "text/plain": "array([[1.        , 0.97619066],\n       [0.97619066, 1.        ]])"
     },
     "execution_count": 65,
     "metadata": {},
     "output_type": "execute_result"
    }
   ],
   "source": [
    "cor"
   ],
   "metadata": {
    "collapsed": false,
    "pycharm": {
     "name": "#%%\n"
    }
   }
  },
  {
   "cell_type": "code",
   "execution_count": null,
   "outputs": [],
   "source": [],
   "metadata": {
    "collapsed": false,
    "pycharm": {
     "name": "#%%\n"
    }
   }
  }
 ],
 "metadata": {
  "kernelspec": {
   "display_name": "Python 3",
   "language": "python",
   "name": "python3"
  },
  "language_info": {
   "codemirror_mode": {
    "name": "ipython",
    "version": 2
   },
   "file_extension": ".py",
   "mimetype": "text/x-python",
   "name": "python",
   "nbconvert_exporter": "python",
   "pygments_lexer": "ipython2",
   "version": "2.7.6"
  }
 },
 "nbformat": 4,
 "nbformat_minor": 0
}