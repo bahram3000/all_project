{
 "cells": [
  {
   "cell_type": "code",
   "execution_count": 1,
   "metadata": {
    "collapsed": true
   },
   "outputs": [],
   "source": [
    "import numpy as np\n",
    "import pandas as pd\n",
    "import matplotlib.pyplot as plt"
   ]
  },
  {
   "cell_type": "code",
   "execution_count": 2,
   "outputs": [
    {
     "data": {
      "text/plain": "array([[0.7116083 , 0.19577629, 0.80563975, 0.60131613, 0.98054032],\n       [0.5974955 , 0.00588864, 0.88175881, 0.05175978, 0.3753491 ],\n       [0.68754246, 0.83038768, 0.58195741, 0.66216946, 0.56682858],\n       [0.46711821, 0.34727012, 0.05923493, 0.76391397, 0.06396068]])"
     },
     "execution_count": 2,
     "metadata": {},
     "output_type": "execute_result"
    }
   ],
   "source": [
    "n_mat=np.random.rand(4,5)\n",
    "n_mat"
   ],
   "metadata": {
    "collapsed": false,
    "pycharm": {
     "name": "#%%\n"
    }
   }
  },
  {
   "cell_type": "code",
   "execution_count": 4,
   "outputs": [
    {
     "data": {
      "text/plain": "          0         1         2         3         4\n0  0.711608  0.195776  0.805640  0.601316  0.980540\n1  0.597495  0.005889  0.881759  0.051760  0.375349\n2  0.687542  0.830388  0.581957  0.662169  0.566829\n3  0.467118  0.347270  0.059235  0.763914  0.063961",
      "text/html": "<div>\n<style scoped>\n    .dataframe tbody tr th:only-of-type {\n        vertical-align: middle;\n    }\n\n    .dataframe tbody tr th {\n        vertical-align: top;\n    }\n\n    .dataframe thead th {\n        text-align: right;\n    }\n</style>\n<table border=\"1\" class=\"dataframe\">\n  <thead>\n    <tr style=\"text-align: right;\">\n      <th></th>\n      <th>0</th>\n      <th>1</th>\n      <th>2</th>\n      <th>3</th>\n      <th>4</th>\n    </tr>\n  </thead>\n  <tbody>\n    <tr>\n      <th>0</th>\n      <td>0.711608</td>\n      <td>0.195776</td>\n      <td>0.805640</td>\n      <td>0.601316</td>\n      <td>0.980540</td>\n    </tr>\n    <tr>\n      <th>1</th>\n      <td>0.597495</td>\n      <td>0.005889</td>\n      <td>0.881759</td>\n      <td>0.051760</td>\n      <td>0.375349</td>\n    </tr>\n    <tr>\n      <th>2</th>\n      <td>0.687542</td>\n      <td>0.830388</td>\n      <td>0.581957</td>\n      <td>0.662169</td>\n      <td>0.566829</td>\n    </tr>\n    <tr>\n      <th>3</th>\n      <td>0.467118</td>\n      <td>0.347270</td>\n      <td>0.059235</td>\n      <td>0.763914</td>\n      <td>0.063961</td>\n    </tr>\n  </tbody>\n</table>\n</div>"
     },
     "execution_count": 4,
     "metadata": {},
     "output_type": "execute_result"
    }
   ],
   "source": [
    "df=pd.DataFrame(n_mat)\n",
    "df"
   ],
   "metadata": {
    "collapsed": false,
    "pycharm": {
     "name": "#%%\n"
    }
   }
  },
  {
   "cell_type": "code",
   "execution_count": 5,
   "outputs": [
    {
     "data": {
      "text/plain": "0    0.711608\n1    0.597495\n2    0.687542\n3    0.467118\nName: 0, dtype: float64"
     },
     "execution_count": 5,
     "metadata": {},
     "output_type": "execute_result"
    }
   ],
   "source": [
    "df[0]"
   ],
   "metadata": {
    "collapsed": false,
    "pycharm": {
     "name": "#%%\n"
    }
   }
  },
  {
   "cell_type": "code",
   "execution_count": 10,
   "outputs": [
    {
     "data": {
      "text/plain": "0    0.711608\n1    0.195776\n2    0.805640\n3    0.601316\n4    0.980540\nName: 0, dtype: float64"
     },
     "execution_count": 10,
     "metadata": {},
     "output_type": "execute_result"
    }
   ],
   "source": [
    "df.loc[0][:]"
   ],
   "metadata": {
    "collapsed": false,
    "pycharm": {
     "name": "#%%\n"
    }
   }
  },
  {
   "cell_type": "code",
   "execution_count": 11,
   "outputs": [
    {
     "data": {
      "text/plain": "     Python   Sql    ML  Tableau  Excel Student Placed\n0      0.80  0.57  0.63     0.50   0.34            Yes\n1      0.81  0.90  0.62     0.71   0.92             No\n2      0.49  0.69  0.62     0.64   0.41             No\n3      0.40  0.94  0.60     0.26   0.47             No\n4      0.31  0.87  1.00     0.23   0.99             No\n..      ...   ...   ...      ...    ...            ...\n195    0.47  0.13  0.78     0.10   0.11            Yes\n196    0.14  0.49  0.19     0.33   0.85            Yes\n197    0.95  0.65  0.62     0.74   0.61            Yes\n198    0.60  0.99  0.66     0.71   0.93            Yes\n199    0.87  0.23  0.97     0.45   0.42            Yes\n\n[200 rows x 6 columns]",
      "text/html": "<div>\n<style scoped>\n    .dataframe tbody tr th:only-of-type {\n        vertical-align: middle;\n    }\n\n    .dataframe tbody tr th {\n        vertical-align: top;\n    }\n\n    .dataframe thead th {\n        text-align: right;\n    }\n</style>\n<table border=\"1\" class=\"dataframe\">\n  <thead>\n    <tr style=\"text-align: right;\">\n      <th></th>\n      <th>Python</th>\n      <th>Sql</th>\n      <th>ML</th>\n      <th>Tableau</th>\n      <th>Excel</th>\n      <th>Student Placed</th>\n    </tr>\n  </thead>\n  <tbody>\n    <tr>\n      <th>0</th>\n      <td>0.80</td>\n      <td>0.57</td>\n      <td>0.63</td>\n      <td>0.50</td>\n      <td>0.34</td>\n      <td>Yes</td>\n    </tr>\n    <tr>\n      <th>1</th>\n      <td>0.81</td>\n      <td>0.90</td>\n      <td>0.62</td>\n      <td>0.71</td>\n      <td>0.92</td>\n      <td>No</td>\n    </tr>\n    <tr>\n      <th>2</th>\n      <td>0.49</td>\n      <td>0.69</td>\n      <td>0.62</td>\n      <td>0.64</td>\n      <td>0.41</td>\n      <td>No</td>\n    </tr>\n    <tr>\n      <th>3</th>\n      <td>0.40</td>\n      <td>0.94</td>\n      <td>0.60</td>\n      <td>0.26</td>\n      <td>0.47</td>\n      <td>No</td>\n    </tr>\n    <tr>\n      <th>4</th>\n      <td>0.31</td>\n      <td>0.87</td>\n      <td>1.00</td>\n      <td>0.23</td>\n      <td>0.99</td>\n      <td>No</td>\n    </tr>\n    <tr>\n      <th>...</th>\n      <td>...</td>\n      <td>...</td>\n      <td>...</td>\n      <td>...</td>\n      <td>...</td>\n      <td>...</td>\n    </tr>\n    <tr>\n      <th>195</th>\n      <td>0.47</td>\n      <td>0.13</td>\n      <td>0.78</td>\n      <td>0.10</td>\n      <td>0.11</td>\n      <td>Yes</td>\n    </tr>\n    <tr>\n      <th>196</th>\n      <td>0.14</td>\n      <td>0.49</td>\n      <td>0.19</td>\n      <td>0.33</td>\n      <td>0.85</td>\n      <td>Yes</td>\n    </tr>\n    <tr>\n      <th>197</th>\n      <td>0.95</td>\n      <td>0.65</td>\n      <td>0.62</td>\n      <td>0.74</td>\n      <td>0.61</td>\n      <td>Yes</td>\n    </tr>\n    <tr>\n      <th>198</th>\n      <td>0.60</td>\n      <td>0.99</td>\n      <td>0.66</td>\n      <td>0.71</td>\n      <td>0.93</td>\n      <td>Yes</td>\n    </tr>\n    <tr>\n      <th>199</th>\n      <td>0.87</td>\n      <td>0.23</td>\n      <td>0.97</td>\n      <td>0.45</td>\n      <td>0.42</td>\n      <td>Yes</td>\n    </tr>\n  </tbody>\n</table>\n<p>200 rows × 6 columns</p>\n</div>"
     },
     "execution_count": 11,
     "metadata": {},
     "output_type": "execute_result"
    }
   ],
   "source": [
    "students_df=pd.read_csv('F:\\my project\\dataset\\learning_dataset\\\\scores.csv')\n",
    "students_df"
   ],
   "metadata": {
    "collapsed": false,
    "pycharm": {
     "name": "#%%\n"
    }
   }
  },
  {
   "cell_type": "code",
   "execution_count": 18,
   "outputs": [
    {
     "data": {
      "text/plain": "Python             0.8\nSql               0.57\nML                0.63\nTableau            0.5\nExcel             0.34\nStudent Placed     Yes\nName: 0, dtype: object"
     },
     "execution_count": 18,
     "metadata": {},
     "output_type": "execute_result"
    }
   ],
   "source": [
    "students_df.loc[0]"
   ],
   "metadata": {
    "collapsed": false,
    "pycharm": {
     "name": "#%%\n"
    }
   }
  },
  {
   "cell_type": "code",
   "execution_count": null,
   "outputs": [],
   "source": [],
   "metadata": {
    "collapsed": false,
    "pycharm": {
     "name": "#%%\n"
    }
   }
  }
 ],
 "metadata": {
  "kernelspec": {
   "display_name": "Python 3",
   "language": "python",
   "name": "python3"
  },
  "language_info": {
   "codemirror_mode": {
    "name": "ipython",
    "version": 2
   },
   "file_extension": ".py",
   "mimetype": "text/x-python",
   "name": "python",
   "nbconvert_exporter": "python",
   "pygments_lexer": "ipython2",
   "version": "2.7.6"
  }
 },
 "nbformat": 4,
 "nbformat_minor": 0
}