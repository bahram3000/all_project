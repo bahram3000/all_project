{
 "cells": [
  {
   "cell_type": "code",
   "execution_count": 2,
   "metadata": {
    "collapsed": true
   },
   "outputs": [],
   "source": [
    "import numpy as np\n",
    "import pandas as pd\n",
    "import matplotlib.pyplot as plt"
   ]
  },
  {
   "cell_type": "code",
   "execution_count": 45,
   "outputs": [
    {
     "name": "stderr",
     "output_type": "stream",
     "text": [
      "C:\\Users\\ADMIN\\AppData\\Local\\Temp\\ipykernel_6868\\1560975776.py:2: DtypeWarning: Columns (12) have mixed types. Specify dtype option on import or set low_memory=False.\n",
      "  house_data = pd.read_csv(path)\n"
     ]
    }
   ],
   "source": [
    "path = 'C:\\\\Users\\\\ADMIN\\\\Desktop\\\\my project\\\\House_Price_divar_pyfinance_aliraoofi.csv'\n",
    "house_data = pd.read_csv(path)\n",
    "house_data.drop(['Unnamed: 9', 'Unnamed: 8', 'Unnamed: 15', 'Unnamed: 14', 'Unnamed: 13', 'Unnamed: 13', 'Unnamed: 12',\n",
    "                 'Unnamed: 11', 'Unnamed: 10'], axis=1, inplace=True)\n"
   ],
   "metadata": {
    "collapsed": false,
    "pycharm": {
     "name": "#%%\n"
    }
   }
  },
  {
   "cell_type": "code",
   "execution_count": 46,
   "outputs": [
    {
     "data": {
      "text/plain": "      Area Construction Room Warehouse Parking Elevator  \\\n0      150         1388    3         0       0        0   \n1       54         1389    1         1       1        1   \n2       69         1390    2         0       0        0   \n3       52         1388    1         0       0        0   \n4      135         1401    3         0       0        0   \n...    ...          ...  ...       ...     ...      ...   \n38183   50         1396    1         0       0        0   \n38184   47         1397    1         0       0        0   \n38185  190         1399    3         0       0        0   \n38186   48         1383    1         0       0        0   \n38187  150         1401    3         0       0        0   \n\n                                              Address                Price  \n0       ۲ ساعت پیش در تهران، مرزداران | فروش آپارتمان  ۸٬۸۰۰٬۰۰۰٬۰۰۰ تومان  \n1         ۲ ساعت پیش در تهران، اندیشه | فروش آپارتمان    ۸۶۸٬۰۰۰٬۰۰۰ تومان  \n2         ۲ ساعت پیش در تهران، سلسبیل | فروش آپارتمان  ۲٬۱۰۰٬۰۰۰٬۰۰۰ تومان  \n3        ۲ ساعت پیش در تهران، باغ فیض | فروش آپارتمان  ۲٬۸۵۰٬۰۰۰٬۰۰۰ تومان  \n4        ۲ ساعت پیش در تهران، نیاوران | فروش آپارتمان  ۹٬۵۰۰٬۰۰۰٬۰۰۰ تومان  \n...                                               ...                  ...  \n38183      ۶ روز پیش در تهران، اندیشه | فروش آپارتمان    ۷۰۰٬۰۰۰٬۰۰۰ تومان  \n38184     ۳ ساعت پیش در تهران، اندیشه | فروش آپارتمان    ۸۰۰٬۰۰۰٬۰۰۰ تومان  \n38185    ۶ روز پیش در تهران، آجودانیه | فروش آپارتمان               توافقی  \n38186      ۶ روز پیش در تهران، بریانک | فروش آپارتمان  ۱٬۰۸۰٬۰۰۰٬۰۰۰ تومان  \n38187  ۶ روز پیش در تهران، سعادت‌آباد | فروش آپارتمان               توافقی  \n\n[38188 rows x 8 columns]",
      "text/html": "<div>\n<style scoped>\n    .dataframe tbody tr th:only-of-type {\n        vertical-align: middle;\n    }\n\n    .dataframe tbody tr th {\n        vertical-align: top;\n    }\n\n    .dataframe thead th {\n        text-align: right;\n    }\n</style>\n<table border=\"1\" class=\"dataframe\">\n  <thead>\n    <tr style=\"text-align: right;\">\n      <th></th>\n      <th>Area</th>\n      <th>Construction</th>\n      <th>Room</th>\n      <th>Warehouse</th>\n      <th>Parking</th>\n      <th>Elevator</th>\n      <th>Address</th>\n      <th>Price</th>\n    </tr>\n  </thead>\n  <tbody>\n    <tr>\n      <th>0</th>\n      <td>150</td>\n      <td>1388</td>\n      <td>3</td>\n      <td>0</td>\n      <td>0</td>\n      <td>0</td>\n      <td>۲ ساعت پیش در تهران، مرزداران | فروش آپارتمان</td>\n      <td>۸٬۸۰۰٬۰۰۰٬۰۰۰ تومان</td>\n    </tr>\n    <tr>\n      <th>1</th>\n      <td>54</td>\n      <td>1389</td>\n      <td>1</td>\n      <td>1</td>\n      <td>1</td>\n      <td>1</td>\n      <td>۲ ساعت پیش در تهران، اندیشه | فروش آپارتمان</td>\n      <td>۸۶۸٬۰۰۰٬۰۰۰ تومان</td>\n    </tr>\n    <tr>\n      <th>2</th>\n      <td>69</td>\n      <td>1390</td>\n      <td>2</td>\n      <td>0</td>\n      <td>0</td>\n      <td>0</td>\n      <td>۲ ساعت پیش در تهران، سلسبیل | فروش آپارتمان</td>\n      <td>۲٬۱۰۰٬۰۰۰٬۰۰۰ تومان</td>\n    </tr>\n    <tr>\n      <th>3</th>\n      <td>52</td>\n      <td>1388</td>\n      <td>1</td>\n      <td>0</td>\n      <td>0</td>\n      <td>0</td>\n      <td>۲ ساعت پیش در تهران، باغ فیض | فروش آپارتمان</td>\n      <td>۲٬۸۵۰٬۰۰۰٬۰۰۰ تومان</td>\n    </tr>\n    <tr>\n      <th>4</th>\n      <td>135</td>\n      <td>1401</td>\n      <td>3</td>\n      <td>0</td>\n      <td>0</td>\n      <td>0</td>\n      <td>۲ ساعت پیش در تهران، نیاوران | فروش آپارتمان</td>\n      <td>۹٬۵۰۰٬۰۰۰٬۰۰۰ تومان</td>\n    </tr>\n    <tr>\n      <th>...</th>\n      <td>...</td>\n      <td>...</td>\n      <td>...</td>\n      <td>...</td>\n      <td>...</td>\n      <td>...</td>\n      <td>...</td>\n      <td>...</td>\n    </tr>\n    <tr>\n      <th>38183</th>\n      <td>50</td>\n      <td>1396</td>\n      <td>1</td>\n      <td>0</td>\n      <td>0</td>\n      <td>0</td>\n      <td>۶ روز پیش در تهران، اندیشه | فروش آپارتمان</td>\n      <td>۷۰۰٬۰۰۰٬۰۰۰ تومان</td>\n    </tr>\n    <tr>\n      <th>38184</th>\n      <td>47</td>\n      <td>1397</td>\n      <td>1</td>\n      <td>0</td>\n      <td>0</td>\n      <td>0</td>\n      <td>۳ ساعت پیش در تهران، اندیشه | فروش آپارتمان</td>\n      <td>۸۰۰٬۰۰۰٬۰۰۰ تومان</td>\n    </tr>\n    <tr>\n      <th>38185</th>\n      <td>190</td>\n      <td>1399</td>\n      <td>3</td>\n      <td>0</td>\n      <td>0</td>\n      <td>0</td>\n      <td>۶ روز پیش در تهران، آجودانیه | فروش آپارتمان</td>\n      <td>توافقی</td>\n    </tr>\n    <tr>\n      <th>38186</th>\n      <td>48</td>\n      <td>1383</td>\n      <td>1</td>\n      <td>0</td>\n      <td>0</td>\n      <td>0</td>\n      <td>۶ روز پیش در تهران، بریانک | فروش آپارتمان</td>\n      <td>۱٬۰۸۰٬۰۰۰٬۰۰۰ تومان</td>\n    </tr>\n    <tr>\n      <th>38187</th>\n      <td>150</td>\n      <td>1401</td>\n      <td>3</td>\n      <td>0</td>\n      <td>0</td>\n      <td>0</td>\n      <td>۶ روز پیش در تهران، سعادت‌آباد | فروش آپارتمان</td>\n      <td>توافقی</td>\n    </tr>\n  </tbody>\n</table>\n<p>38188 rows × 8 columns</p>\n</div>"
     },
     "execution_count": 46,
     "metadata": {},
     "output_type": "execute_result"
    }
   ],
   "source": [
    "for i in ['Warehouse', 'Parking', 'Elevator']:\n",
    "    for j in range(len(house_data[i])):\n",
    "        if j == True:\n",
    "            house_data[i][j] = 1\n",
    "        else:\n",
    "            house_data[i][j] = 0\n",
    "house_data"
   ],
   "metadata": {
    "collapsed": false,
    "pycharm": {
     "name": "#%%\n"
    }
   }
  },
  {
   "cell_type": "code",
   "execution_count": 47,
   "outputs": [],
   "source": [
    "def convert_per_to_eng(str_num: str):\n",
    "    str_c = ''\n",
    "    a = {'۱': '1', '۲': '2', '۳': '3', '۴': '4', '۵': '5', '۶': '6', '۷': '7', '۸': '8', '۹': '9', '۰': '0'}\n",
    "    ln_str = len(str_num)\n",
    "    for i in range(ln_str):\n",
    "        if str_num[i] in a.keys():\n",
    "            d = str_num[i]\n",
    "            d = a[d]\n",
    "            str_c += d\n",
    "\n",
    "    return str_c"
   ],
   "metadata": {
    "collapsed": false,
    "pycharm": {
     "name": "#%%\n"
    }
   }
  },
  {
   "cell_type": "code",
   "execution_count": 48,
   "outputs": [],
   "source": [
    "def substr(primal_str: str, start_pos: int, length: int):\n",
    "    return primal_str[start_pos:start_pos + length]"
   ],
   "metadata": {
    "collapsed": false,
    "pycharm": {
     "name": "#%%\n"
    }
   }
  },
  {
   "cell_type": "code",
   "execution_count": 49,
   "outputs": [],
   "source": [
    "def remove_substr_from_primalstr(primal_str: str, sub_str: str):\n",
    "    assert len(sub_str) < len(primal_str)\n",
    "    ln_pr = len(primal_str)\n",
    "    ln_sb = len(sub_str)\n",
    "    for i in range(0, (ln_pr - ln_sb) + 1):\n",
    "        #print(substr(primal_str,i,ln_sb))\n",
    "        if substr(primal_str, i, ln_sb) == sub_str:\n",
    "            return primal_str[0:i] + primal_str[i + ln_sb:]\n",
    "    else:\n",
    "        return primal_str"
   ],
   "metadata": {
    "collapsed": false,
    "pycharm": {
     "name": "#%%\n"
    }
   }
  },
  {
   "cell_type": "code",
   "execution_count": 49,
   "outputs": [],
   "source": [],
   "metadata": {
    "collapsed": false,
    "pycharm": {
     "name": "#%%\n"
    }
   }
  },
  {
   "cell_type": "code",
   "execution_count": 50,
   "outputs": [],
   "source": [
    "for i in house_data.index:\n",
    "    s_n = house_data.Price[i]\n",
    "    #s_n=remove_substr_from_primalstr(s_n,' تومان')\n",
    "    if type(s_n) is str:\n",
    "        s_n = convert_per_to_eng(s_n)\n",
    "        if s_n.isdecimal():\n",
    "            s_n = int(s_n)\n",
    "            house_data.Price[i] = s_n"
   ],
   "metadata": {
    "collapsed": false,
    "pycharm": {
     "name": "#%%\n"
    }
   }
  },
  {
   "cell_type": "code",
   "execution_count": 51,
   "outputs": [],
   "source": [
    "mask = house_data.Price == 'توافقی'\n",
    "p = house_data.Price[mask]\n",
    "house_data.drop(p.index, axis=0, inplace=True)"
   ],
   "metadata": {
    "collapsed": false,
    "pycharm": {
     "name": "#%%\n"
    }
   }
  },
  {
   "cell_type": "code",
   "execution_count": 52,
   "outputs": [],
   "source": [
    "for i in house_data.index:\n",
    "    s = house_data.Area[i]\n",
    "    if s.isdecimal():\n",
    "        house_data.Area[i] = int(house_data.Area[i])"
   ],
   "metadata": {
    "collapsed": false,
    "pycharm": {
     "name": "#%%\n"
    }
   }
  },
  {
   "cell_type": "code",
   "execution_count": 53,
   "outputs": [],
   "source": [
    "for i in house_data.index:\n",
    "    s = house_data.Construction[i]\n",
    "    if s.isdecimal():\n",
    "        house_data.Construction[i] = int(house_data.Construction[i])"
   ],
   "metadata": {
    "collapsed": false,
    "pycharm": {
     "name": "#%%\n"
    }
   }
  },
  {
   "cell_type": "code",
   "execution_count": 54,
   "outputs": [],
   "source": [
    "for i in house_data.index:\n",
    "    s = house_data.Room[i]\n",
    "    if s.isdecimal():\n",
    "        house_data.Room[i] = int(house_data.Room[i])"
   ],
   "metadata": {
    "collapsed": false,
    "pycharm": {
     "name": "#%%\n"
    }
   }
  },
  {
   "cell_type": "code",
   "execution_count": 55,
   "outputs": [],
   "source": [
    "mask = house_data.Area == 'ali raoofi'\n",
    "p2 = house_data.Area[mask].index\n",
    "\n",
    "mask = house_data.Area == 'Area'\n",
    "p3 = house_data.Area[mask].index\n",
    "\n",
    "mask = house_data.Area == '@pyfinance'\n",
    "p4 = house_data.Area[mask].index\n",
    "\n",
    "l_remove = list(p2) + list(p3) + list(p4)\n",
    "l_remove = set(l_remove)\n",
    "l_remove = list(l_remove)\n",
    "house_data.drop(l_remove, axis=0, inplace=True)"
   ],
   "metadata": {
    "collapsed": false,
    "pycharm": {
     "name": "#%%\n"
    }
   }
  },
  {
   "cell_type": "code",
   "execution_count": 56,
   "outputs": [],
   "source": [
    "mask = house_data.Address == 'ali raoofi'\n",
    "l1 = house_data.Address[mask].index\n",
    "house_data.drop(l1, axis=0, inplace=True)"
   ],
   "metadata": {
    "collapsed": false,
    "pycharm": {
     "name": "#%%\n"
    }
   }
  },
  {
   "cell_type": "code",
   "execution_count": 57,
   "outputs": [
    {
     "data": {
      "text/plain": "'۲ ساعت پیش در تهران، مرزداران | فروش آپارتمان'"
     },
     "execution_count": 57,
     "metadata": {},
     "output_type": "execute_result"
    }
   ],
   "source": [
    "house_data.Address[0]"
   ],
   "metadata": {
    "collapsed": false,
    "pycharm": {
     "name": "#%%\n"
    }
   }
  },
  {
   "cell_type": "code",
   "execution_count": 58,
   "outputs": [
    {
     "data": {
      "text/plain": "'۲ ساعت پیش در تهران مرزداران | فروش آپارتمان'"
     },
     "execution_count": 58,
     "metadata": {},
     "output_type": "execute_result"
    }
   ],
   "source": [
    "remove_substr_from_primalstr(house_data.Address[0], '،')"
   ],
   "metadata": {
    "collapsed": false,
    "pycharm": {
     "name": "#%%\n"
    }
   }
  },
  {
   "cell_type": "code",
   "execution_count": 59,
   "outputs": [],
   "source": [
    "for i in house_data.index:\n",
    "    #print(i)\n",
    "    #a= ' | فروش آپارتمان'\n",
    "    #b='پیش در تهران'\n",
    "    if len(house_data.Address[i]) > len(' | فروش آپارتمان'):\n",
    "        s1 = house_data.Address[i]\n",
    "        #print(s1)\n",
    "        s1 = remove_substr_from_primalstr(s1, ' | فروش آپارتمان')\n",
    "        s1 = remove_substr_from_primalstr(s1, 'پیش در تهران')\n",
    "        if 'ساعت' in s1:\n",
    "            s1 = remove_substr_from_primalstr(s1, 'ساعت')\n",
    "        elif 'روز' in s1:\n",
    "            s1 = remove_substr_from_primalstr(s1, 'روز')\n",
    "        for j in range(31):\n",
    "            a = convert_per_to_eng(s1[0:2])\n",
    "            if a.isdecimal():\n",
    "                a = int(a)\n",
    "                if a == j:\n",
    "                    s1 = remove_substr_from_primalstr(s1, s1[0:2])\n",
    "        s1 = remove_substr_from_primalstr(s1, '،')\n",
    "        #s1 = s1.replace(' ', '')\n",
    "        #s1=remove_substr_from_primalstr(s1,' ')\n",
    "        house_data.Address[i] = s1.strip()"
   ],
   "metadata": {
    "collapsed": false,
    "pycharm": {
     "name": "#%%\n"
    }
   }
  },
  {
   "cell_type": "code",
   "execution_count": 60,
   "outputs": [
    {
     "data": {
      "text/plain": "      Area Construction Room Warehouse Parking Elevator   Address       Price\n0      150         1388    3         0       0        0  مرزداران  8800000000\n1       54         1389    1         1       1        1    اندیشه   868000000\n2       69         1390    2         0       0        0    سلسبیل  2100000000\n3       52         1388    1         0       0        0   باغ فیض  2850000000\n4      135         1401    3         0       0        0   نیاوران  9500000000\n...    ...          ...  ...       ...     ...      ...       ...         ...\n38180   51         1390    1         0       0        0    اندیشه  1050000000\n38181  100         1392    2         0       0        0      آذری  2700000000\n38183   50         1396    1         0       0        0    اندیشه   700000000\n38184   47         1397    1         0       0        0    اندیشه   800000000\n38186   48         1383    1         0       0        0    بریانک  1080000000\n\n[29848 rows x 8 columns]",
      "text/html": "<div>\n<style scoped>\n    .dataframe tbody tr th:only-of-type {\n        vertical-align: middle;\n    }\n\n    .dataframe tbody tr th {\n        vertical-align: top;\n    }\n\n    .dataframe thead th {\n        text-align: right;\n    }\n</style>\n<table border=\"1\" class=\"dataframe\">\n  <thead>\n    <tr style=\"text-align: right;\">\n      <th></th>\n      <th>Area</th>\n      <th>Construction</th>\n      <th>Room</th>\n      <th>Warehouse</th>\n      <th>Parking</th>\n      <th>Elevator</th>\n      <th>Address</th>\n      <th>Price</th>\n    </tr>\n  </thead>\n  <tbody>\n    <tr>\n      <th>0</th>\n      <td>150</td>\n      <td>1388</td>\n      <td>3</td>\n      <td>0</td>\n      <td>0</td>\n      <td>0</td>\n      <td>مرزداران</td>\n      <td>8800000000</td>\n    </tr>\n    <tr>\n      <th>1</th>\n      <td>54</td>\n      <td>1389</td>\n      <td>1</td>\n      <td>1</td>\n      <td>1</td>\n      <td>1</td>\n      <td>اندیشه</td>\n      <td>868000000</td>\n    </tr>\n    <tr>\n      <th>2</th>\n      <td>69</td>\n      <td>1390</td>\n      <td>2</td>\n      <td>0</td>\n      <td>0</td>\n      <td>0</td>\n      <td>سلسبیل</td>\n      <td>2100000000</td>\n    </tr>\n    <tr>\n      <th>3</th>\n      <td>52</td>\n      <td>1388</td>\n      <td>1</td>\n      <td>0</td>\n      <td>0</td>\n      <td>0</td>\n      <td>باغ فیض</td>\n      <td>2850000000</td>\n    </tr>\n    <tr>\n      <th>4</th>\n      <td>135</td>\n      <td>1401</td>\n      <td>3</td>\n      <td>0</td>\n      <td>0</td>\n      <td>0</td>\n      <td>نیاوران</td>\n      <td>9500000000</td>\n    </tr>\n    <tr>\n      <th>...</th>\n      <td>...</td>\n      <td>...</td>\n      <td>...</td>\n      <td>...</td>\n      <td>...</td>\n      <td>...</td>\n      <td>...</td>\n      <td>...</td>\n    </tr>\n    <tr>\n      <th>38180</th>\n      <td>51</td>\n      <td>1390</td>\n      <td>1</td>\n      <td>0</td>\n      <td>0</td>\n      <td>0</td>\n      <td>اندیشه</td>\n      <td>1050000000</td>\n    </tr>\n    <tr>\n      <th>38181</th>\n      <td>100</td>\n      <td>1392</td>\n      <td>2</td>\n      <td>0</td>\n      <td>0</td>\n      <td>0</td>\n      <td>آذری</td>\n      <td>2700000000</td>\n    </tr>\n    <tr>\n      <th>38183</th>\n      <td>50</td>\n      <td>1396</td>\n      <td>1</td>\n      <td>0</td>\n      <td>0</td>\n      <td>0</td>\n      <td>اندیشه</td>\n      <td>700000000</td>\n    </tr>\n    <tr>\n      <th>38184</th>\n      <td>47</td>\n      <td>1397</td>\n      <td>1</td>\n      <td>0</td>\n      <td>0</td>\n      <td>0</td>\n      <td>اندیشه</td>\n      <td>800000000</td>\n    </tr>\n    <tr>\n      <th>38186</th>\n      <td>48</td>\n      <td>1383</td>\n      <td>1</td>\n      <td>0</td>\n      <td>0</td>\n      <td>0</td>\n      <td>بریانک</td>\n      <td>1080000000</td>\n    </tr>\n  </tbody>\n</table>\n<p>29848 rows × 8 columns</p>\n</div>"
     },
     "execution_count": 60,
     "metadata": {},
     "output_type": "execute_result"
    }
   ],
   "source": [
    "house_data"
   ],
   "metadata": {
    "collapsed": false,
    "pycharm": {
     "name": "#%%\n"
    }
   }
  },
  {
   "cell_type": "code",
   "execution_count": 61,
   "outputs": [
    {
     "data": {
      "text/plain": "اندیشه                                            2409\nپونک                                              1442\nسعادت‌آباد                                        1239\nکوی فردوس                                         1052\nجیحون                                              730\n                                                  ... \nشهرک پاسداران، خیابان نفت جنوبی (بلوار شاهد)         1\nتهرانپارس شرقی، خیابان زفرقندی (بزرگراه باقری)       1\nامام حسین(ع)، کوچه مرتجایی (کنارگذر امام علی)        1\nصادقیه، خیابان صادقی پور (خیابان ستارخان)            1\nزعفرانیه، بلوار نلسون ماندلا (جردن)                  1\nName: Address, Length: 1250, dtype: int64"
     },
     "execution_count": 61,
     "metadata": {},
     "output_type": "execute_result"
    }
   ],
   "source": [
    "c = pd.value_counts(house_data.Address)\n",
    "c"
   ],
   "metadata": {
    "collapsed": false,
    "pycharm": {
     "name": "#%%\n"
    }
   }
  },
  {
   "cell_type": "code",
   "execution_count": 62,
   "outputs": [],
   "source": [
    "house_data['Count_add_hor'] = 0"
   ],
   "metadata": {
    "collapsed": false,
    "pycharm": {
     "name": "#%%\n"
    }
   }
  },
  {
   "cell_type": "code",
   "execution_count": 63,
   "outputs": [
    {
     "name": "stderr",
     "output_type": "stream",
     "text": [
      "C:\\Users\\ADMIN\\AppData\\Local\\Temp\\ipykernel_6868\\1528631121.py:2: SettingWithCopyWarning: \n",
      "A value is trying to be set on a copy of a slice from a DataFrame\n",
      "\n",
      "See the caveats in the documentation: https://pandas.pydata.org/pandas-docs/stable/user_guide/indexing.html#returning-a-view-versus-a-copy\n",
      "  house_data.Count_add_hor[i] = c[house_data.Address[i]]\n"
     ]
    }
   ],
   "source": [
    "for i in house_data.index:\n",
    "    house_data.Count_add_hor[i] = c[house_data.Address[i]]"
   ],
   "metadata": {
    "collapsed": false,
    "pycharm": {
     "name": "#%%\n"
    }
   }
  },
  {
   "cell_type": "code",
   "execution_count": 64,
   "outputs": [
    {
     "data": {
      "text/plain": "      Area Construction Room Warehouse Parking Elevator   Address       Price  \\\n0      150         1388    3         0       0        0  مرزداران  8800000000   \n1       54         1389    1         1       1        1    اندیشه   868000000   \n2       69         1390    2         0       0        0    سلسبیل  2100000000   \n3       52         1388    1         0       0        0   باغ فیض  2850000000   \n4      135         1401    3         0       0        0   نیاوران  9500000000   \n...    ...          ...  ...       ...     ...      ...       ...         ...   \n38180   51         1390    1         0       0        0    اندیشه  1050000000   \n38181  100         1392    2         0       0        0      آذری  2700000000   \n38183   50         1396    1         0       0        0    اندیشه   700000000   \n38184   47         1397    1         0       0        0    اندیشه   800000000   \n38186   48         1383    1         0       0        0    بریانک  1080000000   \n\n       Count_add_hor  \n0                413  \n1               2409  \n2                399  \n3                259  \n4                604  \n...              ...  \n38180           2409  \n38181             39  \n38183           2409  \n38184           2409  \n38186            324  \n\n[29848 rows x 9 columns]",
      "text/html": "<div>\n<style scoped>\n    .dataframe tbody tr th:only-of-type {\n        vertical-align: middle;\n    }\n\n    .dataframe tbody tr th {\n        vertical-align: top;\n    }\n\n    .dataframe thead th {\n        text-align: right;\n    }\n</style>\n<table border=\"1\" class=\"dataframe\">\n  <thead>\n    <tr style=\"text-align: right;\">\n      <th></th>\n      <th>Area</th>\n      <th>Construction</th>\n      <th>Room</th>\n      <th>Warehouse</th>\n      <th>Parking</th>\n      <th>Elevator</th>\n      <th>Address</th>\n      <th>Price</th>\n      <th>Count_add_hor</th>\n    </tr>\n  </thead>\n  <tbody>\n    <tr>\n      <th>0</th>\n      <td>150</td>\n      <td>1388</td>\n      <td>3</td>\n      <td>0</td>\n      <td>0</td>\n      <td>0</td>\n      <td>مرزداران</td>\n      <td>8800000000</td>\n      <td>413</td>\n    </tr>\n    <tr>\n      <th>1</th>\n      <td>54</td>\n      <td>1389</td>\n      <td>1</td>\n      <td>1</td>\n      <td>1</td>\n      <td>1</td>\n      <td>اندیشه</td>\n      <td>868000000</td>\n      <td>2409</td>\n    </tr>\n    <tr>\n      <th>2</th>\n      <td>69</td>\n      <td>1390</td>\n      <td>2</td>\n      <td>0</td>\n      <td>0</td>\n      <td>0</td>\n      <td>سلسبیل</td>\n      <td>2100000000</td>\n      <td>399</td>\n    </tr>\n    <tr>\n      <th>3</th>\n      <td>52</td>\n      <td>1388</td>\n      <td>1</td>\n      <td>0</td>\n      <td>0</td>\n      <td>0</td>\n      <td>باغ فیض</td>\n      <td>2850000000</td>\n      <td>259</td>\n    </tr>\n    <tr>\n      <th>4</th>\n      <td>135</td>\n      <td>1401</td>\n      <td>3</td>\n      <td>0</td>\n      <td>0</td>\n      <td>0</td>\n      <td>نیاوران</td>\n      <td>9500000000</td>\n      <td>604</td>\n    </tr>\n    <tr>\n      <th>...</th>\n      <td>...</td>\n      <td>...</td>\n      <td>...</td>\n      <td>...</td>\n      <td>...</td>\n      <td>...</td>\n      <td>...</td>\n      <td>...</td>\n      <td>...</td>\n    </tr>\n    <tr>\n      <th>38180</th>\n      <td>51</td>\n      <td>1390</td>\n      <td>1</td>\n      <td>0</td>\n      <td>0</td>\n      <td>0</td>\n      <td>اندیشه</td>\n      <td>1050000000</td>\n      <td>2409</td>\n    </tr>\n    <tr>\n      <th>38181</th>\n      <td>100</td>\n      <td>1392</td>\n      <td>2</td>\n      <td>0</td>\n      <td>0</td>\n      <td>0</td>\n      <td>آذری</td>\n      <td>2700000000</td>\n      <td>39</td>\n    </tr>\n    <tr>\n      <th>38183</th>\n      <td>50</td>\n      <td>1396</td>\n      <td>1</td>\n      <td>0</td>\n      <td>0</td>\n      <td>0</td>\n      <td>اندیشه</td>\n      <td>700000000</td>\n      <td>2409</td>\n    </tr>\n    <tr>\n      <th>38184</th>\n      <td>47</td>\n      <td>1397</td>\n      <td>1</td>\n      <td>0</td>\n      <td>0</td>\n      <td>0</td>\n      <td>اندیشه</td>\n      <td>800000000</td>\n      <td>2409</td>\n    </tr>\n    <tr>\n      <th>38186</th>\n      <td>48</td>\n      <td>1383</td>\n      <td>1</td>\n      <td>0</td>\n      <td>0</td>\n      <td>0</td>\n      <td>بریانک</td>\n      <td>1080000000</td>\n      <td>324</td>\n    </tr>\n  </tbody>\n</table>\n<p>29848 rows × 9 columns</p>\n</div>"
     },
     "execution_count": 64,
     "metadata": {},
     "output_type": "execute_result"
    }
   ],
   "source": [
    "house_data"
   ],
   "metadata": {
    "collapsed": false,
    "pycharm": {
     "name": "#%%\n"
    }
   }
  },
  {
   "cell_type": "code",
   "execution_count": 65,
   "outputs": [
    {
     "data": {
      "text/plain": "      Area Construction Room Warehouse Parking Elevator   Address       Price  \\\n0      150         1388    3         0       0        0  مرزداران  8800000000   \n1       54         1389    1         1       1        1    اندیشه   868000000   \n2       69         1390    2         0       0        0    سلسبیل  2100000000   \n3       52         1388    1         0       0        0   باغ فیض  2850000000   \n4      135         1401    3         0       0        0   نیاوران  9500000000   \n...    ...          ...  ...       ...     ...      ...       ...         ...   \n38180   51         1390    1         0       0        0    اندیشه  1050000000   \n38181  100         1392    2         0       0        0      آذری  2700000000   \n38183   50         1396    1         0       0        0    اندیشه   700000000   \n38184   47         1397    1         0       0        0    اندیشه   800000000   \n38186   48         1383    1         0       0        0    بریانک  1080000000   \n\n       Count_add_hor  \n0                413  \n1               2409  \n2                399  \n3                259  \n4                604  \n...              ...  \n38180           2409  \n38181             39  \n38183           2409  \n38184           2409  \n38186            324  \n\n[28146 rows x 9 columns]",
      "text/html": "<div>\n<style scoped>\n    .dataframe tbody tr th:only-of-type {\n        vertical-align: middle;\n    }\n\n    .dataframe tbody tr th {\n        vertical-align: top;\n    }\n\n    .dataframe thead th {\n        text-align: right;\n    }\n</style>\n<table border=\"1\" class=\"dataframe\">\n  <thead>\n    <tr style=\"text-align: right;\">\n      <th></th>\n      <th>Area</th>\n      <th>Construction</th>\n      <th>Room</th>\n      <th>Warehouse</th>\n      <th>Parking</th>\n      <th>Elevator</th>\n      <th>Address</th>\n      <th>Price</th>\n      <th>Count_add_hor</th>\n    </tr>\n  </thead>\n  <tbody>\n    <tr>\n      <th>0</th>\n      <td>150</td>\n      <td>1388</td>\n      <td>3</td>\n      <td>0</td>\n      <td>0</td>\n      <td>0</td>\n      <td>مرزداران</td>\n      <td>8800000000</td>\n      <td>413</td>\n    </tr>\n    <tr>\n      <th>1</th>\n      <td>54</td>\n      <td>1389</td>\n      <td>1</td>\n      <td>1</td>\n      <td>1</td>\n      <td>1</td>\n      <td>اندیشه</td>\n      <td>868000000</td>\n      <td>2409</td>\n    </tr>\n    <tr>\n      <th>2</th>\n      <td>69</td>\n      <td>1390</td>\n      <td>2</td>\n      <td>0</td>\n      <td>0</td>\n      <td>0</td>\n      <td>سلسبیل</td>\n      <td>2100000000</td>\n      <td>399</td>\n    </tr>\n    <tr>\n      <th>3</th>\n      <td>52</td>\n      <td>1388</td>\n      <td>1</td>\n      <td>0</td>\n      <td>0</td>\n      <td>0</td>\n      <td>باغ فیض</td>\n      <td>2850000000</td>\n      <td>259</td>\n    </tr>\n    <tr>\n      <th>4</th>\n      <td>135</td>\n      <td>1401</td>\n      <td>3</td>\n      <td>0</td>\n      <td>0</td>\n      <td>0</td>\n      <td>نیاوران</td>\n      <td>9500000000</td>\n      <td>604</td>\n    </tr>\n    <tr>\n      <th>...</th>\n      <td>...</td>\n      <td>...</td>\n      <td>...</td>\n      <td>...</td>\n      <td>...</td>\n      <td>...</td>\n      <td>...</td>\n      <td>...</td>\n      <td>...</td>\n    </tr>\n    <tr>\n      <th>38180</th>\n      <td>51</td>\n      <td>1390</td>\n      <td>1</td>\n      <td>0</td>\n      <td>0</td>\n      <td>0</td>\n      <td>اندیشه</td>\n      <td>1050000000</td>\n      <td>2409</td>\n    </tr>\n    <tr>\n      <th>38181</th>\n      <td>100</td>\n      <td>1392</td>\n      <td>2</td>\n      <td>0</td>\n      <td>0</td>\n      <td>0</td>\n      <td>آذری</td>\n      <td>2700000000</td>\n      <td>39</td>\n    </tr>\n    <tr>\n      <th>38183</th>\n      <td>50</td>\n      <td>1396</td>\n      <td>1</td>\n      <td>0</td>\n      <td>0</td>\n      <td>0</td>\n      <td>اندیشه</td>\n      <td>700000000</td>\n      <td>2409</td>\n    </tr>\n    <tr>\n      <th>38184</th>\n      <td>47</td>\n      <td>1397</td>\n      <td>1</td>\n      <td>0</td>\n      <td>0</td>\n      <td>0</td>\n      <td>اندیشه</td>\n      <td>800000000</td>\n      <td>2409</td>\n    </tr>\n    <tr>\n      <th>38186</th>\n      <td>48</td>\n      <td>1383</td>\n      <td>1</td>\n      <td>0</td>\n      <td>0</td>\n      <td>0</td>\n      <td>بریانک</td>\n      <td>1080000000</td>\n      <td>324</td>\n    </tr>\n  </tbody>\n</table>\n<p>28146 rows × 9 columns</p>\n</div>"
     },
     "execution_count": 65,
     "metadata": {},
     "output_type": "execute_result"
    }
   ],
   "source": [
    "mask = house_data.Count_add_hor < 10\n",
    "p_ind = house_data.Count_add_hor[mask].index\n",
    "house_data2 = house_data.drop(p_ind, axis=0)\n",
    "house_data2"
   ],
   "metadata": {
    "collapsed": false,
    "pycharm": {
     "name": "#%%\n"
    }
   }
  },
  {
   "cell_type": "code",
   "execution_count": 66,
   "outputs": [
    {
     "data": {
      "text/plain": "int"
     },
     "execution_count": 66,
     "metadata": {},
     "output_type": "execute_result"
    }
   ],
   "source": [
    "type(house_data.Price[0])"
   ],
   "metadata": {
    "collapsed": false,
    "pycharm": {
     "name": "#%%\n"
    }
   }
  },
  {
   "cell_type": "code",
   "execution_count": 67,
   "outputs": [
    {
     "data": {
      "text/plain": "29848"
     },
     "execution_count": 67,
     "metadata": {},
     "output_type": "execute_result"
    }
   ],
   "source": [
    "len(house_data.index)"
   ],
   "metadata": {
    "collapsed": false,
    "pycharm": {
     "name": "#%%\n"
    }
   }
  },
  {
   "cell_type": "code",
   "execution_count": 68,
   "outputs": [
    {
     "data": {
      "text/plain": "28146"
     },
     "execution_count": 68,
     "metadata": {},
     "output_type": "execute_result"
    }
   ],
   "source": [
    "len(house_data2.index)"
   ],
   "metadata": {
    "collapsed": false,
    "pycharm": {
     "name": "#%%\n"
    }
   }
  },
  {
   "cell_type": "code",
   "execution_count": 69,
   "outputs": [],
   "source": [
    "count_addres = house_data.Count_add_hor"
   ],
   "metadata": {
    "collapsed": false,
    "pycharm": {
     "name": "#%%\n"
    }
   }
  },
  {
   "cell_type": "code",
   "execution_count": 70,
   "outputs": [
    {
     "data": {
      "text/plain": "0         413\n1        2409\n2         399\n3         259\n4         604\n         ... \n38180    2409\n38181      39\n38183    2409\n38184    2409\n38186     324\nName: Count_add_hor, Length: 29848, dtype: int64"
     },
     "execution_count": 70,
     "metadata": {},
     "output_type": "execute_result"
    }
   ],
   "source": [
    "count_addres"
   ],
   "metadata": {
    "collapsed": false,
    "pycharm": {
     "name": "#%%\n"
    }
   }
  },
  {
   "cell_type": "code",
   "execution_count": 71,
   "outputs": [],
   "source": [
    "house_data.drop(['Count_add_hor'], axis=1, inplace=True)"
   ],
   "metadata": {
    "collapsed": false,
    "pycharm": {
     "name": "#%%\n"
    }
   }
  },
  {
   "cell_type": "code",
   "execution_count": 72,
   "outputs": [
    {
     "data": {
      "text/plain": "      Area Construction Room Warehouse Parking Elevator   Address       Price\n0      150         1388    3         0       0        0  مرزداران  8800000000\n1       54         1389    1         1       1        1    اندیشه   868000000\n2       69         1390    2         0       0        0    سلسبیل  2100000000\n3       52         1388    1         0       0        0   باغ فیض  2850000000\n4      135         1401    3         0       0        0   نیاوران  9500000000\n...    ...          ...  ...       ...     ...      ...       ...         ...\n38180   51         1390    1         0       0        0    اندیشه  1050000000\n38181  100         1392    2         0       0        0      آذری  2700000000\n38183   50         1396    1         0       0        0    اندیشه   700000000\n38184   47         1397    1         0       0        0    اندیشه   800000000\n38186   48         1383    1         0       0        0    بریانک  1080000000\n\n[29848 rows x 8 columns]",
      "text/html": "<div>\n<style scoped>\n    .dataframe tbody tr th:only-of-type {\n        vertical-align: middle;\n    }\n\n    .dataframe tbody tr th {\n        vertical-align: top;\n    }\n\n    .dataframe thead th {\n        text-align: right;\n    }\n</style>\n<table border=\"1\" class=\"dataframe\">\n  <thead>\n    <tr style=\"text-align: right;\">\n      <th></th>\n      <th>Area</th>\n      <th>Construction</th>\n      <th>Room</th>\n      <th>Warehouse</th>\n      <th>Parking</th>\n      <th>Elevator</th>\n      <th>Address</th>\n      <th>Price</th>\n    </tr>\n  </thead>\n  <tbody>\n    <tr>\n      <th>0</th>\n      <td>150</td>\n      <td>1388</td>\n      <td>3</td>\n      <td>0</td>\n      <td>0</td>\n      <td>0</td>\n      <td>مرزداران</td>\n      <td>8800000000</td>\n    </tr>\n    <tr>\n      <th>1</th>\n      <td>54</td>\n      <td>1389</td>\n      <td>1</td>\n      <td>1</td>\n      <td>1</td>\n      <td>1</td>\n      <td>اندیشه</td>\n      <td>868000000</td>\n    </tr>\n    <tr>\n      <th>2</th>\n      <td>69</td>\n      <td>1390</td>\n      <td>2</td>\n      <td>0</td>\n      <td>0</td>\n      <td>0</td>\n      <td>سلسبیل</td>\n      <td>2100000000</td>\n    </tr>\n    <tr>\n      <th>3</th>\n      <td>52</td>\n      <td>1388</td>\n      <td>1</td>\n      <td>0</td>\n      <td>0</td>\n      <td>0</td>\n      <td>باغ فیض</td>\n      <td>2850000000</td>\n    </tr>\n    <tr>\n      <th>4</th>\n      <td>135</td>\n      <td>1401</td>\n      <td>3</td>\n      <td>0</td>\n      <td>0</td>\n      <td>0</td>\n      <td>نیاوران</td>\n      <td>9500000000</td>\n    </tr>\n    <tr>\n      <th>...</th>\n      <td>...</td>\n      <td>...</td>\n      <td>...</td>\n      <td>...</td>\n      <td>...</td>\n      <td>...</td>\n      <td>...</td>\n      <td>...</td>\n    </tr>\n    <tr>\n      <th>38180</th>\n      <td>51</td>\n      <td>1390</td>\n      <td>1</td>\n      <td>0</td>\n      <td>0</td>\n      <td>0</td>\n      <td>اندیشه</td>\n      <td>1050000000</td>\n    </tr>\n    <tr>\n      <th>38181</th>\n      <td>100</td>\n      <td>1392</td>\n      <td>2</td>\n      <td>0</td>\n      <td>0</td>\n      <td>0</td>\n      <td>آذری</td>\n      <td>2700000000</td>\n    </tr>\n    <tr>\n      <th>38183</th>\n      <td>50</td>\n      <td>1396</td>\n      <td>1</td>\n      <td>0</td>\n      <td>0</td>\n      <td>0</td>\n      <td>اندیشه</td>\n      <td>700000000</td>\n    </tr>\n    <tr>\n      <th>38184</th>\n      <td>47</td>\n      <td>1397</td>\n      <td>1</td>\n      <td>0</td>\n      <td>0</td>\n      <td>0</td>\n      <td>اندیشه</td>\n      <td>800000000</td>\n    </tr>\n    <tr>\n      <th>38186</th>\n      <td>48</td>\n      <td>1383</td>\n      <td>1</td>\n      <td>0</td>\n      <td>0</td>\n      <td>0</td>\n      <td>بریانک</td>\n      <td>1080000000</td>\n    </tr>\n  </tbody>\n</table>\n<p>29848 rows × 8 columns</p>\n</div>"
     },
     "execution_count": 72,
     "metadata": {},
     "output_type": "execute_result"
    }
   ],
   "source": [
    "house_data"
   ],
   "metadata": {
    "collapsed": false,
    "pycharm": {
     "name": "#%%\n"
    }
   }
  },
  {
   "cell_type": "code",
   "execution_count": 73,
   "outputs": [],
   "source": [
    "gr_h = house_data.groupby(['Address'])"
   ],
   "metadata": {
    "collapsed": false,
    "pycharm": {
     "name": "#%%\n"
    }
   }
  },
  {
   "cell_type": "code",
   "execution_count": 74,
   "outputs": [
    {
     "name": "stderr",
     "output_type": "stream",
     "text": [
      "C:\\Users\\ADMIN\\AppData\\Local\\Temp\\ipykernel_6868\\186651539.py:1: FutureWarning: Dropping invalid columns in DataFrameGroupBy.mean is deprecated. In a future version, a TypeError will be raised. Before calling .mean, select only columns which should be valid for the function.\n",
      "  gr_avg = gr_h.mean()\n"
     ]
    },
    {
     "data": {
      "text/plain": "                                                    Warehouse  Parking  \\\nAddress                                                                  \nآبشار                                                     0.0      0.0   \nآبشار تهران                                               0.0      0.0   \nآبشار تهران، بلوار اردستانی (بزرگراه خرازی)               0.0      0.0   \nآبشار تهران، خیابان سازمان آب (خ. هنگام)                  0.0      0.0   \nآبشار تهران، خیابان پیست دوچرخه سواری دریاچه چیتگر        0.0      0.0   \n...                                                       ...      ...   \nیک ربع  پونک                                              0.0      0.0   \nیک ربع  پیی                                               0.0      0.0   \nیک ربع  چیتگر                                             0.0      0.0   \nیک ربع  کوهک                                              0.0      0.0   \nیک ربع  کوی فردوس                                         0.0      0.0   \n\n                                                    Elevator         Price  \nAddress                                                                     \nآبشار                                                    0.0  2.007203e+09  \nآبشار تهران                                              0.0  3.001289e+09  \nآبشار تهران، بلوار اردستانی (بزرگراه خرازی)              0.0  1.216000e+09  \nآبشار تهران، خیابان سازمان آب (خ. هنگام)                 0.0  1.000000e+09  \nآبشار تهران، خیابان پیست دوچرخه سواری دریاچه چیتگر       0.0  4.800000e+09  \n...                                                      ...           ...  \nیک ربع  پونک                                             0.0  2.830000e+09  \nیک ربع  پیی                                              0.0  5.250000e+09  \nیک ربع  چیتگر                                            0.0  1.812000e+09  \nیک ربع  کوهک                                             0.0  9.000000e+09  \nیک ربع  کوی فردوس                                        0.0  4.263333e+09  \n\n[1250 rows x 4 columns]",
      "text/html": "<div>\n<style scoped>\n    .dataframe tbody tr th:only-of-type {\n        vertical-align: middle;\n    }\n\n    .dataframe tbody tr th {\n        vertical-align: top;\n    }\n\n    .dataframe thead th {\n        text-align: right;\n    }\n</style>\n<table border=\"1\" class=\"dataframe\">\n  <thead>\n    <tr style=\"text-align: right;\">\n      <th></th>\n      <th>Warehouse</th>\n      <th>Parking</th>\n      <th>Elevator</th>\n      <th>Price</th>\n    </tr>\n    <tr>\n      <th>Address</th>\n      <th></th>\n      <th></th>\n      <th></th>\n      <th></th>\n    </tr>\n  </thead>\n  <tbody>\n    <tr>\n      <th>آبشار</th>\n      <td>0.0</td>\n      <td>0.0</td>\n      <td>0.0</td>\n      <td>2.007203e+09</td>\n    </tr>\n    <tr>\n      <th>آبشار تهران</th>\n      <td>0.0</td>\n      <td>0.0</td>\n      <td>0.0</td>\n      <td>3.001289e+09</td>\n    </tr>\n    <tr>\n      <th>آبشار تهران، بلوار اردستانی (بزرگراه خرازی)</th>\n      <td>0.0</td>\n      <td>0.0</td>\n      <td>0.0</td>\n      <td>1.216000e+09</td>\n    </tr>\n    <tr>\n      <th>آبشار تهران، خیابان سازمان آب (خ. هنگام)</th>\n      <td>0.0</td>\n      <td>0.0</td>\n      <td>0.0</td>\n      <td>1.000000e+09</td>\n    </tr>\n    <tr>\n      <th>آبشار تهران، خیابان پیست دوچرخه سواری دریاچه چیتگر</th>\n      <td>0.0</td>\n      <td>0.0</td>\n      <td>0.0</td>\n      <td>4.800000e+09</td>\n    </tr>\n    <tr>\n      <th>...</th>\n      <td>...</td>\n      <td>...</td>\n      <td>...</td>\n      <td>...</td>\n    </tr>\n    <tr>\n      <th>یک ربع  پونک</th>\n      <td>0.0</td>\n      <td>0.0</td>\n      <td>0.0</td>\n      <td>2.830000e+09</td>\n    </tr>\n    <tr>\n      <th>یک ربع  پیی</th>\n      <td>0.0</td>\n      <td>0.0</td>\n      <td>0.0</td>\n      <td>5.250000e+09</td>\n    </tr>\n    <tr>\n      <th>یک ربع  چیتگر</th>\n      <td>0.0</td>\n      <td>0.0</td>\n      <td>0.0</td>\n      <td>1.812000e+09</td>\n    </tr>\n    <tr>\n      <th>یک ربع  کوهک</th>\n      <td>0.0</td>\n      <td>0.0</td>\n      <td>0.0</td>\n      <td>9.000000e+09</td>\n    </tr>\n    <tr>\n      <th>یک ربع  کوی فردوس</th>\n      <td>0.0</td>\n      <td>0.0</td>\n      <td>0.0</td>\n      <td>4.263333e+09</td>\n    </tr>\n  </tbody>\n</table>\n<p>1250 rows × 4 columns</p>\n</div>"
     },
     "execution_count": 74,
     "metadata": {},
     "output_type": "execute_result"
    }
   ],
   "source": [
    "gr_avg = gr_h.mean()\n",
    "gr_avg"
   ],
   "metadata": {
    "collapsed": false,
    "pycharm": {
     "name": "#%%\n"
    }
   }
  },
  {
   "cell_type": "code",
   "execution_count": 75,
   "outputs": [],
   "source": [
    "gr_avg.drop(['Warehouse', 'Parking', 'Elevator'], axis=1, inplace=True)"
   ],
   "metadata": {
    "collapsed": false,
    "pycharm": {
     "name": "#%%\n"
    }
   }
  },
  {
   "cell_type": "code",
   "execution_count": 76,
   "outputs": [
    {
     "data": {
      "text/plain": "                                                           Price\nAddress                                                         \nآبشار                                               2.007203e+09\nآبشار تهران                                         3.001289e+09\nآبشار تهران، بلوار اردستانی (بزرگراه خرازی)         1.216000e+09\nآبشار تهران، خیابان سازمان آب (خ. هنگام)            1.000000e+09\nآبشار تهران، خیابان پیست دوچرخه سواری دریاچه چیتگر  4.800000e+09\n...                                                          ...\nیک ربع  پونک                                        2.830000e+09\nیک ربع  پیی                                         5.250000e+09\nیک ربع  چیتگر                                       1.812000e+09\nیک ربع  کوهک                                        9.000000e+09\nیک ربع  کوی فردوس                                   4.263333e+09\n\n[1250 rows x 1 columns]",
      "text/html": "<div>\n<style scoped>\n    .dataframe tbody tr th:only-of-type {\n        vertical-align: middle;\n    }\n\n    .dataframe tbody tr th {\n        vertical-align: top;\n    }\n\n    .dataframe thead th {\n        text-align: right;\n    }\n</style>\n<table border=\"1\" class=\"dataframe\">\n  <thead>\n    <tr style=\"text-align: right;\">\n      <th></th>\n      <th>Price</th>\n    </tr>\n    <tr>\n      <th>Address</th>\n      <th></th>\n    </tr>\n  </thead>\n  <tbody>\n    <tr>\n      <th>آبشار</th>\n      <td>2.007203e+09</td>\n    </tr>\n    <tr>\n      <th>آبشار تهران</th>\n      <td>3.001289e+09</td>\n    </tr>\n    <tr>\n      <th>آبشار تهران، بلوار اردستانی (بزرگراه خرازی)</th>\n      <td>1.216000e+09</td>\n    </tr>\n    <tr>\n      <th>آبشار تهران، خیابان سازمان آب (خ. هنگام)</th>\n      <td>1.000000e+09</td>\n    </tr>\n    <tr>\n      <th>آبشار تهران، خیابان پیست دوچرخه سواری دریاچه چیتگر</th>\n      <td>4.800000e+09</td>\n    </tr>\n    <tr>\n      <th>...</th>\n      <td>...</td>\n    </tr>\n    <tr>\n      <th>یک ربع  پونک</th>\n      <td>2.830000e+09</td>\n    </tr>\n    <tr>\n      <th>یک ربع  پیی</th>\n      <td>5.250000e+09</td>\n    </tr>\n    <tr>\n      <th>یک ربع  چیتگر</th>\n      <td>1.812000e+09</td>\n    </tr>\n    <tr>\n      <th>یک ربع  کوهک</th>\n      <td>9.000000e+09</td>\n    </tr>\n    <tr>\n      <th>یک ربع  کوی فردوس</th>\n      <td>4.263333e+09</td>\n    </tr>\n  </tbody>\n</table>\n<p>1250 rows × 1 columns</p>\n</div>"
     },
     "execution_count": 76,
     "metadata": {},
     "output_type": "execute_result"
    }
   ],
   "source": [
    "gr_avg"
   ],
   "metadata": {
    "collapsed": false,
    "pycharm": {
     "name": "#%%\n"
    }
   }
  },
  {
   "cell_type": "code",
   "execution_count": 77,
   "outputs": [
    {
     "data": {
      "text/plain": "<matplotlib.collections.PathCollection at 0x28b1903b430>"
     },
     "execution_count": 77,
     "metadata": {},
     "output_type": "execute_result"
    },
    {
     "data": {
      "text/plain": "<Figure size 432x288 with 1 Axes>",
      "image/png": "[encoded data removed]"
     },
     "metadata": {
      "needs_background": "light"
     },
     "output_type": "display_data"
    }
   ],
   "source": [
    "plt.scatter(house_data.Address[:50], house_data.Price[:50])"
   ],
   "metadata": {
    "collapsed": false,
    "pycharm": {
     "name": "#%%\n"
    }
   }
  },
  {
   "cell_type": "code",
   "execution_count": 78,
   "outputs": [],
   "source": [
    "house_data.to_csv('C:\\\\Users\\\\ADMIN\\\\Desktop\\\\my project\\\\tehran_house_preprocessing.csv', index=False)"
   ],
   "metadata": {
    "collapsed": false,
    "pycharm": {
     "name": "#%%\n"
    }
   }
  },
  {
   "cell_type": "code",
   "execution_count": 79,
   "outputs": [
    {
     "data": {
      "text/plain": "Int64Index([    1,    19,    49,    58,    69,   110,   127,   146,   170,\n              188,\n            ...\n            38156, 38158, 38163, 38168, 38169, 38171, 38175, 38180, 38183,\n            38184],\n           dtype='int64', length=2409)"
     },
     "execution_count": 79,
     "metadata": {},
     "output_type": "execute_result"
    }
   ],
   "source": [
    "mask = house_data.Address == 'اندیشه'\n",
    "ad_ind = house_data.Address[mask].index\n",
    "ad_ind"
   ],
   "metadata": {
    "collapsed": false,
    "pycharm": {
     "name": "#%%\n"
    }
   }
  },
  {
   "cell_type": "code",
   "execution_count": 80,
   "outputs": [
    {
     "data": {
      "text/plain": "<matplotlib.collections.PathCollection at 0x28b1846a5c0>"
     },
     "execution_count": 80,
     "metadata": {},
     "output_type": "execute_result"
    },
    {
     "data": {
      "text/plain": "<Figure size 432x288 with 1 Axes>",
      "image/png": "[encoded data removed]"
     },
     "metadata": {
      "needs_background": "light"
     },
     "output_type": "display_data"
    }
   ],
   "source": [
    "plt.scatter(house_data.Area[ad_ind], house_data.Price[ad_ind])"
   ],
   "metadata": {
    "collapsed": false,
    "pycharm": {
     "name": "#%%\n"
    }
   }
  },
  {
   "cell_type": "code",
   "execution_count": 81,
   "outputs": [
    {
     "data": {
      "text/plain": "{'whiskers': [<matplotlib.lines.Line2D at 0x28b195c25c0>,\n  <matplotlib.lines.Line2D at 0x28b195c2890>],\n 'caps': [<matplotlib.lines.Line2D at 0x28b195c2b60>,\n  <matplotlib.lines.Line2D at 0x28b195c2e30>],\n 'boxes': [<matplotlib.lines.Line2D at 0x28b195c22f0>],\n 'medians': [<matplotlib.lines.Line2D at 0x28b195c3100>],\n 'fliers': [<matplotlib.lines.Line2D at 0x28b195c33d0>],\n 'means': []}"
     },
     "execution_count": 81,
     "metadata": {},
     "output_type": "execute_result"
    },
    {
     "data": {
      "text/plain": "<Figure size 432x288 with 1 Axes>",
      "image/png": "[encoded data removed]"
     },
     "metadata": {
      "needs_background": "light"
     },
     "output_type": "display_data"
    }
   ],
   "source": [
    "plt.boxplot(house_data.Price[ad_ind])"
   ],
   "metadata": {
    "collapsed": false,
    "pycharm": {
     "name": "#%%\n"
    }
   }
  },
  {
   "cell_type": "code",
   "execution_count": 127,
   "outputs": [
    {
     "data": {
      "text/plain": "1250000000.0"
     },
     "execution_count": 127,
     "metadata": {},
     "output_type": "execute_result"
    }
   ],
   "source": [
    "y = house_data.Price[ad_ind].copy()\n",
    "y.quantile(0.75)"
   ],
   "metadata": {
    "collapsed": false,
    "pycharm": {
     "name": "#%%\n"
    }
   }
  },
  {
   "cell_type": "code",
   "execution_count": 128,
   "outputs": [
    {
     "data": {
      "text/plain": "Int64Index([   19,    58,   146,   188,   268,   327,   350,   389,   459,\n              487,\n            ...\n            37773, 37851, 37951, 37987, 38040, 38062, 38076, 38080, 38095,\n            38146],\n           dtype='int64', length=577)"
     },
     "execution_count": 128,
     "metadata": {},
     "output_type": "execute_result"
    }
   ],
   "source": [
    "max_ind = y[y > y.quantile(0.75)].index\n",
    "max_ind"
   ],
   "metadata": {
    "collapsed": false,
    "pycharm": {
     "name": "#%%\n"
    }
   }
  },
  {
   "cell_type": "code",
   "execution_count": 129,
   "outputs": [],
   "source": [
    "x = house_data.Area[ad_ind].copy()"
   ],
   "metadata": {
    "collapsed": false,
    "pycharm": {
     "name": "#%%\n"
    }
   }
  },
  {
   "cell_type": "code",
   "execution_count": 130,
   "outputs": [
    {
     "data": {
      "text/plain": "1        54\n19       65\n49       55\n58       54\n69       41\n         ..\n38171    60\n38175    56\n38180    51\n38183    50\n38184    47\nName: Area, Length: 2409, dtype: object"
     },
     "execution_count": 130,
     "metadata": {},
     "output_type": "execute_result"
    }
   ],
   "source": [
    "x"
   ],
   "metadata": {
    "collapsed": false,
    "pycharm": {
     "name": "#%%\n"
    }
   }
  },
  {
   "cell_type": "code",
   "execution_count": 131,
   "outputs": [
    {
     "data": {
      "text/plain": "1          868000000\n19        1495000000\n49         570000000\n58       72000000000\n69         490000000\n            ...     \n38171      939000000\n38175      764000000\n38180     1050000000\n38183      700000000\n38184      800000000\nName: Price, Length: 2409, dtype: object"
     },
     "execution_count": 131,
     "metadata": {},
     "output_type": "execute_result"
    }
   ],
   "source": [
    "y"
   ],
   "metadata": {
    "collapsed": false,
    "pycharm": {
     "name": "#%%\n"
    }
   }
  },
  {
   "cell_type": "code",
   "execution_count": 132,
   "outputs": [
    {
     "data": {
      "text/plain": "1        54\n49       55\n69       41\n110      60\n127      54\n         ..\n38171    60\n38175    56\n38180    51\n38183    50\n38184    47\nName: Area, Length: 1832, dtype: object"
     },
     "execution_count": 132,
     "metadata": {},
     "output_type": "execute_result"
    }
   ],
   "source": [
    "x.drop(max_ind, inplace=True)\n",
    "x"
   ],
   "metadata": {
    "collapsed": false,
    "pycharm": {
     "name": "#%%\n"
    }
   }
  },
  {
   "cell_type": "code",
   "execution_count": 133,
   "outputs": [
    {
     "data": {
      "text/plain": "1         868000000\n49        570000000\n69        490000000\n110       800000000\n127       868000000\n            ...    \n38171     939000000\n38175     764000000\n38180    1050000000\n38183     700000000\n38184     800000000\nName: Price, Length: 1832, dtype: object"
     },
     "execution_count": 133,
     "metadata": {},
     "output_type": "execute_result"
    }
   ],
   "source": [
    "y.drop(max_ind, inplace=True)\n",
    "y"
   ],
   "metadata": {
    "collapsed": false,
    "pycharm": {
     "name": "#%%\n"
    }
   }
  },
  {
   "cell_type": "code",
   "execution_count": 134,
   "outputs": [
    {
     "data": {
      "text/plain": "{'whiskers': [<matplotlib.lines.Line2D at 0x28b21999ed0>,\n  <matplotlib.lines.Line2D at 0x28b2199a1a0>],\n 'caps': [<matplotlib.lines.Line2D at 0x28b2199a470>,\n  <matplotlib.lines.Line2D at 0x28b2199a740>],\n 'boxes': [<matplotlib.lines.Line2D at 0x28b21999d20>],\n 'medians': [<matplotlib.lines.Line2D at 0x28b2199aa10>],\n 'fliers': [<matplotlib.lines.Line2D at 0x28b2199ace0>],\n 'means': []}"
     },
     "execution_count": 134,
     "metadata": {},
     "output_type": "execute_result"
    },
    {
     "data": {
      "text/plain": "<Figure size 432x288 with 1 Axes>",
      "image/png": "[encoded data removed]"
     },
     "metadata": {
      "needs_background": "light"
     },
     "output_type": "display_data"
    }
   ],
   "source": [
    "plt.boxplot(y)"
   ],
   "metadata": {
    "collapsed": false,
    "pycharm": {
     "name": "#%%\n"
    }
   }
  },
  {
   "cell_type": "code",
   "execution_count": 135,
   "outputs": [],
   "source": [
    "min_ind = y[y < y.quantile(0.25)].index\n",
    "y.drop(min_ind,inplace=True)\n",
    "x.drop(min_ind,inplace=True)\n"
   ],
   "metadata": {
    "collapsed": false,
    "pycharm": {
     "name": "#%%\n"
    }
   }
  },
  {
   "cell_type": "code",
   "execution_count": 136,
   "outputs": [
    {
     "data": {
      "text/plain": "{'whiskers': [<matplotlib.lines.Line2D at 0x28b219eb790>,\n  <matplotlib.lines.Line2D at 0x28b219eba60>],\n 'caps': [<matplotlib.lines.Line2D at 0x28b219ebd30>,\n  <matplotlib.lines.Line2D at 0x28b21a18040>],\n 'boxes': [<matplotlib.lines.Line2D at 0x28b219eb4c0>],\n 'medians': [<matplotlib.lines.Line2D at 0x28b21a18310>],\n 'fliers': [<matplotlib.lines.Line2D at 0x28b21a185e0>],\n 'means': []}"
     },
     "execution_count": 136,
     "metadata": {},
     "output_type": "execute_result"
    },
    {
     "data": {
      "text/plain": "<Figure size 432x288 with 1 Axes>",
      "image/png": "[encoded data removed]"
     },
     "metadata": {
      "needs_background": "light"
     },
     "output_type": "display_data"
    }
   ],
   "source": [
    "plt.boxplot(y)"
   ],
   "metadata": {
    "collapsed": false,
    "pycharm": {
     "name": "#%%\n"
    }
   }
  },
  {
   "cell_type": "code",
   "execution_count": 137,
   "outputs": [
    {
     "data": {
      "text/plain": "<matplotlib.collections.PathCollection at 0x28b21a68d00>"
     },
     "execution_count": 137,
     "metadata": {},
     "output_type": "execute_result"
    },
    {
     "data": {
      "text/plain": "<Figure size 432x288 with 1 Axes>",
      "image/png": "[encoded data removed]"
     },
     "metadata": {
      "needs_background": "light"
     },
     "output_type": "display_data"
    }
   ],
   "source": [
    "plt.scatter(x,y)"
   ],
   "metadata": {
    "collapsed": false,
    "pycharm": {
     "name": "#%%\n"
    }
   }
  },
  {
   "cell_type": "code",
   "execution_count": 142,
   "outputs": [
    {
     "data": {
      "text/plain": "      Area Construction Room Warehouse Parking Elevator Address        Price\n1       54         1389    1         1       1        1  اندیشه    868000000\n19      65         1389    2         0       0        0  اندیشه   1495000000\n49      55         1390    2         0       0        0  اندیشه    570000000\n58      54         1394    1         0       0        0  اندیشه  72000000000\n69      41         1396    1         0       0        0  اندیشه    490000000\n...    ...          ...  ...       ...     ...      ...     ...          ...\n38171   60         1396    1         0       0        0  اندیشه    939000000\n38175   56         1394    1         0       0        0  اندیشه    764000000\n38180   51         1390    1         0       0        0  اندیشه   1050000000\n38183   50         1396    1         0       0        0  اندیشه    700000000\n38184   47         1397    1         0       0        0  اندیشه    800000000\n\n[2409 rows x 8 columns]",
      "text/html": "<div>\n<style scoped>\n    .dataframe tbody tr th:only-of-type {\n        vertical-align: middle;\n    }\n\n    .dataframe tbody tr th {\n        vertical-align: top;\n    }\n\n    .dataframe thead th {\n        text-align: right;\n    }\n</style>\n<table border=\"1\" class=\"dataframe\">\n  <thead>\n    <tr style=\"text-align: right;\">\n      <th></th>\n      <th>Area</th>\n      <th>Construction</th>\n      <th>Room</th>\n      <th>Warehouse</th>\n      <th>Parking</th>\n      <th>Elevator</th>\n      <th>Address</th>\n      <th>Price</th>\n    </tr>\n  </thead>\n  <tbody>\n    <tr>\n      <th>1</th>\n      <td>54</td>\n      <td>1389</td>\n      <td>1</td>\n      <td>1</td>\n      <td>1</td>\n      <td>1</td>\n      <td>اندیشه</td>\n      <td>868000000</td>\n    </tr>\n    <tr>\n      <th>19</th>\n      <td>65</td>\n      <td>1389</td>\n      <td>2</td>\n      <td>0</td>\n      <td>0</td>\n      <td>0</td>\n      <td>اندیشه</td>\n      <td>1495000000</td>\n    </tr>\n    <tr>\n      <th>49</th>\n      <td>55</td>\n      <td>1390</td>\n      <td>2</td>\n      <td>0</td>\n      <td>0</td>\n      <td>0</td>\n      <td>اندیشه</td>\n      <td>570000000</td>\n    </tr>\n    <tr>\n      <th>58</th>\n      <td>54</td>\n      <td>1394</td>\n      <td>1</td>\n      <td>0</td>\n      <td>0</td>\n      <td>0</td>\n      <td>اندیشه</td>\n      <td>72000000000</td>\n    </tr>\n    <tr>\n      <th>69</th>\n      <td>41</td>\n      <td>1396</td>\n      <td>1</td>\n      <td>0</td>\n      <td>0</td>\n      <td>0</td>\n      <td>اندیشه</td>\n      <td>490000000</td>\n    </tr>\n    <tr>\n      <th>...</th>\n      <td>...</td>\n      <td>...</td>\n      <td>...</td>\n      <td>...</td>\n      <td>...</td>\n      <td>...</td>\n      <td>...</td>\n      <td>...</td>\n    </tr>\n    <tr>\n      <th>38171</th>\n      <td>60</td>\n      <td>1396</td>\n      <td>1</td>\n      <td>0</td>\n      <td>0</td>\n      <td>0</td>\n      <td>اندیشه</td>\n      <td>939000000</td>\n    </tr>\n    <tr>\n      <th>38175</th>\n      <td>56</td>\n      <td>1394</td>\n      <td>1</td>\n      <td>0</td>\n      <td>0</td>\n      <td>0</td>\n      <td>اندیشه</td>\n      <td>764000000</td>\n    </tr>\n    <tr>\n      <th>38180</th>\n      <td>51</td>\n      <td>1390</td>\n      <td>1</td>\n      <td>0</td>\n      <td>0</td>\n      <td>0</td>\n      <td>اندیشه</td>\n      <td>1050000000</td>\n    </tr>\n    <tr>\n      <th>38183</th>\n      <td>50</td>\n      <td>1396</td>\n      <td>1</td>\n      <td>0</td>\n      <td>0</td>\n      <td>0</td>\n      <td>اندیشه</td>\n      <td>700000000</td>\n    </tr>\n    <tr>\n      <th>38184</th>\n      <td>47</td>\n      <td>1397</td>\n      <td>1</td>\n      <td>0</td>\n      <td>0</td>\n      <td>0</td>\n      <td>اندیشه</td>\n      <td>800000000</td>\n    </tr>\n  </tbody>\n</table>\n<p>2409 rows × 8 columns</p>\n</div>"
     },
     "execution_count": 142,
     "metadata": {},
     "output_type": "execute_result"
    }
   ],
   "source": [
    "data_hor1=house_data.loc[ad_ind][:].copy()\n",
    "data_hor1"
   ],
   "metadata": {
    "collapsed": false,
    "pycharm": {
     "name": "#%%\n"
    }
   }
  },
  {
   "cell_type": "code",
   "execution_count": 144,
   "outputs": [
    {
     "data": {
      "text/plain": "Int64Index([  268,   327,   350,   911,  1016,  1262,  1508,  1552,  1808,\n             2801,\n            ...\n            37591, 37620, 37654, 37659, 37702, 37773, 38040, 38062, 38095,\n            38146],\n           dtype='int64', length=224)"
     },
     "execution_count": 144,
     "metadata": {},
     "output_type": "execute_result"
    }
   ],
   "source": [
    "hor_ind=data_hor1[data_hor1.Area >85].index\n",
    "hor_ind"
   ],
   "metadata": {
    "collapsed": false,
    "pycharm": {
     "name": "#%%\n"
    }
   }
  },
  {
   "cell_type": "code",
   "execution_count": 146,
   "outputs": [
    {
     "data": {
      "text/plain": "      Area Construction Room Warehouse Parking Elevator Address       Price\n268    130         1401    3         0       0        0  اندیشه  1780000000\n327    124         1401    2         0       0        0  اندیشه  3600000000\n350    160         1401    3         0       0        0  اندیشه  2880000000\n911    103         1390    2         0       0        0  اندیشه  1280000000\n1016    94         1400    2         0       0        0  اندیشه  2256000000\n...    ...          ...  ...       ...     ...      ...     ...         ...\n37773  110         1398    2         0       0        0  اندیشه  1325000000\n38040  110         1401    2         0       0        0  اندیشه  1700000000\n38062  152         1399    3         0       0        0  اندیشه  3400000000\n38095  125         1401    3         0       0        0  اندیشه  2000000000\n38146  200         1400    2         0       0        0  اندیشه  3700000000\n\n[224 rows x 8 columns]",
      "text/html": "<div>\n<style scoped>\n    .dataframe tbody tr th:only-of-type {\n        vertical-align: middle;\n    }\n\n    .dataframe tbody tr th {\n        vertical-align: top;\n    }\n\n    .dataframe thead th {\n        text-align: right;\n    }\n</style>\n<table border=\"1\" class=\"dataframe\">\n  <thead>\n    <tr style=\"text-align: right;\">\n      <th></th>\n      <th>Area</th>\n      <th>Construction</th>\n      <th>Room</th>\n      <th>Warehouse</th>\n      <th>Parking</th>\n      <th>Elevator</th>\n      <th>Address</th>\n      <th>Price</th>\n    </tr>\n  </thead>\n  <tbody>\n    <tr>\n      <th>268</th>\n      <td>130</td>\n      <td>1401</td>\n      <td>3</td>\n      <td>0</td>\n      <td>0</td>\n      <td>0</td>\n      <td>اندیشه</td>\n      <td>1780000000</td>\n    </tr>\n    <tr>\n      <th>327</th>\n      <td>124</td>\n      <td>1401</td>\n      <td>2</td>\n      <td>0</td>\n      <td>0</td>\n      <td>0</td>\n      <td>اندیشه</td>\n      <td>3600000000</td>\n    </tr>\n    <tr>\n      <th>350</th>\n      <td>160</td>\n      <td>1401</td>\n      <td>3</td>\n      <td>0</td>\n      <td>0</td>\n      <td>0</td>\n      <td>اندیشه</td>\n      <td>2880000000</td>\n    </tr>\n    <tr>\n      <th>911</th>\n      <td>103</td>\n      <td>1390</td>\n      <td>2</td>\n      <td>0</td>\n      <td>0</td>\n      <td>0</td>\n      <td>اندیشه</td>\n      <td>1280000000</td>\n    </tr>\n    <tr>\n      <th>1016</th>\n      <td>94</td>\n      <td>1400</td>\n      <td>2</td>\n      <td>0</td>\n      <td>0</td>\n      <td>0</td>\n      <td>اندیشه</td>\n      <td>2256000000</td>\n    </tr>\n    <tr>\n      <th>...</th>\n      <td>...</td>\n      <td>...</td>\n      <td>...</td>\n      <td>...</td>\n      <td>...</td>\n      <td>...</td>\n      <td>...</td>\n      <td>...</td>\n    </tr>\n    <tr>\n      <th>37773</th>\n      <td>110</td>\n      <td>1398</td>\n      <td>2</td>\n      <td>0</td>\n      <td>0</td>\n      <td>0</td>\n      <td>اندیشه</td>\n      <td>1325000000</td>\n    </tr>\n    <tr>\n      <th>38040</th>\n      <td>110</td>\n      <td>1401</td>\n      <td>2</td>\n      <td>0</td>\n      <td>0</td>\n      <td>0</td>\n      <td>اندیشه</td>\n      <td>1700000000</td>\n    </tr>\n    <tr>\n      <th>38062</th>\n      <td>152</td>\n      <td>1399</td>\n      <td>3</td>\n      <td>0</td>\n      <td>0</td>\n      <td>0</td>\n      <td>اندیشه</td>\n      <td>3400000000</td>\n    </tr>\n    <tr>\n      <th>38095</th>\n      <td>125</td>\n      <td>1401</td>\n      <td>3</td>\n      <td>0</td>\n      <td>0</td>\n      <td>0</td>\n      <td>اندیشه</td>\n      <td>2000000000</td>\n    </tr>\n    <tr>\n      <th>38146</th>\n      <td>200</td>\n      <td>1400</td>\n      <td>2</td>\n      <td>0</td>\n      <td>0</td>\n      <td>0</td>\n      <td>اندیشه</td>\n      <td>3700000000</td>\n    </tr>\n  </tbody>\n</table>\n<p>224 rows × 8 columns</p>\n</div>"
     },
     "execution_count": 146,
     "metadata": {},
     "output_type": "execute_result"
    }
   ],
   "source": [
    "data_g85=data_hor1.loc[hor_ind][:]\n",
    "data_g85"
   ],
   "metadata": {
    "collapsed": false,
    "pycharm": {
     "name": "#%%\n"
    }
   }
  },
  {
   "cell_type": "code",
   "execution_count": 147,
   "outputs": [
    {
     "data": {
      "text/plain": "Int64Index([4758, 4899, 5803, 5813, 17314, 21118, 21675, 35894, 37211], dtype='int64')"
     },
     "execution_count": 147,
     "metadata": {},
     "output_type": "execute_result"
    }
   ],
   "source": [
    "data_g85[data_g85.Price<=1000000000].index"
   ],
   "metadata": {
    "collapsed": false,
    "pycharm": {
     "name": "#%%\n"
    }
   }
  },
  {
   "cell_type": "code",
   "execution_count": 158,
   "outputs": [
    {
     "data": {
      "text/plain": "      Area Construction Room Warehouse Parking Elevator Address      Price\n4758    86         1395    2         0       0        0  اندیشه  700000000\n4899    90         1400    2         0       0        0  اندیشه  320000000\n5803    89         1401    2         0       0        0  اندیشه  370000000\n5813    90         1396    2         0       0        0  اندیشه  580000000\n17314  100         1401    2         0       0        0  اندیشه  370000000\n21118   86         1388    2         0       0        0  اندیشه  960000000\n21675   88         1388    2         0       0        0  اندیشه  872800000\n35894   90         1384    2         0       0        0  اندیشه  950000000\n37211   90         1385    2         0       0        0  اندیشه  750000000",
      "text/html": "<div>\n<style scoped>\n    .dataframe tbody tr th:only-of-type {\n        vertical-align: middle;\n    }\n\n    .dataframe tbody tr th {\n        vertical-align: top;\n    }\n\n    .dataframe thead th {\n        text-align: right;\n    }\n</style>\n<table border=\"1\" class=\"dataframe\">\n  <thead>\n    <tr style=\"text-align: right;\">\n      <th></th>\n      <th>Area</th>\n      <th>Construction</th>\n      <th>Room</th>\n      <th>Warehouse</th>\n      <th>Parking</th>\n      <th>Elevator</th>\n      <th>Address</th>\n      <th>Price</th>\n    </tr>\n  </thead>\n  <tbody>\n    <tr>\n      <th>4758</th>\n      <td>86</td>\n      <td>1395</td>\n      <td>2</td>\n      <td>0</td>\n      <td>0</td>\n      <td>0</td>\n      <td>اندیشه</td>\n      <td>700000000</td>\n    </tr>\n    <tr>\n      <th>4899</th>\n      <td>90</td>\n      <td>1400</td>\n      <td>2</td>\n      <td>0</td>\n      <td>0</td>\n      <td>0</td>\n      <td>اندیشه</td>\n      <td>320000000</td>\n    </tr>\n    <tr>\n      <th>5803</th>\n      <td>89</td>\n      <td>1401</td>\n      <td>2</td>\n      <td>0</td>\n      <td>0</td>\n      <td>0</td>\n      <td>اندیشه</td>\n      <td>370000000</td>\n    </tr>\n    <tr>\n      <th>5813</th>\n      <td>90</td>\n      <td>1396</td>\n      <td>2</td>\n      <td>0</td>\n      <td>0</td>\n      <td>0</td>\n      <td>اندیشه</td>\n      <td>580000000</td>\n    </tr>\n    <tr>\n      <th>17314</th>\n      <td>100</td>\n      <td>1401</td>\n      <td>2</td>\n      <td>0</td>\n      <td>0</td>\n      <td>0</td>\n      <td>اندیشه</td>\n      <td>370000000</td>\n    </tr>\n    <tr>\n      <th>21118</th>\n      <td>86</td>\n      <td>1388</td>\n      <td>2</td>\n      <td>0</td>\n      <td>0</td>\n      <td>0</td>\n      <td>اندیشه</td>\n      <td>960000000</td>\n    </tr>\n    <tr>\n      <th>21675</th>\n      <td>88</td>\n      <td>1388</td>\n      <td>2</td>\n      <td>0</td>\n      <td>0</td>\n      <td>0</td>\n      <td>اندیشه</td>\n      <td>872800000</td>\n    </tr>\n    <tr>\n      <th>35894</th>\n      <td>90</td>\n      <td>1384</td>\n      <td>2</td>\n      <td>0</td>\n      <td>0</td>\n      <td>0</td>\n      <td>اندیشه</td>\n      <td>950000000</td>\n    </tr>\n    <tr>\n      <th>37211</th>\n      <td>90</td>\n      <td>1385</td>\n      <td>2</td>\n      <td>0</td>\n      <td>0</td>\n      <td>0</td>\n      <td>اندیشه</td>\n      <td>750000000</td>\n    </tr>\n  </tbody>\n</table>\n</div>"
     },
     "execution_count": 158,
     "metadata": {},
     "output_type": "execute_result"
    }
   ],
   "source": [
    "data_g85.loc[data_g85[data_g85.Price<=1000000000].index][:]"
   ],
   "metadata": {
    "collapsed": false,
    "pycharm": {
     "name": "#%%\n"
    }
   }
  },
  {
   "cell_type": "code",
   "execution_count": 168,
   "outputs": [
    {
     "data": {
      "text/plain": "0.75"
     },
     "execution_count": 168,
     "metadata": {},
     "output_type": "execute_result"
    }
   ],
   "source": [
    "data_hor1.Price[37211]/1000000000"
   ],
   "metadata": {
    "collapsed": false,
    "pycharm": {
     "name": "#%%\n"
    }
   }
  },
  {
   "cell_type": "code",
   "execution_count": 172,
   "outputs": [
    {
     "data": {
      "text/plain": "([<matplotlib.axis.XTick at 0x28b23a783d0>,\n  <matplotlib.axis.XTick at 0x28b23a783a0>,\n  <matplotlib.axis.XTick at 0x28b23a5ff40>,\n  <matplotlib.axis.XTick at 0x28b23a98b20>,\n  <matplotlib.axis.XTick at 0x28b23a99270>],\n [Text(0, 0, 'آبشار'),\n  Text(1, 0, 'آبشار تهران'),\n  Text(2, 0, 'آبشار تهران، بلوار اردستانی (بزرگراه خرازی)'),\n  Text(3, 0, 'آبشار تهران، خیابان سازمان آب (خ. هنگام)'),\n  Text(4, 0, 'آبشار تهران، خیابان پیست دوچرخه سواری دریاچه چیتگر')])"
     },
     "execution_count": 172,
     "metadata": {},
     "output_type": "execute_result"
    },
    {
     "data": {
      "text/plain": "<Figure size 1440x1440 with 1 Axes>",
      "image/png": "[encoded data removed]"
     },
     "metadata": {
      "needs_background": "light"
     },
     "output_type": "display_data"
    }
   ],
   "source": [
    "plt.figure(figsize=(20,20))\n",
    "plt.plot(gr_avg[:5])\n",
    "plt.xticks(range(5),gr_avg.index[:5])"
   ],
   "metadata": {
    "collapsed": false,
    "pycharm": {
     "name": "#%%\n"
    }
   }
  },
  {
   "cell_type": "code",
   "execution_count": 166,
   "outputs": [
    {
     "data": {
      "text/plain": "1030000000"
     },
     "execution_count": 166,
     "metadata": {},
     "output_type": "execute_result"
    }
   ],
   "source": [],
   "metadata": {
    "collapsed": false,
    "pycharm": {
     "name": "#%%\n"
    }
   }
  },
  {
   "cell_type": "code",
   "execution_count": 167,
   "outputs": [
    {
     "data": {
      "text/plain": "1.03"
     },
     "execution_count": 167,
     "metadata": {},
     "output_type": "execute_result"
    }
   ],
   "source": [],
   "metadata": {
    "collapsed": false,
    "pycharm": {
     "name": "#%%\n"
    }
   }
  },
  {
   "cell_type": "code",
   "execution_count": null,
   "outputs": [],
   "source": [],
   "metadata": {
    "collapsed": false,
    "pycharm": {
     "name": "#%%\n"
    }
   }
  }
 ],
 "metadata": {
  "kernelspec": {
   "display_name": "Python 3",
   "language": "python",
   "name": "python3"
  },
  "language_info": {
   "codemirror_mode": {
    "name": "ipython",
    "version": 2
   },
   "file_extension": ".py",
   "mimetype": "text/x-python",
   "name": "python",
   "nbconvert_exporter": "python",
   "pygments_lexer": "ipython2",
   "version": "2.7.6"
  }
 },
 "nbformat": 4,
 "nbformat_minor": 0
}