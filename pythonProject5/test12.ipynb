{
 "cells": [
  {
   "cell_type": "code",
   "execution_count": null,
   "outputs": [],
   "source": [
    "import MetaTrader5 as mt\n",
    "import numpy as np\n",
    "import pandas as pd\n",
    "import matplotlib.pyplot as plt\n",
    "import datetime\n",
    "import pytz\n",
    "import time"
   ],
   "metadata": {
    "collapsed": false,
    "pycharm": {
     "name": "#%%\n"
    }
   }
  },
  {
   "cell_type": "code",
   "execution_count": 63,
   "outputs": [],
   "source": [
    "def get_time(tme):\n",
    "    loc=time.localtime(tme)[:-3]\n",
    "    #year=loc[0],month=loc[1],day=loc[2],hour=loc[3],minute=loc[4],second=loc[5]\n",
    "    return datetime.datetime(loc[0],loc[1],loc[2],loc[3],loc[4],loc[5])"
   ],
   "metadata": {
    "collapsed": false,
    "pycharm": {
     "name": "#%%\n"
    }
   }
  },
  {
   "cell_type": "code",
   "execution_count": 64,
   "outputs": [],
   "source": [
    "def convert_time(tme_data):\n",
    "    tmex=[0]*len(tme_data)\n",
    "    for i in range(len(tme_data)):\n",
    "        tmex[i]=get_time(tme_data[i])\n",
    "    return np.array(tmex)"
   ],
   "metadata": {
    "collapsed": false,
    "pycharm": {
     "name": "#%%\n"
    }
   }
  },
  {
   "cell_type": "code",
   "execution_count": 3,
   "outputs": [
    {
     "data": {
      "text/plain": "True"
     },
     "execution_count": 3,
     "metadata": {},
     "output_type": "execute_result"
    }
   ],
   "source": [
    "mt.initialize('C:\\\\Program Files\\\\MofidTrader\\\\terminal64.exe')"
   ],
   "metadata": {
    "collapsed": false,
    "pycharm": {
     "name": "#%%\n"
    }
   }
  },
  {
   "cell_type": "code",
   "execution_count": 62,
   "outputs": [
    {
     "data": {
      "text/plain": "(2023, 2, 22, 3, 35, 31)"
     },
     "execution_count": 62,
     "metadata": {},
     "output_type": "execute_result"
    }
   ],
   "source": [
    "time.localtime(time.time())[:-3]"
   ],
   "metadata": {
    "collapsed": false,
    "pycharm": {
     "name": "#%%\n"
    }
   }
  },
  {
   "cell_type": "code",
   "execution_count": null,
   "outputs": [],
   "source": [],
   "metadata": {
    "collapsed": false,
    "pycharm": {
     "name": "#%%\n"
    }
   }
  },
  {
   "cell_type": "code",
   "execution_count": 66,
   "outputs": [
    {
     "data": {
      "text/plain": "datetime.datetime(2023, 2, 22, 3, 37, 4)"
     },
     "execution_count": 66,
     "metadata": {},
     "output_type": "execute_result"
    }
   ],
   "source": [
    "tme=get_time(time.time())\n",
    "tme"
   ],
   "metadata": {
    "collapsed": false,
    "pycharm": {
     "name": "#%%\n"
    }
   }
  },
  {
   "cell_type": "code",
   "execution_count": 67,
   "outputs": [
    {
     "data": {
      "text/plain": "SymbolInfo(custom=False, chart_mode=1, select=True, visible=True, session_deals=7982, session_buy_orders=0, session_sell_orders=0, volume=1000, volumehigh=98800, volumelow=1, time=1676991614, digits=0, spread=26, spread_float=True, ticks_bookdepth=5, trade_calc_mode=32, trade_mode=1, start_time=0, expiration_time=0, trade_stops_level=0, trade_freeze_level=0, trade_exemode=3, swap_mode=0, swap_rollover3days=3, margin_hedged_use_leg=False, expiration_mode=10, filling_mode=0, order_mode=127, order_gtc_mode=0, option_mode=0, option_right=0, bid=51450.0, bidhigh=52350.0, bidlow=51001.0, ask=51476.0, askhigh=52359.0, asklow=51015.0, last=69591.0, lasthigh=72190.0, lastlow=69580.0, volume_real=1000.0, volumehigh_real=98800.0, volumelow_real=1.0, option_strike=0.0, point=1.0, trade_tick_value=1.0, trade_tick_value_profit=1.0, trade_tick_value_loss=1.0, trade_tick_size=1.0, trade_contract_size=1.0, trade_accrued_interest=0.0, trade_face_value=0.0, trade_liquidity_rate=0.0, volume_min=1.0, volume_max=100000.0, volume_step=1.0, volume_limit=0.0, swap_long=0.0, swap_short=0.0, margin_initial=0.0, margin_maintenance=0.0, session_volume=11848063.0, session_turnover=838812733865.0, session_interest=0.0, session_buy_orders_volume=0.0, session_sell_orders_volume=0.0, session_open=70000.0, session_close=70797.0, session_aw=0.0, session_price_settlement=0.0, session_price_limit_min=66588.0, session_price_limit_max=81384.0, margin_hedged=0.0, price_change=-1.7035, price_volatility=0.0, price_theoretical=0.0, price_greeks_delta=0.0, price_greeks_theta=0.0, price_greeks_gamma=0.0, price_greeks_vega=0.0, price_greeks_rho=0.0, price_greeks_omega=0.0, price_sensitivity=0.0, basis='', category='', currency_base='RLS', currency_profit='RLS', currency_margin='RLS', bank='', description='صندوق طلای عیار مفید', exchange='', formula='', isin='IRTKMOFD0001', name='عیار', page='', path='TSE\\\\صندوق ETF\\\\عیار')"
     },
     "execution_count": 67,
     "metadata": {},
     "output_type": "execute_result"
    }
   ],
   "source": [
    "c=mt.symbol_info('عیار')\n",
    "c"
   ],
   "metadata": {
    "collapsed": false,
    "pycharm": {
     "name": "#%%\n"
    }
   }
  },
  {
   "cell_type": "code",
   "execution_count": 68,
   "outputs": [],
   "source": [
    "bars=mt.copy_rates_from('عیار',mt.TIMEFRAME_H1,tme,50000)"
   ],
   "metadata": {
    "collapsed": false,
    "pycharm": {
     "name": "#%%\n"
    }
   }
  },
  {
   "cell_type": "code",
   "execution_count": 69,
   "outputs": [
    {
     "data": {
      "text/plain": "            time     open     high      low    close  tick_volume  spread  \\\n0     1528534800  10000.0  10000.0  10000.0  10000.0          276       0   \n1     1528538400  10000.0  10000.0  10000.0  10000.0          268       0   \n2     1528542000  10000.0  10000.0  10000.0  10000.0          401       0   \n3     1528545600  10000.0  10000.0  10000.0  10000.0          310       0   \n4     1528549200  10000.0  10000.0  10000.0  10000.0          293       0   \n...          ...      ...      ...      ...      ...          ...     ...   \n3219  1676898000  72550.0  75839.0  72452.0  74231.0         2505      26   \n3220  1676901600  74232.0  74232.0  72990.0  73072.0         2545      26   \n3221  1676980800  70000.0  72190.0  70000.0  71998.0         3538      26   \n3222  1676984400  71901.0  72050.0  70500.0  70710.0         1965      26   \n3223  1676988000  70710.0  70975.0  69580.0  69591.0         2479      26   \n\n      real_volume  \n0         5000000  \n1         2000000  \n2         3000000  \n3         2000000  \n4         2000000  \n...           ...  \n3219      4955295  \n3220      3555299  \n3221      6535903  \n3222      2295858  \n3223      3016302  \n\n[3224 rows x 8 columns]",
      "text/html": "<div>\n<style scoped>\n    .dataframe tbody tr th:only-of-type {\n        vertical-align: middle;\n    }\n\n    .dataframe tbody tr th {\n        vertical-align: top;\n    }\n\n    .dataframe thead th {\n        text-align: right;\n    }\n</style>\n<table border=\"1\" class=\"dataframe\">\n  <thead>\n    <tr style=\"text-align: right;\">\n      <th></th>\n      <th>time</th>\n      <th>open</th>\n      <th>high</th>\n      <th>low</th>\n      <th>close</th>\n      <th>tick_volume</th>\n      <th>spread</th>\n      <th>real_volume</th>\n    </tr>\n  </thead>\n  <tbody>\n    <tr>\n      <th>0</th>\n      <td>1528534800</td>\n      <td>10000.0</td>\n      <td>10000.0</td>\n      <td>10000.0</td>\n      <td>10000.0</td>\n      <td>276</td>\n      <td>0</td>\n      <td>5000000</td>\n    </tr>\n    <tr>\n      <th>1</th>\n      <td>1528538400</td>\n      <td>10000.0</td>\n      <td>10000.0</td>\n      <td>10000.0</td>\n      <td>10000.0</td>\n      <td>268</td>\n      <td>0</td>\n      <td>2000000</td>\n    </tr>\n    <tr>\n      <th>2</th>\n      <td>1528542000</td>\n      <td>10000.0</td>\n      <td>10000.0</td>\n      <td>10000.0</td>\n      <td>10000.0</td>\n      <td>401</td>\n      <td>0</td>\n      <td>3000000</td>\n    </tr>\n    <tr>\n      <th>3</th>\n      <td>1528545600</td>\n      <td>10000.0</td>\n      <td>10000.0</td>\n      <td>10000.0</td>\n      <td>10000.0</td>\n      <td>310</td>\n      <td>0</td>\n      <td>2000000</td>\n    </tr>\n    <tr>\n      <th>4</th>\n      <td>1528549200</td>\n      <td>10000.0</td>\n      <td>10000.0</td>\n      <td>10000.0</td>\n      <td>10000.0</td>\n      <td>293</td>\n      <td>0</td>\n      <td>2000000</td>\n    </tr>\n    <tr>\n      <th>...</th>\n      <td>...</td>\n      <td>...</td>\n      <td>...</td>\n      <td>...</td>\n      <td>...</td>\n      <td>...</td>\n      <td>...</td>\n      <td>...</td>\n    </tr>\n    <tr>\n      <th>3219</th>\n      <td>1676898000</td>\n      <td>72550.0</td>\n      <td>75839.0</td>\n      <td>72452.0</td>\n      <td>74231.0</td>\n      <td>2505</td>\n      <td>26</td>\n      <td>4955295</td>\n    </tr>\n    <tr>\n      <th>3220</th>\n      <td>1676901600</td>\n      <td>74232.0</td>\n      <td>74232.0</td>\n      <td>72990.0</td>\n      <td>73072.0</td>\n      <td>2545</td>\n      <td>26</td>\n      <td>3555299</td>\n    </tr>\n    <tr>\n      <th>3221</th>\n      <td>1676980800</td>\n      <td>70000.0</td>\n      <td>72190.0</td>\n      <td>70000.0</td>\n      <td>71998.0</td>\n      <td>3538</td>\n      <td>26</td>\n      <td>6535903</td>\n    </tr>\n    <tr>\n      <th>3222</th>\n      <td>1676984400</td>\n      <td>71901.0</td>\n      <td>72050.0</td>\n      <td>70500.0</td>\n      <td>70710.0</td>\n      <td>1965</td>\n      <td>26</td>\n      <td>2295858</td>\n    </tr>\n    <tr>\n      <th>3223</th>\n      <td>1676988000</td>\n      <td>70710.0</td>\n      <td>70975.0</td>\n      <td>69580.0</td>\n      <td>69591.0</td>\n      <td>2479</td>\n      <td>26</td>\n      <td>3016302</td>\n    </tr>\n  </tbody>\n</table>\n<p>3224 rows × 8 columns</p>\n</div>"
     },
     "execution_count": 69,
     "metadata": {},
     "output_type": "execute_result"
    }
   ],
   "source": [
    "bars=pd.DataFrame(bars)\n",
    "bars"
   ],
   "metadata": {
    "collapsed": false,
    "pycharm": {
     "name": "#%%\n"
    }
   }
  },
  {
   "cell_type": "code",
   "execution_count": 70,
   "outputs": [
    {
     "data": {
      "text/plain": "1677024435.4553099"
     },
     "execution_count": 70,
     "metadata": {},
     "output_type": "execute_result"
    }
   ],
   "source": [
    "time.time()"
   ],
   "metadata": {
    "collapsed": false,
    "pycharm": {
     "name": "#%%\n"
    }
   }
  },
  {
   "cell_type": "code",
   "execution_count": 71,
   "outputs": [
    {
     "data": {
      "text/plain": "(2023, 2, 22, 3, 37, 16)"
     },
     "execution_count": 71,
     "metadata": {},
     "output_type": "execute_result"
    }
   ],
   "source": [
    "time.localtime(time.time())[:-3]"
   ],
   "metadata": {
    "collapsed": false,
    "pycharm": {
     "name": "#%%\n"
    }
   }
  },
  {
   "cell_type": "code",
   "execution_count": 72,
   "outputs": [
    {
     "data": {
      "text/plain": "time.struct_time(tm_year=2023, tm_mon=2, tm_mday=22, tm_hour=3, tm_min=37, tm_sec=17, tm_wday=2, tm_yday=53, tm_isdst=0)"
     },
     "execution_count": 72,
     "metadata": {},
     "output_type": "execute_result"
    }
   ],
   "source": [
    "time.localtime(time.time())"
   ],
   "metadata": {
    "collapsed": false,
    "pycharm": {
     "name": "#%%\n"
    }
   }
  },
  {
   "cell_type": "code",
   "execution_count": 73,
   "outputs": [],
   "source": [
    "def get_time(tme):\n",
    "    loc=time.localtime(tme)[:-3]\n",
    "    #year=loc[0],month=loc[1],day=loc[2],hour=loc[3],minute=loc[4],second=loc[5]\n",
    "    return datetime.datetime(loc[0],loc[1],loc[2],loc[3],loc[4],loc[5])"
   ],
   "metadata": {
    "collapsed": false,
    "pycharm": {
     "name": "#%%\n"
    }
   }
  },
  {
   "cell_type": "code",
   "execution_count": 74,
   "outputs": [
    {
     "data": {
      "text/plain": "'2023-02-22 03:37:18'"
     },
     "execution_count": 74,
     "metadata": {},
     "output_type": "execute_result"
    }
   ],
   "source": [
    "str(get_time(time.time()))"
   ],
   "metadata": {
    "collapsed": false,
    "pycharm": {
     "name": "#%%\n"
    }
   }
  },
  {
   "cell_type": "code",
   "execution_count": 75,
   "outputs": [],
   "source": [
    "def convert_time(tme_data):\n",
    "    tmex=[0]*len(tme_data)\n",
    "    for i in range(len(tme_data)):\n",
    "        tmex[i]=get_time(tme_data[i])\n",
    "    return np.array(tmex)"
   ],
   "metadata": {
    "collapsed": false,
    "pycharm": {
     "name": "#%%\n"
    }
   }
  },
  {
   "cell_type": "code",
   "execution_count": 76,
   "outputs": [
    {
     "data": {
      "text/plain": "array([datetime.datetime(2018, 6, 9, 13, 30),\n       datetime.datetime(2018, 6, 9, 14, 30),\n       datetime.datetime(2018, 6, 9, 15, 30), ...,\n       datetime.datetime(2023, 2, 21, 15, 30),\n       datetime.datetime(2023, 2, 21, 16, 30),\n       datetime.datetime(2023, 2, 21, 17, 30)], dtype=object)"
     },
     "execution_count": 76,
     "metadata": {},
     "output_type": "execute_result"
    }
   ],
   "source": [
    "convert_time(bars.time)"
   ],
   "metadata": {
    "collapsed": false,
    "pycharm": {
     "name": "#%%\n"
    }
   }
  },
  {
   "cell_type": "code",
   "execution_count": 77,
   "outputs": [],
   "source": [
    "bars.time=convert_time(bars.time)"
   ],
   "metadata": {
    "collapsed": false,
    "pycharm": {
     "name": "#%%\n"
    }
   }
  },
  {
   "cell_type": "code",
   "execution_count": 78,
   "outputs": [
    {
     "data": {
      "text/plain": "                    time     open     high      low    close  tick_volume  \\\n0    2018-06-09 13:30:00  10000.0  10000.0  10000.0  10000.0          276   \n1    2018-06-09 14:30:00  10000.0  10000.0  10000.0  10000.0          268   \n2    2018-06-09 15:30:00  10000.0  10000.0  10000.0  10000.0          401   \n3    2018-06-09 16:30:00  10000.0  10000.0  10000.0  10000.0          310   \n4    2018-06-09 17:30:00  10000.0  10000.0  10000.0  10000.0          293   \n...                  ...      ...      ...      ...      ...          ...   \n3219 2023-02-20 16:30:00  72550.0  75839.0  72452.0  74231.0         2505   \n3220 2023-02-20 17:30:00  74232.0  74232.0  72990.0  73072.0         2545   \n3221 2023-02-21 15:30:00  70000.0  72190.0  70000.0  71998.0         3538   \n3222 2023-02-21 16:30:00  71901.0  72050.0  70500.0  70710.0         1965   \n3223 2023-02-21 17:30:00  70710.0  70975.0  69580.0  69591.0         2479   \n\n      spread  real_volume  \n0          0      5000000  \n1          0      2000000  \n2          0      3000000  \n3          0      2000000  \n4          0      2000000  \n...      ...          ...  \n3219      26      4955295  \n3220      26      3555299  \n3221      26      6535903  \n3222      26      2295858  \n3223      26      3016302  \n\n[3224 rows x 8 columns]",
      "text/html": "<div>\n<style scoped>\n    .dataframe tbody tr th:only-of-type {\n        vertical-align: middle;\n    }\n\n    .dataframe tbody tr th {\n        vertical-align: top;\n    }\n\n    .dataframe thead th {\n        text-align: right;\n    }\n</style>\n<table border=\"1\" class=\"dataframe\">\n  <thead>\n    <tr style=\"text-align: right;\">\n      <th></th>\n      <th>time</th>\n      <th>open</th>\n      <th>high</th>\n      <th>low</th>\n      <th>close</th>\n      <th>tick_volume</th>\n      <th>spread</th>\n      <th>real_volume</th>\n    </tr>\n  </thead>\n  <tbody>\n    <tr>\n      <th>0</th>\n      <td>2018-06-09 13:30:00</td>\n      <td>10000.0</td>\n      <td>10000.0</td>\n      <td>10000.0</td>\n      <td>10000.0</td>\n      <td>276</td>\n      <td>0</td>\n      <td>5000000</td>\n    </tr>\n    <tr>\n      <th>1</th>\n      <td>2018-06-09 14:30:00</td>\n      <td>10000.0</td>\n      <td>10000.0</td>\n      <td>10000.0</td>\n      <td>10000.0</td>\n      <td>268</td>\n      <td>0</td>\n      <td>2000000</td>\n    </tr>\n    <tr>\n      <th>2</th>\n      <td>2018-06-09 15:30:00</td>\n      <td>10000.0</td>\n      <td>10000.0</td>\n      <td>10000.0</td>\n      <td>10000.0</td>\n      <td>401</td>\n      <td>0</td>\n      <td>3000000</td>\n    </tr>\n    <tr>\n      <th>3</th>\n      <td>2018-06-09 16:30:00</td>\n      <td>10000.0</td>\n      <td>10000.0</td>\n      <td>10000.0</td>\n      <td>10000.0</td>\n      <td>310</td>\n      <td>0</td>\n      <td>2000000</td>\n    </tr>\n    <tr>\n      <th>4</th>\n      <td>2018-06-09 17:30:00</td>\n      <td>10000.0</td>\n      <td>10000.0</td>\n      <td>10000.0</td>\n      <td>10000.0</td>\n      <td>293</td>\n      <td>0</td>\n      <td>2000000</td>\n    </tr>\n    <tr>\n      <th>...</th>\n      <td>...</td>\n      <td>...</td>\n      <td>...</td>\n      <td>...</td>\n      <td>...</td>\n      <td>...</td>\n      <td>...</td>\n      <td>...</td>\n    </tr>\n    <tr>\n      <th>3219</th>\n      <td>2023-02-20 16:30:00</td>\n      <td>72550.0</td>\n      <td>75839.0</td>\n      <td>72452.0</td>\n      <td>74231.0</td>\n      <td>2505</td>\n      <td>26</td>\n      <td>4955295</td>\n    </tr>\n    <tr>\n      <th>3220</th>\n      <td>2023-02-20 17:30:00</td>\n      <td>74232.0</td>\n      <td>74232.0</td>\n      <td>72990.0</td>\n      <td>73072.0</td>\n      <td>2545</td>\n      <td>26</td>\n      <td>3555299</td>\n    </tr>\n    <tr>\n      <th>3221</th>\n      <td>2023-02-21 15:30:00</td>\n      <td>70000.0</td>\n      <td>72190.0</td>\n      <td>70000.0</td>\n      <td>71998.0</td>\n      <td>3538</td>\n      <td>26</td>\n      <td>6535903</td>\n    </tr>\n    <tr>\n      <th>3222</th>\n      <td>2023-02-21 16:30:00</td>\n      <td>71901.0</td>\n      <td>72050.0</td>\n      <td>70500.0</td>\n      <td>70710.0</td>\n      <td>1965</td>\n      <td>26</td>\n      <td>2295858</td>\n    </tr>\n    <tr>\n      <th>3223</th>\n      <td>2023-02-21 17:30:00</td>\n      <td>70710.0</td>\n      <td>70975.0</td>\n      <td>69580.0</td>\n      <td>69591.0</td>\n      <td>2479</td>\n      <td>26</td>\n      <td>3016302</td>\n    </tr>\n  </tbody>\n</table>\n<p>3224 rows × 8 columns</p>\n</div>"
     },
     "execution_count": 78,
     "metadata": {},
     "output_type": "execute_result"
    }
   ],
   "source": [
    "bars"
   ],
   "metadata": {
    "collapsed": false,
    "pycharm": {
     "name": "#%%\n"
    }
   }
  },
  {
   "cell_type": "code",
   "execution_count": 79,
   "outputs": [
    {
     "data": {
      "text/plain": "[<matplotlib.lines.Line2D at 0x104c9b35330>]"
     },
     "execution_count": 79,
     "metadata": {},
     "output_type": "execute_result"
    },
    {
     "data": {
      "text/plain": "<Figure size 640x480 with 1 Axes>",
      "image/png": "[encoded data removed]"
     },
     "metadata": {},
     "output_type": "display_data"
    }
   ],
   "source": [
    "plt.plot(bars.close)"
   ],
   "metadata": {
    "collapsed": false,
    "pycharm": {
     "name": "#%%\n"
    }
   }
  },
  {
   "cell_type": "code",
   "execution_count": null,
   "outputs": [],
   "source": [],
   "metadata": {
    "collapsed": false,
    "pycharm": {
     "name": "#%%\n"
    }
   }
  }
 ],
 "metadata": {
  "kernelspec": {
   "display_name": "Python 3",
   "language": "python",
   "name": "python3"
  },
  "language_info": {
   "codemirror_mode": {
    "name": "ipython",
    "version": 2
   },
   "file_extension": ".py",
   "mimetype": "text/x-python",
   "name": "python",
   "nbconvert_exporter": "python",
   "pygments_lexer": "ipython2",
   "version": "2.7.6"
  }
 },
 "nbformat": 4,
 "nbformat_minor": 0
}