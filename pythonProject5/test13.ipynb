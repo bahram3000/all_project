{
 "cells": [
  {
   "cell_type": "code",
   "execution_count": 1,
   "metadata": {
    "collapsed": true,
    "pycharm": {
     "name": "#%%\n"
    }
   },
   "outputs": [],
   "source": [
    "import socket\n",
    "import numpy as np\n",
    "from sklearn.linear_model import LinearRegression"
   ]
  },
  {
   "cell_type": "code",
   "execution_count": 2,
   "outputs": [],
   "source": [
    "def calcregr(msg = ''):\n",
    "    chartdata = np.fromstring(msg, dtype=float, sep= ' ')\n",
    "    Y = np.array(chartdata).reshape(-1,1)\n",
    "    X = np.array(np.arange(len(chartdata))).reshape(-1,1)\n",
    "\n",
    "    lr = LinearRegression()\n",
    "    lr.fit(X, Y)\n",
    "    Y_pred = lr.predict(X)\n",
    "    type(Y_pred)\n",
    "    P = Y_pred.astype(str).item(-1) + ' ' + Y_pred.astype(str).item(0)\n",
    "    print(P)\n",
    "    return str(P)"
   ],
   "metadata": {
    "collapsed": false,
    "pycharm": {
     "name": "#%%\n"
    }
   }
  },
  {
   "cell_type": "code",
   "execution_count": 3,
   "outputs": [],
   "source": [
    "class socketserver:\n",
    "    def __init__(self, address = '', port = 9090):\n",
    "        self.sock = socket.socket(socket.AF_INET, socket.SOCK_STREAM)\n",
    "        self.address = address\n",
    "        self.port = port\n",
    "        self.sock.bind((self.address, self.port))\n",
    "        self.cummdata = ''\n",
    "\n",
    "    def recvmsg(self):\n",
    "        self.sock.listen(1)\n",
    "        self.conn, self.addr = self.sock.accept()\n",
    "        print('connected to', self.addr)\n",
    "        self.cummdata = ''\n",
    "\n",
    "        while True:\n",
    "            data = self.conn.recv(10000)\n",
    "            self.cummdata+=data.decode(\"utf-8\")\n",
    "            if not data:\n",
    "                break\n",
    "            self.conn.send(bytes(calcregr(self.cummdata), \"utf-8\"))\n",
    "            return self.cummdata\n",
    "\n",
    "    def __del__(self):\n",
    "        self.sock.close()"
   ],
   "metadata": {
    "collapsed": false,
    "pycharm": {
     "name": "#%%\n"
    }
   }
  },
  {
   "cell_type": "code",
   "execution_count": null,
   "outputs": [],
   "source": [
    "serv = socketserver('127.0.0.1', 9090)\n",
    "\n",
    "while True:\n",
    "    msg = serv.recvmsg()"
   ],
   "metadata": {
    "collapsed": false,
    "pycharm": {
     "name": "#%%\n",
     "is_executing": true
    }
   }
  },
  {
   "cell_type": "code",
   "execution_count": null,
   "outputs": [],
   "source": [],
   "metadata": {
    "collapsed": false,
    "pycharm": {
     "name": "#%%\n",
     "is_executing": true
    }
   }
  },
  {
   "cell_type": "code",
   "execution_count": null,
   "outputs": [],
   "source": [],
   "metadata": {
    "collapsed": false,
    "pycharm": {
     "name": "#%%\n"
    }
   }
  }
 ],
 "metadata": {
  "kernelspec": {
   "display_name": "Python 3",
   "language": "python",
   "name": "python3"
  },
  "language_info": {
   "codemirror_mode": {
    "name": "ipython",
    "version": 2
   },
   "file_extension": ".py",
   "mimetype": "text/x-python",
   "name": "python",
   "nbconvert_exporter": "python",
   "pygments_lexer": "ipython2",
   "version": "2.7.6"
  }
 },
 "nbformat": 4,
 "nbformat_minor": 0
}