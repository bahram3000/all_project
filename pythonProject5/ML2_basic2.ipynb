{
 "cells": [
  {
   "cell_type": "code",
   "execution_count": 3,
   "metadata": {
    "collapsed": true
   },
   "outputs": [],
   "source": [
    "import random\n",
    "\n",
    "import numpy as np\n",
    "import random"
   ]
  },
  {
   "cell_type": "code",
   "execution_count": 5,
   "outputs": [
    {
     "data": {
      "text/plain": "27"
     },
     "execution_count": 5,
     "metadata": {},
     "output_type": "execute_result"
    }
   ],
   "source": [
    "random.randint(18, 80)"
   ],
   "metadata": {
    "collapsed": false,
    "pycharm": {
     "name": "#%%\n"
    }
   }
  },
  {
   "cell_type": "code",
   "execution_count": 6,
   "outputs": [
    {
     "data": {
      "text/plain": "1"
     },
     "execution_count": 6,
     "metadata": {},
     "output_type": "execute_result"
    }
   ],
   "source": [
    "random.randint(0, 1)"
   ],
   "metadata": {
    "collapsed": false,
    "pycharm": {
     "name": "#%%\n"
    }
   }
  },
  {
   "cell_type": "code",
   "execution_count": 67,
   "outputs": [],
   "source": [
    "file = open('F:\\my project\\dataset\\learning_dataset\\\\purchasing.txt', 'w')\n",
    "for i in range(2000):\n",
    "    file.write(f'{random.randint(18, 80)},{random.randint(0, 1)}')\n",
    "    file.write('\\n')\n",
    "file.close()"
   ],
   "metadata": {
    "collapsed": false,
    "pycharm": {
     "name": "#%%\n"
    }
   }
  },
  {
   "cell_type": "code",
   "execution_count": 68,
   "outputs": [
    {
     "data": {
      "text/plain": "array([[34.,  0.],\n       [64.,  0.],\n       [70.,  1.],\n       ...,\n       [32.,  1.],\n       [76.,  1.],\n       [78.,  1.]])"
     },
     "execution_count": 68,
     "metadata": {},
     "output_type": "execute_result"
    }
   ],
   "source": [
    "users = np.loadtxt('F:\\my project\\dataset\\learning_dataset\\\\purchasing.txt', delimiter=',')\n",
    "users"
   ],
   "metadata": {
    "collapsed": false,
    "pycharm": {
     "name": "#%%\n"
    }
   }
  },
  {
   "cell_type": "code",
   "execution_count": 69,
   "outputs": [
    {
     "data": {
      "text/plain": "array([0., 0., 1., ..., 1., 1., 1.])"
     },
     "execution_count": 69,
     "metadata": {},
     "output_type": "execute_result"
    }
   ],
   "source": [
    "buyer = users[:, 1]\n",
    "buyer"
   ],
   "metadata": {
    "collapsed": false,
    "pycharm": {
     "name": "#%%\n"
    }
   }
  },
  {
   "cell_type": "code",
   "execution_count": 70,
   "outputs": [
    {
     "data": {
      "text/plain": "array([False, False,  True, ...,  True,  True,  True])"
     },
     "execution_count": 70,
     "metadata": {},
     "output_type": "execute_result"
    }
   ],
   "source": [
    "mask = buyer == 1\n",
    "mask"
   ],
   "metadata": {
    "collapsed": false,
    "pycharm": {
     "name": "#%%\n"
    }
   }
  },
  {
   "cell_type": "code",
   "execution_count": 71,
   "outputs": [],
   "source": [
    "age_user = users[:, 0]"
   ],
   "metadata": {
    "collapsed": false,
    "pycharm": {
     "name": "#%%\n"
    }
   }
  },
  {
   "cell_type": "code",
   "execution_count": 72,
   "outputs": [
    {
     "data": {
      "text/plain": "array([70., 47., 42., 54., 72., 25., 63., 25., 68., 32., 53., 45., 37.,\n       36., 44., 34., 70., 74., 30., 31., 60., 51., 66., 30., 60., 51.,\n       44., 69., 24., 53., 21., 26., 45., 46., 60., 29., 31., 57., 47.,\n       28., 80., 30., 51., 77., 43., 32., 23., 65., 33., 73., 35., 76.,\n       31., 37., 40., 23., 46., 44., 79., 30., 41., 63., 38., 73., 58.,\n       47., 74., 31., 53., 37., 68., 71., 76., 77., 20., 68., 61., 19.,\n       32., 55., 36., 46., 69., 42., 44., 29., 47., 58., 24., 48., 69.,\n       23., 67., 77., 57., 40., 37., 60., 52., 43., 73., 60., 21., 74.,\n       23., 62., 18., 31., 33., 59., 29., 19., 52., 57., 23., 25., 26.,\n       61., 30., 20., 27., 80., 60., 25., 56., 57., 44., 18., 48., 18.,\n       47., 18., 47., 76., 77., 23., 48., 39., 28., 29., 77., 73., 60.,\n       71., 46., 31., 74., 77., 77., 75., 69., 56., 21., 44., 68., 49.,\n       21., 57., 34., 27., 65., 53., 46., 41., 72., 27., 59., 80., 42.,\n       24., 19., 27., 44., 57., 18., 72., 18., 27., 53., 70., 64., 78.,\n       59., 28., 45., 35., 59., 24., 41., 51., 49., 33., 59., 22., 49.,\n       22., 69., 55., 25., 49., 79., 18., 39., 61., 57., 38., 43., 69.,\n       23., 20., 79., 79., 78., 48., 39., 35., 52., 66., 35., 34., 33.,\n       19., 67., 29., 71., 57., 73., 29., 21., 55., 41., 45., 32., 49.,\n       34., 61., 27., 75., 40., 63., 19., 25., 47., 37., 61., 63., 29.,\n       78., 33., 52., 39., 75., 18., 61., 78., 71., 35., 27., 76., 68.,\n       53., 40., 48., 56., 60., 61., 24., 78., 51., 68., 58., 63., 80.,\n       54., 36., 69., 50., 18., 77., 60., 39., 23., 44., 23., 76., 18.,\n       19., 67., 51., 22., 43., 74., 37., 71., 42., 28., 34., 57., 29.,\n       48., 75., 34., 20., 56., 48., 52., 69., 47., 80., 59., 48., 75.,\n       32., 69., 33., 74., 41., 48., 51., 77., 77., 35., 20., 41., 38.,\n       22., 35., 38., 28., 19., 64., 21., 68., 33., 47., 62., 30., 49.,\n       73., 21., 45., 26., 65., 41., 36., 63., 24., 71., 42., 63., 76.,\n       60., 18., 56., 62., 45., 45., 59., 46., 41., 41., 49., 72., 57.,\n       52., 58., 64., 52., 50., 43., 19., 57., 45., 34., 58., 56., 62.,\n       49., 50., 38., 58., 42., 61., 46., 55., 48., 48., 58., 44., 78.,\n       29., 28., 71., 50., 62., 61., 70., 46., 19., 71., 79., 39., 64.,\n       48., 26., 32., 69., 62., 20., 51., 21., 26., 70., 45., 61., 36.,\n       36., 28., 55., 76., 25., 79., 38., 21., 50., 38., 70., 40., 69.,\n       59., 48., 30., 34., 40., 76., 63., 44., 71., 51., 23., 34., 50.,\n       18., 76., 74., 24., 25., 64., 32., 26., 38., 59., 34., 80., 60.,\n       78., 20., 39., 72., 36., 26., 48., 18., 74., 37., 43., 69., 41.,\n       49., 26., 76., 44., 65., 60., 25., 36., 54., 30., 55., 49., 59.,\n       68., 73., 52., 49., 45., 34., 63., 77., 53., 74., 35., 50., 66.,\n       34., 35., 56., 38., 38., 33., 78., 68., 32., 60., 34., 40., 34.,\n       37., 50., 33., 74., 79., 77., 21., 73., 43., 31., 58., 58., 23.,\n       34., 47., 31., 37., 54., 59., 24., 34., 32., 26., 45., 76., 57.,\n       64., 40., 39., 73., 73., 29., 61., 67., 54., 48., 67., 72., 62.,\n       35., 63., 39., 58., 19., 28., 62., 49., 35., 27., 69., 71., 73.,\n       76., 74., 64., 49., 45., 52., 79., 29., 79., 56., 31., 61., 20.,\n       25., 47., 59., 71., 28., 78., 44., 72., 59., 29., 20., 45., 19.,\n       19., 52., 77., 41., 41., 75., 31., 74., 73., 31., 26., 42., 41.,\n       54., 39., 48., 29., 64., 57., 56., 71., 66., 22., 49., 25., 66.,\n       78., 31., 27., 62., 40., 79., 46., 75., 25., 53., 50., 67., 66.,\n       25., 27., 51., 80., 71., 58., 64., 53., 29., 26., 32., 44., 40.,\n       76., 29., 19., 74., 44., 72., 33., 19., 31., 49., 52., 25., 41.,\n       72., 28., 72., 46., 68., 27., 65., 50., 36., 22., 43., 53., 34.,\n       39., 36., 49., 77., 52., 67., 46., 30., 63., 78., 72., 29., 75.,\n       61., 34., 28., 35., 50., 26., 55., 35., 52., 61., 30., 37., 78.,\n       74., 61., 34., 41., 66., 51., 72., 50., 38., 72., 19., 42., 39.,\n       26., 18., 78., 37., 79., 62., 35., 55., 63., 49., 75., 73., 33.,\n       59., 77., 18., 22., 27., 77., 42., 41., 26., 48., 43., 25., 72.,\n       55., 53., 21., 78., 22., 18., 36., 43., 49., 52., 31., 51., 59.,\n       33., 64., 18., 47., 51., 56., 57., 21., 34., 33., 60., 58., 43.,\n       50., 60., 37., 52., 38., 63., 55., 51., 66., 33., 55., 19., 78.,\n       21., 39., 64., 73., 44., 65., 37., 27., 33., 51., 64., 29., 68.,\n       79., 33., 23., 50., 19., 20., 18., 31., 44., 27., 77., 76., 21.,\n       31., 76., 47., 57., 72., 30., 28., 37., 56., 67., 70., 25., 25.,\n       73., 40., 30., 35., 30., 47., 32., 36., 75., 57., 45., 53., 39.,\n       80., 74., 22., 40., 42., 57., 75., 30., 51., 80., 42., 80., 78.,\n       55., 34., 33., 50., 19., 32., 72., 43., 64., 69., 66., 30., 26.,\n       77., 40., 19., 31., 80., 46., 41., 72., 49., 51., 75., 61., 39.,\n       19., 46., 26., 68., 52., 36., 77., 56., 19., 57., 72., 53., 37.,\n       54., 33., 50., 76., 68., 38., 71., 75., 35., 50., 21., 42., 51.,\n       69., 31., 59., 51., 61., 69., 19., 21., 68., 63., 56., 58., 25.,\n       77., 68., 47., 77., 72., 52., 66., 59., 24., 19., 66., 32., 27.,\n       70., 69., 29., 46., 61., 27., 48., 26., 49., 47., 18., 24., 34.,\n       25., 37., 50., 48., 46., 31., 25., 37., 48., 65., 71., 33., 56.,\n       52., 76., 68., 22., 22., 73., 41., 57., 27., 45., 47., 46., 27.,\n       59., 57., 20., 66., 31., 27., 26., 29., 20., 35., 66., 21., 49.,\n       67., 54., 77., 72., 51., 77., 67., 33., 18., 36., 39., 55., 54.,\n       64., 32., 23., 57., 32., 76., 78.])"
     },
     "execution_count": 72,
     "metadata": {},
     "output_type": "execute_result"
    }
   ],
   "source": [
    "age_user[mask]"
   ],
   "metadata": {
    "collapsed": false,
    "pycharm": {
     "name": "#%%\n"
    }
   }
  },
  {
   "cell_type": "code",
   "execution_count": 73,
   "outputs": [],
   "source": [
    "import matplotlib.pyplot as plt"
   ],
   "metadata": {
    "collapsed": false,
    "pycharm": {
     "name": "#%%\n"
    }
   }
  },
  {
   "cell_type": "code",
   "execution_count": 74,
   "outputs": [
    {
     "data": {
      "text/plain": "(array([55., 28., 23., 38., 31., 34., 35., 42., 31., 30., 29., 30., 28.,\n        31., 37., 59., 31., 22., 35., 31., 33., 24., 21., 23., 33., 23.,\n        36., 28., 41., 40.]),\n array([18.        , 20.06666667, 22.13333333, 24.2       , 26.26666667,\n        28.33333333, 30.4       , 32.46666667, 34.53333333, 36.6       ,\n        38.66666667, 40.73333333, 42.8       , 44.86666667, 46.93333333,\n        49.        , 51.06666667, 53.13333333, 55.2       , 57.26666667,\n        59.33333333, 61.4       , 63.46666667, 65.53333333, 67.6       ,\n        69.66666667, 71.73333333, 73.8       , 75.86666667, 77.93333333,\n        80.        ]),\n <BarContainer object of 30 artists>)"
     },
     "execution_count": 74,
     "metadata": {},
     "output_type": "execute_result"
    },
    {
     "data": {
      "text/plain": "<Figure size 640x480 with 1 Axes>",
      "image/png": "[encoded data removed]"
     },
     "metadata": {},
     "output_type": "display_data"
    }
   ],
   "source": [
    "plt.hist(age_user[mask], bins=30)"
   ],
   "metadata": {
    "collapsed": false,
    "pycharm": {
     "name": "#%%\n"
    }
   }
  },
  {
   "cell_type": "code",
   "execution_count": 79,
   "outputs": [],
   "source": [
    "count, range_age = np.histogram(age_user[mask], bins=30)"
   ],
   "metadata": {
    "collapsed": false,
    "pycharm": {
     "name": "#%%\n"
    }
   }
  },
  {
   "cell_type": "code",
   "execution_count": 80,
   "outputs": [
    {
     "data": {
      "text/plain": "array([18.        , 20.06666667, 22.13333333, 24.2       , 26.26666667,\n       28.33333333, 30.4       , 32.46666667, 34.53333333, 36.6       ,\n       38.66666667, 40.73333333, 42.8       , 44.86666667, 46.93333333,\n       49.        , 51.06666667, 53.13333333, 55.2       , 57.26666667,\n       59.33333333, 61.4       , 63.46666667, 65.53333333, 67.6       ,\n       69.66666667, 71.73333333, 73.8       , 75.86666667, 77.93333333,\n       80.        ])"
     },
     "execution_count": 80,
     "metadata": {},
     "output_type": "execute_result"
    }
   ],
   "source": [
    "range_age"
   ],
   "metadata": {
    "collapsed": false,
    "pycharm": {
     "name": "#%%\n"
    }
   }
  },
  {
   "cell_type": "code",
   "execution_count": 81,
   "outputs": [
    {
     "data": {
      "text/plain": "array([55, 28, 23, 38, 31, 34, 35, 42, 31, 30, 29, 30, 28, 31, 37, 59, 31,\n       22, 35, 31, 33, 24, 21, 23, 33, 23, 36, 28, 41, 40], dtype=int64)"
     },
     "execution_count": 81,
     "metadata": {},
     "output_type": "execute_result"
    }
   ],
   "source": [
    "count"
   ],
   "metadata": {
    "collapsed": false,
    "pycharm": {
     "name": "#%%\n"
    }
   }
  },
  {
   "cell_type": "code",
   "execution_count": 82,
   "outputs": [
    {
     "data": {
      "text/plain": "<matplotlib.collections.PathCollection at 0x2279129e230>"
     },
     "execution_count": 82,
     "metadata": {},
     "output_type": "execute_result"
    },
    {
     "data": {
      "text/plain": "<Figure size 640x480 with 1 Axes>",
      "image/png": "[encoded data removed]"
     },
     "metadata": {},
     "output_type": "display_data"
    }
   ],
   "source": [
    "plt.scatter(range_age[:-1], count)"
   ],
   "metadata": {
    "collapsed": false,
    "pycharm": {
     "name": "#%%\n"
    }
   }
  },
  {
   "cell_type": "code",
   "execution_count": 83,
   "outputs": [
    {
     "data": {
      "text/plain": "array([[ 1.        , -0.16332283],\n       [-0.16332283,  1.        ]])"
     },
     "execution_count": 83,
     "metadata": {},
     "output_type": "execute_result"
    }
   ],
   "source": [
    "np.corrcoef(range_age[:-1], count)"
   ],
   "metadata": {
    "collapsed": false,
    "pycharm": {
     "name": "#%%\n"
    }
   }
  },
  {
   "cell_type": "code",
   "execution_count": 84,
   "outputs": [
    {
     "data": {
      "text/plain": "array([18.        , 20.06666667, 22.13333333, 24.2       , 26.26666667,\n       28.33333333, 30.4       , 32.46666667, 34.53333333, 36.6       ,\n       38.66666667, 40.73333333, 42.8       , 44.86666667, 46.93333333,\n       49.        , 51.06666667, 53.13333333, 55.2       , 57.26666667,\n       59.33333333, 61.4       , 63.46666667, 65.53333333, 67.6       ,\n       69.66666667, 71.73333333, 73.8       , 75.86666667, 77.93333333,\n       80.        ])"
     },
     "execution_count": 84,
     "metadata": {},
     "output_type": "execute_result"
    }
   ],
   "source": [
    "range_age"
   ],
   "metadata": {
    "collapsed": false,
    "pycharm": {
     "name": "#%%\n"
    }
   }
  },
  {
   "cell_type": "code",
   "execution_count": 85,
   "outputs": [
    {
     "data": {
      "text/plain": "array([55, 28, 23, 38, 31, 34, 35, 42, 31, 30, 29, 30, 28, 31, 37, 59, 31,\n       22, 35, 31, 33, 24, 21, 23, 33, 23, 36, 28, 41, 40], dtype=int64)"
     },
     "execution_count": 85,
     "metadata": {},
     "output_type": "execute_result"
    }
   ],
   "source": [
    "count"
   ],
   "metadata": {
    "collapsed": false,
    "pycharm": {
     "name": "#%%\n"
    }
   }
  },
  {
   "cell_type": "code",
   "execution_count": 86,
   "outputs": [],
   "source": [
    "cat_data = dict(zip(range_age[:-1], count))"
   ],
   "metadata": {
    "collapsed": false,
    "pycharm": {
     "name": "#%%\n"
    }
   }
  },
  {
   "cell_type": "code",
   "execution_count": 87,
   "outputs": [
    {
     "data": {
      "text/plain": "{18.0: 55,\n 20.066666666666666: 28,\n 22.133333333333333: 23,\n 24.200000000000003: 38,\n 26.266666666666666: 31,\n 28.333333333333336: 34,\n 30.400000000000002: 35,\n 32.46666666666667: 42,\n 34.53333333333333: 31,\n 36.6: 30,\n 38.66666666666667: 29,\n 40.733333333333334: 30,\n 42.800000000000004: 28,\n 44.866666666666674: 31,\n 46.93333333333334: 37,\n 49.0: 59,\n 51.06666666666667: 31,\n 53.13333333333334: 22,\n 55.2: 35,\n 57.26666666666667: 31,\n 59.333333333333336: 33,\n 61.400000000000006: 24,\n 63.46666666666667: 21,\n 65.53333333333333: 23,\n 67.60000000000001: 33,\n 69.66666666666667: 23,\n 71.73333333333335: 36,\n 73.80000000000001: 28,\n 75.86666666666667: 41,\n 77.93333333333334: 40}"
     },
     "execution_count": 87,
     "metadata": {},
     "output_type": "execute_result"
    }
   ],
   "source": [
    "cat_data"
   ],
   "metadata": {
    "collapsed": false,
    "pycharm": {
     "name": "#%%\n"
    }
   }
  },
  {
   "cell_type": "code",
   "execution_count": 88,
   "outputs": [
    {
     "data": {
      "text/plain": "(2000, 2)"
     },
     "execution_count": 88,
     "metadata": {},
     "output_type": "execute_result"
    }
   ],
   "source": [
    "users.shape"
   ],
   "metadata": {
    "collapsed": false,
    "pycharm": {
     "name": "#%%\n"
    }
   }
  },
  {
   "cell_type": "code",
   "execution_count": 91,
   "outputs": [
    {
     "data": {
      "text/plain": "0.491"
     },
     "execution_count": 91,
     "metadata": {},
     "output_type": "execute_result"
    }
   ],
   "source": [
    "prob_buy = buyer.sum() / users.shape[0]\n",
    "prob_buy"
   ],
   "metadata": {
    "collapsed": false,
    "pycharm": {
     "name": "#%%\n"
    }
   }
  },
  {
   "cell_type": "code",
   "execution_count": 92,
   "outputs": [
    {
     "data": {
      "text/plain": "array([34., 64., 70., ..., 32., 76., 78.])"
     },
     "execution_count": 92,
     "metadata": {},
     "output_type": "execute_result"
    }
   ],
   "source": [
    "age_user = users[:, 0]"
   ],
   "metadata": {
    "collapsed": false,
    "pycharm": {
     "name": "#%%\n"
    }
   }
  },
  {
   "cell_type": "code",
   "execution_count": 102,
   "outputs": [
    {
     "data": {
      "text/plain": "array([ True,  True,  True, ...,  True,  True,  True])"
     },
     "execution_count": 102,
     "metadata": {},
     "output_type": "execute_result"
    }
   ],
   "source": [
    "mask1 = age_user > 18\n",
    "mask1"
   ],
   "metadata": {
    "collapsed": false,
    "pycharm": {
     "name": "#%%\n"
    }
   }
  },
  {
   "cell_type": "code",
   "execution_count": 112,
   "outputs": [
    {
     "data": {
      "text/plain": "array([False, False, False, ..., False, False, False])"
     },
     "execution_count": 112,
     "metadata": {},
     "output_type": "execute_result"
    }
   ],
   "source": [
    "mask2 = age_user < 21\n",
    "mask2"
   ],
   "metadata": {
    "collapsed": false,
    "pycharm": {
     "name": "#%%\n"
    }
   }
  },
  {
   "cell_type": "code",
   "execution_count": 113,
   "outputs": [
    {
     "data": {
      "text/plain": "64"
     },
     "execution_count": 113,
     "metadata": {},
     "output_type": "execute_result"
    }
   ],
   "source": [
    "final_mask=mask1*mask2\n",
    "final_mask.sum()"
   ],
   "metadata": {
    "collapsed": false,
    "pycharm": {
     "name": "#%%\n"
    }
   }
  },
  {
   "cell_type": "code",
   "execution_count": 107,
   "outputs": [],
   "source": [
    "count1,range_age1=np.histogram(users[:,0],bins=30)"
   ],
   "metadata": {
    "collapsed": false,
    "pycharm": {
     "name": "#%%\n"
    }
   }
  },
  {
   "cell_type": "code",
   "execution_count": 110,
   "outputs": [
    {
     "data": {
      "text/plain": "{18.0: 100,\n 20.066666666666666: 51,\n 22.133333333333333: 59,\n 24.200000000000003: 75,\n 26.266666666666666: 69,\n 28.333333333333336: 65,\n 30.400000000000002: 66,\n 32.46666666666667: 77,\n 34.53333333333333: 61,\n 36.6: 69,\n 38.66666666666667: 66,\n 40.733333333333334: 50,\n 42.800000000000004: 61,\n 44.866666666666674: 64,\n 46.93333333333334: 68,\n 49.0: 112,\n 51.06666666666667: 66,\n 53.13333333333334: 53,\n 55.2: 68,\n 57.26666666666667: 65,\n 59.333333333333336: 67,\n 61.400000000000006: 51,\n 63.46666666666667: 50,\n 65.53333333333333: 56,\n 67.60000000000001: 77,\n 69.66666666666667: 54,\n 71.73333333333335: 64,\n 73.80000000000001: 59,\n 75.86666666666667: 71,\n 77.93333333333334: 86}"
     },
     "execution_count": 110,
     "metadata": {},
     "output_type": "execute_result"
    }
   ],
   "source": [
    "abandon_data=dict(zip(range_age1[:-1],count1))\n",
    "abandon_data"
   ],
   "metadata": {
    "collapsed": false,
    "pycharm": {
     "name": "#%%\n"
    }
   }
  },
  {
   "cell_type": "code",
   "execution_count": 111,
   "outputs": [
    {
     "data": {
      "text/plain": "{18.0: 55,\n 20.066666666666666: 28,\n 22.133333333333333: 23,\n 24.200000000000003: 38,\n 26.266666666666666: 31,\n 28.333333333333336: 34,\n 30.400000000000002: 35,\n 32.46666666666667: 42,\n 34.53333333333333: 31,\n 36.6: 30,\n 38.66666666666667: 29,\n 40.733333333333334: 30,\n 42.800000000000004: 28,\n 44.866666666666674: 31,\n 46.93333333333334: 37,\n 49.0: 59,\n 51.06666666666667: 31,\n 53.13333333333334: 22,\n 55.2: 35,\n 57.26666666666667: 31,\n 59.333333333333336: 33,\n 61.400000000000006: 24,\n 63.46666666666667: 21,\n 65.53333333333333: 23,\n 67.60000000000001: 33,\n 69.66666666666667: 23,\n 71.73333333333335: 36,\n 73.80000000000001: 28,\n 75.86666666666667: 41,\n 77.93333333333334: 40}"
     },
     "execution_count": 111,
     "metadata": {},
     "output_type": "execute_result"
    }
   ],
   "source": [
    "cat_data"
   ],
   "metadata": {
    "collapsed": false,
    "pycharm": {
     "name": "#%%\n"
    }
   }
  },
  {
   "cell_type": "code",
   "execution_count": 114,
   "outputs": [
    {
     "data": {
      "text/plain": "0.55"
     },
     "execution_count": 114,
     "metadata": {},
     "output_type": "execute_result"
    }
   ],
   "source": [
    "cat_data[18]/abandon_data[18]"
   ],
   "metadata": {
    "collapsed": false,
    "pycharm": {
     "name": "#%%\n"
    }
   }
  },
  {
   "cell_type": "code",
   "execution_count": 115,
   "outputs": [
    {
     "name": "stdout",
     "output_type": "stream",
     "text": [
      "prob18.0 = 0.55\n",
      "prob20.066666666666666 = 0.5490196078431373\n",
      "prob22.133333333333333 = 0.3898305084745763\n",
      "prob24.200000000000003 = 0.5066666666666667\n",
      "prob26.266666666666666 = 0.4492753623188406\n",
      "prob28.333333333333336 = 0.5230769230769231\n",
      "prob30.400000000000002 = 0.5303030303030303\n",
      "prob32.46666666666667 = 0.5454545454545454\n",
      "prob34.53333333333333 = 0.5081967213114754\n",
      "prob36.6 = 0.43478260869565216\n",
      "prob38.66666666666667 = 0.4393939393939394\n",
      "prob40.733333333333334 = 0.6\n",
      "prob42.800000000000004 = 0.45901639344262296\n",
      "prob44.866666666666674 = 0.484375\n",
      "prob46.93333333333334 = 0.5441176470588235\n",
      "prob49.0 = 0.5267857142857143\n",
      "prob51.06666666666667 = 0.4696969696969697\n",
      "prob53.13333333333334 = 0.41509433962264153\n",
      "prob55.2 = 0.5147058823529411\n",
      "prob57.26666666666667 = 0.47692307692307695\n",
      "prob59.333333333333336 = 0.4925373134328358\n",
      "prob61.400000000000006 = 0.47058823529411764\n",
      "prob63.46666666666667 = 0.42\n",
      "prob65.53333333333333 = 0.4107142857142857\n",
      "prob67.60000000000001 = 0.42857142857142855\n",
      "prob69.66666666666667 = 0.42592592592592593\n",
      "prob71.73333333333335 = 0.5625\n",
      "prob73.80000000000001 = 0.4745762711864407\n",
      "prob75.86666666666667 = 0.5774647887323944\n",
      "prob77.93333333333334 = 0.46511627906976744\n"
     ]
    }
   ],
   "source": [
    "for i in cat_data.keys():\n",
    "    print(f'prob{i} =',cat_data[i]/abandon_data[i])"
   ],
   "metadata": {
    "collapsed": false,
    "pycharm": {
     "name": "#%%\n"
    }
   }
  },
  {
   "cell_type": "code",
   "execution_count": null,
   "outputs": [],
   "source": [],
   "metadata": {
    "collapsed": false,
    "pycharm": {
     "name": "#%%\n"
    }
   }
  }
 ],
 "metadata": {
  "kernelspec": {
   "display_name": "Python 3",
   "language": "python",
   "name": "python3"
  },
  "language_info": {
   "codemirror_mode": {
    "name": "ipython",
    "version": 2
   },
   "file_extension": ".py",
   "mimetype": "text/x-python",
   "name": "python",
   "nbconvert_exporter": "python",
   "pygments_lexer": "ipython2",
   "version": "2.7.6"
  }
 },
 "nbformat": 4,
 "nbformat_minor": 0
}