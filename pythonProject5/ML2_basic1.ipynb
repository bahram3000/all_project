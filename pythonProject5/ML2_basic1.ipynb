{
 "cells": [
  {
   "cell_type": "code",
   "execution_count": 1,
   "metadata": {
    "collapsed": true
   },
   "outputs": [],
   "source": [
    "import numpy as np"
   ]
  },
  {
   "cell_type": "code",
   "execution_count": 2,
   "outputs": [
    {
     "name": "stdout",
     "output_type": "stream",
     "text": [
      "[1 2 3 4]\n"
     ]
    },
    {
     "data": {
      "text/plain": "(4,)"
     },
     "execution_count": 2,
     "metadata": {},
     "output_type": "execute_result"
    }
   ],
   "source": [
    "arr = np.array([1, 2, 3, 4])\n",
    "print(arr)\n",
    "arr.shape"
   ],
   "metadata": {
    "collapsed": false,
    "pycharm": {
     "name": "#%%\n"
    }
   }
  },
  {
   "cell_type": "code",
   "execution_count": 3,
   "outputs": [
    {
     "name": "stdout",
     "output_type": "stream",
     "text": [
      "[[1]\n",
      " [2]\n",
      " [3]\n",
      " [4]]\n"
     ]
    },
    {
     "data": {
      "text/plain": "(4, 1)"
     },
     "execution_count": 3,
     "metadata": {},
     "output_type": "execute_result"
    }
   ],
   "source": [
    "arr2 = arr.reshape((-1, 1))\n",
    "print(arr2)\n",
    "arr2.shape"
   ],
   "metadata": {
    "collapsed": false,
    "pycharm": {
     "name": "#%%\n"
    }
   }
  },
  {
   "cell_type": "code",
   "execution_count": 4,
   "outputs": [
    {
     "data": {
      "text/plain": "1"
     },
     "execution_count": 4,
     "metadata": {},
     "output_type": "execute_result"
    }
   ],
   "source": [
    "arr.ndim"
   ],
   "metadata": {
    "collapsed": false,
    "pycharm": {
     "name": "#%%\n"
    }
   }
  },
  {
   "cell_type": "code",
   "execution_count": 5,
   "outputs": [
    {
     "data": {
      "text/plain": "array([[1., 1., 1., 1., 1.],\n       [1., 1., 1., 1., 1.],\n       [1., 1., 1., 1., 1.],\n       [1., 1., 1., 1., 1.],\n       [1., 1., 1., 1., 1.]])"
     },
     "execution_count": 5,
     "metadata": {},
     "output_type": "execute_result"
    }
   ],
   "source": [
    "np.ones((5, 5))"
   ],
   "metadata": {
    "collapsed": false,
    "pycharm": {
     "name": "#%%\n"
    }
   }
  },
  {
   "cell_type": "code",
   "execution_count": 6,
   "outputs": [
    {
     "data": {
      "text/plain": "array([[1, 1, 1, 1, 1],\n       [1, 1, 1, 1, 1],\n       [1, 1, 1, 1, 1],\n       [1, 1, 1, 1, 1],\n       [1, 1, 1, 1, 1]])"
     },
     "execution_count": 6,
     "metadata": {},
     "output_type": "execute_result"
    }
   ],
   "source": [
    "np.array([1] * 25).reshape((5, 5))"
   ],
   "metadata": {
    "collapsed": false,
    "pycharm": {
     "name": "#%%\n"
    }
   }
  },
  {
   "cell_type": "code",
   "execution_count": 7,
   "outputs": [
    {
     "data": {
      "text/plain": "array([[1., 0., 0.],\n       [0., 1., 0.],\n       [0., 0., 1.]])"
     },
     "execution_count": 7,
     "metadata": {},
     "output_type": "execute_result"
    }
   ],
   "source": [
    "ident_arr = np.eye(3)\n",
    "ident_arr"
   ],
   "metadata": {
    "collapsed": false,
    "pycharm": {
     "name": "#%%\n"
    }
   }
  },
  {
   "cell_type": "code",
   "execution_count": 8,
   "outputs": [
    {
     "data": {
      "text/plain": "array([[ True, False, False],\n       [False,  True, False],\n       [False, False,  True]])"
     },
     "execution_count": 8,
     "metadata": {},
     "output_type": "execute_result"
    }
   ],
   "source": [
    "ident_arr == 1"
   ],
   "metadata": {
    "collapsed": false,
    "pycharm": {
     "name": "#%%\n"
    }
   }
  },
  {
   "cell_type": "code",
   "execution_count": 8,
   "outputs": [],
   "source": [],
   "metadata": {
    "collapsed": false,
    "pycharm": {
     "name": "#%%\n"
    }
   }
  },
  {
   "cell_type": "code",
   "execution_count": 9,
   "outputs": [
    {
     "data": {
      "text/plain": "array([[ 0.        ,  2.08333333,  4.16666667,  6.25      ,  8.33333333],\n       [10.41666667, 12.5       , 14.58333333, 16.66666667, 18.75      ],\n       [20.83333333, 22.91666667, 25.        , 27.08333333, 29.16666667],\n       [31.25      , 33.33333333, 35.41666667, 37.5       , 39.58333333],\n       [41.66666667, 43.75      , 45.83333333, 47.91666667, 50.        ]])"
     },
     "execution_count": 9,
     "metadata": {},
     "output_type": "execute_result"
    }
   ],
   "source": [
    "seq_arr = np.linspace(0, 50, 25)\n",
    "seq_arr = seq_arr.reshape((5, 5))\n",
    "seq_arr"
   ],
   "metadata": {
    "collapsed": false,
    "pycharm": {
     "name": "#%%\n"
    }
   }
  },
  {
   "cell_type": "code",
   "execution_count": 10,
   "outputs": [
    {
     "data": {
      "text/plain": "25.0"
     },
     "execution_count": 10,
     "metadata": {},
     "output_type": "execute_result"
    }
   ],
   "source": [
    "seq_arr[2][2]"
   ],
   "metadata": {
    "collapsed": false,
    "pycharm": {
     "name": "#%%\n"
    }
   }
  },
  {
   "cell_type": "code",
   "execution_count": 11,
   "outputs": [
    {
     "data": {
      "text/plain": "25.0"
     },
     "execution_count": 11,
     "metadata": {},
     "output_type": "execute_result"
    }
   ],
   "source": [
    "seq_arr[2, 2]"
   ],
   "metadata": {
    "collapsed": false,
    "pycharm": {
     "name": "#%%\n"
    }
   }
  },
  {
   "cell_type": "markdown",
   "source": [],
   "metadata": {
    "collapsed": false,
    "pycharm": {
     "name": "#%% md\n"
    }
   }
  },
  {
   "cell_type": "code",
   "execution_count": 12,
   "outputs": [
    {
     "data": {
      "text/plain": "35.41666666666667"
     },
     "execution_count": 12,
     "metadata": {},
     "output_type": "execute_result"
    }
   ],
   "source": [
    "seq_arr[3][2]"
   ],
   "metadata": {
    "collapsed": false,
    "pycharm": {
     "name": "#%%\n"
    }
   }
  },
  {
   "cell_type": "code",
   "execution_count": 13,
   "outputs": [
    {
     "data": {
      "text/plain": "35.41666666666667"
     },
     "execution_count": 13,
     "metadata": {},
     "output_type": "execute_result"
    }
   ],
   "source": [
    "seq_arr[3, 2]"
   ],
   "metadata": {
    "collapsed": false,
    "pycharm": {
     "name": "#%%\n"
    }
   }
  },
  {
   "cell_type": "code",
   "execution_count": 14,
   "outputs": [
    {
     "data": {
      "text/plain": "array([ 4.16666667, 14.58333333, 25.        , 35.41666667, 45.83333333])"
     },
     "execution_count": 14,
     "metadata": {},
     "output_type": "execute_result"
    }
   ],
   "source": [
    "seq_arr[:, 2]"
   ],
   "metadata": {
    "collapsed": false,
    "pycharm": {
     "name": "#%%\n"
    }
   }
  },
  {
   "cell_type": "code",
   "execution_count": 15,
   "outputs": [
    {
     "data": {
      "text/plain": "array([[0.        , 1.44337567, 2.04124145, 2.5       , 2.88675135],\n       [3.22748612, 3.53553391, 3.81881308, 4.0824829 , 4.33012702],\n       [4.56435465, 4.78713554, 5.        , 5.204165  , 5.40061725],\n       [5.59016994, 5.77350269, 5.95119036, 6.12372436, 6.2915287 ],\n       [6.45497224, 6.61437828, 6.770032  , 6.92218655, 7.07106781]])"
     },
     "execution_count": 15,
     "metadata": {},
     "output_type": "execute_result"
    }
   ],
   "source": [
    "seq_arr2 = np.sqrt(seq_arr)\n",
    "seq_arr2"
   ],
   "metadata": {
    "collapsed": false,
    "pycharm": {
     "name": "#%%\n"
    }
   }
  },
  {
   "cell_type": "code",
   "execution_count": 16,
   "outputs": [
    {
     "data": {
      "text/plain": "array([[ 114.47207129,  118.51630452,  122.40106701,  126.14735871,\n         129.77128927],\n       [ 321.10731041,  349.28636793,  368.03936798,  384.81984635,\n         400.39724887],\n       [ 527.74254952,  580.05643134,  613.67766894,  643.49233398,\n         671.02320847],\n       [ 734.37778864,  810.82649475,  859.3159699 ,  902.16482161,\n         941.64916807],\n       [ 941.01302776, 1041.59655816, 1104.95427086, 1160.83730924,\n        1212.27512767]])"
     },
     "execution_count": 16,
     "metadata": {},
     "output_type": "execute_result"
    }
   ],
   "source": [
    "seq_arr @ seq_arr2"
   ],
   "metadata": {
    "collapsed": false,
    "pycharm": {
     "name": "#%%\n"
    }
   }
  },
  {
   "cell_type": "code",
   "execution_count": 17,
   "outputs": [
    {
     "data": {
      "text/plain": "array([[ 0.        , 10.41666667, 20.83333333, 31.25      , 41.66666667],\n       [ 2.08333333, 12.5       , 22.91666667, 33.33333333, 43.75      ],\n       [ 4.16666667, 14.58333333, 25.        , 35.41666667, 45.83333333],\n       [ 6.25      , 16.66666667, 27.08333333, 37.5       , 47.91666667],\n       [ 8.33333333, 18.75      , 29.16666667, 39.58333333, 50.        ]])"
     },
     "execution_count": 17,
     "metadata": {},
     "output_type": "execute_result"
    }
   ],
   "source": [
    "seq_arr.transpose()"
   ],
   "metadata": {
    "collapsed": false,
    "pycharm": {
     "name": "#%%\n"
    }
   }
  },
  {
   "cell_type": "code",
   "execution_count": 18,
   "outputs": [
    {
     "data": {
      "text/plain": "array([[ 0.        , 10.41666667, 20.83333333, 31.25      , 41.66666667],\n       [ 2.08333333, 12.5       , 22.91666667, 33.33333333, 43.75      ],\n       [ 4.16666667, 14.58333333, 25.        , 35.41666667, 45.83333333],\n       [ 6.25      , 16.66666667, 27.08333333, 37.5       , 47.91666667],\n       [ 8.33333333, 18.75      , 29.16666667, 39.58333333, 50.        ]])"
     },
     "execution_count": 18,
     "metadata": {},
     "output_type": "execute_result"
    }
   ],
   "source": [
    "seq_arr.T"
   ],
   "metadata": {
    "collapsed": false,
    "pycharm": {
     "name": "#%%\n"
    }
   }
  },
  {
   "cell_type": "code",
   "execution_count": 19,
   "outputs": [
    {
     "data": {
      "text/plain": "array([ 0.        ,  2.08333333,  4.16666667,  6.25      ,  8.33333333,\n       10.41666667, 12.5       , 14.58333333, 16.66666667, 18.75      ,\n       20.83333333, 22.91666667, 25.        , 27.08333333, 29.16666667,\n       31.25      , 33.33333333, 35.41666667, 37.5       , 39.58333333,\n       41.66666667, 43.75      , 45.83333333, 47.91666667, 50.        ])"
     },
     "execution_count": 19,
     "metadata": {},
     "output_type": "execute_result"
    }
   ],
   "source": [
    "r_seq_arr = seq_arr.ravel()\n",
    "r_seq_arr"
   ],
   "metadata": {
    "collapsed": false,
    "pycharm": {
     "name": "#%%\n"
    }
   }
  },
  {
   "cell_type": "code",
   "execution_count": 20,
   "outputs": [],
   "source": [
    "import matplotlib.pyplot as plt"
   ],
   "metadata": {
    "collapsed": false,
    "pycharm": {
     "name": "#%%\n"
    }
   }
  },
  {
   "cell_type": "code",
   "execution_count": 21,
   "outputs": [
    {
     "data": {
      "text/plain": "(array([3., 2., 3., 2., 2., 3., 2., 3., 2., 3.]),\n array([ 0.,  5., 10., 15., 20., 25., 30., 35., 40., 45., 50.]),\n <BarContainer object of 10 artists>)"
     },
     "execution_count": 21,
     "metadata": {},
     "output_type": "execute_result"
    },
    {
     "data": {
      "text/plain": "<Figure size 640x480 with 1 Axes>",
      "image/png": "[encoded data removed]"
     },
     "metadata": {},
     "output_type": "display_data"
    }
   ],
   "source": [
    "plt.hist(r_seq_arr)"
   ],
   "metadata": {
    "collapsed": false,
    "pycharm": {
     "name": "#%%\n"
    }
   }
  },
  {
   "cell_type": "code",
   "execution_count": 22,
   "outputs": [
    {
     "data": {
      "text/plain": "'0.80,0.57,0.63,0.50,0.34'"
     },
     "execution_count": 22,
     "metadata": {},
     "output_type": "execute_result"
    }
   ],
   "source": [
    "file = open('F:\\my project\\dataset\\learning_dataset\\\\scores.csv')\n",
    "str_file = file.read()\n",
    "str_list = str_file.split('\\n')\n",
    "str_list[1:][0][:-4]"
   ],
   "metadata": {
    "collapsed": false,
    "pycharm": {
     "name": "#%%\n"
    }
   }
  },
  {
   "cell_type": "code",
   "execution_count": 23,
   "outputs": [],
   "source": [
    "file2 = open('F:\\my project\\dataset\\learning_dataset\\\\scores.txt', 'a')\n",
    "for i in str_list[1:]:\n",
    "    file2.write(i[:-4])\n",
    "    file2.write('\\n')\n",
    "file2.close()"
   ],
   "metadata": {
    "collapsed": false,
    "pycharm": {
     "name": "#%%\n"
    }
   }
  },
  {
   "cell_type": "code",
   "execution_count": 34,
   "outputs": [
    {
     "data": {
      "text/plain": "array([[0.8 , 0.57, 0.63, 0.5 , 0.34],\n       [0.81, 0.9 , 0.62, 0.71, 0.9 ],\n       [0.49, 0.69, 0.62, 0.64, 0.4 ],\n       [0.4 , 0.94, 0.6 , 0.26, 0.4 ],\n       [0.31, 0.87, 1.  , 0.23, 0.9 ],\n       [0.14, 0.87, 0.09, 0.92, 0.7 ],\n       [0.21, 0.8 , 0.88, 0.63, 0.3 ],\n       [0.08, 0.78, 0.61, 0.4 , 0.6 ],\n       [0.81, 0.17, 0.9 , 0.5 , 0.6 ],\n       [0.31, 0.28, 0.79, 0.12, 0.6 ],\n       [0.28, 0.13, 0.46, 1.  , 0.  ],\n       [0.22, 0.63, 0.5 , 0.02, 0.2 ],\n       [0.86, 0.67, 0.65, 0.31, 0.3 ],\n       [0.91, 0.21, 0.22, 0.74, 0.3 ],\n       [0.88, 0.83, 0.93, 0.19, 0.6 ],\n       [0.11, 0.35, 0.6 , 0.82, 0.4 ],\n       [0.08, 0.97, 0.76, 0.1 , 0.25],\n       [0.38, 0.46, 1.  , 0.74, 0.11],\n       [0.89, 0.01, 0.14, 0.51, 0.47],\n       [0.3 , 0.37, 0.18, 0.18, 0.59],\n       [0.09, 0.16, 0.77, 0.87, 0.01],\n       [0.4 , 0.56, 0.39, 0.45, 0.8 ],\n       [0.12, 0.37, 0.03, 0.46, 0.79],\n       [0.7 , 0.38, 0.07, 0.02, 0.37],\n       [0.45, 0.8 , 0.12, 0.24, 0.02],\n       [0.16, 0.45, 0.54, 0.98, 0.11],\n       [0.13, 0.24, 0.52, 0.68, 0.48],\n       [0.08, 0.17, 0.17, 0.02, 0.35],\n       [0.48, 0.29, 0.61, 0.8 , 0.45],\n       [0.27, 0.24, 0.54, 0.71, 0.36],\n       [0.47, 0.32, 0.73, 0.88, 0.21],\n       [0.73, 0.13, 0.53, 0.16, 0.03],\n       [0.99, 0.3 , 0.68, 0.89, 0.27],\n       [0.03, 0.33, 0.99, 0.06, 0.42],\n       [0.73, 0.99, 0.84, 0.9 , 0.01],\n       [0.91, 0.43, 0.8 , 0.74, 0.89],\n       [0.15, 0.66, 0.52, 0.65, 0.79],\n       [0.83, 0.65, 0.  , 0.4 , 0.  ],\n       [0.02, 0.26, 0.65, 0.56, 0.3 ],\n       [0.53, 0.22, 0.77, 0.72, 0.2 ],\n       [0.38, 0.44, 0.  , 0.42, 0.8 ],\n       [0.56, 0.57, 0.38, 0.31, 0.1 ],\n       [0.  , 0.36, 0.84, 0.75, 0.1 ],\n       [0.02, 0.76, 0.29, 0.17, 0.5 ],\n       [0.34, 0.33, 0.74, 0.79, 0.3 ],\n       [0.45, 0.83, 0.17, 0.12, 0.2 ],\n       [0.54, 0.49, 0.7 , 0.01, 0.1 ],\n       [0.19, 0.02, 0.15, 0.56, 0.  ],\n       [0.52, 0.79, 0.27, 0.86, 0.5 ],\n       [0.19, 0.99, 0.09, 0.67, 0.2 ],\n       [0.37, 0.46, 0.41, 0.31, 0.8 ],\n       [0.94, 0.61, 0.07, 0.87, 0.88],\n       [0.1 , 0.13, 0.84, 1.  , 0.52],\n       [0.74, 0.26, 0.94, 0.72, 0.64],\n       [0.97, 0.75, 0.74, 0.44, 0.1 ],\n       [0.74, 0.16, 0.02, 0.49, 0.98],\n       [0.56, 0.63, 0.51, 0.86, 0.81],\n       [0.38, 0.51, 0.88, 0.34, 0.04],\n       [0.9 , 0.14, 0.49, 0.31, 0.74],\n       [0.  , 0.55, 0.66, 0.04, 0.22],\n       [0.98, 0.49, 0.52, 0.52, 0.23],\n       [0.24, 0.39, 0.22, 0.95, 0.68],\n       [0.55, 0.02, 0.97, 0.77, 0.57],\n       [0.22, 0.41, 0.92, 0.79, 0.81],\n       [0.33, 0.88, 0.3 , 0.35, 0.82],\n       [0.86, 0.58, 0.61, 0.31, 0.06],\n       [0.07, 0.63, 0.55, 0.22, 0.87],\n       [0.92, 0.48, 0.16, 0.59, 0.07],\n       [0.35, 0.2 , 0.03, 0.65, 0.59],\n       [0.63, 0.62, 0.4 , 0.96, 0.09],\n       [0.84, 0.58, 0.96, 0.44, 0.75],\n       [0.61, 0.09, 0.37, 0.36, 0.88],\n       [0.9 , 0.59, 0.28, 0.18, 0.28],\n       [0.34, 0.07, 0.72, 0.04, 0.6 ],\n       [0.27, 0.52, 0.52, 0.68, 0.2 ],\n       [0.63, 0.2 , 0.92, 0.34, 0.1 ],\n       [0.57, 0.76, 0.56, 0.37, 0.2 ],\n       [0.75, 0.86, 0.83, 0.32, 0.5 ],\n       [0.41, 0.19, 0.07, 0.6 , 0.5 ],\n       [0.88, 0.71, 0.43, 0.35, 0.7 ],\n       [0.67, 0.59, 0.82, 0.45, 0.  ],\n       [0.9 , 0.75, 0.54, 0.83, 0.5 ],\n       [0.87, 0.04, 0.38, 0.84, 0.4 ],\n       [0.75, 0.02, 0.02, 0.08, 0.9 ],\n       [0.27, 0.11, 0.28, 0.72, 0.5 ],\n       [0.74, 0.84, 0.62, 0.87, 0.5 ],\n       [0.05, 0.18, 0.69, 0.35, 0.5 ],\n       [0.79, 0.58, 0.35, 0.38, 0.43],\n       [0.24, 0.34, 0.87, 0.05, 0.57],\n       [0.7 , 0.82, 0.92, 0.52, 0.93],\n       [0.8 , 0.62, 0.53, 0.57, 0.9 ],\n       [0.38, 0.45, 0.82, 0.1 , 0.26],\n       [0.37, 0.88, 0.87, 0.65, 0.64],\n       [0.28, 0.7 , 0.23, 0.45, 0.35],\n       [0.53, 0.82, 0.55, 0.1 , 0.84],\n       [0.19, 0.56, 0.99, 0.85, 0.27],\n       [0.02, 0.18, 0.76, 0.76, 0.76],\n       [0.86, 0.03, 0.84, 0.4 , 0.87],\n       [0.97, 0.01, 0.78, 0.52, 0.31],\n       [0.17, 0.07, 0.36, 0.4 , 0.1 ],\n       [0.6 , 0.51, 0.74, 0.86, 0.19],\n       [0.71, 0.71, 0.82, 0.44, 0.61],\n       [0.53, 0.09, 0.9 , 0.23, 0.65],\n       [0.87, 0.21, 0.73, 0.91, 0.86],\n       [0.24, 0.51, 0.39, 0.05, 0.17],\n       [0.71, 0.47, 0.86, 0.72, 0.08],\n       [0.  , 0.56, 0.5 , 0.43, 0.41],\n       [0.81, 0.09, 0.66, 0.64, 0.37],\n       [0.73, 0.96, 0.3 , 0.65, 0.85],\n       [0.39, 0.05, 0.17, 0.5 , 0.6 ],\n       [0.15, 0.88, 0.56, 0.53, 0.5 ],\n       [0.33, 0.98, 0.14, 0.95, 0.1 ],\n       [0.88, 0.61, 0.27, 0.04, 0.9 ],\n       [0.62, 0.92, 0.76, 0.1 , 0.7 ],\n       [0.09, 0.39, 0.31, 0.43, 0.2 ],\n       [0.39, 0.4 , 0.04, 0.51, 0.2 ],\n       [0.67, 0.63, 0.94, 0.84, 0.1 ],\n       [0.76, 0.95, 0.77, 0.09, 0.6 ],\n       [0.12, 0.2 , 0.98, 0.19, 0.6 ],\n       [0.88, 0.25, 0.7 , 0.85, 0.5 ],\n       [0.67, 0.11, 0.16, 0.72, 0.6 ],\n       [0.2 , 0.39, 0.52, 0.63, 0.2 ],\n       [0.95, 0.59, 0.4 , 0.02, 0.4 ],\n       [0.28, 0.82, 0.14, 0.17, 0.55],\n       [0.15, 0.91, 0.59, 0.42, 0.5 ],\n       [0.82, 0.69, 0.29, 0.62, 0.84],\n       [0.58, 0.93, 0.77, 0.33, 0.14],\n       [0.04, 0.2 , 0.16, 0.36, 0.71],\n       [0.16, 0.33, 0.32, 0.16, 0.59],\n       [0.56, 0.37, 0.65, 0.53, 0.05],\n       [0.25, 0.74, 0.18, 0.88, 0.94],\n       [0.5 , 0.04, 0.15, 0.94, 0.49],\n       [0.84, 0.43, 0.04, 0.19, 0.11],\n       [1.  , 0.37, 0.55, 0.27, 0.26],\n       [0.19, 0.18, 0.44, 0.31, 0.43],\n       [0.14, 0.12, 0.49, 0.14, 0.87],\n       [0.59, 0.97, 0.78, 0.18, 0.41],\n       [0.9 , 0.69, 0.47, 0.73, 0.62],\n       [0.8 , 0.14, 0.11, 0.06, 0.76],\n       [0.67, 0.52, 0.41, 0.24, 0.98],\n       [0.8 , 0.91, 0.43, 0.89, 0.18],\n       [0.75, 0.15, 0.81, 0.82, 0.52],\n       [0.77, 0.21, 0.27, 0.24, 0.07],\n       [0.57, 0.36, 0.4 , 0.53, 0.15],\n       [0.84, 0.91, 0.91, 0.05, 0.26],\n       [0.65, 0.17, 0.8 , 0.68, 0.5 ],\n       [0.6 , 0.84, 0.7 , 0.82, 0.5 ],\n       [0.12, 0.14, 0.54, 0.73, 0.2 ],\n       [0.84, 0.17, 0.44, 0.32, 0.6 ],\n       [0.23, 0.62, 0.83, 0.16, 0.8 ],\n       [0.81, 0.7 , 0.6 , 0.55, 0.5 ],\n       [0.03, 0.11, 0.94, 0.11, 0.2 ],\n       [1.  , 0.13, 0.26, 0.88, 0.2 ],\n       [0.93, 0.43, 0.2 , 0.11, 0.6 ],\n       [0.47, 0.23, 0.11, 0.31, 0.1 ],\n       [0.61, 0.49, 0.62, 0.77, 0.7 ],\n       [0.18, 0.7 , 0.24, 0.63, 0.4 ],\n       [0.87, 0.55, 0.14, 0.12, 0.1 ],\n       [0.68, 0.6 , 0.84, 0.49, 0.8 ],\n       [0.83, 0.85, 0.71, 0.37, 0.55],\n       [0.15, 0.92, 0.62, 0.94, 0.1 ],\n       [0.99, 0.56, 0.76, 0.85, 0.05],\n       [0.69, 0.7 , 0.83, 0.05, 0.89],\n       [0.83, 0.11, 0.1 , 0.09, 0.05],\n       [0.32, 0.92, 0.21, 0.64, 0.92],\n       [0.86, 0.83, 0.39, 0.93, 0.63],\n       [0.03, 0.92, 0.06, 0.88, 0.46],\n       [0.07, 0.9 , 0.51, 0.26, 0.61],\n       [0.34, 0.92, 0.54, 0.02, 0.66],\n       [0.99, 0.42, 0.05, 0.68, 0.85],\n       [0.13, 0.77, 0.43, 0.52, 0.6 ],\n       [0.7 , 0.02, 0.55, 0.94, 0.48],\n       [0.24, 0.94, 0.91, 0.95, 0.19],\n       [0.71, 0.74, 0.84, 0.48, 0.69],\n       [0.1 , 0.23, 0.1 , 0.54, 0.95],\n       [0.12, 0.68, 0.65, 0.53, 0.49],\n       [0.05, 0.72, 0.85, 0.52, 0.27],\n       [0.26, 0.83, 0.67, 0.89, 0.15],\n       [0.65, 0.69, 0.24, 0.64, 0.88],\n       [0.86, 0.35, 0.33, 0.26, 0.03],\n       [0.16, 0.52, 0.9 , 0.2 , 0.79],\n       [0.39, 0.69, 0.2 , 0.98, 0.2 ],\n       [0.73, 0.68, 0.25, 0.21, 0.4 ],\n       [0.94, 0.39, 0.2 , 0.78, 0.5 ],\n       [0.44, 1.  , 0.03, 0.05, 0.8 ],\n       [0.75, 0.06, 0.57, 0.11, 0.3 ],\n       [0.8 , 0.24, 0.47, 0.86, 0.3 ],\n       [0.26, 0.92, 0.81, 0.65, 0.1 ],\n       [0.55, 0.41, 0.28, 0.7 , 0.7 ],\n       [0.88, 0.05, 0.48, 0.01, 0.  ],\n       [0.23, 0.92, 0.17, 0.86, 0.7 ],\n       [1.  , 0.35, 0.8 , 0.91, 0.8 ],\n       [0.29, 0.46, 0.24, 0.46, 0.1 ],\n       [0.62, 0.13, 0.1 , 0.41, 0.7 ],\n       [0.98, 0.42, 0.36, 0.03, 0.4 ],\n       [0.47, 0.13, 0.78, 0.1 , 0.11],\n       [0.14, 0.49, 0.19, 0.33, 0.85],\n       [0.95, 0.65, 0.62, 0.74, 0.61],\n       [0.6 , 0.99, 0.66, 0.71, 0.93],\n       [0.87, 0.23, 0.97, 0.45, 0.42]])"
     },
     "execution_count": 34,
     "metadata": {},
     "output_type": "execute_result"
    }
   ],
   "source": [
    "score_arr = np.loadtxt('F:\\my project\\dataset\\learning_dataset\\\\scores.txt', delimiter=',')\n",
    "score_arr"
   ],
   "metadata": {
    "collapsed": false,
    "pycharm": {
     "name": "#%%\n"
    }
   }
  },
  {
   "cell_type": "code",
   "execution_count": 35,
   "outputs": [
    {
     "data": {
      "text/plain": "0.568"
     },
     "execution_count": 35,
     "metadata": {},
     "output_type": "execute_result"
    }
   ],
   "source": [
    "score_arr[0, :].mean()"
   ],
   "metadata": {
    "collapsed": false,
    "pycharm": {
     "name": "#%%\n"
    }
   }
  },
  {
   "cell_type": "code",
   "execution_count": 36,
   "outputs": [
    {
     "data": {
      "text/plain": "array([0.568, 0.788, 0.568, 0.52 , 0.662, 0.544, 0.564, 0.494, 0.596,\n       0.42 , 0.374, 0.314, 0.558, 0.476, 0.686, 0.456, 0.432, 0.538,\n       0.404, 0.324, 0.38 , 0.52 , 0.354, 0.308, 0.326, 0.448, 0.41 ,\n       0.158, 0.526, 0.424, 0.522, 0.316, 0.626, 0.366, 0.694, 0.754,\n       0.554, 0.376, 0.358, 0.488, 0.408, 0.384, 0.41 , 0.348, 0.5  ,\n       0.354, 0.368, 0.184, 0.588, 0.428, 0.47 , 0.674, 0.518, 0.66 ,\n       0.6  , 0.478, 0.674, 0.43 , 0.516, 0.294, 0.548, 0.496, 0.576,\n       0.63 , 0.536, 0.484, 0.468, 0.444, 0.364, 0.54 , 0.714, 0.462,\n       0.446, 0.354, 0.438, 0.438, 0.492, 0.652, 0.354, 0.614, 0.506,\n       0.704, 0.506, 0.354, 0.376, 0.714, 0.354, 0.506, 0.414, 0.778,\n       0.684, 0.402, 0.682, 0.402, 0.568, 0.572, 0.496, 0.6  , 0.518,\n       0.22 , 0.58 , 0.658, 0.48 , 0.716, 0.272, 0.568, 0.38 , 0.514,\n       0.698, 0.342, 0.524, 0.5  , 0.54 , 0.62 , 0.284, 0.308, 0.636,\n       0.634, 0.418, 0.636, 0.452, 0.388, 0.472, 0.392, 0.514, 0.652,\n       0.55 , 0.294, 0.312, 0.432, 0.598, 0.424, 0.322, 0.49 , 0.31 ,\n       0.352, 0.586, 0.682, 0.374, 0.564, 0.642, 0.61 , 0.312, 0.402,\n       0.594, 0.56 , 0.692, 0.346, 0.474, 0.528, 0.632, 0.278, 0.494,\n       0.454, 0.244, 0.638, 0.43 , 0.356, 0.682, 0.662, 0.546, 0.642,\n       0.632, 0.236, 0.602, 0.728, 0.47 , 0.47 , 0.496, 0.598, 0.49 ,\n       0.538, 0.646, 0.692, 0.384, 0.494, 0.482, 0.56 , 0.62 , 0.366,\n       0.514, 0.492, 0.454, 0.562, 0.464, 0.358, 0.534, 0.548, 0.528,\n       0.284, 0.576, 0.772, 0.31 , 0.392, 0.438, 0.318, 0.4  , 0.714,\n       0.778, 0.588])"
     },
     "execution_count": 36,
     "metadata": {},
     "output_type": "execute_result"
    }
   ],
   "source": [
    "final_score = np.mean(score_arr[:, :], axis=1)\n",
    "final_score"
   ],
   "metadata": {
    "collapsed": false,
    "pycharm": {
     "name": "#%%\n"
    }
   }
  },
  {
   "cell_type": "code",
   "execution_count": 39,
   "outputs": [
    {
     "data": {
      "text/plain": "array([0.494, 0.42 , 0.374, 0.314, 0.476, 0.456, 0.432, 0.404, 0.324,\n       0.38 , 0.354, 0.308, 0.326, 0.448, 0.41 , 0.158, 0.424, 0.316,\n       0.366, 0.376, 0.358, 0.488, 0.408, 0.384, 0.41 , 0.348, 0.354,\n       0.368, 0.184, 0.428, 0.47 , 0.478, 0.43 , 0.294, 0.496, 0.484,\n       0.468, 0.444, 0.364, 0.462, 0.446, 0.354, 0.438, 0.438, 0.492,\n       0.354, 0.354, 0.376, 0.354, 0.414, 0.402, 0.402, 0.496, 0.22 ,\n       0.48 , 0.272, 0.38 , 0.342, 0.284, 0.308, 0.418, 0.452, 0.388,\n       0.472, 0.392, 0.294, 0.312, 0.432, 0.424, 0.322, 0.49 , 0.31 ,\n       0.352, 0.374, 0.312, 0.402, 0.346, 0.474, 0.278, 0.494, 0.454,\n       0.244, 0.43 , 0.356, 0.236, 0.47 , 0.47 , 0.496, 0.49 , 0.384,\n       0.494, 0.482, 0.366, 0.492, 0.454, 0.464, 0.358, 0.284, 0.31 ,\n       0.392, 0.438, 0.318, 0.4  ])"
     },
     "execution_count": 39,
     "metadata": {},
     "output_type": "execute_result"
    }
   ],
   "source": [
    "final_score[final_score < 0.5]"
   ],
   "metadata": {
    "collapsed": false,
    "pycharm": {
     "name": "#%%\n"
    }
   }
  },
  {
   "cell_type": "code",
   "execution_count": 45,
   "outputs": [
    {
     "data": {
      "text/plain": "array([ True,  True,  True,  True,  True,  True,  True, False,  True,\n       False, False, False,  True, False,  True, False, False,  True,\n       False, False, False,  True, False, False, False, False, False,\n       False,  True, False,  True, False,  True, False,  True,  True,\n        True, False, False, False, False, False, False, False,  True,\n       False, False, False,  True, False, False,  True,  True,  True,\n        True, False,  True, False,  True, False,  True, False,  True,\n        True,  True, False, False, False, False,  True,  True, False,\n       False, False, False, False, False,  True, False,  True,  True,\n        True,  True, False, False,  True, False,  True, False,  True,\n        True, False,  True, False,  True,  True, False,  True,  True,\n       False,  True,  True, False,  True, False,  True, False,  True,\n        True, False,  True,  True,  True,  True, False, False,  True,\n        True, False,  True, False, False, False, False,  True,  True,\n        True, False, False, False,  True, False, False, False, False,\n       False,  True,  True, False,  True,  True,  True, False, False,\n        True,  True,  True, False, False,  True,  True, False, False,\n       False, False,  True, False, False,  True,  True,  True,  True,\n        True, False,  True,  True, False, False, False,  True, False,\n        True,  True,  True, False, False, False,  True,  True, False,\n        True, False, False,  True, False, False,  True,  True,  True,\n       False,  True,  True, False, False, False, False, False,  True,\n        True,  True])"
     },
     "execution_count": 45,
     "metadata": {},
     "output_type": "execute_result"
    }
   ],
   "source": [
    "final_score>=0.5"
   ],
   "metadata": {
    "collapsed": false,
    "pycharm": {
     "name": "#%%\n"
    }
   }
  },
  {
   "cell_type": "code",
   "execution_count": 47,
   "outputs": [],
   "source": [
    "pass_ind=np.array([1]*final_score.shape[0])\n",
    "pass_ind[final_score >= 0.5] = 1\n",
    "pass_ind[final_score < 0.5] = 0"
   ],
   "metadata": {
    "collapsed": false,
    "pycharm": {
     "name": "#%%\n"
    }
   }
  },
  {
   "cell_type": "code",
   "execution_count": 48,
   "outputs": [
    {
     "data": {
      "text/plain": "array([1, 1, 1, 1, 1, 1, 1, 0, 1, 0, 0, 0, 1, 0, 1, 0, 0, 1, 0, 0, 0, 1,\n       0, 0, 0, 0, 0, 0, 1, 0, 1, 0, 1, 0, 1, 1, 1, 0, 0, 0, 0, 0, 0, 0,\n       1, 0, 0, 0, 1, 0, 0, 1, 1, 1, 1, 0, 1, 0, 1, 0, 1, 0, 1, 1, 1, 0,\n       0, 0, 0, 1, 1, 0, 0, 0, 0, 0, 0, 1, 0, 1, 1, 1, 1, 0, 0, 1, 0, 1,\n       0, 1, 1, 0, 1, 0, 1, 1, 0, 1, 1, 0, 1, 1, 0, 1, 0, 1, 0, 1, 1, 0,\n       1, 1, 1, 1, 0, 0, 1, 1, 0, 1, 0, 0, 0, 0, 1, 1, 1, 0, 0, 0, 1, 0,\n       0, 0, 0, 0, 1, 1, 0, 1, 1, 1, 0, 0, 1, 1, 1, 0, 0, 1, 1, 0, 0, 0,\n       0, 1, 0, 0, 1, 1, 1, 1, 1, 0, 1, 1, 0, 0, 0, 1, 0, 1, 1, 1, 0, 0,\n       0, 1, 1, 0, 1, 0, 0, 1, 0, 0, 1, 1, 1, 0, 1, 1, 0, 0, 0, 0, 0, 1,\n       1, 1])"
     },
     "execution_count": 48,
     "metadata": {},
     "output_type": "execute_result"
    }
   ],
   "source": [
    "pass_ind"
   ],
   "metadata": {
    "collapsed": false,
    "pycharm": {
     "name": "#%%\n"
    }
   }
  },
  {
   "cell_type": "code",
   "execution_count": 41,
   "outputs": [
    {
     "data": {
      "text/plain": "(array([ 2.,  1.,  2.,  3., 10.,  7., 19., 15., 13., 14., 19., 18., 16.,\n        15.,  9., 15.,  9.,  7.,  2.,  4.]),\n array([0.158 , 0.1895, 0.221 , 0.2525, 0.284 , 0.3155, 0.347 , 0.3785,\n        0.41  , 0.4415, 0.473 , 0.5045, 0.536 , 0.5675, 0.599 , 0.6305,\n        0.662 , 0.6935, 0.725 , 0.7565, 0.788 ]),\n <BarContainer object of 20 artists>)"
     },
     "execution_count": 41,
     "metadata": {},
     "output_type": "execute_result"
    },
    {
     "data": {
      "text/plain": "<Figure size 640x480 with 1 Axes>",
      "image/png": "[encoded data removed]"
     },
     "metadata": {},
     "output_type": "display_data"
    }
   ],
   "source": [
    "plt.hist(final_score, bins=20)"
   ],
   "metadata": {
    "collapsed": false,
    "pycharm": {
     "name": "#%%\n"
    }
   }
  },
  {
   "cell_type": "code",
   "execution_count": 49,
   "outputs": [
    {
     "data": {
      "text/plain": "(200, 5)"
     },
     "execution_count": 49,
     "metadata": {},
     "output_type": "execute_result"
    }
   ],
   "source": [
    "score_arr.shape"
   ],
   "metadata": {
    "collapsed": false,
    "pycharm": {
     "name": "#%%\n"
    }
   }
  },
  {
   "cell_type": "code",
   "execution_count": 50,
   "outputs": [
    {
     "data": {
      "text/plain": "(200,)"
     },
     "execution_count": 50,
     "metadata": {},
     "output_type": "execute_result"
    }
   ],
   "source": [
    "final_score.shape"
   ],
   "metadata": {
    "collapsed": false,
    "pycharm": {
     "name": "#%%\n"
    }
   }
  },
  {
   "cell_type": "code",
   "execution_count": 51,
   "outputs": [
    {
     "data": {
      "text/plain": "(200,)"
     },
     "execution_count": 51,
     "metadata": {},
     "output_type": "execute_result"
    }
   ],
   "source": [
    "pass_ind.shape"
   ],
   "metadata": {
    "collapsed": false,
    "pycharm": {
     "name": "#%%\n"
    }
   }
  },
  {
   "cell_type": "code",
   "execution_count": 52,
   "outputs": [],
   "source": [
    "final_score=final_score.reshape((200,1))\n",
    "pass_ind=pass_ind.reshape((200,1))"
   ],
   "metadata": {
    "collapsed": false,
    "pycharm": {
     "name": "#%%\n"
    }
   }
  },
  {
   "cell_type": "code",
   "execution_count": 55,
   "outputs": [
    {
     "data": {
      "text/plain": "(200, 1)"
     },
     "execution_count": 55,
     "metadata": {},
     "output_type": "execute_result"
    }
   ],
   "source": [
    "final_score.shape"
   ],
   "metadata": {
    "collapsed": false,
    "pycharm": {
     "name": "#%%\n"
    }
   }
  },
  {
   "cell_type": "code",
   "execution_count": 56,
   "outputs": [
    {
     "data": {
      "text/plain": "(200, 1)"
     },
     "execution_count": 56,
     "metadata": {},
     "output_type": "execute_result"
    }
   ],
   "source": [
    "pass_ind.shape"
   ],
   "metadata": {
    "collapsed": false,
    "pycharm": {
     "name": "#%%\n"
    }
   }
  },
  {
   "cell_type": "code",
   "execution_count": 57,
   "outputs": [
    {
     "data": {
      "text/plain": "array([[0.8  , 0.57 , 0.63 , ..., 0.34 , 0.568, 1.   ],\n       [0.81 , 0.9  , 0.62 , ..., 0.9  , 0.788, 1.   ],\n       [0.49 , 0.69 , 0.62 , ..., 0.4  , 0.568, 1.   ],\n       ...,\n       [0.95 , 0.65 , 0.62 , ..., 0.61 , 0.714, 1.   ],\n       [0.6  , 0.99 , 0.66 , ..., 0.93 , 0.778, 1.   ],\n       [0.87 , 0.23 , 0.97 , ..., 0.42 , 0.588, 1.   ]])"
     },
     "execution_count": 57,
     "metadata": {},
     "output_type": "execute_result"
    }
   ],
   "source": [
    "reporting_data=np.concatenate([score_arr,final_score,pass_ind],axis=1)\n",
    "reporting_data"
   ],
   "metadata": {
    "collapsed": false,
    "pycharm": {
     "name": "#%%\n"
    }
   }
  },
  {
   "cell_type": "code",
   "execution_count": 63,
   "outputs": [
    {
     "data": {
      "text/plain": "array([0.8 , 0.81, 0.49, 0.4 , 0.31, 0.14, 0.21, 0.08, 0.81, 0.31, 0.28,\n       0.22, 0.86, 0.91, 0.88, 0.11, 0.08, 0.38, 0.89, 0.3 , 0.09, 0.4 ,\n       0.12, 0.7 , 0.45, 0.16, 0.13, 0.08, 0.48, 0.27, 0.47, 0.73, 0.99,\n       0.03, 0.73, 0.91, 0.15, 0.83, 0.02, 0.53, 0.38, 0.56, 0.  , 0.02,\n       0.34, 0.45, 0.54, 0.19, 0.52, 0.19, 0.37, 0.94, 0.1 , 0.74, 0.97,\n       0.74, 0.56, 0.38, 0.9 , 0.  , 0.98, 0.24, 0.55, 0.22, 0.33, 0.86,\n       0.07, 0.92, 0.35, 0.63, 0.84, 0.61, 0.9 , 0.34, 0.27, 0.63, 0.57,\n       0.75, 0.41, 0.88, 0.67, 0.9 , 0.87, 0.75, 0.27, 0.74, 0.05, 0.79,\n       0.24, 0.7 , 0.8 , 0.38, 0.37, 0.28, 0.53, 0.19, 0.02, 0.86, 0.97,\n       0.17, 0.6 , 0.71, 0.53, 0.87, 0.24, 0.71, 0.  , 0.81, 0.73, 0.39,\n       0.15, 0.33, 0.88, 0.62, 0.09, 0.39, 0.67, 0.76, 0.12, 0.88, 0.67,\n       0.2 , 0.95, 0.28, 0.15, 0.82, 0.58, 0.04, 0.16, 0.56, 0.25, 0.5 ,\n       0.84, 1.  , 0.19, 0.14, 0.59, 0.9 , 0.8 , 0.67, 0.8 , 0.75, 0.77,\n       0.57, 0.84, 0.65, 0.6 , 0.12, 0.84, 0.23, 0.81, 0.03, 1.  , 0.93,\n       0.47, 0.61, 0.18, 0.87, 0.68, 0.83, 0.15, 0.99, 0.69, 0.83, 0.32,\n       0.86, 0.03, 0.07, 0.34, 0.99, 0.13, 0.7 , 0.24, 0.71, 0.1 , 0.12,\n       0.05, 0.26, 0.65, 0.86, 0.16, 0.39, 0.73, 0.94, 0.44, 0.75, 0.8 ,\n       0.26, 0.55, 0.88, 0.23, 1.  , 0.29, 0.62, 0.98, 0.47, 0.14, 0.95,\n       0.6 , 0.87])"
     },
     "execution_count": 63,
     "metadata": {},
     "output_type": "execute_result"
    }
   ],
   "source": [
    "reporting_data[:,0]"
   ],
   "metadata": {
    "collapsed": false,
    "pycharm": {
     "name": "#%%\n"
    }
   }
  },
  {
   "cell_type": "code",
   "execution_count": 58,
   "outputs": [
    {
     "data": {
      "text/plain": "0.5141"
     },
     "execution_count": 58,
     "metadata": {},
     "output_type": "execute_result"
    }
   ],
   "source": [
    "reporting_data[:,0].mean()"
   ],
   "metadata": {
    "collapsed": false,
    "pycharm": {
     "name": "#%%\n"
    }
   }
  },
  {
   "cell_type": "code",
   "execution_count": 62,
   "outputs": [
    {
     "data": {
      "text/plain": "array([0.5141 , 0.49585, 0.51435, 0.49515, 0.45805, 0.4955 , 0.485  ])"
     },
     "execution_count": 62,
     "metadata": {},
     "output_type": "execute_result"
    }
   ],
   "source": [
    "np.mean(reporting_data,axis=0)"
   ],
   "metadata": {
    "collapsed": false,
    "pycharm": {
     "name": "#%%\n"
    }
   }
  },
  {
   "cell_type": "code",
   "execution_count": 66,
   "outputs": [
    {
     "data": {
      "text/plain": "(array([ 9.,  5.,  8., 13.,  9.,  6., 10.,  7.,  7.,  9.,  3.,  6.,  3.,\n         7.,  7.,  9.,  6.,  8., 11.,  3., 13., 13., 12.,  6., 10.]),\n array([0.  , 0.04, 0.08, 0.12, 0.16, 0.2 , 0.24, 0.28, 0.32, 0.36, 0.4 ,\n        0.44, 0.48, 0.52, 0.56, 0.6 , 0.64, 0.68, 0.72, 0.76, 0.8 , 0.84,\n        0.88, 0.92, 0.96, 1.  ]),\n <BarContainer object of 25 artists>)"
     },
     "execution_count": 66,
     "metadata": {},
     "output_type": "execute_result"
    },
    {
     "data": {
      "text/plain": "<Figure size 640x480 with 1 Axes>",
      "image/png": "[encoded data removed]"
     },
     "metadata": {},
     "output_type": "display_data"
    }
   ],
   "source": [
    "plt.hist(reporting_data[:,0],bins=25)"
   ],
   "metadata": {
    "collapsed": false,
    "pycharm": {
     "name": "#%%\n"
    }
   }
  },
  {
   "cell_type": "code",
   "execution_count": 71,
   "outputs": [],
   "source": [
    "count,range=np.histogram(reporting_data[:,0],bins=25)"
   ],
   "metadata": {
    "collapsed": false,
    "pycharm": {
     "name": "#%%\n"
    }
   }
  },
  {
   "cell_type": "code",
   "execution_count": 72,
   "outputs": [
    {
     "data": {
      "text/plain": "array([ 9,  5,  8, 13,  9,  6, 10,  7,  7,  9,  3,  6,  3,  7,  7,  9,  6,\n        8, 11,  3, 13, 13, 12,  6, 10], dtype=int64)"
     },
     "execution_count": 72,
     "metadata": {},
     "output_type": "execute_result"
    }
   ],
   "source": [
    "count"
   ],
   "metadata": {
    "collapsed": false,
    "pycharm": {
     "name": "#%%\n"
    }
   }
  },
  {
   "cell_type": "code",
   "execution_count": 73,
   "outputs": [
    {
     "data": {
      "text/plain": "array([0.  , 0.04, 0.08, 0.12, 0.16, 0.2 , 0.24, 0.28, 0.32, 0.36, 0.4 ,\n       0.44, 0.48, 0.52, 0.56, 0.6 , 0.64, 0.68, 0.72, 0.76, 0.8 , 0.84,\n       0.88, 0.92, 0.96, 1.  ])"
     },
     "execution_count": 73,
     "metadata": {},
     "output_type": "execute_result"
    }
   ],
   "source": [
    "range"
   ],
   "metadata": {
    "collapsed": false,
    "pycharm": {
     "name": "#%%\n"
    }
   }
  },
  {
   "cell_type": "code",
   "execution_count": 74,
   "outputs": [
    {
     "data": {
      "text/plain": "<matplotlib.collections.PathCollection at 0x273dc8a23b0>"
     },
     "execution_count": 74,
     "metadata": {},
     "output_type": "execute_result"
    },
    {
     "data": {
      "text/plain": "<Figure size 640x480 with 1 Axes>",
      "image/png": "[encoded data removed]"
     },
     "metadata": {},
     "output_type": "display_data"
    }
   ],
   "source": [
    "plt.scatter(reporting_data[:,0],reporting_data[:,1])"
   ],
   "metadata": {
    "collapsed": false,
    "pycharm": {
     "name": "#%%\n"
    }
   }
  },
  {
   "cell_type": "markdown",
   "source": [],
   "metadata": {
    "collapsed": false
   }
  },
  {
   "cell_type": "code",
   "execution_count": 79,
   "outputs": [
    {
     "name": "stderr",
     "output_type": "stream",
     "text": [
      "*c* argument looks like a single numeric RGB or RGBA sequence, which should be avoided as value-mapping will have precedence in case its length matches with *x* & *y*.  Please use the *color* keyword-argument or provide a 2D array with a single row if you intend to specify the same RGB or RGBA value for all points.\n"
     ]
    },
    {
     "data": {
      "text/plain": "<matplotlib.collections.PathCollection at 0x273dc792950>"
     },
     "execution_count": 79,
     "metadata": {},
     "output_type": "execute_result"
    },
    {
     "data": {
      "text/plain": "<Figure size 640x480 with 1 Axes>",
      "image/png": "[encoded data removed]"
     },
     "metadata": {},
     "output_type": "display_data"
    }
   ],
   "source": [
    "plt.scatter(reporting_data[:,0],reporting_data[:,5],s=20,c=(0.1,0.7,0.6),marker='>')"
   ],
   "metadata": {
    "collapsed": false,
    "pycharm": {
     "name": "#%%\n"
    }
   }
  },
  {
   "cell_type": "code",
   "execution_count": 83,
   "outputs": [
    {
     "name": "stderr",
     "output_type": "stream",
     "text": [
      "*c* argument looks like a single numeric RGB or RGBA sequence, which should be avoided as value-mapping will have precedence in case its length matches with *x* & *y*.  Please use the *color* keyword-argument or provide a 2D array with a single row if you intend to specify the same RGB or RGBA value for all points.\n"
     ]
    },
    {
     "data": {
      "text/plain": "Text(0.5, 1.0, 'python vs final')"
     },
     "execution_count": 83,
     "metadata": {},
     "output_type": "execute_result"
    },
    {
     "data": {
      "text/plain": "<Figure size 640x480 with 2 Axes>",
      "image/png": "[encoded data removed]"
     },
     "metadata": {},
     "output_type": "display_data"
    }
   ],
   "source": [
    "plt.subplot(2,1,1)\n",
    "plt.scatter(reporting_data[:,0],reporting_data[:,1])\n",
    "plt.title('python vs java')\n",
    "plt.subplots_adjust(hspace=0.5)\n",
    "plt.subplot(2,1,2)\n",
    "plt.scatter(reporting_data[:,0],reporting_data[:,5],s=20,c=(1,0,0))\n",
    "plt.title('python vs final')"
   ],
   "metadata": {
    "collapsed": false,
    "pycharm": {
     "name": "#%%\n"
    }
   }
  },
  {
   "cell_type": "code",
   "execution_count": 84,
   "outputs": [
    {
     "data": {
      "text/plain": "{'whiskers': [<matplotlib.lines.Line2D at 0x273dca4cd90>,\n  <matplotlib.lines.Line2D at 0x273dca4d030>,\n  <matplotlib.lines.Line2D at 0x273dca4dff0>,\n  <matplotlib.lines.Line2D at 0x273dca4e290>,\n  <matplotlib.lines.Line2D at 0x273dca4f250>,\n  <matplotlib.lines.Line2D at 0x273dca4f4f0>,\n  <matplotlib.lines.Line2D at 0x273dcab04f0>,\n  <matplotlib.lines.Line2D at 0x273dcab0790>,\n  <matplotlib.lines.Line2D at 0x273dcab1750>,\n  <matplotlib.lines.Line2D at 0x273dcab19f0>],\n 'caps': [<matplotlib.lines.Line2D at 0x273dca4d2d0>,\n  <matplotlib.lines.Line2D at 0x273dca4d570>,\n  <matplotlib.lines.Line2D at 0x273dca4e530>,\n  <matplotlib.lines.Line2D at 0x273dca4e7d0>,\n  <matplotlib.lines.Line2D at 0x273dca4f790>,\n  <matplotlib.lines.Line2D at 0x273dca4fa30>,\n  <matplotlib.lines.Line2D at 0x273dcab0a30>,\n  <matplotlib.lines.Line2D at 0x273dcab0cd0>,\n  <matplotlib.lines.Line2D at 0x273dcab1c90>,\n  <matplotlib.lines.Line2D at 0x273dcab1f30>],\n 'boxes': [<matplotlib.lines.Line2D at 0x273dca4caf0>,\n  <matplotlib.lines.Line2D at 0x273dca4dd50>,\n  <matplotlib.lines.Line2D at 0x273dca4efb0>,\n  <matplotlib.lines.Line2D at 0x273dcab0250>,\n  <matplotlib.lines.Line2D at 0x273dcab14b0>],\n 'medians': [<matplotlib.lines.Line2D at 0x273dca4d810>,\n  <matplotlib.lines.Line2D at 0x273dca4ea70>,\n  <matplotlib.lines.Line2D at 0x273dca4fcd0>,\n  <matplotlib.lines.Line2D at 0x273dcab0f70>,\n  <matplotlib.lines.Line2D at 0x273dcab21d0>],\n 'fliers': [<matplotlib.lines.Line2D at 0x273dca4dab0>,\n  <matplotlib.lines.Line2D at 0x273dca4ed10>,\n  <matplotlib.lines.Line2D at 0x273dca4ff70>,\n  <matplotlib.lines.Line2D at 0x273dcab1210>,\n  <matplotlib.lines.Line2D at 0x273dcab2470>],\n 'means': []}"
     },
     "execution_count": 84,
     "metadata": {},
     "output_type": "execute_result"
    },
    {
     "data": {
      "text/plain": "<Figure size 640x480 with 1 Axes>",
      "image/png": "[encoded data removed]"
     },
     "metadata": {},
     "output_type": "display_data"
    }
   ],
   "source": [
    "plt.boxplot(score_arr)"
   ],
   "metadata": {
    "collapsed": false,
    "pycharm": {
     "name": "#%%\n"
    }
   }
  },
  {
   "cell_type": "code",
   "execution_count": null,
   "outputs": [],
   "source": [],
   "metadata": {
    "collapsed": false,
    "pycharm": {
     "name": "#%%\n"
    }
   }
  }
 ],
 "metadata": {
  "kernelspec": {
   "display_name": "Python 3",
   "language": "python",
   "name": "python3"
  },
  "language_info": {
   "codemirror_mode": {
    "name": "ipython",
    "version": 2
   },
   "file_extension": ".py",
   "mimetype": "text/x-python",
   "name": "python",
   "nbconvert_exporter": "python",
   "pygments_lexer": "ipython2",
   "version": "2.7.6"
  }
 },
 "nbformat": 4,
 "nbformat_minor": 0
}