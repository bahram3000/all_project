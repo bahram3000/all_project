{
 "cells": [
  {
   "cell_type": "code",
   "execution_count": 1,
   "metadata": {
    "collapsed": true,
    "pycharm": {
     "name": "#%%\n"
    }
   },
   "outputs": [],
   "source": [
    "import numpy as np\n",
    "import pandas as pd\n",
    "import matplotlib.pyplot as plt"
   ]
  },
  {
   "cell_type": "code",
   "execution_count": 2,
   "outputs": [
    {
     "data": {
      "text/plain": "  ردیف   سال جمعیت کل ایران رشد جمعیت\n0    ۱  ۱۳۳۵     ۱۸٬۹۵۴٬۷۰۴         -\n1    ۲  ۱۳۴۵     ۲۵٬۷۸۸٬۷۲۲      ۱۳٫۳\n2    ۳  ۱۳۵۵     ۳۳٬۷۰۸٬۷۴۴      ۲٫۷۱\n3    ۴  ۱۳۶۵     ۴۹٬۴۴۵٬۰۱۰      ۳٫۹۱\n4  ۲–۴  ۱۳۷۰     ۵۵٬۸۳۷٬۱۶۳      ۲٫۴۶\n5    ۵  ۱۳۷۵     ۶۰٬۰۵۵٬۴۸۸      ۱٫۴۷\n6    ۶  ۱۳۸۵     ۷۰٬۴۷۲٬۸۴۶      ۱٫۶۱\n7    ۷  ۱۳۹۰     ۷۵٬۱۴۹٬۶۶۹      ۱٫۲۹\n8    ۸  ۱۳۹۵     ۷۹٬۹۲۶٬۲۷۰      ۱٫۲۴",
      "text/html": "<div>\n<style scoped>\n    .dataframe tbody tr th:only-of-type {\n        vertical-align: middle;\n    }\n\n    .dataframe tbody tr th {\n        vertical-align: top;\n    }\n\n    .dataframe thead th {\n        text-align: right;\n    }\n</style>\n<table border=\"1\" class=\"dataframe\">\n  <thead>\n    <tr style=\"text-align: right;\">\n      <th></th>\n      <th>ردیف</th>\n      <th>سال</th>\n      <th>جمعیت کل ایران</th>\n      <th>رشد جمعیت</th>\n    </tr>\n  </thead>\n  <tbody>\n    <tr>\n      <th>0</th>\n      <td>۱</td>\n      <td>۱۳۳۵</td>\n      <td>۱۸٬۹۵۴٬۷۰۴</td>\n      <td>-</td>\n    </tr>\n    <tr>\n      <th>1</th>\n      <td>۲</td>\n      <td>۱۳۴۵</td>\n      <td>۲۵٬۷۸۸٬۷۲۲</td>\n      <td>۱۳٫۳</td>\n    </tr>\n    <tr>\n      <th>2</th>\n      <td>۳</td>\n      <td>۱۳۵۵</td>\n      <td>۳۳٬۷۰۸٬۷۴۴</td>\n      <td>۲٫۷۱</td>\n    </tr>\n    <tr>\n      <th>3</th>\n      <td>۴</td>\n      <td>۱۳۶۵</td>\n      <td>۴۹٬۴۴۵٬۰۱۰</td>\n      <td>۳٫۹۱</td>\n    </tr>\n    <tr>\n      <th>4</th>\n      <td>۲–۴</td>\n      <td>۱۳۷۰</td>\n      <td>۵۵٬۸۳۷٬۱۶۳</td>\n      <td>۲٫۴۶</td>\n    </tr>\n    <tr>\n      <th>5</th>\n      <td>۵</td>\n      <td>۱۳۷۵</td>\n      <td>۶۰٬۰۵۵٬۴۸۸</td>\n      <td>۱٫۴۷</td>\n    </tr>\n    <tr>\n      <th>6</th>\n      <td>۶</td>\n      <td>۱۳۸۵</td>\n      <td>۷۰٬۴۷۲٬۸۴۶</td>\n      <td>۱٫۶۱</td>\n    </tr>\n    <tr>\n      <th>7</th>\n      <td>۷</td>\n      <td>۱۳۹۰</td>\n      <td>۷۵٬۱۴۹٬۶۶۹</td>\n      <td>۱٫۲۹</td>\n    </tr>\n    <tr>\n      <th>8</th>\n      <td>۸</td>\n      <td>۱۳۹۵</td>\n      <td>۷۹٬۹۲۶٬۲۷۰</td>\n      <td>۱٫۲۴</td>\n    </tr>\n  </tbody>\n</table>\n</div>"
     },
     "execution_count": 2,
     "metadata": {},
     "output_type": "execute_result"
    }
   ],
   "source": [
    "df=pd.read_excel('F:\\my project\\dataset\\my pro-datasets\\\\iran_population_simple.xlsx')\n",
    "df"
   ],
   "metadata": {
    "collapsed": false,
    "pycharm": {
     "name": "#%%\n"
    }
   }
  },
  {
   "cell_type": "code",
   "execution_count": 7,
   "outputs": [
    {
     "data": {
      "text/plain": "'۵۵٬۸۳۷٬۱۶۳'"
     },
     "execution_count": 7,
     "metadata": {},
     "output_type": "execute_result"
    }
   ],
   "source": [
    "df['جمعیت کل ایران'][4]"
   ],
   "metadata": {
    "collapsed": false,
    "pycharm": {
     "name": "#%%\n"
    }
   }
  },
  {
   "cell_type": "code",
   "execution_count": 24,
   "outputs": [],
   "source": [
    "def english(num:str):\n",
    "    if type(num)==type(''):\n",
    "        dicy={'۱':'1','۲':'2','۳':'3','۴':'4','۵':'5','۶':'6','۷':'7','۸':'8','۹':'9','۰':'0','٠':'0','٨':'8'}\n",
    "        s=''\n",
    "        for i in num:\n",
    "            if i in dicy.keys():\n",
    "                s+=dicy[i]\n",
    "        return float(s)"
   ],
   "metadata": {
    "collapsed": false,
    "pycharm": {
     "name": "#%%\n"
    }
   }
  },
  {
   "cell_type": "code",
   "execution_count": 11,
   "outputs": [
    {
     "data": {
      "text/plain": "55837163.0"
     },
     "execution_count": 11,
     "metadata": {},
     "output_type": "execute_result"
    }
   ],
   "source": [
    "english(df['جمعیت کل ایران'][4])"
   ],
   "metadata": {
    "collapsed": false,
    "pycharm": {
     "name": "#%%\n"
    }
   }
  },
  {
   "cell_type": "code",
   "execution_count": 12,
   "outputs": [],
   "source": [
    "l=[]\n",
    "for i in df['جمعیت کل ایران']:\n",
    "    l.append(english(i))"
   ],
   "metadata": {
    "collapsed": false,
    "pycharm": {
     "name": "#%%\n"
    }
   }
  },
  {
   "cell_type": "code",
   "execution_count": 13,
   "outputs": [
    {
     "data": {
      "text/plain": "[18954704.0,\n 25788722.0,\n 33708744.0,\n 49445010.0,\n 55837163.0,\n 60055488.0,\n 70472846.0,\n 75149669.0,\n 79926270.0]"
     },
     "execution_count": 13,
     "metadata": {},
     "output_type": "execute_result"
    }
   ],
   "source": [
    "l"
   ],
   "metadata": {
    "collapsed": false,
    "pycharm": {
     "name": "#%%\n"
    }
   }
  },
  {
   "cell_type": "code",
   "execution_count": 14,
   "outputs": [
    {
     "data": {
      "text/plain": "[<matplotlib.lines.Line2D at 0x200f564fb50>]"
     },
     "execution_count": 14,
     "metadata": {},
     "output_type": "execute_result"
    },
    {
     "data": {
      "text/plain": "<Figure size 640x480 with 1 Axes>",
      "image/png": "[encoded data removed]"
     },
     "metadata": {},
     "output_type": "display_data"
    }
   ],
   "source": [
    "plt.plot(l)"
   ],
   "metadata": {
    "collapsed": false,
    "pycharm": {
     "name": "#%%\n"
    }
   }
  },
  {
   "cell_type": "code",
   "execution_count": 16,
   "outputs": [],
   "source": [
    "from sklearn.linear_model import LinearRegression"
   ],
   "metadata": {
    "collapsed": false,
    "pycharm": {
     "name": "#%%\n"
    }
   }
  },
  {
   "cell_type": "code",
   "execution_count": 21,
   "outputs": [],
   "source": [
    "reg=LinearRegression()"
   ],
   "metadata": {
    "collapsed": false,
    "pycharm": {
     "name": "#%%\n"
    }
   }
  },
  {
   "cell_type": "code",
   "execution_count": 22,
   "outputs": [
    {
     "data": {
      "text/plain": "            0\n0  18954704.0\n1  25788722.0\n2  33708744.0\n3  49445010.0\n4  55837163.0\n5  60055488.0\n6  70472846.0\n7  75149669.0\n8  79926270.0",
      "text/html": "<div>\n<style scoped>\n    .dataframe tbody tr th:only-of-type {\n        vertical-align: middle;\n    }\n\n    .dataframe tbody tr th {\n        vertical-align: top;\n    }\n\n    .dataframe thead th {\n        text-align: right;\n    }\n</style>\n<table border=\"1\" class=\"dataframe\">\n  <thead>\n    <tr style=\"text-align: right;\">\n      <th></th>\n      <th>0</th>\n    </tr>\n  </thead>\n  <tbody>\n    <tr>\n      <th>0</th>\n      <td>18954704.0</td>\n    </tr>\n    <tr>\n      <th>1</th>\n      <td>25788722.0</td>\n    </tr>\n    <tr>\n      <th>2</th>\n      <td>33708744.0</td>\n    </tr>\n    <tr>\n      <th>3</th>\n      <td>49445010.0</td>\n    </tr>\n    <tr>\n      <th>4</th>\n      <td>55837163.0</td>\n    </tr>\n    <tr>\n      <th>5</th>\n      <td>60055488.0</td>\n    </tr>\n    <tr>\n      <th>6</th>\n      <td>70472846.0</td>\n    </tr>\n    <tr>\n      <th>7</th>\n      <td>75149669.0</td>\n    </tr>\n    <tr>\n      <th>8</th>\n      <td>79926270.0</td>\n    </tr>\n  </tbody>\n</table>\n</div>"
     },
     "execution_count": 22,
     "metadata": {},
     "output_type": "execute_result"
    }
   ],
   "source": [
    "l=pd.DataFrame(np.array(l))\n",
    "l"
   ],
   "metadata": {
    "collapsed": false,
    "pycharm": {
     "name": "#%%\n"
    }
   }
  },
  {
   "cell_type": "code",
   "execution_count": 23,
   "outputs": [
    {
     "data": {
      "text/plain": "0    18954704.0\n1    25788722.0\n2    33708744.0\n3    49445010.0\n4    55837163.0\n5    60055488.0\n6    70472846.0\n7    75149669.0\n8    79926270.0\nName: 0, dtype: float64"
     },
     "execution_count": 23,
     "metadata": {},
     "output_type": "execute_result"
    }
   ],
   "source": [
    "l[0]"
   ],
   "metadata": {
    "collapsed": false,
    "pycharm": {
     "name": "#%%\n"
    }
   }
  },
  {
   "cell_type": "code",
   "execution_count": 27,
   "outputs": [
    {
     "data": {
      "text/plain": "LinearRegression()",
      "text/html": "<style>#sk-container-id-1 {color: black;background-color: white;}#sk-container-id-1 pre{padding: 0;}#sk-container-id-1 div.sk-toggleable {background-color: white;}#sk-container-id-1 label.sk-toggleable__label {cursor: pointer;display: block;width: 100%;margin-bottom: 0;padding: 0.3em;box-sizing: border-box;text-align: center;}#sk-container-id-1 label.sk-toggleable__label-arrow:before {content: \"▸\";float: left;margin-right: 0.25em;color: #696969;}#sk-container-id-1 label.sk-toggleable__label-arrow:hover:before {color: black;}#sk-container-id-1 div.sk-estimator:hover label.sk-toggleable__label-arrow:before {color: black;}#sk-container-id-1 div.sk-toggleable__content {max-height: 0;max-width: 0;overflow: hidden;text-align: left;background-color: #f0f8ff;}#sk-container-id-1 div.sk-toggleable__content pre {margin: 0.2em;color: black;border-radius: 0.25em;background-color: #f0f8ff;}#sk-container-id-1 input.sk-toggleable__control:checked~div.sk-toggleable__content {max-height: 200px;max-width: 100%;overflow: auto;}#sk-container-id-1 input.sk-toggleable__control:checked~label.sk-toggleable__label-arrow:before {content: \"▾\";}#sk-container-id-1 div.sk-estimator input.sk-toggleable__control:checked~label.sk-toggleable__label {background-color: #d4ebff;}#sk-container-id-1 div.sk-label input.sk-toggleable__control:checked~label.sk-toggleable__label {background-color: #d4ebff;}#sk-container-id-1 input.sk-hidden--visually {border: 0;clip: rect(1px 1px 1px 1px);clip: rect(1px, 1px, 1px, 1px);height: 1px;margin: -1px;overflow: hidden;padding: 0;position: absolute;width: 1px;}#sk-container-id-1 div.sk-estimator {font-family: monospace;background-color: #f0f8ff;border: 1px dotted black;border-radius: 0.25em;box-sizing: border-box;margin-bottom: 0.5em;}#sk-container-id-1 div.sk-estimator:hover {background-color: #d4ebff;}#sk-container-id-1 div.sk-parallel-item::after {content: \"\";width: 100%;border-bottom: 1px solid gray;flex-grow: 1;}#sk-container-id-1 div.sk-label:hover label.sk-toggleable__label {background-color: #d4ebff;}#sk-container-id-1 div.sk-serial::before {content: \"\";position: absolute;border-left: 1px solid gray;box-sizing: border-box;top: 0;bottom: 0;left: 50%;z-index: 0;}#sk-container-id-1 div.sk-serial {display: flex;flex-direction: column;align-items: center;background-color: white;padding-right: 0.2em;padding-left: 0.2em;position: relative;}#sk-container-id-1 div.sk-item {position: relative;z-index: 1;}#sk-container-id-1 div.sk-parallel {display: flex;align-items: stretch;justify-content: center;background-color: white;position: relative;}#sk-container-id-1 div.sk-item::before, #sk-container-id-1 div.sk-parallel-item::before {content: \"\";position: absolute;border-left: 1px solid gray;box-sizing: border-box;top: 0;bottom: 0;left: 50%;z-index: -1;}#sk-container-id-1 div.sk-parallel-item {display: flex;flex-direction: column;z-index: 1;position: relative;background-color: white;}#sk-container-id-1 div.sk-parallel-item:first-child::after {align-self: flex-end;width: 50%;}#sk-container-id-1 div.sk-parallel-item:last-child::after {align-self: flex-start;width: 50%;}#sk-container-id-1 div.sk-parallel-item:only-child::after {width: 0;}#sk-container-id-1 div.sk-dashed-wrapped {border: 1px dashed gray;margin: 0 0.4em 0.5em 0.4em;box-sizing: border-box;padding-bottom: 0.4em;background-color: white;}#sk-container-id-1 div.sk-label label {font-family: monospace;font-weight: bold;display: inline-block;line-height: 1.2em;}#sk-container-id-1 div.sk-label-container {text-align: center;}#sk-container-id-1 div.sk-container {/* jupyter's `normalize.less` sets `[hidden] { display: none; }` but bootstrap.min.css set `[hidden] { display: none !important; }` so we also need the `!important` here to be able to override the default hidden behavior on the sphinx rendered scikit-learn.org. See: https://github.com/scikit-learn/scikit-learn/issues/21755 */display: inline-block !important;position: relative;}#sk-container-id-1 div.sk-text-repr-fallback {display: none;}</style><div id=\"sk-container-id-1\" class=\"sk-top-container\"><div class=\"sk-text-repr-fallback\"><pre>LinearRegression()</pre><b>In a Jupyter environment, please rerun this cell to show the HTML representation or trust the notebook. <br />On GitHub, the HTML representation is unable to render, please try loading this page with nbviewer.org.</b></div><div class=\"sk-container\" hidden><div class=\"sk-item\"><div class=\"sk-estimator sk-toggleable\"><input class=\"sk-toggleable__control sk-hidden--visually\" id=\"sk-estimator-id-1\" type=\"checkbox\" checked><label for=\"sk-estimator-id-1\" class=\"sk-toggleable__label sk-toggleable__label-arrow\">LinearRegression</label><div class=\"sk-toggleable__content\"><pre>LinearRegression()</pre></div></div></div></div></div>"
     },
     "execution_count": 27,
     "metadata": {},
     "output_type": "execute_result"
    }
   ],
   "source": [
    "reg.fit(np.array(l.index).reshape(-1,1),l[0].values.reshape(-1,1))"
   ],
   "metadata": {
    "collapsed": false,
    "pycharm": {
     "name": "#%%\n"
    }
   }
  },
  {
   "cell_type": "code",
   "execution_count": 28,
   "outputs": [],
   "source": [
    "pr=reg.predict(np.array(l.index).reshape(-1,1))"
   ],
   "metadata": {
    "collapsed": false,
    "pycharm": {
     "name": "#%%\n"
    }
   }
  },
  {
   "cell_type": "code",
   "execution_count": 29,
   "outputs": [
    {
     "data": {
      "text/plain": "array([[20408215.97777778],\n       [28343345.76111111],\n       [36278475.54444444],\n       [44213605.32777777],\n       [52148735.11111111],\n       [60083864.89444445],\n       [68018994.67777778],\n       [75954124.46111111],\n       [83889254.24444444]])"
     },
     "execution_count": 29,
     "metadata": {},
     "output_type": "execute_result"
    }
   ],
   "source": [
    "pr"
   ],
   "metadata": {
    "collapsed": false,
    "pycharm": {
     "name": "#%%\n"
    }
   }
  },
  {
   "cell_type": "code",
   "execution_count": 30,
   "outputs": [
    {
     "data": {
      "text/plain": "[<matplotlib.lines.Line2D at 0x200812746d0>]"
     },
     "execution_count": 30,
     "metadata": {},
     "output_type": "execute_result"
    },
    {
     "data": {
      "text/plain": "<Figure size 640x480 with 1 Axes>",
      "image/png": "[encoded data removed]"
     },
     "metadata": {},
     "output_type": "display_data"
    }
   ],
   "source": [
    "plt.plot(l)\n",
    "plt.plot(pr,c='red')"
   ],
   "metadata": {
    "collapsed": false,
    "pycharm": {
     "name": "#%%\n"
    }
   }
  },
  {
   "cell_type": "markdown",
   "source": [],
   "metadata": {
    "collapsed": false,
    "pycharm": {
     "name": "#%% md\n"
    }
   }
  },
  {
   "cell_type": "code",
   "execution_count": 6,
   "outputs": [],
   "source": [
    "file=open('C:\\\\Users\\ADMIN\\Desktop\\\\1.txt')\n",
    "text=file.read()"
   ],
   "metadata": {
    "collapsed": false,
    "pycharm": {
     "name": "#%%\n"
    }
   }
  },
  {
   "cell_type": "code",
   "execution_count": 7,
   "outputs": [
    {
     "data": {
      "text/plain": "'Ù§Ù\\xa0Û´Ù©ÛµÙ§Ù¨Ù¢ Û¶Ù\\xa0Ù\\xa0ÛµÛµÛ´Ù¨Ù¨ ÛµÛµÙ¨Ù£Ù§Ù¡Û¶Ù£ Û´Ù©Û´Û´ÛµÙ\\xa0Ù¡Ù\\xa0 \\n3603456 Ù£Ù£Ù¢ÛµÛµÛ´Ù\\xa0 Ù£Ù¢Ù§Ù¨Ù§Ù¡Ù¨ Ù£Ù\\xa0Ù§Ù§Ù¨Ù¨Ù¢ \\n2873459 Ù¢Û´Ù©Û¶Ù£Ù¢Ù\\xa0 Ù¢Ù¢Ù¨Û´Ù¢Ù\\xa0Ù¨ Ù¡Ù©Ù§Ù¡Û¶Ù§Ù§ \\n1228155 Ù¡Ù¡Û¶Ù¨Ù\\xa0Ù¡Ù¡ Ù¡Ù¡Û´Ù¡Û¶Ù¢Ûµ Ù¡Ù\\xa0Ù£Û¶Ù¢Ù\\xa0Ù¢ \\n4559256 Ù£Ù©Ù¢Ù£Ù¢ÛµÛµ Ù£Û¶Ù¨Ù¢Û´Û´Û´ Ù£Ù¢Ù©Û´Ù©Ù¡Û¶ \\n545787 Û´Ù¨Ù§Ù¨Ù¨Û¶ Û´Û´Ù\\xa0Û¶Ù©Ù£ Ù£Ù¨Ù¢Ù\\xa0Ù©Ù¡ \\n886267 Ù§Û´Ù£Û¶Ù§Ûµ Û¶Ù©Û´Ù¢ÛµÙ¢ Û¶Ù¡Ù¢Ù¡Ù¨Ù£ \\n13422366 Ù¡Ù\\xa0Ù£Û´Ù£Ù©Û¶Ûµ Ù©Ù¢Ù¢ÛµÙ¡Û¶Ù¢ Ù¨Ù\\xa0Ù©ÛµÙ¡Ù§Û´ \\n857910 Ù§Û¶Ù¡Ù¡Û¶Ù¨ Ù§Û´Ù§Ù¢Ù©Ù§ Û¶Ù£Ù¡Ù¡Ù§Ù©  \\n636420 ÛµÙ£ÛµÛ´Ù¨Ù¡ ÛµÙ§Ù¨Ù¢Ù£Ûµ ÛµÛµÙ¨Ù¨Û¶Û¶ \\n5593079 Û´Ù§Ù¡Ù©Ù©Ù\\xa0Ù¢ Û´Û¶Ù©ÛµÙ©Û´Û¶ Û´Ù\\xa0Ù¨Û¶Ù¡Ù¨Ù¢ \\n811572 Ù§Ù£Ù¢Û¶Û´Û¶ Û¶Ù¨ÛµÛ´Ù\\xa0Ù£ ÛµÙ¨Ù§Ù£Ù¢Ù¨ \\n4274979 Ù£Ù§Û´Û¶Ù§Ù§Ù¢ Ù£Ù¡Ù§ÛµÙ¨ÛµÙ¢ Ù¢Û¶Ù¨Ù¡Ù©Ù§Ù¨ \\n964601 Ù©Ù\\xa0Ù\\xa0Ù¨Ù©Ù\\xa0 Ù¨Û¶Ù§Ù\\xa0Ù©Û¶ Ù§Ù¨Ù¢Ù©Ù¨Ù¨ \\n589742 ÛµÙ\\xa0Ù¡Û´Û´Ù§ Û´ÛµÙ¨Ù¡Ù¢Ûµ Û´Ù¡Ù§Ù\\xa0Ù£Ûµ \\n2405742 Ù¡Ù§Ù¢Ù¢ÛµÙ§Ù© Ù¡Û´ÛµÛµÙ¡Ù\\xa0Ù¢ Ù¡Ù¡Ù©Ù§Ù\\xa0ÛµÙ© \\n4336878 Ù£Ù¨Ù¡Ù§Ù\\xa0Ù£Û¶ Ù£ÛµÛ´Ù£Ù¨Ù¢Ù¨ Ù£Ù¡Ù©Ù£Ù§Û¶Ù© \\n1143200 Ù©Û¶Ù¨Ù¢ÛµÙ§ Ù©Ù\\xa0Ù©Ù\\xa0Ù£Ù§ Ù¨Ù\\xa0ÛµÛµÛ¶Ù¢ \\n1046737 Ù¨ÛµÙ£Ù\\xa0Û´Û´ Ù§ÛµÙ§Ù¡Û´Ù§ Û¶Ù¡Û¶Ù©Û¶Ù£ \\n1440156 Ù¡Ù£Û´Û¶Ù£Ù¨Ù£ Ù¡Ù¢Ù£Ù£Û´Ù¨Ù\\xa0 Ù¡Ù\\xa0Ù§Ù¨Û´Ù¡Ûµ \\n2652413 Ù¢Ù\\xa0Ù\\xa0Û´Ù£Ù¢Ù¨ Ù¡Ù¨Û¶Ù¢ÛµÛ´Ù¢ Ù¡Û¶Ù¢Ù¢Ù©ÛµÙ¨ \\n1879385 Ù¡Ù§Ù§Ù¨ÛµÙ©Û¶ Ù¡Û¶Ù¢Ù¢Ù¡ÛµÙ© Ù¡Û´Û¶Ù¢Ù©Û¶Ûµ \\n634299 ÛµÛ´Û´Ù£ÛµÛ¶ Û´Ù©Û¶Ù§Ù£Ù© Û´Ù¡Ù¡Ù¨Ù¢Ù¨ \\n1617087 Ù¡Û´Ù¢Û¶Ù¢Ù¨Ù¨ Ù¡Ù£Ù¡ÛµÙ£Ù¨Û´ Ù¡Ù¡Û´ÛµÙ\\xa0Ù£Ù£ \\n2404861 Ù¢Ù¢Û´Ù¡Ù¨Ù©Û¶ Ù¢Ù¢Ù\\xa0Û´Ù\\xa0Û´Ù§ Ù¢Ù\\xa0Ù¨Ù¡Ù\\xa0Ù£Ù§ \\n1716527 Ù¡ÛµÙ¨Û´Û´Ù£Û´ Ù¡ÛµÙ\\xa0Ù¡Ù§Ù§Ù¨ Ù¡Ù£Û¶Ù§Ù\\xa0Ù¢Ù© \\n2922432 Ù¢Û¶Ù\\xa0Ù¢Ù\\xa0Ù\\xa0Ù¨ Ù¢Û´Ù§Ù§Ù§Û¶Ûµ Ù¢Ù¢Ù§Û´Ù£Ù¡Ù£ \\n1351257 Ù¡Ù¢Ù¢Ù¨Ù¨Ù¡Ù¢ Ù¡Ù¡Ù¨Ù¢Û¶Ù¡Ù¡ Ù¡Ù\\xa0Ù¨Ù¢Ù¡Ù\\xa0Ù© \\n1403674 Ù¡Ù\\xa0Û¶Ù¢Ù¡ÛµÛµ Ù©Ù¢Û´Û´Ù£Ù£ Ù§Û¶Ù¢Ù¢Ù\\xa0Û¶ \\n1703267 Ù¡Û¶Ù§Ù§Ù©ÛµÙ§ Ù¡Û¶ÛµÙ¡Ù£Ù¢Ù\\xa0 Ù¡ÛµÙ\\xa0ÛµÙ¨Ù¢Û¶ \\n990818 Ù¨Ù¡Ù\\xa0Û´Ù\\xa0Ù¡ Ù§Û´Û´Ù§Ù£Ûµ Û¶Ù¢Ù¢Ù¢ÛµÙ§ '"
     },
     "execution_count": 7,
     "metadata": {},
     "output_type": "execute_result"
    }
   ],
   "source": [
    "text"
   ],
   "metadata": {
    "collapsed": false,
    "pycharm": {
     "name": "#%%\n"
    }
   }
  },
  {
   "cell_type": "code",
   "execution_count": 8,
   "outputs": [],
   "source": [
    "file2=open('C:\\\\Users\\ADMIN\\Desktop\\\\2.txt','w')\n",
    "file2.write(text.replace(' ',','))\n",
    "file2.close()"
   ],
   "metadata": {
    "collapsed": false,
    "pycharm": {
     "name": "#%%\n"
    }
   }
  },
  {
   "cell_type": "code",
   "execution_count": 11,
   "outputs": [
    {
     "data": {
      "text/plain": "        1385      1375      1370      1365\n0   ٧٠۴٩۵٧٨٢  ۶٠٠۵۵۴٨٨  ۵۵٨٣٧١۶٣  ۴٩۴۴۵٠١٠\n1    3603456   ٣٣٢۵۵۴٠   ٣٢٧٨٧١٨   ٣٠٧٧٨٨٢\n2    2873459   ٢۴٩۶٣٢٠   ٢٢٨۴٢٠٨   ١٩٧١۶٧٧\n3    1228155   ١١۶٨٠١١   ١١۴١۶٢۵   ١٠٣۶٢٠٢\n4    4559256   ٣٩٢٣٢۵۵   ٣۶٨٢۴۴۴   ٣٢٩۴٩١۶\n5     545787    ۴٨٧٨٨۶    ۴۴٠۶٩٣    ٣٨٢٠٩١\n6     886267    ٧۴٣۶٧۵    ۶٩۴٢۵٢    ۶١٢١٨٣\n7   13422366  ١٠٣۴٣٩۶۵   ٩٢٢۵١۶٢   ٨٠٩۵١٧۴\n8     857910    ٧۶١١۶٨    ٧۴٧٢٩٧    ۶٣١١٧٩\n9     636420    ۵٣۵۴٨١    ۵٧٨٢٣۵    ۵۵٨٨۶۶\n10   5593079   ۴٧١٩٩٠٢   ۴۶٩۵٩۴۶   ۴٠٨۶١٨٢\n11    811572    ٧٣٢۶۴۶    ۶٨۵۴٠٣    ۵٨٧٣٢٨\n12   4274979   ٣٧۴۶٧٧٢   ٣١٧۵٨۵٢   ٢۶٨١٩٧٨\n13    964601    ٩٠٠٨٩٠    ٨۶٧٠٩۶    ٧٨٢٩٨٨\n14    589742    ۵٠١۴۴٧    ۴۵٨١٢۵    ۴١٧٠٣۵\n15   2405742   ١٧٢٢۵٧٩   ١۴۵۵١٠٢   ١١٩٧٠۵٩\n16   4336878   ٣٨١٧٠٣۶   ٣۵۴٣٨٢٨   ٣١٩٣٧۶٩\n17   1143200    ٩۶٨٢۵٧    ٩٠٩٠٣٧    ٨٠۵۵۶٢\n18   1046737    ٨۵٣٠۴۴    ٧۵٧١۴٧    ۶١۶٩۶٣\n19   1440156   ١٣۴۶٣٨٣   ١٢٣٣۴٨٠   ١٠٧٨۴١۵\n20   2652413   ٢٠٠۴٣٢٨   ١٨۶٢۵۴٢   ١۶٢٢٩۵٨\n21   1879385   ١٧٧٨۵٩۶   ١۶٢٢١۵٩   ١۴۶٢٩۶۵\n22    634299    ۵۴۴٣۵۶    ۴٩۶٧٣٩    ۴١١٨٢٨\n23   1617087   ١۴٢۶٢٨٨   ١٣١۵٣٨۴   ١١۴۵٠٣٣\n24   2404861   ٢٢۴١٨٩۶   ٢٢٠۴٠۴٧   ٢٠٨١٠٣٧\n25   1716527   ١۵٨۴۴٣۴   ١۵٠١٧٧٨   ١٣۶٧٠٢٩\n26   2922432   ٢۶٠٢٠٠٨   ٢۴٧٧٧۶۵   ٢٢٧۴٣١٣\n27   1351257   ١٢٢٨٨١٢   ١١٨٢۶١١   ١٠٨٢١٠٩\n28   1403674   ١٠۶٢١۵۵    ٩٢۴۴٣٣    ٧۶٢٢٠۶\n29   1703267   ١۶٧٧٩۵٧   ١۶۵١٣٢٠   ١۵٠۵٨٢۶\n30    990818    ٨١٠۴٠١    ٧۴۴٧٣۵    ۶٢٢٢۵٧",
      "text/html": "<div>\n<style scoped>\n    .dataframe tbody tr th:only-of-type {\n        vertical-align: middle;\n    }\n\n    .dataframe tbody tr th {\n        vertical-align: top;\n    }\n\n    .dataframe thead th {\n        text-align: right;\n    }\n</style>\n<table border=\"1\" class=\"dataframe\">\n  <thead>\n    <tr style=\"text-align: right;\">\n      <th></th>\n      <th>1385</th>\n      <th>1375</th>\n      <th>1370</th>\n      <th>1365</th>\n    </tr>\n  </thead>\n  <tbody>\n    <tr>\n      <th>0</th>\n      <td>٧٠۴٩۵٧٨٢</td>\n      <td>۶٠٠۵۵۴٨٨</td>\n      <td>۵۵٨٣٧١۶٣</td>\n      <td>۴٩۴۴۵٠١٠</td>\n    </tr>\n    <tr>\n      <th>1</th>\n      <td>3603456</td>\n      <td>٣٣٢۵۵۴٠</td>\n      <td>٣٢٧٨٧١٨</td>\n      <td>٣٠٧٧٨٨٢</td>\n    </tr>\n    <tr>\n      <th>2</th>\n      <td>2873459</td>\n      <td>٢۴٩۶٣٢٠</td>\n      <td>٢٢٨۴٢٠٨</td>\n      <td>١٩٧١۶٧٧</td>\n    </tr>\n    <tr>\n      <th>3</th>\n      <td>1228155</td>\n      <td>١١۶٨٠١١</td>\n      <td>١١۴١۶٢۵</td>\n      <td>١٠٣۶٢٠٢</td>\n    </tr>\n    <tr>\n      <th>4</th>\n      <td>4559256</td>\n      <td>٣٩٢٣٢۵۵</td>\n      <td>٣۶٨٢۴۴۴</td>\n      <td>٣٢٩۴٩١۶</td>\n    </tr>\n    <tr>\n      <th>5</th>\n      <td>545787</td>\n      <td>۴٨٧٨٨۶</td>\n      <td>۴۴٠۶٩٣</td>\n      <td>٣٨٢٠٩١</td>\n    </tr>\n    <tr>\n      <th>6</th>\n      <td>886267</td>\n      <td>٧۴٣۶٧۵</td>\n      <td>۶٩۴٢۵٢</td>\n      <td>۶١٢١٨٣</td>\n    </tr>\n    <tr>\n      <th>7</th>\n      <td>13422366</td>\n      <td>١٠٣۴٣٩۶۵</td>\n      <td>٩٢٢۵١۶٢</td>\n      <td>٨٠٩۵١٧۴</td>\n    </tr>\n    <tr>\n      <th>8</th>\n      <td>857910</td>\n      <td>٧۶١١۶٨</td>\n      <td>٧۴٧٢٩٧</td>\n      <td>۶٣١١٧٩</td>\n    </tr>\n    <tr>\n      <th>9</th>\n      <td>636420</td>\n      <td>۵٣۵۴٨١</td>\n      <td>۵٧٨٢٣۵</td>\n      <td>۵۵٨٨۶۶</td>\n    </tr>\n    <tr>\n      <th>10</th>\n      <td>5593079</td>\n      <td>۴٧١٩٩٠٢</td>\n      <td>۴۶٩۵٩۴۶</td>\n      <td>۴٠٨۶١٨٢</td>\n    </tr>\n    <tr>\n      <th>11</th>\n      <td>811572</td>\n      <td>٧٣٢۶۴۶</td>\n      <td>۶٨۵۴٠٣</td>\n      <td>۵٨٧٣٢٨</td>\n    </tr>\n    <tr>\n      <th>12</th>\n      <td>4274979</td>\n      <td>٣٧۴۶٧٧٢</td>\n      <td>٣١٧۵٨۵٢</td>\n      <td>٢۶٨١٩٧٨</td>\n    </tr>\n    <tr>\n      <th>13</th>\n      <td>964601</td>\n      <td>٩٠٠٨٩٠</td>\n      <td>٨۶٧٠٩۶</td>\n      <td>٧٨٢٩٨٨</td>\n    </tr>\n    <tr>\n      <th>14</th>\n      <td>589742</td>\n      <td>۵٠١۴۴٧</td>\n      <td>۴۵٨١٢۵</td>\n      <td>۴١٧٠٣۵</td>\n    </tr>\n    <tr>\n      <th>15</th>\n      <td>2405742</td>\n      <td>١٧٢٢۵٧٩</td>\n      <td>١۴۵۵١٠٢</td>\n      <td>١١٩٧٠۵٩</td>\n    </tr>\n    <tr>\n      <th>16</th>\n      <td>4336878</td>\n      <td>٣٨١٧٠٣۶</td>\n      <td>٣۵۴٣٨٢٨</td>\n      <td>٣١٩٣٧۶٩</td>\n    </tr>\n    <tr>\n      <th>17</th>\n      <td>1143200</td>\n      <td>٩۶٨٢۵٧</td>\n      <td>٩٠٩٠٣٧</td>\n      <td>٨٠۵۵۶٢</td>\n    </tr>\n    <tr>\n      <th>18</th>\n      <td>1046737</td>\n      <td>٨۵٣٠۴۴</td>\n      <td>٧۵٧١۴٧</td>\n      <td>۶١۶٩۶٣</td>\n    </tr>\n    <tr>\n      <th>19</th>\n      <td>1440156</td>\n      <td>١٣۴۶٣٨٣</td>\n      <td>١٢٣٣۴٨٠</td>\n      <td>١٠٧٨۴١۵</td>\n    </tr>\n    <tr>\n      <th>20</th>\n      <td>2652413</td>\n      <td>٢٠٠۴٣٢٨</td>\n      <td>١٨۶٢۵۴٢</td>\n      <td>١۶٢٢٩۵٨</td>\n    </tr>\n    <tr>\n      <th>21</th>\n      <td>1879385</td>\n      <td>١٧٧٨۵٩۶</td>\n      <td>١۶٢٢١۵٩</td>\n      <td>١۴۶٢٩۶۵</td>\n    </tr>\n    <tr>\n      <th>22</th>\n      <td>634299</td>\n      <td>۵۴۴٣۵۶</td>\n      <td>۴٩۶٧٣٩</td>\n      <td>۴١١٨٢٨</td>\n    </tr>\n    <tr>\n      <th>23</th>\n      <td>1617087</td>\n      <td>١۴٢۶٢٨٨</td>\n      <td>١٣١۵٣٨۴</td>\n      <td>١١۴۵٠٣٣</td>\n    </tr>\n    <tr>\n      <th>24</th>\n      <td>2404861</td>\n      <td>٢٢۴١٨٩۶</td>\n      <td>٢٢٠۴٠۴٧</td>\n      <td>٢٠٨١٠٣٧</td>\n    </tr>\n    <tr>\n      <th>25</th>\n      <td>1716527</td>\n      <td>١۵٨۴۴٣۴</td>\n      <td>١۵٠١٧٧٨</td>\n      <td>١٣۶٧٠٢٩</td>\n    </tr>\n    <tr>\n      <th>26</th>\n      <td>2922432</td>\n      <td>٢۶٠٢٠٠٨</td>\n      <td>٢۴٧٧٧۶۵</td>\n      <td>٢٢٧۴٣١٣</td>\n    </tr>\n    <tr>\n      <th>27</th>\n      <td>1351257</td>\n      <td>١٢٢٨٨١٢</td>\n      <td>١١٨٢۶١١</td>\n      <td>١٠٨٢١٠٩</td>\n    </tr>\n    <tr>\n      <th>28</th>\n      <td>1403674</td>\n      <td>١٠۶٢١۵۵</td>\n      <td>٩٢۴۴٣٣</td>\n      <td>٧۶٢٢٠۶</td>\n    </tr>\n    <tr>\n      <th>29</th>\n      <td>1703267</td>\n      <td>١۶٧٧٩۵٧</td>\n      <td>١۶۵١٣٢٠</td>\n      <td>١۵٠۵٨٢۶</td>\n    </tr>\n    <tr>\n      <th>30</th>\n      <td>990818</td>\n      <td>٨١٠۴٠١</td>\n      <td>٧۴۴٧٣۵</td>\n      <td>۶٢٢٢۵٧</td>\n    </tr>\n  </tbody>\n</table>\n</div>"
     },
     "execution_count": 11,
     "metadata": {},
     "output_type": "execute_result"
    }
   ],
   "source": [
    "df2=pd.read_csv('C:\\\\Users\\ADMIN\\Desktop\\\\2.csv')\n",
    "df2"
   ],
   "metadata": {
    "collapsed": false,
    "pycharm": {
     "name": "#%%\n"
    }
   }
  },
  {
   "cell_type": "code",
   "execution_count": 57,
   "outputs": [],
   "source": [
    "def english(num:str):\n",
    "    if type(num)==type(''):\n",
    "        dicy={'۱':'1','۲':'2','۳':'3','۴':'4','۵':'5','۶':'6','۷':'7','۸':'8','۹':'9','۰':'0','٠':'0','٨':'8','٣':'3','٢':'2','٩':'9','١':'1','٧':'7'}\n",
    "        s=''\n",
    "        if num[0] in dicy.keys():\n",
    "            for i in num:\n",
    "                if i in dicy.keys():\n",
    "                    s+=dicy[i]\n",
    "            return float(s)\n",
    "        return num"
   ],
   "metadata": {
    "collapsed": false,
    "pycharm": {
     "name": "#%%\n"
    }
   }
  },
  {
   "cell_type": "code",
   "execution_count": 58,
   "outputs": [
    {
     "data": {
      "text/plain": "'٧۴٣۶٧۵'"
     },
     "execution_count": 58,
     "metadata": {},
     "output_type": "execute_result"
    }
   ],
   "source": [
    "df2['1375'][6]"
   ],
   "metadata": {
    "collapsed": false,
    "pycharm": {
     "name": "#%%\n"
    }
   }
  },
  {
   "cell_type": "code",
   "execution_count": 59,
   "outputs": [
    {
     "data": {
      "text/plain": "743675.0"
     },
     "execution_count": 59,
     "metadata": {},
     "output_type": "execute_result"
    }
   ],
   "source": [
    "english(df2['1375'][6])"
   ],
   "metadata": {
    "collapsed": false,
    "pycharm": {
     "name": "#%%\n"
    }
   }
  },
  {
   "cell_type": "code",
   "execution_count": 60,
   "outputs": [
    {
     "name": "stdout",
     "output_type": "stream",
     "text": [
      "70495782.0\n",
      "3603456\n",
      "2873459\n",
      "1228155\n",
      "4559256\n",
      "545787\n",
      "886267\n",
      "13422366\n",
      "857910\n",
      "636420\n",
      "5593079\n",
      "811572\n",
      "4274979\n",
      "964601\n",
      "589742\n",
      "2405742\n",
      "4336878\n",
      "1143200\n",
      "1046737\n",
      "1440156\n",
      "2652413\n",
      "1879385\n",
      "634299\n",
      "1617087\n",
      "2404861\n",
      "1716527\n",
      "2922432\n",
      "1351257\n",
      "1403674\n",
      "1703267\n",
      "990818\n",
      "60055488.0\n",
      "3325540.0\n",
      "2496320.0\n",
      "1168011.0\n",
      "3923255.0\n",
      "487886.0\n",
      "743675.0\n",
      "10343965.0\n",
      "761168.0\n",
      "535481.0\n",
      "4719902.0\n",
      "732646.0\n",
      "3746772.0\n",
      "900890.0\n",
      "501447.0\n",
      "1722579.0\n",
      "3817036.0\n",
      "968257.0\n",
      "853044.0\n",
      "1346383.0\n",
      "2004328.0\n",
      "1778596.0\n",
      "544356.0\n",
      "1426288.0\n",
      "2241896.0\n",
      "1584434.0\n",
      "2602008.0\n",
      "1228812.0\n",
      "1062155.0\n",
      "1677957.0\n",
      "810401.0\n",
      "55837163.0\n",
      "3278718.0\n",
      "2284208.0\n",
      "1141625.0\n",
      "3682444.0\n",
      "440693.0\n",
      "694252.0\n",
      "9225162.0\n",
      "747297.0\n",
      "578235.0\n",
      "4695946.0\n",
      "685403.0\n",
      "3175852.0\n",
      "867096.0\n",
      "458125.0\n",
      "1455102.0\n",
      "3543828.0\n",
      "909037.0\n",
      "757147.0\n",
      "1233480.0\n",
      "1862542.0\n",
      "1622159.0\n",
      "496739.0\n",
      "1315384.0\n",
      "2204047.0\n",
      "1501778.0\n",
      "2477765.0\n",
      "1182611.0\n",
      "924433.0\n",
      "1651320.0\n",
      "744735.0\n",
      "49445010.0\n",
      "3077882.0\n",
      "1971677.0\n",
      "1036202.0\n",
      "3294916.0\n",
      "382091.0\n",
      "612183.0\n",
      "8095174.0\n",
      "631179.0\n",
      "558866.0\n",
      "4086182.0\n",
      "587328.0\n",
      "2681978.0\n",
      "782988.0\n",
      "417035.0\n",
      "1197059.0\n",
      "3193769.0\n",
      "805562.0\n",
      "616963.0\n",
      "1078415.0\n",
      "1622958.0\n",
      "1462965.0\n",
      "411828.0\n",
      "1145033.0\n",
      "2081037.0\n",
      "1367029.0\n",
      "2274313.0\n",
      "1082109.0\n",
      "762206.0\n",
      "1505826.0\n",
      "622257.0\n"
     ]
    }
   ],
   "source": [
    "for i in df2.columns:\n",
    "    for j in df2.index:\n",
    "        print(english(df2[i][j]))"
   ],
   "metadata": {
    "collapsed": false,
    "pycharm": {
     "name": "#%%\n"
    }
   }
  },
  {
   "cell_type": "code",
   "execution_count": 61,
   "outputs": [],
   "source": [
    "def all_english(data_):\n",
    "    l=[]\n",
    "    for i in data_:\n",
    "        l.append(english(i))\n",
    "    return np.array(l)"
   ],
   "metadata": {
    "collapsed": false,
    "pycharm": {
     "name": "#%%\n"
    }
   }
  },
  {
   "cell_type": "code",
   "execution_count": 69,
   "outputs": [
    {
     "data": {
      "text/plain": "array([49445010.,  3077882.,  1971677.,  1036202.,  3294916.,   382091.,\n         612183.,  8095174.,   631179.,   558866.,  4086182.,   587328.,\n        2681978.,   782988.,   417035.,  1197059.,  3193769.,   805562.,\n         616963.,  1078415.,  1622958.,  1462965.,   411828.,  1145033.,\n        2081037.,  1367029.,  2274313.,  1082109.,   762206.,  1505826.,\n         622257.])"
     },
     "execution_count": 69,
     "metadata": {},
     "output_type": "execute_result"
    }
   ],
   "source": [
    "all_english(df2['1365'])"
   ],
   "metadata": {
    "collapsed": false,
    "pycharm": {
     "name": "#%%\n"
    }
   }
  },
  {
   "cell_type": "code",
   "execution_count": 73,
   "outputs": [],
   "source": [
    "l2=[]\n",
    "for i in df2.columns:\n",
    "    l2.append(all_english(df2[i]))"
   ],
   "metadata": {
    "collapsed": false,
    "pycharm": {
     "name": "#%%\n"
    }
   }
  },
  {
   "cell_type": "code",
   "execution_count": 75,
   "outputs": [
    {
     "data": {
      "text/plain": "array([['70495782.0', '60055488.0', '55837163.0', '49445010.0'],\n       ['3603456', '3325540.0', '3278718.0', '3077882.0'],\n       ['2873459', '2496320.0', '2284208.0', '1971677.0'],\n       ['1228155', '1168011.0', '1141625.0', '1036202.0'],\n       ['4559256', '3923255.0', '3682444.0', '3294916.0'],\n       ['545787', '487886.0', '440693.0', '382091.0'],\n       ['886267', '743675.0', '694252.0', '612183.0'],\n       ['13422366', '10343965.0', '9225162.0', '8095174.0'],\n       ['857910', '761168.0', '747297.0', '631179.0'],\n       ['636420', '535481.0', '578235.0', '558866.0'],\n       ['5593079', '4719902.0', '4695946.0', '4086182.0'],\n       ['811572', '732646.0', '685403.0', '587328.0'],\n       ['4274979', '3746772.0', '3175852.0', '2681978.0'],\n       ['964601', '900890.0', '867096.0', '782988.0'],\n       ['589742', '501447.0', '458125.0', '417035.0'],\n       ['2405742', '1722579.0', '1455102.0', '1197059.0'],\n       ['4336878', '3817036.0', '3543828.0', '3193769.0'],\n       ['1143200', '968257.0', '909037.0', '805562.0'],\n       ['1046737', '853044.0', '757147.0', '616963.0'],\n       ['1440156', '1346383.0', '1233480.0', '1078415.0'],\n       ['2652413', '2004328.0', '1862542.0', '1622958.0'],\n       ['1879385', '1778596.0', '1622159.0', '1462965.0'],\n       ['634299', '544356.0', '496739.0', '411828.0'],\n       ['1617087', '1426288.0', '1315384.0', '1145033.0'],\n       ['2404861', '2241896.0', '2204047.0', '2081037.0'],\n       ['1716527', '1584434.0', '1501778.0', '1367029.0'],\n       ['2922432', '2602008.0', '2477765.0', '2274313.0'],\n       ['1351257', '1228812.0', '1182611.0', '1082109.0'],\n       ['1403674', '1062155.0', '924433.0', '762206.0'],\n       ['1703267', '1677957.0', '1651320.0', '1505826.0'],\n       ['990818', '810401.0', '744735.0', '622257.0']], dtype='<U32')"
     },
     "execution_count": 75,
     "metadata": {},
     "output_type": "execute_result"
    }
   ],
   "source": [
    "l2=np.array(l2).T\n",
    "l2"
   ],
   "metadata": {
    "collapsed": false,
    "pycharm": {
     "name": "#%%\n"
    }
   }
  },
  {
   "cell_type": "code",
   "execution_count": 71,
   "outputs": [
    {
     "data": {
      "text/plain": "        1385      1375      1370      1365\n0   ٧٠۴٩۵٧٨٢  ۶٠٠۵۵۴٨٨  ۵۵٨٣٧١۶٣  ۴٩۴۴۵٠١٠\n1    3603456   ٣٣٢۵۵۴٠   ٣٢٧٨٧١٨   ٣٠٧٧٨٨٢\n2    2873459   ٢۴٩۶٣٢٠   ٢٢٨۴٢٠٨   ١٩٧١۶٧٧\n3    1228155   ١١۶٨٠١١   ١١۴١۶٢۵   ١٠٣۶٢٠٢\n4    4559256   ٣٩٢٣٢۵۵   ٣۶٨٢۴۴۴   ٣٢٩۴٩١۶\n5     545787    ۴٨٧٨٨۶    ۴۴٠۶٩٣    ٣٨٢٠٩١\n6     886267    ٧۴٣۶٧۵    ۶٩۴٢۵٢    ۶١٢١٨٣\n7   13422366  ١٠٣۴٣٩۶۵   ٩٢٢۵١۶٢   ٨٠٩۵١٧۴\n8     857910    ٧۶١١۶٨    ٧۴٧٢٩٧    ۶٣١١٧٩\n9     636420    ۵٣۵۴٨١    ۵٧٨٢٣۵    ۵۵٨٨۶۶\n10   5593079   ۴٧١٩٩٠٢   ۴۶٩۵٩۴۶   ۴٠٨۶١٨٢\n11    811572    ٧٣٢۶۴۶    ۶٨۵۴٠٣    ۵٨٧٣٢٨\n12   4274979   ٣٧۴۶٧٧٢   ٣١٧۵٨۵٢   ٢۶٨١٩٧٨\n13    964601    ٩٠٠٨٩٠    ٨۶٧٠٩۶    ٧٨٢٩٨٨\n14    589742    ۵٠١۴۴٧    ۴۵٨١٢۵    ۴١٧٠٣۵\n15   2405742   ١٧٢٢۵٧٩   ١۴۵۵١٠٢   ١١٩٧٠۵٩\n16   4336878   ٣٨١٧٠٣۶   ٣۵۴٣٨٢٨   ٣١٩٣٧۶٩\n17   1143200    ٩۶٨٢۵٧    ٩٠٩٠٣٧    ٨٠۵۵۶٢\n18   1046737    ٨۵٣٠۴۴    ٧۵٧١۴٧    ۶١۶٩۶٣\n19   1440156   ١٣۴۶٣٨٣   ١٢٣٣۴٨٠   ١٠٧٨۴١۵\n20   2652413   ٢٠٠۴٣٢٨   ١٨۶٢۵۴٢   ١۶٢٢٩۵٨\n21   1879385   ١٧٧٨۵٩۶   ١۶٢٢١۵٩   ١۴۶٢٩۶۵\n22    634299    ۵۴۴٣۵۶    ۴٩۶٧٣٩    ۴١١٨٢٨\n23   1617087   ١۴٢۶٢٨٨   ١٣١۵٣٨۴   ١١۴۵٠٣٣\n24   2404861   ٢٢۴١٨٩۶   ٢٢٠۴٠۴٧   ٢٠٨١٠٣٧\n25   1716527   ١۵٨۴۴٣۴   ١۵٠١٧٧٨   ١٣۶٧٠٢٩\n26   2922432   ٢۶٠٢٠٠٨   ٢۴٧٧٧۶۵   ٢٢٧۴٣١٣\n27   1351257   ١٢٢٨٨١٢   ١١٨٢۶١١   ١٠٨٢١٠٩\n28   1403674   ١٠۶٢١۵۵    ٩٢۴۴٣٣    ٧۶٢٢٠۶\n29   1703267   ١۶٧٧٩۵٧   ١۶۵١٣٢٠   ١۵٠۵٨٢۶\n30    990818    ٨١٠۴٠١    ٧۴۴٧٣۵    ۶٢٢٢۵٧",
      "text/html": "<div>\n<style scoped>\n    .dataframe tbody tr th:only-of-type {\n        vertical-align: middle;\n    }\n\n    .dataframe tbody tr th {\n        vertical-align: top;\n    }\n\n    .dataframe thead th {\n        text-align: right;\n    }\n</style>\n<table border=\"1\" class=\"dataframe\">\n  <thead>\n    <tr style=\"text-align: right;\">\n      <th></th>\n      <th>1385</th>\n      <th>1375</th>\n      <th>1370</th>\n      <th>1365</th>\n    </tr>\n  </thead>\n  <tbody>\n    <tr>\n      <th>0</th>\n      <td>٧٠۴٩۵٧٨٢</td>\n      <td>۶٠٠۵۵۴٨٨</td>\n      <td>۵۵٨٣٧١۶٣</td>\n      <td>۴٩۴۴۵٠١٠</td>\n    </tr>\n    <tr>\n      <th>1</th>\n      <td>3603456</td>\n      <td>٣٣٢۵۵۴٠</td>\n      <td>٣٢٧٨٧١٨</td>\n      <td>٣٠٧٧٨٨٢</td>\n    </tr>\n    <tr>\n      <th>2</th>\n      <td>2873459</td>\n      <td>٢۴٩۶٣٢٠</td>\n      <td>٢٢٨۴٢٠٨</td>\n      <td>١٩٧١۶٧٧</td>\n    </tr>\n    <tr>\n      <th>3</th>\n      <td>1228155</td>\n      <td>١١۶٨٠١١</td>\n      <td>١١۴١۶٢۵</td>\n      <td>١٠٣۶٢٠٢</td>\n    </tr>\n    <tr>\n      <th>4</th>\n      <td>4559256</td>\n      <td>٣٩٢٣٢۵۵</td>\n      <td>٣۶٨٢۴۴۴</td>\n      <td>٣٢٩۴٩١۶</td>\n    </tr>\n    <tr>\n      <th>5</th>\n      <td>545787</td>\n      <td>۴٨٧٨٨۶</td>\n      <td>۴۴٠۶٩٣</td>\n      <td>٣٨٢٠٩١</td>\n    </tr>\n    <tr>\n      <th>6</th>\n      <td>886267</td>\n      <td>٧۴٣۶٧۵</td>\n      <td>۶٩۴٢۵٢</td>\n      <td>۶١٢١٨٣</td>\n    </tr>\n    <tr>\n      <th>7</th>\n      <td>13422366</td>\n      <td>١٠٣۴٣٩۶۵</td>\n      <td>٩٢٢۵١۶٢</td>\n      <td>٨٠٩۵١٧۴</td>\n    </tr>\n    <tr>\n      <th>8</th>\n      <td>857910</td>\n      <td>٧۶١١۶٨</td>\n      <td>٧۴٧٢٩٧</td>\n      <td>۶٣١١٧٩</td>\n    </tr>\n    <tr>\n      <th>9</th>\n      <td>636420</td>\n      <td>۵٣۵۴٨١</td>\n      <td>۵٧٨٢٣۵</td>\n      <td>۵۵٨٨۶۶</td>\n    </tr>\n    <tr>\n      <th>10</th>\n      <td>5593079</td>\n      <td>۴٧١٩٩٠٢</td>\n      <td>۴۶٩۵٩۴۶</td>\n      <td>۴٠٨۶١٨٢</td>\n    </tr>\n    <tr>\n      <th>11</th>\n      <td>811572</td>\n      <td>٧٣٢۶۴۶</td>\n      <td>۶٨۵۴٠٣</td>\n      <td>۵٨٧٣٢٨</td>\n    </tr>\n    <tr>\n      <th>12</th>\n      <td>4274979</td>\n      <td>٣٧۴۶٧٧٢</td>\n      <td>٣١٧۵٨۵٢</td>\n      <td>٢۶٨١٩٧٨</td>\n    </tr>\n    <tr>\n      <th>13</th>\n      <td>964601</td>\n      <td>٩٠٠٨٩٠</td>\n      <td>٨۶٧٠٩۶</td>\n      <td>٧٨٢٩٨٨</td>\n    </tr>\n    <tr>\n      <th>14</th>\n      <td>589742</td>\n      <td>۵٠١۴۴٧</td>\n      <td>۴۵٨١٢۵</td>\n      <td>۴١٧٠٣۵</td>\n    </tr>\n    <tr>\n      <th>15</th>\n      <td>2405742</td>\n      <td>١٧٢٢۵٧٩</td>\n      <td>١۴۵۵١٠٢</td>\n      <td>١١٩٧٠۵٩</td>\n    </tr>\n    <tr>\n      <th>16</th>\n      <td>4336878</td>\n      <td>٣٨١٧٠٣۶</td>\n      <td>٣۵۴٣٨٢٨</td>\n      <td>٣١٩٣٧۶٩</td>\n    </tr>\n    <tr>\n      <th>17</th>\n      <td>1143200</td>\n      <td>٩۶٨٢۵٧</td>\n      <td>٩٠٩٠٣٧</td>\n      <td>٨٠۵۵۶٢</td>\n    </tr>\n    <tr>\n      <th>18</th>\n      <td>1046737</td>\n      <td>٨۵٣٠۴۴</td>\n      <td>٧۵٧١۴٧</td>\n      <td>۶١۶٩۶٣</td>\n    </tr>\n    <tr>\n      <th>19</th>\n      <td>1440156</td>\n      <td>١٣۴۶٣٨٣</td>\n      <td>١٢٣٣۴٨٠</td>\n      <td>١٠٧٨۴١۵</td>\n    </tr>\n    <tr>\n      <th>20</th>\n      <td>2652413</td>\n      <td>٢٠٠۴٣٢٨</td>\n      <td>١٨۶٢۵۴٢</td>\n      <td>١۶٢٢٩۵٨</td>\n    </tr>\n    <tr>\n      <th>21</th>\n      <td>1879385</td>\n      <td>١٧٧٨۵٩۶</td>\n      <td>١۶٢٢١۵٩</td>\n      <td>١۴۶٢٩۶۵</td>\n    </tr>\n    <tr>\n      <th>22</th>\n      <td>634299</td>\n      <td>۵۴۴٣۵۶</td>\n      <td>۴٩۶٧٣٩</td>\n      <td>۴١١٨٢٨</td>\n    </tr>\n    <tr>\n      <th>23</th>\n      <td>1617087</td>\n      <td>١۴٢۶٢٨٨</td>\n      <td>١٣١۵٣٨۴</td>\n      <td>١١۴۵٠٣٣</td>\n    </tr>\n    <tr>\n      <th>24</th>\n      <td>2404861</td>\n      <td>٢٢۴١٨٩۶</td>\n      <td>٢٢٠۴٠۴٧</td>\n      <td>٢٠٨١٠٣٧</td>\n    </tr>\n    <tr>\n      <th>25</th>\n      <td>1716527</td>\n      <td>١۵٨۴۴٣۴</td>\n      <td>١۵٠١٧٧٨</td>\n      <td>١٣۶٧٠٢٩</td>\n    </tr>\n    <tr>\n      <th>26</th>\n      <td>2922432</td>\n      <td>٢۶٠٢٠٠٨</td>\n      <td>٢۴٧٧٧۶۵</td>\n      <td>٢٢٧۴٣١٣</td>\n    </tr>\n    <tr>\n      <th>27</th>\n      <td>1351257</td>\n      <td>١٢٢٨٨١٢</td>\n      <td>١١٨٢۶١١</td>\n      <td>١٠٨٢١٠٩</td>\n    </tr>\n    <tr>\n      <th>28</th>\n      <td>1403674</td>\n      <td>١٠۶٢١۵۵</td>\n      <td>٩٢۴۴٣٣</td>\n      <td>٧۶٢٢٠۶</td>\n    </tr>\n    <tr>\n      <th>29</th>\n      <td>1703267</td>\n      <td>١۶٧٧٩۵٧</td>\n      <td>١۶۵١٣٢٠</td>\n      <td>١۵٠۵٨٢۶</td>\n    </tr>\n    <tr>\n      <th>30</th>\n      <td>990818</td>\n      <td>٨١٠۴٠١</td>\n      <td>٧۴۴٧٣۵</td>\n      <td>۶٢٢٢۵٧</td>\n    </tr>\n  </tbody>\n</table>\n</div>"
     },
     "execution_count": 71,
     "metadata": {},
     "output_type": "execute_result"
    }
   ],
   "source": [
    "df2"
   ],
   "metadata": {
    "collapsed": false,
    "pycharm": {
     "name": "#%%\n"
    }
   }
  },
  {
   "cell_type": "code",
   "execution_count": 76,
   "outputs": [
    {
     "data": {
      "text/plain": "          1385        1375        1370        1365\n0   70495782.0  60055488.0  55837163.0  49445010.0\n1      3603456   3325540.0   3278718.0   3077882.0\n2      2873459   2496320.0   2284208.0   1971677.0\n3      1228155   1168011.0   1141625.0   1036202.0\n4      4559256   3923255.0   3682444.0   3294916.0\n5       545787    487886.0    440693.0    382091.0\n6       886267    743675.0    694252.0    612183.0\n7     13422366  10343965.0   9225162.0   8095174.0\n8       857910    761168.0    747297.0    631179.0\n9       636420    535481.0    578235.0    558866.0\n10     5593079   4719902.0   4695946.0   4086182.0\n11      811572    732646.0    685403.0    587328.0\n12     4274979   3746772.0   3175852.0   2681978.0\n13      964601    900890.0    867096.0    782988.0\n14      589742    501447.0    458125.0    417035.0\n15     2405742   1722579.0   1455102.0   1197059.0\n16     4336878   3817036.0   3543828.0   3193769.0\n17     1143200    968257.0    909037.0    805562.0\n18     1046737    853044.0    757147.0    616963.0\n19     1440156   1346383.0   1233480.0   1078415.0\n20     2652413   2004328.0   1862542.0   1622958.0\n21     1879385   1778596.0   1622159.0   1462965.0\n22      634299    544356.0    496739.0    411828.0\n23     1617087   1426288.0   1315384.0   1145033.0\n24     2404861   2241896.0   2204047.0   2081037.0\n25     1716527   1584434.0   1501778.0   1367029.0\n26     2922432   2602008.0   2477765.0   2274313.0\n27     1351257   1228812.0   1182611.0   1082109.0\n28     1403674   1062155.0    924433.0    762206.0\n29     1703267   1677957.0   1651320.0   1505826.0\n30      990818    810401.0    744735.0    622257.0",
      "text/html": "<div>\n<style scoped>\n    .dataframe tbody tr th:only-of-type {\n        vertical-align: middle;\n    }\n\n    .dataframe tbody tr th {\n        vertical-align: top;\n    }\n\n    .dataframe thead th {\n        text-align: right;\n    }\n</style>\n<table border=\"1\" class=\"dataframe\">\n  <thead>\n    <tr style=\"text-align: right;\">\n      <th></th>\n      <th>1385</th>\n      <th>1375</th>\n      <th>1370</th>\n      <th>1365</th>\n    </tr>\n  </thead>\n  <tbody>\n    <tr>\n      <th>0</th>\n      <td>70495782.0</td>\n      <td>60055488.0</td>\n      <td>55837163.0</td>\n      <td>49445010.0</td>\n    </tr>\n    <tr>\n      <th>1</th>\n      <td>3603456</td>\n      <td>3325540.0</td>\n      <td>3278718.0</td>\n      <td>3077882.0</td>\n    </tr>\n    <tr>\n      <th>2</th>\n      <td>2873459</td>\n      <td>2496320.0</td>\n      <td>2284208.0</td>\n      <td>1971677.0</td>\n    </tr>\n    <tr>\n      <th>3</th>\n      <td>1228155</td>\n      <td>1168011.0</td>\n      <td>1141625.0</td>\n      <td>1036202.0</td>\n    </tr>\n    <tr>\n      <th>4</th>\n      <td>4559256</td>\n      <td>3923255.0</td>\n      <td>3682444.0</td>\n      <td>3294916.0</td>\n    </tr>\n    <tr>\n      <th>5</th>\n      <td>545787</td>\n      <td>487886.0</td>\n      <td>440693.0</td>\n      <td>382091.0</td>\n    </tr>\n    <tr>\n      <th>6</th>\n      <td>886267</td>\n      <td>743675.0</td>\n      <td>694252.0</td>\n      <td>612183.0</td>\n    </tr>\n    <tr>\n      <th>7</th>\n      <td>13422366</td>\n      <td>10343965.0</td>\n      <td>9225162.0</td>\n      <td>8095174.0</td>\n    </tr>\n    <tr>\n      <th>8</th>\n      <td>857910</td>\n      <td>761168.0</td>\n      <td>747297.0</td>\n      <td>631179.0</td>\n    </tr>\n    <tr>\n      <th>9</th>\n      <td>636420</td>\n      <td>535481.0</td>\n      <td>578235.0</td>\n      <td>558866.0</td>\n    </tr>\n    <tr>\n      <th>10</th>\n      <td>5593079</td>\n      <td>4719902.0</td>\n      <td>4695946.0</td>\n      <td>4086182.0</td>\n    </tr>\n    <tr>\n      <th>11</th>\n      <td>811572</td>\n      <td>732646.0</td>\n      <td>685403.0</td>\n      <td>587328.0</td>\n    </tr>\n    <tr>\n      <th>12</th>\n      <td>4274979</td>\n      <td>3746772.0</td>\n      <td>3175852.0</td>\n      <td>2681978.0</td>\n    </tr>\n    <tr>\n      <th>13</th>\n      <td>964601</td>\n      <td>900890.0</td>\n      <td>867096.0</td>\n      <td>782988.0</td>\n    </tr>\n    <tr>\n      <th>14</th>\n      <td>589742</td>\n      <td>501447.0</td>\n      <td>458125.0</td>\n      <td>417035.0</td>\n    </tr>\n    <tr>\n      <th>15</th>\n      <td>2405742</td>\n      <td>1722579.0</td>\n      <td>1455102.0</td>\n      <td>1197059.0</td>\n    </tr>\n    <tr>\n      <th>16</th>\n      <td>4336878</td>\n      <td>3817036.0</td>\n      <td>3543828.0</td>\n      <td>3193769.0</td>\n    </tr>\n    <tr>\n      <th>17</th>\n      <td>1143200</td>\n      <td>968257.0</td>\n      <td>909037.0</td>\n      <td>805562.0</td>\n    </tr>\n    <tr>\n      <th>18</th>\n      <td>1046737</td>\n      <td>853044.0</td>\n      <td>757147.0</td>\n      <td>616963.0</td>\n    </tr>\n    <tr>\n      <th>19</th>\n      <td>1440156</td>\n      <td>1346383.0</td>\n      <td>1233480.0</td>\n      <td>1078415.0</td>\n    </tr>\n    <tr>\n      <th>20</th>\n      <td>2652413</td>\n      <td>2004328.0</td>\n      <td>1862542.0</td>\n      <td>1622958.0</td>\n    </tr>\n    <tr>\n      <th>21</th>\n      <td>1879385</td>\n      <td>1778596.0</td>\n      <td>1622159.0</td>\n      <td>1462965.0</td>\n    </tr>\n    <tr>\n      <th>22</th>\n      <td>634299</td>\n      <td>544356.0</td>\n      <td>496739.0</td>\n      <td>411828.0</td>\n    </tr>\n    <tr>\n      <th>23</th>\n      <td>1617087</td>\n      <td>1426288.0</td>\n      <td>1315384.0</td>\n      <td>1145033.0</td>\n    </tr>\n    <tr>\n      <th>24</th>\n      <td>2404861</td>\n      <td>2241896.0</td>\n      <td>2204047.0</td>\n      <td>2081037.0</td>\n    </tr>\n    <tr>\n      <th>25</th>\n      <td>1716527</td>\n      <td>1584434.0</td>\n      <td>1501778.0</td>\n      <td>1367029.0</td>\n    </tr>\n    <tr>\n      <th>26</th>\n      <td>2922432</td>\n      <td>2602008.0</td>\n      <td>2477765.0</td>\n      <td>2274313.0</td>\n    </tr>\n    <tr>\n      <th>27</th>\n      <td>1351257</td>\n      <td>1228812.0</td>\n      <td>1182611.0</td>\n      <td>1082109.0</td>\n    </tr>\n    <tr>\n      <th>28</th>\n      <td>1403674</td>\n      <td>1062155.0</td>\n      <td>924433.0</td>\n      <td>762206.0</td>\n    </tr>\n    <tr>\n      <th>29</th>\n      <td>1703267</td>\n      <td>1677957.0</td>\n      <td>1651320.0</td>\n      <td>1505826.0</td>\n    </tr>\n    <tr>\n      <th>30</th>\n      <td>990818</td>\n      <td>810401.0</td>\n      <td>744735.0</td>\n      <td>622257.0</td>\n    </tr>\n  </tbody>\n</table>\n</div>"
     },
     "execution_count": 76,
     "metadata": {},
     "output_type": "execute_result"
    }
   ],
   "source": [
    "df3=pd.DataFrame(l2,columns=df2.columns)\n",
    "df3"
   ],
   "metadata": {
    "collapsed": false,
    "pycharm": {
     "name": "#%%\n"
    }
   }
  },
  {
   "cell_type": "code",
   "execution_count": 77,
   "outputs": [],
   "source": [
    "df3.to_csv('C:\\\\Users\\ADMIN\\Desktop\\\\pop3.csv')"
   ],
   "metadata": {
    "collapsed": false,
    "pycharm": {
     "name": "#%%\n"
    }
   }
  },
  {
   "cell_type": "code",
   "execution_count": null,
   "outputs": [],
   "source": [],
   "metadata": {
    "collapsed": false,
    "pycharm": {
     "name": "#%%\n"
    }
   }
  }
 ],
 "metadata": {
  "kernelspec": {
   "display_name": "Python 3",
   "language": "python",
   "name": "python3"
  },
  "language_info": {
   "codemirror_mode": {
    "name": "ipython",
    "version": 2
   },
   "file_extension": ".py",
   "mimetype": "text/x-python",
   "name": "python",
   "nbconvert_exporter": "python",
   "pygments_lexer": "ipython2",
   "version": "2.7.6"
  }
 },
 "nbformat": 4,
 "nbformat_minor": 0
}