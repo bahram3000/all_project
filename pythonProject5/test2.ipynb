{
 "cells": [
  {
   "cell_type": "code",
   "execution_count": 150,
   "metadata": {
    "collapsed": true,
    "pycharm": {
     "name": "#%%\n"
    }
   },
   "outputs": [],
   "source": [
    "import numpy as np\n",
    "import pandas as pd\n",
    "import matplotlib.pyplot as plt"
   ]
  },
  {
   "cell_type": "code",
   "execution_count": 151,
   "outputs": [
    {
     "data": {
      "text/plain": "  ردیف   سال جمعیت کل ایران رشد جمعیت\n0    ۱  ۱۳۳۵     ۱۸٬۹۵۴٬۷۰۴         -\n1    ۲  ۱۳۴۵     ۲۵٬۷۸۸٬۷۲۲      ۱۳٫۳\n2    ۳  ۱۳۵۵     ۳۳٬۷۰۸٬۷۴۴      ۲٫۷۱\n3    ۴  ۱۳۶۵     ۴۹٬۴۴۵٬۰۱۰      ۳٫۹۱\n4  ۲–۴  ۱۳۷۰     ۵۵٬۸۳۷٬۱۶۳      ۲٫۴۶\n5    ۵  ۱۳۷۵     ۶۰٬۰۵۵٬۴۸۸      ۱٫۴۷\n6    ۶  ۱۳۸۵     ۷۰٬۴۷۲٬۸۴۶      ۱٫۶۱\n7    ۷  ۱۳۹۰     ۷۵٬۱۴۹٬۶۶۹      ۱٫۲۹\n8    ۸  ۱۳۹۵     ۷۹٬۹۲۶٬۲۷۰      ۱٫۲۴",
      "text/html": "<div>\n<style scoped>\n    .dataframe tbody tr th:only-of-type {\n        vertical-align: middle;\n    }\n\n    .dataframe tbody tr th {\n        vertical-align: top;\n    }\n\n    .dataframe thead th {\n        text-align: right;\n    }\n</style>\n<table border=\"1\" class=\"dataframe\">\n  <thead>\n    <tr style=\"text-align: right;\">\n      <th></th>\n      <th>ردیف</th>\n      <th>سال</th>\n      <th>جمعیت کل ایران</th>\n      <th>رشد جمعیت</th>\n    </tr>\n  </thead>\n  <tbody>\n    <tr>\n      <th>0</th>\n      <td>۱</td>\n      <td>۱۳۳۵</td>\n      <td>۱۸٬۹۵۴٬۷۰۴</td>\n      <td>-</td>\n    </tr>\n    <tr>\n      <th>1</th>\n      <td>۲</td>\n      <td>۱۳۴۵</td>\n      <td>۲۵٬۷۸۸٬۷۲۲</td>\n      <td>۱۳٫۳</td>\n    </tr>\n    <tr>\n      <th>2</th>\n      <td>۳</td>\n      <td>۱۳۵۵</td>\n      <td>۳۳٬۷۰۸٬۷۴۴</td>\n      <td>۲٫۷۱</td>\n    </tr>\n    <tr>\n      <th>3</th>\n      <td>۴</td>\n      <td>۱۳۶۵</td>\n      <td>۴۹٬۴۴۵٬۰۱۰</td>\n      <td>۳٫۹۱</td>\n    </tr>\n    <tr>\n      <th>4</th>\n      <td>۲–۴</td>\n      <td>۱۳۷۰</td>\n      <td>۵۵٬۸۳۷٬۱۶۳</td>\n      <td>۲٫۴۶</td>\n    </tr>\n    <tr>\n      <th>5</th>\n      <td>۵</td>\n      <td>۱۳۷۵</td>\n      <td>۶۰٬۰۵۵٬۴۸۸</td>\n      <td>۱٫۴۷</td>\n    </tr>\n    <tr>\n      <th>6</th>\n      <td>۶</td>\n      <td>۱۳۸۵</td>\n      <td>۷۰٬۴۷۲٬۸۴۶</td>\n      <td>۱٫۶۱</td>\n    </tr>\n    <tr>\n      <th>7</th>\n      <td>۷</td>\n      <td>۱۳۹۰</td>\n      <td>۷۵٬۱۴۹٬۶۶۹</td>\n      <td>۱٫۲۹</td>\n    </tr>\n    <tr>\n      <th>8</th>\n      <td>۸</td>\n      <td>۱۳۹۵</td>\n      <td>۷۹٬۹۲۶٬۲۷۰</td>\n      <td>۱٫۲۴</td>\n    </tr>\n  </tbody>\n</table>\n</div>"
     },
     "execution_count": 151,
     "metadata": {},
     "output_type": "execute_result"
    }
   ],
   "source": [
    "iran_pop_df=pd.read_excel('F:\\my project\\dataset\\\\my pro-datasets\\\\iran_population_simple.xlsx')\n",
    "iran_pop_df"
   ],
   "metadata": {
    "collapsed": false,
    "pycharm": {
     "name": "#%%\n"
    }
   }
  },
  {
   "cell_type": "code",
   "execution_count": 152,
   "outputs": [
    {
     "data": {
      "text/plain": "    سال جمعیت کل ایران\n0  ۱۳۳۵     ۱۸٬۹۵۴٬۷۰۴\n1  ۱۳۴۵     ۲۵٬۷۸۸٬۷۲۲\n2  ۱۳۵۵     ۳۳٬۷۰۸٬۷۴۴\n3  ۱۳۶۵     ۴۹٬۴۴۵٬۰۱۰\n4  ۱۳۷۰     ۵۵٬۸۳۷٬۱۶۳\n5  ۱۳۷۵     ۶۰٬۰۵۵٬۴۸۸\n6  ۱۳۸۵     ۷۰٬۴۷۲٬۸۴۶\n7  ۱۳۹۰     ۷۵٬۱۴۹٬۶۶۹\n8  ۱۳۹۵     ۷۹٬۹۲۶٬۲۷۰",
      "text/html": "<div>\n<style scoped>\n    .dataframe tbody tr th:only-of-type {\n        vertical-align: middle;\n    }\n\n    .dataframe tbody tr th {\n        vertical-align: top;\n    }\n\n    .dataframe thead th {\n        text-align: right;\n    }\n</style>\n<table border=\"1\" class=\"dataframe\">\n  <thead>\n    <tr style=\"text-align: right;\">\n      <th></th>\n      <th>سال</th>\n      <th>جمعیت کل ایران</th>\n    </tr>\n  </thead>\n  <tbody>\n    <tr>\n      <th>0</th>\n      <td>۱۳۳۵</td>\n      <td>۱۸٬۹۵۴٬۷۰۴</td>\n    </tr>\n    <tr>\n      <th>1</th>\n      <td>۱۳۴۵</td>\n      <td>۲۵٬۷۸۸٬۷۲۲</td>\n    </tr>\n    <tr>\n      <th>2</th>\n      <td>۱۳۵۵</td>\n      <td>۳۳٬۷۰۸٬۷۴۴</td>\n    </tr>\n    <tr>\n      <th>3</th>\n      <td>۱۳۶۵</td>\n      <td>۴۹٬۴۴۵٬۰۱۰</td>\n    </tr>\n    <tr>\n      <th>4</th>\n      <td>۱۳۷۰</td>\n      <td>۵۵٬۸۳۷٬۱۶۳</td>\n    </tr>\n    <tr>\n      <th>5</th>\n      <td>۱۳۷۵</td>\n      <td>۶۰٬۰۵۵٬۴۸۸</td>\n    </tr>\n    <tr>\n      <th>6</th>\n      <td>۱۳۸۵</td>\n      <td>۷۰٬۴۷۲٬۸۴۶</td>\n    </tr>\n    <tr>\n      <th>7</th>\n      <td>۱۳۹۰</td>\n      <td>۷۵٬۱۴۹٬۶۶۹</td>\n    </tr>\n    <tr>\n      <th>8</th>\n      <td>۱۳۹۵</td>\n      <td>۷۹٬۹۲۶٬۲۷۰</td>\n    </tr>\n  </tbody>\n</table>\n</div>"
     },
     "execution_count": 152,
     "metadata": {},
     "output_type": "execute_result"
    }
   ],
   "source": [
    "iran_pop_df.drop(['ردیف','رشد جمعیت'],axis=1,inplace=True)\n",
    "iran_pop_df"
   ],
   "metadata": {
    "collapsed": false,
    "pycharm": {
     "name": "#%%\n"
    }
   }
  },
  {
   "cell_type": "code",
   "execution_count": 153,
   "outputs": [
    {
     "data": {
      "text/plain": "                    Country Name Country Code                 Indicator Name  \\\n0                          Aruba          ABW  GDP per capita (constant LCU)   \n1    Africa Eastern and Southern          AFE  GDP per capita (constant LCU)   \n2                    Afghanistan          AFG  GDP per capita (constant LCU)   \n3     Africa Western and Central          AFW  GDP per capita (constant LCU)   \n4                         Angola          AGO  GDP per capita (constant LCU)   \n..                           ...          ...                            ...   \n261                       Kosovo          XKX  GDP per capita (constant LCU)   \n262                  Yemen, Rep.          YEM  GDP per capita (constant LCU)   \n263                 South Africa          ZAF  GDP per capita (constant LCU)   \n264                       Zambia          ZMB  GDP per capita (constant LCU)   \n265                     Zimbabwe          ZWE  GDP per capita (constant LCU)   \n\n     Indicator Code          1960          1961          1962          1963  \\\n0    NY.GDP.PCAP.KN           NaN           NaN           NaN           NaN   \n1    NY.GDP.PCAP.KN           NaN           NaN           NaN           NaN   \n2    NY.GDP.PCAP.KN           NaN           NaN           NaN           NaN   \n3    NY.GDP.PCAP.KN           NaN           NaN           NaN           NaN   \n4    NY.GDP.PCAP.KN           NaN           NaN           NaN           NaN   \n..              ...           ...           ...           ...           ...   \n261  NY.GDP.PCAP.KN           NaN           NaN           NaN           NaN   \n262  NY.GDP.PCAP.KN           NaN           NaN           NaN           NaN   \n263  NY.GDP.PCAP.KN  50671.710277  51167.241062  52733.930548  54930.561464   \n264  NY.GDP.PCAP.KN   7063.137721   6936.871069   6552.465091   6553.995782   \n265  NY.GDP.PCAP.KN  11702.838628  12062.842514  11861.756233  12215.880335   \n\n             1964          1965  ...          2013          2014  \\\n0             NaN           NaN  ...  47463.063764  47126.281445   \n1             NaN           NaN  ...           NaN           NaN   \n2             NaN           NaN  ...  36381.414679  36030.405579   \n3             NaN           NaN  ...           NaN           NaN   \n4             NaN           NaN  ...  58952.230692  59558.414329   \n..            ...           ...  ...           ...           ...   \n261           NaN           NaN  ...   2443.124892   2532.386606   \n262           NaN           NaN  ...  13539.149104  13139.014540   \n263  57504.188684  59167.327958  ...  79858.964286  79721.430691   \n264   7123.281483   8047.315901  ...   7614.518067   7717.537014   \n265  11709.665763  11906.737799  ...  14635.117719  14530.448796   \n\n             2015          2016          2017          2018          2019  \\\n0    48485.952982  49220.969926  51641.233320  54088.165959  54186.182258   \n1             NaN           NaN           NaN           NaN           NaN   \n2    35429.988986  35307.471199  35217.933648  34623.251864  34946.229117   \n3             NaN           NaN           NaN           NaN           NaN   \n4    57982.248544  54496.481310  52516.381211  50060.388738  48050.505641   \n..            ...           ...           ...           ...           ...   \n261   2719.070784   2887.751673   3004.379557   3096.213368   3258.375473   \n262   9207.589973   8128.458740   7520.847253   7391.358212           NaN   \n263  79117.199555  78872.591986  79477.498715  79704.594250  78917.770233   \n264   7693.391834   7736.572581   7762.202615   7831.856543   7709.347755   \n265  14511.158213  14340.232354  14623.429797  15048.883152  13818.287767   \n\n             2020          2021  Unnamed: 66  \n0    44054.273854  51642.754827          NaN  \n1             NaN           NaN          NaN  \n2    33071.480670  25476.517288          NaN  \n3             NaN           NaN          NaN  \n4    43901.130072  43000.842268          NaN  \n..            ...           ...          ...  \n261   3082.206909   3421.235103          NaN  \n262           NaN           NaN          NaN  \n263  73013.858637  75839.725169          NaN  \n264   7277.953234   7399.429306          NaN  \n265  12482.003407  13264.826382          NaN  \n\n[266 rows x 67 columns]",
      "text/html": "<div>\n<style scoped>\n    .dataframe tbody tr th:only-of-type {\n        vertical-align: middle;\n    }\n\n    .dataframe tbody tr th {\n        vertical-align: top;\n    }\n\n    .dataframe thead th {\n        text-align: right;\n    }\n</style>\n<table border=\"1\" class=\"dataframe\">\n  <thead>\n    <tr style=\"text-align: right;\">\n      <th></th>\n      <th>Country Name</th>\n      <th>Country Code</th>\n      <th>Indicator Name</th>\n      <th>Indicator Code</th>\n      <th>1960</th>\n      <th>1961</th>\n      <th>1962</th>\n      <th>1963</th>\n      <th>1964</th>\n      <th>1965</th>\n      <th>...</th>\n      <th>2013</th>\n      <th>2014</th>\n      <th>2015</th>\n      <th>2016</th>\n      <th>2017</th>\n      <th>2018</th>\n      <th>2019</th>\n      <th>2020</th>\n      <th>2021</th>\n      <th>Unnamed: 66</th>\n    </tr>\n  </thead>\n  <tbody>\n    <tr>\n      <th>0</th>\n      <td>Aruba</td>\n      <td>ABW</td>\n      <td>GDP per capita (constant LCU)</td>\n      <td>NY.GDP.PCAP.KN</td>\n      <td>NaN</td>\n      <td>NaN</td>\n      <td>NaN</td>\n      <td>NaN</td>\n      <td>NaN</td>\n      <td>NaN</td>\n      <td>...</td>\n      <td>47463.063764</td>\n      <td>47126.281445</td>\n      <td>48485.952982</td>\n      <td>49220.969926</td>\n      <td>51641.233320</td>\n      <td>54088.165959</td>\n      <td>54186.182258</td>\n      <td>44054.273854</td>\n      <td>51642.754827</td>\n      <td>NaN</td>\n    </tr>\n    <tr>\n      <th>1</th>\n      <td>Africa Eastern and Southern</td>\n      <td>AFE</td>\n      <td>GDP per capita (constant LCU)</td>\n      <td>NY.GDP.PCAP.KN</td>\n      <td>NaN</td>\n      <td>NaN</td>\n      <td>NaN</td>\n      <td>NaN</td>\n      <td>NaN</td>\n      <td>NaN</td>\n      <td>...</td>\n      <td>NaN</td>\n      <td>NaN</td>\n      <td>NaN</td>\n      <td>NaN</td>\n      <td>NaN</td>\n      <td>NaN</td>\n      <td>NaN</td>\n      <td>NaN</td>\n      <td>NaN</td>\n      <td>NaN</td>\n    </tr>\n    <tr>\n      <th>2</th>\n      <td>Afghanistan</td>\n      <td>AFG</td>\n      <td>GDP per capita (constant LCU)</td>\n      <td>NY.GDP.PCAP.KN</td>\n      <td>NaN</td>\n      <td>NaN</td>\n      <td>NaN</td>\n      <td>NaN</td>\n      <td>NaN</td>\n      <td>NaN</td>\n      <td>...</td>\n      <td>36381.414679</td>\n      <td>36030.405579</td>\n      <td>35429.988986</td>\n      <td>35307.471199</td>\n      <td>35217.933648</td>\n      <td>34623.251864</td>\n      <td>34946.229117</td>\n      <td>33071.480670</td>\n      <td>25476.517288</td>\n      <td>NaN</td>\n    </tr>\n    <tr>\n      <th>3</th>\n      <td>Africa Western and Central</td>\n      <td>AFW</td>\n      <td>GDP per capita (constant LCU)</td>\n      <td>NY.GDP.PCAP.KN</td>\n      <td>NaN</td>\n      <td>NaN</td>\n      <td>NaN</td>\n      <td>NaN</td>\n      <td>NaN</td>\n      <td>NaN</td>\n      <td>...</td>\n      <td>NaN</td>\n      <td>NaN</td>\n      <td>NaN</td>\n      <td>NaN</td>\n      <td>NaN</td>\n      <td>NaN</td>\n      <td>NaN</td>\n      <td>NaN</td>\n      <td>NaN</td>\n      <td>NaN</td>\n    </tr>\n    <tr>\n      <th>4</th>\n      <td>Angola</td>\n      <td>AGO</td>\n      <td>GDP per capita (constant LCU)</td>\n      <td>NY.GDP.PCAP.KN</td>\n      <td>NaN</td>\n      <td>NaN</td>\n      <td>NaN</td>\n      <td>NaN</td>\n      <td>NaN</td>\n      <td>NaN</td>\n      <td>...</td>\n      <td>58952.230692</td>\n      <td>59558.414329</td>\n      <td>57982.248544</td>\n      <td>54496.481310</td>\n      <td>52516.381211</td>\n      <td>50060.388738</td>\n      <td>48050.505641</td>\n      <td>43901.130072</td>\n      <td>43000.842268</td>\n      <td>NaN</td>\n    </tr>\n    <tr>\n      <th>...</th>\n      <td>...</td>\n      <td>...</td>\n      <td>...</td>\n      <td>...</td>\n      <td>...</td>\n      <td>...</td>\n      <td>...</td>\n      <td>...</td>\n      <td>...</td>\n      <td>...</td>\n      <td>...</td>\n      <td>...</td>\n      <td>...</td>\n      <td>...</td>\n      <td>...</td>\n      <td>...</td>\n      <td>...</td>\n      <td>...</td>\n      <td>...</td>\n      <td>...</td>\n      <td>...</td>\n    </tr>\n    <tr>\n      <th>261</th>\n      <td>Kosovo</td>\n      <td>XKX</td>\n      <td>GDP per capita (constant LCU)</td>\n      <td>NY.GDP.PCAP.KN</td>\n      <td>NaN</td>\n      <td>NaN</td>\n      <td>NaN</td>\n      <td>NaN</td>\n      <td>NaN</td>\n      <td>NaN</td>\n      <td>...</td>\n      <td>2443.124892</td>\n      <td>2532.386606</td>\n      <td>2719.070784</td>\n      <td>2887.751673</td>\n      <td>3004.379557</td>\n      <td>3096.213368</td>\n      <td>3258.375473</td>\n      <td>3082.206909</td>\n      <td>3421.235103</td>\n      <td>NaN</td>\n    </tr>\n    <tr>\n      <th>262</th>\n      <td>Yemen, Rep.</td>\n      <td>YEM</td>\n      <td>GDP per capita (constant LCU)</td>\n      <td>NY.GDP.PCAP.KN</td>\n      <td>NaN</td>\n      <td>NaN</td>\n      <td>NaN</td>\n      <td>NaN</td>\n      <td>NaN</td>\n      <td>NaN</td>\n      <td>...</td>\n      <td>13539.149104</td>\n      <td>13139.014540</td>\n      <td>9207.589973</td>\n      <td>8128.458740</td>\n      <td>7520.847253</td>\n      <td>7391.358212</td>\n      <td>NaN</td>\n      <td>NaN</td>\n      <td>NaN</td>\n      <td>NaN</td>\n    </tr>\n    <tr>\n      <th>263</th>\n      <td>South Africa</td>\n      <td>ZAF</td>\n      <td>GDP per capita (constant LCU)</td>\n      <td>NY.GDP.PCAP.KN</td>\n      <td>50671.710277</td>\n      <td>51167.241062</td>\n      <td>52733.930548</td>\n      <td>54930.561464</td>\n      <td>57504.188684</td>\n      <td>59167.327958</td>\n      <td>...</td>\n      <td>79858.964286</td>\n      <td>79721.430691</td>\n      <td>79117.199555</td>\n      <td>78872.591986</td>\n      <td>79477.498715</td>\n      <td>79704.594250</td>\n      <td>78917.770233</td>\n      <td>73013.858637</td>\n      <td>75839.725169</td>\n      <td>NaN</td>\n    </tr>\n    <tr>\n      <th>264</th>\n      <td>Zambia</td>\n      <td>ZMB</td>\n      <td>GDP per capita (constant LCU)</td>\n      <td>NY.GDP.PCAP.KN</td>\n      <td>7063.137721</td>\n      <td>6936.871069</td>\n      <td>6552.465091</td>\n      <td>6553.995782</td>\n      <td>7123.281483</td>\n      <td>8047.315901</td>\n      <td>...</td>\n      <td>7614.518067</td>\n      <td>7717.537014</td>\n      <td>7693.391834</td>\n      <td>7736.572581</td>\n      <td>7762.202615</td>\n      <td>7831.856543</td>\n      <td>7709.347755</td>\n      <td>7277.953234</td>\n      <td>7399.429306</td>\n      <td>NaN</td>\n    </tr>\n    <tr>\n      <th>265</th>\n      <td>Zimbabwe</td>\n      <td>ZWE</td>\n      <td>GDP per capita (constant LCU)</td>\n      <td>NY.GDP.PCAP.KN</td>\n      <td>11702.838628</td>\n      <td>12062.842514</td>\n      <td>11861.756233</td>\n      <td>12215.880335</td>\n      <td>11709.665763</td>\n      <td>11906.737799</td>\n      <td>...</td>\n      <td>14635.117719</td>\n      <td>14530.448796</td>\n      <td>14511.158213</td>\n      <td>14340.232354</td>\n      <td>14623.429797</td>\n      <td>15048.883152</td>\n      <td>13818.287767</td>\n      <td>12482.003407</td>\n      <td>13264.826382</td>\n      <td>NaN</td>\n    </tr>\n  </tbody>\n</table>\n<p>266 rows × 67 columns</p>\n</div>"
     },
     "execution_count": 153,
     "metadata": {},
     "output_type": "execute_result"
    }
   ],
   "source": [
    "iran_gdp_pcap_df=pd.read_csv('F:\\my project\\dataset\\\\my pro-datasets\\\\API_NY.GDP.PCAP.KN_DS2_en_csv_v2_4770546.csv',header=2)\n",
    "iran_gdp_pcap_df"
   ],
   "metadata": {
    "collapsed": false,
    "pycharm": {
     "name": "#%%\n"
    }
   }
  },
  {
   "cell_type": "code",
   "execution_count": 154,
   "outputs": [
    {
     "data": {
      "text/plain": "                    Country Name          1960          1961          1962  \\\n0                          Aruba           NaN           NaN           NaN   \n1    Africa Eastern and Southern           NaN           NaN           NaN   \n2                    Afghanistan           NaN           NaN           NaN   \n3     Africa Western and Central           NaN           NaN           NaN   \n4                         Angola           NaN           NaN           NaN   \n..                           ...           ...           ...           ...   \n261                       Kosovo           NaN           NaN           NaN   \n262                  Yemen, Rep.           NaN           NaN           NaN   \n263                 South Africa  50671.710277  51167.241062  52733.930548   \n264                       Zambia   7063.137721   6936.871069   6552.465091   \n265                     Zimbabwe  11702.838628  12062.842514  11861.756233   \n\n             1963          1964          1965          1966          1967  \\\n0             NaN           NaN           NaN           NaN           NaN   \n1             NaN           NaN           NaN           NaN           NaN   \n2             NaN           NaN           NaN           NaN           NaN   \n3             NaN           NaN           NaN           NaN           NaN   \n4             NaN           NaN           NaN           NaN           NaN   \n..            ...           ...           ...           ...           ...   \n261           NaN           NaN           NaN           NaN           NaN   \n262           NaN           NaN           NaN           NaN           NaN   \n263  54930.561464  57504.188684  59167.327958  59911.860526  62269.713053   \n264   6553.995782   7123.281483   8047.315901   7358.359443   7689.513591   \n265  12215.880335  11709.665763  11906.737799  11715.639204  12303.952330   \n\n             1968  ...          2012          2013          2014  \\\n0             NaN  ...  44931.056095  47463.063764  47126.281445   \n1             NaN  ...           NaN           NaN           NaN   \n2             NaN  ...  35667.171668  36381.414679  36030.405579   \n3             NaN  ...           NaN           NaN           NaN   \n4             NaN  ...  58309.723347  58952.230692  59558.414329   \n..            ...  ...           ...           ...           ...   \n261           NaN  ...   2333.387195   2443.124892   2532.386606   \n262           NaN  ...  13290.770091  13539.149104  13139.014540   \n263  62884.610086  ...  78990.494030  79858.964286  79721.430691   \n264   7538.394033  ...   7488.994977   7614.518067   7717.537014   \n265  12156.967209  ...  14491.896765  14635.117719  14530.448796   \n\n             2015          2016          2017          2018          2019  \\\n0    48485.952982  49220.969926  51641.233320  54088.165959  54186.182258   \n1             NaN           NaN           NaN           NaN           NaN   \n2    35429.988986  35307.471199  35217.933648  34623.251864  34946.229117   \n3             NaN           NaN           NaN           NaN           NaN   \n4    57982.248544  54496.481310  52516.381211  50060.388738  48050.505641   \n..            ...           ...           ...           ...           ...   \n261   2719.070784   2887.751673   3004.379557   3096.213368   3258.375473   \n262   9207.589973   8128.458740   7520.847253   7391.358212           NaN   \n263  79117.199555  78872.591986  79477.498715  79704.594250  78917.770233   \n264   7693.391834   7736.572581   7762.202615   7831.856543   7709.347755   \n265  14511.158213  14340.232354  14623.429797  15048.883152  13818.287767   \n\n             2020          2021  \n0    44054.273854  51642.754827  \n1             NaN           NaN  \n2    33071.480670  25476.517288  \n3             NaN           NaN  \n4    43901.130072  43000.842268  \n..            ...           ...  \n261   3082.206909   3421.235103  \n262           NaN           NaN  \n263  73013.858637  75839.725169  \n264   7277.953234   7399.429306  \n265  12482.003407  13264.826382  \n\n[266 rows x 63 columns]",
      "text/html": "<div>\n<style scoped>\n    .dataframe tbody tr th:only-of-type {\n        vertical-align: middle;\n    }\n\n    .dataframe tbody tr th {\n        vertical-align: top;\n    }\n\n    .dataframe thead th {\n        text-align: right;\n    }\n</style>\n<table border=\"1\" class=\"dataframe\">\n  <thead>\n    <tr style=\"text-align: right;\">\n      <th></th>\n      <th>Country Name</th>\n      <th>1960</th>\n      <th>1961</th>\n      <th>1962</th>\n      <th>1963</th>\n      <th>1964</th>\n      <th>1965</th>\n      <th>1966</th>\n      <th>1967</th>\n      <th>1968</th>\n      <th>...</th>\n      <th>2012</th>\n      <th>2013</th>\n      <th>2014</th>\n      <th>2015</th>\n      <th>2016</th>\n      <th>2017</th>\n      <th>2018</th>\n      <th>2019</th>\n      <th>2020</th>\n      <th>2021</th>\n    </tr>\n  </thead>\n  <tbody>\n    <tr>\n      <th>0</th>\n      <td>Aruba</td>\n      <td>NaN</td>\n      <td>NaN</td>\n      <td>NaN</td>\n      <td>NaN</td>\n      <td>NaN</td>\n      <td>NaN</td>\n      <td>NaN</td>\n      <td>NaN</td>\n      <td>NaN</td>\n      <td>...</td>\n      <td>44931.056095</td>\n      <td>47463.063764</td>\n      <td>47126.281445</td>\n      <td>48485.952982</td>\n      <td>49220.969926</td>\n      <td>51641.233320</td>\n      <td>54088.165959</td>\n      <td>54186.182258</td>\n      <td>44054.273854</td>\n      <td>51642.754827</td>\n    </tr>\n    <tr>\n      <th>1</th>\n      <td>Africa Eastern and Southern</td>\n      <td>NaN</td>\n      <td>NaN</td>\n      <td>NaN</td>\n      <td>NaN</td>\n      <td>NaN</td>\n      <td>NaN</td>\n      <td>NaN</td>\n      <td>NaN</td>\n      <td>NaN</td>\n      <td>...</td>\n      <td>NaN</td>\n      <td>NaN</td>\n      <td>NaN</td>\n      <td>NaN</td>\n      <td>NaN</td>\n      <td>NaN</td>\n      <td>NaN</td>\n      <td>NaN</td>\n      <td>NaN</td>\n      <td>NaN</td>\n    </tr>\n    <tr>\n      <th>2</th>\n      <td>Afghanistan</td>\n      <td>NaN</td>\n      <td>NaN</td>\n      <td>NaN</td>\n      <td>NaN</td>\n      <td>NaN</td>\n      <td>NaN</td>\n      <td>NaN</td>\n      <td>NaN</td>\n      <td>NaN</td>\n      <td>...</td>\n      <td>35667.171668</td>\n      <td>36381.414679</td>\n      <td>36030.405579</td>\n      <td>35429.988986</td>\n      <td>35307.471199</td>\n      <td>35217.933648</td>\n      <td>34623.251864</td>\n      <td>34946.229117</td>\n      <td>33071.480670</td>\n      <td>25476.517288</td>\n    </tr>\n    <tr>\n      <th>3</th>\n      <td>Africa Western and Central</td>\n      <td>NaN</td>\n      <td>NaN</td>\n      <td>NaN</td>\n      <td>NaN</td>\n      <td>NaN</td>\n      <td>NaN</td>\n      <td>NaN</td>\n      <td>NaN</td>\n      <td>NaN</td>\n      <td>...</td>\n      <td>NaN</td>\n      <td>NaN</td>\n      <td>NaN</td>\n      <td>NaN</td>\n      <td>NaN</td>\n      <td>NaN</td>\n      <td>NaN</td>\n      <td>NaN</td>\n      <td>NaN</td>\n      <td>NaN</td>\n    </tr>\n    <tr>\n      <th>4</th>\n      <td>Angola</td>\n      <td>NaN</td>\n      <td>NaN</td>\n      <td>NaN</td>\n      <td>NaN</td>\n      <td>NaN</td>\n      <td>NaN</td>\n      <td>NaN</td>\n      <td>NaN</td>\n      <td>NaN</td>\n      <td>...</td>\n      <td>58309.723347</td>\n      <td>58952.230692</td>\n      <td>59558.414329</td>\n      <td>57982.248544</td>\n      <td>54496.481310</td>\n      <td>52516.381211</td>\n      <td>50060.388738</td>\n      <td>48050.505641</td>\n      <td>43901.130072</td>\n      <td>43000.842268</td>\n    </tr>\n    <tr>\n      <th>...</th>\n      <td>...</td>\n      <td>...</td>\n      <td>...</td>\n      <td>...</td>\n      <td>...</td>\n      <td>...</td>\n      <td>...</td>\n      <td>...</td>\n      <td>...</td>\n      <td>...</td>\n      <td>...</td>\n      <td>...</td>\n      <td>...</td>\n      <td>...</td>\n      <td>...</td>\n      <td>...</td>\n      <td>...</td>\n      <td>...</td>\n      <td>...</td>\n      <td>...</td>\n      <td>...</td>\n    </tr>\n    <tr>\n      <th>261</th>\n      <td>Kosovo</td>\n      <td>NaN</td>\n      <td>NaN</td>\n      <td>NaN</td>\n      <td>NaN</td>\n      <td>NaN</td>\n      <td>NaN</td>\n      <td>NaN</td>\n      <td>NaN</td>\n      <td>NaN</td>\n      <td>...</td>\n      <td>2333.387195</td>\n      <td>2443.124892</td>\n      <td>2532.386606</td>\n      <td>2719.070784</td>\n      <td>2887.751673</td>\n      <td>3004.379557</td>\n      <td>3096.213368</td>\n      <td>3258.375473</td>\n      <td>3082.206909</td>\n      <td>3421.235103</td>\n    </tr>\n    <tr>\n      <th>262</th>\n      <td>Yemen, Rep.</td>\n      <td>NaN</td>\n      <td>NaN</td>\n      <td>NaN</td>\n      <td>NaN</td>\n      <td>NaN</td>\n      <td>NaN</td>\n      <td>NaN</td>\n      <td>NaN</td>\n      <td>NaN</td>\n      <td>...</td>\n      <td>13290.770091</td>\n      <td>13539.149104</td>\n      <td>13139.014540</td>\n      <td>9207.589973</td>\n      <td>8128.458740</td>\n      <td>7520.847253</td>\n      <td>7391.358212</td>\n      <td>NaN</td>\n      <td>NaN</td>\n      <td>NaN</td>\n    </tr>\n    <tr>\n      <th>263</th>\n      <td>South Africa</td>\n      <td>50671.710277</td>\n      <td>51167.241062</td>\n      <td>52733.930548</td>\n      <td>54930.561464</td>\n      <td>57504.188684</td>\n      <td>59167.327958</td>\n      <td>59911.860526</td>\n      <td>62269.713053</td>\n      <td>62884.610086</td>\n      <td>...</td>\n      <td>78990.494030</td>\n      <td>79858.964286</td>\n      <td>79721.430691</td>\n      <td>79117.199555</td>\n      <td>78872.591986</td>\n      <td>79477.498715</td>\n      <td>79704.594250</td>\n      <td>78917.770233</td>\n      <td>73013.858637</td>\n      <td>75839.725169</td>\n    </tr>\n    <tr>\n      <th>264</th>\n      <td>Zambia</td>\n      <td>7063.137721</td>\n      <td>6936.871069</td>\n      <td>6552.465091</td>\n      <td>6553.995782</td>\n      <td>7123.281483</td>\n      <td>8047.315901</td>\n      <td>7358.359443</td>\n      <td>7689.513591</td>\n      <td>7538.394033</td>\n      <td>...</td>\n      <td>7488.994977</td>\n      <td>7614.518067</td>\n      <td>7717.537014</td>\n      <td>7693.391834</td>\n      <td>7736.572581</td>\n      <td>7762.202615</td>\n      <td>7831.856543</td>\n      <td>7709.347755</td>\n      <td>7277.953234</td>\n      <td>7399.429306</td>\n    </tr>\n    <tr>\n      <th>265</th>\n      <td>Zimbabwe</td>\n      <td>11702.838628</td>\n      <td>12062.842514</td>\n      <td>11861.756233</td>\n      <td>12215.880335</td>\n      <td>11709.665763</td>\n      <td>11906.737799</td>\n      <td>11715.639204</td>\n      <td>12303.952330</td>\n      <td>12156.967209</td>\n      <td>...</td>\n      <td>14491.896765</td>\n      <td>14635.117719</td>\n      <td>14530.448796</td>\n      <td>14511.158213</td>\n      <td>14340.232354</td>\n      <td>14623.429797</td>\n      <td>15048.883152</td>\n      <td>13818.287767</td>\n      <td>12482.003407</td>\n      <td>13264.826382</td>\n    </tr>\n  </tbody>\n</table>\n<p>266 rows × 63 columns</p>\n</div>"
     },
     "execution_count": 154,
     "metadata": {},
     "output_type": "execute_result"
    }
   ],
   "source": [
    "iran_gdp_pcap_df.drop(['Country Code','Indicator Name','Indicator Code','Unnamed: 66'],axis=1,inplace=True)\n",
    "iran_gdp_pcap_df"
   ],
   "metadata": {
    "collapsed": false,
    "pycharm": {
     "name": "#%%\n"
    }
   }
  },
  {
   "cell_type": "code",
   "execution_count": 155,
   "outputs": [
    {
     "data": {
      "text/plain": "Country Name    Iran, Islamic Rep.\n1960               76178479.257974\n1961               81818768.499671\n1962               85862881.807224\n1963               89324924.723281\n                       ...        \n2017              175212679.805083\n2018              169038282.648132\n2019              162745482.414356\n2020              166766747.954924\n2021              173379997.898094\nName: 112, Length: 63, dtype: object"
     },
     "execution_count": 155,
     "metadata": {},
     "output_type": "execute_result"
    }
   ],
   "source": [
    "iran_df=iran_gdp_pcap_df.iloc[112][:]\n",
    "iran_df"
   ],
   "metadata": {
    "collapsed": false,
    "pycharm": {
     "name": "#%%\n"
    }
   }
  },
  {
   "cell_type": "code",
   "execution_count": 156,
   "outputs": [
    {
     "data": {
      "text/plain": "array([76178479.257974, 81818768.4996708, 85862881.8072241,\n       89324924.7232811, 94105598.2326855, 106929524.004171,\n       115794299.678152, 125202988.603697, 139283021.873538,\n       156422858.33487, 168600170.233981, 186305182.789341,\n       207381773.198198, 216555300.630537, 222554787.940706,\n       215337751.513095, 247253974.273757, 233259148.644073,\n       196996484.038766, 167673041.081172, 126966439.887535,\n       113948579.419808, 133668566.987454, 143334864.598447,\n       128432453.630085, 126297863.85769, 110102994.116842,\n       106372506.958596, 96892384.9389884, 99895516.4287972,\n       109105698.280636, 118320082.047376, 119379079.251648,\n       116868284.534589, 114442424.261848, 115630665.000032,\n       121369590.726251, 121271821.924184, 121880870.398439,\n       122367857.975392, 127407215.122461, 128243158.983164,\n       137260910.334442, 147742128.651879, 151678386.100101,\n       154016827.011377, 159237072.049561, 169738681.968536,\n       167845961.603747, 167245938.121918, 174475096.175719,\n       176817788.183017, 168031872.348036, 163081783.931733,\n       167993422.859342, 161896240.736174, 172962942.161248,\n       175212679.805083, 169038282.648132, 162745482.414356,\n       166766747.954924, 173379997.898094], dtype=object)"
     },
     "execution_count": 156,
     "metadata": {},
     "output_type": "execute_result"
    }
   ],
   "source": [
    "iran_df.values[1:]"
   ],
   "metadata": {
    "collapsed": false,
    "pycharm": {
     "name": "#%%\n"
    }
   }
  },
  {
   "cell_type": "code",
   "execution_count": 157,
   "outputs": [
    {
     "data": {
      "text/plain": "                GdpCap\n1960   76178479.257974\n1961   81818768.499671\n1962   85862881.807224\n1963   89324924.723281\n1964   94105598.232686\n...                ...\n2017  175212679.805083\n2018  169038282.648132\n2019  162745482.414356\n2020  166766747.954924\n2021  173379997.898094\n\n[62 rows x 1 columns]",
      "text/html": "<div>\n<style scoped>\n    .dataframe tbody tr th:only-of-type {\n        vertical-align: middle;\n    }\n\n    .dataframe tbody tr th {\n        vertical-align: top;\n    }\n\n    .dataframe thead th {\n        text-align: right;\n    }\n</style>\n<table border=\"1\" class=\"dataframe\">\n  <thead>\n    <tr style=\"text-align: right;\">\n      <th></th>\n      <th>GdpCap</th>\n    </tr>\n  </thead>\n  <tbody>\n    <tr>\n      <th>1960</th>\n      <td>76178479.257974</td>\n    </tr>\n    <tr>\n      <th>1961</th>\n      <td>81818768.499671</td>\n    </tr>\n    <tr>\n      <th>1962</th>\n      <td>85862881.807224</td>\n    </tr>\n    <tr>\n      <th>1963</th>\n      <td>89324924.723281</td>\n    </tr>\n    <tr>\n      <th>1964</th>\n      <td>94105598.232686</td>\n    </tr>\n    <tr>\n      <th>...</th>\n      <td>...</td>\n    </tr>\n    <tr>\n      <th>2017</th>\n      <td>175212679.805083</td>\n    </tr>\n    <tr>\n      <th>2018</th>\n      <td>169038282.648132</td>\n    </tr>\n    <tr>\n      <th>2019</th>\n      <td>162745482.414356</td>\n    </tr>\n    <tr>\n      <th>2020</th>\n      <td>166766747.954924</td>\n    </tr>\n    <tr>\n      <th>2021</th>\n      <td>173379997.898094</td>\n    </tr>\n  </tbody>\n</table>\n<p>62 rows × 1 columns</p>\n</div>"
     },
     "execution_count": 157,
     "metadata": {},
     "output_type": "execute_result"
    }
   ],
   "source": [
    "iran_df=pd.DataFrame(iran_df.values[1:],index=iran_df.index[1:],columns=['GdpCap'])\n",
    "iran_df"
   ],
   "metadata": {
    "collapsed": false,
    "pycharm": {
     "name": "#%%\n"
    }
   }
  },
  {
   "cell_type": "code",
   "execution_count": 158,
   "outputs": [
    {
     "data": {
      "text/plain": "[<matplotlib.lines.Line2D at 0x1dbf9271a20>]"
     },
     "execution_count": 158,
     "metadata": {},
     "output_type": "execute_result"
    },
    {
     "data": {
      "text/plain": "<Figure size 640x480 with 1 Axes>",
      "image/png": "[encoded data removed]"
     },
     "metadata": {},
     "output_type": "display_data"
    }
   ],
   "source": [
    "plt.plot(range(len(iran_df.index)),iran_df.GdpCap)"
   ],
   "metadata": {
    "collapsed": false,
    "pycharm": {
     "name": "#%%\n"
    }
   }
  },
  {
   "cell_type": "code",
   "execution_count": 159,
   "outputs": [
    {
     "data": {
      "text/plain": "'۶۰٬۰۵۵٬۴۸۸'"
     },
     "execution_count": 159,
     "metadata": {},
     "output_type": "execute_result"
    }
   ],
   "source": [
    "a=iran_pop_df['جمعیت کل ایران'][5]\n",
    "a"
   ],
   "metadata": {
    "collapsed": false,
    "pycharm": {
     "name": "#%%\n"
    }
   }
  },
  {
   "cell_type": "code",
   "execution_count": 160,
   "outputs": [
    {
     "data": {
      "text/plain": "str"
     },
     "execution_count": 160,
     "metadata": {},
     "output_type": "execute_result"
    }
   ],
   "source": [
    "type(iran_pop_df['جمعیت کل ایران'][0])"
   ],
   "metadata": {
    "collapsed": false,
    "pycharm": {
     "name": "#%%\n"
    }
   }
  },
  {
   "cell_type": "code",
   "execution_count": 161,
   "outputs": [],
   "source": [
    "def to_english_number(num:str):\n",
    "    ln=len(num)\n",
    "    dic_num={'۱':1,'۲':2,'۳':3,'۴':4,'۵':5,'۶':6,'۷':7,'۸':8,'۹':9,'۰':0}\n",
    "    #dic_num={'۱':'1','۲':'2','۳':'3','۴':'4','۵':'5','۶':'6','۷':'7','۸':'8','۹':'9'}\n",
    "    n_e=0\n",
    "    for i,j in enumerate(num):\n",
    "        #print(i,j)\n",
    "        if j in dic_num.keys():\n",
    "            n_e+=dic_num[j]*10**((ln-1)-i)\n",
    "            #print(dic_num[j],i,(ln-1)-i)\n",
    "            #print(n_e)\n",
    "    return n_e"
   ],
   "metadata": {
    "collapsed": false,
    "pycharm": {
     "name": "#%%\n"
    }
   }
  },
  {
   "cell_type": "code",
   "execution_count": 162,
   "outputs": [
    {
     "data": {
      "text/plain": "'۶۰٬۰۵۵٬۴۸۸'"
     },
     "execution_count": 162,
     "metadata": {},
     "output_type": "execute_result"
    }
   ],
   "source": [
    "a"
   ],
   "metadata": {
    "collapsed": false,
    "pycharm": {
     "name": "#%%\n"
    }
   }
  },
  {
   "cell_type": "code",
   "execution_count": 163,
   "outputs": [
    {
     "data": {
      "text/plain": "6000550488"
     },
     "execution_count": 163,
     "metadata": {},
     "output_type": "execute_result"
    }
   ],
   "source": [
    "to_english_number(a)"
   ],
   "metadata": {
    "collapsed": false,
    "pycharm": {
     "name": "#%%\n"
    }
   }
  },
  {
   "cell_type": "code",
   "execution_count": 164,
   "outputs": [
    {
     "data": {
      "text/plain": "array([['۱۳۳۵', '۱۸٬۹۵۴٬۷۰۴'],\n       ['۱۳۴۵', '۲۵٬۷۸۸٬۷۲۲'],\n       ['۱۳۵۵', '۳۳٬۷۰۸٬۷۴۴'],\n       ['۱۳۶۵', '۴۹٬۴۴۵٬۰۱۰'],\n       ['۱۳۷۰', '۵۵٬۸۳۷٬۱۶۳'],\n       ['۱۳۷۵', '۶۰٬۰۵۵٬۴۸۸'],\n       ['۱۳۸۵', '۷۰٬۴۷۲٬۸۴۶'],\n       ['۱۳۹۰', '۷۵٬۱۴۹٬۶۶۹'],\n       ['۱۳۹۵', '۷۹٬۹۲۶٬۲۷۰']], dtype=object)"
     },
     "execution_count": 164,
     "metadata": {},
     "output_type": "execute_result"
    }
   ],
   "source": [
    "val=iran_pop_df.values\n",
    "val"
   ],
   "metadata": {
    "collapsed": false,
    "pycharm": {
     "name": "#%%\n"
    }
   }
  },
  {
   "cell_type": "code",
   "execution_count": 165,
   "outputs": [
    {
     "data": {
      "text/plain": "array([['۱۳۳۵', '۱۸٬۹۵۴٬۷۰۴'],\n       ['۱۳۴۵', '۲۵٬۷۸۸٬۷۲۲'],\n       ['۱۳۵۵', '۳۳٬۷۰۸٬۷۴۴'],\n       ['۱۳۶۵', '۴۹٬۴۴۵٬۰۱۰'],\n       ['۱۳۷۰', '۵۵٬۸۳۷٬۱۶۳'],\n       ['۱۳۷۵', '۶۰٬۰۵۵٬۴۸۸'],\n       ['۱۳۸۵', '۷۰٬۴۷۲٬۸۴۶'],\n       ['۱۳۹۰', '۷۵٬۱۴۹٬۶۶۹'],\n       ['۱۳۹۵', '۷۹٬۹۲۶٬۲۷۰']], dtype=object)"
     },
     "execution_count": 165,
     "metadata": {},
     "output_type": "execute_result"
    }
   ],
   "source": [
    "val2=val.copy()\n",
    "val2"
   ],
   "metadata": {
    "collapsed": false,
    "pycharm": {
     "name": "#%%\n"
    }
   }
  },
  {
   "cell_type": "code",
   "execution_count": 166,
   "outputs": [
    {
     "data": {
      "text/plain": "(9, 2)"
     },
     "execution_count": 166,
     "metadata": {},
     "output_type": "execute_result"
    }
   ],
   "source": [
    "val2.shape"
   ],
   "metadata": {
    "collapsed": false,
    "pycharm": {
     "name": "#%%\n"
    }
   }
  },
  {
   "cell_type": "code",
   "execution_count": 167,
   "outputs": [],
   "source": [
    "for i in range(val2.shape[0]):\n",
    "    for j in range(val2.shape[1]):\n",
    "        val2[i,j]=to_english_number(val2[i,j])"
   ],
   "metadata": {
    "collapsed": false,
    "pycharm": {
     "name": "#%%\n"
    }
   }
  },
  {
   "cell_type": "code",
   "execution_count": 168,
   "outputs": [
    {
     "data": {
      "text/plain": "array([[1957, 1809540704],\n       [1967, 2507880722],\n       [1977, 3307080744],\n       [1987, 4904450010],\n       [1992, 5508370163],\n       [1997, 6000550488],\n       [2007, 7004720846],\n       [2012, 7501490669],\n       [2017, 7909260270]], dtype=object)"
     },
     "execution_count": 168,
     "metadata": {},
     "output_type": "execute_result"
    }
   ],
   "source": [
    "val2[:,0]=val2[:,0]+622\n",
    "val2"
   ],
   "metadata": {
    "collapsed": false,
    "pycharm": {
     "name": "#%%\n"
    }
   }
  },
  {
   "cell_type": "code",
   "execution_count": 169,
   "outputs": [
    {
     "data": {
      "text/plain": "   year         pop\n0  1957  1809540704\n1  1967  2507880722\n2  1977  3307080744\n3  1987  4904450010\n4  1992  5508370163\n5  1997  6000550488\n6  2007  7004720846\n7  2012  7501490669\n8  2017  7909260270",
      "text/html": "<div>\n<style scoped>\n    .dataframe tbody tr th:only-of-type {\n        vertical-align: middle;\n    }\n\n    .dataframe tbody tr th {\n        vertical-align: top;\n    }\n\n    .dataframe thead th {\n        text-align: right;\n    }\n</style>\n<table border=\"1\" class=\"dataframe\">\n  <thead>\n    <tr style=\"text-align: right;\">\n      <th></th>\n      <th>year</th>\n      <th>pop</th>\n    </tr>\n  </thead>\n  <tbody>\n    <tr>\n      <th>0</th>\n      <td>1957</td>\n      <td>1809540704</td>\n    </tr>\n    <tr>\n      <th>1</th>\n      <td>1967</td>\n      <td>2507880722</td>\n    </tr>\n    <tr>\n      <th>2</th>\n      <td>1977</td>\n      <td>3307080744</td>\n    </tr>\n    <tr>\n      <th>3</th>\n      <td>1987</td>\n      <td>4904450010</td>\n    </tr>\n    <tr>\n      <th>4</th>\n      <td>1992</td>\n      <td>5508370163</td>\n    </tr>\n    <tr>\n      <th>5</th>\n      <td>1997</td>\n      <td>6000550488</td>\n    </tr>\n    <tr>\n      <th>6</th>\n      <td>2007</td>\n      <td>7004720846</td>\n    </tr>\n    <tr>\n      <th>7</th>\n      <td>2012</td>\n      <td>7501490669</td>\n    </tr>\n    <tr>\n      <th>8</th>\n      <td>2017</td>\n      <td>7909260270</td>\n    </tr>\n  </tbody>\n</table>\n</div>"
     },
     "execution_count": 169,
     "metadata": {},
     "output_type": "execute_result"
    }
   ],
   "source": [
    "iran_pop_df2=pd.DataFrame(val2,columns=['year','pop'])\n",
    "iran_pop_df2"
   ],
   "metadata": {
    "collapsed": false,
    "pycharm": {
     "name": "#%%\n"
    }
   }
  },
  {
   "cell_type": "code",
   "execution_count": 170,
   "outputs": [
    {
     "data": {
      "text/plain": "   index            GdpCap\n0   1960   76178479.257974\n1   1961   81818768.499671\n2   1962   85862881.807224\n3   1963   89324924.723281\n4   1964   94105598.232686\n..   ...               ...\n57  2017  175212679.805083\n58  2018  169038282.648132\n59  2019  162745482.414356\n60  2020  166766747.954924\n61  2021  173379997.898094\n\n[62 rows x 2 columns]",
      "text/html": "<div>\n<style scoped>\n    .dataframe tbody tr th:only-of-type {\n        vertical-align: middle;\n    }\n\n    .dataframe tbody tr th {\n        vertical-align: top;\n    }\n\n    .dataframe thead th {\n        text-align: right;\n    }\n</style>\n<table border=\"1\" class=\"dataframe\">\n  <thead>\n    <tr style=\"text-align: right;\">\n      <th></th>\n      <th>index</th>\n      <th>GdpCap</th>\n    </tr>\n  </thead>\n  <tbody>\n    <tr>\n      <th>0</th>\n      <td>1960</td>\n      <td>76178479.257974</td>\n    </tr>\n    <tr>\n      <th>1</th>\n      <td>1961</td>\n      <td>81818768.499671</td>\n    </tr>\n    <tr>\n      <th>2</th>\n      <td>1962</td>\n      <td>85862881.807224</td>\n    </tr>\n    <tr>\n      <th>3</th>\n      <td>1963</td>\n      <td>89324924.723281</td>\n    </tr>\n    <tr>\n      <th>4</th>\n      <td>1964</td>\n      <td>94105598.232686</td>\n    </tr>\n    <tr>\n      <th>...</th>\n      <td>...</td>\n      <td>...</td>\n    </tr>\n    <tr>\n      <th>57</th>\n      <td>2017</td>\n      <td>175212679.805083</td>\n    </tr>\n    <tr>\n      <th>58</th>\n      <td>2018</td>\n      <td>169038282.648132</td>\n    </tr>\n    <tr>\n      <th>59</th>\n      <td>2019</td>\n      <td>162745482.414356</td>\n    </tr>\n    <tr>\n      <th>60</th>\n      <td>2020</td>\n      <td>166766747.954924</td>\n    </tr>\n    <tr>\n      <th>61</th>\n      <td>2021</td>\n      <td>173379997.898094</td>\n    </tr>\n  </tbody>\n</table>\n<p>62 rows × 2 columns</p>\n</div>"
     },
     "execution_count": 170,
     "metadata": {},
     "output_type": "execute_result"
    }
   ],
   "source": [
    "iran_df.reset_index(inplace=True)\n",
    "iran_df"
   ],
   "metadata": {
    "collapsed": false,
    "pycharm": {
     "name": "#%%\n"
    }
   }
  },
  {
   "cell_type": "code",
   "execution_count": 171,
   "outputs": [
    {
     "data": {
      "text/plain": "    year            GdpCap\n0   1960   76178479.257974\n1   1961   81818768.499671\n2   1962   85862881.807224\n3   1963   89324924.723281\n4   1964   94105598.232686\n..   ...               ...\n57  2017  175212679.805083\n58  2018  169038282.648132\n59  2019  162745482.414356\n60  2020  166766747.954924\n61  2021  173379997.898094\n\n[62 rows x 2 columns]",
      "text/html": "<div>\n<style scoped>\n    .dataframe tbody tr th:only-of-type {\n        vertical-align: middle;\n    }\n\n    .dataframe tbody tr th {\n        vertical-align: top;\n    }\n\n    .dataframe thead th {\n        text-align: right;\n    }\n</style>\n<table border=\"1\" class=\"dataframe\">\n  <thead>\n    <tr style=\"text-align: right;\">\n      <th></th>\n      <th>year</th>\n      <th>GdpCap</th>\n    </tr>\n  </thead>\n  <tbody>\n    <tr>\n      <th>0</th>\n      <td>1960</td>\n      <td>76178479.257974</td>\n    </tr>\n    <tr>\n      <th>1</th>\n      <td>1961</td>\n      <td>81818768.499671</td>\n    </tr>\n    <tr>\n      <th>2</th>\n      <td>1962</td>\n      <td>85862881.807224</td>\n    </tr>\n    <tr>\n      <th>3</th>\n      <td>1963</td>\n      <td>89324924.723281</td>\n    </tr>\n    <tr>\n      <th>4</th>\n      <td>1964</td>\n      <td>94105598.232686</td>\n    </tr>\n    <tr>\n      <th>...</th>\n      <td>...</td>\n      <td>...</td>\n    </tr>\n    <tr>\n      <th>57</th>\n      <td>2017</td>\n      <td>175212679.805083</td>\n    </tr>\n    <tr>\n      <th>58</th>\n      <td>2018</td>\n      <td>169038282.648132</td>\n    </tr>\n    <tr>\n      <th>59</th>\n      <td>2019</td>\n      <td>162745482.414356</td>\n    </tr>\n    <tr>\n      <th>60</th>\n      <td>2020</td>\n      <td>166766747.954924</td>\n    </tr>\n    <tr>\n      <th>61</th>\n      <td>2021</td>\n      <td>173379997.898094</td>\n    </tr>\n  </tbody>\n</table>\n<p>62 rows × 2 columns</p>\n</div>"
     },
     "execution_count": 171,
     "metadata": {},
     "output_type": "execute_result"
    }
   ],
   "source": [
    "iran_df.rename(columns={'index':'year'},inplace=True)\n",
    "iran_df"
   ],
   "metadata": {
    "collapsed": false,
    "pycharm": {
     "name": "#%%\n"
    }
   }
  },
  {
   "cell_type": "code",
   "execution_count": 172,
   "outputs": [
    {
     "data": {
      "text/plain": "   year         pop\n0  1957  1809540704\n1  1967  2507880722\n2  1977  3307080744\n3  1987  4904450010\n4  1992  5508370163\n5  1997  6000550488\n6  2007  7004720846\n7  2012  7501490669\n8  2017  7909260270",
      "text/html": "<div>\n<style scoped>\n    .dataframe tbody tr th:only-of-type {\n        vertical-align: middle;\n    }\n\n    .dataframe tbody tr th {\n        vertical-align: top;\n    }\n\n    .dataframe thead th {\n        text-align: right;\n    }\n</style>\n<table border=\"1\" class=\"dataframe\">\n  <thead>\n    <tr style=\"text-align: right;\">\n      <th></th>\n      <th>year</th>\n      <th>pop</th>\n    </tr>\n  </thead>\n  <tbody>\n    <tr>\n      <th>0</th>\n      <td>1957</td>\n      <td>1809540704</td>\n    </tr>\n    <tr>\n      <th>1</th>\n      <td>1967</td>\n      <td>2507880722</td>\n    </tr>\n    <tr>\n      <th>2</th>\n      <td>1977</td>\n      <td>3307080744</td>\n    </tr>\n    <tr>\n      <th>3</th>\n      <td>1987</td>\n      <td>4904450010</td>\n    </tr>\n    <tr>\n      <th>4</th>\n      <td>1992</td>\n      <td>5508370163</td>\n    </tr>\n    <tr>\n      <th>5</th>\n      <td>1997</td>\n      <td>6000550488</td>\n    </tr>\n    <tr>\n      <th>6</th>\n      <td>2007</td>\n      <td>7004720846</td>\n    </tr>\n    <tr>\n      <th>7</th>\n      <td>2012</td>\n      <td>7501490669</td>\n    </tr>\n    <tr>\n      <th>8</th>\n      <td>2017</td>\n      <td>7909260270</td>\n    </tr>\n  </tbody>\n</table>\n</div>"
     },
     "execution_count": 172,
     "metadata": {},
     "output_type": "execute_result"
    }
   ],
   "source": [
    "iran_pop_df2"
   ],
   "metadata": {
    "collapsed": false,
    "pycharm": {
     "name": "#%%\n"
    }
   }
  },
  {
   "cell_type": "code",
   "execution_count": 175,
   "outputs": [
    {
     "data": {
      "text/plain": "int"
     },
     "execution_count": 175,
     "metadata": {},
     "output_type": "execute_result"
    }
   ],
   "source": [
    "type(iran_pop_df2.year[0])"
   ],
   "metadata": {
    "collapsed": false,
    "pycharm": {
     "name": "#%%\n"
    }
   }
  },
  {
   "cell_type": "code",
   "execution_count": 176,
   "outputs": [
    {
     "data": {
      "text/plain": "str"
     },
     "execution_count": 176,
     "metadata": {},
     "output_type": "execute_result"
    }
   ],
   "source": [
    "\n",
    "type(iran_df.year[0])"
   ],
   "metadata": {
    "collapsed": false,
    "pycharm": {
     "name": "#%%\n"
    }
   }
  },
  {
   "cell_type": "code",
   "execution_count": 182,
   "outputs": [
    {
     "data": {
      "text/plain": "array([1960, 1961, 1962, 1963, 1964, 1965, 1966, 1967, 1968, 1969, 1970,\n       1971, 1972, 1973, 1974, 1975, 1976, 1977, 1978, 1979, 1980, 1981,\n       1982, 1983, 1984, 1985, 1986, 1987, 1988, 1989, 1990, 1991, 1992,\n       1993, 1994, 1995, 1996, 1997, 1998, 1999, 2000, 2001, 2002, 2003,\n       2004, 2005, 2006, 2007, 2008, 2009, 2010, 2011, 2012, 2013, 2014,\n       2015, 2016, 2017, 2018, 2019, 2020, 2021])"
     },
     "execution_count": 182,
     "metadata": {},
     "output_type": "execute_result"
    }
   ],
   "source": [
    "year1=np.array([int(i) for i in iran_df.year])\n",
    "year1"
   ],
   "metadata": {
    "collapsed": false,
    "pycharm": {
     "name": "#%%\n"
    }
   }
  },
  {
   "cell_type": "code",
   "execution_count": 183,
   "outputs": [
    {
     "data": {
      "text/plain": "    year            GdpCap\n0   1960   76178479.257974\n1   1961   81818768.499671\n2   1962   85862881.807224\n3   1963   89324924.723281\n4   1964   94105598.232686\n..   ...               ...\n57  2017  175212679.805083\n58  2018  169038282.648132\n59  2019  162745482.414356\n60  2020  166766747.954924\n61  2021  173379997.898094\n\n[62 rows x 2 columns]",
      "text/html": "<div>\n<style scoped>\n    .dataframe tbody tr th:only-of-type {\n        vertical-align: middle;\n    }\n\n    .dataframe tbody tr th {\n        vertical-align: top;\n    }\n\n    .dataframe thead th {\n        text-align: right;\n    }\n</style>\n<table border=\"1\" class=\"dataframe\">\n  <thead>\n    <tr style=\"text-align: right;\">\n      <th></th>\n      <th>year</th>\n      <th>GdpCap</th>\n    </tr>\n  </thead>\n  <tbody>\n    <tr>\n      <th>0</th>\n      <td>1960</td>\n      <td>76178479.257974</td>\n    </tr>\n    <tr>\n      <th>1</th>\n      <td>1961</td>\n      <td>81818768.499671</td>\n    </tr>\n    <tr>\n      <th>2</th>\n      <td>1962</td>\n      <td>85862881.807224</td>\n    </tr>\n    <tr>\n      <th>3</th>\n      <td>1963</td>\n      <td>89324924.723281</td>\n    </tr>\n    <tr>\n      <th>4</th>\n      <td>1964</td>\n      <td>94105598.232686</td>\n    </tr>\n    <tr>\n      <th>...</th>\n      <td>...</td>\n      <td>...</td>\n    </tr>\n    <tr>\n      <th>57</th>\n      <td>2017</td>\n      <td>175212679.805083</td>\n    </tr>\n    <tr>\n      <th>58</th>\n      <td>2018</td>\n      <td>169038282.648132</td>\n    </tr>\n    <tr>\n      <th>59</th>\n      <td>2019</td>\n      <td>162745482.414356</td>\n    </tr>\n    <tr>\n      <th>60</th>\n      <td>2020</td>\n      <td>166766747.954924</td>\n    </tr>\n    <tr>\n      <th>61</th>\n      <td>2021</td>\n      <td>173379997.898094</td>\n    </tr>\n  </tbody>\n</table>\n<p>62 rows × 2 columns</p>\n</div>"
     },
     "execution_count": 183,
     "metadata": {},
     "output_type": "execute_result"
    }
   ],
   "source": [
    "iran_df.year=year1\n",
    "iran_df"
   ],
   "metadata": {
    "collapsed": false,
    "pycharm": {
     "name": "#%%\n"
    }
   }
  },
  {
   "cell_type": "code",
   "execution_count": 180,
   "outputs": [
    {
     "data": {
      "text/plain": "numpy.int32"
     },
     "execution_count": 180,
     "metadata": {},
     "output_type": "execute_result"
    }
   ],
   "source": [
    "type(iran_df.year[0])"
   ],
   "metadata": {
    "collapsed": false,
    "pycharm": {
     "name": "#%%\n"
    }
   }
  },
  {
   "cell_type": "code",
   "execution_count": 181,
   "outputs": [
    {
     "data": {
      "text/plain": "int"
     },
     "execution_count": 181,
     "metadata": {},
     "output_type": "execute_result"
    }
   ],
   "source": [
    "type(iran_pop_df2.year[0])"
   ],
   "metadata": {
    "collapsed": false,
    "pycharm": {
     "name": "#%%\n"
    }
   }
  },
  {
   "cell_type": "code",
   "execution_count": 184,
   "outputs": [],
   "source": [
    "year2=np.array([int(i) for i in iran_pop_df2.year])\n",
    "iran_pop_df2.year=year2"
   ],
   "metadata": {
    "collapsed": false,
    "pycharm": {
     "name": "#%%\n"
    }
   }
  },
  {
   "cell_type": "code",
   "execution_count": 185,
   "outputs": [
    {
     "data": {
      "text/plain": "numpy.int32"
     },
     "execution_count": 185,
     "metadata": {},
     "output_type": "execute_result"
    }
   ],
   "source": [
    "type(iran_pop_df2.year[0])"
   ],
   "metadata": {
    "collapsed": false,
    "pycharm": {
     "name": "#%%\n"
    }
   }
  },
  {
   "cell_type": "code",
   "execution_count": 187,
   "outputs": [
    {
     "data": {
      "text/plain": "   year            GdpCap         pop\n0  1967  125202988.603697  2507880722\n1  1977  233259148.644073  3307080744\n2  1987  106372506.958596  4904450010\n3  1992  119379079.251648  5508370163\n4  1997  121271821.924184  6000550488\n5  2007  169738681.968536  7004720846\n6  2012  168031872.348036  7501490669\n7  2017  175212679.805083  7909260270",
      "text/html": "<div>\n<style scoped>\n    .dataframe tbody tr th:only-of-type {\n        vertical-align: middle;\n    }\n\n    .dataframe tbody tr th {\n        vertical-align: top;\n    }\n\n    .dataframe thead th {\n        text-align: right;\n    }\n</style>\n<table border=\"1\" class=\"dataframe\">\n  <thead>\n    <tr style=\"text-align: right;\">\n      <th></th>\n      <th>year</th>\n      <th>GdpCap</th>\n      <th>pop</th>\n    </tr>\n  </thead>\n  <tbody>\n    <tr>\n      <th>0</th>\n      <td>1967</td>\n      <td>125202988.603697</td>\n      <td>2507880722</td>\n    </tr>\n    <tr>\n      <th>1</th>\n      <td>1977</td>\n      <td>233259148.644073</td>\n      <td>3307080744</td>\n    </tr>\n    <tr>\n      <th>2</th>\n      <td>1987</td>\n      <td>106372506.958596</td>\n      <td>4904450010</td>\n    </tr>\n    <tr>\n      <th>3</th>\n      <td>1992</td>\n      <td>119379079.251648</td>\n      <td>5508370163</td>\n    </tr>\n    <tr>\n      <th>4</th>\n      <td>1997</td>\n      <td>121271821.924184</td>\n      <td>6000550488</td>\n    </tr>\n    <tr>\n      <th>5</th>\n      <td>2007</td>\n      <td>169738681.968536</td>\n      <td>7004720846</td>\n    </tr>\n    <tr>\n      <th>6</th>\n      <td>2012</td>\n      <td>168031872.348036</td>\n      <td>7501490669</td>\n    </tr>\n    <tr>\n      <th>7</th>\n      <td>2017</td>\n      <td>175212679.805083</td>\n      <td>7909260270</td>\n    </tr>\n  </tbody>\n</table>\n</div>"
     },
     "execution_count": 187,
     "metadata": {},
     "output_type": "execute_result"
    }
   ],
   "source": [
    "finall=pd.merge(iran_df,iran_pop_df2)\n",
    "finall"
   ],
   "metadata": {
    "collapsed": false,
    "pycharm": {
     "name": "#%%\n"
    }
   }
  },
  {
   "cell_type": "code",
   "execution_count": 190,
   "outputs": [
    {
     "data": {
      "text/plain": "0    2507880722\n1    3307080744\n2    4904450010\n3    5508370163\n4    6000550488\n5    7004720846\n6    7501490669\n7    7909260270\nName: pop, dtype: object"
     },
     "execution_count": 190,
     "metadata": {},
     "output_type": "execute_result"
    }
   ],
   "source": [
    "finall['pop']"
   ],
   "metadata": {
    "collapsed": false,
    "pycharm": {
     "name": "#%%\n"
    }
   }
  },
  {
   "cell_type": "code",
   "execution_count": 192,
   "outputs": [
    {
     "data": {
      "text/plain": "[<matplotlib.lines.Line2D at 0x1dbfb92a860>]"
     },
     "execution_count": 192,
     "metadata": {},
     "output_type": "execute_result"
    },
    {
     "data": {
      "text/plain": "<Figure size 640x480 with 1 Axes>",
      "image/png": "[encoded data removed]"
     },
     "metadata": {},
     "output_type": "display_data"
    }
   ],
   "source": [
    "plt.plot(finall.GdpCap,c='blue')\n",
    "plt.plot((finall['GdpCap'][0]/finall['pop'][0])*finall['pop'],c='red')"
   ],
   "metadata": {
    "collapsed": false,
    "pycharm": {
     "name": "#%%\n"
    }
   }
  },
  {
   "cell_type": "code",
   "execution_count": 193,
   "outputs": [
    {
     "data": {
      "text/plain": "<matplotlib.collections.PathCollection at 0x1dbfb9a98a0>"
     },
     "execution_count": 193,
     "metadata": {},
     "output_type": "execute_result"
    },
    {
     "data": {
      "text/plain": "<Figure size 640x480 with 1 Axes>",
      "image/png": "[encoded data removed]"
     },
     "metadata": {},
     "output_type": "display_data"
    }
   ],
   "source": [
    "plt.scatter(finall['pop'],finall['GdpCap'])"
   ],
   "metadata": {
    "collapsed": false,
    "pycharm": {
     "name": "#%%\n"
    }
   }
  },
  {
   "cell_type": "code",
   "execution_count": null,
   "outputs": [],
   "source": [],
   "metadata": {
    "collapsed": false,
    "pycharm": {
     "name": "#%%\n"
    }
   }
  }
 ],
 "metadata": {
  "kernelspec": {
   "display_name": "Python 3",
   "language": "python",
   "name": "python3"
  },
  "language_info": {
   "codemirror_mode": {
    "name": "ipython",
    "version": 2
   },
   "file_extension": ".py",
   "mimetype": "text/x-python",
   "name": "python",
   "nbconvert_exporter": "python",
   "pygments_lexer": "ipython2",
   "version": "2.7.6"
  }
 },
 "nbformat": 4,
 "nbformat_minor": 0
}