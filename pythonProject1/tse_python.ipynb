{
 "cells": [
  {
   "cell_type": "code",
   "execution_count": 1,
   "metadata": {
    "collapsed": true,
    "pycharm": {
     "name": "#%%\n"
    }
   },
   "outputs": [],
   "source": [
    "import numpy as np\n",
    "import pandas as pd\n",
    "import finpy_tse as tse\n",
    "import mplfinance as mplf\n",
    "import scipy.stats as stt\n",
    "import matplotlib.pyplot as plt"
   ]
  },
  {
   "cell_type": "code",
   "execution_count": 61,
   "outputs": [
    {
     "data": {
      "text/plain": "              Open    High     Low   Close\nJ-Date                                    \n1390-09-06   13700   13700   13700   13700\n1390-09-07   13440   13440   13440   13440\n1390-09-08   13350   13350   13350   13350\n1390-09-09   13400   13400   13400   13400\n1390-09-10   13500   13500   13500   13500\n...            ...     ...     ...     ...\n1401-10-04  395670  399000  393270  395650\n1401-10-05  395590  405790  390090  397210\n1401-10-07  401040  425060  397830  403000\n1401-10-08  418960  418960  418960  418960\n1401-10-08  413630  417140  400560  416150\n\n[3193 rows x 4 columns]",
      "text/html": "<div>\n<style scoped>\n    .dataframe tbody tr th:only-of-type {\n        vertical-align: middle;\n    }\n\n    .dataframe tbody tr th {\n        vertical-align: top;\n    }\n\n    .dataframe thead th {\n        text-align: right;\n    }\n</style>\n<table border=\"1\" class=\"dataframe\">\n  <thead>\n    <tr style=\"text-align: right;\">\n      <th></th>\n      <th>Open</th>\n      <th>High</th>\n      <th>Low</th>\n      <th>Close</th>\n    </tr>\n    <tr>\n      <th>J-Date</th>\n      <th></th>\n      <th></th>\n      <th></th>\n      <th></th>\n    </tr>\n  </thead>\n  <tbody>\n    <tr>\n      <th>1390-09-06</th>\n      <td>13700</td>\n      <td>13700</td>\n      <td>13700</td>\n      <td>13700</td>\n    </tr>\n    <tr>\n      <th>1390-09-07</th>\n      <td>13440</td>\n      <td>13440</td>\n      <td>13440</td>\n      <td>13440</td>\n    </tr>\n    <tr>\n      <th>1390-09-08</th>\n      <td>13350</td>\n      <td>13350</td>\n      <td>13350</td>\n      <td>13350</td>\n    </tr>\n    <tr>\n      <th>1390-09-09</th>\n      <td>13400</td>\n      <td>13400</td>\n      <td>13400</td>\n      <td>13400</td>\n    </tr>\n    <tr>\n      <th>1390-09-10</th>\n      <td>13500</td>\n      <td>13500</td>\n      <td>13500</td>\n      <td>13500</td>\n    </tr>\n    <tr>\n      <th>...</th>\n      <td>...</td>\n      <td>...</td>\n      <td>...</td>\n      <td>...</td>\n    </tr>\n    <tr>\n      <th>1401-10-04</th>\n      <td>395670</td>\n      <td>399000</td>\n      <td>393270</td>\n      <td>395650</td>\n    </tr>\n    <tr>\n      <th>1401-10-05</th>\n      <td>395590</td>\n      <td>405790</td>\n      <td>390090</td>\n      <td>397210</td>\n    </tr>\n    <tr>\n      <th>1401-10-07</th>\n      <td>401040</td>\n      <td>425060</td>\n      <td>397830</td>\n      <td>403000</td>\n    </tr>\n    <tr>\n      <th>1401-10-08</th>\n      <td>418960</td>\n      <td>418960</td>\n      <td>418960</td>\n      <td>418960</td>\n    </tr>\n    <tr>\n      <th>1401-10-08</th>\n      <td>413630</td>\n      <td>417140</td>\n      <td>400560</td>\n      <td>416150</td>\n    </tr>\n  </tbody>\n</table>\n<p>3193 rows × 4 columns</p>\n</div>"
     },
     "execution_count": 61,
     "metadata": {},
     "output_type": "execute_result"
    }
   ],
   "source": [
    "usdPirr=tse.Get_USD_RIAL(ignore_date=True)\n",
    "usdPirr"
   ],
   "metadata": {
    "collapsed": false,
    "pycharm": {
     "name": "#%%\n"
    }
   }
  },
  {
   "cell_type": "code",
   "execution_count": 4,
   "outputs": [
    {
     "data": {
      "text/plain": "                 Open       High        Low      Close  Adj Close       Volume\nJ-Date                                                                        \n1387-09-16     9249.0     9249.0     9168.0     9178.0     9178.3      8539624\n1387-09-17     9178.0     9178.0     9130.0     9130.0     9130.5     11752353\n1387-09-18     9103.0     9103.0     9080.0     9089.0     9089.2     15299115\n1387-09-20     9072.0     9072.0     9024.0     9024.0     9023.7     15689653\n1387-09-23     8973.0     8973.0     8973.0     8973.0     8973.3     31428174\n...               ...        ...        ...        ...        ...          ...\n1401-09-30  1492600.0  1496370.0  1492600.0  1496201.0  1496200.8   6185140338\n1401-10-03  1500750.0  1538000.0  1500750.0  1538003.0  1538003.2  10103385881\n1401-10-04  1547140.0  1563560.0  1547140.0  1563567.0  1563567.4  10776995540\n1401-10-05  1566820.0  1576410.0  1563160.0  1576397.0  1576396.8   9446689906\n1401-10-07  1588820.0  1647310.0  1588820.0  1647314.0  1647314.5  15175183890\n\n[3390 rows x 6 columns]",
      "text/html": "<div>\n<style scoped>\n    .dataframe tbody tr th:only-of-type {\n        vertical-align: middle;\n    }\n\n    .dataframe tbody tr th {\n        vertical-align: top;\n    }\n\n    .dataframe thead th {\n        text-align: right;\n    }\n</style>\n<table border=\"1\" class=\"dataframe\">\n  <thead>\n    <tr style=\"text-align: right;\">\n      <th></th>\n      <th>Open</th>\n      <th>High</th>\n      <th>Low</th>\n      <th>Close</th>\n      <th>Adj Close</th>\n      <th>Volume</th>\n    </tr>\n    <tr>\n      <th>J-Date</th>\n      <th></th>\n      <th></th>\n      <th></th>\n      <th></th>\n      <th></th>\n      <th></th>\n    </tr>\n  </thead>\n  <tbody>\n    <tr>\n      <th>1387-09-16</th>\n      <td>9249.0</td>\n      <td>9249.0</td>\n      <td>9168.0</td>\n      <td>9178.0</td>\n      <td>9178.3</td>\n      <td>8539624</td>\n    </tr>\n    <tr>\n      <th>1387-09-17</th>\n      <td>9178.0</td>\n      <td>9178.0</td>\n      <td>9130.0</td>\n      <td>9130.0</td>\n      <td>9130.5</td>\n      <td>11752353</td>\n    </tr>\n    <tr>\n      <th>1387-09-18</th>\n      <td>9103.0</td>\n      <td>9103.0</td>\n      <td>9080.0</td>\n      <td>9089.0</td>\n      <td>9089.2</td>\n      <td>15299115</td>\n    </tr>\n    <tr>\n      <th>1387-09-20</th>\n      <td>9072.0</td>\n      <td>9072.0</td>\n      <td>9024.0</td>\n      <td>9024.0</td>\n      <td>9023.7</td>\n      <td>15689653</td>\n    </tr>\n    <tr>\n      <th>1387-09-23</th>\n      <td>8973.0</td>\n      <td>8973.0</td>\n      <td>8973.0</td>\n      <td>8973.0</td>\n      <td>8973.3</td>\n      <td>31428174</td>\n    </tr>\n    <tr>\n      <th>...</th>\n      <td>...</td>\n      <td>...</td>\n      <td>...</td>\n      <td>...</td>\n      <td>...</td>\n      <td>...</td>\n    </tr>\n    <tr>\n      <th>1401-09-30</th>\n      <td>1492600.0</td>\n      <td>1496370.0</td>\n      <td>1492600.0</td>\n      <td>1496201.0</td>\n      <td>1496200.8</td>\n      <td>6185140338</td>\n    </tr>\n    <tr>\n      <th>1401-10-03</th>\n      <td>1500750.0</td>\n      <td>1538000.0</td>\n      <td>1500750.0</td>\n      <td>1538003.0</td>\n      <td>1538003.2</td>\n      <td>10103385881</td>\n    </tr>\n    <tr>\n      <th>1401-10-04</th>\n      <td>1547140.0</td>\n      <td>1563560.0</td>\n      <td>1547140.0</td>\n      <td>1563567.0</td>\n      <td>1563567.4</td>\n      <td>10776995540</td>\n    </tr>\n    <tr>\n      <th>1401-10-05</th>\n      <td>1566820.0</td>\n      <td>1576410.0</td>\n      <td>1563160.0</td>\n      <td>1576397.0</td>\n      <td>1576396.8</td>\n      <td>9446689906</td>\n    </tr>\n    <tr>\n      <th>1401-10-07</th>\n      <td>1588820.0</td>\n      <td>1647310.0</td>\n      <td>1588820.0</td>\n      <td>1647314.0</td>\n      <td>1647314.5</td>\n      <td>15175183890</td>\n    </tr>\n  </tbody>\n</table>\n<p>3390 rows × 6 columns</p>\n</div>"
     },
     "execution_count": 4,
     "metadata": {},
     "output_type": "execute_result"
    }
   ],
   "source": [
    "skkhskl_df=tse.Get_CWI_History(ignore_date=True)\n",
    "skkhskl_df"
   ],
   "metadata": {
    "collapsed": false,
    "pycharm": {
     "name": "#%%\n"
    }
   }
  },
  {
   "cell_type": "code",
   "execution_count": 5,
   "outputs": [],
   "source": [
    "#s1_df=tse.Get_Price_History(stock='فزر',ignore_date=True,double_date=True)\n",
    "#s1_df"
   ],
   "metadata": {
    "collapsed": false,
    "pycharm": {
     "name": "#%%\n"
    }
   }
  },
  {
   "cell_type": "code",
   "execution_count": 6,
   "outputs": [],
   "source": [
    "#s1_df.index=s1_df.Date"
   ],
   "metadata": {
    "collapsed": false,
    "pycharm": {
     "name": "#%%\n"
    }
   }
  },
  {
   "cell_type": "code",
   "execution_count": 7,
   "outputs": [],
   "source": [
    "#s1_df"
   ],
   "metadata": {
    "collapsed": false,
    "pycharm": {
     "name": "#%%\n"
    }
   }
  },
  {
   "cell_type": "code",
   "execution_count": 8,
   "outputs": [],
   "source": [
    "#mplf.plot(s1_df[:],type='candle')"
   ],
   "metadata": {
    "collapsed": false,
    "pycharm": {
     "name": "#%%\n"
    }
   }
  },
  {
   "cell_type": "code",
   "execution_count": 9,
   "outputs": [
    {
     "name": "stdout",
     "output_type": "stream",
     "text": [
      "Progress : 100 % , Done in 31 seconds!\n",
      "Save path does not exist, you can handle saving this data by returned dataframe as Excel using \".to_excel()\", if you will!\n",
      "Save path does not exist, you can handle saving this data by returned dataframe as CSV using \".to_csv()\", if you will!\n"
     ]
    },
    {
     "data": {
      "text/plain": "                                 Name   Market                         Panel  \\\nTicker                                                                         \nآباد    توریستی ورفاهی آبادگران ایران     بورس                بازار دوم بورس   \nآبادا          تولید نیروی برق آبادان     بورس                بازار دوم بورس   \nآپ                  آسان پرداخت پرشین     بورس                بازار دوم بورس   \nآسیا                        بیمه آسیا     بورس  بازار اول (تابلوی اصلی) بورس   \nاپال      فرآوری معدنی اپال کانی پارس     بورس                بازار دوم بورس   \n...                               ...      ...                           ...   \nومعلم                       بیمه معلم  فرابورس             بازار دوم فرابورس   \nوملل                      اعتباری ملل  فرابورس             بازار دوم فرابورس   \nومهان     گروه توسعه مالی مهر آیندگان  فرابورس             بازار دوم فرابورس   \nوهامون         سرمایه گذاری هامون صبا  فرابورس             بازار اول فرابورس   \nوهور      مدیریت انرژی امید تابان هور  فرابورس             بازار دوم فرابورس   \n\n                                          Sector  \\\nTicker                                             \nآباد                               هتل و رستوران   \nآبادا                 عرضه برق، گاز، بخاروآب گرم   \nآپ              رایانه و فعالیت های وابسته به آن   \nآسیا    بیمه وصندوق بازنشستگی به جزتامین اجتماعی   \nاپال                       استخراج کانه های فلزی   \n...                                          ...   \nومعلم   بیمه وصندوق بازنشستگی به جزتامین اجتماعی   \nوملل                     بانکها و موسسات اعتباری   \nومهان                             سرمایه گذاریها   \nوهامون                            سرمایه گذاریها   \nوهور                  عرضه برق، گاز، بخاروآب گرم   \n\n                                      Sub-Sector Comment            Name(EN)  \\\nTicker                                                                         \nآباد    هتل ها ، اردو و دیگر تدارکات اقامت کوتاه       -           Abadgaran   \nآبادا             تولید انتقال و توزیع نیروی برق       -           Abadan PG   \nآپ                       مشاوره و تهیه نرم افزار       -  Asan Pardakht Pers   \nآسیا                               بیمه غیرزندگی       -           Asia Bime   \nاپال                                 استخراج آهن       -      Opal Kani Pars   \n...                                          ...     ...                 ...   \nومعلم                              بیمه غیرزندگی       -   Moallem Insurance   \nوملل                         سایر واسطه های پولی       -  Melal Credit Inst.   \nومهان                        سایر واسطه های مالی       -      Mehr Ayandegan   \nوهامون                       سایر واسطه های مالی       -    Hamoon Saba Inv.   \nوهور              تولید انتقال و توزیع نیروی برق       -     Omid Taban Hoor   \n\n       Company Code(12) Ticker(4) Ticker(5)    Ticker(12) Sector Code  \\\nTicker                                                                  \nآباد       IRO1ABAD0002      ABAD     ABAD1  IRO1ABAD0001          55   \nآبادا      IRO1NBAB0009      NBAB     NBAB1  IRO1NBAB0001          40   \nآپ         IRO1APPE0008      APPE     APPE1  IRO1APPE0001          72   \nآسیا       IRO1ASIA0008      ASIA     ASIA1  IRO1ASIA0001          66   \nاپال       IRO1OPAL0000      OPAL     OPAL1  IRO1OPAL0001          13   \n...                 ...       ...       ...           ...         ...   \nومعلم      IRO3MOIZ0007      MOIZ     MOIZ1  IRO3MOIZ0001          66   \nوملل       IRO3ASKZ0003      ASKZ     ASKZ1  IRO3ASKZ0001          57   \nومهان      IRO3MEAZ0007      MEAZ     MEAZ1  IRO3MEAZ0001          56   \nوهامون     IRO3HAIZ0000      HAIZ     HAIZ1  IRO3HAIZ0001          56   \nوهور       IRO3HORZ0003      HORZ     HORZ1  IRO3HORZ0001          40   \n\n       Sub-Sector Code Panel Code  \nTicker                             \nآباد              5510          5  \nآبادا             4010          5  \nآپ                7220          5  \nآسیا              6603          1  \nاپال              1310          5  \n...                ...        ...  \nومعلم             6603          3  \nوملل              5719          3  \nومهان             5699          3  \nوهامون            5699          1  \nوهور              4010          3  \n\n[541 rows x 14 columns]",
      "text/html": "<div>\n<style scoped>\n    .dataframe tbody tr th:only-of-type {\n        vertical-align: middle;\n    }\n\n    .dataframe tbody tr th {\n        vertical-align: top;\n    }\n\n    .dataframe thead th {\n        text-align: right;\n    }\n</style>\n<table border=\"1\" class=\"dataframe\">\n  <thead>\n    <tr style=\"text-align: right;\">\n      <th></th>\n      <th>Name</th>\n      <th>Market</th>\n      <th>Panel</th>\n      <th>Sector</th>\n      <th>Sub-Sector</th>\n      <th>Comment</th>\n      <th>Name(EN)</th>\n      <th>Company Code(12)</th>\n      <th>Ticker(4)</th>\n      <th>Ticker(5)</th>\n      <th>Ticker(12)</th>\n      <th>Sector Code</th>\n      <th>Sub-Sector Code</th>\n      <th>Panel Code</th>\n    </tr>\n    <tr>\n      <th>Ticker</th>\n      <th></th>\n      <th></th>\n      <th></th>\n      <th></th>\n      <th></th>\n      <th></th>\n      <th></th>\n      <th></th>\n      <th></th>\n      <th></th>\n      <th></th>\n      <th></th>\n      <th></th>\n      <th></th>\n    </tr>\n  </thead>\n  <tbody>\n    <tr>\n      <th>آباد</th>\n      <td>توریستی ورفاهی آبادگران ایران</td>\n      <td>بورس</td>\n      <td>بازار دوم بورس</td>\n      <td>هتل و رستوران</td>\n      <td>هتل ها ، اردو و دیگر تدارکات اقامت کوتاه</td>\n      <td>-</td>\n      <td>Abadgaran</td>\n      <td>IRO1ABAD0002</td>\n      <td>ABAD</td>\n      <td>ABAD1</td>\n      <td>IRO1ABAD0001</td>\n      <td>55</td>\n      <td>5510</td>\n      <td>5</td>\n    </tr>\n    <tr>\n      <th>آبادا</th>\n      <td>تولید نیروی برق آبادان</td>\n      <td>بورس</td>\n      <td>بازار دوم بورس</td>\n      <td>عرضه برق، گاز، بخاروآب گرم</td>\n      <td>تولید انتقال و توزیع نیروی برق</td>\n      <td>-</td>\n      <td>Abadan PG</td>\n      <td>IRO1NBAB0009</td>\n      <td>NBAB</td>\n      <td>NBAB1</td>\n      <td>IRO1NBAB0001</td>\n      <td>40</td>\n      <td>4010</td>\n      <td>5</td>\n    </tr>\n    <tr>\n      <th>آپ</th>\n      <td>آسان پرداخت پرشین</td>\n      <td>بورس</td>\n      <td>بازار دوم بورس</td>\n      <td>رایانه و فعالیت های وابسته به آن</td>\n      <td>مشاوره و تهیه نرم افزار</td>\n      <td>-</td>\n      <td>Asan Pardakht Pers</td>\n      <td>IRO1APPE0008</td>\n      <td>APPE</td>\n      <td>APPE1</td>\n      <td>IRO1APPE0001</td>\n      <td>72</td>\n      <td>7220</td>\n      <td>5</td>\n    </tr>\n    <tr>\n      <th>آسیا</th>\n      <td>بیمه آسیا</td>\n      <td>بورس</td>\n      <td>بازار اول (تابلوی اصلی) بورس</td>\n      <td>بیمه وصندوق بازنشستگی به جزتامین اجتماعی</td>\n      <td>بیمه غیرزندگی</td>\n      <td>-</td>\n      <td>Asia Bime</td>\n      <td>IRO1ASIA0008</td>\n      <td>ASIA</td>\n      <td>ASIA1</td>\n      <td>IRO1ASIA0001</td>\n      <td>66</td>\n      <td>6603</td>\n      <td>1</td>\n    </tr>\n    <tr>\n      <th>اپال</th>\n      <td>فرآوری معدنی اپال کانی پارس</td>\n      <td>بورس</td>\n      <td>بازار دوم بورس</td>\n      <td>استخراج کانه های فلزی</td>\n      <td>استخراج آهن</td>\n      <td>-</td>\n      <td>Opal Kani Pars</td>\n      <td>IRO1OPAL0000</td>\n      <td>OPAL</td>\n      <td>OPAL1</td>\n      <td>IRO1OPAL0001</td>\n      <td>13</td>\n      <td>1310</td>\n      <td>5</td>\n    </tr>\n    <tr>\n      <th>...</th>\n      <td>...</td>\n      <td>...</td>\n      <td>...</td>\n      <td>...</td>\n      <td>...</td>\n      <td>...</td>\n      <td>...</td>\n      <td>...</td>\n      <td>...</td>\n      <td>...</td>\n      <td>...</td>\n      <td>...</td>\n      <td>...</td>\n      <td>...</td>\n    </tr>\n    <tr>\n      <th>ومعلم</th>\n      <td>بیمه معلم</td>\n      <td>فرابورس</td>\n      <td>بازار دوم فرابورس</td>\n      <td>بیمه وصندوق بازنشستگی به جزتامین اجتماعی</td>\n      <td>بیمه غیرزندگی</td>\n      <td>-</td>\n      <td>Moallem Insurance</td>\n      <td>IRO3MOIZ0007</td>\n      <td>MOIZ</td>\n      <td>MOIZ1</td>\n      <td>IRO3MOIZ0001</td>\n      <td>66</td>\n      <td>6603</td>\n      <td>3</td>\n    </tr>\n    <tr>\n      <th>وملل</th>\n      <td>اعتباری ملل</td>\n      <td>فرابورس</td>\n      <td>بازار دوم فرابورس</td>\n      <td>بانکها و موسسات اعتباری</td>\n      <td>سایر واسطه های پولی</td>\n      <td>-</td>\n      <td>Melal Credit Inst.</td>\n      <td>IRO3ASKZ0003</td>\n      <td>ASKZ</td>\n      <td>ASKZ1</td>\n      <td>IRO3ASKZ0001</td>\n      <td>57</td>\n      <td>5719</td>\n      <td>3</td>\n    </tr>\n    <tr>\n      <th>ومهان</th>\n      <td>گروه توسعه مالی مهر آیندگان</td>\n      <td>فرابورس</td>\n      <td>بازار دوم فرابورس</td>\n      <td>سرمایه گذاریها</td>\n      <td>سایر واسطه های مالی</td>\n      <td>-</td>\n      <td>Mehr Ayandegan</td>\n      <td>IRO3MEAZ0007</td>\n      <td>MEAZ</td>\n      <td>MEAZ1</td>\n      <td>IRO3MEAZ0001</td>\n      <td>56</td>\n      <td>5699</td>\n      <td>3</td>\n    </tr>\n    <tr>\n      <th>وهامون</th>\n      <td>سرمایه گذاری هامون صبا</td>\n      <td>فرابورس</td>\n      <td>بازار اول فرابورس</td>\n      <td>سرمایه گذاریها</td>\n      <td>سایر واسطه های مالی</td>\n      <td>-</td>\n      <td>Hamoon Saba Inv.</td>\n      <td>IRO3HAIZ0000</td>\n      <td>HAIZ</td>\n      <td>HAIZ1</td>\n      <td>IRO3HAIZ0001</td>\n      <td>56</td>\n      <td>5699</td>\n      <td>1</td>\n    </tr>\n    <tr>\n      <th>وهور</th>\n      <td>مدیریت انرژی امید تابان هور</td>\n      <td>فرابورس</td>\n      <td>بازار دوم فرابورس</td>\n      <td>عرضه برق، گاز، بخاروآب گرم</td>\n      <td>تولید انتقال و توزیع نیروی برق</td>\n      <td>-</td>\n      <td>Omid Taban Hoor</td>\n      <td>IRO3HORZ0003</td>\n      <td>HORZ</td>\n      <td>HORZ1</td>\n      <td>IRO3HORZ0001</td>\n      <td>40</td>\n      <td>4010</td>\n      <td>3</td>\n    </tr>\n  </tbody>\n</table>\n<p>541 rows × 14 columns</p>\n</div>"
     },
     "execution_count": 9,
     "metadata": {},
     "output_type": "execute_result"
    }
   ],
   "source": [
    "symb=tse.Build_Market_StockList(bourse=True,farabourse=True,payeh=False)\n",
    "symb"
   ],
   "metadata": {
    "collapsed": false,
    "pycharm": {
     "name": "#%%\n"
    }
   }
  },
  {
   "cell_type": "code",
   "execution_count": 10,
   "outputs": [],
   "source": [
    "symbols=symb.index\n"
   ],
   "metadata": {
    "collapsed": false,
    "pycharm": {
     "name": "#%%\n"
    }
   }
  },
  {
   "cell_type": "code",
   "execution_count": 11,
   "outputs": [
    {
     "data": {
      "text/plain": "'ETKA'"
     },
     "execution_count": 11,
     "metadata": {},
     "output_type": "execute_result"
    }
   ],
   "source": [
    "symb['Ticker(4)'][5]"
   ],
   "metadata": {
    "collapsed": false,
    "pycharm": {
     "name": "#%%\n"
    }
   }
  },
  {
   "cell_type": "code",
   "execution_count": 12,
   "outputs": [
    {
     "data": {
      "text/plain": "     Ticker            Eng_name\n0      آباد           Abadgaran\n1     آبادا           Abadan_PG\n2        آپ  Asan_Pardakht_Pers\n3      آسیا           Asia_Bime\n4      اپال      Opal_Kani_Pars\n..      ...                 ...\n536   ومعلم   Moallem_Insurance\n537    وملل  Melal_Credit_Inst.\n538   ومهان      Mehr_Ayandegan\n539  وهامون    Hamoon_Saba_Inv.\n540    وهور     Omid_Taban_Hoor\n\n[541 rows x 2 columns]",
      "text/html": "<div>\n<style scoped>\n    .dataframe tbody tr th:only-of-type {\n        vertical-align: middle;\n    }\n\n    .dataframe tbody tr th {\n        vertical-align: top;\n    }\n\n    .dataframe thead th {\n        text-align: right;\n    }\n</style>\n<table border=\"1\" class=\"dataframe\">\n  <thead>\n    <tr style=\"text-align: right;\">\n      <th></th>\n      <th>Ticker</th>\n      <th>Eng_name</th>\n    </tr>\n  </thead>\n  <tbody>\n    <tr>\n      <th>0</th>\n      <td>آباد</td>\n      <td>Abadgaran</td>\n    </tr>\n    <tr>\n      <th>1</th>\n      <td>آبادا</td>\n      <td>Abadan_PG</td>\n    </tr>\n    <tr>\n      <th>2</th>\n      <td>آپ</td>\n      <td>Asan_Pardakht_Pers</td>\n    </tr>\n    <tr>\n      <th>3</th>\n      <td>آسیا</td>\n      <td>Asia_Bime</td>\n    </tr>\n    <tr>\n      <th>4</th>\n      <td>اپال</td>\n      <td>Opal_Kani_Pars</td>\n    </tr>\n    <tr>\n      <th>...</th>\n      <td>...</td>\n      <td>...</td>\n    </tr>\n    <tr>\n      <th>536</th>\n      <td>ومعلم</td>\n      <td>Moallem_Insurance</td>\n    </tr>\n    <tr>\n      <th>537</th>\n      <td>وملل</td>\n      <td>Melal_Credit_Inst.</td>\n    </tr>\n    <tr>\n      <th>538</th>\n      <td>ومهان</td>\n      <td>Mehr_Ayandegan</td>\n    </tr>\n    <tr>\n      <th>539</th>\n      <td>وهامون</td>\n      <td>Hamoon_Saba_Inv.</td>\n    </tr>\n    <tr>\n      <th>540</th>\n      <td>وهور</td>\n      <td>Omid_Taban_Hoor</td>\n    </tr>\n  </tbody>\n</table>\n<p>541 rows × 2 columns</p>\n</div>"
     },
     "execution_count": 12,
     "metadata": {},
     "output_type": "execute_result"
    }
   ],
   "source": [
    "symbols_df=pd.DataFrame(symbols)\n",
    "symbols_df['Eng_name']=''\n",
    "for i in symbols_df.index:\n",
    "    symbols_df['Eng_name'][i]=symb['Name(EN)'][i].replace(' ','_')\n",
    "symbols_df"
   ],
   "metadata": {
    "collapsed": false,
    "pycharm": {
     "name": "#%%\n"
    }
   }
  },
  {
   "cell_type": "code",
   "execution_count": 13,
   "outputs": [],
   "source": [
    "symbols_df.to_csv('F:\\\\my project\\\\dataset\\\\tse\\\\symbols.csv')"
   ],
   "metadata": {
    "collapsed": false,
    "pycharm": {
     "name": "#%%\n"
    }
   }
  },
  {
   "cell_type": "code",
   "execution_count": null,
   "outputs": [],
   "source": [
    "from tqdm import tqdm\n",
    "from time import sleep"
   ],
   "metadata": {
    "collapsed": false,
    "pycharm": {
     "name": "#%%\n"
    }
   }
  },
  {
   "cell_type": "code",
   "execution_count": null,
   "outputs": [],
   "source": [
    "for i in tqdm(range(100)):\n",
    "    sleep(0.1)"
   ],
   "metadata": {
    "collapsed": false,
    "pycharm": {
     "name": "#%%\n"
    }
   }
  },
  {
   "cell_type": "code",
   "execution_count": null,
   "outputs": [],
   "source": [
    "#str(s1_df.index[0])[:10].replace('-','')"
   ],
   "metadata": {
    "collapsed": false,
    "pycharm": {
     "name": "#%%\n"
    }
   }
  },
  {
   "cell_type": "code",
   "execution_count": null,
   "outputs": [],
   "source": [],
   "metadata": {
    "collapsed": false,
    "pycharm": {
     "name": "#%%\n"
    }
   }
  },
  {
   "cell_type": "code",
   "execution_count": null,
   "outputs": [],
   "source": [
    "#for i in s1_df.index:\n",
    "#    print(str(s1_df['Date'][i])[:10].replace('-',''))"
   ],
   "metadata": {
    "collapsed": false,
    "pycharm": {
     "name": "#%%\n"
    }
   }
  },
  {
   "cell_type": "code",
   "execution_count": null,
   "outputs": [],
   "source": [
    "#s1_df"
   ],
   "metadata": {
    "collapsed": false,
    "pycharm": {
     "name": "#%%\n"
    }
   }
  },
  {
   "cell_type": "code",
   "execution_count": null,
   "outputs": [],
   "source": [
    "#s1_df.drop(['Date','Final','Value','No','Ticker','Name','Market','Date2'],axis=1,inplace=True)\n",
    "#s1_df"
   ],
   "metadata": {
    "collapsed": false,
    "pycharm": {
     "name": "#%%\n"
    }
   }
  },
  {
   "cell_type": "code",
   "execution_count": null,
   "outputs": [],
   "source": [
    "#s1_df.to_csv('C:\\\\Users\\\\ADMIN\\\\Desktop\\\\ex.csv')"
   ],
   "metadata": {
    "collapsed": false,
    "pycharm": {
     "name": "#%%\n"
    }
   }
  },
  {
   "cell_type": "code",
   "execution_count": null,
   "outputs": [],
   "source": [
    "#path='C:\\\\Users\\\\ADMIN\\\\AppData\\\\Roaming\\\\MetaQuotes\\\\Terminal\\\\2506E8E7E4116548D478CE2C3598FAB1\\\\MQL5\\\\Files\\\\camid-D1.prn'\n",
    "#ex_df=pd.read_csv(path)\n",
    "#ex_df"
   ],
   "metadata": {
    "collapsed": false,
    "pycharm": {
     "name": "#%%\n"
    }
   }
  },
  {
   "cell_type": "code",
   "execution_count": null,
   "outputs": [],
   "source": [
    "for i in range(100):\n",
    "    print('.',end='')\n",
    "    sleep(0.1)"
   ],
   "metadata": {
    "collapsed": false,
    "pycharm": {
     "name": "#%%\n"
    }
   }
  },
  {
   "cell_type": "code",
   "execution_count": null,
   "outputs": [],
   "source": [
    "#name=symbols_df.Ticker[10]\n",
    "#name"
   ],
   "metadata": {
    "collapsed": false,
    "pycharm": {
     "name": "#%%\n"
    }
   }
  },
  {
   "cell_type": "code",
   "execution_count": null,
   "outputs": [],
   "source": [
    "#name_df=tse.Get_Price_History(name,ignore_date=True,double_date=True)\n",
    "#name_df"
   ],
   "metadata": {
    "collapsed": false,
    "pycharm": {
     "name": "#%%\n"
    }
   }
  },
  {
   "cell_type": "code",
   "execution_count": null,
   "outputs": [],
   "source": [
    "#name_df.drop(['Final','Value','No','Ticker','Name','Market'],axis=1,inplace=True)\n",
    "#name_df"
   ],
   "metadata": {
    "collapsed": false,
    "pycharm": {
     "name": "#%%\n"
    }
   }
  },
  {
   "cell_type": "code",
   "execution_count": null,
   "outputs": [],
   "source": [
    "#name_df['Date_']=''"
   ],
   "metadata": {
    "collapsed": false,
    "pycharm": {
     "name": "#%%\n"
    }
   }
  },
  {
   "cell_type": "code",
   "execution_count": null,
   "outputs": [],
   "source": [
    "\n",
    "\"\"\"for j in name_df.index:\n",
    "    #name_df.loc[j]['Date_']=str(name_df['Date'][j])[:10].replace('-','')\n",
    "    name_df['Date_'][j]=str(name_df['Date'][j])[:10].replace('-','')\n",
    "name_df\"\"\""
   ],
   "metadata": {
    "collapsed": false,
    "pycharm": {
     "name": "#%%\n"
    }
   }
  },
  {
   "cell_type": "code",
   "execution_count": null,
   "outputs": [],
   "source": [
    "#name_df.index=name_df.Date_\n",
    "#name_df.drop(['Date','Date_'],axis=1,inplace=True)\n"
   ],
   "metadata": {
    "collapsed": false,
    "pycharm": {
     "name": "#%%\n"
    }
   }
  },
  {
   "cell_type": "code",
   "execution_count": null,
   "outputs": [],
   "source": [
    "#name_df"
   ],
   "metadata": {
    "collapsed": false,
    "pycharm": {
     "name": "#%%\n"
    }
   }
  },
  {
   "cell_type": "code",
   "execution_count": null,
   "outputs": [],
   "source": [
    "'''for i in symbols_df.index:\n",
    "    print(i,' ',symbols_df.Ticker[i],end='')\n",
    "    stock_df=tse.Get_Price_History(symbols_df.Ticker[i],ignore_date=True,double_date=True)\n",
    "    stock_df['<DTYYYYMMDD>']=''\n",
    "    for j in stock_df.index:\n",
    "        stock_df['<DTYYYYMMDD>'][j]=str(stock_df['Date'][j])[:10].replace('-','')\n",
    "    stock_df.index=stock_df['<DTYYYYMMDD>']\n",
    "    stock_df.rename(columns={'Open':'<OPEN>','High':'<HIGH>','Low':'<LOW>','Close':'<CLOSE>','Volume':'<VOL>'},inplace=True)\n",
    "    stock_df.drop(['Date','Final','Value','No','Ticker','Name','Market','<DTYYYYMMDD>'],axis=1,inplace=True)\n",
    "    path='C:\\\\Users\\\\ADMIN\\\\Desktop\\\\tse_data\\\\'+symbols_df.Eng_name[i].replace('*','')+'.prn'\n",
    "    stock_df.to_csv(path)'''"
   ],
   "metadata": {
    "collapsed": false,
    "pycharm": {
     "name": "#%%\n"
    }
   }
  },
  {
   "cell_type": "code",
   "execution_count": 16,
   "outputs": [
    {
     "ename": "AttributeError",
     "evalue": "Can only use .dt accessor with datetimelike values",
     "output_type": "error",
     "traceback": [
      "\u001B[1;31m---------------------------------------------------------------------------\u001B[0m",
      "\u001B[1;31mAttributeError\u001B[0m                            Traceback (most recent call last)",
      "Cell \u001B[1;32mIn[16], line 1\u001B[0m\n\u001B[1;32m----> 1\u001B[0m fzr_df2\u001B[38;5;241m=\u001B[39m\u001B[43mtse\u001B[49m\u001B[38;5;241;43m.\u001B[39;49m\u001B[43mGet_Price_History\u001B[49m\u001B[43m(\u001B[49m\u001B[38;5;124;43m'\u001B[39;49m\u001B[38;5;124;43mفزر\u001B[39;49m\u001B[38;5;124;43m'\u001B[39;49m\u001B[43m,\u001B[49m\u001B[43mignore_date\u001B[49m\u001B[38;5;241;43m=\u001B[39;49m\u001B[38;5;28;43;01mTrue\u001B[39;49;00m\u001B[43m,\u001B[49m\u001B[43mdouble_date\u001B[49m\u001B[38;5;241;43m=\u001B[39;49m\u001B[38;5;28;43;01mTrue\u001B[39;49;00m\u001B[43m)\u001B[49m\n\u001B[0;32m      2\u001B[0m fzr_df2\n",
      "File \u001B[1;32mc:\\users\\admin\\pycharmprojects\\pythonproject1\\venv\\lib\\site-packages\\finpy_tse\\__init__.py:207\u001B[0m, in \u001B[0;36mGet_Price_History\u001B[1;34m(stock, start_date, end_date, ignore_date, adjust_price, show_weekday, double_date)\u001B[0m\n\u001B[0;32m    205\u001B[0m df_history \u001B[38;5;241m=\u001B[39m df_history\u001B[38;5;241m.\u001B[39mreset_index()\n\u001B[0;32m    206\u001B[0m \u001B[38;5;66;03m# determining week days:\u001B[39;00m\n\u001B[1;32m--> 207\u001B[0m df_history[\u001B[38;5;124m'\u001B[39m\u001B[38;5;124mWeekday\u001B[39m\u001B[38;5;124m'\u001B[39m]\u001B[38;5;241m=\u001B[39m\u001B[43mdf_history\u001B[49m\u001B[43m[\u001B[49m\u001B[38;5;124;43m'\u001B[39;49m\u001B[38;5;124;43mDate\u001B[39;49m\u001B[38;5;124;43m'\u001B[39;49m\u001B[43m]\u001B[49m\u001B[38;5;241;43m.\u001B[39;49m\u001B[43mdt\u001B[49m\u001B[38;5;241m.\u001B[39mweekday\n\u001B[0;32m    208\u001B[0m df_history[\u001B[38;5;124m'\u001B[39m\u001B[38;5;124mWeekday\u001B[39m\u001B[38;5;124m'\u001B[39m] \u001B[38;5;241m=\u001B[39m df_history[\u001B[38;5;124m'\u001B[39m\u001B[38;5;124mWeekday\u001B[39m\u001B[38;5;124m'\u001B[39m]\u001B[38;5;241m.\u001B[39mapply(\u001B[38;5;28;01mlambda\u001B[39;00m x: calendar\u001B[38;5;241m.\u001B[39mday_name[x])\n\u001B[0;32m    209\u001B[0m df_history[\u001B[38;5;124m'\u001B[39m\u001B[38;5;124mJ-Date\u001B[39m\u001B[38;5;124m'\u001B[39m]\u001B[38;5;241m=\u001B[39mdf_history[\u001B[38;5;124m'\u001B[39m\u001B[38;5;124mDate\u001B[39m\u001B[38;5;124m'\u001B[39m]\u001B[38;5;241m.\u001B[39mapply(\u001B[38;5;28;01mlambda\u001B[39;00m x: \u001B[38;5;28mstr\u001B[39m(jdatetime\u001B[38;5;241m.\u001B[39mdate\u001B[38;5;241m.\u001B[39mfromgregorian(date\u001B[38;5;241m=\u001B[39mx\u001B[38;5;241m.\u001B[39mdate())))\n",
      "File \u001B[1;32mc:\\users\\admin\\pycharmprojects\\pythonproject1\\venv\\lib\\site-packages\\pandas\\core\\generic.py:5902\u001B[0m, in \u001B[0;36mNDFrame.__getattr__\u001B[1;34m(self, name)\u001B[0m\n\u001B[0;32m   5895\u001B[0m \u001B[38;5;28;01mif\u001B[39;00m (\n\u001B[0;32m   5896\u001B[0m     name \u001B[38;5;129;01mnot\u001B[39;00m \u001B[38;5;129;01min\u001B[39;00m \u001B[38;5;28mself\u001B[39m\u001B[38;5;241m.\u001B[39m_internal_names_set\n\u001B[0;32m   5897\u001B[0m     \u001B[38;5;129;01mand\u001B[39;00m name \u001B[38;5;129;01mnot\u001B[39;00m \u001B[38;5;129;01min\u001B[39;00m \u001B[38;5;28mself\u001B[39m\u001B[38;5;241m.\u001B[39m_metadata\n\u001B[0;32m   5898\u001B[0m     \u001B[38;5;129;01mand\u001B[39;00m name \u001B[38;5;129;01mnot\u001B[39;00m \u001B[38;5;129;01min\u001B[39;00m \u001B[38;5;28mself\u001B[39m\u001B[38;5;241m.\u001B[39m_accessors\n\u001B[0;32m   5899\u001B[0m     \u001B[38;5;129;01mand\u001B[39;00m \u001B[38;5;28mself\u001B[39m\u001B[38;5;241m.\u001B[39m_info_axis\u001B[38;5;241m.\u001B[39m_can_hold_identifiers_and_holds_name(name)\n\u001B[0;32m   5900\u001B[0m ):\n\u001B[0;32m   5901\u001B[0m     \u001B[38;5;28;01mreturn\u001B[39;00m \u001B[38;5;28mself\u001B[39m[name]\n\u001B[1;32m-> 5902\u001B[0m \u001B[38;5;28;01mreturn\u001B[39;00m \u001B[38;5;28;43mobject\u001B[39;49m\u001B[38;5;241;43m.\u001B[39;49m\u001B[38;5;21;43m__getattribute__\u001B[39;49m\u001B[43m(\u001B[49m\u001B[38;5;28;43mself\u001B[39;49m\u001B[43m,\u001B[49m\u001B[43m \u001B[49m\u001B[43mname\u001B[49m\u001B[43m)\u001B[49m\n",
      "File \u001B[1;32mc:\\users\\admin\\pycharmprojects\\pythonproject1\\venv\\lib\\site-packages\\pandas\\core\\accessor.py:182\u001B[0m, in \u001B[0;36mCachedAccessor.__get__\u001B[1;34m(self, obj, cls)\u001B[0m\n\u001B[0;32m    179\u001B[0m \u001B[38;5;28;01mif\u001B[39;00m obj \u001B[38;5;129;01mis\u001B[39;00m \u001B[38;5;28;01mNone\u001B[39;00m:\n\u001B[0;32m    180\u001B[0m     \u001B[38;5;66;03m# we're accessing the attribute of the class, i.e., Dataset.geo\u001B[39;00m\n\u001B[0;32m    181\u001B[0m     \u001B[38;5;28;01mreturn\u001B[39;00m \u001B[38;5;28mself\u001B[39m\u001B[38;5;241m.\u001B[39m_accessor\n\u001B[1;32m--> 182\u001B[0m accessor_obj \u001B[38;5;241m=\u001B[39m \u001B[38;5;28;43mself\u001B[39;49m\u001B[38;5;241;43m.\u001B[39;49m\u001B[43m_accessor\u001B[49m\u001B[43m(\u001B[49m\u001B[43mobj\u001B[49m\u001B[43m)\u001B[49m\n\u001B[0;32m    183\u001B[0m \u001B[38;5;66;03m# Replace the property with the accessor object. Inspired by:\u001B[39;00m\n\u001B[0;32m    184\u001B[0m \u001B[38;5;66;03m# https://www.pydanny.com/cached-property.html\u001B[39;00m\n\u001B[0;32m    185\u001B[0m \u001B[38;5;66;03m# We need to use object.__setattr__ because we overwrite __setattr__ on\u001B[39;00m\n\u001B[0;32m    186\u001B[0m \u001B[38;5;66;03m# NDFrame\u001B[39;00m\n\u001B[0;32m    187\u001B[0m \u001B[38;5;28mobject\u001B[39m\u001B[38;5;241m.\u001B[39m\u001B[38;5;21m__setattr__\u001B[39m(obj, \u001B[38;5;28mself\u001B[39m\u001B[38;5;241m.\u001B[39m_name, accessor_obj)\n",
      "File \u001B[1;32mc:\\users\\admin\\pycharmprojects\\pythonproject1\\venv\\lib\\site-packages\\pandas\\core\\indexes\\accessors.py:512\u001B[0m, in \u001B[0;36mCombinedDatetimelikeProperties.__new__\u001B[1;34m(cls, data)\u001B[0m\n\u001B[0;32m    509\u001B[0m \u001B[38;5;28;01melif\u001B[39;00m is_period_dtype(data\u001B[38;5;241m.\u001B[39mdtype):\n\u001B[0;32m    510\u001B[0m     \u001B[38;5;28;01mreturn\u001B[39;00m PeriodProperties(data, orig)\n\u001B[1;32m--> 512\u001B[0m \u001B[38;5;28;01mraise\u001B[39;00m \u001B[38;5;167;01mAttributeError\u001B[39;00m(\u001B[38;5;124m\"\u001B[39m\u001B[38;5;124mCan only use .dt accessor with datetimelike values\u001B[39m\u001B[38;5;124m\"\u001B[39m)\n",
      "\u001B[1;31mAttributeError\u001B[0m: Can only use .dt accessor with datetimelike values"
     ]
    }
   ],
   "source": [
    "fzr_df2=tse.Get_Price_History('فزر',ignore_date=True,double_date=True)\n",
    "fzr_df2"
   ],
   "metadata": {
    "collapsed": false,
    "pycharm": {
     "name": "#%%\n"
    }
   }
  },
  {
   "cell_type": "code",
   "execution_count": 19,
   "outputs": [
    {
     "ename": "NameError",
     "evalue": "name 'fzr_df2' is not defined",
     "output_type": "error",
     "traceback": [
      "\u001B[1;31m---------------------------------------------------------------------------\u001B[0m",
      "\u001B[1;31mNameError\u001B[0m                                 Traceback (most recent call last)",
      "Cell \u001B[1;32mIn[19], line 1\u001B[0m\n\u001B[1;32m----> 1\u001B[0m \u001B[43mfzr_df2\u001B[49m\n",
      "\u001B[1;31mNameError\u001B[0m: name 'fzr_df2' is not defined"
     ]
    }
   ],
   "source": [
    "fzr_df2"
   ],
   "metadata": {
    "collapsed": false,
    "pycharm": {
     "name": "#%%\n"
    }
   }
  },
  {
   "cell_type": "code",
   "execution_count": null,
   "outputs": [],
   "source": [
    "for j in fzr_df.index:\n",
    "    fzr_df['Date'][j]=str(fzr_df['Date'][j])[:10].replace('-','')\n",
    "fzr_df"
   ],
   "metadata": {
    "collapsed": false,
    "pycharm": {
     "name": "#%%\n"
    }
   }
  },
  {
   "cell_type": "code",
   "execution_count": null,
   "outputs": [],
   "source": [
    "for i in symbols_df.Ticker:\n",
    "    name=symbols_df.Ticker([i])\n",
    "    print(name)\n",
    "    name_df=tse.Get_Price_History(name,ignore_date=True,double_date=True)\n"
   ],
   "metadata": {
    "collapsed": false,
    "pycharm": {
     "name": "#%%\n"
    }
   }
  },
  {
   "cell_type": "code",
   "execution_count": null,
   "outputs": [],
   "source": [],
   "metadata": {
    "collapsed": false,
    "pycharm": {
     "name": "#%%\n"
    }
   }
  }
 ],
 "metadata": {
  "kernelspec": {
   "display_name": "Python 3",
   "language": "python",
   "name": "python3"
  },
  "language_info": {
   "codemirror_mode": {
    "name": "ipython",
    "version": 2
   },
   "file_extension": ".py",
   "mimetype": "text/x-python",
   "name": "python",
   "nbconvert_exporter": "python",
   "pygments_lexer": "ipython2",
   "version": "2.7.6"
  }
 },
 "nbformat": 4,
 "nbformat_minor": 0
}