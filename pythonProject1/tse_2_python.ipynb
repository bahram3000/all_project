{
 "cells": [
  {
   "cell_type": "code",
   "execution_count": 1,
   "metadata": {
    "collapsed": true,
    "pycharm": {
     "name": "#%%\n"
    }
   },
   "outputs": [],
   "source": [
    "import numpy as np\n",
    "import pandas as pd\n",
    "import finpy_tse as tse\n",
    "import mplfinance as mplf\n",
    "import scipy.stats as stt\n",
    "import matplotlib.pyplot as plt"
   ]
  },
  {
   "cell_type": "code",
   "execution_count": 2,
   "outputs": [
    {
     "name": "stdout",
     "output_type": "stream",
     "text": [
      "Gathering detailed data for 0 stocks ...\n"
     ]
    },
    {
     "ename": "UnboundLocalError",
     "evalue": "local variable 'df_final' referenced before assignment",
     "output_type": "error",
     "traceback": [
      "\u001B[1;31m---------------------------------------------------------------------------\u001B[0m",
      "\u001B[1;31mUnboundLocalError\u001B[0m                         Traceback (most recent call last)",
      "Cell \u001B[1;32mIn[2], line 1\u001B[0m\n\u001B[1;32m----> 1\u001B[0m symbol\u001B[38;5;241m=\u001B[39m\u001B[43mtse\u001B[49m\u001B[38;5;241;43m.\u001B[39;49m\u001B[43mBuild_Market_StockList\u001B[49m\u001B[43m(\u001B[49m\u001B[43mbourse\u001B[49m\u001B[38;5;241;43m=\u001B[39;49m\u001B[38;5;28;43;01mTrue\u001B[39;49;00m\u001B[43m,\u001B[49m\u001B[43mfarabourse\u001B[49m\u001B[38;5;241;43m=\u001B[39;49m\u001B[38;5;28;43;01mTrue\u001B[39;49;00m\u001B[43m,\u001B[49m\u001B[43mpayeh\u001B[49m\u001B[38;5;241;43m=\u001B[39;49m\u001B[38;5;28;43;01mFalse\u001B[39;49;00m\u001B[43m)\u001B[49m\n",
      "File \u001B[1;32mc:\\users\\admin\\pycharmprojects\\pythonproject1\\venv\\lib\\site-packages\\finpy_tse\\__init__.py:1896\u001B[0m, in \u001B[0;36mBuild_Market_StockList\u001B[1;34m(bourse, farabourse, payeh, detailed_list, show_progress, save_excel, save_csv, save_path)\u001B[0m\n\u001B[0;32m   1894\u001B[0m failed_tickers_code \u001B[38;5;241m=\u001B[39m []\n\u001B[0;32m   1895\u001B[0m \u001B[38;5;28;01mwhile\u001B[39;00m(continue_loop):\n\u001B[1;32m-> 1896\u001B[0m     df_temp \u001B[38;5;241m=\u001B[39m \u001B[43mget_data_optimaize\u001B[49m\u001B[43m(\u001B[49m\u001B[43mcodes\u001B[49m\u001B[43m \u001B[49m\u001B[38;5;241;43m=\u001B[39;49m\u001B[43m \u001B[49m\u001B[43mweb_id_list\u001B[49m\u001B[43m)\u001B[49m\n\u001B[0;32m   1897\u001B[0m     \u001B[38;5;28;01mif\u001B[39;00m(\u001B[38;5;28mlen\u001B[39m(failed_tickers_code)\u001B[38;5;241m>\u001B[39m\u001B[38;5;241m0\u001B[39m):  \u001B[38;5;66;03m# failed tickers\u001B[39;00m\n\u001B[0;32m   1898\u001B[0m         web_id_list \u001B[38;5;241m=\u001B[39m failed_tickers_code\n",
      "File \u001B[1;32mc:\\users\\admin\\pycharmprojects\\pythonproject1\\venv\\lib\\site-packages\\finpy_tse\\__init__.py:1883\u001B[0m, in \u001B[0;36mBuild_Market_StockList.<locals>.get_data_optimaize\u001B[1;34m(codes)\u001B[0m\n\u001B[0;32m   1881\u001B[0m             \u001B[38;5;28;01mreturn\u001B[39;00m pd\u001B[38;5;241m.\u001B[39mDataFrame()\n\u001B[0;32m   1882\u001B[0m     \u001B[38;5;28;01mreturn\u001B[39;00m \n\u001B[1;32m-> 1883\u001B[0m \u001B[38;5;28;01mreturn\u001B[39;00m \u001B[43mget_data_parallel\u001B[49m\u001B[43m(\u001B[49m\u001B[43mcodes\u001B[49m\u001B[43m)\u001B[49m\u001B[38;5;241;43m.\u001B[39;49m\u001B[43mresult\u001B[49m\u001B[43m(\u001B[49m\u001B[43m)\u001B[49m\n",
      "File \u001B[1;32mc:\\users\\admin\\pycharmprojects\\pythonproject1\\venv\\lib\\site-packages\\unsync\\unsync.py:144\u001B[0m, in \u001B[0;36mUnfuture.result\u001B[1;34m(self, *args, **kwargs)\u001B[0m\n\u001B[0;32m    142\u001B[0m     \u001B[38;5;28;01mraise\u001B[39;00m asyncio\u001B[38;5;241m.\u001B[39mInvalidStateError(\u001B[38;5;124m\"\u001B[39m\u001B[38;5;124mCalling result() in an unsync method is not allowed\u001B[39m\u001B[38;5;124m\"\u001B[39m)\n\u001B[0;32m    143\u001B[0m \u001B[38;5;66;03m# Wait on the concurrent Future outside unsync.thread\u001B[39;00m\n\u001B[1;32m--> 144\u001B[0m \u001B[38;5;28;01mreturn\u001B[39;00m \u001B[38;5;28mself\u001B[39m\u001B[38;5;241m.\u001B[39mconcurrent_future\u001B[38;5;241m.\u001B[39mresult(\u001B[38;5;241m*\u001B[39margs, \u001B[38;5;241m*\u001B[39m\u001B[38;5;241m*\u001B[39mkwargs)\n",
      "File \u001B[1;32mC:\\Program Files\\Python310\\lib\\concurrent\\futures\\_base.py:446\u001B[0m, in \u001B[0;36mFuture.result\u001B[1;34m(self, timeout)\u001B[0m\n\u001B[0;32m    444\u001B[0m     \u001B[38;5;28;01mraise\u001B[39;00m CancelledError()\n\u001B[0;32m    445\u001B[0m \u001B[38;5;28;01melif\u001B[39;00m \u001B[38;5;28mself\u001B[39m\u001B[38;5;241m.\u001B[39m_state \u001B[38;5;241m==\u001B[39m FINISHED:\n\u001B[1;32m--> 446\u001B[0m     \u001B[38;5;28;01mreturn\u001B[39;00m \u001B[38;5;28;43mself\u001B[39;49m\u001B[38;5;241;43m.\u001B[39;49m\u001B[43m__get_result\u001B[49m\u001B[43m(\u001B[49m\u001B[43m)\u001B[49m\n\u001B[0;32m    447\u001B[0m \u001B[38;5;28;01melse\u001B[39;00m:\n\u001B[0;32m    448\u001B[0m     \u001B[38;5;28;01mraise\u001B[39;00m \u001B[38;5;167;01mTimeoutError\u001B[39;00m()\n",
      "File \u001B[1;32mC:\\Program Files\\Python310\\lib\\concurrent\\futures\\_base.py:391\u001B[0m, in \u001B[0;36mFuture.__get_result\u001B[1;34m(self)\u001B[0m\n\u001B[0;32m    389\u001B[0m \u001B[38;5;28;01mif\u001B[39;00m \u001B[38;5;28mself\u001B[39m\u001B[38;5;241m.\u001B[39m_exception:\n\u001B[0;32m    390\u001B[0m     \u001B[38;5;28;01mtry\u001B[39;00m:\n\u001B[1;32m--> 391\u001B[0m         \u001B[38;5;28;01mraise\u001B[39;00m \u001B[38;5;28mself\u001B[39m\u001B[38;5;241m.\u001B[39m_exception\n\u001B[0;32m    392\u001B[0m     \u001B[38;5;28;01mfinally\u001B[39;00m:\n\u001B[0;32m    393\u001B[0m         \u001B[38;5;66;03m# Break a reference cycle with the exception in self._exception\u001B[39;00m\n\u001B[0;32m    394\u001B[0m         \u001B[38;5;28mself\u001B[39m \u001B[38;5;241m=\u001B[39m \u001B[38;5;28;01mNone\u001B[39;00m\n",
      "File \u001B[1;32mc:\\users\\admin\\pycharmprojects\\pythonproject1\\venv\\lib\\site-packages\\finpy_tse\\__init__.py:1861\u001B[0m, in \u001B[0;36mBuild_Market_StockList.<locals>.get_data_optimaize.<locals>.get_data_parallel\u001B[1;34m(codes)\u001B[0m\n\u001B[0;32m   1859\u001B[0m             df_final \u001B[38;5;241m=\u001B[39m pd\u001B[38;5;241m.\u001B[39mconcat([df_final,i])\n\u001B[0;32m   1860\u001B[0m         counter\u001B[38;5;241m+\u001B[39m\u001B[38;5;241m=\u001B[39m\u001B[38;5;241m1\u001B[39m\n\u001B[1;32m-> 1861\u001B[0m \u001B[38;5;28;01mreturn\u001B[39;00m \u001B[43mdf_final\u001B[49m\n",
      "\u001B[1;31mUnboundLocalError\u001B[0m: local variable 'df_final' referenced before assignment"
     ]
    }
   ],
   "source": [
    "symbol=tse.Build_Market_StockList(bourse=True,farabourse=True,payeh=False)"
   ],
   "metadata": {
    "collapsed": false,
    "pycharm": {
     "name": "#%%\n"
    }
   }
  },
  {
   "cell_type": "code",
   "execution_count": null,
   "outputs": [],
   "source": [
    "symbol.Name=symbol.index\n",
    "symbol.drop(['Market','Panel','Sector',\"Sub-Sector\",'Comment','Company Code(12)','Ticker(4)','Ticker(5)','Ticker(12)','Sector Code','Sub-Sector Code','Panel Code'],axis=1,inplace=True)\n",
    "symbol.reset_index(inplace=True)\n",
    "symbol.drop('Ticker',axis=1,inplace=True)\n",
    "symbol.to_csv('F:\\\\my project\\\\dataset\\\\tse\\\\symbols.csv')\n",
    "symbol"
   ],
   "metadata": {
    "collapsed": false,
    "pycharm": {
     "name": "#%%\n"
    }
   }
  },
  {
   "cell_type": "code",
   "execution_count": 5,
   "outputs": [
    {
     "ename": "AttributeError",
     "evalue": "'DataFrame' object has no attribute 'Name'",
     "output_type": "error",
     "traceback": [
      "\u001B[1;31m---------------------------------------------------------------------------\u001B[0m",
      "\u001B[1;31mAttributeError\u001B[0m                            Traceback (most recent call last)",
      "Cell \u001B[1;32mIn[5], line 1\u001B[0m\n\u001B[1;32m----> 1\u001B[0m symbol\u001B[38;5;241m.\u001B[39mindex\u001B[38;5;241m=\u001B[39m\u001B[43msymbol\u001B[49m\u001B[38;5;241;43m.\u001B[39;49m\u001B[43mName\u001B[49m\n\u001B[0;32m      2\u001B[0m symbol\u001B[38;5;241m.\u001B[39mdrop(\u001B[38;5;124m'\u001B[39m\u001B[38;5;124mName\u001B[39m\u001B[38;5;124m'\u001B[39m,axis\u001B[38;5;241m=\u001B[39m\u001B[38;5;241m1\u001B[39m,inplace\u001B[38;5;241m=\u001B[39m\u001B[38;5;28;01mTrue\u001B[39;00m)\n",
      "File \u001B[1;32mc:\\users\\admin\\pycharmprojects\\pythonproject1\\venv\\lib\\site-packages\\pandas\\core\\generic.py:5902\u001B[0m, in \u001B[0;36mNDFrame.__getattr__\u001B[1;34m(self, name)\u001B[0m\n\u001B[0;32m   5895\u001B[0m \u001B[38;5;28;01mif\u001B[39;00m (\n\u001B[0;32m   5896\u001B[0m     name \u001B[38;5;129;01mnot\u001B[39;00m \u001B[38;5;129;01min\u001B[39;00m \u001B[38;5;28mself\u001B[39m\u001B[38;5;241m.\u001B[39m_internal_names_set\n\u001B[0;32m   5897\u001B[0m     \u001B[38;5;129;01mand\u001B[39;00m name \u001B[38;5;129;01mnot\u001B[39;00m \u001B[38;5;129;01min\u001B[39;00m \u001B[38;5;28mself\u001B[39m\u001B[38;5;241m.\u001B[39m_metadata\n\u001B[0;32m   5898\u001B[0m     \u001B[38;5;129;01mand\u001B[39;00m name \u001B[38;5;129;01mnot\u001B[39;00m \u001B[38;5;129;01min\u001B[39;00m \u001B[38;5;28mself\u001B[39m\u001B[38;5;241m.\u001B[39m_accessors\n\u001B[0;32m   5899\u001B[0m     \u001B[38;5;129;01mand\u001B[39;00m \u001B[38;5;28mself\u001B[39m\u001B[38;5;241m.\u001B[39m_info_axis\u001B[38;5;241m.\u001B[39m_can_hold_identifiers_and_holds_name(name)\n\u001B[0;32m   5900\u001B[0m ):\n\u001B[0;32m   5901\u001B[0m     \u001B[38;5;28;01mreturn\u001B[39;00m \u001B[38;5;28mself\u001B[39m[name]\n\u001B[1;32m-> 5902\u001B[0m \u001B[38;5;28;01mreturn\u001B[39;00m \u001B[38;5;28;43mobject\u001B[39;49m\u001B[38;5;241;43m.\u001B[39;49m\u001B[38;5;21;43m__getattribute__\u001B[39;49m\u001B[43m(\u001B[49m\u001B[38;5;28;43mself\u001B[39;49m\u001B[43m,\u001B[49m\u001B[43m \u001B[49m\u001B[43mname\u001B[49m\u001B[43m)\u001B[49m\n",
      "\u001B[1;31mAttributeError\u001B[0m: 'DataFrame' object has no attribute 'Name'"
     ]
    }
   ],
   "source": [
    "symbol.index=symbol.Name\n",
    "symbol.drop('Name',axis=1,inplace=True)"
   ],
   "metadata": {
    "collapsed": false,
    "pycharm": {
     "name": "#%%\n"
    }
   }
  },
  {
   "cell_type": "code",
   "execution_count": 6,
   "outputs": [
    {
     "data": {
      "text/plain": "'Abadgaran'"
     },
     "execution_count": 6,
     "metadata": {},
     "output_type": "execute_result"
    }
   ],
   "source": [
    "symbol['Name(EN)']['آباد']"
   ],
   "metadata": {
    "collapsed": false,
    "pycharm": {
     "name": "#%%\n"
    }
   }
  },
  {
   "cell_type": "code",
   "execution_count": 3,
   "outputs": [
    {
     "data": {
      "text/plain": "                 Date   Open   High    Low  Close  Final   Volume  \\\nJ-Date                                                              \n1383-10-26 2005-01-15   1800   1800   1800   1800   1800  1440000   \n1383-10-27 2005-01-16   1890   1890   1890   1890   1890   260120   \n1383-10-28 2005-01-17   1984   1984   1984   1984   1984  1500000   \n1383-11-07 2005-01-26   2083   2083   2083   2083   2083   269196   \n1383-11-11 2005-01-30   2187   2187   2060   2162   2162  2673786   \n...               ...    ...    ...    ...    ...    ...      ...   \n1401-09-30 2022-12-21  25140  25550  24490  24880  24860   429054   \n1401-10-03 2022-12-24  24860  25700  24750  25250  25270   645376   \n1401-10-04 2022-12-25  25300  25990  25060  25350  25290  1209125   \n1401-10-05 2022-12-26  25290  26530  24850  25900  25890  1176499   \n1401-10-07 2022-12-28  26900  27170  26180  26510  26640  1316102   \n\n                  Value    No Ticker                           Name Market  \nJ-Date                                                                      \n1383-10-26   2592000000  1810   آباد  توریستی ورفاهی آبادگران ایران   بورس  \n1383-10-27    491626800   257   آباد  توریستی ورفاهی آبادگران ایران   بورس  \n1383-10-28   2976000000  1227   آباد  توریستی ورفاهی آبادگران ایران   بورس  \n1383-11-07    560735268   198   آباد  توریستی ورفاهی آبادگران ایران   بورس  \n1383-11-11   5781634832  1834   آباد  توریستی ورفاهی آبادگران ایران   بورس  \n...                 ...   ...    ...                            ...    ...  \n1401-09-30  10611474480   235   آباد  توریستی ورفاهی آبادگران ایران   بورس  \n1401-10-03  16306683710   312   آباد  توریستی ورفاهی آبادگران ایران   بورس  \n1401-10-04  30580586080   496   آباد  توریستی ورفاهی آبادگران ایران   بورس  \n1401-10-05  30465037600   694   آباد  توریستی ورفاهی آبادگران ایران   بورس  \n1401-10-07  35065580230   623   آباد  توریستی ورفاهی آبادگران ایران   بورس  \n\n[3385 rows x 12 columns]",
      "text/html": "<div>\n<style scoped>\n    .dataframe tbody tr th:only-of-type {\n        vertical-align: middle;\n    }\n\n    .dataframe tbody tr th {\n        vertical-align: top;\n    }\n\n    .dataframe thead th {\n        text-align: right;\n    }\n</style>\n<table border=\"1\" class=\"dataframe\">\n  <thead>\n    <tr style=\"text-align: right;\">\n      <th></th>\n      <th>Date</th>\n      <th>Open</th>\n      <th>High</th>\n      <th>Low</th>\n      <th>Close</th>\n      <th>Final</th>\n      <th>Volume</th>\n      <th>Value</th>\n      <th>No</th>\n      <th>Ticker</th>\n      <th>Name</th>\n      <th>Market</th>\n    </tr>\n    <tr>\n      <th>J-Date</th>\n      <th></th>\n      <th></th>\n      <th></th>\n      <th></th>\n      <th></th>\n      <th></th>\n      <th></th>\n      <th></th>\n      <th></th>\n      <th></th>\n      <th></th>\n      <th></th>\n    </tr>\n  </thead>\n  <tbody>\n    <tr>\n      <th>1383-10-26</th>\n      <td>2005-01-15</td>\n      <td>1800</td>\n      <td>1800</td>\n      <td>1800</td>\n      <td>1800</td>\n      <td>1800</td>\n      <td>1440000</td>\n      <td>2592000000</td>\n      <td>1810</td>\n      <td>آباد</td>\n      <td>توریستی ورفاهی آبادگران ایران</td>\n      <td>بورس</td>\n    </tr>\n    <tr>\n      <th>1383-10-27</th>\n      <td>2005-01-16</td>\n      <td>1890</td>\n      <td>1890</td>\n      <td>1890</td>\n      <td>1890</td>\n      <td>1890</td>\n      <td>260120</td>\n      <td>491626800</td>\n      <td>257</td>\n      <td>آباد</td>\n      <td>توریستی ورفاهی آبادگران ایران</td>\n      <td>بورس</td>\n    </tr>\n    <tr>\n      <th>1383-10-28</th>\n      <td>2005-01-17</td>\n      <td>1984</td>\n      <td>1984</td>\n      <td>1984</td>\n      <td>1984</td>\n      <td>1984</td>\n      <td>1500000</td>\n      <td>2976000000</td>\n      <td>1227</td>\n      <td>آباد</td>\n      <td>توریستی ورفاهی آبادگران ایران</td>\n      <td>بورس</td>\n    </tr>\n    <tr>\n      <th>1383-11-07</th>\n      <td>2005-01-26</td>\n      <td>2083</td>\n      <td>2083</td>\n      <td>2083</td>\n      <td>2083</td>\n      <td>2083</td>\n      <td>269196</td>\n      <td>560735268</td>\n      <td>198</td>\n      <td>آباد</td>\n      <td>توریستی ورفاهی آبادگران ایران</td>\n      <td>بورس</td>\n    </tr>\n    <tr>\n      <th>1383-11-11</th>\n      <td>2005-01-30</td>\n      <td>2187</td>\n      <td>2187</td>\n      <td>2060</td>\n      <td>2162</td>\n      <td>2162</td>\n      <td>2673786</td>\n      <td>5781634832</td>\n      <td>1834</td>\n      <td>آباد</td>\n      <td>توریستی ورفاهی آبادگران ایران</td>\n      <td>بورس</td>\n    </tr>\n    <tr>\n      <th>...</th>\n      <td>...</td>\n      <td>...</td>\n      <td>...</td>\n      <td>...</td>\n      <td>...</td>\n      <td>...</td>\n      <td>...</td>\n      <td>...</td>\n      <td>...</td>\n      <td>...</td>\n      <td>...</td>\n      <td>...</td>\n    </tr>\n    <tr>\n      <th>1401-09-30</th>\n      <td>2022-12-21</td>\n      <td>25140</td>\n      <td>25550</td>\n      <td>24490</td>\n      <td>24880</td>\n      <td>24860</td>\n      <td>429054</td>\n      <td>10611474480</td>\n      <td>235</td>\n      <td>آباد</td>\n      <td>توریستی ورفاهی آبادگران ایران</td>\n      <td>بورس</td>\n    </tr>\n    <tr>\n      <th>1401-10-03</th>\n      <td>2022-12-24</td>\n      <td>24860</td>\n      <td>25700</td>\n      <td>24750</td>\n      <td>25250</td>\n      <td>25270</td>\n      <td>645376</td>\n      <td>16306683710</td>\n      <td>312</td>\n      <td>آباد</td>\n      <td>توریستی ورفاهی آبادگران ایران</td>\n      <td>بورس</td>\n    </tr>\n    <tr>\n      <th>1401-10-04</th>\n      <td>2022-12-25</td>\n      <td>25300</td>\n      <td>25990</td>\n      <td>25060</td>\n      <td>25350</td>\n      <td>25290</td>\n      <td>1209125</td>\n      <td>30580586080</td>\n      <td>496</td>\n      <td>آباد</td>\n      <td>توریستی ورفاهی آبادگران ایران</td>\n      <td>بورس</td>\n    </tr>\n    <tr>\n      <th>1401-10-05</th>\n      <td>2022-12-26</td>\n      <td>25290</td>\n      <td>26530</td>\n      <td>24850</td>\n      <td>25900</td>\n      <td>25890</td>\n      <td>1176499</td>\n      <td>30465037600</td>\n      <td>694</td>\n      <td>آباد</td>\n      <td>توریستی ورفاهی آبادگران ایران</td>\n      <td>بورس</td>\n    </tr>\n    <tr>\n      <th>1401-10-07</th>\n      <td>2022-12-28</td>\n      <td>26900</td>\n      <td>27170</td>\n      <td>26180</td>\n      <td>26510</td>\n      <td>26640</td>\n      <td>1316102</td>\n      <td>35065580230</td>\n      <td>623</td>\n      <td>آباد</td>\n      <td>توریستی ورفاهی آبادگران ایران</td>\n      <td>بورس</td>\n    </tr>\n  </tbody>\n</table>\n<p>3385 rows × 12 columns</p>\n</div>"
     },
     "execution_count": 3,
     "metadata": {},
     "output_type": "execute_result"
    }
   ],
   "source": [
    "exam_df=tse.Get_Price_History('آباد',ignore_date=True,double_date=True)\n",
    "exam_df"
   ],
   "metadata": {
    "collapsed": false,
    "pycharm": {
     "name": "#%%\n"
    }
   }
  },
  {
   "cell_type": "code",
   "execution_count": 27,
   "outputs": [
    {
     "data": {
      "text/plain": "1"
     },
     "execution_count": 27,
     "metadata": {},
     "output_type": "execute_result"
    }
   ],
   "source": [
    "exam_f=open('C:\\\\Users\\\\ADMIN\\Desktop\\\\tse_data\\\\'+symbol['Name(EN)']['آباد']+'.prn','a')\n",
    "exam_f.write('<DTYYYYMMDD>,<OPEN>,<HIGH>,<LOW>,<CLOSE>,<VOL>')\n",
    "exam_f.write('\\n')"
   ],
   "metadata": {
    "collapsed": false,
    "pycharm": {
     "name": "#%%\n"
    }
   }
  },
  {
   "cell_type": "code",
   "execution_count": 28,
   "outputs": [],
   "source": [
    "for i in exam_df.index:\n",
    "    str_line=str(exam_df.Date[i])[:10].replace('-','')+f',{exam_df.Open[i]},{exam_df.High[i]},{exam_df.Close[i]},{exam_df.Volume[i]}'\n",
    "    exam_f.write(str_line)\n",
    "    exam_f.write('\\n')\n",
    "\n",
    "exam_f.close()"
   ],
   "metadata": {
    "collapsed": false,
    "pycharm": {
     "name": "#%%\n"
    }
   }
  },
  {
   "cell_type": "code",
   "execution_count": 49,
   "outputs": [],
   "source": [
    "def export_data_by_name(name:str):\n",
    "    file_name=symbol['Name(EN)'][name].replace('*','').replace(' ','_')\n",
    "    file_name+='.prn'\n",
    "    exp_f=open('C:\\\\Users\\\\ADMIN\\Desktop\\\\tse_data\\\\'+file_name,'a')\n",
    "    exp_f.write('<DTYYYYMMDD>,<OPEN>,<HIGH>,<LOW>,<CLOSE>,<VOL>')\n",
    "    exp_f.write('\\n')\n",
    "    exp_df=tse.Get_Price_History(name,ignore_date=True,double_date=True)\n",
    "    for i in exp_df.index:\n",
    "        str_lne=str(exp_df.Date[i])[:10].replace('-','')+f',{exp_df.Open[i]},{exp_df.High[i]},{exp_df.Low[i]},{exp_df.Close[i]},{exp_df.Volume[i]}'\n",
    "        exp_f.write(str_lne)\n",
    "        exp_f.write('\\n')\n",
    "    exp_f.close()"
   ],
   "metadata": {
    "collapsed": false,
    "pycharm": {
     "name": "#%%\n"
    }
   }
  },
  {
   "cell_type": "code",
   "execution_count": 40,
   "outputs": [],
   "source": [
    "export_data_by_name('آباد')"
   ],
   "metadata": {
    "collapsed": false,
    "pycharm": {
     "name": "#%%\n"
    }
   }
  },
  {
   "cell_type": "code",
   "execution_count": 41,
   "outputs": [],
   "source": [
    "export_data_by_name(symbol.index[1])"
   ],
   "metadata": {
    "collapsed": false,
    "pycharm": {
     "name": "#%%\n"
    }
   }
  },
  {
   "cell_type": "code",
   "execution_count": 42,
   "outputs": [
    {
     "data": {
      "text/plain": "'Abadan_PG'"
     },
     "execution_count": 42,
     "metadata": {},
     "output_type": "execute_result"
    }
   ],
   "source": [
    "symbol['Name(EN)'][symbol.index[1]].replace(' ','_')"
   ],
   "metadata": {
    "collapsed": false,
    "pycharm": {
     "name": "#%%\n"
    }
   }
  },
  {
   "cell_type": "code",
   "execution_count": 55,
   "outputs": [
    {
     "name": "stdout",
     "output_type": "stream",
     "text": [
      "آباد\n",
      "آبادا\n",
      "آپ\n",
      "آسیا\n",
      "اپال\n",
      "اتکام\n",
      "اخابر\n",
      "اسیاتک\n",
      "افق\n",
      "البرز\n",
      "امید\n",
      "امین\n",
      "انرژی3\n",
      "بالبر\n",
      "بترانس\n",
      "برکت\n",
      "بسویچ\n",
      "بشهاب\n",
      "بفجر\n",
      "بکاب\n",
      "بکام\n",
      "بموتو\n",
      "بنیرو\n",
      "بورس\n",
      "بوعلی\n",
      "پارس\n",
      "پارسان\n",
      "پارسیان\n",
      "پاسا\n",
      "پاکشو\n",
      "پتایر\n",
      "پترول\n",
      "پدرخش\n",
      "پرداخت\n",
      "پردیس\n",
      "پسهند\n",
      "پکرمان\n",
      "پکویر\n",
      "پلاسک\n",
      "تاپیکو\n",
      "تاصیکو\n",
      "تایرا\n",
      "تپمپی\n",
      "تکشا\n",
      "تکمبا\n",
      "تکنو\n",
      "تملت\n",
      "تنوین\n",
      "تیپیکو\n",
      "ثاخت\n",
      "ثامان\n",
      "ثامید\n",
      "ثبهساز\n",
      "ثشاهد\n",
      "ثشرق\n",
      "ثفارس\n",
      "ثمسکن\n",
      "ثنوسا\n",
      "جم\n",
      "جم پیلن\n",
      "چافست\n",
      "چدن\n",
      "چفیبر\n",
      "چکاپا\n",
      "چکارن\n",
      "چکاوه\n",
      "حپترو\n",
      "حتاید\n",
      "حتوکا\n",
      "حفارس\n",
      "حفاری\n",
      "حکشتی\n",
      "خاذین\n",
      "خاهن\n",
      "خبهمن\n",
      "خپویش\n",
      "ختراک\n",
      "ختور\n",
      "ختوقا\n",
      "خچرخش\n",
      "خراسان\n",
      "خریخت\n",
      "خرینگ\n",
      "خزامیا\n",
      "خزر\n",
      "خساپا\n",
      "خشرق\n",
      "خفنر\n",
      "خکار\n",
      "خکمک\n",
      "خگستر\n",
      "خلنت\n",
      "خمحرکه\n",
      "خمحور\n",
      "خمهر\n",
      "خموتور\n",
      "خنصیر\n",
      "خودرو\n",
      "خوساز\n",
      "دابور\n",
      "دارو\n",
      "داسوه\n",
      "دالبر\n",
      "دامین\n",
      "دانا\n",
      "دپارس\n",
      "دتماد\n",
      "دجابر\n",
      "ددام\n",
      "درازک\n",
      "دروز\n",
      "دزهراوی\n",
      "دسبحا\n",
      "دسبحان\n",
      "دسینا\n",
      "دشیمی\n",
      "دعبید\n",
      "دفارا\n",
      "دفرا\n",
      "دکوثر\n",
      "دکیمی\n",
      "دلر\n",
      "دلقما\n",
      "دیران\n",
      "ذوب\n",
      "رانفور\n",
      "رتاپ\n",
      "رکیش\n",
      "رمپنا\n",
      "زپارس\n",
      "زکوثر\n",
      "زمگسا\n",
      "سآبیک\n",
      "ساراب\n",
      "ساربیل\n",
      "ساروم\n",
      "سبجنو\n",
      "سبهان\n",
      "سپ\n",
      "سپاها\n",
      "سپید\n",
      "ستران\n",
      "سخاش\n",
      "سخزر\n",
      "سخوز\n",
      "سدشت\n",
      "سدور\n",
      "سرود\n",
      "سشرق\n",
      "سشمال\n",
      "سصفها\n",
      "سصوفی\n",
      "سغرب\n",
      "سفار\n",
      "سفارس\n",
      "سفانو\n",
      "سقاین\n",
      "سکرد\n",
      "سکرما\n",
      "سمازن\n",
      "سنیر\n",
      "سهرمز\n",
      "سهگمت\n",
      "سیتا\n",
      "سیدکو\n",
      "سیستم\n",
      "سیلام\n",
      "سیمرغ\n",
      "شاراک\n",
      "شاملا\n",
      "شبریز\n",
      "شبندر\n",
      "شبهرن\n",
      "شپارس\n",
      "شپاکسا\n",
      "شپدیس\n",
      "شپنا\n",
      "شتران\n",
      "شخارک\n",
      "شدوص\n",
      "شسپا\n",
      "شستا\n",
      "شسینا\n",
      "شغدیر\n",
      "شفا\n",
      "شفارس\n",
      "شفن\n",
      "شکربن\n",
      "شکلر\n",
      "شگل\n",
      "شلعاب\n",
      "شنفت\n",
      "شوینده\n",
      "شیراز\n",
      "شیران\n",
      "غاذر\n",
      "غالبر\n",
      "غبشهر\n",
      "غبهنوش\n",
      "غپاک\n",
      "غپینو\n",
      "غچین\n",
      "غدام\n",
      "غدشت\n",
      "غزر\n",
      "غسالم\n",
      "غشاذر\n",
      "غشان\n",
      "غشصفا\n",
      "غشهد\n",
      "غکورش\n",
      "غگرجی\n",
      "غگل\n",
      "غمارگ\n",
      "غمهرا\n",
      "غنوش\n",
      "فاذر\n",
      "فاراک\n",
      "فارس\n",
      "فاسمین\n",
      "فاما\n",
      "فایرا\n",
      "فباهنر\n",
      "فپنتا\n",
      "فجام\n",
      "فجر\n",
      "فخاس\n",
      "فخوز\n",
      "فرآور\n",
      "فروس\n",
      "فسازان\n",
      "فسبزوار\n",
      "فسپا\n",
      "فسرب\n",
      "فلامی\n",
      "فلوله\n",
      "فمراد\n",
      "فملی\n",
      "فنوال\n",
      "فنورد\n",
      "فولاد\n",
      "فولاژ\n",
      "قپیرا\n",
      "قثابت\n",
      "قرن\n",
      "قزوین\n",
      "قشکر\n",
      "قشهد\n",
      "قصفها\n",
      "قلرست\n",
      "قمرو\n",
      "قنیشا\n",
      "قهکمت\n",
      "کاذر\n",
      "کالا\n",
      "کاما\n",
      "کاوه\n",
      "کبافق\n",
      "کپارس\n",
      "کپشیر\n",
      "کترام\n",
      "کچاد\n",
      "کحافظ\n",
      "کخاک\n",
      "کدما\n",
      "کرازی\n",
      "کرماشا\n",
      "کروی\n",
      "کساپا\n",
      "کساوه\n",
      "کسرا\n",
      "کسرام\n",
      "کسعدی\n",
      "کطبس\n",
      "کفپارس\n",
      "کفرا\n",
      "کگاز\n",
      "کگل\n",
      "کلوند\n",
      "کماسه\n",
      "کمنگنز\n",
      "کنور\n",
      "کهمدا\n",
      "کویر\n",
      "کیمیاتک\n",
      "لابسا\n",
      "لبوتان\n",
      "لپارس\n",
      "لخزر\n",
      "لسرما\n",
      "لوتوس\n",
      "ما\n",
      "مبین\n",
      "مداران\n",
      "مرقام\n",
      "ملت\n",
      "میدکو\n",
      "نمرینو\n",
      "نوری\n",
      "های وب\n",
      "همراه\n",
      "وآذر\n",
      "واتی\n",
      "واعتبار\n",
      "والبر\n",
      "وامید\n",
      "وایران\n",
      "وبانک\n",
      "وبشهر\n",
      "وبصادر\n",
      "وبملت\n",
      "وبهمن\n",
      "وبوعلی\n",
      "وبیمه\n",
      "وپارس\n",
      "وپاسار\n",
      "وپترو\n",
      "وپخش\n",
      "وپست\n",
      "وتجارت\n",
      "وتوس\n",
      "وتوسم\n",
      "وتوشه\n",
      "وتوصا\n",
      "وتوکا\n",
      "وخارزم\n",
      "وخاور\n",
      "ورنا\n",
      "وساپا\n",
      "وساخت\n",
      "وساربیل\n",
      "وساشرقی\n",
      "وساغربی\n",
      "وسبوشهر\n",
      "وسپه\n",
      "وسخراج\n",
      "وسخراش\n",
      "وسخوز\n",
      "وسرضوی\n",
      "وسزنجان\n",
      "وسصفا\n",
      "وسفارس\n",
      "وسقم\n",
      "وسکاب\n",
      "وسکرد\n",
      "وسکرشا\n",
      "وسکرمان\n",
      "وسکهبو\n",
      "وسگلستا\n",
      "وسگیلا\n",
      "وسلرستا\n",
      "وسمازن\n",
      "وسمرکز\n",
      "وسهرمز\n",
      "وسهمدا\n",
      "وسیزد\n",
      "وسیستا\n",
      "وسیلام\n",
      "وسینا\n",
      "وصنا\n",
      "وصندوق\n",
      "وصنعت\n",
      "وغدیر\n",
      "وکار\n",
      "ولپارس\n",
      "ولساپا\n",
      "ولصنم\n",
      "ولغدر\n",
      "ولکار\n",
      "ولملت\n",
      "ومدیر\n",
      "ومعادن\n",
      "وملی\n",
      "ونفت\n",
      "ونوین\n",
      "ونیرو\n",
      "ونیکی\n",
      "آ س پ\n",
      "آریا\n",
      "اپرداز\n",
      "اتکای\n",
      "ارفع\n",
      "اعتلا\n",
      "افرا\n",
      "اوان\n",
      "بالاس\n",
      "بپاس\n",
      "بپیوند\n",
      "بجهرم\n",
      "بخاور\n",
      "بزاگرس\n",
      "بساما\n",
      "بکهنوج\n",
      "بگیلان\n",
      "بمپنا\n",
      "بنو\n",
      "بهپاک\n",
      "پارتا\n",
      "پخش\n",
      "پیزد\n",
      "تاپکیش\n",
      "تبرک\n",
      "تپسی\n",
      "تجلی\n",
      "تلیسه\n",
      "تماوند\n",
      "توریل\n",
      "توسن\n",
      "ثالوند\n",
      "ثباغ\n",
      "ثپردیس\n",
      "ثتران\n",
      "ثرود\n",
      "ثعمرا\n",
      "ثغرب\n",
      "چخزر\n",
      "حآسا\n",
      "حآفرین\n",
      "حپارسا\n",
      "حخزر\n",
      "حریل\n",
      "حسیر\n",
      "حسینا\n",
      "حگهر\n",
      "خدیزل\n",
      "داوه\n",
      "دبالک\n",
      "دتوزیع\n",
      "دتولید\n",
      "ددانا\n",
      "درازی\n",
      "درهآور\n",
      "دسانکو\n",
      "دکپسول\n",
      "دماوند\n",
      "دی\n",
      "رافزا\n",
      "رنیک\n",
      "ریشمک\n",
      "زاگرس\n",
      "زبینا\n",
      "زدشت\n",
      "زشریف\n",
      "زشگزا\n",
      "زفکا\n",
      "زقیام\n",
      "زکشت\n",
      "زگلدشت\n",
      "زماهان\n",
      "زملارد\n",
      "زنگان\n",
      "ساروج\n",
      "ساوه\n",
      "ساینا\n",
      "سبزوا\n",
      "سپیدار\n",
      "سدبیر\n",
      "سرچشمه\n",
      "سغدیر\n",
      "سمگا\n",
      "شاروم\n",
      "شاوان\n",
      "شبصیر\n",
      "شپاس\n",
      "شتوکا\n",
      "شجم\n",
      "شراز\n",
      "شرانل\n",
      "شصدف\n",
      "شکام\n",
      "شگویا\n",
      "صبا\n",
      "غپآذر\n",
      "غپونه\n",
      "غدیس\n",
      "غشهداب\n",
      "غصینو\n",
      "غفارس\n",
      "غگلپا\n",
      "غگلستا\n",
      "غگیلا\n",
      "غمینو\n",
      "غویتا\n",
      "فتوسا\n",
      "فجهان\n",
      "فرابورس\n",
      "فرود\n",
      "فروسیل\n",
      "فروی\n",
      "فزر\n",
      "فزرین\n",
      "فسوژ\n",
      "فغدیر\n",
      "فگستر\n",
      "فولای\n",
      "قاسم\n",
      "قچار\n",
      "قشیر\n",
      "کاسپین\n",
      "کایزد\n",
      "کپرور\n",
      "کتوکا\n",
      "کرمان\n",
      "کزغال\n",
      "کشرق\n",
      "کگهر\n",
      "کلر\n",
      "کمرجان\n",
      "کوثر\n",
      "کی بی سی\n",
      "کیمیا\n",
      "گدنا\n",
      "گکوثر\n",
      "گلدیرا\n",
      "گوهران\n",
      "لطیف\n",
      "مادیرا\n",
      "مارون\n",
      "مدیریت\n",
      "مفاخر\n",
      "میهن\n",
      "نطرین\n",
      "نوین\n",
      "هجرت\n",
      "هرمز\n",
      "وآوا\n",
      "وپویا\n",
      "وتعاون\n",
      "ودی\n",
      "وسبحان\n",
      "وسپهر\n",
      "وطوبی\n",
      "وکبهمن\n",
      "وگستر\n",
      "ولبهمن\n",
      "ولشرق\n",
      "ومعلم\n",
      "وملل\n",
      "ومهان\n",
      "وهامون\n",
      "وهور\n"
     ]
    }
   ],
   "source": [
    "for nme in symbol.index:\n",
    "    export_data_by_name(nme)\n",
    "    #print(nme)"
   ],
   "metadata": {
    "collapsed": false,
    "pycharm": {
     "name": "#%%\n"
    }
   }
  },
  {
   "cell_type": "code",
   "execution_count": 52,
   "outputs": [
    {
     "data": {
      "text/plain": "Index(['فروس'], dtype='object', name='Name')"
     },
     "execution_count": 52,
     "metadata": {},
     "output_type": "execute_result"
    }
   ],
   "source": [],
   "metadata": {
    "collapsed": false,
    "pycharm": {
     "name": "#%%\n"
    }
   }
  },
  {
   "cell_type": "code",
   "execution_count": 53,
   "outputs": [
    {
     "data": {
      "text/plain": "                 Date  Open  High   Low  Close  Final    Volume        Value  \\\nJ-Date                                                                         \n1380-01-26 2001-04-15  1500  1500  1500   1500   1500       139       208500   \n1380-02-02 2001-04-22  1500  1500  1500   1500   1500     15859     23788500   \n1380-02-03 2001-04-23  1500  1500  1500   1500   1500      3000      4500000   \n1380-02-04 2001-04-24  1501  1501  1501   1501   1501      4467      6704967   \n1380-02-08 2001-04-28  1501  1501  1501   1501   1501      8000     12008000   \n...               ...   ...   ...   ...    ...    ...       ...          ...   \n1401-09-30 2022-12-21  5990  6000  5810   5920   5910   1542501   9117167580   \n1401-10-03 2022-12-24  6010  6260  5920   6210   6150   6038534  37166569750   \n1401-10-04 2022-12-25  6210  6310  6180   6180   6210   6719902  41750398680   \n1401-10-05 2022-12-26  6230  6230  6050   6200   6110  14187017  86647979670   \n1401-10-07 2022-12-28  6210  6530  6210   6460   6410  13795546  88377888240   \n\n              No Ticker            Name Market  \nJ-Date                                          \n1380-01-26     1   فروس  فروسیلیس ایران   بورس  \n1380-02-02     4   فروس  فروسیلیس ایران   بورس  \n1380-02-03     2   فروس  فروسیلیس ایران   بورس  \n1380-02-04     1   فروس  فروسیلیس ایران   بورس  \n1380-02-08     4   فروس  فروسیلیس ایران   بورس  \n...          ...    ...             ...    ...  \n1401-09-30   310   فروس  فروسیلیس ایران   بورس  \n1401-10-03   626   فروس  فروسیلیس ایران   بورس  \n1401-10-04   618   فروس  فروسیلیس ایران   بورس  \n1401-10-05  1047   فروس  فروسیلیس ایران   بورس  \n1401-10-07  1059   فروس  فروسیلیس ایران   بورس  \n\n[3117 rows x 12 columns]",
      "text/html": "<div>\n<style scoped>\n    .dataframe tbody tr th:only-of-type {\n        vertical-align: middle;\n    }\n\n    .dataframe tbody tr th {\n        vertical-align: top;\n    }\n\n    .dataframe thead th {\n        text-align: right;\n    }\n</style>\n<table border=\"1\" class=\"dataframe\">\n  <thead>\n    <tr style=\"text-align: right;\">\n      <th></th>\n      <th>Date</th>\n      <th>Open</th>\n      <th>High</th>\n      <th>Low</th>\n      <th>Close</th>\n      <th>Final</th>\n      <th>Volume</th>\n      <th>Value</th>\n      <th>No</th>\n      <th>Ticker</th>\n      <th>Name</th>\n      <th>Market</th>\n    </tr>\n    <tr>\n      <th>J-Date</th>\n      <th></th>\n      <th></th>\n      <th></th>\n      <th></th>\n      <th></th>\n      <th></th>\n      <th></th>\n      <th></th>\n      <th></th>\n      <th></th>\n      <th></th>\n      <th></th>\n    </tr>\n  </thead>\n  <tbody>\n    <tr>\n      <th>1380-01-26</th>\n      <td>2001-04-15</td>\n      <td>1500</td>\n      <td>1500</td>\n      <td>1500</td>\n      <td>1500</td>\n      <td>1500</td>\n      <td>139</td>\n      <td>208500</td>\n      <td>1</td>\n      <td>فروس</td>\n      <td>فروسیلیس ایران</td>\n      <td>بورس</td>\n    </tr>\n    <tr>\n      <th>1380-02-02</th>\n      <td>2001-04-22</td>\n      <td>1500</td>\n      <td>1500</td>\n      <td>1500</td>\n      <td>1500</td>\n      <td>1500</td>\n      <td>15859</td>\n      <td>23788500</td>\n      <td>4</td>\n      <td>فروس</td>\n      <td>فروسیلیس ایران</td>\n      <td>بورس</td>\n    </tr>\n    <tr>\n      <th>1380-02-03</th>\n      <td>2001-04-23</td>\n      <td>1500</td>\n      <td>1500</td>\n      <td>1500</td>\n      <td>1500</td>\n      <td>1500</td>\n      <td>3000</td>\n      <td>4500000</td>\n      <td>2</td>\n      <td>فروس</td>\n      <td>فروسیلیس ایران</td>\n      <td>بورس</td>\n    </tr>\n    <tr>\n      <th>1380-02-04</th>\n      <td>2001-04-24</td>\n      <td>1501</td>\n      <td>1501</td>\n      <td>1501</td>\n      <td>1501</td>\n      <td>1501</td>\n      <td>4467</td>\n      <td>6704967</td>\n      <td>1</td>\n      <td>فروس</td>\n      <td>فروسیلیس ایران</td>\n      <td>بورس</td>\n    </tr>\n    <tr>\n      <th>1380-02-08</th>\n      <td>2001-04-28</td>\n      <td>1501</td>\n      <td>1501</td>\n      <td>1501</td>\n      <td>1501</td>\n      <td>1501</td>\n      <td>8000</td>\n      <td>12008000</td>\n      <td>4</td>\n      <td>فروس</td>\n      <td>فروسیلیس ایران</td>\n      <td>بورس</td>\n    </tr>\n    <tr>\n      <th>...</th>\n      <td>...</td>\n      <td>...</td>\n      <td>...</td>\n      <td>...</td>\n      <td>...</td>\n      <td>...</td>\n      <td>...</td>\n      <td>...</td>\n      <td>...</td>\n      <td>...</td>\n      <td>...</td>\n      <td>...</td>\n    </tr>\n    <tr>\n      <th>1401-09-30</th>\n      <td>2022-12-21</td>\n      <td>5990</td>\n      <td>6000</td>\n      <td>5810</td>\n      <td>5920</td>\n      <td>5910</td>\n      <td>1542501</td>\n      <td>9117167580</td>\n      <td>310</td>\n      <td>فروس</td>\n      <td>فروسیلیس ایران</td>\n      <td>بورس</td>\n    </tr>\n    <tr>\n      <th>1401-10-03</th>\n      <td>2022-12-24</td>\n      <td>6010</td>\n      <td>6260</td>\n      <td>5920</td>\n      <td>6210</td>\n      <td>6150</td>\n      <td>6038534</td>\n      <td>37166569750</td>\n      <td>626</td>\n      <td>فروس</td>\n      <td>فروسیلیس ایران</td>\n      <td>بورس</td>\n    </tr>\n    <tr>\n      <th>1401-10-04</th>\n      <td>2022-12-25</td>\n      <td>6210</td>\n      <td>6310</td>\n      <td>6180</td>\n      <td>6180</td>\n      <td>6210</td>\n      <td>6719902</td>\n      <td>41750398680</td>\n      <td>618</td>\n      <td>فروس</td>\n      <td>فروسیلیس ایران</td>\n      <td>بورس</td>\n    </tr>\n    <tr>\n      <th>1401-10-05</th>\n      <td>2022-12-26</td>\n      <td>6230</td>\n      <td>6230</td>\n      <td>6050</td>\n      <td>6200</td>\n      <td>6110</td>\n      <td>14187017</td>\n      <td>86647979670</td>\n      <td>1047</td>\n      <td>فروس</td>\n      <td>فروسیلیس ایران</td>\n      <td>بورس</td>\n    </tr>\n    <tr>\n      <th>1401-10-07</th>\n      <td>2022-12-28</td>\n      <td>6210</td>\n      <td>6530</td>\n      <td>6210</td>\n      <td>6460</td>\n      <td>6410</td>\n      <td>13795546</td>\n      <td>88377888240</td>\n      <td>1059</td>\n      <td>فروس</td>\n      <td>فروسیلیس ایران</td>\n      <td>بورس</td>\n    </tr>\n  </tbody>\n</table>\n<p>3117 rows × 12 columns</p>\n</div>"
     },
     "execution_count": 53,
     "metadata": {},
     "output_type": "execute_result"
    }
   ],
   "source": [],
   "metadata": {
    "collapsed": false,
    "pycharm": {
     "name": "#%%\n"
    }
   }
  },
  {
   "cell_type": "code",
   "execution_count": 56,
   "outputs": [],
   "source": [
    "inp=input('Enter :')"
   ],
   "metadata": {
    "collapsed": false,
    "pycharm": {
     "name": "#%%\n"
    }
   }
  },
  {
   "cell_type": "code",
   "execution_count": 57,
   "outputs": [
    {
     "data": {
      "text/plain": "['a', 'b', 'c', 'd', 'e']"
     },
     "execution_count": 57,
     "metadata": {},
     "output_type": "execute_result"
    }
   ],
   "source": [
    "inp.split()"
   ],
   "metadata": {
    "collapsed": false,
    "pycharm": {
     "name": "#%%\n"
    }
   }
  },
  {
   "cell_type": "code",
   "execution_count": 61,
   "outputs": [],
   "source": [
    "bourse = bool(input('for get bourse enter 1 otherwise 0 :'))\n",
    "farabourse = bool(input('for get farabourse enter 1 otherwise 0 :'))\n",
    "payeh = bool(input('for get payeh enter 1 otherwise 0 :'))"
   ],
   "metadata": {
    "collapsed": false,
    "pycharm": {
     "name": "#%%\n"
    }
   }
  },
  {
   "cell_type": "code",
   "execution_count": 62,
   "outputs": [
    {
     "data": {
      "text/plain": "{'بورس': True, 'فرابورس': True, 'پایه': True}"
     },
     "execution_count": 62,
     "metadata": {},
     "output_type": "execute_result"
    }
   ],
   "source": [
    "dic = {'بورس': bourse, 'فرابورس': farabourse, 'پایه': payeh}\n",
    "dic"
   ],
   "metadata": {
    "collapsed": false,
    "pycharm": {
     "name": "#%%\n"
    }
   }
  },
  {
   "cell_type": "code",
   "execution_count": 60,
   "outputs": [
    {
     "data": {
      "text/plain": "'F:\\\\my project'"
     },
     "execution_count": 60,
     "metadata": {},
     "output_type": "execute_result"
    }
   ],
   "source": [],
   "metadata": {
    "collapsed": false,
    "pycharm": {
     "name": "#%%\n"
    }
   }
  },
  {
   "cell_type": "code",
   "execution_count": null,
   "outputs": [],
   "source": [],
   "metadata": {
    "collapsed": false,
    "pycharm": {
     "name": "#%%\n"
    }
   }
  }
 ],
 "metadata": {
  "kernelspec": {
   "display_name": "Python 3",
   "language": "python",
   "name": "python3"
  },
  "language_info": {
   "codemirror_mode": {
    "name": "ipython",
    "version": 2
   },
   "file_extension": ".py",
   "mimetype": "text/x-python",
   "name": "python",
   "nbconvert_exporter": "python",
   "pygments_lexer": "ipython2",
   "version": "2.7.6"
  }
 },
 "nbformat": 4,
 "nbformat_minor": 0
}