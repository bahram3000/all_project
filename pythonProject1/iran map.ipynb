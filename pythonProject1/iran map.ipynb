{
 "cells": [
  {
   "cell_type": "code",
   "execution_count": null,
   "outputs": [],
   "source": [
    "import numpy as np\n",
    "import pandas as pd\n",
    "import matplotlib as plt\n",
    "import folium"
   ],
   "metadata": {
    "collapsed": false,
    "pycharm": {
     "name": "#%%\n"
    }
   }
  },
  {
   "cell_type": "code",
   "execution_count": 3,
   "outputs": [
    {
     "data": {
      "text/plain": "<folium.folium.Map at 0x159a041c700>",
      "text/html": "<div style=\"width:100%;\"><div style=\"position:relative;width:100%;height:0;padding-bottom:60%;\"><span style=\"color:#565656\">Make this Notebook Trusted to load map: File -> Trust Notebook</span><iframe srcdoc=\"&lt;!DOCTYPE html&gt;\n&lt;html&gt;\n&lt;head&gt;\n    \n    &lt;meta http-equiv=&quot;content-type&quot; content=&quot;text/html; charset=UTF-8&quot; /&gt;\n    \n        &lt;script&gt;\n            L_NO_TOUCH = false;\n            L_DISABLE_3D = false;\n        &lt;/script&gt;\n    \n    &lt;style&gt;html, body {width: 100%;height: 100%;margin: 0;padding: 0;}&lt;/style&gt;\n    &lt;style&gt;#map {position:absolute;top:0;bottom:0;right:0;left:0;}&lt;/style&gt;\n    &lt;script src=&quot;https://cdn.jsdelivr.net/npm/leaflet@1.9.3/dist/leaflet.js&quot;&gt;&lt;/script&gt;\n    &lt;script src=&quot;https://code.jquery.com/jquery-1.12.4.min.js&quot;&gt;&lt;/script&gt;\n    &lt;script src=&quot;https://cdn.jsdelivr.net/npm/bootstrap@5.2.2/dist/js/bootstrap.bundle.min.js&quot;&gt;&lt;/script&gt;\n    &lt;script src=&quot;https://cdnjs.cloudflare.com/ajax/libs/Leaflet.awesome-markers/2.0.2/leaflet.awesome-markers.js&quot;&gt;&lt;/script&gt;\n    &lt;link rel=&quot;stylesheet&quot; href=&quot;https://cdn.jsdelivr.net/npm/leaflet@1.9.3/dist/leaflet.css&quot;/&gt;\n    &lt;link rel=&quot;stylesheet&quot; href=&quot;https://cdn.jsdelivr.net/npm/bootstrap@5.2.2/dist/css/bootstrap.min.css&quot;/&gt;\n    &lt;link rel=&quot;stylesheet&quot; href=&quot;https://netdna.bootstrapcdn.com/bootstrap/3.0.0/css/bootstrap.min.css&quot;/&gt;\n    &lt;link rel=&quot;stylesheet&quot; href=&quot;https://cdn.jsdelivr.net/npm/@fortawesome/fontawesome-free@6.2.0/css/all.min.css&quot;/&gt;\n    &lt;link rel=&quot;stylesheet&quot; href=&quot;https://cdnjs.cloudflare.com/ajax/libs/Leaflet.awesome-markers/2.0.2/leaflet.awesome-markers.css&quot;/&gt;\n    &lt;link rel=&quot;stylesheet&quot; href=&quot;https://cdn.jsdelivr.net/gh/python-visualization/folium/folium/templates/leaflet.awesome.rotate.min.css&quot;/&gt;\n    \n            &lt;meta name=&quot;viewport&quot; content=&quot;width=device-width,\n                initial-scale=1.0, maximum-scale=1.0, user-scalable=no&quot; /&gt;\n            &lt;style&gt;\n                #map_b2842d58cdd6fd87abd6f6d165bf8c3b {\n                    position: relative;\n                    width: 100.0%;\n                    height: 100.0%;\n                    left: 0.0%;\n                    top: 0.0%;\n                }\n                .leaflet-container { font-size: 1rem; }\n            &lt;/style&gt;\n        \n&lt;/head&gt;\n&lt;body&gt;\n    \n    \n            &lt;div class=&quot;folium-map&quot; id=&quot;map_b2842d58cdd6fd87abd6f6d165bf8c3b&quot; &gt;&lt;/div&gt;\n        \n&lt;/body&gt;\n&lt;script&gt;\n    \n    \n            var map_b2842d58cdd6fd87abd6f6d165bf8c3b = L.map(\n                &quot;map_b2842d58cdd6fd87abd6f6d165bf8c3b&quot;,\n                {\n                    center: [32.4279, 53.688],\n                    crs: L.CRS.EPSG3857,\n                    zoom: 5,\n                    zoomControl: true,\n                    preferCanvas: false,\n                }\n            );\n\n            \n\n        \n    \n            var tile_layer_ba726dac6d8f4441f79150c94224c501 = L.tileLayer(\n                &quot;https://{s}.tile.openstreetmap.org/{z}/{x}/{y}.png&quot;,\n                {&quot;attribution&quot;: &quot;Data by \\u0026copy; \\u003ca target=\\&quot;_blank\\&quot; href=\\&quot;http://openstreetmap.org\\&quot;\\u003eOpenStreetMap\\u003c/a\\u003e, under \\u003ca target=\\&quot;_blank\\&quot; href=\\&quot;http://www.openstreetmap.org/copyright\\&quot;\\u003eODbL\\u003c/a\\u003e.&quot;, &quot;detectRetina&quot;: false, &quot;maxNativeZoom&quot;: 18, &quot;maxZoom&quot;: 18, &quot;minZoom&quot;: 0, &quot;noWrap&quot;: false, &quot;opacity&quot;: 1, &quot;subdomains&quot;: &quot;abc&quot;, &quot;tms&quot;: false}\n            ).addTo(map_b2842d58cdd6fd87abd6f6d165bf8c3b);\n        \n&lt;/script&gt;\n&lt;/html&gt;\" style=\"position:absolute;width:100%;height:100%;left:0;top:0;border:none !important;\" allowfullscreen webkitallowfullscreen mozallowfullscreen></iframe></div></div>"
     },
     "execution_count": 3,
     "metadata": {},
     "output_type": "execute_result"
    }
   ],
   "source": [
    "iran_map = folium.Map(location = [32.4279,53.6880],zoom_start = 5)\n",
    "\n",
    "iran_map"
   ],
   "metadata": {
    "collapsed": false,
    "pycharm": {
     "name": "#%%\n"
    }
   }
  },
  {
   "cell_type": "code",
   "execution_count": 7,
   "outputs": [
    {
     "data": {
      "text/plain": "                          per\nتهران                1.331668\nخراسان رضوی          0.608805\nاصفهان               0.905489\nفارس                 0.774532\nخوزستان              2.511835\nآذربایجان شرقی       0.715694\nمازندران             0.803458\nآذربایجان غربی       0.489683\nکرمان                0.783112\nسیستان و بلوچستان    0.403330\nالبرز                0.825281\nگیلان                0.694992\nکرمانشاه             0.614203\nگلستان               0.513402\nهرمزگان              0.900084\nلرستان               0.499479\nهمدان                0.545624\nکردستان              0.448852\nمرکزی                1.062611\nقم                   0.618642\nقزوین                0.941457\nاردبیل               0.629289\nبوشهر                4.123058\nیزد                  1.263933\nزنجان                0.756019\nچهارمحال و بختیاری   0.506115\nخراسان شمالی         0.463138\nخراسان جنوبی         0.519875\nکهگیلویه و بویراحمد  2.466600\nسمنان                1.024425\nایلام                1.653607",
      "text/html": "<div>\n<style scoped>\n    .dataframe tbody tr th:only-of-type {\n        vertical-align: middle;\n    }\n\n    .dataframe tbody tr th {\n        vertical-align: top;\n    }\n\n    .dataframe thead th {\n        text-align: right;\n    }\n</style>\n<table border=\"1\" class=\"dataframe\">\n  <thead>\n    <tr style=\"text-align: right;\">\n      <th></th>\n      <th>per</th>\n    </tr>\n  </thead>\n  <tbody>\n    <tr>\n      <th>تهران</th>\n      <td>1.331668</td>\n    </tr>\n    <tr>\n      <th>خراسان رضوی</th>\n      <td>0.608805</td>\n    </tr>\n    <tr>\n      <th>اصفهان</th>\n      <td>0.905489</td>\n    </tr>\n    <tr>\n      <th>فارس</th>\n      <td>0.774532</td>\n    </tr>\n    <tr>\n      <th>خوزستان</th>\n      <td>2.511835</td>\n    </tr>\n    <tr>\n      <th>آذربایجان شرقی</th>\n      <td>0.715694</td>\n    </tr>\n    <tr>\n      <th>مازندران</th>\n      <td>0.803458</td>\n    </tr>\n    <tr>\n      <th>آذربایجان غربی</th>\n      <td>0.489683</td>\n    </tr>\n    <tr>\n      <th>کرمان</th>\n      <td>0.783112</td>\n    </tr>\n    <tr>\n      <th>سیستان و بلوچستان</th>\n      <td>0.403330</td>\n    </tr>\n    <tr>\n      <th>البرز</th>\n      <td>0.825281</td>\n    </tr>\n    <tr>\n      <th>گیلان</th>\n      <td>0.694992</td>\n    </tr>\n    <tr>\n      <th>کرمانشاه</th>\n      <td>0.614203</td>\n    </tr>\n    <tr>\n      <th>گلستان</th>\n      <td>0.513402</td>\n    </tr>\n    <tr>\n      <th>هرمزگان</th>\n      <td>0.900084</td>\n    </tr>\n    <tr>\n      <th>لرستان</th>\n      <td>0.499479</td>\n    </tr>\n    <tr>\n      <th>همدان</th>\n      <td>0.545624</td>\n    </tr>\n    <tr>\n      <th>کردستان</th>\n      <td>0.448852</td>\n    </tr>\n    <tr>\n      <th>مرکزی</th>\n      <td>1.062611</td>\n    </tr>\n    <tr>\n      <th>قم</th>\n      <td>0.618642</td>\n    </tr>\n    <tr>\n      <th>قزوین</th>\n      <td>0.941457</td>\n    </tr>\n    <tr>\n      <th>اردبیل</th>\n      <td>0.629289</td>\n    </tr>\n    <tr>\n      <th>بوشهر</th>\n      <td>4.123058</td>\n    </tr>\n    <tr>\n      <th>یزد</th>\n      <td>1.263933</td>\n    </tr>\n    <tr>\n      <th>زنجان</th>\n      <td>0.756019</td>\n    </tr>\n    <tr>\n      <th>چهارمحال و بختیاری</th>\n      <td>0.506115</td>\n    </tr>\n    <tr>\n      <th>خراسان شمالی</th>\n      <td>0.463138</td>\n    </tr>\n    <tr>\n      <th>خراسان جنوبی</th>\n      <td>0.519875</td>\n    </tr>\n    <tr>\n      <th>کهگیلویه و بویراحمد</th>\n      <td>2.466600</td>\n    </tr>\n    <tr>\n      <th>سمنان</th>\n      <td>1.024425</td>\n    </tr>\n    <tr>\n      <th>ایلام</th>\n      <td>1.653607</td>\n    </tr>\n  </tbody>\n</table>\n</div>"
     },
     "execution_count": 7,
     "metadata": {},
     "output_type": "execute_result"
    }
   ],
   "source": [
    "geo_df=pd.read_excel('C:\\\\Users\\\\ADMIN\\\\Desktop\\\\dataset\\\\pop_rev.xlsx')\n",
    "geo_df.rename(index=geo_df['Unnamed: 0'],inplace=True)\n",
    "geo_df.drop(['Unnamed: 0','population','gdp_rate','population_rate'],axis=1,inplace=True)\n",
    "geo_df"
   ],
   "metadata": {
    "collapsed": false,
    "pycharm": {
     "name": "#%%\n"
    }
   }
  },
  {
   "cell_type": "code",
   "execution_count": null,
   "outputs": [],
   "source": [],
   "metadata": {
    "collapsed": false,
    "pycharm": {
     "name": "#%%\n"
    }
   }
  }
 ],
 "metadata": {
  "kernelspec": {
   "display_name": "Python 3",
   "language": "python",
   "name": "python3"
  },
  "language_info": {
   "codemirror_mode": {
    "name": "ipython",
    "version": 2
   },
   "file_extension": ".py",
   "mimetype": "text/x-python",
   "name": "python",
   "nbconvert_exporter": "python",
   "pygments_lexer": "ipython2",
   "version": "2.7.6"
  }
 },
 "nbformat": 4,
 "nbformat_minor": 0
}