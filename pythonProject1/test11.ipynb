{
 "cells": [
  {
   "cell_type": "code",
   "execution_count": 1,
   "outputs": [],
   "source": [
    "import requests"
   ],
   "metadata": {
    "collapsed": false,
    "pycharm": {
     "name": "#%%\n"
    }
   }
  },
  {
   "cell_type": "code",
   "execution_count": 2,
   "metadata": {
    "collapsed": true,
    "pycharm": {
     "name": "#%%\n"
    }
   },
   "outputs": [],
   "source": [
    "api_url_divar = \"https://api.divar.ir/v8/web-search/30/laptops\""
   ]
  },
  {
   "cell_type": "code",
   "execution_count": 3,
   "outputs": [],
   "source": [
    "js_divar = {\"page\": 1, \"json_schema\": {\"category\": {\"value\": \"laptops\"}, \"goods-business-type\": {\"value\": \"all\"},\n",
    "                                       \"query\": \"لپ تاپ\", \"sort\": {\"value\": \"sort_date\"}, \"cities\": [\"30\"]},\n",
    "            \"last-post-date\": 1700884406353980}\n",
    "hd_divar = {'Content-Type': \"application/json\"}"
   ],
   "metadata": {
    "collapsed": false,
    "pycharm": {
     "name": "#%%\n"
    }
   }
  },
  {
   "cell_type": "code",
   "execution_count": 4,
   "outputs": [],
   "source": [
    "res_divar = requests.post(url=api_url_divar, json=js_divar, headers=hd_divar)"
   ],
   "metadata": {
    "collapsed": false,
    "pycharm": {
     "name": "#%%\n"
    }
   }
  },
  {
   "cell_type": "code",
   "execution_count": 5,
   "outputs": [
    {
     "data": {
      "text/plain": "200"
     },
     "execution_count": 5,
     "metadata": {},
     "output_type": "execute_result"
    }
   ],
   "source": [
    "res_divar.status_code"
   ],
   "metadata": {
    "collapsed": false,
    "pycharm": {
     "name": "#%%\n"
    }
   }
  },
  {
   "cell_type": "code",
   "execution_count": 79,
   "outputs": [],
   "source": [
    "api_url_digikala = 'https://api.digikala.com/v1/search/?q=%D9%85%D8%AD%D8%B5%D9%88%D9%84%D'\n",
    "js_digikala = \"q=%D9%85%D8%AD%D8%B5%D9%88%D9%84%D8%A7%D8%AA%20%D9%BE%DA%AF%D8%A7%D9%87&seo_url=&page=2\"\n",
    "hd_digikala = {\n",
    "    'Accept':\n",
    "        '*/*'\n",
    "    , 'Referer':\n",
    "        'https://www.digikala.com/'\n",
    "    , 'Sec-Ch-Ua':\n",
    "        '''\"Google Chrome\";v=\"119\", \"Chromium\";v=\"119\", \"Not?A_Brand\";v=\"24\"'''\n",
    "    , 'Sec-Ch-Ua-Mobile':\n",
    "        '?0'\n",
    "    , 'Sec-Ch-Ua-Platform':\n",
    "        \"Windows\"\n",
    "    , 'User-Agent':\n",
    "        'Mozilla/5.0 (Windows NT 10.0; Win64; x64) AppleWebKit/537.36 (KHTML, like Gecko) Chrome/119.0.0.0 Safari/537.36'\n",
    "}\n",
    "res_digikala = requests.get(api_url_digikala, params=js_digikala,headers=hd_digikala)"
   ],
   "metadata": {
    "collapsed": false,
    "pycharm": {
     "name": "#%%\n"
    }
   }
  },
  {
   "cell_type": "code",
   "execution_count": 80,
   "outputs": [
    {
     "data": {
      "text/plain": "200"
     },
     "execution_count": 80,
     "metadata": {},
     "output_type": "execute_result"
    }
   ],
   "source": [
    "res_digikala.status_code"
   ],
   "metadata": {
    "collapsed": false,
    "pycharm": {
     "name": "#%%\n"
    }
   }
  },
  {
   "cell_type": "code",
   "execution_count": 81,
   "outputs": [
    {
     "data": {
      "text/plain": "{'Server': 'DigiCDN Edge', 'Date': 'Fri, 01 Dec 2023 23:50:40 GMT', 'Content-Type': 'application/json', 'Transfer-Encoding': 'chunked', 'Connection': 'keep-alive', 'Vary': 'Accept-Encoding', 'Cache-Control': 'no-cache, private', 'Access-Control-Allow-Origin': 'https://www.digikala.com', 'Access-Control-Allow-Credentials': 'true', 'Access-Control-Allow-Methods': 'GET, POST, PUT, DELETE, OPTIONS', 'Access-Control-Allow-Headers': 'Authorization,x-web-city-id,x-web-client-id,x-web-client,x-web-global-user-id,x-web-optimize-response,x-web-session-id,content-type,supernova-profiler,supernova-flush-container,supernova-flush-cache,supernova-flush-opcache,supernova-vendor-dir,supernova-show-500-err', 'Content-Encoding': 'gzip', 'cdn-cache': 'EXPIRED', 'cdn-request-time': '0.949', 'cdn-host': 'ln-dpt-e01'}"
     },
     "execution_count": 81,
     "metadata": {},
     "output_type": "execute_result"
    }
   ],
   "source": [
    "res_digikala.headers"
   ],
   "metadata": {
    "collapsed": false,
    "pycharm": {
     "name": "#%%\n"
    }
   }
  },
  {
   "cell_type": "code",
   "execution_count": 82,
   "outputs": [],
   "source": [
    "data_prim = res_digikala.json()"
   ],
   "metadata": {
    "collapsed": false,
    "pycharm": {
     "name": "#%%\n"
    }
   }
  },
  {
   "cell_type": "code",
   "execution_count": 83,
   "outputs": [],
   "source": [
    "products = data_prim['data']['products']"
   ],
   "metadata": {
    "collapsed": false,
    "pycharm": {
     "name": "#%%\n"
    }
   }
  },
  {
   "cell_type": "code",
   "execution_count": 84,
   "outputs": [
    {
     "data": {
      "text/plain": "{'id': 3047397,\n 'title_fa': 'دوغ بدون گاز پگاه با طعم نعنا - 4 کیلوگرم',\n 'title_en': 'Pegah Non Carbonated Mint Doogh - 4 Kg',\n 'url': {'base': None,\n  'uri': '/product/dkp-3047397/دوغ-بدون-گاز-پگاه-با-طعم-نعنا-4-کیلوگرم'},\n 'status': 'marketable',\n 'has_quick_view': True,\n 'data_layer': {'brand': 'پگاه',\n  'category': '[FF,دوغ]',\n  'metric6': 1347,\n  'dimension2': 0,\n  'dimension6': 0,\n  'dimension7': 'none',\n  'dimension9': 4.2,\n  'dimension11': 1,\n  'dimension20': 'marketable',\n  'item_category2': 'کالاهای سوپرمارکتی',\n  'item_category3': 'لبنیات',\n  'item_category4': 'دوغ',\n  'item_category5': 'دوغ بدون گاز'},\n 'product_type': 'product',\n 'digiplus': {'services': ['ارسال رایگان'],\n  'is_jet_eligible': False,\n  'cash_back': 0,\n  'is_general_location_jet_eligible': False,\n  'fast_shipping_text': None},\n 'images': {'main': {'storage_ids': [],\n   'url': ['https://dkstatics-public.digikala.com/digikala-products/5e872e53f52e14da8d9fc3e4c08ef46273737f52_1594018553.jpg?x-oss-process=image/resize,m_lfit,h_300,w_300/quality,q_80'],\n   'thumbnail_url': None,\n   'temporary_id': None,\n   'webp_url': ['https://dkstatics-public.digikala.com/digikala-products/5e872e53f52e14da8d9fc3e4c08ef46273737f52_1594018553.jpg?x-oss-process=image/resize,m_lfit,h_300,w_300/format,webp/quality,q_80']}},\n 'rating': {'rate': 84, 'count': 1347},\n 'default_variant': {'id': 9762728,\n  'lead_time': 0,\n  'rank': 99.85,\n  'rate': 84.8,\n  'statistics': {'totally_satisfied': {'rate_count': 502, 'rate': 43.05},\n   'satisfied': {'rate_count': 519, 'rate': 44.51},\n   'neutral': {'rate_count': 90, 'rate': 7.72},\n   'dissatisfied': {'rate_count': 31, 'rate': 2.66},\n   'totally_dissatisfied': {'rate_count': 24, 'rate': 2.06},\n   'total_count': 1166,\n   'total_rate': 84.8},\n  'status': 'marketable',\n  'properties': {'is_fast_shipping': True,\n   'is_ship_by_seller': False,\n   'is_multi_warehouse': False,\n   'has_similar_variants': False,\n   'is_rural': False,\n   'in_digikala_warehouse': True},\n  'digiplus': {'services': ['ارسال رایگان'],\n   'is_jet_eligible': False,\n   'cash_back': 0,\n   'is_general_location_jet_eligible': False,\n   'fast_shipping_text': None},\n  'warranty': {'id': 272,\n   'title_fa': 'گارانتی اصالت و سلامت فیزیکی کالا',\n   'title_en': 'گارانتی اصالت و سلامت فیزیکی کالا'},\n  'seller': {'id': 1,\n   'title': 'دیجی\\u200cکالا',\n   'code': '5A52N',\n   'url': 'https://www.digikala.com/seller/5A52N/',\n   'rating': {'total_rate': 0,\n    'total_count': 0,\n    'commitment': 100,\n    'no_return': 99.9,\n    'on_time_shipping': 100},\n   'properties': {'is_trusted': False,\n    'is_official': False,\n    'is_roosta': False,\n    'is_new': False},\n   'stars': 5,\n   'grade': {'label': 'عالی', 'color': '#00a049'},\n   'logo': None,\n   'registration_date': '7 سال و 3 ماه'},\n  'digiclub': {'point': 7},\n  'price': {'selling_price': 624000,\n   'rrp_price': 624000,\n   'order_limit': 4,\n   'is_incredible': False,\n   'is_promotion': False,\n   'is_locked_for_digiplus': False,\n   'bnpl_active': True,\n   'discount_percent': 0,\n   'is_plus_early_access': False},\n  'shipment_methods': {'description': 'موجود در انبار دیجی\\u200cکالا',\n   'has_lead_time': True,\n   'providers': [{'title': 'ارسال سریع سوپرمارکتی دیجی\\u200cکالا',\n     'description': 'این کالا در انبار دیجی\\u200cکالا موجود و آماده پردازش است و توسط پیک دیجی\\u200cکالا در بازه انتخابی ارسال خواهد شد.',\n     'has_lead_time': False,\n     'type': 'fresh'}]},\n  'has_importer_price': False,\n  'manufacture_price_not_exist': False,\n  'has_best_price_in_last_month': False,\n  'buy_box_notices': []},\n 'properties': {'is_fast_shipping': True,\n  'is_ship_by_seller': False,\n  'free_shipping_badge': False,\n  'is_multi_warehouse': False,\n  'is_fake': False,\n  'has_gift': False,\n  'min_price_in_last_month': 489900,\n  'is_non_inventory': False,\n  'is_ad': False,\n  'ad': [],\n  'is_jet_eligible': False,\n  'is_medical_supplement': False},\n 'badges': [],\n 'colors': []}"
     },
     "execution_count": 84,
     "metadata": {},
     "output_type": "execute_result"
    }
   ],
   "source": [
    "products[0]"
   ],
   "metadata": {
    "collapsed": false,
    "pycharm": {
     "name": "#%%\n"
    }
   }
  },
  {
   "cell_type": "code",
   "execution_count": 85,
   "outputs": [
    {
     "data": {
      "text/plain": "{'main': {'storage_ids': [],\n  'url': ['https://dkstatics-public.digikala.com/digikala-products/5e872e53f52e14da8d9fc3e4c08ef46273737f52_1594018553.jpg?x-oss-process=image/resize,m_lfit,h_300,w_300/quality,q_80'],\n  'thumbnail_url': None,\n  'temporary_id': None,\n  'webp_url': ['https://dkstatics-public.digikala.com/digikala-products/5e872e53f52e14da8d9fc3e4c08ef46273737f52_1594018553.jpg?x-oss-process=image/resize,m_lfit,h_300,w_300/format,webp/quality,q_80']}}"
     },
     "execution_count": 85,
     "metadata": {},
     "output_type": "execute_result"
    }
   ],
   "source": [
    "products[0]['images']"
   ],
   "metadata": {
    "collapsed": false,
    "pycharm": {
     "name": "#%%\n"
    }
   }
  },
  {
   "cell_type": "code",
   "execution_count": 86,
   "outputs": [
    {
     "data": {
      "text/plain": "'https://dkstatics-public.digikala.com/digikala-products/5e872e53f52e14da8d9fc3e4c08ef46273737f52_1594018553.jpg?x-oss-process=image/resize,m_lfit,h_300,w_300/quality,q_80'"
     },
     "execution_count": 86,
     "metadata": {},
     "output_type": "execute_result"
    }
   ],
   "source": [
    "products[0]['images']['main']['url'][0]"
   ],
   "metadata": {
    "collapsed": false,
    "pycharm": {
     "name": "#%%\n"
    }
   }
  },
  {
   "cell_type": "code",
   "execution_count": 87,
   "outputs": [
    {
     "data": {
      "text/plain": "':authority'"
     },
     "execution_count": 87,
     "metadata": {},
     "output_type": "execute_result"
    }
   ],
   "source": [
    "':authority'"
   ],
   "metadata": {
    "collapsed": false,
    "pycharm": {
     "name": "#%%\n"
    }
   }
  },
  {
   "cell_type": "code",
   "execution_count": 88,
   "outputs": [],
   "source": [
    "jew_api_url = 'https://www.jamesavery.com/on/demandware.store/Sites-JamesAvery-Site/en_US/Search-UpdateGrid?cgid=necklaces-chains&start=30&sz=30&selectedUrl=https%3A%2F%2Fwww.jamesavery.com%2Fon%2Fdemandware.store%2FSites-JamesAvery-Site%2Fen_US%2FSearch-UpdateGrid%3Fcgid%3Dnecklaces-chains%26start%3D30%26sz%3D30'\n",
    "jew_param = 'cgid=necklaces-chains&start=30&sz=30&selectedUrl=https%3A%2F%2Fwww.jamesavery.com%2Fon%2Fdemandware.store%2FSites-JamesAvery-Site%2Fen_US%2FSearch-UpdateGrid%3Fcgid%3Dnecklaces-chains%26start%3D30%26sz%3D30'\n",
    "\n",
    "header = {'Authorization':\n",
    "              'www.jamesavery.com'\n",
    "    , 'Method': 'GET'\n",
    "\n",
    "    , 'Path':\n",
    "              \"/ on / demandware.store / Sites - JamesAvery - Site / en_US / Search - UpdateGrid?cgid=necklaces-chains & start=30 & sz=30 & selectedUrl=https % 3A % 2F % 2Fwww.jamesavery.com % 2Fon % 2Fdemandware.store % 2FSites-JamesAvery-Site % 2Fen_US % 2FSearch-UpdateGrid % 3Fcgid % 3Dnecklaces-chains % 26start % 3D30 % 26sz % 3D30\"\n",
    "    , 'Scheme':\n",
    "              'https'\n",
    "    , 'Accept':\n",
    "              '*/*'\n",
    "    , 'Accept-Encoding':\n",
    "              'gzip, deflate, br'\n",
    "    , 'Accept-Language':\n",
    "              'fa-IR,fa;q=0.9,en-US;q=0.8,en;q=0.7'\n",
    "    , 'Cookie':\n",
    "              'dwac_14b3e19a30f1c8562e7746b858=yce7FwWw6k_23UNngVteWV19JjIz7CuIJEc%3D|dw-only|||USD|false|America%2FChicago|true; cqcid=abb9iw6ZXi56JMZJ7PQvxHQ8xy; cquid=||; sid=yce7FwWw6k_23UNngVteWV19JjIz7CuIJEc; dwanonymous_b944b1719811b7e590b177c71d4485c4=abb9iw6ZXi56JMZJ7PQvxHQ8xy; __cq_dnt=0; dw_dnt=0; dwsid=6Kql_qCQCf8zw3dXpg6IHHwQONuWzMg44VkIzoOvuMh_LOQHpuwlXu8vy0gnBL1cpgmVMkQLtsNSgbMKGXpfag==; liveagent_oref=; yotpo_pixel=07b7a91a-6187-4012-9f60-2ec3be6d0984; _sp_ses.b83b=*; liveagent_sid=ac190a42-fcf4-415b-8b67-c65e509fcd4c; liveagent_vc=2; liveagent_ptid=ac190a42-fcf4-415b-8b67-c65e509fcd4c; _sp_id.b83b=df65f989f0fb1d0c.1701472220.1.1701472230.1701472220'\n",
    "    , 'Referer':\n",
    "              'https://www.jamesavery.com/necklaces-chains'\n",
    "    , 'Sec-Ch-Ua':\n",
    "              '''\"Google Chrome\";v=\"119\", \"Chromium\";v=\"119\", \"Not?A_Brand\";v=\"24\"'''\n",
    "    , 'Sec-Ch-Ua-Mobile':\n",
    "              '?0'\n",
    "    , 'Sec-Ch-Ua-Platform':\n",
    "              \"Windows\"\n",
    "    , 'Sec-Fetch-Dest':\n",
    "              'empty'\n",
    "    , 'Sec-Fetch-Mode':\n",
    "              'cors'\n",
    "    , 'Sec-Fetch-Site':\n",
    "              'same-origin'\n",
    "    , 'User-Agent':\n",
    "              'Mozilla/5.0 (Windows NT 10.0; Win64; x64) AppleWebKit/537.36 (KHTML, like Gecko) Chrome/119.0.0.0 Safari/537.36'\n",
    "    , 'X-Requested-With':\n",
    "              'XMLHttpRequest'}"
   ],
   "metadata": {
    "collapsed": false,
    "pycharm": {
     "name": "#%%\n"
    }
   }
  },
  {
   "cell_type": "code",
   "execution_count": 89,
   "outputs": [
    {
     "data": {
      "text/plain": "503"
     },
     "execution_count": 89,
     "metadata": {},
     "output_type": "execute_result"
    }
   ],
   "source": [
    "jew_res = requests.get(jew_api_url, params=jew_param, headers=header)\n",
    "r.status_code"
   ],
   "metadata": {
    "collapsed": false,
    "pycharm": {
     "name": "#%%\n"
    }
   }
  },
  {
   "cell_type": "code",
   "execution_count": 90,
   "outputs": [
    {
     "data": {
      "text/plain": "b'{\\n  \"action\": \"Search-UpdateGrid\",\\n  \"queryString\": \"cgid=necklaces-chains%2Cnecklaces-chains&selectedUrl=https%3A%2F%2Fwww.jamesavery.com%2Fon%2Fdemandware.store%2FSites-JamesAvery-Site%2Fen_US%2FSearch-UpdateGrid%3Fcgid%3Dnecklaces-chains%26start%3D30%26sz%3D30%2Chttps%3A%2F%2Fwww.jamesavery.com%2Fon%2Fdemandware.store%2FSites-JamesAvery-Site%2Fen_US%2FSearch-UpdateGrid%3Fcgid%3Dnecklaces-chains%26start%3D30%26sz%3D30&start=30%2C30&sz=30%2C30\",\\n  \"locale\": \"en_US\",\\n  \"tracking_consent\": null,\\n  \"csrf\": {\\n    \"tokenName\": \"csrf_token\",\\n    \"token\": \"bn5JYbuml5S44ut3tk8ILu38tzW4xbsQBw0Dt8kdngoZ6jm7t2sgyq1ZfI7ezrBD8npH1iI_SQ3Sj7G9O2FA3QettylOoKqR1smyc-BFII1ICraLqOmv1FTs5Vx0dEUFIA_BtnRfVX4nD8Zrl_uyr3TL8dDNpBC7SMzGbF16KPSGSpaaQEs=\"\\n  },\\n  \"error\": {},\\n  \"message\": \"For technical reasons, your request could not be handled properly at this time. We apologize for any inconvenience.\"\\n}'"
     },
     "execution_count": 90,
     "metadata": {},
     "output_type": "execute_result"
    }
   ],
   "source": [
    "jew_res.content"
   ],
   "metadata": {
    "collapsed": false,
    "pycharm": {
     "name": "#%%\n"
    }
   }
  },
  {
   "cell_type": "code",
   "execution_count": 91,
   "outputs": [
    {
     "data": {
      "text/plain": "{'User-Agent': 'Mozilla/5.0 (Windows NT 10.0; Win64; x64) AppleWebKit/537.36 (KHTML, like Gecko) Chrome/119.0.0.0 Safari/537.36', 'Accept-Encoding': 'gzip, deflate, br', 'Accept': '*/*', 'Connection': 'keep-alive', 'Authorization': 'www.jamesavery.com', 'Method': 'GET', 'Path': '/ on / demandware.store / Sites - JamesAvery - Site / en_US / Search - UpdateGrid?cgid=necklaces-chains & start=30 & sz=30 & selectedUrl=https % 3A % 2F % 2Fwww.jamesavery.com % 2Fon % 2Fdemandware.store % 2FSites-JamesAvery-Site % 2Fen_US % 2FSearch-UpdateGrid % 3Fcgid % 3Dnecklaces-chains % 26start % 3D30 % 26sz % 3D30', 'Scheme': 'https', 'Accept-Language': 'fa-IR,fa;q=0.9,en-US;q=0.8,en;q=0.7', 'Cookie': 'dwac_14b3e19a30f1c8562e7746b858=yce7FwWw6k_23UNngVteWV19JjIz7CuIJEc%3D|dw-only|||USD|false|America%2FChicago|true; cqcid=abb9iw6ZXi56JMZJ7PQvxHQ8xy; cquid=||; sid=yce7FwWw6k_23UNngVteWV19JjIz7CuIJEc; dwanonymous_b944b1719811b7e590b177c71d4485c4=abb9iw6ZXi56JMZJ7PQvxHQ8xy; __cq_dnt=0; dw_dnt=0; dwsid=6Kql_qCQCf8zw3dXpg6IHHwQONuWzMg44VkIzoOvuMh_LOQHpuwlXu8vy0gnBL1cpgmVMkQLtsNSgbMKGXpfag==; liveagent_oref=; yotpo_pixel=07b7a91a-6187-4012-9f60-2ec3be6d0984; _sp_ses.b83b=*; liveagent_sid=ac190a42-fcf4-415b-8b67-c65e509fcd4c; liveagent_vc=2; liveagent_ptid=ac190a42-fcf4-415b-8b67-c65e509fcd4c; _sp_id.b83b=df65f989f0fb1d0c.1701472220.1.1701472230.1701472220', 'Referer': 'https://www.jamesavery.com/necklaces-chains', 'Sec-Ch-Ua': '\"Google Chrome\";v=\"119\", \"Chromium\";v=\"119\", \"Not?A_Brand\";v=\"24\"', 'Sec-Ch-Ua-Mobile': '?0', 'Sec-Ch-Ua-Platform': 'Windows', 'Sec-Fetch-Dest': 'empty', 'Sec-Fetch-Mode': 'cors', 'Sec-Fetch-Site': 'same-origin', 'X-Requested-With': 'XMLHttpRequest'}"
     },
     "execution_count": 91,
     "metadata": {},
     "output_type": "execute_result"
    }
   ],
   "source": [
    "jew_res.request.headers"
   ],
   "metadata": {
    "collapsed": false,
    "pycharm": {
     "name": "#%%\n"
    }
   }
  },
  {
   "cell_type": "code",
   "execution_count": 90,
   "outputs": [],
   "source": [],
   "metadata": {
    "collapsed": false,
    "pycharm": {
     "name": "#%%\n"
    }
   }
  },
  {
   "cell_type": "code",
   "execution_count": null,
   "outputs": [],
   "source": [],
   "metadata": {
    "collapsed": false,
    "pycharm": {
     "name": "#%%\n"
    }
   }
  }
 ],
 "metadata": {
  "kernelspec": {
   "display_name": "Python 3",
   "language": "python",
   "name": "python3"
  },
  "language_info": {
   "codemirror_mode": {
    "name": "ipython",
    "version": 2
   },
   "file_extension": ".py",
   "mimetype": "text/x-python",
   "name": "python",
   "nbconvert_exporter": "python",
   "pygments_lexer": "ipython2",
   "version": "2.7.6"
  }
 },
 "nbformat": 4,
 "nbformat_minor": 0
}