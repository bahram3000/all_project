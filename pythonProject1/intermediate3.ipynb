{
 "cells": [
  {
   "cell_type": "code",
   "execution_count": 29,
   "metadata": {
    "collapsed": true
   },
   "outputs": [],
   "source": [
    "import matplotlib.pyplot as plt\n",
    "import numpy as np\n",
    "import pandas as pd\n",
    "from sklearn import preprocessing"
   ]
  },
  {
   "cell_type": "code",
   "execution_count": 3,
   "outputs": [
    {
     "data": {
      "text/plain": "                    Country Name Country Code         2021          2018  \\\n0                          Aruba          ABW     107195.0  1.800000e+02   \n1    Africa Eastern and Southern          AFE  694665117.0  1.512116e+07   \n2                    Afghanistan          AFG   39835428.0  6.528600e+05   \n3     Africa Western and Central          AFW  470898870.0  9.166270e+06   \n4                         Angola          AGO   33933611.0  1.246700e+06   \n..                           ...          ...          ...           ...   \n261                       Kosovo          XKX    1806279.0           NaN   \n262                  Yemen, Rep.          YEM   30490639.0  5.279700e+05   \n263                 South Africa          ZAF   60041996.0  1.219090e+06   \n264                       Zambia          ZMB   18920657.0  7.526100e+05   \n265                     Zimbabwe          ZWE   15092171.0  3.907600e+05   \n\n       2021.1  \n0    0.401008  \n1    2.572461  \n2    2.303412  \n3    2.636291  \n4    3.195916  \n..        ...  \n261  0.897901  \n262  2.204030  \n263  1.228841  \n264  2.877596  \n265  1.530614  \n\n[266 rows x 5 columns]",
      "text/html": "<div>\n<style scoped>\n    .dataframe tbody tr th:only-of-type {\n        vertical-align: middle;\n    }\n\n    .dataframe tbody tr th {\n        vertical-align: top;\n    }\n\n    .dataframe thead th {\n        text-align: right;\n    }\n</style>\n<table border=\"1\" class=\"dataframe\">\n  <thead>\n    <tr style=\"text-align: right;\">\n      <th></th>\n      <th>Country Name</th>\n      <th>Country Code</th>\n      <th>2021</th>\n      <th>2018</th>\n      <th>2021.1</th>\n    </tr>\n  </thead>\n  <tbody>\n    <tr>\n      <th>0</th>\n      <td>Aruba</td>\n      <td>ABW</td>\n      <td>107195.0</td>\n      <td>1.800000e+02</td>\n      <td>0.401008</td>\n    </tr>\n    <tr>\n      <th>1</th>\n      <td>Africa Eastern and Southern</td>\n      <td>AFE</td>\n      <td>694665117.0</td>\n      <td>1.512116e+07</td>\n      <td>2.572461</td>\n    </tr>\n    <tr>\n      <th>2</th>\n      <td>Afghanistan</td>\n      <td>AFG</td>\n      <td>39835428.0</td>\n      <td>6.528600e+05</td>\n      <td>2.303412</td>\n    </tr>\n    <tr>\n      <th>3</th>\n      <td>Africa Western and Central</td>\n      <td>AFW</td>\n      <td>470898870.0</td>\n      <td>9.166270e+06</td>\n      <td>2.636291</td>\n    </tr>\n    <tr>\n      <th>4</th>\n      <td>Angola</td>\n      <td>AGO</td>\n      <td>33933611.0</td>\n      <td>1.246700e+06</td>\n      <td>3.195916</td>\n    </tr>\n    <tr>\n      <th>...</th>\n      <td>...</td>\n      <td>...</td>\n      <td>...</td>\n      <td>...</td>\n      <td>...</td>\n    </tr>\n    <tr>\n      <th>261</th>\n      <td>Kosovo</td>\n      <td>XKX</td>\n      <td>1806279.0</td>\n      <td>NaN</td>\n      <td>0.897901</td>\n    </tr>\n    <tr>\n      <th>262</th>\n      <td>Yemen, Rep.</td>\n      <td>YEM</td>\n      <td>30490639.0</td>\n      <td>5.279700e+05</td>\n      <td>2.204030</td>\n    </tr>\n    <tr>\n      <th>263</th>\n      <td>South Africa</td>\n      <td>ZAF</td>\n      <td>60041996.0</td>\n      <td>1.219090e+06</td>\n      <td>1.228841</td>\n    </tr>\n    <tr>\n      <th>264</th>\n      <td>Zambia</td>\n      <td>ZMB</td>\n      <td>18920657.0</td>\n      <td>7.526100e+05</td>\n      <td>2.877596</td>\n    </tr>\n    <tr>\n      <th>265</th>\n      <td>Zimbabwe</td>\n      <td>ZWE</td>\n      <td>15092171.0</td>\n      <td>3.907600e+05</td>\n      <td>1.530614</td>\n    </tr>\n  </tbody>\n</table>\n<p>266 rows × 5 columns</p>\n</div>"
     },
     "execution_count": 3,
     "metadata": {},
     "output_type": "execute_result"
    }
   ],
   "source": [
    "my_df=pd.read_excel('F:\\\\my project\\\\dataset\\\\pop_area.xlsx',header=3)\n",
    "my_df"
   ],
   "metadata": {
    "collapsed": false,
    "pycharm": {
     "name": "#%%\n"
    }
   }
  },
  {
   "cell_type": "code",
   "execution_count": 4,
   "outputs": [
    {
     "data": {
      "text/plain": "                                    2021          2018    2021.1\nAruba                           107195.0  1.800000e+02  0.401008\nAfrica Eastern and Southern  694665117.0  1.512116e+07  2.572461\nAfghanistan                   39835428.0  6.528600e+05  2.303412\nAfrica Western and Central   470898870.0  9.166270e+06  2.636291\nAngola                        33933611.0  1.246700e+06  3.195916\n...                                  ...           ...       ...\nKosovo                         1806279.0           NaN  0.897901\nYemen, Rep.                   30490639.0  5.279700e+05  2.204030\nSouth Africa                  60041996.0  1.219090e+06  1.228841\nZambia                        18920657.0  7.526100e+05  2.877596\nZimbabwe                      15092171.0  3.907600e+05  1.530614\n\n[266 rows x 3 columns]",
      "text/html": "<div>\n<style scoped>\n    .dataframe tbody tr th:only-of-type {\n        vertical-align: middle;\n    }\n\n    .dataframe tbody tr th {\n        vertical-align: top;\n    }\n\n    .dataframe thead th {\n        text-align: right;\n    }\n</style>\n<table border=\"1\" class=\"dataframe\">\n  <thead>\n    <tr style=\"text-align: right;\">\n      <th></th>\n      <th>2021</th>\n      <th>2018</th>\n      <th>2021.1</th>\n    </tr>\n  </thead>\n  <tbody>\n    <tr>\n      <th>Aruba</th>\n      <td>107195.0</td>\n      <td>1.800000e+02</td>\n      <td>0.401008</td>\n    </tr>\n    <tr>\n      <th>Africa Eastern and Southern</th>\n      <td>694665117.0</td>\n      <td>1.512116e+07</td>\n      <td>2.572461</td>\n    </tr>\n    <tr>\n      <th>Afghanistan</th>\n      <td>39835428.0</td>\n      <td>6.528600e+05</td>\n      <td>2.303412</td>\n    </tr>\n    <tr>\n      <th>Africa Western and Central</th>\n      <td>470898870.0</td>\n      <td>9.166270e+06</td>\n      <td>2.636291</td>\n    </tr>\n    <tr>\n      <th>Angola</th>\n      <td>33933611.0</td>\n      <td>1.246700e+06</td>\n      <td>3.195916</td>\n    </tr>\n    <tr>\n      <th>...</th>\n      <td>...</td>\n      <td>...</td>\n      <td>...</td>\n    </tr>\n    <tr>\n      <th>Kosovo</th>\n      <td>1806279.0</td>\n      <td>NaN</td>\n      <td>0.897901</td>\n    </tr>\n    <tr>\n      <th>Yemen, Rep.</th>\n      <td>30490639.0</td>\n      <td>5.279700e+05</td>\n      <td>2.204030</td>\n    </tr>\n    <tr>\n      <th>South Africa</th>\n      <td>60041996.0</td>\n      <td>1.219090e+06</td>\n      <td>1.228841</td>\n    </tr>\n    <tr>\n      <th>Zambia</th>\n      <td>18920657.0</td>\n      <td>7.526100e+05</td>\n      <td>2.877596</td>\n    </tr>\n    <tr>\n      <th>Zimbabwe</th>\n      <td>15092171.0</td>\n      <td>3.907600e+05</td>\n      <td>1.530614</td>\n    </tr>\n  </tbody>\n</table>\n<p>266 rows × 3 columns</p>\n</div>"
     },
     "execution_count": 4,
     "metadata": {},
     "output_type": "execute_result"
    }
   ],
   "source": [
    "my_df.rename(index=my_df['Country Name'],inplace=True)\n",
    "my_df.drop(['Country Name','Country Code'],axis=1,inplace=True)\n",
    "my_df"
   ],
   "metadata": {
    "collapsed": false,
    "pycharm": {
     "name": "#%%\n"
    }
   }
  },
  {
   "cell_type": "code",
   "execution_count": 5,
   "outputs": [
    {
     "name": "stdout",
     "output_type": "stream",
     "text": [
      "<class 'pandas.core.frame.DataFrame'>\n",
      "Index: 266 entries, Aruba to Zimbabwe\n",
      "Data columns (total 3 columns):\n",
      " #   Column  Non-Null Count  Dtype  \n",
      "---  ------  --------------  -----  \n",
      " 0   2021    264 non-null    float64\n",
      " 1   2018    264 non-null    float64\n",
      " 2   2021.1  264 non-null    float64\n",
      "dtypes: float64(3)\n",
      "memory usage: 8.3+ KB\n"
     ]
    }
   ],
   "source": [
    "my_df.info()"
   ],
   "metadata": {
    "collapsed": false,
    "pycharm": {
     "name": "#%%\n"
    }
   }
  },
  {
   "cell_type": "code",
   "execution_count": 6,
   "outputs": [
    {
     "data": {
      "text/plain": "               2021          2018      2021.1\ncount  2.640000e+02  2.640000e+02  264.000000\nmean   3.210893e+08  5.337684e+06    1.057591\nstd    9.988295e+08  1.550969e+07    1.142387\nmin    1.087300e+04  1.000000e+01   -4.170336\n25%    1.791783e+06  2.090000e+04    0.304958\n50%    1.054019e+07  2.037750e+05    0.968665\n75%    6.295547e+07  1.251775e+06    1.853767\nmax    7.836631e+09  1.345427e+08    4.333410",
      "text/html": "<div>\n<style scoped>\n    .dataframe tbody tr th:only-of-type {\n        vertical-align: middle;\n    }\n\n    .dataframe tbody tr th {\n        vertical-align: top;\n    }\n\n    .dataframe thead th {\n        text-align: right;\n    }\n</style>\n<table border=\"1\" class=\"dataframe\">\n  <thead>\n    <tr style=\"text-align: right;\">\n      <th></th>\n      <th>2021</th>\n      <th>2018</th>\n      <th>2021.1</th>\n    </tr>\n  </thead>\n  <tbody>\n    <tr>\n      <th>count</th>\n      <td>2.640000e+02</td>\n      <td>2.640000e+02</td>\n      <td>264.000000</td>\n    </tr>\n    <tr>\n      <th>mean</th>\n      <td>3.210893e+08</td>\n      <td>5.337684e+06</td>\n      <td>1.057591</td>\n    </tr>\n    <tr>\n      <th>std</th>\n      <td>9.988295e+08</td>\n      <td>1.550969e+07</td>\n      <td>1.142387</td>\n    </tr>\n    <tr>\n      <th>min</th>\n      <td>1.087300e+04</td>\n      <td>1.000000e+01</td>\n      <td>-4.170336</td>\n    </tr>\n    <tr>\n      <th>25%</th>\n      <td>1.791783e+06</td>\n      <td>2.090000e+04</td>\n      <td>0.304958</td>\n    </tr>\n    <tr>\n      <th>50%</th>\n      <td>1.054019e+07</td>\n      <td>2.037750e+05</td>\n      <td>0.968665</td>\n    </tr>\n    <tr>\n      <th>75%</th>\n      <td>6.295547e+07</td>\n      <td>1.251775e+06</td>\n      <td>1.853767</td>\n    </tr>\n    <tr>\n      <th>max</th>\n      <td>7.836631e+09</td>\n      <td>1.345427e+08</td>\n      <td>4.333410</td>\n    </tr>\n  </tbody>\n</table>\n</div>"
     },
     "execution_count": 6,
     "metadata": {},
     "output_type": "execute_result"
    }
   ],
   "source": [
    "my_df.describe()"
   ],
   "metadata": {
    "collapsed": false,
    "pycharm": {
     "name": "#%%\n"
    }
   }
  },
  {
   "cell_type": "code",
   "execution_count": 7,
   "outputs": [
    {
     "data": {
      "text/plain": "                                2021_pop          area  pop_growth\nAruba                           107195.0  1.800000e+02    0.401008\nAfrica Eastern and Southern  694665117.0  1.512116e+07    2.572461\nAfghanistan                   39835428.0  6.528600e+05    2.303412\nAfrica Western and Central   470898870.0  9.166270e+06    2.636291\nAngola                        33933611.0  1.246700e+06    3.195916\n...                                  ...           ...         ...\nKosovo                         1806279.0           NaN    0.897901\nYemen, Rep.                   30490639.0  5.279700e+05    2.204030\nSouth Africa                  60041996.0  1.219090e+06    1.228841\nZambia                        18920657.0  7.526100e+05    2.877596\nZimbabwe                      15092171.0  3.907600e+05    1.530614\n\n[266 rows x 3 columns]",
      "text/html": "<div>\n<style scoped>\n    .dataframe tbody tr th:only-of-type {\n        vertical-align: middle;\n    }\n\n    .dataframe tbody tr th {\n        vertical-align: top;\n    }\n\n    .dataframe thead th {\n        text-align: right;\n    }\n</style>\n<table border=\"1\" class=\"dataframe\">\n  <thead>\n    <tr style=\"text-align: right;\">\n      <th></th>\n      <th>2021_pop</th>\n      <th>area</th>\n      <th>pop_growth</th>\n    </tr>\n  </thead>\n  <tbody>\n    <tr>\n      <th>Aruba</th>\n      <td>107195.0</td>\n      <td>1.800000e+02</td>\n      <td>0.401008</td>\n    </tr>\n    <tr>\n      <th>Africa Eastern and Southern</th>\n      <td>694665117.0</td>\n      <td>1.512116e+07</td>\n      <td>2.572461</td>\n    </tr>\n    <tr>\n      <th>Afghanistan</th>\n      <td>39835428.0</td>\n      <td>6.528600e+05</td>\n      <td>2.303412</td>\n    </tr>\n    <tr>\n      <th>Africa Western and Central</th>\n      <td>470898870.0</td>\n      <td>9.166270e+06</td>\n      <td>2.636291</td>\n    </tr>\n    <tr>\n      <th>Angola</th>\n      <td>33933611.0</td>\n      <td>1.246700e+06</td>\n      <td>3.195916</td>\n    </tr>\n    <tr>\n      <th>...</th>\n      <td>...</td>\n      <td>...</td>\n      <td>...</td>\n    </tr>\n    <tr>\n      <th>Kosovo</th>\n      <td>1806279.0</td>\n      <td>NaN</td>\n      <td>0.897901</td>\n    </tr>\n    <tr>\n      <th>Yemen, Rep.</th>\n      <td>30490639.0</td>\n      <td>5.279700e+05</td>\n      <td>2.204030</td>\n    </tr>\n    <tr>\n      <th>South Africa</th>\n      <td>60041996.0</td>\n      <td>1.219090e+06</td>\n      <td>1.228841</td>\n    </tr>\n    <tr>\n      <th>Zambia</th>\n      <td>18920657.0</td>\n      <td>7.526100e+05</td>\n      <td>2.877596</td>\n    </tr>\n    <tr>\n      <th>Zimbabwe</th>\n      <td>15092171.0</td>\n      <td>3.907600e+05</td>\n      <td>1.530614</td>\n    </tr>\n  </tbody>\n</table>\n<p>266 rows × 3 columns</p>\n</div>"
     },
     "execution_count": 7,
     "metadata": {},
     "output_type": "execute_result"
    }
   ],
   "source": [
    "my_df.rename(columns={'2018':'area','2021':'2021_pop','2021.1':'pop_growth'},inplace=True)\n",
    "my_df"
   ],
   "metadata": {
    "collapsed": false,
    "pycharm": {
     "name": "#%%\n"
    }
   }
  },
  {
   "cell_type": "code",
   "execution_count": 8,
   "outputs": [
    {
     "data": {
      "text/plain": "7836630792.0"
     },
     "execution_count": 8,
     "metadata": {},
     "output_type": "execute_result"
    }
   ],
   "source": [
    "max=my_df['2021_pop'].max()\n",
    "max"
   ],
   "metadata": {
    "collapsed": false,
    "pycharm": {
     "name": "#%%\n"
    }
   }
  },
  {
   "cell_type": "code",
   "execution_count": 9,
   "outputs": [],
   "source": [
    "ind=my_df['2021_pop'][my_df['2021_pop']==max].index"
   ],
   "metadata": {
    "collapsed": false,
    "pycharm": {
     "name": "#%%\n"
    }
   }
  },
  {
   "cell_type": "code",
   "execution_count": 10,
   "outputs": [],
   "source": [
    "my_df.drop(ind,axis=0,inplace=True)"
   ],
   "metadata": {
    "collapsed": false,
    "pycharm": {
     "name": "#%%\n"
    }
   }
  },
  {
   "cell_type": "code",
   "execution_count": 11,
   "outputs": [
    {
     "data": {
      "text/plain": "                                2021_pop          area  pop_growth\nAruba                           107195.0  1.800000e+02    0.401008\nAfrica Eastern and Southern  694665117.0  1.512116e+07    2.572461\nAfghanistan                   39835428.0  6.528600e+05    2.303412\nAfrica Western and Central   470898870.0  9.166270e+06    2.636291\nAngola                        33933611.0  1.246700e+06    3.195916\n...                                  ...           ...         ...\nKosovo                         1806279.0           NaN    0.897901\nYemen, Rep.                   30490639.0  5.279700e+05    2.204030\nSouth Africa                  60041996.0  1.219090e+06    1.228841\nZambia                        18920657.0  7.526100e+05    2.877596\nZimbabwe                      15092171.0  3.907600e+05    1.530614\n\n[265 rows x 3 columns]",
      "text/html": "<div>\n<style scoped>\n    .dataframe tbody tr th:only-of-type {\n        vertical-align: middle;\n    }\n\n    .dataframe tbody tr th {\n        vertical-align: top;\n    }\n\n    .dataframe thead th {\n        text-align: right;\n    }\n</style>\n<table border=\"1\" class=\"dataframe\">\n  <thead>\n    <tr style=\"text-align: right;\">\n      <th></th>\n      <th>2021_pop</th>\n      <th>area</th>\n      <th>pop_growth</th>\n    </tr>\n  </thead>\n  <tbody>\n    <tr>\n      <th>Aruba</th>\n      <td>107195.0</td>\n      <td>1.800000e+02</td>\n      <td>0.401008</td>\n    </tr>\n    <tr>\n      <th>Africa Eastern and Southern</th>\n      <td>694665117.0</td>\n      <td>1.512116e+07</td>\n      <td>2.572461</td>\n    </tr>\n    <tr>\n      <th>Afghanistan</th>\n      <td>39835428.0</td>\n      <td>6.528600e+05</td>\n      <td>2.303412</td>\n    </tr>\n    <tr>\n      <th>Africa Western and Central</th>\n      <td>470898870.0</td>\n      <td>9.166270e+06</td>\n      <td>2.636291</td>\n    </tr>\n    <tr>\n      <th>Angola</th>\n      <td>33933611.0</td>\n      <td>1.246700e+06</td>\n      <td>3.195916</td>\n    </tr>\n    <tr>\n      <th>...</th>\n      <td>...</td>\n      <td>...</td>\n      <td>...</td>\n    </tr>\n    <tr>\n      <th>Kosovo</th>\n      <td>1806279.0</td>\n      <td>NaN</td>\n      <td>0.897901</td>\n    </tr>\n    <tr>\n      <th>Yemen, Rep.</th>\n      <td>30490639.0</td>\n      <td>5.279700e+05</td>\n      <td>2.204030</td>\n    </tr>\n    <tr>\n      <th>South Africa</th>\n      <td>60041996.0</td>\n      <td>1.219090e+06</td>\n      <td>1.228841</td>\n    </tr>\n    <tr>\n      <th>Zambia</th>\n      <td>18920657.0</td>\n      <td>7.526100e+05</td>\n      <td>2.877596</td>\n    </tr>\n    <tr>\n      <th>Zimbabwe</th>\n      <td>15092171.0</td>\n      <td>3.907600e+05</td>\n      <td>1.530614</td>\n    </tr>\n  </tbody>\n</table>\n<p>265 rows × 3 columns</p>\n</div>"
     },
     "execution_count": 11,
     "metadata": {},
     "output_type": "execute_result"
    }
   ],
   "source": [
    "my_df"
   ],
   "metadata": {
    "collapsed": false,
    "pycharm": {
     "name": "#%%\n"
    }
   }
  },
  {
   "cell_type": "code",
   "execution_count": 12,
   "outputs": [
    {
     "data": {
      "text/plain": "                             2021_pop   area  pop_growth\nAruba                           False  False       False\nAfrica Eastern and Southern     False  False       False\nAfghanistan                     False  False       False\nAfrica Western and Central      False  False       False\nAngola                          False  False       False\n...                               ...    ...         ...\nKosovo                          False   True       False\nYemen, Rep.                     False  False       False\nSouth Africa                    False  False       False\nZambia                          False  False       False\nZimbabwe                        False  False       False\n\n[265 rows x 3 columns]",
      "text/html": "<div>\n<style scoped>\n    .dataframe tbody tr th:only-of-type {\n        vertical-align: middle;\n    }\n\n    .dataframe tbody tr th {\n        vertical-align: top;\n    }\n\n    .dataframe thead th {\n        text-align: right;\n    }\n</style>\n<table border=\"1\" class=\"dataframe\">\n  <thead>\n    <tr style=\"text-align: right;\">\n      <th></th>\n      <th>2021_pop</th>\n      <th>area</th>\n      <th>pop_growth</th>\n    </tr>\n  </thead>\n  <tbody>\n    <tr>\n      <th>Aruba</th>\n      <td>False</td>\n      <td>False</td>\n      <td>False</td>\n    </tr>\n    <tr>\n      <th>Africa Eastern and Southern</th>\n      <td>False</td>\n      <td>False</td>\n      <td>False</td>\n    </tr>\n    <tr>\n      <th>Afghanistan</th>\n      <td>False</td>\n      <td>False</td>\n      <td>False</td>\n    </tr>\n    <tr>\n      <th>Africa Western and Central</th>\n      <td>False</td>\n      <td>False</td>\n      <td>False</td>\n    </tr>\n    <tr>\n      <th>Angola</th>\n      <td>False</td>\n      <td>False</td>\n      <td>False</td>\n    </tr>\n    <tr>\n      <th>...</th>\n      <td>...</td>\n      <td>...</td>\n      <td>...</td>\n    </tr>\n    <tr>\n      <th>Kosovo</th>\n      <td>False</td>\n      <td>True</td>\n      <td>False</td>\n    </tr>\n    <tr>\n      <th>Yemen, Rep.</th>\n      <td>False</td>\n      <td>False</td>\n      <td>False</td>\n    </tr>\n    <tr>\n      <th>South Africa</th>\n      <td>False</td>\n      <td>False</td>\n      <td>False</td>\n    </tr>\n    <tr>\n      <th>Zambia</th>\n      <td>False</td>\n      <td>False</td>\n      <td>False</td>\n    </tr>\n    <tr>\n      <th>Zimbabwe</th>\n      <td>False</td>\n      <td>False</td>\n      <td>False</td>\n    </tr>\n  </tbody>\n</table>\n<p>265 rows × 3 columns</p>\n</div>"
     },
     "execution_count": 12,
     "metadata": {},
     "output_type": "execute_result"
    }
   ],
   "source": [
    "my_df.isnull()"
   ],
   "metadata": {
    "collapsed": false,
    "pycharm": {
     "name": "#%%\n"
    }
   }
  },
  {
   "cell_type": "code",
   "execution_count": 13,
   "outputs": [
    {
     "data": {
      "text/plain": "2021_pop      2\narea          2\npop_growth    2\ndtype: int64"
     },
     "execution_count": 13,
     "metadata": {},
     "output_type": "execute_result"
    }
   ],
   "source": [
    "my_df.isnull().sum()"
   ],
   "metadata": {
    "collapsed": false,
    "pycharm": {
     "name": "#%%\n"
    }
   }
  },
  {
   "cell_type": "code",
   "execution_count": 14,
   "outputs": [],
   "source": [
    "my_df.dropna(axis=0,inplace=True)"
   ],
   "metadata": {
    "collapsed": false,
    "pycharm": {
     "name": "#%%\n"
    }
   }
  },
  {
   "cell_type": "code",
   "execution_count": 15,
   "outputs": [
    {
     "data": {
      "text/plain": "2021_pop      0\narea          0\npop_growth    0\ndtype: int64"
     },
     "execution_count": 15,
     "metadata": {},
     "output_type": "execute_result"
    }
   ],
   "source": [
    "my_df.isnull().sum()"
   ],
   "metadata": {
    "collapsed": false,
    "pycharm": {
     "name": "#%%\n"
    }
   }
  },
  {
   "cell_type": "code",
   "execution_count": 16,
   "outputs": [],
   "source": [
    "#my_df.fillna(0) = my_df.replace(np.NAN,0)"
   ],
   "metadata": {
    "collapsed": false,
    "pycharm": {
     "name": "#%%\n"
    }
   }
  },
  {
   "cell_type": "markdown",
   "source": [],
   "metadata": {
    "collapsed": false,
    "pycharm": {
     "name": "#%% md\n"
    }
   }
  },
  {
   "cell_type": "code",
   "execution_count": 18,
   "outputs": [
    {
     "data": {
      "text/plain": "   A  B  C\n0  a  A  a\n1  a  A  a\n2  a  A  B\n3  a  B  B\n4  b  B  b\n5  b  B  b\n6  b  B  A\n7  b  A  A",
      "text/html": "<div>\n<style scoped>\n    .dataframe tbody tr th:only-of-type {\n        vertical-align: middle;\n    }\n\n    .dataframe tbody tr th {\n        vertical-align: top;\n    }\n\n    .dataframe thead th {\n        text-align: right;\n    }\n</style>\n<table border=\"1\" class=\"dataframe\">\n  <thead>\n    <tr style=\"text-align: right;\">\n      <th></th>\n      <th>A</th>\n      <th>B</th>\n      <th>C</th>\n    </tr>\n  </thead>\n  <tbody>\n    <tr>\n      <th>0</th>\n      <td>a</td>\n      <td>A</td>\n      <td>a</td>\n    </tr>\n    <tr>\n      <th>1</th>\n      <td>a</td>\n      <td>A</td>\n      <td>a</td>\n    </tr>\n    <tr>\n      <th>2</th>\n      <td>a</td>\n      <td>A</td>\n      <td>B</td>\n    </tr>\n    <tr>\n      <th>3</th>\n      <td>a</td>\n      <td>B</td>\n      <td>B</td>\n    </tr>\n    <tr>\n      <th>4</th>\n      <td>b</td>\n      <td>B</td>\n      <td>b</td>\n    </tr>\n    <tr>\n      <th>5</th>\n      <td>b</td>\n      <td>B</td>\n      <td>b</td>\n    </tr>\n    <tr>\n      <th>6</th>\n      <td>b</td>\n      <td>B</td>\n      <td>A</td>\n    </tr>\n    <tr>\n      <th>7</th>\n      <td>b</td>\n      <td>A</td>\n      <td>A</td>\n    </tr>\n  </tbody>\n</table>\n</div>"
     },
     "execution_count": 18,
     "metadata": {},
     "output_type": "execute_result"
    }
   ],
   "source": [
    "my_df2=pd.read_excel('F:\\\\my project\\\\dataset\\\\ex1.xlsx')\n",
    "my_df2.drop('Unnamed: 0',axis=1,inplace=True)\n",
    "my_df2"
   ],
   "metadata": {
    "collapsed": false,
    "pycharm": {
     "name": "#%%\n"
    }
   }
  },
  {
   "cell_type": "code",
   "execution_count": 19,
   "outputs": [
    {
     "data": {
      "text/plain": "0    False\n1     True\n2    False\n3    False\n4    False\n5     True\n6    False\n7    False\ndtype: bool"
     },
     "execution_count": 19,
     "metadata": {},
     "output_type": "execute_result"
    }
   ],
   "source": [
    "my_df2.duplicated()"
   ],
   "metadata": {
    "collapsed": false,
    "pycharm": {
     "name": "#%%\n"
    }
   }
  },
  {
   "cell_type": "code",
   "execution_count": 20,
   "outputs": [
    {
     "data": {
      "text/plain": "   A  B  C\n0  a  A  a\n2  a  A  B\n3  a  B  B\n4  b  B  b\n6  b  B  A\n7  b  A  A",
      "text/html": "<div>\n<style scoped>\n    .dataframe tbody tr th:only-of-type {\n        vertical-align: middle;\n    }\n\n    .dataframe tbody tr th {\n        vertical-align: top;\n    }\n\n    .dataframe thead th {\n        text-align: right;\n    }\n</style>\n<table border=\"1\" class=\"dataframe\">\n  <thead>\n    <tr style=\"text-align: right;\">\n      <th></th>\n      <th>A</th>\n      <th>B</th>\n      <th>C</th>\n    </tr>\n  </thead>\n  <tbody>\n    <tr>\n      <th>0</th>\n      <td>a</td>\n      <td>A</td>\n      <td>a</td>\n    </tr>\n    <tr>\n      <th>2</th>\n      <td>a</td>\n      <td>A</td>\n      <td>B</td>\n    </tr>\n    <tr>\n      <th>3</th>\n      <td>a</td>\n      <td>B</td>\n      <td>B</td>\n    </tr>\n    <tr>\n      <th>4</th>\n      <td>b</td>\n      <td>B</td>\n      <td>b</td>\n    </tr>\n    <tr>\n      <th>6</th>\n      <td>b</td>\n      <td>B</td>\n      <td>A</td>\n    </tr>\n    <tr>\n      <th>7</th>\n      <td>b</td>\n      <td>A</td>\n      <td>A</td>\n    </tr>\n  </tbody>\n</table>\n</div>"
     },
     "execution_count": 20,
     "metadata": {},
     "output_type": "execute_result"
    }
   ],
   "source": [
    "my_df2.drop_duplicates()"
   ],
   "metadata": {
    "collapsed": false,
    "pycharm": {
     "name": "#%%\n"
    }
   }
  },
  {
   "cell_type": "code",
   "execution_count": 21,
   "outputs": [
    {
     "data": {
      "text/plain": "                                2021_pop          area  pop_growth    A    B  \\\nAruba                           107195.0  1.800000e+02    0.401008  NaN  NaN   \nAfrica Eastern and Southern  694665117.0  1.512116e+07    2.572461  NaN  NaN   \nAfghanistan                   39835428.0  6.528600e+05    2.303412  NaN  NaN   \nAfrica Western and Central   470898870.0  9.166270e+06    2.636291  NaN  NaN   \nAngola                        33933611.0  1.246700e+06    3.195916  NaN  NaN   \n...                                  ...           ...         ...  ...  ...   \n3                                    NaN           NaN         NaN    a    B   \n4                                    NaN           NaN         NaN    b    B   \n5                                    NaN           NaN         NaN    b    B   \n6                                    NaN           NaN         NaN    b    B   \n7                                    NaN           NaN         NaN    b    A   \n\n                               C  \nAruba                        NaN  \nAfrica Eastern and Southern  NaN  \nAfghanistan                  NaN  \nAfrica Western and Central   NaN  \nAngola                       NaN  \n...                          ...  \n3                              B  \n4                              b  \n5                              b  \n6                              A  \n7                              A  \n\n[270 rows x 6 columns]",
      "text/html": "<div>\n<style scoped>\n    .dataframe tbody tr th:only-of-type {\n        vertical-align: middle;\n    }\n\n    .dataframe tbody tr th {\n        vertical-align: top;\n    }\n\n    .dataframe thead th {\n        text-align: right;\n    }\n</style>\n<table border=\"1\" class=\"dataframe\">\n  <thead>\n    <tr style=\"text-align: right;\">\n      <th></th>\n      <th>2021_pop</th>\n      <th>area</th>\n      <th>pop_growth</th>\n      <th>A</th>\n      <th>B</th>\n      <th>C</th>\n    </tr>\n  </thead>\n  <tbody>\n    <tr>\n      <th>Aruba</th>\n      <td>107195.0</td>\n      <td>1.800000e+02</td>\n      <td>0.401008</td>\n      <td>NaN</td>\n      <td>NaN</td>\n      <td>NaN</td>\n    </tr>\n    <tr>\n      <th>Africa Eastern and Southern</th>\n      <td>694665117.0</td>\n      <td>1.512116e+07</td>\n      <td>2.572461</td>\n      <td>NaN</td>\n      <td>NaN</td>\n      <td>NaN</td>\n    </tr>\n    <tr>\n      <th>Afghanistan</th>\n      <td>39835428.0</td>\n      <td>6.528600e+05</td>\n      <td>2.303412</td>\n      <td>NaN</td>\n      <td>NaN</td>\n      <td>NaN</td>\n    </tr>\n    <tr>\n      <th>Africa Western and Central</th>\n      <td>470898870.0</td>\n      <td>9.166270e+06</td>\n      <td>2.636291</td>\n      <td>NaN</td>\n      <td>NaN</td>\n      <td>NaN</td>\n    </tr>\n    <tr>\n      <th>Angola</th>\n      <td>33933611.0</td>\n      <td>1.246700e+06</td>\n      <td>3.195916</td>\n      <td>NaN</td>\n      <td>NaN</td>\n      <td>NaN</td>\n    </tr>\n    <tr>\n      <th>...</th>\n      <td>...</td>\n      <td>...</td>\n      <td>...</td>\n      <td>...</td>\n      <td>...</td>\n      <td>...</td>\n    </tr>\n    <tr>\n      <th>3</th>\n      <td>NaN</td>\n      <td>NaN</td>\n      <td>NaN</td>\n      <td>a</td>\n      <td>B</td>\n      <td>B</td>\n    </tr>\n    <tr>\n      <th>4</th>\n      <td>NaN</td>\n      <td>NaN</td>\n      <td>NaN</td>\n      <td>b</td>\n      <td>B</td>\n      <td>b</td>\n    </tr>\n    <tr>\n      <th>5</th>\n      <td>NaN</td>\n      <td>NaN</td>\n      <td>NaN</td>\n      <td>b</td>\n      <td>B</td>\n      <td>b</td>\n    </tr>\n    <tr>\n      <th>6</th>\n      <td>NaN</td>\n      <td>NaN</td>\n      <td>NaN</td>\n      <td>b</td>\n      <td>B</td>\n      <td>A</td>\n    </tr>\n    <tr>\n      <th>7</th>\n      <td>NaN</td>\n      <td>NaN</td>\n      <td>NaN</td>\n      <td>b</td>\n      <td>A</td>\n      <td>A</td>\n    </tr>\n  </tbody>\n</table>\n<p>270 rows × 6 columns</p>\n</div>"
     },
     "execution_count": 21,
     "metadata": {},
     "output_type": "execute_result"
    }
   ],
   "source": [
    "my_df3=pd.concat([my_df,my_df2],axis=0)\n",
    "my_df3"
   ],
   "metadata": {
    "collapsed": false,
    "pycharm": {
     "name": "#%%\n"
    }
   }
  },
  {
   "cell_type": "code",
   "execution_count": 45,
   "outputs": [
    {
     "data": {
      "text/plain": "        name       os  capacity  ram  weight    company  inch\n0  galaxy s8  android        64    4   149.0    samsung   5.8\n1   lumia950  windows        32    3   150.0  microsoft   5.2\n2  xperia l1  android        16    2   180.0       sony   5.5\n3   iphone 7      ios       128    2   138.0      apple   4.7\n4    u ultra  android        64    4   170.0        htc   5.7\n5  galaxy s5  android        16    2   145.0    samsung   5.1\n6  iphone 5s      ios        32    1   112.0      apple   4.0\n7    moto g5  android        16    3   144.5   motorola   5.0\n8      pixel  android       128    4   143.0     google   5.0",
      "text/html": "<div>\n<style scoped>\n    .dataframe tbody tr th:only-of-type {\n        vertical-align: middle;\n    }\n\n    .dataframe tbody tr th {\n        vertical-align: top;\n    }\n\n    .dataframe thead th {\n        text-align: right;\n    }\n</style>\n<table border=\"1\" class=\"dataframe\">\n  <thead>\n    <tr style=\"text-align: right;\">\n      <th></th>\n      <th>name</th>\n      <th>os</th>\n      <th>capacity</th>\n      <th>ram</th>\n      <th>weight</th>\n      <th>company</th>\n      <th>inch</th>\n    </tr>\n  </thead>\n  <tbody>\n    <tr>\n      <th>0</th>\n      <td>galaxy s8</td>\n      <td>android</td>\n      <td>64</td>\n      <td>4</td>\n      <td>149.0</td>\n      <td>samsung</td>\n      <td>5.8</td>\n    </tr>\n    <tr>\n      <th>1</th>\n      <td>lumia950</td>\n      <td>windows</td>\n      <td>32</td>\n      <td>3</td>\n      <td>150.0</td>\n      <td>microsoft</td>\n      <td>5.2</td>\n    </tr>\n    <tr>\n      <th>2</th>\n      <td>xperia l1</td>\n      <td>android</td>\n      <td>16</td>\n      <td>2</td>\n      <td>180.0</td>\n      <td>sony</td>\n      <td>5.5</td>\n    </tr>\n    <tr>\n      <th>3</th>\n      <td>iphone 7</td>\n      <td>ios</td>\n      <td>128</td>\n      <td>2</td>\n      <td>138.0</td>\n      <td>apple</td>\n      <td>4.7</td>\n    </tr>\n    <tr>\n      <th>4</th>\n      <td>u ultra</td>\n      <td>android</td>\n      <td>64</td>\n      <td>4</td>\n      <td>170.0</td>\n      <td>htc</td>\n      <td>5.7</td>\n    </tr>\n    <tr>\n      <th>5</th>\n      <td>galaxy s5</td>\n      <td>android</td>\n      <td>16</td>\n      <td>2</td>\n      <td>145.0</td>\n      <td>samsung</td>\n      <td>5.1</td>\n    </tr>\n    <tr>\n      <th>6</th>\n      <td>iphone 5s</td>\n      <td>ios</td>\n      <td>32</td>\n      <td>1</td>\n      <td>112.0</td>\n      <td>apple</td>\n      <td>4.0</td>\n    </tr>\n    <tr>\n      <th>7</th>\n      <td>moto g5</td>\n      <td>android</td>\n      <td>16</td>\n      <td>3</td>\n      <td>144.5</td>\n      <td>motorola</td>\n      <td>5.0</td>\n    </tr>\n    <tr>\n      <th>8</th>\n      <td>pixel</td>\n      <td>android</td>\n      <td>128</td>\n      <td>4</td>\n      <td>143.0</td>\n      <td>google</td>\n      <td>5.0</td>\n    </tr>\n  </tbody>\n</table>\n</div>"
     },
     "execution_count": 45,
     "metadata": {},
     "output_type": "execute_result"
    }
   ],
   "source": [
    "smartphone_df=pd.read_csv('F:\\\\my project\\\\dataset\\\\smartphone.csv')\n",
    "smartphone_df"
   ],
   "metadata": {
    "collapsed": false,
    "pycharm": {
     "name": "#%%\n"
    }
   }
  },
  {
   "cell_type": "code",
   "execution_count": 46,
   "outputs": [
    {
     "data": {
      "text/plain": "         capacity       ram      weight      inch\ncount    9.000000  9.000000    9.000000  9.000000\nmean    55.111111  2.777778  147.944444  5.111111\nstd     45.333333  1.092906   19.219854  0.548736\nmin     16.000000  1.000000  112.000000  4.000000\n25%     16.000000  2.000000  143.000000  5.000000\n50%     32.000000  3.000000  145.000000  5.100000\n75%     64.000000  4.000000  150.000000  5.500000\nmax    128.000000  4.000000  180.000000  5.800000",
      "text/html": "<div>\n<style scoped>\n    .dataframe tbody tr th:only-of-type {\n        vertical-align: middle;\n    }\n\n    .dataframe tbody tr th {\n        vertical-align: top;\n    }\n\n    .dataframe thead th {\n        text-align: right;\n    }\n</style>\n<table border=\"1\" class=\"dataframe\">\n  <thead>\n    <tr style=\"text-align: right;\">\n      <th></th>\n      <th>capacity</th>\n      <th>ram</th>\n      <th>weight</th>\n      <th>inch</th>\n    </tr>\n  </thead>\n  <tbody>\n    <tr>\n      <th>count</th>\n      <td>9.000000</td>\n      <td>9.000000</td>\n      <td>9.000000</td>\n      <td>9.000000</td>\n    </tr>\n    <tr>\n      <th>mean</th>\n      <td>55.111111</td>\n      <td>2.777778</td>\n      <td>147.944444</td>\n      <td>5.111111</td>\n    </tr>\n    <tr>\n      <th>std</th>\n      <td>45.333333</td>\n      <td>1.092906</td>\n      <td>19.219854</td>\n      <td>0.548736</td>\n    </tr>\n    <tr>\n      <th>min</th>\n      <td>16.000000</td>\n      <td>1.000000</td>\n      <td>112.000000</td>\n      <td>4.000000</td>\n    </tr>\n    <tr>\n      <th>25%</th>\n      <td>16.000000</td>\n      <td>2.000000</td>\n      <td>143.000000</td>\n      <td>5.000000</td>\n    </tr>\n    <tr>\n      <th>50%</th>\n      <td>32.000000</td>\n      <td>3.000000</td>\n      <td>145.000000</td>\n      <td>5.100000</td>\n    </tr>\n    <tr>\n      <th>75%</th>\n      <td>64.000000</td>\n      <td>4.000000</td>\n      <td>150.000000</td>\n      <td>5.500000</td>\n    </tr>\n    <tr>\n      <th>max</th>\n      <td>128.000000</td>\n      <td>4.000000</td>\n      <td>180.000000</td>\n      <td>5.800000</td>\n    </tr>\n  </tbody>\n</table>\n</div>"
     },
     "execution_count": 46,
     "metadata": {},
     "output_type": "execute_result"
    }
   ],
   "source": [
    "smartphone_df.describe()"
   ],
   "metadata": {
    "collapsed": false,
    "pycharm": {
     "name": "#%%\n"
    }
   }
  },
  {
   "cell_type": "code",
   "execution_count": 47,
   "outputs": [
    {
     "data": {
      "text/plain": "android    6\nios        2\nwindows    1\nName: os, dtype: int64"
     },
     "execution_count": 47,
     "metadata": {},
     "output_type": "execute_result"
    }
   ],
   "source": [
    "smartphone_df['os'].value_counts()"
   ],
   "metadata": {
    "collapsed": false,
    "pycharm": {
     "name": "#%%\n"
    }
   }
  },
  {
   "cell_type": "code",
   "execution_count": 48,
   "outputs": [
    {
     "data": {
      "text/plain": "samsung      2\napple        2\nmicrosoft    1\nsony         1\nhtc          1\nmotorola     1\ngoogle       1\nName: company, dtype: int64"
     },
     "execution_count": 48,
     "metadata": {},
     "output_type": "execute_result"
    }
   ],
   "source": [
    "smartphone_df.company.value_counts()"
   ],
   "metadata": {
    "collapsed": false,
    "pycharm": {
     "name": "#%%\n"
    }
   }
  },
  {
   "cell_type": "code",
   "execution_count": 49,
   "outputs": [],
   "source": [
    "gr=smartphone_df.groupby(smartphone_df.os)"
   ],
   "metadata": {
    "collapsed": false,
    "pycharm": {
     "name": "#%%\n"
    }
   }
  },
  {
   "cell_type": "code",
   "execution_count": 50,
   "outputs": [
    {
     "name": "stderr",
     "output_type": "stream",
     "text": [
      "C:\\Users\\ADMIN\\AppData\\Local\\Temp\\ipykernel_13572\\57773461.py:1: FutureWarning: The default value of numeric_only in DataFrameGroupBy.mean is deprecated. In a future version, numeric_only will default to False. Either specify numeric_only or select only columns which should be valid for the function.\n",
      "  gr.mean()\n"
     ]
    },
    {
     "data": {
      "text/plain": "          capacity       ram  weight  inch\nos                                        \nandroid  50.666667  3.166667  155.25  5.35\nios      80.000000  1.500000  125.00  4.35\nwindows  32.000000  3.000000  150.00  5.20",
      "text/html": "<div>\n<style scoped>\n    .dataframe tbody tr th:only-of-type {\n        vertical-align: middle;\n    }\n\n    .dataframe tbody tr th {\n        vertical-align: top;\n    }\n\n    .dataframe thead th {\n        text-align: right;\n    }\n</style>\n<table border=\"1\" class=\"dataframe\">\n  <thead>\n    <tr style=\"text-align: right;\">\n      <th></th>\n      <th>capacity</th>\n      <th>ram</th>\n      <th>weight</th>\n      <th>inch</th>\n    </tr>\n    <tr>\n      <th>os</th>\n      <th></th>\n      <th></th>\n      <th></th>\n      <th></th>\n    </tr>\n  </thead>\n  <tbody>\n    <tr>\n      <th>android</th>\n      <td>50.666667</td>\n      <td>3.166667</td>\n      <td>155.25</td>\n      <td>5.35</td>\n    </tr>\n    <tr>\n      <th>ios</th>\n      <td>80.000000</td>\n      <td>1.500000</td>\n      <td>125.00</td>\n      <td>4.35</td>\n    </tr>\n    <tr>\n      <th>windows</th>\n      <td>32.000000</td>\n      <td>3.000000</td>\n      <td>150.00</td>\n      <td>5.20</td>\n    </tr>\n  </tbody>\n</table>\n</div>"
     },
     "execution_count": 50,
     "metadata": {},
     "output_type": "execute_result"
    }
   ],
   "source": [
    "gr.mean()"
   ],
   "metadata": {
    "collapsed": false,
    "pycharm": {
     "name": "#%%\n"
    }
   }
  },
  {
   "cell_type": "code",
   "execution_count": 51,
   "outputs": [
    {
     "data": {
      "text/plain": "ram      1  2  3  4\nos                 \nandroid  0  2  1  3\nios      1  1  0  0\nwindows  0  0  1  0",
      "text/html": "<div>\n<style scoped>\n    .dataframe tbody tr th:only-of-type {\n        vertical-align: middle;\n    }\n\n    .dataframe tbody tr th {\n        vertical-align: top;\n    }\n\n    .dataframe thead th {\n        text-align: right;\n    }\n</style>\n<table border=\"1\" class=\"dataframe\">\n  <thead>\n    <tr style=\"text-align: right;\">\n      <th>ram</th>\n      <th>1</th>\n      <th>2</th>\n      <th>3</th>\n      <th>4</th>\n    </tr>\n    <tr>\n      <th>os</th>\n      <th></th>\n      <th></th>\n      <th></th>\n      <th></th>\n    </tr>\n  </thead>\n  <tbody>\n    <tr>\n      <th>android</th>\n      <td>0</td>\n      <td>2</td>\n      <td>1</td>\n      <td>3</td>\n    </tr>\n    <tr>\n      <th>ios</th>\n      <td>1</td>\n      <td>1</td>\n      <td>0</td>\n      <td>0</td>\n    </tr>\n    <tr>\n      <th>windows</th>\n      <td>0</td>\n      <td>0</td>\n      <td>1</td>\n      <td>0</td>\n    </tr>\n  </tbody>\n</table>\n</div>"
     },
     "execution_count": 51,
     "metadata": {},
     "output_type": "execute_result"
    }
   ],
   "source": [
    "pd.crosstab(smartphone_df.os,smartphone_df.ram)"
   ],
   "metadata": {
    "collapsed": false,
    "pycharm": {
     "name": "#%%\n"
    }
   }
  },
  {
   "cell_type": "code",
   "execution_count": 52,
   "outputs": [
    {
     "data": {
      "text/plain": "0     True\n1    False\n2     True\n3    False\n4     True\n5     True\n6    False\n7     True\n8     True\nName: os, dtype: bool"
     },
     "execution_count": 52,
     "metadata": {},
     "output_type": "execute_result"
    }
   ],
   "source": [
    "mask=smartphone_df.os=='android'\n",
    "mask"
   ],
   "metadata": {
    "collapsed": false,
    "pycharm": {
     "name": "#%%\n"
    }
   }
  },
  {
   "cell_type": "code",
   "execution_count": 53,
   "outputs": [
    {
     "data": {
      "text/plain": "0    4\n2    2\n4    4\n5    2\n7    3\n8    4\nName: ram, dtype: int64"
     },
     "execution_count": 53,
     "metadata": {},
     "output_type": "execute_result"
    }
   ],
   "source": [
    "mask=smartphone_df.os=='android'\n",
    "smartphone_df.ram[mask]"
   ],
   "metadata": {
    "collapsed": false,
    "pycharm": {
     "name": "#%%\n"
    }
   }
  },
  {
   "cell_type": "code",
   "execution_count": 54,
   "outputs": [
    {
     "data": {
      "text/plain": "{'whiskers': [<matplotlib.lines.Line2D at 0x2511a242dd0>,\n  <matplotlib.lines.Line2D at 0x2511a243070>],\n 'caps': [<matplotlib.lines.Line2D at 0x2511a243310>,\n  <matplotlib.lines.Line2D at 0x2511a2435b0>],\n 'boxes': [<matplotlib.lines.Line2D at 0x2511a242b30>],\n 'medians': [<matplotlib.lines.Line2D at 0x2511a243850>],\n 'fliers': [<matplotlib.lines.Line2D at 0x2511a243af0>],\n 'means': []}"
     },
     "execution_count": 54,
     "metadata": {},
     "output_type": "execute_result"
    },
    {
     "data": {
      "text/plain": "<Figure size 640x480 with 1 Axes>",
      "image/png": "[encoded data removed]"
     },
     "metadata": {},
     "output_type": "display_data"
    }
   ],
   "source": [
    "plt.boxplot(smartphone_df.ram)"
   ],
   "metadata": {
    "collapsed": false,
    "pycharm": {
     "name": "#%%\n"
    }
   }
  },
  {
   "cell_type": "code",
   "execution_count": 55,
   "outputs": [
    {
     "data": {
      "text/plain": "{'whiskers': [<matplotlib.lines.Line2D at 0x2511a29a6b0>,\n  <matplotlib.lines.Line2D at 0x2511a29a950>],\n 'caps': [<matplotlib.lines.Line2D at 0x2511a29abf0>,\n  <matplotlib.lines.Line2D at 0x2511a29ae90>],\n 'boxes': [<matplotlib.lines.Line2D at 0x2511a29a410>],\n 'medians': [<matplotlib.lines.Line2D at 0x2511a29b130>],\n 'fliers': [<matplotlib.lines.Line2D at 0x2511a29b3d0>],\n 'means': []}"
     },
     "execution_count": 55,
     "metadata": {},
     "output_type": "execute_result"
    },
    {
     "data": {
      "text/plain": "<Figure size 640x480 with 1 Axes>",
      "image/png": "[encoded data removed]"
     },
     "metadata": {},
     "output_type": "display_data"
    }
   ],
   "source": [
    "plt.boxplot(smartphone_df.ram[mask])"
   ],
   "metadata": {
    "collapsed": false,
    "pycharm": {
     "name": "#%%\n"
    }
   }
  },
  {
   "cell_type": "code",
   "execution_count": 56,
   "outputs": [
    {
     "data": {
      "text/plain": "inch     4.0  4.7  5.0  5.1  5.2  5.5  5.7  5.8\nos                                             \nandroid    0    0    2    1    0    1    1    1\nios        1    1    0    0    0    0    0    0\nwindows    0    0    0    0    1    0    0    0",
      "text/html": "<div>\n<style scoped>\n    .dataframe tbody tr th:only-of-type {\n        vertical-align: middle;\n    }\n\n    .dataframe tbody tr th {\n        vertical-align: top;\n    }\n\n    .dataframe thead th {\n        text-align: right;\n    }\n</style>\n<table border=\"1\" class=\"dataframe\">\n  <thead>\n    <tr style=\"text-align: right;\">\n      <th>inch</th>\n      <th>4.0</th>\n      <th>4.7</th>\n      <th>5.0</th>\n      <th>5.1</th>\n      <th>5.2</th>\n      <th>5.5</th>\n      <th>5.7</th>\n      <th>5.8</th>\n    </tr>\n    <tr>\n      <th>os</th>\n      <th></th>\n      <th></th>\n      <th></th>\n      <th></th>\n      <th></th>\n      <th></th>\n      <th></th>\n      <th></th>\n    </tr>\n  </thead>\n  <tbody>\n    <tr>\n      <th>android</th>\n      <td>0</td>\n      <td>0</td>\n      <td>2</td>\n      <td>1</td>\n      <td>0</td>\n      <td>1</td>\n      <td>1</td>\n      <td>1</td>\n    </tr>\n    <tr>\n      <th>ios</th>\n      <td>1</td>\n      <td>1</td>\n      <td>0</td>\n      <td>0</td>\n      <td>0</td>\n      <td>0</td>\n      <td>0</td>\n      <td>0</td>\n    </tr>\n    <tr>\n      <th>windows</th>\n      <td>0</td>\n      <td>0</td>\n      <td>0</td>\n      <td>0</td>\n      <td>1</td>\n      <td>0</td>\n      <td>0</td>\n      <td>0</td>\n    </tr>\n  </tbody>\n</table>\n</div>"
     },
     "execution_count": 56,
     "metadata": {},
     "output_type": "execute_result"
    }
   ],
   "source": [
    "pd.crosstab(smartphone_df.os,smartphone_df.inch)"
   ],
   "metadata": {
    "collapsed": false,
    "pycharm": {
     "name": "#%%\n"
    }
   }
  },
  {
   "cell_type": "code",
   "execution_count": 57,
   "outputs": [
    {
     "data": {
      "text/plain": "capacity   16   32   64   128\ncompany                      \napple        0    1    0    1\ngoogle       0    0    0    1\nhtc          0    0    1    0\nmicrosoft    0    1    0    0\nmotorola     1    0    0    0\nsamsung      1    0    1    0\nsony         1    0    0    0",
      "text/html": "<div>\n<style scoped>\n    .dataframe tbody tr th:only-of-type {\n        vertical-align: middle;\n    }\n\n    .dataframe tbody tr th {\n        vertical-align: top;\n    }\n\n    .dataframe thead th {\n        text-align: right;\n    }\n</style>\n<table border=\"1\" class=\"dataframe\">\n  <thead>\n    <tr style=\"text-align: right;\">\n      <th>capacity</th>\n      <th>16</th>\n      <th>32</th>\n      <th>64</th>\n      <th>128</th>\n    </tr>\n    <tr>\n      <th>company</th>\n      <th></th>\n      <th></th>\n      <th></th>\n      <th></th>\n    </tr>\n  </thead>\n  <tbody>\n    <tr>\n      <th>apple</th>\n      <td>0</td>\n      <td>1</td>\n      <td>0</td>\n      <td>1</td>\n    </tr>\n    <tr>\n      <th>google</th>\n      <td>0</td>\n      <td>0</td>\n      <td>0</td>\n      <td>1</td>\n    </tr>\n    <tr>\n      <th>htc</th>\n      <td>0</td>\n      <td>0</td>\n      <td>1</td>\n      <td>0</td>\n    </tr>\n    <tr>\n      <th>microsoft</th>\n      <td>0</td>\n      <td>1</td>\n      <td>0</td>\n      <td>0</td>\n    </tr>\n    <tr>\n      <th>motorola</th>\n      <td>1</td>\n      <td>0</td>\n      <td>0</td>\n      <td>0</td>\n    </tr>\n    <tr>\n      <th>samsung</th>\n      <td>1</td>\n      <td>0</td>\n      <td>1</td>\n      <td>0</td>\n    </tr>\n    <tr>\n      <th>sony</th>\n      <td>1</td>\n      <td>0</td>\n      <td>0</td>\n      <td>0</td>\n    </tr>\n  </tbody>\n</table>\n</div>"
     },
     "execution_count": 57,
     "metadata": {},
     "output_type": "execute_result"
    }
   ],
   "source": [
    "pd.crosstab(smartphone_df.company,smartphone_df.capacity)"
   ],
   "metadata": {
    "collapsed": false,
    "pycharm": {
     "name": "#%%\n"
    }
   }
  },
  {
   "cell_type": "code",
   "execution_count": 58,
   "outputs": [
    {
     "data": {
      "text/plain": "company    apple  google  htc  microsoft  motorola  samsung  sony\nname                                                             \ngalaxy s5    NaN     NaN  NaN        NaN       NaN      2.0   NaN\ngalaxy s8    NaN     NaN  NaN        NaN       NaN      4.0   NaN\niphone 5s    1.0     NaN  NaN        NaN       NaN      NaN   NaN\niphone 7     2.0     NaN  NaN        NaN       NaN      NaN   NaN\nlumia950     NaN     NaN  NaN        3.0       NaN      NaN   NaN\nmoto g5      NaN     NaN  NaN        NaN       3.0      NaN   NaN\npixel        NaN     4.0  NaN        NaN       NaN      NaN   NaN\nu ultra      NaN     NaN  4.0        NaN       NaN      NaN   NaN\nxperia l1    NaN     NaN  NaN        NaN       NaN      NaN   2.0",
      "text/html": "<div>\n<style scoped>\n    .dataframe tbody tr th:only-of-type {\n        vertical-align: middle;\n    }\n\n    .dataframe tbody tr th {\n        vertical-align: top;\n    }\n\n    .dataframe thead th {\n        text-align: right;\n    }\n</style>\n<table border=\"1\" class=\"dataframe\">\n  <thead>\n    <tr style=\"text-align: right;\">\n      <th>company</th>\n      <th>apple</th>\n      <th>google</th>\n      <th>htc</th>\n      <th>microsoft</th>\n      <th>motorola</th>\n      <th>samsung</th>\n      <th>sony</th>\n    </tr>\n    <tr>\n      <th>name</th>\n      <th></th>\n      <th></th>\n      <th></th>\n      <th></th>\n      <th></th>\n      <th></th>\n      <th></th>\n    </tr>\n  </thead>\n  <tbody>\n    <tr>\n      <th>galaxy s5</th>\n      <td>NaN</td>\n      <td>NaN</td>\n      <td>NaN</td>\n      <td>NaN</td>\n      <td>NaN</td>\n      <td>2.0</td>\n      <td>NaN</td>\n    </tr>\n    <tr>\n      <th>galaxy s8</th>\n      <td>NaN</td>\n      <td>NaN</td>\n      <td>NaN</td>\n      <td>NaN</td>\n      <td>NaN</td>\n      <td>4.0</td>\n      <td>NaN</td>\n    </tr>\n    <tr>\n      <th>iphone 5s</th>\n      <td>1.0</td>\n      <td>NaN</td>\n      <td>NaN</td>\n      <td>NaN</td>\n      <td>NaN</td>\n      <td>NaN</td>\n      <td>NaN</td>\n    </tr>\n    <tr>\n      <th>iphone 7</th>\n      <td>2.0</td>\n      <td>NaN</td>\n      <td>NaN</td>\n      <td>NaN</td>\n      <td>NaN</td>\n      <td>NaN</td>\n      <td>NaN</td>\n    </tr>\n    <tr>\n      <th>lumia950</th>\n      <td>NaN</td>\n      <td>NaN</td>\n      <td>NaN</td>\n      <td>3.0</td>\n      <td>NaN</td>\n      <td>NaN</td>\n      <td>NaN</td>\n    </tr>\n    <tr>\n      <th>moto g5</th>\n      <td>NaN</td>\n      <td>NaN</td>\n      <td>NaN</td>\n      <td>NaN</td>\n      <td>3.0</td>\n      <td>NaN</td>\n      <td>NaN</td>\n    </tr>\n    <tr>\n      <th>pixel</th>\n      <td>NaN</td>\n      <td>4.0</td>\n      <td>NaN</td>\n      <td>NaN</td>\n      <td>NaN</td>\n      <td>NaN</td>\n      <td>NaN</td>\n    </tr>\n    <tr>\n      <th>u ultra</th>\n      <td>NaN</td>\n      <td>NaN</td>\n      <td>4.0</td>\n      <td>NaN</td>\n      <td>NaN</td>\n      <td>NaN</td>\n      <td>NaN</td>\n    </tr>\n    <tr>\n      <th>xperia l1</th>\n      <td>NaN</td>\n      <td>NaN</td>\n      <td>NaN</td>\n      <td>NaN</td>\n      <td>NaN</td>\n      <td>NaN</td>\n      <td>2.0</td>\n    </tr>\n  </tbody>\n</table>\n</div>"
     },
     "execution_count": 58,
     "metadata": {},
     "output_type": "execute_result"
    }
   ],
   "source": [
    "pd.pivot_table(smartphone_df,index='name',columns='company',values='ram')"
   ],
   "metadata": {
    "collapsed": false,
    "pycharm": {
     "name": "#%%\n"
    }
   }
  },
  {
   "cell_type": "code",
   "execution_count": 59,
   "outputs": [
    {
     "data": {
      "text/plain": "ram           1      2     3      4\nname                               \ngalaxy s5   NaN   16.0   NaN    NaN\ngalaxy s8   NaN    NaN   NaN   64.0\niphone 5s  32.0    NaN   NaN    NaN\niphone 7    NaN  128.0   NaN    NaN\nlumia950    NaN    NaN  32.0    NaN\nmoto g5     NaN    NaN  16.0    NaN\npixel       NaN    NaN   NaN  128.0\nu ultra     NaN    NaN   NaN   64.0\nxperia l1   NaN   16.0   NaN    NaN",
      "text/html": "<div>\n<style scoped>\n    .dataframe tbody tr th:only-of-type {\n        vertical-align: middle;\n    }\n\n    .dataframe tbody tr th {\n        vertical-align: top;\n    }\n\n    .dataframe thead th {\n        text-align: right;\n    }\n</style>\n<table border=\"1\" class=\"dataframe\">\n  <thead>\n    <tr style=\"text-align: right;\">\n      <th>ram</th>\n      <th>1</th>\n      <th>2</th>\n      <th>3</th>\n      <th>4</th>\n    </tr>\n    <tr>\n      <th>name</th>\n      <th></th>\n      <th></th>\n      <th></th>\n      <th></th>\n    </tr>\n  </thead>\n  <tbody>\n    <tr>\n      <th>galaxy s5</th>\n      <td>NaN</td>\n      <td>16.0</td>\n      <td>NaN</td>\n      <td>NaN</td>\n    </tr>\n    <tr>\n      <th>galaxy s8</th>\n      <td>NaN</td>\n      <td>NaN</td>\n      <td>NaN</td>\n      <td>64.0</td>\n    </tr>\n    <tr>\n      <th>iphone 5s</th>\n      <td>32.0</td>\n      <td>NaN</td>\n      <td>NaN</td>\n      <td>NaN</td>\n    </tr>\n    <tr>\n      <th>iphone 7</th>\n      <td>NaN</td>\n      <td>128.0</td>\n      <td>NaN</td>\n      <td>NaN</td>\n    </tr>\n    <tr>\n      <th>lumia950</th>\n      <td>NaN</td>\n      <td>NaN</td>\n      <td>32.0</td>\n      <td>NaN</td>\n    </tr>\n    <tr>\n      <th>moto g5</th>\n      <td>NaN</td>\n      <td>NaN</td>\n      <td>16.0</td>\n      <td>NaN</td>\n    </tr>\n    <tr>\n      <th>pixel</th>\n      <td>NaN</td>\n      <td>NaN</td>\n      <td>NaN</td>\n      <td>128.0</td>\n    </tr>\n    <tr>\n      <th>u ultra</th>\n      <td>NaN</td>\n      <td>NaN</td>\n      <td>NaN</td>\n      <td>64.0</td>\n    </tr>\n    <tr>\n      <th>xperia l1</th>\n      <td>NaN</td>\n      <td>16.0</td>\n      <td>NaN</td>\n      <td>NaN</td>\n    </tr>\n  </tbody>\n</table>\n</div>"
     },
     "execution_count": 59,
     "metadata": {},
     "output_type": "execute_result"
    }
   ],
   "source": [
    "pd.pivot_table(smartphone_df,index='name',columns='ram',values='capacity')"
   ],
   "metadata": {
    "collapsed": false,
    "pycharm": {
     "name": "#%%\n"
    }
   }
  },
  {
   "cell_type": "code",
   "execution_count": 60,
   "outputs": [
    {
     "data": {
      "text/plain": "                os  capacity  ram  weight  inch\nname                                           \ngalaxy s8  android        64    4   149.0   5.8\nlumia950   windows        32    3   150.0   5.2\nxperia l1  android        16    2   180.0   5.5\niphone 7       ios       128    2   138.0   4.7\nu ultra    android        64    4   170.0   5.7\ngalaxy s5  android        16    2   145.0   5.1\niphone 5s      ios        32    1   112.0   4.0\nmoto g5    android        16    3   144.5   5.0\npixel      android       128    4   143.0   5.0",
      "text/html": "<div>\n<style scoped>\n    .dataframe tbody tr th:only-of-type {\n        vertical-align: middle;\n    }\n\n    .dataframe tbody tr th {\n        vertical-align: top;\n    }\n\n    .dataframe thead th {\n        text-align: right;\n    }\n</style>\n<table border=\"1\" class=\"dataframe\">\n  <thead>\n    <tr style=\"text-align: right;\">\n      <th></th>\n      <th>os</th>\n      <th>capacity</th>\n      <th>ram</th>\n      <th>weight</th>\n      <th>inch</th>\n    </tr>\n    <tr>\n      <th>name</th>\n      <th></th>\n      <th></th>\n      <th></th>\n      <th></th>\n      <th></th>\n    </tr>\n  </thead>\n  <tbody>\n    <tr>\n      <th>galaxy s8</th>\n      <td>android</td>\n      <td>64</td>\n      <td>4</td>\n      <td>149.0</td>\n      <td>5.8</td>\n    </tr>\n    <tr>\n      <th>lumia950</th>\n      <td>windows</td>\n      <td>32</td>\n      <td>3</td>\n      <td>150.0</td>\n      <td>5.2</td>\n    </tr>\n    <tr>\n      <th>xperia l1</th>\n      <td>android</td>\n      <td>16</td>\n      <td>2</td>\n      <td>180.0</td>\n      <td>5.5</td>\n    </tr>\n    <tr>\n      <th>iphone 7</th>\n      <td>ios</td>\n      <td>128</td>\n      <td>2</td>\n      <td>138.0</td>\n      <td>4.7</td>\n    </tr>\n    <tr>\n      <th>u ultra</th>\n      <td>android</td>\n      <td>64</td>\n      <td>4</td>\n      <td>170.0</td>\n      <td>5.7</td>\n    </tr>\n    <tr>\n      <th>galaxy s5</th>\n      <td>android</td>\n      <td>16</td>\n      <td>2</td>\n      <td>145.0</td>\n      <td>5.1</td>\n    </tr>\n    <tr>\n      <th>iphone 5s</th>\n      <td>ios</td>\n      <td>32</td>\n      <td>1</td>\n      <td>112.0</td>\n      <td>4.0</td>\n    </tr>\n    <tr>\n      <th>moto g5</th>\n      <td>android</td>\n      <td>16</td>\n      <td>3</td>\n      <td>144.5</td>\n      <td>5.0</td>\n    </tr>\n    <tr>\n      <th>pixel</th>\n      <td>android</td>\n      <td>128</td>\n      <td>4</td>\n      <td>143.0</td>\n      <td>5.0</td>\n    </tr>\n  </tbody>\n</table>\n</div>"
     },
     "execution_count": 60,
     "metadata": {},
     "output_type": "execute_result"
    }
   ],
   "source": [
    "smartphone_df.index=smartphone_df.name\n",
    "smartphone_df.drop(['name','company'],axis=1,inplace=True)\n",
    "smartphone_df"
   ],
   "metadata": {
    "collapsed": false,
    "pycharm": {
     "name": "#%%\n"
    }
   }
  },
  {
   "cell_type": "code",
   "execution_count": 61,
   "outputs": [
    {
     "data": {
      "text/plain": "Index(['galaxy s8', 'lumia950', 'xperia l1', 'iphone 7', 'u ultra',\n       'galaxy s5', 'iphone 5s', 'moto g5', 'pixel'],\n      dtype='object', name='name')"
     },
     "execution_count": 61,
     "metadata": {},
     "output_type": "execute_result"
    }
   ],
   "source": [
    "smartphone_df.index"
   ],
   "metadata": {
    "collapsed": false,
    "pycharm": {
     "name": "#%%\n"
    }
   }
  },
  {
   "cell_type": "code",
   "execution_count": 63,
   "outputs": [
    {
     "data": {
      "text/plain": "           capacity  ram  weight  inch  os_android  os_ios  os_windows\nname                                                                  \ngalaxy s8        64    4   149.0   5.8           1       0           0\nlumia950         32    3   150.0   5.2           0       0           1\nxperia l1        16    2   180.0   5.5           1       0           0\niphone 7        128    2   138.0   4.7           0       1           0\nu ultra          64    4   170.0   5.7           1       0           0\ngalaxy s5        16    2   145.0   5.1           1       0           0\niphone 5s        32    1   112.0   4.0           0       1           0\nmoto g5          16    3   144.5   5.0           1       0           0\npixel           128    4   143.0   5.0           1       0           0",
      "text/html": "<div>\n<style scoped>\n    .dataframe tbody tr th:only-of-type {\n        vertical-align: middle;\n    }\n\n    .dataframe tbody tr th {\n        vertical-align: top;\n    }\n\n    .dataframe thead th {\n        text-align: right;\n    }\n</style>\n<table border=\"1\" class=\"dataframe\">\n  <thead>\n    <tr style=\"text-align: right;\">\n      <th></th>\n      <th>capacity</th>\n      <th>ram</th>\n      <th>weight</th>\n      <th>inch</th>\n      <th>os_android</th>\n      <th>os_ios</th>\n      <th>os_windows</th>\n    </tr>\n    <tr>\n      <th>name</th>\n      <th></th>\n      <th></th>\n      <th></th>\n      <th></th>\n      <th></th>\n      <th></th>\n      <th></th>\n    </tr>\n  </thead>\n  <tbody>\n    <tr>\n      <th>galaxy s8</th>\n      <td>64</td>\n      <td>4</td>\n      <td>149.0</td>\n      <td>5.8</td>\n      <td>1</td>\n      <td>0</td>\n      <td>0</td>\n    </tr>\n    <tr>\n      <th>lumia950</th>\n      <td>32</td>\n      <td>3</td>\n      <td>150.0</td>\n      <td>5.2</td>\n      <td>0</td>\n      <td>0</td>\n      <td>1</td>\n    </tr>\n    <tr>\n      <th>xperia l1</th>\n      <td>16</td>\n      <td>2</td>\n      <td>180.0</td>\n      <td>5.5</td>\n      <td>1</td>\n      <td>0</td>\n      <td>0</td>\n    </tr>\n    <tr>\n      <th>iphone 7</th>\n      <td>128</td>\n      <td>2</td>\n      <td>138.0</td>\n      <td>4.7</td>\n      <td>0</td>\n      <td>1</td>\n      <td>0</td>\n    </tr>\n    <tr>\n      <th>u ultra</th>\n      <td>64</td>\n      <td>4</td>\n      <td>170.0</td>\n      <td>5.7</td>\n      <td>1</td>\n      <td>0</td>\n      <td>0</td>\n    </tr>\n    <tr>\n      <th>galaxy s5</th>\n      <td>16</td>\n      <td>2</td>\n      <td>145.0</td>\n      <td>5.1</td>\n      <td>1</td>\n      <td>0</td>\n      <td>0</td>\n    </tr>\n    <tr>\n      <th>iphone 5s</th>\n      <td>32</td>\n      <td>1</td>\n      <td>112.0</td>\n      <td>4.0</td>\n      <td>0</td>\n      <td>1</td>\n      <td>0</td>\n    </tr>\n    <tr>\n      <th>moto g5</th>\n      <td>16</td>\n      <td>3</td>\n      <td>144.5</td>\n      <td>5.0</td>\n      <td>1</td>\n      <td>0</td>\n      <td>0</td>\n    </tr>\n    <tr>\n      <th>pixel</th>\n      <td>128</td>\n      <td>4</td>\n      <td>143.0</td>\n      <td>5.0</td>\n      <td>1</td>\n      <td>0</td>\n      <td>0</td>\n    </tr>\n  </tbody>\n</table>\n</div>"
     },
     "execution_count": 63,
     "metadata": {},
     "output_type": "execute_result"
    }
   ],
   "source": [
    "smartphone_df2=pd.get_dummies(smartphone_df)\n",
    "smartphone_df2"
   ],
   "metadata": {
    "collapsed": false,
    "pycharm": {
     "name": "#%%\n"
    }
   }
  },
  {
   "cell_type": "code",
   "execution_count": 64,
   "outputs": [
    {
     "data": {
      "text/plain": "         capacity       ram      weight      inch  os_android    os_ios  \\\ncount    9.000000  9.000000    9.000000  9.000000    9.000000  9.000000   \nmean    55.111111  2.777778  147.944444  5.111111    0.666667  0.222222   \nstd     45.333333  1.092906   19.219854  0.548736    0.500000  0.440959   \nmin     16.000000  1.000000  112.000000  4.000000    0.000000  0.000000   \n25%     16.000000  2.000000  143.000000  5.000000    0.000000  0.000000   \n50%     32.000000  3.000000  145.000000  5.100000    1.000000  0.000000   \n75%     64.000000  4.000000  150.000000  5.500000    1.000000  0.000000   \nmax    128.000000  4.000000  180.000000  5.800000    1.000000  1.000000   \n\n       os_windows  \ncount    9.000000  \nmean     0.111111  \nstd      0.333333  \nmin      0.000000  \n25%      0.000000  \n50%      0.000000  \n75%      0.000000  \nmax      1.000000  ",
      "text/html": "<div>\n<style scoped>\n    .dataframe tbody tr th:only-of-type {\n        vertical-align: middle;\n    }\n\n    .dataframe tbody tr th {\n        vertical-align: top;\n    }\n\n    .dataframe thead th {\n        text-align: right;\n    }\n</style>\n<table border=\"1\" class=\"dataframe\">\n  <thead>\n    <tr style=\"text-align: right;\">\n      <th></th>\n      <th>capacity</th>\n      <th>ram</th>\n      <th>weight</th>\n      <th>inch</th>\n      <th>os_android</th>\n      <th>os_ios</th>\n      <th>os_windows</th>\n    </tr>\n  </thead>\n  <tbody>\n    <tr>\n      <th>count</th>\n      <td>9.000000</td>\n      <td>9.000000</td>\n      <td>9.000000</td>\n      <td>9.000000</td>\n      <td>9.000000</td>\n      <td>9.000000</td>\n      <td>9.000000</td>\n    </tr>\n    <tr>\n      <th>mean</th>\n      <td>55.111111</td>\n      <td>2.777778</td>\n      <td>147.944444</td>\n      <td>5.111111</td>\n      <td>0.666667</td>\n      <td>0.222222</td>\n      <td>0.111111</td>\n    </tr>\n    <tr>\n      <th>std</th>\n      <td>45.333333</td>\n      <td>1.092906</td>\n      <td>19.219854</td>\n      <td>0.548736</td>\n      <td>0.500000</td>\n      <td>0.440959</td>\n      <td>0.333333</td>\n    </tr>\n    <tr>\n      <th>min</th>\n      <td>16.000000</td>\n      <td>1.000000</td>\n      <td>112.000000</td>\n      <td>4.000000</td>\n      <td>0.000000</td>\n      <td>0.000000</td>\n      <td>0.000000</td>\n    </tr>\n    <tr>\n      <th>25%</th>\n      <td>16.000000</td>\n      <td>2.000000</td>\n      <td>143.000000</td>\n      <td>5.000000</td>\n      <td>0.000000</td>\n      <td>0.000000</td>\n      <td>0.000000</td>\n    </tr>\n    <tr>\n      <th>50%</th>\n      <td>32.000000</td>\n      <td>3.000000</td>\n      <td>145.000000</td>\n      <td>5.100000</td>\n      <td>1.000000</td>\n      <td>0.000000</td>\n      <td>0.000000</td>\n    </tr>\n    <tr>\n      <th>75%</th>\n      <td>64.000000</td>\n      <td>4.000000</td>\n      <td>150.000000</td>\n      <td>5.500000</td>\n      <td>1.000000</td>\n      <td>0.000000</td>\n      <td>0.000000</td>\n    </tr>\n    <tr>\n      <th>max</th>\n      <td>128.000000</td>\n      <td>4.000000</td>\n      <td>180.000000</td>\n      <td>5.800000</td>\n      <td>1.000000</td>\n      <td>1.000000</td>\n      <td>1.000000</td>\n    </tr>\n  </tbody>\n</table>\n</div>"
     },
     "execution_count": 64,
     "metadata": {},
     "output_type": "execute_result"
    }
   ],
   "source": [
    "smartphone_df2.describe()"
   ],
   "metadata": {
    "collapsed": false,
    "pycharm": {
     "name": "#%%\n"
    }
   }
  },
  {
   "cell_type": "code",
   "execution_count": 65,
   "outputs": [],
   "source": [
    "from sklearn.preprocessing import scale"
   ],
   "metadata": {
    "collapsed": false,
    "pycharm": {
     "name": "#%%\n"
    }
   }
  },
  {
   "cell_type": "code",
   "execution_count": 66,
   "outputs": [
    {
     "data": {
      "text/plain": "array([[ 0.20797258,  1.18616051,  0.05825152,  1.33156402,  0.70710678,\n        -0.53452248, -0.35355339],\n       [-0.54072872,  0.21566555,  0.11343717,  0.17181471, -1.41421356,\n        -0.53452248,  2.82842712],\n       [-0.91507936, -0.75482941,  1.76900675,  0.75168936,  0.70710678,\n        -0.53452248, -0.35355339],\n       [ 1.70537518, -0.75482941, -0.54879066, -0.79464304, -1.41421356,\n         1.87082869, -0.35355339],\n       [ 0.20797258,  1.18616051,  1.21715023,  1.13827247,  0.70710678,\n        -0.53452248, -0.35355339],\n       [-0.91507936, -0.75482941, -0.16249109, -0.02147684,  0.70710678,\n        -0.53452248, -0.35355339],\n       [-0.54072872, -1.72532437, -1.98361762, -2.1476839 , -1.41421356,\n         1.87082869, -0.35355339],\n       [-0.91507936,  0.21566555, -0.19008391, -0.21476839,  0.70710678,\n        -0.53452248, -0.35355339],\n       [ 1.70537518,  1.18616051, -0.27286239, -0.21476839,  0.70710678,\n        -0.53452248, -0.35355339]])"
     },
     "execution_count": 66,
     "metadata": {},
     "output_type": "execute_result"
    }
   ],
   "source": [
    "scale_data=scale(smartphone_df2)\n",
    "scale_data"
   ],
   "metadata": {
    "collapsed": false,
    "pycharm": {
     "name": "#%%\n"
    }
   }
  },
  {
   "cell_type": "code",
   "execution_count": 67,
   "outputs": [
    {
     "data": {
      "text/plain": "           capacity       ram    weight      inch  os_android    os_ios  \\\nname                                                                      \ngalaxy s8  0.207973  1.186161  0.058252  1.331564    0.707107 -0.534522   \nlumia950  -0.540729  0.215666  0.113437  0.171815   -1.414214 -0.534522   \nxperia l1 -0.915079 -0.754829  1.769007  0.751689    0.707107 -0.534522   \niphone 7   1.705375 -0.754829 -0.548791 -0.794643   -1.414214  1.870829   \nu ultra    0.207973  1.186161  1.217150  1.138272    0.707107 -0.534522   \ngalaxy s5 -0.915079 -0.754829 -0.162491 -0.021477    0.707107 -0.534522   \niphone 5s -0.540729 -1.725324 -1.983618 -2.147684   -1.414214  1.870829   \nmoto g5   -0.915079  0.215666 -0.190084 -0.214768    0.707107 -0.534522   \npixel      1.705375  1.186161 -0.272862 -0.214768    0.707107 -0.534522   \n\n           os_windows  \nname                   \ngalaxy s8   -0.353553  \nlumia950     2.828427  \nxperia l1   -0.353553  \niphone 7    -0.353553  \nu ultra     -0.353553  \ngalaxy s5   -0.353553  \niphone 5s   -0.353553  \nmoto g5     -0.353553  \npixel       -0.353553  ",
      "text/html": "<div>\n<style scoped>\n    .dataframe tbody tr th:only-of-type {\n        vertical-align: middle;\n    }\n\n    .dataframe tbody tr th {\n        vertical-align: top;\n    }\n\n    .dataframe thead th {\n        text-align: right;\n    }\n</style>\n<table border=\"1\" class=\"dataframe\">\n  <thead>\n    <tr style=\"text-align: right;\">\n      <th></th>\n      <th>capacity</th>\n      <th>ram</th>\n      <th>weight</th>\n      <th>inch</th>\n      <th>os_android</th>\n      <th>os_ios</th>\n      <th>os_windows</th>\n    </tr>\n    <tr>\n      <th>name</th>\n      <th></th>\n      <th></th>\n      <th></th>\n      <th></th>\n      <th></th>\n      <th></th>\n      <th></th>\n    </tr>\n  </thead>\n  <tbody>\n    <tr>\n      <th>galaxy s8</th>\n      <td>0.207973</td>\n      <td>1.186161</td>\n      <td>0.058252</td>\n      <td>1.331564</td>\n      <td>0.707107</td>\n      <td>-0.534522</td>\n      <td>-0.353553</td>\n    </tr>\n    <tr>\n      <th>lumia950</th>\n      <td>-0.540729</td>\n      <td>0.215666</td>\n      <td>0.113437</td>\n      <td>0.171815</td>\n      <td>-1.414214</td>\n      <td>-0.534522</td>\n      <td>2.828427</td>\n    </tr>\n    <tr>\n      <th>xperia l1</th>\n      <td>-0.915079</td>\n      <td>-0.754829</td>\n      <td>1.769007</td>\n      <td>0.751689</td>\n      <td>0.707107</td>\n      <td>-0.534522</td>\n      <td>-0.353553</td>\n    </tr>\n    <tr>\n      <th>iphone 7</th>\n      <td>1.705375</td>\n      <td>-0.754829</td>\n      <td>-0.548791</td>\n      <td>-0.794643</td>\n      <td>-1.414214</td>\n      <td>1.870829</td>\n      <td>-0.353553</td>\n    </tr>\n    <tr>\n      <th>u ultra</th>\n      <td>0.207973</td>\n      <td>1.186161</td>\n      <td>1.217150</td>\n      <td>1.138272</td>\n      <td>0.707107</td>\n      <td>-0.534522</td>\n      <td>-0.353553</td>\n    </tr>\n    <tr>\n      <th>galaxy s5</th>\n      <td>-0.915079</td>\n      <td>-0.754829</td>\n      <td>-0.162491</td>\n      <td>-0.021477</td>\n      <td>0.707107</td>\n      <td>-0.534522</td>\n      <td>-0.353553</td>\n    </tr>\n    <tr>\n      <th>iphone 5s</th>\n      <td>-0.540729</td>\n      <td>-1.725324</td>\n      <td>-1.983618</td>\n      <td>-2.147684</td>\n      <td>-1.414214</td>\n      <td>1.870829</td>\n      <td>-0.353553</td>\n    </tr>\n    <tr>\n      <th>moto g5</th>\n      <td>-0.915079</td>\n      <td>0.215666</td>\n      <td>-0.190084</td>\n      <td>-0.214768</td>\n      <td>0.707107</td>\n      <td>-0.534522</td>\n      <td>-0.353553</td>\n    </tr>\n    <tr>\n      <th>pixel</th>\n      <td>1.705375</td>\n      <td>1.186161</td>\n      <td>-0.272862</td>\n      <td>-0.214768</td>\n      <td>0.707107</td>\n      <td>-0.534522</td>\n      <td>-0.353553</td>\n    </tr>\n  </tbody>\n</table>\n</div>"
     },
     "execution_count": 67,
     "metadata": {},
     "output_type": "execute_result"
    }
   ],
   "source": [
    "scale_data_df=pd.DataFrame(scale_data,index=smartphone_df2.index,columns=smartphone_df2.columns)\n",
    "scale_data_df"
   ],
   "metadata": {
    "collapsed": false,
    "pycharm": {
     "name": "#%%\n"
    }
   }
  },
  {
   "cell_type": "code",
   "execution_count": 68,
   "outputs": [],
   "source": [
    "import seaborn as sb"
   ],
   "metadata": {
    "collapsed": false,
    "pycharm": {
     "name": "#%%\n"
    }
   }
  },
  {
   "cell_type": "code",
   "execution_count": 69,
   "outputs": [
    {
     "name": "stderr",
     "output_type": "stream",
     "text": [
      "C:\\Users\\ADMIN\\AppData\\Local\\Temp\\ipykernel_13572\\1652890670.py:1: UserWarning: \n",
      "\n",
      "`distplot` is a deprecated function and will be removed in seaborn v0.14.0.\n",
      "\n",
      "Please adapt your code to use either `displot` (a figure-level function with\n",
      "similar flexibility) or `histplot` (an axes-level function for histograms).\n",
      "\n",
      "For a guide to updating your code to use the new functions, please see\n",
      "https://gist.github.com/mwaskom/de44147ed2974457ad6372750bbe5751\n",
      "\n",
      "  sb.distplot(scale_data_df.capacity)\n"
     ]
    },
    {
     "data": {
      "text/plain": "<AxesSubplot: xlabel='capacity', ylabel='Density'>"
     },
     "execution_count": 69,
     "metadata": {},
     "output_type": "execute_result"
    },
    {
     "data": {
      "text/plain": "<Figure size 640x480 with 1 Axes>",
      "image/png": "[encoded data removed]"
     },
     "metadata": {},
     "output_type": "display_data"
    }
   ],
   "source": [
    "sb.distplot(scale_data_df.capacity)"
   ],
   "metadata": {
    "collapsed": false,
    "pycharm": {
     "name": "#%%\n"
    }
   }
  },
  {
   "cell_type": "code",
   "execution_count": 71,
   "outputs": [
    {
     "data": {
      "text/plain": "<seaborn.axisgrid.FacetGrid at 0x25109b06b60>"
     },
     "execution_count": 71,
     "metadata": {},
     "output_type": "execute_result"
    },
    {
     "data": {
      "text/plain": "<Figure size 500x500 with 1 Axes>",
      "image/png": "[encoded data removed]"
     },
     "metadata": {},
     "output_type": "display_data"
    }
   ],
   "source": [
    "sb.displot(scale_data_df.weight)"
   ],
   "metadata": {
    "collapsed": false,
    "pycharm": {
     "name": "#%%\n"
    }
   }
  },
  {
   "cell_type": "code",
   "execution_count": 72,
   "outputs": [],
   "source": [
    "from sklearn.preprocessing import normalize"
   ],
   "metadata": {
    "collapsed": false,
    "pycharm": {
     "name": "#%%\n"
    }
   }
  },
  {
   "cell_type": "code",
   "execution_count": 74,
   "outputs": [
    {
     "data": {
      "text/plain": "           capacity       ram    weight      inch  os_android    os_ios  \\\nname                                                                      \ngalaxy s8  0.305888  0.450035  0.333221  0.376338    0.408248  0.000000   \nlumia950   0.152944  0.337526  0.335458  0.337406    0.000000  0.000000   \nxperia l1  0.076472  0.225018  0.402549  0.356872    0.408248  0.000000   \niphone 7   0.611775  0.225018  0.308621  0.304963    0.000000  0.707107   \nu ultra    0.305888  0.450035  0.380185  0.369849    0.408248  0.000000   \ngalaxy s5  0.076472  0.225018  0.324276  0.330918    0.408248  0.000000   \niphone 5s  0.152944  0.112509  0.250475  0.259543    0.000000  0.707107   \nmoto g5    0.076472  0.337526  0.323158  0.324429    0.408248  0.000000   \npixel      0.611775  0.450035  0.319803  0.324429    0.408248  0.000000   \n\n           os_windows  \nname                   \ngalaxy s8         0.0  \nlumia950          1.0  \nxperia l1         0.0  \niphone 7          0.0  \nu ultra           0.0  \ngalaxy s5         0.0  \niphone 5s         0.0  \nmoto g5           0.0  \npixel             0.0  ",
      "text/html": "<div>\n<style scoped>\n    .dataframe tbody tr th:only-of-type {\n        vertical-align: middle;\n    }\n\n    .dataframe tbody tr th {\n        vertical-align: top;\n    }\n\n    .dataframe thead th {\n        text-align: right;\n    }\n</style>\n<table border=\"1\" class=\"dataframe\">\n  <thead>\n    <tr style=\"text-align: right;\">\n      <th></th>\n      <th>capacity</th>\n      <th>ram</th>\n      <th>weight</th>\n      <th>inch</th>\n      <th>os_android</th>\n      <th>os_ios</th>\n      <th>os_windows</th>\n    </tr>\n    <tr>\n      <th>name</th>\n      <th></th>\n      <th></th>\n      <th></th>\n      <th></th>\n      <th></th>\n      <th></th>\n      <th></th>\n    </tr>\n  </thead>\n  <tbody>\n    <tr>\n      <th>galaxy s8</th>\n      <td>0.305888</td>\n      <td>0.450035</td>\n      <td>0.333221</td>\n      <td>0.376338</td>\n      <td>0.408248</td>\n      <td>0.000000</td>\n      <td>0.0</td>\n    </tr>\n    <tr>\n      <th>lumia950</th>\n      <td>0.152944</td>\n      <td>0.337526</td>\n      <td>0.335458</td>\n      <td>0.337406</td>\n      <td>0.000000</td>\n      <td>0.000000</td>\n      <td>1.0</td>\n    </tr>\n    <tr>\n      <th>xperia l1</th>\n      <td>0.076472</td>\n      <td>0.225018</td>\n      <td>0.402549</td>\n      <td>0.356872</td>\n      <td>0.408248</td>\n      <td>0.000000</td>\n      <td>0.0</td>\n    </tr>\n    <tr>\n      <th>iphone 7</th>\n      <td>0.611775</td>\n      <td>0.225018</td>\n      <td>0.308621</td>\n      <td>0.304963</td>\n      <td>0.000000</td>\n      <td>0.707107</td>\n      <td>0.0</td>\n    </tr>\n    <tr>\n      <th>u ultra</th>\n      <td>0.305888</td>\n      <td>0.450035</td>\n      <td>0.380185</td>\n      <td>0.369849</td>\n      <td>0.408248</td>\n      <td>0.000000</td>\n      <td>0.0</td>\n    </tr>\n    <tr>\n      <th>galaxy s5</th>\n      <td>0.076472</td>\n      <td>0.225018</td>\n      <td>0.324276</td>\n      <td>0.330918</td>\n      <td>0.408248</td>\n      <td>0.000000</td>\n      <td>0.0</td>\n    </tr>\n    <tr>\n      <th>iphone 5s</th>\n      <td>0.152944</td>\n      <td>0.112509</td>\n      <td>0.250475</td>\n      <td>0.259543</td>\n      <td>0.000000</td>\n      <td>0.707107</td>\n      <td>0.0</td>\n    </tr>\n    <tr>\n      <th>moto g5</th>\n      <td>0.076472</td>\n      <td>0.337526</td>\n      <td>0.323158</td>\n      <td>0.324429</td>\n      <td>0.408248</td>\n      <td>0.000000</td>\n      <td>0.0</td>\n    </tr>\n    <tr>\n      <th>pixel</th>\n      <td>0.611775</td>\n      <td>0.450035</td>\n      <td>0.319803</td>\n      <td>0.324429</td>\n      <td>0.408248</td>\n      <td>0.000000</td>\n      <td>0.0</td>\n    </tr>\n  </tbody>\n</table>\n</div>"
     },
     "execution_count": 74,
     "metadata": {},
     "output_type": "execute_result"
    }
   ],
   "source": [
    "norm_data=normalize(smartphone_df2,norm='l2',axis=0)\n",
    "norm_data_df=pd.DataFrame(norm_data,index=smartphone_df2.index,columns=smartphone_df2.columns)\n",
    "norm_data_df"
   ],
   "metadata": {
    "collapsed": false,
    "pycharm": {
     "name": "#%%\n"
    }
   }
  },
  {
   "cell_type": "code",
   "execution_count": 75,
   "outputs": [
    {
     "data": {
      "text/plain": "           capacity   ram    weight      inch  os_android  os_ios  os_windows\nname                                                                         \ngalaxy s8  0.129032  0.16  0.111904  0.126087    0.166667     0.0         0.0\nlumia950   0.064516  0.12  0.112655  0.113043    0.000000     0.0         1.0\nxperia l1  0.032258  0.08  0.135186  0.119565    0.166667     0.0         0.0\niphone 7   0.258065  0.08  0.103643  0.102174    0.000000     0.5         0.0\nu ultra    0.129032  0.16  0.127676  0.123913    0.166667     0.0         0.0\ngalaxy s5  0.032258  0.08  0.108900  0.110870    0.166667     0.0         0.0\niphone 5s  0.064516  0.04  0.084116  0.086957    0.000000     0.5         0.0\nmoto g5    0.032258  0.12  0.108524  0.108696    0.166667     0.0         0.0\npixel      0.258065  0.16  0.107398  0.108696    0.166667     0.0         0.0",
      "text/html": "<div>\n<style scoped>\n    .dataframe tbody tr th:only-of-type {\n        vertical-align: middle;\n    }\n\n    .dataframe tbody tr th {\n        vertical-align: top;\n    }\n\n    .dataframe thead th {\n        text-align: right;\n    }\n</style>\n<table border=\"1\" class=\"dataframe\">\n  <thead>\n    <tr style=\"text-align: right;\">\n      <th></th>\n      <th>capacity</th>\n      <th>ram</th>\n      <th>weight</th>\n      <th>inch</th>\n      <th>os_android</th>\n      <th>os_ios</th>\n      <th>os_windows</th>\n    </tr>\n    <tr>\n      <th>name</th>\n      <th></th>\n      <th></th>\n      <th></th>\n      <th></th>\n      <th></th>\n      <th></th>\n      <th></th>\n    </tr>\n  </thead>\n  <tbody>\n    <tr>\n      <th>galaxy s8</th>\n      <td>0.129032</td>\n      <td>0.16</td>\n      <td>0.111904</td>\n      <td>0.126087</td>\n      <td>0.166667</td>\n      <td>0.0</td>\n      <td>0.0</td>\n    </tr>\n    <tr>\n      <th>lumia950</th>\n      <td>0.064516</td>\n      <td>0.12</td>\n      <td>0.112655</td>\n      <td>0.113043</td>\n      <td>0.000000</td>\n      <td>0.0</td>\n      <td>1.0</td>\n    </tr>\n    <tr>\n      <th>xperia l1</th>\n      <td>0.032258</td>\n      <td>0.08</td>\n      <td>0.135186</td>\n      <td>0.119565</td>\n      <td>0.166667</td>\n      <td>0.0</td>\n      <td>0.0</td>\n    </tr>\n    <tr>\n      <th>iphone 7</th>\n      <td>0.258065</td>\n      <td>0.08</td>\n      <td>0.103643</td>\n      <td>0.102174</td>\n      <td>0.000000</td>\n      <td>0.5</td>\n      <td>0.0</td>\n    </tr>\n    <tr>\n      <th>u ultra</th>\n      <td>0.129032</td>\n      <td>0.16</td>\n      <td>0.127676</td>\n      <td>0.123913</td>\n      <td>0.166667</td>\n      <td>0.0</td>\n      <td>0.0</td>\n    </tr>\n    <tr>\n      <th>galaxy s5</th>\n      <td>0.032258</td>\n      <td>0.08</td>\n      <td>0.108900</td>\n      <td>0.110870</td>\n      <td>0.166667</td>\n      <td>0.0</td>\n      <td>0.0</td>\n    </tr>\n    <tr>\n      <th>iphone 5s</th>\n      <td>0.064516</td>\n      <td>0.04</td>\n      <td>0.084116</td>\n      <td>0.086957</td>\n      <td>0.000000</td>\n      <td>0.5</td>\n      <td>0.0</td>\n    </tr>\n    <tr>\n      <th>moto g5</th>\n      <td>0.032258</td>\n      <td>0.12</td>\n      <td>0.108524</td>\n      <td>0.108696</td>\n      <td>0.166667</td>\n      <td>0.0</td>\n      <td>0.0</td>\n    </tr>\n    <tr>\n      <th>pixel</th>\n      <td>0.258065</td>\n      <td>0.16</td>\n      <td>0.107398</td>\n      <td>0.108696</td>\n      <td>0.166667</td>\n      <td>0.0</td>\n      <td>0.0</td>\n    </tr>\n  </tbody>\n</table>\n</div>"
     },
     "execution_count": 75,
     "metadata": {},
     "output_type": "execute_result"
    }
   ],
   "source": [
    "norm_data2=normalize(smartphone_df2,norm='l1',axis=0)\n",
    "norm_data_df2=pd.DataFrame(norm_data2,index=smartphone_df2.index,columns=smartphone_df2.columns)\n",
    "norm_data_df2"
   ],
   "metadata": {
    "collapsed": false,
    "pycharm": {
     "name": "#%%\n"
    }
   }
  },
  {
   "cell_type": "code",
   "execution_count": 76,
   "outputs": [],
   "source": [
    "from sklearn.preprocessing import minmax_scale"
   ],
   "metadata": {
    "collapsed": false,
    "pycharm": {
     "name": "#%%\n"
    }
   }
  },
  {
   "cell_type": "code",
   "execution_count": 77,
   "outputs": [
    {
     "data": {
      "text/plain": "           capacity       ram    weight      inch  os_android  os_ios  \\\nname                                                                    \ngalaxy s8  0.428571  1.000000  0.544118  1.000000         1.0     0.0   \nlumia950   0.142857  0.666667  0.558824  0.666667         0.0     0.0   \nxperia l1  0.000000  0.333333  1.000000  0.833333         1.0     0.0   \niphone 7   1.000000  0.333333  0.382353  0.388889         0.0     1.0   \nu ultra    0.428571  1.000000  0.852941  0.944444         1.0     0.0   \ngalaxy s5  0.000000  0.333333  0.485294  0.611111         1.0     0.0   \niphone 5s  0.142857  0.000000  0.000000  0.000000         0.0     1.0   \nmoto g5    0.000000  0.666667  0.477941  0.555556         1.0     0.0   \npixel      1.000000  1.000000  0.455882  0.555556         1.0     0.0   \n\n           os_windows  \nname                   \ngalaxy s8         0.0  \nlumia950          1.0  \nxperia l1         0.0  \niphone 7          0.0  \nu ultra           0.0  \ngalaxy s5         0.0  \niphone 5s         0.0  \nmoto g5           0.0  \npixel             0.0  ",
      "text/html": "<div>\n<style scoped>\n    .dataframe tbody tr th:only-of-type {\n        vertical-align: middle;\n    }\n\n    .dataframe tbody tr th {\n        vertical-align: top;\n    }\n\n    .dataframe thead th {\n        text-align: right;\n    }\n</style>\n<table border=\"1\" class=\"dataframe\">\n  <thead>\n    <tr style=\"text-align: right;\">\n      <th></th>\n      <th>capacity</th>\n      <th>ram</th>\n      <th>weight</th>\n      <th>inch</th>\n      <th>os_android</th>\n      <th>os_ios</th>\n      <th>os_windows</th>\n    </tr>\n    <tr>\n      <th>name</th>\n      <th></th>\n      <th></th>\n      <th></th>\n      <th></th>\n      <th></th>\n      <th></th>\n      <th></th>\n    </tr>\n  </thead>\n  <tbody>\n    <tr>\n      <th>galaxy s8</th>\n      <td>0.428571</td>\n      <td>1.000000</td>\n      <td>0.544118</td>\n      <td>1.000000</td>\n      <td>1.0</td>\n      <td>0.0</td>\n      <td>0.0</td>\n    </tr>\n    <tr>\n      <th>lumia950</th>\n      <td>0.142857</td>\n      <td>0.666667</td>\n      <td>0.558824</td>\n      <td>0.666667</td>\n      <td>0.0</td>\n      <td>0.0</td>\n      <td>1.0</td>\n    </tr>\n    <tr>\n      <th>xperia l1</th>\n      <td>0.000000</td>\n      <td>0.333333</td>\n      <td>1.000000</td>\n      <td>0.833333</td>\n      <td>1.0</td>\n      <td>0.0</td>\n      <td>0.0</td>\n    </tr>\n    <tr>\n      <th>iphone 7</th>\n      <td>1.000000</td>\n      <td>0.333333</td>\n      <td>0.382353</td>\n      <td>0.388889</td>\n      <td>0.0</td>\n      <td>1.0</td>\n      <td>0.0</td>\n    </tr>\n    <tr>\n      <th>u ultra</th>\n      <td>0.428571</td>\n      <td>1.000000</td>\n      <td>0.852941</td>\n      <td>0.944444</td>\n      <td>1.0</td>\n      <td>0.0</td>\n      <td>0.0</td>\n    </tr>\n    <tr>\n      <th>galaxy s5</th>\n      <td>0.000000</td>\n      <td>0.333333</td>\n      <td>0.485294</td>\n      <td>0.611111</td>\n      <td>1.0</td>\n      <td>0.0</td>\n      <td>0.0</td>\n    </tr>\n    <tr>\n      <th>iphone 5s</th>\n      <td>0.142857</td>\n      <td>0.000000</td>\n      <td>0.000000</td>\n      <td>0.000000</td>\n      <td>0.0</td>\n      <td>1.0</td>\n      <td>0.0</td>\n    </tr>\n    <tr>\n      <th>moto g5</th>\n      <td>0.000000</td>\n      <td>0.666667</td>\n      <td>0.477941</td>\n      <td>0.555556</td>\n      <td>1.0</td>\n      <td>0.0</td>\n      <td>0.0</td>\n    </tr>\n    <tr>\n      <th>pixel</th>\n      <td>1.000000</td>\n      <td>1.000000</td>\n      <td>0.455882</td>\n      <td>0.555556</td>\n      <td>1.0</td>\n      <td>0.0</td>\n      <td>0.0</td>\n    </tr>\n  </tbody>\n</table>\n</div>"
     },
     "execution_count": 77,
     "metadata": {},
     "output_type": "execute_result"
    }
   ],
   "source": [
    "minmax_data=minmax_scale(smartphone_df2,(0,1),axis=0)\n",
    "minmax_data_df=pd.DataFrame(minmax_data,index=smartphone_df2.index,columns=smartphone_df2.columns)\n",
    "minmax_data_df"
   ],
   "metadata": {
    "collapsed": false,
    "pycharm": {
     "name": "#%%\n"
    }
   }
  },
  {
   "cell_type": "code",
   "execution_count": 78,
   "outputs": [],
   "source": [
    "df=pd.Series(np.array([1,2,3,4,10,27]))"
   ],
   "metadata": {
    "collapsed": false,
    "pycharm": {
     "name": "#%%\n"
    }
   }
  },
  {
   "cell_type": "code",
   "execution_count": 81,
   "outputs": [
    {
     "data": {
      "text/plain": "<Figure size 640x480 with 1 Axes>",
      "image/png": "[encoded data removed]"
     },
     "metadata": {},
     "output_type": "display_data"
    }
   ],
   "source": [
    "plt.boxplot(df)\n",
    "plt.grid()"
   ],
   "metadata": {
    "collapsed": false,
    "pycharm": {
     "name": "#%%\n"
    }
   }
  },
  {
   "cell_type": "code",
   "execution_count": 80,
   "outputs": [
    {
     "data": {
      "text/plain": "0.25    2.25\n0.50    3.50\n0.75    8.50\ndtype: float64"
     },
     "execution_count": 80,
     "metadata": {},
     "output_type": "execute_result"
    }
   ],
   "source": [
    "df.quantile([0.25,0.5,0.75])"
   ],
   "metadata": {
    "collapsed": false,
    "pycharm": {
     "name": "#%%\n"
    }
   }
  },
  {
   "cell_type": "code",
   "execution_count": null,
   "outputs": [],
   "source": [],
   "metadata": {
    "collapsed": false,
    "pycharm": {
     "name": "#%%\n"
    }
   }
  }
 ],
 "metadata": {
  "kernelspec": {
   "display_name": "Python 3",
   "language": "python",
   "name": "python3"
  },
  "language_info": {
   "codemirror_mode": {
    "name": "ipython",
    "version": 2
   },
   "file_extension": ".py",
   "mimetype": "text/x-python",
   "name": "python",
   "nbconvert_exporter": "python",
   "pygments_lexer": "ipython2",
   "version": "2.7.6"
  }
 },
 "nbformat": 4,
 "nbformat_minor": 0
}