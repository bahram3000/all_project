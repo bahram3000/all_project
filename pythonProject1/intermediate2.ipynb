{
 "cells": [
  {
   "cell_type": "code",
   "execution_count": 1,
   "metadata": {
    "collapsed": true
   },
   "outputs": [],
   "source": [
    "import numpy as np\n",
    "import pandas as pd\n",
    "import matplotlib.pyplot as plt\n",
    "import seaborn as sb"
   ]
  },
  {
   "cell_type": "code",
   "execution_count": 2,
   "outputs": [
    {
     "data": {
      "text/plain": "        name       os  capacity  ram  weight    company  inch\n0  galaxy s8  android        64    4   149.0    samsung   5.8\n1   lumia950  windows        32    3   150.0  microsoft   5.2\n2  xperia l1  android        16    2   180.0       sony   5.5\n3   iphone 7      ios       128    2   138.0      apple   4.7\n4    u ultra  android        64    4   170.0        htc   5.7\n5  galaxy s5  android        16    2   145.0    samsung   5.1\n6  iphone 5s      ios        32    1   112.0      apple   4.0\n7    moto g5  android        16    3   144.5   motorola   5.0\n8      pixel  android       128    4   143.0     google   5.0",
      "text/html": "<div>\n<style scoped>\n    .dataframe tbody tr th:only-of-type {\n        vertical-align: middle;\n    }\n\n    .dataframe tbody tr th {\n        vertical-align: top;\n    }\n\n    .dataframe thead th {\n        text-align: right;\n    }\n</style>\n<table border=\"1\" class=\"dataframe\">\n  <thead>\n    <tr style=\"text-align: right;\">\n      <th></th>\n      <th>name</th>\n      <th>os</th>\n      <th>capacity</th>\n      <th>ram</th>\n      <th>weight</th>\n      <th>company</th>\n      <th>inch</th>\n    </tr>\n  </thead>\n  <tbody>\n    <tr>\n      <th>0</th>\n      <td>galaxy s8</td>\n      <td>android</td>\n      <td>64</td>\n      <td>4</td>\n      <td>149.0</td>\n      <td>samsung</td>\n      <td>5.8</td>\n    </tr>\n    <tr>\n      <th>1</th>\n      <td>lumia950</td>\n      <td>windows</td>\n      <td>32</td>\n      <td>3</td>\n      <td>150.0</td>\n      <td>microsoft</td>\n      <td>5.2</td>\n    </tr>\n    <tr>\n      <th>2</th>\n      <td>xperia l1</td>\n      <td>android</td>\n      <td>16</td>\n      <td>2</td>\n      <td>180.0</td>\n      <td>sony</td>\n      <td>5.5</td>\n    </tr>\n    <tr>\n      <th>3</th>\n      <td>iphone 7</td>\n      <td>ios</td>\n      <td>128</td>\n      <td>2</td>\n      <td>138.0</td>\n      <td>apple</td>\n      <td>4.7</td>\n    </tr>\n    <tr>\n      <th>4</th>\n      <td>u ultra</td>\n      <td>android</td>\n      <td>64</td>\n      <td>4</td>\n      <td>170.0</td>\n      <td>htc</td>\n      <td>5.7</td>\n    </tr>\n    <tr>\n      <th>5</th>\n      <td>galaxy s5</td>\n      <td>android</td>\n      <td>16</td>\n      <td>2</td>\n      <td>145.0</td>\n      <td>samsung</td>\n      <td>5.1</td>\n    </tr>\n    <tr>\n      <th>6</th>\n      <td>iphone 5s</td>\n      <td>ios</td>\n      <td>32</td>\n      <td>1</td>\n      <td>112.0</td>\n      <td>apple</td>\n      <td>4.0</td>\n    </tr>\n    <tr>\n      <th>7</th>\n      <td>moto g5</td>\n      <td>android</td>\n      <td>16</td>\n      <td>3</td>\n      <td>144.5</td>\n      <td>motorola</td>\n      <td>5.0</td>\n    </tr>\n    <tr>\n      <th>8</th>\n      <td>pixel</td>\n      <td>android</td>\n      <td>128</td>\n      <td>4</td>\n      <td>143.0</td>\n      <td>google</td>\n      <td>5.0</td>\n    </tr>\n  </tbody>\n</table>\n</div>"
     },
     "execution_count": 2,
     "metadata": {},
     "output_type": "execute_result"
    }
   ],
   "source": [
    "smartphone_df=pd.read_csv(\"F:\\\\my project\\\\dataset\\\\smartphone.csv\")\n",
    "smartphone_df"
   ],
   "metadata": {
    "collapsed": false,
    "pycharm": {
     "name": "#%%\n"
    }
   }
  },
  {
   "cell_type": "code",
   "execution_count": 3,
   "outputs": [
    {
     "data": {
      "text/plain": "array([['galaxy s8', 'android', 64, 4, 149.0, 'samsung', 5.8],\n       ['lumia950', 'windows', 32, 3, 150.0, 'microsoft', 5.2],\n       ['xperia l1', 'android', 16, 2, 180.0, 'sony', 5.5],\n       ['iphone 7', 'ios', 128, 2, 138.0, 'apple', 4.7],\n       ['u ultra', 'android', 64, 4, 170.0, 'htc', 5.7],\n       ['galaxy s5', 'android', 16, 2, 145.0, 'samsung', 5.1],\n       ['iphone 5s', 'ios', 32, 1, 112.0, 'apple', 4.0],\n       ['moto g5', 'android', 16, 3, 144.5, 'motorola', 5.0],\n       ['pixel', 'android', 128, 4, 143.0, 'google', 5.0]], dtype=object)"
     },
     "execution_count": 3,
     "metadata": {},
     "output_type": "execute_result"
    }
   ],
   "source": [
    "val=smartphone_df.values\n",
    "val"
   ],
   "metadata": {
    "collapsed": false,
    "pycharm": {
     "name": "#%%\n"
    }
   }
  },
  {
   "cell_type": "code",
   "execution_count": 4,
   "outputs": [
    {
     "data": {
      "text/plain": "array(['pixel', 'android', 128, 4, 143.0, 'google', 5.0], dtype=object)"
     },
     "execution_count": 4,
     "metadata": {},
     "output_type": "execute_result"
    }
   ],
   "source": [
    "val[8]"
   ],
   "metadata": {
    "collapsed": false,
    "pycharm": {
     "name": "#%%\n"
    }
   }
  },
  {
   "cell_type": "code",
   "execution_count": 5,
   "outputs": [
    {
     "data": {
      "text/plain": "array([['galaxy s8', 'android', 64, 4, 149.0, 'samsung', 5.8],\n       ['lumia950', 'windows', 32, 3, 150.0, 'microsoft', 5.2],\n       ['xperia l1', 'android', 16, 2, 180.0, 'sony', 5.5],\n       ['iphone 7', 'ios', 128, 2, 138.0, 'apple', 4.7],\n       ['u ultra', 'android', 64, 4, 170.0, 'htc', 5.7],\n       ['galaxy s5', 'android', 16, 2, 145.0, 'samsung', 5.1],\n       ['iphone 5s', 'ios', 32, 1, 112.0, 'apple', 4.0],\n       ['moto g5', 'android', 16, 3, 144.5, 'motorola', 5.0],\n       ['pixel', 'android', 128, 4, 143.0, 'google', 5.0],\n       ['mi 8', 'android', 64, 4, 188.0, 'xiaomi', 6.2]], dtype=object)"
     },
     "execution_count": 5,
     "metadata": {},
     "output_type": "execute_result"
    }
   ],
   "source": [
    "val=np.insert(val,9,['mi 8','android',64,4,188.0,'xiaomi',6.2],axis=0)\n",
    "val"
   ],
   "metadata": {
    "collapsed": false,
    "pycharm": {
     "name": "#%%\n"
    }
   }
  },
  {
   "cell_type": "code",
   "execution_count": 6,
   "outputs": [
    {
     "data": {
      "text/plain": "        name       os capacity ram weight    company inch\n0  galaxy s8  android       64   4  149.0    samsung  5.8\n1   lumia950  windows       32   3  150.0  microsoft  5.2\n2  xperia l1  android       16   2  180.0       sony  5.5\n3   iphone 7      ios      128   2  138.0      apple  4.7\n4    u ultra  android       64   4  170.0        htc  5.7\n5  galaxy s5  android       16   2  145.0    samsung  5.1\n6  iphone 5s      ios       32   1  112.0      apple  4.0\n7    moto g5  android       16   3  144.5   motorola  5.0\n8      pixel  android      128   4  143.0     google  5.0\n9       mi 8  android       64   4  188.0     xiaomi  6.2",
      "text/html": "<div>\n<style scoped>\n    .dataframe tbody tr th:only-of-type {\n        vertical-align: middle;\n    }\n\n    .dataframe tbody tr th {\n        vertical-align: top;\n    }\n\n    .dataframe thead th {\n        text-align: right;\n    }\n</style>\n<table border=\"1\" class=\"dataframe\">\n  <thead>\n    <tr style=\"text-align: right;\">\n      <th></th>\n      <th>name</th>\n      <th>os</th>\n      <th>capacity</th>\n      <th>ram</th>\n      <th>weight</th>\n      <th>company</th>\n      <th>inch</th>\n    </tr>\n  </thead>\n  <tbody>\n    <tr>\n      <th>0</th>\n      <td>galaxy s8</td>\n      <td>android</td>\n      <td>64</td>\n      <td>4</td>\n      <td>149.0</td>\n      <td>samsung</td>\n      <td>5.8</td>\n    </tr>\n    <tr>\n      <th>1</th>\n      <td>lumia950</td>\n      <td>windows</td>\n      <td>32</td>\n      <td>3</td>\n      <td>150.0</td>\n      <td>microsoft</td>\n      <td>5.2</td>\n    </tr>\n    <tr>\n      <th>2</th>\n      <td>xperia l1</td>\n      <td>android</td>\n      <td>16</td>\n      <td>2</td>\n      <td>180.0</td>\n      <td>sony</td>\n      <td>5.5</td>\n    </tr>\n    <tr>\n      <th>3</th>\n      <td>iphone 7</td>\n      <td>ios</td>\n      <td>128</td>\n      <td>2</td>\n      <td>138.0</td>\n      <td>apple</td>\n      <td>4.7</td>\n    </tr>\n    <tr>\n      <th>4</th>\n      <td>u ultra</td>\n      <td>android</td>\n      <td>64</td>\n      <td>4</td>\n      <td>170.0</td>\n      <td>htc</td>\n      <td>5.7</td>\n    </tr>\n    <tr>\n      <th>5</th>\n      <td>galaxy s5</td>\n      <td>android</td>\n      <td>16</td>\n      <td>2</td>\n      <td>145.0</td>\n      <td>samsung</td>\n      <td>5.1</td>\n    </tr>\n    <tr>\n      <th>6</th>\n      <td>iphone 5s</td>\n      <td>ios</td>\n      <td>32</td>\n      <td>1</td>\n      <td>112.0</td>\n      <td>apple</td>\n      <td>4.0</td>\n    </tr>\n    <tr>\n      <th>7</th>\n      <td>moto g5</td>\n      <td>android</td>\n      <td>16</td>\n      <td>3</td>\n      <td>144.5</td>\n      <td>motorola</td>\n      <td>5.0</td>\n    </tr>\n    <tr>\n      <th>8</th>\n      <td>pixel</td>\n      <td>android</td>\n      <td>128</td>\n      <td>4</td>\n      <td>143.0</td>\n      <td>google</td>\n      <td>5.0</td>\n    </tr>\n    <tr>\n      <th>9</th>\n      <td>mi 8</td>\n      <td>android</td>\n      <td>64</td>\n      <td>4</td>\n      <td>188.0</td>\n      <td>xiaomi</td>\n      <td>6.2</td>\n    </tr>\n  </tbody>\n</table>\n</div>"
     },
     "execution_count": 6,
     "metadata": {},
     "output_type": "execute_result"
    }
   ],
   "source": [
    "smartphone_df=pd.DataFrame(val,columns=smartphone_df.columns)\n",
    "smartphone_df"
   ],
   "metadata": {
    "collapsed": false,
    "pycharm": {
     "name": "#%%\n"
    }
   }
  },
  {
   "cell_type": "code",
   "execution_count": 7,
   "outputs": [
    {
     "data": {
      "text/plain": "4    4\n2    3\n3    2\n1    1\nName: ram, dtype: int64"
     },
     "execution_count": 7,
     "metadata": {},
     "output_type": "execute_result"
    }
   ],
   "source": [
    "count=smartphone_df['ram'].value_counts()\n",
    "ind=count.index\n",
    "count"
   ],
   "metadata": {
    "collapsed": false,
    "pycharm": {
     "name": "#%%\n"
    }
   }
  },
  {
   "cell_type": "code",
   "execution_count": 8,
   "outputs": [
    {
     "data": {
      "text/plain": "pandas.core.series.Series"
     },
     "execution_count": 8,
     "metadata": {},
     "output_type": "execute_result"
    }
   ],
   "source": [
    "type(count)"
   ],
   "metadata": {
    "collapsed": false,
    "pycharm": {
     "name": "#%%\n"
    }
   }
  },
  {
   "cell_type": "code",
   "execution_count": 9,
   "outputs": [
    {
     "data": {
      "text/plain": "Text(0, 0.5, 'Count')"
     },
     "execution_count": 9,
     "metadata": {},
     "output_type": "execute_result"
    },
    {
     "data": {
      "text/plain": "<Figure size 640x480 with 1 Axes>",
      "image/png": "[encoded data removed]"
     },
     "metadata": {},
     "output_type": "display_data"
    }
   ],
   "source": [
    "plt.bar(ind,count)\n",
    "plt.xlabel('Ram')\n",
    "plt.ylabel('Count')"
   ],
   "metadata": {
    "collapsed": false,
    "pycharm": {
     "name": "#%%\n"
    }
   }
  },
  {
   "cell_type": "code",
   "execution_count": 10,
   "outputs": [],
   "source": [
    "def ECDF(data):\n",
    "    ln=len(data)\n",
    "    x=np.sort(data)\n",
    "    y=np.arange(1,ln+1)/ln\n",
    "    return x,y"
   ],
   "metadata": {
    "collapsed": false,
    "pycharm": {
     "name": "#%%\n"
    }
   }
  },
  {
   "cell_type": "code",
   "execution_count": 11,
   "outputs": [],
   "source": [
    "x,y=ECDF(smartphone_df.inch)"
   ],
   "metadata": {
    "collapsed": false,
    "pycharm": {
     "name": "#%%\n"
    }
   }
  },
  {
   "cell_type": "code",
   "execution_count": 12,
   "outputs": [
    {
     "data": {
      "text/plain": "[<matplotlib.lines.Line2D at 0x28df56a5000>]"
     },
     "execution_count": 12,
     "metadata": {},
     "output_type": "execute_result"
    },
    {
     "data": {
      "text/plain": "<Figure size 640x480 with 1 Axes>",
      "image/png": "[encoded data removed]"
     },
     "metadata": {},
     "output_type": "display_data"
    }
   ],
   "source": [
    "plt.scatter(x,y)\n",
    "plt.plot(x,[0.6]*len(x),c='red')"
   ],
   "metadata": {
    "collapsed": false,
    "pycharm": {
     "name": "#%%\n"
    }
   }
  },
  {
   "cell_type": "code",
   "execution_count": 13,
   "outputs": [
    {
     "data": {
      "text/plain": "5.220000000000001"
     },
     "execution_count": 13,
     "metadata": {},
     "output_type": "execute_result"
    }
   ],
   "source": [
    "np.mean(smartphone_df.inch)"
   ],
   "metadata": {
    "collapsed": false,
    "pycharm": {
     "name": "#%%\n"
    }
   }
  },
  {
   "cell_type": "code",
   "execution_count": 14,
   "outputs": [
    {
     "data": {
      "text/plain": "147.0"
     },
     "execution_count": 14,
     "metadata": {},
     "output_type": "execute_result"
    }
   ],
   "source": [
    "np.median(smartphone_df.weight)"
   ],
   "metadata": {
    "collapsed": false,
    "pycharm": {
     "name": "#%%\n"
    }
   }
  },
  {
   "cell_type": "code",
   "execution_count": 15,
   "outputs": [
    {
     "data": {
      "text/plain": "array([4.01575, 4.0315, 4.04725], dtype=object)"
     },
     "execution_count": 15,
     "metadata": {},
     "output_type": "execute_result"
    }
   ],
   "source": [
    "np.percentile(smartphone_df.inch,[0.25,0.5,0.75])"
   ],
   "metadata": {
    "collapsed": false,
    "pycharm": {
     "name": "#%%\n"
    }
   }
  },
  {
   "cell_type": "code",
   "execution_count": 16,
   "outputs": [
    {
     "data": {
      "text/plain": "0.3476"
     },
     "execution_count": 16,
     "metadata": {},
     "output_type": "execute_result"
    }
   ],
   "source": [
    "np.var(smartphone_df.inch)"
   ],
   "metadata": {
    "collapsed": false,
    "pycharm": {
     "name": "#%%\n"
    }
   }
  },
  {
   "cell_type": "code",
   "execution_count": 17,
   "outputs": [
    {
     "data": {
      "text/plain": "0.589576118919347"
     },
     "execution_count": 17,
     "metadata": {},
     "output_type": "execute_result"
    }
   ],
   "source": [
    "np.std(smartphone_df.inch)"
   ],
   "metadata": {
    "collapsed": false,
    "pycharm": {
     "name": "#%%\n"
    }
   }
  },
  {
   "cell_type": "code",
   "execution_count": 18,
   "outputs": [
    {
     "data": {
      "text/plain": "Text(0, 0.5, 'Weight')"
     },
     "execution_count": 18,
     "metadata": {},
     "output_type": "execute_result"
    },
    {
     "data": {
      "text/plain": "<Figure size 640x480 with 1 Axes>",
      "image/png": "[encoded data removed]"
     },
     "metadata": {},
     "output_type": "display_data"
    }
   ],
   "source": [
    "plt.scatter(smartphone_df.inch,smartphone_df.weight,s=50)\n",
    "plt.xlabel('Inch')\n",
    "plt.ylabel('Weight')"
   ],
   "metadata": {
    "collapsed": false,
    "pycharm": {
     "name": "#%%\n"
    }
   }
  },
  {
   "cell_type": "code",
   "execution_count": 19,
   "outputs": [
    {
     "data": {
      "text/plain": "<Figure size 640x480 with 1 Axes>",
      "image/png": "[encoded data removed]"
     },
     "metadata": {},
     "output_type": "display_data"
    }
   ],
   "source": [
    "sc_avg=np.mean(smartphone_df.inch)\n",
    "we_avg=np.mean(smartphone_df.weight)\n",
    "plt.scatter(smartphone_df.inch,smartphone_df.weight,s=50)\n",
    "plt.xlabel('Inch')\n",
    "plt.ylabel('Weight')\n",
    "plt.plot(smartphone_df.inch,[we_avg]*len(smartphone_df.inch),c='red')\n",
    "plt.plot([sc_avg]*len(smartphone_df.weight),smartphone_df.weight,c='green')\n",
    "plt.grid()"
   ],
   "metadata": {
    "collapsed": false,
    "pycharm": {
     "name": "#%%\n"
    }
   }
  },
  {
   "cell_type": "code",
   "execution_count": 20,
   "outputs": [
    {
     "data": {
      "text/plain": "numpy.ndarray"
     },
     "execution_count": 20,
     "metadata": {},
     "output_type": "execute_result"
    }
   ],
   "source": [
    "type(smartphone_df.inch.values)"
   ],
   "metadata": {
    "collapsed": false,
    "pycharm": {
     "name": "#%%\n"
    }
   }
  },
  {
   "cell_type": "code",
   "execution_count": 21,
   "outputs": [
    {
     "data": {
      "text/plain": "pandas.core.series.Series"
     },
     "execution_count": 21,
     "metadata": {},
     "output_type": "execute_result"
    }
   ],
   "source": [
    "type(smartphone_df.weight)"
   ],
   "metadata": {
    "collapsed": false,
    "pycharm": {
     "name": "#%%\n"
    }
   }
  },
  {
   "cell_type": "code",
   "execution_count": 22,
   "outputs": [],
   "source": [
    "def COV(data1,data2):\n",
    "    if len(data1) == len(data2):\n",
    "        dt1_m=np.mean(data1)\n",
    "        dt2_m=np.mean(data1)\n",
    "        cov=0\n",
    "        for i in range(len(data1)):\n",
    "            cov+=(data1[i]-dt1_m)*(data2[i]-dt2_m)\n",
    "        return cov/len(data1)"
   ],
   "metadata": {
    "collapsed": false,
    "pycharm": {
     "name": "#%%\n"
    }
   }
  },
  {
   "cell_type": "code",
   "execution_count": 23,
   "outputs": [
    {
     "data": {
      "text/plain": "11.06099999999991"
     },
     "execution_count": 23,
     "metadata": {},
     "output_type": "execute_result"
    }
   ],
   "source": [
    "#np.cov(smartphone_df['inch'],smartphone_df['weight'])\n",
    "COV(smartphone_df.inch,smartphone_df.weight)"
   ],
   "metadata": {
    "collapsed": false,
    "pycharm": {
     "name": "#%%\n"
    }
   }
  },
  {
   "cell_type": "code",
   "execution_count": 24,
   "outputs": [],
   "source": [
    "#np.corrcoef(smartphone_df.inch,smartphone_df.weight)"
   ],
   "metadata": {
    "collapsed": false,
    "pycharm": {
     "name": "#%%\n"
    }
   }
  },
  {
   "cell_type": "code",
   "execution_count": 25,
   "outputs": [
    {
     "data": {
      "text/plain": "<seaborn.axisgrid.PairGrid at 0x28df59724a0>"
     },
     "execution_count": 25,
     "metadata": {},
     "output_type": "execute_result"
    },
    {
     "data": {
      "text/plain": "<Figure size 1000x1000 with 20 Axes>",
      "image/png": "[encoded data removed]"
     },
     "metadata": {},
     "output_type": "display_data"
    }
   ],
   "source": [
    "sb.pairplot(smartphone_df)"
   ],
   "metadata": {
    "collapsed": false,
    "pycharm": {
     "name": "#%%\n"
    }
   }
  },
  {
   "cell_type": "code",
   "execution_count": 26,
   "outputs": [],
   "source": [
    "from scipy.stats import pearsonr"
   ],
   "metadata": {
    "collapsed": false,
    "pycharm": {
     "name": "#%%\n"
    }
   }
  },
  {
   "cell_type": "code",
   "execution_count": 27,
   "outputs": [
    {
     "data": {
      "text/plain": "PearsonRResult(statistic=0.8944713221023065, pvalue=0.00047684222045004635)"
     },
     "execution_count": 27,
     "metadata": {},
     "output_type": "execute_result"
    }
   ],
   "source": [
    "pearsonr(smartphone_df.inch,smartphone_df.weight)"
   ],
   "metadata": {
    "collapsed": false,
    "pycharm": {
     "name": "#%%\n"
    }
   }
  },
  {
   "cell_type": "code",
   "execution_count": 28,
   "outputs": [
    {
     "data": {
      "text/plain": "  weight inch\n0  149.0  5.8\n1  150.0  5.2\n2  180.0  5.5\n3  138.0  4.7\n4  170.0  5.7\n5  145.0  5.1\n6  112.0  4.0\n7  144.5  5.0\n8  143.0  5.0\n9  188.0  6.2",
      "text/html": "<div>\n<style scoped>\n    .dataframe tbody tr th:only-of-type {\n        vertical-align: middle;\n    }\n\n    .dataframe tbody tr th {\n        vertical-align: top;\n    }\n\n    .dataframe thead th {\n        text-align: right;\n    }\n</style>\n<table border=\"1\" class=\"dataframe\">\n  <thead>\n    <tr style=\"text-align: right;\">\n      <th></th>\n      <th>weight</th>\n      <th>inch</th>\n    </tr>\n  </thead>\n  <tbody>\n    <tr>\n      <th>0</th>\n      <td>149.0</td>\n      <td>5.8</td>\n    </tr>\n    <tr>\n      <th>1</th>\n      <td>150.0</td>\n      <td>5.2</td>\n    </tr>\n    <tr>\n      <th>2</th>\n      <td>180.0</td>\n      <td>5.5</td>\n    </tr>\n    <tr>\n      <th>3</th>\n      <td>138.0</td>\n      <td>4.7</td>\n    </tr>\n    <tr>\n      <th>4</th>\n      <td>170.0</td>\n      <td>5.7</td>\n    </tr>\n    <tr>\n      <th>5</th>\n      <td>145.0</td>\n      <td>5.1</td>\n    </tr>\n    <tr>\n      <th>6</th>\n      <td>112.0</td>\n      <td>4.0</td>\n    </tr>\n    <tr>\n      <th>7</th>\n      <td>144.5</td>\n      <td>5.0</td>\n    </tr>\n    <tr>\n      <th>8</th>\n      <td>143.0</td>\n      <td>5.0</td>\n    </tr>\n    <tr>\n      <th>9</th>\n      <td>188.0</td>\n      <td>6.2</td>\n    </tr>\n  </tbody>\n</table>\n</div>"
     },
     "execution_count": 28,
     "metadata": {},
     "output_type": "execute_result"
    }
   ],
   "source": [
    "num_var=smartphone_df.drop(['os','name','company','ram','capacity'],axis=1)\n",
    "num_var"
   ],
   "metadata": {
    "collapsed": false,
    "pycharm": {
     "name": "#%%\n"
    }
   }
  },
  {
   "cell_type": "code",
   "execution_count": 29,
   "outputs": [
    {
     "name": "stdout",
     "output_type": "stream",
     "text": [
      "<class 'float'>\n",
      "<class 'float'>\n",
      "<class 'float'>\n",
      "<class 'float'>\n",
      "<class 'float'>\n",
      "<class 'float'>\n",
      "<class 'float'>\n",
      "<class 'float'>\n",
      "<class 'float'>\n",
      "<class 'float'>\n",
      "<class 'float'>\n",
      "<class 'float'>\n",
      "<class 'float'>\n",
      "<class 'float'>\n",
      "<class 'float'>\n",
      "<class 'float'>\n",
      "<class 'float'>\n",
      "<class 'float'>\n",
      "<class 'float'>\n",
      "<class 'float'>\n"
     ]
    }
   ],
   "source": [
    "for i in num_var.columns:\n",
    "    for j in num_var.index:\n",
    "        print(type(num_var[i][j]))"
   ],
   "metadata": {
    "collapsed": false,
    "pycharm": {
     "name": "#%%\n"
    }
   }
  },
  {
   "cell_type": "code",
   "execution_count": 30,
   "outputs": [
    {
     "data": {
      "text/plain": "          weight      inch\nweight  1.000000  0.894471\ninch    0.894471  1.000000",
      "text/html": "<div>\n<style scoped>\n    .dataframe tbody tr th:only-of-type {\n        vertical-align: middle;\n    }\n\n    .dataframe tbody tr th {\n        vertical-align: top;\n    }\n\n    .dataframe thead th {\n        text-align: right;\n    }\n</style>\n<table border=\"1\" class=\"dataframe\">\n  <thead>\n    <tr style=\"text-align: right;\">\n      <th></th>\n      <th>weight</th>\n      <th>inch</th>\n    </tr>\n  </thead>\n  <tbody>\n    <tr>\n      <th>weight</th>\n      <td>1.000000</td>\n      <td>0.894471</td>\n    </tr>\n    <tr>\n      <th>inch</th>\n      <td>0.894471</td>\n      <td>1.000000</td>\n    </tr>\n  </tbody>\n</table>\n</div>"
     },
     "execution_count": 30,
     "metadata": {},
     "output_type": "execute_result"
    }
   ],
   "source": [
    "cor=num_var.corr(method='pearson',numeric_only=False)\n",
    "cor"
   ],
   "metadata": {
    "collapsed": false,
    "pycharm": {
     "name": "#%%\n"
    }
   }
  },
  {
   "cell_type": "code",
   "execution_count": 31,
   "outputs": [
    {
     "data": {
      "text/plain": "<AxesSubplot: >"
     },
     "execution_count": 31,
     "metadata": {},
     "output_type": "execute_result"
    },
    {
     "data": {
      "text/plain": "<Figure size 640x480 with 2 Axes>",
      "image/png": "[encoded data removed]"
     },
     "metadata": {},
     "output_type": "display_data"
    }
   ],
   "source": [
    "sb.heatmap(cor,vmin=-1,vmax=1)"
   ],
   "metadata": {
    "collapsed": false,
    "pycharm": {
     "name": "#%%\n"
    }
   }
  },
  {
   "cell_type": "code",
   "execution_count": 34,
   "outputs": [
    {
     "data": {
      "text/plain": "  capacity ram\n0       64   4\n1       32   3\n2       16   2\n3      128   2\n4       64   4\n5       16   2\n6       32   1\n7       16   3\n8      128   4\n9       64   4",
      "text/html": "<div>\n<style scoped>\n    .dataframe tbody tr th:only-of-type {\n        vertical-align: middle;\n    }\n\n    .dataframe tbody tr th {\n        vertical-align: top;\n    }\n\n    .dataframe thead th {\n        text-align: right;\n    }\n</style>\n<table border=\"1\" class=\"dataframe\">\n  <thead>\n    <tr style=\"text-align: right;\">\n      <th></th>\n      <th>capacity</th>\n      <th>ram</th>\n    </tr>\n  </thead>\n  <tbody>\n    <tr>\n      <th>0</th>\n      <td>64</td>\n      <td>4</td>\n    </tr>\n    <tr>\n      <th>1</th>\n      <td>32</td>\n      <td>3</td>\n    </tr>\n    <tr>\n      <th>2</th>\n      <td>16</td>\n      <td>2</td>\n    </tr>\n    <tr>\n      <th>3</th>\n      <td>128</td>\n      <td>2</td>\n    </tr>\n    <tr>\n      <th>4</th>\n      <td>64</td>\n      <td>4</td>\n    </tr>\n    <tr>\n      <th>5</th>\n      <td>16</td>\n      <td>2</td>\n    </tr>\n    <tr>\n      <th>6</th>\n      <td>32</td>\n      <td>1</td>\n    </tr>\n    <tr>\n      <th>7</th>\n      <td>16</td>\n      <td>3</td>\n    </tr>\n    <tr>\n      <th>8</th>\n      <td>128</td>\n      <td>4</td>\n    </tr>\n    <tr>\n      <th>9</th>\n      <td>64</td>\n      <td>4</td>\n    </tr>\n  </tbody>\n</table>\n</div>"
     },
     "execution_count": 34,
     "metadata": {},
     "output_type": "execute_result"
    }
   ],
   "source": [
    "categor=smartphone_df.drop(['name','company','inch','weight','os'],axis=1)\n",
    "categor"
   ],
   "metadata": {
    "collapsed": false,
    "pycharm": {
     "name": "#%%\n"
    }
   }
  },
  {
   "cell_type": "code",
   "execution_count": 35,
   "outputs": [],
   "source": [
    "from scipy.stats import spearmanr"
   ],
   "metadata": {
    "collapsed": false,
    "pycharm": {
     "name": "#%%\n"
    }
   }
  },
  {
   "cell_type": "code",
   "execution_count": 36,
   "outputs": [
    {
     "data": {
      "text/plain": "SpearmanrResult(correlation=0.4918693768379647, pvalue=0.14873886557596294)"
     },
     "execution_count": 36,
     "metadata": {},
     "output_type": "execute_result"
    }
   ],
   "source": [
    "spearmanr(categor.capacity,categor.ram)"
   ],
   "metadata": {
    "collapsed": false,
    "pycharm": {
     "name": "#%%\n"
    }
   }
  },
  {
   "cell_type": "code",
   "execution_count": 37,
   "outputs": [
    {
     "data": {
      "text/plain": "ram       1  2  3  4\ncapacity            \n16        0  2  1  0\n32        1  0  1  0\n64        0  0  0  3\n128       0  1  0  1",
      "text/html": "<div>\n<style scoped>\n    .dataframe tbody tr th:only-of-type {\n        vertical-align: middle;\n    }\n\n    .dataframe tbody tr th {\n        vertical-align: top;\n    }\n\n    .dataframe thead th {\n        text-align: right;\n    }\n</style>\n<table border=\"1\" class=\"dataframe\">\n  <thead>\n    <tr style=\"text-align: right;\">\n      <th>ram</th>\n      <th>1</th>\n      <th>2</th>\n      <th>3</th>\n      <th>4</th>\n    </tr>\n    <tr>\n      <th>capacity</th>\n      <th></th>\n      <th></th>\n      <th></th>\n      <th></th>\n    </tr>\n  </thead>\n  <tbody>\n    <tr>\n      <th>16</th>\n      <td>0</td>\n      <td>2</td>\n      <td>1</td>\n      <td>0</td>\n    </tr>\n    <tr>\n      <th>32</th>\n      <td>1</td>\n      <td>0</td>\n      <td>1</td>\n      <td>0</td>\n    </tr>\n    <tr>\n      <th>64</th>\n      <td>0</td>\n      <td>0</td>\n      <td>0</td>\n      <td>3</td>\n    </tr>\n    <tr>\n      <th>128</th>\n      <td>0</td>\n      <td>1</td>\n      <td>0</td>\n      <td>1</td>\n    </tr>\n  </tbody>\n</table>\n</div>"
     },
     "execution_count": 37,
     "metadata": {},
     "output_type": "execute_result"
    }
   ],
   "source": [
    "table_obs=pd.crosstab(smartphone_df.capacity,smartphone_df.ram)\n",
    "table_obs"
   ],
   "metadata": {
    "collapsed": false,
    "pycharm": {
     "name": "#%%\n"
    }
   }
  },
  {
   "cell_type": "code",
   "execution_count": 38,
   "outputs": [],
   "source": [
    "from scipy.stats import chi2_contingency"
   ],
   "metadata": {
    "collapsed": false,
    "pycharm": {
     "name": "#%%\n"
    }
   }
  },
  {
   "cell_type": "code",
   "execution_count": 39,
   "outputs": [
    {
     "data": {
      "text/plain": "14.02777777777778"
     },
     "execution_count": 39,
     "metadata": {},
     "output_type": "execute_result"
    }
   ],
   "source": [
    "chi,p_val,dof,table_ex=chi2_contingency(table_obs)\n",
    "chi"
   ],
   "metadata": {
    "collapsed": false,
    "pycharm": {
     "name": "#%%\n"
    }
   }
  },
  {
   "cell_type": "code",
   "execution_count": 40,
   "outputs": [
    {
     "data": {
      "text/plain": "0.12134054393107417"
     },
     "execution_count": 40,
     "metadata": {},
     "output_type": "execute_result"
    }
   ],
   "source": [
    "p_val"
   ],
   "metadata": {
    "collapsed": false,
    "pycharm": {
     "name": "#%%\n"
    }
   }
  },
  {
   "cell_type": "code",
   "execution_count": 41,
   "outputs": [
    {
     "data": {
      "text/plain": "array([[0.3, 0.9, 0.6, 1.2],\n       [0.2, 0.6, 0.4, 0.8],\n       [0.3, 0.9, 0.6, 1.2],\n       [0.2, 0.6, 0.4, 0.8]])"
     },
     "execution_count": 41,
     "metadata": {},
     "output_type": "execute_result"
    }
   ],
   "source": [
    "table_ex"
   ],
   "metadata": {
    "collapsed": false,
    "pycharm": {
     "name": "#%%\n"
    }
   }
  },
  {
   "cell_type": "code",
   "execution_count": 60,
   "outputs": [],
   "source": [
    "num_of_test=1000\n",
    "num_of_size_test=100000\n",
    "test=np.zeros((num_of_test,1))\n",
    "for i in range(num_of_test):\n",
    "    samp=np.random.random(num_of_size_test)\n",
    "    samp2=samp>0.5\n",
    "    num_of_head=sum(samp2)\n",
    "    test[i]=num_of_head/num_of_size_test"
   ],
   "metadata": {
    "collapsed": false,
    "pycharm": {
     "name": "#%%\n"
    }
   }
  },
  {
   "cell_type": "code",
   "execution_count": 61,
   "outputs": [
    {
     "data": {
      "text/plain": "0.49998366999999994"
     },
     "execution_count": 61,
     "metadata": {},
     "output_type": "execute_result"
    }
   ],
   "source": [
    "np.mean(test)"
   ],
   "metadata": {
    "collapsed": false,
    "pycharm": {
     "name": "#%%\n"
    }
   }
  },
  {
   "cell_type": "code",
   "execution_count": 67,
   "outputs": [
    {
     "data": {
      "text/plain": "<seaborn.axisgrid.FacetGrid at 0x28dfab94e50>"
     },
     "execution_count": 67,
     "metadata": {},
     "output_type": "execute_result"
    },
    {
     "data": {
      "text/plain": "<Figure size 500x500 with 1 Axes>",
      "image/png": "[encoded data removed]"
     },
     "metadata": {},
     "output_type": "display_data"
    }
   ],
   "source": [
    "std_samp=np.random.standard_normal(100000)\n",
    "sb.displot(std_samp)"
   ],
   "metadata": {
    "collapsed": false,
    "pycharm": {
     "name": "#%%\n"
    }
   }
  },
  {
   "cell_type": "code",
   "execution_count": null,
   "outputs": [],
   "source": [],
   "metadata": {
    "collapsed": false,
    "pycharm": {
     "name": "#%%\n"
    }
   }
  }
 ],
 "metadata": {
  "kernelspec": {
   "display_name": "Python 3",
   "language": "python",
   "name": "python3"
  },
  "language_info": {
   "codemirror_mode": {
    "name": "ipython",
    "version": 2
   },
   "file_extension": ".py",
   "mimetype": "text/x-python",
   "name": "python",
   "nbconvert_exporter": "python",
   "pygments_lexer": "ipython2",
   "version": "2.7.6"
  }
 },
 "nbformat": 4,
 "nbformat_minor": 0
}