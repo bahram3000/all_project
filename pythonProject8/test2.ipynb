{
 "cells": [
  {
   "cell_type": "code",
   "execution_count": 1,
   "metadata": {
    "collapsed": true,
    "pycharm": {
     "name": "#%%\n"
    }
   },
   "outputs": [],
   "source": [
    "import numpy as np\n",
    "import pandas as pd"
   ]
  },
  {
   "cell_type": "code",
   "execution_count": 2,
   "outputs": [
    {
     "data": {
      "text/plain": "          DATE  RGDPNACNA666NRUG\n0   1952-01-01      5.574683e+05\n1   1953-01-01      6.304671e+05\n2   1954-01-01      5.867514e+05\n3   1955-01-01      6.415814e+05\n4   1956-01-01      6.954602e+05\n..         ...               ...\n63  2015-01-01      1.837937e+07\n64  2016-01-01      1.913242e+07\n65  2017-01-01      1.968716e+07\n66  2018-01-01      1.984130e+07\n67  2019-01-01      2.057261e+07\n\n[68 rows x 2 columns]",
      "text/html": "<div>\n<style scoped>\n    .dataframe tbody tr th:only-of-type {\n        vertical-align: middle;\n    }\n\n    .dataframe tbody tr th {\n        vertical-align: top;\n    }\n\n    .dataframe thead th {\n        text-align: right;\n    }\n</style>\n<table border=\"1\" class=\"dataframe\">\n  <thead>\n    <tr style=\"text-align: right;\">\n      <th></th>\n      <th>DATE</th>\n      <th>RGDPNACNA666NRUG</th>\n    </tr>\n  </thead>\n  <tbody>\n    <tr>\n      <th>0</th>\n      <td>1952-01-01</td>\n      <td>5.574683e+05</td>\n    </tr>\n    <tr>\n      <th>1</th>\n      <td>1953-01-01</td>\n      <td>6.304671e+05</td>\n    </tr>\n    <tr>\n      <th>2</th>\n      <td>1954-01-01</td>\n      <td>5.867514e+05</td>\n    </tr>\n    <tr>\n      <th>3</th>\n      <td>1955-01-01</td>\n      <td>6.415814e+05</td>\n    </tr>\n    <tr>\n      <th>4</th>\n      <td>1956-01-01</td>\n      <td>6.954602e+05</td>\n    </tr>\n    <tr>\n      <th>...</th>\n      <td>...</td>\n      <td>...</td>\n    </tr>\n    <tr>\n      <th>63</th>\n      <td>2015-01-01</td>\n      <td>1.837937e+07</td>\n    </tr>\n    <tr>\n      <th>64</th>\n      <td>2016-01-01</td>\n      <td>1.913242e+07</td>\n    </tr>\n    <tr>\n      <th>65</th>\n      <td>2017-01-01</td>\n      <td>1.968716e+07</td>\n    </tr>\n    <tr>\n      <th>66</th>\n      <td>2018-01-01</td>\n      <td>1.984130e+07</td>\n    </tr>\n    <tr>\n      <th>67</th>\n      <td>2019-01-01</td>\n      <td>2.057261e+07</td>\n    </tr>\n  </tbody>\n</table>\n<p>68 rows × 2 columns</p>\n</div>"
     },
     "execution_count": 2,
     "metadata": {},
     "output_type": "execute_result"
    }
   ],
   "source": [
    "data = pd.read_csv('F:\\my project\\dataset\\learning_dataset\\\\RGDPNACNA666NRUG.csv')\n",
    "data"
   ],
   "metadata": {
    "collapsed": false,
    "pycharm": {
     "name": "#%%\n"
    }
   }
  },
  {
   "cell_type": "code",
   "execution_count": 3,
   "outputs": [],
   "source": [
    "x = data.DATE.values\n",
    "y = data.RGDPNACNA666NRUG.values"
   ],
   "metadata": {
    "collapsed": false,
    "pycharm": {
     "name": "#%%\n"
    }
   }
  },
  {
   "cell_type": "code",
   "execution_count": 4,
   "outputs": [
    {
     "data": {
      "text/plain": "'1952'"
     },
     "execution_count": 4,
     "metadata": {},
     "output_type": "execute_result"
    }
   ],
   "source": [
    "x[0][:4]"
   ],
   "metadata": {
    "collapsed": false,
    "pycharm": {
     "name": "#%%\n"
    }
   }
  },
  {
   "cell_type": "code",
   "execution_count": 5,
   "outputs": [],
   "source": [
    "x = np.array([int(i[:4]) for i in x])"
   ],
   "metadata": {
    "collapsed": false,
    "pycharm": {
     "name": "#%%\n"
    }
   }
  },
  {
   "cell_type": "code",
   "execution_count": 6,
   "outputs": [],
   "source": [
    "x = x / np.max(x)\n",
    "y = y / np.max(y)"
   ],
   "metadata": {
    "collapsed": false,
    "pycharm": {
     "name": "#%%\n"
    }
   }
  },
  {
   "cell_type": "code",
   "execution_count": 7,
   "outputs": [],
   "source": [
    "import matplotlib.pyplot as plt"
   ],
   "metadata": {
    "collapsed": false,
    "pycharm": {
     "name": "#%%\n"
    }
   }
  },
  {
   "cell_type": "code",
   "execution_count": 8,
   "outputs": [
    {
     "data": {
      "text/plain": "[<matplotlib.lines.Line2D at 0x27292245690>]"
     },
     "execution_count": 8,
     "metadata": {},
     "output_type": "execute_result"
    },
    {
     "data": {
      "text/plain": "<Figure size 640x480 with 1 Axes>",
      "image/png": "[encoded data removed]"
     },
     "metadata": {},
     "output_type": "display_data"
    }
   ],
   "source": [
    "plt.plot(x, y, 'ro')"
   ],
   "metadata": {
    "collapsed": false,
    "pycharm": {
     "name": "#%%\n"
    }
   }
  },
  {
   "cell_type": "code",
   "execution_count": 9,
   "outputs": [
    {
     "data": {
      "text/plain": "array([0.96681526, 0.96731055, 0.96780584, 0.96830114, 0.96879643,\n       0.96929173, 0.96978702, 0.97028232, 0.97077761, 0.97127291,\n       0.9717682 , 0.9722635 , 0.97275879, 0.97325409, 0.97374938,\n       0.97424468, 0.97473997, 0.97523526, 0.97573056, 0.97622585,\n       0.97672115, 0.97721644, 0.97771174, 0.97820703, 0.97870233,\n       0.97919762, 0.97969292, 0.98018821, 0.98068351, 0.9811788 ,\n       0.9816741 , 0.98216939, 0.98266469, 0.98315998, 0.98365527,\n       0.98415057, 0.98464586, 0.98514116, 0.98563645, 0.98613175,\n       0.98662704, 0.98712234, 0.98761763, 0.98811293, 0.98860822,\n       0.98910352, 0.98959881, 0.99009411, 0.9905894 , 0.9910847 ,\n       0.99157999, 0.99207528, 0.99257058, 0.99306587, 0.99356117,\n       0.99405646, 0.99455176, 0.99504705, 0.99554235, 0.99603764,\n       0.99653294, 0.99702823, 0.99752353, 0.99801882, 0.99851412,\n       0.99900941, 0.99950471, 1.        ])"
     },
     "execution_count": 9,
     "metadata": {},
     "output_type": "execute_result"
    }
   ],
   "source": [
    "x"
   ],
   "metadata": {
    "collapsed": false,
    "pycharm": {
     "name": "#%%\n"
    }
   }
  },
  {
   "cell_type": "code",
   "execution_count": 10,
   "outputs": [
    {
     "data": {
      "text/plain": "array([0.0270976 , 0.03064595, 0.028521  , 0.0311862 , 0.03380516,\n       0.03493604, 0.03595244, 0.03521484, 0.03352939, 0.02713829,\n       0.02874533, 0.03292888, 0.03751022, 0.04168199, 0.04303542,\n       0.0432296 , 0.04209415, 0.04634611, 0.05275662, 0.0574772 ,\n       0.05704585, 0.06131087, 0.06315929, 0.06764879, 0.0656155 ,\n       0.06944998, 0.07751877, 0.08359578, 0.08772484, 0.09048932,\n       0.09875778, 0.10588181, 0.1173877 , 0.12649575, 0.13516037,\n       0.14623757, 0.15272883, 0.15329457, 0.15385858, 0.160431  ,\n       0.17286958, 0.19059145, 0.20689314, 0.22637805, 0.24259119,\n       0.25640869, 0.25791577, 0.27090326, 0.28981516, 0.30967953,\n       0.33879145, 0.36441246, 0.399843  , 0.43843551, 0.4852238 ,\n       0.53356152, 0.5646464 , 0.61139153, 0.67795538, 0.72515922,\n       0.749346  , 0.80507195, 0.86093527, 0.89339027, 0.92999477,\n       0.95696005, 0.96445224, 1.        ])"
     },
     "execution_count": 10,
     "metadata": {},
     "output_type": "execute_result"
    }
   ],
   "source": [
    "y"
   ],
   "metadata": {
    "collapsed": false,
    "pycharm": {
     "name": "#%%\n"
    }
   }
  },
  {
   "cell_type": "code",
   "execution_count": 11,
   "outputs": [],
   "source": [
    "from scipy.optimize import curve_fit"
   ],
   "metadata": {
    "collapsed": false,
    "pycharm": {
     "name": "#%%\n"
    }
   }
  },
  {
   "cell_type": "code",
   "execution_count": 12,
   "outputs": [],
   "source": [
    "def sigmoid(inp, a, b, c, d, e):\n",
    "    return a + (b / c + np.exp(d * inp + e))"
   ],
   "metadata": {
    "collapsed": false,
    "pycharm": {
     "name": "#%%\n"
    }
   }
  },
  {
   "cell_type": "code",
   "execution_count": 13,
   "outputs": [
    {
     "data": {
      "text/plain": "array([-10.        ,  -9.7979798 ,  -9.5959596 ,  -9.39393939,\n        -9.19191919,  -8.98989899,  -8.78787879,  -8.58585859,\n        -8.38383838,  -8.18181818,  -7.97979798,  -7.77777778,\n        -7.57575758,  -7.37373737,  -7.17171717,  -6.96969697,\n        -6.76767677,  -6.56565657,  -6.36363636,  -6.16161616,\n        -5.95959596,  -5.75757576,  -5.55555556,  -5.35353535,\n        -5.15151515,  -4.94949495,  -4.74747475,  -4.54545455,\n        -4.34343434,  -4.14141414,  -3.93939394,  -3.73737374,\n        -3.53535354,  -3.33333333,  -3.13131313,  -2.92929293,\n        -2.72727273,  -2.52525253,  -2.32323232,  -2.12121212,\n        -1.91919192,  -1.71717172,  -1.51515152,  -1.31313131,\n        -1.11111111,  -0.90909091,  -0.70707071,  -0.50505051,\n        -0.3030303 ,  -0.1010101 ,   0.1010101 ,   0.3030303 ,\n         0.50505051,   0.70707071,   0.90909091,   1.11111111,\n         1.31313131,   1.51515152,   1.71717172,   1.91919192,\n         2.12121212,   2.32323232,   2.52525253,   2.72727273,\n         2.92929293,   3.13131313,   3.33333333,   3.53535354,\n         3.73737374,   3.93939394,   4.14141414,   4.34343434,\n         4.54545455,   4.74747475,   4.94949495,   5.15151515,\n         5.35353535,   5.55555556,   5.75757576,   5.95959596,\n         6.16161616,   6.36363636,   6.56565657,   6.76767677,\n         6.96969697,   7.17171717,   7.37373737,   7.57575758,\n         7.77777778,   7.97979798,   8.18181818,   8.38383838,\n         8.58585859,   8.78787879,   8.98989899,   9.19191919,\n         9.39393939,   9.5959596 ,   9.7979798 ,  10.        ])"
     },
     "execution_count": 13,
     "metadata": {},
     "output_type": "execute_result"
    }
   ],
   "source": [
    "u=np.linspace(-10,10,100)\n",
    "u"
   ],
   "metadata": {
    "collapsed": false,
    "pycharm": {
     "name": "#%%\n"
    }
   }
  },
  {
   "cell_type": "code",
   "execution_count": 14,
   "outputs": [
    {
     "data": {
      "text/plain": "-10.0"
     },
     "execution_count": 14,
     "metadata": {},
     "output_type": "execute_result"
    }
   ],
   "source": [
    "u[0]"
   ],
   "metadata": {
    "collapsed": false,
    "pycharm": {
     "name": "#%%\n"
    }
   }
  },
  {
   "cell_type": "code",
   "execution_count": 15,
   "outputs": [
    {
     "data": {
      "text/plain": "2.000123409804087"
     },
     "execution_count": 15,
     "metadata": {},
     "output_type": "execute_result"
    }
   ],
   "source": [
    "sigmoid(u[0],1,1,1,1,1)"
   ],
   "metadata": {
    "collapsed": false,
    "pycharm": {
     "name": "#%%\n"
    }
   }
  },
  {
   "cell_type": "code",
   "execution_count": 16,
   "outputs": [],
   "source": [
    "z=[sigmoid(i,1,1,1,1,1) for i in u]"
   ],
   "metadata": {
    "collapsed": false,
    "pycharm": {
     "name": "#%%\n"
    }
   }
  },
  {
   "cell_type": "code",
   "execution_count": 17,
   "outputs": [
    {
     "data": {
      "text/plain": "[2.000123409804087,\n 2.0001510378941525,\n 2.0001848511602374,\n 2.000226234294597,\n 2.0002768819843277,\n 2.000338868310757,\n 2.0004147316854652,\n 2.0005075788011712,\n 2.0006212118543805,\n 2.000760284249721,\n 2.000930491162231,\n 2.0011388027613455,\n 2.001393749647379,\n 2.001705772189447,\n 2.0020876480706287,\n 2.0025550155488308,\n 2.003127013861489,\n 2.003827066999424,\n 2.004683842946288,\n 2.0057324276655706,\n 2.007015761911283,\n 2.0085863997013753,\n 2.010508660465403,\n 2.0128612629993725,\n 2.015740549091257,\n 2.0192644288283628,\n 2.0235772091514397,\n 2.028855503390388,\n 2.0353154637838835,\n 2.043221633162921,\n 2.0528977782849522,\n 2.0647401484561314,\n 2.079233702397558,\n 2.096971967864405,\n 2.1186813472922483,\n 2.145250864814856,\n 2.1777685728281377,\n 2.217566108991048,\n 2.266273228324035,\n 2.325884543557384,\n 2.3988412068237137,\n 2.488130877654176,\n 2.59741007108313,\n 2.731153896157336,\n 2.89483931681437,\n 3.095169439874663,\n 3.340348014999205,\n 3.6404153877028502,\n 4.007659663086746,\n 4.457119917919057,\n 5.007202068179263,\n 5.680432612552513,\n 6.504381118539669,\n 7.512789228053606,\n 8.74695241658339,\n 10.257411090558366,\n 12.10602027530003,\n 14.368482649671398,\n 17.13744865811487,\n 20.52631065324346,\n 24.67384644350135,\n 29.74990240452829,\n 35.96234888419442,\n 43.56559273316661,\n 52.87099555895319,\n 64.25962434295072,\n 78.19785657297064,\n 95.25647893942659,\n 116.13406170882634,\n 141.68556598212774,\n 172.95735533819555,\n 211.2300456295493,\n 258.07094767897706,\n 315.3982504659393,\n 385.55957317830155,\n 471.4281029265339,\n 576.5202550706955,\n 705.1396744863268,\n 862.5534747872388,\n 1055.207932704685,\n 1290.992470556612,\n 1579.5627371936162,\n 1932.736017959161,\n 2364.975166158036,\n 2893.9808735850097,\n 3541.416534275245,\n 4333.795385483104,\n 5303.56625533622,\n 6490.442379783647,\n 7943.027705425214,\n 9720.807277199481,\n 11896.583219602078,\n 14559.456067675752,\n 17818.47353671631,\n 21807.096152022383,\n 26688.662611380732,\n 32663.078693185013,\n 39975.00362869271,\n 48923.869179810295,\n 59876.14171519782]"
     },
     "execution_count": 17,
     "metadata": {},
     "output_type": "execute_result"
    }
   ],
   "source": [
    "z"
   ],
   "metadata": {
    "collapsed": false,
    "pycharm": {
     "name": "#%%\n"
    }
   }
  },
  {
   "cell_type": "code",
   "execution_count": 18,
   "outputs": [
    {
     "data": {
      "text/plain": "[<matplotlib.lines.Line2D at 0x27295f7d150>]"
     },
     "execution_count": 18,
     "metadata": {},
     "output_type": "execute_result"
    },
    {
     "data": {
      "text/plain": "<Figure size 640x480 with 1 Axes>",
      "image/png": "[encoded data removed]"
     },
     "metadata": {},
     "output_type": "display_data"
    }
   ],
   "source": [
    "plt.plot(z)"
   ],
   "metadata": {
    "collapsed": false,
    "pycharm": {
     "name": "#%%\n"
    }
   }
  },
  {
   "cell_type": "code",
   "execution_count": 19,
   "outputs": [
    {
     "data": {
      "text/plain": "array([   1.7198337 ,   10.73699516,   -6.24913303,  130.04363182,\n       -129.94750955])"
     },
     "execution_count": 19,
     "metadata": {},
     "output_type": "execute_result"
    }
   ],
   "source": [
    "param,error=curve_fit(sigmoid,x,y)\n",
    "param"
   ],
   "metadata": {
    "collapsed": false,
    "pycharm": {
     "name": "#%%\n"
    }
   }
  },
  {
   "cell_type": "code",
   "execution_count": 20,
   "outputs": [
    {
     "data": {
      "text/plain": "array([[ 1.69359106e+12, -8.34665412e+17,  4.85796804e+17,\n        -3.64641898e+05,  3.65904525e+05],\n       [-8.34665412e+17,  2.09354531e+26, -1.21848196e+26,\n         8.72539657e+12, -8.73601570e+12],\n       [ 4.85796804e+17, -1.21848196e+26,  7.09178963e+25,\n        -5.07834285e+12,  5.08452338e+12],\n       [-3.64641898e+05,  8.72539657e+12, -5.07834285e+12,\n         1.48915752e+01, -1.48799694e+01],\n       [ 3.65904525e+05, -8.73601570e+12,  5.08452338e+12,\n        -1.48799694e+01,  1.48685108e+01]])"
     },
     "execution_count": 20,
     "metadata": {},
     "output_type": "execute_result"
    }
   ],
   "source": [
    "error"
   ],
   "metadata": {
    "collapsed": false,
    "pycharm": {
     "name": "#%%\n"
    }
   }
  },
  {
   "cell_type": "code",
   "execution_count": 21,
   "outputs": [],
   "source": [
    "pr=[sigmoid(i,param[0],param[1],param[2],param[3],param[4]) for i in x]"
   ],
   "metadata": {
    "collapsed": false,
    "pycharm": {
     "name": "#%%\n"
    }
   }
  },
  {
   "cell_type": "code",
   "execution_count": 22,
   "outputs": [
    {
     "data": {
      "text/plain": "[<matplotlib.lines.Line2D at 0x2729c3272e0>]"
     },
     "execution_count": 22,
     "metadata": {},
     "output_type": "execute_result"
    },
    {
     "data": {
      "text/plain": "<Figure size 640x480 with 1 Axes>",
      "image/png": "[encoded data removed]"
     },
     "metadata": {},
     "output_type": "display_data"
    }
   ],
   "source": [
    "plt.plot(x,y,'ro')\n",
    "plt.plot(x,pr)"
   ],
   "metadata": {
    "collapsed": false,
    "pycharm": {
     "name": "#%%\n"
    }
   }
  },
  {
   "cell_type": "code",
   "execution_count": 23,
   "outputs": [
    {
     "data": {
      "text/plain": "(68,)"
     },
     "execution_count": 23,
     "metadata": {},
     "output_type": "execute_result"
    }
   ],
   "source": [
    "x.shape"
   ],
   "metadata": {
    "collapsed": false,
    "pycharm": {
     "name": "#%%\n"
    }
   }
  },
  {
   "cell_type": "code",
   "execution_count": 24,
   "outputs": [
    {
     "data": {
      "text/plain": "(68,)"
     },
     "execution_count": 24,
     "metadata": {},
     "output_type": "execute_result"
    }
   ],
   "source": [
    "y.shape"
   ],
   "metadata": {
    "collapsed": false,
    "pycharm": {
     "name": "#%%\n"
    }
   }
  },
  {
   "cell_type": "code",
   "execution_count": null,
   "outputs": [],
   "source": [],
   "metadata": {
    "collapsed": false,
    "pycharm": {
     "name": "#%%\n"
    }
   }
  }
 ],
 "metadata": {
  "kernelspec": {
   "display_name": "Python 3",
   "language": "python",
   "name": "python3"
  },
  "language_info": {
   "codemirror_mode": {
    "name": "ipython",
    "version": 2
   },
   "file_extension": ".py",
   "mimetype": "text/x-python",
   "name": "python",
   "nbconvert_exporter": "python",
   "pygments_lexer": "ipython2",
   "version": "2.7.6"
  }
 },
 "nbformat": 4,
 "nbformat_minor": 0
}