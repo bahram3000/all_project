{
 "cells": [
  {
   "cell_type": "code",
   "execution_count": 15,
   "metadata": {
    "collapsed": true,
    "pycharm": {
     "name": "#%%\n"
    }
   },
   "outputs": [],
   "source": [
    "import numpy as np\n",
    "import pandas as pd\n",
    "import matplotlib.pyplot as plt\n",
    "import seaborn as sb\n",
    "from scipy.stats import skew, kurtosis"
   ]
  },
  {
   "cell_type": "code",
   "execution_count": 16,
   "outputs": [],
   "source": [
    "data = pd.read_excel('F:\\my project\\data\\divar_kashan_real_state\\\\out_data.xlsx')"
   ],
   "metadata": {
    "collapsed": false,
    "pycharm": {
     "name": "#%%\n"
    }
   }
  },
  {
   "cell_type": "code",
   "execution_count": 17,
   "outputs": [
    {
     "data": {
      "text/plain": "      Unnamed: 0       date                                          address  \\\n0              0        NaN               زمین فرهنگیان خاتم النبیا جانبازان   \n1              1        NaN                                       زمین فروشی   \n2              2        NaN                               زمین مسکونی ۳۵۰متر   \n3              3        NaN  ۵۰۰ متر زمین با کاربری مسکونی  گیلان ، شهر تالش   \n4              4        NaN                 زمین فروشی خیابان نطنز میدان ۹دی   \n...          ...        ...                                              ...   \n3331          60  2024-2-17       زمین قمصر سه بر ۵۰۵ متر سند ششدانگ ،پروانه   \n3332          61  2024-1-24                                       زمین فروشی   \n3333          62  2024-2-17                           زمین درشهرک بسیج راوند   \n3334          63  2024-2-17                                    زمین هفت ماهه   \n3335          64  2024-2-17                          زمین آینده دار 187 متری   \n\n                                            description  area         price  \n0     200 متر زمین دارای پروانه و پرداختی شهرداری\\nق...   200  1.700000e+09  \n1     آگهی دهنده:بنگاهی نیستم\\n.\\n.\\n.\\nزمین دارای س...   156  4.800000e+09  \n2     زمین مسکونی ۳۵۰متر درروستای ویدجا دوبر به فروش...   350  7.500000e+08  \n3     با سلام زمین با مساحت ۵۰۰ متر با کاربری مسکونی...   500  3.600000e+09  \n4     باسلام زمین فروشی خیابان نطنز میدان۹دی بلوار ت...   143  6.440000e+08  \n...                                                 ...   ...           ...  \n3331                     محدوده چهارراه علوی خیابان فیض   500  4.500000e+09  \n3332  آگهی دهنده:بنگاهی نیستم\\n.\\n.\\n.\\nزمین دارای س...   156  4.500000e+09  \n3333  یک قطعه زمین از۵۰۰قواره زمینهای شهرک بسیج شهرد...   152  4.000000e+08  \n3334  سلام\\nمتراژ 130متر\\nسنددار\\nچاه و شناژ و گود ب...   130  5.850000e+08  \n3335  زمین 187 متر سند 6 دانگ داره هیچ واسطه ای هم د...   187  7.480000e+08  \n\n[3336 rows x 6 columns]",
      "text/html": "<div>\n<style scoped>\n    .dataframe tbody tr th:only-of-type {\n        vertical-align: middle;\n    }\n\n    .dataframe tbody tr th {\n        vertical-align: top;\n    }\n\n    .dataframe thead th {\n        text-align: right;\n    }\n</style>\n<table border=\"1\" class=\"dataframe\">\n  <thead>\n    <tr style=\"text-align: right;\">\n      <th></th>\n      <th>Unnamed: 0</th>\n      <th>date</th>\n      <th>address</th>\n      <th>description</th>\n      <th>area</th>\n      <th>price</th>\n    </tr>\n  </thead>\n  <tbody>\n    <tr>\n      <th>0</th>\n      <td>0</td>\n      <td>NaN</td>\n      <td>زمین فرهنگیان خاتم النبیا جانبازان</td>\n      <td>200 متر زمین دارای پروانه و پرداختی شهرداری\\nق...</td>\n      <td>200</td>\n      <td>1.700000e+09</td>\n    </tr>\n    <tr>\n      <th>1</th>\n      <td>1</td>\n      <td>NaN</td>\n      <td>زمین فروشی</td>\n      <td>آگهی دهنده:بنگاهی نیستم\\n.\\n.\\n.\\nزمین دارای س...</td>\n      <td>156</td>\n      <td>4.800000e+09</td>\n    </tr>\n    <tr>\n      <th>2</th>\n      <td>2</td>\n      <td>NaN</td>\n      <td>زمین مسکونی ۳۵۰متر</td>\n      <td>زمین مسکونی ۳۵۰متر درروستای ویدجا دوبر به فروش...</td>\n      <td>350</td>\n      <td>7.500000e+08</td>\n    </tr>\n    <tr>\n      <th>3</th>\n      <td>3</td>\n      <td>NaN</td>\n      <td>۵۰۰ متر زمین با کاربری مسکونی  گیلان ، شهر تالش</td>\n      <td>با سلام زمین با مساحت ۵۰۰ متر با کاربری مسکونی...</td>\n      <td>500</td>\n      <td>3.600000e+09</td>\n    </tr>\n    <tr>\n      <th>4</th>\n      <td>4</td>\n      <td>NaN</td>\n      <td>زمین فروشی خیابان نطنز میدان ۹دی</td>\n      <td>باسلام زمین فروشی خیابان نطنز میدان۹دی بلوار ت...</td>\n      <td>143</td>\n      <td>6.440000e+08</td>\n    </tr>\n    <tr>\n      <th>...</th>\n      <td>...</td>\n      <td>...</td>\n      <td>...</td>\n      <td>...</td>\n      <td>...</td>\n      <td>...</td>\n    </tr>\n    <tr>\n      <th>3331</th>\n      <td>60</td>\n      <td>2024-2-17</td>\n      <td>زمین قمصر سه بر ۵۰۵ متر سند ششدانگ ،پروانه</td>\n      <td>محدوده چهارراه علوی خیابان فیض</td>\n      <td>500</td>\n      <td>4.500000e+09</td>\n    </tr>\n    <tr>\n      <th>3332</th>\n      <td>61</td>\n      <td>2024-1-24</td>\n      <td>زمین فروشی</td>\n      <td>آگهی دهنده:بنگاهی نیستم\\n.\\n.\\n.\\nزمین دارای س...</td>\n      <td>156</td>\n      <td>4.500000e+09</td>\n    </tr>\n    <tr>\n      <th>3333</th>\n      <td>62</td>\n      <td>2024-2-17</td>\n      <td>زمین درشهرک بسیج راوند</td>\n      <td>یک قطعه زمین از۵۰۰قواره زمینهای شهرک بسیج شهرد...</td>\n      <td>152</td>\n      <td>4.000000e+08</td>\n    </tr>\n    <tr>\n      <th>3334</th>\n      <td>63</td>\n      <td>2024-2-17</td>\n      <td>زمین هفت ماهه</td>\n      <td>سلام\\nمتراژ 130متر\\nسنددار\\nچاه و شناژ و گود ب...</td>\n      <td>130</td>\n      <td>5.850000e+08</td>\n    </tr>\n    <tr>\n      <th>3335</th>\n      <td>64</td>\n      <td>2024-2-17</td>\n      <td>زمین آینده دار 187 متری</td>\n      <td>زمین 187 متر سند 6 دانگ داره هیچ واسطه ای هم د...</td>\n      <td>187</td>\n      <td>7.480000e+08</td>\n    </tr>\n  </tbody>\n</table>\n<p>3336 rows × 6 columns</p>\n</div>"
     },
     "execution_count": 17,
     "metadata": {},
     "output_type": "execute_result"
    }
   ],
   "source": [
    "data"
   ],
   "metadata": {
    "collapsed": false,
    "pycharm": {
     "name": "#%%\n"
    }
   }
  },
  {
   "cell_type": "code",
   "execution_count": 18,
   "outputs": [],
   "source": [
    "df = data.loc[:, ['date', 'address', 'description', 'area', 'price']]"
   ],
   "metadata": {
    "collapsed": false,
    "pycharm": {
     "name": "#%%\n"
    }
   }
  },
  {
   "cell_type": "code",
   "execution_count": 19,
   "outputs": [
    {
     "data": {
      "text/plain": "           date                                          address  \\\n0           NaN               زمین فرهنگیان خاتم النبیا جانبازان   \n1           NaN                                       زمین فروشی   \n2           NaN                               زمین مسکونی ۳۵۰متر   \n3           NaN  ۵۰۰ متر زمین با کاربری مسکونی  گیلان ، شهر تالش   \n4           NaN                 زمین فروشی خیابان نطنز میدان ۹دی   \n...         ...                                              ...   \n3331  2024-2-17       زمین قمصر سه بر ۵۰۵ متر سند ششدانگ ،پروانه   \n3332  2024-1-24                                       زمین فروشی   \n3333  2024-2-17                           زمین درشهرک بسیج راوند   \n3334  2024-2-17                                    زمین هفت ماهه   \n3335  2024-2-17                          زمین آینده دار 187 متری   \n\n                                            description  area         price  \n0     200 متر زمین دارای پروانه و پرداختی شهرداری\\nق...   200  1.700000e+09  \n1     آگهی دهنده:بنگاهی نیستم\\n.\\n.\\n.\\nزمین دارای س...   156  4.800000e+09  \n2     زمین مسکونی ۳۵۰متر درروستای ویدجا دوبر به فروش...   350  7.500000e+08  \n3     با سلام زمین با مساحت ۵۰۰ متر با کاربری مسکونی...   500  3.600000e+09  \n4     باسلام زمین فروشی خیابان نطنز میدان۹دی بلوار ت...   143  6.440000e+08  \n...                                                 ...   ...           ...  \n3331                     محدوده چهارراه علوی خیابان فیض   500  4.500000e+09  \n3332  آگهی دهنده:بنگاهی نیستم\\n.\\n.\\n.\\nزمین دارای س...   156  4.500000e+09  \n3333  یک قطعه زمین از۵۰۰قواره زمینهای شهرک بسیج شهرد...   152  4.000000e+08  \n3334  سلام\\nمتراژ 130متر\\nسنددار\\nچاه و شناژ و گود ب...   130  5.850000e+08  \n3335  زمین 187 متر سند 6 دانگ داره هیچ واسطه ای هم د...   187  7.480000e+08  \n\n[3336 rows x 5 columns]",
      "text/html": "<div>\n<style scoped>\n    .dataframe tbody tr th:only-of-type {\n        vertical-align: middle;\n    }\n\n    .dataframe tbody tr th {\n        vertical-align: top;\n    }\n\n    .dataframe thead th {\n        text-align: right;\n    }\n</style>\n<table border=\"1\" class=\"dataframe\">\n  <thead>\n    <tr style=\"text-align: right;\">\n      <th></th>\n      <th>date</th>\n      <th>address</th>\n      <th>description</th>\n      <th>area</th>\n      <th>price</th>\n    </tr>\n  </thead>\n  <tbody>\n    <tr>\n      <th>0</th>\n      <td>NaN</td>\n      <td>زمین فرهنگیان خاتم النبیا جانبازان</td>\n      <td>200 متر زمین دارای پروانه و پرداختی شهرداری\\nق...</td>\n      <td>200</td>\n      <td>1.700000e+09</td>\n    </tr>\n    <tr>\n      <th>1</th>\n      <td>NaN</td>\n      <td>زمین فروشی</td>\n      <td>آگهی دهنده:بنگاهی نیستم\\n.\\n.\\n.\\nزمین دارای س...</td>\n      <td>156</td>\n      <td>4.800000e+09</td>\n    </tr>\n    <tr>\n      <th>2</th>\n      <td>NaN</td>\n      <td>زمین مسکونی ۳۵۰متر</td>\n      <td>زمین مسکونی ۳۵۰متر درروستای ویدجا دوبر به فروش...</td>\n      <td>350</td>\n      <td>7.500000e+08</td>\n    </tr>\n    <tr>\n      <th>3</th>\n      <td>NaN</td>\n      <td>۵۰۰ متر زمین با کاربری مسکونی  گیلان ، شهر تالش</td>\n      <td>با سلام زمین با مساحت ۵۰۰ متر با کاربری مسکونی...</td>\n      <td>500</td>\n      <td>3.600000e+09</td>\n    </tr>\n    <tr>\n      <th>4</th>\n      <td>NaN</td>\n      <td>زمین فروشی خیابان نطنز میدان ۹دی</td>\n      <td>باسلام زمین فروشی خیابان نطنز میدان۹دی بلوار ت...</td>\n      <td>143</td>\n      <td>6.440000e+08</td>\n    </tr>\n    <tr>\n      <th>...</th>\n      <td>...</td>\n      <td>...</td>\n      <td>...</td>\n      <td>...</td>\n      <td>...</td>\n    </tr>\n    <tr>\n      <th>3331</th>\n      <td>2024-2-17</td>\n      <td>زمین قمصر سه بر ۵۰۵ متر سند ششدانگ ،پروانه</td>\n      <td>محدوده چهارراه علوی خیابان فیض</td>\n      <td>500</td>\n      <td>4.500000e+09</td>\n    </tr>\n    <tr>\n      <th>3332</th>\n      <td>2024-1-24</td>\n      <td>زمین فروشی</td>\n      <td>آگهی دهنده:بنگاهی نیستم\\n.\\n.\\n.\\nزمین دارای س...</td>\n      <td>156</td>\n      <td>4.500000e+09</td>\n    </tr>\n    <tr>\n      <th>3333</th>\n      <td>2024-2-17</td>\n      <td>زمین درشهرک بسیج راوند</td>\n      <td>یک قطعه زمین از۵۰۰قواره زمینهای شهرک بسیج شهرد...</td>\n      <td>152</td>\n      <td>4.000000e+08</td>\n    </tr>\n    <tr>\n      <th>3334</th>\n      <td>2024-2-17</td>\n      <td>زمین هفت ماهه</td>\n      <td>سلام\\nمتراژ 130متر\\nسنددار\\nچاه و شناژ و گود ب...</td>\n      <td>130</td>\n      <td>5.850000e+08</td>\n    </tr>\n    <tr>\n      <th>3335</th>\n      <td>2024-2-17</td>\n      <td>زمین آینده دار 187 متری</td>\n      <td>زمین 187 متر سند 6 دانگ داره هیچ واسطه ای هم د...</td>\n      <td>187</td>\n      <td>7.480000e+08</td>\n    </tr>\n  </tbody>\n</table>\n<p>3336 rows × 5 columns</p>\n</div>"
     },
     "execution_count": 19,
     "metadata": {},
     "output_type": "execute_result"
    }
   ],
   "source": [
    "df"
   ],
   "metadata": {
    "collapsed": false,
    "pycharm": {
     "name": "#%%\n"
    }
   }
  },
  {
   "cell_type": "code",
   "execution_count": 20,
   "outputs": [],
   "source": [
    "df['unit_price'] = df['price'] / df['area']"
   ],
   "metadata": {
    "collapsed": false,
    "pycharm": {
     "name": "#%%\n"
    }
   }
  },
  {
   "cell_type": "code",
   "execution_count": 21,
   "outputs": [
    {
     "data": {
      "text/plain": "           date                                          address  \\\n0           NaN               زمین فرهنگیان خاتم النبیا جانبازان   \n1           NaN                                       زمین فروشی   \n2           NaN                               زمین مسکونی ۳۵۰متر   \n3           NaN  ۵۰۰ متر زمین با کاربری مسکونی  گیلان ، شهر تالش   \n4           NaN                 زمین فروشی خیابان نطنز میدان ۹دی   \n...         ...                                              ...   \n3331  2024-2-17       زمین قمصر سه بر ۵۰۵ متر سند ششدانگ ،پروانه   \n3332  2024-1-24                                       زمین فروشی   \n3333  2024-2-17                           زمین درشهرک بسیج راوند   \n3334  2024-2-17                                    زمین هفت ماهه   \n3335  2024-2-17                          زمین آینده دار 187 متری   \n\n                                            description  area         price  \\\n0     200 متر زمین دارای پروانه و پرداختی شهرداری\\nق...   200  1.700000e+09   \n1     آگهی دهنده:بنگاهی نیستم\\n.\\n.\\n.\\nزمین دارای س...   156  4.800000e+09   \n2     زمین مسکونی ۳۵۰متر درروستای ویدجا دوبر به فروش...   350  7.500000e+08   \n3     با سلام زمین با مساحت ۵۰۰ متر با کاربری مسکونی...   500  3.600000e+09   \n4     باسلام زمین فروشی خیابان نطنز میدان۹دی بلوار ت...   143  6.440000e+08   \n...                                                 ...   ...           ...   \n3331                     محدوده چهارراه علوی خیابان فیض   500  4.500000e+09   \n3332  آگهی دهنده:بنگاهی نیستم\\n.\\n.\\n.\\nزمین دارای س...   156  4.500000e+09   \n3333  یک قطعه زمین از۵۰۰قواره زمینهای شهرک بسیج شهرد...   152  4.000000e+08   \n3334  سلام\\nمتراژ 130متر\\nسنددار\\nچاه و شناژ و گود ب...   130  5.850000e+08   \n3335  زمین 187 متر سند 6 دانگ داره هیچ واسطه ای هم د...   187  7.480000e+08   \n\n        unit_price  \n0     8.500000e+06  \n1     3.076923e+07  \n2     2.142857e+06  \n3     7.200000e+06  \n4     4.503497e+06  \n...            ...  \n3331  9.000000e+06  \n3332  2.884615e+07  \n3333  2.631579e+06  \n3334  4.500000e+06  \n3335  4.000000e+06  \n\n[3336 rows x 6 columns]",
      "text/html": "<div>\n<style scoped>\n    .dataframe tbody tr th:only-of-type {\n        vertical-align: middle;\n    }\n\n    .dataframe tbody tr th {\n        vertical-align: top;\n    }\n\n    .dataframe thead th {\n        text-align: right;\n    }\n</style>\n<table border=\"1\" class=\"dataframe\">\n  <thead>\n    <tr style=\"text-align: right;\">\n      <th></th>\n      <th>date</th>\n      <th>address</th>\n      <th>description</th>\n      <th>area</th>\n      <th>price</th>\n      <th>unit_price</th>\n    </tr>\n  </thead>\n  <tbody>\n    <tr>\n      <th>0</th>\n      <td>NaN</td>\n      <td>زمین فرهنگیان خاتم النبیا جانبازان</td>\n      <td>200 متر زمین دارای پروانه و پرداختی شهرداری\\nق...</td>\n      <td>200</td>\n      <td>1.700000e+09</td>\n      <td>8.500000e+06</td>\n    </tr>\n    <tr>\n      <th>1</th>\n      <td>NaN</td>\n      <td>زمین فروشی</td>\n      <td>آگهی دهنده:بنگاهی نیستم\\n.\\n.\\n.\\nزمین دارای س...</td>\n      <td>156</td>\n      <td>4.800000e+09</td>\n      <td>3.076923e+07</td>\n    </tr>\n    <tr>\n      <th>2</th>\n      <td>NaN</td>\n      <td>زمین مسکونی ۳۵۰متر</td>\n      <td>زمین مسکونی ۳۵۰متر درروستای ویدجا دوبر به فروش...</td>\n      <td>350</td>\n      <td>7.500000e+08</td>\n      <td>2.142857e+06</td>\n    </tr>\n    <tr>\n      <th>3</th>\n      <td>NaN</td>\n      <td>۵۰۰ متر زمین با کاربری مسکونی  گیلان ، شهر تالش</td>\n      <td>با سلام زمین با مساحت ۵۰۰ متر با کاربری مسکونی...</td>\n      <td>500</td>\n      <td>3.600000e+09</td>\n      <td>7.200000e+06</td>\n    </tr>\n    <tr>\n      <th>4</th>\n      <td>NaN</td>\n      <td>زمین فروشی خیابان نطنز میدان ۹دی</td>\n      <td>باسلام زمین فروشی خیابان نطنز میدان۹دی بلوار ت...</td>\n      <td>143</td>\n      <td>6.440000e+08</td>\n      <td>4.503497e+06</td>\n    </tr>\n    <tr>\n      <th>...</th>\n      <td>...</td>\n      <td>...</td>\n      <td>...</td>\n      <td>...</td>\n      <td>...</td>\n      <td>...</td>\n    </tr>\n    <tr>\n      <th>3331</th>\n      <td>2024-2-17</td>\n      <td>زمین قمصر سه بر ۵۰۵ متر سند ششدانگ ،پروانه</td>\n      <td>محدوده چهارراه علوی خیابان فیض</td>\n      <td>500</td>\n      <td>4.500000e+09</td>\n      <td>9.000000e+06</td>\n    </tr>\n    <tr>\n      <th>3332</th>\n      <td>2024-1-24</td>\n      <td>زمین فروشی</td>\n      <td>آگهی دهنده:بنگاهی نیستم\\n.\\n.\\n.\\nزمین دارای س...</td>\n      <td>156</td>\n      <td>4.500000e+09</td>\n      <td>2.884615e+07</td>\n    </tr>\n    <tr>\n      <th>3333</th>\n      <td>2024-2-17</td>\n      <td>زمین درشهرک بسیج راوند</td>\n      <td>یک قطعه زمین از۵۰۰قواره زمینهای شهرک بسیج شهرد...</td>\n      <td>152</td>\n      <td>4.000000e+08</td>\n      <td>2.631579e+06</td>\n    </tr>\n    <tr>\n      <th>3334</th>\n      <td>2024-2-17</td>\n      <td>زمین هفت ماهه</td>\n      <td>سلام\\nمتراژ 130متر\\nسنددار\\nچاه و شناژ و گود ب...</td>\n      <td>130</td>\n      <td>5.850000e+08</td>\n      <td>4.500000e+06</td>\n    </tr>\n    <tr>\n      <th>3335</th>\n      <td>2024-2-17</td>\n      <td>زمین آینده دار 187 متری</td>\n      <td>زمین 187 متر سند 6 دانگ داره هیچ واسطه ای هم د...</td>\n      <td>187</td>\n      <td>7.480000e+08</td>\n      <td>4.000000e+06</td>\n    </tr>\n  </tbody>\n</table>\n<p>3336 rows × 6 columns</p>\n</div>"
     },
     "execution_count": 21,
     "metadata": {},
     "output_type": "execute_result"
    }
   ],
   "source": [
    "df"
   ],
   "metadata": {
    "collapsed": false,
    "pycharm": {
     "name": "#%%\n"
    }
   }
  },
  {
   "cell_type": "code",
   "execution_count": 22,
   "outputs": [
    {
     "data": {
      "text/plain": "[<matplotlib.lines.Line2D at 0x1b069ff61a0>]"
     },
     "execution_count": 22,
     "metadata": {},
     "output_type": "execute_result"
    },
    {
     "data": {
      "text/plain": "<Figure size 640x480 with 1 Axes>",
      "image/png": "[encoded data removed]"
     },
     "metadata": {},
     "output_type": "display_data"
    }
   ],
   "source": [
    "a = plt.hist(df.unit_price.values, bins=50)\n",
    "plt.plot([np.mean(df.unit_price)] * 50, a[0])"
   ],
   "metadata": {
    "collapsed": false,
    "pycharm": {
     "name": "#%%\n"
    }
   }
  },
  {
   "cell_type": "code",
   "execution_count": 29,
   "outputs": [],
   "source": [
    "df.dropna(inplace=True)"
   ],
   "metadata": {
    "collapsed": false,
    "pycharm": {
     "name": "#%%\n"
    }
   }
  },
  {
   "cell_type": "code",
   "execution_count": 30,
   "outputs": [
    {
     "data": {
      "text/plain": "1.6960348580469784"
     },
     "execution_count": 30,
     "metadata": {},
     "output_type": "execute_result"
    }
   ],
   "source": [
    "skew(df.unit_price)"
   ],
   "metadata": {
    "collapsed": false,
    "pycharm": {
     "name": "#%%\n"
    }
   }
  },
  {
   "cell_type": "code",
   "execution_count": 31,
   "outputs": [
    {
     "data": {
      "text/plain": "2.03450889596437"
     },
     "execution_count": 31,
     "metadata": {},
     "output_type": "execute_result"
    }
   ],
   "source": [
    "kurtosis(df.unit_price)"
   ],
   "metadata": {
    "collapsed": false,
    "pycharm": {
     "name": "#%%\n"
    }
   }
  },
  {
   "cell_type": "code",
   "execution_count": null,
   "outputs": [],
   "source": [],
   "metadata": {
    "collapsed": false,
    "pycharm": {
     "name": "#%%\n"
    }
   }
  }
 ],
 "metadata": {
  "kernelspec": {
   "display_name": "Python 3",
   "language": "python",
   "name": "python3"
  },
  "language_info": {
   "codemirror_mode": {
    "name": "ipython",
    "version": 2
   },
   "file_extension": ".py",
   "mimetype": "text/x-python",
   "name": "python",
   "nbconvert_exporter": "python",
   "pygments_lexer": "ipython2",
   "version": "2.7.6"
  }
 },
 "nbformat": 4,
 "nbformat_minor": 0
}