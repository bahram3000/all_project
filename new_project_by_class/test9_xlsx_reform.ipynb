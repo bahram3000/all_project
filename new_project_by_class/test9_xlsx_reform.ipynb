{
 "cells": [
  {
   "cell_type": "code",
   "execution_count": 1,
   "metadata": {
    "collapsed": true,
    "pycharm": {
     "name": "#%%\n"
    }
   },
   "outputs": [],
   "source": [
    "import numpy as np\n",
    "import pandas as pd"
   ]
  },
  {
   "cell_type": "code",
   "execution_count": 11,
   "outputs": [],
   "source": [
    "df=pd.read_excel('F:\\my project\\dataset\\\\API_NY.GDP.MKTP.CN_DS2_en_excel_v2_70.xls',header=3)"
   ],
   "metadata": {
    "collapsed": false,
    "pycharm": {
     "name": "#%%\n"
    }
   }
  },
  {
   "cell_type": "code",
   "execution_count": 12,
   "outputs": [
    {
     "data": {
      "text/plain": "                    Country Name Country Code     Indicator Name  \\\n0                          Aruba          ABW  GDP (current LCU)   \n1    Africa Eastern and Southern          AFE  GDP (current LCU)   \n2                    Afghanistan          AFG  GDP (current LCU)   \n3     Africa Western and Central          AFW  GDP (current LCU)   \n4                         Angola          AGO  GDP (current LCU)   \n..                           ...          ...                ...   \n261                       Kosovo          XKX  GDP (current LCU)   \n262                  Yemen, Rep.          YEM  GDP (current LCU)   \n263                 South Africa          ZAF  GDP (current LCU)   \n264                       Zambia          ZMB  GDP (current LCU)   \n265                     Zimbabwe          ZWE  GDP (current LCU)   \n\n     Indicator Code          1960          1961          1962          1963  \\\n0    NY.GDP.MKTP.CN           NaN           NaN           NaN           NaN   \n1    NY.GDP.MKTP.CN           NaN           NaN           NaN           NaN   \n2    NY.GDP.MKTP.CN  2.420000e+10  2.470000e+10  2.460000e+10  3.380000e+10   \n3    NY.GDP.MKTP.CN           NaN           NaN           NaN           NaN   \n4    NY.GDP.MKTP.CN           NaN           NaN           NaN           NaN   \n..              ...           ...           ...           ...           ...   \n261  NY.GDP.MKTP.CN           NaN           NaN           NaN           NaN   \n262  NY.GDP.MKTP.CN           NaN           NaN           NaN           NaN   \n263  NY.GDP.MKTP.CN  6.249000e+09  6.590000e+09  7.010000e+09  7.753000e+09   \n264  NY.GDP.MKTP.CN  4.991000e+05  4.874000e+05  4.852000e+05  5.031000e+05   \n265  NY.GDP.MKTP.CN  1.052990e+09  1.096647e+09  1.117602e+09  1.159512e+09   \n\n             1964          1965  ...          2013          2014  \\\n0             NaN           NaN  ...  4.882851e+09  4.995621e+09   \n1             NaN           NaN  ...           NaN           NaN   \n2    3.600000e+10  4.530000e+10  ...  1.138810e+12  1.176469e+12   \n3             NaN           NaN  ...           NaN           NaN   \n4             NaN           NaN  ...  1.319500e+13  1.432386e+13   \n..            ...           ...  ...           ...           ...   \n261           NaN           NaN  ...  5.071332e+09  5.325095e+09   \n262           NaN           NaN  ...  8.684830e+12  9.289391e+12   \n263  8.540000e+09  9.335000e+09  ...  3.868630e+12  4.133873e+12   \n264  5.876000e+05  7.580000e+05  ...  1.513310e+11  1.670530e+11   \n265  1.217138e+09  1.311436e+09  ...  1.909102e+10  1.949552e+10   \n\n             2015          2016          2017          2018          2019  \\\n0    5.303604e+09  5.340707e+09  5.535448e+09  5.864370e+09  6.078480e+09   \n1             NaN           NaN           NaN           NaN           NaN   \n2    1.222756e+12  1.222917e+12  1.285460e+12  1.327690e+12  1.469596e+12   \n3             NaN           NaN           NaN           NaN           NaN   \n4    1.395029e+13  1.654956e+13  2.026230e+13  2.562774e+13  3.033043e+13   \n..            ...           ...           ...           ...           ...   \n261  5.674423e+09  6.037271e+09  6.356456e+09  6.671521e+09  7.056172e+09   \n262  9.797603e+12  8.891000e+12  1.000600e+13  1.157873e+13           NaN   \n263  4.420793e+12  4.759555e+12  5.078190e+12  5.363190e+12  5.625207e+12   \n264  1.833810e+11  2.160980e+11  2.462520e+11  2.751745e+11  3.004487e+11   \n265  1.996312e+10  2.054868e+10  2.204090e+10  6.961349e+10  2.121744e+11   \n\n             2020          2021          2022  \n0    4.580442e+09  5.554700e+09  6.345027e+09  \n1             NaN           NaN           NaN  \n2    1.534966e+12  1.251172e+12           NaN  \n3             NaN           NaN           NaN  \n4    3.170077e+13  4.453594e+13  5.337515e+13  \n..            ...           ...           ...  \n261  6.771602e+09  7.957875e+09  8.936177e+09  \n262           NaN           NaN           NaN  \n263  5.567974e+12  6.208786e+12  6.628550e+12  \n264  3.322232e+11  4.423368e+11  4.939643e+11  \n265  1.378795e+12  3.189937e+12  1.238844e+13  \n\n[266 rows x 67 columns]",
      "text/html": "<div>\n<style scoped>\n    .dataframe tbody tr th:only-of-type {\n        vertical-align: middle;\n    }\n\n    .dataframe tbody tr th {\n        vertical-align: top;\n    }\n\n    .dataframe thead th {\n        text-align: right;\n    }\n</style>\n<table border=\"1\" class=\"dataframe\">\n  <thead>\n    <tr style=\"text-align: right;\">\n      <th></th>\n      <th>Country Name</th>\n      <th>Country Code</th>\n      <th>Indicator Name</th>\n      <th>Indicator Code</th>\n      <th>1960</th>\n      <th>1961</th>\n      <th>1962</th>\n      <th>1963</th>\n      <th>1964</th>\n      <th>1965</th>\n      <th>...</th>\n      <th>2013</th>\n      <th>2014</th>\n      <th>2015</th>\n      <th>2016</th>\n      <th>2017</th>\n      <th>2018</th>\n      <th>2019</th>\n      <th>2020</th>\n      <th>2021</th>\n      <th>2022</th>\n    </tr>\n  </thead>\n  <tbody>\n    <tr>\n      <th>0</th>\n      <td>Aruba</td>\n      <td>ABW</td>\n      <td>GDP (current LCU)</td>\n      <td>NY.GDP.MKTP.CN</td>\n      <td>NaN</td>\n      <td>NaN</td>\n      <td>NaN</td>\n      <td>NaN</td>\n      <td>NaN</td>\n      <td>NaN</td>\n      <td>...</td>\n      <td>4.882851e+09</td>\n      <td>4.995621e+09</td>\n      <td>5.303604e+09</td>\n      <td>5.340707e+09</td>\n      <td>5.535448e+09</td>\n      <td>5.864370e+09</td>\n      <td>6.078480e+09</td>\n      <td>4.580442e+09</td>\n      <td>5.554700e+09</td>\n      <td>6.345027e+09</td>\n    </tr>\n    <tr>\n      <th>1</th>\n      <td>Africa Eastern and Southern</td>\n      <td>AFE</td>\n      <td>GDP (current LCU)</td>\n      <td>NY.GDP.MKTP.CN</td>\n      <td>NaN</td>\n      <td>NaN</td>\n      <td>NaN</td>\n      <td>NaN</td>\n      <td>NaN</td>\n      <td>NaN</td>\n      <td>...</td>\n      <td>NaN</td>\n      <td>NaN</td>\n      <td>NaN</td>\n      <td>NaN</td>\n      <td>NaN</td>\n      <td>NaN</td>\n      <td>NaN</td>\n      <td>NaN</td>\n      <td>NaN</td>\n      <td>NaN</td>\n    </tr>\n    <tr>\n      <th>2</th>\n      <td>Afghanistan</td>\n      <td>AFG</td>\n      <td>GDP (current LCU)</td>\n      <td>NY.GDP.MKTP.CN</td>\n      <td>2.420000e+10</td>\n      <td>2.470000e+10</td>\n      <td>2.460000e+10</td>\n      <td>3.380000e+10</td>\n      <td>3.600000e+10</td>\n      <td>4.530000e+10</td>\n      <td>...</td>\n      <td>1.138810e+12</td>\n      <td>1.176469e+12</td>\n      <td>1.222756e+12</td>\n      <td>1.222917e+12</td>\n      <td>1.285460e+12</td>\n      <td>1.327690e+12</td>\n      <td>1.469596e+12</td>\n      <td>1.534966e+12</td>\n      <td>1.251172e+12</td>\n      <td>NaN</td>\n    </tr>\n    <tr>\n      <th>3</th>\n      <td>Africa Western and Central</td>\n      <td>AFW</td>\n      <td>GDP (current LCU)</td>\n      <td>NY.GDP.MKTP.CN</td>\n      <td>NaN</td>\n      <td>NaN</td>\n      <td>NaN</td>\n      <td>NaN</td>\n      <td>NaN</td>\n      <td>NaN</td>\n      <td>...</td>\n      <td>NaN</td>\n      <td>NaN</td>\n      <td>NaN</td>\n      <td>NaN</td>\n      <td>NaN</td>\n      <td>NaN</td>\n      <td>NaN</td>\n      <td>NaN</td>\n      <td>NaN</td>\n      <td>NaN</td>\n    </tr>\n    <tr>\n      <th>4</th>\n      <td>Angola</td>\n      <td>AGO</td>\n      <td>GDP (current LCU)</td>\n      <td>NY.GDP.MKTP.CN</td>\n      <td>NaN</td>\n      <td>NaN</td>\n      <td>NaN</td>\n      <td>NaN</td>\n      <td>NaN</td>\n      <td>NaN</td>\n      <td>...</td>\n      <td>1.319500e+13</td>\n      <td>1.432386e+13</td>\n      <td>1.395029e+13</td>\n      <td>1.654956e+13</td>\n      <td>2.026230e+13</td>\n      <td>2.562774e+13</td>\n      <td>3.033043e+13</td>\n      <td>3.170077e+13</td>\n      <td>4.453594e+13</td>\n      <td>5.337515e+13</td>\n    </tr>\n    <tr>\n      <th>...</th>\n      <td>...</td>\n      <td>...</td>\n      <td>...</td>\n      <td>...</td>\n      <td>...</td>\n      <td>...</td>\n      <td>...</td>\n      <td>...</td>\n      <td>...</td>\n      <td>...</td>\n      <td>...</td>\n      <td>...</td>\n      <td>...</td>\n      <td>...</td>\n      <td>...</td>\n      <td>...</td>\n      <td>...</td>\n      <td>...</td>\n      <td>...</td>\n      <td>...</td>\n      <td>...</td>\n    </tr>\n    <tr>\n      <th>261</th>\n      <td>Kosovo</td>\n      <td>XKX</td>\n      <td>GDP (current LCU)</td>\n      <td>NY.GDP.MKTP.CN</td>\n      <td>NaN</td>\n      <td>NaN</td>\n      <td>NaN</td>\n      <td>NaN</td>\n      <td>NaN</td>\n      <td>NaN</td>\n      <td>...</td>\n      <td>5.071332e+09</td>\n      <td>5.325095e+09</td>\n      <td>5.674423e+09</td>\n      <td>6.037271e+09</td>\n      <td>6.356456e+09</td>\n      <td>6.671521e+09</td>\n      <td>7.056172e+09</td>\n      <td>6.771602e+09</td>\n      <td>7.957875e+09</td>\n      <td>8.936177e+09</td>\n    </tr>\n    <tr>\n      <th>262</th>\n      <td>Yemen, Rep.</td>\n      <td>YEM</td>\n      <td>GDP (current LCU)</td>\n      <td>NY.GDP.MKTP.CN</td>\n      <td>NaN</td>\n      <td>NaN</td>\n      <td>NaN</td>\n      <td>NaN</td>\n      <td>NaN</td>\n      <td>NaN</td>\n      <td>...</td>\n      <td>8.684830e+12</td>\n      <td>9.289391e+12</td>\n      <td>9.797603e+12</td>\n      <td>8.891000e+12</td>\n      <td>1.000600e+13</td>\n      <td>1.157873e+13</td>\n      <td>NaN</td>\n      <td>NaN</td>\n      <td>NaN</td>\n      <td>NaN</td>\n    </tr>\n    <tr>\n      <th>263</th>\n      <td>South Africa</td>\n      <td>ZAF</td>\n      <td>GDP (current LCU)</td>\n      <td>NY.GDP.MKTP.CN</td>\n      <td>6.249000e+09</td>\n      <td>6.590000e+09</td>\n      <td>7.010000e+09</td>\n      <td>7.753000e+09</td>\n      <td>8.540000e+09</td>\n      <td>9.335000e+09</td>\n      <td>...</td>\n      <td>3.868630e+12</td>\n      <td>4.133873e+12</td>\n      <td>4.420793e+12</td>\n      <td>4.759555e+12</td>\n      <td>5.078190e+12</td>\n      <td>5.363190e+12</td>\n      <td>5.625207e+12</td>\n      <td>5.567974e+12</td>\n      <td>6.208786e+12</td>\n      <td>6.628550e+12</td>\n    </tr>\n    <tr>\n      <th>264</th>\n      <td>Zambia</td>\n      <td>ZMB</td>\n      <td>GDP (current LCU)</td>\n      <td>NY.GDP.MKTP.CN</td>\n      <td>4.991000e+05</td>\n      <td>4.874000e+05</td>\n      <td>4.852000e+05</td>\n      <td>5.031000e+05</td>\n      <td>5.876000e+05</td>\n      <td>7.580000e+05</td>\n      <td>...</td>\n      <td>1.513310e+11</td>\n      <td>1.670530e+11</td>\n      <td>1.833810e+11</td>\n      <td>2.160980e+11</td>\n      <td>2.462520e+11</td>\n      <td>2.751745e+11</td>\n      <td>3.004487e+11</td>\n      <td>3.322232e+11</td>\n      <td>4.423368e+11</td>\n      <td>4.939643e+11</td>\n    </tr>\n    <tr>\n      <th>265</th>\n      <td>Zimbabwe</td>\n      <td>ZWE</td>\n      <td>GDP (current LCU)</td>\n      <td>NY.GDP.MKTP.CN</td>\n      <td>1.052990e+09</td>\n      <td>1.096647e+09</td>\n      <td>1.117602e+09</td>\n      <td>1.159512e+09</td>\n      <td>1.217138e+09</td>\n      <td>1.311436e+09</td>\n      <td>...</td>\n      <td>1.909102e+10</td>\n      <td>1.949552e+10</td>\n      <td>1.996312e+10</td>\n      <td>2.054868e+10</td>\n      <td>2.204090e+10</td>\n      <td>6.961349e+10</td>\n      <td>2.121744e+11</td>\n      <td>1.378795e+12</td>\n      <td>3.189937e+12</td>\n      <td>1.238844e+13</td>\n    </tr>\n  </tbody>\n</table>\n<p>266 rows × 67 columns</p>\n</div>"
     },
     "execution_count": 12,
     "metadata": {},
     "output_type": "execute_result"
    }
   ],
   "source": [
    "df"
   ],
   "metadata": {
    "collapsed": false,
    "pycharm": {
     "name": "#%%\n"
    }
   }
  },
  {
   "cell_type": "code",
   "execution_count": 16,
   "outputs": [],
   "source": [
    "ir=df.loc[112,:]"
   ],
   "metadata": {
    "collapsed": false,
    "pycharm": {
     "name": "#%%\n"
    }
   }
  },
  {
   "cell_type": "code",
   "execution_count": 26,
   "outputs": [
    {
     "data": {
      "text/plain": "1979      6370367554544.810547\n1980      6753979874640.139648\n1981      8042658501438.049805\n1982     10636624378827.400391\n1983     13639419881495.900391\n1984          14913555913591.0\n1985     15808050375669.099609\n1986     16006188708352.898438\n1987     19419388509226.402344\n1988     21900607581595.601562\n1989     27232178019077.300781\n1990     37986542436154.796875\n1991          53785438612000.0\n1992          71861214730000.0\n1993         106133132680000.0\n1994    139731641979999.984375\n1995         197370155100000.0\n1996         270427231010000.0\n1997         316638314730000.0\n1998         353547784240000.0\n1999         474975733770000.0\n2000         628070077410000.0\n2001         738307447970000.0\n2002        1023613009500000.0\n2003        1258128741600000.0\n2004        1637032106700000.0\n2005        2029907660500000.0\n2006        2442212113200000.0\n2007        3247304255200000.0\n2008        3887723271000000.0\n2009        4107466221900000.0\n2010        5035812289000000.0\n2011        6895999706412120.0\n2012        7895676801943380.0\n2013       10634997796116900.0\n2014       12254707585081400.0\n2015       12103890086571700.0\n2016       14408890814124600.0\n2017       16736418990186600.0\n2018       21627069968799700.0\n2019       27364013247019400.0\n2020       40791376857952800.0\n2021       66774502840584704.0\n2022      104350049951473008.0\nName: 112, dtype: object"
     },
     "execution_count": 26,
     "metadata": {},
     "output_type": "execute_result"
    }
   ],
   "source": [
    "ir['1979':]"
   ],
   "metadata": {
    "collapsed": false,
    "pycharm": {
     "name": "#%%\n"
    }
   }
  },
  {
   "cell_type": "code",
   "execution_count": 28,
   "outputs": [],
   "source": [
    "ir['1979':].to_excel('F:\\my project\\dataset\\\\ir_gdp_1979.xlsx')"
   ],
   "metadata": {
    "collapsed": false,
    "pycharm": {
     "name": "#%%\n"
    }
   }
  },
  {
   "cell_type": "code",
   "execution_count": null,
   "outputs": [],
   "source": [],
   "metadata": {
    "collapsed": false,
    "pycharm": {
     "name": "#%%\n"
    }
   }
  }
 ],
 "metadata": {
  "kernelspec": {
   "display_name": "Python 3",
   "language": "python",
   "name": "python3"
  },
  "language_info": {
   "codemirror_mode": {
    "name": "ipython",
    "version": 2
   },
   "file_extension": ".py",
   "mimetype": "text/x-python",
   "name": "python",
   "nbconvert_exporter": "python",
   "pygments_lexer": "ipython2",
   "version": "2.7.6"
  }
 },
 "nbformat": 4,
 "nbformat_minor": 0
}