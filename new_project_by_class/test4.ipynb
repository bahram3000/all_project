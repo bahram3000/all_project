{
 "cells": [
  {
   "cell_type": "code",
   "execution_count": 1,
   "metadata": {
    "collapsed": true,
    "pycharm": {
     "name": "#%%\n"
    }
   },
   "outputs": [],
   "source": [
    "import os\n",
    "import numpy as np\n",
    "import pandas as pd\n",
    "import finpy_tse as tse\n",
    "import time"
   ]
  },
  {
   "cell_type": "code",
   "execution_count": 3,
   "outputs": [
    {
     "name": "stdout",
     "output_type": "stream",
     "text": [
      "Progress : 100 % , Done in 30 seconds!\n",
      "File saved in the specificed directory as:  1402-11-18 detailed_stocklist_bfp.xlsx\n",
      "File saved in the specificed directory as:  1402-11-18 detailed_stocklist_bfp.csv\n"
     ]
    }
   ],
   "source": [
    "symbols = tse.Build_Market_StockList(\n",
    "    bourse=True,\n",
    "    farabourse=True,\n",
    "    payeh=True,\n",
    "    detailed_list=True,\n",
    "    show_progress=True)"
   ],
   "metadata": {
    "collapsed": false,
    "pycharm": {
     "name": "#%%\n"
    }
   }
  },
  {
   "cell_type": "code",
   "execution_count": 4,
   "outputs": [
    {
     "data": {
      "text/plain": "\"save_excel=True,\\n    save_csv=True,\\n    save_path='D:/FinPy-TSE Data/\""
     },
     "execution_count": 4,
     "metadata": {},
     "output_type": "execute_result"
    }
   ],
   "source": [
    "'''save_excel=True,\n",
    "    save_csv=True,\n",
    "    save_path='D:/FinPy-TSE Data/'''"
   ],
   "metadata": {
    "collapsed": false,
    "pycharm": {
     "name": "#%%\n"
    }
   }
  },
  {
   "cell_type": "code",
   "execution_count": 5,
   "outputs": [
    {
     "data": {
      "text/plain": "                                  Name Market                         Panel  \\\nTicker                                                                        \nآباد     توریستی ورفاهی آبادگران ایران   بورس                بازار دوم بورس   \nآبادا           تولید نیروی برق آبادان   بورس                بازار دوم بورس   \nآپ                   آسان پرداخت پرشین   بورس  بازار اول (تابلوی فرعی) بورس   \nآسیا                         بیمه آسیا   بورس  بازار اول (تابلوی اصلی) بورس   \nاپال       فرآوری معدنی اپال کانی پارس   بورس                بازار دوم بورس   \n...                                ...    ...                           ...   \nخبهمن                        گروه بهمن   بورس  بازار اول (تابلوی اصلی) بورس   \nخشرق                الکتریک  خودرو شرق   بورس                بازار دوم بورس   \nپترول      گ.س.وت.ص.پتروشیمی خلیج فارس   بورس  بازار اول (تابلوی فرعی) بورس   \nشنفت                         نفت  پارس   بورس  بازار اول (تابلوی فرعی) بورس   \nجم پیلن               پتروشیمی جم پیلن   بورس                بازار دوم بورس   \n\n                                           Sector  \\\nTicker                                              \nآباد                                هتل و رستوران   \nآبادا                  عرضه برق، گاز، بخاروآب گرم   \nآپ               رایانه و فعالیت های وابسته به آن   \nآسیا     بیمه وصندوق بازنشستگی به جزتامین اجتماعی   \nاپال                        استخراج کانه های فلزی   \n...                                           ...   \nخبهمن                          خودرو و ساخت قطعات   \nخشرق                           خودرو و ساخت قطعات   \nپترول                             محصولات شیمیایی   \nشنفت          فراورده های نفتی، کک و سوخت هسته ای   \nجم پیلن                           محصولات شیمیایی   \n\n                                       Sub-Sector Comment            Name(EN)  \\\nTicker                                                                          \nآباد     هتل ها ، اردو و دیگر تدارکات اقامت کوتاه       -           Abadgaran   \nآبادا              تولید انتقال و توزیع نیروی برق       -           Abadan PG   \nآپ                        مشاوره و تهیه نرم افزار       -  Asan Pardakht Pers   \nآسیا                                بیمه غیرزندگی       -           Asia Bime   \nاپال                                  استخراج آهن       -      Opal Kani Pars   \n...                                           ...     ...                 ...   \nخبهمن                    تولید وسایل نقلیه موتوری       -        Bahman Group   \nخشرق        قطعات یدکی و جانبی وسایل نقلیه موتوری       -       E. Kh. Shargh   \nپترول           تولید مواد شیمیایی پایه به جز کود       -      S*Ir.Inv.Petr.   \nشنفت            تولید محصولات پالایش شده پتروشیمی       -            Pars Oil   \nجم پیلن         تولید مواد شیمیایی پایه به جز کود       -           Jam Pilen   \n\n        Company Code(12) Ticker(4) Ticker(5)    Ticker(12) Sector Code  \\\nTicker                                                                   \nآباد        IRO1ABAD0002      ABAD     ABAD1  IRO1ABAD0001          55   \nآبادا       IRO1NBAB0009      NBAB     NBAB1  IRO1NBAB0001          40   \nآپ          IRO1APPE0008      APPE     APPE1  IRO1APPE0001          72   \nآسیا        IRO1ASIA0008      ASIA     ASIA1  IRO1ASIA0001          66   \nاپال        IRO1OPAL0000      OPAL     OPAL1  IRO1OPAL0001          13   \n...                  ...       ...       ...           ...         ...   \nخبهمن       IRO1BHMN0009      BHMN     BHMN1  IRO1BHMN0001          34   \nخشرق        IRO1KHSH0000      KHSH     KHSH1  IRO1KHSH0001          34   \nپترول       IRO1IPTR0001      IPTR     IPTR1  IRO1IPTR0001          44   \nشنفت        IRO1NPRS0005      NPRS     NPRS1  IRO1NPRS0001          23   \nجم پیلن     IRO1JPPC0001      JPPC     JPPC1  IRO1JPPC0001          44   \n\n        Sub-Sector Code Panel Code  \nTicker                              \nآباد               5510          5  \nآبادا              4010          5  \nآپ                 7220          3  \nآسیا               6603          1  \nاپال               1310          5  \n...                 ...        ...  \nخبهمن              3410          1  \nخشرق               3430          5  \nپترول              4411          3  \nشنفت               2320          3  \nجم پیلن            4411          5  \n\n[749 rows x 14 columns]",
      "text/html": "<div>\n<style scoped>\n    .dataframe tbody tr th:only-of-type {\n        vertical-align: middle;\n    }\n\n    .dataframe tbody tr th {\n        vertical-align: top;\n    }\n\n    .dataframe thead th {\n        text-align: right;\n    }\n</style>\n<table border=\"1\" class=\"dataframe\">\n  <thead>\n    <tr style=\"text-align: right;\">\n      <th></th>\n      <th>Name</th>\n      <th>Market</th>\n      <th>Panel</th>\n      <th>Sector</th>\n      <th>Sub-Sector</th>\n      <th>Comment</th>\n      <th>Name(EN)</th>\n      <th>Company Code(12)</th>\n      <th>Ticker(4)</th>\n      <th>Ticker(5)</th>\n      <th>Ticker(12)</th>\n      <th>Sector Code</th>\n      <th>Sub-Sector Code</th>\n      <th>Panel Code</th>\n    </tr>\n    <tr>\n      <th>Ticker</th>\n      <th></th>\n      <th></th>\n      <th></th>\n      <th></th>\n      <th></th>\n      <th></th>\n      <th></th>\n      <th></th>\n      <th></th>\n      <th></th>\n      <th></th>\n      <th></th>\n      <th></th>\n      <th></th>\n    </tr>\n  </thead>\n  <tbody>\n    <tr>\n      <th>آباد</th>\n      <td>توریستی ورفاهی آبادگران ایران</td>\n      <td>بورس</td>\n      <td>بازار دوم بورس</td>\n      <td>هتل و رستوران</td>\n      <td>هتل ها ، اردو و دیگر تدارکات اقامت کوتاه</td>\n      <td>-</td>\n      <td>Abadgaran</td>\n      <td>IRO1ABAD0002</td>\n      <td>ABAD</td>\n      <td>ABAD1</td>\n      <td>IRO1ABAD0001</td>\n      <td>55</td>\n      <td>5510</td>\n      <td>5</td>\n    </tr>\n    <tr>\n      <th>آبادا</th>\n      <td>تولید نیروی برق آبادان</td>\n      <td>بورس</td>\n      <td>بازار دوم بورس</td>\n      <td>عرضه برق، گاز، بخاروآب گرم</td>\n      <td>تولید انتقال و توزیع نیروی برق</td>\n      <td>-</td>\n      <td>Abadan PG</td>\n      <td>IRO1NBAB0009</td>\n      <td>NBAB</td>\n      <td>NBAB1</td>\n      <td>IRO1NBAB0001</td>\n      <td>40</td>\n      <td>4010</td>\n      <td>5</td>\n    </tr>\n    <tr>\n      <th>آپ</th>\n      <td>آسان پرداخت پرشین</td>\n      <td>بورس</td>\n      <td>بازار اول (تابلوی فرعی) بورس</td>\n      <td>رایانه و فعالیت های وابسته به آن</td>\n      <td>مشاوره و تهیه نرم افزار</td>\n      <td>-</td>\n      <td>Asan Pardakht Pers</td>\n      <td>IRO1APPE0008</td>\n      <td>APPE</td>\n      <td>APPE1</td>\n      <td>IRO1APPE0001</td>\n      <td>72</td>\n      <td>7220</td>\n      <td>3</td>\n    </tr>\n    <tr>\n      <th>آسیا</th>\n      <td>بیمه آسیا</td>\n      <td>بورس</td>\n      <td>بازار اول (تابلوی اصلی) بورس</td>\n      <td>بیمه وصندوق بازنشستگی به جزتامین اجتماعی</td>\n      <td>بیمه غیرزندگی</td>\n      <td>-</td>\n      <td>Asia Bime</td>\n      <td>IRO1ASIA0008</td>\n      <td>ASIA</td>\n      <td>ASIA1</td>\n      <td>IRO1ASIA0001</td>\n      <td>66</td>\n      <td>6603</td>\n      <td>1</td>\n    </tr>\n    <tr>\n      <th>اپال</th>\n      <td>فرآوری معدنی اپال کانی پارس</td>\n      <td>بورس</td>\n      <td>بازار دوم بورس</td>\n      <td>استخراج کانه های فلزی</td>\n      <td>استخراج آهن</td>\n      <td>-</td>\n      <td>Opal Kani Pars</td>\n      <td>IRO1OPAL0000</td>\n      <td>OPAL</td>\n      <td>OPAL1</td>\n      <td>IRO1OPAL0001</td>\n      <td>13</td>\n      <td>1310</td>\n      <td>5</td>\n    </tr>\n    <tr>\n      <th>...</th>\n      <td>...</td>\n      <td>...</td>\n      <td>...</td>\n      <td>...</td>\n      <td>...</td>\n      <td>...</td>\n      <td>...</td>\n      <td>...</td>\n      <td>...</td>\n      <td>...</td>\n      <td>...</td>\n      <td>...</td>\n      <td>...</td>\n      <td>...</td>\n    </tr>\n    <tr>\n      <th>خبهمن</th>\n      <td>گروه بهمن</td>\n      <td>بورس</td>\n      <td>بازار اول (تابلوی اصلی) بورس</td>\n      <td>خودرو و ساخت قطعات</td>\n      <td>تولید وسایل نقلیه موتوری</td>\n      <td>-</td>\n      <td>Bahman Group</td>\n      <td>IRO1BHMN0009</td>\n      <td>BHMN</td>\n      <td>BHMN1</td>\n      <td>IRO1BHMN0001</td>\n      <td>34</td>\n      <td>3410</td>\n      <td>1</td>\n    </tr>\n    <tr>\n      <th>خشرق</th>\n      <td>الکتریک  خودرو شرق</td>\n      <td>بورس</td>\n      <td>بازار دوم بورس</td>\n      <td>خودرو و ساخت قطعات</td>\n      <td>قطعات یدکی و جانبی وسایل نقلیه موتوری</td>\n      <td>-</td>\n      <td>E. Kh. Shargh</td>\n      <td>IRO1KHSH0000</td>\n      <td>KHSH</td>\n      <td>KHSH1</td>\n      <td>IRO1KHSH0001</td>\n      <td>34</td>\n      <td>3430</td>\n      <td>5</td>\n    </tr>\n    <tr>\n      <th>پترول</th>\n      <td>گ.س.وت.ص.پتروشیمی خلیج فارس</td>\n      <td>بورس</td>\n      <td>بازار اول (تابلوی فرعی) بورس</td>\n      <td>محصولات شیمیایی</td>\n      <td>تولید مواد شیمیایی پایه به جز کود</td>\n      <td>-</td>\n      <td>S*Ir.Inv.Petr.</td>\n      <td>IRO1IPTR0001</td>\n      <td>IPTR</td>\n      <td>IPTR1</td>\n      <td>IRO1IPTR0001</td>\n      <td>44</td>\n      <td>4411</td>\n      <td>3</td>\n    </tr>\n    <tr>\n      <th>شنفت</th>\n      <td>نفت  پارس</td>\n      <td>بورس</td>\n      <td>بازار اول (تابلوی فرعی) بورس</td>\n      <td>فراورده های نفتی، کک و سوخت هسته ای</td>\n      <td>تولید محصولات پالایش شده پتروشیمی</td>\n      <td>-</td>\n      <td>Pars Oil</td>\n      <td>IRO1NPRS0005</td>\n      <td>NPRS</td>\n      <td>NPRS1</td>\n      <td>IRO1NPRS0001</td>\n      <td>23</td>\n      <td>2320</td>\n      <td>3</td>\n    </tr>\n    <tr>\n      <th>جم پیلن</th>\n      <td>پتروشیمی جم پیلن</td>\n      <td>بورس</td>\n      <td>بازار دوم بورس</td>\n      <td>محصولات شیمیایی</td>\n      <td>تولید مواد شیمیایی پایه به جز کود</td>\n      <td>-</td>\n      <td>Jam Pilen</td>\n      <td>IRO1JPPC0001</td>\n      <td>JPPC</td>\n      <td>JPPC1</td>\n      <td>IRO1JPPC0001</td>\n      <td>44</td>\n      <td>4411</td>\n      <td>5</td>\n    </tr>\n  </tbody>\n</table>\n<p>749 rows × 14 columns</p>\n</div>"
     },
     "execution_count": 5,
     "metadata": {},
     "output_type": "execute_result"
    }
   ],
   "source": [
    "symbols"
   ],
   "metadata": {
    "collapsed": false,
    "pycharm": {
     "name": "#%%\n"
    }
   }
  },
  {
   "cell_type": "code",
   "execution_count": 6,
   "outputs": [
    {
     "data": {
      "text/plain": "Index(['آباد', 'آبادا', 'آپ', 'آسیا', 'اپال', 'اتکام', 'اخابر', 'اردستان',\n       'اسیاتک', 'افق',\n       ...\n       'رتکو', 'حشکوه', 'بهیر', 'کاریز', 'امید', 'خبهمن', 'خشرق', 'پترول',\n       'شنفت', 'جم پیلن'],\n      dtype='object', name='Ticker', length=749)"
     },
     "execution_count": 6,
     "metadata": {},
     "output_type": "execute_result"
    }
   ],
   "source": [
    "symbols.index"
   ],
   "metadata": {
    "collapsed": false,
    "pycharm": {
     "name": "#%%\n"
    }
   }
  },
  {
   "cell_type": "code",
   "execution_count": 105,
   "outputs": [
    {
     "ename": "FileExistsError",
     "evalue": "[WinError 183] Cannot create a file when that file already exists: 'D:/FinPy-TSE Data/'",
     "output_type": "error",
     "traceback": [
      "\u001B[1;31m---------------------------------------------------------------------------\u001B[0m",
      "\u001B[1;31mFileExistsError\u001B[0m                           Traceback (most recent call last)",
      "Cell \u001B[1;32mIn[105], line 1\u001B[0m\n\u001B[1;32m----> 1\u001B[0m \u001B[43mos\u001B[49m\u001B[38;5;241;43m.\u001B[39;49m\u001B[43mmkdir\u001B[49m\u001B[43m(\u001B[49m\u001B[38;5;124;43m'\u001B[39;49m\u001B[38;5;124;43mD:/FinPy-TSE Data/\u001B[39;49m\u001B[38;5;124;43m'\u001B[39;49m\u001B[43m)\u001B[49m\n",
      "\u001B[1;31mFileExistsError\u001B[0m: [WinError 183] Cannot create a file when that file already exists: 'D:/FinPy-TSE Data/'"
     ]
    }
   ],
   "source": [
    "os.mkdir('D:/FinPy-TSE Data/')"
   ],
   "metadata": {
    "collapsed": false,
    "pycharm": {
     "name": "#%%\n"
    }
   }
  },
  {
   "cell_type": "code",
   "execution_count": 106,
   "outputs": [
    {
     "name": "stdout",
     "output_type": "stream",
     "text": [
      "Reading Data :  3.3 %    Processing and Saving Data :  0.0 %\n"
     ]
    },
    {
     "ename": "ValueError",
     "evalue": "Columns must be same length as key",
     "output_type": "error",
     "traceback": [
      "\u001B[1;31m---------------------------------------------------------------------------\u001B[0m",
      "\u001B[1;31mValueError\u001B[0m                                Traceback (most recent call last)",
      "Cell \u001B[1;32mIn[106], line 1\u001B[0m\n\u001B[1;32m----> 1\u001B[0m \u001B[43mtse\u001B[49m\u001B[38;5;241;43m.\u001B[39;49m\u001B[43mBuild_PricePanel\u001B[49m\u001B[43m(\u001B[49m\u001B[38;5;28;43mlist\u001B[39;49m\u001B[43m(\u001B[49m\u001B[43msymbols\u001B[49m\u001B[38;5;241;43m.\u001B[39;49m\u001B[43mindex\u001B[49m\u001B[43m)\u001B[49m\u001B[43m,\u001B[49m\u001B[43m \u001B[49m\u001B[43mjalali_date\u001B[49m\u001B[38;5;241;43m=\u001B[39;49m\u001B[38;5;28;43;01mFalse\u001B[39;49;00m\u001B[43m,\u001B[49m\u001B[43m \u001B[49m\u001B[43msave_excel\u001B[49m\u001B[38;5;241;43m=\u001B[39;49m\u001B[38;5;28;43;01mTrue\u001B[39;49;00m\u001B[43m,\u001B[49m\u001B[43m \u001B[49m\u001B[43msave_path\u001B[49m\u001B[38;5;241;43m=\u001B[39;49m\u001B[38;5;124;43m'\u001B[39;49m\u001B[38;5;124;43mD:/FinPy-TSE Data/\u001B[39;49m\u001B[38;5;124;43m'\u001B[39;49m\u001B[43m)\u001B[49m\n",
      "File \u001B[1;32m~\\PycharmProjects\\venv\\lib\\site-packages\\finpy_tse\\__init__.py:2642\u001B[0m, in \u001B[0;36mBuild_PricePanel\u001B[1;34m(stock_list, param, jalali_date, save_excel, save_path)\u001B[0m\n\u001B[0;32m   2640\u001B[0m \u001B[38;5;66;03m# process the data:\u001B[39;00m\n\u001B[0;32m   2641\u001B[0m \u001B[38;5;28;01mif\u001B[39;00m(i\u001B[38;5;241m==\u001B[39m\u001B[38;5;241m0\u001B[39m):\n\u001B[1;32m-> 2642\u001B[0m     df_panel \u001B[38;5;241m=\u001B[39m \u001B[43m__build_price_panel_seg__\u001B[49m\u001B[43m(\u001B[49m\u001B[43mdf_response\u001B[49m\u001B[38;5;241;43m=\u001B[39;49m\u001B[43mtext_resp\u001B[49m\u001B[43m,\u001B[49m\u001B[43m \u001B[49m\u001B[43mparam\u001B[49m\u001B[43m \u001B[49m\u001B[38;5;241;43m=\u001B[39;49m\u001B[43m \u001B[49m\u001B[43mparam\u001B[49m\u001B[43m,\u001B[49m\u001B[43m \u001B[49m\u001B[43msave_excel\u001B[49m\u001B[43m \u001B[49m\u001B[38;5;241;43m=\u001B[39;49m\u001B[43m \u001B[49m\u001B[43msave_excel\u001B[49m\u001B[43m,\u001B[49m\u001B[43m \u001B[49m\u001B[43msave_path\u001B[49m\u001B[43m \u001B[49m\u001B[38;5;241;43m=\u001B[39;49m\u001B[43m \u001B[49m\u001B[43msave_path\u001B[49m\u001B[43m)\u001B[49m\n\u001B[0;32m   2643\u001B[0m \u001B[38;5;28;01melse\u001B[39;00m:\n\u001B[0;32m   2644\u001B[0m     df_panel \u001B[38;5;241m=\u001B[39m pd\u001B[38;5;241m.\u001B[39mconcat([df_panel,__build_price_panel_seg__(df_response\u001B[38;5;241m=\u001B[39mtext_resp, param \u001B[38;5;241m=\u001B[39m param,save_excel \u001B[38;5;241m=\u001B[39m save_excel, save_path \u001B[38;5;241m=\u001B[39m save_path)],axis\u001B[38;5;241m=\u001B[39m\u001B[38;5;241m1\u001B[39m)\n",
      "File \u001B[1;32m~\\PycharmProjects\\venv\\lib\\site-packages\\finpy_tse\\__init__.py:2551\u001B[0m, in \u001B[0;36m__build_price_panel_seg__\u001B[1;34m(df_response, param, save_excel, save_path)\u001B[0m\n\u001B[0;32m   2549\u001B[0m \u001B[38;5;66;03m# loop to get data from different pages of a ticker:\u001B[39;00m\n\u001B[0;32m   2550\u001B[0m \u001B[38;5;28;01mfor\u001B[39;00m index, row \u001B[38;5;129;01min\u001B[39;00m (ticker_no_df\u001B[38;5;241m.\u001B[39mreset_index())\u001B[38;5;241m.\u001B[39miterrows():\n\u001B[1;32m-> 2551\u001B[0m     df_temp \u001B[38;5;241m=\u001B[39m \u001B[43m__process_price_data__\u001B[49m\u001B[43m(\u001B[49m\u001B[43mticker_no\u001B[49m\u001B[43m \u001B[49m\u001B[38;5;241;43m=\u001B[39;49m\u001B[43m \u001B[49m\u001B[43mrow\u001B[49m\u001B[43m[\u001B[49m\u001B[38;5;124;43m'\u001B[39;49m\u001B[38;5;124;43mWEB-ID\u001B[39;49m\u001B[38;5;124;43m'\u001B[39;49m\u001B[43m]\u001B[49m\u001B[43m,\u001B[49m\u001B[43mticker\u001B[49m\u001B[43m \u001B[49m\u001B[38;5;241;43m=\u001B[39;49m\u001B[43m \u001B[49m\u001B[43mrow\u001B[49m\u001B[43m[\u001B[49m\u001B[38;5;124;43m'\u001B[39;49m\u001B[38;5;124;43mTicker\u001B[39;49m\u001B[38;5;124;43m'\u001B[39;49m\u001B[43m]\u001B[49m\u001B[43m,\u001B[49m\u001B[43m \u001B[49m\u001B[43mr\u001B[49m\u001B[43m \u001B[49m\u001B[38;5;241;43m=\u001B[39;49m\u001B[43m \u001B[49m\u001B[43mrow\u001B[49m\u001B[43m[\u001B[49m\u001B[38;5;124;43m'\u001B[39;49m\u001B[38;5;124;43mprice\u001B[39;49m\u001B[38;5;124;43m'\u001B[39;49m\u001B[43m]\u001B[49m\u001B[43m,\u001B[49m\u001B[43m \u001B[49m\u001B[43mdata_part\u001B[49m\u001B[43m \u001B[49m\u001B[38;5;241;43m=\u001B[39;49m\u001B[43m \u001B[49m\u001B[43mindex\u001B[49m\u001B[38;5;241;43m+\u001B[39;49m\u001B[38;5;241;43m1\u001B[39;49m\u001B[43m)\u001B[49m\n\u001B[0;32m   2552\u001B[0m     df_history \u001B[38;5;241m=\u001B[39m pd\u001B[38;5;241m.\u001B[39mconcat([df_history,df_temp])\n\u001B[0;32m   2553\u001B[0m \u001B[38;5;66;03m# sort index and reverse the order for more processes:\u001B[39;00m\n",
      "File \u001B[1;32m~\\PycharmProjects\\venv\\lib\\site-packages\\finpy_tse\\__init__.py:2522\u001B[0m, in \u001B[0;36m__process_price_data__\u001B[1;34m(ticker_no, ticker, r, data_part)\u001B[0m\n\u001B[0;32m   2520\u001B[0m columns\u001B[38;5;241m=\u001B[39m[\u001B[38;5;124m'\u001B[39m\u001B[38;5;124mDate\u001B[39m\u001B[38;5;124m'\u001B[39m,\u001B[38;5;124m'\u001B[39m\u001B[38;5;124mHigh\u001B[39m\u001B[38;5;124m'\u001B[39m,\u001B[38;5;124m'\u001B[39m\u001B[38;5;124mLow\u001B[39m\u001B[38;5;124m'\u001B[39m,\u001B[38;5;124m'\u001B[39m\u001B[38;5;124mFinal\u001B[39m\u001B[38;5;124m'\u001B[39m,\u001B[38;5;124m'\u001B[39m\u001B[38;5;124mClose\u001B[39m\u001B[38;5;124m'\u001B[39m,\u001B[38;5;124m'\u001B[39m\u001B[38;5;124mOpen\u001B[39m\u001B[38;5;124m'\u001B[39m,\u001B[38;5;124m'\u001B[39m\u001B[38;5;124mY-Final\u001B[39m\u001B[38;5;124m'\u001B[39m,\u001B[38;5;124m'\u001B[39m\u001B[38;5;124mValue\u001B[39m\u001B[38;5;124m'\u001B[39m,\u001B[38;5;124m'\u001B[39m\u001B[38;5;124mVolume\u001B[39m\u001B[38;5;124m'\u001B[39m,\u001B[38;5;124m'\u001B[39m\u001B[38;5;124mNo\u001B[39m\u001B[38;5;124m'\u001B[39m]\n\u001B[0;32m   2521\u001B[0m \u001B[38;5;66;03m#split data into defined columns\u001B[39;00m\n\u001B[1;32m-> 2522\u001B[0m \u001B[43mdf_history\u001B[49m\u001B[43m[\u001B[49m\u001B[43mcolumns\u001B[49m\u001B[43m]\u001B[49m \u001B[38;5;241m=\u001B[39m df_history[\u001B[38;5;241m0\u001B[39m]\u001B[38;5;241m.\u001B[39mstr\u001B[38;5;241m.\u001B[39msplit(\u001B[38;5;124m\"\u001B[39m\u001B[38;5;124m@\u001B[39m\u001B[38;5;124m\"\u001B[39m,expand\u001B[38;5;241m=\u001B[39m\u001B[38;5;28;01mTrue\u001B[39;00m)\n\u001B[0;32m   2523\u001B[0m \u001B[38;5;66;03m# drop old column 0\u001B[39;00m\n\u001B[0;32m   2524\u001B[0m df_history\u001B[38;5;241m.\u001B[39mdrop(columns\u001B[38;5;241m=\u001B[39m[\u001B[38;5;241m0\u001B[39m],inplace\u001B[38;5;241m=\u001B[39m\u001B[38;5;28;01mTrue\u001B[39;00m)\n",
      "File \u001B[1;32m~\\PycharmProjects\\venv\\lib\\site-packages\\pandas\\core\\frame.py:3968\u001B[0m, in \u001B[0;36mDataFrame.__setitem__\u001B[1;34m(self, key, value)\u001B[0m\n\u001B[0;32m   3966\u001B[0m     \u001B[38;5;28mself\u001B[39m\u001B[38;5;241m.\u001B[39m_setitem_frame(key, value)\n\u001B[0;32m   3967\u001B[0m \u001B[38;5;28;01melif\u001B[39;00m \u001B[38;5;28misinstance\u001B[39m(key, (Series, np\u001B[38;5;241m.\u001B[39mndarray, \u001B[38;5;28mlist\u001B[39m, Index)):\n\u001B[1;32m-> 3968\u001B[0m     \u001B[38;5;28;43mself\u001B[39;49m\u001B[38;5;241;43m.\u001B[39;49m\u001B[43m_setitem_array\u001B[49m\u001B[43m(\u001B[49m\u001B[43mkey\u001B[49m\u001B[43m,\u001B[49m\u001B[43m \u001B[49m\u001B[43mvalue\u001B[49m\u001B[43m)\u001B[49m\n\u001B[0;32m   3969\u001B[0m \u001B[38;5;28;01melif\u001B[39;00m \u001B[38;5;28misinstance\u001B[39m(value, DataFrame):\n\u001B[0;32m   3970\u001B[0m     \u001B[38;5;28mself\u001B[39m\u001B[38;5;241m.\u001B[39m_set_item_frame_value(key, value)\n",
      "File \u001B[1;32m~\\PycharmProjects\\venv\\lib\\site-packages\\pandas\\core\\frame.py:4010\u001B[0m, in \u001B[0;36mDataFrame._setitem_array\u001B[1;34m(self, key, value)\u001B[0m\n\u001B[0;32m   4005\u001B[0m \u001B[38;5;28;01melse\u001B[39;00m:\n\u001B[0;32m   4006\u001B[0m     \u001B[38;5;66;03m# Note: unlike self.iloc[:, indexer] = value, this will\u001B[39;00m\n\u001B[0;32m   4007\u001B[0m     \u001B[38;5;66;03m#  never try to overwrite values inplace\u001B[39;00m\n\u001B[0;32m   4009\u001B[0m     \u001B[38;5;28;01mif\u001B[39;00m \u001B[38;5;28misinstance\u001B[39m(value, DataFrame):\n\u001B[1;32m-> 4010\u001B[0m         \u001B[43mcheck_key_length\u001B[49m\u001B[43m(\u001B[49m\u001B[38;5;28;43mself\u001B[39;49m\u001B[38;5;241;43m.\u001B[39;49m\u001B[43mcolumns\u001B[49m\u001B[43m,\u001B[49m\u001B[43m \u001B[49m\u001B[43mkey\u001B[49m\u001B[43m,\u001B[49m\u001B[43m \u001B[49m\u001B[43mvalue\u001B[49m\u001B[43m)\u001B[49m\n\u001B[0;32m   4011\u001B[0m         \u001B[38;5;28;01mfor\u001B[39;00m k1, k2 \u001B[38;5;129;01min\u001B[39;00m \u001B[38;5;28mzip\u001B[39m(key, value\u001B[38;5;241m.\u001B[39mcolumns):\n\u001B[0;32m   4012\u001B[0m             \u001B[38;5;28mself\u001B[39m[k1] \u001B[38;5;241m=\u001B[39m value[k2]\n",
      "File \u001B[1;32m~\\PycharmProjects\\venv\\lib\\site-packages\\pandas\\core\\indexers\\utils.py:401\u001B[0m, in \u001B[0;36mcheck_key_length\u001B[1;34m(columns, key, value)\u001B[0m\n\u001B[0;32m    399\u001B[0m \u001B[38;5;28;01mif\u001B[39;00m columns\u001B[38;5;241m.\u001B[39mis_unique:\n\u001B[0;32m    400\u001B[0m     \u001B[38;5;28;01mif\u001B[39;00m \u001B[38;5;28mlen\u001B[39m(value\u001B[38;5;241m.\u001B[39mcolumns) \u001B[38;5;241m!=\u001B[39m \u001B[38;5;28mlen\u001B[39m(key):\n\u001B[1;32m--> 401\u001B[0m         \u001B[38;5;28;01mraise\u001B[39;00m \u001B[38;5;167;01mValueError\u001B[39;00m(\u001B[38;5;124m\"\u001B[39m\u001B[38;5;124mColumns must be same length as key\u001B[39m\u001B[38;5;124m\"\u001B[39m)\n\u001B[0;32m    402\u001B[0m \u001B[38;5;28;01melse\u001B[39;00m:\n\u001B[0;32m    403\u001B[0m     \u001B[38;5;66;03m# Missing keys in columns are represented as -1\u001B[39;00m\n\u001B[0;32m    404\u001B[0m     \u001B[38;5;28;01mif\u001B[39;00m \u001B[38;5;28mlen\u001B[39m(columns\u001B[38;5;241m.\u001B[39mget_indexer_non_unique(key)[\u001B[38;5;241m0\u001B[39m]) \u001B[38;5;241m!=\u001B[39m \u001B[38;5;28mlen\u001B[39m(value\u001B[38;5;241m.\u001B[39mcolumns):\n",
      "\u001B[1;31mValueError\u001B[0m: Columns must be same length as key"
     ]
    }
   ],
   "source": [
    "tse.Build_PricePanel(list(symbols.index), jalali_date=False, save_excel=True, save_path='D:/FinPy-TSE Data/')"
   ],
   "metadata": {
    "collapsed": false,
    "pycharm": {
     "name": "#%%\n"
    }
   }
  },
  {
   "cell_type": "code",
   "execution_count": 16,
   "outputs": [
    {
     "data": {
      "text/plain": "                 Date   Open   High    Low  Close  Final   Volume  \\\nJ-Date                                                              \n1383-10-26 2005-01-15   1800   1800   1800   1800   1800  1440000   \n1383-10-27 2005-01-16   1890   1890   1890   1890   1890   260120   \n1383-10-28 2005-01-17   1984   1984   1984   1984   1984  1500000   \n1383-11-07 2005-01-26   2083   2083   2083   2083   2083   269196   \n1383-11-11 2005-01-30   2187   2187   2060   2162   2162  2673786   \n...               ...    ...    ...    ...    ...    ...      ...   \n1402-11-11 2024-01-31  62310  65940  62310  64590  64950   686677   \n1402-11-14 2024-02-03  65000  65850  63700  63960  64490   484315   \n1402-11-15 2024-02-04  64470  65240  62970  63020  63790   280921   \n1402-11-16 2024-02-05  64950  64950  62980  63000  63550   369649   \n1402-11-17 2024-02-06  64890  64890  62810  63900  63600   295866   \n\n                  Value    No Ticker                           Name Market  \nJ-Date                                                                      \n1383-10-26   2592000000  1810   آباد  توریستی ورفاهی آبادگران ایران   بورس  \n1383-10-27    491626800   257   آباد  توریستی ورفاهی آبادگران ایران   بورس  \n1383-10-28   2976000000  1227   آباد  توریستی ورفاهی آبادگران ایران   بورس  \n1383-11-07    560735268   198   آباد  توریستی ورفاهی آبادگران ایران   بورس  \n1383-11-11   5781634832  1834   آباد  توریستی ورفاهی آبادگران ایران   بورس  \n...                 ...   ...    ...                            ...    ...  \n1402-11-11  44602886170   624   آباد  توریستی ورفاهی آبادگران ایران   بورس  \n1402-11-14  31235695290   492   آباد  توریستی ورفاهی آبادگران ایران   بورس  \n1402-11-15  17919244920   583   آباد  توریستی ورفاهی آبادگران ایران   بورس  \n1402-11-16  23492807400   470   آباد  توریستی ورفاهی آبادگران ایران   بورس  \n1402-11-17  18816653150   488   آباد  توریستی ورفاهی آبادگران ایران   بورس  \n\n[3642 rows x 12 columns]",
      "text/html": "<div>\n<style scoped>\n    .dataframe tbody tr th:only-of-type {\n        vertical-align: middle;\n    }\n\n    .dataframe tbody tr th {\n        vertical-align: top;\n    }\n\n    .dataframe thead th {\n        text-align: right;\n    }\n</style>\n<table border=\"1\" class=\"dataframe\">\n  <thead>\n    <tr style=\"text-align: right;\">\n      <th></th>\n      <th>Date</th>\n      <th>Open</th>\n      <th>High</th>\n      <th>Low</th>\n      <th>Close</th>\n      <th>Final</th>\n      <th>Volume</th>\n      <th>Value</th>\n      <th>No</th>\n      <th>Ticker</th>\n      <th>Name</th>\n      <th>Market</th>\n    </tr>\n    <tr>\n      <th>J-Date</th>\n      <th></th>\n      <th></th>\n      <th></th>\n      <th></th>\n      <th></th>\n      <th></th>\n      <th></th>\n      <th></th>\n      <th></th>\n      <th></th>\n      <th></th>\n      <th></th>\n    </tr>\n  </thead>\n  <tbody>\n    <tr>\n      <th>1383-10-26</th>\n      <td>2005-01-15</td>\n      <td>1800</td>\n      <td>1800</td>\n      <td>1800</td>\n      <td>1800</td>\n      <td>1800</td>\n      <td>1440000</td>\n      <td>2592000000</td>\n      <td>1810</td>\n      <td>آباد</td>\n      <td>توریستی ورفاهی آبادگران ایران</td>\n      <td>بورس</td>\n    </tr>\n    <tr>\n      <th>1383-10-27</th>\n      <td>2005-01-16</td>\n      <td>1890</td>\n      <td>1890</td>\n      <td>1890</td>\n      <td>1890</td>\n      <td>1890</td>\n      <td>260120</td>\n      <td>491626800</td>\n      <td>257</td>\n      <td>آباد</td>\n      <td>توریستی ورفاهی آبادگران ایران</td>\n      <td>بورس</td>\n    </tr>\n    <tr>\n      <th>1383-10-28</th>\n      <td>2005-01-17</td>\n      <td>1984</td>\n      <td>1984</td>\n      <td>1984</td>\n      <td>1984</td>\n      <td>1984</td>\n      <td>1500000</td>\n      <td>2976000000</td>\n      <td>1227</td>\n      <td>آباد</td>\n      <td>توریستی ورفاهی آبادگران ایران</td>\n      <td>بورس</td>\n    </tr>\n    <tr>\n      <th>1383-11-07</th>\n      <td>2005-01-26</td>\n      <td>2083</td>\n      <td>2083</td>\n      <td>2083</td>\n      <td>2083</td>\n      <td>2083</td>\n      <td>269196</td>\n      <td>560735268</td>\n      <td>198</td>\n      <td>آباد</td>\n      <td>توریستی ورفاهی آبادگران ایران</td>\n      <td>بورس</td>\n    </tr>\n    <tr>\n      <th>1383-11-11</th>\n      <td>2005-01-30</td>\n      <td>2187</td>\n      <td>2187</td>\n      <td>2060</td>\n      <td>2162</td>\n      <td>2162</td>\n      <td>2673786</td>\n      <td>5781634832</td>\n      <td>1834</td>\n      <td>آباد</td>\n      <td>توریستی ورفاهی آبادگران ایران</td>\n      <td>بورس</td>\n    </tr>\n    <tr>\n      <th>...</th>\n      <td>...</td>\n      <td>...</td>\n      <td>...</td>\n      <td>...</td>\n      <td>...</td>\n      <td>...</td>\n      <td>...</td>\n      <td>...</td>\n      <td>...</td>\n      <td>...</td>\n      <td>...</td>\n      <td>...</td>\n    </tr>\n    <tr>\n      <th>1402-11-11</th>\n      <td>2024-01-31</td>\n      <td>62310</td>\n      <td>65940</td>\n      <td>62310</td>\n      <td>64590</td>\n      <td>64950</td>\n      <td>686677</td>\n      <td>44602886170</td>\n      <td>624</td>\n      <td>آباد</td>\n      <td>توریستی ورفاهی آبادگران ایران</td>\n      <td>بورس</td>\n    </tr>\n    <tr>\n      <th>1402-11-14</th>\n      <td>2024-02-03</td>\n      <td>65000</td>\n      <td>65850</td>\n      <td>63700</td>\n      <td>63960</td>\n      <td>64490</td>\n      <td>484315</td>\n      <td>31235695290</td>\n      <td>492</td>\n      <td>آباد</td>\n      <td>توریستی ورفاهی آبادگران ایران</td>\n      <td>بورس</td>\n    </tr>\n    <tr>\n      <th>1402-11-15</th>\n      <td>2024-02-04</td>\n      <td>64470</td>\n      <td>65240</td>\n      <td>62970</td>\n      <td>63020</td>\n      <td>63790</td>\n      <td>280921</td>\n      <td>17919244920</td>\n      <td>583</td>\n      <td>آباد</td>\n      <td>توریستی ورفاهی آبادگران ایران</td>\n      <td>بورس</td>\n    </tr>\n    <tr>\n      <th>1402-11-16</th>\n      <td>2024-02-05</td>\n      <td>64950</td>\n      <td>64950</td>\n      <td>62980</td>\n      <td>63000</td>\n      <td>63550</td>\n      <td>369649</td>\n      <td>23492807400</td>\n      <td>470</td>\n      <td>آباد</td>\n      <td>توریستی ورفاهی آبادگران ایران</td>\n      <td>بورس</td>\n    </tr>\n    <tr>\n      <th>1402-11-17</th>\n      <td>2024-02-06</td>\n      <td>64890</td>\n      <td>64890</td>\n      <td>62810</td>\n      <td>63900</td>\n      <td>63600</td>\n      <td>295866</td>\n      <td>18816653150</td>\n      <td>488</td>\n      <td>آباد</td>\n      <td>توریستی ورفاهی آبادگران ایران</td>\n      <td>بورس</td>\n    </tr>\n  </tbody>\n</table>\n<p>3642 rows × 12 columns</p>\n</div>"
     },
     "execution_count": 16,
     "metadata": {},
     "output_type": "execute_result"
    }
   ],
   "source": [
    "test_df = tse.get_price_history(symbols.index[0], double_date=True, ignore_date=True)\n",
    "test_df"
   ],
   "metadata": {
    "collapsed": false,
    "pycharm": {
     "name": "#%%\n"
    }
   }
  },
  {
   "cell_type": "code",
   "execution_count": 17,
   "outputs": [
    {
     "data": {
      "text/plain": "          J-Date      Date   Open   High    Low  Close   Volume\n0     1383-10-26  20050115   1800   1800   1800   1800  1440000\n1     1383-10-27  20050116   1890   1890   1890   1890   260120\n2     1383-10-28  20050117   1984   1984   1984   1984  1500000\n3     1383-11-07  20050126   2083   2083   2083   2083   269196\n4     1383-11-11  20050130   2187   2187   2060   2162  2673786\n...          ...       ...    ...    ...    ...    ...      ...\n3637  1402-11-11  20240131  62310  65940  62310  64590   686677\n3638  1402-11-14  20240203  65000  65850  63700  63960   484315\n3639  1402-11-15  20240204  64470  65240  62970  63020   280921\n3640  1402-11-16  20240205  64950  64950  62980  63000   369649\n3641  1402-11-17  20240206  64890  64890  62810  63900   295866\n\n[3642 rows x 7 columns]",
      "text/html": "<div>\n<style scoped>\n    .dataframe tbody tr th:only-of-type {\n        vertical-align: middle;\n    }\n\n    .dataframe tbody tr th {\n        vertical-align: top;\n    }\n\n    .dataframe thead th {\n        text-align: right;\n    }\n</style>\n<table border=\"1\" class=\"dataframe\">\n  <thead>\n    <tr style=\"text-align: right;\">\n      <th></th>\n      <th>J-Date</th>\n      <th>Date</th>\n      <th>Open</th>\n      <th>High</th>\n      <th>Low</th>\n      <th>Close</th>\n      <th>Volume</th>\n    </tr>\n  </thead>\n  <tbody>\n    <tr>\n      <th>0</th>\n      <td>1383-10-26</td>\n      <td>20050115</td>\n      <td>1800</td>\n      <td>1800</td>\n      <td>1800</td>\n      <td>1800</td>\n      <td>1440000</td>\n    </tr>\n    <tr>\n      <th>1</th>\n      <td>1383-10-27</td>\n      <td>20050116</td>\n      <td>1890</td>\n      <td>1890</td>\n      <td>1890</td>\n      <td>1890</td>\n      <td>260120</td>\n    </tr>\n    <tr>\n      <th>2</th>\n      <td>1383-10-28</td>\n      <td>20050117</td>\n      <td>1984</td>\n      <td>1984</td>\n      <td>1984</td>\n      <td>1984</td>\n      <td>1500000</td>\n    </tr>\n    <tr>\n      <th>3</th>\n      <td>1383-11-07</td>\n      <td>20050126</td>\n      <td>2083</td>\n      <td>2083</td>\n      <td>2083</td>\n      <td>2083</td>\n      <td>269196</td>\n    </tr>\n    <tr>\n      <th>4</th>\n      <td>1383-11-11</td>\n      <td>20050130</td>\n      <td>2187</td>\n      <td>2187</td>\n      <td>2060</td>\n      <td>2162</td>\n      <td>2673786</td>\n    </tr>\n    <tr>\n      <th>...</th>\n      <td>...</td>\n      <td>...</td>\n      <td>...</td>\n      <td>...</td>\n      <td>...</td>\n      <td>...</td>\n      <td>...</td>\n    </tr>\n    <tr>\n      <th>3637</th>\n      <td>1402-11-11</td>\n      <td>20240131</td>\n      <td>62310</td>\n      <td>65940</td>\n      <td>62310</td>\n      <td>64590</td>\n      <td>686677</td>\n    </tr>\n    <tr>\n      <th>3638</th>\n      <td>1402-11-14</td>\n      <td>20240203</td>\n      <td>65000</td>\n      <td>65850</td>\n      <td>63700</td>\n      <td>63960</td>\n      <td>484315</td>\n    </tr>\n    <tr>\n      <th>3639</th>\n      <td>1402-11-15</td>\n      <td>20240204</td>\n      <td>64470</td>\n      <td>65240</td>\n      <td>62970</td>\n      <td>63020</td>\n      <td>280921</td>\n    </tr>\n    <tr>\n      <th>3640</th>\n      <td>1402-11-16</td>\n      <td>20240205</td>\n      <td>64950</td>\n      <td>64950</td>\n      <td>62980</td>\n      <td>63000</td>\n      <td>369649</td>\n    </tr>\n    <tr>\n      <th>3641</th>\n      <td>1402-11-17</td>\n      <td>20240206</td>\n      <td>64890</td>\n      <td>64890</td>\n      <td>62810</td>\n      <td>63900</td>\n      <td>295866</td>\n    </tr>\n  </tbody>\n</table>\n<p>3642 rows × 7 columns</p>\n</div>"
     },
     "execution_count": 17,
     "metadata": {},
     "output_type": "execute_result"
    }
   ],
   "source": [
    "test_df=test_df.loc[:, ['Date', 'Open', 'High', 'Low', 'Close', 'Volume']]\n",
    "test_df.Date = np.array([str(i)[:10].replace('-', '') for i in test_df.Date])\n",
    "test_df.reset_index(inplace=True)\n",
    "test_df"
   ],
   "metadata": {
    "collapsed": false,
    "pycharm": {
     "name": "#%%\n"
    }
   }
  },
  {
   "cell_type": "code",
   "execution_count": 18,
   "outputs": [
    {
     "data": {
      "text/plain": "     <DTYYYYMMDD>  <Open>  <HIGH>  <LOW>  <CLOSE>    <VOL>\n0        20050115    1800    1800   1800     1800  1440000\n1        20050116    1890    1890   1890     1890   260120\n2        20050117    1984    1984   1984     1984  1500000\n3        20050126    2083    2083   2083     2083   269196\n4        20050130    2187    2187   2060     2162  2673786\n...           ...     ...     ...    ...      ...      ...\n3637     20240131   62310   65940  62310    64590   686677\n3638     20240203   65000   65850  63700    63960   484315\n3639     20240204   64470   65240  62970    63020   280921\n3640     20240205   64950   64950  62980    63000   369649\n3641     20240206   64890   64890  62810    63900   295866\n\n[3642 rows x 6 columns]",
      "text/html": "<div>\n<style scoped>\n    .dataframe tbody tr th:only-of-type {\n        vertical-align: middle;\n    }\n\n    .dataframe tbody tr th {\n        vertical-align: top;\n    }\n\n    .dataframe thead th {\n        text-align: right;\n    }\n</style>\n<table border=\"1\" class=\"dataframe\">\n  <thead>\n    <tr style=\"text-align: right;\">\n      <th></th>\n      <th>&lt;DTYYYYMMDD&gt;</th>\n      <th>&lt;Open&gt;</th>\n      <th>&lt;HIGH&gt;</th>\n      <th>&lt;LOW&gt;</th>\n      <th>&lt;CLOSE&gt;</th>\n      <th>&lt;VOL&gt;</th>\n    </tr>\n  </thead>\n  <tbody>\n    <tr>\n      <th>0</th>\n      <td>20050115</td>\n      <td>1800</td>\n      <td>1800</td>\n      <td>1800</td>\n      <td>1800</td>\n      <td>1440000</td>\n    </tr>\n    <tr>\n      <th>1</th>\n      <td>20050116</td>\n      <td>1890</td>\n      <td>1890</td>\n      <td>1890</td>\n      <td>1890</td>\n      <td>260120</td>\n    </tr>\n    <tr>\n      <th>2</th>\n      <td>20050117</td>\n      <td>1984</td>\n      <td>1984</td>\n      <td>1984</td>\n      <td>1984</td>\n      <td>1500000</td>\n    </tr>\n    <tr>\n      <th>3</th>\n      <td>20050126</td>\n      <td>2083</td>\n      <td>2083</td>\n      <td>2083</td>\n      <td>2083</td>\n      <td>269196</td>\n    </tr>\n    <tr>\n      <th>4</th>\n      <td>20050130</td>\n      <td>2187</td>\n      <td>2187</td>\n      <td>2060</td>\n      <td>2162</td>\n      <td>2673786</td>\n    </tr>\n    <tr>\n      <th>...</th>\n      <td>...</td>\n      <td>...</td>\n      <td>...</td>\n      <td>...</td>\n      <td>...</td>\n      <td>...</td>\n    </tr>\n    <tr>\n      <th>3637</th>\n      <td>20240131</td>\n      <td>62310</td>\n      <td>65940</td>\n      <td>62310</td>\n      <td>64590</td>\n      <td>686677</td>\n    </tr>\n    <tr>\n      <th>3638</th>\n      <td>20240203</td>\n      <td>65000</td>\n      <td>65850</td>\n      <td>63700</td>\n      <td>63960</td>\n      <td>484315</td>\n    </tr>\n    <tr>\n      <th>3639</th>\n      <td>20240204</td>\n      <td>64470</td>\n      <td>65240</td>\n      <td>62970</td>\n      <td>63020</td>\n      <td>280921</td>\n    </tr>\n    <tr>\n      <th>3640</th>\n      <td>20240205</td>\n      <td>64950</td>\n      <td>64950</td>\n      <td>62980</td>\n      <td>63000</td>\n      <td>369649</td>\n    </tr>\n    <tr>\n      <th>3641</th>\n      <td>20240206</td>\n      <td>64890</td>\n      <td>64890</td>\n      <td>62810</td>\n      <td>63900</td>\n      <td>295866</td>\n    </tr>\n  </tbody>\n</table>\n<p>3642 rows × 6 columns</p>\n</div>"
     },
     "execution_count": 18,
     "metadata": {},
     "output_type": "execute_result"
    }
   ],
   "source": [
    "test_df.drop('J-Date', axis=1, inplace=True)\n",
    "test_df.rename(columns={'Date': '<DTYYYYMMDD>', 'Open': '<Open>', 'High': '<HIGH>', 'Low': '<LOW>', 'Close': '<CLOSE>',\n",
    "                       'Volume': '<VOL>'}, inplace=True)\n",
    "test_df"
   ],
   "metadata": {
    "collapsed": false,
    "pycharm": {
     "name": "#%%\n"
    }
   }
  },
  {
   "cell_type": "code",
   "execution_count": 18,
   "outputs": [
    {
     "data": {
      "text/plain": "                 Date   Open   High    Low  Close   Volume\nJ-Date                                                    \n1383-10-26 2005-01-15   1800   1800   1800   1800  1440000\n1383-10-27 2005-01-16   1890   1890   1890   1890   260120\n1383-10-28 2005-01-17   1984   1984   1984   1984  1500000\n1383-11-07 2005-01-26   2083   2083   2083   2083   269196\n1383-11-11 2005-01-30   2187   2187   2060   2162  2673786\n...               ...    ...    ...    ...    ...      ...\n1402-11-11 2024-01-31  62310  65940  62310  64590   686677\n1402-11-14 2024-02-03  65000  65850  63700  63960   484315\n1402-11-15 2024-02-04  64470  65240  62970  63020   280921\n1402-11-16 2024-02-05  64950  64950  62980  63000   369649\n1402-11-17 2024-02-06  64890  64890  62810  63900   295866\n\n[3642 rows x 6 columns]",
      "text/html": "<div>\n<style scoped>\n    .dataframe tbody tr th:only-of-type {\n        vertical-align: middle;\n    }\n\n    .dataframe tbody tr th {\n        vertical-align: top;\n    }\n\n    .dataframe thead th {\n        text-align: right;\n    }\n</style>\n<table border=\"1\" class=\"dataframe\">\n  <thead>\n    <tr style=\"text-align: right;\">\n      <th></th>\n      <th>Date</th>\n      <th>Open</th>\n      <th>High</th>\n      <th>Low</th>\n      <th>Close</th>\n      <th>Volume</th>\n    </tr>\n    <tr>\n      <th>J-Date</th>\n      <th></th>\n      <th></th>\n      <th></th>\n      <th></th>\n      <th></th>\n      <th></th>\n    </tr>\n  </thead>\n  <tbody>\n    <tr>\n      <th>1383-10-26</th>\n      <td>2005-01-15</td>\n      <td>1800</td>\n      <td>1800</td>\n      <td>1800</td>\n      <td>1800</td>\n      <td>1440000</td>\n    </tr>\n    <tr>\n      <th>1383-10-27</th>\n      <td>2005-01-16</td>\n      <td>1890</td>\n      <td>1890</td>\n      <td>1890</td>\n      <td>1890</td>\n      <td>260120</td>\n    </tr>\n    <tr>\n      <th>1383-10-28</th>\n      <td>2005-01-17</td>\n      <td>1984</td>\n      <td>1984</td>\n      <td>1984</td>\n      <td>1984</td>\n      <td>1500000</td>\n    </tr>\n    <tr>\n      <th>1383-11-07</th>\n      <td>2005-01-26</td>\n      <td>2083</td>\n      <td>2083</td>\n      <td>2083</td>\n      <td>2083</td>\n      <td>269196</td>\n    </tr>\n    <tr>\n      <th>1383-11-11</th>\n      <td>2005-01-30</td>\n      <td>2187</td>\n      <td>2187</td>\n      <td>2060</td>\n      <td>2162</td>\n      <td>2673786</td>\n    </tr>\n    <tr>\n      <th>...</th>\n      <td>...</td>\n      <td>...</td>\n      <td>...</td>\n      <td>...</td>\n      <td>...</td>\n      <td>...</td>\n    </tr>\n    <tr>\n      <th>1402-11-11</th>\n      <td>2024-01-31</td>\n      <td>62310</td>\n      <td>65940</td>\n      <td>62310</td>\n      <td>64590</td>\n      <td>686677</td>\n    </tr>\n    <tr>\n      <th>1402-11-14</th>\n      <td>2024-02-03</td>\n      <td>65000</td>\n      <td>65850</td>\n      <td>63700</td>\n      <td>63960</td>\n      <td>484315</td>\n    </tr>\n    <tr>\n      <th>1402-11-15</th>\n      <td>2024-02-04</td>\n      <td>64470</td>\n      <td>65240</td>\n      <td>62970</td>\n      <td>63020</td>\n      <td>280921</td>\n    </tr>\n    <tr>\n      <th>1402-11-16</th>\n      <td>2024-02-05</td>\n      <td>64950</td>\n      <td>64950</td>\n      <td>62980</td>\n      <td>63000</td>\n      <td>369649</td>\n    </tr>\n    <tr>\n      <th>1402-11-17</th>\n      <td>2024-02-06</td>\n      <td>64890</td>\n      <td>64890</td>\n      <td>62810</td>\n      <td>63900</td>\n      <td>295866</td>\n    </tr>\n  </tbody>\n</table>\n<p>3642 rows × 6 columns</p>\n</div>"
     },
     "execution_count": 18,
     "metadata": {},
     "output_type": "execute_result"
    }
   ],
   "source": [
    "df = test_df.loc[:, ['Date', 'Open', 'High', 'Low', 'Close', 'Volume']]\n",
    "df"
   ],
   "metadata": {
    "collapsed": false,
    "pycharm": {
     "name": "#%%\n"
    }
   }
  },
  {
   "cell_type": "code",
   "execution_count": 23,
   "outputs": [
    {
     "data": {
      "text/plain": "'2005-01-15'"
     },
     "execution_count": 23,
     "metadata": {},
     "output_type": "execute_result"
    }
   ],
   "source": [
    "str(df.Date[0])[:10]"
   ],
   "metadata": {
    "collapsed": false,
    "pycharm": {
     "name": "#%%\n"
    }
   }
  },
  {
   "cell_type": "code",
   "execution_count": 26,
   "outputs": [],
   "source": [
    "df.index = np.array([str(i)[:10].replace('-', '') for i in df.Date])"
   ],
   "metadata": {
    "collapsed": false,
    "pycharm": {
     "name": "#%%\n"
    }
   }
  },
  {
   "cell_type": "code",
   "execution_count": 27,
   "outputs": [
    {
     "data": {
      "text/plain": "               Date   Open   High    Low  Close   Volume\n20050115 2005-01-15   1800   1800   1800   1800  1440000\n20050116 2005-01-16   1890   1890   1890   1890   260120\n20050117 2005-01-17   1984   1984   1984   1984  1500000\n20050126 2005-01-26   2083   2083   2083   2083   269196\n20050130 2005-01-30   2187   2187   2060   2162  2673786\n...             ...    ...    ...    ...    ...      ...\n20240131 2024-01-31  62310  65940  62310  64590   686677\n20240203 2024-02-03  65000  65850  63700  63960   484315\n20240204 2024-02-04  64470  65240  62970  63020   280921\n20240205 2024-02-05  64950  64950  62980  63000   369649\n20240206 2024-02-06  64890  64890  62810  63900   295866\n\n[3642 rows x 6 columns]",
      "text/html": "<div>\n<style scoped>\n    .dataframe tbody tr th:only-of-type {\n        vertical-align: middle;\n    }\n\n    .dataframe tbody tr th {\n        vertical-align: top;\n    }\n\n    .dataframe thead th {\n        text-align: right;\n    }\n</style>\n<table border=\"1\" class=\"dataframe\">\n  <thead>\n    <tr style=\"text-align: right;\">\n      <th></th>\n      <th>Date</th>\n      <th>Open</th>\n      <th>High</th>\n      <th>Low</th>\n      <th>Close</th>\n      <th>Volume</th>\n    </tr>\n  </thead>\n  <tbody>\n    <tr>\n      <th>20050115</th>\n      <td>2005-01-15</td>\n      <td>1800</td>\n      <td>1800</td>\n      <td>1800</td>\n      <td>1800</td>\n      <td>1440000</td>\n    </tr>\n    <tr>\n      <th>20050116</th>\n      <td>2005-01-16</td>\n      <td>1890</td>\n      <td>1890</td>\n      <td>1890</td>\n      <td>1890</td>\n      <td>260120</td>\n    </tr>\n    <tr>\n      <th>20050117</th>\n      <td>2005-01-17</td>\n      <td>1984</td>\n      <td>1984</td>\n      <td>1984</td>\n      <td>1984</td>\n      <td>1500000</td>\n    </tr>\n    <tr>\n      <th>20050126</th>\n      <td>2005-01-26</td>\n      <td>2083</td>\n      <td>2083</td>\n      <td>2083</td>\n      <td>2083</td>\n      <td>269196</td>\n    </tr>\n    <tr>\n      <th>20050130</th>\n      <td>2005-01-30</td>\n      <td>2187</td>\n      <td>2187</td>\n      <td>2060</td>\n      <td>2162</td>\n      <td>2673786</td>\n    </tr>\n    <tr>\n      <th>...</th>\n      <td>...</td>\n      <td>...</td>\n      <td>...</td>\n      <td>...</td>\n      <td>...</td>\n      <td>...</td>\n    </tr>\n    <tr>\n      <th>20240131</th>\n      <td>2024-01-31</td>\n      <td>62310</td>\n      <td>65940</td>\n      <td>62310</td>\n      <td>64590</td>\n      <td>686677</td>\n    </tr>\n    <tr>\n      <th>20240203</th>\n      <td>2024-02-03</td>\n      <td>65000</td>\n      <td>65850</td>\n      <td>63700</td>\n      <td>63960</td>\n      <td>484315</td>\n    </tr>\n    <tr>\n      <th>20240204</th>\n      <td>2024-02-04</td>\n      <td>64470</td>\n      <td>65240</td>\n      <td>62970</td>\n      <td>63020</td>\n      <td>280921</td>\n    </tr>\n    <tr>\n      <th>20240205</th>\n      <td>2024-02-05</td>\n      <td>64950</td>\n      <td>64950</td>\n      <td>62980</td>\n      <td>63000</td>\n      <td>369649</td>\n    </tr>\n    <tr>\n      <th>20240206</th>\n      <td>2024-02-06</td>\n      <td>64890</td>\n      <td>64890</td>\n      <td>62810</td>\n      <td>63900</td>\n      <td>295866</td>\n    </tr>\n  </tbody>\n</table>\n<p>3642 rows × 6 columns</p>\n</div>"
     },
     "execution_count": 27,
     "metadata": {},
     "output_type": "execute_result"
    }
   ],
   "source": [
    "df"
   ],
   "metadata": {
    "collapsed": false,
    "pycharm": {
     "name": "#%%\n"
    }
   }
  },
  {
   "cell_type": "code",
   "execution_count": 30,
   "outputs": [
    {
     "data": {
      "text/plain": "['2506E8E7E4116548D478CE2C3598FAB1',\n 'Common',\n 'Community',\n 'D0E8209F77C8CF37AD8BF550E51FF075',\n 'Help']"
     },
     "execution_count": 30,
     "metadata": {},
     "output_type": "execute_result"
    }
   ],
   "source": [
    "os.listdir('C:\\\\Users\\ADMIN\\AppData\\Roaming\\MetaQuotes\\Terminal')"
   ],
   "metadata": {
    "collapsed": false,
    "pycharm": {
     "name": "#%%\n"
    }
   }
  },
  {
   "cell_type": "code",
   "execution_count": 31,
   "outputs": [],
   "source": [
    "terminals = []\n",
    "for i in os.listdir('C:\\\\Users\\ADMIN\\AppData\\Roaming\\MetaQuotes\\Terminal'):\n",
    "    if '0' in i:\n",
    "        terminals.append(i)"
   ],
   "metadata": {
    "collapsed": false,
    "pycharm": {
     "name": "#%%\n"
    }
   }
  },
  {
   "cell_type": "code",
   "execution_count": 32,
   "outputs": [
    {
     "data": {
      "text/plain": "['2506E8E7E4116548D478CE2C3598FAB1', 'D0E8209F77C8CF37AD8BF550E51FF075']"
     },
     "execution_count": 32,
     "metadata": {},
     "output_type": "execute_result"
    }
   ],
   "source": [
    "terminals"
   ],
   "metadata": {
    "collapsed": false,
    "pycharm": {
     "name": "#%%\n"
    }
   }
  },
  {
   "cell_type": "code",
   "execution_count": 34,
   "outputs": [
    {
     "data": {
      "text/plain": "['Aeiar-0.prn',\n 'Aeiar-D1.prn',\n 'Aeiar-MN1.prn',\n 'Aeiar-W1.prn',\n 'Agas-0.prn',\n 'Agas-D1.prn',\n 'Agas-MN1.prn',\n 'Agas-W1.prn',\n 'Aria-0.prn',\n 'Aria-D1.prn',\n 'Aria-MN1.prn',\n 'Aria-W1.prn',\n 'arZsh mskn-0.prn',\n 'arZsh mskn-D1.prn',\n 'arZsh mskn-MN1.prn',\n 'arZsh mskn-W1.prn',\n 'aTls-0.prn',\n 'aTls-D1.prn',\n 'aTls-MN1.prn',\n 'aTls-W1.prn',\n 'balbr-D1.prn',\n 'balbr-MN1.prn',\n 'balbr-W1.prn',\n 'cabad-D1.prn',\n 'cabad-W1.prn',\n 'cakht-D1.prn',\n 'cakht-W1.prn',\n 'caman-D1.prn',\n 'caman-W1.prn',\n 'camid-0.prn',\n 'camid-D1.prn',\n 'camid-MN1.prn',\n 'camid-W1.prn',\n 'cfars-D1.prn',\n 'cfars-W1.prn',\n 'cmskn-D1.prn',\n 'cmskn-W1.prn',\n 'cnvsa-D1.prn',\n 'cnvsa-W1.prn',\n 'cshahd-D1.prn',\n 'cshahd-W1.prn',\n 'dlr-0.prn',\n 'dlr-D1.prn',\n 'dlr-MN1.prn',\n 'dlr-W1.prn',\n 'fmli-0.prn',\n 'fmli-D1.prn',\n 'fmli-MN1.prn',\n 'fmli-W1.prn',\n 'fZr-0.prn',\n 'fZr-D1.prn',\n 'fZr-MN1.prn',\n 'fZr-W1.prn',\n 'ghshhd-0.prn',\n 'ghshhd-D1.prn',\n 'ghshhd-MN1.prn',\n 'ghshhd-W1.prn',\n 'heghr-D1.prn',\n 'heghr-MN1.prn',\n 'heghr-W1.prn',\n 'hmrah-0.prn',\n 'hmrah-D1.prn',\n 'hmrah-MN1.prn',\n 'hmrah-W1.prn',\n 'hrmZ-0.prn',\n 'hrmZ-D1.prn',\n 'hrmZ-MN1.prn',\n 'hrmZ-W1.prn',\n 'jm piln-D1.prn',\n 'jm piln-W1.prn',\n 'kchad-0.prn',\n 'kchad-D1.prn',\n 'kchad-MN1.prn',\n 'kchad-W1.prn',\n 'khrasan-D1.prn',\n 'khrasan-MN1.prn',\n 'khrasan-W1.prn',\n 'lTif-D1.prn',\n 'lTif-MN1.prn',\n 'lTif-W1.prn',\n 'mbin-0.prn',\n 'mbin-D1.prn',\n 'mbin-MN1.prn',\n 'mbin-W1.prn',\n 'Qedis-0.prn',\n 'Qedis-D1.prn',\n 'Qedis-MN1.prn',\n 'Qedis-W1.prn',\n 'Qeshhdab-0.prn',\n 'Qeshhdab-D1.prn',\n 'Qeshhdab-MN1.prn',\n 'Qeshhdab-W1.prn',\n 'sfanv-D1.prn',\n 'sfanv-MN1.prn',\n 'sfanv-W1.prn',\n 'shakhS kl6-0.prn',\n 'shakhS kl6-D1.prn',\n 'shakhS kl6-MN1.prn',\n 'shakhS kl6-W1.prn',\n 'sharak-0.prn',\n 'sharak-D1.prn',\n 'sharak-MN1.prn',\n 'sharak-W1.prn',\n 'shbndr-0.prn',\n 'shbndr-D1.prn',\n 'shbndr-MN1.prn',\n 'shbndr-W1.prn',\n 'simrQe-0.prn',\n 'simrQe-D1.prn',\n 'simrQe-MN1.prn',\n 'simrQe-W1.prn',\n 'skh-jdid-0.prn',\n 'skh-jdid-D1.prn',\n 'skh-jdid-MN1.prn',\n 'skh-jdid-W1.prn',\n 'tbrk-D1.prn',\n 'tbrk-MN1.prn',\n 'tbrk-W1.prn',\n 'tjli-D1.prn',\n 'tjli-MN1.prn',\n 'tjli-W1.prn',\n 'txtinfo.inf',\n 'USDIRR-D1.prn',\n 'USDIRR-MN1.prn',\n 'USDIRR-W1.prn',\n 'vAzr-D1.prn',\n 'vAzr-W1.prn',\n 'vbmlt-0.prn',\n 'vbmlt-D1.prn',\n 'vbmlt-MN1.prn',\n 'vbmlt-W1.prn',\n 'vkhavr-0.prn',\n 'vkhavr-D1.prn',\n 'vkhavr-MN1.prn',\n 'vkhavr-W1.prn',\n 'vlkar-D1.prn',\n 'vlkar-MN1.prn',\n 'vlkar-W1.prn',\n 'vptrv-D1.prn',\n 'vptrv-MN1.prn',\n 'vptrv-W1.prn',\n 'vpvia-0.prn',\n 'vpvia-D1.prn',\n 'vpvia-MN1.prn',\n 'vpvia-W1.prn',\n 'vsakht-D1.prn',\n 'vsakht-W1.prn',\n 'vtvs-D1.prn',\n 'vtvs-W1.prn',\n 'Zr-D1.prn',\n 'Zr-W1.prn']"
     },
     "execution_count": 34,
     "metadata": {},
     "output_type": "execute_result"
    }
   ],
   "source": [
    "os.listdir('C:\\\\Users\\ADMIN\\AppData\\Roaming\\MetaQuotes\\Terminal' + '\\\\' + terminals[0] + '\\MQL5\\Files')"
   ],
   "metadata": {
    "collapsed": false,
    "pycharm": {
     "name": "#%%\n"
    }
   }
  },
  {
   "cell_type": "code",
   "execution_count": 36,
   "outputs": [],
   "source": [
    "def change_char(inp_char: str):\n",
    "    str1 = [\"ا\", \"آ\", \"ب\", \"پ\", \"ت\", \"ث\", \"ج\", \"چ\", \"ح\", \"خ\", \"د\", \"ذ\", \"ر\", \"ز\", \"ژ\", \"س\", \"ش\", \"ص\", \"ض\", \"ط\", \"ظ\",\n",
    "            \"ع\", \"غ\", \"ف\", \"ق\", \"ک\", \"گ\", \"ل\", \"م\", \"ن\", \"و\", \"ه\", \"ی\", \" \"]\n",
    "    str2 = [\"a\", \"A\", \"b\", \"p\", \"t\", \"c\", \"j\", \"ch\", \"he\", \"kh\", \"d\", \"z\", \"r\", \"Z\", \"zh\", \"s\", \"sh\", \"S\", \"sz\", \"T\",\n",
    "            \"th\", \"Ae\", \"Qe\", \"f\", \"gh\", \"k\", \"g\", \"l\", \"m\", \"n\", \"v\", \"h\", \"i\", \" \"]\n",
    "    for i in range(len(str1) - 1):\n",
    "        if inp_char == str1[i]:\n",
    "            return str2[i]\n",
    "        else:\n",
    "            return False"
   ],
   "metadata": {
    "collapsed": false,
    "pycharm": {
     "name": "#%%\n"
    }
   }
  },
  {
   "cell_type": "code",
   "execution_count": 37,
   "outputs": [],
   "source": [
    "def change_persian_to_english(inp_string: str):\n",
    "    name = ''\n",
    "    for i in inp_string:\n",
    "        if change_char(i) is not False:\n",
    "            name += change_char(i)\n",
    "    return name"
   ],
   "metadata": {
    "collapsed": false,
    "pycharm": {
     "name": "#%%\n"
    }
   }
  },
  {
   "cell_type": "code",
   "execution_count": 40,
   "outputs": [
    {
     "name": "stdout",
     "output_type": "stream",
     "text": [
      "False\n",
      "False\n",
      "a\n",
      "False\n"
     ]
    }
   ],
   "source": [
    "for i in symbols.index[0]:\n",
    "    print(change_char(i))"
   ],
   "metadata": {
    "collapsed": false,
    "pycharm": {
     "name": "#%%\n"
    }
   }
  },
  {
   "cell_type": "code",
   "execution_count": 38,
   "outputs": [
    {
     "data": {
      "text/plain": "'a'"
     },
     "execution_count": 38,
     "metadata": {},
     "output_type": "execute_result"
    }
   ],
   "source": [
    "change_persian_to_english(symbols.index[0])"
   ],
   "metadata": {
    "collapsed": false,
    "pycharm": {
     "name": "#%%\n"
    }
   }
  },
  {
   "cell_type": "code",
   "execution_count": 41,
   "outputs": [
    {
     "data": {
      "text/plain": "Index(['آباد', 'آبادا', 'آپ', 'آسیا', 'اپال', 'اخابر', 'اردستان', 'اسیاتک',\n       'افق', 'البرز',\n       ...\n       'رتکو', 'حشکوه', 'بهیر', 'کاریز', 'زکوثر', 'اتکام', 'جم پیلن', 'ثمسکن',\n       'چکاوه', 'بکاب'],\n      dtype='object', name='Ticker', length=749)"
     },
     "execution_count": 41,
     "metadata": {},
     "output_type": "execute_result"
    }
   ],
   "source": [
    "symbols.index"
   ],
   "metadata": {
    "collapsed": false,
    "pycharm": {
     "name": "#%%\n"
    }
   }
  },
  {
   "cell_type": "code",
   "execution_count": 47,
   "outputs": [],
   "source": [
    "def chars(inp_str):\n",
    "    char = []\n",
    "    for i in inp_str:\n",
    "        char.append(i)\n",
    "    return char"
   ],
   "metadata": {
    "collapsed": false,
    "pycharm": {
     "name": "#%%\n"
    }
   }
  },
  {
   "cell_type": "code",
   "execution_count": 49,
   "outputs": [
    {
     "data": {
      "text/plain": "['آ', 'ب', 'ا', 'د']"
     },
     "execution_count": 49,
     "metadata": {},
     "output_type": "execute_result"
    }
   ],
   "source": [
    "[] + chars(symbols.index[0])"
   ],
   "metadata": {
    "collapsed": false,
    "pycharm": {
     "name": "#%%\n"
    }
   }
  },
  {
   "cell_type": "code",
   "execution_count": 51,
   "outputs": [
    {
     "data": {
      "text/plain": "[['آ', 'ب', 'ا', 'د'],\n ['آ', 'ب', 'ا', 'د', 'ا'],\n ['آ', 'پ'],\n ['آ', 'س', 'ی', 'ا'],\n ['ا', 'پ', 'ا', 'ل'],\n ['ا', 'خ', 'ا', 'ب', 'ر'],\n ['ا', 'ر', 'د', 'س', 'ت', 'ا', 'ن'],\n ['ا', 'س', 'ی', 'ا', 'ت', 'ک'],\n ['ا', 'ف', 'ق'],\n ['ا', 'ل', 'ب', 'ر', 'ز'],\n ['ا', 'م', 'ی', 'د'],\n ['ا', 'م', 'ی', 'ن'],\n ['ا', 'ن', 'ر', 'ژ', 'ی'],\n ['ب', 'ا', 'ل', 'ب', 'ر'],\n ['ب', 'ت', 'ر', 'ا', 'ن', 'س'],\n ['ب', 'ر', 'ک', 'ت'],\n ['ب', 'س', 'و', 'ی', 'چ'],\n ['ب', 'ش', 'ه', 'ا', 'ب'],\n ['ب', 'ف', 'ج', 'ر'],\n ['ب', 'ک', 'ا', 'م'],\n ['ب', 'م', 'و', 'ت', 'و'],\n ['ب', 'ن', 'ی', 'ر', 'و'],\n ['ب', 'و', 'ر', 'س'],\n ['ب', 'و', 'ع', 'ل', 'ی'],\n ['پ', 'ا', 'ر', 'س'],\n ['پ', 'ا', 'ر', 'س', 'ا', 'ن'],\n ['پ', 'ا', 'ر', 'س', 'ی', 'ا', 'ن'],\n ['پ', 'ا', 'س', 'ا'],\n ['پ', 'ا', 'ک', 'ش', 'و'],\n ['پ', 'ت', 'ا', 'ی', 'ر'],\n ['پ', 'ت', 'ر', 'و', 'ل'],\n ['پ', 'د', 'ر', 'خ', 'ش'],\n ['پ', 'ر', 'د', 'ا', 'خ', 'ت'],\n ['پ', 'ر', 'د', 'ی', 'س'],\n ['پ', 'س', 'ه', 'ن', 'د'],\n ['پ', 'ک', 'ر', 'م', 'ا', 'ن'],\n ['پ', 'ک', 'و', 'ی', 'ر'],\n ['پ', 'ل', 'ا', 'س', 'ک'],\n ['پ', 'ی', ' ', 'پ', 'ا', 'د'],\n ['ت', 'ا', 'پ', 'ی', 'ک', 'و'],\n ['ت', 'ا', 'ص', 'ی', 'ک', 'و'],\n ['ت', 'ا', 'ی', 'ر', 'ا'],\n ['ت', 'پ', 'م', 'پ', 'ی'],\n ['ت', 'ک', 'ا', 'ر', 'د', 'ا', 'ن'],\n ['ت', 'ک', 'ش', 'ا'],\n ['ت', 'ک', 'م', 'ب', 'ا'],\n ['ت', 'ک', 'ن', 'و'],\n ['ت', 'م', 'ل', 'ت'],\n ['ت', 'ن', 'و', 'ی', 'ن'],\n ['ت', 'ی', 'پ', 'ی', 'ک', 'و'],\n ['ث', 'ا', 'خ', 'ت'],\n ['ث', 'ا', 'م', 'ا', 'ن'],\n ['ث', 'ا', 'م', 'ی', 'د'],\n ['ث', 'ب', 'ه', 'س', 'ا', 'ز'],\n ['ث', 'ش', 'ا', 'ه', 'د'],\n ['ث', 'ش', 'ر', 'ق'],\n ['ث', 'ف', 'ا', 'ر', 'س'],\n ['ث', 'ن', 'و', 'س', 'ا'],\n ['ج', 'م'],\n ['چ', 'ا', 'ف', 'س', 'ت'],\n ['چ', 'د', 'ن'],\n ['چ', 'ف', 'ی', 'ب', 'ر'],\n ['چ', 'ک', 'ا', 'پ', 'ا'],\n ['چ', 'ک', 'ا', 'ر', 'ن'],\n ['ح', 'پ', 'ت', 'ر', 'و'],\n ['ح', 'ت', 'ا', 'ی', 'د'],\n ['ح', 'ت', 'و', 'ک', 'ا'],\n ['ح', 'ف', 'ا', 'ر', 'س'],\n ['ح', 'ف', 'ا', 'ر', 'ی'],\n ['ح', 'ک', 'ش', 'ت', 'ی'],\n ['خ', 'ا', 'ذ', 'ی', 'ن'],\n ['خ', 'ا', 'ه', 'ن'],\n ['خ', 'ب', 'ه', 'م', 'ن'],\n ['خ', 'پ', 'و', 'ی', 'ش'],\n ['خ', 'ت', 'ر', 'ا', 'ک'],\n ['خ', 'ت', 'و', 'ر'],\n ['خ', 'ت', 'و', 'ق', 'ا'],\n ['خ', 'چ', 'ر', 'خ', 'ش'],\n ['خ', 'ر', 'ا', 'س', 'ا', 'ن'],\n ['خ', 'ر', 'ی', 'خ', 'ت'],\n ['خ', 'ر', 'ی', 'ن', 'گ'],\n ['خ', 'ز', 'ا', 'م', 'ی', 'ا'],\n ['خ', 'ز', 'ر'],\n ['خ', 'س', 'ا', 'پ', 'ا'],\n ['خ', 'ش', 'ر', 'ق'],\n ['خ', 'ف', 'ن', 'ر'],\n ['خ', 'ک', 'ا', 'ر'],\n ['خ', 'ک', 'م', 'ک'],\n ['خ', 'گ', 'س', 'ت', 'ر'],\n ['خ', 'ل', 'ن', 'ت'],\n ['خ', 'م', 'ح', 'ر', 'ک', 'ه'],\n ['خ', 'م', 'ح', 'و', 'ر'],\n ['خ', 'م', 'ه', 'ر'],\n ['خ', 'م', 'و', 'ت', 'و', 'ر'],\n ['خ', 'ن', 'ص', 'ی', 'ر'],\n ['خ', 'و', 'د', 'ر', 'و'],\n ['خ', 'و', 'س', 'ا', 'ز'],\n ['د', 'ا', 'ب', 'و', 'ر'],\n ['د', 'ا', 'ت', 'ا', 'م'],\n ['د', 'ا', 'ر', 'و'],\n ['د', 'ا', 'س', 'و', 'ه'],\n ['د', 'ا', 'ل', 'ب', 'ر'],\n ['د', 'ا', 'م', 'ی', 'ن'],\n ['د', 'ا', 'ن', 'ا'],\n ['د', 'پ', 'ا', 'ر', 'س'],\n ['د', 'ت', 'م', 'ا', 'د'],\n ['د', 'ج', 'ا', 'ب', 'ر'],\n ['د', 'د', 'ا', 'م'],\n ['د', 'ر', 'ا', 'ز', 'ک'],\n ['د', 'ر', 'و', 'ز'],\n ['د', 'ز', 'ه', 'ر', 'ا', 'و', 'ی'],\n ['د', 'س', 'ب', 'ح', 'ا'],\n ['د', 'س', 'ب', 'ح', 'ا', 'ن'],\n ['د', 'س', 'ی', 'ن', 'ا'],\n ['د', 'ش', 'ی', 'م', 'ی'],\n ['د', 'ع', 'ب', 'ی', 'د'],\n ['د', 'ف', 'ا', 'ر', 'ا'],\n ['د', 'ف', 'ر', 'ا'],\n ['د', 'ک', 'و', 'ث', 'ر'],\n ['د', 'ک', 'ی', 'م', 'ی'],\n ['د', 'ل', 'ر'],\n ['د', 'ل', 'ق', 'م', 'ا'],\n ['د', 'ی', 'ر', 'ا', 'ن'],\n ['ذ', 'و', 'ب'],\n ['ر', 'ا', 'ن', 'ف', 'و', 'ر'],\n ['ر', 'ت', 'ا', 'پ'],\n ['ر', 'ک', 'ی', 'ش'],\n ['ر', 'م', 'پ', 'ن', 'ا'],\n ['ز', 'پ', 'ا', 'ر', 'س'],\n ['ز', 'م', 'گ', 'س', 'ا'],\n ['س', 'آ', 'ب', 'ی', 'ک'],\n ['س', 'ا', 'ر', 'ا', 'ب'],\n ['س', 'ا', 'ر', 'ب', 'ی', 'ل'],\n ['س', 'ا', 'ر', 'و', 'م'],\n ['س', 'ب', 'ج', 'ن', 'و'],\n ['س', 'ب', 'ه', 'ا', 'ن'],\n ['س', 'پ'],\n ['س', 'پ', 'ا', 'ه', 'ا'],\n ['س', 'پ', 'ی', 'د'],\n ['س', 'ت', 'ر', 'ا', 'ن'],\n ['س', 'خ', 'ا', 'ش'],\n ['س', 'خ', 'ز', 'ر'],\n ['س', 'خ', 'و', 'ز'],\n ['س', 'د', 'ش', 'ت'],\n ['س', 'د', 'و', 'ر'],\n ['س', 'ر', 'و', 'د'],\n ['س', 'ش', 'ر', 'ق'],\n ['س', 'ش', 'م', 'ا', 'ل'],\n ['س', 'ص', 'ف', 'ه', 'ا'],\n ['س', 'ص', 'و', 'ف', 'ی'],\n ['س', 'غ', 'ر', 'ب'],\n ['س', 'ف', 'ا', 'ر'],\n ['س', 'ف', 'ا', 'ر', 'س'],\n ['س', 'ف', 'ا', 'ن', 'و'],\n ['س', 'ق', 'ا', 'ی', 'ن'],\n ['س', 'ک', 'ر', 'د'],\n ['س', 'ک', 'ر', 'م', 'ا'],\n ['س', 'م', 'ا', 'ز', 'ن'],\n ['س', 'ن', 'ی', 'ر'],\n ['س', 'ه', 'ر', 'م', 'ز'],\n ['س', 'ه', 'گ', 'م', 'ت'],\n ['س', 'ی', 'ت', 'ا'],\n ['س', 'ی', 'د', 'ک', 'و'],\n ['س', 'ی', 'س', 'ت', 'م'],\n ['س', 'ی', 'ل', 'ا', 'م'],\n ['س', 'ی', 'م', 'ر', 'غ'],\n ['ش', 'ا', 'ر', 'ا', 'ک'],\n ['ش', 'ا', 'م', 'ل', 'ا'],\n ['ش', 'ب', 'ر', 'ی', 'ز'],\n ['ش', 'ب', 'ن', 'د', 'ر'],\n ['ش', 'ب', 'ه', 'ر', 'ن'],\n ['ش', 'پ', 'ا', 'ر', 'س'],\n ['ش', 'پ', 'ا', 'ک', 'س', 'ا'],\n ['ش', 'پ', 'د', 'ی', 'س'],\n ['ش', 'پ', 'ن', 'ا'],\n ['ش', 'ت', 'ر', 'ا', 'ن'],\n ['ش', 'خ', 'ا', 'ر', 'ک'],\n ['ش', 'د', 'و', 'ص'],\n ['ش', 'ر', 'ا', 'ز'],\n ['ش', 'س', 'پ', 'ا'],\n ['ش', 'س', 'ت', 'ا'],\n ['ش', 'س', 'ی', 'ن', 'ا'],\n ['ش', 'غ', 'د', 'ی', 'ر'],\n ['ش', 'ف', 'ا'],\n ['ش', 'ف', 'ا', 'ر', 'س'],\n ['ش', 'ف', 'ن'],\n ['ش', 'ک', 'ر', 'ب', 'ن'],\n ['ش', 'ک', 'ل', 'ر'],\n ['ش', 'گ', 'ل'],\n ['ش', 'ل', 'ع', 'ا', 'ب'],\n ['ش', 'ن', 'ف', 'ت'],\n ['ش', 'ه', 'ر'],\n ['ش', 'و', 'ی', 'ن', 'د', 'ه'],\n ['ش', 'ی', 'ر', 'ا', 'ز'],\n ['ش', 'ی', 'ر', 'ا', 'ن'],\n ['ص', 'ب', 'ا'],\n ['غ', 'ا', 'ذ', 'ر'],\n ['غ', 'ا', 'ل', 'ب', 'ر'],\n ['غ', 'ب', 'ش', 'ه', 'ر'],\n ['غ', 'ب', 'ه', 'ن', 'و', 'ش'],\n ['غ', 'پ', 'ا', 'ک'],\n ['غ', 'پ', 'ی', 'ن', 'و'],\n ['غ', 'چ', 'ی', 'ن'],\n ['غ', 'د', 'ا', 'م'],\n ['غ', 'د', 'ش', 'ت'],\n ['غ', 'ز', 'ر'],\n ['غ', 'س', 'ا', 'ل', 'م'],\n ['غ', 'ش', 'ا', 'ذ', 'ر'],\n ['غ', 'ش', 'ا', 'ن'],\n ['غ', 'ش', 'ص', 'ف', 'ا'],\n ['غ', 'ش', 'ه', 'د'],\n ['غ', 'ک', 'و', 'ر', 'ش'],\n ['غ', 'گ', 'ر', 'ج', 'ی'],\n ['غ', 'گ', 'ل'],\n ['غ', 'م', 'ه', 'ر', 'ا'],\n ['غ', 'ن', 'و', 'ش'],\n ['ف', 'ا', 'ذ', 'ر'],\n ['ف', 'ا', 'ر', 'ا', 'ک'],\n ['ف', 'ا', 'ر', 'س'],\n ['ف', 'ا', 'س', 'م', 'ی', 'ن'],\n ['ف', 'ا', 'م', 'ا'],\n ['ف', 'ا', 'ی', 'ر', 'ا'],\n ['ف', 'ب', 'ا', 'ه', 'ن', 'ر'],\n ['ف', 'پ', 'ن', 'ت', 'ا'],\n ['ف', 'ج', 'ا', 'م'],\n ['ف', 'ج', 'ر'],\n ['ف', 'خ', 'ا', 'س'],\n ['ف', 'خ', 'و', 'ز'],\n ['ف', 'ر', 'آ', 'و', 'ر'],\n ['ف', 'ر', 'و', 'س'],\n ['ف', 'س', 'ا', 'ز', 'ا', 'ن'],\n ['ف', 'س', 'ب', 'ز', 'و', 'ا', 'ر'],\n ['ف', 'س', 'پ', 'ا'],\n ['ف', 'س', 'ر', 'ب'],\n ['ف', 'ل', 'ا', 'م', 'ی'],\n ['ف', 'ل', 'و', 'ل', 'ه'],\n ['ف', 'م', 'ر', 'ا', 'د'],\n ['ف', 'م', 'ل', 'ی'],\n ['ف', 'ن', 'و', 'ا', 'ل'],\n ['ف', 'ن', 'و', 'ر', 'د'],\n ['ف', 'و', 'ل', 'ا', 'د'],\n ['ف', 'و', 'ل', 'ا', 'ژ'],\n ['ق', 'پ', 'ی', 'ر', 'ا'],\n ['ق', 'ث', 'ا', 'ب', 'ت'],\n ['ق', 'ر', 'ن'],\n ['ق', 'ز', 'و', 'ی', 'ن'],\n ['ق', 'ش', 'ک', 'ر'],\n ['ق', 'ش', 'ه', 'د'],\n ['ق', 'ص', 'ف', 'ه', 'ا'],\n ['ق', 'ل', 'ر', 'س', 'ت'],\n ['ق', 'م', 'ر', 'و'],\n ['ق', 'ن', 'ی', 'ش', 'ا'],\n ['ق', 'ه', 'ک', 'م', 'ت'],\n ['ک', 'ا', 'ذ', 'ر'],\n ['ک', 'ا', 'ل', 'ا'],\n ['ک', 'ا', 'م', 'ا'],\n ['ک', 'ا', 'و', 'ه'],\n ['ک', 'ب', 'ا', 'ف', 'ق'],\n ['ک', 'پ', 'ا', 'ر', 'س'],\n ['ک', 'پ', 'ش', 'ی', 'ر'],\n ['ک', 'ت', 'ر', 'ا', 'م'],\n ['ک', 'چ', 'ا', 'د'],\n ['ک', 'ح', 'ا', 'ف', 'ظ'],\n ['ک', 'خ', 'ا', 'ک'],\n ['ک', 'د', 'م', 'ا'],\n ['ک', 'ر', 'ا', 'ز', 'ی'],\n ['ک', 'ر', 'م', 'ا', 'ش', 'ا'],\n ['ک', 'ر', 'و', 'ی'],\n ['ک', 'س', 'ا', 'پ', 'ا'],\n ['ک', 'س', 'ا', 'و', 'ه'],\n ['ک', 'س', 'ر', 'ا'],\n ['ک', 'س', 'ر', 'ا', 'م'],\n ['ک', 'س', 'ع', 'د', 'ی'],\n ['ک', 'ط', 'ب', 'س'],\n ['ک', 'ف', 'پ', 'ا', 'ر', 'س'],\n ['ک', 'ف', 'ر', 'ا'],\n ['ک', 'گ', 'ا', 'ز'],\n ['ک', 'گ', 'ل'],\n ['ک', 'ل', 'و', 'ن', 'د'],\n ['ک', 'م', 'ا', 'س', 'ه'],\n ['ک', 'م', 'ن', 'گ', 'ن', 'ز'],\n ['ک', 'ن', 'و', 'ر'],\n ['ک', 'ه', 'م', 'د', 'ا'],\n ['ک', 'و', 'ی', 'ر'],\n ['ک', 'ی', 'م', 'ی', 'ا'],\n ['ک', 'ی', 'م', 'ی', 'ا', 'ت', 'ک'],\n ['ل', 'ا', 'ب', 'س', 'ا'],\n ['ل', 'ب', 'و', 'ت', 'ا', 'ن'],\n ['ل', 'پ', 'ا', 'ر', 'س'],\n ['ل', 'خ', 'ز', 'ر'],\n ['ل', 'س', 'ر', 'م', 'ا'],\n ['ل', 'و', 'ت', 'و', 'س'],\n ['م', 'ا'],\n ['م', 'ب', 'ی', 'ن'],\n ['م', 'د', 'ا', 'ر', 'ا', 'ن'],\n ['م', 'ل', 'ت'],\n ['م', 'ی', 'د', 'ک', 'و'],\n ['ن', 'م', 'ر', 'ی', 'ن', 'و'],\n ['ن', 'و', 'ر', 'ی'],\n ['ه', 'ا', 'ی', ' ', 'و', 'ب'],\n ['ه', 'م', 'ر', 'ا', 'ه'],\n ['و', 'آ', 'ذ', 'ر'],\n ['و', 'آ', 'ف', 'ر', 'ی'],\n ['و', 'ا', 'ت', 'ی'],\n ['و', 'ا', 'ع', 'ت', 'ب', 'ا', 'ر'],\n ['و', 'ا', 'ل', 'ب', 'ر'],\n ['و', 'ا', 'م', 'ی', 'د'],\n ['و', 'ا', 'ی', 'ر', 'ا', 'ن'],\n ['و', 'ب', 'ا', 'ن', 'ک'],\n ['و', 'ب', 'ش', 'ه', 'ر'],\n ['و', 'ب', 'ص', 'ا', 'د', 'ر'],\n ['و', 'ب', 'م', 'ل', 'ت'],\n ['و', 'ب', 'ه', 'م', 'ن'],\n ['و', 'ب', 'و', 'ع', 'ل', 'ی'],\n ['و', 'ب', 'ی', 'م', 'ه'],\n ['و', 'پ', 'ا', 'ر', 'س'],\n ['و', 'پ', 'ا', 'س', 'ا', 'ر'],\n ['و', 'پ', 'ت', 'ر', 'و'],\n ['و', 'پ', 'خ', 'ش'],\n ['و', 'پ', 'س', 'ت'],\n ['و', 'ت', 'ج', 'ا', 'ر', 'ت'],\n ['و', 'ت', 'و', 'س'],\n ['و', 'ت', 'و', 'س', 'م'],\n ['و', 'ت', 'و', 'ش', 'ه'],\n ['و', 'ت', 'و', 'ص', 'ا'],\n ['و', 'ت', 'و', 'ک', 'ا'],\n ['و', 'خ', 'ا', 'ر', 'ز', 'م'],\n ['و', 'خ', 'ا', 'و', 'ر'],\n ['و', 'ر', 'ن', 'ا'],\n ['و', 'س', 'ا', 'پ', 'ا'],\n ['و', 'س', 'ا', 'خ', 'ت'],\n ['و', 'س', 'ا', 'ر', 'ب', 'ی', 'ل'],\n ['و', 'س', 'ا', 'ش', 'ر', 'ق', 'ی'],\n ['و', 'س', 'ا', 'غ', 'ر', 'ب', 'ی'],\n ['و', 'س', 'ب', 'و', 'ش', 'ه', 'ر'],\n ['و', 'س', 'پ', 'ه'],\n ['و', 'س', 'خ', 'ر', 'ا', 'ج'],\n ['و', 'س', 'خ', 'ر', 'ا', 'ش'],\n ['و', 'س', 'خ', 'و', 'ز'],\n ['و', 'س', 'ر', 'ض', 'و', 'ی'],\n ['و', 'س', 'ز', 'ن', 'ج', 'ا', 'ن'],\n ['و', 'س', 'ص', 'ف', 'ا'],\n ['و', 'س', 'ف', 'ا', 'ر', 'س'],\n ['و', 'س', 'ق', 'م'],\n ['و', 'س', 'ک', 'ا', 'ب'],\n ['و', 'س', 'ک', 'ر', 'د'],\n ['و', 'س', 'ک', 'ر', 'ش', 'ا'],\n ['و', 'س', 'ک', 'ر', 'م', 'ا', 'ن'],\n ['و', 'س', 'ک', 'ه', 'ب', 'و'],\n ['و', 'س', 'گ', 'ل', 'س', 'ت', 'ا'],\n ['و', 'س', 'گ', 'ی', 'ل', 'ا'],\n ['و', 'س', 'ل', 'ر', 'س', 'ت', 'ا'],\n ['و', 'س', 'م', 'ا', 'ز', 'ن'],\n ['و', 'س', 'م', 'ر', 'ک', 'ز'],\n ['و', 'س', 'ه', 'ر', 'م', 'ز'],\n ['و', 'س', 'ه', 'م', 'د', 'ا'],\n ['و', 'س', 'ی', 'ز', 'د'],\n ['و', 'س', 'ی', 'س', 'ت', 'ا'],\n ['و', 'س', 'ی', 'ل', 'ا', 'م'],\n ['و', 'س', 'ی', 'ن', 'ا'],\n ['و', 'ص', 'ن', 'ا'],\n ['و', 'ص', 'ن', 'د', 'و', 'ق'],\n ['و', 'ص', 'ن', 'ع', 'ت'],\n ['و', 'غ', 'د', 'ی', 'ر'],\n ['و', 'ک', 'ا', 'ر'],\n ['و', 'ک', 'غ', 'د', 'ی', 'ر'],\n ['و', 'ل', 'پ', 'ا', 'ر', 'س'],\n ['و', 'ل', 'س', 'ا', 'پ', 'ا'],\n ['و', 'ل', 'ص', 'ن', 'م'],\n ['و', 'ل', 'غ', 'د', 'ر'],\n ['و', 'ل', 'ک', 'ا', 'ر'],\n ['و', 'ل', 'م', 'ل', 'ت'],\n ['و', 'م', 'د', 'ی', 'ر'],\n ['و', 'م', 'ع', 'ا', 'د', 'ن'],\n ['و', 'م', 'ل', 'ی'],\n ['و', 'م', 'ه', 'ا', 'ن'],\n ['و', 'ن', 'ف', 'ت'],\n ['و', 'ن', 'و', 'ی', 'ن'],\n ['و', 'ن', 'ی', 'ر', 'و'],\n ['و', 'ن', 'ی', 'ک', 'ی'],\n ['آ', ' ', 'س', ' ', 'پ'],\n ['آ', 'ر', 'ی', 'ا'],\n ['ا', 'پ', 'ر', 'د', 'ا', 'ز'],\n ['ا', 'ت', 'ک', 'ا', 'ی'],\n ['ا', 'ر', 'ف', 'ع'],\n ['ا', 'ع', 'ت', 'ل', 'ا'],\n ['ا', 'ف', 'ر', 'ا'],\n ['ا', 'ن', 'ت', 'خ', 'ا', 'ب'],\n ['ا', 'و', 'ا', 'ن'],\n ['ب', 'ا', 'ل', 'ا', 'س'],\n ['ب', 'پ', 'ا', 'س'],\n ['ب', 'پ', 'ی', 'و', 'ن', 'د'],\n ['ب', 'ج', 'ه', 'ر', 'م'],\n ['ب', 'خ', 'ا', 'و', 'ر'],\n ['ب', 'ز', 'ا', 'گ', 'ر', 'س'],\n ['ب', 'س', 'ا', 'م', 'ا'],\n ['ب', 'ک', 'ا', 'ب', 'ل'],\n ['ب', 'ک', 'ه', 'ن', 'و', 'ج'],\n ['ب', 'گ', 'ی', 'ل', 'ا', 'ن'],\n ['ب', 'م', 'پ', 'ن', 'ا'],\n ['ب', 'م', 'و', 'ل', 'د'],\n ['ب', 'ن', 'و'],\n ['ب', 'ه', 'پ', 'ا', 'ک'],\n ['پ', 'ا', 'ر', 'ت', 'ا'],\n ['پ', 'خ', 'ش'],\n ['پ', 'ی', 'ز', 'د'],\n ['ت', 'ا', 'پ', 'ک', 'ی', 'ش'],\n ['ت', 'ب', 'ر', 'ک'],\n ['ت', 'پ', 'س', 'ی'],\n ['ت', 'ج', 'ل', 'ی'],\n ['ت', 'ل', 'ی', 'س', 'ه'],\n ['ت', 'م', 'ا', 'و', 'ن', 'د'],\n ['ت', 'و', 'ر', 'ی', 'ل'],\n ['ت', 'و', 'س', 'ن'],\n ['ث', 'ا', 'ل', 'و', 'ن', 'د'],\n ['ث', 'ب', 'ا', 'غ'],\n ['ث', 'پ', 'ر', 'د', 'ی', 'س'],\n ['ث', 'ت', 'ر', 'ا', 'ن'],\n ['ث', 'ج', 'ن', 'و', 'ب'],\n ['ث', 'ر', 'و', 'د'],\n ['ث', 'ع', 'م', 'ر', 'ا'],\n ['ث', 'غ', 'ر', 'ب'],\n ['چ', 'خ', 'ز', 'ر'],\n ['ح', 'آ', 'س', 'ا'],\n ['ح', 'آ', 'ف', 'ر', 'ی', 'ن'],\n ['ح', 'پ', 'ا', 'ر', 'س', 'ا'],\n ['ح', 'پ', 'ر', 'ت', 'و'],\n ['ح', 'خ', 'ز', 'ر'],\n ['ح', 'ر', 'ی', 'ل'],\n ['ح', 'س', 'ی', 'ر'],\n ['ح', 'س', 'ی', 'ن', 'ا'],\n ['ح', 'گ', 'ه', 'ر'],\n ['خ', 'ا', 'و', 'ر'],\n ['خ', 'د', 'ی', 'ز', 'ل'],\n ['خ', 'ک', 'ر', 'م', 'ا', 'ن'],\n ['د', 'ا', 'و', 'ه'],\n ['د', 'ب', 'ا', 'ل', 'ک'],\n ['د', 'ت', 'و', 'ز', 'ی', 'ع'],\n ['د', 'ت', 'و', 'ل', 'ی', 'د'],\n ['د', 'د', 'ا', 'ن', 'ا'],\n ['د', 'ر', 'ا', 'ز', 'ی'],\n ['د', 'ر', 'ه', 'آ', 'و', 'ر'],\n ['د', 'س', 'ا', 'ن', 'ک', 'و'],\n ['د', 'ق', 'ا', 'ض', 'ی'],\n ['د', 'ک', 'پ', 'س', 'و', 'ل'],\n ['د', 'م', 'ا', 'و', 'ن', 'د'],\n ['ر', 'ا', 'ف', 'ز', 'ا'],\n ['ر', 'ن', 'ی', 'ک'],\n ['ر', 'ی', 'ش', 'م', 'ک'],\n ['ز', 'ا', 'گ', 'ر', 'س'],\n ['ز', 'ب', 'ی', 'ن', 'ا'],\n ['ز', 'د', 'ش', 'ت'],\n ['ز', 'ش', 'ر', 'ی', 'ف'],\n ['ز', 'ش', 'گ', 'ز', 'ا'],\n ['ز', 'ف', 'ج', 'ر'],\n ['ز', 'ف', 'ک', 'ا'],\n ['ز', 'ق', 'ی', 'ا', 'م'],\n ['ز', 'ک', 'ش', 'ت'],\n ['ز', 'گ', 'ل', 'د', 'ش', 'ت'],\n ['ز', 'م', 'ا', 'ه', 'ا', 'ن'],\n ['ز', 'م', 'ل', 'ا', 'ر', 'د'],\n ['ز', 'ن', 'گ', 'ا', 'ن'],\n ['س', 'ا', 'ر', 'و', 'ج'],\n ['س', 'ا', 'م', 'ا', 'ن'],\n ['س', 'ا', 'و', 'ه'],\n ['س', 'ا', 'ی', 'ن', 'ا'],\n ['س', 'ب', 'ز', 'و', 'ا'],\n ['س', 'پ', 'ی', 'د', 'ا', 'ر'],\n ['س', 'ج', 'ا', 'م'],\n ['س', 'د', 'ب', 'ی', 'ر'],\n ['س', 'ر', 'چ', 'ش', 'م', 'ه'],\n ['س', 'غ', 'د', 'ی', 'ر'],\n ['س', 'م', 'گ', 'ا'],\n ['ش', 'ا', 'ر', 'و', 'م'],\n ['ش', 'ا', 'و', 'ا', 'ن'],\n ['ش', 'ب', 'ص', 'ی', 'ر'],\n ['ش', 'پ', 'ا', 'س'],\n ['ش', 'ت', 'و', 'ک', 'ا'],\n ['ش', 'ج', 'م'],\n ['ش', 'ر', 'ا', 'ن', 'ل'],\n ['ش', 'ص', 'د', 'ف'],\n ['ش', 'ک', 'ا', 'م'],\n ['ش', 'گ', 'و', 'ی', 'ا'],\n ['ش', 'م', 'ل', 'ی'],\n ['ع', 'ا', 'ل', 'ی', 'س'],\n ['غ', 'پ', 'آ', 'ذ', 'ر'],\n ['غ', 'پ', 'و', 'ن', 'ه'],\n ['غ', 'د', 'ا', 'ن', 'ه'],\n ['غ', 'د', 'ی', 'س'],\n ['غ', 'ش', 'ه', 'د', 'ا', 'ب'],\n ['غ', 'ص', 'ی', 'ن', 'و'],\n ['غ', 'ف', 'ا', 'ر', 'س'],\n ['غ', 'گ', 'ل', 'پ', 'ا'],\n ['غ', 'گ', 'ل', 'س', 'ت', 'ا'],\n ['غ', 'گ', 'ی', 'ل', 'ا'],\n ['غ', 'م', 'ا', 'ی', 'ه'],\n ['غ', 'م', 'ی', 'ن', 'و'],\n ['غ', 'و', 'ی', 'ت', 'ا'],\n ['ف', 'ت', 'و', 'س', 'ا'],\n ['ف', 'ج', 'ه', 'ا', 'ن'],\n ['ف', 'ر', 'ا', 'ب', 'و', 'ر', 'س'],\n ['ف', 'ر', 'و', 'د'],\n ['ف', 'ر', 'و', 'ژ'],\n ['ف', 'ر', 'و', 'س', 'ی', 'ل'],\n ['ف', 'ر', 'و', 'ی'],\n ['ف', 'ز', 'ر'],\n ['ف', 'ز', 'ر', 'ی', 'ن'],\n ['ف', 'س', 'و', 'ژ'],\n ['ف', 'ص', 'ب', 'ا'],\n ['ف', 'غ', 'د', 'ی', 'ر'],\n ['ف', 'گ', 'س', 'ت', 'ر'],\n ['ف', 'ن', ' ', 'ا', 'ف', 'ز', 'ا', 'ر'],\n ['ف', 'ن', 'ر'],\n ['ف', 'و', 'ل', 'ا', 'ی'],\n ['ق', 'ا', 'س', 'م'],\n ['ق', 'چ', 'ا', 'ر'],\n ['ق', 'ش', 'ی', 'ر'],\n ['ک', 'ا', 'س', 'پ', 'ی', 'ن'],\n ['ک', 'ا', 'ی', 'ز', 'د'],\n ['ک', 'پ', 'ر', 'و', 'ر'],\n ['ک', 'ت', 'و', 'س', 'ع', 'ه'],\n ['ک', 'ت', 'و', 'ک', 'ا'],\n ['ک', 'ر', 'م', 'ا', 'ن'],\n ['ک', 'ر', 'و', 'م', 'ی', 'ت'],\n ['ک', 'ز', 'غ', 'ا', 'ل'],\n ['ک', 'ش', 'ر', 'ق'],\n ['ک', 'گ', 'ه', 'ر'],\n ['ک', 'ل', 'ر'],\n ['ک', 'م', 'ر', 'ج', 'ا', 'ن'],\n ['ک', 'و', 'ث', 'ر'],\n ['ک', 'ی', ' ', 'ب', 'ی', ' ', 'س', 'ی'],\n ['گ', 'د', 'ن', 'ا'],\n ['گ', 'ک', 'و', 'ث', 'ر'],\n ['گ', 'ل', 'د', 'ی', 'ر', 'ا'],\n ['گ', 'و', 'ه', 'ر', 'ا', 'ن'],\n ['ل', 'ط', 'ی', 'ف'],\n ['م', 'ا', 'د', 'ی', 'ر', 'ا'],\n ['م', 'ا', 'ر', 'و', 'ن'],\n ['م', 'د', 'ی', 'ر', 'ی', 'ت'],\n ['م', 'ف', 'ا', 'خ', 'ر'],\n ['م', 'ی', 'ه', 'ن'],\n ['ن', 'ا', 'م', 'ا'],\n ['ن', 'خ', 'ر', 'ی', 'س'],\n ['ن', 'ط', 'ر', 'ی', 'ن'],\n ['ن', 'و', 'ی', 'ن'],\n ['ن', 'ی', 'ا', 'ن'],\n ['ه', 'ج', 'ر', 'ت'],\n ['ه', 'ر', 'م', 'ز'],\n ['و', 'آ', 'و', 'ا'],\n ['و', 'ا', 'ل', 'م', 'ا', 'س'],\n ['و', 'ا', 'م', 'ی', 'ن'],\n ['و', 'پ', 'و', 'ی', 'ا'],\n ['و', 'ت', 'ع', 'ا', 'و', 'ن'],\n ['و', 'د', 'ی'],\n ['و', 'س', 'ب', 'ح', 'ا', 'ن'],\n ['و', 'س', 'پ', 'ه', 'ر'],\n ['و', 'ط', 'و', 'ب', 'ی'],\n ['و', 'ک', 'ب', 'ه', 'م', 'ن'],\n ['و', 'گ', 'ر', 'د', 'ش'],\n ['و', 'گ', 'س', 'ت', 'ر'],\n ['و', 'ل', 'ب', 'ه', 'م', 'ن'],\n ['و', 'ل', 'ت', 'ج', 'ا', 'ر'],\n ['و', 'ل', 'ش', 'ر', 'ق'],\n ['و', 'م', 'ع', 'ل', 'م'],\n ['و', 'م', 'ل', 'ل'],\n ['و', 'ه', 'ا', 'م', 'و', 'ن'],\n ['و', 'ه', 'و', 'ر'],\n ['ش', 'ت', 'ه', 'ر', 'ا', 'ن'],\n ['ک', 'ا', 'ر', 'ا', 'م'],\n ['ف', 'ن', ' ', 'آ', 'و', 'ا'],\n ['ش', 'ک', 'ب', 'ی', 'ر'],\n ['ک', 'ا', 'ز', 'ر', 'و'],\n ['م', 'م', 'س', 'ن', 'ی'],\n ['ش', 'ل', 'ر', 'د'],\n ['و', 'ش', 'م', 'ا', 'ل'],\n ['ز', 'ن', 'ج', 'ا', 'ن'],\n ['ت', 'ک', 'ی', 'م', 'ی', 'ا'],\n ['و', 'ب', 'ر', 'ق'],\n ['ا', 'س', 'ت', 'ق', 'ل', 'ا', 'ل'],\n ['پ', 'ر', 'س', 'پ', 'و', 'ل', 'ی', 'س'],\n ['د', 'ه', 'د', 'ش', 'ت'],\n ['ن', 'ی', 'ر', 'و'],\n ['آ', 'ر', 'ی', 'ا', 'ن'],\n ['س', 'ن', 'و', 'ی', 'ن'],\n ['ت', 'ف', 'ا', 'ر', 'س'],\n ['و', 'د', 'ا', 'ن', 'ا'],\n ['ب', 'م', 'ی', 'ل', 'ا'],\n ['ت', 'ک', 'ن', 'ا', 'ر'],\n ['د', 'ا', 'ر', 'ا', 'ب'],\n ['ف', 'س', 'ا'],\n ['ج', 'ه', 'ر', 'م'],\n ['ح', 'ر', 'ه', 'ش', 'ا'],\n ['س', 'خ', 'و', 'ا', 'ف'],\n ['آ', 'ر', 'م', 'ا', 'ن'],\n ['و', 'ح', 'ک', 'م', 'ت'],\n ['خ', 'ع', 'م', 'ر', 'ا'],\n ['ح', 'ا', 'ر', 'ی', 'ا'],\n ['د', 'ش', 'ی', 'ر', 'ی'],\n ['ف', 'ل', 'ا', 'ت'],\n ['ک', 'ی', 'س', 'و', 'ن'],\n ['و', 'ک', 'ا', 'د', 'و'],\n ['و', 'پ', 'س', 'ا'],\n ['ب', 'ت', 'ک'],\n ['س', 'ک', 'ا', 'ر', 'و', 'ن'],\n ['ش', 'م', 'و', 'ا', 'د'],\n ['ح', 'ب', 'ن', 'د', 'ر'],\n ['ش', 'پ', 'ل', 'ی'],\n ['و', 'ل', 'ر', 'ا', 'ز'],\n ['و', 'ر', 'ا', 'ز', 'ی'],\n ['ث', 'ع', 'ت', 'م', 'ا'],\n ['و', 'ی', 'س', 'ا'],\n ['ث', 'ن', 'ظ', 'ا', 'م'],\n ['و', 'ز', 'م', 'ی', 'ن'],\n ['د', 'ی'],\n ['ش', 'س', 'ت', 'ا', 'ن'],\n ['ث', 'ج', 'و', 'ا', 'ن'],\n ['ک', 'ص', 'د', 'ف'],\n ['ک', 'م', 'ی', 'ن', 'ا'],\n ['ک', 'ب', 'ا', 'د', 'ه'],\n ['ش', 'س', 'ا', 'خ', 'ت'],\n ['و', 'آ', 'ف', 'ر'],\n ['و', 'ا', 'ح', 'ص', 'ا'],\n ['و', 'ا', 'ح', 'ی', 'ا'],\n ['س', 'ف', 'ا', 'س', 'ی'],\n ['و', 'م', 'ل', 'ت'],\n ['خ', 'ف', 'ن', 'ا', 'و', 'ر'],\n ['خ', 'ک', 'ا', 'و', 'ه'],\n ['ت', 'ش', 'ت', 'ا', 'د'],\n ['و', 'ف', 'ت', 'خ', 'ا', 'ر'],\n ['گ', 'ک', 'ی', 'ش'],\n ['ج', 'و', 'ی', 'ن'],\n ['ف', 'ب', 'ی', 'ر', 'ا'],\n ['ل', 'ک', 'م', 'ا'],\n ['س', 'ل', 'ا', 'ر'],\n ['و', 'ث', 'و', 'ق'],\n ['ل', 'ا', 'ز', 'م', 'ا'],\n ['ف', 'س', 'د', 'ی', 'د'],\n ['پ', 'ل', 'ا', 'س', 'ت'],\n ['پ', 'ش', 'ا', 'ه', 'ن'],\n ['ک', 'ق', 'ز', 'و', 'ی'],\n ['ق', 'ج', 'ا', 'م'],\n ['ب', 'ا', 'ی', 'ک', 'ا'],\n ['غ', 'ی', 'و', 'ا', 'ن'],\n ['ل', 'پ', 'ی', 'ا', 'م'],\n ['و', 'ا', 'م', 'ی', 'ر'],\n ['ق', 'ن', 'ق', 'ش'],\n ['س', 'م', 'ا', 'ی', 'ه'],\n ['خ', 'ص', 'د', 'ر', 'ا'],\n ['ش', 'ف', 'ا', 'ر', 'ا'],\n ['و', 'ث', 'ن', 'و'],\n ['ک', 'ه', 'ر', 'ا', 'م'],\n ['و', 'س', 'ا', 'ل', 'ت'],\n ['گ', 'ن', 'گ', 'ی', 'ن'],\n ['ف', 'ن', 'ف', 'ت'],\n ['ا', 'ت', 'ک', 'ا', 'س', 'ا'],\n ['ق', 'ی', 'س', 'ت', 'و'],\n ['ش', 'ل', 'ی', 'ا'],\n ['ق', 'ش', 'ر', 'ی', 'ن'],\n ['و', 'ه', 'ن', 'ر'],\n ['ش', 'ز', 'ن', 'گ'],\n ['ک', 'ا', 'ی', 'ت', 'ا'],\n ['ل', 'خ', 'ا', 'ن', 'ه'],\n ['غ', 'ب', 'ه', 'ا', 'ر'],\n ['و', 'ش', 'ه', 'ر'],\n ['خ', 'ب', 'ا', 'ز', 'ر', 'س'],\n ['و', 'آ', 'ر', 'ی', 'ن'],\n ['ث', 'ن', 'ا', 'م'],\n ['ش', 'پ', 'ت', 'ر', 'و'],\n ['و', 'م', 'ش', 'ا', 'ن'],\n ['ث', 'ن', 'و', 'ر'],\n ['ث', 'ق', 'ز', 'و', 'ی'],\n ['ف', 'ا', 'ل', 'و', 'م'],\n ['س', 'پ', 'ر', 'م', 'ی'],\n ['س', 'ا', 'ذ', 'ر', 'ی'],\n ['پ', 'ل', 'و', 'ل', 'ه'],\n ['س', 'ا', 'ی', 'ر', 'ا'],\n ['چ', 'ن', 'و', 'پ', 'ا'],\n ['و', 'ل', 'ا', 'ن', 'ا'],\n ['س', 'ب', 'ا', 'ق', 'ر'],\n ['س', 'م', 'ت', 'ا', 'ز'],\n ['ت', 'پ', 'ک', 'و'],\n ['ف', 'ج', 'و', 'ش'],\n ['د', 'ت', 'ه', 'ر', 'ا', 'ن'],\n ['ک', 'و', 'ر', 'ز'],\n ['گ', 'ش', 'ا', 'ن'],\n ['و', 'آ', 'ی', 'ن', 'د'],\n ['و', 'س', 'ر', 'م', 'د'],\n ['و', 'س', 'ن', 'ا'],\n ['ب', 'ا', 'ر', 'ا', 'ن'],\n ['و', 'آ', 'ت', 'و', 'س'],\n ['ن', 'ب', 'ر', 'و', 'ج'],\n ['و', 'ل', 'ی', 'ز'],\n ['ت', 'م', 'ح', 'ر', 'ک', 'ه'],\n ['ف', 'ب', 'س', 'ت', 'م'],\n ['و', 'ح', 'ا', 'ف', 'ظ'],\n ['و', 'ث', 'خ', 'و', 'ز'],\n ['ق', 'ت', 'ر', 'ب', 'ت'],\n ['ت', 'ا', 'ت', 'م', 'س'],\n ['خ', 'ب', 'ن', 'ی', 'ا', 'ن'],\n ['ب', 'ا', 'ز', 'ر', 'گ', 'ا', 'م'],\n ['ن', 'ش', 'ا', 'ر'],\n ['س', 'ف', 'ا', 'ر', 'و', 'د'],\n ['ف', 'ک', 'م', 'ن', 'د'],\n ['ت', 'ف', 'ی', 'ر', 'و'],\n ['ر', 'ف', 'ا', 'ه'],\n ['ن', 'ت', 'و', 'س'],\n ['و', 'س', 'د', 'ی', 'د'],\n ['ش', 'ر', 'ن', 'گ', 'ی'],\n ['ش', 'ت', 'و', 'ل', 'ی'],\n ['ث', 'ز', 'ا', 'گ', 'ر', 'س'],\n ['خ', 'ل', 'ی', 'ب', 'ل'],\n ['و', 'س', 'ی', 'ن'],\n ['و', 'ت', 'و', 'س', 'ک', 'ا'],\n ['ف', 'ا', 'ف', 'ز', 'ا'],\n ['خ', 'و', 'د', 'ک', 'ف', 'ا'],\n ['ش', 'ک', 'ف'],\n ['ک', 'ف', 'ر', 'آ', 'و', 'ر'],\n ['ت', 'ا', 'ب', 'ا'],\n ['ف', 'ا', 'ف', 'ق'],\n ['ف', 'و', 'ک', 'ا'],\n ['خ', 'پ', 'ا', 'ر', 'س'],\n ['ش', 'ص', 'ف', 'ه', 'ا'],\n ['آ', 'و', 'ا', 'پ', 'ا', 'ر', 'س'],\n ['خ', 'ف', 'و', 'ل', 'ا'],\n ['ح', 'گ', 'ر', 'د', 'ش'],\n ['ت', 'پ', 'و', 'ل', 'ا'],\n ['ق', 'ا', 'ر', 'و', 'م'],\n ['گ', 'پ', 'ا', 'ر', 'س'],\n ['ب', 'ت', 'ه', 'ر', 'ا', 'ن'],\n ['م', 'ر', 'ق', 'ا', 'م'],\n ['و', 'ا', 'ی', 'ر', 'ا'],\n ['ث', 'ت', 'و', 'س', 'ا'],\n ['ف', 'ا', 'ه', 'و', 'ا', 'ز'],\n ['ف', 'ن', 'ر', 'ژ', 'ی'],\n ['و', 'ف', 'ر', 'د', 'ا'],\n ['و', 'ج', 'ا', 'م', 'ی'],\n ['م', 'ع', 'ی', 'ا', 'ر'],\n ['غ', 'ن', 'ا', 'ب'],\n ['ث', 'ا', 'ص', 'ف', 'ا'],\n ['ر', 'ت', 'ک', 'و'],\n ['ح', 'ش', 'ک', 'و', 'ه'],\n ['ب', 'ه', 'ی', 'ر'],\n ['ک', 'ا', 'ر', 'ی', 'ز'],\n ['ز', 'ک', 'و', 'ث', 'ر'],\n ['ا', 'ت', 'ک', 'ا', 'م'],\n ['ج', 'م', ' ', 'پ', 'ی', 'ل', 'ن'],\n ['ث', 'م', 'س', 'ک', 'ن'],\n ['چ', 'ک', 'ا', 'و', 'ه'],\n ['ب', 'ک', 'ا', 'ب']]"
     },
     "execution_count": 51,
     "metadata": {},
     "output_type": "execute_result"
    }
   ],
   "source": [
    "a = []\n",
    "[a + i for i in [chars(i) for i in symbols.index]]"
   ],
   "metadata": {
    "collapsed": false,
    "pycharm": {
     "name": "#%%\n"
    }
   }
  },
  {
   "cell_type": "code",
   "execution_count": 52,
   "outputs": [],
   "source": [
    "a = []\n",
    "for i in [chars(i) for i in symbols.index]:\n",
    "    a += i"
   ],
   "metadata": {
    "collapsed": false,
    "pycharm": {
     "name": "#%%\n"
    }
   }
  },
  {
   "cell_type": "code",
   "execution_count": 53,
   "outputs": [
    {
     "data": {
      "text/plain": "['آ',\n 'ب',\n 'ا',\n 'د',\n 'آ',\n 'ب',\n 'ا',\n 'د',\n 'ا',\n 'آ',\n 'پ',\n 'آ',\n 'س',\n 'ی',\n 'ا',\n 'ا',\n 'پ',\n 'ا',\n 'ل',\n 'ا',\n 'خ',\n 'ا',\n 'ب',\n 'ر',\n 'ا',\n 'ر',\n 'د',\n 'س',\n 'ت',\n 'ا',\n 'ن',\n 'ا',\n 'س',\n 'ی',\n 'ا',\n 'ت',\n 'ک',\n 'ا',\n 'ف',\n 'ق',\n 'ا',\n 'ل',\n 'ب',\n 'ر',\n 'ز',\n 'ا',\n 'م',\n 'ی',\n 'د',\n 'ا',\n 'م',\n 'ی',\n 'ن',\n 'ا',\n 'ن',\n 'ر',\n 'ژ',\n 'ی',\n 'ب',\n 'ا',\n 'ل',\n 'ب',\n 'ر',\n 'ب',\n 'ت',\n 'ر',\n 'ا',\n 'ن',\n 'س',\n 'ب',\n 'ر',\n 'ک',\n 'ت',\n 'ب',\n 'س',\n 'و',\n 'ی',\n 'چ',\n 'ب',\n 'ش',\n 'ه',\n 'ا',\n 'ب',\n 'ب',\n 'ف',\n 'ج',\n 'ر',\n 'ب',\n 'ک',\n 'ا',\n 'م',\n 'ب',\n 'م',\n 'و',\n 'ت',\n 'و',\n 'ب',\n 'ن',\n 'ی',\n 'ر',\n 'و',\n 'ب',\n 'و',\n 'ر',\n 'س',\n 'ب',\n 'و',\n 'ع',\n 'ل',\n 'ی',\n 'پ',\n 'ا',\n 'ر',\n 'س',\n 'پ',\n 'ا',\n 'ر',\n 'س',\n 'ا',\n 'ن',\n 'پ',\n 'ا',\n 'ر',\n 'س',\n 'ی',\n 'ا',\n 'ن',\n 'پ',\n 'ا',\n 'س',\n 'ا',\n 'پ',\n 'ا',\n 'ک',\n 'ش',\n 'و',\n 'پ',\n 'ت',\n 'ا',\n 'ی',\n 'ر',\n 'پ',\n 'ت',\n 'ر',\n 'و',\n 'ل',\n 'پ',\n 'د',\n 'ر',\n 'خ',\n 'ش',\n 'پ',\n 'ر',\n 'د',\n 'ا',\n 'خ',\n 'ت',\n 'پ',\n 'ر',\n 'د',\n 'ی',\n 'س',\n 'پ',\n 'س',\n 'ه',\n 'ن',\n 'د',\n 'پ',\n 'ک',\n 'ر',\n 'م',\n 'ا',\n 'ن',\n 'پ',\n 'ک',\n 'و',\n 'ی',\n 'ر',\n 'پ',\n 'ل',\n 'ا',\n 'س',\n 'ک',\n 'پ',\n 'ی',\n ' ',\n 'پ',\n 'ا',\n 'د',\n 'ت',\n 'ا',\n 'پ',\n 'ی',\n 'ک',\n 'و',\n 'ت',\n 'ا',\n 'ص',\n 'ی',\n 'ک',\n 'و',\n 'ت',\n 'ا',\n 'ی',\n 'ر',\n 'ا',\n 'ت',\n 'پ',\n 'م',\n 'پ',\n 'ی',\n 'ت',\n 'ک',\n 'ا',\n 'ر',\n 'د',\n 'ا',\n 'ن',\n 'ت',\n 'ک',\n 'ش',\n 'ا',\n 'ت',\n 'ک',\n 'م',\n 'ب',\n 'ا',\n 'ت',\n 'ک',\n 'ن',\n 'و',\n 'ت',\n 'م',\n 'ل',\n 'ت',\n 'ت',\n 'ن',\n 'و',\n 'ی',\n 'ن',\n 'ت',\n 'ی',\n 'پ',\n 'ی',\n 'ک',\n 'و',\n 'ث',\n 'ا',\n 'خ',\n 'ت',\n 'ث',\n 'ا',\n 'م',\n 'ا',\n 'ن',\n 'ث',\n 'ا',\n 'م',\n 'ی',\n 'د',\n 'ث',\n 'ب',\n 'ه',\n 'س',\n 'ا',\n 'ز',\n 'ث',\n 'ش',\n 'ا',\n 'ه',\n 'د',\n 'ث',\n 'ش',\n 'ر',\n 'ق',\n 'ث',\n 'ف',\n 'ا',\n 'ر',\n 'س',\n 'ث',\n 'ن',\n 'و',\n 'س',\n 'ا',\n 'ج',\n 'م',\n 'چ',\n 'ا',\n 'ف',\n 'س',\n 'ت',\n 'چ',\n 'د',\n 'ن',\n 'چ',\n 'ف',\n 'ی',\n 'ب',\n 'ر',\n 'چ',\n 'ک',\n 'ا',\n 'پ',\n 'ا',\n 'چ',\n 'ک',\n 'ا',\n 'ر',\n 'ن',\n 'ح',\n 'پ',\n 'ت',\n 'ر',\n 'و',\n 'ح',\n 'ت',\n 'ا',\n 'ی',\n 'د',\n 'ح',\n 'ت',\n 'و',\n 'ک',\n 'ا',\n 'ح',\n 'ف',\n 'ا',\n 'ر',\n 'س',\n 'ح',\n 'ف',\n 'ا',\n 'ر',\n 'ی',\n 'ح',\n 'ک',\n 'ش',\n 'ت',\n 'ی',\n 'خ',\n 'ا',\n 'ذ',\n 'ی',\n 'ن',\n 'خ',\n 'ا',\n 'ه',\n 'ن',\n 'خ',\n 'ب',\n 'ه',\n 'م',\n 'ن',\n 'خ',\n 'پ',\n 'و',\n 'ی',\n 'ش',\n 'خ',\n 'ت',\n 'ر',\n 'ا',\n 'ک',\n 'خ',\n 'ت',\n 'و',\n 'ر',\n 'خ',\n 'ت',\n 'و',\n 'ق',\n 'ا',\n 'خ',\n 'چ',\n 'ر',\n 'خ',\n 'ش',\n 'خ',\n 'ر',\n 'ا',\n 'س',\n 'ا',\n 'ن',\n 'خ',\n 'ر',\n 'ی',\n 'خ',\n 'ت',\n 'خ',\n 'ر',\n 'ی',\n 'ن',\n 'گ',\n 'خ',\n 'ز',\n 'ا',\n 'م',\n 'ی',\n 'ا',\n 'خ',\n 'ز',\n 'ر',\n 'خ',\n 'س',\n 'ا',\n 'پ',\n 'ا',\n 'خ',\n 'ش',\n 'ر',\n 'ق',\n 'خ',\n 'ف',\n 'ن',\n 'ر',\n 'خ',\n 'ک',\n 'ا',\n 'ر',\n 'خ',\n 'ک',\n 'م',\n 'ک',\n 'خ',\n 'گ',\n 'س',\n 'ت',\n 'ر',\n 'خ',\n 'ل',\n 'ن',\n 'ت',\n 'خ',\n 'م',\n 'ح',\n 'ر',\n 'ک',\n 'ه',\n 'خ',\n 'م',\n 'ح',\n 'و',\n 'ر',\n 'خ',\n 'م',\n 'ه',\n 'ر',\n 'خ',\n 'م',\n 'و',\n 'ت',\n 'و',\n 'ر',\n 'خ',\n 'ن',\n 'ص',\n 'ی',\n 'ر',\n 'خ',\n 'و',\n 'د',\n 'ر',\n 'و',\n 'خ',\n 'و',\n 'س',\n 'ا',\n 'ز',\n 'د',\n 'ا',\n 'ب',\n 'و',\n 'ر',\n 'د',\n 'ا',\n 'ت',\n 'ا',\n 'م',\n 'د',\n 'ا',\n 'ر',\n 'و',\n 'د',\n 'ا',\n 'س',\n 'و',\n 'ه',\n 'د',\n 'ا',\n 'ل',\n 'ب',\n 'ر',\n 'د',\n 'ا',\n 'م',\n 'ی',\n 'ن',\n 'د',\n 'ا',\n 'ن',\n 'ا',\n 'د',\n 'پ',\n 'ا',\n 'ر',\n 'س',\n 'د',\n 'ت',\n 'م',\n 'ا',\n 'د',\n 'د',\n 'ج',\n 'ا',\n 'ب',\n 'ر',\n 'د',\n 'د',\n 'ا',\n 'م',\n 'د',\n 'ر',\n 'ا',\n 'ز',\n 'ک',\n 'د',\n 'ر',\n 'و',\n 'ز',\n 'د',\n 'ز',\n 'ه',\n 'ر',\n 'ا',\n 'و',\n 'ی',\n 'د',\n 'س',\n 'ب',\n 'ح',\n 'ا',\n 'د',\n 'س',\n 'ب',\n 'ح',\n 'ا',\n 'ن',\n 'د',\n 'س',\n 'ی',\n 'ن',\n 'ا',\n 'د',\n 'ش',\n 'ی',\n 'م',\n 'ی',\n 'د',\n 'ع',\n 'ب',\n 'ی',\n 'د',\n 'د',\n 'ف',\n 'ا',\n 'ر',\n 'ا',\n 'د',\n 'ف',\n 'ر',\n 'ا',\n 'د',\n 'ک',\n 'و',\n 'ث',\n 'ر',\n 'د',\n 'ک',\n 'ی',\n 'م',\n 'ی',\n 'د',\n 'ل',\n 'ر',\n 'د',\n 'ل',\n 'ق',\n 'م',\n 'ا',\n 'د',\n 'ی',\n 'ر',\n 'ا',\n 'ن',\n 'ذ',\n 'و',\n 'ب',\n 'ر',\n 'ا',\n 'ن',\n 'ف',\n 'و',\n 'ر',\n 'ر',\n 'ت',\n 'ا',\n 'پ',\n 'ر',\n 'ک',\n 'ی',\n 'ش',\n 'ر',\n 'م',\n 'پ',\n 'ن',\n 'ا',\n 'ز',\n 'پ',\n 'ا',\n 'ر',\n 'س',\n 'ز',\n 'م',\n 'گ',\n 'س',\n 'ا',\n 'س',\n 'آ',\n 'ب',\n 'ی',\n 'ک',\n 'س',\n 'ا',\n 'ر',\n 'ا',\n 'ب',\n 'س',\n 'ا',\n 'ر',\n 'ب',\n 'ی',\n 'ل',\n 'س',\n 'ا',\n 'ر',\n 'و',\n 'م',\n 'س',\n 'ب',\n 'ج',\n 'ن',\n 'و',\n 'س',\n 'ب',\n 'ه',\n 'ا',\n 'ن',\n 'س',\n 'پ',\n 'س',\n 'پ',\n 'ا',\n 'ه',\n 'ا',\n 'س',\n 'پ',\n 'ی',\n 'د',\n 'س',\n 'ت',\n 'ر',\n 'ا',\n 'ن',\n 'س',\n 'خ',\n 'ا',\n 'ش',\n 'س',\n 'خ',\n 'ز',\n 'ر',\n 'س',\n 'خ',\n 'و',\n 'ز',\n 'س',\n 'د',\n 'ش',\n 'ت',\n 'س',\n 'د',\n 'و',\n 'ر',\n 'س',\n 'ر',\n 'و',\n 'د',\n 'س',\n 'ش',\n 'ر',\n 'ق',\n 'س',\n 'ش',\n 'م',\n 'ا',\n 'ل',\n 'س',\n 'ص',\n 'ف',\n 'ه',\n 'ا',\n 'س',\n 'ص',\n 'و',\n 'ف',\n 'ی',\n 'س',\n 'غ',\n 'ر',\n 'ب',\n 'س',\n 'ف',\n 'ا',\n 'ر',\n 'س',\n 'ف',\n 'ا',\n 'ر',\n 'س',\n 'س',\n 'ف',\n 'ا',\n 'ن',\n 'و',\n 'س',\n 'ق',\n 'ا',\n 'ی',\n 'ن',\n 'س',\n 'ک',\n 'ر',\n 'د',\n 'س',\n 'ک',\n 'ر',\n 'م',\n 'ا',\n 'س',\n 'م',\n 'ا',\n 'ز',\n 'ن',\n 'س',\n 'ن',\n 'ی',\n 'ر',\n 'س',\n 'ه',\n 'ر',\n 'م',\n 'ز',\n 'س',\n 'ه',\n 'گ',\n 'م',\n 'ت',\n 'س',\n 'ی',\n 'ت',\n 'ا',\n 'س',\n 'ی',\n 'د',\n 'ک',\n 'و',\n 'س',\n 'ی',\n 'س',\n 'ت',\n 'م',\n 'س',\n 'ی',\n 'ل',\n 'ا',\n 'م',\n 'س',\n 'ی',\n 'م',\n 'ر',\n 'غ',\n 'ش',\n 'ا',\n 'ر',\n 'ا',\n 'ک',\n 'ش',\n 'ا',\n 'م',\n 'ل',\n 'ا',\n 'ش',\n 'ب',\n 'ر',\n 'ی',\n 'ز',\n 'ش',\n 'ب',\n 'ن',\n 'د',\n 'ر',\n 'ش',\n 'ب',\n 'ه',\n 'ر',\n 'ن',\n 'ش',\n 'پ',\n 'ا',\n 'ر',\n 'س',\n 'ش',\n 'پ',\n 'ا',\n 'ک',\n 'س',\n 'ا',\n 'ش',\n 'پ',\n 'د',\n 'ی',\n 'س',\n 'ش',\n 'پ',\n 'ن',\n 'ا',\n 'ش',\n 'ت',\n 'ر',\n 'ا',\n 'ن',\n 'ش',\n 'خ',\n 'ا',\n 'ر',\n 'ک',\n 'ش',\n 'د',\n 'و',\n 'ص',\n 'ش',\n 'ر',\n 'ا',\n 'ز',\n 'ش',\n 'س',\n 'پ',\n 'ا',\n 'ش',\n 'س',\n 'ت',\n 'ا',\n 'ش',\n 'س',\n 'ی',\n 'ن',\n 'ا',\n 'ش',\n 'غ',\n 'د',\n 'ی',\n 'ر',\n 'ش',\n 'ف',\n 'ا',\n 'ش',\n 'ف',\n 'ا',\n 'ر',\n 'س',\n 'ش',\n 'ف',\n 'ن',\n 'ش',\n 'ک',\n 'ر',\n 'ب',\n 'ن',\n 'ش',\n 'ک',\n 'ل',\n 'ر',\n 'ش',\n 'گ',\n 'ل',\n 'ش',\n 'ل',\n 'ع',\n 'ا',\n 'ب',\n 'ش',\n 'ن',\n 'ف',\n 'ت',\n 'ش',\n 'ه',\n 'ر',\n 'ش',\n 'و',\n 'ی',\n 'ن',\n 'د',\n 'ه',\n 'ش',\n 'ی',\n 'ر',\n 'ا',\n 'ز',\n 'ش',\n 'ی',\n 'ر',\n 'ا',\n 'ن',\n 'ص',\n 'ب',\n 'ا',\n 'غ',\n 'ا',\n 'ذ',\n 'ر',\n 'غ',\n 'ا',\n 'ل',\n 'ب',\n 'ر',\n 'غ',\n 'ب',\n 'ش',\n 'ه',\n 'ر',\n 'غ',\n 'ب',\n 'ه',\n 'ن',\n 'و',\n 'ش',\n 'غ',\n 'پ',\n 'ا',\n 'ک',\n 'غ',\n 'پ',\n 'ی',\n 'ن',\n 'و',\n 'غ',\n 'چ',\n 'ی',\n 'ن',\n 'غ',\n 'د',\n 'ا',\n 'م',\n 'غ',\n 'د',\n 'ش',\n 'ت',\n 'غ',\n 'ز',\n 'ر',\n 'غ',\n 'س',\n 'ا',\n 'ل',\n 'م',\n 'غ',\n 'ش',\n 'ا',\n 'ذ',\n 'ر',\n 'غ',\n 'ش',\n 'ا',\n 'ن',\n 'غ',\n 'ش',\n 'ص',\n 'ف',\n 'ا',\n 'غ',\n 'ش',\n 'ه',\n 'د',\n 'غ',\n 'ک',\n 'و',\n 'ر',\n 'ش',\n 'غ',\n ...]"
     },
     "execution_count": 53,
     "metadata": {},
     "output_type": "execute_result"
    }
   ],
   "source": [
    "a"
   ],
   "metadata": {
    "collapsed": false,
    "pycharm": {
     "name": "#%%\n"
    }
   }
  },
  {
   "cell_type": "code",
   "execution_count": 54,
   "outputs": [
    {
     "data": {
      "text/plain": "{' ',\n 'آ',\n 'ا',\n 'ب',\n 'ت',\n 'ث',\n 'ج',\n 'ح',\n 'خ',\n 'د',\n 'ذ',\n 'ر',\n 'ز',\n 'س',\n 'ش',\n 'ص',\n 'ض',\n 'ط',\n 'ظ',\n 'ع',\n 'غ',\n 'ف',\n 'ق',\n 'ل',\n 'م',\n 'ن',\n 'ه',\n 'و',\n 'پ',\n 'چ',\n 'ژ',\n 'ک',\n 'گ',\n 'ی'}"
     },
     "execution_count": 54,
     "metadata": {},
     "output_type": "execute_result"
    }
   ],
   "source": [
    "set(a)"
   ],
   "metadata": {
    "collapsed": false,
    "pycharm": {
     "name": "#%%\n"
    }
   }
  },
  {
   "cell_type": "code",
   "execution_count": 55,
   "outputs": [
    {
     "data": {
      "text/plain": "['خ',\n 'ب',\n 'ذ',\n 'ز',\n 'ف',\n 'آ',\n 'و',\n 'ج',\n 'ی',\n 'ث',\n 'ح',\n 'ش',\n 'ر',\n 'ا',\n ' ',\n 'ظ',\n 'ل',\n 'ه',\n 'ن',\n 'ک',\n 'س',\n 'ق',\n 'ط',\n 'گ',\n 'پ',\n 'چ',\n 'ض',\n 'غ',\n 'ت',\n 'د',\n 'م',\n 'ژ',\n 'ع',\n 'ص']"
     },
     "execution_count": 55,
     "metadata": {},
     "output_type": "execute_result"
    }
   ],
   "source": [
    "list(set(a))"
   ],
   "metadata": {
    "collapsed": false,
    "pycharm": {
     "name": "#%%\n"
    }
   }
  },
  {
   "cell_type": "code",
   "execution_count": 56,
   "outputs": [],
   "source": [
    "def change_char(inp_char: str):\n",
    "    str1 = ['خ', 'ب', 'ذ', 'ز', 'ف', 'آ', 'و', 'ج', 'ی', 'ث', 'ح', 'ش', 'ر', 'ا', ' ', 'ظ', 'ل', 'ه', 'ن', 'ک''س', 'ق',\n",
    "            'ط', 'گ', 'پ', 'چ', 'ض', 'غ', 'ت', 'د', 'م', 'ژ', 'ع', 'ص']\n",
    "    str2 = [\"kh\", \"b\", \"zz\", \"z\", \"f\", \"A\", \"v\", \"j\", \"y\", \"th\", \"h\", \"sh\", \"r\", \"a\", \" \", \"Zz\", \"l\", \"eh\", \"n\", \"s\",\n",
    "            \"k\", \"gh\", \"Tt\", \"g\", \"p\", \"ch\", \"zZ\", \"qh\", \"t\", \"d\", \"m\", \"zh\", \"Ae\", \"Ss\"]\n",
    "    for i in range(len(str1) - 1):\n",
    "        if inp_char == str1[i]:\n",
    "            return str2[i]\n",
    "        else:\n",
    "            return False"
   ],
   "metadata": {
    "collapsed": false,
    "pycharm": {
     "name": "#%%\n"
    }
   }
  },
  {
   "cell_type": "code",
   "execution_count": 57,
   "outputs": [],
   "source": [
    "def change_persian_to_english(inp_string: str):\n",
    "    name = ''\n",
    "    for i in inp_string:\n",
    "        if change_char(i) is not False:\n",
    "            name += change_char(i)\n",
    "    return name"
   ],
   "metadata": {
    "collapsed": false,
    "pycharm": {
     "name": "#%%\n"
    }
   }
  },
  {
   "cell_type": "code",
   "execution_count": 58,
   "outputs": [
    {
     "data": {
      "text/plain": "''"
     },
     "execution_count": 58,
     "metadata": {},
     "output_type": "execute_result"
    }
   ],
   "source": [
    "change_persian_to_english(symbols.index[0])"
   ],
   "metadata": {
    "collapsed": false,
    "pycharm": {
     "name": "#%%\n"
    }
   }
  },
  {
   "cell_type": "code",
   "execution_count": 60,
   "outputs": [
    {
     "name": "stdout",
     "output_type": "stream",
     "text": [
      "False\n",
      "False\n",
      "False\n",
      "False\n"
     ]
    }
   ],
   "source": [
    "for i in symbols.index[0]:\n",
    "    print(change_char(i))"
   ],
   "metadata": {
    "collapsed": false,
    "pycharm": {
     "name": "#%%\n"
    }
   }
  },
  {
   "cell_type": "code",
   "execution_count": 20,
   "outputs": [
    {
     "data": {
      "text/plain": "'Abadan PG'"
     },
     "execution_count": 20,
     "metadata": {},
     "output_type": "execute_result"
    }
   ],
   "source": [
    "symbols['Name(EN)'][symbols.index[1]]"
   ],
   "metadata": {
    "collapsed": false,
    "pycharm": {
     "name": "#%%\n"
    }
   }
  },
  {
   "cell_type": "code",
   "execution_count": 67,
   "outputs": [
    {
     "data": {
      "text/plain": "(2024, 2, 7)"
     },
     "execution_count": 67,
     "metadata": {},
     "output_type": "execute_result"
    }
   ],
   "source": [
    "time.localtime(time.time())[:3]"
   ],
   "metadata": {
    "collapsed": false,
    "pycharm": {
     "name": "#%%\n"
    }
   }
  },
  {
   "cell_type": "code",
   "execution_count": 68,
   "outputs": [
    {
     "name": "stdout",
     "output_type": "stream",
     "text": [
      "1402-11-18\n"
     ]
    }
   ],
   "source": [
    "from persiantools.jdatetime import JalaliDate\n",
    "\n",
    "# تاریخ جاری شمسی\n",
    "current_date = JalaliDate.today()\n",
    "print(current_date)"
   ],
   "metadata": {
    "collapsed": false,
    "pycharm": {
     "name": "#%%\n"
    }
   }
  },
  {
   "cell_type": "code",
   "execution_count": 69,
   "outputs": [
    {
     "data": {
      "text/plain": "persiantools.jdatetime.JalaliDate"
     },
     "execution_count": 69,
     "metadata": {},
     "output_type": "execute_result"
    }
   ],
   "source": [
    "type(current_date)"
   ],
   "metadata": {
    "collapsed": false,
    "pycharm": {
     "name": "#%%\n"
    }
   }
  },
  {
   "cell_type": "code",
   "execution_count": 70,
   "outputs": [
    {
     "data": {
      "text/plain": "'1402-11-18'"
     },
     "execution_count": 70,
     "metadata": {},
     "output_type": "execute_result"
    }
   ],
   "source": [
    "str(current_date)"
   ],
   "metadata": {
    "collapsed": false,
    "pycharm": {
     "name": "#%%\n"
    }
   }
  },
  {
   "cell_type": "code",
   "execution_count": 71,
   "outputs": [
    {
     "data": {
      "text/plain": "               Date   Open   High    Low  Close   Volume\n20050115 2005-01-15   1800   1800   1800   1800  1440000\n20050116 2005-01-16   1890   1890   1890   1890   260120\n20050117 2005-01-17   1984   1984   1984   1984  1500000\n20050126 2005-01-26   2083   2083   2083   2083   269196\n20050130 2005-01-30   2187   2187   2060   2162  2673786\n...             ...    ...    ...    ...    ...      ...\n20240131 2024-01-31  62310  65940  62310  64590   686677\n20240203 2024-02-03  65000  65850  63700  63960   484315\n20240204 2024-02-04  64470  65240  62970  63020   280921\n20240205 2024-02-05  64950  64950  62980  63000   369649\n20240206 2024-02-06  64890  64890  62810  63900   295866\n\n[3642 rows x 6 columns]",
      "text/html": "<div>\n<style scoped>\n    .dataframe tbody tr th:only-of-type {\n        vertical-align: middle;\n    }\n\n    .dataframe tbody tr th {\n        vertical-align: top;\n    }\n\n    .dataframe thead th {\n        text-align: right;\n    }\n</style>\n<table border=\"1\" class=\"dataframe\">\n  <thead>\n    <tr style=\"text-align: right;\">\n      <th></th>\n      <th>Date</th>\n      <th>Open</th>\n      <th>High</th>\n      <th>Low</th>\n      <th>Close</th>\n      <th>Volume</th>\n    </tr>\n  </thead>\n  <tbody>\n    <tr>\n      <th>20050115</th>\n      <td>2005-01-15</td>\n      <td>1800</td>\n      <td>1800</td>\n      <td>1800</td>\n      <td>1800</td>\n      <td>1440000</td>\n    </tr>\n    <tr>\n      <th>20050116</th>\n      <td>2005-01-16</td>\n      <td>1890</td>\n      <td>1890</td>\n      <td>1890</td>\n      <td>1890</td>\n      <td>260120</td>\n    </tr>\n    <tr>\n      <th>20050117</th>\n      <td>2005-01-17</td>\n      <td>1984</td>\n      <td>1984</td>\n      <td>1984</td>\n      <td>1984</td>\n      <td>1500000</td>\n    </tr>\n    <tr>\n      <th>20050126</th>\n      <td>2005-01-26</td>\n      <td>2083</td>\n      <td>2083</td>\n      <td>2083</td>\n      <td>2083</td>\n      <td>269196</td>\n    </tr>\n    <tr>\n      <th>20050130</th>\n      <td>2005-01-30</td>\n      <td>2187</td>\n      <td>2187</td>\n      <td>2060</td>\n      <td>2162</td>\n      <td>2673786</td>\n    </tr>\n    <tr>\n      <th>...</th>\n      <td>...</td>\n      <td>...</td>\n      <td>...</td>\n      <td>...</td>\n      <td>...</td>\n      <td>...</td>\n    </tr>\n    <tr>\n      <th>20240131</th>\n      <td>2024-01-31</td>\n      <td>62310</td>\n      <td>65940</td>\n      <td>62310</td>\n      <td>64590</td>\n      <td>686677</td>\n    </tr>\n    <tr>\n      <th>20240203</th>\n      <td>2024-02-03</td>\n      <td>65000</td>\n      <td>65850</td>\n      <td>63700</td>\n      <td>63960</td>\n      <td>484315</td>\n    </tr>\n    <tr>\n      <th>20240204</th>\n      <td>2024-02-04</td>\n      <td>64470</td>\n      <td>65240</td>\n      <td>62970</td>\n      <td>63020</td>\n      <td>280921</td>\n    </tr>\n    <tr>\n      <th>20240205</th>\n      <td>2024-02-05</td>\n      <td>64950</td>\n      <td>64950</td>\n      <td>62980</td>\n      <td>63000</td>\n      <td>369649</td>\n    </tr>\n    <tr>\n      <th>20240206</th>\n      <td>2024-02-06</td>\n      <td>64890</td>\n      <td>64890</td>\n      <td>62810</td>\n      <td>63900</td>\n      <td>295866</td>\n    </tr>\n  </tbody>\n</table>\n<p>3642 rows × 6 columns</p>\n</div>"
     },
     "execution_count": 71,
     "metadata": {},
     "output_type": "execute_result"
    }
   ],
   "source": [
    "df"
   ],
   "metadata": {
    "collapsed": false,
    "pycharm": {
     "name": "#%%\n"
    }
   }
  },
  {
   "cell_type": "code",
   "execution_count": 72,
   "outputs": [],
   "source": [
    "df.rename(columns={'Date': '<TIME>', 'Open': '<Open>', 'High': '<HIGH>', 'Low': '<LOW>', 'Close': '<CLOSE>',\n",
    "                   'Volume': '<VOL>'}, inplace=True)"
   ],
   "metadata": {
    "collapsed": false,
    "pycharm": {
     "name": "#%%\n"
    }
   }
  },
  {
   "cell_type": "code",
   "execution_count": 73,
   "outputs": [
    {
     "data": {
      "text/plain": "             <TIME>  <Open>  <HIGH>  <LOW>  <CLOSE>    <VOL>\n20050115 2005-01-15    1800    1800   1800     1800  1440000\n20050116 2005-01-16    1890    1890   1890     1890   260120\n20050117 2005-01-17    1984    1984   1984     1984  1500000\n20050126 2005-01-26    2083    2083   2083     2083   269196\n20050130 2005-01-30    2187    2187   2060     2162  2673786\n...             ...     ...     ...    ...      ...      ...\n20240131 2024-01-31   62310   65940  62310    64590   686677\n20240203 2024-02-03   65000   65850  63700    63960   484315\n20240204 2024-02-04   64470   65240  62970    63020   280921\n20240205 2024-02-05   64950   64950  62980    63000   369649\n20240206 2024-02-06   64890   64890  62810    63900   295866\n\n[3642 rows x 6 columns]",
      "text/html": "<div>\n<style scoped>\n    .dataframe tbody tr th:only-of-type {\n        vertical-align: middle;\n    }\n\n    .dataframe tbody tr th {\n        vertical-align: top;\n    }\n\n    .dataframe thead th {\n        text-align: right;\n    }\n</style>\n<table border=\"1\" class=\"dataframe\">\n  <thead>\n    <tr style=\"text-align: right;\">\n      <th></th>\n      <th>&lt;TIME&gt;</th>\n      <th>&lt;Open&gt;</th>\n      <th>&lt;HIGH&gt;</th>\n      <th>&lt;LOW&gt;</th>\n      <th>&lt;CLOSE&gt;</th>\n      <th>&lt;VOL&gt;</th>\n    </tr>\n  </thead>\n  <tbody>\n    <tr>\n      <th>20050115</th>\n      <td>2005-01-15</td>\n      <td>1800</td>\n      <td>1800</td>\n      <td>1800</td>\n      <td>1800</td>\n      <td>1440000</td>\n    </tr>\n    <tr>\n      <th>20050116</th>\n      <td>2005-01-16</td>\n      <td>1890</td>\n      <td>1890</td>\n      <td>1890</td>\n      <td>1890</td>\n      <td>260120</td>\n    </tr>\n    <tr>\n      <th>20050117</th>\n      <td>2005-01-17</td>\n      <td>1984</td>\n      <td>1984</td>\n      <td>1984</td>\n      <td>1984</td>\n      <td>1500000</td>\n    </tr>\n    <tr>\n      <th>20050126</th>\n      <td>2005-01-26</td>\n      <td>2083</td>\n      <td>2083</td>\n      <td>2083</td>\n      <td>2083</td>\n      <td>269196</td>\n    </tr>\n    <tr>\n      <th>20050130</th>\n      <td>2005-01-30</td>\n      <td>2187</td>\n      <td>2187</td>\n      <td>2060</td>\n      <td>2162</td>\n      <td>2673786</td>\n    </tr>\n    <tr>\n      <th>...</th>\n      <td>...</td>\n      <td>...</td>\n      <td>...</td>\n      <td>...</td>\n      <td>...</td>\n      <td>...</td>\n    </tr>\n    <tr>\n      <th>20240131</th>\n      <td>2024-01-31</td>\n      <td>62310</td>\n      <td>65940</td>\n      <td>62310</td>\n      <td>64590</td>\n      <td>686677</td>\n    </tr>\n    <tr>\n      <th>20240203</th>\n      <td>2024-02-03</td>\n      <td>65000</td>\n      <td>65850</td>\n      <td>63700</td>\n      <td>63960</td>\n      <td>484315</td>\n    </tr>\n    <tr>\n      <th>20240204</th>\n      <td>2024-02-04</td>\n      <td>64470</td>\n      <td>65240</td>\n      <td>62970</td>\n      <td>63020</td>\n      <td>280921</td>\n    </tr>\n    <tr>\n      <th>20240205</th>\n      <td>2024-02-05</td>\n      <td>64950</td>\n      <td>64950</td>\n      <td>62980</td>\n      <td>63000</td>\n      <td>369649</td>\n    </tr>\n    <tr>\n      <th>20240206</th>\n      <td>2024-02-06</td>\n      <td>64890</td>\n      <td>64890</td>\n      <td>62810</td>\n      <td>63900</td>\n      <td>295866</td>\n    </tr>\n  </tbody>\n</table>\n<p>3642 rows × 6 columns</p>\n</div>"
     },
     "execution_count": 73,
     "metadata": {},
     "output_type": "execute_result"
    }
   ],
   "source": [
    "df"
   ],
   "metadata": {
    "collapsed": false,
    "pycharm": {
     "name": "#%%\n"
    }
   }
  },
  {
   "cell_type": "code",
   "execution_count": 74,
   "outputs": [],
   "source": [
    "df['<TIME>'] = 0"
   ],
   "metadata": {
    "collapsed": false,
    "pycharm": {
     "name": "#%%\n"
    }
   }
  },
  {
   "cell_type": "code",
   "execution_count": 75,
   "outputs": [
    {
     "data": {
      "text/plain": "          <TIME>  <Open>  <HIGH>  <LOW>  <CLOSE>    <VOL>\n20050115       0    1800    1800   1800     1800  1440000\n20050116       0    1890    1890   1890     1890   260120\n20050117       0    1984    1984   1984     1984  1500000\n20050126       0    2083    2083   2083     2083   269196\n20050130       0    2187    2187   2060     2162  2673786\n...          ...     ...     ...    ...      ...      ...\n20240131       0   62310   65940  62310    64590   686677\n20240203       0   65000   65850  63700    63960   484315\n20240204       0   64470   65240  62970    63020   280921\n20240205       0   64950   64950  62980    63000   369649\n20240206       0   64890   64890  62810    63900   295866\n\n[3642 rows x 6 columns]",
      "text/html": "<div>\n<style scoped>\n    .dataframe tbody tr th:only-of-type {\n        vertical-align: middle;\n    }\n\n    .dataframe tbody tr th {\n        vertical-align: top;\n    }\n\n    .dataframe thead th {\n        text-align: right;\n    }\n</style>\n<table border=\"1\" class=\"dataframe\">\n  <thead>\n    <tr style=\"text-align: right;\">\n      <th></th>\n      <th>&lt;TIME&gt;</th>\n      <th>&lt;Open&gt;</th>\n      <th>&lt;HIGH&gt;</th>\n      <th>&lt;LOW&gt;</th>\n      <th>&lt;CLOSE&gt;</th>\n      <th>&lt;VOL&gt;</th>\n    </tr>\n  </thead>\n  <tbody>\n    <tr>\n      <th>20050115</th>\n      <td>0</td>\n      <td>1800</td>\n      <td>1800</td>\n      <td>1800</td>\n      <td>1800</td>\n      <td>1440000</td>\n    </tr>\n    <tr>\n      <th>20050116</th>\n      <td>0</td>\n      <td>1890</td>\n      <td>1890</td>\n      <td>1890</td>\n      <td>1890</td>\n      <td>260120</td>\n    </tr>\n    <tr>\n      <th>20050117</th>\n      <td>0</td>\n      <td>1984</td>\n      <td>1984</td>\n      <td>1984</td>\n      <td>1984</td>\n      <td>1500000</td>\n    </tr>\n    <tr>\n      <th>20050126</th>\n      <td>0</td>\n      <td>2083</td>\n      <td>2083</td>\n      <td>2083</td>\n      <td>2083</td>\n      <td>269196</td>\n    </tr>\n    <tr>\n      <th>20050130</th>\n      <td>0</td>\n      <td>2187</td>\n      <td>2187</td>\n      <td>2060</td>\n      <td>2162</td>\n      <td>2673786</td>\n    </tr>\n    <tr>\n      <th>...</th>\n      <td>...</td>\n      <td>...</td>\n      <td>...</td>\n      <td>...</td>\n      <td>...</td>\n      <td>...</td>\n    </tr>\n    <tr>\n      <th>20240131</th>\n      <td>0</td>\n      <td>62310</td>\n      <td>65940</td>\n      <td>62310</td>\n      <td>64590</td>\n      <td>686677</td>\n    </tr>\n    <tr>\n      <th>20240203</th>\n      <td>0</td>\n      <td>65000</td>\n      <td>65850</td>\n      <td>63700</td>\n      <td>63960</td>\n      <td>484315</td>\n    </tr>\n    <tr>\n      <th>20240204</th>\n      <td>0</td>\n      <td>64470</td>\n      <td>65240</td>\n      <td>62970</td>\n      <td>63020</td>\n      <td>280921</td>\n    </tr>\n    <tr>\n      <th>20240205</th>\n      <td>0</td>\n      <td>64950</td>\n      <td>64950</td>\n      <td>62980</td>\n      <td>63000</td>\n      <td>369649</td>\n    </tr>\n    <tr>\n      <th>20240206</th>\n      <td>0</td>\n      <td>64890</td>\n      <td>64890</td>\n      <td>62810</td>\n      <td>63900</td>\n      <td>295866</td>\n    </tr>\n  </tbody>\n</table>\n<p>3642 rows × 6 columns</p>\n</div>"
     },
     "execution_count": 75,
     "metadata": {},
     "output_type": "execute_result"
    }
   ],
   "source": [
    "df"
   ],
   "metadata": {
    "collapsed": false,
    "pycharm": {
     "name": "#%%\n"
    }
   }
  },
  {
   "cell_type": "code",
   "execution_count": 77,
   "outputs": [],
   "source": [
    "df.to_csv('C:\\\\Users\\ADMIN\\Desktop\\\\test.prn')"
   ],
   "metadata": {
    "collapsed": false,
    "pycharm": {
     "name": "#%%\n"
    }
   }
  },
  {
   "cell_type": "code",
   "execution_count": 85,
   "outputs": [],
   "source": [
    "df.reset_index(inplace=True)"
   ],
   "metadata": {
    "collapsed": false,
    "pycharm": {
     "name": "#%%\n"
    }
   }
  },
  {
   "cell_type": "code",
   "execution_count": null,
   "outputs": [],
   "source": [],
   "metadata": {
    "collapsed": false,
    "pycharm": {
     "name": "#%%\n"
    }
   }
  },
  {
   "cell_type": "code",
   "execution_count": 87,
   "outputs": [],
   "source": [
    "df.rename(columns={'index': '<DTYYYYMMDD>'}, inplace=True)"
   ],
   "metadata": {
    "collapsed": false,
    "pycharm": {
     "name": "#%%\n"
    }
   }
  },
  {
   "cell_type": "code",
   "execution_count": 97,
   "outputs": [
    {
     "data": {
      "text/plain": "     <DTYYYYMMDD>  <TIME>  <Open>  <HIGH>  <LOW>  <CLOSE>    <VOL>\n0        20050115       0    1800    1800   1800     1800  1440000\n1        20050116       0    1890    1890   1890     1890   260120\n2        20050117       0    1984    1984   1984     1984  1500000\n3        20050126       0    2083    2083   2083     2083   269196\n4        20050130       0    2187    2187   2060     2162  2673786\n...           ...     ...     ...     ...    ...      ...      ...\n3637     20240131       0   62310   65940  62310    64590   686677\n3638     20240203       0   65000   65850  63700    63960   484315\n3639     20240204       0   64470   65240  62970    63020   280921\n3640     20240205       0   64950   64950  62980    63000   369649\n3641     20240206       0   64890   64890  62810    63900   295866\n\n[3642 rows x 7 columns]",
      "text/html": "<div>\n<style scoped>\n    .dataframe tbody tr th:only-of-type {\n        vertical-align: middle;\n    }\n\n    .dataframe tbody tr th {\n        vertical-align: top;\n    }\n\n    .dataframe thead th {\n        text-align: right;\n    }\n</style>\n<table border=\"1\" class=\"dataframe\">\n  <thead>\n    <tr style=\"text-align: right;\">\n      <th></th>\n      <th>&lt;DTYYYYMMDD&gt;</th>\n      <th>&lt;TIME&gt;</th>\n      <th>&lt;Open&gt;</th>\n      <th>&lt;HIGH&gt;</th>\n      <th>&lt;LOW&gt;</th>\n      <th>&lt;CLOSE&gt;</th>\n      <th>&lt;VOL&gt;</th>\n    </tr>\n  </thead>\n  <tbody>\n    <tr>\n      <th>0</th>\n      <td>20050115</td>\n      <td>0</td>\n      <td>1800</td>\n      <td>1800</td>\n      <td>1800</td>\n      <td>1800</td>\n      <td>1440000</td>\n    </tr>\n    <tr>\n      <th>1</th>\n      <td>20050116</td>\n      <td>0</td>\n      <td>1890</td>\n      <td>1890</td>\n      <td>1890</td>\n      <td>1890</td>\n      <td>260120</td>\n    </tr>\n    <tr>\n      <th>2</th>\n      <td>20050117</td>\n      <td>0</td>\n      <td>1984</td>\n      <td>1984</td>\n      <td>1984</td>\n      <td>1984</td>\n      <td>1500000</td>\n    </tr>\n    <tr>\n      <th>3</th>\n      <td>20050126</td>\n      <td>0</td>\n      <td>2083</td>\n      <td>2083</td>\n      <td>2083</td>\n      <td>2083</td>\n      <td>269196</td>\n    </tr>\n    <tr>\n      <th>4</th>\n      <td>20050130</td>\n      <td>0</td>\n      <td>2187</td>\n      <td>2187</td>\n      <td>2060</td>\n      <td>2162</td>\n      <td>2673786</td>\n    </tr>\n    <tr>\n      <th>...</th>\n      <td>...</td>\n      <td>...</td>\n      <td>...</td>\n      <td>...</td>\n      <td>...</td>\n      <td>...</td>\n      <td>...</td>\n    </tr>\n    <tr>\n      <th>3637</th>\n      <td>20240131</td>\n      <td>0</td>\n      <td>62310</td>\n      <td>65940</td>\n      <td>62310</td>\n      <td>64590</td>\n      <td>686677</td>\n    </tr>\n    <tr>\n      <th>3638</th>\n      <td>20240203</td>\n      <td>0</td>\n      <td>65000</td>\n      <td>65850</td>\n      <td>63700</td>\n      <td>63960</td>\n      <td>484315</td>\n    </tr>\n    <tr>\n      <th>3639</th>\n      <td>20240204</td>\n      <td>0</td>\n      <td>64470</td>\n      <td>65240</td>\n      <td>62970</td>\n      <td>63020</td>\n      <td>280921</td>\n    </tr>\n    <tr>\n      <th>3640</th>\n      <td>20240205</td>\n      <td>0</td>\n      <td>64950</td>\n      <td>64950</td>\n      <td>62980</td>\n      <td>63000</td>\n      <td>369649</td>\n    </tr>\n    <tr>\n      <th>3641</th>\n      <td>20240206</td>\n      <td>0</td>\n      <td>64890</td>\n      <td>64890</td>\n      <td>62810</td>\n      <td>63900</td>\n      <td>295866</td>\n    </tr>\n  </tbody>\n</table>\n<p>3642 rows × 7 columns</p>\n</div>"
     },
     "execution_count": 97,
     "metadata": {},
     "output_type": "execute_result"
    }
   ],
   "source": [
    "df"
   ],
   "metadata": {
    "collapsed": false,
    "pycharm": {
     "name": "#%%\n"
    }
   }
  },
  {
   "cell_type": "code",
   "execution_count": 100,
   "outputs": [
    {
     "data": {
      "text/plain": "     <DTYYYYMMDD>  <Open>  <HIGH>  <LOW>  <CLOSE>    <VOL>\n0        20050115    1800    1800   1800     1800  1440000\n1        20050116    1890    1890   1890     1890   260120\n2        20050117    1984    1984   1984     1984  1500000\n3        20050126    2083    2083   2083     2083   269196\n4        20050130    2187    2187   2060     2162  2673786\n...           ...     ...     ...    ...      ...      ...\n3637     20240131   62310   65940  62310    64590   686677\n3638     20240203   65000   65850  63700    63960   484315\n3639     20240204   64470   65240  62970    63020   280921\n3640     20240205   64950   64950  62980    63000   369649\n3641     20240206   64890   64890  62810    63900   295866\n\n[3642 rows x 6 columns]",
      "text/html": "<div>\n<style scoped>\n    .dataframe tbody tr th:only-of-type {\n        vertical-align: middle;\n    }\n\n    .dataframe tbody tr th {\n        vertical-align: top;\n    }\n\n    .dataframe thead th {\n        text-align: right;\n    }\n</style>\n<table border=\"1\" class=\"dataframe\">\n  <thead>\n    <tr style=\"text-align: right;\">\n      <th></th>\n      <th>&lt;DTYYYYMMDD&gt;</th>\n      <th>&lt;Open&gt;</th>\n      <th>&lt;HIGH&gt;</th>\n      <th>&lt;LOW&gt;</th>\n      <th>&lt;CLOSE&gt;</th>\n      <th>&lt;VOL&gt;</th>\n    </tr>\n  </thead>\n  <tbody>\n    <tr>\n      <th>0</th>\n      <td>20050115</td>\n      <td>1800</td>\n      <td>1800</td>\n      <td>1800</td>\n      <td>1800</td>\n      <td>1440000</td>\n    </tr>\n    <tr>\n      <th>1</th>\n      <td>20050116</td>\n      <td>1890</td>\n      <td>1890</td>\n      <td>1890</td>\n      <td>1890</td>\n      <td>260120</td>\n    </tr>\n    <tr>\n      <th>2</th>\n      <td>20050117</td>\n      <td>1984</td>\n      <td>1984</td>\n      <td>1984</td>\n      <td>1984</td>\n      <td>1500000</td>\n    </tr>\n    <tr>\n      <th>3</th>\n      <td>20050126</td>\n      <td>2083</td>\n      <td>2083</td>\n      <td>2083</td>\n      <td>2083</td>\n      <td>269196</td>\n    </tr>\n    <tr>\n      <th>4</th>\n      <td>20050130</td>\n      <td>2187</td>\n      <td>2187</td>\n      <td>2060</td>\n      <td>2162</td>\n      <td>2673786</td>\n    </tr>\n    <tr>\n      <th>...</th>\n      <td>...</td>\n      <td>...</td>\n      <td>...</td>\n      <td>...</td>\n      <td>...</td>\n      <td>...</td>\n    </tr>\n    <tr>\n      <th>3637</th>\n      <td>20240131</td>\n      <td>62310</td>\n      <td>65940</td>\n      <td>62310</td>\n      <td>64590</td>\n      <td>686677</td>\n    </tr>\n    <tr>\n      <th>3638</th>\n      <td>20240203</td>\n      <td>65000</td>\n      <td>65850</td>\n      <td>63700</td>\n      <td>63960</td>\n      <td>484315</td>\n    </tr>\n    <tr>\n      <th>3639</th>\n      <td>20240204</td>\n      <td>64470</td>\n      <td>65240</td>\n      <td>62970</td>\n      <td>63020</td>\n      <td>280921</td>\n    </tr>\n    <tr>\n      <th>3640</th>\n      <td>20240205</td>\n      <td>64950</td>\n      <td>64950</td>\n      <td>62980</td>\n      <td>63000</td>\n      <td>369649</td>\n    </tr>\n    <tr>\n      <th>3641</th>\n      <td>20240206</td>\n      <td>64890</td>\n      <td>64890</td>\n      <td>62810</td>\n      <td>63900</td>\n      <td>295866</td>\n    </tr>\n  </tbody>\n</table>\n<p>3642 rows × 6 columns</p>\n</div>"
     },
     "execution_count": 100,
     "metadata": {},
     "output_type": "execute_result"
    }
   ],
   "source": [
    "df.drop('<TIME>', axis=1, inplace=True)\n",
    "df"
   ],
   "metadata": {
    "collapsed": false,
    "pycharm": {
     "name": "#%%\n"
    }
   }
  },
  {
   "cell_type": "code",
   "execution_count": 101,
   "outputs": [],
   "source": [
    "df.to_csv('C:\\\\Users\\ADMIN\\Desktop\\\\test.prn')"
   ],
   "metadata": {
    "collapsed": false,
    "pycharm": {
     "name": "#%%\n"
    }
   }
  },
  {
   "cell_type": "code",
   "execution_count": 90,
   "outputs": [],
   "source": [
    "with open('C:\\\\Users\\ADMIN\\Desktop\\\\test.prn', 'r') as f:\n",
    "    str = f.read()"
   ],
   "metadata": {
    "collapsed": false,
    "pycharm": {
     "name": "#%%\n"
    }
   }
  },
  {
   "cell_type": "code",
   "execution_count": 91,
   "outputs": [
    {
     "data": {
      "text/plain": "',<DTYYYYMMDD>,<TIME>,<Open>,<HIGH>,<LOW>,<CLOSE>,<VOL>\\n0,20050115,0,1800,1800,1800,1800,1440000\\n1,20050116,0,1890,1890,1890,1890,260120\\n2,20050117,0,1984,1984,1984,1984,1500000\\n3,20050126,0,2083,2083,2083,2083,269196\\n4,20050130,0,2187,2187,2060,2162,2673786\\n5,20050131,0,2100,2270,2100,2262,1162420\\n6,20050201,0,2375,2375,2271,2317,1366584\\n7,20050202,0,2361,2361,2231,2281,347088\\n8,20050205,0,2288,2350,2222,2293,1099893\\n9,20050206,0,2301,2392,2300,2338,1148484\\n10,20050207,0,2300,2300,2243,2295,296570\\n11,20050208,0,2265,2302,2250,2266,84067\\n12,20050209,0,2300,2379,2300,2359,174206\\n13,20050212,0,2476,2476,2476,2476,57924\\n14,20050213,0,2599,2599,2599,2599,42510\\n15,20050214,0,2728,2728,2611,2712,441861\\n16,20050215,0,2710,2729,2577,2652,178747\\n17,20050216,0,2520,2574,2520,2574,23645\\n18,20050221,0,2446,2510,2446,2450,103932\\n19,20050222,0,2328,2400,2328,2347,134817\\n20,20050223,0,2326,2365,2300,2343,123877\\n21,20050226,0,2460,2460,2355,2420,30974\\n22,20050227,0,2541,2541,2520,2540,245132\\n23,20050228,0,2667,2667,2542,2623,302552\\n24,20050301,0,2679,2700,2612,2651,141090\\n25,20050302,0,2650,2650,2590,2608,167889\\n26,20050305,0,2639,2640,2604,2623,33653\\n27,20050306,0,2630,2647,2601,2626,111572\\n28,20050307,0,2635,2757,2603,2683,7076749\\n29,20050308,0,2817,2817,2817,2817,144082\\n30,20050309,0,2826,2957,2720,2891,344037\\n31,20050312,0,2891,2940,2763,2865,310590\\n32,20050313,0,3008,3008,2908,3007,394747\\n33,20050314,0,3157,3157,3157,3157,335285\\n34,20050315,0,3308,3314,3250,3303,342141\\n35,20050316,0,3300,3468,3265,3330,303799\\n36,20050326,0,3301,3350,3291,3323,26960\\n37,20050327,0,3480,3489,3425,3425,25126\\n38,20050328,0,3489,3489,3254,3348,236115\\n39,20050329,0,3190,3348,3181,3194,135137\\n40,20050330,0,3123,3300,3084,3181,137586\\n41,20050403,0,3200,3280,3063,3153,110122\\n42,20050404,0,3158,3158,3012,3096,69577\\n43,20050405,0,3029,3240,2950,3061,186084\\n44,20050406,0,3019,3179,2991,3052,539196\\n45,20050410,0,3070,3204,3070,3129,3921412\\n46,20050411,0,3285,3285,3154,3154,6615\\n47,20050412,0,3311,3311,3196,3196,10771\\n48,20050413,0,3355,3355,3355,3355,51165\\n49,20050416,0,3522,3522,3522,3522,258765\\n50,20050417,0,3698,3698,3433,3599,399693\\n51,20050418,0,3421,3430,3420,3420,419198\\n52,20050419,0,3421,3421,3270,3305,129674\\n53,20050420,0,3345,3420,3152,3306,3082608\\n54,20050423,0,3354,3471,3354,3466,174401\\n55,20050424,0,3499,3639,3466,3556,312294\\n56,20050425,0,3598,3733,3542,3658,287037\\n57,20050501,0,3840,3840,3476,3575,26966\\n58,20050502,0,3479,3479,3397,3404,119713\\n59,20050503,0,3400,3574,3251,3406,465236\\n60,20050504,0,3574,3575,3433,3506,455883\\n61,20050507,0,3575,3600,3499,3530,207422\\n62,20050508,0,3530,3600,3356,3479,539061\\n63,20050509,0,3506,3652,3455,3608,600885\\n64,20050510,0,3788,3788,3788,3788,80016\\n65,20050511,0,3977,3977,3977,3977,64870\\n66,20050514,0,4175,4175,4175,4175,177487\\n67,20050515,0,4383,4383,4190,4362,1779214\\n68,20050516,0,4470,4580,4388,4568,443352\\n69,20050517,0,4796,4796,4789,4795,489157\\n70,20050518,0,5034,5034,4995,5032,231574\\n71,20050523,0,4781,5283,4781,5005,515234\\n72,20050524,0,5255,5255,4835,5108,524927\\n73,20050525,0,4904,4965,4882,4910,286645\\n74,20050528,0,5155,5155,4957,5147,303110\\n75,20050529,0,5350,5350,5001,5130,221894\\n76,20050530,0,5084,5190,4874,4969,1049463\\n77,20050531,0,4723,4855,4721,4726,368001\\n78,20050601,0,4490,4490,4490,4490,329127\\n79,20050606,0,4306,4714,4306,4410,902870\\n80,20050607,0,4399,4610,4322,4493,297060\\n81,20050608,0,4493,4627,4450,4507,282386\\n82,20050611,0,4412,4413,4360,4401,155591\\n83,20050612,0,4443,4621,4440,4583,208402\\n84,20050613,0,4790,4812,4561,4697,356074\\n85,20050614,0,4931,4931,4800,4927,317656\\n86,20050615,0,5170,5173,4850,5080,859711\\n87,20050618,0,5333,5333,5080,5194,269848\\n88,20050619,0,5104,5105,4935,4938,347759\\n89,20050620,0,4721,5184,4697,4995,127215\\n90,20050621,0,5000,5100,4974,4995,117984\\n91,20050622,0,5089,5244,5050,5186,384341\\n92,20050625,0,4927,4927,4927,4927,184228\\n93,20050626,0,4920,4927,4681,4689,1243416\\n94,20050627,0,4577,4600,4455,4474,478614\\n95,20050628,0,4290,4291,4251,4252,436320\\n96,20050629,0,4052,4142,4040,4042,473931\\n97,20050702,0,4040,4040,3840,3841,643323\\n98,20050703,0,3840,3840,3649,3649,667859\\n99,20050704,0,3467,3831,3467,3663,229130\\n100,20050705,0,3830,3846,3668,3668,2206\\n101,20050706,0,3851,3851,3751,3751,29320\\n102,20050709,0,3938,3938,3851,3851,34510\\n103,20050711,0,4043,4043,3901,4022,223041\\n104,20050712,0,3950,4223,3950,4159,185974\\n105,20050713,0,4110,4112,3954,4063,42582\\n106,20050716,0,3900,3900,3860,3865,117886\\n107,20050717,0,3701,3800,3672,3720,89365\\n108,20050718,0,3680,3720,3534,3556,109671\\n109,20050719,0,3426,3440,3379,3389,69587\\n110,20050720,0,3558,3558,3499,3538,53480\\n111,20050723,0,3650,3650,3546,3546,4943\\n112,20050724,0,3723,3723,3685,3685,50510\\n113,20050725,0,3869,3869,3869,3869,280490\\n114,20050726,0,3998,4062,3680,3956,429536\\n115,20050727,0,3956,4153,3956,4113,126741\\n116,20050730,0,4154,4154,4000,4065,55553\\n117,20050731,0,4200,4200,3900,3968,228795\\n118,20050801,0,4000,4000,3850,3956,109700\\n119,20050802,0,3900,4000,3900,3979,52342\\n120,20050803,0,3979,4000,3979,3981,7590\\n121,20050806,0,3980,4065,3970,3992,40089\\n122,20050807,0,3994,4000,3921,3991,10811\\n123,20050808,0,3991,3999,3850,3931,30501\\n124,20050809,0,3800,3999,3800,3912,167645\\n125,20050810,0,3999,4087,3980,3980,36466\\n126,20050813,0,3968,4000,3968,3978,42235\\n127,20050814,0,3900,4000,3900,3974,138433\\n128,20050815,0,3974,3974,3856,3962,8420\\n129,20050816,0,3901,4000,3823,3902,64380\\n130,20050817,0,3829,4000,3829,3950,2250410\\n131,20050820,0,3970,4078,3950,3993,2533401\\n132,20050821,0,4000,4098,3910,4043,46410\\n133,20050822,0,4001,4099,4001,4058,427068\\n134,20050823,0,4188,4260,4010,4138,416643\\n135,20050824,0,4013,4093,4001,4093,22034\\n136,20050827,0,4138,4297,4000,4199,95818\\n137,20050828,0,4198,4199,4050,4087,498124\\n138,20050829,0,4087,4087,4050,4082,42418\\n139,20050830,0,4005,4100,4005,4071,40520\\n140,20050831,0,4082,4152,4082,4116,49755\\n141,20050903,0,4139,4150,3912,4083,104574\\n142,20050904,0,4088,4100,3950,4063,410218\\n143,20050905,0,4053,4053,4000,4028,35550\\n144,20050906,0,4000,4046,4000,4000,149795\\n145,20050907,0,4000,4055,4000,4039,79921\\n146,20050910,0,4039,4039,4039,4039,80015\\n147,20050911,0,4000,4039,3999,4029,511713\\n148,20050912,0,4080,4080,4029,4029,62729\\n149,20050913,0,4049,4107,4049,4094,102614\\n150,20050914,0,4160,4291,4101,4280,173220\\n151,20050917,0,4490,4494,4280,4472,240387\\n152,20050918,0,4250,4650,4249,4632,122210\\n153,20050919,0,4800,4800,4451,4745,183581\\n154,20050921,0,4644,4850,4508,4814,221649\\n155,20051031,0,3502,3502,3300,3458,100994\\n156,20051101,0,3286,3456,3286,3456,510\\n157,20051102,0,3284,3454,3284,3454,510\\n158,20051106,0,3282,3373,3282,3373,30010\\n159,20051107,0,3205,3281,3205,3281,35010\\n160,20051108,0,3117,3204,3117,3204,30010\\n161,20051109,0,3044,3129,3044,3129,30010\\n162,20051113,0,3067,3103,3067,3103,25982\\n163,20051114,0,3041,3083,3041,3083,20337\\n164,20051115,0,3022,3062,3022,3062,21668\\n165,20051116,0,3001,3061,3001,3061,1003\\n166,20051119,0,3000,3041,3000,3041,20010\\n167,20051120,0,2981,3001,2981,2989,165486\\n168,20051121,0,2997,2997,2989,2989,1005\\n169,20051122,0,2930,2939,2930,2939,53828\\n170,20051123,0,2881,3085,2881,2996,97756\\n171,20051126,0,3145,3145,3145,3145,115507\\n172,20051219,0,1852,1860,430,1788,183010\\n173,20051220,0,1877,1877,1877,1877,201035\\n174,20051221,0,1970,1970,1900,1967,2317369\\n175,20051224,0,2065,2065,2065,2065,618993\\n176,20051225,0,2168,2168,2100,2166,1838704\\n177,20051226,0,2170,2220,2100,2139,408669\\n178,20051227,0,2070,2070,2033,2043,327738\\n179,20051228,0,2040,2089,2002,2029,175087\\n180,20051231,0,2090,2130,2090,2127,149157\\n181,20060101,0,2180,2180,2081,2151,176042\\n182,20060102,0,2137,2137,2062,2101,101982\\n183,20060103,0,2109,2110,2056,2089,54252\\n184,20060104,0,2051,2058,1990,2012,198472\\n185,20060107,0,1953,1953,1912,1926,61952\\n186,20060108,0,1924,1990,1835,1889,310786\\n187,20060109,0,1950,1983,1932,1964,210811\\n188,20060110,0,1940,1961,1932,1943,86614\\n189,20060114,0,1910,1911,1846,1911,21959\\n190,20060115,0,1816,1846,1816,1817,334331\\n191,20060116,0,1816,1850,1800,1823,123834\\n192,20060117,0,1899,1914,1899,1912,125368\\n193,20060118,0,2007,2007,1900,1934,142780\\n194,20060121,0,1851,1931,1850,1931,1543\\n195,20060122,0,1843,1911,1843,1911,23978\\n196,20060123,0,1852,1855,1821,1855,52513\\n197,20060124,0,1839,1839,1770,1790,83612\\n198,20060125,0,1791,1840,1791,1814,41646\\n199,20060128,0,1849,1849,1801,1813,53221\\n200,20060129,0,1898,1900,1839,1872,178750\\n201,20060130,0,1846,1870,1846,1853,83491\\n202,20060131,0,1800,1800,1761,1771,158730\\n203,20060201,0,1693,1768,1688,1734,145315\\n204,20060204,0,1674,1820,1671,1717,35572\\n205,20060205,0,1632,1632,1632,1632,308213\\n206,20060206,0,1551,1560,1551,1551,302872\\n207,20060207,0,1511,1576,1478,1537,70245\\n208,20060212,0,1598,1600,1530,1553,110677\\n209,20060213,0,1595,1625,1478,1524,160217\\n210,20060214,0,1494,1495,1494,1494,130325\\n211,20060215,0,1466,1520,1465,1477,335939\\n212,20060218,0,1506,1506,1501,1501,56690\\n213,20060219,0,1531,1531,1518,1518,38339\\n214,20060220,0,1548,1548,1530,1530,26465\\n215,20060221,0,1560,1560,1556,1556,56973\\n216,20060222,0,1587,1587,1525,1536,240284\\n217,20060225,0,1513,1528,1512,1523,41152\\n218,20060226,0,1500,1544,1500,1517,74118\\n219,20060227,0,1547,1547,1521,1521,9368\\n220,20060228,0,1551,1551,1539,1539,38958\\n221,20060301,0,1569,1569,1509,1553,2449720\\n222,20060304,0,1550,1550,1522,1524,201821\\n223,20060305,0,1497,1549,1497,1525,3038207\\n224,20060306,0,1525,1540,1497,1503,199096\\n225,20060307,0,1530,1533,1525,1532,93021\\n226,20060308,0,1532,1532,1502,1504,113439\\n227,20060311,0,1475,1475,1475,1475,101000\\n228,20060312,0,1446,1451,1446,1451,51310\\n229,20060313,0,1446,1446,1422,1423,95898\\n230,20060314,0,1426,1451,1398,1416,31414\\n231,20060315,0,1444,1444,1440,1443,132231\\n232,20060318,0,1471,1471,1462,1462,47000\\n233,20060319,0,1491,1491,1491,1491,120950\\n234,20060327,0,1520,1520,1506,1506,35277\\n235,20060328,0,1536,1536,1507,1507,3030\\n236,20060403,0,1537,1537,1507,1507,833\\n237,20060404,0,1537,1537,1521,1532,168674\\n238,20060405,0,1529,1529,1511,1524,45661\\n239,20060408,0,1538,1554,1530,1542,78957\\n240,20060409,0,1572,1572,1570,1571,65504\\n241,20060410,0,1580,1580,1540,1553,36685\\n242,20060411,0,1522,1552,1522,1552,1767\\n243,20060412,0,1521,1549,1521,1549,4273\\n244,20060417,0,1519,1540,1519,1540,17163\\n245,20060418,0,1510,1534,1510,1534,11830\\n246,20060425,0,1504,1524,1504,1524,20010\\n247,20060426,0,1494,1500,1494,1500,50010\\n248,20060429,0,1471,1472,1471,1472,60210\\n249,20060430,0,1443,1446,1443,1443,137691\\n250,20060501,0,1470,1471,1453,1453,46369\\n251,20060502,0,1482,1482,1458,1458,22080\\n252,20060503,0,1487,1487,1440,1470,106791\\n253,20060506,0,1450,1452,1441,1452,82914\\n254,20060507,0,1441,1481,1423,1441,146416\\n255,20060508,0,1469,1469,1446,1446,22965\\n256,20060509,0,1474,1474,1448,1448,10413\\n257,20060510,0,1476,1476,1456,1456,38219\\n258,20060513,0,1485,1485,1461,1461,21051\\n259,20060514,0,1490,1490,1470,1470,40784\\n260,20060515,0,1499,1499,1475,1475,24110\\n261,20060516,0,1504,1504,1487,1487,50413\\n262,20060517,0,1516,1516,1458,1513,252309\\n263,20060520,0,1483,1499,1483,1499,52889\\n264,20060521,0,1470,1494,1470,1494,19121\\n265,20060522,0,1465,1490,1465,1490,14404\\n266,20060523,0,1461,1487,1461,1487,10510\\n267,20060524,0,1458,1486,1458,1486,3900\\n268,20060527,0,1457,1485,1457,1485,510\\n269,20060528,0,1456,1482,1456,1482,12110\\n270,20060530,0,1453,1479,1453,1479,10515\\n271,20060531,0,1450,1471,1450,1471,30010\\n272,20060603,0,1442,1470,1442,1470,1044\\n273,20060607,0,1441,1495,1441,1443,263256\\n274,20060610,0,1470,1471,1435,1443,59024\\n275,20060611,0,1417,1471,1415,1443,114918\\n276,20060612,0,1460,1460,1420,1436,49171\\n277,20060613,0,1430,1430,1408,1409,159112\\n278,20060614,0,1435,1435,1407,1412,68131\\n279,20060617,0,1437,1440,1400,1413,24123\\n280,20060618,0,1415,1420,1401,1411,59187\\n281,20060619,0,1400,1429,1399,1401,104594\\n282,20060620,0,1404,1428,1400,1403,67112\\n283,20060621,0,1429,1431,1410,1423,105690\\n284,20060624,0,1451,1451,1429,1429,28533\\n285,20060625,0,1457,1457,1436,1436,30010\\n286,20060626,0,1464,1464,1437,1437,5897\\n287,20060627,0,1465,1465,1442,1442,24086\\n288,20060628,0,1470,1470,1455,1455,59329\\n289,20060701,0,1484,1484,1455,1455,959\\n290,20060702,0,1484,1484,1460,1460,22169\\n291,20060703,0,1489,1489,1461,1461,4189\\n292,20060704,0,1490,1490,1463,1463,10588\\n293,20060705,0,1492,1492,1464,1464,7355\\n294,20060708,0,1493,1493,1464,1464,3610\\n295,20060709,0,1493,1493,1480,1480,68445\\n296,20060710,0,1509,1509,1484,1484,20018\\n297,20060711,0,1513,1513,1486,1486,10660\\n298,20060712,0,1515,1515,1488,1488,9105\\n299,20060715,0,1517,1517,1500,1516,496957\\n300,20060716,0,1530,1546,1520,1539,283131\\n301,20060717,0,1569,1569,1509,1526,213378\\n302,20060718,0,1553,1556,1498,1554,299361\\n303,20060719,0,1550,1565,1528,1555,39408\\n304,20060722,0,1550,1586,1540,1552,153816\\n305,20060723,0,1583,1583,1552,1579,130519\\n306,20060724,0,1585,1610,1558,1597,150473\\n307,20060725,0,1628,1628,1613,1613,65381\\n308,20060726,0,1645,1645,1583,1613,55516\\n309,20060729,0,1614,1635,1593,1614,144260\\n310,20060730,0,1591,1610,1585,1592,164133\\n311,20060731,0,1585,1585,1561,1561,149897\\n312,20060801,0,1530,1537,1530,1530,161086\\n313,20060802,0,1530,1531,1500,1524,47510\\n314,20060805,0,1520,1554,1519,1539,195232\\n315,20060806,0,1569,1569,1511,1555,135251\\n316,20060807,0,1530,1586,1525,1557,750178\\n317,20060809,0,1588,1588,1587,1587,116828\\n318,20060812,0,1618,1618,1616,1616,115658\\n319,20060813,0,1648,1648,1648,1648,151999\\n320,20060814,0,1680,1680,1680,1680,234566\\n321,20060815,0,1713,1713,1694,1694,54235\\n322,20060816,0,1727,1727,1707,1707,50010\\n323,20060819,0,1741,1741,1741,1741,126601\\n324,20060820,0,1775,1775,1746,1746,19451\\n325,20060821,0,1780,1780,1775,1779,393193\\n326,20060904,0,2600,2700,2000,2436,3049055\\n327,20060905,0,2482,2484,2411,2479,766492\\n328,20060906,0,2528,2528,2528,2528,674911\\n329,20060910,0,2530,2578,2478,2504,368052\\n330,20060911,0,2454,2488,2454,2456,513280\\n331,20060912,0,2407,2429,2407,2408,474700\\n332,20060913,0,2398,2456,2366,2412,636098\\n333,20060916,0,2460,2460,2460,2460,15083649\\n334,20060917,0,2509,2509,2411,2501,15850210\\n335,20060918,0,2516,2551,2455,2520,1545604\\n336,20060919,0,2570,2570,2470,2563,444524\\n337,20060920,0,2557,2614,2526,2571,44010175\\n338,20060923,0,2622,2622,2619,2621,483840\\n339,20060924,0,2673,2673,2673,2673,329500\\n340,20060925,0,2726,2726,2703,2703,67998\\n341,20060926,0,2757,2757,2755,2755,116722\\n342,20060927,0,2810,2810,2807,2807,115273\\n343,20060930,0,2863,2863,2811,2854,573131\\n344,20061001,0,2911,2911,2875,2909,1224778\\n345,20061002,0,2967,2967,2967,2967,1636576\\n346,20061003,0,3026,3026,2908,2930,656958\\n347,20061004,0,2900,2960,2872,2895,719638\\n348,20061007,0,2895,2900,2838,2842,651828\\n349,20061008,0,2791,2800,2786,2786,656003\\n350,20061009,0,2731,2839,2731,2740,4995026\\n351,20061010,0,2701,2793,2692,2723,150263\\n352,20061011,0,2777,2777,2670,2715,551683\\n353,20061014,0,2704,2714,2661,2697,90206\\n354,20061016,0,2727,2727,2644,2652,668440\\n355,20061017,0,2705,2705,2690,2701,113728\\n356,20061018,0,2652,2683,2647,2662,176428\\n357,20061021,0,2715,2715,2650,2688,65637\\n358,20061022,0,2714,2741,2714,2717,68424\\n359,20061023,0,2771,2771,2771,2771,279266\\n360,20061028,0,2770,2824,2729,2768,59970\\n361,20061029,0,2719,2809,2713,2743,62933\\n362,20061030,0,2696,2797,2691,2742,21217\\n363,20061031,0,2742,2796,2691,2772,186398\\n364,20061101,0,2738,2770,2722,2770,7735\\n365,20061104,0,2770,2800,2770,2784,67717\\n366,20061105,0,2800,2825,2740,2816,539475\\n367,20061106,0,2801,2820,2780,2801,175610\\n368,20061107,0,2800,2800,2751,2791,54922\\n369,20061108,0,2800,2800,2790,2793,1556250\\n370,20061111,0,2793,2793,2748,2787,36590\\n371,20061112,0,2761,2829,2732,2759,73963\\n372,20061113,0,2704,2814,2704,2781,651616\\n373,20061125,0,2501,2575,2501,2557,58700\\n374,20061126,0,2608,2608,2571,2571,32713\\n375,20061127,0,2622,2622,2593,2593,51398\\n376,20061128,0,2644,2644,2643,2643,149408\\n377,20061129,0,2620,2640,2600,2637,30873\\n378,20061202,0,2585,2599,2585,2599,89895\\n379,20061203,0,2552,2569,2551,2555,110756\\n380,20061204,0,2505,2510,2504,2505,177536\\n381,20061205,0,2555,2555,2523,2552,266767\\n382,20061206,0,2603,2603,2590,2603,1210861\\n383,20061209,0,2643,2655,2603,2614,27368\\n384,20061210,0,2666,2666,2617,2653,94651\\n385,20061211,0,2699,2706,2658,2658,15495\\n386,20061212,0,2611,2658,2611,2657,4507\\n387,20061213,0,2708,2709,2613,2647,31084\\n388,20061216,0,2629,2633,2600,2611,172346\\n389,20061217,0,2643,2643,2568,2608,14315\\n390,20061218,0,2561,2564,2557,2564,107936\\n391,20061219,0,2598,2598,2523,2559,21290\\n392,20061220,0,2531,2532,2508,2514,132834\\n393,20061223,0,2499,2505,2490,2505,61785\\n394,20061224,0,2455,2550,2455,2486,154205\\n395,20061225,0,2486,2486,2437,2444,102240\\n396,20061226,0,2396,2406,2396,2406,94445\\n397,20061227,0,2358,2453,2358,2365,387956\\n398,20061230,0,2360,2412,2321,2394,131866\\n399,20070101,0,2441,2441,2400,2400,15557\\n400,20070102,0,2402,2402,2400,2400,5091\\n401,20070103,0,2411,2412,2401,2401,10486\\n402,20070106,0,2430,2449,2413,2413,33010\\n403,20070107,0,2413,2450,2413,2413,14588\\n404,20070109,0,2436,2461,2365,2428,96778\\n405,20070110,0,2476,2476,2428,2454,77366\\n406,20070113,0,2476,2503,2476,2484,75760\\n407,20070114,0,2533,2533,2527,2527,108438\\n408,20070115,0,2577,2577,2477,2505,183592\\n409,20070116,0,2456,2505,2455,2456,196816\\n410,20070117,0,2409,2505,2408,2441,257502\\n411,20070120,0,2489,2489,2489,2489,164720\\n412,20070121,0,2538,2538,2538,2538,141550\\n413,20070122,0,2588,2588,2588,2588,120000\\n414,20070123,0,2561,2639,2537,2602,244944\\n415,20070124,0,2550,2587,2550,2565,87737\\n416,20070127,0,2514,2616,2514,2603,462285\\n417,20070128,0,2552,2554,2551,2554,114085\\n418,20070131,0,2554,2554,2503,2537,50010\\n419,20070203,0,2537,2570,2487,2513,675872\\n420,20070204,0,2513,2537,2513,2513,12010\\n421,20070205,0,2463,2482,2463,2482,74049\\n422,20070206,0,2434,2446,2433,2446,88020\\n423,20070207,0,2399,2494,2398,2410,323704\\n424,20070210,0,2457,2458,2457,2457,208388\\n425,20070213,0,2506,2506,2505,2505,174920\\n426,20070214,0,2457,2555,2456,2524,128277\\n427,20070217,0,2574,2574,2530,2530,15373\\n428,20070218,0,2523,2580,2523,2570,98965\\n429,20070219,0,2621,2621,2599,2619,183537\\n430,20070220,0,2671,2671,2645,2645,62009\\n431,20070221,0,2697,2697,2697,2697,180965\\n432,20070224,0,2750,2750,2720,2739,135391\\n433,20070225,0,2738,2740,2738,2739,17265\\n434,20070226,0,2791,2793,2789,2792,967670\\n435,20070227,0,2741,2847,2739,2846,305421\\n436,20070228,0,2847,2902,2790,2848,2743637\\n437,20070303,0,2899,2900,2854,2896,191057\\n438,20070304,0,2900,2953,2899,2924,207608\\n439,20070305,0,2925,2982,2925,2950,293553\\n440,20070306,0,3007,3009,2911,2970,255891\\n441,20070307,0,2914,2969,2914,2968,19467\\n442,20070311,0,2937,3027,2910,3008,2615836\\n443,20070319,0,3022,3082,3021,3051,57012\\n444,20070326,0,3051,3051,3051,3051,1000\\n445,20070327,0,3111,3112,3083,3083,64533\\n446,20070331,0,3125,3144,3094,3094,30010\\n447,20070403,0,3155,3155,3121,3121,54010\\n448,20070404,0,3183,3183,3133,3133,23360\\n449,20070407,0,3195,3195,3194,3194,228875\\n450,20070408,0,3194,3200,3150,3185,72992\\n451,20070409,0,3126,3185,3125,3177,112773\\n452,20070410,0,3130,3130,3114,3116,121307\\n453,20070411,0,3054,3115,3054,3115,1638\\n454,20070415,0,3053,3102,3053,3102,25060\\n455,20070416,0,3040,3040,3040,3040,136000\\n456,20070417,0,3040,3040,2980,3036,15435\\n457,20070418,0,2976,3023,2976,3023,26316\\n458,20070421,0,2963,2963,2963,2963,120000\\n459,20070422,0,2904,2963,2904,2909,599027\\n460,20070423,0,2966,2967,2950,2966,178704\\n461,20070424,0,2966,2968,2966,2966,23735\\n462,20070425,0,2965,3000,2964,2971,169391\\n463,20070428,0,3000,3000,2930,2970,41229\\n464,20070429,0,2911,2957,2911,2957,25954\\n465,20070430,0,2950,2950,2900,2942,41620\\n466,20070501,0,2884,2939,2884,2939,307171\\n467,20070502,0,2881,2924,2881,2924,32830\\n468,20070505,0,2880,2916,2866,2916,17023\\n469,20070506,0,2858,2903,2858,2903,26993\\n470,20070508,0,2845,2876,2845,2876,56681\\n471,20070509,0,2819,2852,2819,2852,51176\\n472,20070512,0,2850,2871,2850,2859,54028\\n473,20070513,0,2860,2916,2859,2888,399804\\n474,20070514,0,2940,2945,2922,2922,75011\\n475,20070515,0,2980,2980,2969,2978,167435\\n476,20070516,0,2976,3018,2920,2968,70010\\n477,20070519,0,2910,2968,2910,2968,545\\n478,20070520,0,2909,2967,2909,2967,2740\\n479,20070521,0,2908,2967,2908,2967,110\\n480,20070527,0,2908,2908,2908,2908,1254149\\n481,20070528,0,2850,2898,2850,2898,20010\\n482,20070529,0,2841,2889,2841,2889,20010\\n483,20070530,0,2832,2901,2832,2835,759714\\n484,20070602,0,2891,2891,2863,2863,319255\\n485,20070603,0,2882,2920,2871,2889,152130\\n486,20070606,0,2900,2900,2889,2889,1201010\\n487,20070609,0,2900,2900,2832,2876,65510\\n488,20070610,0,2819,2858,2819,2858,37110\\n489,20070611,0,2801,2854,2801,2854,8610\\n490,20070612,0,2854,2869,2851,2858,151030\\n491,20070613,0,2860,2863,2858,2858,18363\\n492,20070616,0,2806,2812,2801,2812,97523\\n493,20070617,0,2800,2807,2756,2807,10220\\n494,20070619,0,2800,2802,2751,2802,54750\\n495,20070620,0,2746,2800,2746,2799,21730\\n496,20070624,0,2799,2799,2799,2799,230000\\n497,20070625,0,2799,2799,2799,2799,7500\\n498,20070627,0,2799,2800,2799,2799,15800\\n499,20070630,0,2799,2799,2799,2799,8474\\n500,20070702,0,2810,2810,2799,2799,17498\\n501,20070703,0,2799,2799,2750,2799,24269\\n502,20070704,0,2799,2799,2799,2799,5331\\n503,20070709,0,2750,2790,2750,2790,190375\\n504,20070710,0,2790,2790,2780,2788,30010\\n505,20070711,0,2733,2779,2733,2779,20010\\n506,20070714,0,2724,2780,2724,2753,175541\\n507,20070715,0,2699,2726,2698,2726,67010\\n508,20070716,0,2672,2724,2672,2672,258056\\n509,20070717,0,2725,2725,2672,2725,492308\\n510,20070718,0,2779,2779,2727,2756,143713\\n511,20070722,0,2756,2756,2712,2741,227381\\n512,20070723,0,2687,2740,2687,2738,20643\\n513,20070725,0,2700,2724,2684,2724,30190\\n514,20070729,0,2670,2690,2670,2686,227010\\n515,20070730,0,2686,2686,2633,2684,5301\\n516,20070731,0,2686,2737,2680,2696,113659\\n517,20070801,0,2749,2749,2700,2748,538922\\n518,20070804,0,2750,2802,2750,2800,229941\\n519,20070805,0,2800,2856,2800,2808,20110\\n520,20070806,0,2809,2809,2808,2808,976410\\n521,20070807,0,2802,2807,2802,2807,18468\\n522,20070808,0,2751,2751,2751,2751,126354\\n523,20070812,0,2751,2751,2750,2751,50818\\n524,20070813,0,2770,2770,2696,2749,10610\\n525,20070815,0,2695,2715,2695,2715,75590\\n526,20070820,0,2661,2696,2661,2696,42166\\n527,20070821,0,2700,2700,2679,2695,13345\\n528,20070822,0,2670,2695,2670,2695,490\\n529,20070825,0,2642,2650,2642,2642,454435\\n530,20070827,0,2590,2617,2590,2617,57208\\n531,20070828,0,2565,2615,2565,2615,4010\\n532,20070901,0,2563,2608,2563,2608,15302\\n533,20070902,0,2557,2641,2557,2607,41704\\n534,20070903,0,2659,2659,2609,2609,3965\\n535,20070904,0,2609,2609,2609,2609,1000\\n536,20070905,0,2557,2603,2557,2603,13447\\n537,20070909,0,2596,2655,2596,2603,6050\\n538,20070910,0,2551,2599,2551,2599,10010\\n539,20070911,0,2599,2599,2549,2597,4785\\n540,20070912,0,2546,2595,2546,2595,3610\\n541,20070916,0,2595,2595,2544,2559,83561\\n542,20070917,0,2559,2610,2559,2561,7050\\n543,20070918,0,2612,2612,2562,2611,154893\\n544,20070919,0,2661,2662,2660,2661,263034\\n545,20070922,0,2709,2714,2709,2713,241843\\n546,20070923,0,2713,2713,2713,2713,60360\\n547,20070926,0,2705,2712,2705,2712,10020\\n548,20070929,0,2668,2707,2658,2707,10762\\n549,20071001,0,2653,2653,2653,2653,132300\\n550,20071002,0,2600,2607,2600,2600,225632\\n551,20071006,0,2619,2619,2600,2600,382\\n552,20071007,0,2600,2600,2600,2600,291\\n553,20071008,0,2575,2600,2575,2600,210\\n554,20071014,0,2590,2652,2590,2605,30822\\n555,20071016,0,2653,2653,2607,2607,5010\\n556,20071020,0,2555,2555,2555,2555,120000\\n557,20071021,0,2504,2504,2504,2504,442563\\n558,20071022,0,2553,2554,2553,2553,199594\\n559,20071024,0,2510,2547,2502,2547,15010\\n560,20071028,0,2497,2546,2497,2546,1236\\n561,20071029,0,2496,2546,2496,2546,805\\n562,20071114,0,2496,2496,2496,2496,1000\\n563,20071117,0,2447,2447,2447,2447,300\\n564,20071118,0,2399,2399,2399,2399,100\\n565,20071119,0,2352,2446,2352,2363,330060\\n566,20071120,0,2410,2410,2367,2367,10010\\n567,20071121,0,2414,2414,2370,2370,8557\\n568,20071124,0,2370,2370,2326,2361,30460\\n569,20071125,0,2314,2408,2314,2354,25010\\n570,20071126,0,2400,2400,2358,2358,10010\\n571,20071127,0,2311,2311,2311,2311,361368\\n572,20071128,0,2310,2311,2310,2311,1000\\n573,20071201,0,2310,2311,2265,2309,67340\\n574,20071203,0,2263,2355,2263,2309,5206\\n575,20071205,0,2309,2355,2309,2332,61010\\n576,20071208,0,2378,2378,2336,2336,9428\\n577,20071209,0,2382,2382,2340,2340,10010\\n578,20071210,0,2386,2386,2344,2344,10010\\n579,20071211,0,2390,2390,2348,2348,10010\\n580,20071212,0,2394,2394,2352,2352,10010\\n581,20080126,0,2012,2052,2012,2014,10321\\n582,20080127,0,2054,2054,2017,2017,8240\\n583,20080129,0,2057,2057,2020,2020,8034\\n584,20080204,0,2060,2060,2024,2024,10805\\n585,20080206,0,2064,2064,2025,2025,3010\\n586,20080209,0,2065,2065,2027,2027,4598\\n587,20080216,0,2067,2067,2029,2029,5010\\n588,20080219,0,2069,2069,2029,2029,910\\n589,20080226,0,2150,2193,2150,2186,6417\\n590,20080227,0,2229,2229,2186,2186,1410\\n591,20080301,0,2229,2229,2196,2196,28077\\n592,20080302,0,2196,2239,2153,2200,11535\\n593,20080303,0,2200,2200,2200,2200,360\\n594,20080309,0,2200,2200,2200,2200,1140\\n595,20080310,0,2156,2198,2156,2198,6010\\n596,20080312,0,2155,2194,2155,2194,10010\\n597,20080402,0,2151,2192,2151,2192,6714\\n598,20080507,0,2149,2184,2149,2184,21198\\n599,20080510,0,2119,2156,2119,2156,50824\\n600,20080512,0,2149,2220,2149,2163,69452\\n601,20080518,0,2227,2227,2099,2218,128822\\n602,20080519,0,2284,2284,2223,2223,8822\\n603,20080520,0,2289,2289,2250,2250,49936\\n604,20080521,0,2317,2317,2314,2314,114322\\n605,20080524,0,2383,2383,2316,2316,4185\\n606,20080525,0,2310,2316,2310,2316,4050\\n607,20080527,0,2247,2313,2247,2313,5010\\n608,20080609,0,2244,2306,2244,2306,11795\\n609,20080709,0,2237,2257,2237,2250,174461\\n610,20080719,0,2250,2250,2250,2250,250\\n611,20080721,0,2250,2250,2250,2250,375010\\n612,20080722,0,2315,2315,2251,2251,1500\\n613,20080819,0,2184,2230,2184,2185,139036\\n614,20080923,0,2120,2173,2120,2173,21324\\n615,20081006,0,2108,2173,2108,2173,30\\n616,20081008,0,2108,2168,2108,2168,10010\\n617,20081012,0,2103,2167,2103,2167,1010\\n618,20081014,0,2102,2102,2102,2102,655\\n619,20081015,0,2039,2039,2039,2039,120000\\n620,20081026,0,1978,2030,1978,2030,17610\\n621,20081119,0,1970,2030,1970,2030,60\\n622,20081123,0,1970,2029,1970,2029,2535\\n623,20081125,0,1969,2028,1969,2028,2510\\n624,20081203,0,1968,2028,1968,2028,20\\n625,20090126,0,1968,1968,1968,1968,10\\n626,20090408,0,1498,1968,1498,1968,105300\\n627,20090412,0,1755,1755,1755,1755,646\\n628,20090415,0,1755,1755,1755,1755,1000\\n629,20090418,0,1755,1755,1755,1755,113000\\n630,20090419,0,1750,1810,1750,1810,91071\\n631,20090429,0,1796,1850,1796,1850,23017\\n632,20090504,0,1750,1750,1750,1750,1895\\n633,20090506,0,1754,1754,1753,1753,8582\\n634,20090512,0,1746,1746,1746,1746,6000\\n635,20090518,0,1798,1798,1798,1798,7805\\n636,20090519,0,1801,1801,1801,1801,9334\\n637,20090601,0,1760,1760,1750,1760,260000\\n638,20090602,0,1812,1812,1812,1812,1065\\n639,20090603,0,1812,1812,1812,1812,42248\\n640,20090607,0,1831,1831,1831,1831,1000\\n641,20090609,0,1777,1778,1777,1778,1500\\n642,20090613,0,1777,1777,1777,1777,10\\n643,20090802,0,1558,1558,1558,1558,50000\\n644,20090823,0,1512,1512,1512,1512,10217\\n645,20090830,0,1508,1508,1508,1508,36302\\n646,20090831,0,1494,1494,1494,1494,2630\\n647,20090901,0,1493,1493,1493,1493,20000\\n648,20090908,0,1486,1486,1486,1486,433\\n649,20090913,0,1486,1493,1486,1493,15250\\n650,20090921,0,1482,1482,1481,1481,30000\\n651,20090923,0,1531,1531,1531,1531,1000\\n652,20090926,0,1470,1470,1470,1470,10000\\n653,20090927,0,1466,1466,1466,1466,10000\\n654,20090928,0,1462,1462,1462,1462,10000\\n655,20090929,0,1458,1458,1458,1458,10000\\n656,20090930,0,1455,1458,1455,1458,11000\\n657,20091003,0,1451,1451,1451,1451,8186\\n658,20091031,0,1448,1448,1448,1448,1664\\n659,20091101,0,1480,1480,1480,1480,823\\n660,20091110,0,1543,1543,1543,1543,990\\n661,20091125,0,1543,1543,1543,1543,1\\n662,20091129,0,1543,1543,1543,1543,582\\n663,20091201,0,1543,1543,1543,1543,11497\\n664,20091205,0,1548,1548,1548,1548,2780\\n665,20091215,0,1549,1549,1549,1549,60000\\n666,20091216,0,1510,1510,1510,1510,375\\n667,20091220,0,1502,1502,1502,1502,2108\\n668,20091221,0,1503,1503,1500,1500,375\\n669,20091222,0,1550,1573,1550,1573,27856\\n670,20091230,0,1481,1482,1481,1482,118533\\n671,20100102,0,1481,1481,1481,1481,1300\\n672,20100110,0,1431,1431,1431,1431,20500\\n673,20100112,0,1422,1422,1422,1422,29500\\n674,20100113,0,1409,1409,1409,1409,1800\\n675,20100120,0,1408,1408,1408,1408,30000\\n676,20100123,0,1396,1396,1396,1396,1323\\n677,20100314,0,1395,1395,1395,1395,20000\\n678,20100315,0,1347,1347,1347,1347,1000\\n679,20100316,0,1347,1347,1347,1347,11846\\n680,20100317,0,1342,1342,1342,1342,7000\\n681,20100327,0,1342,1342,1342,1342,13118\\n682,20100331,0,1382,1382,1382,1382,575\\n683,20100407,0,1336,1336,1336,1336,10000\\n684,20100410,0,1336,1336,1336,1336,1875\\n685,20100411,0,1425,1425,1425,1425,13900\\n686,20100412,0,1429,1430,1425,1425,7397\\n687,20100419,0,1338,1338,1338,1338,1060\\n688,20100424,0,1338,1338,1338,1338,500\\n689,20100425,0,1338,1338,1338,1338,16732\\n690,20100427,0,1336,1336,1336,1336,575\\n691,20100501,0,1336,1336,1336,1336,8540\\n692,20100502,0,1336,1336,1336,1336,9000\\n693,20100516,0,1334,1334,1334,1334,500\\n694,20100522,0,1334,1334,1334,1334,5000\\n695,20100523,0,1334,1334,1334,1334,13384\\n696,20100530,0,1288,1288,1288,1288,1875\\n697,20100609,0,1325,1325,1325,1325,590\\n698,20100614,0,1250,1250,1250,1250,2401\\n699,20100615,0,1251,1298,1251,1298,8665\\n700,20100616,0,1255,1256,1255,1256,6830\\n701,20100619,0,1241,1241,1241,1241,1165\\n702,20100622,0,1242,1242,1242,1242,800\\n703,20100623,0,1242,1242,1242,1242,2262\\n704,20100628,0,1243,1243,1243,1243,750\\n705,20100630,0,1242,1242,1242,1242,1515\\n706,20100703,0,1243,1243,1243,1243,250\\n707,20100704,0,1241,1241,1241,1241,15175\\n708,20100705,0,1275,1275,1275,1275,200\\n709,20100713,0,1243,1245,1243,1245,1100\\n710,20100726,0,1245,1245,1245,1245,148\\n711,20100728,0,1245,1245,1245,1245,570\\n712,20100801,0,1245,1245,1245,1245,725\\n713,20100802,0,1245,1245,1245,1245,205\\n714,20100804,0,1245,1245,1245,1245,2406\\n715,20100807,0,1275,1275,1275,1275,100\\n716,20100810,0,1245,1245,1245,1245,4100\\n717,20100811,0,1245,1245,1245,1245,2330\\n718,20100814,0,1245,1245,1245,1245,14447\\n719,20100815,0,1244,1244,1244,1244,5553\\n720,20100816,0,1241,1241,1241,1241,2000\\n721,20100822,0,1218,1218,1218,1218,5572\\n722,20100824,0,1219,1219,1216,1216,32208\\n723,20100825,0,1204,1245,1204,1245,4788\\n724,20100829,0,1207,1207,1207,1207,100\\n725,20100919,0,1252,1252,1252,1252,10000\\n726,20100920,0,1252,1252,1252,1252,10000\\n727,20100925,0,1252,1252,1252,1252,20000\\n728,20100929,0,1240,1252,1240,1252,4000\\n729,20101002,0,1252,1252,1252,1252,4575\\n730,20101006,0,1250,1250,1250,1250,152\\n731,20101031,0,1202,1202,1202,1202,6995\\n732,20101107,0,1200,1200,1200,1200,5398\\n733,20101110,0,1198,1198,1198,1198,30000\\n734,20101113,0,1186,1186,1186,1186,27279\\n735,20101124,0,1272,1272,1272,1272,3495\\n736,20101127,0,1274,1274,1274,1274,980\\n737,20101128,0,1190,1190,1190,1190,1000\\n738,20101129,0,1176,1176,1176,1176,9500\\n739,20101222,0,1173,1173,1173,1173,25000\\n740,20101225,0,1163,1163,1163,1163,4500\\n741,20101227,0,1161,1161,1161,1161,3687\\n742,20101229,0,1163,1163,1163,1163,1098\\n743,20110117,0,1256,1256,1256,1256,780\\n744,20110129,0,1208,1208,1208,1208,2123\\n745,20110130,0,1256,1256,1256,1256,3900\\n746,20110131,0,1200,1250,1200,1250,8119\\n747,20110201,0,1211,1211,1211,1211,20000\\n748,20110209,0,1164,1164,1164,1164,116\\n749,20110213,0,1165,1165,1163,1163,21430\\n750,20110214,0,1156,1156,1156,1156,4300\\n751,20110215,0,1163,1201,1153,1200,42488\\n752,20110216,0,1154,1154,1150,1150,17250\\n753,20110219,0,1170,1170,1140,1140,12360\\n754,20110228,0,1134,1134,1134,1134,205\\n755,20110319,0,1134,1134,1134,1134,10\\n756,20110326,0,1134,1134,1134,1134,100\\n757,20110327,0,1091,1091,1090,1090,5570\\n758,20110328,0,1100,1100,1087,1087,32224\\n759,20110329,0,1081,1081,1077,1077,51959\\n760,20110330,0,1077,1077,1077,1077,838\\n761,20110403,0,1147,1147,1147,1147,1800\\n762,20110404,0,1080,1080,1063,1067,3776\\n763,20110405,0,1100,1100,1100,1100,143800\\n764,20110409,0,1144,1144,1144,1144,31694\\n765,20110410,0,1156,1156,1156,1156,134405\\n766,20110411,0,1155,1155,1113,1113,5799\\n767,20110412,0,1120,1120,1108,1108,134977\\n768,20110413,0,1070,1150,1070,1150,705600\\n769,20110416,0,1100,1112,1100,1112,50584\\n770,20110417,0,1129,1129,1129,1129,3121\\n771,20110418,0,1130,1130,1130,1130,35418\\n772,20110419,0,1144,1144,1144,1144,8000\\n773,20110420,0,1147,1147,1147,1147,165000\\n774,20110423,0,1150,1150,1130,1145,41730\\n775,20110424,0,1110,1112,1110,1111,27880\\n776,20110425,0,1148,1150,1148,1150,73000\\n777,20110426,0,1158,1189,1150,1189,93578\\n778,20110427,0,1191,1192,1191,1192,70538\\n779,20110430,0,1211,1219,1211,1219,326117\\n780,20110501,0,1219,1171,1170,1170,3800\\n781,20110502,0,1180,1210,1168,1168,9210\\n782,20110503,0,1247,1247,1247,1247,100\\n783,20110504,0,1166,1166,1165,1165,5624\\n784,20110509,0,1165,1165,1165,1165,1406\\n785,20110510,0,1243,1243,1200,1200,13000\\n786,20110511,0,1170,1170,1170,1170,658\\n787,20110515,0,1165,1165,1164,1164,7265\\n788,20110517,0,1161,1161,1161,1161,302\\n789,20110518,0,1162,1162,1162,1162,2433\\n790,20110522,0,1160,1160,1160,1160,3000\\n791,20110523,0,1159,1159,1159,1159,12548\\n792,20110524,0,1199,1199,1199,1199,100\\n793,20110525,0,1198,1200,1198,1200,16141\\n794,20110612,0,1155,1155,1155,1155,1650\\n795,20110613,0,1160,1210,1160,1210,61594\\n796,20110622,0,1050,1051,1050,1051,51091\\n797,20110625,0,1040,1040,1001,1001,1345\\n798,20110626,0,1069,1069,1069,1069,6307\\n799,20110627,0,1071,1071,1071,1071,40730\\n800,20110628,0,1085,1085,1004,1004,225633\\n801,20110629,0,1080,1080,1080,1080,10\\n802,20110702,0,1039,1079,1038,1079,16800\\n803,20110703,0,1033,1033,1033,1033,4000\\n804,20110705,0,1032,1032,1032,1032,5000\\n805,20110710,0,1031,1031,1031,1031,96147\\n806,20110712,0,1039,1039,1039,1039,19\\n807,20110713,0,1030,1030,1030,1030,2405\\n808,20110719,0,1030,1050,1030,1050,56546\\n809,20110720,0,1030,1080,999,1010,80400\\n810,20110723,0,1060,1060,1001,1001,4034\\n811,20110724,0,983,983,983,983,4900\\n812,20110725,0,1029,1029,1029,1029,2000\\n813,20110802,0,1019,1019,1019,1019,3149\\n814,20110803,0,1020,1020,1019,1019,3000\\n815,20110808,0,1019,1019,1019,1019,3000\\n816,20110817,0,1019,1019,1019,1019,1\\n817,20110820,0,1010,1040,1010,1010,2483\\n818,20110821,0,1050,1056,1050,1056,18606\\n819,20110828,0,1055,1064,1055,1064,152995\\n820,20110830,0,1065,1075,1065,1066,4549\\n821,20110903,0,1099,1099,1099,1099,12000\\n822,20110904,0,1103,1103,1103,1103,5000\\n823,20110905,0,1105,1105,1105,1105,571035\\n824,20110906,0,1149,1149,1149,1149,126800\\n825,20110907,0,1194,1194,1160,1192,42808\\n826,20110910,0,1206,1206,1144,1159,10943\\n827,20110912,0,1116,1116,1116,1116,17000\\n828,20110914,0,1109,1109,1109,1109,11500\\n829,20110917,0,1152,1152,1105,1105,4700\\n830,20110918,0,1115,1115,1115,1115,10000\\n831,20110920,0,1106,1106,1102,1102,24221\\n832,20110921,0,1139,1139,1139,1139,100\\n833,20110925,0,1093,1093,1093,1093,9000\\n834,20110926,0,1100,1100,1100,1100,100\\n835,20110928,0,1146,1180,1146,1180,24700\\n836,20111001,0,1150,1186,1150,1186,30659\\n837,20111002,0,1197,1198,1197,1198,17900\\n838,20111003,0,1205,1205,1205,1205,18727\\n839,20111004,0,1212,1212,1212,1212,3836\\n840,20111008,0,1213,1213,1213,1213,120000\\n841,20111009,0,1261,1261,1261,1261,121213\\n842,20111010,0,1311,1311,1311,1311,117742\\n843,20111011,0,1356,1362,1311,1362,530252\\n844,20111012,0,1378,1401,1378,1401,179245\\n845,20111015,0,1338,1400,1338,1338,74900\\n846,20111016,0,1308,1308,1308,1308,131698\\n847,20111017,0,1256,1260,1256,1256,100000\\n848,20111018,0,1313,1313,1221,1221,66533\\n849,20111022,0,1210,1210,1210,1210,12826\\n850,20111023,0,1245,1294,1245,1294,8700\\n851,20111025,0,1200,1297,1200,1297,5212\\n852,20111026,0,1260,1260,1200,1200,10100\\n853,20111029,0,1197,1198,1197,1198,31295\\n854,20111030,0,1230,1250,1230,1250,92\\n855,20111031,0,1187,1187,1187,1187,5000\\n856,20111108,0,1182,1182,1182,1182,4000\\n857,20111109,0,1240,1240,1180,1180,1345\\n858,20111114,0,1180,1180,1180,1180,1194\\n859,20111116,0,1180,1180,1180,1180,10000\\n860,20111120,0,1177,1177,1176,1176,40000\\n861,20111121,0,1161,1161,1161,1161,33000\\n862,20111122,0,1149,1149,1149,1149,100000\\n863,20111126,0,1111,1111,1111,1111,5000\\n864,20111127,0,1109,1109,1109,1109,10000\\n865,20111128,0,1105,1105,1105,1105,107500\\n866,20111129,0,1066,1066,1066,1066,83501\\n867,20111210,0,1122,1122,1122,1122,398554\\n868,20111211,0,1166,1166,1166,1166,160693\\n869,20111212,0,1212,1212,1212,1212,1000\\n870,20111213,0,1212,1212,1212,1212,300\\n871,20111214,0,1212,1212,1212,1212,900\\n872,20111218,0,1212,1212,1212,1212,3100\\n873,20111219,0,1260,1310,1260,1310,32500\\n874,20111220,0,1361,1361,1361,1361,178\\n875,20111221,0,1361,1361,1361,1361,126\\n876,20111224,0,1361,1361,1361,1361,150601\\n877,20111225,0,1415,1415,1415,1415,1216680\\n878,20111226,0,1471,1471,1471,1471,782466\\n879,20111227,0,1520,1580,1475,1580,157939\\n880,20111228,0,1599,1599,1599,1599,24250\\n881,20111231,0,1612,1612,1612,1612,23000\\n882,20120101,0,1624,1624,1624,1624,50700\\n883,20120102,0,1651,1651,1650,1651,1465138\\n884,20120103,0,1680,1717,1680,1717,1439119\\n885,20120104,0,1769,1779,1719,1779,397240\\n886,20120107,0,1831,1831,1701,1716,123066\\n887,20120109,0,1662,1662,1660,1660,84864\\n888,20120110,0,1614,1728,1614,1615,196169\\n889,20120111,0,1649,1680,1553,1600,405512\\n890,20120115,0,1655,1655,1559,1619,256912\\n891,20120116,0,1532,1535,1508,1508,182316\\n892,20120117,0,1570,1570,1453,1513,169806\\n893,20120118,0,1509,1510,1449,1449,125435\\n894,20120121,0,1509,1540,1509,1540,478960\\n895,20120123,0,1500,1584,1476,1476,232900\\n896,20120125,0,1421,1421,1418,1418,160300\\n897,20120128,0,1474,1474,1474,1474,69701\\n898,20120129,0,1509,1509,1393,1393,58609\\n899,20120130,0,1381,1381,1381,1381,35000\\n900,20120131,0,1365,1420,1365,1365,495963\\n901,20120201,0,1420,1420,1346,1385,15200\\n902,20120204,0,1360,1419,1360,1419,395564\\n903,20120205,0,1470,1470,1378,1391,54417\\n904,20120206,0,1360,1465,1360,1465,168051\\n905,20120207,0,1512,1512,1512,1512,244623\\n906,20120208,0,1572,1572,1572,1572,134268\\n907,20120212,0,1634,1634,1510,1510,518102\\n908,20120213,0,1510,1564,1509,1509,560267\\n909,20120214,0,1451,1451,1450,1450,227287\\n910,20120215,0,1392,1450,1392,1400,525506\\n911,20120218,0,1450,1466,1444,1466,357643\\n912,20120219,0,1519,1519,1519,1519,2616800\\n913,20120220,0,1579,1579,1579,1579,107200\\n914,20120221,0,1635,1635,1635,1635,6000\\n915,20120222,0,1639,1639,1639,1639,1502593\\n916,20120225,0,1699,1704,1579,1704,1525542\\n917,20120226,0,1754,1754,1754,1754,74000\\n918,20120227,0,1797,1797,1797,1797,25814\\n919,20120228,0,1812,1812,1812,1812,240250\\n920,20120229,0,1870,1884,1800,1884,2177886\\n921,20120303,0,1902,1957,1902,1957,660302\\n922,20120304,0,2020,2024,1871,1871,735397\\n923,20120305,0,1899,1899,1848,1848,269226\\n924,20120306,0,1779,1839,1779,1779,418184\\n925,20120307,0,1709,1849,1709,1740,1157377\\n926,20120310,0,1780,1810,1706,1706,375766\\n927,20120311,0,1770,1770,1678,1678,341637\\n928,20120312,0,1620,1621,1619,1619,260008\\n929,20120313,0,1670,1683,1670,1683,124764\\n930,20120314,0,1749,1749,1749,1749,121197\\n931,20120317,0,1805,1805,1710,1769,75803\\n932,20120318,0,1779,1798,1712,1775,102133\\n933,20120324,0,1811,1846,1800,1846,121521\\n934,20120325,0,1839,1862,1780,1829,148349\\n935,20120326,0,1750,1761,1750,1760,8644\\n936,20120327,0,1751,1799,1738,1741,54775\\n937,20120328,0,1721,1750,1708,1708,123340\\n938,20120402,0,1662,1662,1646,1646,206966\\n939,20120403,0,1584,1603,1583,1583,199472\\n940,20120404,0,1652,1652,1600,1649,92135\\n941,20120407,0,1683,1683,1555,1555,563002\\n942,20120408,0,1617,1617,1520,1610,545933\\n943,20120409,0,1650,1650,1650,1650,208559\\n944,20120410,0,1716,1716,1716,1716,195990\\n945,20120411,0,1648,1738,1648,1648,534571\\n946,20120414,0,1697,1700,1670,1691,153322\\n947,20120415,0,1699,1750,1626,1626,202899\\n948,20120416,0,1617,1650,1589,1589,507287\\n949,20120417,0,1556,1610,1552,1552,110680\\n950,20120418,0,1581,1633,1581,1633,503719\\n951,20120421,0,1697,1697,1620,1620,1047740\\n952,20120422,0,1675,1675,1622,1622,66865\\n953,20120423,0,1589,1619,1587,1587,212186\\n954,20120424,0,1600,1600,1525,1526,613306\\n955,20120428,0,1500,1521,1500,1500,109848\\n956,20120429,0,1500,1569,1500,1521,152779\\n957,20120430,0,1536,1536,1477,1536,98381\\n958,20120501,0,1537,1574,1537,1574,427308\\n959,20120502,0,1623,1623,1570,1599,237345\\n960,20120505,0,1615,1615,1536,1550,164947\\n961,20120506,0,1550,1560,1497,1497,103035\\n962,20120507,0,1509,1549,1468,1480,386329\\n963,20120508,0,1508,1570,1508,1561,344790\\n964,20120509,0,1569,1616,1505,1616,1532111\\n965,20120512,0,1560,1630,1560,1609,324917\\n966,20120513,0,1610,1661,1610,1661,1884650\\n967,20120514,0,1710,1724,1710,1724,1000813\\n968,20120515,0,1791,1792,1730,1792,1607734\\n969,20120516,0,1779,1828,1742,1819,975488\\n970,20120519,0,1830,1873,1820,1870,2522331\\n971,20120520,0,1832,1880,1830,1865,100660\\n972,20120521,0,1841,1869,1803,1851,1323715\\n973,20120522,0,1860,1880,1793,1830,552945\\n974,20120523,0,1801,1830,1800,1829,76766\\n975,20120526,0,1746,1746,1746,1746,58844\\n976,20120527,0,1724,1724,1712,1712,10885\\n977,20120528,0,1706,1800,1706,1706,213145\\n978,20120529,0,1665,1700,1665,1665,42565\\n979,20120530,0,1670,1700,1670,1700,8031\\n980,20120602,0,1747,1748,1652,1652,1180\\n981,20120606,0,1632,1660,1632,1660,1599\\n982,20120609,0,1624,1624,1624,1624,1000\\n983,20120610,0,1623,1700,1623,1623,153025\\n984,20120611,0,1600,1600,1568,1568,109510\\n985,20120612,0,1600,1626,1600,1619,4875\\n986,20120613,0,1520,1641,1515,1641,455705\\n987,20120625,0,1358,1380,1358,1380,93025\\n988,20120626,0,1322,1322,1322,1322,50000\\n989,20120627,0,1300,1305,1300,1300,217455\\n990,20120630,0,1340,1352,1340,1352,27733\\n991,20120701,0,1363,1363,1363,1363,22700\\n992,20120704,0,1373,1373,1373,1373,10200\\n993,20120707,0,1378,1378,1378,1378,3018\\n994,20120708,0,1379,1379,1379,1379,3018\\n995,20120710,0,1380,1380,1380,1380,5500\\n996,20120711,0,1382,1382,1382,1382,160\\n997,20120714,0,1382,1382,1382,1382,12662\\n998,20120715,0,1388,1388,1388,1388,13382\\n999,20120717,0,1394,1394,1394,1394,37812\\n1000,20120718,0,1412,1412,1390,1392,12843\\n1001,20120721,0,1392,1416,1392,1416,3790\\n1002,20120722,0,1417,1417,1417,1417,10435\\n1003,20120723,0,1422,1422,1422,1422,500\\n1004,20120724,0,1420,1422,1420,1422,15600\\n1005,20120725,0,1360,1430,1360,1430,5490\\n1006,20120728,0,1380,1380,1354,1354,15187\\n1007,20120729,0,1356,1356,1319,1320,34719\\n1008,20120730,0,1400,1413,1400,1412,14213\\n1009,20120731,0,1350,1419,1350,1419,2100\\n1010,20120801,0,1410,1410,1410,1410,2000\\n1011,20120805,0,1370,1397,1370,1397,4442000\\n1012,20120806,0,1385,1385,1342,1342,1514021\\n1013,20120807,0,1317,1369,1315,1360,848986\\n1014,20120808,0,1369,1369,1312,1312,2169769\\n1015,20120811,0,1325,1367,1325,1367,24000\\n1016,20120812,0,1310,1340,1310,1330,3500\\n1017,20120813,0,1309,1309,1307,1307,16500\\n1018,20120814,0,1390,1390,1300,1310,7481\\n1019,20120815,0,1366,1368,1320,1330,12000\\n1020,20120818,0,1297,1336,1297,1336,4500\\n1021,20120821,0,1296,1300,1296,1300,19914\\n1022,20120822,0,1339,1339,1293,1300,16150\\n1023,20120825,0,1310,1388,1310,1388,192862\\n1024,20120826,0,1410,1410,1410,1410,120000\\n1025,20120827,0,1464,1464,1355,1378,1217071\\n1026,20120902,0,1360,1370,1346,1360,190939\\n1027,20120904,0,1374,1374,1374,1374,1809\\n1028,20120905,0,1320,1324,1320,1324,16539\\n1029,20120908,0,1374,1374,1358,1358,45924\\n1030,20120909,0,1340,1340,1331,1331,10000\\n1031,20120910,0,1314,1370,1314,1370,31012\\n1032,20120911,0,1330,1330,1330,1330,10\\n1033,20120915,0,1330,1330,1330,1330,100000\\n1034,20120916,0,1311,1311,1311,1311,31000\\n1035,20120917,0,1310,1310,1310,1310,4900\\n1036,20120918,0,1369,1379,1368,1379,176052\\n1037,20120922,0,1379,1399,1320,1320,170402\\n1038,20120923,0,1355,1355,1310,1310,66337\\n1039,20120924,0,1300,1303,1271,1271,25550\\n1040,20120925,0,1339,1348,1335,1348,57150\\n1041,20120926,0,1310,1355,1300,1300,321738\\n1042,20120929,0,1350,1371,1350,1371,367711\\n1043,20120930,0,1370,1370,1316,1320,107655\\n1044,20121001,0,1282,1285,1279,1283,57000\\n1045,20121002,0,1279,1279,1255,1255,312000\\n1046,20121003,0,1243,1246,1243,1245,50005\\n1047,20121006,0,1212,1212,1202,1202,43195\\n1048,20121007,0,1191,1192,1187,1187,125165\\n1049,20121008,0,1238,1238,1220,1238,120000\\n1050,20121009,0,1284,1284,1200,1200,64679\\n1051,20121010,0,1260,1260,1260,1260,10000\\n1052,20121013,0,1277,1277,1192,1192,100000\\n1053,20121014,0,1178,1210,1178,1208,15534\\n1054,20121015,0,1191,1220,1191,1192,130180\\n1055,20121016,0,1219,1246,1210,1228,208371\\n1056,20121017,0,1211,1211,1191,1191,62169\\n1057,20121020,0,1190,1190,1177,1179,72657\\n1058,20121021,0,1175,1175,1175,1175,113200\\n1059,20121022,0,1162,1170,1162,1170,11582\\n1060,20121023,0,1171,1222,1171,1222,92612\\n1061,20121024,0,1253,1253,1253,1253,19150\\n1062,20121027,0,1261,1261,1261,1261,160200\\n1063,20121028,0,1311,1311,1299,1311,432866\\n1064,20121029,0,1362,1362,1362,1362,162607\\n1065,20121030,0,1416,1416,1416,1416,79136\\n1066,20121031,0,1453,1453,1453,1453,537591\\n1067,20121104,0,1508,1508,1395,1395,99527\\n1068,20121105,0,1390,1390,1366,1366,262992\\n1069,20121106,0,1330,1374,1330,1342,22183\\n1070,20121107,0,1370,1370,1370,1370,9614\\n1071,20121110,0,1400,1422,1400,1422,469900\\n1072,20121111,0,1477,1477,1477,1477,730746\\n1073,20121112,0,1510,1536,1452,1536,1489945\\n1074,20121113,0,1559,1579,1530,1537,233249\\n1075,20121114,0,1550,1599,1488,1598,658725\\n1076,20121117,0,1590,1592,1552,1592,236860\\n1077,20121118,0,1600,1649,1600,1643,104983\\n1078,20121119,0,1610,1623,1560,1620,53110\\n1079,20121120,0,1561,1590,1560,1580,22702\\n1080,20121121,0,1600,1625,1550,1550,29400\\n1081,20121126,0,1603,1603,1523,1550,49941\\n1082,20121127,0,1585,1585,1504,1504,185428\\n1083,20121128,0,1530,1530,1466,1500,180958\\n1084,20121201,0,1510,1542,1500,1542,99705\\n1085,20121202,0,1560,1590,1515,1515,15535\\n1086,20121203,0,1587,1588,1520,1550,85644\\n1087,20121204,0,1570,1570,1480,1480,34580\\n1088,20121205,0,1466,1525,1466,1522,108938\\n1089,20121208,0,1544,1544,1426,1462,64779\\n1090,20121209,0,1437,1488,1430,1458,27374\\n1091,20121210,0,1440,1440,1430,1430,40040\\n1092,20121211,0,1470,1470,1453,1470,19000\\n1093,20121212,0,1479,1479,1456,1456,5826\\n1094,20121215,0,1464,1498,1464,1498,8690\\n1095,20121216,0,1498,1498,1480,1494,42116\\n1096,20121217,0,1460,1460,1414,1440,134111\\n1097,20121218,0,1410,1430,1403,1430,30801\\n1098,20121219,0,1474,1475,1450,1450,63001\\n1099,20121223,0,1422,1440,1387,1410,111500\\n1100,20121224,0,1424,1460,1381,1381,84617\\n1101,20121225,0,1395,1467,1380,1423,25304\\n1102,20121226,0,1400,1430,1366,1368,206077\\n1103,20121229,0,1419,1420,1419,1420,8003\\n1104,20121230,0,1420,1426,1360,1370,23240\\n1105,20121231,0,1385,1385,1332,1340,47144\\n1106,20130101,0,1354,1354,1320,1320,304667\\n1107,20130102,0,1271,1369,1270,1300,72617\\n1108,20130106,0,1331,1350,1326,1326,60038\\n1109,20130107,0,1350,1360,1350,1360,300\\n1110,20130108,0,1308,1346,1300,1346,10803\\n1111,20130109,0,1322,1373,1322,1322,42461\\n1112,20130113,0,1301,1301,1281,1281,25144\\n1113,20130114,0,1272,1272,1272,1272,143200\\n1114,20130115,0,1222,1300,1222,1222,139581\\n1115,20130116,0,1187,1230,1178,1200,265799\\n1116,20130119,0,1182,1228,1177,1192,146463\\n1117,20130120,0,1185,1185,1151,1160,156143\\n1118,20130121,0,1199,1200,1180,1199,61810\\n1119,20130122,0,1220,1220,1132,1170,201527\\n1120,20130123,0,1170,1190,1170,1172,52077\\n1121,20130126,0,1217,1217,1160,1188,78040\\n1122,20130127,0,1190,1190,1152,1152,76544\\n1123,20130128,0,1151,1180,1130,1130,89200\\n1124,20130130,0,1115,1190,1115,1190,179978\\n1125,20130202,0,1201,1201,1190,1201,284697\\n1126,20130203,0,1249,1249,1220,1240,232644\\n1127,20130204,0,1250,1250,1194,1194,165232\\n1128,20130205,0,1210,1210,1175,1178,25654\\n1129,20130206,0,1208,1209,1150,1153,98778\\n1130,20130209,0,1155,1160,1135,1135,65350\\n1131,20130211,0,1195,1195,1130,1167,65265\\n1132,20130212,0,1139,1149,1138,1139,152947\\n1133,20130213,0,1136,1145,1136,1138,15630\\n1134,20130219,0,1184,1186,1184,1186,3566\\n1135,20130220,0,1187,1187,1144,1160,63672\\n1136,20130223,0,1133,1149,1133,1149,9357\\n1137,20130224,0,1140,1170,1140,1170,85337\\n1138,20130225,0,1145,1159,1145,1145,70882\\n1139,20130226,0,1179,1179,1153,1153,79924\\n1140,20130227,0,1170,1177,1170,1177,13529\\n1141,20130302,0,1145,1147,1145,1147,47874\\n1142,20130303,0,1145,1145,1138,1138,85193\\n1143,20130304,0,1145,1169,1144,1160,40572\\n1144,20130305,0,1152,1169,1121,1165,29692\\n1145,20130306,0,1170,1170,1160,1160,34853\\n1146,20130309,0,1112,1200,1112,1200,25477\\n1147,20130310,0,1200,1200,1128,1128,31554\\n1148,20130311,0,1131,1150,1131,1150,12950\\n1149,20130312,0,1150,1150,1119,1119,92047\\n1150,20130313,0,1149,1150,1130,1130,3001\\n1151,20130316,0,1147,1150,1120,1120,6331\\n1152,20130317,0,1100,1120,1092,1120,33600\\n1153,20130318,0,1090,1090,1085,1085,27500\\n1154,20130325,0,1120,1162,1120,1162,248897\\n1155,20130326,0,1141,1180,1141,1180,9800\\n1156,20130327,0,1116,1180,1116,1180,38960\\n1157,20130330,0,1200,1200,1182,1200,30202\\n1158,20130331,0,1211,1211,1211,1211,15773\\n1159,20130403,0,1217,1217,1214,1217,156674\\n1160,20130406,0,1265,1265,1235,1239,38336\\n1161,20130407,0,1210,1238,1190,1238,55201\\n1162,20130408,0,1235,1235,1183,1183,21550\\n1163,20130409,0,1210,1250,1210,1225,60115\\n1164,20130410,0,1225,1225,1180,1220,144614\\n1165,20130413,0,1171,1200,1171,1200,22333\\n1166,20130415,0,1152,1200,1152,1200,71473\\n1167,20130416,0,1139,1141,1138,1141,5285\\n1168,20130417,0,1199,1200,1199,1200,42612\\n1169,20130420,0,1199,1199,1160,1190,64321\\n1170,20130421,0,1162,1172,1162,1171,41818\\n1171,20130422,0,1200,1210,1171,1190,100628\\n1172,20130423,0,1170,1239,1170,1239,128741\\n1173,20130424,0,1244,1283,1244,1283,553012\\n1174,20130427,0,1334,1334,1247,1256,208476\\n1175,20130428,0,1290,1290,1254,1254,310621\\n1176,20130429,0,1289,1289,1240,1240,19390\\n1177,20130430,0,1221,1239,1206,1208,93002\\n1178,20130501,0,1234,1264,1200,1230,118300\\n1179,20130504,0,1254,1255,1201,1233,135653\\n1180,20130505,0,1232,1250,1230,1230,108338\\n1181,20130506,0,1230,1250,1190,1190,21761\\n1182,20130507,0,1182,1185,1182,1182,457959\\n1183,20130508,0,1162,1192,1160,1190,360552\\n1184,20130511,0,1219,1220,1185,1185,27541\\n1185,20130512,0,1240,1240,1162,1162,107015\\n1186,20130513,0,1156,1156,1147,1148,16958\\n1187,20130514,0,1172,1172,1141,1160,14522\\n1188,20130515,0,1168,1170,1150,1150,35501\\n1189,20130518,0,1152,1160,1152,1153,121770\\n1190,20130519,0,1165,1171,1165,1170,85552\\n1191,20130520,0,1184,1184,1171,1175,5744\\n1192,20130521,0,1160,1169,1155,1155,6467\\n1193,20130522,0,1194,1211,1190,1211,104377\\n1194,20130525,0,1220,1222,1220,1222,13480\\n1195,20130526,0,1230,1240,1210,1210,34367\\n1196,20130527,0,1158,1200,1158,1200,24183\\n1197,20130528,0,1225,1250,1200,1250,70051\\n1198,20130529,0,1254,1276,1254,1276,52611\\n1199,20130601,0,1296,1296,1296,1296,321320\\n1200,20130602,0,1330,1330,1296,1320,26254\\n1201,20130603,0,1290,1299,1250,1299,26390\\n1202,20130608,0,1299,1299,1295,1297,68700\\n1203,20130609,0,1250,1275,1250,1250,3297\\n1204,20130610,0,1245,1245,1245,1245,4000\\n1205,20130611,0,1287,1287,1243,1243,26200\\n1206,20130612,0,1234,1235,1234,1234,105202\\n1207,20130615,0,1220,1289,1220,1289,96933\\n1208,20130616,0,1327,1328,1280,1280,57075\\n1209,20130617,0,1245,1260,1243,1244,74400\\n1210,20130618,0,1244,1314,1244,1314,105343\\n1211,20130619,0,1335,1335,1310,1335,613813\\n1212,20130622,0,1347,1388,1347,1388,295719\\n1213,20130623,0,1442,1442,1440,1442,651124\\n1214,20130625,0,1499,1499,1486,1499,764486\\n1215,20130626,0,1500,1545,1440,1460,329728\\n1216,20130629,0,1441,1550,1441,1550,303274\\n1217,20130630,0,1561,1561,1561,1561,80613\\n1218,20130701,0,1602,1602,1555,1595,452243\\n1219,20130702,0,1630,1630,1536,1536,175110\\n1220,20130703,0,1536,1600,1490,1600,833481\\n1221,20130713,0,1472,1472,1440,1450,274194\\n1222,20130714,0,1410,1413,1406,1406,181841\\n1223,20130715,0,1366,1463,1366,1463,316282\\n1224,20130716,0,1497,1497,1390,1485,211744\\n1225,20130717,0,1460,1516,1446,1499,198248\\n1226,20130720,0,1499,1552,1499,1552,132551\\n1227,20130721,0,1605,1605,1605,1605,99775\\n1228,20130722,0,1658,1658,1648,1658,742606\\n1229,20130723,0,1658,1724,1658,1723,166894\\n1230,20130724,0,1710,1780,1650,1650,192548\\n1231,20130727,0,1745,1762,1629,1762,469098\\n1232,20130728,0,1780,1786,1650,1786,201437\\n1233,20130729,0,1840,1849,1820,1849,203806\\n1234,20130731,0,1921,1921,1850,1883,111492\\n1235,20130803,0,1865,1940,1865,1910,101767\\n1236,20130804,0,1930,1930,1836,1836,113480\\n1237,20130805,0,1768,1800,1768,1792,48763\\n1238,20130806,0,1790,1800,1740,1740,197131\\n1239,20130807,0,1786,1800,1715,1745,51028\\n1240,20130811,0,1751,1751,1700,1700,76456\\n1241,20130812,0,1658,1749,1658,1749,103510\\n1242,20130813,0,1749,1765,1701,1765,220812\\n1243,20130814,0,1777,1818,1777,1818,159681\\n1244,20130817,0,1810,1858,1743,1743,262631\\n1245,20130818,0,1800,1829,1704,1704,51072\\n1246,20130819,0,1770,1791,1791,1791,3\\n1247,20130820,0,1678,1814,1678,1800,130851\\n1248,20130821,0,1847,1863,1841,1863,161682\\n1249,20130824,0,1884,1930,1850,1922,58813\\n1250,20130825,0,1923,1923,1803,1803,34660\\n1251,20130826,0,1840,1870,1795,1795,275657\\n1252,20130827,0,1865,1865,1726,1726,99345\\n1253,20130828,0,1671,1671,1671,1671,120500\\n1254,20130831,0,1730,1730,1605,1605,4174\\n1255,20130901,0,1668,1734,1668,1669,12867\\n1256,20130903,0,1611,1611,1611,1611,500\\n1257,20130904,0,1603,1603,1603,1603,102000\\n1258,20130907,0,1549,1549,1549,1549,99254\\n1259,20130908,0,1498,1599,1498,1531,13243\\n1260,20130909,0,1618,1618,1550,1550,4291\\n1261,20130910,0,1577,1621,1577,1621,72585\\n1262,20130911,0,1657,1657,1657,1657,43927\\n1263,20130914,0,1681,1681,1555,1681,146612\\n1264,20130915,0,1600,1697,1596,1600,188848\\n1265,20130916,0,1671,1671,1600,1613,52125\\n1266,20130917,0,1639,1639,1605,1610,15091\\n1267,20130918,0,1638,1638,1600,1601,20899\\n1268,20130921,0,1600,1625,1550,1550,73801\\n1269,20130922,0,1550,1552,1532,1532,312564\\n1270,20130923,0,1550,1597,1550,1597,310811\\n1271,20130924,0,1628,1628,1628,1628,159120\\n1272,20130925,0,1693,1693,1693,1693,175576\\n1273,20130928,0,1760,1760,1759,1760,309189\\n1274,20130929,0,1820,1820,1700,1701,314503\\n1275,20130930,0,1700,1700,1663,1663,13724\\n1276,20131001,0,1658,1661,1658,1661,105660\\n1277,20131002,0,1610,1690,1603,1690,191625\\n1278,20131005,0,1621,1724,1621,1723,268726\\n1279,20131006,0,1759,1779,1720,1779,413981\\n1280,20131007,0,1800,1800,1710,1750,16624\\n1281,20131008,0,1775,1797,1750,1760,63753\\n1282,20131009,0,1797,1825,1688,1688,65168\\n1283,20131012,0,1800,1800,1706,1706,291973\\n1284,20131013,0,1730,1730,1651,1699,26490\\n1285,20131014,0,1730,1730,1690,1690,1050\\n1286,20131015,0,1644,1669,1641,1641,72400\\n1287,20131019,0,1650,1667,1610,1630,46469\\n1288,20131020,0,1590,1649,1587,1645,31176\\n1289,20131021,0,1630,1630,1592,1592,33397\\n1290,20131022,0,1620,1695,1592,1592,57801\\n1291,20131023,0,1640,1697,1624,1697,120000\\n1292,20131026,0,1717,1717,1658,1658,18497\\n1293,20131027,0,1658,1730,1658,1690,64271\\n1294,20131028,0,1638,1638,1638,1638,100\\n1295,20131029,0,1639,1700,1635,1700,70673\\n1296,20131030,0,1700,1720,1640,1651,179863\\n1297,20131102,0,1650,1650,1621,1622,56576\\n1298,20131103,0,1699,1719,1699,1719,340836\\n1299,20131104,0,1721,1783,1720,1783,143023\\n1300,20131105,0,1844,1844,1844,1844,151633\\n1301,20131106,0,1917,1917,1917,1917,363182\\n1302,20131109,0,1993,1993,1993,1993,127486\\n1303,20131110,0,2072,2072,2072,2072,274080\\n1304,20131111,0,2154,2154,1998,2154,660452\\n1305,20131112,0,2218,2218,2058,2058,385576\\n1306,20131116,0,2100,2146,2100,2146,58152\\n1307,20131117,0,2185,2185,2185,2185,117507\\n1308,20131118,0,2270,2270,2270,2270,331949\\n1309,20131119,0,2360,2360,2360,2360,504948\\n1310,20131120,0,2454,2454,2454,2454,150675\\n1311,20131123,0,2552,2552,2471,2471,730746\\n1312,20131124,0,2555,2580,2449,2566,1520506\\n1313,20131125,0,2550,2550,2473,2474,131461\\n1314,20131126,0,2499,2530,2445,2445,141978\\n1315,20131127,0,2490,2585,2391,2450,375787\\n1316,20131130,0,2570,2596,2570,2596,601685\\n1317,20131201,0,2697,2697,2697,2697,160691\\n1318,20131202,0,2804,2804,2800,2804,1627467\\n1319,20131203,0,2916,2916,2900,2916,3927033\\n1320,20131204,0,2949,2979,2800,2869,1279269\\n1321,20131207,0,2890,2900,2758,2900,427059\\n1322,20131208,0,2900,2935,2900,2935,957000\\n1323,20131209,0,3051,3051,3051,3051,177127\\n1324,20131210,0,3173,3173,3173,3173,313803\\n1325,20131211,0,3299,3299,3299,3299,130518\\n1326,20131214,0,3390,3430,3300,3430,4608087\\n1327,20131215,0,3545,3545,3545,3545,227200\\n1328,20131216,0,3686,3686,3686,3686,120000\\n1329,20131217,0,3833,3833,3800,3833,2374661\\n1330,20131218,0,3900,3986,3833,3986,793613\\n1331,20131221,0,4117,4117,4117,4117,899368\\n1332,20131222,0,4267,4281,4020,4281,2008133\\n1333,20131224,0,4369,4380,4251,4380,791054\\n1334,20131225,0,4510,4510,4510,4510,325362\\n1335,20131228,0,4690,4690,4600,4690,2117971\\n1336,20131229,0,4876,4876,4700,4700,1454220\\n1337,20131230,0,4995,4995,4700,4801,748884\\n1338,20140101,0,4900,4949,4695,4695,377052\\n1339,20140104,0,4541,4693,4541,4541,696440\\n1340,20140105,0,4414,4414,4414,4414,119460\\n1341,20140106,0,4239,4407,4239,4239,1244921\\n1342,20140107,0,4244,4350,4075,4199,703676\\n1343,20140108,0,4362,4384,4118,4229,1529725\\n1344,20140111,0,4298,4298,4152,4152,298002\\n1345,20140112,0,3991,3991,3991,3991,17986\\n1346,20140113,0,3967,3978,3967,3967,165257\\n1347,20140114,0,3812,3910,3810,3810,456245\\n1348,20140115,0,3681,3820,3677,3820,1227897\\n1349,20140118,0,3838,3838,3791,3838,1777732\\n1350,20140120,0,3980,3990,3684,3780,1679133\\n1351,20140121,0,3849,3950,3712,3712,180968\\n1352,20140125,0,3654,3654,3654,3654,27509\\n1353,20140126,0,3621,3621,3621,3621,21259\\n1354,20140127,0,3595,3595,3595,3595,1449\\n1355,20140128,0,3593,3879,3593,3593,2017070\\n1356,20140129,0,3500,3760,3500,3760,2332300\\n1357,20140201,0,3835,3836,3800,3836,399827\\n1358,20140202,0,3900,3900,3679,3679,321554\\n1359,20140203,0,3635,3635,3536,3536,6022\\n1360,20140204,0,3531,3679,3531,3531,73677\\n1361,20140205,0,3446,3446,3446,3446,2021\\n1362,20140209,0,3444,3688,3444,3444,417797\\n1363,20140210,0,3309,3309,3309,3309,2000\\n1364,20140215,0,3307,3307,3307,3307,140050\\n1365,20140216,0,3175,3380,3175,3250,939578\\n1366,20140217,0,3350,3359,3101,3280,722534\\n1367,20140218,0,3169,3298,3169,3169,146866\\n1368,20140219,0,3200,3278,3130,3130,189439\\n1369,20140222,0,3300,3329,3222,3329,475563\\n1370,20140223,0,3452,3452,3188,3280,461821\\n1371,20140224,0,3278,3297,3278,3278,40837\\n1372,20140225,0,3235,3330,3235,3235,182001\\n1373,20140226,0,3107,3107,3107,3107,2522\\n1374,20140301,0,3104,3104,3104,3104,36412\\n1375,20140303,0,3067,3067,3067,3067,2000\\n1376,20140304,0,3065,3065,3065,3065,17345\\n1377,20140305,0,3048,3160,3048,3048,615988\\n1378,20140308,0,2960,3000,2954,2954,152981\\n1379,20140309,0,2838,2838,2838,2838,15171\\n1380,20140310,0,2824,2824,2824,2824,11\\n1381,20140315,0,2824,2899,2824,2824,834897\\n1382,20140316,0,2736,2815,2718,2780,891420\\n1383,20140317,0,2832,2835,2832,2835,129374\\n1384,20140318,0,2948,2948,2820,2890,555858\\n1385,20140319,0,2899,2988,2807,2811,610704\\n1386,20140325,0,2960,2960,2950,2950,341775\\n1387,20140326,0,2997,2997,2841,2841,16130\\n1388,20140329,0,2845,2845,2828,2828,3685\\n1389,20140330,0,2825,2999,2825,2900,228407\\n1390,20140331,0,2969,2969,2785,2885,290146\\n1391,20140405,0,2899,2938,2890,2938,531367\\n1392,20140406,0,3040,3040,2871,2910,482851\\n1393,20140407,0,2950,3050,2884,3030,165446\\n1394,20140408,0,3045,3045,2990,3040,560312\\n1395,20140409,0,3068,3160,2931,3089,277357\\n1396,20140412,0,3130,3130,2938,2938,37237\\n1397,20140415,0,2918,2918,2918,2918,3191\\n1398,20140416,0,2915,2915,2915,2915,18054\\n1399,20140419,0,2898,2898,2898,2898,1000\\n1400,20140420,0,2897,2897,2897,2897,10000\\n1401,20140421,0,2887,2887,2887,2887,2000\\n1402,20140422,0,2885,2885,2885,2885,4000\\n1403,20140423,0,2881,2881,2881,2881,13070\\n1404,20140426,0,2869,2983,2869,2920,2403385\\n1405,20140427,0,2900,2900,2783,2783,317415\\n1406,20140428,0,2687,2688,2687,2687,226186\\n1407,20140429,0,2600,2780,2580,2580,1915727\\n1408,20140430,0,2540,2551,2533,2533,246860\\n1409,20140503,0,2445,2500,2434,2434,103666\\n1410,20140504,0,2359,2360,2358,2358,196705\\n1411,20140505,0,2264,2434,2264,2264,936549\\n1412,20140506,0,2359,2389,2301,2389,765095\\n1413,20140507,0,2440,2448,2288,2438,220810\\n1414,20140510,0,2300,2320,2295,2295,210997\\n1415,20140511,0,2208,2208,2208,2208,233302\\n1416,20140512,0,2160,2160,2120,2120,216179\\n1417,20140518,0,2071,2150,2071,2120,181767\\n1418,20140519,0,2100,2100,1994,1994,346667\\n1419,20140520,0,1921,1965,1921,1922,767477\\n1420,20140521,0,1998,1998,1997,1998,376705\\n1421,20140524,0,2000,2000,1940,2000,15681\\n1422,20140525,0,1921,1981,1915,1915,61623\\n1423,20140526,0,1900,1905,1877,1877,274023\\n1424,20140528,0,1851,1851,1807,1807,1128335\\n1425,20140531,0,1760,1760,1735,1735,970061\\n1426,20140601,0,1670,1750,1668,1734,2911422\\n1427,20140602,0,1729,1743,1690,1743,1661120\\n1428,20140603,0,1790,1803,1749,1782,535268\\n1429,20140607,0,1748,1840,1721,1721,331351\\n1430,20140608,0,1660,1780,1660,1720,292248\\n1431,20140609,0,1680,1699,1668,1680,112429\\n1432,20140610,0,1635,1670,1632,1670,179718\\n1433,20140611,0,1631,1669,1589,1600,149091\\n1434,20140614,0,1555,1555,1548,1548,233559\\n1435,20140615,0,1487,1521,1487,1487,375494\\n1436,20140616,0,1487,1550,1480,1550,1580268\\n1437,20140617,0,1590,1590,1510,1510,99941\\n1438,20140618,0,1589,1617,1530,1617,773340\\n1439,20140621,0,1652,1652,1652,1652,214859\\n1440,20140622,0,1620,1684,1590,1684,368845\\n1441,20140623,0,1665,1665,1600,1648,201035\\n1442,20140624,0,1550,1650,1550,1600,40071\\n1443,20140625,0,1600,1653,1570,1610,214247\\n1444,20140628,0,1654,1654,1554,1554,432554\\n1445,20140629,0,1523,1523,1523,1523,65640\\n1446,20140630,0,1490,1523,1490,1490,1184226\\n1447,20140701,0,1549,1549,1548,1549,2828202\\n1448,20140702,0,1610,1610,1609,1610,547775\\n1449,20140705,0,1674,1674,1674,1674,80004\\n1450,20140706,0,1719,1719,1587,1587,1887533\\n1451,20140707,0,1584,1716,1584,1716,1325158\\n1452,20140708,0,1747,1771,1680,1771,459978\\n1453,20140709,0,1833,1833,1768,1831,1290083\\n1454,20140712,0,1850,1901,1829,1901,1337631\\n1455,20140713,0,1900,1959,1825,1889,966447\\n1456,20140714,0,1949,1974,1851,1974,783603\\n1457,20140715,0,2015,2015,1925,2015,700530\\n1458,20140716,0,2090,2093,2025,2070,773556\\n1459,20140720,0,1996,2050,1996,1996,523499\\n1460,20140721,0,1974,2078,1920,2078,1065427\\n1461,20140722,0,2089,2092,2050,2092,304303\\n1462,20140723,0,2110,2167,2092,2140,1231190\\n1463,20140726,0,2064,2064,2064,2064,104968\\n1464,20140727,0,2050,2149,1992,2027,1427635\\n1465,20140728,0,2031,2104,2030,2104,743497\\n1466,20140802,0,2159,2159,2015,2015,267853\\n1467,20140803,0,1979,2010,1978,1978,428370\\n1468,20140804,0,1920,2019,1904,1905,963661\\n1469,20140805,0,1940,1940,1868,1868,681275\\n1470,20140806,0,1852,1910,1830,1900,491187\\n1471,20140809,0,1922,1969,1869,1869,214467\\n1472,20140810,0,1850,1900,1848,1848,225640\\n1473,20140811,0,1903,1920,1872,1909,203301\\n1474,20140812,0,1959,1978,1915,1920,838349\\n1475,20140813,0,1950,2010,1901,1929,304760\\n1476,20140816,0,1902,1998,1894,1901,305816\\n1477,20140817,0,1871,1927,1848,1852,751947\\n1478,20140818,0,1801,1897,1801,1802,249114\\n1479,20140819,0,1820,1878,1791,1815,138792\\n1480,20140820,0,1897,1897,1810,1810,107252\\n1481,20140823,0,1873,1898,1873,1898,135437\\n1482,20140824,0,1967,1967,1920,1950,1075812\\n1483,20140825,0,1949,1980,1900,1980,380278\\n1484,20140826,0,1981,1994,1902,1960,170576\\n1485,20140827,0,1996,2000,1930,1930,267526\\n1486,20140830,0,1901,1950,1901,1950,21500\\n1487,20140831,0,1905,1925,1876,1890,162530\\n1488,20140901,0,1870,1929,1837,1898,63748\\n1489,20140902,0,1851,1862,1802,1803,349732\\n1490,20140903,0,1800,1808,1756,1756,144635\\n1491,20140906,0,1717,1749,1699,1711,1315338\\n1492,20140907,0,1711,1777,1671,1777,563740\\n1493,20140908,0,1839,1839,1810,1839,1464943\\n1494,20140909,0,1890,1890,1850,1850,781098\\n1495,20140910,0,1810,1820,1783,1798,117540\\n1496,20140913,0,1716,1716,1716,1716,33700\\n1497,20140914,0,1700,1710,1697,1700,155482\\n1498,20140915,0,1701,1770,1701,1708,356439\\n1499,20140916,0,1770,1770,1700,1700,99732\\n1500,20140917,0,1701,1740,1673,1697,83032\\n1501,20140920,0,1701,1770,1685,1766,512091\\n1502,20140921,0,1766,1780,1730,1730,118790\\n1503,20140922,0,1750,1779,1735,1769,287502\\n1504,20140923,0,1753,1833,1753,1833,380440\\n1505,20140924,0,1882,1890,1881,1890,479847\\n1506,20140927,0,1899,1964,1851,1964,406000\\n1507,20140928,0,2007,2007,2000,2007,602303\\n1508,20140929,0,2087,2087,1991,1991,1002087\\n1509,20140930,0,2010,2100,2003,2065,1015149\\n1510,20141001,0,2050,2110,2050,2097,767058\\n1511,20141004,0,2135,2150,2080,2091,348902\\n1512,20141006,0,2055,2092,2045,2045,958414\\n1513,20141007,0,2000,2117,2000,2081,570317\\n1514,20141008,0,2050,2099,1993,2023,1162012\\n1515,20141011,0,2030,2082,2002,2054,804855\\n1516,20141012,0,2005,2070,1991,2050,832327\\n1517,20141014,0,2050,2069,2005,2011,381413\\n1518,20141015,0,2001,2115,2001,2115,2041570\\n1519,20141018,0,2152,2152,2152,2152,116647\\n1520,20141019,0,2236,2236,2236,2236,164760\\n1521,20141020,0,2325,2325,2325,2325,110368\\n1522,20141021,0,2410,2410,2410,2410,3451576\\n1523,20141022,0,2485,2506,2410,2506,1752734\\n1524,20141025,0,2570,2579,2402,2450,734324\\n1525,20141026,0,2422,2550,2413,2423,1123802\\n1526,20141027,0,2421,2524,2400,2524,1623165\\n1527,20141028,0,2595,2601,2586,2601,1406988\\n1528,20141029,0,2700,2704,2630,2704,2185705\\n1529,20141101,0,2811,2811,2810,2811,1508120\\n1530,20141102,0,2923,2923,2923,2923,68068\\n1531,20141105,0,2990,2990,2990,2990,541276\\n1532,20141108,0,3109,3109,3109,3109,151380\\n1533,20141109,0,3233,3233,3120,3233,3566152\\n1534,20141110,0,3361,3361,3361,3361,1609394\\n1535,20141111,0,3495,3495,3490,3495,2480178\\n1536,20141112,0,3634,3634,3634,3634,1874901\\n1537,20141115,0,3779,3779,3779,3779,607699\\n1538,20141116,0,3930,3930,3930,3930,562528\\n1539,20141117,0,4087,4087,4087,4087,1071916\\n1540,20141118,0,4250,4250,4110,4250,4474156\\n1541,20141119,0,4413,4413,4413,4413,1521115\\n1542,20141122,0,4589,4589,4589,4589,456559\\n1543,20141123,0,4772,4772,4772,4772,567664\\n1544,20141124,0,4962,4962,4962,4962,618262\\n1545,20141125,0,4764,4764,4764,4764,615541\\n1546,20141126,0,4574,4954,4574,4954,6156569\\n1547,20141129,0,4981,4981,4630,4699,5777650\\n1548,20141130,0,4800,4940,4757,4757,1181754\\n1549,20141201,0,4644,4644,4644,4644,96619\\n1550,20141202,0,4495,4750,4495,4495,5228484\\n1551,20141203,0,4354,4354,4354,4354,51050\\n1552,20141206,0,4280,4280,4280,4280,680\\n1553,20141207,0,4279,4279,4279,4279,978\\n1554,20141208,0,4278,4278,4278,4278,2408\\n1555,20141209,0,4274,4274,4274,4274,1000\\n1556,20141210,0,4273,4273,4273,4273,6609\\n1557,20141214,0,4264,4264,4264,4264,698\\n1558,20141216,0,4263,4263,4263,4263,3738\\n1559,20141217,0,4257,4257,4257,4257,523\\n1560,20141220,0,4256,4256,4256,4256,447\\n1561,20141222,0,4255,4255,4255,4255,745\\n1562,20141224,0,4077,4077,3914,3914,4048\\n1563,20141227,0,3786,3786,3786,3786,866\\n1564,20141228,0,3785,3932,3785,3826,7778781\\n1565,20141229,0,3750,3920,3663,3713,7779883\\n1566,20141230,0,3788,3788,3617,3617,1420509\\n1567,20141231,0,3537,3537,3537,3537,554382\\n1568,20150103,0,3396,3490,3396,3396,1319217\\n1569,20150104,0,3264,3264,3264,3264,155358\\n1570,20150105,0,3134,3134,3134,3134,10537\\n1571,20150106,0,3123,3123,3123,3123,45631\\n1572,20150107,0,3076,3076,3076,3076,1850\\n1573,20150110,0,3074,3074,3074,3074,500\\n1574,20150111,0,3073,3073,3073,3073,1951\\n1575,20150112,0,3072,3235,3072,3073,9635023\\n1576,20150113,0,3119,3119,2987,2987,1592446\\n1577,20150114,0,2874,3029,2874,2950,5771880\\n1578,20150117,0,2989,3055,2950,2995,4133758\\n1579,20150118,0,3048,3048,2917,2917,1194684\\n1580,20150119,0,2842,2964,2821,2821,2038054\\n1581,20150120,0,2742,2751,2736,2736,274388\\n1582,20150121,0,2630,2630,2630,2630,7160\\n1583,20150124,0,2623,2623,2623,2623,1257\\n1584,20150125,0,2622,2698,2622,2622,2446369\\n1585,20150126,0,2523,2594,2523,2569,5395551\\n1586,20150127,0,2634,2636,2552,2636,2784347\\n1587,20150128,0,2633,2737,2633,2737,1702674\\n1588,20150131,0,2738,2825,2680,2753,2253335\\n1589,20150201,0,2780,2780,2658,2658,2916938\\n1590,20150202,0,2580,2649,2561,2561,4591897\\n1591,20150203,0,2590,2680,2590,2680,7750322\\n1592,20150204,0,2734,2782,2610,2630,6736377\\n1593,20150301,0,2537,2555,2436,2515,2549067\\n1594,20150302,0,2589,2590,2490,2490,2550856\\n1595,20150303,0,2464,2510,2460,2460,789905\\n1596,20150304,0,2450,2500,2372,2433,1532123\\n1597,20150307,0,2449,2492,2387,2438,1122402\\n1598,20150308,0,2500,2558,2485,2520,2992064\\n1599,20150309,0,2537,2582,2472,2495,750391\\n1600,20150310,0,2500,2521,2421,2487,1286681\\n1601,20150328,0,2750,2800,2700,2790,1810465\\n1602,20150329,0,2830,2874,2787,2872,1769871\\n1603,20150330,0,2900,2900,2753,2753,1027163\\n1604,20150331,0,2680,2787,2654,2654,997603\\n1605,20150404,0,2814,2814,2814,2814,184487\\n1606,20150405,0,2926,2926,2926,2926,288149\\n1607,20150406,0,2950,2950,2809,2809,2141910\\n1608,20150407,0,2800,2889,2704,2720,2788967\\n1609,20150408,0,2750,2821,2672,2681,1974395\\n1610,20150411,0,2626,2788,2625,2625,1070278\\n1611,20150412,0,2600,2600,2550,2550,292618\\n1612,20150413,0,2452,2550,2452,2452,2159661\\n1613,20150414,0,2558,2559,2480,2510,800271\\n1614,20150415,0,2590,2624,2552,2624,2331386\\n1615,20150418,0,2699,2719,2626,2640,1055665\\n1616,20150419,0,2668,2737,2559,2559,751241\\n1617,20150420,0,2530,2624,2530,2589,149080\\n1618,20150421,0,2600,2600,2520,2531,443882\\n1619,20150422,0,2550,2596,2466,2466,997092\\n1620,20150425,0,2440,2440,2409,2425,405698\\n1621,20150426,0,2352,2510,2322,2510,1270582\\n1622,20150427,0,2549,2550,2444,2540,695607\\n1623,20150428,0,2475,2600,2440,2450,354346\\n1624,20150429,0,2589,2589,2440,2455,146501\\n1625,20150503,0,2430,2480,2380,2380,403540\\n1626,20150504,0,2366,2497,2320,2497,745333\\n1627,20150505,0,2528,2536,2480,2536,1323579\\n1628,20150506,0,2600,2636,2506,2635,1376916\\n1629,20150509,0,2600,2673,2518,2518,1073818\\n1630,20150510,0,2481,2590,2475,2475,608192\\n1631,20150511,0,2480,2549,2433,2433,172514\\n1632,20150512,0,2554,2554,2452,2541,651893\\n1633,20150513,0,2461,2549,2461,2490,142008\\n1634,20150517,0,2450,2485,2408,2485,298038\\n1635,20150518,0,2532,2532,2531,2532,520377\\n1636,20150519,0,2632,2633,2472,2633,920296\\n1637,20150520,0,2722,2722,2660,2694,1277180\\n1638,20150523,0,2711,2711,2568,2568,679604\\n1639,20150524,0,2568,2699,2550,2699,1023508\\n1640,20150525,0,2750,2776,2700,2760,1923591\\n1641,20150526,0,2750,2834,2622,2622,876874\\n1642,20150527,0,2537,2779,2537,2590,908144\\n1643,20150530,0,2556,2667,2520,2600,1015930\\n1644,20150531,0,2516,2647,2516,2647,508083\\n1645,20150601,0,2650,2732,2641,2698,1530288\\n1646,20150602,0,2774,2774,2602,2645,1027575\\n1647,20150606,0,2690,2690,2570,2582,372254\\n1648,20150607,0,2638,2638,2470,2500,587149\\n1649,20150608,0,2493,2493,2399,2399,1008593\\n1650,20150609,0,2350,2437,2285,2285,690495\\n1651,20150610,0,2371,2371,2250,2310,492721\\n1652,20150613,0,2368,2368,2280,2320,590139\\n1653,20150614,0,2370,2370,2300,2335,423327\\n1654,20150615,0,2365,2365,2227,2227,1118164\\n1655,20150616,0,2235,2310,2235,2310,603569\\n1656,20150617,0,2297,2359,2297,2317,570881\\n1657,20150620,0,2310,2340,2213,2222,1808056\\n1658,20150621,0,2330,2376,2260,2270,1714963\\n1659,20150622,0,2271,2374,2271,2330,891771\\n1660,20150623,0,2330,2434,2330,2434,1129108\\n1661,20150624,0,2525,2525,2400,2525,2414549\\n1662,20150627,0,2500,2555,2430,2480,396033\\n1663,20150628,0,2516,2516,2392,2392,940852\\n1664,20150629,0,2450,2460,2350,2380,344516\\n1665,20150630,0,2381,2520,2381,2520,745215\\n1666,20150701,0,2495,2585,2450,2450,369452\\n1667,20150704,0,2450,2580,2450,2500,1395387\\n1668,20150705,0,2521,2634,2500,2634,2611269\\n1669,20150706,0,2650,2716,2650,2716,910297\\n1670,20150707,0,2760,2831,2760,2831,2819091\\n1671,20150711,0,2710,2958,2710,2880,1008416\\n1672,20150712,0,2929,2944,2735,2745,992356\\n1673,20150713,0,2800,2900,2741,2773,1562875\\n1674,20150714,0,2897,2897,2682,2701,1061389\\n1675,20150715,0,2799,2799,2591,2591,1280822\\n1676,20150727,0,2326,2488,2326,2361,873957\\n1677,20150728,0,2390,2550,2390,2449,635341\\n1678,20150729,0,2558,2558,2416,2450,847008\\n1679,20150801,0,2435,2550,2400,2500,1093045\\n1680,20150802,0,2500,2616,2436,2460,1061415\\n1681,20150803,0,2570,2570,2500,2520,1359806\\n1682,20150804,0,2502,2503,2456,2473,691802\\n1683,20150810,0,2460,2460,2451,2451,20600\\n1684,20150812,0,2410,2455,2356,2383,664271\\n1685,20150815,0,2379,2404,2292,2292,384430\\n1686,20150816,0,2328,2440,2318,2380,770046\\n1687,20150817,0,2500,2500,2312,2312,62426\\n1688,20150818,0,2312,2389,2262,2275,352484\\n1689,20150819,0,2385,2385,2231,2300,1199211\\n1690,20150822,0,2370,2390,2300,2320,489168\\n1691,20150823,0,2276,2349,2223,2289,798486\\n1692,20150824,0,2220,2275,2190,2200,586119\\n1693,20150825,0,2210,2210,2109,2143,357015\\n1694,20150826,0,2150,2190,2060,2100,256956\\n1695,20150829,0,2073,2230,2150,2220,808017\\n1696,20150830,0,2200,2244,2125,2180,58020\\n1697,20150831,0,2200,2200,2134,2160,153675\\n1698,20150901,0,2198,2225,2160,2160,115258\\n1699,20150902,0,2161,2280,2160,2229,560637\\n1700,20150905,0,2210,2315,2180,2275,346028\\n1701,20150906,0,2320,2320,2190,2210,252160\\n1702,20150907,0,2249,2249,2172,2180,212017\\n1703,20150908,0,2230,2230,2175,2180,70726\\n1704,20150909,0,2180,2250,2180,2191,302494\\n1705,20150912,0,2220,2265,2174,2181,229246\\n1706,20150913,0,2171,2180,2102,2110,304562\\n1707,20150914,0,2110,2149,2050,2137,54917\\n1708,20150915,0,2130,2130,2011,2011,565797\\n1709,20150916,0,1960,2076,1951,2035,752672\\n1710,20150919,0,2056,2101,2056,2101,214099\\n1711,20150920,0,2190,2190,2056,2130,2759534\\n1712,20150921,0,2199,2199,2070,2111,624983\\n1713,20150922,0,2150,2216,2082,2216,1482652\\n1714,20150923,0,2275,2300,2200,2248,925847\\n1715,20150926,0,2258,2258,2150,2163,356313\\n1716,20150927,0,2150,2227,2103,2199,491688\\n1717,20150928,0,2120,2280,2120,2280,578860\\n1718,20150929,0,2310,2348,2240,2240,902846\\n1719,20150930,0,2300,2308,2211,2250,231185\\n1720,20151003,0,2261,2286,2125,2158,481737\\n1721,20151004,0,2200,2235,2101,2178,197620\\n1722,20151005,0,2229,2229,2100,2100,181744\\n1723,20151006,0,2178,2178,2040,2072,246968\\n1724,20151007,0,2050,2150,2050,2100,246506\\n1725,20151010,0,2015,2141,2015,2061,197863\\n1726,20151011,0,2050,2139,2050,2100,528111\\n1727,20151012,0,2149,2173,2130,2149,174855\\n1728,20151013,0,2149,2249,2119,2249,704951\\n1729,20151014,0,2298,2329,2252,2255,516217\\n1730,20151017,0,2240,2360,2200,2330,786631\\n1731,20151018,0,2368,2368,2183,2190,701460\\n1732,20151019,0,2182,2190,2150,2160,162767\\n1733,20151020,0,2240,2284,2131,2275,1845185\\n1734,20151021,0,2300,2320,2180,2199,657106\\n1735,20151025,0,2131,2135,2098,2098,928945\\n1736,20151026,0,2170,2170,2064,2150,71520\\n1737,20151027,0,2100,2166,2070,2071,349285\\n1738,20151028,0,2087,2099,2052,2060,405202\\n1739,20151031,0,2061,2108,2061,2065,276919\\n1740,20151101,0,2067,2188,2067,2180,744922\\n1741,20151102,0,2165,2180,2112,2116,314313\\n1742,20151103,0,2178,2178,2091,2120,319346\\n1743,20151104,0,2167,2210,2124,2140,644389\\n1744,20151107,0,2200,2270,2171,2224,910400\\n1745,20151108,0,2260,2260,2150,2190,622828\\n1746,20151109,0,2220,2250,2195,2210,485878\\n1747,20151110,0,2250,2250,2190,2200,775185\\n1748,20151111,0,2200,2224,2155,2170,639697\\n1749,20151114,0,2200,2200,2101,2130,181969\\n1750,20151115,0,2150,2202,2070,2084,970749\\n1751,20151116,0,2087,2139,2080,2129,630286\\n1752,20151117,0,2100,2148,2100,2143,261064\\n1753,20151118,0,2157,2228,2157,2200,1988487\\n1754,20151121,0,2198,2224,2143,2165,779268\\n1755,20151122,0,2191,2227,2161,2162,249924\\n1756,20151123,0,2190,2190,2112,2112,310614\\n1757,20151124,0,2140,2184,2120,2127,92658\\n1758,20151125,0,2123,2200,2123,2130,169946\\n1759,20151128,0,2122,2140,2102,2102,43239\\n1760,20151129,0,2089,2105,2029,2030,1546842\\n1761,20151130,0,2019,2087,2005,2074,1053023\\n1762,20151201,0,2097,2097,2000,2000,1814916\\n1763,20151205,0,2010,2058,1974,1990,631066\\n1764,20151206,0,1970,1990,1907,1907,1144067\\n1765,20151207,0,1904,1904,1830,1830,4454743\\n1766,20151208,0,1792,1859,1746,1850,1627656\\n1767,20151209,0,1856,1865,1811,1842,1036271\\n1768,20151213,0,1842,1879,1760,1761,731998\\n1769,20151214,0,1760,1770,1730,1748,639900\\n1770,20151215,0,1750,1799,1672,1714,689019\\n1771,20151216,0,1700,1727,1667,1700,433805\\n1772,20151219,0,1673,1673,1612,1615,716732\\n1773,20151220,0,1610,1630,1551,1556,681256\\n1774,20151221,0,1551,1600,1551,1597,549329\\n1775,20151222,0,1610,1610,1543,1600,326223\\n1776,20151223,0,1600,1605,1552,1555,179393\\n1777,20151226,0,1560,1573,1540,1555,565204\\n1778,20151227,0,1546,1634,1546,1634,730757\\n1779,20151228,0,1680,1680,1607,1680,724253\\n1780,20151230,0,1656,1737,1656,1737,1077909\\n1781,20160102,0,1771,1771,1665,1700,914291\\n1782,20160103,0,1675,1739,1661,1699,345259\\n1783,20160104,0,1725,1775,1700,1768,1449533\\n1784,20160105,0,1775,1858,1775,1858,1483495\\n1785,20160106,0,1910,1946,1870,1870,2613759\\n1786,20160109,0,1920,1920,1831,1831,1373002\\n1787,20160110,0,1746,1799,1746,1746,2341532\\n1788,20160111,0,1768,1826,1717,1780,984286\\n1789,20160112,0,1800,1800,1730,1731,589526\\n1790,20160113,0,1731,1839,1685,1839,2563298\\n1791,20160116,0,1917,1922,1872,1922,2223303\\n1792,20160117,0,1950,1956,1820,1820,821715\\n1793,20160118,0,1750,1809,1748,1771,1111214\\n1794,20160119,0,1838,1852,1775,1815,697874\\n1795,20160120,0,1791,1850,1748,1810,1522514\\n1796,20160123,0,1800,1873,1800,1873,1478917\\n1797,20160124,0,1874,1953,1870,1953,2974058\\n1798,20160125,0,1999,2023,1940,1983,2269880\\n1799,20160126,0,1983,2092,1982,2072,2729746\\n1800,20160127,0,2076,2146,1976,1976,2855159\\n1801,20160130,0,1940,2069,1940,1997,1104405\\n1802,20160131,0,1955,2080,1916,1998,1783720\\n1803,20160201,0,2000,2092,2000,2018,1179112\\n1804,20160202,0,2004,2079,1942,1950,2439829\\n1805,20160203,0,1950,2080,1901,2080,2234741\\n1806,20160206,0,2130,2130,2130,2130,652065\\n1807,20160207,0,2236,2236,2131,2158,3684516\\n1808,20160208,0,2090,2250,2090,2179,2501397\\n1809,20160209,0,2133,2299,2133,2280,9005971\\n1810,20160210,0,2370,2396,2250,2396,5875006\\n1811,20160213,0,2390,2473,2375,2473,4085199\\n1812,20160214,0,2460,2500,2343,2343,1867928\\n1813,20160215,0,2350,2455,2332,2380,3413502\\n1814,20160216,0,2450,2451,2291,2291,1876982\\n1815,20160217,0,2287,2390,2255,2299,1506251\\n1816,20160221,0,2198,2198,2089,2119,1408086\\n1817,20160222,0,2120,2185,2061,2140,752962\\n1818,20160223,0,2120,2160,2025,2025,1828495\\n1819,20160224,0,2001,2012,1950,1980,1455853\\n1820,20160227,0,1980,2081,1980,2081,438190\\n1821,20160228,0,2172,2172,2090,2172,1739081\\n1822,20160229,0,2250,2277,2229,2277,2834206\\n1823,20160301,0,2349,2349,2160,2210,1649118\\n1824,20160302,0,2200,2240,2118,2140,1524038\\n1825,20160305,0,2170,2173,2080,2116,1097274\\n1826,20160306,0,2195,2209,2112,2130,1559555\\n1827,20160307,0,2130,2204,2121,2137,573445\\n1828,20160308,0,2170,2179,2065,2083,1465966\\n1829,20160309,0,2070,2080,2020,2080,962630\\n1830,20160312,0,2050,2145,2030,2100,781059\\n1831,20160314,0,2100,2138,2079,2082,709700\\n1832,20160315,0,2115,2115,2020,2027,1339909\\n1833,20160316,0,2059,2059,1980,2020,976994\\n1834,20160326,0,2075,2108,2040,2108,378018\\n1835,20160327,0,2140,2168,2070,2130,573543\\n1836,20160328,0,2085,2110,2045,2100,351123\\n1837,20160329,0,2060,2120,2036,2060,284460\\n1838,20160330,0,2041,2100,2020,2070,356065\\n1839,20160402,0,2044,2088,2044,2046,374771\\n1840,20160403,0,2020,2039,1965,2000,464098\\n1841,20160404,0,1988,2050,1950,2039,1181856\\n1842,20160405,0,2049,2105,2048,2105,1405254\\n1843,20160406,0,2178,2181,2050,2071,1396020\\n1844,20160409,0,2070,2080,2012,2020,1105041\\n1845,20160410,0,1985,2030,1960,2024,2267109\\n1846,20160423,0,1837,1837,1746,1799,971287\\n1847,20160424,0,1799,1837,1770,1837,529638\\n1848,20160425,0,1837,1847,1780,1782,430826\\n1849,20160426,0,1800,1835,1764,1775,176906\\n1850,20160427,0,1755,1840,1751,1810,445066\\n1851,20160430,0,1810,1894,1800,1894,2623817\\n1852,20160501,0,1950,1969,1869,1915,1863330\\n1853,20160502,0,1890,1890,1840,1875,753173\\n1854,20160503,0,1831,1895,1831,1840,475852\\n1855,20160504,0,1857,1888,1820,1837,369075\\n1856,20160507,0,1820,1860,1745,1795,916760\\n1857,20160508,0,1800,1820,1697,1701,484823\\n1858,20160509,0,1749,1759,1670,1700,548857\\n1859,20160510,0,1660,1778,1660,1770,678213\\n1860,20160511,0,1778,1779,1660,1697,420930\\n1861,20160514,0,1675,1778,1675,1700,446101\\n1862,20160515,0,1700,1773,1670,1710,238737\\n1863,20160516,0,1674,1740,1625,1740,589338\\n1864,20160517,0,1728,1749,1690,1748,585858\\n1865,20160518,0,1750,1800,1701,1729,916275\\n1866,20160521,0,1728,1778,1706,1707,200016\\n1867,20160523,0,1710,1780,1680,1680,865807\\n1868,20160524,0,1700,1751,1688,1690,555815\\n1869,20160525,0,1700,1720,1693,1693,223058\\n1870,20160528,0,1694,1728,1674,1685,290646\\n1871,20160529,0,1725,1725,1670,1680,281657\\n1872,20160530,0,1680,1699,1611,1690,627007\\n1873,20160531,0,1699,1726,1670,1710,422045\\n1874,20160601,0,1711,1711,1680,1710,233690\\n1875,20160605,0,1710,1720,1684,1709,384738\\n1876,20160606,0,1729,1755,1700,1749,427467\\n1877,20160607,0,1756,1780,1750,1750,1093814\\n1878,20160608,0,1769,1810,1730,1735,456011\\n1879,20160611,0,1730,1770,1689,1729,393572\\n1880,20160612,0,1713,1713,1661,1661,523369\\n1881,20160613,0,1660,1726,1660,1692,231723\\n1882,20160614,0,1695,1700,1621,1680,224271\\n1883,20160615,0,1650,1720,1640,1690,401250\\n1884,20160618,0,1719,1720,1645,1700,177479\\n1885,20160619,0,1675,1710,1640,1659,303632\\n1886,20160620,0,1622,1699,1622,1630,378907\\n1887,20160621,0,1631,1692,1630,1692,228040\\n1888,20160622,0,1718,1726,1699,1726,281843\\n1889,20160625,0,1724,1797,1723,1797,1335190\\n1890,20160626,0,1820,1880,1815,1880,1236107\\n1891,20160628,0,1939,1939,1780,1810,1538720\\n1892,20160629,0,1804,1852,1755,1790,744697\\n1893,20160702,0,1837,1837,1732,1780,293084\\n1894,20160703,0,1819,1819,1725,1750,505426\\n1895,20160704,0,1705,1798,1705,1794,393501\\n1896,20160705,0,1750,1779,1721,1779,275717\\n1897,20160709,0,1730,1785,1720,1740,249393\\n1898,20160710,0,1707,1710,1675,1690,668677\\n1899,20160719,0,1765,1765,1765,1765,10580\\n1900,20160720,0,1690,1749,1677,1705,556026\\n1901,20160723,0,1745,1745,1700,1710,340992\\n1902,20160724,0,1700,1730,1683,1686,327286\\n1903,20160725,0,1700,1734,1700,1706,322310\\n1904,20160726,0,1706,1726,1683,1715,147081\\n1905,20160727,0,1710,1717,1670,1685,753844\\n1906,20160731,0,1719,1719,1664,1664,362023\\n1907,20160801,0,1699,1700,1667,1699,304959\\n1908,20160802,0,1690,1730,1667,1730,287854\\n1909,20160803,0,1732,1732,1670,1680,221827\\n1910,20160806,0,1673,1779,1673,1779,1548102\\n1911,20160807,0,1819,1820,1730,1740,606402\\n1912,20160808,0,1750,1862,1710,1862,3853206\\n1913,20160809,0,1919,1919,1840,1854,1647931\\n1914,20160810,0,1880,1893,1783,1783,1408006\\n1915,20160813,0,1770,1799,1745,1779,268785\\n1916,20160814,0,1745,1824,1745,1771,528814\\n1917,20160815,0,1761,1810,1730,1730,406716\\n1918,20160816,0,1721,1782,1721,1750,2102425\\n1919,20160817,0,1750,1797,1731,1780,3213690\\n1920,20160820,0,1762,1790,1740,1760,272694\\n1921,20160821,0,1732,1774,1730,1730,359472\\n1922,20160822,0,1730,1764,1722,1727,375243\\n1923,20160823,0,1713,1768,1713,1731,106631\\n1924,20160824,0,1713,1760,1713,1717,293190\\n1925,20160827,0,1705,1730,1705,1710,291798\\n1926,20160828,0,1720,1739,1699,1729,1013681\\n1927,20160829,0,1720,1771,1715,1771,452158\\n1928,20160830,0,1785,1786,1743,1746,243389\\n1929,20160831,0,1710,1735,1710,1716,238433\\n1930,20160903,0,1768,1781,1712,1720,92461\\n1931,20160904,0,1711,1750,1665,1670,560259\\n1932,20160905,0,1700,1730,1651,1651,507488\\n1933,20160906,0,1648,1722,1648,1722,203717\\n1934,20160907,0,1720,1769,1702,1750,214161\\n1935,20160910,0,1670,1758,1670,1690,51183\\n1936,20160911,0,1755,1777,1720,1743,156324\\n1937,20160913,0,1710,1827,1710,1827,965903\\n1938,20160914,0,1900,1900,1811,1812,1462298\\n1939,20160917,0,1787,1850,1785,1845,340509\\n1940,20160918,0,1847,1888,1750,1771,763451\\n1941,20160919,0,1768,1852,1751,1790,704587\\n1942,20160921,0,1799,1850,1756,1762,218580\\n1943,20160924,0,1829,1840,1790,1790,314650\\n1944,20160925,0,1839,1890,1801,1849,678274\\n1945,20160926,0,1879,1953,1862,1953,3520879\\n1946,20160927,0,1971,2042,1971,2042,4382938\\n1947,20160928,0,2080,2121,1935,1938,2109483\\n1948,20161001,0,1920,1940,1904,1904,2034113\\n1949,20161002,0,1920,2004,1897,1900,740633\\n1950,20161003,0,1871,1950,1836,1836,1040465\\n1951,20161004,0,1861,1930,1828,1889,1247292\\n1952,20161005,0,1914,1914,1796,1820,1027222\\n1953,20161008,0,1829,1911,1829,1911,1596126\\n1954,20161009,0,1832,1979,1813,1949,820093\\n1955,20161010,0,1824,1887,1824,1868,4286059\\n1956,20161015,0,1880,1895,1845,1860,1565195\\n1957,20161016,0,1865,1880,1836,1837,425859\\n1958,20161017,0,1845,1870,1830,1849,735758\\n1959,20161018,0,1874,1874,1801,1820,832100\\n1960,20161019,0,1800,1882,1791,1850,969947\\n1961,20161022,0,1870,1923,1840,1890,2043938\\n1962,20161023,0,1930,1986,1900,1980,4556255\\n1963,20161024,0,1997,2065,1990,2065,3269216\\n1964,20161025,0,2090,2125,1968,1971,1823590\\n1965,20161026,0,2068,2068,1976,2019,1300681\\n1966,20161029,0,2040,2040,1977,1980,1188367\\n1967,20161030,0,2000,2109,1918,2050,2852362\\n1968,20161031,0,2087,2103,2060,2103,2163370\\n1969,20161101,0,2206,2206,2090,2108,6775637\\n1970,20161102,0,2127,2160,2089,2130,1185026\\n1971,20161105,0,2210,2237,2162,2237,3059937\\n1972,20161106,0,2300,2300,2160,2230,1334126\\n1973,20161107,0,2252,2305,2116,2140,1712516\\n1974,20161108,0,2208,2208,2105,2132,890660\\n1975,20161109,0,2027,2130,2026,2080,1516798\\n1976,20161112,0,2129,2135,2085,2135,3939372\\n1977,20161113,0,2189,2235,2050,2235,2495152\\n1978,20161114,0,2272,2334,2235,2334,2329584\\n1979,20161115,0,2414,2445,2334,2440,4052523\\n1980,20161116,0,2449,2500,2373,2488,1639966\\n1981,20161119,0,2480,2480,2380,2460,966083\\n1982,20161121,0,2478,2564,2478,2555,5754468\\n1983,20161122,0,2684,2685,2431,2433,6444203\\n1984,20161123,0,2460,2500,2426,2426,3726393\\n1985,20161126,0,2306,2370,2306,2306,4741164\\n1986,20161127,0,2301,2421,2241,2300,6444117\\n1987,20161129,0,2281,2385,2253,2267,2293680\\n1988,20161203,0,2181,2268,2156,2156,1818451\\n1989,20161204,0,2154,2277,2140,2277,2217563\\n1990,20161205,0,2360,2360,2300,2360,3808621\\n1991,20161206,0,2400,2440,2303,2351,3196100\\n1992,20161207,0,2351,2420,2252,2271,1866513\\n1993,20161210,0,2285,2389,2237,2237,1156119\\n1994,20161211,0,2274,2298,2165,2170,516203\\n1995,20161212,0,2143,2295,2143,2185,3236693\\n1996,20161213,0,2152,2255,2152,2200,686314\\n1997,20161214,0,2233,2233,2127,2140,961132\\n1998,20161218,0,2104,2204,2038,2053,3635356\\n1999,20161219,0,2060,2070,1947,1947,2562837\\n2000,20161220,0,1915,1979,1915,1950,469146\\n2001,20161221,0,1940,2049,1940,2049,984914\\n2002,20161224,0,2049,2088,1955,1990,564509\\n2003,20161225,0,2000,2049,1930,1941,922833\\n2004,20161226,0,1892,1948,1866,1872,1405126\\n2005,20161227,0,1900,1900,1828,1830,526193\\n2006,20161228,0,1900,1900,1815,1830,744138\\n2007,20161231,0,1831,1913,1831,1913,905948\\n2008,20170101,0,1898,1948,1851,1857,234832\\n2009,20170102,0,1830,1924,1820,1820,470972\\n2010,20170103,0,1832,1886,1755,1779,1498403\\n2011,20170104,0,1755,1808,1755,1805,142899\\n2012,20170107,0,1828,1828,1710,1760,425953\\n2013,20170108,0,1736,1779,1712,1750,770482\\n2014,20170109,0,1760,1810,1760,1791,1460759\\n2015,20170111,0,1800,1840,1730,1730,622271\\n2016,20170114,0,1823,1823,1750,1755,1084202\\n2017,20170115,0,1753,1811,1730,1773,1177715\\n2018,20170116,0,1800,1855,1800,1855,591289\\n2019,20170117,0,1935,1935,1930,1935,982460\\n2020,20170118,0,2031,2031,1936,1940,6110497\\n2021,20170121,0,1930,1988,1929,1933,1017111\\n2022,20170122,0,1919,1970,1900,1969,966824\\n2023,20170123,0,1994,2029,1960,2029,2026558\\n2024,20170124,0,2000,2101,2000,2101,1021152\\n2025,20170125,0,2091,2091,2009,2010,753863\\n2026,20170128,0,1957,2047,1957,1995,363121\\n2027,20170129,0,1953,2075,1953,2056,440243\\n2028,20170130,0,2001,2128,1982,2128,1539821\\n2029,20170131,0,2189,2189,2115,2189,1833276\\n2030,20170201,0,2241,2241,2157,2185,1123918\\n2031,20170204,0,2121,2226,2110,2144,635382\\n2032,20170205,0,2144,2285,2096,2285,1896291\\n2033,20170206,0,2289,2364,2260,2345,3143333\\n2034,20170207,0,2375,2375,2264,2280,1352610\\n2035,20170208,0,2319,2335,2251,2275,595912\\n2036,20170211,0,2254,2360,2254,2300,1117942\\n2037,20170212,0,2300,2380,2272,2336,1174582\\n2038,20170213,0,2285,2354,2237,2237,968990\\n2039,20170214,0,2314,2314,2168,2200,791867\\n2040,20170215,0,2191,2278,2178,2249,458628\\n2041,20170218,0,2170,2280,2119,2142,887571\\n2042,20170219,0,2146,2218,2140,2214,865395\\n2043,20170220,0,2216,2246,2142,2195,284679\\n2044,20170221,0,2145,2293,2145,2293,3703712\\n2045,20170222,0,2360,2402,2360,2402,7650924\\n2046,20170225,0,2420,2450,2316,2392,3508844\\n2047,20170226,0,2387,2448,2340,2398,1297989\\n2048,20170227,0,2345,2450,2345,2441,3704765\\n2049,20170228,0,2448,2538,2447,2538,5118163\\n2050,20170301,0,2643,2643,2643,2643,712744\\n2051,20170304,0,2729,2770,2511,2588,6176869\\n2052,20170305,0,2550,2550,2519,2519,449206\\n2053,20170306,0,2422,2509,2397,2440,3555854\\n2054,20170307,0,2497,2540,2403,2484,1293858\\n2055,20170308,0,2422,2530,2381,2393,739885\\n2056,20170311,0,2400,2400,2337,2337,412657\\n2057,20170312,0,2280,2449,2247,2302,3500088\\n2058,20170313,0,2438,2438,2277,2380,597863\\n2059,20170314,0,2384,2399,2298,2300,511775\\n2060,20170315,0,2379,2429,2340,2360,670669\\n2061,20170318,0,2391,2415,2350,2350,333642\\n2062,20170325,0,2409,2490,2360,2438,401820\\n2063,20170326,0,2400,2470,2362,2370,176459\\n2064,20170327,0,2354,2470,2281,2441,1225186\\n2065,20170328,0,2383,2519,2383,2470,1416169\\n2066,20170329,0,2400,2515,2400,2459,873490\\n2067,20170403,0,2495,2495,2400,2450,553526\\n2068,20170404,0,2401,2550,2401,2487,1815622\\n2069,20170405,0,2550,2550,2537,2540,36393\\n2070,20170410,0,2440,2442,2400,2442,447279\\n2071,20170412,0,2451,2491,2317,2317,2384648\\n2072,20170415,0,2310,2377,2231,2240,1984844\\n2073,20170416,0,2254,2372,2240,2362,3818910\\n2074,20170417,0,2400,2417,2352,2417,1905009\\n2075,20170418,0,2497,2498,2300,2370,2067143\\n2076,20170419,0,2428,2428,2255,2339,1072025\\n2077,20170422,0,2300,2416,2284,2390,2933842\\n2078,20170423,0,2370,2459,2370,2459,2841266\\n2079,20170424,0,2453,2540,2452,2475,916590\\n2080,20170426,0,2550,2560,2399,2408,1798925\\n2081,20170429,0,2380,2441,2324,2380,1252963\\n2082,20170430,0,2475,2475,2370,2450,1263558\\n2083,20170501,0,2485,2532,2421,2480,3135143\\n2084,20170502,0,2550,2631,2550,2629,7320454\\n2085,20170503,0,2649,2690,2551,2621,2365588\\n2086,20170506,0,2627,2668,2496,2496,816971\\n2087,20170507,0,2411,2486,2405,2405,2676587\\n2088,20170508,0,2445,2445,2340,2350,533258\\n2089,20170509,0,2349,2357,2275,2312,634800\\n2090,20170510,0,2283,2419,2283,2398,587128\\n2091,20170513,0,2419,2461,2360,2390,752110\\n2092,20170514,0,2440,2450,2361,2400,946419\\n2093,20170515,0,2439,2439,2335,2335,382046\\n2094,20170516,0,2301,2400,2301,2399,588288\\n2095,20170517,0,2399,2399,2300,2358,649959\\n2096,20170520,0,2390,2449,2352,2385,156008\\n2097,20170521,0,2395,2434,2314,2320,297575\\n2098,20170522,0,2308,2390,2308,2390,361980\\n2099,20170523,0,2395,2462,2333,2460,1762814\\n2100,20170529,0,2330,2446,2330,2446,245879\\n2101,20170530,0,2503,2503,2503,2503,209732\\n2102,20170531,0,2628,2628,2628,2628,178030\\n2103,20170603,0,2739,2739,2651,2739,4280746\\n2104,20170606,0,2788,2875,2740,2875,3903584\\n2105,20170607,0,2950,2980,2714,2800,3221450\\n2106,20170610,0,2860,2860,2716,2740,1681072\\n2107,20170611,0,2705,2707,2604,2610,1443241\\n2108,20170612,0,2615,2693,2566,2603,227060\\n2109,20170613,0,2729,2761,2729,2761,482918\\n2110,20170614,0,2840,2882,2839,2882,984196\\n2111,20170617,0,2980,3022,2890,2895,2306543\\n2112,20170618,0,2900,2991,2830,2887,853179\\n2113,20170619,0,2750,3009,2750,3009,12938465\\n2114,20170620,0,3097,3097,3090,3097,2157546\\n2115,20170621,0,3246,3251,3116,3200,5894225\\n2116,20170624,0,3180,3361,3150,3361,3116354\\n2117,20170625,0,3451,3453,3440,3453,556244\\n2118,20170628,0,3623,3623,3451,3623,4548281\\n2119,20170701,0,3740,3758,3566,3570,1834845\\n2120,20170702,0,3703,3703,3440,3450,2712376\\n2121,20170703,0,3552,3552,3372,3460,1361265\\n2122,20170704,0,3378,3630,3372,3630,8132488\\n2123,20170709,0,3700,3700,3550,3650,783734\\n2124,20170710,0,3600,3600,3460,3460,348834\\n2125,20170711,0,3305,3400,3304,3304,2630012\\n2126,20170712,0,3218,3297,3200,3280,783399\\n2127,20170715,0,3202,3405,3202,3405,2604599\\n2128,20170716,0,3450,3559,3450,3559,520836\\n2129,20170717,0,3700,3711,3600,3711,3380785\\n2130,20170718,0,3710,3892,3708,3859,1286171\\n2131,20170719,0,3844,3884,3652,3652,1625697\\n2132,20170722,0,3601,3847,3600,3737,1277907\\n2133,20170723,0,3770,3799,3700,3768,1071971\\n2134,20170724,0,3662,3794,3650,3650,221072\\n2135,20170725,0,3603,3660,3545,3598,717024\\n2136,20170726,0,3600,3600,3400,3400,613667\\n2137,20170729,0,3403,3465,3261,3360,565286\\n2138,20170730,0,3230,3485,3204,3420,935273\\n2139,20170731,0,3300,3477,3278,3384,249305\\n2140,20170801,0,3310,3326,3204,3204,585250\\n2141,20170802,0,3270,3403,3200,3403,801691\\n2142,20170806,0,3405,3460,3357,3390,340279\\n2143,20170807,0,3382,3437,3258,3300,213995\\n2144,20170808,0,3359,3417,3270,3350,94041\\n2145,20170809,0,3311,3408,3288,3288,63193\\n2146,20170812,0,3250,3388,3250,3387,5170485\\n2147,20170813,0,3333,3430,3156,3156,1527081\\n2148,20170814,0,3142,3185,3009,3021,1176306\\n2149,20170815,0,3088,3088,2873,2910,1806649\\n2150,20170816,0,2984,3039,2759,3000,1242083\\n2151,20170819,0,2932,3059,2932,3059,213413\\n2152,20170820,0,3204,3204,3155,3204,541318\\n2153,20170821,0,3217,3300,3044,3044,808687\\n2154,20170822,0,2957,3018,2957,2957,1529801\\n2155,20170823,0,2959,3026,2850,2850,170835\\n2156,20170826,0,2910,2910,2761,2850,377873\\n2157,20170827,0,2881,2948,2850,2884,384903\\n2158,20170828,0,2862,2900,2800,2845,454178\\n2159,20170829,0,2830,2896,2762,2780,505644\\n2160,20170830,0,2780,2895,2750,2780,421449\\n2161,20170902,0,2809,2838,2720,2720,348820\\n2162,20170903,0,2720,2738,2627,2627,841362\\n2163,20170904,0,2610,2720,2551,2659,543195\\n2164,20170905,0,2590,2755,2503,2675,906541\\n2165,20170906,0,2690,2717,2642,2650,132464\\n2166,20170910,0,2650,2697,2602,2640,9356\\n2167,20170911,0,2650,2697,2635,2660,28600\\n2168,20170912,0,2601,2613,2544,2544,465499\\n2169,20170913,0,2460,2541,2432,2433,787795\\n2170,20170916,0,2370,2588,2370,2588,1014572\\n2171,20170917,0,2563,2685,2481,2481,482420\\n2172,20170918,0,2608,2608,2490,2520,126458\\n2173,20170919,0,2520,2558,2444,2479,479822\\n2174,20170920,0,2450,2534,2380,2415,272682\\n2175,20170923,0,2386,2529,2386,2471,115975\\n2176,20170924,0,2504,2504,2388,2396,392684\\n2177,20170925,0,2459,2459,2361,2390,217311\\n2178,20170926,0,2411,2449,2331,2342,576430\\n2179,20170927,0,2336,2406,2336,2385,209308\\n2180,20171002,0,2340,2381,2295,2300,150387\\n2181,20171003,0,2255,2339,2240,2302,528179\\n2182,20171004,0,2240,2361,2240,2315,95833\\n2183,20171007,0,2260,2365,2260,2318,298184\\n2184,20171008,0,2290,2345,2217,2217,646643\\n2185,20171009,0,2200,2270,2127,2192,535077\\n2186,20171010,0,2200,2298,2130,2298,799809\\n2187,20171011,0,2250,2346,2250,2346,612421\\n2188,20171014,0,2392,2449,2350,2400,246963\\n2189,20171015,0,2400,2526,2360,2526,2586003\\n2190,20171016,0,2566,2566,2566,2566,213526\\n2191,20171017,0,2640,2649,2561,2607,2667885\\n2192,20171018,0,2625,2625,2481,2495,887835\\n2193,20171021,0,2520,2580,2402,2443,420970\\n2194,20171022,0,2400,2534,2400,2534,2501140\\n2195,20171023,0,2365,2580,2365,2580,602894\\n2196,20171024,0,2568,2610,2530,2604,845562\\n2197,20171025,0,2619,2700,2600,2660,528606\\n2198,20171028,0,2699,2699,2580,2600,674825\\n2199,20171029,0,2560,2600,2477,2477,339395\\n2200,20171030,0,2460,2469,2402,2410,536333\\n2201,20171031,0,2439,2490,2400,2406,362034\\n2202,20171101,0,2411,2474,2411,2450,306970\\n2203,20171104,0,2470,2490,2400,2400,414576\\n2204,20171105,0,2450,2470,2351,2363,414432\\n2205,20171106,0,2353,2418,2353,2375,81310\\n2206,20171107,0,2350,2438,2350,2377,183053\\n2207,20171108,0,2402,2480,2402,2480,512163\\n2208,20171111,0,2587,2599,2500,2590,702970\\n2209,20171112,0,2590,2590,2461,2461,408372\\n2210,20171113,0,2470,2540,2416,2418,36854\\n2211,20171114,0,2414,2520,2410,2450,36428\\n2212,20171115,0,2420,2478,2342,2342,3055506\\n2213,20171118,0,2394,2394,2257,2300,329412\\n2214,20171120,0,2375,2375,2240,2281,276229\\n2215,20171121,0,2349,2383,2272,2379,2171675\\n2216,20171122,0,2419,2419,2243,2270,336071\\n2217,20171125,0,2378,2378,2250,2284,437864\\n2218,20171126,0,2318,2328,2280,2328,185081\\n2219,20171128,0,2289,2320,2266,2266,372637\\n2220,20171129,0,2280,2280,2250,2251,150789\\n2221,20171202,0,2280,2335,2279,2330,194014\\n2222,20171203,0,2338,2338,2280,2280,139320\\n2223,20171204,0,2241,2356,2241,2270,232089\\n2224,20171205,0,2338,2355,2255,2330,529919\\n2225,20171209,0,2300,2405,2300,2405,476841\\n2226,20171210,0,2380,2480,2380,2477,670276\\n2227,20171211,0,2450,2480,2381,2450,310212\\n2228,20171212,0,2411,2535,2400,2520,958648\\n2229,20171213,0,2500,2599,2480,2558,1034410\\n2230,20171216,0,2569,2648,2550,2600,401073\\n2231,20171217,0,2600,2742,2600,2742,1214792\\n2232,20171218,0,2789,2825,2690,2825,1333331\\n2233,20171219,0,2900,2900,2831,2850,333924\\n2234,20171220,0,2872,2920,2731,2761,1069290\\n2235,20171223,0,2800,2830,2734,2734,239403\\n2236,20171224,0,2624,2725,2624,2624,637969\\n2237,20171225,0,2600,2600,2505,2505,996202\\n2238,20171226,0,2539,2540,2421,2540,500861\\n2239,20171227,0,2570,2580,2510,2580,749490\\n2240,20171230,0,2580,2670,2448,2670,557178\\n2241,20171231,0,2480,2669,2470,2500,455518\\n2242,20180101,0,2540,2569,2403,2500,84480\\n2243,20180102,0,2413,2547,2413,2466,249670\\n2244,20180103,0,2385,2400,2332,2383,155717\\n2245,20180106,0,2383,2460,2365,2448,135426\\n2246,20180107,0,2424,2488,2424,2430,36606\\n2247,20180108,0,2435,2436,2300,2412,351843\\n2248,20180109,0,2355,2395,2300,2380,254317\\n2249,20180110,0,2285,2450,2250,2450,12077549\\n2250,20180113,0,2391,2391,2391,2391,64007\\n2251,20180114,0,2426,2426,2426,2426,118258\\n2252,20180115,0,2491,2491,2426,2426,1242359\\n2253,20180116,0,2494,2495,2366,2390,415103\\n2254,20180117,0,2350,2411,2300,2361,243700\\n2255,20180120,0,2390,2421,2272,2370,281098\\n2256,20180121,0,2315,2373,2288,2320,484033\\n2257,20180122,0,2349,2349,2295,2302,195618\\n2258,20180123,0,2350,2372,2291,2330,422008\\n2259,20180124,0,2322,2351,2299,2350,576157\\n2260,20180127,0,2368,2433,2360,2433,650256\\n2261,20180128,0,2504,2504,2351,2388,471380\\n2262,20180129,0,2355,2430,2355,2425,235437\\n2263,20180130,0,2475,2475,2372,2410,231031\\n2264,20180131,0,2465,2465,2412,2414,149198\\n2265,20180203,0,2470,2470,2350,2374,228242\\n2266,20180204,0,2357,2420,2355,2414,275909\\n2267,20180205,0,2357,2501,2357,2501,865189\\n2268,20180206,0,2500,2510,2438,2500,485948\\n2269,20180207,0,2444,2490,2420,2470,87847\\n2270,20180210,0,2375,2450,2370,2450,2925\\n2271,20180212,0,2466,2480,2400,2475,356936\\n2272,20180213,0,2425,2520,2425,2490,320872\\n2273,20180214,0,2514,2539,2500,2500,145242\\n2274,20180217,0,2537,2538,2380,2380,208568\\n2275,20180218,0,2380,2453,2380,2453,1350\\n2276,20180219,0,2439,2493,2373,2375,190291\\n2277,20180221,0,2385,2439,2350,2357,84138\\n2278,20180224,0,2348,2395,2261,2270,636245\\n2279,20180225,0,2394,2394,2224,2226,387832\\n2280,20180226,0,2226,2298,2191,2216,509297\\n2281,20180227,0,2287,2288,2166,2194,180932\\n2282,20180228,0,2161,2240,2161,2240,193548\\n2283,20180303,0,2249,2313,2188,2313,730200\\n2284,20180304,0,2315,2362,2250,2253,186622\\n2285,20180305,0,2278,2302,2205,2240,3668302\\n2286,20180306,0,2211,2300,2204,2206,76060\\n2287,20180307,0,2192,2249,2154,2189,426252\\n2288,20180310,0,2166,2238,2140,2198,276102\\n2289,20180311,0,2133,2230,2115,2170,218101\\n2290,20180312,0,2188,2218,2135,2168,535664\\n2291,20180317,0,2070,2220,2062,2062,700001\\n2292,20180318,0,2067,2067,1965,1965,730231\\n2293,20180319,0,1950,1980,1892,1950,1918037\\n2294,20180325,0,1918,1980,1811,1870,327364\\n2295,20180326,0,1821,1880,1821,1846,78309\\n2296,20180327,0,1865,1900,1834,1898,143112\\n2297,20180328,0,1861,1939,1861,1938,70088\\n2298,20180403,0,1938,1951,1874,1919,27737\\n2299,20180404,0,1870,1908,1830,1892,285691\\n2300,20180407,0,1849,1887,1827,1840,100841\\n2301,20180408,0,1813,1813,1796,1810,159180\\n2302,20180409,0,1770,1797,1734,1734,417375\\n2303,20180410,0,1768,1825,1755,1755,64066\\n2304,20180411,0,1790,1790,1668,1670,85730\\n2305,20180415,0,1731,1778,1725,1732,1529611\\n2306,20180416,0,1730,1785,1730,1780,746995\\n2307,20180417,0,1797,1797,1750,1786,44010\\n2308,20180418,0,1720,1830,1720,1800,1147124\\n2309,20180421,0,1770,1842,1770,1842,187402\\n2310,20180422,0,1902,1902,1900,1901,626274\\n2311,20180423,0,1928,1997,1850,1997,718374\\n2312,20180424,0,2069,2069,2068,2069,311544\\n2313,20180425,0,2172,2172,2170,2172,221319\\n2314,20180428,0,2190,2190,2042,2042,597403\\n2315,20180429,0,1945,1970,1945,1945,264603\\n2316,20180430,0,1860,1940,1856,1856,173457\\n2317,20180501,0,1825,1946,1823,1916,29337\\n2318,20180505,0,1850,1900,1830,1830,44775\\n2319,20180506,0,1802,1847,1795,1810,38660\\n2320,20180507,0,1805,1966,1805,1966,227875\\n2321,20180508,0,1978,2040,1941,2040,1529710\\n2322,20180509,0,2040,2059,1971,1990,266640\\n2323,20180512,0,2088,2118,2078,2118,535765\\n2324,20180513,0,2180,2218,2081,2120,1152550\\n2325,20180514,0,2187,2199,2100,2129,955888\\n2326,20180515,0,2058,2160,2050,2079,224706\\n2327,20180516,0,2003,2123,2001,2089,1390387\\n2328,20180519,0,2117,2180,2096,2180,16018366\\n2329,20180520,0,2281,2281,2210,2236,6803633\\n2330,20180521,0,2270,2368,2190,2319,5483175\\n2331,20180522,0,2300,2300,2195,2195,2432964\\n2332,20180523,0,2182,2316,2150,2316,4222351\\n2333,20180526,0,2378,2399,2313,2330,3169668\\n2334,20180527,0,2330,2390,2258,2258,737046\\n2335,20180528,0,2269,2319,2220,2300,811771\\n2336,20180529,0,2340,2350,2250,2350,998259\\n2337,20180530,0,2364,2423,2330,2423,5567493\\n2338,20180602,0,2474,2486,2368,2391,1829574\\n2339,20180603,0,2401,2450,2340,2367,765129\\n2340,20180609,0,2400,2489,2372,2489,2079196\\n2341,20180610,0,2499,2569,2461,2463,1310109\\n2342,20180611,0,2540,2581,2465,2467,742058\\n2343,20180612,0,2500,2560,2407,2407,935886\\n2344,20180613,0,2402,2402,2308,2329,7097246\\n2345,20180617,0,2321,2426,2321,2356,2534473\\n2346,20180618,0,2370,2410,2262,2262,2610013\\n2347,20180619,0,2202,2279,2190,2190,1171308\\n2348,20180620,0,2222,2290,2111,2130,2069981\\n2349,20180623,0,2185,2240,2130,2160,1141857\\n2350,20180624,0,2210,2229,2084,2088,4154211\\n2351,20180625,0,2102,2148,2004,2010,4095937\\n2352,20180626,0,1993,2069,1950,1950,1449920\\n2353,20180627,0,1950,2045,1933,1990,1230155\\n2354,20180630,0,1998,2049,1930,1977,2296879\\n2355,20180701,0,1998,2030,1950,1970,636031\\n2356,20180702,0,1929,2000,1929,1961,852478\\n2357,20180703,0,1968,1968,1860,1899,3631032\\n2358,20180710,0,1950,1950,1810,1835,365393\\n2359,20180711,0,1810,1898,1810,1814,760736\\n2360,20180714,0,1888,1921,1888,1921,833186\\n2361,20180715,0,1979,1979,1899,1899,1122804\\n2362,20180716,0,1903,1940,1863,1873,483131\\n2363,20180717,0,1900,1900,1849,1855,344324\\n2364,20180718,0,1930,1930,1790,1820,979483\\n2365,20180721,0,1822,1880,1822,1869,277810\\n2366,20180722,0,1900,1900,1800,1835,1421914\\n2367,20180723,0,1810,1843,1785,1786,563500\\n2368,20180724,0,1834,1839,1773,1799,793245\\n2369,20180725,0,1827,1830,1710,1782,1681762\\n2370,20180728,0,1800,1800,1730,1780,1549003\\n2371,20180729,0,1825,1825,1720,1740,873864\\n2372,20180730,0,1751,1805,1689,1690,2454472\\n2373,20180731,0,1705,1800,1705,1797,1890082\\n2374,20180801,0,1779,1807,1678,1690,4272378\\n2375,20180804,0,1708,1770,1690,1697,1680055\\n2376,20180805,0,1720,1739,1640,1680,2865720\\n2377,20180806,0,1699,1707,1589,1589,4214601\\n2378,20180807,0,1550,1676,1550,1676,2953150\\n2379,20180808,0,1700,1711,1610,1679,2775688\\n2380,20180811,0,1625,1700,1611,1660,2378145\\n2381,20180812,0,1630,1639,1590,1617,2468517\\n2382,20180813,0,1638,1679,1610,1674,1803846\\n2383,20180814,0,1650,1670,1586,1605,4379606\\n2384,20180815,0,1647,1677,1635,1677,3260447\\n2385,20180818,0,1729,1753,1681,1753,1706113\\n2386,20180819,0,1824,1824,1824,1824,697313\\n2387,20180820,0,1870,1870,1739,1752,3171027\\n2388,20180821,0,1731,1819,1731,1800,1523058\\n2389,20180825,0,1808,1882,1771,1850,3163599\\n2390,20180826,0,1900,1920,1833,1909,1823053\\n2391,20180827,0,1930,1968,1854,1908,1984303\\n2392,20180828,0,1975,1975,1850,1880,2032206\\n2393,20180829,0,1910,1936,1880,1915,2388710\\n2394,20180901,0,1938,1970,1856,1934,2396055\\n2395,20180902,0,1954,1954,1820,1839,2048988\\n2396,20180903,0,1867,1867,1785,1790,1246819\\n2397,20180904,0,1788,1846,1788,1825,1320577\\n2398,20180905,0,1867,1913,1850,1898,2201476\\n2399,20180908,0,1928,1992,1926,1992,3601944\\n2400,20180909,0,2070,2070,2000,2014,3617755\\n2401,20180910,0,2070,2070,1952,1990,3017186\\n2402,20180911,0,1963,2040,1962,2037,2185765\\n2403,20180912,0,2071,2121,2000,2110,3413419\\n2404,20180915,0,2199,2199,2128,2173,3715556\\n2405,20180916,0,2190,2190,2079,2110,3318313\\n2406,20180917,0,2099,2202,2099,2202,1800540\\n2407,20180918,0,2299,2299,2299,2299,440700\\n2408,20180922,0,2413,2413,2413,2413,171155\\n2409,20180923,0,2508,2508,2508,2508,451928\\n2410,20180924,0,2633,2633,2520,2633,5628301\\n2411,20180925,0,2732,2867,2732,2732,160826\\n2412,20180929,0,2865,3008,2865,3008,2131198\\n2413,20180930,0,3158,3158,2900,3158,3493127\\n2414,20181001,0,3250,3250,2990,2990,4034177\\n2415,20181002,0,2878,2878,2878,2878,311811\\n2416,20181003,0,2735,2735,2735,2735,105365\\n2417,20181006,0,2669,2734,2669,2669,3465319\\n2418,20181007,0,2538,2538,2538,2538,43073\\n2419,20181008,0,2508,2508,2508,2508,9495\\n2420,20181009,0,2501,2501,2501,2501,265412\\n2421,20181010,0,2376,2376,2376,2376,19950\\n2422,20181013,0,2363,2363,2363,2363,40500\\n2423,20181014,0,2339,2339,2339,2339,4255\\n2424,20181015,0,2337,2520,2337,2337,5979159\\n2425,20181016,0,2360,2397,2241,2249,6997219\\n2426,20181017,0,2210,2250,2188,2188,1597728\\n2427,20181020,0,2120,2300,2120,2300,4678064\\n2428,20181021,0,2378,2378,2173,2173,1761096\\n2429,20181022,0,2250,2270,2127,2127,3371531\\n2430,20181023,0,2148,2148,2047,2047,1214233\\n2431,20181024,0,2052,2052,1950,1950,630120\\n2432,20181027,0,1855,1949,1855,1855,1381739\\n2433,20181028,0,1854,1964,1843,1919,1592849\\n2434,20181029,0,1965,2001,1880,2001,3019541\\n2435,20181031,0,2010,2064,2010,2064,2642935\\n2436,20181103,0,2055,2120,1964,1965,1239052\\n2437,20181104,0,2000,2121,1958,2029,1327358\\n2438,20181105,0,2089,2117,1971,2117,1157392\\n2439,20181106,0,2156,2164,2100,2126,1114225\\n2440,20181110,0,2199,2199,2014,2014,1128863\\n2441,20181111,0,1977,2038,1926,1926,803203\\n2442,20181112,0,1872,2051,1872,2050,1313074\\n2443,20181113,0,2049,2079,1950,2022,1057404\\n2444,20181114,0,1973,2049,1925,2015,738021\\n2445,20181117,0,1924,2010,1923,1955,895161\\n2446,20181118,0,2044,2044,1881,1918,1507089\\n2447,20181119,0,1918,1942,1821,1910,403858\\n2448,20181120,0,1960,1998,1880,1998,2077239\\n2449,20181121,0,2005,2019,1945,2000,2096925\\n2450,20181124,0,2000,2035,1891,1900,747330\\n2451,20181126,0,1945,1945,1833,1920,622150\\n2452,20181127,0,1957,1957,1849,1850,548275\\n2453,20181128,0,1831,1930,1801,1830,1475240\\n2454,20181201,0,1830,1836,1752,1765,803310\\n2455,20181202,0,1845,1850,1785,1809,1087219\\n2456,20181203,0,1865,1887,1771,1850,985221\\n2457,20181204,0,1850,1850,1789,1830,444086\\n2458,20181205,0,1792,1903,1756,1893,969925\\n2459,20181208,0,1948,1979,1893,1979,1332124\\n2460,20181209,0,2054,2054,1959,2010,2144854\\n2461,20181210,0,2025,2096,2003,2057,2960831\\n2462,20181211,0,2050,2148,2000,2100,2428944\\n2463,20181212,0,2120,2139,2084,2115,1917614\\n2464,20181215,0,2120,2120,2002,2002,1140623\\n2465,20181216,0,2055,2055,1951,1967,792659\\n2466,20181217,0,1880,1976,1880,1907,802235\\n2467,20181218,0,1987,1990,1890,1916,473664\\n2468,20181219,0,1959,2021,1861,1890,693377\\n2469,20181222,0,1902,1975,1880,1887,196373\\n2470,20181223,0,1940,1965,1880,1908,821265\\n2471,20181224,0,1954,1954,1870,1899,508090\\n2472,20181225,0,1891,1940,1801,1865,2612912\\n2473,20181226,0,1864,1917,1844,1855,1348741\\n2474,20181229,0,1924,1924,1830,1883,586736\\n2475,20181230,0,1920,1925,1840,1893,562133\\n2476,20181231,0,1900,1926,1853,1885,1372623\\n2477,20190101,0,1910,1950,1884,1900,349857\\n2478,20190102,0,1970,2010,1970,1987,2989350\\n2479,20190105,0,2006,2021,1951,1968,632239\\n2480,20190106,0,1980,1980,1900,1910,702911\\n2481,20190107,0,1910,1910,1850,1895,933492\\n2482,20190108,0,1879,1921,1865,1920,434694\\n2483,20190109,0,1969,1978,1950,1978,1102987\\n2484,20190112,0,2050,2053,1990,2041,1839362\\n2485,20190113,0,2050,2138,2050,2085,2572085\\n2486,20190114,0,2100,2100,1999,2021,1983086\\n2487,20190115,0,2085,2085,2003,2009,1770555\\n2488,20190116,0,2001,2026,2000,2000,842050\\n2489,20190119,0,1962,2023,1960,1972,1184416\\n2490,20190120,0,1991,1992,1890,1890,1927424\\n2491,20190121,0,1886,1887,1848,1880,1196251\\n2492,20190122,0,1860,1953,1860,1953,1112430\\n2493,20190123,0,1955,2030,1955,2028,1784968\\n2494,20190126,0,2050,2050,1989,2024,1059023\\n2495,20190127,0,2035,2065,1970,2008,958418\\n2496,20190128,0,2000,2088,1990,2077,3032445\\n2497,20190129,0,2089,2140,2080,2115,3698189\\n2498,20190130,0,2145,2219,2080,2219,7113800\\n2499,20190202,0,2252,2276,2103,2103,3758663\\n2500,20190203,0,2042,2100,2030,2050,1651218\\n2501,20190204,0,2099,2100,2001,2006,554295\\n2502,20190205,0,2001,2050,1951,2000,1396762\\n2503,20190206,0,1971,2040,1971,1985,304570\\n2504,20190210,0,1985,2048,1951,2000,722321\\n2505,20190212,0,2020,2020,1981,1995,892728\\n2506,20190213,0,2000,2058,1962,2049,2263494\\n2507,20190216,0,2100,2126,2060,2116,2604876\\n2508,20190217,0,2135,2139,2011,2021,1245098\\n2509,20190218,0,2021,2058,1998,2025,667384\\n2510,20190219,0,2010,2059,2001,2040,484297\\n2511,20190220,0,2066,2066,1990,1990,926161\\n2512,20190223,0,2030,2038,1961,2009,926947\\n2513,20190224,0,1982,2019,1966,1972,773787\\n2514,20190225,0,1969,2019,1969,1981,1055061\\n2515,20190226,0,1961,2017,1951,1980,573117\\n2516,20190227,0,2000,2062,1980,2062,2594972\\n2517,20190302,0,2142,2150,2101,2150,6028900\\n2518,20190303,0,2190,2230,2111,2150,5126416\\n2519,20190304,0,2112,2150,2058,2080,3721193\\n2520,20190305,0,2054,2103,2003,2034,1852801\\n2521,20190306,0,2005,2041,1983,2028,964293\\n2522,20190309,0,2080,2105,2046,2105,1872774\\n2523,20190310,0,2110,2150,2022,2081,2004991\\n2524,20190311,0,2053,2180,2030,2087,1377458\\n2525,20190312,0,2087,2129,2060,2105,2174386\\n2526,20190313,0,2081,2109,2050,2060,2612599\\n2527,20190316,0,2085,2150,2048,2115,1301854\\n2528,20190317,0,2124,2166,2100,2102,1156561\\n2529,20190318,0,2145,2145,2101,2116,671276\\n2530,20190319,0,2145,2200,2111,2158,1128433\\n2531,20190325,0,2170,2249,2135,2218,1124111\\n2532,20190326,0,2148,2286,2148,2286,1642600\\n2533,20190327,0,2281,2294,2185,2283,2389185\\n2534,20190330,0,2298,2359,2212,2270,3061524\\n2535,20190331,0,2300,2329,2220,2245,3555806\\n2536,20190406,0,2200,2385,2200,2385,3964551\\n2537,20190407,0,2399,2465,2300,2312,3322885\\n2538,20190408,0,2250,2327,2248,2264,2171074\\n2539,20190409,0,2207,2333,2207,2280,885454\\n2540,20190410,0,2292,2354,2271,2297,2209131\\n2541,20190413,0,2324,2354,2222,2222,2896421\\n2542,20190414,0,2270,2299,2190,2270,1631432\\n2543,20190415,0,2301,2346,2251,2280,2635462\\n2544,20190416,0,2279,2429,2233,2385,5490250\\n2545,20190417,0,2400,2455,2300,2449,2813996\\n2546,20190420,0,2468,2514,2353,2460,4012921\\n2547,20190422,0,2417,2550,2417,2539,5642446\\n2548,20190423,0,2460,2540,2460,2479,2408772\\n2549,20190424,0,2500,2620,2450,2620,5755406\\n2550,20190427,0,2650,2739,2649,2739,1659860\\n2551,20190428,0,2800,2830,2621,2808,3183979\\n2552,20190429,0,2837,2880,2660,2750,3195934\\n2553,20190430,0,2670,2788,2650,2660,3145030\\n2554,20190501,0,2660,2789,2601,2698,1723777\\n2555,20190504,0,2698,2854,2660,2854,5183258\\n2556,20190505,0,2760,2879,2717,2780,2151705\\n2557,20190506,0,2743,2743,2650,2668,3864366\\n2558,20190507,0,2543,2664,2532,2650,4595611\\n2559,20190508,0,2704,2704,2680,2704,3943521\\n2560,20190511,0,2839,2839,2839,2839,2618820\\n2561,20190512,0,2980,2980,2980,2980,663459\\n2562,20190513,0,3129,3129,3129,3129,356298\\n2563,20190514,0,3285,3285,3285,3285,1900958\\n2564,20190515,0,3449,3449,3256,3366,19881738\\n2565,20190518,0,3295,3580,3244,3531,8168779\\n2566,20190519,0,3569,3591,3426,3591,4515652\\n2567,20190520,0,3611,3611,3393,3393,2278578\\n2568,20190521,0,3276,3487,3276,3298,4674242\\n2569,20190522,0,3227,3493,3227,3493,3901049\\n2570,20190525,0,3610,3610,3350,3400,1683338\\n2571,20190526,0,3460,3609,3303,3590,4733600\\n2572,20190528,0,3598,3670,3590,3670,3957613\\n2573,20190529,0,3650,3787,3468,3468,2391206\\n2574,20190601,0,3368,3440,3362,3362,2440615\\n2575,20190602,0,3326,3515,3326,3419,1713035\\n2576,20190603,0,3367,3449,3265,3277,2828051\\n2577,20190608,0,3300,3470,3201,3462,2959612\\n2578,20190609,0,3499,3529,3475,3529,2045821\\n2579,20190610,0,3529,3686,3346,3390,2660082\\n2580,20190611,0,3360,3468,3356,3400,2452757\\n2581,20190612,0,3400,3532,3340,3340,2189151\\n2582,20190615,0,3301,3446,3301,3344,1004717\\n2583,20190616,0,3430,3430,3192,3198,3403899\\n2584,20190617,0,3198,3230,3150,3155,1177224\\n2585,20190618,0,3200,3336,3060,3319,4011672\\n2586,20190619,0,3250,3397,3100,3150,1110971\\n2587,20190622,0,3121,3320,3121,3140,1031494\\n2588,20190623,0,3156,3344,3111,3285,898003\\n2589,20190624,0,3345,3402,3230,3368,1024976\\n2590,20190625,0,3391,3393,3192,3192,2809328\\n2591,20190626,0,3230,3280,3100,3155,2219642\\n2592,20190630,0,3269,3297,3170,3248,2112335\\n2593,20190701,0,3251,3320,3151,3270,1292365\\n2594,20190702,0,3320,3419,3320,3419,1493245\\n2595,20190703,0,3573,3573,3361,3372,2146549\\n2596,20190706,0,3442,3442,3309,3320,2632880\\n2597,20190707,0,3348,3439,3250,3429,1293752\\n2598,20190708,0,3490,3543,3440,3542,4169973\\n2599,20190709,0,3555,3680,3400,3450,1628190\\n2600,20190715,0,3659,3659,3350,3520,2886696\\n2601,20190716,0,3495,3495,3413,3413,166835\\n2602,20190717,0,3249,3374,3249,3263,2124073\\n2603,20190720,0,3250,3302,3122,3179,657270\\n2604,20190721,0,3250,3295,3100,3260,1314720\\n2605,20190722,0,3200,3280,3173,3200,450220\\n2606,20190723,0,3149,3183,3045,3100,1120496\\n2607,20190724,0,3100,3247,3100,3247,1200646\\n2608,20190727,0,3300,3339,3080,3299,1344433\\n2609,20190728,0,3162,3319,3162,3298,606714\\n2610,20190729,0,3325,3325,3224,3310,1001419\\n2611,20190730,0,3350,3455,3315,3455,674024\\n2612,20190731,0,3605,3605,3325,3435,2255691\\n2613,20190803,0,3550,3600,3460,3500,1233849\\n2614,20190804,0,3600,3690,3401,3690,3579464\\n2615,20190805,0,3728,3786,3728,3786,619043\\n2616,20190806,0,3971,3971,3971,3971,414850\\n2617,20190807,0,4169,4169,3971,4169,5134428\\n2618,20190810,0,4356,4356,4356,4356,250640\\n2619,20190811,0,4515,4573,4390,4573,2571518\\n2620,20190813,0,4758,4758,4320,4567,4262584\\n2621,20190814,0,4610,4699,4376,4541,3974421\\n2622,20190817,0,4550,4749,4523,4749,2719712\\n2623,20190818,0,4920,4920,4880,4880,374869\\n2624,20190824,0,5164,5330,4925,5071,2002693\\n2625,20190825,0,5195,5199,4816,4816,3535251\\n2626,20190826,0,4800,5030,4671,4849,3076483\\n2627,20190827,0,5090,5090,4628,4628,2992852\\n2628,20190828,0,4490,4628,4484,4484,4505797\\n2629,20190831,0,4313,4713,4313,4630,5034534\\n2630,20190901,0,4698,4850,4550,4617,1603158\\n2631,20190902,0,4630,4800,4466,4467,2137871\\n2632,20190903,0,4400,4683,4275,4651,4661848\\n2633,20190904,0,4688,4688,4680,4688,941221\\n2634,20190907,0,4922,4922,4922,4922,981281\\n2635,20190908,0,5168,5168,5100,5168,4880776\\n2636,20190911,0,5360,5422,5130,5422,2852046\\n2637,20190914,0,5643,5643,5643,5643,230319\\n2638,20190915,0,5900,5925,5421,5925,5340758\\n2639,20190916,0,6000,6124,5751,5820,3178761\\n2640,20190917,0,5850,6150,5696,5987,2502116\\n2641,20190918,0,6076,6140,5696,6120,1974863\\n2642,20190921,0,6000,6249,6000,6249,343525\\n2643,20190922,0,6548,6548,6547,6548,1324669\\n2644,20190923,0,6780,6839,6250,6500,3415949\\n2645,20190924,0,6500,6730,6239,6577,4110406\\n2646,20190925,0,6665,6790,6600,6790,892838\\n2647,20190929,0,6960,7090,6612,7090,2257598\\n2648,20190930,0,7149,7152,6500,7033,1751942\\n2649,20191001,0,6988,6990,6697,6697,3715819\\n2650,20191002,0,6550,6850,6435,6630,1866313\\n2651,20191005,0,6502,6860,6298,6450,1634267\\n2652,20191006,0,6313,6548,6313,6449,1863538\\n2653,20191007,0,6261,6670,6040,6400,1388924\\n2654,20191008,0,6490,6580,6193,6193,1329874\\n2655,20191009,0,5966,6290,5966,6159,1032527\\n2656,20191012,0,6240,6308,6000,6147,819319\\n2657,20191013,0,6200,6200,5880,5880,862595\\n2658,20191014,0,5657,5657,5657,5657,106473\\n2659,20191015,0,5375,5600,5375,5375,604014\\n2660,20191016,0,5109,5109,5109,5109,66154\\n2661,20191020,0,4933,4933,4933,4933,130985\\n2662,20191021,0,4687,4687,4687,4687,33457\\n2663,20191022,0,4606,5086,4606,4606,1922199\\n2664,20191023,0,4443,4443,4443,4443,197397\\n2665,20191026,0,4221,4221,4221,4221,233698\\n2666,20191028,0,4120,4432,4120,4432,3188305\\n2667,20191030,0,4544,4544,4300,4544,1413765\\n2668,20191102,0,4762,4762,4310,4600,6048208\\n2669,20191103,0,4600,4739,4500,4650,2010373\\n2670,20191104,0,4689,4830,4453,4453,1795370\\n2671,20191105,0,4600,4698,4352,4595,1539215\\n2672,20191109,0,4650,4650,4400,4497,1291993\\n2673,20191110,0,4500,4500,4303,4376,836142\\n2674,20191111,0,4450,4595,4400,4595,1675751\\n2675,20191112,0,4750,4801,4700,4801,1900422\\n2676,20191113,0,4996,4996,4678,4740,1691439\\n2677,20191116,0,4895,4895,4563,4563,2151565\\n2678,20191117,0,4356,4680,4356,4356,1700088\\n2679,20191118,0,4150,4455,4150,4449,494295\\n2680,20191119,0,4400,4593,4400,4593,1903048\\n2681,20191120,0,4790,4796,4601,4796,974166\\n2682,20191123,0,4950,5022,4950,5022,2087447\\n2683,20191124,0,5271,5271,5271,5271,351195\\n2684,20191125,0,5534,5534,5534,5534,166749\\n2685,20191126,0,5810,5810,5810,5810,782578\\n2686,20191127,0,5800,5877,5520,5593,4970157\\n2687,20191130,0,5600,5700,5333,5650,2297614\\n2688,20191201,0,5779,5827,5644,5827,1093559\\n2689,20191202,0,6060,6060,5497,5550,2445204\\n2690,20191203,0,5699,5735,5475,5600,1841951\\n2691,20191204,0,5660,5854,5601,5854,2404364\\n2692,20191207,0,5951,6140,5951,6140,1204956\\n2693,20191208,0,6350,6422,6170,6422,2944195\\n2694,20191209,0,6400,6666,6400,6582,160417\\n2695,20191210,0,6885,6885,6541,6541,528626\\n2696,20191211,0,6355,6597,6280,6280,3549264\\n2697,20191214,0,6290,6588,6150,6558,5345730\\n2698,20191215,0,6590,6675,6200,6610,2779751\\n2699,20191216,0,6450,6828,6450,6828,3524071\\n2700,20191217,0,6995,7077,6800,6800,5616639\\n2701,20191218,0,6950,6950,6642,6800,3762754\\n2702,20191221,0,6721,7058,6515,7058,3932683\\n2703,20191222,0,7140,7363,6900,7288,3856251\\n2704,20191223,0,7110,7480,6938,6938,4562069\\n2705,20191224,0,6941,7044,6727,6727,3760851\\n2706,20191225,0,6601,6724,6431,6697,5590184\\n2707,20191228,0,6863,6863,6700,6863,1643031\\n2708,20191229,0,7201,7201,6520,6551,4144615\\n2709,20191230,0,7100,7551,7100,7551,2892825\\n2710,20191231,0,7847,7847,7500,7847,10511195\\n2711,20200101,0,7870,8201,7631,7664,3209482\\n2712,20200104,0,7631,7631,7631,7631,69147\\n2713,20200105,0,7356,7356,7356,7356,2677133\\n2714,20200107,0,7080,7345,6989,6989,1416393\\n2715,20200108,0,6876,6876,6876,6876,22554\\n2716,20200111,0,7122,7122,7122,7122,312608\\n2717,20200112,0,7478,7478,7124,7370,4415603\\n2718,20200113,0,7200,7700,7180,7350,5874375\\n2719,20200114,0,7500,7540,7300,7449,4868788\\n2720,20200115,0,7300,7720,7236,7451,4034468\\n2721,20200118,0,7700,7885,7700,7885,3564296\\n2722,20200119,0,8239,8271,7700,8271,3529900\\n2723,20200120,0,8381,8608,8201,8608,5853909\\n2724,20200121,0,9000,9024,8608,8747,4760164\\n2725,20200122,0,8910,9200,8531,8533,4693582\\n2726,20200125,0,8930,9184,8701,8850,7147421\\n2727,20200126,0,8950,9466,8920,9310,5994513\\n2728,20200127,0,8810,9712,8810,9596,3997032\\n2729,20200128,0,9999,9999,9124,9200,4188804\\n2730,20200201,0,9351,9490,9000,9356,4333306\\n2731,20200202,0,9581,9670,9356,9670,2709794\\n2732,20200203,0,10126,10126,10126,10126,185791\\n2733,20200204,0,10632,10632,10000,10632,7769421\\n2734,20200205,0,10500,11100,10085,10800,2591917\\n2735,20200208,0,10990,11120,10260,10560,3748133\\n2736,20200209,0,10412,11155,10300,11155,2795942\\n2737,20200210,0,11473,11473,10381,11473,3479191\\n2738,20200212,0,11680,11691,11600,11691,365500\\n2739,20200215,0,12261,12262,11950,12262,5646690\\n2740,20200216,0,12867,12868,12800,12868,2724698\\n2741,20200217,0,13480,13510,13400,13510,4728718\\n2742,20200218,0,14172,14172,13800,14100,180354\\n2743,20200223,0,14878,14878,14878,14878,218899\\n2744,20200224,0,15621,15621,14900,15621,4479862\\n2745,20200225,0,16000,16225,15621,16225,1987636\\n2746,20200226,0,16970,16970,15355,15355,4492797\\n2747,20200229,0,15091,15091,15091,15091,373887\\n2748,20200301,0,14337,15517,14337,14900,7566445\\n2749,20200302,0,14900,15095,14057,14407,6697362\\n2750,20200303,0,14960,15050,14500,14902,3310962\\n2751,20200304,0,15013,15100,14060,14250,1816538\\n2752,20200307,0,13970,14199,13968,13968,733988\\n2753,20200309,0,13819,13819,13819,13819,175810\\n2754,20200310,0,13783,13783,13783,13783,296616\\n2755,20200311,0,13723,14275,13723,13723,1632562\\n2756,20200314,0,13450,13723,13404,13404,1350541\\n2757,20200315,0,13175,13175,13175,13175,913939\\n2758,20200316,0,13020,14373,13020,14180,2682131\\n2759,20200317,0,14688,14689,13346,13670,642982\\n2760,20200318,0,14100,14400,13600,14289,1980282\\n2761,20200324,0,14053,14310,13351,13753,1739249\\n2762,20200325,0,13700,14600,13350,14500,7151805\\n2763,20200328,0,14706,14706,14660,14706,2071322\\n2764,20200329,0,15132,15132,13802,14400,2472298\\n2765,20200330,0,14898,14898,13864,14126,1766010\\n2766,20200404,0,14002,14800,14002,14140,2151994\\n2767,20200405,0,14000,15080,14000,14600,2949205\\n2768,20200406,0,14700,15028,13871,14011,3820465\\n2769,20200407,0,14449,14738,14025,14738,3235910\\n2770,20200408,0,15269,15294,14800,15294,3968240\\n2771,20200411,0,15958,15962,14442,15962,3911331\\n2772,20200412,0,16419,16582,15300,16135,3358142\\n2773,20200413,0,16490,17157,15523,17157,6243550\\n2774,20200414,0,16800,17342,16700,17342,1630975\\n2775,20200415,0,17678,17678,17678,17678,852496\\n2776,20200418,0,17907,17907,17907,17907,685496\\n2777,20200419,0,18050,18116,17001,17050,4692150\\n2778,20200420,0,16939,17799,16939,17300,8750723\\n2779,20200421,0,17300,17776,16312,17300,5803402\\n2780,20200422,0,17550,17916,17310,17916,3261934\\n2781,20200425,0,18708,18708,18011,18708,2663218\\n2782,20200426,0,19554,19554,17697,18400,4553275\\n2783,20200427,0,18225,18300,17745,17800,5532498\\n2784,20200428,0,18640,18640,17311,17600,3048812\\n2785,20200429,0,18180,18707,17600,18690,3961910\\n2786,20200502,0,19100,19118,18717,19118,2169374\\n2787,20200503,0,19854,19854,19301,19650,3137572\\n2788,20200504,0,20552,20552,18852,19130,3198134\\n2789,20200505,0,19482,19482,18431,18431,3472901\\n2790,20200506,0,17751,18431,17740,17753,2547183\\n2791,20200509,0,17600,18825,17600,18825,2634862\\n2792,20200510,0,19583,19583,17800,19080,2700747\\n2793,20200511,0,19100,19100,18040,18040,2006512\\n2794,20200512,0,17589,18300,17585,17585,743208\\n2795,20200513,0,17360,18080,17360,17360,2840600\\n2796,20200516,0,17001,17997,16541,16541,869713\\n2797,20200517,0,16410,17200,16410,16650,3012485\\n2798,20200518,0,17329,17333,16705,17333,2466381\\n2799,20200519,0,17999,18032,17996,18032,996997\\n2800,20200520,0,18342,18342,18342,18342,988391\\n2801,20200523,0,18657,18657,18657,18657,1987184\\n2802,20200526,0,19315,19315,18657,19315,846311\\n2803,20200527,0,19605,19605,19605,19605,1550997\\n2804,20200530,0,20145,20145,20145,20145,359300\\n2805,20200531,0,20283,20283,20283,20283,2267233\\n2806,20200601,0,21165,21165,21165,21165,823844\\n2807,20200602,0,21499,21499,21499,21499,1033294\\n2808,20200606,0,21926,21926,21926,21926,566641\\n2809,20200607,0,22185,22185,22185,22185,1255902\\n2810,20200608,0,22767,22767,22580,22767,1090892\\n2811,20200609,0,23281,23281,23281,23281,286053\\n2812,20200610,0,23420,23420,23420,23420,853298\\n2813,20200613,0,23830,23830,23830,23830,1067684\\n2814,20200614,0,24410,24410,23250,24410,2519766\\n2815,20200615,0,25620,25620,25620,25620,446579\\n2816,20200616,0,25880,25880,25880,25880,465118\\n2817,20200620,0,26150,26150,26150,26150,496979\\n2818,20200621,0,26480,26480,26480,26480,877557\\n2819,20200622,0,27050,27050,27050,27050,400502\\n2820,20200623,0,27330,27330,27330,27330,908644\\n2821,20200624,0,27950,27950,27950,27950,385532\\n2822,20200627,0,28220,28220,28220,28220,617874\\n2823,20200628,0,28690,28690,28690,28690,1128578\\n2824,20200629,0,29560,29560,29560,29560,712422\\n2825,20200630,0,30130,30130,30130,30130,455946\\n2826,20200701,0,30500,30500,30500,30500,986400\\n2827,20200704,0,31310,31310,28330,28330,7429597\\n2828,20200705,0,28000,30400,28000,30400,2761606\\n2829,20200706,0,30930,31360,28900,31360,1987520\\n2830,20200707,0,32620,32620,32100,32620,1821058\\n2831,20200708,0,34190,34190,30950,30950,2967097\\n2832,20200711,0,30950,31570,30950,30970,1814763\\n2833,20200712,0,32470,32570,31000,31300,2699052\\n2834,20200713,0,33390,33390,30740,30740,3354767\\n2835,20200719,0,34700,34700,32970,32970,1001159\\n2836,20200720,0,32850,32850,31140,31140,7265037\\n2837,20200721,0,31110,31140,30000,30580,2994569\\n2838,20200722,0,30000,31990,30000,31990,2787067\\n2839,20200725,0,33470,33470,32700,33470,1612647\\n2840,20200726,0,35120,35120,35120,35120,1051191\\n2841,20200727,0,36290,36290,36290,36290,485755\\n2842,20200728,0,36850,36850,36850,36850,883763\\n2843,20200729,0,37890,37890,36290,37890,1350545\\n2844,20200801,0,39440,39440,39440,39440,1302263\\n2845,20200802,0,41370,41370,41370,41370,364256\\n2846,20200803,0,41930,41930,41930,41930,632576\\n2847,20200804,0,42930,42930,42930,42930,302457\\n2848,20200805,0,43410,43410,43410,43410,663452\\n2849,20200809,0,42930,44490,40270,44490,2770661\\n2850,20200810,0,45870,45870,41510,41990,2481414\\n2851,20200811,0,40990,40990,40990,40990,293014\\n2852,20200812,0,40480,42000,40480,40480,1537412\\n2853,20200815,0,38670,38670,38670,38670,237680\\n2854,20200816,0,38300,38300,38300,38300,73184\\n2855,20200817,0,38190,38190,38190,38190,94595\\n2856,20200818,0,38040,41040,38040,38040,2467327\\n2857,20200819,0,38840,40000,36900,36900,655189\\n2858,20200822,0,36750,39880,36740,36740,783296\\n2859,20200823,0,35870,35870,35870,35870,31466\\n2860,20200824,0,35820,35820,35820,35820,12718\\n2861,20200825,0,35800,36940,35800,35800,1790759\\n2862,20200826,0,34710,36980,34100,34100,1751114\\n2863,20200831,0,35000,35000,33250,33250,135969\\n2864,20200901,0,33470,33470,33470,33470,27068\\n2865,20200902,0,33440,33440,33440,33440,15026\\n2866,20200905,0,33430,33430,33430,33430,24979\\n2867,20200906,0,33400,33400,33400,33400,822008\\n2868,20200907,0,32440,32440,32440,32440,403\\n2869,20200908,0,32440,32440,32440,32440,550\\n2870,20200909,0,32440,32440,32440,32440,8441\\n2871,20200912,0,32430,32430,32430,32430,15309\\n2872,20200913,0,32410,32410,32410,32410,6709\\n2873,20200914,0,32400,32400,32400,32400,95895\\n2874,20200915,0,32300,32300,32300,32300,95599\\n2875,20200916,0,32190,32190,32190,32190,31673\\n2876,20200919,0,32150,32150,32150,32150,83214\\n2877,20200920,0,32060,32060,32060,32060,857\\n2878,20200921,0,30370,30370,30370,30370,134163\\n2879,20200922,0,31760,31760,31760,31760,713549\\n2880,20200923,0,30990,30990,30990,30990,27652\\n2881,20200926,0,30970,30970,30970,30970,27948\\n2882,20200927,0,30940,30940,30940,30940,15183\\n2883,20200929,0,30920,30920,30920,30920,3000\\n2884,20200930,0,30920,30920,30920,30920,410\\n2885,20201003,0,30920,30920,30920,30920,5575\\n2886,20201004,0,30910,30910,30910,30910,3078\\n2887,20201005,0,30910,30910,30910,30910,3492\\n2888,20201006,0,30910,30910,30910,30910,48781\\n2889,20201007,0,30860,30860,30860,30860,19083\\n2890,20201010,0,30840,30840,30840,30840,10089\\n2891,20201011,0,30830,30830,30830,30830,185714\\n2892,20201012,0,30640,30640,30640,30640,27463\\n2893,20201013,0,30610,30610,30610,30610,19296\\n2894,20201014,0,30590,30590,30590,30590,9280\\n2895,20201018,0,30590,30590,30590,30590,7668\\n2896,20201019,0,30580,30580,30580,30580,3500\\n2897,20201021,0,30580,30580,30580,30580,11468\\n2898,20201026,0,30570,30570,30570,30570,700\\n2899,20201031,0,30570,30570,30570,30570,603\\n2900,20201101,0,30570,30570,30570,30570,177\\n2901,20201104,0,30570,30570,30570,30570,1480\\n2902,20201111,0,30570,30570,30570,30570,1687\\n2903,20201114,0,30570,30570,30570,30570,2393\\n2904,20201115,0,30570,30570,30570,30570,985\\n2905,20201116,0,30570,30570,30570,30570,1717\\n2906,20201117,0,30570,30570,30570,30570,14225\\n2907,20201118,0,30560,30560,30560,30560,32431\\n2908,20201121,0,30530,30530,30530,30530,29632\\n2909,20201122,0,28890,28890,28890,28890,238094\\n2910,20201123,0,30030,30030,30030,30030,5402\\n2911,20201124,0,30020,30020,30020,30020,1705\\n2912,20201125,0,30020,30020,30020,30020,1180\\n2913,20201128,0,30020,30020,30020,30020,3284\\n2914,20201129,0,30020,30020,30020,30020,303869\\n2915,20201130,0,29740,31000,29740,29740,29132325\\n2916,20201201,0,28710,31680,28710,31680,11709208\\n2917,20201202,0,32000,32100,29670,29670,5261595\\n2918,20201205,0,29950,31400,29070,30600,4353253\\n2919,20201206,0,31400,31720,29310,31720,4278809\\n2920,20201207,0,32400,32670,31100,32600,6543759\\n2921,20201208,0,34000,34180,33200,34180,873726\\n2922,20201209,0,35070,35070,35000,35070,3286335\\n2923,20201212,0,36820,36820,33320,33320,4865054\\n2924,20201213,0,33040,34110,33020,33020,2129659\\n2925,20201214,0,33020,33020,31490,31490,1804150\\n2926,20201215,0,32400,33390,30720,33390,5271726\\n2927,20201216,0,34750,34750,33400,34750,1991066\\n2928,20201219,0,36460,36460,36460,36460,445084\\n2929,20201220,0,37020,37020,37020,37020,412823\\n2930,20201221,0,37540,37540,37540,37540,369642\\n2931,20201222,0,38030,38030,38030,38030,483569\\n2932,20201223,0,38670,38670,38670,38670,379820\\n2933,20201226,0,39180,39180,39180,39180,380746\\n2934,20201227,0,39740,39740,39740,39740,675065\\n2935,20201228,0,40740,40740,38930,40740,2914956\\n2936,20201229,0,42580,42580,40010,42580,7461039\\n2937,20201230,0,44200,44400,42580,44400,1340686\\n2938,20210102,0,46340,46340,44650,46340,4547545\\n2939,20210103,0,48630,48630,48150,48630,1516153\\n2940,20210109,0,51000,51050,48630,51050,1766227\\n2941,20210110,0,52870,52870,52870,52870,441120\\n2942,20210111,0,54010,54010,48870,54010,10137226\\n2943,20210112,0,54100,55720,50420,50420,8384674\\n2944,20210113,0,50780,50780,50780,50780,743774\\n2945,20210116,0,48950,48950,48950,48950,981695\\n2946,20210118,0,46510,46510,46510,46510,646661\\n2947,20210119,0,44960,44960,44960,44960,362311\\n2948,20210120,0,44900,48760,44900,48760,1964887\\n2949,20210123,0,50010,50010,50010,50010,894473\\n2950,20210124,0,52140,52140,52140,52140,1180562\\n2951,20210125,0,54740,54740,51430,54740,5862492\\n2952,20210126,0,57030,57030,56500,57030,3113955\\n2953,20210127,0,57020,57020,54170,54170,1842694\\n2954,20210130,0,52020,56940,52020,52020,11385573\\n2955,20210131,0,54000,55990,50700,50700,4054721\\n2956,20210201,0,49430,50600,48960,48960,2264580\\n2957,20210202,0,46620,48000,46620,46620,1115120\\n2958,20210203,0,46500,48960,44440,48960,3528277\\n2959,20210206,0,50470,50470,46000,46400,3419884\\n2960,20210207,0,48000,51220,47030,51220,2944151\\n2961,20210208,0,52700,52820,50640,51600,2255858\\n2962,20210209,0,52750,54140,51850,54140,2316606\\n2963,20210213,0,56500,57120,55000,57120,2851143\\n2964,20210214,0,58900,58900,55910,55910,1872130\\n2965,20210215,0,55850,55850,55850,55850,449760\\n2966,20210216,0,55310,55310,55310,55310,41286\\n2967,20210217,0,55260,55260,55260,55260,24977\\n2968,20210220,0,55230,55230,55230,55230,18832\\n2969,20210221,0,55210,55210,55210,55210,10548\\n2970,20210222,0,55200,55200,55200,55200,3570\\n2971,20210223,0,55200,56350,55200,55200,2253152\\n2972,20210224,0,55500,57500,54160,54160,1638384\\n2973,20210227,0,54240,54240,54240,54240,24506\\n2974,20210228,0,54210,54210,54210,54210,9308\\n2975,20210301,0,54200,54200,54200,54200,9921\\n2976,20210302,0,54190,54190,54190,54190,18374\\n2977,20210303,0,54170,54170,54170,54170,1523\\n2978,20210306,0,54170,54170,54170,54170,22267\\n2979,20210307,0,54140,54140,54140,54140,8664\\n2980,20210308,0,54130,54130,54130,54130,27475\\n2981,20210309,0,54100,54100,54100,54100,26327\\n2982,20210310,0,54070,54070,54070,54070,5178\\n2983,20210313,0,54060,54060,54060,54060,15194\\n2984,20210314,0,54040,54040,54040,54040,5840\\n2985,20210315,0,54030,54030,54030,54030,1207\\n2986,20210316,0,54030,54030,54030,54030,4051\\n2987,20210317,0,54030,54030,54030,54030,46388\\n2988,20210327,0,53970,53970,53970,53970,3243\\n2989,20210328,0,53970,53970,53970,53970,44736\\n2990,20210330,0,53920,53920,53920,53920,26964\\n2991,20210331,0,53900,53900,53900,53900,55307\\n2992,20210403,0,53830,53830,53830,53830,22617\\n2993,20210404,0,53800,53800,53800,53800,3292\\n2994,20210405,0,53800,53800,53800,53800,3457\\n2995,20210406,0,53800,53800,53800,53800,4577\\n2996,20210407,0,53790,53790,53790,53790,94\\n2997,20210410,0,53790,53790,53790,53790,278\\n2998,20210411,0,53790,53790,53790,53790,5111\\n2999,20210412,0,53780,53780,53780,53780,100\\n3000,20210413,0,53780,53780,53780,53780,530090\\n3001,20210414,0,53160,53160,53160,53160,17478\\n3002,20210417,0,53140,53140,53140,53140,190\\n3003,20210419,0,53140,53140,53140,53140,105\\n3004,20210420,0,53140,53140,53140,53140,100\\n3005,20210421,0,52600,52600,52600,52600,100\\n3006,20210424,0,52600,52600,52600,52600,100\\n3007,20210425,0,52600,52600,52600,52600,210\\n3008,20210426,0,52600,52600,52600,52600,203\\n3009,20210427,0,52600,52600,52600,52600,3292\\n3010,20210428,0,52590,52590,52590,52590,3000\\n3011,20210501,0,52580,52580,52580,52580,4357\\n3012,20210502,0,52570,52570,52570,52570,210\\n3013,20210503,0,52570,52570,52570,52570,10300\\n3014,20210508,0,52550,52550,52550,52550,474\\n3015,20210510,0,52550,52550,52550,52550,1200\\n3016,20210511,0,52550,52550,52550,52550,1953\\n3017,20210512,0,52550,52550,52550,52550,6088\\n3018,20210515,0,51460,51460,51460,51460,1338\\n3019,20210523,0,51400,51400,51400,51400,10100\\n3020,20210524,0,51300,51300,51300,51300,280\\n3021,20210525,0,51300,51300,51300,51300,711\\n3022,20210526,0,51300,51300,51300,51300,300\\n3023,20210529,0,51300,51300,51300,51300,953\\n3024,20210530,0,51290,51290,51290,51290,2725\\n3025,20210531,0,51260,51260,51260,51260,2900\\n3026,20210602,0,51230,51230,51230,51230,190\\n3027,20210607,0,51230,51230,51230,51230,300\\n3028,20210608,0,51230,51230,51230,51230,100\\n3029,20210609,0,51230,51230,51230,51230,100\\n3030,20210613,0,51230,51230,51230,51230,3403\\n3031,20210614,0,51200,51200,51200,51200,100\\n3032,20210619,0,51200,51200,51200,51200,11521\\n3033,20210621,0,51100,51100,51100,51100,658\\n3034,20210622,0,51090,51090,51090,51090,926\\n3035,20210623,0,51080,51080,51080,51080,198\\n3036,20210626,0,51080,51080,51080,51080,734\\n3037,20210628,0,48380,48380,48380,48380,96682\\n3038,20210629,0,49300,49300,49300,49300,1147\\n3039,20210703,0,49290,49290,49290,49290,232\\n3040,20210704,0,49290,49290,49290,49290,17165\\n3041,20210705,0,49150,49150,49150,49150,7842\\n3042,20210706,0,49080,49080,49080,49080,315\\n3043,20210707,0,49080,49080,49080,49080,1014\\n3044,20210710,0,46490,46490,46490,46490,39780\\n3045,20210711,0,48400,48400,48400,48400,1531\\n3046,20210713,0,48390,48390,48390,48390,99\\n3047,20210714,0,48390,48390,48390,48390,4840\\n3048,20210718,0,48350,48350,48350,48350,110\\n3049,20210719,0,48350,48350,48350,48350,610\\n3050,20210726,0,48340,48340,48340,48340,220\\n3051,20210728,0,45800,45800,45800,45800,35156\\n3052,20210731,0,47760,47760,47760,47760,15430\\n3053,20210801,0,47640,47640,47640,47640,1767\\n3054,20210802,0,47630,47630,47630,47630,10360\\n3055,20210803,0,47540,47540,47540,47540,10000\\n3056,20210804,0,47470,47470,47470,47470,750\\n3057,20210807,0,47460,47460,47460,47460,1003\\n3058,20210808,0,47450,47450,47450,47450,101\\n3059,20210809,0,47450,47450,47450,47450,1077\\n3060,20210810,0,47440,47440,47440,47440,112\\n3061,20210811,0,47440,47440,47440,47440,638\\n3062,20210814,0,47430,47430,47430,47430,780\\n3063,20210815,0,44920,44920,44920,44920,74417\\n3064,20210822,0,46240,46240,46240,46240,14499\\n3065,20210823,0,46140,46140,46140,46140,8737\\n3066,20210824,0,46070,46070,46070,46070,8325\\n3067,20210825,0,46000,46000,46000,46000,48361\\n3068,20210828,0,45640,50440,45640,50440,10236700\\n3069,20210829,0,50990,50990,48570,49020,3809698\\n3070,20210830,0,48300,52800,48260,48260,2005873\\n3071,20210831,0,47000,51900,46960,51900,3997136\\n3072,20210901,0,52980,53010,51950,53010,3111842\\n3073,20210904,0,55600,55600,50350,52000,2733906\\n3074,20210905,0,52720,52790,50370,52450,1740517\\n3075,20210906,0,53500,53800,51470,51900,1392305\\n3076,20210907,0,51200,53670,50600,51550,669224\\n3077,20210908,0,52600,54200,51050,54200,1809286\\n3078,20210911,0,55530,56500,53900,53930,1985965\\n3079,20210912,0,54990,54990,52400,52400,633837\\n3080,20210913,0,51230,54990,51000,53670,1010232\\n3081,20210914,0,54000,55040,52650,53890,1013989\\n3082,20210915,0,54300,54300,52000,52890,626971\\n3083,20210918,0,53200,53200,50160,50160,605854\\n3084,20210919,0,48220,50710,48150,48150,798957\\n3085,20210920,0,48700,51060,48700,50900,1153325\\n3086,20210921,0,51930,51930,48270,49970,769831\\n3087,20210922,0,49990,50650,47550,50000,802168\\n3088,20210925,0,51690,51690,49900,49900,755071\\n3089,20210926,0,50000,51490,48190,48320,594683\\n3090,20210928,0,50980,50980,47230,47500,770925\\n3091,20210929,0,47970,48410,45610,47000,668883\\n3092,20211002,0,47460,48490,45000,46750,602729\\n3093,20211003,0,45500,47790,44620,45010,1312732\\n3094,20211004,0,46250,47150,45010,47150,1191440\\n3095,20211006,0,47940,49050,47940,49050,867965\\n3096,20211009,0,50010,51430,49410,50300,787853\\n3097,20211010,0,50280,51970,48510,50000,952950\\n3098,20211011,0,50790,51000,47810,47820,694811\\n3099,20211012,0,47820,49970,46410,46410,371139\\n3100,20211013,0,44400,47440,44360,44360,707892\\n3101,20211016,0,45090,46770,45090,46770,724950\\n3102,20211017,0,49060,49080,46760,47780,725830\\n3103,20211018,0,47790,48550,45700,46500,433156\\n3104,20211019,0,47500,49000,45920,48900,665573\\n3105,20211020,0,48870,48870,45440,45800,772518\\n3106,20211023,0,47000,48480,44920,46140,532088\\n3107,20211025,0,44550,46300,43760,43760,604356\\n3108,20211026,0,44480,44490,41940,41940,321353\\n3109,20211027,0,40240,41240,40240,40470,886612\\n3110,20211030,0,40500,41740,38330,38330,448349\\n3111,20211031,0,37100,37100,37100,37100,74734\\n3112,20211101,0,36730,40170,36730,36730,885218\\n3113,20211102,0,35670,37900,35670,35700,1187142\\n3114,20211103,0,35610,38280,35600,37470,941903\\n3115,20211106,0,38840,38890,37600,38890,600260\\n3116,20211107,0,38890,40490,36690,37980,674948\\n3117,20211108,0,38540,39000,36600,36600,427617\\n3118,20211109,0,35580,39100,35580,38930,1360661\\n3119,20211110,0,39600,40250,39600,40250,866566\\n3120,20211113,0,40250,42150,40250,42150,831375\\n3121,20211114,0,43390,43590,42370,43590,540758\\n3122,20211115,0,45710,45710,44400,45710,1255966\\n3123,20211116,0,47500,47740,45470,47740,760690\\n3124,20211117,0,49740,49740,48550,49740,918751\\n3125,20211120,0,52140,52210,49800,52200,1740498\\n3126,20211121,0,54000,54000,49280,49280,941192\\n3127,20211122,0,51500,52500,47660,49490,1796771\\n3128,20211123,0,50890,50890,47280,47280,1146470\\n3129,20211124,0,48900,50710,46110,49620,1556778\\n3130,20211127,0,49800,51990,47310,47880,797145\\n3131,20211128,0,48600,48600,46390,46390,735053\\n3132,20211129,0,45950,47780,45030,45040,606314\\n3133,20211130,0,44330,48480,44330,45960,1217657\\n3134,20211201,0,47000,48160,46010,47980,1167632\\n3135,20211204,0,49470,49470,45520,46910,578045\\n3136,20211205,0,48000,48000,46000,46640,725501\\n3137,20211206,0,47350,48980,45920,46460,635125\\n3138,20211207,0,47760,47980,45360,45360,519145\\n3139,20211208,0,44290,44290,44290,44290,120003\\n3140,20211211,0,43500,46650,43450,43450,986961\\n3141,20211212,0,42240,42240,42240,42240,81861\\n3142,20211213,0,41720,41720,41720,41720,30011\\n3143,20211214,0,41530,41530,41530,41530,26161\\n3144,20211215,0,41370,41370,41370,41370,12449\\n3145,20211218,0,41290,41290,41290,41290,53528\\n3146,20211219,0,41030,42460,40970,40970,566747\\n3147,20211220,0,39050,40900,39040,39040,190807\\n3148,20211221,0,37970,37970,37970,37970,58580\\n3149,20211222,0,37640,41000,37640,39690,2425858\\n3150,20211225,0,40480,40950,38000,39210,816781\\n3151,20211226,0,38130,41000,38000,39250,930734\\n3152,20211227,0,39870,41100,38080,39480,571861\\n3153,20211228,0,40970,40970,39070,39200,412294\\n3154,20211229,0,38990,40000,38090,38090,675246\\n3155,20220101,0,38470,40320,38470,40200,2648355\\n3156,20220102,0,41470,41980,40100,41980,780786\\n3157,20220103,0,42730,43590,40450,41530,1117063\\n3158,20220104,0,43400,43400,40290,40290,631893\\n3159,20220105,0,39640,42100,39140,39140,767491\\n3160,20220108,0,37900,40900,37900,38680,708420\\n3161,20220109,0,39990,39990,37620,37620,502875\\n3162,20220110,0,37620,38490,36200,36410,700116\\n3163,20220111,0,37950,38510,37720,38510,885529\\n3164,20220112,0,38850,40350,38850,40290,1008721\\n3165,20220115,0,40830,41900,38300,39000,837193\\n3166,20220116,0,39110,39130,38000,38000,338709\\n3167,20220117,0,38000,39310,37010,38010,446449\\n3168,20220118,0,38010,38010,36140,36140,323168\\n3169,20220119,0,36970,38100,35060,36700,340897\\n3170,20220122,0,37500,38000,34860,35010,284757\\n3171,20220123,0,35540,35790,34100,34100,111693\\n3172,20220124,0,33650,33650,33650,33650,40254\\n3173,20220125,0,33490,33490,33490,33490,17411\\n3174,20220126,0,35010,36000,33430,33430,166106\\n3175,20220129,0,32870,33900,32870,33610,1308099\\n3176,20220130,0,33600,34670,32220,33000,891644\\n3177,20220131,0,33410,33800,31930,32000,1082752\\n3178,20220201,0,32750,33980,31830,33200,732889\\n3179,20220202,0,33970,33970,32010,32850,295019\\n3180,20220205,0,32600,34500,32080,34300,670219\\n3181,20220206,0,34300,35180,34300,35180,1237546\\n3182,20220207,0,36880,36890,36000,36890,732256\\n3183,20220208,0,38700,38700,38700,38700,234499\\n3184,20220209,0,39700,39700,39700,39700,274411\\n3185,20220212,0,40890,40890,39640,40890,2109515\\n3186,20220213,0,41450,42800,40890,42800,1360216\\n3187,20220214,0,44300,44530,43000,44530,2087837\\n3188,20220216,0,45990,45990,41990,42100,2396845\\n3189,20220219,0,43900,44500,41050,41630,1083932\\n3190,20220220,0,42800,42800,40000,40900,480050\\n3191,20220221,0,40900,42700,40060,41590,465382\\n3192,20220222,0,43090,43470,41770,42400,538868\\n3193,20220223,0,42400,43480,41000,42990,769627\\n3194,20220226,0,43550,43550,40400,40400,364670\\n3195,20220227,0,38850,41900,38850,41250,1284123\\n3196,20220228,0,41460,42000,39100,40420,297421\\n3197,20220302,0,41000,41500,39010,39040,347356\\n3198,20220305,0,40040,40890,38250,38500,497839\\n3199,20220306,0,39400,39400,37480,37480,226984\\n3200,20220307,0,37100,40000,37100,39320,662325\\n3201,20220308,0,37690,40690,37690,40690,1219462\\n3202,20220309,0,41890,42460,40660,41250,943614\\n3203,20220312,0,42000,43580,39910,39910,699241\\n3204,20220313,0,38840,38840,38840,38840,94723\\n3205,20220314,0,39000,40390,38330,38330,218614\\n3206,20220315,0,37180,37180,37180,37180,24887\\n3207,20220316,0,37050,40900,37050,39860,1766091\\n3208,20220319,0,40910,40910,39690,40500,1414810\\n3209,20220326,0,41000,41000,38600,38600,439062\\n3210,20220327,0,37080,40400,37080,38400,911225\\n3211,20220328,0,37500,39100,37500,37950,937614\\n3212,20220329,0,38920,40350,38600,40330,1255572\\n3213,20220330,0,40700,41860,40690,41860,1330019\\n3214,20220403,0,42340,43600,42050,43000,1075598\\n3215,20220404,0,43100,44970,40700,42430,996621\\n3216,20220405,0,43530,44440,41250,41250,547491\\n3217,20220406,0,40850,44100,39900,44100,3782812\\n3218,20220409,0,44750,44790,44200,44790,2803930\\n3219,20220410,0,46000,46290,43000,43380,1402701\\n3220,20220411,0,42920,44240,42450,42450,2019138\\n3221,20220412,0,41130,42500,40530,40530,503218\\n3222,20220413,0,39500,42500,38820,40500,2013572\\n3223,20220416,0,41010,42290,40560,41000,956778\\n3224,20220417,0,41410,42480,39240,40380,2340319\\n3225,20220418,0,40650,41830,38210,38580,2472620\\n3226,20220419,0,38880,40900,38010,40690,2850120\\n3227,20220420,0,41360,41360,38900,39370,841123\\n3228,20220424,0,39200,40260,38510,39900,850049\\n3229,20220425,0,40890,40890,37900,38660,1276050\\n3230,20220426,0,38990,40330,38000,39430,1391370\\n3231,20220427,0,39950,39950,38010,38820,924390\\n3232,20220430,0,38800,39000,37830,37850,1104832\\n3233,20220501,0,38200,38800,37280,37570,1091986\\n3234,20220502,0,37780,38500,37000,37920,1161737\\n3235,20220507,0,38000,39370,37990,39370,1275023\\n3236,20220508,0,39880,40490,38500,38850,892717\\n3237,20220509,0,39600,39600,37620,38470,1983888\\n3238,20220510,0,38450,38930,37930,38020,653473\\n3239,20220515,0,40000,40000,36470,36500,1334034\\n3240,20220516,0,35190,37970,35190,37400,1547460\\n3241,20220517,0,37260,37900,36080,36690,895125\\n3242,20220518,0,36700,36900,35090,35400,1212906\\n3243,20220521,0,34600,36980,34600,35790,1052548\\n3244,20220522,0,36150,36180,34450,34680,1387021\\n3245,20220523,0,34600,34600,33210,33210,1052389\\n3246,20220524,0,33500,34500,32410,33070,776335\\n3247,20220525,0,32360,35150,32350,34900,1175420\\n3248,20220528,0,35490,35660,34400,35370,1948301\\n3249,20220529,0,36330,36330,33590,33840,975683\\n3250,20220530,0,33380,34300,32230,32300,1220065\\n3251,20220531,0,31060,34180,31010,34180,907706\\n3252,20220601,0,34800,35360,33750,34350,800734\\n3253,20220613,0,35900,35900,33010,33010,1154467\\n3254,20220614,0,33760,33760,31500,31500,1234383\\n3255,20220615,0,31910,31910,30300,31000,638772\\n3256,20220618,0,31230,32320,30150,31810,469089\\n3257,20220619,0,32490,33010,31590,33010,787672\\n3258,20220620,0,34250,34250,31010,31790,1170726\\n3259,20220621,0,31130,32370,30830,30900,475899\\n3260,20220622,0,31150,31150,29560,29560,1210661\\n3261,20220625,0,29010,29930,28300,28500,1921000\\n3262,20220626,0,28630,29950,28630,29600,1234396\\n3263,20220627,0,29250,30380,28500,28990,604081\\n3264,20220628,0,29600,29620,28510,28700,569274\\n3265,20220629,0,29620,29620,27600,27990,1094319\\n3266,20220702,0,27350,28500,26790,26790,2886703\\n3267,20220703,0,27000,28430,26500,28430,1613088\\n3268,20220704,0,28540,29250,27160,27300,894138\\n3269,20220705,0,27300,27850,26800,27610,2041598\\n3270,20220706,0,27630,28450,26750,28450,2706041\\n3271,20220709,0,29730,29730,28820,29730,1802072\\n3272,20220711,0,30750,31170,29250,29980,5267351\\n3273,20220712,0,29980,31200,29430,30400,2198629\\n3274,20220713,0,30760,30760,28470,28780,2312683\\n3275,20220716,0,28250,30150,27520,29910,1118249\\n3276,20220717,0,29510,30740,28700,28900,1124590\\n3277,20220719,0,29800,29800,28470,28470,1595775\\n3278,20220720,0,28000,29970,28000,28650,767706\\n3279,20220723,0,29770,29990,27840,27850,1029736\\n3280,20220724,0,27840,28160,26990,26990,948904\\n3281,20220725,0,26300,27270,25800,25810,1947563\\n3282,20220726,0,24700,26180,24580,24580,617454\\n3283,20220727,0,23890,25900,23560,24300,2117100\\n3284,20220730,0,24700,25000,23470,25000,1935184\\n3285,20220731,0,25000,25690,23520,23930,534208\\n3286,20220801,0,24010,24920,23200,23200,1417348\\n3287,20220802,0,23390,24180,22400,23250,538772\\n3288,20220803,0,22850,23900,22800,23540,701825\\n3289,20220806,0,23540,24710,23540,24710,582557\\n3290,20220809,0,23910,25660,23910,25660,1545879\\n3291,20220810,0,24970,26480,24320,25500,1113791\\n3292,20220813,0,25040,26300,24810,25660,1041688\\n3293,20220814,0,25400,25800,24190,24190,807150\\n3294,20220815,0,23450,24610,23400,24290,846849\\n3295,20220816,0,24050,25040,24050,25040,937529\\n3296,20220817,0,25250,25990,25250,25990,483283\\n3297,20220820,0,26700,26950,25000,26800,1450539\\n3298,20220821,0,27390,27840,26600,27840,1252480\\n3299,20220822,0,27990,28800,27700,28150,1666464\\n3300,20220823,0,27480,28500,27160,28110,1511433\\n3301,20220824,0,28050,29150,27800,28600,3026020\\n3302,20220827,0,27450,29670,27450,28890,1250553\\n3303,20220828,0,28380,29300,27750,29000,413182\\n3304,20220829,0,29100,29200,28000,28880,1060024\\n3305,20220830,0,28250,29690,28250,29200,368449\\n3306,20220831,0,28540,30420,28540,30420,919346\\n3307,20220903,0,30700,31690,30430,31690,1658929\\n3308,20220904,0,32540,33120,32150,33120,1221565\\n3309,20220905,0,34620,34620,34620,34620,396901\\n3310,20220906,0,36000,36000,32580,32580,3672778\\n3311,20220907,0,32100,32750,32100,32100,587897\\n3312,20220910,0,30550,31490,30520,30520,1374027\\n3313,20220911,0,29050,29050,29050,29050,110836\\n3314,20220912,0,28700,28700,28700,28700,149164\\n3315,20220913,0,28250,30260,28250,29550,4358728\\n3316,20220914,0,29220,30130,29220,29310,1463455\\n3317,20220918,0,29990,29990,28160,28160,464708\\n3318,20220919,0,27160,27610,26950,26950,845751\\n3319,20220920,0,25850,26680,25630,26200,2089443\\n3320,20220921,0,25750,26600,25040,26170,888668\\n3321,20220924,0,25990,26000,24680,24680,471780\\n3322,20220926,0,24020,25120,23800,24490,1145900\\n3323,20220928,0,24210,25140,24210,25000,372588\\n3324,20221001,0,25350,25350,23390,23390,362472\\n3325,20221004,0,23910,25200,23070,25200,660017\\n3326,20221008,0,25750,26290,25600,26290,288831\\n3327,20221009,0,26850,26850,26850,26850,314069\\n3328,20221010,0,27560,27560,27560,27560,143310\\n3329,20221011,0,27880,27880,27880,27880,155848\\n3330,20221012,0,28240,28240,25710,25800,2201450\\n3331,20221015,0,25790,25790,25790,25790,70252\\n3332,20221016,0,25630,25630,25630,25630,163979\\n3333,20221017,0,25250,27660,25250,27010,2870743\\n3334,20221018,0,26610,27740,26610,26940,1307734\\n3335,20221019,0,26430,27750,26210,26210,1008786\\n3336,20221022,0,26210,26210,25300,25300,894704\\n3337,20221023,0,25000,25180,24120,24120,890274\\n3338,20221024,0,24130,25200,23230,24000,610583\\n3339,20221025,0,24000,24800,22970,23000,1068101\\n3340,20221026,0,23570,23570,22270,22270,410793\\n3341,20221029,0,22680,22680,21580,21580,1303600\\n3342,20221030,0,20800,21590,20680,20680,431353\\n3343,20221031,0,20400,22260,20400,22260,710565\\n3344,20221101,0,23200,23220,22800,23220,862487\\n3345,20221102,0,23950,23950,22050,22050,1616527\\n3346,20221105,0,22380,22480,21530,21880,594404\\n3347,20221106,0,22560,22560,21500,21750,1012585\\n3348,20221107,0,21830,22870,21830,22870,1112363\\n3349,20221108,0,22660,23670,22660,22970,1919096\\n3350,20221109,0,23000,24190,22950,23970,632774\\n3351,20221112,0,24300,24300,23600,23880,402941\\n3352,20221113,0,23600,23980,23300,23890,388187\\n3353,20221114,0,23410,24200,22850,23100,478281\\n3354,20221115,0,23100,24510,23100,24510,753362\\n3355,20221116,0,24700,25500,24520,24520,428142\\n3356,20221119,0,24300,25450,23560,24200,2086824\\n3357,20221120,0,24050,25900,24000,25540,1517410\\n3358,20221121,0,25530,25800,24110,24180,619367\\n3359,20221122,0,24040,24600,23320,23500,896868\\n3360,20221123,0,23500,24000,22650,23220,739442\\n3361,20221126,0,23320,23600,22960,23050,320209\\n3362,20221127,0,22950,23250,22900,22930,222864\\n3363,20221128,0,22930,23350,22650,22780,419116\\n3364,20221129,0,22900,23900,22900,23680,794619\\n3365,20221130,0,23890,24100,23200,23200,467651\\n3366,20221203,0,23670,23680,22950,22960,375039\\n3367,20221204,0,24000,24000,22940,23000,451280\\n3368,20221205,0,23470,23550,22470,22710,541578\\n3369,20221206,0,23390,23390,22760,22780,361027\\n3370,20221207,0,23390,23700,23050,23330,446007\\n3371,20221210,0,23040,23600,22900,22980,247734\\n3372,20221211,0,22980,23460,22980,23330,253325\\n3373,20221212,0,23600,24000,23320,23680,321644\\n3374,20221213,0,23980,24590,23560,24550,520127\\n3375,20221214,0,24590,24860,23770,24000,319575\\n3376,20221217,0,24400,25290,23980,25150,1022715\\n3377,20221218,0,24910,26200,24900,26160,767669\\n3378,20221219,0,25730,26490,24900,25120,771722\\n3379,20221220,0,25100,26000,24350,24860,461056\\n3380,20221221,0,25140,25550,24490,24880,429054\\n3381,20221224,0,24860,25700,24750,25250,645376\\n3382,20221225,0,25300,25990,25060,25350,1209125\\n3383,20221226,0,25290,26530,24850,25900,1176499\\n3384,20221228,0,26900,27170,26180,26510,1316102\\n3385,20221231,0,26640,27450,25310,26850,2464979\\n3386,20230101,0,26310,27000,25500,25950,566477\\n3387,20230102,0,26300,26390,25860,26000,979273\\n3388,20230103,0,26020,26990,25510,25520,1294089\\n3389,20230104,0,25980,26000,25000,25300,799610\\n3390,20230107,0,25100,26000,25050,25570,849109\\n3391,20230108,0,25500,26930,25500,26050,1815887\\n3392,20230109,0,26200,27080,25600,26660,1848252\\n3393,20230110,0,26580,27440,25900,26400,1229094\\n3394,20230111,0,26800,26800,25520,25850,1528538\\n3395,20230114,0,25910,26000,25080,25900,1699460\\n3396,20230116,0,26500,26880,26500,26880,1585789\\n3397,20230117,0,27500,28170,26830,28170,2576202\\n3398,20230118,0,28500,29370,28170,28280,1128690\\n3399,20230121,0,29310,29320,27330,27360,1147413\\n3400,20230122,0,27100,27500,26550,27230,1562553\\n3401,20230123,0,26920,28180,26460,27730,2671843\\n3402,20230124,0,27820,29130,27820,29130,1693755\\n3403,20230125,0,30370,30370,28970,30370,8169611\\n3404,20230128,0,30880,31320,30110,31320,3167284\\n3405,20230129,0,32590,32730,29630,31300,6922245\\n3406,20230130,0,31440,32720,31440,32720,4774568\\n3407,20230131,0,33800,34310,32770,34310,1165039\\n3408,20230201,0,35960,35960,33010,33580,5158585\\n3409,20230205,0,33380,34180,33220,33220,747366\\n3410,20230206,0,31630,31630,31630,31630,200046\\n3411,20230207,0,30900,32490,30900,30900,7645494\\n3412,20230208,0,30710,31370,29540,29540,3525907\\n3413,20230212,0,28990,30960,28710,30030,2532962\\n3414,20230213,0,30900,31310,29860,31100,2918264\\n3415,20230214,0,30260,31830,29700,30000,2750889\\n3416,20230215,0,30530,30790,29020,29020,836193\\n3417,20230219,0,28180,29280,27840,27840,2385097\\n3418,20230220,0,27340,29440,27340,29120,1663280\\n3419,20230221,0,29130,30300,27870,28000,1641241\\n3420,20230222,0,27740,28490,27430,27830,2056842\\n3421,20230225,0,28400,28950,28040,28950,2181566\\n3422,20230226,0,29200,30130,28020,28020,1413745\\n3423,20230227,0,28900,29360,27420,28050,1487143\\n3424,20230228,0,28000,29400,28000,29400,1287824\\n3425,20230301,0,30190,30590,29150,29770,2296403\\n3426,20230304,0,29200,29980,28770,28800,1928376\\n3427,20230305,0,29510,30330,28890,30330,2088996\\n3428,20230306,0,30520,31540,30110,31000,1806873\\n3429,20230307,0,31300,32000,30030,30320,1288238\\n3430,20230311,0,30850,30850,29350,29500,2252799\\n3431,20230312,0,30000,31400,29210,31400,3151335\\n3432,20230313,0,31750,31850,30000,30190,1318937\\n3433,20230314,0,30790,31490,29890,30700,991055\\n3434,20230315,0,31400,31400,30200,30540,1068169\\n3435,20230318,0,30880,32290,30880,32090,1978205\\n3436,20230319,0,32380,32470,31380,32000,1200999\\n3437,20230325,0,32430,33520,31650,33520,1583643\\n3438,20230326,0,34500,34500,32800,33200,1532778\\n3439,20230327,0,33800,35240,33120,35180,2220317\\n3440,20230328,0,36300,36670,35120,36670,2299368\\n3441,20230329,0,37790,38340,37490,38340,821971\\n3442,20230403,0,39400,40230,37630,40230,1628581\\n3443,20230404,0,40230,41810,37830,41560,5413369\\n3444,20230405,0,41860,41860,41000,41860,1784427\\n3445,20230408,0,43300,43660,42030,42990,1381716\\n3446,20230409,0,43000,45430,42500,44700,1925183\\n3447,20230410,0,46220,46860,46220,46860,271737\\n3448,20230416,0,48520,48520,48520,48520,542867\\n3449,20230417,0,50940,50940,50940,50940,489923\\n3450,20230418,0,53480,53480,51350,53480,3129471\\n3451,20230419,0,55830,55830,55830,55830,395260\\n3452,20230424,0,58620,58620,58620,58620,270905\\n3453,20230425,0,61550,61550,61550,61550,173130\\n3454,20230426,0,63530,63530,63530,63530,245784\\n3455,20230429,0,66430,66430,64000,65880,4581630\\n3456,20230430,0,66200,69600,62980,69600,4263292\\n3457,20230501,0,70370,70370,70370,70370,258946\\n3458,20230502,0,73880,73880,73880,73880,269375\\n3459,20230503,0,77570,77570,77570,77570,135055\\n3460,20230507,0,76270,79770,75150,79770,3277929\\n3461,20230508,0,82870,82870,74990,74990,3190929\\n3462,20230509,0,74240,82040,74240,82040,2841142\\n3463,20230510,0,83190,83190,75790,83190,3636364\\n3464,20230513,0,85400,85400,77430,79900,2063172\\n3465,20230514,0,82650,82650,79000,79810,1385119\\n3466,20230515,0,81000,81000,77000,77000,2766138\\n3467,20230517,0,78000,81100,74030,78010,933047\\n3468,20230520,0,79990,82990,79990,81020,757545\\n3469,20230521,0,82700,84970,81200,84970,1493667\\n3470,20230522,0,88440,88900,85550,88900,657255\\n3471,20230523,0,93280,93280,93280,93280,125601\\n3472,20230524,0,96360,96360,96360,96360,138302\\n3473,20230527,0,99870,99870,99870,99870,317735\\n3474,20230528,0,104860,104860,104860,104860,169242\\n3475,20230530,0,110100,110100,110100,110100,146772\\n3476,20230531,0,115220,115220,104260,115220,6124647\\n3477,20230603,0,115990,115990,105770,105770,1397452\\n3478,20230606,0,102200,111310,102200,111310,695117\\n3479,20230607,0,115610,115610,112000,115610,2139000\\n3480,20230610,0,115480,116000,109710,109710,2251411\\n3481,20230611,0,110000,116250,110000,116250,1377308\\n3482,20230612,0,119490,120920,113000,120880,1982705\\n3483,20230613,0,123900,125490,117020,119000,1620120\\n3484,20230614,0,117900,121980,115440,115440,2065857\\n3485,20230621,0,111300,121840,110900,121840,588791\\n3486,20230624,0,127710,127710,116520,117310,1020569\\n3487,20230625,0,120100,122900,115900,115900,1060005\\n3488,20230626,0,111120,115600,110280,110280,234916\\n3489,20230627,0,105230,105230,105230,105230,161496\\n3490,20230628,0,105230,110490,105200,110490,1257283\\n3491,20230701,0,115200,115200,104320,104320,1579823\\n3492,20230702,0,102800,106950,102800,103600,1834415\\n3493,20230703,0,103030,106100,97900,104060,1028616\\n3494,20230704,0,105890,107660,104300,107660,1090772\\n3495,20230705,0,109000,112910,108980,112910,1226583\\n3496,20230708,0,117800,118320,113200,116000,1341517\\n3497,20230709,0,117900,122020,112060,112060,852520\\n3498,20230710,0,107330,113000,107020,112000,840865\\n3499,20230711,0,114700,114730,109480,111220,1755682\\n3500,20230712,0,112000,119790,109450,118100,1068269\\n3501,20230715,0,119700,119700,113550,113840,674695\\n3502,20230716,0,113850,117700,110250,110250,842458\\n3503,20230717,0,106110,109900,105270,105270,510062\\n3504,20230718,0,100200,109300,100050,101450,2075978\\n3505,20230719,0,102000,103390,96300,96300,1090363\\n3506,20230722,0,94500,99800,93860,93860,442786\\n3507,20230723,0,90450,90500,90450,90450,354620\\n3508,20230726,0,0,94970,94970,94970,304802\\n3509,20230729,0,99710,99710,99710,99710,382064\\n3510,20230730,0,104690,104690,101820,104690,4793256\\n3511,20230731,0,109100,109650,100620,103520,2074985\\n3512,20230801,0,104800,104800,100410,100410,950939\\n3513,20230805,0,95870,98990,95860,96380,3053771\\n3514,20230806,0,96300,99900,93750,96500,916429\\n3515,20230807,0,97870,97870,92510,92510,823991\\n3516,20230808,0,91120,93000,89250,89250,1281723\\n3517,20230809,0,86100,93800,85100,92350,1774924\\n3518,20230812,0,93700,94200,90030,90030,974248\\n3519,20230813,0,91000,92900,87450,87450,1502474\\n3520,20230814,0,87150,91500,83530,84500,763890\\n3521,20230815,0,86840,86850,82070,82070,1491459\\n3522,20230816,0,82100,86370,82010,86370,789296\\n3523,20230819,0,90100,90100,83550,85930,871020\\n3524,20230820,0,86100,87300,83120,83600,601829\\n3525,20230821,0,83220,86680,83220,83550,380837\\n3526,20230822,0,84330,85000,82000,82270,638180\\n3527,20230823,0,85800,85830,81100,84140,247713\\n3528,20230826,0,85820,86200,83330,85000,451970\\n3529,20230827,0,85900,88650,84580,87400,1225388\\n3530,20230828,0,86000,87890,83750,83900,403450\\n3531,20230829,0,85800,85800,82550,83000,254521\\n3532,20230830,0,79540,81890,79540,79540,1753631\\n3533,20230902,0,76900,81810,76100,79810,1189530\\n3534,20230903,0,81500,82670,78740,82670,858805\\n3535,20230904,0,84000,86040,82680,84350,1073020\\n3536,20230905,0,83510,85360,80860,80860,478485\\n3537,20230909,0,82990,82990,78010,78010,715347\\n3538,20230910,0,80040,81100,77310,79400,240583\\n3539,20230911,0,79600,81490,78000,78210,265051\\n3540,20230912,0,78000,80220,76820,77790,324676\\n3541,20230913,0,77150,79150,75250,76100,413871\\n3542,20230917,0,79500,79500,76220,77970,286081\\n3543,20230918,0,78550,78550,76000,76500,235045\\n3544,20230919,0,76010,76010,72910,73300,1266040\\n3545,20230920,0,73000,74000,70400,70940,687177\\n3546,20230923,0,70600,70600,67510,67510,958871\\n3547,20230925,0,64600,71300,64600,68500,4019067\\n3548,20230926,0,69390,69400,66000,66810,1149596\\n3549,20230927,0,66700,69200,64450,64570,1163823\\n3550,20230930,0,64020,64990,61900,61900,581181\\n3551,20231001,0,59250,61500,59250,59970,2890752\\n3552,20231002,0,61000,62880,60010,62880,990183\\n3553,20231004,0,65460,65480,64010,65480,2639907\\n3554,20231007,0,68630,68630,68630,68630,351895\\n3555,20231008,0,72060,72060,65900,72060,6205238\\n3556,20231009,0,73500,74140,71950,74140,1903005\\n3557,20231010,0,76900,77760,75010,77760,2029138\\n3558,20231011,0,81220,81220,81220,81220,468619\\n3559,20231014,0,85280,85280,78880,80000,7329146\\n3560,20231015,0,80000,81700,79630,79630,1553666\\n3561,20231016,0,76020,76020,76020,76020,394363\\n3562,20231017,0,72220,76900,72220,75000,7694491\\n3563,20231018,0,74000,75000,69740,71430,2839030\\n3564,20231021,0,71240,73570,69110,70490,1589691\\n3565,20231022,0,70880,70880,67340,68760,2680527\\n3566,20231023,0,69300,71430,67350,71430,1225527\\n3567,20231024,0,73870,74210,71880,74210,5469012\\n3568,20231025,0,73830,75600,70120,71010,2646509\\n3569,20231028,0,68560,70790,68420,68420,407434\\n3570,20231029,0,65130,67990,65130,65820,3528898\\n3571,20231030,0,67000,68880,66750,68880,1641593\\n3572,20231031,0,69500,69500,65170,65170,1624812\\n3573,20231101,0,62760,64700,62750,62750,1762048\\n3574,20231104,0,63200,66020,63200,64090,1315076\\n3575,20231105,0,64900,64900,62770,63000,761087\\n3576,20231106,0,63200,64050,61770,62100,651548\\n3577,20231107,0,63980,65500,61400,63760,856300\\n3578,20231108,0,64990,65190,62280,62840,536386\\n3579,20231111,0,64000,66480,62420,66480,1467083\\n3580,20231112,0,68250,68950,66550,67240,1953239\\n3581,20231113,0,69470,69470,64680,65290,1276741\\n3582,20231114,0,64680,67000,63700,65500,393523\\n3583,20231115,0,66500,66500,64000,64500,417184\\n3584,20231118,0,66560,67310,64050,67190,983658\\n3585,20231119,0,66800,67990,65010,65200,651093\\n3586,20231120,0,65290,66480,63340,63490,813009\\n3587,20231121,0,63500,65410,62110,63500,617267\\n3588,20231122,0,63270,64890,62130,63250,721128\\n3589,20231125,0,62410,64290,62000,62440,540756\\n3590,20231126,0,62900,62900,61120,62400,630816\\n3591,20231127,0,62420,65130,61150,65130,1038314\\n3592,20231128,0,67860,67860,65580,67810,2135936\\n3593,20231129,0,67980,70350,66720,67930,1973236\\n3594,20231202,0,67210,68790,65500,65500,1462022\\n3595,20231203,0,63720,68370,63720,66600,797831\\n3596,20231204,0,66000,67820,65360,66100,557720\\n3597,20231205,0,66700,67050,65600,66190,605095\\n3598,20231206,0,66400,69200,65050,67170,1053864\\n3599,20231209,0,66940,66940,65050,65310,533033\\n3600,20231210,0,65800,66800,64440,65600,232096\\n3601,20231211,0,65000,68780,64450,68780,1419760\\n3602,20231212,0,69500,70900,68400,68700,892482\\n3603,20231213,0,69500,70000,67320,68890,797845\\n3604,20231216,0,69000,71770,68260,69950,901971\\n3605,20231218,0,70990,73500,69900,71360,1053334\\n3606,20231219,0,69250,72350,69250,70300,474877\\n3607,20231220,0,70950,70950,67350,67870,1106215\\n3608,20231223,0,67600,69190,65840,66400,605541\\n3609,20231224,0,67100,68980,67100,68980,485339\\n3610,20231225,0,69470,69470,67150,67330,438782\\n3611,20231226,0,68990,68990,66200,66200,401824\\n3612,20231227,0,66100,67450,64800,65790,527222\\n3613,20231230,0,65990,68000,65000,65870,281506\\n3614,20231231,0,67170,67170,64620,64980,309109\\n3615,20240101,0,65690,67280,64530,66360,369654\\n3616,20240102,0,67270,67270,64550,65560,373547\\n3617,20240103,0,66250,66250,64700,64830,262472\\n3618,20240106,0,64200,66080,63820,65190,494217\\n3619,20240107,0,65290,67250,64500,65600,257962\\n3620,20240108,0,64600,66990,64300,65290,452892\\n3621,20240109,0,65870,66850,64700,65400,337865\\n3622,20240110,0,66600,66600,64500,65150,572975\\n3623,20240113,0,65160,66500,64240,64900,431396\\n3624,20240114,0,64900,68620,64600,68620,528504\\n3625,20240115,0,71790,71790,71790,71790,393311\\n3626,20240116,0,75370,75370,75370,75370,393297\\n3627,20240117,0,79130,79130,75530,75900,7961999\\n3628,20240120,0,75050,77790,74420,74420,1134639\\n3629,20240121,0,71090,74410,70980,70980,3700941\\n3630,20240122,0,71900,74300,70100,70160,1022402\\n3631,20240123,0,70870,71000,68360,68360,1171170\\n3632,20240124,0,66210,68900,65500,66960,978122\\n3633,20240127,0,69450,69450,65630,66970,360324\\n3634,20240128,0,66270,67650,65050,66110,584341\\n3635,20240129,0,66500,66750,63800,64150,822006\\n3636,20240130,0,64410,65790,62300,62300,535135\\n3637,20240131,0,62310,65940,62310,64590,686677\\n3638,20240203,0,65000,65850,63700,63960,484315\\n3639,20240204,0,64470,65240,62970,63020,280921\\n3640,20240205,0,64950,64950,62980,63000,369649\\n3641,20240206,0,64890,64890,62810,63900,295866\\n'"
     },
     "execution_count": 91,
     "metadata": {},
     "output_type": "execute_result"
    }
   ],
   "source": [
    "str"
   ],
   "metadata": {
    "collapsed": false,
    "pycharm": {
     "name": "#%%\n"
    }
   }
  },
  {
   "cell_type": "code",
   "execution_count": 92,
   "outputs": [
    {
     "data": {
      "text/plain": "Index(['<DTYYYYMMDD>', '<TIME>', '<Open>', '<HIGH>', '<LOW>', '<CLOSE>',\n       '<VOL>'],\n      dtype='object')"
     },
     "execution_count": 92,
     "metadata": {},
     "output_type": "execute_result"
    }
   ],
   "source": [
    "df.columns"
   ],
   "metadata": {
    "collapsed": false,
    "pycharm": {
     "name": "#%%\n"
    }
   }
  },
  {
   "cell_type": "code",
   "execution_count": 24,
   "outputs": [
    {
     "data": {
      "text/plain": "'آباد'"
     },
     "execution_count": 24,
     "metadata": {},
     "output_type": "execute_result"
    }
   ],
   "source": [
    "symbols.loc[:,'Name(EN)'].index[0]"
   ],
   "metadata": {
    "collapsed": false,
    "pycharm": {
     "name": "#%%\n"
    }
   }
  },
  {
   "cell_type": "code",
   "execution_count": null,
   "outputs": [],
   "source": [],
   "metadata": {
    "collapsed": false,
    "pycharm": {
     "name": "#%%\n"
    }
   }
  },
  {
   "cell_type": "code",
   "execution_count": 27,
   "outputs": [
    {
     "ename": "KeyError",
     "evalue": "\"['Ticker'] not in index\"",
     "output_type": "error",
     "traceback": [
      "\u001B[1;31m---------------------------------------------------------------------------\u001B[0m",
      "\u001B[1;31mKeyError\u001B[0m                                  Traceback (most recent call last)",
      "Cell \u001B[1;32mIn[27], line 1\u001B[0m\n\u001B[1;32m----> 1\u001B[0m \u001B[43msymbols\u001B[49m\u001B[38;5;241;43m.\u001B[39;49m\u001B[43mloc\u001B[49m\u001B[43m[\u001B[49m\u001B[43m:\u001B[49m\u001B[43m,\u001B[49m\u001B[43m[\u001B[49m\u001B[38;5;124;43m'\u001B[39;49m\u001B[38;5;124;43mTicker\u001B[39;49m\u001B[38;5;124;43m'\u001B[39;49m\u001B[43m,\u001B[49m\u001B[38;5;124;43m'\u001B[39;49m\u001B[38;5;124;43mName(EN)\u001B[39;49m\u001B[38;5;124;43m'\u001B[39;49m\u001B[43m]\u001B[49m\u001B[43m]\u001B[49m\n",
      "File \u001B[1;32m~\\PycharmProjects\\venv\\lib\\site-packages\\pandas\\core\\indexing.py:1067\u001B[0m, in \u001B[0;36m_LocationIndexer.__getitem__\u001B[1;34m(self, key)\u001B[0m\n\u001B[0;32m   1065\u001B[0m     \u001B[38;5;28;01mif\u001B[39;00m \u001B[38;5;28mself\u001B[39m\u001B[38;5;241m.\u001B[39m_is_scalar_access(key):\n\u001B[0;32m   1066\u001B[0m         \u001B[38;5;28;01mreturn\u001B[39;00m \u001B[38;5;28mself\u001B[39m\u001B[38;5;241m.\u001B[39mobj\u001B[38;5;241m.\u001B[39m_get_value(\u001B[38;5;241m*\u001B[39mkey, takeable\u001B[38;5;241m=\u001B[39m\u001B[38;5;28mself\u001B[39m\u001B[38;5;241m.\u001B[39m_takeable)\n\u001B[1;32m-> 1067\u001B[0m     \u001B[38;5;28;01mreturn\u001B[39;00m \u001B[38;5;28;43mself\u001B[39;49m\u001B[38;5;241;43m.\u001B[39;49m\u001B[43m_getitem_tuple\u001B[49m\u001B[43m(\u001B[49m\u001B[43mkey\u001B[49m\u001B[43m)\u001B[49m\n\u001B[0;32m   1068\u001B[0m \u001B[38;5;28;01melse\u001B[39;00m:\n\u001B[0;32m   1069\u001B[0m     \u001B[38;5;66;03m# we by definition only have the 0th axis\u001B[39;00m\n\u001B[0;32m   1070\u001B[0m     axis \u001B[38;5;241m=\u001B[39m \u001B[38;5;28mself\u001B[39m\u001B[38;5;241m.\u001B[39maxis \u001B[38;5;129;01mor\u001B[39;00m \u001B[38;5;241m0\u001B[39m\n",
      "File \u001B[1;32m~\\PycharmProjects\\venv\\lib\\site-packages\\pandas\\core\\indexing.py:1256\u001B[0m, in \u001B[0;36m_LocIndexer._getitem_tuple\u001B[1;34m(self, tup)\u001B[0m\n\u001B[0;32m   1253\u001B[0m \u001B[38;5;28;01mif\u001B[39;00m \u001B[38;5;28mself\u001B[39m\u001B[38;5;241m.\u001B[39m_multi_take_opportunity(tup):\n\u001B[0;32m   1254\u001B[0m     \u001B[38;5;28;01mreturn\u001B[39;00m \u001B[38;5;28mself\u001B[39m\u001B[38;5;241m.\u001B[39m_multi_take(tup)\n\u001B[1;32m-> 1256\u001B[0m \u001B[38;5;28;01mreturn\u001B[39;00m \u001B[38;5;28;43mself\u001B[39;49m\u001B[38;5;241;43m.\u001B[39;49m\u001B[43m_getitem_tuple_same_dim\u001B[49m\u001B[43m(\u001B[49m\u001B[43mtup\u001B[49m\u001B[43m)\u001B[49m\n",
      "File \u001B[1;32m~\\PycharmProjects\\venv\\lib\\site-packages\\pandas\\core\\indexing.py:924\u001B[0m, in \u001B[0;36m_LocationIndexer._getitem_tuple_same_dim\u001B[1;34m(self, tup)\u001B[0m\n\u001B[0;32m    921\u001B[0m \u001B[38;5;28;01mif\u001B[39;00m com\u001B[38;5;241m.\u001B[39mis_null_slice(key):\n\u001B[0;32m    922\u001B[0m     \u001B[38;5;28;01mcontinue\u001B[39;00m\n\u001B[1;32m--> 924\u001B[0m retval \u001B[38;5;241m=\u001B[39m \u001B[38;5;28;43mgetattr\u001B[39;49m\u001B[43m(\u001B[49m\u001B[43mretval\u001B[49m\u001B[43m,\u001B[49m\u001B[43m \u001B[49m\u001B[38;5;28;43mself\u001B[39;49m\u001B[38;5;241;43m.\u001B[39;49m\u001B[43mname\u001B[49m\u001B[43m)\u001B[49m\u001B[38;5;241;43m.\u001B[39;49m\u001B[43m_getitem_axis\u001B[49m\u001B[43m(\u001B[49m\u001B[43mkey\u001B[49m\u001B[43m,\u001B[49m\u001B[43m \u001B[49m\u001B[43maxis\u001B[49m\u001B[38;5;241;43m=\u001B[39;49m\u001B[43mi\u001B[49m\u001B[43m)\u001B[49m\n\u001B[0;32m    925\u001B[0m \u001B[38;5;66;03m# We should never have retval.ndim < self.ndim, as that should\u001B[39;00m\n\u001B[0;32m    926\u001B[0m \u001B[38;5;66;03m#  be handled by the _getitem_lowerdim call above.\u001B[39;00m\n\u001B[0;32m    927\u001B[0m \u001B[38;5;28;01massert\u001B[39;00m retval\u001B[38;5;241m.\u001B[39mndim \u001B[38;5;241m==\u001B[39m \u001B[38;5;28mself\u001B[39m\u001B[38;5;241m.\u001B[39mndim\n",
      "File \u001B[1;32m~\\PycharmProjects\\venv\\lib\\site-packages\\pandas\\core\\indexing.py:1301\u001B[0m, in \u001B[0;36m_LocIndexer._getitem_axis\u001B[1;34m(self, key, axis)\u001B[0m\n\u001B[0;32m   1298\u001B[0m     \u001B[38;5;28;01mif\u001B[39;00m \u001B[38;5;28mhasattr\u001B[39m(key, \u001B[38;5;124m\"\u001B[39m\u001B[38;5;124mndim\u001B[39m\u001B[38;5;124m\"\u001B[39m) \u001B[38;5;129;01mand\u001B[39;00m key\u001B[38;5;241m.\u001B[39mndim \u001B[38;5;241m>\u001B[39m \u001B[38;5;241m1\u001B[39m:\n\u001B[0;32m   1299\u001B[0m         \u001B[38;5;28;01mraise\u001B[39;00m \u001B[38;5;167;01mValueError\u001B[39;00m(\u001B[38;5;124m\"\u001B[39m\u001B[38;5;124mCannot index with multidimensional key\u001B[39m\u001B[38;5;124m\"\u001B[39m)\n\u001B[1;32m-> 1301\u001B[0m     \u001B[38;5;28;01mreturn\u001B[39;00m \u001B[38;5;28;43mself\u001B[39;49m\u001B[38;5;241;43m.\u001B[39;49m\u001B[43m_getitem_iterable\u001B[49m\u001B[43m(\u001B[49m\u001B[43mkey\u001B[49m\u001B[43m,\u001B[49m\u001B[43m \u001B[49m\u001B[43maxis\u001B[49m\u001B[38;5;241;43m=\u001B[39;49m\u001B[43maxis\u001B[49m\u001B[43m)\u001B[49m\n\u001B[0;32m   1303\u001B[0m \u001B[38;5;66;03m# nested tuple slicing\u001B[39;00m\n\u001B[0;32m   1304\u001B[0m \u001B[38;5;28;01mif\u001B[39;00m is_nested_tuple(key, labels):\n",
      "File \u001B[1;32m~\\PycharmProjects\\venv\\lib\\site-packages\\pandas\\core\\indexing.py:1239\u001B[0m, in \u001B[0;36m_LocIndexer._getitem_iterable\u001B[1;34m(self, key, axis)\u001B[0m\n\u001B[0;32m   1236\u001B[0m \u001B[38;5;28mself\u001B[39m\u001B[38;5;241m.\u001B[39m_validate_key(key, axis)\n\u001B[0;32m   1238\u001B[0m \u001B[38;5;66;03m# A collection of keys\u001B[39;00m\n\u001B[1;32m-> 1239\u001B[0m keyarr, indexer \u001B[38;5;241m=\u001B[39m \u001B[38;5;28;43mself\u001B[39;49m\u001B[38;5;241;43m.\u001B[39;49m\u001B[43m_get_listlike_indexer\u001B[49m\u001B[43m(\u001B[49m\u001B[43mkey\u001B[49m\u001B[43m,\u001B[49m\u001B[43m \u001B[49m\u001B[43maxis\u001B[49m\u001B[43m)\u001B[49m\n\u001B[0;32m   1240\u001B[0m \u001B[38;5;28;01mreturn\u001B[39;00m \u001B[38;5;28mself\u001B[39m\u001B[38;5;241m.\u001B[39mobj\u001B[38;5;241m.\u001B[39m_reindex_with_indexers(\n\u001B[0;32m   1241\u001B[0m     {axis: [keyarr, indexer]}, copy\u001B[38;5;241m=\u001B[39m\u001B[38;5;28;01mTrue\u001B[39;00m, allow_dups\u001B[38;5;241m=\u001B[39m\u001B[38;5;28;01mTrue\u001B[39;00m\n\u001B[0;32m   1242\u001B[0m )\n",
      "File \u001B[1;32m~\\PycharmProjects\\venv\\lib\\site-packages\\pandas\\core\\indexing.py:1432\u001B[0m, in \u001B[0;36m_LocIndexer._get_listlike_indexer\u001B[1;34m(self, key, axis)\u001B[0m\n\u001B[0;32m   1429\u001B[0m ax \u001B[38;5;241m=\u001B[39m \u001B[38;5;28mself\u001B[39m\u001B[38;5;241m.\u001B[39mobj\u001B[38;5;241m.\u001B[39m_get_axis(axis)\n\u001B[0;32m   1430\u001B[0m axis_name \u001B[38;5;241m=\u001B[39m \u001B[38;5;28mself\u001B[39m\u001B[38;5;241m.\u001B[39mobj\u001B[38;5;241m.\u001B[39m_get_axis_name(axis)\n\u001B[1;32m-> 1432\u001B[0m keyarr, indexer \u001B[38;5;241m=\u001B[39m \u001B[43max\u001B[49m\u001B[38;5;241;43m.\u001B[39;49m\u001B[43m_get_indexer_strict\u001B[49m\u001B[43m(\u001B[49m\u001B[43mkey\u001B[49m\u001B[43m,\u001B[49m\u001B[43m \u001B[49m\u001B[43maxis_name\u001B[49m\u001B[43m)\u001B[49m\n\u001B[0;32m   1434\u001B[0m \u001B[38;5;28;01mreturn\u001B[39;00m keyarr, indexer\n",
      "File \u001B[1;32m~\\PycharmProjects\\venv\\lib\\site-packages\\pandas\\core\\indexes\\base.py:6070\u001B[0m, in \u001B[0;36mIndex._get_indexer_strict\u001B[1;34m(self, key, axis_name)\u001B[0m\n\u001B[0;32m   6067\u001B[0m \u001B[38;5;28;01melse\u001B[39;00m:\n\u001B[0;32m   6068\u001B[0m     keyarr, indexer, new_indexer \u001B[38;5;241m=\u001B[39m \u001B[38;5;28mself\u001B[39m\u001B[38;5;241m.\u001B[39m_reindex_non_unique(keyarr)\n\u001B[1;32m-> 6070\u001B[0m \u001B[38;5;28;43mself\u001B[39;49m\u001B[38;5;241;43m.\u001B[39;49m\u001B[43m_raise_if_missing\u001B[49m\u001B[43m(\u001B[49m\u001B[43mkeyarr\u001B[49m\u001B[43m,\u001B[49m\u001B[43m \u001B[49m\u001B[43mindexer\u001B[49m\u001B[43m,\u001B[49m\u001B[43m \u001B[49m\u001B[43maxis_name\u001B[49m\u001B[43m)\u001B[49m\n\u001B[0;32m   6072\u001B[0m keyarr \u001B[38;5;241m=\u001B[39m \u001B[38;5;28mself\u001B[39m\u001B[38;5;241m.\u001B[39mtake(indexer)\n\u001B[0;32m   6073\u001B[0m \u001B[38;5;28;01mif\u001B[39;00m \u001B[38;5;28misinstance\u001B[39m(key, Index):\n\u001B[0;32m   6074\u001B[0m     \u001B[38;5;66;03m# GH 42790 - Preserve name from an Index\u001B[39;00m\n",
      "File \u001B[1;32m~\\PycharmProjects\\venv\\lib\\site-packages\\pandas\\core\\indexes\\base.py:6133\u001B[0m, in \u001B[0;36mIndex._raise_if_missing\u001B[1;34m(self, key, indexer, axis_name)\u001B[0m\n\u001B[0;32m   6130\u001B[0m     \u001B[38;5;28;01mraise\u001B[39;00m \u001B[38;5;167;01mKeyError\u001B[39;00m(\u001B[38;5;124mf\u001B[39m\u001B[38;5;124m\"\u001B[39m\u001B[38;5;124mNone of [\u001B[39m\u001B[38;5;132;01m{\u001B[39;00mkey\u001B[38;5;132;01m}\u001B[39;00m\u001B[38;5;124m] are in the [\u001B[39m\u001B[38;5;132;01m{\u001B[39;00maxis_name\u001B[38;5;132;01m}\u001B[39;00m\u001B[38;5;124m]\u001B[39m\u001B[38;5;124m\"\u001B[39m)\n\u001B[0;32m   6132\u001B[0m not_found \u001B[38;5;241m=\u001B[39m \u001B[38;5;28mlist\u001B[39m(ensure_index(key)[missing_mask\u001B[38;5;241m.\u001B[39mnonzero()[\u001B[38;5;241m0\u001B[39m]]\u001B[38;5;241m.\u001B[39munique())\n\u001B[1;32m-> 6133\u001B[0m \u001B[38;5;28;01mraise\u001B[39;00m \u001B[38;5;167;01mKeyError\u001B[39;00m(\u001B[38;5;124mf\u001B[39m\u001B[38;5;124m\"\u001B[39m\u001B[38;5;132;01m{\u001B[39;00mnot_found\u001B[38;5;132;01m}\u001B[39;00m\u001B[38;5;124m not in index\u001B[39m\u001B[38;5;124m\"\u001B[39m)\n",
      "\u001B[1;31mKeyError\u001B[0m: \"['Ticker'] not in index\""
     ]
    }
   ],
   "source": [
    "symbols.loc[:,['Ticker','Name(EN)']]"
   ],
   "metadata": {
    "collapsed": false,
    "pycharm": {
     "name": "#%%\n"
    }
   }
  },
  {
   "cell_type": "code",
   "execution_count": 30,
   "outputs": [
    {
     "data": {
      "text/plain": "'آباد'"
     },
     "execution_count": 30,
     "metadata": {},
     "output_type": "execute_result"
    }
   ],
   "source": [
    "symbols['Name(EN)'].index[0]"
   ],
   "metadata": {
    "collapsed": false,
    "pycharm": {
     "name": "#%%\n"
    }
   }
  },
  {
   "cell_type": "code",
   "execution_count": 32,
   "outputs": [
    {
     "name": "stdout",
     "output_type": "stream",
     "text": [
      "Abadgaran\n",
      "Abadan_PG\n",
      "Asan_Pardakht_Pers\n",
      "Asia_Bime\n",
      "Opal_Kani_Pars\n",
      "Amin_Company\n",
      "Iran_Tele._Co.\n",
      "Ardestan_Cement\n",
      "Asiatech\n",
      "Ofogh_Koorosh\n",
      "S*Alborz_Bimeh\n",
      "Amin_Investment\n",
      "Other_Energy_B.\n",
      "Alborz_Cable\n",
      "S*Iran_Transfo\n",
      "G.Barekat_Pharm\n",
      "Pars_Switch\n",
      "Pars_Shahab\n",
      "Fajr_E.Persia_Gulf\n",
      "Yazd_Jooshkab\n",
      "Ghandi_Cables.\n",
      "Motogen\n",
      "Nirou_Trans\n",
      "S*TehranStockExch.\n",
      "BoualiSina_Petro.\n",
      "PARS_Petrochemical\n",
      "S*Parsian_Oil&Gas\n",
      "Parsian\n",
      "Iran_Yasa_Tire\n",
      "Paksho\n",
      "Iran_Tire\n",
      "Derakhshan_Teh.\n",
      "Behpardakht_Mellat\n",
      "Pardis_Invsetment\n",
      "Sahand_Rubber\n",
      "Kerman_Tire\n",
      "Kavir_Tire\n",
      "Plascokar_Saipa\n",
      "Pasargad_Payment\n",
      "Tamin_Petro.\n",
      "Sadr_Tamin_Inv.\n",
      "Iran_Tractor\n",
      "Pumpiran\n",
      "Kardan_Investment\n",
      "A._I._S._D.\n",
      "Iran_Combine\n",
      "Technotar\n",
      "Mellat_Inv._Bank\n",
      "S*Novin_Investment\n",
      "Tamin_Daroo\n",
      "Int._Const.\n",
      "Saman_Gostar\n",
      "Omid_Con._&_Dev.\n",
      "Behsaz_K_Tehran\n",
      "Shahed_Inv.\n",
      "Maskan_Invest.\n",
      "Fars_Dev.\n",
      "Housing_Inv.\n",
      "S*Tehran_Const.\n",
      "Jam_Petr.\n",
      "Offset\n",
      "producing_CHDN\n",
      "Iran_Board\n",
      "Pars_Paper_Ind.Grp\n",
      "Iran_Carton\n",
      "Kaveh_Paper\n",
      "Petr._Tran.\n",
      "Tidewater\n",
      "Tuka_Trans.\n",
      "Khalij_Fars_Trans\n",
      "S*North_Drilling\n",
      "S*IRI_Marine_Co.\n",
      "Saipa_Azin\n",
      "Iran_Tractor_F.\n",
      "Sazeh_Pouyesh\n",
      "I._T._Foundry\n",
      "Iran_Radiator\n",
      "Iran_Auto-Parts\n",
      "Charkheshgar\n",
      "Khorasan_Petro.\n",
      "Iran_Casting\n",
      "Mashad_Wheel\n",
      "Zamyad\n",
      "Zar_Spring\n",
      "S*Saipa\n",
      "Khavar_Spring\n",
      "Irka_Part\n",
      "Indamin\n",
      "Iran_Kh._Inv.\n",
      "Iran_Brake_L.\n",
      "Nirou_Moharreke\n",
      "VAMCO\n",
      "Mehrcam_Pars\n",
      "Motorsazan\n",
      "Nasir_Machine\n",
      "Iran_Khodro\n",
      "Iran_Kh._A._M.\n",
      "Abouraihan_P.\n",
      "DATAM_Group\n",
      "Daroupakhsh_P.\n",
      "Osvah_Pharm.\n",
      "Alborz_Darou\n",
      "Amin_Pharm.\n",
      "Dana_Insurance\n",
      "Pars_Darou\n",
      "Daroupakhash_I.\n",
      "Jaber_Hayan_P.\n",
      "Damloran_Pharm.\n",
      "Razak_Lab.\n",
      "Rouz_Darou_P.\n",
      "Zahravi_Phar.\n",
      "Sobhan_Pharm.\n",
      "Sobhan_Pharm\n",
      "Sina_Darou_Lab.\n",
      "Daroupakhsh\n",
      "Dr._Abidi_Lab.\n",
      "Farabi_Pharm.\n",
      "Iran_Parenteral\n",
      "Kowsar_Pharm.\n",
      "Chimidarou\n",
      "Exir_Pharm.\n",
      "Loghman_Pharm.\n",
      "Iran_Darou\n",
      "Esfahan_Steel_Co.\n",
      "Inf._Services\n",
      "Parsian_Ecommerc\n",
      "Etebari_Iran_Co\n",
      "MAPNA\n",
      "Pars_Agro.\n",
      "Kowsar_Agri._Inv.\n",
      "Magsal_Agri.\n",
      "Abiak_Cement\n",
      "Darab_Cement\n",
      "Ardebil_Cement\n",
      "Oroumiyeh_Cem.\n",
      "Bojnourd_Cement\n",
      "Behbahan_Cement\n",
      "Saman-E-Kish\n",
      "Sepahan_Cement\n",
      "Sepid_Makian_Co.\n",
      "Tehran_Cement\n",
      "Khash_Cement\n",
      "Khazar_Cement\n",
      "Khoozestan_CE.\n",
      "Dashtestan_Ce.\n",
      "Doroud_Cement\n",
      "Shahroud_Cement\n",
      "Shargh_Cement\n",
      "Shomal_Cement\n",
      "Isfahan_Cement\n",
      "Soufian_Cement\n",
      "Gharb_Cement.\n",
      "Fars_Cement\n",
      "S*F._&_Kh._Cement\n",
      "Siman_Fars_Noe\n",
      "Qayen_Cement\n",
      "Kordesta_Ce._Co.\n",
      "Kerman_Cement\n",
      "Mazandaran_Cem.\n",
      "Neiriz_Cement\n",
      "Hormozgan_Cem.\n",
      "Hegmatan_Cement\n",
      "Tamin_Cement\n",
      "Cement_INV._Co.\n",
      "Hamkaran_System_Co\n",
      "Ilam_Cement\n",
      "Seamorgh_Co.\n",
      "Shazand_Petr.\n",
      "Iran_Amlah\n",
      "Tabriz.Oil.Refine\n",
      "B.A_Oil_Refinie\n",
      "Behran_Oil\n",
      "Pars_Int._Mfg.\n",
      "Paxan\n",
      "Pardis_Petr.\n",
      "S*Isf._Oil_Ref.Co.\n",
      "Palayesh_Tehran\n",
      "Khark_Petr.\n",
      "Doode_Sanati\n",
      "Palayesh_Naft\n",
      "Spahan_Naft\n",
      "Social_Sec_Inv\n",
      "Sina_Chem._Ind.\n",
      "Ghadir_Petro_Co.\n",
      "ShafaDarou_Inv.\n",
      "Fars_Chem._Ind.\n",
      "Fanavaran_Petr.\n",
      "Iran_Carbon\n",
      "NiroCholor\n",
      "Goltash\n",
      "Loabiran\n",
      "Shahr_Financial_G.\n",
      "Behshahr_Ind.\n",
      "Shiraz_Petr.\n",
      "S*Iran_Chem._Ind.\n",
      "Saba_Tamin_Inv.\n",
      "Piazar_Agro.\n",
      "Kalber_Dairy\n",
      "Behshahr_Ind.\n",
      "Behnoush_Iran\n",
      "Pak_Dairy\n",
      "Pars_Minoo\n",
      "Chin_Chin\n",
      "P._Animal_Feed\n",
      "Dasht_Morghab\n",
      "Zar_Makaron\n",
      "Salemin_Factory\n",
      "W._Azar._Pegah\n",
      "Kh._Pegah_Dairy\n",
      "I._Pegah_Dairy\n",
      "Shahdiran_Inc.\n",
      "Kourosh_Food_Ind.\n",
      "Gorji_Biscuit\n",
      "Glucosan\n",
      "Mahram_Mfg.\n",
      "Noush_Maz.\n",
      "S*Azarab_Ind.\n",
      "S*Arak_M._Mfg.\n",
      "Khalij_Fars\n",
      "Calcimine\n",
      "Ama\n",
      "S*Iran_Aluminium\n",
      "Bahonar_Copper\n",
      "Sepanta\n",
      "Jaam_Darou\n",
      "Amirkabir_Steel\n",
      "Khorasan_Steel_Co.\n",
      "Khouz._Steel\n",
      "Iran_Mineral_P.\n",
      "Iran_Ferr.\n",
      "GhaltakSaznSepahan\n",
      "Sabzevar_Steel\n",
      "Sepahan_Group\n",
      "N._I._L._Z.\n",
      "Lamiran\n",
      "Iran_M._&_P._M.\n",
      "Alomrad\n",
      "S*I._N._C._Ind.\n",
      "Aluminum_R.\n",
      "R._Mill_Prod.\n",
      "S*Mobarakeh_Steel\n",
      "Iran_Fold\n",
      "Piranshahr_S.\n",
      "S*Sabet_Khorasan\n",
      "Padide_Shimi_Gharn\n",
      "Ghazvin_Sugar\n",
      "Shahroud_Sugar\n",
      "Khoy_Sugar_Co.\n",
      "Isfahan_Sugar\n",
      "Lorestan_Sugar\n",
      "Marvdasht_Sugar\n",
      "Neyshabour_S.\n",
      "Hegmatan_Sugar\n",
      "Azar_Refract.\n",
      "Commodity_Exch.\n",
      "Bama\n",
      "Kaveh_Company\n",
      "Bafgh_Mining\n",
      "Pars_Tile\n",
      "Iran_Glass_Wool\n",
      "Takceram\n",
      "Chadormalu\n",
      "Hafez_Tile\n",
      "Iran_China_Clay\n",
      "Damavand_Min.\n",
      "Razi_P._Glasses\n",
      "Kermanshah_Petr\n",
      "Iran_Zinc_Mines\n",
      "Saipa_Glass\n",
      "Sina_Tile\n",
      "Ardekan_Ceramic\n",
      "Pars_Ceram\n",
      "Saadi_Tile\n",
      "Negin_Tabas_L.\n",
      "Pars_Refract.\n",
      "Iran_Refract.\n",
      "Glass_and_Gas\n",
      "Gol-E-Gohar.\n",
      "Alvand_Tile\n",
      "Sand_Foundry\n",
      "Iran_Mn._Mines\n",
      "Saba_Noor\n",
      "Hamadan_Glass\n",
      "Sepid_Farab_Kavir\n",
      "Kimia_Zanjan_Co\n",
      "Arian_Chimia_Tech\n",
      "Absal\n",
      "Butane_Group\n",
      "Pars_Electric\n",
      "Pars_Khazar\n",
      "Sarma_Afarin\n",
      "Lotos_Investment\n",
      "Bime_Ma_Co.\n",
      "Mobin_Petr.\n",
      "DPI\n",
      "Mellat_Insur.\n",
      "Khavarmianeh_Ins.\n",
      "Iranmerinos\n",
      "NORI_Petrochemical\n",
      "S*HiWeb\n",
      "Iran_Mobil_Tele\n",
      "Azarbayjan_Inv.\n",
      "Karafarin_Insur.\n",
      "Atye_Damavand\n",
      "Iran_Motorcycle\n",
      "S*Alborz_Inv.\n",
      "Omid_Inv._Mng.\n",
      "Iranian_Lizing\n",
      "Bank_Melli_Inv.\n",
      "S*Behshahr_Inv.\n",
      "Saderat_Bank\n",
      "S*Mellat_Bank\n",
      "Bahman_Inv.\n",
      "Buali_Inv.\n",
      "Insurance_Inv.\n",
      "Parsian_Bank\n",
      "S*Pasargad_Bank\n",
      "Petro._Inv.\n",
      "Daroupakhsh\n",
      "Post_Bank\n",
      "S*Tejarat_Bank\n",
      "Toosgostar_Inv.\n",
      "Tosee_Melli_Inv\n",
      "Pars_Tousheh\n",
      "Iran_Ind._Dev.\n",
      "Tukafoolad_Inv.\n",
      "S*Kharazmy_Invest\n",
      "Bank_of_M.E.\n",
      "Rena_Investment\n",
      "S*Saipa_Inv.\n",
      "Iran_Const._Inv\n",
      "Ardebil_Inv.\n",
      "AzarSharghi_Inv.\n",
      "AzarbyjnGharbi_Inv\n",
      "Boushehr_Inv.\n",
      "Sepah_Inv.\n",
      "KhorasanJonobi_Inv\n",
      "Khorasan_Shomali_I\n",
      "Khozestan_Inv.\n",
      "KhorasanRazavi_Inv\n",
      "Zanjan_Inv.\n",
      "Isfahan_Inv.\n",
      "Fars_Inv.\n",
      "Qom_Inv.\n",
      "Banks_Employees\n",
      "Kordestan_Inv.\n",
      "Kermanshah_Inv.\n",
      "Kerman_Inv.\n",
      "Kohgiloyeh_Inv.\n",
      "Golestan_Inv.\n",
      "Gilan_Inv.\n",
      "Lorestan_Inv.\n",
      "Mazandaran_Inv.\n",
      "Markazi_Inv.\n",
      "Hormozgan_Inv.\n",
      "Hamedan_Inv.\n",
      "Yazd_Inv.\n",
      "Sistan_Inv.\n",
      "Ilam_Inv.\n",
      "Sina_Fin._Ins.\n",
      "Behshahr_Group\n",
      "Pension_Fund\n",
      "Ind._&_Mine_Inv\n",
      "Ghadir_Inv.\n",
      "Karafarin_Bank\n",
      "INT_Ghadir_mine\n",
      "Parsian_leasing\n",
      "S*Rayan_Saipa\n",
      "Ind._&_M._L.\n",
      "Ghadir_Kh._L.\n",
      "Kar_Af._Leasing\n",
      "Mellat_Leasing\n",
      "M_Sandogh_B\n",
      "S*Metals_&_Min.\n",
      "Melli_Ind._Grp.\n",
      "Mehr_Ayandegan\n",
      "Oil_Ind._Inv.\n",
      "S*EN_Bank\n",
      "Nirou_Inv.\n",
      "Iran_N._Inv.\n",
      "A.S.P_CO\n",
      "Arya_Sasol_Polymer\n",
      "Atieh_Dade_Pardaz\n",
      "S*Iranian_Etekai\n",
      "S*Arfa_Steel_Co.\n",
      "Alborz_Invest.\n",
      "Afra_Net_Co.\n",
      "Entekhab_Elect.\n",
      "Mobin_One_Kish\n",
      "Const_and_Rail\n",
      "S*Pasargad_Insur.\n",
      "Peyvand_Gostar\n",
      "Jahrom_Power_Plant\n",
      "MiddleEast_LifeINS\n",
      "Zagros_Kosar_Power\n",
      "Bime_Saman_Co.\n",
      "Abhar_Cable\n",
      "Kahnooj_Mahtab_Pow\n",
      "Gilan_Elec._Dev.\n",
      "Bargh_Mapna_Co.\n",
      "Fars_Tejarat_Plant\n",
      "Tejarat-No_Ins.\n",
      "Behpak_Co.\n",
      "Artavil_Tire\n",
      "Pakhsh_Alborz\n",
      "Yazd_Tire\n",
      "Kish_Parsian_E-COM\n",
      "Tabarok_Ind._Group\n",
      "Tapsi\n",
      "TajaliMines&Metals\n",
      "Talise_Company\n",
      "Damavand_Inv._Bank\n",
      "Toucaril_Co.\n",
      "TOSAN\n",
      "Alvand_Housing_Inv\n",
      "Baghmishe\n",
      "Maskan_Pardis\n",
      "Maskan_Invest.\n",
      "Maskan_Jonoob\n",
      "Zayandeh_Maskan\n",
      "Shahed_Development\n",
      "Shomal_Gharb_Co\n",
      "Caspian_Wood\n",
      "Asia_Seir_Aras\n",
      "Rail_Pardaz\n",
      "Parsian_Oil&Gas\n",
      "FarabarPersianGulf\n",
      "Khazar_Shipping\n",
      "Reyl_Pardazseir\n",
      "Rail_Sair_Kosar\n",
      "Sina_Marine_srv\n",
      "Gohar_Tarabar\n",
      "IranKhodro_Diesel\n",
      "S*Bahman_Dizel_Co\n",
      "Arman_Gostar_Pariz\n",
      "Avicenna_Labs.\n",
      "Alborz_Bulk_Co.\n",
      "Daroupakhsh_Distr.\n",
      "Tolid_Daroo\n",
      "Daana_Pharma_Co\n",
      "Pakhsh_Razi\n",
      "Rahavard_PHARMA\n",
      "Ankolojy_Sobhan\n",
      "Sh._Ghazi_Pharmacy\n",
      "Iran_Gel.Capsule\n",
      "Damavand_Co.\n",
      "Rayan_Hamafza\n",
      "General_Mechanic\n",
      "Rishmac_Prod.&EXP\n",
      "S*Zagros_Petro.\n",
      "Binalood_AGRI&Husb\n",
      "Dashte_Khoramdareh\n",
      "Sharif_Abad_AGRI\n",
      "Zagros_Meat_&_Milk\n",
      "FajrAGRI&Husb\n",
      "FKA_AGRI&Husb\n",
      "Ghiam_AGRI&Husb\n",
      "Isfahan_Kesht_Agr.\n",
      "Golgasht_Nemouneh\n",
      "Mahan_Chicken\n",
      "Malard_AGRI&Husb\n",
      "Zangan_Industry\n",
      "Sarooj_Boushehr\n",
      "Saman_Bank\n",
      "Saveh_Cement\n",
      "Saina_Company\n",
      "Sabzevar_Cement\n",
      "Sepidar_System\n",
      "Asia_Cement\n",
      "Tadbirgaran_Inv\n",
      "S*MesSarcheshme\n",
      "Ghadir_Invest.\n",
      "Cultur.Herit._Inv.\n",
      "UrmiaPetrochemical\n",
      "Lavan_Oil_Ref.\n",
      "Ghaed_Basir_Petro.\n",
      "NPSZ\n",
      "Tuka_Paint_Co.\n",
      "Takhte_Jamshid_Pe.\n",
      "Iranol\n",
      "Sanati_Doodeh_Fam\n",
      "Kimyagaran_Chem.\n",
      "Tondgooyan_Petro\n",
      "MelliAgro-Chemical\n",
      "Alis_Chanaran\n",
      "E._Azar._Pegah\n",
      "N._Pouneh_Mashhad\n",
      "Khorasan_Oilseeds\n",
      "Pakdis_Company\n",
      "Shahdab_Khorasan\n",
      "Minoo_Industry\n",
      "Pegah_Fars_Co.\n",
      "Pegah_Golpayegan\n",
      "Pegah_Golestan\n",
      "Pegah_Gilan\n",
      "Razavi_Yeast\n",
      "Minoo_Co.\n",
      "Vitana\n",
      "Iranian_Lead&Zinc\n",
      "Sirjan_Jahan_Steel\n",
      "Iran_Fara_Bourse\n",
      "Shahrood_Steel\n",
      "IranFerroalloyInd.\n",
      "Ferrosil._Khomein\n",
      "Isfahan_Zinc_SML.\n",
      "Pouya_Zarkan\n",
      "Zarin_Madan_Co.\n",
      "Soojmiran\n",
      "Saba_Steel\n",
      "GhadirIranian_Iron\n",
      "Iranian_Zinc_Ind.\n",
      "Tosan_Techno\n",
      "Pars_Fanar\n",
      "Yazd_Fold\n",
      "Ghassem_Co.\n",
      "ChaharMahal\n",
      "Ghand_Shirvan\n",
      "Kaspian_Daroo\n",
      "Yazd_Faranasooz\n",
      "Tabas_Company\n",
      "Kowsar_Min._Ind.\n",
      "TUKA_Co.\n",
      "Kerman_Invest\n",
      "Kavandegan_bana\n",
      "TabasParvadeh_Coal\n",
      "Shahrood_N.E.\n",
      "Gohar_Zamin_Iron\n",
      "Chlor_Pars\n",
      "Marjan_Kar\n",
      "Kosar_Ins.\n",
      "KBC_Company\n",
      "Dona_Catering\n",
      "ParsianKosar_Hotel\n",
      "GoldIran\n",
      "Omid_Goharan\n",
      "Latif_Paper\n",
      "MaadiranIndustries\n",
      "Maroon_Petro.\n",
      "Inv._Srv._of_CSPF\n",
      "Kharazmi_Info.\n",
      "Mihan_Insurance\n",
      "Asianama_N.G.T\n",
      "Nakhris\n",
      "Atrin_Nakh_Qom\n",
      "Novin_Bime\n",
      "Nian_Electronic\n",
      "HejratDistribution\n",
      "Hormozgan_Co.\n",
      "Ava_Novin_INVEST\n",
      "Almas_Investmen\n",
      "Amin_Tavan_Inv.\n",
      "Pouya_Investment\n",
      "Taavon_Ins.\n",
      "Day_Bime\n",
      "Sobhan_Invest.\n",
      "SepehrSaderat_Inv.\n",
      "Toba_Inv.\n",
      "KBahman_Inv._Mng.\n",
      "Tourism_Bank\n",
      "Iranian_Investment\n",
      "Bahman_Liz.\n",
      "Iranian_Inv_Co\n",
      "Iran_&_Shargh_Lsg.\n",
      "Moallem_Insurance\n",
      "Melal_Credit_Inst.\n",
      "Hamoon_Saba_Inv.\n",
      "Omid_Taban_Hoor\n",
      "Tehran_Chemie_Phar\n",
      "Ceram_Ara_Ind.\n",
      "FanAva_Co.\n",
      "Amir_Kabir_Co.\n",
      "Kazeroon_Petro.\n",
      "Mamasani_Petro.\n",
      "Lordegan_Petr.\n",
      "Shomal_Invest.\n",
      "Zanjan_Co.\n",
      "Kimiya_Investment\n",
      "S.Electric.IND\n",
      "Esteghlal\n",
      "Persepolis\n",
      "Dehdasht_Petro.\n",
      "Niro_Sarmayeh.\n",
      "S*Pars_Arian_Inv.\n",
      "Eghtesad_Novin\n",
      "Persian_Golf_Inv.\n",
      "Danayan_Co\n",
      "Ahan&Folad_Co.\n",
      "Taknar_Copper\n",
      "Darab_Petro.\n",
      "Fasa_Petro.\n",
      "Jahrom_Petro.\n",
      "Rahshad\n",
      "Majd_Khaf\n",
      "Arman_Insurance\n",
      "Hekmat_Saba_Ins\n",
      "Touse_Omran_Naeen\n",
      "Arya_Shipping\n",
      "Shirin_Daru\n",
      "Iranian_Falat\n",
      "S*Kayson\n",
      "Takado\n",
      "Persian_Gulf_Inv.\n",
      "Tak_Cable\n",
      "Karoon_Cement\n",
      "Man-madeFibres_MFR\n",
      "Darya_bandar_Co\n",
      "S*Polyacryl_Iran\n",
      "Razi_Leasing_Co\n",
      "Razi_Insurance\n",
      "Etemad_Gostar\n",
      "Isatis_Pooya\n",
      "Eng._Council\n",
      "Iran_Zamin_Bank\n",
      "Day_Bank\n",
      "Golestan_Petro.\n",
      "Tamin_Javanan\n",
      "Kashi_Sadaf_Co.\n",
      "Mina_Glass\n",
      "Abadeh_fireclay\n",
      "Oil_Engr._Constr\n",
      "Arzesh_Afarinan\n",
      "Ehya_Sanaye_Co.\n",
      "Ehya_Sepahan_Co\n",
      "Ahvaz_Farsit\n",
      "Melat_Investment\n",
      "Ravan_Fan_Avar\n",
      "S*Saipa_Diesel\n",
      "Ashtad_Iran\n",
      "Eftekhar_Saham_INV\n",
      "Abadgaran_Kish\n",
      "Jovain_Agri.&Ind\n",
      "Iran_Packing\n",
      "Iran_Tele_Fact.\n",
      "Larestan_Cement\n",
      "Vosoogh_Invest.\n",
      "Azmayesh\n",
      "SadidPipe-Bankrupt\n",
      "Plastiran\n",
      "Shahin_Plastic\n",
      "Qazvin_Glass\n",
      "Torbate_Jaam_S.\n",
      "Iran_Cable\n",
      "Keivan\n",
      "Payam_Ind.\n",
      "Amir_Inds&MIN_Grp.\n",
      "Naghsh_Jahan_Sugar\n",
      "Investment_Bank\n",
      "SADRA\n",
      "Farabi_Petro.\n",
      "Novin_cons._Inv\n",
      "Behceram_Granite\n",
      "Resalat\n",
      "Negin_Iranian_Tr.\n",
      "Petro.Eqpt.Ind.\n",
      "Saman_Reinsurance\n",
      "Ghand_Bisotoon\n",
      "Lia_Company\n",
      "Shirin_Sugar\n",
      "Iran_Arts_DEV.GRP\n",
      "Zangan_Equip.\n",
      "Italran\n",
      "Pars_Alliance\n",
      "Golbahar_Khorasan\n",
      "S*City_Bank\n",
      "Iran_Ind.Eng.Insp.\n",
      "Arian_Co.\n",
      "Namavaran_Co.\n",
      "Abadan_Petro.\n",
      "Moshanir_Investmen\n",
      "Noor_Invest.\n",
      "Qazvin_Const.\n",
      "Alumtek\n",
      "Permit\n",
      "Azarit\n",
      "Gazlouleh\n",
      "Iranit\n",
      "Bahman_Neopan\n",
      "Ariya_Dana\n",
      "Bagheran_Cement\n",
      "Momtazan_Cement\n",
      "S*Hepco\n",
      "Iran_Weld_&_Ox.\n",
      "Tehran_Darou\n",
      "Varziran\n",
      "Padideh_Shandiz\n",
      "S*Ayandeh_Bank\n",
      "Sarmad_Insurance\n",
      "Iran_Sana_Co\n",
      "Baran_Life_INS\n",
      "Arian_Toska\n",
      "Borujerd_Textile\n",
      "Leasing_Iran\n",
      "Niro_Mohareke\n",
      "Mashad_Packing\n",
      "Hafez_Ins.\n",
      "Khozestan_inves\n",
      "Torbat_Sugar\n",
      "Atmosphere\n",
      "Bonyan_Diesel\n",
      "Pishgaman_Badpa\n",
      "Afshar_Co.\n",
      "Farsit_Drood\n",
      "Kamand_Parts_Mfg.\n",
      "Firooza_Co.\n",
      "Refah_Chain_St.\n",
      "Tous_Woolen\n",
      "Sadid_Group\n",
      "Rangin\n",
      "Tolypers\n",
      "Omran_Bakhtiari\n",
      "Malible_Saipa\n",
      "Sina_Insurance\n",
      "Touka_Development\n",
      "Foolad_Afza\n",
      "Azadegan_Co.\n",
      "Kaf\n",
      "Siman_Shargh_PR\n",
      "Sepahan_Niroo\n",
      "Ofogh_Kerman_Cop.\n",
      "Folad_Kavian\n",
      "Pars_Khodro\n",
      "Isfahan_Pertr.\n",
      "Ava_Pars_Reins\n",
      "Yazd_Steel_CO.\n",
      "Rail_Gardesh_Iran\n",
      "Merat_Poolad\n",
      "Uroomie_Sugar\n",
      "Pars_Broker\n",
      "Tehran_Ruck_Reins\n",
      "Iran_Argham\n",
      "Iran_Inds._Co.\n",
      "Ardebil_Omran_T\n",
      "Ahwaz_Rolling_Co\n",
      "Azarab_Indus.\n",
      "Hosh.Farda_Insur.\n",
      "Jami_investment\n",
      "Meyar_Sanat\n",
      "Naab_Ind.\n",
      "Isfahan_Const.\n",
      "Techinco\n",
      "Delijan_Pars\n",
      "Hirmand_Investment\n",
      "Charisma_Insur.\n",
      "Investment_Banking\n",
      "Bahman_Group\n",
      "E._Kh._Shargh\n",
      "S*Ir.Inv.Petr.\n",
      "Pars_Oil\n",
      "Jam_Pilen\n"
     ]
    }
   ],
   "source": [
    "for i in symbols[\"Name(EN)\"].index:\n",
    "    print(symbols['Name(EN)'][i].replace(' ', '_'))"
   ],
   "metadata": {
    "collapsed": false,
    "pycharm": {
     "name": "#%%\n"
    }
   }
  },
  {
   "cell_type": "code",
   "execution_count": 33,
   "outputs": [
    {
     "ename": "TypeError",
     "evalue": "rmdir() missing required argument 'path' (pos 1)",
     "output_type": "error",
     "traceback": [
      "\u001B[1;31m---------------------------------------------------------------------------\u001B[0m",
      "\u001B[1;31mTypeError\u001B[0m                                 Traceback (most recent call last)",
      "Cell \u001B[1;32mIn[33], line 1\u001B[0m\n\u001B[1;32m----> 1\u001B[0m \u001B[43mos\u001B[49m\u001B[38;5;241;43m.\u001B[39;49m\u001B[43mrmdir\u001B[49m\u001B[43m(\u001B[49m\u001B[43m)\u001B[49m\n",
      "\u001B[1;31mTypeError\u001B[0m: rmdir() missing required argument 'path' (pos 1)"
     ]
    }
   ],
   "source": [
    "os."
   ],
   "metadata": {
    "collapsed": false,
    "pycharm": {
     "name": "#%%\n"
    }
   }
  },
  {
   "cell_type": "code",
   "execution_count": null,
   "outputs": [],
   "source": [],
   "metadata": {
    "collapsed": false,
    "pycharm": {
     "name": "#%%\n"
    }
   }
  }
 ],
 "metadata": {
  "kernelspec": {
   "display_name": "Python 3",
   "language": "python",
   "name": "python3"
  },
  "language_info": {
   "codemirror_mode": {
    "name": "ipython",
    "version": 2
   },
   "file_extension": ".py",
   "mimetype": "text/x-python",
   "name": "python",
   "nbconvert_exporter": "python",
   "pygments_lexer": "ipython2",
   "version": "2.7.6"
  }
 },
 "nbformat": 4,
 "nbformat_minor": 0
}