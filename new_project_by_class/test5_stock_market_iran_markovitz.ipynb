{
 "cells": [
  {
   "cell_type": "code",
   "execution_count": 1,
   "metadata": {
    "collapsed": true,
    "pycharm": {
     "name": "#%%\n"
    }
   },
   "outputs": [],
   "source": [
    "import os\n",
    "\n",
    "import numpy as np\n",
    "import pandas as pd\n",
    "import finpy_tse as tse\n",
    "import time\n",
    "import matplotlib.pyplot as plt\n",
    "import seaborn as sb\n",
    "from scipy.stats import skew, kurtosis"
   ]
  },
  {
   "cell_type": "code",
   "execution_count": 2,
   "outputs": [],
   "source": [
    "#major_symbols = tse.Build_Market_StockList(bourse=True, farabourse=True, payeh=False)\n",
    "#major_symbols.to_excel('F:\\my project\\data\\\\tehran_stock_exchange\\\\major_symbols.xlsx')"
   ],
   "metadata": {
    "collapsed": false,
    "pycharm": {
     "name": "#%%\n"
    }
   }
  },
  {
   "cell_type": "code",
   "execution_count": 3,
   "outputs": [
    {
     "data": {
      "text/plain": "     Ticker                           Name Market  \\\n0      آباد  توریستی ورفاهی آبادگران ایران   بورس   \n1     آبادا         تولید نیروی برق آبادان   بورس   \n2        آپ              آسان پرداخت پرشین   بورس   \n3      آسیا                      بیمه آسیا   بورس   \n4      اپال    فرآوری معدنی اپال کانی پارس   بورس   \n..      ...                            ...    ...   \n571  ثبهساز             بهساز کاشانه تهران   بورس   \n572  پرداخت                  به پرداخت ملت   بورس   \n573      جم                    پتروشیمی جم   بورس   \n574   البرز                     بیمه البرز   بورس   \n575    خلنت                 لنت  ترمزایران   بورس   \n\n                            Panel                                    Sector  \\\n0    بازار اول (تابلوی فرعی) بورس                             هتل و رستوران   \n1                  بازار دوم بورس                عرضه برق، گاز، بخاروآب گرم   \n2                  بازار دوم بورس          رایانه و فعالیت های وابسته به آن   \n3    بازار اول (تابلوی فرعی) بورس  بیمه وصندوق بازنشستگی به جزتامین اجتماعی   \n4                  بازار دوم بورس                     استخراج کانه های فلزی   \n..                            ...                                       ...   \n571  بازار اول (تابلوی اصلی) بورس               انبوه سازی، املاک و مستغلات   \n572                بازار دوم بورس          رایانه و فعالیت های وابسته به آن   \n573                بازار دوم بورس                           محصولات شیمیایی   \n574  بازار اول (تابلوی اصلی) بورس  بیمه وصندوق بازنشستگی به جزتامین اجتماعی   \n575  بازار اول (تابلوی فرعی) بورس                        خودرو و ساخت قطعات   \n\n                                   Sub-Sector Comment            Name(EN)  \\\n0    هتل ها ، اردو و دیگر تدارکات اقامت کوتاه       -           Abadgaran   \n1              تولید انتقال و توزیع نیروی برق       -           Abadan PG   \n2                     مشاوره و تهیه نرم افزار       -  Asan Pardakht Pers   \n3                               بیمه غیرزندگی       -           Asia Bime   \n4                                 استخراج آهن       -      Opal Kani Pars   \n..                                        ...     ...                 ...   \n571  املاک و مستغلات با ملک خود یا لیزینگ شده       -     Behsaz K Tehran   \n572                   مشاوره و تهیه نرم افزار       -  Behpardakht Mellat   \n573         تولید مواد شیمیایی پایه به جز کود       -           Jam Petr.   \n574                             بیمه غیرزندگی       -      S*Alborz Bimeh   \n575     قطعات یدکی و جانبی وسایل نقلیه موتوری       -       Iran Brake L.   \n\n    Company Code(12) Ticker(4) Ticker(5)    Ticker(12)  Sector Code  \\\n0       IRO1ABAD0002      ABAD     ABAD1  IRO1ABAD0001           55   \n1       IRO1NBAB0009      NBAB     NBAB1  IRO1NBAB0001           40   \n2       IRO1APPE0008      APPE     APPE1  IRO1APPE0001           72   \n3       IRO1ASIA0008      ASIA     ASIA1  IRO1ASIA0001           66   \n4       IRO1OPAL0000      OPAL     OPAL1  IRO1OPAL0001           13   \n..               ...       ...       ...           ...          ...   \n571     IRO1BEKA0009      BEKA     BEKA1  IRO1BEKA0001           70   \n572     IRO1PRKT0007      PRKT     PRKT1  IRO1PRKT0001           72   \n573     IRO1PJMZ0007      PJMZ     PJMZ1  IRO1PJMZ0001           44   \n574     IRO1BALB0001      BALB     BALB1  IRO1BALB0001           66   \n575     IRO1LENT0003      LENT     LENT1  IRO1LENT0001           34   \n\n     Sub-Sector Code  Panel Code  \n0               5510           3  \n1               4010           3  \n2               7220           1  \n3               6603           3  \n4               1310           1  \n..               ...         ...  \n571             7010           1  \n572             7220           3  \n573             4411           1  \n574             6603           1  \n575             3430           3  \n\n[576 rows x 15 columns]",
      "text/html": "<div>\n<style scoped>\n    .dataframe tbody tr th:only-of-type {\n        vertical-align: middle;\n    }\n\n    .dataframe tbody tr th {\n        vertical-align: top;\n    }\n\n    .dataframe thead th {\n        text-align: right;\n    }\n</style>\n<table border=\"1\" class=\"dataframe\">\n  <thead>\n    <tr style=\"text-align: right;\">\n      <th></th>\n      <th>Ticker</th>\n      <th>Name</th>\n      <th>Market</th>\n      <th>Panel</th>\n      <th>Sector</th>\n      <th>Sub-Sector</th>\n      <th>Comment</th>\n      <th>Name(EN)</th>\n      <th>Company Code(12)</th>\n      <th>Ticker(4)</th>\n      <th>Ticker(5)</th>\n      <th>Ticker(12)</th>\n      <th>Sector Code</th>\n      <th>Sub-Sector Code</th>\n      <th>Panel Code</th>\n    </tr>\n  </thead>\n  <tbody>\n    <tr>\n      <th>0</th>\n      <td>آباد</td>\n      <td>توریستی ورفاهی آبادگران ایران</td>\n      <td>بورس</td>\n      <td>بازار اول (تابلوی فرعی) بورس</td>\n      <td>هتل و رستوران</td>\n      <td>هتل ها ، اردو و دیگر تدارکات اقامت کوتاه</td>\n      <td>-</td>\n      <td>Abadgaran</td>\n      <td>IRO1ABAD0002</td>\n      <td>ABAD</td>\n      <td>ABAD1</td>\n      <td>IRO1ABAD0001</td>\n      <td>55</td>\n      <td>5510</td>\n      <td>3</td>\n    </tr>\n    <tr>\n      <th>1</th>\n      <td>آبادا</td>\n      <td>تولید نیروی برق آبادان</td>\n      <td>بورس</td>\n      <td>بازار دوم بورس</td>\n      <td>عرضه برق، گاز، بخاروآب گرم</td>\n      <td>تولید انتقال و توزیع نیروی برق</td>\n      <td>-</td>\n      <td>Abadan PG</td>\n      <td>IRO1NBAB0009</td>\n      <td>NBAB</td>\n      <td>NBAB1</td>\n      <td>IRO1NBAB0001</td>\n      <td>40</td>\n      <td>4010</td>\n      <td>3</td>\n    </tr>\n    <tr>\n      <th>2</th>\n      <td>آپ</td>\n      <td>آسان پرداخت پرشین</td>\n      <td>بورس</td>\n      <td>بازار دوم بورس</td>\n      <td>رایانه و فعالیت های وابسته به آن</td>\n      <td>مشاوره و تهیه نرم افزار</td>\n      <td>-</td>\n      <td>Asan Pardakht Pers</td>\n      <td>IRO1APPE0008</td>\n      <td>APPE</td>\n      <td>APPE1</td>\n      <td>IRO1APPE0001</td>\n      <td>72</td>\n      <td>7220</td>\n      <td>1</td>\n    </tr>\n    <tr>\n      <th>3</th>\n      <td>آسیا</td>\n      <td>بیمه آسیا</td>\n      <td>بورس</td>\n      <td>بازار اول (تابلوی فرعی) بورس</td>\n      <td>بیمه وصندوق بازنشستگی به جزتامین اجتماعی</td>\n      <td>بیمه غیرزندگی</td>\n      <td>-</td>\n      <td>Asia Bime</td>\n      <td>IRO1ASIA0008</td>\n      <td>ASIA</td>\n      <td>ASIA1</td>\n      <td>IRO1ASIA0001</td>\n      <td>66</td>\n      <td>6603</td>\n      <td>3</td>\n    </tr>\n    <tr>\n      <th>4</th>\n      <td>اپال</td>\n      <td>فرآوری معدنی اپال کانی پارس</td>\n      <td>بورس</td>\n      <td>بازار دوم بورس</td>\n      <td>استخراج کانه های فلزی</td>\n      <td>استخراج آهن</td>\n      <td>-</td>\n      <td>Opal Kani Pars</td>\n      <td>IRO1OPAL0000</td>\n      <td>OPAL</td>\n      <td>OPAL1</td>\n      <td>IRO1OPAL0001</td>\n      <td>13</td>\n      <td>1310</td>\n      <td>1</td>\n    </tr>\n    <tr>\n      <th>...</th>\n      <td>...</td>\n      <td>...</td>\n      <td>...</td>\n      <td>...</td>\n      <td>...</td>\n      <td>...</td>\n      <td>...</td>\n      <td>...</td>\n      <td>...</td>\n      <td>...</td>\n      <td>...</td>\n      <td>...</td>\n      <td>...</td>\n      <td>...</td>\n      <td>...</td>\n    </tr>\n    <tr>\n      <th>571</th>\n      <td>ثبهساز</td>\n      <td>بهساز کاشانه تهران</td>\n      <td>بورس</td>\n      <td>بازار اول (تابلوی اصلی) بورس</td>\n      <td>انبوه سازی، املاک و مستغلات</td>\n      <td>املاک و مستغلات با ملک خود یا لیزینگ شده</td>\n      <td>-</td>\n      <td>Behsaz K Tehran</td>\n      <td>IRO1BEKA0009</td>\n      <td>BEKA</td>\n      <td>BEKA1</td>\n      <td>IRO1BEKA0001</td>\n      <td>70</td>\n      <td>7010</td>\n      <td>1</td>\n    </tr>\n    <tr>\n      <th>572</th>\n      <td>پرداخت</td>\n      <td>به پرداخت ملت</td>\n      <td>بورس</td>\n      <td>بازار دوم بورس</td>\n      <td>رایانه و فعالیت های وابسته به آن</td>\n      <td>مشاوره و تهیه نرم افزار</td>\n      <td>-</td>\n      <td>Behpardakht Mellat</td>\n      <td>IRO1PRKT0007</td>\n      <td>PRKT</td>\n      <td>PRKT1</td>\n      <td>IRO1PRKT0001</td>\n      <td>72</td>\n      <td>7220</td>\n      <td>3</td>\n    </tr>\n    <tr>\n      <th>573</th>\n      <td>جم</td>\n      <td>پتروشیمی جم</td>\n      <td>بورس</td>\n      <td>بازار دوم بورس</td>\n      <td>محصولات شیمیایی</td>\n      <td>تولید مواد شیمیایی پایه به جز کود</td>\n      <td>-</td>\n      <td>Jam Petr.</td>\n      <td>IRO1PJMZ0007</td>\n      <td>PJMZ</td>\n      <td>PJMZ1</td>\n      <td>IRO1PJMZ0001</td>\n      <td>44</td>\n      <td>4411</td>\n      <td>1</td>\n    </tr>\n    <tr>\n      <th>574</th>\n      <td>البرز</td>\n      <td>بیمه البرز</td>\n      <td>بورس</td>\n      <td>بازار اول (تابلوی اصلی) بورس</td>\n      <td>بیمه وصندوق بازنشستگی به جزتامین اجتماعی</td>\n      <td>بیمه غیرزندگی</td>\n      <td>-</td>\n      <td>S*Alborz Bimeh</td>\n      <td>IRO1BALB0001</td>\n      <td>BALB</td>\n      <td>BALB1</td>\n      <td>IRO1BALB0001</td>\n      <td>66</td>\n      <td>6603</td>\n      <td>1</td>\n    </tr>\n    <tr>\n      <th>575</th>\n      <td>خلنت</td>\n      <td>لنت  ترمزایران</td>\n      <td>بورس</td>\n      <td>بازار اول (تابلوی فرعی) بورس</td>\n      <td>خودرو و ساخت قطعات</td>\n      <td>قطعات یدکی و جانبی وسایل نقلیه موتوری</td>\n      <td>-</td>\n      <td>Iran Brake L.</td>\n      <td>IRO1LENT0003</td>\n      <td>LENT</td>\n      <td>LENT1</td>\n      <td>IRO1LENT0001</td>\n      <td>34</td>\n      <td>3430</td>\n      <td>3</td>\n    </tr>\n  </tbody>\n</table>\n<p>576 rows × 15 columns</p>\n</div>"
     },
     "execution_count": 3,
     "metadata": {},
     "output_type": "execute_result"
    }
   ],
   "source": [
    "symbols = pd.read_excel('F:\\my project\\data\\\\tehran_stock_exchange\\\\major_symbols.xlsx')\n",
    "symbols"
   ],
   "metadata": {
    "collapsed": false,
    "pycharm": {
     "name": "#%%\n"
    }
   }
  },
  {
   "cell_type": "code",
   "execution_count": 4,
   "outputs": [],
   "source": [
    "close_data = pd.DataFrame([])"
   ],
   "metadata": {
    "collapsed": false,
    "pycharm": {
     "name": "#%%\n"
    }
   }
  },
  {
   "cell_type": "code",
   "execution_count": 6,
   "outputs": [],
   "source": [
    "#tse.get_price_history(symbols.Ticker[0],ignore_date=True)['Close']"
   ],
   "metadata": {
    "collapsed": false,
    "pycharm": {
     "name": "#%%\n"
    }
   }
  },
  {
   "cell_type": "code",
   "execution_count": 7,
   "outputs": [
    {
     "name": "stderr",
     "output_type": "stream",
     "text": [
      "C:\\Users\\ADMIN\\AppData\\Local\\Temp\\ipykernel_5324\\1884699609.py:3: PerformanceWarning: DataFrame is highly fragmented.  This is usually the result of calling `frame.insert` many times, which has poor performance.  Consider joining all columns at once using pd.concat(axis=1) instead. To get a de-fragmented frame, use `newframe = frame.copy()`\n",
      "  close_data[i] = tse.get_price_history(i, ignore_date=True)['Close']\n",
      "C:\\Users\\ADMIN\\AppData\\Local\\Temp\\ipykernel_5324\\1884699609.py:3: PerformanceWarning: DataFrame is highly fragmented.  This is usually the result of calling `frame.insert` many times, which has poor performance.  Consider joining all columns at once using pd.concat(axis=1) instead. To get a de-fragmented frame, use `newframe = frame.copy()`\n",
      "  close_data[i] = tse.get_price_history(i, ignore_date=True)['Close']\n",
      "C:\\Users\\ADMIN\\AppData\\Local\\Temp\\ipykernel_5324\\1884699609.py:3: PerformanceWarning: DataFrame is highly fragmented.  This is usually the result of calling `frame.insert` many times, which has poor performance.  Consider joining all columns at once using pd.concat(axis=1) instead. To get a de-fragmented frame, use `newframe = frame.copy()`\n",
      "  close_data[i] = tse.get_price_history(i, ignore_date=True)['Close']\n",
      "C:\\Users\\ADMIN\\AppData\\Local\\Temp\\ipykernel_5324\\1884699609.py:3: PerformanceWarning: DataFrame is highly fragmented.  This is usually the result of calling `frame.insert` many times, which has poor performance.  Consider joining all columns at once using pd.concat(axis=1) instead. To get a de-fragmented frame, use `newframe = frame.copy()`\n",
      "  close_data[i] = tse.get_price_history(i, ignore_date=True)['Close']\n",
      "C:\\Users\\ADMIN\\AppData\\Local\\Temp\\ipykernel_5324\\1884699609.py:3: PerformanceWarning: DataFrame is highly fragmented.  This is usually the result of calling `frame.insert` many times, which has poor performance.  Consider joining all columns at once using pd.concat(axis=1) instead. To get a de-fragmented frame, use `newframe = frame.copy()`\n",
      "  close_data[i] = tse.get_price_history(i, ignore_date=True)['Close']\n",
      "C:\\Users\\ADMIN\\AppData\\Local\\Temp\\ipykernel_5324\\1884699609.py:3: PerformanceWarning: DataFrame is highly fragmented.  This is usually the result of calling `frame.insert` many times, which has poor performance.  Consider joining all columns at once using pd.concat(axis=1) instead. To get a de-fragmented frame, use `newframe = frame.copy()`\n",
      "  close_data[i] = tse.get_price_history(i, ignore_date=True)['Close']\n",
      "C:\\Users\\ADMIN\\AppData\\Local\\Temp\\ipykernel_5324\\1884699609.py:3: PerformanceWarning: DataFrame is highly fragmented.  This is usually the result of calling `frame.insert` many times, which has poor performance.  Consider joining all columns at once using pd.concat(axis=1) instead. To get a de-fragmented frame, use `newframe = frame.copy()`\n",
      "  close_data[i] = tse.get_price_history(i, ignore_date=True)['Close']\n",
      "C:\\Users\\ADMIN\\AppData\\Local\\Temp\\ipykernel_5324\\1884699609.py:3: PerformanceWarning: DataFrame is highly fragmented.  This is usually the result of calling `frame.insert` many times, which has poor performance.  Consider joining all columns at once using pd.concat(axis=1) instead. To get a de-fragmented frame, use `newframe = frame.copy()`\n",
      "  close_data[i] = tse.get_price_history(i, ignore_date=True)['Close']\n",
      "C:\\Users\\ADMIN\\AppData\\Local\\Temp\\ipykernel_5324\\1884699609.py:3: PerformanceWarning: DataFrame is highly fragmented.  This is usually the result of calling `frame.insert` many times, which has poor performance.  Consider joining all columns at once using pd.concat(axis=1) instead. To get a de-fragmented frame, use `newframe = frame.copy()`\n",
      "  close_data[i] = tse.get_price_history(i, ignore_date=True)['Close']\n",
      "C:\\Users\\ADMIN\\AppData\\Local\\Temp\\ipykernel_5324\\1884699609.py:3: PerformanceWarning: DataFrame is highly fragmented.  This is usually the result of calling `frame.insert` many times, which has poor performance.  Consider joining all columns at once using pd.concat(axis=1) instead. To get a de-fragmented frame, use `newframe = frame.copy()`\n",
      "  close_data[i] = tse.get_price_history(i, ignore_date=True)['Close']\n",
      "C:\\Users\\ADMIN\\AppData\\Local\\Temp\\ipykernel_5324\\1884699609.py:3: PerformanceWarning: DataFrame is highly fragmented.  This is usually the result of calling `frame.insert` many times, which has poor performance.  Consider joining all columns at once using pd.concat(axis=1) instead. To get a de-fragmented frame, use `newframe = frame.copy()`\n",
      "  close_data[i] = tse.get_price_history(i, ignore_date=True)['Close']\n",
      "C:\\Users\\ADMIN\\AppData\\Local\\Temp\\ipykernel_5324\\1884699609.py:3: PerformanceWarning: DataFrame is highly fragmented.  This is usually the result of calling `frame.insert` many times, which has poor performance.  Consider joining all columns at once using pd.concat(axis=1) instead. To get a de-fragmented frame, use `newframe = frame.copy()`\n",
      "  close_data[i] = tse.get_price_history(i, ignore_date=True)['Close']\n",
      "C:\\Users\\ADMIN\\AppData\\Local\\Temp\\ipykernel_5324\\1884699609.py:3: PerformanceWarning: DataFrame is highly fragmented.  This is usually the result of calling `frame.insert` many times, which has poor performance.  Consider joining all columns at once using pd.concat(axis=1) instead. To get a de-fragmented frame, use `newframe = frame.copy()`\n",
      "  close_data[i] = tse.get_price_history(i, ignore_date=True)['Close']\n",
      "C:\\Users\\ADMIN\\AppData\\Local\\Temp\\ipykernel_5324\\1884699609.py:3: PerformanceWarning: DataFrame is highly fragmented.  This is usually the result of calling `frame.insert` many times, which has poor performance.  Consider joining all columns at once using pd.concat(axis=1) instead. To get a de-fragmented frame, use `newframe = frame.copy()`\n",
      "  close_data[i] = tse.get_price_history(i, ignore_date=True)['Close']\n",
      "C:\\Users\\ADMIN\\AppData\\Local\\Temp\\ipykernel_5324\\1884699609.py:3: PerformanceWarning: DataFrame is highly fragmented.  This is usually the result of calling `frame.insert` many times, which has poor performance.  Consider joining all columns at once using pd.concat(axis=1) instead. To get a de-fragmented frame, use `newframe = frame.copy()`\n",
      "  close_data[i] = tse.get_price_history(i, ignore_date=True)['Close']\n",
      "C:\\Users\\ADMIN\\AppData\\Local\\Temp\\ipykernel_5324\\1884699609.py:3: PerformanceWarning: DataFrame is highly fragmented.  This is usually the result of calling `frame.insert` many times, which has poor performance.  Consider joining all columns at once using pd.concat(axis=1) instead. To get a de-fragmented frame, use `newframe = frame.copy()`\n",
      "  close_data[i] = tse.get_price_history(i, ignore_date=True)['Close']\n",
      "C:\\Users\\ADMIN\\AppData\\Local\\Temp\\ipykernel_5324\\1884699609.py:3: PerformanceWarning: DataFrame is highly fragmented.  This is usually the result of calling `frame.insert` many times, which has poor performance.  Consider joining all columns at once using pd.concat(axis=1) instead. To get a de-fragmented frame, use `newframe = frame.copy()`\n",
      "  close_data[i] = tse.get_price_history(i, ignore_date=True)['Close']\n",
      "C:\\Users\\ADMIN\\AppData\\Local\\Temp\\ipykernel_5324\\1884699609.py:3: PerformanceWarning: DataFrame is highly fragmented.  This is usually the result of calling `frame.insert` many times, which has poor performance.  Consider joining all columns at once using pd.concat(axis=1) instead. To get a de-fragmented frame, use `newframe = frame.copy()`\n",
      "  close_data[i] = tse.get_price_history(i, ignore_date=True)['Close']\n",
      "C:\\Users\\ADMIN\\AppData\\Local\\Temp\\ipykernel_5324\\1884699609.py:3: PerformanceWarning: DataFrame is highly fragmented.  This is usually the result of calling `frame.insert` many times, which has poor performance.  Consider joining all columns at once using pd.concat(axis=1) instead. To get a de-fragmented frame, use `newframe = frame.copy()`\n",
      "  close_data[i] = tse.get_price_history(i, ignore_date=True)['Close']\n",
      "C:\\Users\\ADMIN\\AppData\\Local\\Temp\\ipykernel_5324\\1884699609.py:3: PerformanceWarning: DataFrame is highly fragmented.  This is usually the result of calling `frame.insert` many times, which has poor performance.  Consider joining all columns at once using pd.concat(axis=1) instead. To get a de-fragmented frame, use `newframe = frame.copy()`\n",
      "  close_data[i] = tse.get_price_history(i, ignore_date=True)['Close']\n",
      "C:\\Users\\ADMIN\\AppData\\Local\\Temp\\ipykernel_5324\\1884699609.py:3: PerformanceWarning: DataFrame is highly fragmented.  This is usually the result of calling `frame.insert` many times, which has poor performance.  Consider joining all columns at once using pd.concat(axis=1) instead. To get a de-fragmented frame, use `newframe = frame.copy()`\n",
      "  close_data[i] = tse.get_price_history(i, ignore_date=True)['Close']\n",
      "C:\\Users\\ADMIN\\AppData\\Local\\Temp\\ipykernel_5324\\1884699609.py:3: PerformanceWarning: DataFrame is highly fragmented.  This is usually the result of calling `frame.insert` many times, which has poor performance.  Consider joining all columns at once using pd.concat(axis=1) instead. To get a de-fragmented frame, use `newframe = frame.copy()`\n",
      "  close_data[i] = tse.get_price_history(i, ignore_date=True)['Close']\n",
      "C:\\Users\\ADMIN\\AppData\\Local\\Temp\\ipykernel_5324\\1884699609.py:3: PerformanceWarning: DataFrame is highly fragmented.  This is usually the result of calling `frame.insert` many times, which has poor performance.  Consider joining all columns at once using pd.concat(axis=1) instead. To get a de-fragmented frame, use `newframe = frame.copy()`\n",
      "  close_data[i] = tse.get_price_history(i, ignore_date=True)['Close']\n",
      "C:\\Users\\ADMIN\\AppData\\Local\\Temp\\ipykernel_5324\\1884699609.py:3: PerformanceWarning: DataFrame is highly fragmented.  This is usually the result of calling `frame.insert` many times, which has poor performance.  Consider joining all columns at once using pd.concat(axis=1) instead. To get a de-fragmented frame, use `newframe = frame.copy()`\n",
      "  close_data[i] = tse.get_price_history(i, ignore_date=True)['Close']\n",
      "C:\\Users\\ADMIN\\AppData\\Local\\Temp\\ipykernel_5324\\1884699609.py:3: PerformanceWarning: DataFrame is highly fragmented.  This is usually the result of calling `frame.insert` many times, which has poor performance.  Consider joining all columns at once using pd.concat(axis=1) instead. To get a de-fragmented frame, use `newframe = frame.copy()`\n",
      "  close_data[i] = tse.get_price_history(i, ignore_date=True)['Close']\n",
      "C:\\Users\\ADMIN\\AppData\\Local\\Temp\\ipykernel_5324\\1884699609.py:3: PerformanceWarning: DataFrame is highly fragmented.  This is usually the result of calling `frame.insert` many times, which has poor performance.  Consider joining all columns at once using pd.concat(axis=1) instead. To get a de-fragmented frame, use `newframe = frame.copy()`\n",
      "  close_data[i] = tse.get_price_history(i, ignore_date=True)['Close']\n",
      "C:\\Users\\ADMIN\\AppData\\Local\\Temp\\ipykernel_5324\\1884699609.py:3: PerformanceWarning: DataFrame is highly fragmented.  This is usually the result of calling `frame.insert` many times, which has poor performance.  Consider joining all columns at once using pd.concat(axis=1) instead. To get a de-fragmented frame, use `newframe = frame.copy()`\n",
      "  close_data[i] = tse.get_price_history(i, ignore_date=True)['Close']\n",
      "C:\\Users\\ADMIN\\AppData\\Local\\Temp\\ipykernel_5324\\1884699609.py:3: PerformanceWarning: DataFrame is highly fragmented.  This is usually the result of calling `frame.insert` many times, which has poor performance.  Consider joining all columns at once using pd.concat(axis=1) instead. To get a de-fragmented frame, use `newframe = frame.copy()`\n",
      "  close_data[i] = tse.get_price_history(i, ignore_date=True)['Close']\n",
      "C:\\Users\\ADMIN\\AppData\\Local\\Temp\\ipykernel_5324\\1884699609.py:3: PerformanceWarning: DataFrame is highly fragmented.  This is usually the result of calling `frame.insert` many times, which has poor performance.  Consider joining all columns at once using pd.concat(axis=1) instead. To get a de-fragmented frame, use `newframe = frame.copy()`\n",
      "  close_data[i] = tse.get_price_history(i, ignore_date=True)['Close']\n",
      "C:\\Users\\ADMIN\\AppData\\Local\\Temp\\ipykernel_5324\\1884699609.py:3: PerformanceWarning: DataFrame is highly fragmented.  This is usually the result of calling `frame.insert` many times, which has poor performance.  Consider joining all columns at once using pd.concat(axis=1) instead. To get a de-fragmented frame, use `newframe = frame.copy()`\n",
      "  close_data[i] = tse.get_price_history(i, ignore_date=True)['Close']\n",
      "C:\\Users\\ADMIN\\AppData\\Local\\Temp\\ipykernel_5324\\1884699609.py:3: PerformanceWarning: DataFrame is highly fragmented.  This is usually the result of calling `frame.insert` many times, which has poor performance.  Consider joining all columns at once using pd.concat(axis=1) instead. To get a de-fragmented frame, use `newframe = frame.copy()`\n",
      "  close_data[i] = tse.get_price_history(i, ignore_date=True)['Close']\n",
      "C:\\Users\\ADMIN\\AppData\\Local\\Temp\\ipykernel_5324\\1884699609.py:3: PerformanceWarning: DataFrame is highly fragmented.  This is usually the result of calling `frame.insert` many times, which has poor performance.  Consider joining all columns at once using pd.concat(axis=1) instead. To get a de-fragmented frame, use `newframe = frame.copy()`\n",
      "  close_data[i] = tse.get_price_history(i, ignore_date=True)['Close']\n",
      "C:\\Users\\ADMIN\\AppData\\Local\\Temp\\ipykernel_5324\\1884699609.py:3: PerformanceWarning: DataFrame is highly fragmented.  This is usually the result of calling `frame.insert` many times, which has poor performance.  Consider joining all columns at once using pd.concat(axis=1) instead. To get a de-fragmented frame, use `newframe = frame.copy()`\n",
      "  close_data[i] = tse.get_price_history(i, ignore_date=True)['Close']\n",
      "C:\\Users\\ADMIN\\AppData\\Local\\Temp\\ipykernel_5324\\1884699609.py:3: PerformanceWarning: DataFrame is highly fragmented.  This is usually the result of calling `frame.insert` many times, which has poor performance.  Consider joining all columns at once using pd.concat(axis=1) instead. To get a de-fragmented frame, use `newframe = frame.copy()`\n",
      "  close_data[i] = tse.get_price_history(i, ignore_date=True)['Close']\n",
      "C:\\Users\\ADMIN\\AppData\\Local\\Temp\\ipykernel_5324\\1884699609.py:3: PerformanceWarning: DataFrame is highly fragmented.  This is usually the result of calling `frame.insert` many times, which has poor performance.  Consider joining all columns at once using pd.concat(axis=1) instead. To get a de-fragmented frame, use `newframe = frame.copy()`\n",
      "  close_data[i] = tse.get_price_history(i, ignore_date=True)['Close']\n",
      "C:\\Users\\ADMIN\\AppData\\Local\\Temp\\ipykernel_5324\\1884699609.py:3: PerformanceWarning: DataFrame is highly fragmented.  This is usually the result of calling `frame.insert` many times, which has poor performance.  Consider joining all columns at once using pd.concat(axis=1) instead. To get a de-fragmented frame, use `newframe = frame.copy()`\n",
      "  close_data[i] = tse.get_price_history(i, ignore_date=True)['Close']\n",
      "C:\\Users\\ADMIN\\AppData\\Local\\Temp\\ipykernel_5324\\1884699609.py:3: PerformanceWarning: DataFrame is highly fragmented.  This is usually the result of calling `frame.insert` many times, which has poor performance.  Consider joining all columns at once using pd.concat(axis=1) instead. To get a de-fragmented frame, use `newframe = frame.copy()`\n",
      "  close_data[i] = tse.get_price_history(i, ignore_date=True)['Close']\n",
      "C:\\Users\\ADMIN\\AppData\\Local\\Temp\\ipykernel_5324\\1884699609.py:3: PerformanceWarning: DataFrame is highly fragmented.  This is usually the result of calling `frame.insert` many times, which has poor performance.  Consider joining all columns at once using pd.concat(axis=1) instead. To get a de-fragmented frame, use `newframe = frame.copy()`\n",
      "  close_data[i] = tse.get_price_history(i, ignore_date=True)['Close']\n",
      "C:\\Users\\ADMIN\\AppData\\Local\\Temp\\ipykernel_5324\\1884699609.py:3: PerformanceWarning: DataFrame is highly fragmented.  This is usually the result of calling `frame.insert` many times, which has poor performance.  Consider joining all columns at once using pd.concat(axis=1) instead. To get a de-fragmented frame, use `newframe = frame.copy()`\n",
      "  close_data[i] = tse.get_price_history(i, ignore_date=True)['Close']\n",
      "C:\\Users\\ADMIN\\AppData\\Local\\Temp\\ipykernel_5324\\1884699609.py:3: PerformanceWarning: DataFrame is highly fragmented.  This is usually the result of calling `frame.insert` many times, which has poor performance.  Consider joining all columns at once using pd.concat(axis=1) instead. To get a de-fragmented frame, use `newframe = frame.copy()`\n",
      "  close_data[i] = tse.get_price_history(i, ignore_date=True)['Close']\n",
      "C:\\Users\\ADMIN\\AppData\\Local\\Temp\\ipykernel_5324\\1884699609.py:3: PerformanceWarning: DataFrame is highly fragmented.  This is usually the result of calling `frame.insert` many times, which has poor performance.  Consider joining all columns at once using pd.concat(axis=1) instead. To get a de-fragmented frame, use `newframe = frame.copy()`\n",
      "  close_data[i] = tse.get_price_history(i, ignore_date=True)['Close']\n",
      "C:\\Users\\ADMIN\\AppData\\Local\\Temp\\ipykernel_5324\\1884699609.py:3: PerformanceWarning: DataFrame is highly fragmented.  This is usually the result of calling `frame.insert` many times, which has poor performance.  Consider joining all columns at once using pd.concat(axis=1) instead. To get a de-fragmented frame, use `newframe = frame.copy()`\n",
      "  close_data[i] = tse.get_price_history(i, ignore_date=True)['Close']\n",
      "C:\\Users\\ADMIN\\AppData\\Local\\Temp\\ipykernel_5324\\1884699609.py:3: PerformanceWarning: DataFrame is highly fragmented.  This is usually the result of calling `frame.insert` many times, which has poor performance.  Consider joining all columns at once using pd.concat(axis=1) instead. To get a de-fragmented frame, use `newframe = frame.copy()`\n",
      "  close_data[i] = tse.get_price_history(i, ignore_date=True)['Close']\n",
      "C:\\Users\\ADMIN\\AppData\\Local\\Temp\\ipykernel_5324\\1884699609.py:3: PerformanceWarning: DataFrame is highly fragmented.  This is usually the result of calling `frame.insert` many times, which has poor performance.  Consider joining all columns at once using pd.concat(axis=1) instead. To get a de-fragmented frame, use `newframe = frame.copy()`\n",
      "  close_data[i] = tse.get_price_history(i, ignore_date=True)['Close']\n",
      "C:\\Users\\ADMIN\\AppData\\Local\\Temp\\ipykernel_5324\\1884699609.py:3: PerformanceWarning: DataFrame is highly fragmented.  This is usually the result of calling `frame.insert` many times, which has poor performance.  Consider joining all columns at once using pd.concat(axis=1) instead. To get a de-fragmented frame, use `newframe = frame.copy()`\n",
      "  close_data[i] = tse.get_price_history(i, ignore_date=True)['Close']\n",
      "C:\\Users\\ADMIN\\AppData\\Local\\Temp\\ipykernel_5324\\1884699609.py:3: PerformanceWarning: DataFrame is highly fragmented.  This is usually the result of calling `frame.insert` many times, which has poor performance.  Consider joining all columns at once using pd.concat(axis=1) instead. To get a de-fragmented frame, use `newframe = frame.copy()`\n",
      "  close_data[i] = tse.get_price_history(i, ignore_date=True)['Close']\n",
      "C:\\Users\\ADMIN\\AppData\\Local\\Temp\\ipykernel_5324\\1884699609.py:3: PerformanceWarning: DataFrame is highly fragmented.  This is usually the result of calling `frame.insert` many times, which has poor performance.  Consider joining all columns at once using pd.concat(axis=1) instead. To get a de-fragmented frame, use `newframe = frame.copy()`\n",
      "  close_data[i] = tse.get_price_history(i, ignore_date=True)['Close']\n",
      "C:\\Users\\ADMIN\\AppData\\Local\\Temp\\ipykernel_5324\\1884699609.py:3: PerformanceWarning: DataFrame is highly fragmented.  This is usually the result of calling `frame.insert` many times, which has poor performance.  Consider joining all columns at once using pd.concat(axis=1) instead. To get a de-fragmented frame, use `newframe = frame.copy()`\n",
      "  close_data[i] = tse.get_price_history(i, ignore_date=True)['Close']\n",
      "C:\\Users\\ADMIN\\AppData\\Local\\Temp\\ipykernel_5324\\1884699609.py:3: PerformanceWarning: DataFrame is highly fragmented.  This is usually the result of calling `frame.insert` many times, which has poor performance.  Consider joining all columns at once using pd.concat(axis=1) instead. To get a de-fragmented frame, use `newframe = frame.copy()`\n",
      "  close_data[i] = tse.get_price_history(i, ignore_date=True)['Close']\n",
      "C:\\Users\\ADMIN\\AppData\\Local\\Temp\\ipykernel_5324\\1884699609.py:3: PerformanceWarning: DataFrame is highly fragmented.  This is usually the result of calling `frame.insert` many times, which has poor performance.  Consider joining all columns at once using pd.concat(axis=1) instead. To get a de-fragmented frame, use `newframe = frame.copy()`\n",
      "  close_data[i] = tse.get_price_history(i, ignore_date=True)['Close']\n",
      "C:\\Users\\ADMIN\\AppData\\Local\\Temp\\ipykernel_5324\\1884699609.py:3: PerformanceWarning: DataFrame is highly fragmented.  This is usually the result of calling `frame.insert` many times, which has poor performance.  Consider joining all columns at once using pd.concat(axis=1) instead. To get a de-fragmented frame, use `newframe = frame.copy()`\n",
      "  close_data[i] = tse.get_price_history(i, ignore_date=True)['Close']\n",
      "C:\\Users\\ADMIN\\AppData\\Local\\Temp\\ipykernel_5324\\1884699609.py:3: PerformanceWarning: DataFrame is highly fragmented.  This is usually the result of calling `frame.insert` many times, which has poor performance.  Consider joining all columns at once using pd.concat(axis=1) instead. To get a de-fragmented frame, use `newframe = frame.copy()`\n",
      "  close_data[i] = tse.get_price_history(i, ignore_date=True)['Close']\n",
      "C:\\Users\\ADMIN\\AppData\\Local\\Temp\\ipykernel_5324\\1884699609.py:3: PerformanceWarning: DataFrame is highly fragmented.  This is usually the result of calling `frame.insert` many times, which has poor performance.  Consider joining all columns at once using pd.concat(axis=1) instead. To get a de-fragmented frame, use `newframe = frame.copy()`\n",
      "  close_data[i] = tse.get_price_history(i, ignore_date=True)['Close']\n",
      "C:\\Users\\ADMIN\\AppData\\Local\\Temp\\ipykernel_5324\\1884699609.py:3: PerformanceWarning: DataFrame is highly fragmented.  This is usually the result of calling `frame.insert` many times, which has poor performance.  Consider joining all columns at once using pd.concat(axis=1) instead. To get a de-fragmented frame, use `newframe = frame.copy()`\n",
      "  close_data[i] = tse.get_price_history(i, ignore_date=True)['Close']\n",
      "C:\\Users\\ADMIN\\AppData\\Local\\Temp\\ipykernel_5324\\1884699609.py:3: PerformanceWarning: DataFrame is highly fragmented.  This is usually the result of calling `frame.insert` many times, which has poor performance.  Consider joining all columns at once using pd.concat(axis=1) instead. To get a de-fragmented frame, use `newframe = frame.copy()`\n",
      "  close_data[i] = tse.get_price_history(i, ignore_date=True)['Close']\n",
      "C:\\Users\\ADMIN\\AppData\\Local\\Temp\\ipykernel_5324\\1884699609.py:3: PerformanceWarning: DataFrame is highly fragmented.  This is usually the result of calling `frame.insert` many times, which has poor performance.  Consider joining all columns at once using pd.concat(axis=1) instead. To get a de-fragmented frame, use `newframe = frame.copy()`\n",
      "  close_data[i] = tse.get_price_history(i, ignore_date=True)['Close']\n",
      "C:\\Users\\ADMIN\\AppData\\Local\\Temp\\ipykernel_5324\\1884699609.py:3: PerformanceWarning: DataFrame is highly fragmented.  This is usually the result of calling `frame.insert` many times, which has poor performance.  Consider joining all columns at once using pd.concat(axis=1) instead. To get a de-fragmented frame, use `newframe = frame.copy()`\n",
      "  close_data[i] = tse.get_price_history(i, ignore_date=True)['Close']\n",
      "C:\\Users\\ADMIN\\AppData\\Local\\Temp\\ipykernel_5324\\1884699609.py:3: PerformanceWarning: DataFrame is highly fragmented.  This is usually the result of calling `frame.insert` many times, which has poor performance.  Consider joining all columns at once using pd.concat(axis=1) instead. To get a de-fragmented frame, use `newframe = frame.copy()`\n",
      "  close_data[i] = tse.get_price_history(i, ignore_date=True)['Close']\n",
      "C:\\Users\\ADMIN\\AppData\\Local\\Temp\\ipykernel_5324\\1884699609.py:3: PerformanceWarning: DataFrame is highly fragmented.  This is usually the result of calling `frame.insert` many times, which has poor performance.  Consider joining all columns at once using pd.concat(axis=1) instead. To get a de-fragmented frame, use `newframe = frame.copy()`\n",
      "  close_data[i] = tse.get_price_history(i, ignore_date=True)['Close']\n",
      "C:\\Users\\ADMIN\\AppData\\Local\\Temp\\ipykernel_5324\\1884699609.py:3: PerformanceWarning: DataFrame is highly fragmented.  This is usually the result of calling `frame.insert` many times, which has poor performance.  Consider joining all columns at once using pd.concat(axis=1) instead. To get a de-fragmented frame, use `newframe = frame.copy()`\n",
      "  close_data[i] = tse.get_price_history(i, ignore_date=True)['Close']\n",
      "C:\\Users\\ADMIN\\AppData\\Local\\Temp\\ipykernel_5324\\1884699609.py:3: PerformanceWarning: DataFrame is highly fragmented.  This is usually the result of calling `frame.insert` many times, which has poor performance.  Consider joining all columns at once using pd.concat(axis=1) instead. To get a de-fragmented frame, use `newframe = frame.copy()`\n",
      "  close_data[i] = tse.get_price_history(i, ignore_date=True)['Close']\n",
      "C:\\Users\\ADMIN\\AppData\\Local\\Temp\\ipykernel_5324\\1884699609.py:3: PerformanceWarning: DataFrame is highly fragmented.  This is usually the result of calling `frame.insert` many times, which has poor performance.  Consider joining all columns at once using pd.concat(axis=1) instead. To get a de-fragmented frame, use `newframe = frame.copy()`\n",
      "  close_data[i] = tse.get_price_history(i, ignore_date=True)['Close']\n",
      "C:\\Users\\ADMIN\\AppData\\Local\\Temp\\ipykernel_5324\\1884699609.py:3: PerformanceWarning: DataFrame is highly fragmented.  This is usually the result of calling `frame.insert` many times, which has poor performance.  Consider joining all columns at once using pd.concat(axis=1) instead. To get a de-fragmented frame, use `newframe = frame.copy()`\n",
      "  close_data[i] = tse.get_price_history(i, ignore_date=True)['Close']\n",
      "C:\\Users\\ADMIN\\AppData\\Local\\Temp\\ipykernel_5324\\1884699609.py:3: PerformanceWarning: DataFrame is highly fragmented.  This is usually the result of calling `frame.insert` many times, which has poor performance.  Consider joining all columns at once using pd.concat(axis=1) instead. To get a de-fragmented frame, use `newframe = frame.copy()`\n",
      "  close_data[i] = tse.get_price_history(i, ignore_date=True)['Close']\n",
      "C:\\Users\\ADMIN\\AppData\\Local\\Temp\\ipykernel_5324\\1884699609.py:3: PerformanceWarning: DataFrame is highly fragmented.  This is usually the result of calling `frame.insert` many times, which has poor performance.  Consider joining all columns at once using pd.concat(axis=1) instead. To get a de-fragmented frame, use `newframe = frame.copy()`\n",
      "  close_data[i] = tse.get_price_history(i, ignore_date=True)['Close']\n",
      "C:\\Users\\ADMIN\\AppData\\Local\\Temp\\ipykernel_5324\\1884699609.py:3: PerformanceWarning: DataFrame is highly fragmented.  This is usually the result of calling `frame.insert` many times, which has poor performance.  Consider joining all columns at once using pd.concat(axis=1) instead. To get a de-fragmented frame, use `newframe = frame.copy()`\n",
      "  close_data[i] = tse.get_price_history(i, ignore_date=True)['Close']\n",
      "C:\\Users\\ADMIN\\AppData\\Local\\Temp\\ipykernel_5324\\1884699609.py:3: PerformanceWarning: DataFrame is highly fragmented.  This is usually the result of calling `frame.insert` many times, which has poor performance.  Consider joining all columns at once using pd.concat(axis=1) instead. To get a de-fragmented frame, use `newframe = frame.copy()`\n",
      "  close_data[i] = tse.get_price_history(i, ignore_date=True)['Close']\n",
      "C:\\Users\\ADMIN\\AppData\\Local\\Temp\\ipykernel_5324\\1884699609.py:3: PerformanceWarning: DataFrame is highly fragmented.  This is usually the result of calling `frame.insert` many times, which has poor performance.  Consider joining all columns at once using pd.concat(axis=1) instead. To get a de-fragmented frame, use `newframe = frame.copy()`\n",
      "  close_data[i] = tse.get_price_history(i, ignore_date=True)['Close']\n",
      "C:\\Users\\ADMIN\\AppData\\Local\\Temp\\ipykernel_5324\\1884699609.py:3: PerformanceWarning: DataFrame is highly fragmented.  This is usually the result of calling `frame.insert` many times, which has poor performance.  Consider joining all columns at once using pd.concat(axis=1) instead. To get a de-fragmented frame, use `newframe = frame.copy()`\n",
      "  close_data[i] = tse.get_price_history(i, ignore_date=True)['Close']\n",
      "C:\\Users\\ADMIN\\AppData\\Local\\Temp\\ipykernel_5324\\1884699609.py:3: PerformanceWarning: DataFrame is highly fragmented.  This is usually the result of calling `frame.insert` many times, which has poor performance.  Consider joining all columns at once using pd.concat(axis=1) instead. To get a de-fragmented frame, use `newframe = frame.copy()`\n",
      "  close_data[i] = tse.get_price_history(i, ignore_date=True)['Close']\n",
      "C:\\Users\\ADMIN\\AppData\\Local\\Temp\\ipykernel_5324\\1884699609.py:3: PerformanceWarning: DataFrame is highly fragmented.  This is usually the result of calling `frame.insert` many times, which has poor performance.  Consider joining all columns at once using pd.concat(axis=1) instead. To get a de-fragmented frame, use `newframe = frame.copy()`\n",
      "  close_data[i] = tse.get_price_history(i, ignore_date=True)['Close']\n",
      "C:\\Users\\ADMIN\\AppData\\Local\\Temp\\ipykernel_5324\\1884699609.py:3: PerformanceWarning: DataFrame is highly fragmented.  This is usually the result of calling `frame.insert` many times, which has poor performance.  Consider joining all columns at once using pd.concat(axis=1) instead. To get a de-fragmented frame, use `newframe = frame.copy()`\n",
      "  close_data[i] = tse.get_price_history(i, ignore_date=True)['Close']\n",
      "C:\\Users\\ADMIN\\AppData\\Local\\Temp\\ipykernel_5324\\1884699609.py:3: PerformanceWarning: DataFrame is highly fragmented.  This is usually the result of calling `frame.insert` many times, which has poor performance.  Consider joining all columns at once using pd.concat(axis=1) instead. To get a de-fragmented frame, use `newframe = frame.copy()`\n",
      "  close_data[i] = tse.get_price_history(i, ignore_date=True)['Close']\n",
      "C:\\Users\\ADMIN\\AppData\\Local\\Temp\\ipykernel_5324\\1884699609.py:3: PerformanceWarning: DataFrame is highly fragmented.  This is usually the result of calling `frame.insert` many times, which has poor performance.  Consider joining all columns at once using pd.concat(axis=1) instead. To get a de-fragmented frame, use `newframe = frame.copy()`\n",
      "  close_data[i] = tse.get_price_history(i, ignore_date=True)['Close']\n",
      "C:\\Users\\ADMIN\\AppData\\Local\\Temp\\ipykernel_5324\\1884699609.py:3: PerformanceWarning: DataFrame is highly fragmented.  This is usually the result of calling `frame.insert` many times, which has poor performance.  Consider joining all columns at once using pd.concat(axis=1) instead. To get a de-fragmented frame, use `newframe = frame.copy()`\n",
      "  close_data[i] = tse.get_price_history(i, ignore_date=True)['Close']\n",
      "C:\\Users\\ADMIN\\AppData\\Local\\Temp\\ipykernel_5324\\1884699609.py:3: PerformanceWarning: DataFrame is highly fragmented.  This is usually the result of calling `frame.insert` many times, which has poor performance.  Consider joining all columns at once using pd.concat(axis=1) instead. To get a de-fragmented frame, use `newframe = frame.copy()`\n",
      "  close_data[i] = tse.get_price_history(i, ignore_date=True)['Close']\n",
      "C:\\Users\\ADMIN\\AppData\\Local\\Temp\\ipykernel_5324\\1884699609.py:3: PerformanceWarning: DataFrame is highly fragmented.  This is usually the result of calling `frame.insert` many times, which has poor performance.  Consider joining all columns at once using pd.concat(axis=1) instead. To get a de-fragmented frame, use `newframe = frame.copy()`\n",
      "  close_data[i] = tse.get_price_history(i, ignore_date=True)['Close']\n",
      "C:\\Users\\ADMIN\\AppData\\Local\\Temp\\ipykernel_5324\\1884699609.py:3: PerformanceWarning: DataFrame is highly fragmented.  This is usually the result of calling `frame.insert` many times, which has poor performance.  Consider joining all columns at once using pd.concat(axis=1) instead. To get a de-fragmented frame, use `newframe = frame.copy()`\n",
      "  close_data[i] = tse.get_price_history(i, ignore_date=True)['Close']\n",
      "C:\\Users\\ADMIN\\AppData\\Local\\Temp\\ipykernel_5324\\1884699609.py:3: PerformanceWarning: DataFrame is highly fragmented.  This is usually the result of calling `frame.insert` many times, which has poor performance.  Consider joining all columns at once using pd.concat(axis=1) instead. To get a de-fragmented frame, use `newframe = frame.copy()`\n",
      "  close_data[i] = tse.get_price_history(i, ignore_date=True)['Close']\n",
      "C:\\Users\\ADMIN\\AppData\\Local\\Temp\\ipykernel_5324\\1884699609.py:3: PerformanceWarning: DataFrame is highly fragmented.  This is usually the result of calling `frame.insert` many times, which has poor performance.  Consider joining all columns at once using pd.concat(axis=1) instead. To get a de-fragmented frame, use `newframe = frame.copy()`\n",
      "  close_data[i] = tse.get_price_history(i, ignore_date=True)['Close']\n",
      "C:\\Users\\ADMIN\\AppData\\Local\\Temp\\ipykernel_5324\\1884699609.py:3: PerformanceWarning: DataFrame is highly fragmented.  This is usually the result of calling `frame.insert` many times, which has poor performance.  Consider joining all columns at once using pd.concat(axis=1) instead. To get a de-fragmented frame, use `newframe = frame.copy()`\n",
      "  close_data[i] = tse.get_price_history(i, ignore_date=True)['Close']\n",
      "C:\\Users\\ADMIN\\AppData\\Local\\Temp\\ipykernel_5324\\1884699609.py:3: PerformanceWarning: DataFrame is highly fragmented.  This is usually the result of calling `frame.insert` many times, which has poor performance.  Consider joining all columns at once using pd.concat(axis=1) instead. To get a de-fragmented frame, use `newframe = frame.copy()`\n",
      "  close_data[i] = tse.get_price_history(i, ignore_date=True)['Close']\n",
      "C:\\Users\\ADMIN\\AppData\\Local\\Temp\\ipykernel_5324\\1884699609.py:3: PerformanceWarning: DataFrame is highly fragmented.  This is usually the result of calling `frame.insert` many times, which has poor performance.  Consider joining all columns at once using pd.concat(axis=1) instead. To get a de-fragmented frame, use `newframe = frame.copy()`\n",
      "  close_data[i] = tse.get_price_history(i, ignore_date=True)['Close']\n",
      "C:\\Users\\ADMIN\\AppData\\Local\\Temp\\ipykernel_5324\\1884699609.py:3: PerformanceWarning: DataFrame is highly fragmented.  This is usually the result of calling `frame.insert` many times, which has poor performance.  Consider joining all columns at once using pd.concat(axis=1) instead. To get a de-fragmented frame, use `newframe = frame.copy()`\n",
      "  close_data[i] = tse.get_price_history(i, ignore_date=True)['Close']\n",
      "C:\\Users\\ADMIN\\AppData\\Local\\Temp\\ipykernel_5324\\1884699609.py:3: PerformanceWarning: DataFrame is highly fragmented.  This is usually the result of calling `frame.insert` many times, which has poor performance.  Consider joining all columns at once using pd.concat(axis=1) instead. To get a de-fragmented frame, use `newframe = frame.copy()`\n",
      "  close_data[i] = tse.get_price_history(i, ignore_date=True)['Close']\n",
      "C:\\Users\\ADMIN\\AppData\\Local\\Temp\\ipykernel_5324\\1884699609.py:3: PerformanceWarning: DataFrame is highly fragmented.  This is usually the result of calling `frame.insert` many times, which has poor performance.  Consider joining all columns at once using pd.concat(axis=1) instead. To get a de-fragmented frame, use `newframe = frame.copy()`\n",
      "  close_data[i] = tse.get_price_history(i, ignore_date=True)['Close']\n",
      "C:\\Users\\ADMIN\\AppData\\Local\\Temp\\ipykernel_5324\\1884699609.py:3: PerformanceWarning: DataFrame is highly fragmented.  This is usually the result of calling `frame.insert` many times, which has poor performance.  Consider joining all columns at once using pd.concat(axis=1) instead. To get a de-fragmented frame, use `newframe = frame.copy()`\n",
      "  close_data[i] = tse.get_price_history(i, ignore_date=True)['Close']\n",
      "C:\\Users\\ADMIN\\AppData\\Local\\Temp\\ipykernel_5324\\1884699609.py:3: PerformanceWarning: DataFrame is highly fragmented.  This is usually the result of calling `frame.insert` many times, which has poor performance.  Consider joining all columns at once using pd.concat(axis=1) instead. To get a de-fragmented frame, use `newframe = frame.copy()`\n",
      "  close_data[i] = tse.get_price_history(i, ignore_date=True)['Close']\n",
      "C:\\Users\\ADMIN\\AppData\\Local\\Temp\\ipykernel_5324\\1884699609.py:3: PerformanceWarning: DataFrame is highly fragmented.  This is usually the result of calling `frame.insert` many times, which has poor performance.  Consider joining all columns at once using pd.concat(axis=1) instead. To get a de-fragmented frame, use `newframe = frame.copy()`\n",
      "  close_data[i] = tse.get_price_history(i, ignore_date=True)['Close']\n",
      "C:\\Users\\ADMIN\\AppData\\Local\\Temp\\ipykernel_5324\\1884699609.py:3: PerformanceWarning: DataFrame is highly fragmented.  This is usually the result of calling `frame.insert` many times, which has poor performance.  Consider joining all columns at once using pd.concat(axis=1) instead. To get a de-fragmented frame, use `newframe = frame.copy()`\n",
      "  close_data[i] = tse.get_price_history(i, ignore_date=True)['Close']\n",
      "C:\\Users\\ADMIN\\AppData\\Local\\Temp\\ipykernel_5324\\1884699609.py:3: PerformanceWarning: DataFrame is highly fragmented.  This is usually the result of calling `frame.insert` many times, which has poor performance.  Consider joining all columns at once using pd.concat(axis=1) instead. To get a de-fragmented frame, use `newframe = frame.copy()`\n",
      "  close_data[i] = tse.get_price_history(i, ignore_date=True)['Close']\n",
      "C:\\Users\\ADMIN\\AppData\\Local\\Temp\\ipykernel_5324\\1884699609.py:3: PerformanceWarning: DataFrame is highly fragmented.  This is usually the result of calling `frame.insert` many times, which has poor performance.  Consider joining all columns at once using pd.concat(axis=1) instead. To get a de-fragmented frame, use `newframe = frame.copy()`\n",
      "  close_data[i] = tse.get_price_history(i, ignore_date=True)['Close']\n",
      "C:\\Users\\ADMIN\\AppData\\Local\\Temp\\ipykernel_5324\\1884699609.py:3: PerformanceWarning: DataFrame is highly fragmented.  This is usually the result of calling `frame.insert` many times, which has poor performance.  Consider joining all columns at once using pd.concat(axis=1) instead. To get a de-fragmented frame, use `newframe = frame.copy()`\n",
      "  close_data[i] = tse.get_price_history(i, ignore_date=True)['Close']\n",
      "C:\\Users\\ADMIN\\AppData\\Local\\Temp\\ipykernel_5324\\1884699609.py:3: PerformanceWarning: DataFrame is highly fragmented.  This is usually the result of calling `frame.insert` many times, which has poor performance.  Consider joining all columns at once using pd.concat(axis=1) instead. To get a de-fragmented frame, use `newframe = frame.copy()`\n",
      "  close_data[i] = tse.get_price_history(i, ignore_date=True)['Close']\n",
      "C:\\Users\\ADMIN\\AppData\\Local\\Temp\\ipykernel_5324\\1884699609.py:3: PerformanceWarning: DataFrame is highly fragmented.  This is usually the result of calling `frame.insert` many times, which has poor performance.  Consider joining all columns at once using pd.concat(axis=1) instead. To get a de-fragmented frame, use `newframe = frame.copy()`\n",
      "  close_data[i] = tse.get_price_history(i, ignore_date=True)['Close']\n",
      "C:\\Users\\ADMIN\\AppData\\Local\\Temp\\ipykernel_5324\\1884699609.py:3: PerformanceWarning: DataFrame is highly fragmented.  This is usually the result of calling `frame.insert` many times, which has poor performance.  Consider joining all columns at once using pd.concat(axis=1) instead. To get a de-fragmented frame, use `newframe = frame.copy()`\n",
      "  close_data[i] = tse.get_price_history(i, ignore_date=True)['Close']\n",
      "C:\\Users\\ADMIN\\AppData\\Local\\Temp\\ipykernel_5324\\1884699609.py:3: PerformanceWarning: DataFrame is highly fragmented.  This is usually the result of calling `frame.insert` many times, which has poor performance.  Consider joining all columns at once using pd.concat(axis=1) instead. To get a de-fragmented frame, use `newframe = frame.copy()`\n",
      "  close_data[i] = tse.get_price_history(i, ignore_date=True)['Close']\n",
      "C:\\Users\\ADMIN\\AppData\\Local\\Temp\\ipykernel_5324\\1884699609.py:3: PerformanceWarning: DataFrame is highly fragmented.  This is usually the result of calling `frame.insert` many times, which has poor performance.  Consider joining all columns at once using pd.concat(axis=1) instead. To get a de-fragmented frame, use `newframe = frame.copy()`\n",
      "  close_data[i] = tse.get_price_history(i, ignore_date=True)['Close']\n",
      "C:\\Users\\ADMIN\\AppData\\Local\\Temp\\ipykernel_5324\\1884699609.py:3: PerformanceWarning: DataFrame is highly fragmented.  This is usually the result of calling `frame.insert` many times, which has poor performance.  Consider joining all columns at once using pd.concat(axis=1) instead. To get a de-fragmented frame, use `newframe = frame.copy()`\n",
      "  close_data[i] = tse.get_price_history(i, ignore_date=True)['Close']\n",
      "C:\\Users\\ADMIN\\AppData\\Local\\Temp\\ipykernel_5324\\1884699609.py:3: PerformanceWarning: DataFrame is highly fragmented.  This is usually the result of calling `frame.insert` many times, which has poor performance.  Consider joining all columns at once using pd.concat(axis=1) instead. To get a de-fragmented frame, use `newframe = frame.copy()`\n",
      "  close_data[i] = tse.get_price_history(i, ignore_date=True)['Close']\n",
      "C:\\Users\\ADMIN\\AppData\\Local\\Temp\\ipykernel_5324\\1884699609.py:3: PerformanceWarning: DataFrame is highly fragmented.  This is usually the result of calling `frame.insert` many times, which has poor performance.  Consider joining all columns at once using pd.concat(axis=1) instead. To get a de-fragmented frame, use `newframe = frame.copy()`\n",
      "  close_data[i] = tse.get_price_history(i, ignore_date=True)['Close']\n",
      "C:\\Users\\ADMIN\\AppData\\Local\\Temp\\ipykernel_5324\\1884699609.py:3: PerformanceWarning: DataFrame is highly fragmented.  This is usually the result of calling `frame.insert` many times, which has poor performance.  Consider joining all columns at once using pd.concat(axis=1) instead. To get a de-fragmented frame, use `newframe = frame.copy()`\n",
      "  close_data[i] = tse.get_price_history(i, ignore_date=True)['Close']\n",
      "C:\\Users\\ADMIN\\AppData\\Local\\Temp\\ipykernel_5324\\1884699609.py:3: PerformanceWarning: DataFrame is highly fragmented.  This is usually the result of calling `frame.insert` many times, which has poor performance.  Consider joining all columns at once using pd.concat(axis=1) instead. To get a de-fragmented frame, use `newframe = frame.copy()`\n",
      "  close_data[i] = tse.get_price_history(i, ignore_date=True)['Close']\n",
      "C:\\Users\\ADMIN\\AppData\\Local\\Temp\\ipykernel_5324\\1884699609.py:3: PerformanceWarning: DataFrame is highly fragmented.  This is usually the result of calling `frame.insert` many times, which has poor performance.  Consider joining all columns at once using pd.concat(axis=1) instead. To get a de-fragmented frame, use `newframe = frame.copy()`\n",
      "  close_data[i] = tse.get_price_history(i, ignore_date=True)['Close']\n",
      "C:\\Users\\ADMIN\\AppData\\Local\\Temp\\ipykernel_5324\\1884699609.py:3: PerformanceWarning: DataFrame is highly fragmented.  This is usually the result of calling `frame.insert` many times, which has poor performance.  Consider joining all columns at once using pd.concat(axis=1) instead. To get a de-fragmented frame, use `newframe = frame.copy()`\n",
      "  close_data[i] = tse.get_price_history(i, ignore_date=True)['Close']\n",
      "C:\\Users\\ADMIN\\AppData\\Local\\Temp\\ipykernel_5324\\1884699609.py:3: PerformanceWarning: DataFrame is highly fragmented.  This is usually the result of calling `frame.insert` many times, which has poor performance.  Consider joining all columns at once using pd.concat(axis=1) instead. To get a de-fragmented frame, use `newframe = frame.copy()`\n",
      "  close_data[i] = tse.get_price_history(i, ignore_date=True)['Close']\n",
      "C:\\Users\\ADMIN\\AppData\\Local\\Temp\\ipykernel_5324\\1884699609.py:3: PerformanceWarning: DataFrame is highly fragmented.  This is usually the result of calling `frame.insert` many times, which has poor performance.  Consider joining all columns at once using pd.concat(axis=1) instead. To get a de-fragmented frame, use `newframe = frame.copy()`\n",
      "  close_data[i] = tse.get_price_history(i, ignore_date=True)['Close']\n",
      "C:\\Users\\ADMIN\\AppData\\Local\\Temp\\ipykernel_5324\\1884699609.py:3: PerformanceWarning: DataFrame is highly fragmented.  This is usually the result of calling `frame.insert` many times, which has poor performance.  Consider joining all columns at once using pd.concat(axis=1) instead. To get a de-fragmented frame, use `newframe = frame.copy()`\n",
      "  close_data[i] = tse.get_price_history(i, ignore_date=True)['Close']\n",
      "C:\\Users\\ADMIN\\AppData\\Local\\Temp\\ipykernel_5324\\1884699609.py:3: PerformanceWarning: DataFrame is highly fragmented.  This is usually the result of calling `frame.insert` many times, which has poor performance.  Consider joining all columns at once using pd.concat(axis=1) instead. To get a de-fragmented frame, use `newframe = frame.copy()`\n",
      "  close_data[i] = tse.get_price_history(i, ignore_date=True)['Close']\n",
      "C:\\Users\\ADMIN\\AppData\\Local\\Temp\\ipykernel_5324\\1884699609.py:3: PerformanceWarning: DataFrame is highly fragmented.  This is usually the result of calling `frame.insert` many times, which has poor performance.  Consider joining all columns at once using pd.concat(axis=1) instead. To get a de-fragmented frame, use `newframe = frame.copy()`\n",
      "  close_data[i] = tse.get_price_history(i, ignore_date=True)['Close']\n",
      "C:\\Users\\ADMIN\\AppData\\Local\\Temp\\ipykernel_5324\\1884699609.py:3: PerformanceWarning: DataFrame is highly fragmented.  This is usually the result of calling `frame.insert` many times, which has poor performance.  Consider joining all columns at once using pd.concat(axis=1) instead. To get a de-fragmented frame, use `newframe = frame.copy()`\n",
      "  close_data[i] = tse.get_price_history(i, ignore_date=True)['Close']\n",
      "C:\\Users\\ADMIN\\AppData\\Local\\Temp\\ipykernel_5324\\1884699609.py:3: PerformanceWarning: DataFrame is highly fragmented.  This is usually the result of calling `frame.insert` many times, which has poor performance.  Consider joining all columns at once using pd.concat(axis=1) instead. To get a de-fragmented frame, use `newframe = frame.copy()`\n",
      "  close_data[i] = tse.get_price_history(i, ignore_date=True)['Close']\n",
      "C:\\Users\\ADMIN\\AppData\\Local\\Temp\\ipykernel_5324\\1884699609.py:3: PerformanceWarning: DataFrame is highly fragmented.  This is usually the result of calling `frame.insert` many times, which has poor performance.  Consider joining all columns at once using pd.concat(axis=1) instead. To get a de-fragmented frame, use `newframe = frame.copy()`\n",
      "  close_data[i] = tse.get_price_history(i, ignore_date=True)['Close']\n",
      "C:\\Users\\ADMIN\\AppData\\Local\\Temp\\ipykernel_5324\\1884699609.py:3: PerformanceWarning: DataFrame is highly fragmented.  This is usually the result of calling `frame.insert` many times, which has poor performance.  Consider joining all columns at once using pd.concat(axis=1) instead. To get a de-fragmented frame, use `newframe = frame.copy()`\n",
      "  close_data[i] = tse.get_price_history(i, ignore_date=True)['Close']\n",
      "C:\\Users\\ADMIN\\AppData\\Local\\Temp\\ipykernel_5324\\1884699609.py:3: PerformanceWarning: DataFrame is highly fragmented.  This is usually the result of calling `frame.insert` many times, which has poor performance.  Consider joining all columns at once using pd.concat(axis=1) instead. To get a de-fragmented frame, use `newframe = frame.copy()`\n",
      "  close_data[i] = tse.get_price_history(i, ignore_date=True)['Close']\n",
      "C:\\Users\\ADMIN\\AppData\\Local\\Temp\\ipykernel_5324\\1884699609.py:3: PerformanceWarning: DataFrame is highly fragmented.  This is usually the result of calling `frame.insert` many times, which has poor performance.  Consider joining all columns at once using pd.concat(axis=1) instead. To get a de-fragmented frame, use `newframe = frame.copy()`\n",
      "  close_data[i] = tse.get_price_history(i, ignore_date=True)['Close']\n",
      "C:\\Users\\ADMIN\\AppData\\Local\\Temp\\ipykernel_5324\\1884699609.py:3: PerformanceWarning: DataFrame is highly fragmented.  This is usually the result of calling `frame.insert` many times, which has poor performance.  Consider joining all columns at once using pd.concat(axis=1) instead. To get a de-fragmented frame, use `newframe = frame.copy()`\n",
      "  close_data[i] = tse.get_price_history(i, ignore_date=True)['Close']\n",
      "C:\\Users\\ADMIN\\AppData\\Local\\Temp\\ipykernel_5324\\1884699609.py:3: PerformanceWarning: DataFrame is highly fragmented.  This is usually the result of calling `frame.insert` many times, which has poor performance.  Consider joining all columns at once using pd.concat(axis=1) instead. To get a de-fragmented frame, use `newframe = frame.copy()`\n",
      "  close_data[i] = tse.get_price_history(i, ignore_date=True)['Close']\n",
      "C:\\Users\\ADMIN\\AppData\\Local\\Temp\\ipykernel_5324\\1884699609.py:3: PerformanceWarning: DataFrame is highly fragmented.  This is usually the result of calling `frame.insert` many times, which has poor performance.  Consider joining all columns at once using pd.concat(axis=1) instead. To get a de-fragmented frame, use `newframe = frame.copy()`\n",
      "  close_data[i] = tse.get_price_history(i, ignore_date=True)['Close']\n",
      "C:\\Users\\ADMIN\\AppData\\Local\\Temp\\ipykernel_5324\\1884699609.py:3: PerformanceWarning: DataFrame is highly fragmented.  This is usually the result of calling `frame.insert` many times, which has poor performance.  Consider joining all columns at once using pd.concat(axis=1) instead. To get a de-fragmented frame, use `newframe = frame.copy()`\n",
      "  close_data[i] = tse.get_price_history(i, ignore_date=True)['Close']\n",
      "C:\\Users\\ADMIN\\AppData\\Local\\Temp\\ipykernel_5324\\1884699609.py:3: PerformanceWarning: DataFrame is highly fragmented.  This is usually the result of calling `frame.insert` many times, which has poor performance.  Consider joining all columns at once using pd.concat(axis=1) instead. To get a de-fragmented frame, use `newframe = frame.copy()`\n",
      "  close_data[i] = tse.get_price_history(i, ignore_date=True)['Close']\n",
      "C:\\Users\\ADMIN\\AppData\\Local\\Temp\\ipykernel_5324\\1884699609.py:3: PerformanceWarning: DataFrame is highly fragmented.  This is usually the result of calling `frame.insert` many times, which has poor performance.  Consider joining all columns at once using pd.concat(axis=1) instead. To get a de-fragmented frame, use `newframe = frame.copy()`\n",
      "  close_data[i] = tse.get_price_history(i, ignore_date=True)['Close']\n",
      "C:\\Users\\ADMIN\\AppData\\Local\\Temp\\ipykernel_5324\\1884699609.py:3: PerformanceWarning: DataFrame is highly fragmented.  This is usually the result of calling `frame.insert` many times, which has poor performance.  Consider joining all columns at once using pd.concat(axis=1) instead. To get a de-fragmented frame, use `newframe = frame.copy()`\n",
      "  close_data[i] = tse.get_price_history(i, ignore_date=True)['Close']\n",
      "C:\\Users\\ADMIN\\AppData\\Local\\Temp\\ipykernel_5324\\1884699609.py:3: PerformanceWarning: DataFrame is highly fragmented.  This is usually the result of calling `frame.insert` many times, which has poor performance.  Consider joining all columns at once using pd.concat(axis=1) instead. To get a de-fragmented frame, use `newframe = frame.copy()`\n",
      "  close_data[i] = tse.get_price_history(i, ignore_date=True)['Close']\n",
      "C:\\Users\\ADMIN\\AppData\\Local\\Temp\\ipykernel_5324\\1884699609.py:3: PerformanceWarning: DataFrame is highly fragmented.  This is usually the result of calling `frame.insert` many times, which has poor performance.  Consider joining all columns at once using pd.concat(axis=1) instead. To get a de-fragmented frame, use `newframe = frame.copy()`\n",
      "  close_data[i] = tse.get_price_history(i, ignore_date=True)['Close']\n",
      "C:\\Users\\ADMIN\\AppData\\Local\\Temp\\ipykernel_5324\\1884699609.py:3: PerformanceWarning: DataFrame is highly fragmented.  This is usually the result of calling `frame.insert` many times, which has poor performance.  Consider joining all columns at once using pd.concat(axis=1) instead. To get a de-fragmented frame, use `newframe = frame.copy()`\n",
      "  close_data[i] = tse.get_price_history(i, ignore_date=True)['Close']\n",
      "C:\\Users\\ADMIN\\AppData\\Local\\Temp\\ipykernel_5324\\1884699609.py:3: PerformanceWarning: DataFrame is highly fragmented.  This is usually the result of calling `frame.insert` many times, which has poor performance.  Consider joining all columns at once using pd.concat(axis=1) instead. To get a de-fragmented frame, use `newframe = frame.copy()`\n",
      "  close_data[i] = tse.get_price_history(i, ignore_date=True)['Close']\n",
      "C:\\Users\\ADMIN\\AppData\\Local\\Temp\\ipykernel_5324\\1884699609.py:3: PerformanceWarning: DataFrame is highly fragmented.  This is usually the result of calling `frame.insert` many times, which has poor performance.  Consider joining all columns at once using pd.concat(axis=1) instead. To get a de-fragmented frame, use `newframe = frame.copy()`\n",
      "  close_data[i] = tse.get_price_history(i, ignore_date=True)['Close']\n",
      "C:\\Users\\ADMIN\\AppData\\Local\\Temp\\ipykernel_5324\\1884699609.py:3: PerformanceWarning: DataFrame is highly fragmented.  This is usually the result of calling `frame.insert` many times, which has poor performance.  Consider joining all columns at once using pd.concat(axis=1) instead. To get a de-fragmented frame, use `newframe = frame.copy()`\n",
      "  close_data[i] = tse.get_price_history(i, ignore_date=True)['Close']\n",
      "C:\\Users\\ADMIN\\AppData\\Local\\Temp\\ipykernel_5324\\1884699609.py:3: PerformanceWarning: DataFrame is highly fragmented.  This is usually the result of calling `frame.insert` many times, which has poor performance.  Consider joining all columns at once using pd.concat(axis=1) instead. To get a de-fragmented frame, use `newframe = frame.copy()`\n",
      "  close_data[i] = tse.get_price_history(i, ignore_date=True)['Close']\n",
      "C:\\Users\\ADMIN\\AppData\\Local\\Temp\\ipykernel_5324\\1884699609.py:3: PerformanceWarning: DataFrame is highly fragmented.  This is usually the result of calling `frame.insert` many times, which has poor performance.  Consider joining all columns at once using pd.concat(axis=1) instead. To get a de-fragmented frame, use `newframe = frame.copy()`\n",
      "  close_data[i] = tse.get_price_history(i, ignore_date=True)['Close']\n",
      "C:\\Users\\ADMIN\\AppData\\Local\\Temp\\ipykernel_5324\\1884699609.py:3: PerformanceWarning: DataFrame is highly fragmented.  This is usually the result of calling `frame.insert` many times, which has poor performance.  Consider joining all columns at once using pd.concat(axis=1) instead. To get a de-fragmented frame, use `newframe = frame.copy()`\n",
      "  close_data[i] = tse.get_price_history(i, ignore_date=True)['Close']\n",
      "C:\\Users\\ADMIN\\AppData\\Local\\Temp\\ipykernel_5324\\1884699609.py:3: PerformanceWarning: DataFrame is highly fragmented.  This is usually the result of calling `frame.insert` many times, which has poor performance.  Consider joining all columns at once using pd.concat(axis=1) instead. To get a de-fragmented frame, use `newframe = frame.copy()`\n",
      "  close_data[i] = tse.get_price_history(i, ignore_date=True)['Close']\n",
      "C:\\Users\\ADMIN\\AppData\\Local\\Temp\\ipykernel_5324\\1884699609.py:3: PerformanceWarning: DataFrame is highly fragmented.  This is usually the result of calling `frame.insert` many times, which has poor performance.  Consider joining all columns at once using pd.concat(axis=1) instead. To get a de-fragmented frame, use `newframe = frame.copy()`\n",
      "  close_data[i] = tse.get_price_history(i, ignore_date=True)['Close']\n",
      "C:\\Users\\ADMIN\\AppData\\Local\\Temp\\ipykernel_5324\\1884699609.py:3: PerformanceWarning: DataFrame is highly fragmented.  This is usually the result of calling `frame.insert` many times, which has poor performance.  Consider joining all columns at once using pd.concat(axis=1) instead. To get a de-fragmented frame, use `newframe = frame.copy()`\n",
      "  close_data[i] = tse.get_price_history(i, ignore_date=True)['Close']\n",
      "C:\\Users\\ADMIN\\AppData\\Local\\Temp\\ipykernel_5324\\1884699609.py:3: PerformanceWarning: DataFrame is highly fragmented.  This is usually the result of calling `frame.insert` many times, which has poor performance.  Consider joining all columns at once using pd.concat(axis=1) instead. To get a de-fragmented frame, use `newframe = frame.copy()`\n",
      "  close_data[i] = tse.get_price_history(i, ignore_date=True)['Close']\n",
      "C:\\Users\\ADMIN\\AppData\\Local\\Temp\\ipykernel_5324\\1884699609.py:3: PerformanceWarning: DataFrame is highly fragmented.  This is usually the result of calling `frame.insert` many times, which has poor performance.  Consider joining all columns at once using pd.concat(axis=1) instead. To get a de-fragmented frame, use `newframe = frame.copy()`\n",
      "  close_data[i] = tse.get_price_history(i, ignore_date=True)['Close']\n",
      "C:\\Users\\ADMIN\\AppData\\Local\\Temp\\ipykernel_5324\\1884699609.py:3: PerformanceWarning: DataFrame is highly fragmented.  This is usually the result of calling `frame.insert` many times, which has poor performance.  Consider joining all columns at once using pd.concat(axis=1) instead. To get a de-fragmented frame, use `newframe = frame.copy()`\n",
      "  close_data[i] = tse.get_price_history(i, ignore_date=True)['Close']\n",
      "C:\\Users\\ADMIN\\AppData\\Local\\Temp\\ipykernel_5324\\1884699609.py:3: PerformanceWarning: DataFrame is highly fragmented.  This is usually the result of calling `frame.insert` many times, which has poor performance.  Consider joining all columns at once using pd.concat(axis=1) instead. To get a de-fragmented frame, use `newframe = frame.copy()`\n",
      "  close_data[i] = tse.get_price_history(i, ignore_date=True)['Close']\n",
      "C:\\Users\\ADMIN\\AppData\\Local\\Temp\\ipykernel_5324\\1884699609.py:3: PerformanceWarning: DataFrame is highly fragmented.  This is usually the result of calling `frame.insert` many times, which has poor performance.  Consider joining all columns at once using pd.concat(axis=1) instead. To get a de-fragmented frame, use `newframe = frame.copy()`\n",
      "  close_data[i] = tse.get_price_history(i, ignore_date=True)['Close']\n",
      "C:\\Users\\ADMIN\\AppData\\Local\\Temp\\ipykernel_5324\\1884699609.py:3: PerformanceWarning: DataFrame is highly fragmented.  This is usually the result of calling `frame.insert` many times, which has poor performance.  Consider joining all columns at once using pd.concat(axis=1) instead. To get a de-fragmented frame, use `newframe = frame.copy()`\n",
      "  close_data[i] = tse.get_price_history(i, ignore_date=True)['Close']\n",
      "C:\\Users\\ADMIN\\AppData\\Local\\Temp\\ipykernel_5324\\1884699609.py:3: PerformanceWarning: DataFrame is highly fragmented.  This is usually the result of calling `frame.insert` many times, which has poor performance.  Consider joining all columns at once using pd.concat(axis=1) instead. To get a de-fragmented frame, use `newframe = frame.copy()`\n",
      "  close_data[i] = tse.get_price_history(i, ignore_date=True)['Close']\n",
      "C:\\Users\\ADMIN\\AppData\\Local\\Temp\\ipykernel_5324\\1884699609.py:3: PerformanceWarning: DataFrame is highly fragmented.  This is usually the result of calling `frame.insert` many times, which has poor performance.  Consider joining all columns at once using pd.concat(axis=1) instead. To get a de-fragmented frame, use `newframe = frame.copy()`\n",
      "  close_data[i] = tse.get_price_history(i, ignore_date=True)['Close']\n",
      "C:\\Users\\ADMIN\\AppData\\Local\\Temp\\ipykernel_5324\\1884699609.py:3: PerformanceWarning: DataFrame is highly fragmented.  This is usually the result of calling `frame.insert` many times, which has poor performance.  Consider joining all columns at once using pd.concat(axis=1) instead. To get a de-fragmented frame, use `newframe = frame.copy()`\n",
      "  close_data[i] = tse.get_price_history(i, ignore_date=True)['Close']\n",
      "C:\\Users\\ADMIN\\AppData\\Local\\Temp\\ipykernel_5324\\1884699609.py:3: PerformanceWarning: DataFrame is highly fragmented.  This is usually the result of calling `frame.insert` many times, which has poor performance.  Consider joining all columns at once using pd.concat(axis=1) instead. To get a de-fragmented frame, use `newframe = frame.copy()`\n",
      "  close_data[i] = tse.get_price_history(i, ignore_date=True)['Close']\n",
      "C:\\Users\\ADMIN\\AppData\\Local\\Temp\\ipykernel_5324\\1884699609.py:3: PerformanceWarning: DataFrame is highly fragmented.  This is usually the result of calling `frame.insert` many times, which has poor performance.  Consider joining all columns at once using pd.concat(axis=1) instead. To get a de-fragmented frame, use `newframe = frame.copy()`\n",
      "  close_data[i] = tse.get_price_history(i, ignore_date=True)['Close']\n",
      "C:\\Users\\ADMIN\\AppData\\Local\\Temp\\ipykernel_5324\\1884699609.py:3: PerformanceWarning: DataFrame is highly fragmented.  This is usually the result of calling `frame.insert` many times, which has poor performance.  Consider joining all columns at once using pd.concat(axis=1) instead. To get a de-fragmented frame, use `newframe = frame.copy()`\n",
      "  close_data[i] = tse.get_price_history(i, ignore_date=True)['Close']\n",
      "C:\\Users\\ADMIN\\AppData\\Local\\Temp\\ipykernel_5324\\1884699609.py:3: PerformanceWarning: DataFrame is highly fragmented.  This is usually the result of calling `frame.insert` many times, which has poor performance.  Consider joining all columns at once using pd.concat(axis=1) instead. To get a de-fragmented frame, use `newframe = frame.copy()`\n",
      "  close_data[i] = tse.get_price_history(i, ignore_date=True)['Close']\n",
      "C:\\Users\\ADMIN\\AppData\\Local\\Temp\\ipykernel_5324\\1884699609.py:3: PerformanceWarning: DataFrame is highly fragmented.  This is usually the result of calling `frame.insert` many times, which has poor performance.  Consider joining all columns at once using pd.concat(axis=1) instead. To get a de-fragmented frame, use `newframe = frame.copy()`\n",
      "  close_data[i] = tse.get_price_history(i, ignore_date=True)['Close']\n",
      "C:\\Users\\ADMIN\\AppData\\Local\\Temp\\ipykernel_5324\\1884699609.py:3: PerformanceWarning: DataFrame is highly fragmented.  This is usually the result of calling `frame.insert` many times, which has poor performance.  Consider joining all columns at once using pd.concat(axis=1) instead. To get a de-fragmented frame, use `newframe = frame.copy()`\n",
      "  close_data[i] = tse.get_price_history(i, ignore_date=True)['Close']\n",
      "C:\\Users\\ADMIN\\AppData\\Local\\Temp\\ipykernel_5324\\1884699609.py:3: PerformanceWarning: DataFrame is highly fragmented.  This is usually the result of calling `frame.insert` many times, which has poor performance.  Consider joining all columns at once using pd.concat(axis=1) instead. To get a de-fragmented frame, use `newframe = frame.copy()`\n",
      "  close_data[i] = tse.get_price_history(i, ignore_date=True)['Close']\n",
      "C:\\Users\\ADMIN\\AppData\\Local\\Temp\\ipykernel_5324\\1884699609.py:3: PerformanceWarning: DataFrame is highly fragmented.  This is usually the result of calling `frame.insert` many times, which has poor performance.  Consider joining all columns at once using pd.concat(axis=1) instead. To get a de-fragmented frame, use `newframe = frame.copy()`\n",
      "  close_data[i] = tse.get_price_history(i, ignore_date=True)['Close']\n",
      "C:\\Users\\ADMIN\\AppData\\Local\\Temp\\ipykernel_5324\\1884699609.py:3: PerformanceWarning: DataFrame is highly fragmented.  This is usually the result of calling `frame.insert` many times, which has poor performance.  Consider joining all columns at once using pd.concat(axis=1) instead. To get a de-fragmented frame, use `newframe = frame.copy()`\n",
      "  close_data[i] = tse.get_price_history(i, ignore_date=True)['Close']\n",
      "C:\\Users\\ADMIN\\AppData\\Local\\Temp\\ipykernel_5324\\1884699609.py:3: PerformanceWarning: DataFrame is highly fragmented.  This is usually the result of calling `frame.insert` many times, which has poor performance.  Consider joining all columns at once using pd.concat(axis=1) instead. To get a de-fragmented frame, use `newframe = frame.copy()`\n",
      "  close_data[i] = tse.get_price_history(i, ignore_date=True)['Close']\n",
      "C:\\Users\\ADMIN\\AppData\\Local\\Temp\\ipykernel_5324\\1884699609.py:3: PerformanceWarning: DataFrame is highly fragmented.  This is usually the result of calling `frame.insert` many times, which has poor performance.  Consider joining all columns at once using pd.concat(axis=1) instead. To get a de-fragmented frame, use `newframe = frame.copy()`\n",
      "  close_data[i] = tse.get_price_history(i, ignore_date=True)['Close']\n",
      "C:\\Users\\ADMIN\\AppData\\Local\\Temp\\ipykernel_5324\\1884699609.py:3: PerformanceWarning: DataFrame is highly fragmented.  This is usually the result of calling `frame.insert` many times, which has poor performance.  Consider joining all columns at once using pd.concat(axis=1) instead. To get a de-fragmented frame, use `newframe = frame.copy()`\n",
      "  close_data[i] = tse.get_price_history(i, ignore_date=True)['Close']\n",
      "C:\\Users\\ADMIN\\AppData\\Local\\Temp\\ipykernel_5324\\1884699609.py:3: PerformanceWarning: DataFrame is highly fragmented.  This is usually the result of calling `frame.insert` many times, which has poor performance.  Consider joining all columns at once using pd.concat(axis=1) instead. To get a de-fragmented frame, use `newframe = frame.copy()`\n",
      "  close_data[i] = tse.get_price_history(i, ignore_date=True)['Close']\n",
      "C:\\Users\\ADMIN\\AppData\\Local\\Temp\\ipykernel_5324\\1884699609.py:3: PerformanceWarning: DataFrame is highly fragmented.  This is usually the result of calling `frame.insert` many times, which has poor performance.  Consider joining all columns at once using pd.concat(axis=1) instead. To get a de-fragmented frame, use `newframe = frame.copy()`\n",
      "  close_data[i] = tse.get_price_history(i, ignore_date=True)['Close']\n",
      "C:\\Users\\ADMIN\\AppData\\Local\\Temp\\ipykernel_5324\\1884699609.py:3: PerformanceWarning: DataFrame is highly fragmented.  This is usually the result of calling `frame.insert` many times, which has poor performance.  Consider joining all columns at once using pd.concat(axis=1) instead. To get a de-fragmented frame, use `newframe = frame.copy()`\n",
      "  close_data[i] = tse.get_price_history(i, ignore_date=True)['Close']\n",
      "C:\\Users\\ADMIN\\AppData\\Local\\Temp\\ipykernel_5324\\1884699609.py:3: PerformanceWarning: DataFrame is highly fragmented.  This is usually the result of calling `frame.insert` many times, which has poor performance.  Consider joining all columns at once using pd.concat(axis=1) instead. To get a de-fragmented frame, use `newframe = frame.copy()`\n",
      "  close_data[i] = tse.get_price_history(i, ignore_date=True)['Close']\n",
      "C:\\Users\\ADMIN\\AppData\\Local\\Temp\\ipykernel_5324\\1884699609.py:3: PerformanceWarning: DataFrame is highly fragmented.  This is usually the result of calling `frame.insert` many times, which has poor performance.  Consider joining all columns at once using pd.concat(axis=1) instead. To get a de-fragmented frame, use `newframe = frame.copy()`\n",
      "  close_data[i] = tse.get_price_history(i, ignore_date=True)['Close']\n",
      "C:\\Users\\ADMIN\\AppData\\Local\\Temp\\ipykernel_5324\\1884699609.py:3: PerformanceWarning: DataFrame is highly fragmented.  This is usually the result of calling `frame.insert` many times, which has poor performance.  Consider joining all columns at once using pd.concat(axis=1) instead. To get a de-fragmented frame, use `newframe = frame.copy()`\n",
      "  close_data[i] = tse.get_price_history(i, ignore_date=True)['Close']\n",
      "C:\\Users\\ADMIN\\AppData\\Local\\Temp\\ipykernel_5324\\1884699609.py:3: PerformanceWarning: DataFrame is highly fragmented.  This is usually the result of calling `frame.insert` many times, which has poor performance.  Consider joining all columns at once using pd.concat(axis=1) instead. To get a de-fragmented frame, use `newframe = frame.copy()`\n",
      "  close_data[i] = tse.get_price_history(i, ignore_date=True)['Close']\n",
      "C:\\Users\\ADMIN\\AppData\\Local\\Temp\\ipykernel_5324\\1884699609.py:3: PerformanceWarning: DataFrame is highly fragmented.  This is usually the result of calling `frame.insert` many times, which has poor performance.  Consider joining all columns at once using pd.concat(axis=1) instead. To get a de-fragmented frame, use `newframe = frame.copy()`\n",
      "  close_data[i] = tse.get_price_history(i, ignore_date=True)['Close']\n",
      "C:\\Users\\ADMIN\\AppData\\Local\\Temp\\ipykernel_5324\\1884699609.py:3: PerformanceWarning: DataFrame is highly fragmented.  This is usually the result of calling `frame.insert` many times, which has poor performance.  Consider joining all columns at once using pd.concat(axis=1) instead. To get a de-fragmented frame, use `newframe = frame.copy()`\n",
      "  close_data[i] = tse.get_price_history(i, ignore_date=True)['Close']\n",
      "C:\\Users\\ADMIN\\AppData\\Local\\Temp\\ipykernel_5324\\1884699609.py:3: PerformanceWarning: DataFrame is highly fragmented.  This is usually the result of calling `frame.insert` many times, which has poor performance.  Consider joining all columns at once using pd.concat(axis=1) instead. To get a de-fragmented frame, use `newframe = frame.copy()`\n",
      "  close_data[i] = tse.get_price_history(i, ignore_date=True)['Close']\n",
      "C:\\Users\\ADMIN\\AppData\\Local\\Temp\\ipykernel_5324\\1884699609.py:3: PerformanceWarning: DataFrame is highly fragmented.  This is usually the result of calling `frame.insert` many times, which has poor performance.  Consider joining all columns at once using pd.concat(axis=1) instead. To get a de-fragmented frame, use `newframe = frame.copy()`\n",
      "  close_data[i] = tse.get_price_history(i, ignore_date=True)['Close']\n",
      "C:\\Users\\ADMIN\\AppData\\Local\\Temp\\ipykernel_5324\\1884699609.py:3: PerformanceWarning: DataFrame is highly fragmented.  This is usually the result of calling `frame.insert` many times, which has poor performance.  Consider joining all columns at once using pd.concat(axis=1) instead. To get a de-fragmented frame, use `newframe = frame.copy()`\n",
      "  close_data[i] = tse.get_price_history(i, ignore_date=True)['Close']\n",
      "C:\\Users\\ADMIN\\AppData\\Local\\Temp\\ipykernel_5324\\1884699609.py:3: PerformanceWarning: DataFrame is highly fragmented.  This is usually the result of calling `frame.insert` many times, which has poor performance.  Consider joining all columns at once using pd.concat(axis=1) instead. To get a de-fragmented frame, use `newframe = frame.copy()`\n",
      "  close_data[i] = tse.get_price_history(i, ignore_date=True)['Close']\n",
      "C:\\Users\\ADMIN\\AppData\\Local\\Temp\\ipykernel_5324\\1884699609.py:3: PerformanceWarning: DataFrame is highly fragmented.  This is usually the result of calling `frame.insert` many times, which has poor performance.  Consider joining all columns at once using pd.concat(axis=1) instead. To get a de-fragmented frame, use `newframe = frame.copy()`\n",
      "  close_data[i] = tse.get_price_history(i, ignore_date=True)['Close']\n",
      "C:\\Users\\ADMIN\\AppData\\Local\\Temp\\ipykernel_5324\\1884699609.py:3: PerformanceWarning: DataFrame is highly fragmented.  This is usually the result of calling `frame.insert` many times, which has poor performance.  Consider joining all columns at once using pd.concat(axis=1) instead. To get a de-fragmented frame, use `newframe = frame.copy()`\n",
      "  close_data[i] = tse.get_price_history(i, ignore_date=True)['Close']\n",
      "C:\\Users\\ADMIN\\AppData\\Local\\Temp\\ipykernel_5324\\1884699609.py:3: PerformanceWarning: DataFrame is highly fragmented.  This is usually the result of calling `frame.insert` many times, which has poor performance.  Consider joining all columns at once using pd.concat(axis=1) instead. To get a de-fragmented frame, use `newframe = frame.copy()`\n",
      "  close_data[i] = tse.get_price_history(i, ignore_date=True)['Close']\n",
      "C:\\Users\\ADMIN\\AppData\\Local\\Temp\\ipykernel_5324\\1884699609.py:3: PerformanceWarning: DataFrame is highly fragmented.  This is usually the result of calling `frame.insert` many times, which has poor performance.  Consider joining all columns at once using pd.concat(axis=1) instead. To get a de-fragmented frame, use `newframe = frame.copy()`\n",
      "  close_data[i] = tse.get_price_history(i, ignore_date=True)['Close']\n",
      "C:\\Users\\ADMIN\\AppData\\Local\\Temp\\ipykernel_5324\\1884699609.py:3: PerformanceWarning: DataFrame is highly fragmented.  This is usually the result of calling `frame.insert` many times, which has poor performance.  Consider joining all columns at once using pd.concat(axis=1) instead. To get a de-fragmented frame, use `newframe = frame.copy()`\n",
      "  close_data[i] = tse.get_price_history(i, ignore_date=True)['Close']\n",
      "C:\\Users\\ADMIN\\AppData\\Local\\Temp\\ipykernel_5324\\1884699609.py:3: PerformanceWarning: DataFrame is highly fragmented.  This is usually the result of calling `frame.insert` many times, which has poor performance.  Consider joining all columns at once using pd.concat(axis=1) instead. To get a de-fragmented frame, use `newframe = frame.copy()`\n",
      "  close_data[i] = tse.get_price_history(i, ignore_date=True)['Close']\n",
      "C:\\Users\\ADMIN\\AppData\\Local\\Temp\\ipykernel_5324\\1884699609.py:3: PerformanceWarning: DataFrame is highly fragmented.  This is usually the result of calling `frame.insert` many times, which has poor performance.  Consider joining all columns at once using pd.concat(axis=1) instead. To get a de-fragmented frame, use `newframe = frame.copy()`\n",
      "  close_data[i] = tse.get_price_history(i, ignore_date=True)['Close']\n",
      "C:\\Users\\ADMIN\\AppData\\Local\\Temp\\ipykernel_5324\\1884699609.py:3: PerformanceWarning: DataFrame is highly fragmented.  This is usually the result of calling `frame.insert` many times, which has poor performance.  Consider joining all columns at once using pd.concat(axis=1) instead. To get a de-fragmented frame, use `newframe = frame.copy()`\n",
      "  close_data[i] = tse.get_price_history(i, ignore_date=True)['Close']\n",
      "C:\\Users\\ADMIN\\AppData\\Local\\Temp\\ipykernel_5324\\1884699609.py:3: PerformanceWarning: DataFrame is highly fragmented.  This is usually the result of calling `frame.insert` many times, which has poor performance.  Consider joining all columns at once using pd.concat(axis=1) instead. To get a de-fragmented frame, use `newframe = frame.copy()`\n",
      "  close_data[i] = tse.get_price_history(i, ignore_date=True)['Close']\n",
      "C:\\Users\\ADMIN\\AppData\\Local\\Temp\\ipykernel_5324\\1884699609.py:3: PerformanceWarning: DataFrame is highly fragmented.  This is usually the result of calling `frame.insert` many times, which has poor performance.  Consider joining all columns at once using pd.concat(axis=1) instead. To get a de-fragmented frame, use `newframe = frame.copy()`\n",
      "  close_data[i] = tse.get_price_history(i, ignore_date=True)['Close']\n",
      "C:\\Users\\ADMIN\\AppData\\Local\\Temp\\ipykernel_5324\\1884699609.py:3: PerformanceWarning: DataFrame is highly fragmented.  This is usually the result of calling `frame.insert` many times, which has poor performance.  Consider joining all columns at once using pd.concat(axis=1) instead. To get a de-fragmented frame, use `newframe = frame.copy()`\n",
      "  close_data[i] = tse.get_price_history(i, ignore_date=True)['Close']\n",
      "C:\\Users\\ADMIN\\AppData\\Local\\Temp\\ipykernel_5324\\1884699609.py:3: PerformanceWarning: DataFrame is highly fragmented.  This is usually the result of calling `frame.insert` many times, which has poor performance.  Consider joining all columns at once using pd.concat(axis=1) instead. To get a de-fragmented frame, use `newframe = frame.copy()`\n",
      "  close_data[i] = tse.get_price_history(i, ignore_date=True)['Close']\n",
      "C:\\Users\\ADMIN\\AppData\\Local\\Temp\\ipykernel_5324\\1884699609.py:3: PerformanceWarning: DataFrame is highly fragmented.  This is usually the result of calling `frame.insert` many times, which has poor performance.  Consider joining all columns at once using pd.concat(axis=1) instead. To get a de-fragmented frame, use `newframe = frame.copy()`\n",
      "  close_data[i] = tse.get_price_history(i, ignore_date=True)['Close']\n",
      "C:\\Users\\ADMIN\\AppData\\Local\\Temp\\ipykernel_5324\\1884699609.py:3: PerformanceWarning: DataFrame is highly fragmented.  This is usually the result of calling `frame.insert` many times, which has poor performance.  Consider joining all columns at once using pd.concat(axis=1) instead. To get a de-fragmented frame, use `newframe = frame.copy()`\n",
      "  close_data[i] = tse.get_price_history(i, ignore_date=True)['Close']\n",
      "C:\\Users\\ADMIN\\AppData\\Local\\Temp\\ipykernel_5324\\1884699609.py:3: PerformanceWarning: DataFrame is highly fragmented.  This is usually the result of calling `frame.insert` many times, which has poor performance.  Consider joining all columns at once using pd.concat(axis=1) instead. To get a de-fragmented frame, use `newframe = frame.copy()`\n",
      "  close_data[i] = tse.get_price_history(i, ignore_date=True)['Close']\n",
      "C:\\Users\\ADMIN\\AppData\\Local\\Temp\\ipykernel_5324\\1884699609.py:3: PerformanceWarning: DataFrame is highly fragmented.  This is usually the result of calling `frame.insert` many times, which has poor performance.  Consider joining all columns at once using pd.concat(axis=1) instead. To get a de-fragmented frame, use `newframe = frame.copy()`\n",
      "  close_data[i] = tse.get_price_history(i, ignore_date=True)['Close']\n",
      "C:\\Users\\ADMIN\\AppData\\Local\\Temp\\ipykernel_5324\\1884699609.py:3: PerformanceWarning: DataFrame is highly fragmented.  This is usually the result of calling `frame.insert` many times, which has poor performance.  Consider joining all columns at once using pd.concat(axis=1) instead. To get a de-fragmented frame, use `newframe = frame.copy()`\n",
      "  close_data[i] = tse.get_price_history(i, ignore_date=True)['Close']\n",
      "C:\\Users\\ADMIN\\AppData\\Local\\Temp\\ipykernel_5324\\1884699609.py:3: PerformanceWarning: DataFrame is highly fragmented.  This is usually the result of calling `frame.insert` many times, which has poor performance.  Consider joining all columns at once using pd.concat(axis=1) instead. To get a de-fragmented frame, use `newframe = frame.copy()`\n",
      "  close_data[i] = tse.get_price_history(i, ignore_date=True)['Close']\n",
      "C:\\Users\\ADMIN\\AppData\\Local\\Temp\\ipykernel_5324\\1884699609.py:3: PerformanceWarning: DataFrame is highly fragmented.  This is usually the result of calling `frame.insert` many times, which has poor performance.  Consider joining all columns at once using pd.concat(axis=1) instead. To get a de-fragmented frame, use `newframe = frame.copy()`\n",
      "  close_data[i] = tse.get_price_history(i, ignore_date=True)['Close']\n",
      "C:\\Users\\ADMIN\\AppData\\Local\\Temp\\ipykernel_5324\\1884699609.py:3: PerformanceWarning: DataFrame is highly fragmented.  This is usually the result of calling `frame.insert` many times, which has poor performance.  Consider joining all columns at once using pd.concat(axis=1) instead. To get a de-fragmented frame, use `newframe = frame.copy()`\n",
      "  close_data[i] = tse.get_price_history(i, ignore_date=True)['Close']\n",
      "C:\\Users\\ADMIN\\AppData\\Local\\Temp\\ipykernel_5324\\1884699609.py:3: PerformanceWarning: DataFrame is highly fragmented.  This is usually the result of calling `frame.insert` many times, which has poor performance.  Consider joining all columns at once using pd.concat(axis=1) instead. To get a de-fragmented frame, use `newframe = frame.copy()`\n",
      "  close_data[i] = tse.get_price_history(i, ignore_date=True)['Close']\n",
      "C:\\Users\\ADMIN\\AppData\\Local\\Temp\\ipykernel_5324\\1884699609.py:3: PerformanceWarning: DataFrame is highly fragmented.  This is usually the result of calling `frame.insert` many times, which has poor performance.  Consider joining all columns at once using pd.concat(axis=1) instead. To get a de-fragmented frame, use `newframe = frame.copy()`\n",
      "  close_data[i] = tse.get_price_history(i, ignore_date=True)['Close']\n",
      "C:\\Users\\ADMIN\\AppData\\Local\\Temp\\ipykernel_5324\\1884699609.py:3: PerformanceWarning: DataFrame is highly fragmented.  This is usually the result of calling `frame.insert` many times, which has poor performance.  Consider joining all columns at once using pd.concat(axis=1) instead. To get a de-fragmented frame, use `newframe = frame.copy()`\n",
      "  close_data[i] = tse.get_price_history(i, ignore_date=True)['Close']\n",
      "C:\\Users\\ADMIN\\AppData\\Local\\Temp\\ipykernel_5324\\1884699609.py:3: PerformanceWarning: DataFrame is highly fragmented.  This is usually the result of calling `frame.insert` many times, which has poor performance.  Consider joining all columns at once using pd.concat(axis=1) instead. To get a de-fragmented frame, use `newframe = frame.copy()`\n",
      "  close_data[i] = tse.get_price_history(i, ignore_date=True)['Close']\n",
      "C:\\Users\\ADMIN\\AppData\\Local\\Temp\\ipykernel_5324\\1884699609.py:3: PerformanceWarning: DataFrame is highly fragmented.  This is usually the result of calling `frame.insert` many times, which has poor performance.  Consider joining all columns at once using pd.concat(axis=1) instead. To get a de-fragmented frame, use `newframe = frame.copy()`\n",
      "  close_data[i] = tse.get_price_history(i, ignore_date=True)['Close']\n",
      "C:\\Users\\ADMIN\\AppData\\Local\\Temp\\ipykernel_5324\\1884699609.py:3: PerformanceWarning: DataFrame is highly fragmented.  This is usually the result of calling `frame.insert` many times, which has poor performance.  Consider joining all columns at once using pd.concat(axis=1) instead. To get a de-fragmented frame, use `newframe = frame.copy()`\n",
      "  close_data[i] = tse.get_price_history(i, ignore_date=True)['Close']\n",
      "C:\\Users\\ADMIN\\AppData\\Local\\Temp\\ipykernel_5324\\1884699609.py:3: PerformanceWarning: DataFrame is highly fragmented.  This is usually the result of calling `frame.insert` many times, which has poor performance.  Consider joining all columns at once using pd.concat(axis=1) instead. To get a de-fragmented frame, use `newframe = frame.copy()`\n",
      "  close_data[i] = tse.get_price_history(i, ignore_date=True)['Close']\n",
      "C:\\Users\\ADMIN\\AppData\\Local\\Temp\\ipykernel_5324\\1884699609.py:3: PerformanceWarning: DataFrame is highly fragmented.  This is usually the result of calling `frame.insert` many times, which has poor performance.  Consider joining all columns at once using pd.concat(axis=1) instead. To get a de-fragmented frame, use `newframe = frame.copy()`\n",
      "  close_data[i] = tse.get_price_history(i, ignore_date=True)['Close']\n",
      "C:\\Users\\ADMIN\\AppData\\Local\\Temp\\ipykernel_5324\\1884699609.py:3: PerformanceWarning: DataFrame is highly fragmented.  This is usually the result of calling `frame.insert` many times, which has poor performance.  Consider joining all columns at once using pd.concat(axis=1) instead. To get a de-fragmented frame, use `newframe = frame.copy()`\n",
      "  close_data[i] = tse.get_price_history(i, ignore_date=True)['Close']\n",
      "C:\\Users\\ADMIN\\AppData\\Local\\Temp\\ipykernel_5324\\1884699609.py:3: PerformanceWarning: DataFrame is highly fragmented.  This is usually the result of calling `frame.insert` many times, which has poor performance.  Consider joining all columns at once using pd.concat(axis=1) instead. To get a de-fragmented frame, use `newframe = frame.copy()`\n",
      "  close_data[i] = tse.get_price_history(i, ignore_date=True)['Close']\n",
      "C:\\Users\\ADMIN\\AppData\\Local\\Temp\\ipykernel_5324\\1884699609.py:3: PerformanceWarning: DataFrame is highly fragmented.  This is usually the result of calling `frame.insert` many times, which has poor performance.  Consider joining all columns at once using pd.concat(axis=1) instead. To get a de-fragmented frame, use `newframe = frame.copy()`\n",
      "  close_data[i] = tse.get_price_history(i, ignore_date=True)['Close']\n",
      "C:\\Users\\ADMIN\\AppData\\Local\\Temp\\ipykernel_5324\\1884699609.py:3: PerformanceWarning: DataFrame is highly fragmented.  This is usually the result of calling `frame.insert` many times, which has poor performance.  Consider joining all columns at once using pd.concat(axis=1) instead. To get a de-fragmented frame, use `newframe = frame.copy()`\n",
      "  close_data[i] = tse.get_price_history(i, ignore_date=True)['Close']\n",
      "C:\\Users\\ADMIN\\AppData\\Local\\Temp\\ipykernel_5324\\1884699609.py:3: PerformanceWarning: DataFrame is highly fragmented.  This is usually the result of calling `frame.insert` many times, which has poor performance.  Consider joining all columns at once using pd.concat(axis=1) instead. To get a de-fragmented frame, use `newframe = frame.copy()`\n",
      "  close_data[i] = tse.get_price_history(i, ignore_date=True)['Close']\n",
      "C:\\Users\\ADMIN\\AppData\\Local\\Temp\\ipykernel_5324\\1884699609.py:3: PerformanceWarning: DataFrame is highly fragmented.  This is usually the result of calling `frame.insert` many times, which has poor performance.  Consider joining all columns at once using pd.concat(axis=1) instead. To get a de-fragmented frame, use `newframe = frame.copy()`\n",
      "  close_data[i] = tse.get_price_history(i, ignore_date=True)['Close']\n",
      "C:\\Users\\ADMIN\\AppData\\Local\\Temp\\ipykernel_5324\\1884699609.py:3: PerformanceWarning: DataFrame is highly fragmented.  This is usually the result of calling `frame.insert` many times, which has poor performance.  Consider joining all columns at once using pd.concat(axis=1) instead. To get a de-fragmented frame, use `newframe = frame.copy()`\n",
      "  close_data[i] = tse.get_price_history(i, ignore_date=True)['Close']\n",
      "C:\\Users\\ADMIN\\AppData\\Local\\Temp\\ipykernel_5324\\1884699609.py:3: PerformanceWarning: DataFrame is highly fragmented.  This is usually the result of calling `frame.insert` many times, which has poor performance.  Consider joining all columns at once using pd.concat(axis=1) instead. To get a de-fragmented frame, use `newframe = frame.copy()`\n",
      "  close_data[i] = tse.get_price_history(i, ignore_date=True)['Close']\n",
      "C:\\Users\\ADMIN\\AppData\\Local\\Temp\\ipykernel_5324\\1884699609.py:3: PerformanceWarning: DataFrame is highly fragmented.  This is usually the result of calling `frame.insert` many times, which has poor performance.  Consider joining all columns at once using pd.concat(axis=1) instead. To get a de-fragmented frame, use `newframe = frame.copy()`\n",
      "  close_data[i] = tse.get_price_history(i, ignore_date=True)['Close']\n",
      "C:\\Users\\ADMIN\\AppData\\Local\\Temp\\ipykernel_5324\\1884699609.py:3: PerformanceWarning: DataFrame is highly fragmented.  This is usually the result of calling `frame.insert` many times, which has poor performance.  Consider joining all columns at once using pd.concat(axis=1) instead. To get a de-fragmented frame, use `newframe = frame.copy()`\n",
      "  close_data[i] = tse.get_price_history(i, ignore_date=True)['Close']\n",
      "C:\\Users\\ADMIN\\AppData\\Local\\Temp\\ipykernel_5324\\1884699609.py:3: PerformanceWarning: DataFrame is highly fragmented.  This is usually the result of calling `frame.insert` many times, which has poor performance.  Consider joining all columns at once using pd.concat(axis=1) instead. To get a de-fragmented frame, use `newframe = frame.copy()`\n",
      "  close_data[i] = tse.get_price_history(i, ignore_date=True)['Close']\n",
      "C:\\Users\\ADMIN\\AppData\\Local\\Temp\\ipykernel_5324\\1884699609.py:3: PerformanceWarning: DataFrame is highly fragmented.  This is usually the result of calling `frame.insert` many times, which has poor performance.  Consider joining all columns at once using pd.concat(axis=1) instead. To get a de-fragmented frame, use `newframe = frame.copy()`\n",
      "  close_data[i] = tse.get_price_history(i, ignore_date=True)['Close']\n",
      "C:\\Users\\ADMIN\\AppData\\Local\\Temp\\ipykernel_5324\\1884699609.py:3: PerformanceWarning: DataFrame is highly fragmented.  This is usually the result of calling `frame.insert` many times, which has poor performance.  Consider joining all columns at once using pd.concat(axis=1) instead. To get a de-fragmented frame, use `newframe = frame.copy()`\n",
      "  close_data[i] = tse.get_price_history(i, ignore_date=True)['Close']\n",
      "C:\\Users\\ADMIN\\AppData\\Local\\Temp\\ipykernel_5324\\1884699609.py:3: PerformanceWarning: DataFrame is highly fragmented.  This is usually the result of calling `frame.insert` many times, which has poor performance.  Consider joining all columns at once using pd.concat(axis=1) instead. To get a de-fragmented frame, use `newframe = frame.copy()`\n",
      "  close_data[i] = tse.get_price_history(i, ignore_date=True)['Close']\n",
      "C:\\Users\\ADMIN\\AppData\\Local\\Temp\\ipykernel_5324\\1884699609.py:3: PerformanceWarning: DataFrame is highly fragmented.  This is usually the result of calling `frame.insert` many times, which has poor performance.  Consider joining all columns at once using pd.concat(axis=1) instead. To get a de-fragmented frame, use `newframe = frame.copy()`\n",
      "  close_data[i] = tse.get_price_history(i, ignore_date=True)['Close']\n",
      "C:\\Users\\ADMIN\\AppData\\Local\\Temp\\ipykernel_5324\\1884699609.py:3: PerformanceWarning: DataFrame is highly fragmented.  This is usually the result of calling `frame.insert` many times, which has poor performance.  Consider joining all columns at once using pd.concat(axis=1) instead. To get a de-fragmented frame, use `newframe = frame.copy()`\n",
      "  close_data[i] = tse.get_price_history(i, ignore_date=True)['Close']\n",
      "C:\\Users\\ADMIN\\AppData\\Local\\Temp\\ipykernel_5324\\1884699609.py:3: PerformanceWarning: DataFrame is highly fragmented.  This is usually the result of calling `frame.insert` many times, which has poor performance.  Consider joining all columns at once using pd.concat(axis=1) instead. To get a de-fragmented frame, use `newframe = frame.copy()`\n",
      "  close_data[i] = tse.get_price_history(i, ignore_date=True)['Close']\n",
      "C:\\Users\\ADMIN\\AppData\\Local\\Temp\\ipykernel_5324\\1884699609.py:3: PerformanceWarning: DataFrame is highly fragmented.  This is usually the result of calling `frame.insert` many times, which has poor performance.  Consider joining all columns at once using pd.concat(axis=1) instead. To get a de-fragmented frame, use `newframe = frame.copy()`\n",
      "  close_data[i] = tse.get_price_history(i, ignore_date=True)['Close']\n",
      "C:\\Users\\ADMIN\\AppData\\Local\\Temp\\ipykernel_5324\\1884699609.py:3: PerformanceWarning: DataFrame is highly fragmented.  This is usually the result of calling `frame.insert` many times, which has poor performance.  Consider joining all columns at once using pd.concat(axis=1) instead. To get a de-fragmented frame, use `newframe = frame.copy()`\n",
      "  close_data[i] = tse.get_price_history(i, ignore_date=True)['Close']\n",
      "C:\\Users\\ADMIN\\AppData\\Local\\Temp\\ipykernel_5324\\1884699609.py:3: PerformanceWarning: DataFrame is highly fragmented.  This is usually the result of calling `frame.insert` many times, which has poor performance.  Consider joining all columns at once using pd.concat(axis=1) instead. To get a de-fragmented frame, use `newframe = frame.copy()`\n",
      "  close_data[i] = tse.get_price_history(i, ignore_date=True)['Close']\n",
      "C:\\Users\\ADMIN\\AppData\\Local\\Temp\\ipykernel_5324\\1884699609.py:3: PerformanceWarning: DataFrame is highly fragmented.  This is usually the result of calling `frame.insert` many times, which has poor performance.  Consider joining all columns at once using pd.concat(axis=1) instead. To get a de-fragmented frame, use `newframe = frame.copy()`\n",
      "  close_data[i] = tse.get_price_history(i, ignore_date=True)['Close']\n",
      "C:\\Users\\ADMIN\\AppData\\Local\\Temp\\ipykernel_5324\\1884699609.py:3: PerformanceWarning: DataFrame is highly fragmented.  This is usually the result of calling `frame.insert` many times, which has poor performance.  Consider joining all columns at once using pd.concat(axis=1) instead. To get a de-fragmented frame, use `newframe = frame.copy()`\n",
      "  close_data[i] = tse.get_price_history(i, ignore_date=True)['Close']\n",
      "C:\\Users\\ADMIN\\AppData\\Local\\Temp\\ipykernel_5324\\1884699609.py:3: PerformanceWarning: DataFrame is highly fragmented.  This is usually the result of calling `frame.insert` many times, which has poor performance.  Consider joining all columns at once using pd.concat(axis=1) instead. To get a de-fragmented frame, use `newframe = frame.copy()`\n",
      "  close_data[i] = tse.get_price_history(i, ignore_date=True)['Close']\n",
      "C:\\Users\\ADMIN\\AppData\\Local\\Temp\\ipykernel_5324\\1884699609.py:3: PerformanceWarning: DataFrame is highly fragmented.  This is usually the result of calling `frame.insert` many times, which has poor performance.  Consider joining all columns at once using pd.concat(axis=1) instead. To get a de-fragmented frame, use `newframe = frame.copy()`\n",
      "  close_data[i] = tse.get_price_history(i, ignore_date=True)['Close']\n",
      "C:\\Users\\ADMIN\\AppData\\Local\\Temp\\ipykernel_5324\\1884699609.py:3: PerformanceWarning: DataFrame is highly fragmented.  This is usually the result of calling `frame.insert` many times, which has poor performance.  Consider joining all columns at once using pd.concat(axis=1) instead. To get a de-fragmented frame, use `newframe = frame.copy()`\n",
      "  close_data[i] = tse.get_price_history(i, ignore_date=True)['Close']\n",
      "C:\\Users\\ADMIN\\AppData\\Local\\Temp\\ipykernel_5324\\1884699609.py:3: PerformanceWarning: DataFrame is highly fragmented.  This is usually the result of calling `frame.insert` many times, which has poor performance.  Consider joining all columns at once using pd.concat(axis=1) instead. To get a de-fragmented frame, use `newframe = frame.copy()`\n",
      "  close_data[i] = tse.get_price_history(i, ignore_date=True)['Close']\n",
      "C:\\Users\\ADMIN\\AppData\\Local\\Temp\\ipykernel_5324\\1884699609.py:3: PerformanceWarning: DataFrame is highly fragmented.  This is usually the result of calling `frame.insert` many times, which has poor performance.  Consider joining all columns at once using pd.concat(axis=1) instead. To get a de-fragmented frame, use `newframe = frame.copy()`\n",
      "  close_data[i] = tse.get_price_history(i, ignore_date=True)['Close']\n",
      "C:\\Users\\ADMIN\\AppData\\Local\\Temp\\ipykernel_5324\\1884699609.py:3: PerformanceWarning: DataFrame is highly fragmented.  This is usually the result of calling `frame.insert` many times, which has poor performance.  Consider joining all columns at once using pd.concat(axis=1) instead. To get a de-fragmented frame, use `newframe = frame.copy()`\n",
      "  close_data[i] = tse.get_price_history(i, ignore_date=True)['Close']\n",
      "C:\\Users\\ADMIN\\AppData\\Local\\Temp\\ipykernel_5324\\1884699609.py:3: PerformanceWarning: DataFrame is highly fragmented.  This is usually the result of calling `frame.insert` many times, which has poor performance.  Consider joining all columns at once using pd.concat(axis=1) instead. To get a de-fragmented frame, use `newframe = frame.copy()`\n",
      "  close_data[i] = tse.get_price_history(i, ignore_date=True)['Close']\n",
      "C:\\Users\\ADMIN\\AppData\\Local\\Temp\\ipykernel_5324\\1884699609.py:3: PerformanceWarning: DataFrame is highly fragmented.  This is usually the result of calling `frame.insert` many times, which has poor performance.  Consider joining all columns at once using pd.concat(axis=1) instead. To get a de-fragmented frame, use `newframe = frame.copy()`\n",
      "  close_data[i] = tse.get_price_history(i, ignore_date=True)['Close']\n",
      "C:\\Users\\ADMIN\\AppData\\Local\\Temp\\ipykernel_5324\\1884699609.py:3: PerformanceWarning: DataFrame is highly fragmented.  This is usually the result of calling `frame.insert` many times, which has poor performance.  Consider joining all columns at once using pd.concat(axis=1) instead. To get a de-fragmented frame, use `newframe = frame.copy()`\n",
      "  close_data[i] = tse.get_price_history(i, ignore_date=True)['Close']\n",
      "C:\\Users\\ADMIN\\AppData\\Local\\Temp\\ipykernel_5324\\1884699609.py:3: PerformanceWarning: DataFrame is highly fragmented.  This is usually the result of calling `frame.insert` many times, which has poor performance.  Consider joining all columns at once using pd.concat(axis=1) instead. To get a de-fragmented frame, use `newframe = frame.copy()`\n",
      "  close_data[i] = tse.get_price_history(i, ignore_date=True)['Close']\n",
      "C:\\Users\\ADMIN\\AppData\\Local\\Temp\\ipykernel_5324\\1884699609.py:3: PerformanceWarning: DataFrame is highly fragmented.  This is usually the result of calling `frame.insert` many times, which has poor performance.  Consider joining all columns at once using pd.concat(axis=1) instead. To get a de-fragmented frame, use `newframe = frame.copy()`\n",
      "  close_data[i] = tse.get_price_history(i, ignore_date=True)['Close']\n",
      "C:\\Users\\ADMIN\\AppData\\Local\\Temp\\ipykernel_5324\\1884699609.py:3: PerformanceWarning: DataFrame is highly fragmented.  This is usually the result of calling `frame.insert` many times, which has poor performance.  Consider joining all columns at once using pd.concat(axis=1) instead. To get a de-fragmented frame, use `newframe = frame.copy()`\n",
      "  close_data[i] = tse.get_price_history(i, ignore_date=True)['Close']\n",
      "C:\\Users\\ADMIN\\AppData\\Local\\Temp\\ipykernel_5324\\1884699609.py:3: PerformanceWarning: DataFrame is highly fragmented.  This is usually the result of calling `frame.insert` many times, which has poor performance.  Consider joining all columns at once using pd.concat(axis=1) instead. To get a de-fragmented frame, use `newframe = frame.copy()`\n",
      "  close_data[i] = tse.get_price_history(i, ignore_date=True)['Close']\n",
      "C:\\Users\\ADMIN\\AppData\\Local\\Temp\\ipykernel_5324\\1884699609.py:3: PerformanceWarning: DataFrame is highly fragmented.  This is usually the result of calling `frame.insert` many times, which has poor performance.  Consider joining all columns at once using pd.concat(axis=1) instead. To get a de-fragmented frame, use `newframe = frame.copy()`\n",
      "  close_data[i] = tse.get_price_history(i, ignore_date=True)['Close']\n",
      "C:\\Users\\ADMIN\\AppData\\Local\\Temp\\ipykernel_5324\\1884699609.py:3: PerformanceWarning: DataFrame is highly fragmented.  This is usually the result of calling `frame.insert` many times, which has poor performance.  Consider joining all columns at once using pd.concat(axis=1) instead. To get a de-fragmented frame, use `newframe = frame.copy()`\n",
      "  close_data[i] = tse.get_price_history(i, ignore_date=True)['Close']\n",
      "C:\\Users\\ADMIN\\AppData\\Local\\Temp\\ipykernel_5324\\1884699609.py:3: PerformanceWarning: DataFrame is highly fragmented.  This is usually the result of calling `frame.insert` many times, which has poor performance.  Consider joining all columns at once using pd.concat(axis=1) instead. To get a de-fragmented frame, use `newframe = frame.copy()`\n",
      "  close_data[i] = tse.get_price_history(i, ignore_date=True)['Close']\n",
      "C:\\Users\\ADMIN\\AppData\\Local\\Temp\\ipykernel_5324\\1884699609.py:3: PerformanceWarning: DataFrame is highly fragmented.  This is usually the result of calling `frame.insert` many times, which has poor performance.  Consider joining all columns at once using pd.concat(axis=1) instead. To get a de-fragmented frame, use `newframe = frame.copy()`\n",
      "  close_data[i] = tse.get_price_history(i, ignore_date=True)['Close']\n",
      "C:\\Users\\ADMIN\\AppData\\Local\\Temp\\ipykernel_5324\\1884699609.py:3: PerformanceWarning: DataFrame is highly fragmented.  This is usually the result of calling `frame.insert` many times, which has poor performance.  Consider joining all columns at once using pd.concat(axis=1) instead. To get a de-fragmented frame, use `newframe = frame.copy()`\n",
      "  close_data[i] = tse.get_price_history(i, ignore_date=True)['Close']\n",
      "C:\\Users\\ADMIN\\AppData\\Local\\Temp\\ipykernel_5324\\1884699609.py:3: PerformanceWarning: DataFrame is highly fragmented.  This is usually the result of calling `frame.insert` many times, which has poor performance.  Consider joining all columns at once using pd.concat(axis=1) instead. To get a de-fragmented frame, use `newframe = frame.copy()`\n",
      "  close_data[i] = tse.get_price_history(i, ignore_date=True)['Close']\n",
      "C:\\Users\\ADMIN\\AppData\\Local\\Temp\\ipykernel_5324\\1884699609.py:3: PerformanceWarning: DataFrame is highly fragmented.  This is usually the result of calling `frame.insert` many times, which has poor performance.  Consider joining all columns at once using pd.concat(axis=1) instead. To get a de-fragmented frame, use `newframe = frame.copy()`\n",
      "  close_data[i] = tse.get_price_history(i, ignore_date=True)['Close']\n",
      "C:\\Users\\ADMIN\\AppData\\Local\\Temp\\ipykernel_5324\\1884699609.py:3: PerformanceWarning: DataFrame is highly fragmented.  This is usually the result of calling `frame.insert` many times, which has poor performance.  Consider joining all columns at once using pd.concat(axis=1) instead. To get a de-fragmented frame, use `newframe = frame.copy()`\n",
      "  close_data[i] = tse.get_price_history(i, ignore_date=True)['Close']\n",
      "C:\\Users\\ADMIN\\AppData\\Local\\Temp\\ipykernel_5324\\1884699609.py:3: PerformanceWarning: DataFrame is highly fragmented.  This is usually the result of calling `frame.insert` many times, which has poor performance.  Consider joining all columns at once using pd.concat(axis=1) instead. To get a de-fragmented frame, use `newframe = frame.copy()`\n",
      "  close_data[i] = tse.get_price_history(i, ignore_date=True)['Close']\n",
      "C:\\Users\\ADMIN\\AppData\\Local\\Temp\\ipykernel_5324\\1884699609.py:3: PerformanceWarning: DataFrame is highly fragmented.  This is usually the result of calling `frame.insert` many times, which has poor performance.  Consider joining all columns at once using pd.concat(axis=1) instead. To get a de-fragmented frame, use `newframe = frame.copy()`\n",
      "  close_data[i] = tse.get_price_history(i, ignore_date=True)['Close']\n",
      "C:\\Users\\ADMIN\\AppData\\Local\\Temp\\ipykernel_5324\\1884699609.py:3: PerformanceWarning: DataFrame is highly fragmented.  This is usually the result of calling `frame.insert` many times, which has poor performance.  Consider joining all columns at once using pd.concat(axis=1) instead. To get a de-fragmented frame, use `newframe = frame.copy()`\n",
      "  close_data[i] = tse.get_price_history(i, ignore_date=True)['Close']\n",
      "C:\\Users\\ADMIN\\AppData\\Local\\Temp\\ipykernel_5324\\1884699609.py:3: PerformanceWarning: DataFrame is highly fragmented.  This is usually the result of calling `frame.insert` many times, which has poor performance.  Consider joining all columns at once using pd.concat(axis=1) instead. To get a de-fragmented frame, use `newframe = frame.copy()`\n",
      "  close_data[i] = tse.get_price_history(i, ignore_date=True)['Close']\n",
      "C:\\Users\\ADMIN\\AppData\\Local\\Temp\\ipykernel_5324\\1884699609.py:3: PerformanceWarning: DataFrame is highly fragmented.  This is usually the result of calling `frame.insert` many times, which has poor performance.  Consider joining all columns at once using pd.concat(axis=1) instead. To get a de-fragmented frame, use `newframe = frame.copy()`\n",
      "  close_data[i] = tse.get_price_history(i, ignore_date=True)['Close']\n",
      "C:\\Users\\ADMIN\\AppData\\Local\\Temp\\ipykernel_5324\\1884699609.py:3: PerformanceWarning: DataFrame is highly fragmented.  This is usually the result of calling `frame.insert` many times, which has poor performance.  Consider joining all columns at once using pd.concat(axis=1) instead. To get a de-fragmented frame, use `newframe = frame.copy()`\n",
      "  close_data[i] = tse.get_price_history(i, ignore_date=True)['Close']\n",
      "C:\\Users\\ADMIN\\AppData\\Local\\Temp\\ipykernel_5324\\1884699609.py:3: PerformanceWarning: DataFrame is highly fragmented.  This is usually the result of calling `frame.insert` many times, which has poor performance.  Consider joining all columns at once using pd.concat(axis=1) instead. To get a de-fragmented frame, use `newframe = frame.copy()`\n",
      "  close_data[i] = tse.get_price_history(i, ignore_date=True)['Close']\n",
      "C:\\Users\\ADMIN\\AppData\\Local\\Temp\\ipykernel_5324\\1884699609.py:3: PerformanceWarning: DataFrame is highly fragmented.  This is usually the result of calling `frame.insert` many times, which has poor performance.  Consider joining all columns at once using pd.concat(axis=1) instead. To get a de-fragmented frame, use `newframe = frame.copy()`\n",
      "  close_data[i] = tse.get_price_history(i, ignore_date=True)['Close']\n",
      "C:\\Users\\ADMIN\\AppData\\Local\\Temp\\ipykernel_5324\\1884699609.py:3: PerformanceWarning: DataFrame is highly fragmented.  This is usually the result of calling `frame.insert` many times, which has poor performance.  Consider joining all columns at once using pd.concat(axis=1) instead. To get a de-fragmented frame, use `newframe = frame.copy()`\n",
      "  close_data[i] = tse.get_price_history(i, ignore_date=True)['Close']\n",
      "C:\\Users\\ADMIN\\AppData\\Local\\Temp\\ipykernel_5324\\1884699609.py:3: PerformanceWarning: DataFrame is highly fragmented.  This is usually the result of calling `frame.insert` many times, which has poor performance.  Consider joining all columns at once using pd.concat(axis=1) instead. To get a de-fragmented frame, use `newframe = frame.copy()`\n",
      "  close_data[i] = tse.get_price_history(i, ignore_date=True)['Close']\n",
      "C:\\Users\\ADMIN\\AppData\\Local\\Temp\\ipykernel_5324\\1884699609.py:3: PerformanceWarning: DataFrame is highly fragmented.  This is usually the result of calling `frame.insert` many times, which has poor performance.  Consider joining all columns at once using pd.concat(axis=1) instead. To get a de-fragmented frame, use `newframe = frame.copy()`\n",
      "  close_data[i] = tse.get_price_history(i, ignore_date=True)['Close']\n",
      "C:\\Users\\ADMIN\\AppData\\Local\\Temp\\ipykernel_5324\\1884699609.py:3: PerformanceWarning: DataFrame is highly fragmented.  This is usually the result of calling `frame.insert` many times, which has poor performance.  Consider joining all columns at once using pd.concat(axis=1) instead. To get a de-fragmented frame, use `newframe = frame.copy()`\n",
      "  close_data[i] = tse.get_price_history(i, ignore_date=True)['Close']\n",
      "C:\\Users\\ADMIN\\AppData\\Local\\Temp\\ipykernel_5324\\1884699609.py:3: PerformanceWarning: DataFrame is highly fragmented.  This is usually the result of calling `frame.insert` many times, which has poor performance.  Consider joining all columns at once using pd.concat(axis=1) instead. To get a de-fragmented frame, use `newframe = frame.copy()`\n",
      "  close_data[i] = tse.get_price_history(i, ignore_date=True)['Close']\n",
      "C:\\Users\\ADMIN\\AppData\\Local\\Temp\\ipykernel_5324\\1884699609.py:3: PerformanceWarning: DataFrame is highly fragmented.  This is usually the result of calling `frame.insert` many times, which has poor performance.  Consider joining all columns at once using pd.concat(axis=1) instead. To get a de-fragmented frame, use `newframe = frame.copy()`\n",
      "  close_data[i] = tse.get_price_history(i, ignore_date=True)['Close']\n",
      "C:\\Users\\ADMIN\\AppData\\Local\\Temp\\ipykernel_5324\\1884699609.py:3: PerformanceWarning: DataFrame is highly fragmented.  This is usually the result of calling `frame.insert` many times, which has poor performance.  Consider joining all columns at once using pd.concat(axis=1) instead. To get a de-fragmented frame, use `newframe = frame.copy()`\n",
      "  close_data[i] = tse.get_price_history(i, ignore_date=True)['Close']\n",
      "C:\\Users\\ADMIN\\AppData\\Local\\Temp\\ipykernel_5324\\1884699609.py:3: PerformanceWarning: DataFrame is highly fragmented.  This is usually the result of calling `frame.insert` many times, which has poor performance.  Consider joining all columns at once using pd.concat(axis=1) instead. To get a de-fragmented frame, use `newframe = frame.copy()`\n",
      "  close_data[i] = tse.get_price_history(i, ignore_date=True)['Close']\n",
      "C:\\Users\\ADMIN\\AppData\\Local\\Temp\\ipykernel_5324\\1884699609.py:3: PerformanceWarning: DataFrame is highly fragmented.  This is usually the result of calling `frame.insert` many times, which has poor performance.  Consider joining all columns at once using pd.concat(axis=1) instead. To get a de-fragmented frame, use `newframe = frame.copy()`\n",
      "  close_data[i] = tse.get_price_history(i, ignore_date=True)['Close']\n",
      "C:\\Users\\ADMIN\\AppData\\Local\\Temp\\ipykernel_5324\\1884699609.py:3: PerformanceWarning: DataFrame is highly fragmented.  This is usually the result of calling `frame.insert` many times, which has poor performance.  Consider joining all columns at once using pd.concat(axis=1) instead. To get a de-fragmented frame, use `newframe = frame.copy()`\n",
      "  close_data[i] = tse.get_price_history(i, ignore_date=True)['Close']\n",
      "C:\\Users\\ADMIN\\AppData\\Local\\Temp\\ipykernel_5324\\1884699609.py:3: PerformanceWarning: DataFrame is highly fragmented.  This is usually the result of calling `frame.insert` many times, which has poor performance.  Consider joining all columns at once using pd.concat(axis=1) instead. To get a de-fragmented frame, use `newframe = frame.copy()`\n",
      "  close_data[i] = tse.get_price_history(i, ignore_date=True)['Close']\n",
      "C:\\Users\\ADMIN\\AppData\\Local\\Temp\\ipykernel_5324\\1884699609.py:3: PerformanceWarning: DataFrame is highly fragmented.  This is usually the result of calling `frame.insert` many times, which has poor performance.  Consider joining all columns at once using pd.concat(axis=1) instead. To get a de-fragmented frame, use `newframe = frame.copy()`\n",
      "  close_data[i] = tse.get_price_history(i, ignore_date=True)['Close']\n",
      "C:\\Users\\ADMIN\\AppData\\Local\\Temp\\ipykernel_5324\\1884699609.py:3: PerformanceWarning: DataFrame is highly fragmented.  This is usually the result of calling `frame.insert` many times, which has poor performance.  Consider joining all columns at once using pd.concat(axis=1) instead. To get a de-fragmented frame, use `newframe = frame.copy()`\n",
      "  close_data[i] = tse.get_price_history(i, ignore_date=True)['Close']\n",
      "C:\\Users\\ADMIN\\AppData\\Local\\Temp\\ipykernel_5324\\1884699609.py:3: PerformanceWarning: DataFrame is highly fragmented.  This is usually the result of calling `frame.insert` many times, which has poor performance.  Consider joining all columns at once using pd.concat(axis=1) instead. To get a de-fragmented frame, use `newframe = frame.copy()`\n",
      "  close_data[i] = tse.get_price_history(i, ignore_date=True)['Close']\n",
      "C:\\Users\\ADMIN\\AppData\\Local\\Temp\\ipykernel_5324\\1884699609.py:3: PerformanceWarning: DataFrame is highly fragmented.  This is usually the result of calling `frame.insert` many times, which has poor performance.  Consider joining all columns at once using pd.concat(axis=1) instead. To get a de-fragmented frame, use `newframe = frame.copy()`\n",
      "  close_data[i] = tse.get_price_history(i, ignore_date=True)['Close']\n",
      "C:\\Users\\ADMIN\\AppData\\Local\\Temp\\ipykernel_5324\\1884699609.py:3: PerformanceWarning: DataFrame is highly fragmented.  This is usually the result of calling `frame.insert` many times, which has poor performance.  Consider joining all columns at once using pd.concat(axis=1) instead. To get a de-fragmented frame, use `newframe = frame.copy()`\n",
      "  close_data[i] = tse.get_price_history(i, ignore_date=True)['Close']\n",
      "C:\\Users\\ADMIN\\AppData\\Local\\Temp\\ipykernel_5324\\1884699609.py:3: PerformanceWarning: DataFrame is highly fragmented.  This is usually the result of calling `frame.insert` many times, which has poor performance.  Consider joining all columns at once using pd.concat(axis=1) instead. To get a de-fragmented frame, use `newframe = frame.copy()`\n",
      "  close_data[i] = tse.get_price_history(i, ignore_date=True)['Close']\n",
      "C:\\Users\\ADMIN\\AppData\\Local\\Temp\\ipykernel_5324\\1884699609.py:3: PerformanceWarning: DataFrame is highly fragmented.  This is usually the result of calling `frame.insert` many times, which has poor performance.  Consider joining all columns at once using pd.concat(axis=1) instead. To get a de-fragmented frame, use `newframe = frame.copy()`\n",
      "  close_data[i] = tse.get_price_history(i, ignore_date=True)['Close']\n",
      "C:\\Users\\ADMIN\\AppData\\Local\\Temp\\ipykernel_5324\\1884699609.py:3: PerformanceWarning: DataFrame is highly fragmented.  This is usually the result of calling `frame.insert` many times, which has poor performance.  Consider joining all columns at once using pd.concat(axis=1) instead. To get a de-fragmented frame, use `newframe = frame.copy()`\n",
      "  close_data[i] = tse.get_price_history(i, ignore_date=True)['Close']\n",
      "C:\\Users\\ADMIN\\AppData\\Local\\Temp\\ipykernel_5324\\1884699609.py:3: PerformanceWarning: DataFrame is highly fragmented.  This is usually the result of calling `frame.insert` many times, which has poor performance.  Consider joining all columns at once using pd.concat(axis=1) instead. To get a de-fragmented frame, use `newframe = frame.copy()`\n",
      "  close_data[i] = tse.get_price_history(i, ignore_date=True)['Close']\n",
      "C:\\Users\\ADMIN\\AppData\\Local\\Temp\\ipykernel_5324\\1884699609.py:3: PerformanceWarning: DataFrame is highly fragmented.  This is usually the result of calling `frame.insert` many times, which has poor performance.  Consider joining all columns at once using pd.concat(axis=1) instead. To get a de-fragmented frame, use `newframe = frame.copy()`\n",
      "  close_data[i] = tse.get_price_history(i, ignore_date=True)['Close']\n",
      "C:\\Users\\ADMIN\\AppData\\Local\\Temp\\ipykernel_5324\\1884699609.py:3: PerformanceWarning: DataFrame is highly fragmented.  This is usually the result of calling `frame.insert` many times, which has poor performance.  Consider joining all columns at once using pd.concat(axis=1) instead. To get a de-fragmented frame, use `newframe = frame.copy()`\n",
      "  close_data[i] = tse.get_price_history(i, ignore_date=True)['Close']\n",
      "C:\\Users\\ADMIN\\AppData\\Local\\Temp\\ipykernel_5324\\1884699609.py:3: PerformanceWarning: DataFrame is highly fragmented.  This is usually the result of calling `frame.insert` many times, which has poor performance.  Consider joining all columns at once using pd.concat(axis=1) instead. To get a de-fragmented frame, use `newframe = frame.copy()`\n",
      "  close_data[i] = tse.get_price_history(i, ignore_date=True)['Close']\n",
      "C:\\Users\\ADMIN\\AppData\\Local\\Temp\\ipykernel_5324\\1884699609.py:3: PerformanceWarning: DataFrame is highly fragmented.  This is usually the result of calling `frame.insert` many times, which has poor performance.  Consider joining all columns at once using pd.concat(axis=1) instead. To get a de-fragmented frame, use `newframe = frame.copy()`\n",
      "  close_data[i] = tse.get_price_history(i, ignore_date=True)['Close']\n",
      "C:\\Users\\ADMIN\\AppData\\Local\\Temp\\ipykernel_5324\\1884699609.py:3: PerformanceWarning: DataFrame is highly fragmented.  This is usually the result of calling `frame.insert` many times, which has poor performance.  Consider joining all columns at once using pd.concat(axis=1) instead. To get a de-fragmented frame, use `newframe = frame.copy()`\n",
      "  close_data[i] = tse.get_price_history(i, ignore_date=True)['Close']\n",
      "C:\\Users\\ADMIN\\AppData\\Local\\Temp\\ipykernel_5324\\1884699609.py:3: PerformanceWarning: DataFrame is highly fragmented.  This is usually the result of calling `frame.insert` many times, which has poor performance.  Consider joining all columns at once using pd.concat(axis=1) instead. To get a de-fragmented frame, use `newframe = frame.copy()`\n",
      "  close_data[i] = tse.get_price_history(i, ignore_date=True)['Close']\n",
      "C:\\Users\\ADMIN\\AppData\\Local\\Temp\\ipykernel_5324\\1884699609.py:3: PerformanceWarning: DataFrame is highly fragmented.  This is usually the result of calling `frame.insert` many times, which has poor performance.  Consider joining all columns at once using pd.concat(axis=1) instead. To get a de-fragmented frame, use `newframe = frame.copy()`\n",
      "  close_data[i] = tse.get_price_history(i, ignore_date=True)['Close']\n",
      "C:\\Users\\ADMIN\\AppData\\Local\\Temp\\ipykernel_5324\\1884699609.py:3: PerformanceWarning: DataFrame is highly fragmented.  This is usually the result of calling `frame.insert` many times, which has poor performance.  Consider joining all columns at once using pd.concat(axis=1) instead. To get a de-fragmented frame, use `newframe = frame.copy()`\n",
      "  close_data[i] = tse.get_price_history(i, ignore_date=True)['Close']\n",
      "C:\\Users\\ADMIN\\AppData\\Local\\Temp\\ipykernel_5324\\1884699609.py:3: PerformanceWarning: DataFrame is highly fragmented.  This is usually the result of calling `frame.insert` many times, which has poor performance.  Consider joining all columns at once using pd.concat(axis=1) instead. To get a de-fragmented frame, use `newframe = frame.copy()`\n",
      "  close_data[i] = tse.get_price_history(i, ignore_date=True)['Close']\n",
      "C:\\Users\\ADMIN\\AppData\\Local\\Temp\\ipykernel_5324\\1884699609.py:3: PerformanceWarning: DataFrame is highly fragmented.  This is usually the result of calling `frame.insert` many times, which has poor performance.  Consider joining all columns at once using pd.concat(axis=1) instead. To get a de-fragmented frame, use `newframe = frame.copy()`\n",
      "  close_data[i] = tse.get_price_history(i, ignore_date=True)['Close']\n",
      "C:\\Users\\ADMIN\\AppData\\Local\\Temp\\ipykernel_5324\\1884699609.py:3: PerformanceWarning: DataFrame is highly fragmented.  This is usually the result of calling `frame.insert` many times, which has poor performance.  Consider joining all columns at once using pd.concat(axis=1) instead. To get a de-fragmented frame, use `newframe = frame.copy()`\n",
      "  close_data[i] = tse.get_price_history(i, ignore_date=True)['Close']\n",
      "C:\\Users\\ADMIN\\AppData\\Local\\Temp\\ipykernel_5324\\1884699609.py:3: PerformanceWarning: DataFrame is highly fragmented.  This is usually the result of calling `frame.insert` many times, which has poor performance.  Consider joining all columns at once using pd.concat(axis=1) instead. To get a de-fragmented frame, use `newframe = frame.copy()`\n",
      "  close_data[i] = tse.get_price_history(i, ignore_date=True)['Close']\n",
      "C:\\Users\\ADMIN\\AppData\\Local\\Temp\\ipykernel_5324\\1884699609.py:3: PerformanceWarning: DataFrame is highly fragmented.  This is usually the result of calling `frame.insert` many times, which has poor performance.  Consider joining all columns at once using pd.concat(axis=1) instead. To get a de-fragmented frame, use `newframe = frame.copy()`\n",
      "  close_data[i] = tse.get_price_history(i, ignore_date=True)['Close']\n",
      "C:\\Users\\ADMIN\\AppData\\Local\\Temp\\ipykernel_5324\\1884699609.py:3: PerformanceWarning: DataFrame is highly fragmented.  This is usually the result of calling `frame.insert` many times, which has poor performance.  Consider joining all columns at once using pd.concat(axis=1) instead. To get a de-fragmented frame, use `newframe = frame.copy()`\n",
      "  close_data[i] = tse.get_price_history(i, ignore_date=True)['Close']\n",
      "C:\\Users\\ADMIN\\AppData\\Local\\Temp\\ipykernel_5324\\1884699609.py:3: PerformanceWarning: DataFrame is highly fragmented.  This is usually the result of calling `frame.insert` many times, which has poor performance.  Consider joining all columns at once using pd.concat(axis=1) instead. To get a de-fragmented frame, use `newframe = frame.copy()`\n",
      "  close_data[i] = tse.get_price_history(i, ignore_date=True)['Close']\n",
      "C:\\Users\\ADMIN\\AppData\\Local\\Temp\\ipykernel_5324\\1884699609.py:3: PerformanceWarning: DataFrame is highly fragmented.  This is usually the result of calling `frame.insert` many times, which has poor performance.  Consider joining all columns at once using pd.concat(axis=1) instead. To get a de-fragmented frame, use `newframe = frame.copy()`\n",
      "  close_data[i] = tse.get_price_history(i, ignore_date=True)['Close']\n",
      "C:\\Users\\ADMIN\\AppData\\Local\\Temp\\ipykernel_5324\\1884699609.py:3: PerformanceWarning: DataFrame is highly fragmented.  This is usually the result of calling `frame.insert` many times, which has poor performance.  Consider joining all columns at once using pd.concat(axis=1) instead. To get a de-fragmented frame, use `newframe = frame.copy()`\n",
      "  close_data[i] = tse.get_price_history(i, ignore_date=True)['Close']\n",
      "C:\\Users\\ADMIN\\AppData\\Local\\Temp\\ipykernel_5324\\1884699609.py:3: PerformanceWarning: DataFrame is highly fragmented.  This is usually the result of calling `frame.insert` many times, which has poor performance.  Consider joining all columns at once using pd.concat(axis=1) instead. To get a de-fragmented frame, use `newframe = frame.copy()`\n",
      "  close_data[i] = tse.get_price_history(i, ignore_date=True)['Close']\n",
      "C:\\Users\\ADMIN\\AppData\\Local\\Temp\\ipykernel_5324\\1884699609.py:3: PerformanceWarning: DataFrame is highly fragmented.  This is usually the result of calling `frame.insert` many times, which has poor performance.  Consider joining all columns at once using pd.concat(axis=1) instead. To get a de-fragmented frame, use `newframe = frame.copy()`\n",
      "  close_data[i] = tse.get_price_history(i, ignore_date=True)['Close']\n",
      "C:\\Users\\ADMIN\\AppData\\Local\\Temp\\ipykernel_5324\\1884699609.py:3: PerformanceWarning: DataFrame is highly fragmented.  This is usually the result of calling `frame.insert` many times, which has poor performance.  Consider joining all columns at once using pd.concat(axis=1) instead. To get a de-fragmented frame, use `newframe = frame.copy()`\n",
      "  close_data[i] = tse.get_price_history(i, ignore_date=True)['Close']\n",
      "C:\\Users\\ADMIN\\AppData\\Local\\Temp\\ipykernel_5324\\1884699609.py:3: PerformanceWarning: DataFrame is highly fragmented.  This is usually the result of calling `frame.insert` many times, which has poor performance.  Consider joining all columns at once using pd.concat(axis=1) instead. To get a de-fragmented frame, use `newframe = frame.copy()`\n",
      "  close_data[i] = tse.get_price_history(i, ignore_date=True)['Close']\n",
      "C:\\Users\\ADMIN\\AppData\\Local\\Temp\\ipykernel_5324\\1884699609.py:3: PerformanceWarning: DataFrame is highly fragmented.  This is usually the result of calling `frame.insert` many times, which has poor performance.  Consider joining all columns at once using pd.concat(axis=1) instead. To get a de-fragmented frame, use `newframe = frame.copy()`\n",
      "  close_data[i] = tse.get_price_history(i, ignore_date=True)['Close']\n",
      "C:\\Users\\ADMIN\\AppData\\Local\\Temp\\ipykernel_5324\\1884699609.py:3: PerformanceWarning: DataFrame is highly fragmented.  This is usually the result of calling `frame.insert` many times, which has poor performance.  Consider joining all columns at once using pd.concat(axis=1) instead. To get a de-fragmented frame, use `newframe = frame.copy()`\n",
      "  close_data[i] = tse.get_price_history(i, ignore_date=True)['Close']\n",
      "C:\\Users\\ADMIN\\AppData\\Local\\Temp\\ipykernel_5324\\1884699609.py:3: PerformanceWarning: DataFrame is highly fragmented.  This is usually the result of calling `frame.insert` many times, which has poor performance.  Consider joining all columns at once using pd.concat(axis=1) instead. To get a de-fragmented frame, use `newframe = frame.copy()`\n",
      "  close_data[i] = tse.get_price_history(i, ignore_date=True)['Close']\n",
      "C:\\Users\\ADMIN\\AppData\\Local\\Temp\\ipykernel_5324\\1884699609.py:3: PerformanceWarning: DataFrame is highly fragmented.  This is usually the result of calling `frame.insert` many times, which has poor performance.  Consider joining all columns at once using pd.concat(axis=1) instead. To get a de-fragmented frame, use `newframe = frame.copy()`\n",
      "  close_data[i] = tse.get_price_history(i, ignore_date=True)['Close']\n",
      "C:\\Users\\ADMIN\\AppData\\Local\\Temp\\ipykernel_5324\\1884699609.py:3: PerformanceWarning: DataFrame is highly fragmented.  This is usually the result of calling `frame.insert` many times, which has poor performance.  Consider joining all columns at once using pd.concat(axis=1) instead. To get a de-fragmented frame, use `newframe = frame.copy()`\n",
      "  close_data[i] = tse.get_price_history(i, ignore_date=True)['Close']\n",
      "C:\\Users\\ADMIN\\AppData\\Local\\Temp\\ipykernel_5324\\1884699609.py:3: PerformanceWarning: DataFrame is highly fragmented.  This is usually the result of calling `frame.insert` many times, which has poor performance.  Consider joining all columns at once using pd.concat(axis=1) instead. To get a de-fragmented frame, use `newframe = frame.copy()`\n",
      "  close_data[i] = tse.get_price_history(i, ignore_date=True)['Close']\n",
      "C:\\Users\\ADMIN\\AppData\\Local\\Temp\\ipykernel_5324\\1884699609.py:3: PerformanceWarning: DataFrame is highly fragmented.  This is usually the result of calling `frame.insert` many times, which has poor performance.  Consider joining all columns at once using pd.concat(axis=1) instead. To get a de-fragmented frame, use `newframe = frame.copy()`\n",
      "  close_data[i] = tse.get_price_history(i, ignore_date=True)['Close']\n",
      "C:\\Users\\ADMIN\\AppData\\Local\\Temp\\ipykernel_5324\\1884699609.py:3: PerformanceWarning: DataFrame is highly fragmented.  This is usually the result of calling `frame.insert` many times, which has poor performance.  Consider joining all columns at once using pd.concat(axis=1) instead. To get a de-fragmented frame, use `newframe = frame.copy()`\n",
      "  close_data[i] = tse.get_price_history(i, ignore_date=True)['Close']\n",
      "C:\\Users\\ADMIN\\AppData\\Local\\Temp\\ipykernel_5324\\1884699609.py:3: PerformanceWarning: DataFrame is highly fragmented.  This is usually the result of calling `frame.insert` many times, which has poor performance.  Consider joining all columns at once using pd.concat(axis=1) instead. To get a de-fragmented frame, use `newframe = frame.copy()`\n",
      "  close_data[i] = tse.get_price_history(i, ignore_date=True)['Close']\n",
      "C:\\Users\\ADMIN\\AppData\\Local\\Temp\\ipykernel_5324\\1884699609.py:3: PerformanceWarning: DataFrame is highly fragmented.  This is usually the result of calling `frame.insert` many times, which has poor performance.  Consider joining all columns at once using pd.concat(axis=1) instead. To get a de-fragmented frame, use `newframe = frame.copy()`\n",
      "  close_data[i] = tse.get_price_history(i, ignore_date=True)['Close']\n",
      "C:\\Users\\ADMIN\\AppData\\Local\\Temp\\ipykernel_5324\\1884699609.py:3: PerformanceWarning: DataFrame is highly fragmented.  This is usually the result of calling `frame.insert` many times, which has poor performance.  Consider joining all columns at once using pd.concat(axis=1) instead. To get a de-fragmented frame, use `newframe = frame.copy()`\n",
      "  close_data[i] = tse.get_price_history(i, ignore_date=True)['Close']\n",
      "C:\\Users\\ADMIN\\AppData\\Local\\Temp\\ipykernel_5324\\1884699609.py:3: PerformanceWarning: DataFrame is highly fragmented.  This is usually the result of calling `frame.insert` many times, which has poor performance.  Consider joining all columns at once using pd.concat(axis=1) instead. To get a de-fragmented frame, use `newframe = frame.copy()`\n",
      "  close_data[i] = tse.get_price_history(i, ignore_date=True)['Close']\n",
      "C:\\Users\\ADMIN\\AppData\\Local\\Temp\\ipykernel_5324\\1884699609.py:3: PerformanceWarning: DataFrame is highly fragmented.  This is usually the result of calling `frame.insert` many times, which has poor performance.  Consider joining all columns at once using pd.concat(axis=1) instead. To get a de-fragmented frame, use `newframe = frame.copy()`\n",
      "  close_data[i] = tse.get_price_history(i, ignore_date=True)['Close']\n",
      "C:\\Users\\ADMIN\\AppData\\Local\\Temp\\ipykernel_5324\\1884699609.py:3: PerformanceWarning: DataFrame is highly fragmented.  This is usually the result of calling `frame.insert` many times, which has poor performance.  Consider joining all columns at once using pd.concat(axis=1) instead. To get a de-fragmented frame, use `newframe = frame.copy()`\n",
      "  close_data[i] = tse.get_price_history(i, ignore_date=True)['Close']\n",
      "C:\\Users\\ADMIN\\AppData\\Local\\Temp\\ipykernel_5324\\1884699609.py:3: PerformanceWarning: DataFrame is highly fragmented.  This is usually the result of calling `frame.insert` many times, which has poor performance.  Consider joining all columns at once using pd.concat(axis=1) instead. To get a de-fragmented frame, use `newframe = frame.copy()`\n",
      "  close_data[i] = tse.get_price_history(i, ignore_date=True)['Close']\n",
      "C:\\Users\\ADMIN\\AppData\\Local\\Temp\\ipykernel_5324\\1884699609.py:3: PerformanceWarning: DataFrame is highly fragmented.  This is usually the result of calling `frame.insert` many times, which has poor performance.  Consider joining all columns at once using pd.concat(axis=1) instead. To get a de-fragmented frame, use `newframe = frame.copy()`\n",
      "  close_data[i] = tse.get_price_history(i, ignore_date=True)['Close']\n",
      "C:\\Users\\ADMIN\\AppData\\Local\\Temp\\ipykernel_5324\\1884699609.py:3: PerformanceWarning: DataFrame is highly fragmented.  This is usually the result of calling `frame.insert` many times, which has poor performance.  Consider joining all columns at once using pd.concat(axis=1) instead. To get a de-fragmented frame, use `newframe = frame.copy()`\n",
      "  close_data[i] = tse.get_price_history(i, ignore_date=True)['Close']\n",
      "C:\\Users\\ADMIN\\AppData\\Local\\Temp\\ipykernel_5324\\1884699609.py:3: PerformanceWarning: DataFrame is highly fragmented.  This is usually the result of calling `frame.insert` many times, which has poor performance.  Consider joining all columns at once using pd.concat(axis=1) instead. To get a de-fragmented frame, use `newframe = frame.copy()`\n",
      "  close_data[i] = tse.get_price_history(i, ignore_date=True)['Close']\n",
      "C:\\Users\\ADMIN\\AppData\\Local\\Temp\\ipykernel_5324\\1884699609.py:3: PerformanceWarning: DataFrame is highly fragmented.  This is usually the result of calling `frame.insert` many times, which has poor performance.  Consider joining all columns at once using pd.concat(axis=1) instead. To get a de-fragmented frame, use `newframe = frame.copy()`\n",
      "  close_data[i] = tse.get_price_history(i, ignore_date=True)['Close']\n",
      "C:\\Users\\ADMIN\\AppData\\Local\\Temp\\ipykernel_5324\\1884699609.py:3: PerformanceWarning: DataFrame is highly fragmented.  This is usually the result of calling `frame.insert` many times, which has poor performance.  Consider joining all columns at once using pd.concat(axis=1) instead. To get a de-fragmented frame, use `newframe = frame.copy()`\n",
      "  close_data[i] = tse.get_price_history(i, ignore_date=True)['Close']\n",
      "C:\\Users\\ADMIN\\AppData\\Local\\Temp\\ipykernel_5324\\1884699609.py:3: PerformanceWarning: DataFrame is highly fragmented.  This is usually the result of calling `frame.insert` many times, which has poor performance.  Consider joining all columns at once using pd.concat(axis=1) instead. To get a de-fragmented frame, use `newframe = frame.copy()`\n",
      "  close_data[i] = tse.get_price_history(i, ignore_date=True)['Close']\n",
      "C:\\Users\\ADMIN\\AppData\\Local\\Temp\\ipykernel_5324\\1884699609.py:3: PerformanceWarning: DataFrame is highly fragmented.  This is usually the result of calling `frame.insert` many times, which has poor performance.  Consider joining all columns at once using pd.concat(axis=1) instead. To get a de-fragmented frame, use `newframe = frame.copy()`\n",
      "  close_data[i] = tse.get_price_history(i, ignore_date=True)['Close']\n",
      "C:\\Users\\ADMIN\\AppData\\Local\\Temp\\ipykernel_5324\\1884699609.py:3: PerformanceWarning: DataFrame is highly fragmented.  This is usually the result of calling `frame.insert` many times, which has poor performance.  Consider joining all columns at once using pd.concat(axis=1) instead. To get a de-fragmented frame, use `newframe = frame.copy()`\n",
      "  close_data[i] = tse.get_price_history(i, ignore_date=True)['Close']\n",
      "C:\\Users\\ADMIN\\AppData\\Local\\Temp\\ipykernel_5324\\1884699609.py:3: PerformanceWarning: DataFrame is highly fragmented.  This is usually the result of calling `frame.insert` many times, which has poor performance.  Consider joining all columns at once using pd.concat(axis=1) instead. To get a de-fragmented frame, use `newframe = frame.copy()`\n",
      "  close_data[i] = tse.get_price_history(i, ignore_date=True)['Close']\n",
      "C:\\Users\\ADMIN\\AppData\\Local\\Temp\\ipykernel_5324\\1884699609.py:3: PerformanceWarning: DataFrame is highly fragmented.  This is usually the result of calling `frame.insert` many times, which has poor performance.  Consider joining all columns at once using pd.concat(axis=1) instead. To get a de-fragmented frame, use `newframe = frame.copy()`\n",
      "  close_data[i] = tse.get_price_history(i, ignore_date=True)['Close']\n",
      "C:\\Users\\ADMIN\\AppData\\Local\\Temp\\ipykernel_5324\\1884699609.py:3: PerformanceWarning: DataFrame is highly fragmented.  This is usually the result of calling `frame.insert` many times, which has poor performance.  Consider joining all columns at once using pd.concat(axis=1) instead. To get a de-fragmented frame, use `newframe = frame.copy()`\n",
      "  close_data[i] = tse.get_price_history(i, ignore_date=True)['Close']\n",
      "C:\\Users\\ADMIN\\AppData\\Local\\Temp\\ipykernel_5324\\1884699609.py:3: PerformanceWarning: DataFrame is highly fragmented.  This is usually the result of calling `frame.insert` many times, which has poor performance.  Consider joining all columns at once using pd.concat(axis=1) instead. To get a de-fragmented frame, use `newframe = frame.copy()`\n",
      "  close_data[i] = tse.get_price_history(i, ignore_date=True)['Close']\n",
      "C:\\Users\\ADMIN\\AppData\\Local\\Temp\\ipykernel_5324\\1884699609.py:3: PerformanceWarning: DataFrame is highly fragmented.  This is usually the result of calling `frame.insert` many times, which has poor performance.  Consider joining all columns at once using pd.concat(axis=1) instead. To get a de-fragmented frame, use `newframe = frame.copy()`\n",
      "  close_data[i] = tse.get_price_history(i, ignore_date=True)['Close']\n",
      "C:\\Users\\ADMIN\\AppData\\Local\\Temp\\ipykernel_5324\\1884699609.py:3: PerformanceWarning: DataFrame is highly fragmented.  This is usually the result of calling `frame.insert` many times, which has poor performance.  Consider joining all columns at once using pd.concat(axis=1) instead. To get a de-fragmented frame, use `newframe = frame.copy()`\n",
      "  close_data[i] = tse.get_price_history(i, ignore_date=True)['Close']\n",
      "C:\\Users\\ADMIN\\AppData\\Local\\Temp\\ipykernel_5324\\1884699609.py:3: PerformanceWarning: DataFrame is highly fragmented.  This is usually the result of calling `frame.insert` many times, which has poor performance.  Consider joining all columns at once using pd.concat(axis=1) instead. To get a de-fragmented frame, use `newframe = frame.copy()`\n",
      "  close_data[i] = tse.get_price_history(i, ignore_date=True)['Close']\n",
      "C:\\Users\\ADMIN\\AppData\\Local\\Temp\\ipykernel_5324\\1884699609.py:3: PerformanceWarning: DataFrame is highly fragmented.  This is usually the result of calling `frame.insert` many times, which has poor performance.  Consider joining all columns at once using pd.concat(axis=1) instead. To get a de-fragmented frame, use `newframe = frame.copy()`\n",
      "  close_data[i] = tse.get_price_history(i, ignore_date=True)['Close']\n",
      "C:\\Users\\ADMIN\\AppData\\Local\\Temp\\ipykernel_5324\\1884699609.py:3: PerformanceWarning: DataFrame is highly fragmented.  This is usually the result of calling `frame.insert` many times, which has poor performance.  Consider joining all columns at once using pd.concat(axis=1) instead. To get a de-fragmented frame, use `newframe = frame.copy()`\n",
      "  close_data[i] = tse.get_price_history(i, ignore_date=True)['Close']\n",
      "C:\\Users\\ADMIN\\AppData\\Local\\Temp\\ipykernel_5324\\1884699609.py:3: PerformanceWarning: DataFrame is highly fragmented.  This is usually the result of calling `frame.insert` many times, which has poor performance.  Consider joining all columns at once using pd.concat(axis=1) instead. To get a de-fragmented frame, use `newframe = frame.copy()`\n",
      "  close_data[i] = tse.get_price_history(i, ignore_date=True)['Close']\n",
      "C:\\Users\\ADMIN\\AppData\\Local\\Temp\\ipykernel_5324\\1884699609.py:3: PerformanceWarning: DataFrame is highly fragmented.  This is usually the result of calling `frame.insert` many times, which has poor performance.  Consider joining all columns at once using pd.concat(axis=1) instead. To get a de-fragmented frame, use `newframe = frame.copy()`\n",
      "  close_data[i] = tse.get_price_history(i, ignore_date=True)['Close']\n",
      "C:\\Users\\ADMIN\\AppData\\Local\\Temp\\ipykernel_5324\\1884699609.py:3: PerformanceWarning: DataFrame is highly fragmented.  This is usually the result of calling `frame.insert` many times, which has poor performance.  Consider joining all columns at once using pd.concat(axis=1) instead. To get a de-fragmented frame, use `newframe = frame.copy()`\n",
      "  close_data[i] = tse.get_price_history(i, ignore_date=True)['Close']\n",
      "C:\\Users\\ADMIN\\AppData\\Local\\Temp\\ipykernel_5324\\1884699609.py:3: PerformanceWarning: DataFrame is highly fragmented.  This is usually the result of calling `frame.insert` many times, which has poor performance.  Consider joining all columns at once using pd.concat(axis=1) instead. To get a de-fragmented frame, use `newframe = frame.copy()`\n",
      "  close_data[i] = tse.get_price_history(i, ignore_date=True)['Close']\n",
      "C:\\Users\\ADMIN\\AppData\\Local\\Temp\\ipykernel_5324\\1884699609.py:3: PerformanceWarning: DataFrame is highly fragmented.  This is usually the result of calling `frame.insert` many times, which has poor performance.  Consider joining all columns at once using pd.concat(axis=1) instead. To get a de-fragmented frame, use `newframe = frame.copy()`\n",
      "  close_data[i] = tse.get_price_history(i, ignore_date=True)['Close']\n",
      "C:\\Users\\ADMIN\\AppData\\Local\\Temp\\ipykernel_5324\\1884699609.py:3: PerformanceWarning: DataFrame is highly fragmented.  This is usually the result of calling `frame.insert` many times, which has poor performance.  Consider joining all columns at once using pd.concat(axis=1) instead. To get a de-fragmented frame, use `newframe = frame.copy()`\n",
      "  close_data[i] = tse.get_price_history(i, ignore_date=True)['Close']\n",
      "C:\\Users\\ADMIN\\AppData\\Local\\Temp\\ipykernel_5324\\1884699609.py:3: PerformanceWarning: DataFrame is highly fragmented.  This is usually the result of calling `frame.insert` many times, which has poor performance.  Consider joining all columns at once using pd.concat(axis=1) instead. To get a de-fragmented frame, use `newframe = frame.copy()`\n",
      "  close_data[i] = tse.get_price_history(i, ignore_date=True)['Close']\n",
      "C:\\Users\\ADMIN\\AppData\\Local\\Temp\\ipykernel_5324\\1884699609.py:3: PerformanceWarning: DataFrame is highly fragmented.  This is usually the result of calling `frame.insert` many times, which has poor performance.  Consider joining all columns at once using pd.concat(axis=1) instead. To get a de-fragmented frame, use `newframe = frame.copy()`\n",
      "  close_data[i] = tse.get_price_history(i, ignore_date=True)['Close']\n",
      "C:\\Users\\ADMIN\\AppData\\Local\\Temp\\ipykernel_5324\\1884699609.py:3: PerformanceWarning: DataFrame is highly fragmented.  This is usually the result of calling `frame.insert` many times, which has poor performance.  Consider joining all columns at once using pd.concat(axis=1) instead. To get a de-fragmented frame, use `newframe = frame.copy()`\n",
      "  close_data[i] = tse.get_price_history(i, ignore_date=True)['Close']\n",
      "C:\\Users\\ADMIN\\AppData\\Local\\Temp\\ipykernel_5324\\1884699609.py:3: PerformanceWarning: DataFrame is highly fragmented.  This is usually the result of calling `frame.insert` many times, which has poor performance.  Consider joining all columns at once using pd.concat(axis=1) instead. To get a de-fragmented frame, use `newframe = frame.copy()`\n",
      "  close_data[i] = tse.get_price_history(i, ignore_date=True)['Close']\n",
      "C:\\Users\\ADMIN\\AppData\\Local\\Temp\\ipykernel_5324\\1884699609.py:3: PerformanceWarning: DataFrame is highly fragmented.  This is usually the result of calling `frame.insert` many times, which has poor performance.  Consider joining all columns at once using pd.concat(axis=1) instead. To get a de-fragmented frame, use `newframe = frame.copy()`\n",
      "  close_data[i] = tse.get_price_history(i, ignore_date=True)['Close']\n",
      "C:\\Users\\ADMIN\\AppData\\Local\\Temp\\ipykernel_5324\\1884699609.py:3: PerformanceWarning: DataFrame is highly fragmented.  This is usually the result of calling `frame.insert` many times, which has poor performance.  Consider joining all columns at once using pd.concat(axis=1) instead. To get a de-fragmented frame, use `newframe = frame.copy()`\n",
      "  close_data[i] = tse.get_price_history(i, ignore_date=True)['Close']\n",
      "C:\\Users\\ADMIN\\AppData\\Local\\Temp\\ipykernel_5324\\1884699609.py:3: PerformanceWarning: DataFrame is highly fragmented.  This is usually the result of calling `frame.insert` many times, which has poor performance.  Consider joining all columns at once using pd.concat(axis=1) instead. To get a de-fragmented frame, use `newframe = frame.copy()`\n",
      "  close_data[i] = tse.get_price_history(i, ignore_date=True)['Close']\n",
      "C:\\Users\\ADMIN\\AppData\\Local\\Temp\\ipykernel_5324\\1884699609.py:3: PerformanceWarning: DataFrame is highly fragmented.  This is usually the result of calling `frame.insert` many times, which has poor performance.  Consider joining all columns at once using pd.concat(axis=1) instead. To get a de-fragmented frame, use `newframe = frame.copy()`\n",
      "  close_data[i] = tse.get_price_history(i, ignore_date=True)['Close']\n",
      "C:\\Users\\ADMIN\\AppData\\Local\\Temp\\ipykernel_5324\\1884699609.py:3: PerformanceWarning: DataFrame is highly fragmented.  This is usually the result of calling `frame.insert` many times, which has poor performance.  Consider joining all columns at once using pd.concat(axis=1) instead. To get a de-fragmented frame, use `newframe = frame.copy()`\n",
      "  close_data[i] = tse.get_price_history(i, ignore_date=True)['Close']\n",
      "C:\\Users\\ADMIN\\AppData\\Local\\Temp\\ipykernel_5324\\1884699609.py:3: PerformanceWarning: DataFrame is highly fragmented.  This is usually the result of calling `frame.insert` many times, which has poor performance.  Consider joining all columns at once using pd.concat(axis=1) instead. To get a de-fragmented frame, use `newframe = frame.copy()`\n",
      "  close_data[i] = tse.get_price_history(i, ignore_date=True)['Close']\n",
      "C:\\Users\\ADMIN\\AppData\\Local\\Temp\\ipykernel_5324\\1884699609.py:3: PerformanceWarning: DataFrame is highly fragmented.  This is usually the result of calling `frame.insert` many times, which has poor performance.  Consider joining all columns at once using pd.concat(axis=1) instead. To get a de-fragmented frame, use `newframe = frame.copy()`\n",
      "  close_data[i] = tse.get_price_history(i, ignore_date=True)['Close']\n",
      "C:\\Users\\ADMIN\\AppData\\Local\\Temp\\ipykernel_5324\\1884699609.py:3: PerformanceWarning: DataFrame is highly fragmented.  This is usually the result of calling `frame.insert` many times, which has poor performance.  Consider joining all columns at once using pd.concat(axis=1) instead. To get a de-fragmented frame, use `newframe = frame.copy()`\n",
      "  close_data[i] = tse.get_price_history(i, ignore_date=True)['Close']\n",
      "C:\\Users\\ADMIN\\AppData\\Local\\Temp\\ipykernel_5324\\1884699609.py:3: PerformanceWarning: DataFrame is highly fragmented.  This is usually the result of calling `frame.insert` many times, which has poor performance.  Consider joining all columns at once using pd.concat(axis=1) instead. To get a de-fragmented frame, use `newframe = frame.copy()`\n",
      "  close_data[i] = tse.get_price_history(i, ignore_date=True)['Close']\n",
      "C:\\Users\\ADMIN\\AppData\\Local\\Temp\\ipykernel_5324\\1884699609.py:3: PerformanceWarning: DataFrame is highly fragmented.  This is usually the result of calling `frame.insert` many times, which has poor performance.  Consider joining all columns at once using pd.concat(axis=1) instead. To get a de-fragmented frame, use `newframe = frame.copy()`\n",
      "  close_data[i] = tse.get_price_history(i, ignore_date=True)['Close']\n",
      "C:\\Users\\ADMIN\\AppData\\Local\\Temp\\ipykernel_5324\\1884699609.py:3: PerformanceWarning: DataFrame is highly fragmented.  This is usually the result of calling `frame.insert` many times, which has poor performance.  Consider joining all columns at once using pd.concat(axis=1) instead. To get a de-fragmented frame, use `newframe = frame.copy()`\n",
      "  close_data[i] = tse.get_price_history(i, ignore_date=True)['Close']\n",
      "C:\\Users\\ADMIN\\AppData\\Local\\Temp\\ipykernel_5324\\1884699609.py:3: PerformanceWarning: DataFrame is highly fragmented.  This is usually the result of calling `frame.insert` many times, which has poor performance.  Consider joining all columns at once using pd.concat(axis=1) instead. To get a de-fragmented frame, use `newframe = frame.copy()`\n",
      "  close_data[i] = tse.get_price_history(i, ignore_date=True)['Close']\n",
      "C:\\Users\\ADMIN\\AppData\\Local\\Temp\\ipykernel_5324\\1884699609.py:3: PerformanceWarning: DataFrame is highly fragmented.  This is usually the result of calling `frame.insert` many times, which has poor performance.  Consider joining all columns at once using pd.concat(axis=1) instead. To get a de-fragmented frame, use `newframe = frame.copy()`\n",
      "  close_data[i] = tse.get_price_history(i, ignore_date=True)['Close']\n",
      "C:\\Users\\ADMIN\\AppData\\Local\\Temp\\ipykernel_5324\\1884699609.py:3: PerformanceWarning: DataFrame is highly fragmented.  This is usually the result of calling `frame.insert` many times, which has poor performance.  Consider joining all columns at once using pd.concat(axis=1) instead. To get a de-fragmented frame, use `newframe = frame.copy()`\n",
      "  close_data[i] = tse.get_price_history(i, ignore_date=True)['Close']\n",
      "C:\\Users\\ADMIN\\AppData\\Local\\Temp\\ipykernel_5324\\1884699609.py:3: PerformanceWarning: DataFrame is highly fragmented.  This is usually the result of calling `frame.insert` many times, which has poor performance.  Consider joining all columns at once using pd.concat(axis=1) instead. To get a de-fragmented frame, use `newframe = frame.copy()`\n",
      "  close_data[i] = tse.get_price_history(i, ignore_date=True)['Close']\n",
      "C:\\Users\\ADMIN\\AppData\\Local\\Temp\\ipykernel_5324\\1884699609.py:3: PerformanceWarning: DataFrame is highly fragmented.  This is usually the result of calling `frame.insert` many times, which has poor performance.  Consider joining all columns at once using pd.concat(axis=1) instead. To get a de-fragmented frame, use `newframe = frame.copy()`\n",
      "  close_data[i] = tse.get_price_history(i, ignore_date=True)['Close']\n",
      "C:\\Users\\ADMIN\\AppData\\Local\\Temp\\ipykernel_5324\\1884699609.py:3: PerformanceWarning: DataFrame is highly fragmented.  This is usually the result of calling `frame.insert` many times, which has poor performance.  Consider joining all columns at once using pd.concat(axis=1) instead. To get a de-fragmented frame, use `newframe = frame.copy()`\n",
      "  close_data[i] = tse.get_price_history(i, ignore_date=True)['Close']\n",
      "C:\\Users\\ADMIN\\AppData\\Local\\Temp\\ipykernel_5324\\1884699609.py:3: PerformanceWarning: DataFrame is highly fragmented.  This is usually the result of calling `frame.insert` many times, which has poor performance.  Consider joining all columns at once using pd.concat(axis=1) instead. To get a de-fragmented frame, use `newframe = frame.copy()`\n",
      "  close_data[i] = tse.get_price_history(i, ignore_date=True)['Close']\n",
      "C:\\Users\\ADMIN\\AppData\\Local\\Temp\\ipykernel_5324\\1884699609.py:3: PerformanceWarning: DataFrame is highly fragmented.  This is usually the result of calling `frame.insert` many times, which has poor performance.  Consider joining all columns at once using pd.concat(axis=1) instead. To get a de-fragmented frame, use `newframe = frame.copy()`\n",
      "  close_data[i] = tse.get_price_history(i, ignore_date=True)['Close']\n",
      "C:\\Users\\ADMIN\\AppData\\Local\\Temp\\ipykernel_5324\\1884699609.py:3: PerformanceWarning: DataFrame is highly fragmented.  This is usually the result of calling `frame.insert` many times, which has poor performance.  Consider joining all columns at once using pd.concat(axis=1) instead. To get a de-fragmented frame, use `newframe = frame.copy()`\n",
      "  close_data[i] = tse.get_price_history(i, ignore_date=True)['Close']\n",
      "C:\\Users\\ADMIN\\AppData\\Local\\Temp\\ipykernel_5324\\1884699609.py:3: PerformanceWarning: DataFrame is highly fragmented.  This is usually the result of calling `frame.insert` many times, which has poor performance.  Consider joining all columns at once using pd.concat(axis=1) instead. To get a de-fragmented frame, use `newframe = frame.copy()`\n",
      "  close_data[i] = tse.get_price_history(i, ignore_date=True)['Close']\n",
      "C:\\Users\\ADMIN\\AppData\\Local\\Temp\\ipykernel_5324\\1884699609.py:3: PerformanceWarning: DataFrame is highly fragmented.  This is usually the result of calling `frame.insert` many times, which has poor performance.  Consider joining all columns at once using pd.concat(axis=1) instead. To get a de-fragmented frame, use `newframe = frame.copy()`\n",
      "  close_data[i] = tse.get_price_history(i, ignore_date=True)['Close']\n",
      "C:\\Users\\ADMIN\\AppData\\Local\\Temp\\ipykernel_5324\\1884699609.py:3: PerformanceWarning: DataFrame is highly fragmented.  This is usually the result of calling `frame.insert` many times, which has poor performance.  Consider joining all columns at once using pd.concat(axis=1) instead. To get a de-fragmented frame, use `newframe = frame.copy()`\n",
      "  close_data[i] = tse.get_price_history(i, ignore_date=True)['Close']\n",
      "C:\\Users\\ADMIN\\AppData\\Local\\Temp\\ipykernel_5324\\1884699609.py:3: PerformanceWarning: DataFrame is highly fragmented.  This is usually the result of calling `frame.insert` many times, which has poor performance.  Consider joining all columns at once using pd.concat(axis=1) instead. To get a de-fragmented frame, use `newframe = frame.copy()`\n",
      "  close_data[i] = tse.get_price_history(i, ignore_date=True)['Close']\n",
      "C:\\Users\\ADMIN\\AppData\\Local\\Temp\\ipykernel_5324\\1884699609.py:3: PerformanceWarning: DataFrame is highly fragmented.  This is usually the result of calling `frame.insert` many times, which has poor performance.  Consider joining all columns at once using pd.concat(axis=1) instead. To get a de-fragmented frame, use `newframe = frame.copy()`\n",
      "  close_data[i] = tse.get_price_history(i, ignore_date=True)['Close']\n",
      "C:\\Users\\ADMIN\\AppData\\Local\\Temp\\ipykernel_5324\\1884699609.py:3: PerformanceWarning: DataFrame is highly fragmented.  This is usually the result of calling `frame.insert` many times, which has poor performance.  Consider joining all columns at once using pd.concat(axis=1) instead. To get a de-fragmented frame, use `newframe = frame.copy()`\n",
      "  close_data[i] = tse.get_price_history(i, ignore_date=True)['Close']\n",
      "C:\\Users\\ADMIN\\AppData\\Local\\Temp\\ipykernel_5324\\1884699609.py:3: PerformanceWarning: DataFrame is highly fragmented.  This is usually the result of calling `frame.insert` many times, which has poor performance.  Consider joining all columns at once using pd.concat(axis=1) instead. To get a de-fragmented frame, use `newframe = frame.copy()`\n",
      "  close_data[i] = tse.get_price_history(i, ignore_date=True)['Close']\n",
      "C:\\Users\\ADMIN\\AppData\\Local\\Temp\\ipykernel_5324\\1884699609.py:3: PerformanceWarning: DataFrame is highly fragmented.  This is usually the result of calling `frame.insert` many times, which has poor performance.  Consider joining all columns at once using pd.concat(axis=1) instead. To get a de-fragmented frame, use `newframe = frame.copy()`\n",
      "  close_data[i] = tse.get_price_history(i, ignore_date=True)['Close']\n",
      "C:\\Users\\ADMIN\\AppData\\Local\\Temp\\ipykernel_5324\\1884699609.py:3: PerformanceWarning: DataFrame is highly fragmented.  This is usually the result of calling `frame.insert` many times, which has poor performance.  Consider joining all columns at once using pd.concat(axis=1) instead. To get a de-fragmented frame, use `newframe = frame.copy()`\n",
      "  close_data[i] = tse.get_price_history(i, ignore_date=True)['Close']\n",
      "C:\\Users\\ADMIN\\AppData\\Local\\Temp\\ipykernel_5324\\1884699609.py:3: PerformanceWarning: DataFrame is highly fragmented.  This is usually the result of calling `frame.insert` many times, which has poor performance.  Consider joining all columns at once using pd.concat(axis=1) instead. To get a de-fragmented frame, use `newframe = frame.copy()`\n",
      "  close_data[i] = tse.get_price_history(i, ignore_date=True)['Close']\n",
      "C:\\Users\\ADMIN\\AppData\\Local\\Temp\\ipykernel_5324\\1884699609.py:3: PerformanceWarning: DataFrame is highly fragmented.  This is usually the result of calling `frame.insert` many times, which has poor performance.  Consider joining all columns at once using pd.concat(axis=1) instead. To get a de-fragmented frame, use `newframe = frame.copy()`\n",
      "  close_data[i] = tse.get_price_history(i, ignore_date=True)['Close']\n",
      "C:\\Users\\ADMIN\\AppData\\Local\\Temp\\ipykernel_5324\\1884699609.py:3: PerformanceWarning: DataFrame is highly fragmented.  This is usually the result of calling `frame.insert` many times, which has poor performance.  Consider joining all columns at once using pd.concat(axis=1) instead. To get a de-fragmented frame, use `newframe = frame.copy()`\n",
      "  close_data[i] = tse.get_price_history(i, ignore_date=True)['Close']\n",
      "C:\\Users\\ADMIN\\AppData\\Local\\Temp\\ipykernel_5324\\1884699609.py:3: PerformanceWarning: DataFrame is highly fragmented.  This is usually the result of calling `frame.insert` many times, which has poor performance.  Consider joining all columns at once using pd.concat(axis=1) instead. To get a de-fragmented frame, use `newframe = frame.copy()`\n",
      "  close_data[i] = tse.get_price_history(i, ignore_date=True)['Close']\n",
      "C:\\Users\\ADMIN\\AppData\\Local\\Temp\\ipykernel_5324\\1884699609.py:3: PerformanceWarning: DataFrame is highly fragmented.  This is usually the result of calling `frame.insert` many times, which has poor performance.  Consider joining all columns at once using pd.concat(axis=1) instead. To get a de-fragmented frame, use `newframe = frame.copy()`\n",
      "  close_data[i] = tse.get_price_history(i, ignore_date=True)['Close']\n",
      "C:\\Users\\ADMIN\\AppData\\Local\\Temp\\ipykernel_5324\\1884699609.py:3: PerformanceWarning: DataFrame is highly fragmented.  This is usually the result of calling `frame.insert` many times, which has poor performance.  Consider joining all columns at once using pd.concat(axis=1) instead. To get a de-fragmented frame, use `newframe = frame.copy()`\n",
      "  close_data[i] = tse.get_price_history(i, ignore_date=True)['Close']\n",
      "C:\\Users\\ADMIN\\AppData\\Local\\Temp\\ipykernel_5324\\1884699609.py:3: PerformanceWarning: DataFrame is highly fragmented.  This is usually the result of calling `frame.insert` many times, which has poor performance.  Consider joining all columns at once using pd.concat(axis=1) instead. To get a de-fragmented frame, use `newframe = frame.copy()`\n",
      "  close_data[i] = tse.get_price_history(i, ignore_date=True)['Close']\n",
      "C:\\Users\\ADMIN\\AppData\\Local\\Temp\\ipykernel_5324\\1884699609.py:3: PerformanceWarning: DataFrame is highly fragmented.  This is usually the result of calling `frame.insert` many times, which has poor performance.  Consider joining all columns at once using pd.concat(axis=1) instead. To get a de-fragmented frame, use `newframe = frame.copy()`\n",
      "  close_data[i] = tse.get_price_history(i, ignore_date=True)['Close']\n",
      "C:\\Users\\ADMIN\\AppData\\Local\\Temp\\ipykernel_5324\\1884699609.py:3: PerformanceWarning: DataFrame is highly fragmented.  This is usually the result of calling `frame.insert` many times, which has poor performance.  Consider joining all columns at once using pd.concat(axis=1) instead. To get a de-fragmented frame, use `newframe = frame.copy()`\n",
      "  close_data[i] = tse.get_price_history(i, ignore_date=True)['Close']\n",
      "C:\\Users\\ADMIN\\AppData\\Local\\Temp\\ipykernel_5324\\1884699609.py:3: PerformanceWarning: DataFrame is highly fragmented.  This is usually the result of calling `frame.insert` many times, which has poor performance.  Consider joining all columns at once using pd.concat(axis=1) instead. To get a de-fragmented frame, use `newframe = frame.copy()`\n",
      "  close_data[i] = tse.get_price_history(i, ignore_date=True)['Close']\n",
      "C:\\Users\\ADMIN\\AppData\\Local\\Temp\\ipykernel_5324\\1884699609.py:3: PerformanceWarning: DataFrame is highly fragmented.  This is usually the result of calling `frame.insert` many times, which has poor performance.  Consider joining all columns at once using pd.concat(axis=1) instead. To get a de-fragmented frame, use `newframe = frame.copy()`\n",
      "  close_data[i] = tse.get_price_history(i, ignore_date=True)['Close']\n",
      "C:\\Users\\ADMIN\\AppData\\Local\\Temp\\ipykernel_5324\\1884699609.py:3: PerformanceWarning: DataFrame is highly fragmented.  This is usually the result of calling `frame.insert` many times, which has poor performance.  Consider joining all columns at once using pd.concat(axis=1) instead. To get a de-fragmented frame, use `newframe = frame.copy()`\n",
      "  close_data[i] = tse.get_price_history(i, ignore_date=True)['Close']\n",
      "C:\\Users\\ADMIN\\AppData\\Local\\Temp\\ipykernel_5324\\1884699609.py:3: PerformanceWarning: DataFrame is highly fragmented.  This is usually the result of calling `frame.insert` many times, which has poor performance.  Consider joining all columns at once using pd.concat(axis=1) instead. To get a de-fragmented frame, use `newframe = frame.copy()`\n",
      "  close_data[i] = tse.get_price_history(i, ignore_date=True)['Close']\n",
      "C:\\Users\\ADMIN\\AppData\\Local\\Temp\\ipykernel_5324\\1884699609.py:3: PerformanceWarning: DataFrame is highly fragmented.  This is usually the result of calling `frame.insert` many times, which has poor performance.  Consider joining all columns at once using pd.concat(axis=1) instead. To get a de-fragmented frame, use `newframe = frame.copy()`\n",
      "  close_data[i] = tse.get_price_history(i, ignore_date=True)['Close']\n",
      "C:\\Users\\ADMIN\\AppData\\Local\\Temp\\ipykernel_5324\\1884699609.py:3: PerformanceWarning: DataFrame is highly fragmented.  This is usually the result of calling `frame.insert` many times, which has poor performance.  Consider joining all columns at once using pd.concat(axis=1) instead. To get a de-fragmented frame, use `newframe = frame.copy()`\n",
      "  close_data[i] = tse.get_price_history(i, ignore_date=True)['Close']\n",
      "C:\\Users\\ADMIN\\AppData\\Local\\Temp\\ipykernel_5324\\1884699609.py:3: PerformanceWarning: DataFrame is highly fragmented.  This is usually the result of calling `frame.insert` many times, which has poor performance.  Consider joining all columns at once using pd.concat(axis=1) instead. To get a de-fragmented frame, use `newframe = frame.copy()`\n",
      "  close_data[i] = tse.get_price_history(i, ignore_date=True)['Close']\n",
      "C:\\Users\\ADMIN\\AppData\\Local\\Temp\\ipykernel_5324\\1884699609.py:3: PerformanceWarning: DataFrame is highly fragmented.  This is usually the result of calling `frame.insert` many times, which has poor performance.  Consider joining all columns at once using pd.concat(axis=1) instead. To get a de-fragmented frame, use `newframe = frame.copy()`\n",
      "  close_data[i] = tse.get_price_history(i, ignore_date=True)['Close']\n",
      "C:\\Users\\ADMIN\\AppData\\Local\\Temp\\ipykernel_5324\\1884699609.py:3: PerformanceWarning: DataFrame is highly fragmented.  This is usually the result of calling `frame.insert` many times, which has poor performance.  Consider joining all columns at once using pd.concat(axis=1) instead. To get a de-fragmented frame, use `newframe = frame.copy()`\n",
      "  close_data[i] = tse.get_price_history(i, ignore_date=True)['Close']\n",
      "C:\\Users\\ADMIN\\AppData\\Local\\Temp\\ipykernel_5324\\1884699609.py:3: PerformanceWarning: DataFrame is highly fragmented.  This is usually the result of calling `frame.insert` many times, which has poor performance.  Consider joining all columns at once using pd.concat(axis=1) instead. To get a de-fragmented frame, use `newframe = frame.copy()`\n",
      "  close_data[i] = tse.get_price_history(i, ignore_date=True)['Close']\n",
      "C:\\Users\\ADMIN\\AppData\\Local\\Temp\\ipykernel_5324\\1884699609.py:3: PerformanceWarning: DataFrame is highly fragmented.  This is usually the result of calling `frame.insert` many times, which has poor performance.  Consider joining all columns at once using pd.concat(axis=1) instead. To get a de-fragmented frame, use `newframe = frame.copy()`\n",
      "  close_data[i] = tse.get_price_history(i, ignore_date=True)['Close']\n",
      "C:\\Users\\ADMIN\\AppData\\Local\\Temp\\ipykernel_5324\\1884699609.py:3: PerformanceWarning: DataFrame is highly fragmented.  This is usually the result of calling `frame.insert` many times, which has poor performance.  Consider joining all columns at once using pd.concat(axis=1) instead. To get a de-fragmented frame, use `newframe = frame.copy()`\n",
      "  close_data[i] = tse.get_price_history(i, ignore_date=True)['Close']\n",
      "C:\\Users\\ADMIN\\AppData\\Local\\Temp\\ipykernel_5324\\1884699609.py:3: PerformanceWarning: DataFrame is highly fragmented.  This is usually the result of calling `frame.insert` many times, which has poor performance.  Consider joining all columns at once using pd.concat(axis=1) instead. To get a de-fragmented frame, use `newframe = frame.copy()`\n",
      "  close_data[i] = tse.get_price_history(i, ignore_date=True)['Close']\n",
      "C:\\Users\\ADMIN\\AppData\\Local\\Temp\\ipykernel_5324\\1884699609.py:3: PerformanceWarning: DataFrame is highly fragmented.  This is usually the result of calling `frame.insert` many times, which has poor performance.  Consider joining all columns at once using pd.concat(axis=1) instead. To get a de-fragmented frame, use `newframe = frame.copy()`\n",
      "  close_data[i] = tse.get_price_history(i, ignore_date=True)['Close']\n",
      "C:\\Users\\ADMIN\\AppData\\Local\\Temp\\ipykernel_5324\\1884699609.py:3: PerformanceWarning: DataFrame is highly fragmented.  This is usually the result of calling `frame.insert` many times, which has poor performance.  Consider joining all columns at once using pd.concat(axis=1) instead. To get a de-fragmented frame, use `newframe = frame.copy()`\n",
      "  close_data[i] = tse.get_price_history(i, ignore_date=True)['Close']\n",
      "C:\\Users\\ADMIN\\AppData\\Local\\Temp\\ipykernel_5324\\1884699609.py:3: PerformanceWarning: DataFrame is highly fragmented.  This is usually the result of calling `frame.insert` many times, which has poor performance.  Consider joining all columns at once using pd.concat(axis=1) instead. To get a de-fragmented frame, use `newframe = frame.copy()`\n",
      "  close_data[i] = tse.get_price_history(i, ignore_date=True)['Close']\n",
      "C:\\Users\\ADMIN\\AppData\\Local\\Temp\\ipykernel_5324\\1884699609.py:3: PerformanceWarning: DataFrame is highly fragmented.  This is usually the result of calling `frame.insert` many times, which has poor performance.  Consider joining all columns at once using pd.concat(axis=1) instead. To get a de-fragmented frame, use `newframe = frame.copy()`\n",
      "  close_data[i] = tse.get_price_history(i, ignore_date=True)['Close']\n",
      "C:\\Users\\ADMIN\\AppData\\Local\\Temp\\ipykernel_5324\\1884699609.py:3: PerformanceWarning: DataFrame is highly fragmented.  This is usually the result of calling `frame.insert` many times, which has poor performance.  Consider joining all columns at once using pd.concat(axis=1) instead. To get a de-fragmented frame, use `newframe = frame.copy()`\n",
      "  close_data[i] = tse.get_price_history(i, ignore_date=True)['Close']\n",
      "C:\\Users\\ADMIN\\AppData\\Local\\Temp\\ipykernel_5324\\1884699609.py:3: PerformanceWarning: DataFrame is highly fragmented.  This is usually the result of calling `frame.insert` many times, which has poor performance.  Consider joining all columns at once using pd.concat(axis=1) instead. To get a de-fragmented frame, use `newframe = frame.copy()`\n",
      "  close_data[i] = tse.get_price_history(i, ignore_date=True)['Close']\n",
      "C:\\Users\\ADMIN\\AppData\\Local\\Temp\\ipykernel_5324\\1884699609.py:3: PerformanceWarning: DataFrame is highly fragmented.  This is usually the result of calling `frame.insert` many times, which has poor performance.  Consider joining all columns at once using pd.concat(axis=1) instead. To get a de-fragmented frame, use `newframe = frame.copy()`\n",
      "  close_data[i] = tse.get_price_history(i, ignore_date=True)['Close']\n",
      "C:\\Users\\ADMIN\\AppData\\Local\\Temp\\ipykernel_5324\\1884699609.py:3: PerformanceWarning: DataFrame is highly fragmented.  This is usually the result of calling `frame.insert` many times, which has poor performance.  Consider joining all columns at once using pd.concat(axis=1) instead. To get a de-fragmented frame, use `newframe = frame.copy()`\n",
      "  close_data[i] = tse.get_price_history(i, ignore_date=True)['Close']\n",
      "C:\\Users\\ADMIN\\AppData\\Local\\Temp\\ipykernel_5324\\1884699609.py:3: PerformanceWarning: DataFrame is highly fragmented.  This is usually the result of calling `frame.insert` many times, which has poor performance.  Consider joining all columns at once using pd.concat(axis=1) instead. To get a de-fragmented frame, use `newframe = frame.copy()`\n",
      "  close_data[i] = tse.get_price_history(i, ignore_date=True)['Close']\n",
      "C:\\Users\\ADMIN\\AppData\\Local\\Temp\\ipykernel_5324\\1884699609.py:3: PerformanceWarning: DataFrame is highly fragmented.  This is usually the result of calling `frame.insert` many times, which has poor performance.  Consider joining all columns at once using pd.concat(axis=1) instead. To get a de-fragmented frame, use `newframe = frame.copy()`\n",
      "  close_data[i] = tse.get_price_history(i, ignore_date=True)['Close']\n",
      "C:\\Users\\ADMIN\\AppData\\Local\\Temp\\ipykernel_5324\\1884699609.py:3: PerformanceWarning: DataFrame is highly fragmented.  This is usually the result of calling `frame.insert` many times, which has poor performance.  Consider joining all columns at once using pd.concat(axis=1) instead. To get a de-fragmented frame, use `newframe = frame.copy()`\n",
      "  close_data[i] = tse.get_price_history(i, ignore_date=True)['Close']\n",
      "C:\\Users\\ADMIN\\AppData\\Local\\Temp\\ipykernel_5324\\1884699609.py:3: PerformanceWarning: DataFrame is highly fragmented.  This is usually the result of calling `frame.insert` many times, which has poor performance.  Consider joining all columns at once using pd.concat(axis=1) instead. To get a de-fragmented frame, use `newframe = frame.copy()`\n",
      "  close_data[i] = tse.get_price_history(i, ignore_date=True)['Close']\n",
      "C:\\Users\\ADMIN\\AppData\\Local\\Temp\\ipykernel_5324\\1884699609.py:3: PerformanceWarning: DataFrame is highly fragmented.  This is usually the result of calling `frame.insert` many times, which has poor performance.  Consider joining all columns at once using pd.concat(axis=1) instead. To get a de-fragmented frame, use `newframe = frame.copy()`\n",
      "  close_data[i] = tse.get_price_history(i, ignore_date=True)['Close']\n",
      "C:\\Users\\ADMIN\\AppData\\Local\\Temp\\ipykernel_5324\\1884699609.py:3: PerformanceWarning: DataFrame is highly fragmented.  This is usually the result of calling `frame.insert` many times, which has poor performance.  Consider joining all columns at once using pd.concat(axis=1) instead. To get a de-fragmented frame, use `newframe = frame.copy()`\n",
      "  close_data[i] = tse.get_price_history(i, ignore_date=True)['Close']\n",
      "C:\\Users\\ADMIN\\AppData\\Local\\Temp\\ipykernel_5324\\1884699609.py:3: PerformanceWarning: DataFrame is highly fragmented.  This is usually the result of calling `frame.insert` many times, which has poor performance.  Consider joining all columns at once using pd.concat(axis=1) instead. To get a de-fragmented frame, use `newframe = frame.copy()`\n",
      "  close_data[i] = tse.get_price_history(i, ignore_date=True)['Close']\n",
      "C:\\Users\\ADMIN\\AppData\\Local\\Temp\\ipykernel_5324\\1884699609.py:3: PerformanceWarning: DataFrame is highly fragmented.  This is usually the result of calling `frame.insert` many times, which has poor performance.  Consider joining all columns at once using pd.concat(axis=1) instead. To get a de-fragmented frame, use `newframe = frame.copy()`\n",
      "  close_data[i] = tse.get_price_history(i, ignore_date=True)['Close']\n",
      "C:\\Users\\ADMIN\\AppData\\Local\\Temp\\ipykernel_5324\\1884699609.py:3: PerformanceWarning: DataFrame is highly fragmented.  This is usually the result of calling `frame.insert` many times, which has poor performance.  Consider joining all columns at once using pd.concat(axis=1) instead. To get a de-fragmented frame, use `newframe = frame.copy()`\n",
      "  close_data[i] = tse.get_price_history(i, ignore_date=True)['Close']\n",
      "C:\\Users\\ADMIN\\AppData\\Local\\Temp\\ipykernel_5324\\1884699609.py:3: PerformanceWarning: DataFrame is highly fragmented.  This is usually the result of calling `frame.insert` many times, which has poor performance.  Consider joining all columns at once using pd.concat(axis=1) instead. To get a de-fragmented frame, use `newframe = frame.copy()`\n",
      "  close_data[i] = tse.get_price_history(i, ignore_date=True)['Close']\n",
      "C:\\Users\\ADMIN\\AppData\\Local\\Temp\\ipykernel_5324\\1884699609.py:3: PerformanceWarning: DataFrame is highly fragmented.  This is usually the result of calling `frame.insert` many times, which has poor performance.  Consider joining all columns at once using pd.concat(axis=1) instead. To get a de-fragmented frame, use `newframe = frame.copy()`\n",
      "  close_data[i] = tse.get_price_history(i, ignore_date=True)['Close']\n",
      "C:\\Users\\ADMIN\\AppData\\Local\\Temp\\ipykernel_5324\\1884699609.py:3: PerformanceWarning: DataFrame is highly fragmented.  This is usually the result of calling `frame.insert` many times, which has poor performance.  Consider joining all columns at once using pd.concat(axis=1) instead. To get a de-fragmented frame, use `newframe = frame.copy()`\n",
      "  close_data[i] = tse.get_price_history(i, ignore_date=True)['Close']\n",
      "C:\\Users\\ADMIN\\AppData\\Local\\Temp\\ipykernel_5324\\1884699609.py:3: PerformanceWarning: DataFrame is highly fragmented.  This is usually the result of calling `frame.insert` many times, which has poor performance.  Consider joining all columns at once using pd.concat(axis=1) instead. To get a de-fragmented frame, use `newframe = frame.copy()`\n",
      "  close_data[i] = tse.get_price_history(i, ignore_date=True)['Close']\n",
      "C:\\Users\\ADMIN\\AppData\\Local\\Temp\\ipykernel_5324\\1884699609.py:3: PerformanceWarning: DataFrame is highly fragmented.  This is usually the result of calling `frame.insert` many times, which has poor performance.  Consider joining all columns at once using pd.concat(axis=1) instead. To get a de-fragmented frame, use `newframe = frame.copy()`\n",
      "  close_data[i] = tse.get_price_history(i, ignore_date=True)['Close']\n",
      "C:\\Users\\ADMIN\\AppData\\Local\\Temp\\ipykernel_5324\\1884699609.py:3: PerformanceWarning: DataFrame is highly fragmented.  This is usually the result of calling `frame.insert` many times, which has poor performance.  Consider joining all columns at once using pd.concat(axis=1) instead. To get a de-fragmented frame, use `newframe = frame.copy()`\n",
      "  close_data[i] = tse.get_price_history(i, ignore_date=True)['Close']\n",
      "C:\\Users\\ADMIN\\AppData\\Local\\Temp\\ipykernel_5324\\1884699609.py:3: PerformanceWarning: DataFrame is highly fragmented.  This is usually the result of calling `frame.insert` many times, which has poor performance.  Consider joining all columns at once using pd.concat(axis=1) instead. To get a de-fragmented frame, use `newframe = frame.copy()`\n",
      "  close_data[i] = tse.get_price_history(i, ignore_date=True)['Close']\n",
      "C:\\Users\\ADMIN\\AppData\\Local\\Temp\\ipykernel_5324\\1884699609.py:3: PerformanceWarning: DataFrame is highly fragmented.  This is usually the result of calling `frame.insert` many times, which has poor performance.  Consider joining all columns at once using pd.concat(axis=1) instead. To get a de-fragmented frame, use `newframe = frame.copy()`\n",
      "  close_data[i] = tse.get_price_history(i, ignore_date=True)['Close']\n",
      "C:\\Users\\ADMIN\\AppData\\Local\\Temp\\ipykernel_5324\\1884699609.py:3: PerformanceWarning: DataFrame is highly fragmented.  This is usually the result of calling `frame.insert` many times, which has poor performance.  Consider joining all columns at once using pd.concat(axis=1) instead. To get a de-fragmented frame, use `newframe = frame.copy()`\n",
      "  close_data[i] = tse.get_price_history(i, ignore_date=True)['Close']\n",
      "C:\\Users\\ADMIN\\AppData\\Local\\Temp\\ipykernel_5324\\1884699609.py:3: PerformanceWarning: DataFrame is highly fragmented.  This is usually the result of calling `frame.insert` many times, which has poor performance.  Consider joining all columns at once using pd.concat(axis=1) instead. To get a de-fragmented frame, use `newframe = frame.copy()`\n",
      "  close_data[i] = tse.get_price_history(i, ignore_date=True)['Close']\n",
      "C:\\Users\\ADMIN\\AppData\\Local\\Temp\\ipykernel_5324\\1884699609.py:3: PerformanceWarning: DataFrame is highly fragmented.  This is usually the result of calling `frame.insert` many times, which has poor performance.  Consider joining all columns at once using pd.concat(axis=1) instead. To get a de-fragmented frame, use `newframe = frame.copy()`\n",
      "  close_data[i] = tse.get_price_history(i, ignore_date=True)['Close']\n",
      "C:\\Users\\ADMIN\\AppData\\Local\\Temp\\ipykernel_5324\\1884699609.py:3: PerformanceWarning: DataFrame is highly fragmented.  This is usually the result of calling `frame.insert` many times, which has poor performance.  Consider joining all columns at once using pd.concat(axis=1) instead. To get a de-fragmented frame, use `newframe = frame.copy()`\n",
      "  close_data[i] = tse.get_price_history(i, ignore_date=True)['Close']\n",
      "C:\\Users\\ADMIN\\AppData\\Local\\Temp\\ipykernel_5324\\1884699609.py:3: PerformanceWarning: DataFrame is highly fragmented.  This is usually the result of calling `frame.insert` many times, which has poor performance.  Consider joining all columns at once using pd.concat(axis=1) instead. To get a de-fragmented frame, use `newframe = frame.copy()`\n",
      "  close_data[i] = tse.get_price_history(i, ignore_date=True)['Close']\n",
      "C:\\Users\\ADMIN\\AppData\\Local\\Temp\\ipykernel_5324\\1884699609.py:3: PerformanceWarning: DataFrame is highly fragmented.  This is usually the result of calling `frame.insert` many times, which has poor performance.  Consider joining all columns at once using pd.concat(axis=1) instead. To get a de-fragmented frame, use `newframe = frame.copy()`\n",
      "  close_data[i] = tse.get_price_history(i, ignore_date=True)['Close']\n",
      "C:\\Users\\ADMIN\\AppData\\Local\\Temp\\ipykernel_5324\\1884699609.py:3: PerformanceWarning: DataFrame is highly fragmented.  This is usually the result of calling `frame.insert` many times, which has poor performance.  Consider joining all columns at once using pd.concat(axis=1) instead. To get a de-fragmented frame, use `newframe = frame.copy()`\n",
      "  close_data[i] = tse.get_price_history(i, ignore_date=True)['Close']\n",
      "C:\\Users\\ADMIN\\AppData\\Local\\Temp\\ipykernel_5324\\1884699609.py:3: PerformanceWarning: DataFrame is highly fragmented.  This is usually the result of calling `frame.insert` many times, which has poor performance.  Consider joining all columns at once using pd.concat(axis=1) instead. To get a de-fragmented frame, use `newframe = frame.copy()`\n",
      "  close_data[i] = tse.get_price_history(i, ignore_date=True)['Close']\n",
      "C:\\Users\\ADMIN\\AppData\\Local\\Temp\\ipykernel_5324\\1884699609.py:3: PerformanceWarning: DataFrame is highly fragmented.  This is usually the result of calling `frame.insert` many times, which has poor performance.  Consider joining all columns at once using pd.concat(axis=1) instead. To get a de-fragmented frame, use `newframe = frame.copy()`\n",
      "  close_data[i] = tse.get_price_history(i, ignore_date=True)['Close']\n",
      "C:\\Users\\ADMIN\\AppData\\Local\\Temp\\ipykernel_5324\\1884699609.py:3: PerformanceWarning: DataFrame is highly fragmented.  This is usually the result of calling `frame.insert` many times, which has poor performance.  Consider joining all columns at once using pd.concat(axis=1) instead. To get a de-fragmented frame, use `newframe = frame.copy()`\n",
      "  close_data[i] = tse.get_price_history(i, ignore_date=True)['Close']\n",
      "C:\\Users\\ADMIN\\AppData\\Local\\Temp\\ipykernel_5324\\1884699609.py:3: PerformanceWarning: DataFrame is highly fragmented.  This is usually the result of calling `frame.insert` many times, which has poor performance.  Consider joining all columns at once using pd.concat(axis=1) instead. To get a de-fragmented frame, use `newframe = frame.copy()`\n",
      "  close_data[i] = tse.get_price_history(i, ignore_date=True)['Close']\n",
      "C:\\Users\\ADMIN\\AppData\\Local\\Temp\\ipykernel_5324\\1884699609.py:3: PerformanceWarning: DataFrame is highly fragmented.  This is usually the result of calling `frame.insert` many times, which has poor performance.  Consider joining all columns at once using pd.concat(axis=1) instead. To get a de-fragmented frame, use `newframe = frame.copy()`\n",
      "  close_data[i] = tse.get_price_history(i, ignore_date=True)['Close']\n",
      "C:\\Users\\ADMIN\\AppData\\Local\\Temp\\ipykernel_5324\\1884699609.py:3: PerformanceWarning: DataFrame is highly fragmented.  This is usually the result of calling `frame.insert` many times, which has poor performance.  Consider joining all columns at once using pd.concat(axis=1) instead. To get a de-fragmented frame, use `newframe = frame.copy()`\n",
      "  close_data[i] = tse.get_price_history(i, ignore_date=True)['Close']\n",
      "C:\\Users\\ADMIN\\AppData\\Local\\Temp\\ipykernel_5324\\1884699609.py:3: PerformanceWarning: DataFrame is highly fragmented.  This is usually the result of calling `frame.insert` many times, which has poor performance.  Consider joining all columns at once using pd.concat(axis=1) instead. To get a de-fragmented frame, use `newframe = frame.copy()`\n",
      "  close_data[i] = tse.get_price_history(i, ignore_date=True)['Close']\n",
      "C:\\Users\\ADMIN\\AppData\\Local\\Temp\\ipykernel_5324\\1884699609.py:3: PerformanceWarning: DataFrame is highly fragmented.  This is usually the result of calling `frame.insert` many times, which has poor performance.  Consider joining all columns at once using pd.concat(axis=1) instead. To get a de-fragmented frame, use `newframe = frame.copy()`\n",
      "  close_data[i] = tse.get_price_history(i, ignore_date=True)['Close']\n",
      "C:\\Users\\ADMIN\\AppData\\Local\\Temp\\ipykernel_5324\\1884699609.py:3: PerformanceWarning: DataFrame is highly fragmented.  This is usually the result of calling `frame.insert` many times, which has poor performance.  Consider joining all columns at once using pd.concat(axis=1) instead. To get a de-fragmented frame, use `newframe = frame.copy()`\n",
      "  close_data[i] = tse.get_price_history(i, ignore_date=True)['Close']\n",
      "C:\\Users\\ADMIN\\AppData\\Local\\Temp\\ipykernel_5324\\1884699609.py:3: PerformanceWarning: DataFrame is highly fragmented.  This is usually the result of calling `frame.insert` many times, which has poor performance.  Consider joining all columns at once using pd.concat(axis=1) instead. To get a de-fragmented frame, use `newframe = frame.copy()`\n",
      "  close_data[i] = tse.get_price_history(i, ignore_date=True)['Close']\n",
      "C:\\Users\\ADMIN\\AppData\\Local\\Temp\\ipykernel_5324\\1884699609.py:3: PerformanceWarning: DataFrame is highly fragmented.  This is usually the result of calling `frame.insert` many times, which has poor performance.  Consider joining all columns at once using pd.concat(axis=1) instead. To get a de-fragmented frame, use `newframe = frame.copy()`\n",
      "  close_data[i] = tse.get_price_history(i, ignore_date=True)['Close']\n",
      "C:\\Users\\ADMIN\\AppData\\Local\\Temp\\ipykernel_5324\\1884699609.py:3: PerformanceWarning: DataFrame is highly fragmented.  This is usually the result of calling `frame.insert` many times, which has poor performance.  Consider joining all columns at once using pd.concat(axis=1) instead. To get a de-fragmented frame, use `newframe = frame.copy()`\n",
      "  close_data[i] = tse.get_price_history(i, ignore_date=True)['Close']\n",
      "C:\\Users\\ADMIN\\AppData\\Local\\Temp\\ipykernel_5324\\1884699609.py:3: PerformanceWarning: DataFrame is highly fragmented.  This is usually the result of calling `frame.insert` many times, which has poor performance.  Consider joining all columns at once using pd.concat(axis=1) instead. To get a de-fragmented frame, use `newframe = frame.copy()`\n",
      "  close_data[i] = tse.get_price_history(i, ignore_date=True)['Close']\n",
      "C:\\Users\\ADMIN\\AppData\\Local\\Temp\\ipykernel_5324\\1884699609.py:3: PerformanceWarning: DataFrame is highly fragmented.  This is usually the result of calling `frame.insert` many times, which has poor performance.  Consider joining all columns at once using pd.concat(axis=1) instead. To get a de-fragmented frame, use `newframe = frame.copy()`\n",
      "  close_data[i] = tse.get_price_history(i, ignore_date=True)['Close']\n",
      "C:\\Users\\ADMIN\\AppData\\Local\\Temp\\ipykernel_5324\\1884699609.py:3: PerformanceWarning: DataFrame is highly fragmented.  This is usually the result of calling `frame.insert` many times, which has poor performance.  Consider joining all columns at once using pd.concat(axis=1) instead. To get a de-fragmented frame, use `newframe = frame.copy()`\n",
      "  close_data[i] = tse.get_price_history(i, ignore_date=True)['Close']\n",
      "C:\\Users\\ADMIN\\AppData\\Local\\Temp\\ipykernel_5324\\1884699609.py:3: PerformanceWarning: DataFrame is highly fragmented.  This is usually the result of calling `frame.insert` many times, which has poor performance.  Consider joining all columns at once using pd.concat(axis=1) instead. To get a de-fragmented frame, use `newframe = frame.copy()`\n",
      "  close_data[i] = tse.get_price_history(i, ignore_date=True)['Close']\n",
      "C:\\Users\\ADMIN\\AppData\\Local\\Temp\\ipykernel_5324\\1884699609.py:3: PerformanceWarning: DataFrame is highly fragmented.  This is usually the result of calling `frame.insert` many times, which has poor performance.  Consider joining all columns at once using pd.concat(axis=1) instead. To get a de-fragmented frame, use `newframe = frame.copy()`\n",
      "  close_data[i] = tse.get_price_history(i, ignore_date=True)['Close']\n",
      "C:\\Users\\ADMIN\\AppData\\Local\\Temp\\ipykernel_5324\\1884699609.py:3: PerformanceWarning: DataFrame is highly fragmented.  This is usually the result of calling `frame.insert` many times, which has poor performance.  Consider joining all columns at once using pd.concat(axis=1) instead. To get a de-fragmented frame, use `newframe = frame.copy()`\n",
      "  close_data[i] = tse.get_price_history(i, ignore_date=True)['Close']\n",
      "C:\\Users\\ADMIN\\AppData\\Local\\Temp\\ipykernel_5324\\1884699609.py:3: PerformanceWarning: DataFrame is highly fragmented.  This is usually the result of calling `frame.insert` many times, which has poor performance.  Consider joining all columns at once using pd.concat(axis=1) instead. To get a de-fragmented frame, use `newframe = frame.copy()`\n",
      "  close_data[i] = tse.get_price_history(i, ignore_date=True)['Close']\n",
      "C:\\Users\\ADMIN\\AppData\\Local\\Temp\\ipykernel_5324\\1884699609.py:3: PerformanceWarning: DataFrame is highly fragmented.  This is usually the result of calling `frame.insert` many times, which has poor performance.  Consider joining all columns at once using pd.concat(axis=1) instead. To get a de-fragmented frame, use `newframe = frame.copy()`\n",
      "  close_data[i] = tse.get_price_history(i, ignore_date=True)['Close']\n",
      "C:\\Users\\ADMIN\\AppData\\Local\\Temp\\ipykernel_5324\\1884699609.py:3: PerformanceWarning: DataFrame is highly fragmented.  This is usually the result of calling `frame.insert` many times, which has poor performance.  Consider joining all columns at once using pd.concat(axis=1) instead. To get a de-fragmented frame, use `newframe = frame.copy()`\n",
      "  close_data[i] = tse.get_price_history(i, ignore_date=True)['Close']\n",
      "C:\\Users\\ADMIN\\AppData\\Local\\Temp\\ipykernel_5324\\1884699609.py:3: PerformanceWarning: DataFrame is highly fragmented.  This is usually the result of calling `frame.insert` many times, which has poor performance.  Consider joining all columns at once using pd.concat(axis=1) instead. To get a de-fragmented frame, use `newframe = frame.copy()`\n",
      "  close_data[i] = tse.get_price_history(i, ignore_date=True)['Close']\n",
      "C:\\Users\\ADMIN\\AppData\\Local\\Temp\\ipykernel_5324\\1884699609.py:3: PerformanceWarning: DataFrame is highly fragmented.  This is usually the result of calling `frame.insert` many times, which has poor performance.  Consider joining all columns at once using pd.concat(axis=1) instead. To get a de-fragmented frame, use `newframe = frame.copy()`\n",
      "  close_data[i] = tse.get_price_history(i, ignore_date=True)['Close']\n",
      "C:\\Users\\ADMIN\\AppData\\Local\\Temp\\ipykernel_5324\\1884699609.py:3: PerformanceWarning: DataFrame is highly fragmented.  This is usually the result of calling `frame.insert` many times, which has poor performance.  Consider joining all columns at once using pd.concat(axis=1) instead. To get a de-fragmented frame, use `newframe = frame.copy()`\n",
      "  close_data[i] = tse.get_price_history(i, ignore_date=True)['Close']\n",
      "C:\\Users\\ADMIN\\AppData\\Local\\Temp\\ipykernel_5324\\1884699609.py:3: PerformanceWarning: DataFrame is highly fragmented.  This is usually the result of calling `frame.insert` many times, which has poor performance.  Consider joining all columns at once using pd.concat(axis=1) instead. To get a de-fragmented frame, use `newframe = frame.copy()`\n",
      "  close_data[i] = tse.get_price_history(i, ignore_date=True)['Close']\n",
      "C:\\Users\\ADMIN\\AppData\\Local\\Temp\\ipykernel_5324\\1884699609.py:3: PerformanceWarning: DataFrame is highly fragmented.  This is usually the result of calling `frame.insert` many times, which has poor performance.  Consider joining all columns at once using pd.concat(axis=1) instead. To get a de-fragmented frame, use `newframe = frame.copy()`\n",
      "  close_data[i] = tse.get_price_history(i, ignore_date=True)['Close']\n",
      "C:\\Users\\ADMIN\\AppData\\Local\\Temp\\ipykernel_5324\\1884699609.py:3: PerformanceWarning: DataFrame is highly fragmented.  This is usually the result of calling `frame.insert` many times, which has poor performance.  Consider joining all columns at once using pd.concat(axis=1) instead. To get a de-fragmented frame, use `newframe = frame.copy()`\n",
      "  close_data[i] = tse.get_price_history(i, ignore_date=True)['Close']\n",
      "C:\\Users\\ADMIN\\AppData\\Local\\Temp\\ipykernel_5324\\1884699609.py:3: PerformanceWarning: DataFrame is highly fragmented.  This is usually the result of calling `frame.insert` many times, which has poor performance.  Consider joining all columns at once using pd.concat(axis=1) instead. To get a de-fragmented frame, use `newframe = frame.copy()`\n",
      "  close_data[i] = tse.get_price_history(i, ignore_date=True)['Close']\n",
      "C:\\Users\\ADMIN\\AppData\\Local\\Temp\\ipykernel_5324\\1884699609.py:3: PerformanceWarning: DataFrame is highly fragmented.  This is usually the result of calling `frame.insert` many times, which has poor performance.  Consider joining all columns at once using pd.concat(axis=1) instead. To get a de-fragmented frame, use `newframe = frame.copy()`\n",
      "  close_data[i] = tse.get_price_history(i, ignore_date=True)['Close']\n",
      "C:\\Users\\ADMIN\\AppData\\Local\\Temp\\ipykernel_5324\\1884699609.py:3: PerformanceWarning: DataFrame is highly fragmented.  This is usually the result of calling `frame.insert` many times, which has poor performance.  Consider joining all columns at once using pd.concat(axis=1) instead. To get a de-fragmented frame, use `newframe = frame.copy()`\n",
      "  close_data[i] = tse.get_price_history(i, ignore_date=True)['Close']\n",
      "C:\\Users\\ADMIN\\AppData\\Local\\Temp\\ipykernel_5324\\1884699609.py:3: PerformanceWarning: DataFrame is highly fragmented.  This is usually the result of calling `frame.insert` many times, which has poor performance.  Consider joining all columns at once using pd.concat(axis=1) instead. To get a de-fragmented frame, use `newframe = frame.copy()`\n",
      "  close_data[i] = tse.get_price_history(i, ignore_date=True)['Close']\n",
      "C:\\Users\\ADMIN\\AppData\\Local\\Temp\\ipykernel_5324\\1884699609.py:3: PerformanceWarning: DataFrame is highly fragmented.  This is usually the result of calling `frame.insert` many times, which has poor performance.  Consider joining all columns at once using pd.concat(axis=1) instead. To get a de-fragmented frame, use `newframe = frame.copy()`\n",
      "  close_data[i] = tse.get_price_history(i, ignore_date=True)['Close']\n",
      "C:\\Users\\ADMIN\\AppData\\Local\\Temp\\ipykernel_5324\\1884699609.py:3: PerformanceWarning: DataFrame is highly fragmented.  This is usually the result of calling `frame.insert` many times, which has poor performance.  Consider joining all columns at once using pd.concat(axis=1) instead. To get a de-fragmented frame, use `newframe = frame.copy()`\n",
      "  close_data[i] = tse.get_price_history(i, ignore_date=True)['Close']\n",
      "C:\\Users\\ADMIN\\AppData\\Local\\Temp\\ipykernel_5324\\1884699609.py:3: PerformanceWarning: DataFrame is highly fragmented.  This is usually the result of calling `frame.insert` many times, which has poor performance.  Consider joining all columns at once using pd.concat(axis=1) instead. To get a de-fragmented frame, use `newframe = frame.copy()`\n",
      "  close_data[i] = tse.get_price_history(i, ignore_date=True)['Close']\n",
      "C:\\Users\\ADMIN\\AppData\\Local\\Temp\\ipykernel_5324\\1884699609.py:3: PerformanceWarning: DataFrame is highly fragmented.  This is usually the result of calling `frame.insert` many times, which has poor performance.  Consider joining all columns at once using pd.concat(axis=1) instead. To get a de-fragmented frame, use `newframe = frame.copy()`\n",
      "  close_data[i] = tse.get_price_history(i, ignore_date=True)['Close']\n",
      "C:\\Users\\ADMIN\\AppData\\Local\\Temp\\ipykernel_5324\\1884699609.py:3: PerformanceWarning: DataFrame is highly fragmented.  This is usually the result of calling `frame.insert` many times, which has poor performance.  Consider joining all columns at once using pd.concat(axis=1) instead. To get a de-fragmented frame, use `newframe = frame.copy()`\n",
      "  close_data[i] = tse.get_price_history(i, ignore_date=True)['Close']\n",
      "C:\\Users\\ADMIN\\AppData\\Local\\Temp\\ipykernel_5324\\1884699609.py:3: PerformanceWarning: DataFrame is highly fragmented.  This is usually the result of calling `frame.insert` many times, which has poor performance.  Consider joining all columns at once using pd.concat(axis=1) instead. To get a de-fragmented frame, use `newframe = frame.copy()`\n",
      "  close_data[i] = tse.get_price_history(i, ignore_date=True)['Close']\n",
      "C:\\Users\\ADMIN\\AppData\\Local\\Temp\\ipykernel_5324\\1884699609.py:3: PerformanceWarning: DataFrame is highly fragmented.  This is usually the result of calling `frame.insert` many times, which has poor performance.  Consider joining all columns at once using pd.concat(axis=1) instead. To get a de-fragmented frame, use `newframe = frame.copy()`\n",
      "  close_data[i] = tse.get_price_history(i, ignore_date=True)['Close']\n",
      "C:\\Users\\ADMIN\\AppData\\Local\\Temp\\ipykernel_5324\\1884699609.py:3: PerformanceWarning: DataFrame is highly fragmented.  This is usually the result of calling `frame.insert` many times, which has poor performance.  Consider joining all columns at once using pd.concat(axis=1) instead. To get a de-fragmented frame, use `newframe = frame.copy()`\n",
      "  close_data[i] = tse.get_price_history(i, ignore_date=True)['Close']\n",
      "C:\\Users\\ADMIN\\AppData\\Local\\Temp\\ipykernel_5324\\1884699609.py:3: PerformanceWarning: DataFrame is highly fragmented.  This is usually the result of calling `frame.insert` many times, which has poor performance.  Consider joining all columns at once using pd.concat(axis=1) instead. To get a de-fragmented frame, use `newframe = frame.copy()`\n",
      "  close_data[i] = tse.get_price_history(i, ignore_date=True)['Close']\n",
      "C:\\Users\\ADMIN\\AppData\\Local\\Temp\\ipykernel_5324\\1884699609.py:3: PerformanceWarning: DataFrame is highly fragmented.  This is usually the result of calling `frame.insert` many times, which has poor performance.  Consider joining all columns at once using pd.concat(axis=1) instead. To get a de-fragmented frame, use `newframe = frame.copy()`\n",
      "  close_data[i] = tse.get_price_history(i, ignore_date=True)['Close']\n",
      "C:\\Users\\ADMIN\\AppData\\Local\\Temp\\ipykernel_5324\\1884699609.py:3: PerformanceWarning: DataFrame is highly fragmented.  This is usually the result of calling `frame.insert` many times, which has poor performance.  Consider joining all columns at once using pd.concat(axis=1) instead. To get a de-fragmented frame, use `newframe = frame.copy()`\n",
      "  close_data[i] = tse.get_price_history(i, ignore_date=True)['Close']\n",
      "C:\\Users\\ADMIN\\AppData\\Local\\Temp\\ipykernel_5324\\1884699609.py:3: PerformanceWarning: DataFrame is highly fragmented.  This is usually the result of calling `frame.insert` many times, which has poor performance.  Consider joining all columns at once using pd.concat(axis=1) instead. To get a de-fragmented frame, use `newframe = frame.copy()`\n",
      "  close_data[i] = tse.get_price_history(i, ignore_date=True)['Close']\n",
      "C:\\Users\\ADMIN\\AppData\\Local\\Temp\\ipykernel_5324\\1884699609.py:3: PerformanceWarning: DataFrame is highly fragmented.  This is usually the result of calling `frame.insert` many times, which has poor performance.  Consider joining all columns at once using pd.concat(axis=1) instead. To get a de-fragmented frame, use `newframe = frame.copy()`\n",
      "  close_data[i] = tse.get_price_history(i, ignore_date=True)['Close']\n",
      "C:\\Users\\ADMIN\\AppData\\Local\\Temp\\ipykernel_5324\\1884699609.py:3: PerformanceWarning: DataFrame is highly fragmented.  This is usually the result of calling `frame.insert` many times, which has poor performance.  Consider joining all columns at once using pd.concat(axis=1) instead. To get a de-fragmented frame, use `newframe = frame.copy()`\n",
      "  close_data[i] = tse.get_price_history(i, ignore_date=True)['Close']\n",
      "C:\\Users\\ADMIN\\AppData\\Local\\Temp\\ipykernel_5324\\1884699609.py:3: PerformanceWarning: DataFrame is highly fragmented.  This is usually the result of calling `frame.insert` many times, which has poor performance.  Consider joining all columns at once using pd.concat(axis=1) instead. To get a de-fragmented frame, use `newframe = frame.copy()`\n",
      "  close_data[i] = tse.get_price_history(i, ignore_date=True)['Close']\n",
      "C:\\Users\\ADMIN\\AppData\\Local\\Temp\\ipykernel_5324\\1884699609.py:3: PerformanceWarning: DataFrame is highly fragmented.  This is usually the result of calling `frame.insert` many times, which has poor performance.  Consider joining all columns at once using pd.concat(axis=1) instead. To get a de-fragmented frame, use `newframe = frame.copy()`\n",
      "  close_data[i] = tse.get_price_history(i, ignore_date=True)['Close']\n",
      "C:\\Users\\ADMIN\\AppData\\Local\\Temp\\ipykernel_5324\\1884699609.py:3: PerformanceWarning: DataFrame is highly fragmented.  This is usually the result of calling `frame.insert` many times, which has poor performance.  Consider joining all columns at once using pd.concat(axis=1) instead. To get a de-fragmented frame, use `newframe = frame.copy()`\n",
      "  close_data[i] = tse.get_price_history(i, ignore_date=True)['Close']\n",
      "C:\\Users\\ADMIN\\AppData\\Local\\Temp\\ipykernel_5324\\1884699609.py:3: PerformanceWarning: DataFrame is highly fragmented.  This is usually the result of calling `frame.insert` many times, which has poor performance.  Consider joining all columns at once using pd.concat(axis=1) instead. To get a de-fragmented frame, use `newframe = frame.copy()`\n",
      "  close_data[i] = tse.get_price_history(i, ignore_date=True)['Close']\n",
      "C:\\Users\\ADMIN\\AppData\\Local\\Temp\\ipykernel_5324\\1884699609.py:3: PerformanceWarning: DataFrame is highly fragmented.  This is usually the result of calling `frame.insert` many times, which has poor performance.  Consider joining all columns at once using pd.concat(axis=1) instead. To get a de-fragmented frame, use `newframe = frame.copy()`\n",
      "  close_data[i] = tse.get_price_history(i, ignore_date=True)['Close']\n",
      "C:\\Users\\ADMIN\\AppData\\Local\\Temp\\ipykernel_5324\\1884699609.py:3: PerformanceWarning: DataFrame is highly fragmented.  This is usually the result of calling `frame.insert` many times, which has poor performance.  Consider joining all columns at once using pd.concat(axis=1) instead. To get a de-fragmented frame, use `newframe = frame.copy()`\n",
      "  close_data[i] = tse.get_price_history(i, ignore_date=True)['Close']\n",
      "C:\\Users\\ADMIN\\AppData\\Local\\Temp\\ipykernel_5324\\1884699609.py:3: PerformanceWarning: DataFrame is highly fragmented.  This is usually the result of calling `frame.insert` many times, which has poor performance.  Consider joining all columns at once using pd.concat(axis=1) instead. To get a de-fragmented frame, use `newframe = frame.copy()`\n",
      "  close_data[i] = tse.get_price_history(i, ignore_date=True)['Close']\n",
      "C:\\Users\\ADMIN\\AppData\\Local\\Temp\\ipykernel_5324\\1884699609.py:3: PerformanceWarning: DataFrame is highly fragmented.  This is usually the result of calling `frame.insert` many times, which has poor performance.  Consider joining all columns at once using pd.concat(axis=1) instead. To get a de-fragmented frame, use `newframe = frame.copy()`\n",
      "  close_data[i] = tse.get_price_history(i, ignore_date=True)['Close']\n",
      "C:\\Users\\ADMIN\\AppData\\Local\\Temp\\ipykernel_5324\\1884699609.py:3: PerformanceWarning: DataFrame is highly fragmented.  This is usually the result of calling `frame.insert` many times, which has poor performance.  Consider joining all columns at once using pd.concat(axis=1) instead. To get a de-fragmented frame, use `newframe = frame.copy()`\n",
      "  close_data[i] = tse.get_price_history(i, ignore_date=True)['Close']\n",
      "C:\\Users\\ADMIN\\AppData\\Local\\Temp\\ipykernel_5324\\1884699609.py:3: PerformanceWarning: DataFrame is highly fragmented.  This is usually the result of calling `frame.insert` many times, which has poor performance.  Consider joining all columns at once using pd.concat(axis=1) instead. To get a de-fragmented frame, use `newframe = frame.copy()`\n",
      "  close_data[i] = tse.get_price_history(i, ignore_date=True)['Close']\n",
      "C:\\Users\\ADMIN\\AppData\\Local\\Temp\\ipykernel_5324\\1884699609.py:3: PerformanceWarning: DataFrame is highly fragmented.  This is usually the result of calling `frame.insert` many times, which has poor performance.  Consider joining all columns at once using pd.concat(axis=1) instead. To get a de-fragmented frame, use `newframe = frame.copy()`\n",
      "  close_data[i] = tse.get_price_history(i, ignore_date=True)['Close']\n",
      "C:\\Users\\ADMIN\\AppData\\Local\\Temp\\ipykernel_5324\\1884699609.py:3: PerformanceWarning: DataFrame is highly fragmented.  This is usually the result of calling `frame.insert` many times, which has poor performance.  Consider joining all columns at once using pd.concat(axis=1) instead. To get a de-fragmented frame, use `newframe = frame.copy()`\n",
      "  close_data[i] = tse.get_price_history(i, ignore_date=True)['Close']\n",
      "C:\\Users\\ADMIN\\AppData\\Local\\Temp\\ipykernel_5324\\1884699609.py:3: PerformanceWarning: DataFrame is highly fragmented.  This is usually the result of calling `frame.insert` many times, which has poor performance.  Consider joining all columns at once using pd.concat(axis=1) instead. To get a de-fragmented frame, use `newframe = frame.copy()`\n",
      "  close_data[i] = tse.get_price_history(i, ignore_date=True)['Close']\n",
      "C:\\Users\\ADMIN\\AppData\\Local\\Temp\\ipykernel_5324\\1884699609.py:3: PerformanceWarning: DataFrame is highly fragmented.  This is usually the result of calling `frame.insert` many times, which has poor performance.  Consider joining all columns at once using pd.concat(axis=1) instead. To get a de-fragmented frame, use `newframe = frame.copy()`\n",
      "  close_data[i] = tse.get_price_history(i, ignore_date=True)['Close']\n",
      "C:\\Users\\ADMIN\\AppData\\Local\\Temp\\ipykernel_5324\\1884699609.py:3: PerformanceWarning: DataFrame is highly fragmented.  This is usually the result of calling `frame.insert` many times, which has poor performance.  Consider joining all columns at once using pd.concat(axis=1) instead. To get a de-fragmented frame, use `newframe = frame.copy()`\n",
      "  close_data[i] = tse.get_price_history(i, ignore_date=True)['Close']\n"
     ]
    }
   ],
   "source": [
    "for i in symbols.Ticker:\n",
    "    try:\n",
    "        close_data[i] = tse.get_price_history(i, ignore_date=True)['Close']\n",
    "    except:\n",
    "        pass"
   ],
   "metadata": {
    "collapsed": false,
    "pycharm": {
     "name": "#%%\n"
    }
   }
  },
  {
   "cell_type": "code",
   "execution_count": 8,
   "outputs": [
    {
     "data": {
      "text/plain": "             آباد    آبادا      آپ    آسیا     اپال   اتکام    اخابر  اردستان  \\\nJ-Date                                                                          \n1383-10-26   1800      NaN     NaN     NaN      NaN     NaN      NaN      NaN   \n1383-10-27   1890      NaN     NaN     NaN      NaN     NaN      NaN      NaN   \n1383-10-28   1984      NaN     NaN     NaN      NaN     NaN      NaN      NaN   \n1383-11-07   2083      NaN     NaN     NaN      NaN     NaN      NaN      NaN   \n1383-11-11   2162      NaN     NaN     NaN      NaN     NaN      NaN      NaN   \n...           ...      ...     ...     ...      ...     ...      ...      ...   \n1402-12-01  61290  10330.0  6470.0     NaN  13040.0  2609.0  10910.0  13920.0   \n1402-12-02  60340  10260.0  6660.0     NaN  13050.0  2630.0  10800.0  14030.0   \n1402-12-05  57250  10130.0  6580.0  1589.0  13070.0  2531.0  10760.0  13950.0   \n1402-12-07  53950   9920.0  6370.0  1555.0  12840.0  2517.0  10280.0  13690.0   \n1402-12-08  52970   9910.0  6470.0  1573.0  13100.0  2499.0  10380.0  13700.0   \n\n            اسیاتک      افق  ...   ولشرق   ومعلم    وملل  وهامون    وهور  \\\nJ-Date                       ...                                           \n1383-10-26     NaN      NaN  ...     NaN     NaN     NaN     NaN     NaN   \n1383-10-27     NaN      NaN  ...     NaN     NaN     NaN     NaN     NaN   \n1383-10-28     NaN      NaN  ...     NaN     NaN     NaN     NaN     NaN   \n1383-11-07     NaN      NaN  ...     NaN     NaN     NaN     NaN     NaN   \n1383-11-11     NaN      NaN  ...     NaN     NaN     NaN     NaN     NaN   \n...            ...      ...  ...     ...     ...     ...     ...     ...   \n1402-12-01  8700.0  19160.0  ...  4499.0  2477.0  2223.0  3946.0  1926.0   \n1402-12-02  8540.0  19290.0  ...  4441.0  2434.0  2240.0  3895.0  1941.0   \n1402-12-05  8160.0  19480.0  ...  4260.0  2427.0  2260.0  3747.0  1933.0   \n1402-12-07  7600.0  18680.0  ...  4187.0  2500.0  2189.0  3560.0  1938.0   \n1402-12-08  7940.0  18420.0  ...  4241.0     NaN  2168.0  3530.0  1960.0   \n\n            ثبهساز  پرداخت       جم   البرز     خلنت  \nJ-Date                                                \n1383-10-26     NaN     NaN      NaN     NaN      NaN  \n1383-10-27     NaN     NaN      NaN     NaN      NaN  \n1383-10-28     NaN     NaN      NaN     NaN      NaN  \n1383-11-07     NaN     NaN      NaN     NaN      NaN  \n1383-11-11     NaN     NaN      NaN     NaN      NaN  \n...            ...     ...      ...     ...      ...  \n1402-12-01  2960.0  9070.0  46550.0  2541.0  33750.0  \n1402-12-02  2920.0  8960.0  46370.0  2552.0  34200.0  \n1402-12-05  2866.0  8790.0  46200.0  2542.0  32290.0  \n1402-12-07  2804.0  8730.0  46000.0     NaN  33710.0  \n1402-12-08  2910.0  8700.0  46400.0     NaN  33880.0  \n\n[3655 rows x 574 columns]",
      "text/html": "<div>\n<style scoped>\n    .dataframe tbody tr th:only-of-type {\n        vertical-align: middle;\n    }\n\n    .dataframe tbody tr th {\n        vertical-align: top;\n    }\n\n    .dataframe thead th {\n        text-align: right;\n    }\n</style>\n<table border=\"1\" class=\"dataframe\">\n  <thead>\n    <tr style=\"text-align: right;\">\n      <th></th>\n      <th>آباد</th>\n      <th>آبادا</th>\n      <th>آپ</th>\n      <th>آسیا</th>\n      <th>اپال</th>\n      <th>اتکام</th>\n      <th>اخابر</th>\n      <th>اردستان</th>\n      <th>اسیاتک</th>\n      <th>افق</th>\n      <th>...</th>\n      <th>ولشرق</th>\n      <th>ومعلم</th>\n      <th>وملل</th>\n      <th>وهامون</th>\n      <th>وهور</th>\n      <th>ثبهساز</th>\n      <th>پرداخت</th>\n      <th>جم</th>\n      <th>البرز</th>\n      <th>خلنت</th>\n    </tr>\n    <tr>\n      <th>J-Date</th>\n      <th></th>\n      <th></th>\n      <th></th>\n      <th></th>\n      <th></th>\n      <th></th>\n      <th></th>\n      <th></th>\n      <th></th>\n      <th></th>\n      <th></th>\n      <th></th>\n      <th></th>\n      <th></th>\n      <th></th>\n      <th></th>\n      <th></th>\n      <th></th>\n      <th></th>\n      <th></th>\n      <th></th>\n    </tr>\n  </thead>\n  <tbody>\n    <tr>\n      <th>1383-10-26</th>\n      <td>1800</td>\n      <td>NaN</td>\n      <td>NaN</td>\n      <td>NaN</td>\n      <td>NaN</td>\n      <td>NaN</td>\n      <td>NaN</td>\n      <td>NaN</td>\n      <td>NaN</td>\n      <td>NaN</td>\n      <td>...</td>\n      <td>NaN</td>\n      <td>NaN</td>\n      <td>NaN</td>\n      <td>NaN</td>\n      <td>NaN</td>\n      <td>NaN</td>\n      <td>NaN</td>\n      <td>NaN</td>\n      <td>NaN</td>\n      <td>NaN</td>\n    </tr>\n    <tr>\n      <th>1383-10-27</th>\n      <td>1890</td>\n      <td>NaN</td>\n      <td>NaN</td>\n      <td>NaN</td>\n      <td>NaN</td>\n      <td>NaN</td>\n      <td>NaN</td>\n      <td>NaN</td>\n      <td>NaN</td>\n      <td>NaN</td>\n      <td>...</td>\n      <td>NaN</td>\n      <td>NaN</td>\n      <td>NaN</td>\n      <td>NaN</td>\n      <td>NaN</td>\n      <td>NaN</td>\n      <td>NaN</td>\n      <td>NaN</td>\n      <td>NaN</td>\n      <td>NaN</td>\n    </tr>\n    <tr>\n      <th>1383-10-28</th>\n      <td>1984</td>\n      <td>NaN</td>\n      <td>NaN</td>\n      <td>NaN</td>\n      <td>NaN</td>\n      <td>NaN</td>\n      <td>NaN</td>\n      <td>NaN</td>\n      <td>NaN</td>\n      <td>NaN</td>\n      <td>...</td>\n      <td>NaN</td>\n      <td>NaN</td>\n      <td>NaN</td>\n      <td>NaN</td>\n      <td>NaN</td>\n      <td>NaN</td>\n      <td>NaN</td>\n      <td>NaN</td>\n      <td>NaN</td>\n      <td>NaN</td>\n    </tr>\n    <tr>\n      <th>1383-11-07</th>\n      <td>2083</td>\n      <td>NaN</td>\n      <td>NaN</td>\n      <td>NaN</td>\n      <td>NaN</td>\n      <td>NaN</td>\n      <td>NaN</td>\n      <td>NaN</td>\n      <td>NaN</td>\n      <td>NaN</td>\n      <td>...</td>\n      <td>NaN</td>\n      <td>NaN</td>\n      <td>NaN</td>\n      <td>NaN</td>\n      <td>NaN</td>\n      <td>NaN</td>\n      <td>NaN</td>\n      <td>NaN</td>\n      <td>NaN</td>\n      <td>NaN</td>\n    </tr>\n    <tr>\n      <th>1383-11-11</th>\n      <td>2162</td>\n      <td>NaN</td>\n      <td>NaN</td>\n      <td>NaN</td>\n      <td>NaN</td>\n      <td>NaN</td>\n      <td>NaN</td>\n      <td>NaN</td>\n      <td>NaN</td>\n      <td>NaN</td>\n      <td>...</td>\n      <td>NaN</td>\n      <td>NaN</td>\n      <td>NaN</td>\n      <td>NaN</td>\n      <td>NaN</td>\n      <td>NaN</td>\n      <td>NaN</td>\n      <td>NaN</td>\n      <td>NaN</td>\n      <td>NaN</td>\n    </tr>\n    <tr>\n      <th>...</th>\n      <td>...</td>\n      <td>...</td>\n      <td>...</td>\n      <td>...</td>\n      <td>...</td>\n      <td>...</td>\n      <td>...</td>\n      <td>...</td>\n      <td>...</td>\n      <td>...</td>\n      <td>...</td>\n      <td>...</td>\n      <td>...</td>\n      <td>...</td>\n      <td>...</td>\n      <td>...</td>\n      <td>...</td>\n      <td>...</td>\n      <td>...</td>\n      <td>...</td>\n      <td>...</td>\n    </tr>\n    <tr>\n      <th>1402-12-01</th>\n      <td>61290</td>\n      <td>10330.0</td>\n      <td>6470.0</td>\n      <td>NaN</td>\n      <td>13040.0</td>\n      <td>2609.0</td>\n      <td>10910.0</td>\n      <td>13920.0</td>\n      <td>8700.0</td>\n      <td>19160.0</td>\n      <td>...</td>\n      <td>4499.0</td>\n      <td>2477.0</td>\n      <td>2223.0</td>\n      <td>3946.0</td>\n      <td>1926.0</td>\n      <td>2960.0</td>\n      <td>9070.0</td>\n      <td>46550.0</td>\n      <td>2541.0</td>\n      <td>33750.0</td>\n    </tr>\n    <tr>\n      <th>1402-12-02</th>\n      <td>60340</td>\n      <td>10260.0</td>\n      <td>6660.0</td>\n      <td>NaN</td>\n      <td>13050.0</td>\n      <td>2630.0</td>\n      <td>10800.0</td>\n      <td>14030.0</td>\n      <td>8540.0</td>\n      <td>19290.0</td>\n      <td>...</td>\n      <td>4441.0</td>\n      <td>2434.0</td>\n      <td>2240.0</td>\n      <td>3895.0</td>\n      <td>1941.0</td>\n      <td>2920.0</td>\n      <td>8960.0</td>\n      <td>46370.0</td>\n      <td>2552.0</td>\n      <td>34200.0</td>\n    </tr>\n    <tr>\n      <th>1402-12-05</th>\n      <td>57250</td>\n      <td>10130.0</td>\n      <td>6580.0</td>\n      <td>1589.0</td>\n      <td>13070.0</td>\n      <td>2531.0</td>\n      <td>10760.0</td>\n      <td>13950.0</td>\n      <td>8160.0</td>\n      <td>19480.0</td>\n      <td>...</td>\n      <td>4260.0</td>\n      <td>2427.0</td>\n      <td>2260.0</td>\n      <td>3747.0</td>\n      <td>1933.0</td>\n      <td>2866.0</td>\n      <td>8790.0</td>\n      <td>46200.0</td>\n      <td>2542.0</td>\n      <td>32290.0</td>\n    </tr>\n    <tr>\n      <th>1402-12-07</th>\n      <td>53950</td>\n      <td>9920.0</td>\n      <td>6370.0</td>\n      <td>1555.0</td>\n      <td>12840.0</td>\n      <td>2517.0</td>\n      <td>10280.0</td>\n      <td>13690.0</td>\n      <td>7600.0</td>\n      <td>18680.0</td>\n      <td>...</td>\n      <td>4187.0</td>\n      <td>2500.0</td>\n      <td>2189.0</td>\n      <td>3560.0</td>\n      <td>1938.0</td>\n      <td>2804.0</td>\n      <td>8730.0</td>\n      <td>46000.0</td>\n      <td>NaN</td>\n      <td>33710.0</td>\n    </tr>\n    <tr>\n      <th>1402-12-08</th>\n      <td>52970</td>\n      <td>9910.0</td>\n      <td>6470.0</td>\n      <td>1573.0</td>\n      <td>13100.0</td>\n      <td>2499.0</td>\n      <td>10380.0</td>\n      <td>13700.0</td>\n      <td>7940.0</td>\n      <td>18420.0</td>\n      <td>...</td>\n      <td>4241.0</td>\n      <td>NaN</td>\n      <td>2168.0</td>\n      <td>3530.0</td>\n      <td>1960.0</td>\n      <td>2910.0</td>\n      <td>8700.0</td>\n      <td>46400.0</td>\n      <td>NaN</td>\n      <td>33880.0</td>\n    </tr>\n  </tbody>\n</table>\n<p>3655 rows × 574 columns</p>\n</div>"
     },
     "execution_count": 8,
     "metadata": {},
     "output_type": "execute_result"
    }
   ],
   "source": [
    "close_data"
   ],
   "metadata": {
    "collapsed": false,
    "pycharm": {
     "name": "#%%\n"
    }
   }
  },
  {
   "cell_type": "code",
   "execution_count": 9,
   "outputs": [],
   "source": [
    "#tse.Get_CWI_History(ignore_date=True)"
   ],
   "metadata": {
    "collapsed": false,
    "pycharm": {
     "name": "#%%\n"
    }
   }
  },
  {
   "cell_type": "code",
   "execution_count": 10,
   "outputs": [
    {
     "name": "stderr",
     "output_type": "stream",
     "text": [
      "C:\\Users\\ADMIN\\AppData\\Local\\Temp\\ipykernel_5324\\330964444.py:1: PerformanceWarning: DataFrame is highly fragmented.  This is usually the result of calling `frame.insert` many times, which has poor performance.  Consider joining all columns at once using pd.concat(axis=1) instead. To get a de-fragmented frame, use `newframe = frame.copy()`\n",
      "  close_data['شاخص_کل'] = tse.Get_CWI_History(ignore_date=True)['Close']\n"
     ]
    }
   ],
   "source": [
    "close_data['شاخص_کل'] = tse.Get_CWI_History(ignore_date=True)['Close']"
   ],
   "metadata": {
    "collapsed": false,
    "pycharm": {
     "name": "#%%\n"
    }
   }
  },
  {
   "cell_type": "code",
   "execution_count": 11,
   "outputs": [],
   "source": [
    "close_data.to_excel('F:\\my project\\data\\\\tehran_stock_exchange\\\\close_data.xlsx')"
   ],
   "metadata": {
    "collapsed": false,
    "pycharm": {
     "name": "#%%\n"
    }
   }
  },
  {
   "cell_type": "code",
   "execution_count": 3,
   "outputs": [],
   "source": [
    "close_data = pd.read_excel('F:\\my project\\data\\\\tehran_stock_exchange\\\\close_data.xlsx')"
   ],
   "metadata": {
    "collapsed": false,
    "pycharm": {
     "name": "#%%\n"
    }
   }
  },
  {
   "cell_type": "code",
   "execution_count": 4,
   "outputs": [
    {
     "data": {
      "text/plain": "          J-Date   آباد    آبادا      آپ    آسیا     اپال   اتکام    اخابر  \\\n0     1383-10-26   1800      NaN     NaN     NaN      NaN     NaN      NaN   \n1     1383-10-27   1890      NaN     NaN     NaN      NaN     NaN      NaN   \n2     1383-10-28   1984      NaN     NaN     NaN      NaN     NaN      NaN   \n3     1383-11-07   2083      NaN     NaN     NaN      NaN     NaN      NaN   \n4     1383-11-11   2162      NaN     NaN     NaN      NaN     NaN      NaN   \n...          ...    ...      ...     ...     ...      ...     ...      ...   \n3650  1402-12-01  61290  10330.0  6470.0     NaN  13040.0  2609.0  10910.0   \n3651  1402-12-02  60340  10260.0  6660.0     NaN  13050.0  2630.0  10800.0   \n3652  1402-12-05  57250  10130.0  6580.0  1589.0  13070.0  2531.0  10760.0   \n3653  1402-12-07  53950   9920.0  6370.0  1555.0  12840.0  2517.0  10280.0   \n3654  1402-12-08  52970   9910.0  6470.0  1573.0  13100.0  2499.0  10380.0   \n\n      اردستان  اسیاتک  ...   ومعلم    وملل  وهامون    وهور  ثبهساز  پرداخت  \\\n0         NaN     NaN  ...     NaN     NaN     NaN     NaN     NaN     NaN   \n1         NaN     NaN  ...     NaN     NaN     NaN     NaN     NaN     NaN   \n2         NaN     NaN  ...     NaN     NaN     NaN     NaN     NaN     NaN   \n3         NaN     NaN  ...     NaN     NaN     NaN     NaN     NaN     NaN   \n4         NaN     NaN  ...     NaN     NaN     NaN     NaN     NaN     NaN   \n...       ...     ...  ...     ...     ...     ...     ...     ...     ...   \n3650  13920.0  8700.0  ...  2477.0  2223.0  3946.0  1926.0  2960.0  9070.0   \n3651  14030.0  8540.0  ...  2434.0  2240.0  3895.0  1941.0  2920.0  8960.0   \n3652  13950.0  8160.0  ...  2427.0  2260.0  3747.0  1933.0  2866.0  8790.0   \n3653  13690.0  7600.0  ...  2500.0  2189.0  3560.0  1938.0  2804.0  8730.0   \n3654  13700.0  7940.0  ...     NaN  2168.0  3530.0  1960.0  2910.0  8700.0   \n\n           جم   البرز     خلنت    شاخص_کل  \n0         NaN     NaN      NaN        NaN  \n1         NaN     NaN      NaN        NaN  \n2         NaN     NaN      NaN        NaN  \n3         NaN     NaN      NaN        NaN  \n4         NaN     NaN      NaN        NaN  \n...       ...     ...      ...        ...  \n3650  46550.0  2541.0  33750.0  2071418.0  \n3651  46370.0  2552.0  34200.0  2070816.0  \n3652  46200.0  2542.0  32290.0  2066111.0  \n3653  46000.0     NaN  33710.0  2049784.0  \n3654  46400.0     NaN  33880.0  2046017.0  \n\n[3655 rows x 576 columns]",
      "text/html": "<div>\n<style scoped>\n    .dataframe tbody tr th:only-of-type {\n        vertical-align: middle;\n    }\n\n    .dataframe tbody tr th {\n        vertical-align: top;\n    }\n\n    .dataframe thead th {\n        text-align: right;\n    }\n</style>\n<table border=\"1\" class=\"dataframe\">\n  <thead>\n    <tr style=\"text-align: right;\">\n      <th></th>\n      <th>J-Date</th>\n      <th>آباد</th>\n      <th>آبادا</th>\n      <th>آپ</th>\n      <th>آسیا</th>\n      <th>اپال</th>\n      <th>اتکام</th>\n      <th>اخابر</th>\n      <th>اردستان</th>\n      <th>اسیاتک</th>\n      <th>...</th>\n      <th>ومعلم</th>\n      <th>وملل</th>\n      <th>وهامون</th>\n      <th>وهور</th>\n      <th>ثبهساز</th>\n      <th>پرداخت</th>\n      <th>جم</th>\n      <th>البرز</th>\n      <th>خلنت</th>\n      <th>شاخص_کل</th>\n    </tr>\n  </thead>\n  <tbody>\n    <tr>\n      <th>0</th>\n      <td>1383-10-26</td>\n      <td>1800</td>\n      <td>NaN</td>\n      <td>NaN</td>\n      <td>NaN</td>\n      <td>NaN</td>\n      <td>NaN</td>\n      <td>NaN</td>\n      <td>NaN</td>\n      <td>NaN</td>\n      <td>...</td>\n      <td>NaN</td>\n      <td>NaN</td>\n      <td>NaN</td>\n      <td>NaN</td>\n      <td>NaN</td>\n      <td>NaN</td>\n      <td>NaN</td>\n      <td>NaN</td>\n      <td>NaN</td>\n      <td>NaN</td>\n    </tr>\n    <tr>\n      <th>1</th>\n      <td>1383-10-27</td>\n      <td>1890</td>\n      <td>NaN</td>\n      <td>NaN</td>\n      <td>NaN</td>\n      <td>NaN</td>\n      <td>NaN</td>\n      <td>NaN</td>\n      <td>NaN</td>\n      <td>NaN</td>\n      <td>...</td>\n      <td>NaN</td>\n      <td>NaN</td>\n      <td>NaN</td>\n      <td>NaN</td>\n      <td>NaN</td>\n      <td>NaN</td>\n      <td>NaN</td>\n      <td>NaN</td>\n      <td>NaN</td>\n      <td>NaN</td>\n    </tr>\n    <tr>\n      <th>2</th>\n      <td>1383-10-28</td>\n      <td>1984</td>\n      <td>NaN</td>\n      <td>NaN</td>\n      <td>NaN</td>\n      <td>NaN</td>\n      <td>NaN</td>\n      <td>NaN</td>\n      <td>NaN</td>\n      <td>NaN</td>\n      <td>...</td>\n      <td>NaN</td>\n      <td>NaN</td>\n      <td>NaN</td>\n      <td>NaN</td>\n      <td>NaN</td>\n      <td>NaN</td>\n      <td>NaN</td>\n      <td>NaN</td>\n      <td>NaN</td>\n      <td>NaN</td>\n    </tr>\n    <tr>\n      <th>3</th>\n      <td>1383-11-07</td>\n      <td>2083</td>\n      <td>NaN</td>\n      <td>NaN</td>\n      <td>NaN</td>\n      <td>NaN</td>\n      <td>NaN</td>\n      <td>NaN</td>\n      <td>NaN</td>\n      <td>NaN</td>\n      <td>...</td>\n      <td>NaN</td>\n      <td>NaN</td>\n      <td>NaN</td>\n      <td>NaN</td>\n      <td>NaN</td>\n      <td>NaN</td>\n      <td>NaN</td>\n      <td>NaN</td>\n      <td>NaN</td>\n      <td>NaN</td>\n    </tr>\n    <tr>\n      <th>4</th>\n      <td>1383-11-11</td>\n      <td>2162</td>\n      <td>NaN</td>\n      <td>NaN</td>\n      <td>NaN</td>\n      <td>NaN</td>\n      <td>NaN</td>\n      <td>NaN</td>\n      <td>NaN</td>\n      <td>NaN</td>\n      <td>...</td>\n      <td>NaN</td>\n      <td>NaN</td>\n      <td>NaN</td>\n      <td>NaN</td>\n      <td>NaN</td>\n      <td>NaN</td>\n      <td>NaN</td>\n      <td>NaN</td>\n      <td>NaN</td>\n      <td>NaN</td>\n    </tr>\n    <tr>\n      <th>...</th>\n      <td>...</td>\n      <td>...</td>\n      <td>...</td>\n      <td>...</td>\n      <td>...</td>\n      <td>...</td>\n      <td>...</td>\n      <td>...</td>\n      <td>...</td>\n      <td>...</td>\n      <td>...</td>\n      <td>...</td>\n      <td>...</td>\n      <td>...</td>\n      <td>...</td>\n      <td>...</td>\n      <td>...</td>\n      <td>...</td>\n      <td>...</td>\n      <td>...</td>\n      <td>...</td>\n    </tr>\n    <tr>\n      <th>3650</th>\n      <td>1402-12-01</td>\n      <td>61290</td>\n      <td>10330.0</td>\n      <td>6470.0</td>\n      <td>NaN</td>\n      <td>13040.0</td>\n      <td>2609.0</td>\n      <td>10910.0</td>\n      <td>13920.0</td>\n      <td>8700.0</td>\n      <td>...</td>\n      <td>2477.0</td>\n      <td>2223.0</td>\n      <td>3946.0</td>\n      <td>1926.0</td>\n      <td>2960.0</td>\n      <td>9070.0</td>\n      <td>46550.0</td>\n      <td>2541.0</td>\n      <td>33750.0</td>\n      <td>2071418.0</td>\n    </tr>\n    <tr>\n      <th>3651</th>\n      <td>1402-12-02</td>\n      <td>60340</td>\n      <td>10260.0</td>\n      <td>6660.0</td>\n      <td>NaN</td>\n      <td>13050.0</td>\n      <td>2630.0</td>\n      <td>10800.0</td>\n      <td>14030.0</td>\n      <td>8540.0</td>\n      <td>...</td>\n      <td>2434.0</td>\n      <td>2240.0</td>\n      <td>3895.0</td>\n      <td>1941.0</td>\n      <td>2920.0</td>\n      <td>8960.0</td>\n      <td>46370.0</td>\n      <td>2552.0</td>\n      <td>34200.0</td>\n      <td>2070816.0</td>\n    </tr>\n    <tr>\n      <th>3652</th>\n      <td>1402-12-05</td>\n      <td>57250</td>\n      <td>10130.0</td>\n      <td>6580.0</td>\n      <td>1589.0</td>\n      <td>13070.0</td>\n      <td>2531.0</td>\n      <td>10760.0</td>\n      <td>13950.0</td>\n      <td>8160.0</td>\n      <td>...</td>\n      <td>2427.0</td>\n      <td>2260.0</td>\n      <td>3747.0</td>\n      <td>1933.0</td>\n      <td>2866.0</td>\n      <td>8790.0</td>\n      <td>46200.0</td>\n      <td>2542.0</td>\n      <td>32290.0</td>\n      <td>2066111.0</td>\n    </tr>\n    <tr>\n      <th>3653</th>\n      <td>1402-12-07</td>\n      <td>53950</td>\n      <td>9920.0</td>\n      <td>6370.0</td>\n      <td>1555.0</td>\n      <td>12840.0</td>\n      <td>2517.0</td>\n      <td>10280.0</td>\n      <td>13690.0</td>\n      <td>7600.0</td>\n      <td>...</td>\n      <td>2500.0</td>\n      <td>2189.0</td>\n      <td>3560.0</td>\n      <td>1938.0</td>\n      <td>2804.0</td>\n      <td>8730.0</td>\n      <td>46000.0</td>\n      <td>NaN</td>\n      <td>33710.0</td>\n      <td>2049784.0</td>\n    </tr>\n    <tr>\n      <th>3654</th>\n      <td>1402-12-08</td>\n      <td>52970</td>\n      <td>9910.0</td>\n      <td>6470.0</td>\n      <td>1573.0</td>\n      <td>13100.0</td>\n      <td>2499.0</td>\n      <td>10380.0</td>\n      <td>13700.0</td>\n      <td>7940.0</td>\n      <td>...</td>\n      <td>NaN</td>\n      <td>2168.0</td>\n      <td>3530.0</td>\n      <td>1960.0</td>\n      <td>2910.0</td>\n      <td>8700.0</td>\n      <td>46400.0</td>\n      <td>NaN</td>\n      <td>33880.0</td>\n      <td>2046017.0</td>\n    </tr>\n  </tbody>\n</table>\n<p>3655 rows × 576 columns</p>\n</div>"
     },
     "execution_count": 4,
     "metadata": {},
     "output_type": "execute_result"
    }
   ],
   "source": [
    "close_data"
   ],
   "metadata": {
    "collapsed": false,
    "pycharm": {
     "name": "#%%\n"
    }
   }
  },
  {
   "cell_type": "code",
   "execution_count": 5,
   "outputs": [],
   "source": [
    "describe = close_data.describe()"
   ],
   "metadata": {
    "collapsed": false,
    "pycharm": {
     "name": "#%%\n"
    }
   }
  },
  {
   "cell_type": "code",
   "execution_count": 6,
   "outputs": [],
   "source": [
    "#close_data.to_excel('F:\\my project\\data\\\\tehran_stock_exchange\\\\all_close_data.xlsx')"
   ],
   "metadata": {
    "collapsed": false,
    "pycharm": {
     "name": "#%%\n"
    }
   }
  },
  {
   "cell_type": "code",
   "execution_count": 7,
   "outputs": [],
   "source": [
    "#close_data.pct_change()"
   ],
   "metadata": {
    "collapsed": false,
    "pycharm": {
     "name": "#%%\n"
    }
   }
  },
  {
   "cell_type": "code",
   "execution_count": 8,
   "outputs": [],
   "source": [
    "#return_data = {i: [] for i in close_data.columns}"
   ],
   "metadata": {
    "collapsed": false,
    "pycharm": {
     "name": "#%%\n"
    }
   }
  },
  {
   "cell_type": "code",
   "execution_count": 9,
   "outputs": [],
   "source": [
    "#return_data"
   ],
   "metadata": {
    "collapsed": false,
    "pycharm": {
     "name": "#%%\n"
    }
   }
  },
  {
   "cell_type": "code",
   "execution_count": 10,
   "outputs": [],
   "source": [
    "#close_dt = close_data.reset_index()"
   ],
   "metadata": {
    "collapsed": false,
    "pycharm": {
     "name": "#%%\n"
    }
   }
  },
  {
   "cell_type": "code",
   "execution_count": 11,
   "outputs": [],
   "source": [
    "close_dt = close_data[:]"
   ],
   "metadata": {
    "collapsed": false,
    "pycharm": {
     "name": "#%%\n"
    }
   }
  },
  {
   "cell_type": "code",
   "execution_count": 12,
   "outputs": [
    {
     "data": {
      "text/plain": "          J-Date   آباد    آبادا      آپ    آسیا     اپال   اتکام    اخابر  \\\n0     1383-10-26   1800      NaN     NaN     NaN      NaN     NaN      NaN   \n1     1383-10-27   1890      NaN     NaN     NaN      NaN     NaN      NaN   \n2     1383-10-28   1984      NaN     NaN     NaN      NaN     NaN      NaN   \n3     1383-11-07   2083      NaN     NaN     NaN      NaN     NaN      NaN   \n4     1383-11-11   2162      NaN     NaN     NaN      NaN     NaN      NaN   \n...          ...    ...      ...     ...     ...      ...     ...      ...   \n3650  1402-12-01  61290  10330.0  6470.0     NaN  13040.0  2609.0  10910.0   \n3651  1402-12-02  60340  10260.0  6660.0     NaN  13050.0  2630.0  10800.0   \n3652  1402-12-05  57250  10130.0  6580.0  1589.0  13070.0  2531.0  10760.0   \n3653  1402-12-07  53950   9920.0  6370.0  1555.0  12840.0  2517.0  10280.0   \n3654  1402-12-08  52970   9910.0  6470.0  1573.0  13100.0  2499.0  10380.0   \n\n      اردستان  اسیاتک  ...   ومعلم    وملل  وهامون    وهور  ثبهساز  پرداخت  \\\n0         NaN     NaN  ...     NaN     NaN     NaN     NaN     NaN     NaN   \n1         NaN     NaN  ...     NaN     NaN     NaN     NaN     NaN     NaN   \n2         NaN     NaN  ...     NaN     NaN     NaN     NaN     NaN     NaN   \n3         NaN     NaN  ...     NaN     NaN     NaN     NaN     NaN     NaN   \n4         NaN     NaN  ...     NaN     NaN     NaN     NaN     NaN     NaN   \n...       ...     ...  ...     ...     ...     ...     ...     ...     ...   \n3650  13920.0  8700.0  ...  2477.0  2223.0  3946.0  1926.0  2960.0  9070.0   \n3651  14030.0  8540.0  ...  2434.0  2240.0  3895.0  1941.0  2920.0  8960.0   \n3652  13950.0  8160.0  ...  2427.0  2260.0  3747.0  1933.0  2866.0  8790.0   \n3653  13690.0  7600.0  ...  2500.0  2189.0  3560.0  1938.0  2804.0  8730.0   \n3654  13700.0  7940.0  ...     NaN  2168.0  3530.0  1960.0  2910.0  8700.0   \n\n           جم   البرز     خلنت    شاخص_کل  \n0         NaN     NaN      NaN        NaN  \n1         NaN     NaN      NaN        NaN  \n2         NaN     NaN      NaN        NaN  \n3         NaN     NaN      NaN        NaN  \n4         NaN     NaN      NaN        NaN  \n...       ...     ...      ...        ...  \n3650  46550.0  2541.0  33750.0  2071418.0  \n3651  46370.0  2552.0  34200.0  2070816.0  \n3652  46200.0  2542.0  32290.0  2066111.0  \n3653  46000.0     NaN  33710.0  2049784.0  \n3654  46400.0     NaN  33880.0  2046017.0  \n\n[3655 rows x 576 columns]",
      "text/html": "<div>\n<style scoped>\n    .dataframe tbody tr th:only-of-type {\n        vertical-align: middle;\n    }\n\n    .dataframe tbody tr th {\n        vertical-align: top;\n    }\n\n    .dataframe thead th {\n        text-align: right;\n    }\n</style>\n<table border=\"1\" class=\"dataframe\">\n  <thead>\n    <tr style=\"text-align: right;\">\n      <th></th>\n      <th>J-Date</th>\n      <th>آباد</th>\n      <th>آبادا</th>\n      <th>آپ</th>\n      <th>آسیا</th>\n      <th>اپال</th>\n      <th>اتکام</th>\n      <th>اخابر</th>\n      <th>اردستان</th>\n      <th>اسیاتک</th>\n      <th>...</th>\n      <th>ومعلم</th>\n      <th>وملل</th>\n      <th>وهامون</th>\n      <th>وهور</th>\n      <th>ثبهساز</th>\n      <th>پرداخت</th>\n      <th>جم</th>\n      <th>البرز</th>\n      <th>خلنت</th>\n      <th>شاخص_کل</th>\n    </tr>\n  </thead>\n  <tbody>\n    <tr>\n      <th>0</th>\n      <td>1383-10-26</td>\n      <td>1800</td>\n      <td>NaN</td>\n      <td>NaN</td>\n      <td>NaN</td>\n      <td>NaN</td>\n      <td>NaN</td>\n      <td>NaN</td>\n      <td>NaN</td>\n      <td>NaN</td>\n      <td>...</td>\n      <td>NaN</td>\n      <td>NaN</td>\n      <td>NaN</td>\n      <td>NaN</td>\n      <td>NaN</td>\n      <td>NaN</td>\n      <td>NaN</td>\n      <td>NaN</td>\n      <td>NaN</td>\n      <td>NaN</td>\n    </tr>\n    <tr>\n      <th>1</th>\n      <td>1383-10-27</td>\n      <td>1890</td>\n      <td>NaN</td>\n      <td>NaN</td>\n      <td>NaN</td>\n      <td>NaN</td>\n      <td>NaN</td>\n      <td>NaN</td>\n      <td>NaN</td>\n      <td>NaN</td>\n      <td>...</td>\n      <td>NaN</td>\n      <td>NaN</td>\n      <td>NaN</td>\n      <td>NaN</td>\n      <td>NaN</td>\n      <td>NaN</td>\n      <td>NaN</td>\n      <td>NaN</td>\n      <td>NaN</td>\n      <td>NaN</td>\n    </tr>\n    <tr>\n      <th>2</th>\n      <td>1383-10-28</td>\n      <td>1984</td>\n      <td>NaN</td>\n      <td>NaN</td>\n      <td>NaN</td>\n      <td>NaN</td>\n      <td>NaN</td>\n      <td>NaN</td>\n      <td>NaN</td>\n      <td>NaN</td>\n      <td>...</td>\n      <td>NaN</td>\n      <td>NaN</td>\n      <td>NaN</td>\n      <td>NaN</td>\n      <td>NaN</td>\n      <td>NaN</td>\n      <td>NaN</td>\n      <td>NaN</td>\n      <td>NaN</td>\n      <td>NaN</td>\n    </tr>\n    <tr>\n      <th>3</th>\n      <td>1383-11-07</td>\n      <td>2083</td>\n      <td>NaN</td>\n      <td>NaN</td>\n      <td>NaN</td>\n      <td>NaN</td>\n      <td>NaN</td>\n      <td>NaN</td>\n      <td>NaN</td>\n      <td>NaN</td>\n      <td>...</td>\n      <td>NaN</td>\n      <td>NaN</td>\n      <td>NaN</td>\n      <td>NaN</td>\n      <td>NaN</td>\n      <td>NaN</td>\n      <td>NaN</td>\n      <td>NaN</td>\n      <td>NaN</td>\n      <td>NaN</td>\n    </tr>\n    <tr>\n      <th>4</th>\n      <td>1383-11-11</td>\n      <td>2162</td>\n      <td>NaN</td>\n      <td>NaN</td>\n      <td>NaN</td>\n      <td>NaN</td>\n      <td>NaN</td>\n      <td>NaN</td>\n      <td>NaN</td>\n      <td>NaN</td>\n      <td>...</td>\n      <td>NaN</td>\n      <td>NaN</td>\n      <td>NaN</td>\n      <td>NaN</td>\n      <td>NaN</td>\n      <td>NaN</td>\n      <td>NaN</td>\n      <td>NaN</td>\n      <td>NaN</td>\n      <td>NaN</td>\n    </tr>\n    <tr>\n      <th>...</th>\n      <td>...</td>\n      <td>...</td>\n      <td>...</td>\n      <td>...</td>\n      <td>...</td>\n      <td>...</td>\n      <td>...</td>\n      <td>...</td>\n      <td>...</td>\n      <td>...</td>\n      <td>...</td>\n      <td>...</td>\n      <td>...</td>\n      <td>...</td>\n      <td>...</td>\n      <td>...</td>\n      <td>...</td>\n      <td>...</td>\n      <td>...</td>\n      <td>...</td>\n      <td>...</td>\n    </tr>\n    <tr>\n      <th>3650</th>\n      <td>1402-12-01</td>\n      <td>61290</td>\n      <td>10330.0</td>\n      <td>6470.0</td>\n      <td>NaN</td>\n      <td>13040.0</td>\n      <td>2609.0</td>\n      <td>10910.0</td>\n      <td>13920.0</td>\n      <td>8700.0</td>\n      <td>...</td>\n      <td>2477.0</td>\n      <td>2223.0</td>\n      <td>3946.0</td>\n      <td>1926.0</td>\n      <td>2960.0</td>\n      <td>9070.0</td>\n      <td>46550.0</td>\n      <td>2541.0</td>\n      <td>33750.0</td>\n      <td>2071418.0</td>\n    </tr>\n    <tr>\n      <th>3651</th>\n      <td>1402-12-02</td>\n      <td>60340</td>\n      <td>10260.0</td>\n      <td>6660.0</td>\n      <td>NaN</td>\n      <td>13050.0</td>\n      <td>2630.0</td>\n      <td>10800.0</td>\n      <td>14030.0</td>\n      <td>8540.0</td>\n      <td>...</td>\n      <td>2434.0</td>\n      <td>2240.0</td>\n      <td>3895.0</td>\n      <td>1941.0</td>\n      <td>2920.0</td>\n      <td>8960.0</td>\n      <td>46370.0</td>\n      <td>2552.0</td>\n      <td>34200.0</td>\n      <td>2070816.0</td>\n    </tr>\n    <tr>\n      <th>3652</th>\n      <td>1402-12-05</td>\n      <td>57250</td>\n      <td>10130.0</td>\n      <td>6580.0</td>\n      <td>1589.0</td>\n      <td>13070.0</td>\n      <td>2531.0</td>\n      <td>10760.0</td>\n      <td>13950.0</td>\n      <td>8160.0</td>\n      <td>...</td>\n      <td>2427.0</td>\n      <td>2260.0</td>\n      <td>3747.0</td>\n      <td>1933.0</td>\n      <td>2866.0</td>\n      <td>8790.0</td>\n      <td>46200.0</td>\n      <td>2542.0</td>\n      <td>32290.0</td>\n      <td>2066111.0</td>\n    </tr>\n    <tr>\n      <th>3653</th>\n      <td>1402-12-07</td>\n      <td>53950</td>\n      <td>9920.0</td>\n      <td>6370.0</td>\n      <td>1555.0</td>\n      <td>12840.0</td>\n      <td>2517.0</td>\n      <td>10280.0</td>\n      <td>13690.0</td>\n      <td>7600.0</td>\n      <td>...</td>\n      <td>2500.0</td>\n      <td>2189.0</td>\n      <td>3560.0</td>\n      <td>1938.0</td>\n      <td>2804.0</td>\n      <td>8730.0</td>\n      <td>46000.0</td>\n      <td>NaN</td>\n      <td>33710.0</td>\n      <td>2049784.0</td>\n    </tr>\n    <tr>\n      <th>3654</th>\n      <td>1402-12-08</td>\n      <td>52970</td>\n      <td>9910.0</td>\n      <td>6470.0</td>\n      <td>1573.0</td>\n      <td>13100.0</td>\n      <td>2499.0</td>\n      <td>10380.0</td>\n      <td>13700.0</td>\n      <td>7940.0</td>\n      <td>...</td>\n      <td>NaN</td>\n      <td>2168.0</td>\n      <td>3530.0</td>\n      <td>1960.0</td>\n      <td>2910.0</td>\n      <td>8700.0</td>\n      <td>46400.0</td>\n      <td>NaN</td>\n      <td>33880.0</td>\n      <td>2046017.0</td>\n    </tr>\n  </tbody>\n</table>\n<p>3655 rows × 576 columns</p>\n</div>"
     },
     "execution_count": 12,
     "metadata": {},
     "output_type": "execute_result"
    }
   ],
   "source": [
    "close_dt"
   ],
   "metadata": {
    "collapsed": false,
    "pycharm": {
     "name": "#%%\n"
    }
   }
  },
  {
   "cell_type": "code",
   "execution_count": 13,
   "outputs": [],
   "source": [
    "def exp_change(inp_columns):\n",
    "    exp_change_dt = []\n",
    "    first = 0\n",
    "    for i in inp_columns.index:\n",
    "        if first == 0:\n",
    "            if str(inp_columns[i]) != 'nan':\n",
    "                first = i\n",
    "                break\n",
    "    j = first\n",
    "    k = first + 1\n",
    "    for i in inp_columns.index[first:-1]:\n",
    "        if str(inp_columns[j]) != 'nan' and str(inp_columns[k]) != 'nan':\n",
    "            if k - j == 1:\n",
    "                #print(j, '-', k, '-', inp_columns[k] / inp_columns[j])\n",
    "                exp_change_dt.append(inp_columns[k] / inp_columns[j])\n",
    "                j += 1\n",
    "                k += 1\n",
    "            elif k - j > 1:\n",
    "                #print(j, '-', k, '-', (inp_columns[k] / inp_columns[j]) ** (1 / (k - j)))\n",
    "                exp_change_dt.append((inp_columns[k] / inp_columns[j]) ** (1 / (k - j)))\n",
    "                j = k\n",
    "                k += 1\n",
    "        elif str(inp_columns[j]) != 'nan' and str(inp_columns[k]) == 'nan':\n",
    "            k += 1\n",
    "        '''elif str(inp_columns[j]) != 'nan' and str(inp_columns[k]) != 'nan' and k - j > 1:\n",
    "            exp_change_dt.append((inp_columns[k] / inp_columns[j]) ** (1 / k - j))\n",
    "            j = k\n",
    "            k += 1'''\n",
    "    return np.array(exp_change_dt)"
   ],
   "metadata": {
    "collapsed": false,
    "pycharm": {
     "name": "#%%\n"
    }
   }
  },
  {
   "cell_type": "code",
   "execution_count": 14,
   "outputs": [],
   "source": [
    "#a['فزر']"
   ],
   "metadata": {
    "collapsed": false,
    "pycharm": {
     "name": "#%%\n"
    }
   }
  },
  {
   "cell_type": "code",
   "execution_count": 15,
   "outputs": [],
   "source": [
    "#(a['فزر'][3382] / a['فزر'][3378]) ** (1 / (3382 - 3278))"
   ],
   "metadata": {
    "collapsed": false,
    "pycharm": {
     "name": "#%%\n"
    }
   }
  },
  {
   "cell_type": "code",
   "execution_count": 16,
   "outputs": [],
   "source": [
    "#(a['فزر'][3246] / a['فزر'][3242]) ** (1 / (3246 - 3242))"
   ],
   "metadata": {
    "collapsed": false,
    "pycharm": {
     "name": "#%%\n"
    }
   }
  },
  {
   "cell_type": "code",
   "execution_count": 17,
   "outputs": [],
   "source": [
    "#(a['فزر'][3298] / a['فزر'][3295]) ** (1 / (3298 - 3295))"
   ],
   "metadata": {
    "collapsed": false,
    "pycharm": {
     "name": "#%%\n"
    }
   }
  },
  {
   "cell_type": "code",
   "execution_count": 18,
   "outputs": [],
   "source": [
    "#exp_change(a['فزر'])"
   ],
   "metadata": {
    "collapsed": false,
    "pycharm": {
     "name": "#%%\n"
    }
   }
  },
  {
   "cell_type": "code",
   "execution_count": 19,
   "outputs": [],
   "source": [
    "def mean_exp(inp_column):\n",
    "    ex = 1\n",
    "    for i in inp_column:\n",
    "        ex *= i\n",
    "    return ex ** (1 / len(inp_column))"
   ],
   "metadata": {
    "collapsed": false,
    "pycharm": {
     "name": "#%%\n"
    }
   }
  },
  {
   "cell_type": "code",
   "execution_count": 28,
   "outputs": [
    {
     "data": {
      "text/plain": "1.0025648928473507"
     },
     "execution_count": 28,
     "metadata": {},
     "output_type": "execute_result"
    }
   ],
   "source": [
    "mean_exp(exp_change(close_dt['فزر']))"
   ],
   "metadata": {
    "collapsed": false,
    "pycharm": {
     "name": "#%%\n"
    }
   }
  },
  {
   "cell_type": "code",
   "execution_count": 29,
   "outputs": [
    {
     "data": {
      "text/plain": "[<matplotlib.lines.Line2D at 0x2027218e7d0>]"
     },
     "execution_count": 29,
     "metadata": {},
     "output_type": "execute_result"
    },
    {
     "data": {
      "text/plain": "<Figure size 640x480 with 1 Axes>",
      "image/png": "[encoded data removed]"
     },
     "metadata": {},
     "output_type": "display_data"
    }
   ],
   "source": [
    "plt.plot(exp_change(close_dt['فزر']))\n",
    "plt.plot([1] * len(exp_change(close_dt['فزر'])))\n",
    "plt.plot([mean_exp(exp_change(close_dt['فزر']))] * len(exp_change(close_dt['فزر'])))"
   ],
   "metadata": {
    "collapsed": false,
    "pycharm": {
     "name": "#%%\n"
    }
   }
  },
  {
   "cell_type": "code",
   "execution_count": 20,
   "outputs": [],
   "source": [
    "return_data = {i: exp_change(close_dt[i]) for i in close_dt.columns[1:]}"
   ],
   "metadata": {
    "collapsed": false,
    "pycharm": {
     "name": "#%%\n"
    }
   }
  },
  {
   "cell_type": "code",
   "execution_count": 31,
   "outputs": [],
   "source": [
    "#return_data"
   ],
   "metadata": {
    "collapsed": false,
    "pycharm": {
     "name": "#%%\n"
    }
   }
  },
  {
   "cell_type": "code",
   "execution_count": 21,
   "outputs": [],
   "source": [
    "risk_return = pd.DataFrame({'mean': [mean_exp(return_data[i]) for i in close_dt.columns[1:]],\n",
    "                            'var': [np.var(return_data[i]) for i in close_dt.columns[1:]]},\n",
    "                           index=close_dt.columns[1:])"
   ],
   "metadata": {
    "collapsed": false,
    "pycharm": {
     "name": "#%%\n"
    }
   }
  },
  {
   "cell_type": "code",
   "execution_count": 22,
   "outputs": [
    {
     "data": {
      "text/plain": "             mean       var\nآباد     1.000926  0.000998\nآبادا    0.999460  0.000890\nآپ       1.000669  0.000815\nآسیا     1.001342  0.000914\nاپال     1.000221  0.000307\n...           ...       ...\nپرداخت   1.001010  0.000725\nجم       1.001493  0.000487\nالبرز    1.001151  0.000825\nخلنت     1.002007  0.001177\nشاخص_کل  1.001815  0.000155\n\n[575 rows x 2 columns]",
      "text/html": "<div>\n<style scoped>\n    .dataframe tbody tr th:only-of-type {\n        vertical-align: middle;\n    }\n\n    .dataframe tbody tr th {\n        vertical-align: top;\n    }\n\n    .dataframe thead th {\n        text-align: right;\n    }\n</style>\n<table border=\"1\" class=\"dataframe\">\n  <thead>\n    <tr style=\"text-align: right;\">\n      <th></th>\n      <th>mean</th>\n      <th>var</th>\n    </tr>\n  </thead>\n  <tbody>\n    <tr>\n      <th>آباد</th>\n      <td>1.000926</td>\n      <td>0.000998</td>\n    </tr>\n    <tr>\n      <th>آبادا</th>\n      <td>0.999460</td>\n      <td>0.000890</td>\n    </tr>\n    <tr>\n      <th>آپ</th>\n      <td>1.000669</td>\n      <td>0.000815</td>\n    </tr>\n    <tr>\n      <th>آسیا</th>\n      <td>1.001342</td>\n      <td>0.000914</td>\n    </tr>\n    <tr>\n      <th>اپال</th>\n      <td>1.000221</td>\n      <td>0.000307</td>\n    </tr>\n    <tr>\n      <th>...</th>\n      <td>...</td>\n      <td>...</td>\n    </tr>\n    <tr>\n      <th>پرداخت</th>\n      <td>1.001010</td>\n      <td>0.000725</td>\n    </tr>\n    <tr>\n      <th>جم</th>\n      <td>1.001493</td>\n      <td>0.000487</td>\n    </tr>\n    <tr>\n      <th>البرز</th>\n      <td>1.001151</td>\n      <td>0.000825</td>\n    </tr>\n    <tr>\n      <th>خلنت</th>\n      <td>1.002007</td>\n      <td>0.001177</td>\n    </tr>\n    <tr>\n      <th>شاخص_کل</th>\n      <td>1.001815</td>\n      <td>0.000155</td>\n    </tr>\n  </tbody>\n</table>\n<p>575 rows × 2 columns</p>\n</div>"
     },
     "execution_count": 22,
     "metadata": {},
     "output_type": "execute_result"
    }
   ],
   "source": [
    "risk_return"
   ],
   "metadata": {
    "collapsed": false,
    "pycharm": {
     "name": "#%%\n"
    }
   }
  },
  {
   "cell_type": "code",
   "execution_count": 23,
   "outputs": [],
   "source": [
    "#risk_return[risk_return['mean'] > np.quantile(risk_return['mean'], 0.75)]"
   ],
   "metadata": {
    "collapsed": false,
    "pycharm": {
     "name": "#%%\n"
    }
   }
  },
  {
   "cell_type": "code",
   "execution_count": 24,
   "outputs": [],
   "source": [
    "#risk_return[risk_return['var'] < np.quantile(risk_return['var'], 0.25)]"
   ],
   "metadata": {
    "collapsed": false,
    "pycharm": {
     "name": "#%%\n"
    }
   }
  },
  {
   "cell_type": "code",
   "execution_count": 25,
   "outputs": [],
   "source": [
    "ind1 = risk_return[risk_return['mean'] > np.quantile(risk_return['mean'], 0.75)].index\n",
    "ind2 = risk_return[risk_return['var'] < np.quantile(risk_return['var'], 0.25)].index"
   ],
   "metadata": {
    "collapsed": false,
    "pycharm": {
     "name": "#%%\n"
    }
   }
  },
  {
   "cell_type": "code",
   "execution_count": 26,
   "outputs": [],
   "source": [
    "#ind1"
   ],
   "metadata": {
    "collapsed": false,
    "pycharm": {
     "name": "#%%\n"
    }
   }
  },
  {
   "cell_type": "code",
   "execution_count": 27,
   "outputs": [],
   "source": [
    "#ind2"
   ],
   "metadata": {
    "collapsed": false,
    "pycharm": {
     "name": "#%%\n"
    }
   }
  },
  {
   "cell_type": "code",
   "execution_count": 28,
   "outputs": [],
   "source": [
    "def intersect(inp1, inp2):\n",
    "    intersect_ = []\n",
    "    if len(inp1) > len(inp2):\n",
    "        for i in inp1:\n",
    "            if i in inp2:\n",
    "                intersect_.append(i)\n",
    "    else:\n",
    "        for i in inp2:\n",
    "            if i in inp1:\n",
    "                intersect_.append(i)\n",
    "    return intersect_\n"
   ],
   "metadata": {
    "collapsed": false,
    "pycharm": {
     "name": "#%%\n"
    }
   }
  },
  {
   "cell_type": "code",
   "execution_count": 29,
   "outputs": [],
   "source": [
    "select_ = intersect(ind1, ind2)"
   ],
   "metadata": {
    "collapsed": false,
    "pycharm": {
     "name": "#%%\n"
    }
   }
  },
  {
   "cell_type": "code",
   "execution_count": 30,
   "outputs": [
    {
     "name": "stderr",
     "output_type": "stream",
     "text": [
      "C:\\Users\\ADMIN\\AppData\\Local\\Temp\\ipykernel_15068\\2488596456.py:1: FutureWarning: The default value of numeric_only in DataFrame.corr is deprecated. In a future version, it will default to False. Select only valid columns or specify the value of numeric_only to silence this warning.\n",
      "  cor_stock = close_data.corr()\n"
     ]
    }
   ],
   "source": [
    "cor_stock = close_data.corr()"
   ],
   "metadata": {
    "collapsed": false,
    "pycharm": {
     "name": "#%%\n"
    }
   }
  },
  {
   "cell_type": "code",
   "execution_count": 31,
   "outputs": [
    {
     "data": {
      "text/plain": "          اردستان       افق      بفجر     بوعلی      پارس    تاصیکو   جم پیلن  \\\nاردستان  1.000000  0.616867  0.241806  0.116283  0.379727 -0.198999  0.518174   \nافق      0.616867  1.000000  0.356872  0.248650  0.600744  0.090599 -0.695165   \nبفجر     0.241806  0.356872  1.000000 -0.266552  0.421312  0.789165  0.164926   \nبوعلی    0.116283  0.248650 -0.266552  1.000000  0.072625 -0.198184  0.007267   \nپارس     0.379727  0.600744  0.421312  0.072625  1.000000  0.261342 -0.397380   \nتاصیکو  -0.198999  0.090599  0.789165 -0.198184  0.261342  1.000000  0.411207   \nجم پیلن  0.518174 -0.695165  0.164926  0.007267 -0.397380  0.411207  1.000000   \nخراسان   0.647999 -0.494794  0.609723  0.047720 -0.107547  0.517445  0.965260   \nدارو     0.624325  0.634780  0.801474 -0.327356  0.533085  0.531730 -0.141501   \nدعبید    0.468377  0.830862  0.127937  0.465662  0.185393 -0.071277 -0.686853   \nسآبیک    0.062474 -0.376904  0.202406 -0.305837  0.349446 -0.256625  0.856512   \nسپید     0.871287  0.476201  0.098125  0.137171  0.845069 -0.056736 -0.334528   \nشاملا    0.140917  0.704961  0.620329 -0.315509  0.527786  0.284141 -0.480773   \nشپدیس    0.431008 -0.444303  0.608096  0.441028  0.015030  0.529825  0.849938   \nلوتوس    0.012499  0.648488  0.784999  0.027945  0.597385  0.687642 -0.210801   \nنوری     0.170714 -0.283202  0.558244  0.139923 -0.049407  0.627102  0.671240   \nوکغدیر   0.400729  0.283039  0.888097 -0.257605  0.785298  0.309692 -0.015683   \nبپاس     0.737469  0.362045  0.706555 -0.065760  0.709730  0.499981 -0.086581   \nتجلی     0.455543 -0.360225  0.483619 -0.360792 -0.265459 -0.189358  0.865969   \nتوسن     0.409850  0.180629 -0.451093  0.250678  0.094274 -0.293576  0.325525   \nساوه     0.426921 -0.542291  0.147223 -0.343516 -0.537921  0.081321  0.748042   \nسپیدار   0.262957 -0.206139  0.277006 -0.454000 -0.329097 -0.204069  0.421191   \nغمایه   -0.713393 -0.511159 -0.292491  0.756963 -0.152475  0.257183  0.125833   \nکگهر     0.593684  0.094693  0.663605  0.001520  0.318992  0.746395  0.442542   \nگوهران   0.485261  0.516063  0.876599 -0.187746  0.504153  0.783778 -0.025698   \nناما    -0.314720 -0.661942 -0.090958  0.612880 -0.684886  0.053735  0.061657   \nنیان    -0.741279 -0.705444 -0.507955  0.718897 -0.656225  0.019647  0.379624   \nوهامون   0.068705  0.065242  0.504672 -0.158946  0.297234  0.004957  0.366061   \nشاخص_کل  0.452676 -0.365446  0.720155 -0.172108  0.003552  0.652758  0.916126   \n\n           خراسان      دارو     دعبید  ...      توسن      ساوه    سپیدار  \\\nاردستان  0.647999  0.624325  0.468377  ...  0.409850  0.426921  0.262957   \nافق     -0.494794  0.634780  0.830862  ...  0.180629 -0.542291 -0.206139   \nبفجر     0.609723  0.801474  0.127937  ... -0.451093  0.147223  0.277006   \nبوعلی    0.047720 -0.327356  0.465662  ...  0.250678 -0.343516 -0.454000   \nپارس    -0.107547  0.533085  0.185393  ...  0.094274 -0.537921 -0.329097   \nتاصیکو   0.517445  0.531730 -0.071277  ... -0.293576  0.081321 -0.204069   \nجم پیلن  0.965260 -0.141501 -0.686853  ...  0.325525  0.748042  0.421191   \nخراسان   1.000000  0.604951  0.097430  ...  0.160003  0.704240  0.334918   \nدارو     0.604951  1.000000  0.558900  ...  0.428522  0.060439  0.466319   \nدعبید    0.097430  0.558900  1.000000  ...  0.093008 -0.286602 -0.214873   \nسآبیک    0.681712  0.865370 -0.280669  ...  0.665574  0.941435  0.953755   \nسپید    -0.241528  0.511119  0.180460  ... -0.012432 -0.292186 -0.245945   \nشاملا    0.178544  0.812464  0.659107  ... -0.036086 -0.053051  0.356171   \nشپدیس    0.967537  0.547188  0.098689  ... -0.499727  0.236752 -0.379844   \nلوتوس    0.016922  0.821565  0.438320  ... -0.024023 -0.233912 -0.276253   \nنوری     0.699294  0.452295 -0.201484  ...  0.291681  0.602696  0.361807   \nوکغدیر   0.525647  0.349670  0.896484  ... -0.444285 -0.028584 -0.485508   \nبپاس     0.550604  0.688117  0.301857  ...  0.046656 -0.420189 -0.124833   \nتجلی     0.779697  0.753278 -0.144342  ...  0.369901  0.940037  0.943192   \nتوسن     0.160003  0.428522  0.093008  ...  1.000000  0.194562  0.295773   \nساوه     0.704240  0.060439 -0.286602  ...  0.194562  1.000000  0.826649   \nسپیدار   0.334918  0.466319 -0.214873  ...  0.295773  0.826649  1.000000   \nغمایه   -0.377913 -0.459906 -0.530062  ... -0.106254  0.323237  0.498628   \nکگهر     0.700667  0.511254 -0.188820  ...  0.018736 -0.098032 -0.319681   \nگوهران   0.632381  0.908323  0.300375  ... -0.159222 -0.048321  0.039412   \nناما    -0.236638 -0.267134 -0.289649  ...  0.515151  0.310256  0.575582   \nنیان    -0.445942 -0.443157 -0.684031  ...  0.116126  0.202926  0.582226   \nوهامون   0.288922  0.799270  0.164315  ...  0.150007  0.467948  0.479926   \nشاخص_کل  0.977500  0.717444  0.286996  ...  0.184807  0.910339  0.663303   \n\n            غمایه      کگهر    گوهران      ناما      نیان    وهامون   شاخص_کل  \nاردستان -0.713393  0.593684  0.485261 -0.314720 -0.741279  0.068705  0.452676  \nافق     -0.511159  0.094693  0.516063 -0.661942 -0.705444  0.065242 -0.365446  \nبفجر    -0.292491  0.663605  0.876599 -0.090958 -0.507955  0.504672  0.720155  \nبوعلی    0.756963  0.001520 -0.187746  0.612880  0.718897 -0.158946 -0.172108  \nپارس    -0.152475  0.318992  0.504153 -0.684886 -0.656225  0.297234  0.003552  \nتاصیکو   0.257183  0.746395  0.783778  0.053735  0.019647  0.004957  0.652758  \nجم پیلن  0.125833  0.442542 -0.025698  0.061657  0.379624  0.366061  0.916126  \nخراسان  -0.377913  0.700667  0.632381 -0.236638 -0.445942  0.288922  0.977500  \nدارو    -0.459906  0.511254  0.908323 -0.267134 -0.443157  0.799270  0.717444  \nدعبید   -0.530062 -0.188820  0.300375 -0.289649 -0.684031  0.164315  0.286996  \nسآبیک    0.686084 -0.356120 -0.380406  0.560906  0.733966  0.861679  0.899289  \nسپید    -0.592208  0.291581  0.217315 -0.241521 -0.591720  0.477457 -0.245375  \nشاملا    0.802656  0.111856  0.714802  0.447106  0.757144  0.746699  0.365618  \nشپدیس   -0.061216  0.730195  0.614230  0.179666  0.048098 -0.202067  0.924398  \nلوتوس   -0.581471  0.495544  0.928029 -0.357926 -0.725343  0.002932  0.225043  \nنوری     0.737008  0.440355  0.468849  0.527797  0.763849  0.628393  0.807240  \nوکغدیر  -0.543240  0.445747  0.751126 -0.336163 -0.801666  0.470865  0.550087  \nبپاس    -0.699962  0.579738  0.775373 -0.414340 -0.787943  0.190694  0.656832  \nتجلی     0.202304 -0.181618 -0.162089  0.436600  0.109347  0.850585  0.925909  \nتوسن    -0.106254  0.018736 -0.159222  0.515151  0.116126  0.150007  0.184807  \nساوه     0.323237 -0.098032 -0.048321  0.310256  0.202926  0.467948  0.910339  \nسپیدار   0.498628 -0.319681  0.039412  0.575582  0.582226  0.479926  0.663303  \nغمایه    1.000000 -0.675012 -0.452865  0.319972  0.808536  0.591216  0.560168  \nکگهر    -0.675012  1.000000  0.691575 -0.480552 -0.670066 -0.079312  0.740147  \nگوهران  -0.452865  0.691575  1.000000 -0.633626 -0.767375  0.071912  0.731938  \nناما     0.319972 -0.480552 -0.633626  1.000000  0.563054  0.183269  0.304115  \nنیان     0.808536 -0.670066 -0.767375  0.563054  1.000000  0.337387  0.235022  \nوهامون   0.591216 -0.079312  0.071912  0.183269  0.337387  1.000000  0.537026  \nشاخص_کل  0.560168  0.740147  0.731938  0.304115  0.235022  0.537026  1.000000  \n\n[29 rows x 29 columns]",
      "text/html": "<div>\n<style scoped>\n    .dataframe tbody tr th:only-of-type {\n        vertical-align: middle;\n    }\n\n    .dataframe tbody tr th {\n        vertical-align: top;\n    }\n\n    .dataframe thead th {\n        text-align: right;\n    }\n</style>\n<table border=\"1\" class=\"dataframe\">\n  <thead>\n    <tr style=\"text-align: right;\">\n      <th></th>\n      <th>اردستان</th>\n      <th>افق</th>\n      <th>بفجر</th>\n      <th>بوعلی</th>\n      <th>پارس</th>\n      <th>تاصیکو</th>\n      <th>جم پیلن</th>\n      <th>خراسان</th>\n      <th>دارو</th>\n      <th>دعبید</th>\n      <th>...</th>\n      <th>توسن</th>\n      <th>ساوه</th>\n      <th>سپیدار</th>\n      <th>غمایه</th>\n      <th>کگهر</th>\n      <th>گوهران</th>\n      <th>ناما</th>\n      <th>نیان</th>\n      <th>وهامون</th>\n      <th>شاخص_کل</th>\n    </tr>\n  </thead>\n  <tbody>\n    <tr>\n      <th>اردستان</th>\n      <td>1.000000</td>\n      <td>0.616867</td>\n      <td>0.241806</td>\n      <td>0.116283</td>\n      <td>0.379727</td>\n      <td>-0.198999</td>\n      <td>0.518174</td>\n      <td>0.647999</td>\n      <td>0.624325</td>\n      <td>0.468377</td>\n      <td>...</td>\n      <td>0.409850</td>\n      <td>0.426921</td>\n      <td>0.262957</td>\n      <td>-0.713393</td>\n      <td>0.593684</td>\n      <td>0.485261</td>\n      <td>-0.314720</td>\n      <td>-0.741279</td>\n      <td>0.068705</td>\n      <td>0.452676</td>\n    </tr>\n    <tr>\n      <th>افق</th>\n      <td>0.616867</td>\n      <td>1.000000</td>\n      <td>0.356872</td>\n      <td>0.248650</td>\n      <td>0.600744</td>\n      <td>0.090599</td>\n      <td>-0.695165</td>\n      <td>-0.494794</td>\n      <td>0.634780</td>\n      <td>0.830862</td>\n      <td>...</td>\n      <td>0.180629</td>\n      <td>-0.542291</td>\n      <td>-0.206139</td>\n      <td>-0.511159</td>\n      <td>0.094693</td>\n      <td>0.516063</td>\n      <td>-0.661942</td>\n      <td>-0.705444</td>\n      <td>0.065242</td>\n      <td>-0.365446</td>\n    </tr>\n    <tr>\n      <th>بفجر</th>\n      <td>0.241806</td>\n      <td>0.356872</td>\n      <td>1.000000</td>\n      <td>-0.266552</td>\n      <td>0.421312</td>\n      <td>0.789165</td>\n      <td>0.164926</td>\n      <td>0.609723</td>\n      <td>0.801474</td>\n      <td>0.127937</td>\n      <td>...</td>\n      <td>-0.451093</td>\n      <td>0.147223</td>\n      <td>0.277006</td>\n      <td>-0.292491</td>\n      <td>0.663605</td>\n      <td>0.876599</td>\n      <td>-0.090958</td>\n      <td>-0.507955</td>\n      <td>0.504672</td>\n      <td>0.720155</td>\n    </tr>\n    <tr>\n      <th>بوعلی</th>\n      <td>0.116283</td>\n      <td>0.248650</td>\n      <td>-0.266552</td>\n      <td>1.000000</td>\n      <td>0.072625</td>\n      <td>-0.198184</td>\n      <td>0.007267</td>\n      <td>0.047720</td>\n      <td>-0.327356</td>\n      <td>0.465662</td>\n      <td>...</td>\n      <td>0.250678</td>\n      <td>-0.343516</td>\n      <td>-0.454000</td>\n      <td>0.756963</td>\n      <td>0.001520</td>\n      <td>-0.187746</td>\n      <td>0.612880</td>\n      <td>0.718897</td>\n      <td>-0.158946</td>\n      <td>-0.172108</td>\n    </tr>\n    <tr>\n      <th>پارس</th>\n      <td>0.379727</td>\n      <td>0.600744</td>\n      <td>0.421312</td>\n      <td>0.072625</td>\n      <td>1.000000</td>\n      <td>0.261342</td>\n      <td>-0.397380</td>\n      <td>-0.107547</td>\n      <td>0.533085</td>\n      <td>0.185393</td>\n      <td>...</td>\n      <td>0.094274</td>\n      <td>-0.537921</td>\n      <td>-0.329097</td>\n      <td>-0.152475</td>\n      <td>0.318992</td>\n      <td>0.504153</td>\n      <td>-0.684886</td>\n      <td>-0.656225</td>\n      <td>0.297234</td>\n      <td>0.003552</td>\n    </tr>\n    <tr>\n      <th>تاصیکو</th>\n      <td>-0.198999</td>\n      <td>0.090599</td>\n      <td>0.789165</td>\n      <td>-0.198184</td>\n      <td>0.261342</td>\n      <td>1.000000</td>\n      <td>0.411207</td>\n      <td>0.517445</td>\n      <td>0.531730</td>\n      <td>-0.071277</td>\n      <td>...</td>\n      <td>-0.293576</td>\n      <td>0.081321</td>\n      <td>-0.204069</td>\n      <td>0.257183</td>\n      <td>0.746395</td>\n      <td>0.783778</td>\n      <td>0.053735</td>\n      <td>0.019647</td>\n      <td>0.004957</td>\n      <td>0.652758</td>\n    </tr>\n    <tr>\n      <th>جم پیلن</th>\n      <td>0.518174</td>\n      <td>-0.695165</td>\n      <td>0.164926</td>\n      <td>0.007267</td>\n      <td>-0.397380</td>\n      <td>0.411207</td>\n      <td>1.000000</td>\n      <td>0.965260</td>\n      <td>-0.141501</td>\n      <td>-0.686853</td>\n      <td>...</td>\n      <td>0.325525</td>\n      <td>0.748042</td>\n      <td>0.421191</td>\n      <td>0.125833</td>\n      <td>0.442542</td>\n      <td>-0.025698</td>\n      <td>0.061657</td>\n      <td>0.379624</td>\n      <td>0.366061</td>\n      <td>0.916126</td>\n    </tr>\n    <tr>\n      <th>خراسان</th>\n      <td>0.647999</td>\n      <td>-0.494794</td>\n      <td>0.609723</td>\n      <td>0.047720</td>\n      <td>-0.107547</td>\n      <td>0.517445</td>\n      <td>0.965260</td>\n      <td>1.000000</td>\n      <td>0.604951</td>\n      <td>0.097430</td>\n      <td>...</td>\n      <td>0.160003</td>\n      <td>0.704240</td>\n      <td>0.334918</td>\n      <td>-0.377913</td>\n      <td>0.700667</td>\n      <td>0.632381</td>\n      <td>-0.236638</td>\n      <td>-0.445942</td>\n      <td>0.288922</td>\n      <td>0.977500</td>\n    </tr>\n    <tr>\n      <th>دارو</th>\n      <td>0.624325</td>\n      <td>0.634780</td>\n      <td>0.801474</td>\n      <td>-0.327356</td>\n      <td>0.533085</td>\n      <td>0.531730</td>\n      <td>-0.141501</td>\n      <td>0.604951</td>\n      <td>1.000000</td>\n      <td>0.558900</td>\n      <td>...</td>\n      <td>0.428522</td>\n      <td>0.060439</td>\n      <td>0.466319</td>\n      <td>-0.459906</td>\n      <td>0.511254</td>\n      <td>0.908323</td>\n      <td>-0.267134</td>\n      <td>-0.443157</td>\n      <td>0.799270</td>\n      <td>0.717444</td>\n    </tr>\n    <tr>\n      <th>دعبید</th>\n      <td>0.468377</td>\n      <td>0.830862</td>\n      <td>0.127937</td>\n      <td>0.465662</td>\n      <td>0.185393</td>\n      <td>-0.071277</td>\n      <td>-0.686853</td>\n      <td>0.097430</td>\n      <td>0.558900</td>\n      <td>1.000000</td>\n      <td>...</td>\n      <td>0.093008</td>\n      <td>-0.286602</td>\n      <td>-0.214873</td>\n      <td>-0.530062</td>\n      <td>-0.188820</td>\n      <td>0.300375</td>\n      <td>-0.289649</td>\n      <td>-0.684031</td>\n      <td>0.164315</td>\n      <td>0.286996</td>\n    </tr>\n    <tr>\n      <th>سآبیک</th>\n      <td>0.062474</td>\n      <td>-0.376904</td>\n      <td>0.202406</td>\n      <td>-0.305837</td>\n      <td>0.349446</td>\n      <td>-0.256625</td>\n      <td>0.856512</td>\n      <td>0.681712</td>\n      <td>0.865370</td>\n      <td>-0.280669</td>\n      <td>...</td>\n      <td>0.665574</td>\n      <td>0.941435</td>\n      <td>0.953755</td>\n      <td>0.686084</td>\n      <td>-0.356120</td>\n      <td>-0.380406</td>\n      <td>0.560906</td>\n      <td>0.733966</td>\n      <td>0.861679</td>\n      <td>0.899289</td>\n    </tr>\n    <tr>\n      <th>سپید</th>\n      <td>0.871287</td>\n      <td>0.476201</td>\n      <td>0.098125</td>\n      <td>0.137171</td>\n      <td>0.845069</td>\n      <td>-0.056736</td>\n      <td>-0.334528</td>\n      <td>-0.241528</td>\n      <td>0.511119</td>\n      <td>0.180460</td>\n      <td>...</td>\n      <td>-0.012432</td>\n      <td>-0.292186</td>\n      <td>-0.245945</td>\n      <td>-0.592208</td>\n      <td>0.291581</td>\n      <td>0.217315</td>\n      <td>-0.241521</td>\n      <td>-0.591720</td>\n      <td>0.477457</td>\n      <td>-0.245375</td>\n    </tr>\n    <tr>\n      <th>شاملا</th>\n      <td>0.140917</td>\n      <td>0.704961</td>\n      <td>0.620329</td>\n      <td>-0.315509</td>\n      <td>0.527786</td>\n      <td>0.284141</td>\n      <td>-0.480773</td>\n      <td>0.178544</td>\n      <td>0.812464</td>\n      <td>0.659107</td>\n      <td>...</td>\n      <td>-0.036086</td>\n      <td>-0.053051</td>\n      <td>0.356171</td>\n      <td>0.802656</td>\n      <td>0.111856</td>\n      <td>0.714802</td>\n      <td>0.447106</td>\n      <td>0.757144</td>\n      <td>0.746699</td>\n      <td>0.365618</td>\n    </tr>\n    <tr>\n      <th>شپدیس</th>\n      <td>0.431008</td>\n      <td>-0.444303</td>\n      <td>0.608096</td>\n      <td>0.441028</td>\n      <td>0.015030</td>\n      <td>0.529825</td>\n      <td>0.849938</td>\n      <td>0.967537</td>\n      <td>0.547188</td>\n      <td>0.098689</td>\n      <td>...</td>\n      <td>-0.499727</td>\n      <td>0.236752</td>\n      <td>-0.379844</td>\n      <td>-0.061216</td>\n      <td>0.730195</td>\n      <td>0.614230</td>\n      <td>0.179666</td>\n      <td>0.048098</td>\n      <td>-0.202067</td>\n      <td>0.924398</td>\n    </tr>\n    <tr>\n      <th>لوتوس</th>\n      <td>0.012499</td>\n      <td>0.648488</td>\n      <td>0.784999</td>\n      <td>0.027945</td>\n      <td>0.597385</td>\n      <td>0.687642</td>\n      <td>-0.210801</td>\n      <td>0.016922</td>\n      <td>0.821565</td>\n      <td>0.438320</td>\n      <td>...</td>\n      <td>-0.024023</td>\n      <td>-0.233912</td>\n      <td>-0.276253</td>\n      <td>-0.581471</td>\n      <td>0.495544</td>\n      <td>0.928029</td>\n      <td>-0.357926</td>\n      <td>-0.725343</td>\n      <td>0.002932</td>\n      <td>0.225043</td>\n    </tr>\n    <tr>\n      <th>نوری</th>\n      <td>0.170714</td>\n      <td>-0.283202</td>\n      <td>0.558244</td>\n      <td>0.139923</td>\n      <td>-0.049407</td>\n      <td>0.627102</td>\n      <td>0.671240</td>\n      <td>0.699294</td>\n      <td>0.452295</td>\n      <td>-0.201484</td>\n      <td>...</td>\n      <td>0.291681</td>\n      <td>0.602696</td>\n      <td>0.361807</td>\n      <td>0.737008</td>\n      <td>0.440355</td>\n      <td>0.468849</td>\n      <td>0.527797</td>\n      <td>0.763849</td>\n      <td>0.628393</td>\n      <td>0.807240</td>\n    </tr>\n    <tr>\n      <th>وکغدیر</th>\n      <td>0.400729</td>\n      <td>0.283039</td>\n      <td>0.888097</td>\n      <td>-0.257605</td>\n      <td>0.785298</td>\n      <td>0.309692</td>\n      <td>-0.015683</td>\n      <td>0.525647</td>\n      <td>0.349670</td>\n      <td>0.896484</td>\n      <td>...</td>\n      <td>-0.444285</td>\n      <td>-0.028584</td>\n      <td>-0.485508</td>\n      <td>-0.543240</td>\n      <td>0.445747</td>\n      <td>0.751126</td>\n      <td>-0.336163</td>\n      <td>-0.801666</td>\n      <td>0.470865</td>\n      <td>0.550087</td>\n    </tr>\n    <tr>\n      <th>بپاس</th>\n      <td>0.737469</td>\n      <td>0.362045</td>\n      <td>0.706555</td>\n      <td>-0.065760</td>\n      <td>0.709730</td>\n      <td>0.499981</td>\n      <td>-0.086581</td>\n      <td>0.550604</td>\n      <td>0.688117</td>\n      <td>0.301857</td>\n      <td>...</td>\n      <td>0.046656</td>\n      <td>-0.420189</td>\n      <td>-0.124833</td>\n      <td>-0.699962</td>\n      <td>0.579738</td>\n      <td>0.775373</td>\n      <td>-0.414340</td>\n      <td>-0.787943</td>\n      <td>0.190694</td>\n      <td>0.656832</td>\n    </tr>\n    <tr>\n      <th>تجلی</th>\n      <td>0.455543</td>\n      <td>-0.360225</td>\n      <td>0.483619</td>\n      <td>-0.360792</td>\n      <td>-0.265459</td>\n      <td>-0.189358</td>\n      <td>0.865969</td>\n      <td>0.779697</td>\n      <td>0.753278</td>\n      <td>-0.144342</td>\n      <td>...</td>\n      <td>0.369901</td>\n      <td>0.940037</td>\n      <td>0.943192</td>\n      <td>0.202304</td>\n      <td>-0.181618</td>\n      <td>-0.162089</td>\n      <td>0.436600</td>\n      <td>0.109347</td>\n      <td>0.850585</td>\n      <td>0.925909</td>\n    </tr>\n    <tr>\n      <th>توسن</th>\n      <td>0.409850</td>\n      <td>0.180629</td>\n      <td>-0.451093</td>\n      <td>0.250678</td>\n      <td>0.094274</td>\n      <td>-0.293576</td>\n      <td>0.325525</td>\n      <td>0.160003</td>\n      <td>0.428522</td>\n      <td>0.093008</td>\n      <td>...</td>\n      <td>1.000000</td>\n      <td>0.194562</td>\n      <td>0.295773</td>\n      <td>-0.106254</td>\n      <td>0.018736</td>\n      <td>-0.159222</td>\n      <td>0.515151</td>\n      <td>0.116126</td>\n      <td>0.150007</td>\n      <td>0.184807</td>\n    </tr>\n    <tr>\n      <th>ساوه</th>\n      <td>0.426921</td>\n      <td>-0.542291</td>\n      <td>0.147223</td>\n      <td>-0.343516</td>\n      <td>-0.537921</td>\n      <td>0.081321</td>\n      <td>0.748042</td>\n      <td>0.704240</td>\n      <td>0.060439</td>\n      <td>-0.286602</td>\n      <td>...</td>\n      <td>0.194562</td>\n      <td>1.000000</td>\n      <td>0.826649</td>\n      <td>0.323237</td>\n      <td>-0.098032</td>\n      <td>-0.048321</td>\n      <td>0.310256</td>\n      <td>0.202926</td>\n      <td>0.467948</td>\n      <td>0.910339</td>\n    </tr>\n    <tr>\n      <th>سپیدار</th>\n      <td>0.262957</td>\n      <td>-0.206139</td>\n      <td>0.277006</td>\n      <td>-0.454000</td>\n      <td>-0.329097</td>\n      <td>-0.204069</td>\n      <td>0.421191</td>\n      <td>0.334918</td>\n      <td>0.466319</td>\n      <td>-0.214873</td>\n      <td>...</td>\n      <td>0.295773</td>\n      <td>0.826649</td>\n      <td>1.000000</td>\n      <td>0.498628</td>\n      <td>-0.319681</td>\n      <td>0.039412</td>\n      <td>0.575582</td>\n      <td>0.582226</td>\n      <td>0.479926</td>\n      <td>0.663303</td>\n    </tr>\n    <tr>\n      <th>غمایه</th>\n      <td>-0.713393</td>\n      <td>-0.511159</td>\n      <td>-0.292491</td>\n      <td>0.756963</td>\n      <td>-0.152475</td>\n      <td>0.257183</td>\n      <td>0.125833</td>\n      <td>-0.377913</td>\n      <td>-0.459906</td>\n      <td>-0.530062</td>\n      <td>...</td>\n      <td>-0.106254</td>\n      <td>0.323237</td>\n      <td>0.498628</td>\n      <td>1.000000</td>\n      <td>-0.675012</td>\n      <td>-0.452865</td>\n      <td>0.319972</td>\n      <td>0.808536</td>\n      <td>0.591216</td>\n      <td>0.560168</td>\n    </tr>\n    <tr>\n      <th>کگهر</th>\n      <td>0.593684</td>\n      <td>0.094693</td>\n      <td>0.663605</td>\n      <td>0.001520</td>\n      <td>0.318992</td>\n      <td>0.746395</td>\n      <td>0.442542</td>\n      <td>0.700667</td>\n      <td>0.511254</td>\n      <td>-0.188820</td>\n      <td>...</td>\n      <td>0.018736</td>\n      <td>-0.098032</td>\n      <td>-0.319681</td>\n      <td>-0.675012</td>\n      <td>1.000000</td>\n      <td>0.691575</td>\n      <td>-0.480552</td>\n      <td>-0.670066</td>\n      <td>-0.079312</td>\n      <td>0.740147</td>\n    </tr>\n    <tr>\n      <th>گوهران</th>\n      <td>0.485261</td>\n      <td>0.516063</td>\n      <td>0.876599</td>\n      <td>-0.187746</td>\n      <td>0.504153</td>\n      <td>0.783778</td>\n      <td>-0.025698</td>\n      <td>0.632381</td>\n      <td>0.908323</td>\n      <td>0.300375</td>\n      <td>...</td>\n      <td>-0.159222</td>\n      <td>-0.048321</td>\n      <td>0.039412</td>\n      <td>-0.452865</td>\n      <td>0.691575</td>\n      <td>1.000000</td>\n      <td>-0.633626</td>\n      <td>-0.767375</td>\n      <td>0.071912</td>\n      <td>0.731938</td>\n    </tr>\n    <tr>\n      <th>ناما</th>\n      <td>-0.314720</td>\n      <td>-0.661942</td>\n      <td>-0.090958</td>\n      <td>0.612880</td>\n      <td>-0.684886</td>\n      <td>0.053735</td>\n      <td>0.061657</td>\n      <td>-0.236638</td>\n      <td>-0.267134</td>\n      <td>-0.289649</td>\n      <td>...</td>\n      <td>0.515151</td>\n      <td>0.310256</td>\n      <td>0.575582</td>\n      <td>0.319972</td>\n      <td>-0.480552</td>\n      <td>-0.633626</td>\n      <td>1.000000</td>\n      <td>0.563054</td>\n      <td>0.183269</td>\n      <td>0.304115</td>\n    </tr>\n    <tr>\n      <th>نیان</th>\n      <td>-0.741279</td>\n      <td>-0.705444</td>\n      <td>-0.507955</td>\n      <td>0.718897</td>\n      <td>-0.656225</td>\n      <td>0.019647</td>\n      <td>0.379624</td>\n      <td>-0.445942</td>\n      <td>-0.443157</td>\n      <td>-0.684031</td>\n      <td>...</td>\n      <td>0.116126</td>\n      <td>0.202926</td>\n      <td>0.582226</td>\n      <td>0.808536</td>\n      <td>-0.670066</td>\n      <td>-0.767375</td>\n      <td>0.563054</td>\n      <td>1.000000</td>\n      <td>0.337387</td>\n      <td>0.235022</td>\n    </tr>\n    <tr>\n      <th>وهامون</th>\n      <td>0.068705</td>\n      <td>0.065242</td>\n      <td>0.504672</td>\n      <td>-0.158946</td>\n      <td>0.297234</td>\n      <td>0.004957</td>\n      <td>0.366061</td>\n      <td>0.288922</td>\n      <td>0.799270</td>\n      <td>0.164315</td>\n      <td>...</td>\n      <td>0.150007</td>\n      <td>0.467948</td>\n      <td>0.479926</td>\n      <td>0.591216</td>\n      <td>-0.079312</td>\n      <td>0.071912</td>\n      <td>0.183269</td>\n      <td>0.337387</td>\n      <td>1.000000</td>\n      <td>0.537026</td>\n    </tr>\n    <tr>\n      <th>شاخص_کل</th>\n      <td>0.452676</td>\n      <td>-0.365446</td>\n      <td>0.720155</td>\n      <td>-0.172108</td>\n      <td>0.003552</td>\n      <td>0.652758</td>\n      <td>0.916126</td>\n      <td>0.977500</td>\n      <td>0.717444</td>\n      <td>0.286996</td>\n      <td>...</td>\n      <td>0.184807</td>\n      <td>0.910339</td>\n      <td>0.663303</td>\n      <td>0.560168</td>\n      <td>0.740147</td>\n      <td>0.731938</td>\n      <td>0.304115</td>\n      <td>0.235022</td>\n      <td>0.537026</td>\n      <td>1.000000</td>\n    </tr>\n  </tbody>\n</table>\n<p>29 rows × 29 columns</p>\n</div>"
     },
     "execution_count": 31,
     "metadata": {},
     "output_type": "execute_result"
    }
   ],
   "source": [
    "cor_stock.loc[select_, select_]"
   ],
   "metadata": {
    "collapsed": false,
    "pycharm": {
     "name": "#%%\n"
    }
   }
  },
  {
   "cell_type": "code",
   "execution_count": 32,
   "outputs": [],
   "source": [
    "#{'score': [np.sum(cor_stock[i]) for i in cor_stock[select_].columns]}"
   ],
   "metadata": {
    "collapsed": false,
    "pycharm": {
     "name": "#%%\n"
    }
   }
  },
  {
   "cell_type": "code",
   "execution_count": 33,
   "outputs": [],
   "source": [
    "score = pd.DataFrame({'score': [np.sum(np.abs(cor_stock[i])) for i in cor_stock[select_].columns]},\n",
    "                     index=cor_stock[select_].columns)"
   ],
   "metadata": {
    "collapsed": false,
    "pycharm": {
     "name": "#%%\n"
    }
   }
  },
  {
   "cell_type": "code",
   "execution_count": 34,
   "outputs": [
    {
     "data": {
      "text/plain": "              score\nاردستان  202.473552\nافق      286.452717\nبفجر     347.719256\nبوعلی    182.382694\nپارس     258.505147\nتاصیکو   247.132105\nجم پیلن  228.729134\nخراسان   260.849403\nدارو     381.391523\nدعبید    230.910481\nسآبیک    327.014823\nسپید     222.640320\nشاملا    351.456171\nشپدیس    245.623555\nلوتوس    344.960555\nنوری     190.598216\nوکغدیر   307.786928\nبپاس     327.131293\nتجلی     327.162972\nتوسن     115.031680\nساوه     197.819066\nسپیدار   252.043985\nغمایه    231.980293\nکگهر     222.611169\nگوهران   381.778755\nناما     199.736822\nنیان     277.708170\nوهامون   263.205318\nشاخص_کل  290.492576",
      "text/html": "<div>\n<style scoped>\n    .dataframe tbody tr th:only-of-type {\n        vertical-align: middle;\n    }\n\n    .dataframe tbody tr th {\n        vertical-align: top;\n    }\n\n    .dataframe thead th {\n        text-align: right;\n    }\n</style>\n<table border=\"1\" class=\"dataframe\">\n  <thead>\n    <tr style=\"text-align: right;\">\n      <th></th>\n      <th>score</th>\n    </tr>\n  </thead>\n  <tbody>\n    <tr>\n      <th>اردستان</th>\n      <td>202.473552</td>\n    </tr>\n    <tr>\n      <th>افق</th>\n      <td>286.452717</td>\n    </tr>\n    <tr>\n      <th>بفجر</th>\n      <td>347.719256</td>\n    </tr>\n    <tr>\n      <th>بوعلی</th>\n      <td>182.382694</td>\n    </tr>\n    <tr>\n      <th>پارس</th>\n      <td>258.505147</td>\n    </tr>\n    <tr>\n      <th>تاصیکو</th>\n      <td>247.132105</td>\n    </tr>\n    <tr>\n      <th>جم پیلن</th>\n      <td>228.729134</td>\n    </tr>\n    <tr>\n      <th>خراسان</th>\n      <td>260.849403</td>\n    </tr>\n    <tr>\n      <th>دارو</th>\n      <td>381.391523</td>\n    </tr>\n    <tr>\n      <th>دعبید</th>\n      <td>230.910481</td>\n    </tr>\n    <tr>\n      <th>سآبیک</th>\n      <td>327.014823</td>\n    </tr>\n    <tr>\n      <th>سپید</th>\n      <td>222.640320</td>\n    </tr>\n    <tr>\n      <th>شاملا</th>\n      <td>351.456171</td>\n    </tr>\n    <tr>\n      <th>شپدیس</th>\n      <td>245.623555</td>\n    </tr>\n    <tr>\n      <th>لوتوس</th>\n      <td>344.960555</td>\n    </tr>\n    <tr>\n      <th>نوری</th>\n      <td>190.598216</td>\n    </tr>\n    <tr>\n      <th>وکغدیر</th>\n      <td>307.786928</td>\n    </tr>\n    <tr>\n      <th>بپاس</th>\n      <td>327.131293</td>\n    </tr>\n    <tr>\n      <th>تجلی</th>\n      <td>327.162972</td>\n    </tr>\n    <tr>\n      <th>توسن</th>\n      <td>115.031680</td>\n    </tr>\n    <tr>\n      <th>ساوه</th>\n      <td>197.819066</td>\n    </tr>\n    <tr>\n      <th>سپیدار</th>\n      <td>252.043985</td>\n    </tr>\n    <tr>\n      <th>غمایه</th>\n      <td>231.980293</td>\n    </tr>\n    <tr>\n      <th>کگهر</th>\n      <td>222.611169</td>\n    </tr>\n    <tr>\n      <th>گوهران</th>\n      <td>381.778755</td>\n    </tr>\n    <tr>\n      <th>ناما</th>\n      <td>199.736822</td>\n    </tr>\n    <tr>\n      <th>نیان</th>\n      <td>277.708170</td>\n    </tr>\n    <tr>\n      <th>وهامون</th>\n      <td>263.205318</td>\n    </tr>\n    <tr>\n      <th>شاخص_کل</th>\n      <td>290.492576</td>\n    </tr>\n  </tbody>\n</table>\n</div>"
     },
     "execution_count": 34,
     "metadata": {},
     "output_type": "execute_result"
    }
   ],
   "source": [
    "score"
   ],
   "metadata": {
    "collapsed": false,
    "pycharm": {
     "name": "#%%\n"
    }
   }
  },
  {
   "cell_type": "code",
   "execution_count": 32,
   "outputs": [
    {
     "data": {
      "text/plain": "          score\nتوسن  115.03168",
      "text/html": "<div>\n<style scoped>\n    .dataframe tbody tr th:only-of-type {\n        vertical-align: middle;\n    }\n\n    .dataframe tbody tr th {\n        vertical-align: top;\n    }\n\n    .dataframe thead th {\n        text-align: right;\n    }\n</style>\n<table border=\"1\" class=\"dataframe\">\n  <thead>\n    <tr style=\"text-align: right;\">\n      <th></th>\n      <th>score</th>\n    </tr>\n  </thead>\n  <tbody>\n    <tr>\n      <th>توسن</th>\n      <td>115.03168</td>\n    </tr>\n  </tbody>\n</table>\n</div>"
     },
     "execution_count": 32,
     "metadata": {},
     "output_type": "execute_result"
    }
   ],
   "source": [
    "score[(score == score.min()).values]"
   ],
   "metadata": {
    "collapsed": false,
    "pycharm": {
     "name": "#%%\n"
    }
   }
  },
  {
   "cell_type": "code",
   "execution_count": 33,
   "outputs": [],
   "source": [
    "s = score[(score == score.min()).values].index"
   ],
   "metadata": {
    "collapsed": false,
    "pycharm": {
     "name": "#%%\n"
    }
   }
  },
  {
   "cell_type": "code",
   "execution_count": 34,
   "outputs": [
    {
     "data": {
      "text/plain": "Index(['توسن'], dtype='object')"
     },
     "execution_count": 34,
     "metadata": {},
     "output_type": "execute_result"
    }
   ],
   "source": [
    "s"
   ],
   "metadata": {
    "collapsed": false,
    "pycharm": {
     "name": "#%%\n"
    }
   }
  },
  {
   "cell_type": "code",
   "execution_count": 35,
   "outputs": [
    {
     "data": {
      "text/plain": "score    115.03168\nName: توسن, dtype: float64"
     },
     "execution_count": 35,
     "metadata": {},
     "output_type": "execute_result"
    }
   ],
   "source": [
    "score.loc[s[0], :]"
   ],
   "metadata": {
    "collapsed": false,
    "pycharm": {
     "name": "#%%\n"
    }
   }
  },
  {
   "cell_type": "code",
   "execution_count": 36,
   "outputs": [
    {
     "data": {
      "text/plain": "اردستان    0.409850\nافق        0.180629\nبفجر      -0.451093\nبوعلی      0.250678\nپارس       0.094274\nتاصیکو    -0.293576\nجم پیلن    0.325525\nخراسان     0.160003\nدارو       0.428522\nدعبید      0.093008\nسآبیک      0.665574\nسپید      -0.012432\nشاملا     -0.036086\nشپدیس     -0.499727\nلوتوس     -0.024023\nنوری       0.291681\nوکغدیر    -0.444285\nبپاس       0.046656\nتجلی       0.369901\nتوسن       1.000000\nساوه       0.194562\nسپیدار     0.295773\nغمایه     -0.106254\nکگهر       0.018736\nگوهران    -0.159222\nناما       0.515151\nنیان       0.116126\nوهامون     0.150007\nشاخص_کل    0.184807\nName: توسن, dtype: float64"
     },
     "execution_count": 36,
     "metadata": {},
     "output_type": "execute_result"
    }
   ],
   "source": [
    "cor_stock.loc[select_, select_][s[0]]"
   ],
   "metadata": {
    "collapsed": false,
    "pycharm": {
     "name": "#%%\n"
    }
   }
  },
  {
   "cell_type": "code",
   "execution_count": 37,
   "outputs": [],
   "source": [
    "pre_final = cor_stock.loc[select_, select_][s[0]].index[:-1]"
   ],
   "metadata": {
    "collapsed": false,
    "pycharm": {
     "name": "#%%\n"
    }
   }
  },
  {
   "cell_type": "code",
   "execution_count": 38,
   "outputs": [],
   "source": [
    "#describe[pre_final]"
   ],
   "metadata": {
    "collapsed": false,
    "pycharm": {
     "name": "#%%\n"
    }
   }
  },
  {
   "cell_type": "code",
   "execution_count": 39,
   "outputs": [],
   "source": [
    "describe_pre = describe[pre_final]"
   ],
   "metadata": {
    "collapsed": false,
    "pycharm": {
     "name": "#%%\n"
    }
   }
  },
  {
   "cell_type": "code",
   "execution_count": 40,
   "outputs": [
    {
     "data": {
      "text/plain": "            اردستان            افق          بفجر          بوعلی  \\\ncount    239.000000    1041.000000   1678.000000     684.000000   \nmean   23292.510460   51449.587896  15261.555423   60731.871345   \nstd     5501.620729   30233.385790   8583.511094   18907.635338   \nmin    10000.000000   13770.000000   4200.000000   24550.000000   \n25%    17980.000000   23050.000000   7374.750000   45882.500000   \n50%    26140.000000   54000.000000  14661.500000   57755.000000   \n75%    27410.000000   69850.000000  21007.500000   72280.000000   \nmax    30500.000000  182210.000000  45640.000000  103560.000000   \n\n                پارس        تاصیکو        جم پیلن         خراسان  \\\ncount    1223.000000   1066.000000    1035.000000    2352.000000   \nmean    70019.766966   8858.884615  108292.691787   45065.677721   \nstd     69078.873007   3615.017240   51697.044472   50922.687311   \nmin      2055.000000   2200.000000   22500.000000    4810.000000   \n25%      2798.500000   7792.500000   71180.000000    6924.500000   \n50%     41498.000000   8960.000000  112500.000000   11388.000000   \n75%    143520.000000  10660.000000  143970.000000   88132.500000   \nmax    220950.000000  24740.000000  211900.000000  196500.000000   \n\n               دارو         دعبید  ...         تجلی          توسن  \\\ncount   2990.000000   2715.000000  ...   478.000000    554.000000   \nmean   15623.297324  17856.534438  ...  1774.305439  19158.064982   \nstd    13996.830098  12455.710074  ...   437.375418   3793.084854   \nmin     3939.000000   2347.000000  ...  1002.000000   7630.000000   \n25%     6022.500000   7344.000000  ...  1380.500000  15935.000000   \n50%     8741.000000  15070.000000  ...  1585.000000  20150.000000   \n75%    25195.750000  25705.000000  ...  2210.000000  21687.500000   \nmax    78970.000000  72510.000000  ...  2570.000000  27900.000000   \n\n                ساوه        سپیدار         غمایه          کگهر        گوهران  \\\ncount     882.000000    664.000000    143.000000   1114.000000   1709.000000   \nmean    78923.219955  43996.545181  69058.041958  37452.719928   3882.172030   \nstd     38199.748059  26292.983123   7178.421916  15100.989184   2971.454501   \nmin     23500.000000  16302.000000  41500.000000   6800.000000    850.000000   \n25%     51300.000000  21050.000000  65050.000000  21311.750000   1157.000000   \n50%     60073.500000  25700.000000  68950.000000  44322.500000   3820.000000   \n75%    115744.250000  70812.500000  72775.000000  48099.750000   5340.000000   \nmax    159000.000000  97000.000000  84100.000000  71990.000000  16400.000000   \n\n               ناما           نیان       وهامون  \ncount    157.000000     162.000000   586.000000  \nmean   13120.859873  152756.913580  2588.327645  \nstd      846.763480   28400.096629   673.395721  \nmin    10115.000000   75670.000000  1456.000000  \n25%    12630.000000  141200.000000  2011.000000  \n50%    13140.000000  159800.000000  2627.500000  \n75%    13780.000000  170737.500000  2962.500000  \nmax    14600.000000  200200.000000  5089.000000  \n\n[8 rows x 28 columns]",
      "text/html": "<div>\n<style scoped>\n    .dataframe tbody tr th:only-of-type {\n        vertical-align: middle;\n    }\n\n    .dataframe tbody tr th {\n        vertical-align: top;\n    }\n\n    .dataframe thead th {\n        text-align: right;\n    }\n</style>\n<table border=\"1\" class=\"dataframe\">\n  <thead>\n    <tr style=\"text-align: right;\">\n      <th></th>\n      <th>اردستان</th>\n      <th>افق</th>\n      <th>بفجر</th>\n      <th>بوعلی</th>\n      <th>پارس</th>\n      <th>تاصیکو</th>\n      <th>جم پیلن</th>\n      <th>خراسان</th>\n      <th>دارو</th>\n      <th>دعبید</th>\n      <th>...</th>\n      <th>تجلی</th>\n      <th>توسن</th>\n      <th>ساوه</th>\n      <th>سپیدار</th>\n      <th>غمایه</th>\n      <th>کگهر</th>\n      <th>گوهران</th>\n      <th>ناما</th>\n      <th>نیان</th>\n      <th>وهامون</th>\n    </tr>\n  </thead>\n  <tbody>\n    <tr>\n      <th>count</th>\n      <td>239.000000</td>\n      <td>1041.000000</td>\n      <td>1678.000000</td>\n      <td>684.000000</td>\n      <td>1223.000000</td>\n      <td>1066.000000</td>\n      <td>1035.000000</td>\n      <td>2352.000000</td>\n      <td>2990.000000</td>\n      <td>2715.000000</td>\n      <td>...</td>\n      <td>478.000000</td>\n      <td>554.000000</td>\n      <td>882.000000</td>\n      <td>664.000000</td>\n      <td>143.000000</td>\n      <td>1114.000000</td>\n      <td>1709.000000</td>\n      <td>157.000000</td>\n      <td>162.000000</td>\n      <td>586.000000</td>\n    </tr>\n    <tr>\n      <th>mean</th>\n      <td>23292.510460</td>\n      <td>51449.587896</td>\n      <td>15261.555423</td>\n      <td>60731.871345</td>\n      <td>70019.766966</td>\n      <td>8858.884615</td>\n      <td>108292.691787</td>\n      <td>45065.677721</td>\n      <td>15623.297324</td>\n      <td>17856.534438</td>\n      <td>...</td>\n      <td>1774.305439</td>\n      <td>19158.064982</td>\n      <td>78923.219955</td>\n      <td>43996.545181</td>\n      <td>69058.041958</td>\n      <td>37452.719928</td>\n      <td>3882.172030</td>\n      <td>13120.859873</td>\n      <td>152756.913580</td>\n      <td>2588.327645</td>\n    </tr>\n    <tr>\n      <th>std</th>\n      <td>5501.620729</td>\n      <td>30233.385790</td>\n      <td>8583.511094</td>\n      <td>18907.635338</td>\n      <td>69078.873007</td>\n      <td>3615.017240</td>\n      <td>51697.044472</td>\n      <td>50922.687311</td>\n      <td>13996.830098</td>\n      <td>12455.710074</td>\n      <td>...</td>\n      <td>437.375418</td>\n      <td>3793.084854</td>\n      <td>38199.748059</td>\n      <td>26292.983123</td>\n      <td>7178.421916</td>\n      <td>15100.989184</td>\n      <td>2971.454501</td>\n      <td>846.763480</td>\n      <td>28400.096629</td>\n      <td>673.395721</td>\n    </tr>\n    <tr>\n      <th>min</th>\n      <td>10000.000000</td>\n      <td>13770.000000</td>\n      <td>4200.000000</td>\n      <td>24550.000000</td>\n      <td>2055.000000</td>\n      <td>2200.000000</td>\n      <td>22500.000000</td>\n      <td>4810.000000</td>\n      <td>3939.000000</td>\n      <td>2347.000000</td>\n      <td>...</td>\n      <td>1002.000000</td>\n      <td>7630.000000</td>\n      <td>23500.000000</td>\n      <td>16302.000000</td>\n      <td>41500.000000</td>\n      <td>6800.000000</td>\n      <td>850.000000</td>\n      <td>10115.000000</td>\n      <td>75670.000000</td>\n      <td>1456.000000</td>\n    </tr>\n    <tr>\n      <th>25%</th>\n      <td>17980.000000</td>\n      <td>23050.000000</td>\n      <td>7374.750000</td>\n      <td>45882.500000</td>\n      <td>2798.500000</td>\n      <td>7792.500000</td>\n      <td>71180.000000</td>\n      <td>6924.500000</td>\n      <td>6022.500000</td>\n      <td>7344.000000</td>\n      <td>...</td>\n      <td>1380.500000</td>\n      <td>15935.000000</td>\n      <td>51300.000000</td>\n      <td>21050.000000</td>\n      <td>65050.000000</td>\n      <td>21311.750000</td>\n      <td>1157.000000</td>\n      <td>12630.000000</td>\n      <td>141200.000000</td>\n      <td>2011.000000</td>\n    </tr>\n    <tr>\n      <th>50%</th>\n      <td>26140.000000</td>\n      <td>54000.000000</td>\n      <td>14661.500000</td>\n      <td>57755.000000</td>\n      <td>41498.000000</td>\n      <td>8960.000000</td>\n      <td>112500.000000</td>\n      <td>11388.000000</td>\n      <td>8741.000000</td>\n      <td>15070.000000</td>\n      <td>...</td>\n      <td>1585.000000</td>\n      <td>20150.000000</td>\n      <td>60073.500000</td>\n      <td>25700.000000</td>\n      <td>68950.000000</td>\n      <td>44322.500000</td>\n      <td>3820.000000</td>\n      <td>13140.000000</td>\n      <td>159800.000000</td>\n      <td>2627.500000</td>\n    </tr>\n    <tr>\n      <th>75%</th>\n      <td>27410.000000</td>\n      <td>69850.000000</td>\n      <td>21007.500000</td>\n      <td>72280.000000</td>\n      <td>143520.000000</td>\n      <td>10660.000000</td>\n      <td>143970.000000</td>\n      <td>88132.500000</td>\n      <td>25195.750000</td>\n      <td>25705.000000</td>\n      <td>...</td>\n      <td>2210.000000</td>\n      <td>21687.500000</td>\n      <td>115744.250000</td>\n      <td>70812.500000</td>\n      <td>72775.000000</td>\n      <td>48099.750000</td>\n      <td>5340.000000</td>\n      <td>13780.000000</td>\n      <td>170737.500000</td>\n      <td>2962.500000</td>\n    </tr>\n    <tr>\n      <th>max</th>\n      <td>30500.000000</td>\n      <td>182210.000000</td>\n      <td>45640.000000</td>\n      <td>103560.000000</td>\n      <td>220950.000000</td>\n      <td>24740.000000</td>\n      <td>211900.000000</td>\n      <td>196500.000000</td>\n      <td>78970.000000</td>\n      <td>72510.000000</td>\n      <td>...</td>\n      <td>2570.000000</td>\n      <td>27900.000000</td>\n      <td>159000.000000</td>\n      <td>97000.000000</td>\n      <td>84100.000000</td>\n      <td>71990.000000</td>\n      <td>16400.000000</td>\n      <td>14600.000000</td>\n      <td>200200.000000</td>\n      <td>5089.000000</td>\n    </tr>\n  </tbody>\n</table>\n<p>8 rows × 28 columns</p>\n</div>"
     },
     "execution_count": 40,
     "metadata": {},
     "output_type": "execute_result"
    }
   ],
   "source": [
    "describe_pre"
   ],
   "metadata": {
    "collapsed": false,
    "pycharm": {
     "name": "#%%\n"
    }
   }
  },
  {
   "cell_type": "code",
   "execution_count": 41,
   "outputs": [],
   "source": [
    "final = (describe_pre.loc[:, (describe_pre.loc['count', pre_final] > 200).values]).columns"
   ],
   "metadata": {
    "collapsed": false,
    "pycharm": {
     "name": "#%%\n"
    }
   }
  },
  {
   "cell_type": "code",
   "execution_count": 42,
   "outputs": [
    {
     "data": {
      "text/plain": "            اردستان            افق          بفجر          بوعلی  \\\ncount    239.000000    1041.000000   1678.000000     684.000000   \nmean   23292.510460   51449.587896  15261.555423   60731.871345   \nstd     5501.620729   30233.385790   8583.511094   18907.635338   \nmin    10000.000000   13770.000000   4200.000000   24550.000000   \n25%    17980.000000   23050.000000   7374.750000   45882.500000   \n50%    26140.000000   54000.000000  14661.500000   57755.000000   \n75%    27410.000000   69850.000000  21007.500000   72280.000000   \nmax    30500.000000  182210.000000  45640.000000  103560.000000   \n\n                پارس        تاصیکو        جم پیلن         خراسان  \\\ncount    1223.000000   1066.000000    1035.000000    2352.000000   \nmean    70019.766966   8858.884615  108292.691787   45065.677721   \nstd     69078.873007   3615.017240   51697.044472   50922.687311   \nmin      2055.000000   2200.000000   22500.000000    4810.000000   \n25%      2798.500000   7792.500000   71180.000000    6924.500000   \n50%     41498.000000   8960.000000  112500.000000   11388.000000   \n75%    143520.000000  10660.000000  143970.000000   88132.500000   \nmax    220950.000000  24740.000000  211900.000000  196500.000000   \n\n               دارو         دعبید  ...           نوری        وکغدیر  \\\ncount   2990.000000   2715.000000  ...    1005.000000    209.000000   \nmean   15623.297324  17856.534438  ...  103138.781095  18928.564593   \nstd    13996.830098  12455.710074  ...   40219.944496   6286.233421   \nmin     3939.000000   2347.000000  ...   32275.000000  12920.000000   \n25%     6022.500000   7344.000000  ...   69150.000000  13810.000000   \n50%     8741.000000  15070.000000  ...  104000.000000  14700.000000   \n75%    25195.750000  25705.000000  ...  134570.000000  26070.000000   \nmax    78970.000000  72510.000000  ...  208980.000000  32240.000000   \n\n                بپاس         تجلی          توسن           ساوه        سپیدار  \\\ncount    2466.000000   478.000000    554.000000     882.000000    664.000000   \nmean    17185.964315  1774.305439  19158.064982   78923.219955  43996.545181   \nstd     24296.365445   437.375418   3793.084854   38199.748059  26292.983123   \nmin      1761.000000  1002.000000   7630.000000   23500.000000  16302.000000   \n25%      2989.000000  1380.500000  15935.000000   51300.000000  21050.000000   \n50%      4256.500000  1585.000000  20150.000000   60073.500000  25700.000000   \n75%     20800.000000  2210.000000  21687.500000  115744.250000  70812.500000   \nmax    105000.000000  2570.000000  27900.000000  159000.000000  97000.000000   \n\n               کگهر        گوهران       وهامون  \ncount   1114.000000   1709.000000   586.000000  \nmean   37452.719928   3882.172030  2588.327645  \nstd    15100.989184   2971.454501   673.395721  \nmin     6800.000000    850.000000  1456.000000  \n25%    21311.750000   1157.000000  2011.000000  \n50%    44322.500000   3820.000000  2627.500000  \n75%    48099.750000   5340.000000  2962.500000  \nmax    71990.000000  16400.000000  5089.000000  \n\n[8 rows x 25 columns]",
      "text/html": "<div>\n<style scoped>\n    .dataframe tbody tr th:only-of-type {\n        vertical-align: middle;\n    }\n\n    .dataframe tbody tr th {\n        vertical-align: top;\n    }\n\n    .dataframe thead th {\n        text-align: right;\n    }\n</style>\n<table border=\"1\" class=\"dataframe\">\n  <thead>\n    <tr style=\"text-align: right;\">\n      <th></th>\n      <th>اردستان</th>\n      <th>افق</th>\n      <th>بفجر</th>\n      <th>بوعلی</th>\n      <th>پارس</th>\n      <th>تاصیکو</th>\n      <th>جم پیلن</th>\n      <th>خراسان</th>\n      <th>دارو</th>\n      <th>دعبید</th>\n      <th>...</th>\n      <th>نوری</th>\n      <th>وکغدیر</th>\n      <th>بپاس</th>\n      <th>تجلی</th>\n      <th>توسن</th>\n      <th>ساوه</th>\n      <th>سپیدار</th>\n      <th>کگهر</th>\n      <th>گوهران</th>\n      <th>وهامون</th>\n    </tr>\n  </thead>\n  <tbody>\n    <tr>\n      <th>count</th>\n      <td>239.000000</td>\n      <td>1041.000000</td>\n      <td>1678.000000</td>\n      <td>684.000000</td>\n      <td>1223.000000</td>\n      <td>1066.000000</td>\n      <td>1035.000000</td>\n      <td>2352.000000</td>\n      <td>2990.000000</td>\n      <td>2715.000000</td>\n      <td>...</td>\n      <td>1005.000000</td>\n      <td>209.000000</td>\n      <td>2466.000000</td>\n      <td>478.000000</td>\n      <td>554.000000</td>\n      <td>882.000000</td>\n      <td>664.000000</td>\n      <td>1114.000000</td>\n      <td>1709.000000</td>\n      <td>586.000000</td>\n    </tr>\n    <tr>\n      <th>mean</th>\n      <td>23292.510460</td>\n      <td>51449.587896</td>\n      <td>15261.555423</td>\n      <td>60731.871345</td>\n      <td>70019.766966</td>\n      <td>8858.884615</td>\n      <td>108292.691787</td>\n      <td>45065.677721</td>\n      <td>15623.297324</td>\n      <td>17856.534438</td>\n      <td>...</td>\n      <td>103138.781095</td>\n      <td>18928.564593</td>\n      <td>17185.964315</td>\n      <td>1774.305439</td>\n      <td>19158.064982</td>\n      <td>78923.219955</td>\n      <td>43996.545181</td>\n      <td>37452.719928</td>\n      <td>3882.172030</td>\n      <td>2588.327645</td>\n    </tr>\n    <tr>\n      <th>std</th>\n      <td>5501.620729</td>\n      <td>30233.385790</td>\n      <td>8583.511094</td>\n      <td>18907.635338</td>\n      <td>69078.873007</td>\n      <td>3615.017240</td>\n      <td>51697.044472</td>\n      <td>50922.687311</td>\n      <td>13996.830098</td>\n      <td>12455.710074</td>\n      <td>...</td>\n      <td>40219.944496</td>\n      <td>6286.233421</td>\n      <td>24296.365445</td>\n      <td>437.375418</td>\n      <td>3793.084854</td>\n      <td>38199.748059</td>\n      <td>26292.983123</td>\n      <td>15100.989184</td>\n      <td>2971.454501</td>\n      <td>673.395721</td>\n    </tr>\n    <tr>\n      <th>min</th>\n      <td>10000.000000</td>\n      <td>13770.000000</td>\n      <td>4200.000000</td>\n      <td>24550.000000</td>\n      <td>2055.000000</td>\n      <td>2200.000000</td>\n      <td>22500.000000</td>\n      <td>4810.000000</td>\n      <td>3939.000000</td>\n      <td>2347.000000</td>\n      <td>...</td>\n      <td>32275.000000</td>\n      <td>12920.000000</td>\n      <td>1761.000000</td>\n      <td>1002.000000</td>\n      <td>7630.000000</td>\n      <td>23500.000000</td>\n      <td>16302.000000</td>\n      <td>6800.000000</td>\n      <td>850.000000</td>\n      <td>1456.000000</td>\n    </tr>\n    <tr>\n      <th>25%</th>\n      <td>17980.000000</td>\n      <td>23050.000000</td>\n      <td>7374.750000</td>\n      <td>45882.500000</td>\n      <td>2798.500000</td>\n      <td>7792.500000</td>\n      <td>71180.000000</td>\n      <td>6924.500000</td>\n      <td>6022.500000</td>\n      <td>7344.000000</td>\n      <td>...</td>\n      <td>69150.000000</td>\n      <td>13810.000000</td>\n      <td>2989.000000</td>\n      <td>1380.500000</td>\n      <td>15935.000000</td>\n      <td>51300.000000</td>\n      <td>21050.000000</td>\n      <td>21311.750000</td>\n      <td>1157.000000</td>\n      <td>2011.000000</td>\n    </tr>\n    <tr>\n      <th>50%</th>\n      <td>26140.000000</td>\n      <td>54000.000000</td>\n      <td>14661.500000</td>\n      <td>57755.000000</td>\n      <td>41498.000000</td>\n      <td>8960.000000</td>\n      <td>112500.000000</td>\n      <td>11388.000000</td>\n      <td>8741.000000</td>\n      <td>15070.000000</td>\n      <td>...</td>\n      <td>104000.000000</td>\n      <td>14700.000000</td>\n      <td>4256.500000</td>\n      <td>1585.000000</td>\n      <td>20150.000000</td>\n      <td>60073.500000</td>\n      <td>25700.000000</td>\n      <td>44322.500000</td>\n      <td>3820.000000</td>\n      <td>2627.500000</td>\n    </tr>\n    <tr>\n      <th>75%</th>\n      <td>27410.000000</td>\n      <td>69850.000000</td>\n      <td>21007.500000</td>\n      <td>72280.000000</td>\n      <td>143520.000000</td>\n      <td>10660.000000</td>\n      <td>143970.000000</td>\n      <td>88132.500000</td>\n      <td>25195.750000</td>\n      <td>25705.000000</td>\n      <td>...</td>\n      <td>134570.000000</td>\n      <td>26070.000000</td>\n      <td>20800.000000</td>\n      <td>2210.000000</td>\n      <td>21687.500000</td>\n      <td>115744.250000</td>\n      <td>70812.500000</td>\n      <td>48099.750000</td>\n      <td>5340.000000</td>\n      <td>2962.500000</td>\n    </tr>\n    <tr>\n      <th>max</th>\n      <td>30500.000000</td>\n      <td>182210.000000</td>\n      <td>45640.000000</td>\n      <td>103560.000000</td>\n      <td>220950.000000</td>\n      <td>24740.000000</td>\n      <td>211900.000000</td>\n      <td>196500.000000</td>\n      <td>78970.000000</td>\n      <td>72510.000000</td>\n      <td>...</td>\n      <td>208980.000000</td>\n      <td>32240.000000</td>\n      <td>105000.000000</td>\n      <td>2570.000000</td>\n      <td>27900.000000</td>\n      <td>159000.000000</td>\n      <td>97000.000000</td>\n      <td>71990.000000</td>\n      <td>16400.000000</td>\n      <td>5089.000000</td>\n    </tr>\n  </tbody>\n</table>\n<p>8 rows × 25 columns</p>\n</div>"
     },
     "execution_count": 42,
     "metadata": {},
     "output_type": "execute_result"
    }
   ],
   "source": [
    "describe[final]"
   ],
   "metadata": {
    "collapsed": false,
    "pycharm": {
     "name": "#%%\n"
    }
   }
  },
  {
   "cell_type": "code",
   "execution_count": 43,
   "outputs": [],
   "source": [
    "port_str = ''\n",
    "for i in final:\n",
    "    port_str += f'{i},'"
   ],
   "metadata": {
    "collapsed": false,
    "pycharm": {
     "name": "#%%\n"
    }
   }
  },
  {
   "cell_type": "code",
   "execution_count": 44,
   "outputs": [
    {
     "data": {
      "text/plain": "'اردستان,افق,بفجر,بوعلی,پارس,تاصیکو,جم پیلن,خراسان,دارو,دعبید,سآبیک,سپید,شاملا,شپدیس,لوتوس,نوری,وکغدیر,بپاس,تجلی,توسن,ساوه,سپیدار,کگهر,گوهران,وهامون'"
     },
     "execution_count": 44,
     "metadata": {},
     "output_type": "execute_result"
    }
   ],
   "source": [
    "port_str[:-1]"
   ],
   "metadata": {
    "collapsed": false,
    "pycharm": {
     "name": "#%%\n"
    }
   }
  },
  {
   "cell_type": "code",
   "execution_count": 86,
   "outputs": [],
   "source": [
    "with open('F:\\my project\\data\\\\tehran_stock_exchange\\\\portfollio.txt', 'w+', encoding='utf-8') as f:\n",
    "    f.write(port_str[:-1])"
   ],
   "metadata": {
    "collapsed": false,
    "pycharm": {
     "name": "#%%\n"
    }
   }
  },
  {
   "cell_type": "code",
   "execution_count": 13,
   "outputs": [],
   "source": [
    "with open('F:\\my project\\data\\\\tehran_stock_exchange\\\\tse_log.txt', 'r') as f:\n",
    "    ms = f.readlines()[-1]"
   ],
   "metadata": {
    "collapsed": false,
    "pycharm": {
     "name": "#%%\n"
    }
   }
  },
  {
   "cell_type": "code",
   "execution_count": 14,
   "outputs": [
    {
     "data": {
      "text/plain": "'1,(2024, 2, 14),1402-11-25_C:\\\\Users\\\\ADMIN\\\\Desktop\\\\test\\n'"
     },
     "execution_count": 14,
     "metadata": {},
     "output_type": "execute_result"
    }
   ],
   "source": [
    "ms"
   ],
   "metadata": {
    "collapsed": false,
    "pycharm": {
     "name": "#%%\n"
    }
   }
  },
  {
   "cell_type": "code",
   "execution_count": 9,
   "outputs": [
    {
     "data": {
      "text/plain": "     Ticker Ticker.1                            Name   Market  \\\n0   اردستان  اردستان                   سیمان اردستان     بورس   \n1       افق      افق  فروشگاههای زنجیره ای افق کوروش     بورس   \n2      بفجر     بفجر             فجر انرژی خلیج فارس     بورس   \n3     بوعلی    بوعلی             پتروشیمی بوعلی سینا     بورس   \n4      پارس     پارس                   پتروشیمی پارس     بورس   \n5    تاصیکو   تاصیکو           سرمایه گذاری صدرتامین     بورس   \n6   جم پیلن  جم پیلن                پتروشیمی جم پیلن     بورس   \n7    خراسان   خراسان                 پتروشیمی خراسان     بورس   \n8      دارو     دارو               کارخانجات داروپخش     بورس   \n9     دعبید    دعبید    لابراتوارداروسازی  دکترعبیدی     بورس   \n10    سآبیک    سآبیک                      سیمان آبیک     بورس   \n11    شاملا    شاملا             معدنی  املاح  ایران     بورس   \n12    شپدیس    شپدیس                  پتروشیمی پردیس     بورس   \n13    لوتوس    لوتوس      تامین سرمایه لوتوس پارسیان     بورس   \n14     نوری     نوری                   پتروشیمی نوری     بورس   \n15     بپاس     بپاس                   بیمه پاسارگاد  فرابورس   \n16     تجلی     تجلی        تجلی توسعه معادن و فلزات  فرابورس   \n17     توسن     توسن  توسعه سامانه ی نرم افزاری نگین  فرابورس   \n18     ساوه     ساوه                      سیمان ساوه  فرابورس   \n19   سپیدار   سپیدار               سپیدار سیستم آسیا  فرابورس   \n20     کگهر     کگهر                 سنگ آهن گهرزمین  فرابورس   \n21   گوهران   گوهران  سرمایه گذاری توسعه گوهران امید  فرابورس   \n22   وهامون   وهامون          سرمایه گذاری هامون صبا  فرابورس   \n\n                           Panel                                    Sector  \\\n0                 بازار دوم بورس                           سیمان، آهک و گچ   \n1                 بازار دوم بورس    خرده فروشی،باستثنای وسایل نقلیه موتوری   \n2                 بازار دوم بورس                عرضه برق، گاز، بخاروآب گرم   \n3                 بازار دوم بورس                           محصولات شیمیایی   \n4                 بازار دوم بورس                           محصولات شیمیایی   \n5                 بازار دوم بورس                     استخراج کانه های فلزی   \n6                 بازار دوم بورس                           محصولات شیمیایی   \n7                 بازار دوم بورس                           محصولات شیمیایی   \n8                 بازار دوم بورس                     مواد و محصولات دارویی   \n9                 بازار دوم بورس                     مواد و محصولات دارویی   \n10                بازار دوم بورس                           سیمان، آهک و گچ   \n11                بازار دوم بورس                           محصولات شیمیایی   \n12  بازار اول (تابلوی فرعی) بورس                           محصولات شیمیایی   \n13                بازار دوم بورس       فعالیتهای کمکی به نهادهای مالی واسط   \n14                بازار دوم بورس                           محصولات شیمیایی   \n15             بازار دوم فرابورس  بیمه وصندوق بازنشستگی به جزتامین اجتماعی   \n16             بازار دوم فرابورس                     استخراج کانه های فلزی   \n17             بازار اول فرابورس          رایانه و فعالیت های وابسته به آن   \n18             بازار دوم فرابورس                           سیمان، آهک و گچ   \n19             بازار اول فرابورس          رایانه و فعالیت های وابسته به آن   \n20             بازار دوم فرابورس                     استخراج کانه های فلزی   \n21             بازار دوم فرابورس                            سرمایه گذاریها   \n22             بازار اول فرابورس                            سرمایه گذاریها   \n\n                                  Sub-Sector Comment            Name(EN)  \\\n0                      تولید سیمان، آهک و گچ       -     Ardestan Cement   \n1   خرده فروشی انواع موادغذایی،نوشیدنی وغیره       -       Ofogh Koorosh   \n2   تولید،لنتقال و توزیع برق،گاز،بخاروآب گرم       -  Fajr E.Persia Gulf   \n3          تولید مواد شیمیایی پایه به جز کود       -   BoualiSina Petro.   \n4          تولید مواد شیمیایی پایه به جز کود       -  PARS Petrochemical   \n5                 استخراج سایر کانه های فلزی       -     Sadr Tamin Inv.   \n6          تولید مواد شیمیایی پایه به جز کود       -           Jam Pilen   \n7                تولید کود و ترکیبات نیتروژن       -     Khorasan Petro.   \n8              تولید داروهای شیمیایی و گیاهی       -      Daroupakhsh P.   \n9              تولید داروهای شیمیایی و گیاهی       -      Dr. Abidi Lab.   \n10                     تولید سیمان، آهک و گچ       -        Abiak Cement   \n11         تولید مواد شیمیایی پایه به جز کود       -          Iran Amlah   \n12               تولید کود و ترکیبات نیتروژن       -        Pardis Petr.   \n13           بجز تامین وجوه بیمه و بازنشستگی       -    Lotos Investment   \n14         تولید مواد شیمیایی پایه به جز کود       -  NORI Petrochemical   \n15                   فعالیتهای مالی و اجرائی       -   S*Pasargad Insur.   \n16                استخراج سایر کانه های فلزی       -  TajaliMines&Metals   \n17                   مشاوره و تهیه نرم افزار       -               TOSAN   \n18                     تولید سیمان، آهک و گچ       -        Saveh Cement   \n19                   مشاوره و تهیه نرم افزار       -      Sepidar System   \n20                               استخراج آهن       -    Gohar Zamin Iron   \n21                       سایر واسطه های مالی       -        Omid Goharan   \n22                       سایر واسطه های مالی       -    Hamoon Saba Inv.   \n\n   Company Code(12) Ticker(4) Ticker(5)    Ticker(12)  Sector Code  \\\n0      IRO1ARDS0004      ARDS     ARDS1  IRO1ARDS0001           53   \n1      IRO1OFOG0003      OFOG     OFOG1  IRO1OFOG0001           47   \n2      IRO1BFJR0002      BFJR     BFJR1  IRO1BFJR0001           40   \n3      IRO1BONA0004      BONA     BONA1  IRO1BONA0001           44   \n4      IRO1PARS0000      PARS     PARS1  IRO1PARS0001           44   \n5      IRO1SADR0004      SADR     SADR1  IRO1SADR0001           13   \n6      IRO1JPPC0001      JPPC     JPPC1  IRO1JPPC0001           44   \n7      IRO1KRSN0000      KRSN     KRSN1  IRO1KRSN0001           44   \n8      IRO1DPAK0004      DPAK     DPAK1  IRO1DPAK0001           43   \n9      IRO1ABDI0004      ABDI     ABDI1  IRO1ABDI0001           43   \n10     IRO1ABIK0005      ABIK     ABIK1  IRO1ABIK0001           53   \n11     IRO1AMLH0002      AMLH     AMLH1  IRO1AMLH0001           44   \n12     IRO1PRDZ0008      PRDZ     PRDZ1  IRO1PRDZ0001           44   \n13     IRO1LTOS0006      LTOS     LTOS1  IRO1LTOS0001           67   \n14     IRO1NORI0008      NORI     NORI1  IRO1NORI0001           44   \n15     IRO3BIPZ0009      BIPZ     BIPZ1  IRO3BIPZ0001           66   \n16     IRO3TMMZ0006      TMMZ     TMMZ1  IRO3TMMZ0001           13   \n17     IRO3TOSZ0008      TOSZ     TOSZ1  IRO3TOSZ0001           72   \n18     IRO3SACZ0003      SACZ     SACZ1  IRO3SACZ0001           53   \n19     IRO3SSYZ0007      SSYZ     SSYZ1  IRO3SSYZ0001           72   \n20     IRO3GZIZ0002      GZIZ     GZIZ1  IRO3GZIZ0001           13   \n21     IRO3GOMZ0009      GOMZ     GOMZ1  IRO3GOMZ0001           56   \n22     IRO3HAIZ0000      HAIZ     HAIZ1  IRO3HAIZ0001           56   \n\n    Sub-Sector Code  Panel Code  \n0              5394           5  \n1              4711           5  \n2              4011           5  \n3              4411           5  \n4              4411           5  \n5              1399           5  \n6              4411           5  \n7              4412           5  \n8              4323           5  \n9              4323           5  \n10             5394           5  \n11             4411           5  \n12             4412           3  \n13             6719           5  \n14             4411           5  \n15             6611           3  \n16             1399           3  \n17             7220           1  \n18             5394           3  \n19             7220           1  \n20             1310           3  \n21             5699           3  \n22             5699           1  ",
      "text/html": "<div>\n<style scoped>\n    .dataframe tbody tr th:only-of-type {\n        vertical-align: middle;\n    }\n\n    .dataframe tbody tr th {\n        vertical-align: top;\n    }\n\n    .dataframe thead th {\n        text-align: right;\n    }\n</style>\n<table border=\"1\" class=\"dataframe\">\n  <thead>\n    <tr style=\"text-align: right;\">\n      <th></th>\n      <th>Ticker</th>\n      <th>Ticker.1</th>\n      <th>Name</th>\n      <th>Market</th>\n      <th>Panel</th>\n      <th>Sector</th>\n      <th>Sub-Sector</th>\n      <th>Comment</th>\n      <th>Name(EN)</th>\n      <th>Company Code(12)</th>\n      <th>Ticker(4)</th>\n      <th>Ticker(5)</th>\n      <th>Ticker(12)</th>\n      <th>Sector Code</th>\n      <th>Sub-Sector Code</th>\n      <th>Panel Code</th>\n    </tr>\n  </thead>\n  <tbody>\n    <tr>\n      <th>0</th>\n      <td>اردستان</td>\n      <td>اردستان</td>\n      <td>سیمان اردستان</td>\n      <td>بورس</td>\n      <td>بازار دوم بورس</td>\n      <td>سیمان، آهک و گچ</td>\n      <td>تولید سیمان، آهک و گچ</td>\n      <td>-</td>\n      <td>Ardestan Cement</td>\n      <td>IRO1ARDS0004</td>\n      <td>ARDS</td>\n      <td>ARDS1</td>\n      <td>IRO1ARDS0001</td>\n      <td>53</td>\n      <td>5394</td>\n      <td>5</td>\n    </tr>\n    <tr>\n      <th>1</th>\n      <td>افق</td>\n      <td>افق</td>\n      <td>فروشگاههای زنجیره ای افق کوروش</td>\n      <td>بورس</td>\n      <td>بازار دوم بورس</td>\n      <td>خرده فروشی،باستثنای وسایل نقلیه موتوری</td>\n      <td>خرده فروشی انواع موادغذایی،نوشیدنی وغیره</td>\n      <td>-</td>\n      <td>Ofogh Koorosh</td>\n      <td>IRO1OFOG0003</td>\n      <td>OFOG</td>\n      <td>OFOG1</td>\n      <td>IRO1OFOG0001</td>\n      <td>47</td>\n      <td>4711</td>\n      <td>5</td>\n    </tr>\n    <tr>\n      <th>2</th>\n      <td>بفجر</td>\n      <td>بفجر</td>\n      <td>فجر انرژی خلیج فارس</td>\n      <td>بورس</td>\n      <td>بازار دوم بورس</td>\n      <td>عرضه برق، گاز، بخاروآب گرم</td>\n      <td>تولید،لنتقال و توزیع برق،گاز،بخاروآب گرم</td>\n      <td>-</td>\n      <td>Fajr E.Persia Gulf</td>\n      <td>IRO1BFJR0002</td>\n      <td>BFJR</td>\n      <td>BFJR1</td>\n      <td>IRO1BFJR0001</td>\n      <td>40</td>\n      <td>4011</td>\n      <td>5</td>\n    </tr>\n    <tr>\n      <th>3</th>\n      <td>بوعلی</td>\n      <td>بوعلی</td>\n      <td>پتروشیمی بوعلی سینا</td>\n      <td>بورس</td>\n      <td>بازار دوم بورس</td>\n      <td>محصولات شیمیایی</td>\n      <td>تولید مواد شیمیایی پایه به جز کود</td>\n      <td>-</td>\n      <td>BoualiSina Petro.</td>\n      <td>IRO1BONA0004</td>\n      <td>BONA</td>\n      <td>BONA1</td>\n      <td>IRO1BONA0001</td>\n      <td>44</td>\n      <td>4411</td>\n      <td>5</td>\n    </tr>\n    <tr>\n      <th>4</th>\n      <td>پارس</td>\n      <td>پارس</td>\n      <td>پتروشیمی پارس</td>\n      <td>بورس</td>\n      <td>بازار دوم بورس</td>\n      <td>محصولات شیمیایی</td>\n      <td>تولید مواد شیمیایی پایه به جز کود</td>\n      <td>-</td>\n      <td>PARS Petrochemical</td>\n      <td>IRO1PARS0000</td>\n      <td>PARS</td>\n      <td>PARS1</td>\n      <td>IRO1PARS0001</td>\n      <td>44</td>\n      <td>4411</td>\n      <td>5</td>\n    </tr>\n    <tr>\n      <th>5</th>\n      <td>تاصیکو</td>\n      <td>تاصیکو</td>\n      <td>سرمایه گذاری صدرتامین</td>\n      <td>بورس</td>\n      <td>بازار دوم بورس</td>\n      <td>استخراج کانه های فلزی</td>\n      <td>استخراج سایر کانه های فلزی</td>\n      <td>-</td>\n      <td>Sadr Tamin Inv.</td>\n      <td>IRO1SADR0004</td>\n      <td>SADR</td>\n      <td>SADR1</td>\n      <td>IRO1SADR0001</td>\n      <td>13</td>\n      <td>1399</td>\n      <td>5</td>\n    </tr>\n    <tr>\n      <th>6</th>\n      <td>جم پیلن</td>\n      <td>جم پیلن</td>\n      <td>پتروشیمی جم پیلن</td>\n      <td>بورس</td>\n      <td>بازار دوم بورس</td>\n      <td>محصولات شیمیایی</td>\n      <td>تولید مواد شیمیایی پایه به جز کود</td>\n      <td>-</td>\n      <td>Jam Pilen</td>\n      <td>IRO1JPPC0001</td>\n      <td>JPPC</td>\n      <td>JPPC1</td>\n      <td>IRO1JPPC0001</td>\n      <td>44</td>\n      <td>4411</td>\n      <td>5</td>\n    </tr>\n    <tr>\n      <th>7</th>\n      <td>خراسان</td>\n      <td>خراسان</td>\n      <td>پتروشیمی خراسان</td>\n      <td>بورس</td>\n      <td>بازار دوم بورس</td>\n      <td>محصولات شیمیایی</td>\n      <td>تولید کود و ترکیبات نیتروژن</td>\n      <td>-</td>\n      <td>Khorasan Petro.</td>\n      <td>IRO1KRSN0000</td>\n      <td>KRSN</td>\n      <td>KRSN1</td>\n      <td>IRO1KRSN0001</td>\n      <td>44</td>\n      <td>4412</td>\n      <td>5</td>\n    </tr>\n    <tr>\n      <th>8</th>\n      <td>دارو</td>\n      <td>دارو</td>\n      <td>کارخانجات داروپخش</td>\n      <td>بورس</td>\n      <td>بازار دوم بورس</td>\n      <td>مواد و محصولات دارویی</td>\n      <td>تولید داروهای شیمیایی و گیاهی</td>\n      <td>-</td>\n      <td>Daroupakhsh P.</td>\n      <td>IRO1DPAK0004</td>\n      <td>DPAK</td>\n      <td>DPAK1</td>\n      <td>IRO1DPAK0001</td>\n      <td>43</td>\n      <td>4323</td>\n      <td>5</td>\n    </tr>\n    <tr>\n      <th>9</th>\n      <td>دعبید</td>\n      <td>دعبید</td>\n      <td>لابراتوارداروسازی  دکترعبیدی</td>\n      <td>بورس</td>\n      <td>بازار دوم بورس</td>\n      <td>مواد و محصولات دارویی</td>\n      <td>تولید داروهای شیمیایی و گیاهی</td>\n      <td>-</td>\n      <td>Dr. Abidi Lab.</td>\n      <td>IRO1ABDI0004</td>\n      <td>ABDI</td>\n      <td>ABDI1</td>\n      <td>IRO1ABDI0001</td>\n      <td>43</td>\n      <td>4323</td>\n      <td>5</td>\n    </tr>\n    <tr>\n      <th>10</th>\n      <td>سآبیک</td>\n      <td>سآبیک</td>\n      <td>سیمان آبیک</td>\n      <td>بورس</td>\n      <td>بازار دوم بورس</td>\n      <td>سیمان، آهک و گچ</td>\n      <td>تولید سیمان، آهک و گچ</td>\n      <td>-</td>\n      <td>Abiak Cement</td>\n      <td>IRO1ABIK0005</td>\n      <td>ABIK</td>\n      <td>ABIK1</td>\n      <td>IRO1ABIK0001</td>\n      <td>53</td>\n      <td>5394</td>\n      <td>5</td>\n    </tr>\n    <tr>\n      <th>11</th>\n      <td>شاملا</td>\n      <td>شاملا</td>\n      <td>معدنی  املاح  ایران</td>\n      <td>بورس</td>\n      <td>بازار دوم بورس</td>\n      <td>محصولات شیمیایی</td>\n      <td>تولید مواد شیمیایی پایه به جز کود</td>\n      <td>-</td>\n      <td>Iran Amlah</td>\n      <td>IRO1AMLH0002</td>\n      <td>AMLH</td>\n      <td>AMLH1</td>\n      <td>IRO1AMLH0001</td>\n      <td>44</td>\n      <td>4411</td>\n      <td>5</td>\n    </tr>\n    <tr>\n      <th>12</th>\n      <td>شپدیس</td>\n      <td>شپدیس</td>\n      <td>پتروشیمی پردیس</td>\n      <td>بورس</td>\n      <td>بازار اول (تابلوی فرعی) بورس</td>\n      <td>محصولات شیمیایی</td>\n      <td>تولید کود و ترکیبات نیتروژن</td>\n      <td>-</td>\n      <td>Pardis Petr.</td>\n      <td>IRO1PRDZ0008</td>\n      <td>PRDZ</td>\n      <td>PRDZ1</td>\n      <td>IRO1PRDZ0001</td>\n      <td>44</td>\n      <td>4412</td>\n      <td>3</td>\n    </tr>\n    <tr>\n      <th>13</th>\n      <td>لوتوس</td>\n      <td>لوتوس</td>\n      <td>تامین سرمایه لوتوس پارسیان</td>\n      <td>بورس</td>\n      <td>بازار دوم بورس</td>\n      <td>فعالیتهای کمکی به نهادهای مالی واسط</td>\n      <td>بجز تامین وجوه بیمه و بازنشستگی</td>\n      <td>-</td>\n      <td>Lotos Investment</td>\n      <td>IRO1LTOS0006</td>\n      <td>LTOS</td>\n      <td>LTOS1</td>\n      <td>IRO1LTOS0001</td>\n      <td>67</td>\n      <td>6719</td>\n      <td>5</td>\n    </tr>\n    <tr>\n      <th>14</th>\n      <td>نوری</td>\n      <td>نوری</td>\n      <td>پتروشیمی نوری</td>\n      <td>بورس</td>\n      <td>بازار دوم بورس</td>\n      <td>محصولات شیمیایی</td>\n      <td>تولید مواد شیمیایی پایه به جز کود</td>\n      <td>-</td>\n      <td>NORI Petrochemical</td>\n      <td>IRO1NORI0008</td>\n      <td>NORI</td>\n      <td>NORI1</td>\n      <td>IRO1NORI0001</td>\n      <td>44</td>\n      <td>4411</td>\n      <td>5</td>\n    </tr>\n    <tr>\n      <th>15</th>\n      <td>بپاس</td>\n      <td>بپاس</td>\n      <td>بیمه پاسارگاد</td>\n      <td>فرابورس</td>\n      <td>بازار دوم فرابورس</td>\n      <td>بیمه وصندوق بازنشستگی به جزتامین اجتماعی</td>\n      <td>فعالیتهای مالی و اجرائی</td>\n      <td>-</td>\n      <td>S*Pasargad Insur.</td>\n      <td>IRO3BIPZ0009</td>\n      <td>BIPZ</td>\n      <td>BIPZ1</td>\n      <td>IRO3BIPZ0001</td>\n      <td>66</td>\n      <td>6611</td>\n      <td>3</td>\n    </tr>\n    <tr>\n      <th>16</th>\n      <td>تجلی</td>\n      <td>تجلی</td>\n      <td>تجلی توسعه معادن و فلزات</td>\n      <td>فرابورس</td>\n      <td>بازار دوم فرابورس</td>\n      <td>استخراج کانه های فلزی</td>\n      <td>استخراج سایر کانه های فلزی</td>\n      <td>-</td>\n      <td>TajaliMines&amp;Metals</td>\n      <td>IRO3TMMZ0006</td>\n      <td>TMMZ</td>\n      <td>TMMZ1</td>\n      <td>IRO3TMMZ0001</td>\n      <td>13</td>\n      <td>1399</td>\n      <td>3</td>\n    </tr>\n    <tr>\n      <th>17</th>\n      <td>توسن</td>\n      <td>توسن</td>\n      <td>توسعه سامانه ی نرم افزاری نگین</td>\n      <td>فرابورس</td>\n      <td>بازار اول فرابورس</td>\n      <td>رایانه و فعالیت های وابسته به آن</td>\n      <td>مشاوره و تهیه نرم افزار</td>\n      <td>-</td>\n      <td>TOSAN</td>\n      <td>IRO3TOSZ0008</td>\n      <td>TOSZ</td>\n      <td>TOSZ1</td>\n      <td>IRO3TOSZ0001</td>\n      <td>72</td>\n      <td>7220</td>\n      <td>1</td>\n    </tr>\n    <tr>\n      <th>18</th>\n      <td>ساوه</td>\n      <td>ساوه</td>\n      <td>سیمان ساوه</td>\n      <td>فرابورس</td>\n      <td>بازار دوم فرابورس</td>\n      <td>سیمان، آهک و گچ</td>\n      <td>تولید سیمان، آهک و گچ</td>\n      <td>-</td>\n      <td>Saveh Cement</td>\n      <td>IRO3SACZ0003</td>\n      <td>SACZ</td>\n      <td>SACZ1</td>\n      <td>IRO3SACZ0001</td>\n      <td>53</td>\n      <td>5394</td>\n      <td>3</td>\n    </tr>\n    <tr>\n      <th>19</th>\n      <td>سپیدار</td>\n      <td>سپیدار</td>\n      <td>سپیدار سیستم آسیا</td>\n      <td>فرابورس</td>\n      <td>بازار اول فرابورس</td>\n      <td>رایانه و فعالیت های وابسته به آن</td>\n      <td>مشاوره و تهیه نرم افزار</td>\n      <td>-</td>\n      <td>Sepidar System</td>\n      <td>IRO3SSYZ0007</td>\n      <td>SSYZ</td>\n      <td>SSYZ1</td>\n      <td>IRO3SSYZ0001</td>\n      <td>72</td>\n      <td>7220</td>\n      <td>1</td>\n    </tr>\n    <tr>\n      <th>20</th>\n      <td>کگهر</td>\n      <td>کگهر</td>\n      <td>سنگ آهن گهرزمین</td>\n      <td>فرابورس</td>\n      <td>بازار دوم فرابورس</td>\n      <td>استخراج کانه های فلزی</td>\n      <td>استخراج آهن</td>\n      <td>-</td>\n      <td>Gohar Zamin Iron</td>\n      <td>IRO3GZIZ0002</td>\n      <td>GZIZ</td>\n      <td>GZIZ1</td>\n      <td>IRO3GZIZ0001</td>\n      <td>13</td>\n      <td>1310</td>\n      <td>3</td>\n    </tr>\n    <tr>\n      <th>21</th>\n      <td>گوهران</td>\n      <td>گوهران</td>\n      <td>سرمایه گذاری توسعه گوهران امید</td>\n      <td>فرابورس</td>\n      <td>بازار دوم فرابورس</td>\n      <td>سرمایه گذاریها</td>\n      <td>سایر واسطه های مالی</td>\n      <td>-</td>\n      <td>Omid Goharan</td>\n      <td>IRO3GOMZ0009</td>\n      <td>GOMZ</td>\n      <td>GOMZ1</td>\n      <td>IRO3GOMZ0001</td>\n      <td>56</td>\n      <td>5699</td>\n      <td>3</td>\n    </tr>\n    <tr>\n      <th>22</th>\n      <td>وهامون</td>\n      <td>وهامون</td>\n      <td>سرمایه گذاری هامون صبا</td>\n      <td>فرابورس</td>\n      <td>بازار اول فرابورس</td>\n      <td>سرمایه گذاریها</td>\n      <td>سایر واسطه های مالی</td>\n      <td>-</td>\n      <td>Hamoon Saba Inv.</td>\n      <td>IRO3HAIZ0000</td>\n      <td>HAIZ</td>\n      <td>HAIZ1</td>\n      <td>IRO3HAIZ0001</td>\n      <td>56</td>\n      <td>5699</td>\n      <td>1</td>\n    </tr>\n  </tbody>\n</table>\n</div>"
     },
     "execution_count": 9,
     "metadata": {},
     "output_type": "execute_result"
    }
   ],
   "source": [
    "pd.read_excel('F:\\my project\\data\\\\tehran_stock_exchange\\\\enter_symbols.xlsx')"
   ],
   "metadata": {
    "collapsed": false,
    "pycharm": {
     "name": "#%%\n"
    }
   }
  },
  {
   "cell_type": "code",
   "execution_count": 17,
   "outputs": [
    {
     "data": {
      "text/plain": "['all_close_data.xlsx',\n 'build',\n 'close_data.xlsx',\n 'dist',\n 'enter_symbols.xlsx',\n 'major_symbols.xlsx',\n 'portfollio.txt',\n 'symbols.xlsx',\n 'tse_errors.txt',\n 'tse_get_data.py',\n 'tse_get_data.spec',\n 'tse_log.txt']"
     },
     "execution_count": 17,
     "metadata": {},
     "output_type": "execute_result"
    }
   ],
   "source": [
    "os.listdir('F:\\my project\\data\\\\tehran_stock_exchange')"
   ],
   "metadata": {
    "collapsed": false,
    "pycharm": {
     "name": "#%%\n"
    }
   }
  },
  {
   "cell_type": "code",
   "execution_count": 20,
   "outputs": [],
   "source": [
    "a = 0\n",
    "if 'select_symbols.xlsx' not in os.listdir() or 'enter_symbols.xlsx' not in os.listdir(\n",
    "        'F:\\my project\\data\\\\tehran_stock_exchange'):\n",
    "    a += 1\n",
    "\n",
    "elif 'select_symbols.xlsx' in os.listdir('F:\\my project\\data\\\\tehran_stock_exchange'):\n",
    "    a += 1\n",
    "elif 'enter_symbols.xlsx' in os.listdir('F:\\my project\\data\\\\tehran_stock_exchange'):\n",
    "    a += 1\n"
   ],
   "metadata": {
    "collapsed": false,
    "pycharm": {
     "name": "#%%\n"
    }
   }
  },
  {
   "cell_type": "code",
   "execution_count": 21,
   "outputs": [
    {
     "name": "stdout",
     "output_type": "stream",
     "text": [
      "1\n"
     ]
    }
   ],
   "source": [
    "print(a)"
   ],
   "metadata": {
    "collapsed": false,
    "pycharm": {
     "name": "#%%\n"
    }
   }
  },
  {
   "cell_type": "code",
   "execution_count": 35,
   "outputs": [
    {
     "data": {
      "text/plain": "array([1.26404494, 1.04888889, 1.04872881, 1.02222222, 0.96640316,\n       1.05112474, 1.0311284 , 1.01132075, 1.04104478, 1.03942652,\n       1.01034483, 0.99488055, 0.96054889, 0.97321429, 0.97981651,\n       0.99250936, 1.06226415, 1.0071048 , 0.96472663, 1.00914077,\n       1.01630435, 0.98930481, 0.97297297, 1.00740741, 0.99264706,\n       0.98518519, 1.02506189, 1.02862254, 1.04521739, 0.96672213,\n       1.00172117, 0.96735395, 1.01065719, 1.        , 1.01230228,\n       0.95833333, 1.01992754, 1.        , 1.        , 1.01953819,\n       0.99651568, 1.        , 1.        , 1.05594406, 1.03311258,\n       0.98878205, 1.03241491, 0.96860283, 1.00324149, 0.99192246,\n       1.05700326, 1.02157165, 1.02564103, 1.04411765, 0.9971831 ,\n       1.01129944, 1.02234637, 0.95150274, 0.95833333, 0.97391304,\n       1.01607143, 0.99297012, 1.        , 0.98761062, 1.09139785,\n       0.95238095, 0.98103448, 0.9771529 , 0.98741007, 1.00546448,\n       1.02536232, 0.97526502, 0.97826087, 0.95555556, 1.02325581,\n       1.00378788, 0.99245283, 1.01330798, 0.99812383, 0.97932331,\n       0.98848369, 0.97087379, 0.988     , 0.94736842, 1.01709402,\n       1.00630252, 0.97077244, 0.98494624, 1.02183406, 1.01923077,\n       0.98113208, 0.97008547, 0.96035242, 1.02981651, 1.01336303,\n       0.97582418, 0.97747748, 1.00691244, 1.0187169 , 0.97402597,\n       1.01777778, 1.01746725, 0.972103  , 0.98675497, 0.99552573,\n       0.98556029, 1.01877934, 1.00691244, 1.00686499, 1.02045455,\n       1.04231626, 0.98504274, 0.98698482, 0.98681319, 0.98218263,\n       1.01360544, 1.02908277, 0.9826087 , 0.99557522, 0.97777778,\n       0.96590909, 0.99529412, 1.01654846, 0.96046512, 0.97820823,\n       1.02722772, 0.9686747 , 0.98258706, 0.94886076, 1.03842049,\n       1.00770812, 0.96073432, 1.03715499, 1.00153531, 0.98007154,\n       1.01407716, 0.99948586, 0.99485597, 0.98397104, 0.98633736,\n       1.01971231, 0.99582027, 0.99370409, 0.99524815, 1.01909814,\n       0.98958876, 0.98737507, 0.98295152, 0.98644986, 1.01373626,\n       1.03468835, 1.02671556, 1.0494898 , 1.0476422 , 1.00928074,\n       1.08045977, 0.94680851, 1.05393258, 1.02985075, 0.98671171,\n       1.01077586, 0.95095949, 1.01569507, 0.99779249, 1.01769912,\n       1.01521739, 1.00642398, 1.01276596, 1.05042017, 0.98      ,\n       0.98367347, 1.01452282, 0.98364008, 1.02494802, 0.97363083,\n       0.98333333, 1.0190678 , 1.01247401, 1.01848049, 1.05645161,\n       1.01526718, 1.        , 1.02443609, 0.97981651, 1.01866562,\n       1.00869565, 1.03275862, 0.93155259, 0.98207885, 1.04927007,\n       0.99130435, 1.00175439, 1.02101576, 1.00343053, 1.01025641,\n       0.98646362, 0.97598628, 1.01757469, 1.0328152 , 1.06187291,\n       1.00944882, 1.07800312, 1.05065123, 0.94490358, 0.94606414,\n       1.01694915, 0.96666667, 0.96551724, 1.02597403, 1.00949367,\n       0.97805643, 0.95833333, 1.01672241, 1.01973684, 0.9983871 ,\n       1.02423263, 1.00630915, 0.98275862, 0.97288676, 1.0557377 ,\n       1.04813665, 0.99851852, 1.01335312, 1.04245974, 1.06179775,\n       0.97751323, 1.0067659 , 0.9905914 , 0.95929444, 0.98302687,\n       0.96402878, 1.00895522, 0.9260355 , 0.97923323, 1.04404568,\n       1.0625    , 0.99259232, 1.03308271, 0.98107715, 1.07418398,\n       1.0179558 , 1.01221167, 0.98927614, 1.00542005, 1.08760108,\n       1.01610905, 1.00731707, 0.95520581, 1.04055767, 1.01339829,\n       1.01322115, 0.99169632, 0.99641148, 1.00840336, 1.01547619,\n       1.06330598, 1.06835722, 1.02167183, 1.03232323, 0.99804305,\n       0.92647059, 0.93650794, 1.06892655, 0.92811839, 0.96697039,\n       1.06007067, 0.99555556, 1.00558036, 0.97669256, 1.00227273,\n       1.02834467, 1.00330761, 0.98241758, 0.95637584, 0.98245614,\n       1.00119048, 0.97740785, 0.99756691, 1.00609756, 0.98909091,\n       0.9375    , 0.99346405, 0.94342105, 1.0474198 , 0.99733688,\n       1.01468625, 1.01315789, 1.02337662, 0.98984772, 1.00128205,\n       0.97823303, 1.03534031, 1.01517067, 1.0373599 , 0.97478992,\n       1.0270936 , 1.03597122, 0.96759259, 0.98205742, 0.97442144,\n       0.9625    , 1.01168831, 0.97175866, 1.        , 1.04359313,\n       0.97721519, 0.98316062, 1.00790514, 1.01699346, 0.98586118,\n       0.98565841, 1.03306878, 1.04737516, 1.00855746, 0.98060606,\n       1.00247219, 0.99876695, 0.99506173, 0.95905707, 1.0232859 ,\n       1.00884956, 0.9962406 , 0.99748428, 0.98360656, 1.        ,\n       1.01282051, 0.98227848, 1.01804124, 1.03164557, 1.        ,\n       1.00245399, 0.99020808, 1.01112485, 1.01222494, 1.01570048,\n       1.00356718, 1.0035545 , 0.9905549 , 1.00238379, 1.01070155,\n       1.00470588, 1.02107728, 0.99197248, 0.98959538, 1.        ,\n       0.98014019, 0.98927294, 0.98795181, 0.98780488, 1.00987654,\n       1.00122249, 1.002442  , 1.00121803, 1.00486618, 1.00484262,\n       1.03614458, 1.00930233, 0.98271889, 0.99531067, 1.01295642,\n       0.98255814, 1.        , 1.0035503 , 1.00943396, 1.01518692,\n       0.99309551, 0.99884125, 0.98607889, 1.02352941, 1.05172414,\n       0.97486339, 1.01345291, 1.01659292, 1.01523395, 0.97106109,\n       1.00883002, 1.00218818, 1.0349345 , 0.98312236, 0.97746781,\n       0.98792536, 1.01      , 0.98459846, 1.        , 0.98212291,\n       0.98407281, 1.00809249, 0.99885321, 1.00574053, 0.98744292,\n       0.97687861, 1.0035503 , 1.00235849, 1.01529412, 1.0405562 ,\n       1.        , 1.03563474, 0.98924731, 0.99456522, 0.99016393,\n       0.99668874, 1.00996678, 0.99890351, 1.00329308, 1.00984683,\n       1.03466956, 0.98010471, 0.99358974, 1.00215054, 0.99785408,\n       0.99569892, 0.99784017, 1.00757576, 1.01396348, 0.98622881,\n       0.98281418, 0.99562842, 1.        , 1.00878156, 1.00217628,\n       1.00542888, 1.0161987 , 1.02019129, 1.00833333, 1.00929752,\n       0.96724667, 1.02222222, 0.98343685, 0.97578947, 1.01402373,\n       0.99787234, 1.00852878, 1.01479915, 0.996875  , 0.99791014,\n       1.00104712, 1.01778243, 0.995889  , 1.00928793, 0.98773006,\n       0.99792961, 1.00311203, 1.02895553, 1.00703518])"
     },
     "execution_count": 35,
     "metadata": {},
     "output_type": "execute_result"
    }
   ],
   "source": [
    "return_data['فزر']"
   ],
   "metadata": {
    "collapsed": false,
    "pycharm": {
     "name": "#%%\n"
    }
   }
  },
  {
   "cell_type": "code",
   "execution_count": 37,
   "outputs": [],
   "source": [
    "a = pd.value_counts(return_data['فزر'])"
   ],
   "metadata": {
    "collapsed": false,
    "pycharm": {
     "name": "#%%\n"
    }
   }
  },
  {
   "cell_type": "code",
   "execution_count": 38,
   "outputs": [
    {
     "data": {
      "text/plain": "1.000000    15\n0.958333     3\n1.003550     2\n1.022222     2\n1.006912     2\n            ..\n0.986450     1\n0.982952     1\n0.987375     1\n0.989589     1\n1.007035     1\nLength: 424, dtype: int64"
     },
     "execution_count": 38,
     "metadata": {},
     "output_type": "execute_result"
    }
   ],
   "source": [
    "a"
   ],
   "metadata": {
    "collapsed": false,
    "pycharm": {
     "name": "#%%\n"
    }
   }
  },
  {
   "cell_type": "code",
   "execution_count": 58,
   "outputs": [],
   "source": [
    "#sb.barplot(a)"
   ],
   "metadata": {
    "collapsed": false,
    "pycharm": {
     "name": "#%%\n"
    }
   }
  },
  {
   "cell_type": "code",
   "execution_count": 43,
   "outputs": [
    {
     "data": {
      "text/plain": "{'whiskers': [<matplotlib.lines.Line2D at 0x2026e5a8310>,\n  <matplotlib.lines.Line2D at 0x2026e5f4070>],\n 'caps': [<matplotlib.lines.Line2D at 0x2026e5f4310>,\n  <matplotlib.lines.Line2D at 0x2026e5f45b0>],\n 'boxes': [<matplotlib.lines.Line2D at 0x2026e5a8100>],\n 'medians': [<matplotlib.lines.Line2D at 0x2026e5f4850>],\n 'fliers': [<matplotlib.lines.Line2D at 0x2026e5f4af0>],\n 'means': []}"
     },
     "execution_count": 43,
     "metadata": {},
     "output_type": "execute_result"
    },
    {
     "data": {
      "text/plain": "<Figure size 640x480 with 1 Axes>",
      "image/png": "[encoded data removed]"
     },
     "metadata": {},
     "output_type": "display_data"
    }
   ],
   "source": [
    "plt.boxplot(return_data['فزر'])"
   ],
   "metadata": {
    "collapsed": false,
    "pycharm": {
     "name": "#%%\n"
    }
   }
  },
  {
   "cell_type": "code",
   "execution_count": 44,
   "outputs": [
    {
     "data": {
      "text/plain": "1.6847217319777177"
     },
     "execution_count": 44,
     "metadata": {},
     "output_type": "execute_result"
    }
   ],
   "source": [
    "skew(return_data['فزر'])"
   ],
   "metadata": {
    "collapsed": false,
    "pycharm": {
     "name": "#%%\n"
    }
   }
  },
  {
   "cell_type": "code",
   "execution_count": 45,
   "outputs": [
    {
     "data": {
      "text/plain": "13.462612999193713"
     },
     "execution_count": 45,
     "metadata": {},
     "output_type": "execute_result"
    }
   ],
   "source": [
    "kurtosis(return_data['فزر'])"
   ],
   "metadata": {
    "collapsed": false,
    "pycharm": {
     "name": "#%%\n"
    }
   }
  },
  {
   "cell_type": "code",
   "execution_count": 46,
   "outputs": [
    {
     "data": {
      "text/plain": "array([0.9534501 , 1.00801381, 1.0092955 , ..., 0.99609257, 0.9992404 ,\n       0.9943726 ])"
     },
     "execution_count": 46,
     "metadata": {},
     "output_type": "execute_result"
    }
   ],
   "source": [
    "return_data['شاخص_کل']"
   ],
   "metadata": {
    "collapsed": false,
    "pycharm": {
     "name": "#%%\n"
    }
   }
  },
  {
   "cell_type": "code",
   "execution_count": 47,
   "outputs": [
    {
     "data": {
      "text/plain": "0.6241704119609248"
     },
     "execution_count": 47,
     "metadata": {},
     "output_type": "execute_result"
    }
   ],
   "source": [
    "skew(return_data['شاخص_کل'])"
   ],
   "metadata": {
    "collapsed": false,
    "pycharm": {
     "name": "#%%\n"
    }
   }
  },
  {
   "cell_type": "code",
   "execution_count": 48,
   "outputs": [
    {
     "data": {
      "text/plain": "6.018290874146153"
     },
     "execution_count": 48,
     "metadata": {},
     "output_type": "execute_result"
    }
   ],
   "source": [
    "kurtosis(return_data['شاخص_کل'])"
   ],
   "metadata": {
    "collapsed": false,
    "pycharm": {
     "name": "#%%\n"
    }
   }
  },
  {
   "cell_type": "code",
   "execution_count": 64,
   "outputs": [
    {
     "data": {
      "text/plain": "<Axes: >"
     },
     "execution_count": 64,
     "metadata": {},
     "output_type": "execute_result"
    },
    {
     "data": {
      "text/plain": "<Figure size 640x480 with 1 Axes>",
      "image/png": "[encoded data removed]"
     },
     "metadata": {},
     "output_type": "display_data"
    }
   ],
   "source": [
    "#sb.barplot(return_data['شاخص_کل'])"
   ],
   "metadata": {
    "collapsed": false,
    "pycharm": {
     "name": "#%%\n"
    }
   }
  },
  {
   "cell_type": "code",
   "execution_count": 69,
   "outputs": [],
   "source": [
    "a = pd.value_counts(return_data['شاخص_کل'])\n",
    "a"
   ],
   "metadata": {
    "collapsed": false,
    "pycharm": {
     "name": "#%%\n"
    }
   }
  },
  {
   "cell_type": "code",
   "execution_count": 68,
   "outputs": [],
   "source": [
    "sb.barplot(pd.value_counts(return_data['شاخص_کل']))"
   ],
   "metadata": {
    "collapsed": false,
    "pycharm": {
     "name": "#%%\n"
    }
   }
  },
  {
   "cell_type": "code",
   "execution_count": 67,
   "outputs": [
    {
     "data": {
      "text/plain": "<Figure size 640x480 with 1 Axes>",
      "image/png": "[encoded data removed]"
     },
     "metadata": {},
     "output_type": "display_data"
    }
   ],
   "source": [
    "a = plt.hist(return_data['شاخص_کل'], bins=25)\n",
    "#plt.plot([1]*50,a[0])\n",
    "plt.plot([np.mean(return_data['شاخص_کل'])] * 25, a[0])\n",
    "plt.show()"
   ],
   "metadata": {
    "collapsed": false,
    "pycharm": {
     "name": "#%%\n"
    }
   }
  },
  {
   "cell_type": "code",
   "execution_count": 53,
   "outputs": [
    {
     "data": {
      "text/plain": "array([  1.,   0.,   0.,   0.,   2.,   3.,   4.,   2.,   0.,  14.,  17.,\n        10.,  28.,  19.,  40.,  44.,  70., 172., 255., 505., 759., 339.,\n       206., 139., 107.,  79.,  55.,  37.,  27.,  30.,  12.,  13.,  11.,\n         5.,   4.,   0.,   3.,   0.,   0.,   0.,   1.,   1.,   1.,   2.,\n         0.,   0.,   0.,   0.,   0.,   1.])"
     },
     "execution_count": 53,
     "metadata": {},
     "output_type": "execute_result"
    }
   ],
   "source": [
    "a[0]"
   ],
   "metadata": {
    "collapsed": false,
    "pycharm": {
     "name": "#%%\n"
    }
   }
  },
  {
   "cell_type": "code",
   "execution_count": 61,
   "outputs": [
    {
     "data": {
      "text/plain": "array([1.26404494, 1.04888889, 1.04872881, 1.02222222, 0.96640316,\n       1.05112474, 1.0311284 , 1.01132075, 1.04104478, 1.03942652,\n       1.01034483, 0.99488055, 0.96054889, 0.97321429, 0.97981651,\n       0.99250936, 1.06226415, 1.0071048 , 0.96472663, 1.00914077,\n       1.01630435, 0.98930481, 0.97297297, 1.00740741, 0.99264706,\n       0.98518519, 1.02506189, 1.02862254, 1.04521739, 0.96672213,\n       1.00172117, 0.96735395, 1.01065719, 1.        , 1.01230228,\n       0.95833333, 1.01992754, 1.        , 1.        , 1.01953819,\n       0.99651568, 1.        , 1.        , 1.05594406, 1.03311258,\n       0.98878205, 1.03241491, 0.96860283, 1.00324149, 0.99192246,\n       1.05700326, 1.02157165, 1.02564103, 1.04411765, 0.9971831 ,\n       1.01129944, 1.02234637, 0.95150274, 0.95833333, 0.97391304,\n       1.01607143, 0.99297012, 1.        , 0.98761062, 1.09139785,\n       0.95238095, 0.98103448, 0.9771529 , 0.98741007, 1.00546448,\n       1.02536232, 0.97526502, 0.97826087, 0.95555556, 1.02325581,\n       1.00378788, 0.99245283, 1.01330798, 0.99812383, 0.97932331,\n       0.98848369, 0.97087379, 0.988     , 0.94736842, 1.01709402,\n       1.00630252, 0.97077244, 0.98494624, 1.02183406, 1.01923077,\n       0.98113208, 0.97008547, 0.96035242, 1.02981651, 1.01336303,\n       0.97582418, 0.97747748, 1.00691244, 1.0187169 , 0.97402597,\n       1.01777778, 1.01746725, 0.972103  , 0.98675497, 0.99552573,\n       0.98556029, 1.01877934, 1.00691244, 1.00686499, 1.02045455,\n       1.04231626, 0.98504274, 0.98698482, 0.98681319, 0.98218263,\n       1.01360544, 1.02908277, 0.9826087 , 0.99557522, 0.97777778,\n       0.96590909, 0.99529412, 1.01654846, 0.96046512, 0.97820823,\n       1.02722772, 0.9686747 , 0.98258706, 0.94886076, 1.03842049,\n       1.00770812, 0.96073432, 1.03715499, 1.00153531, 0.98007154,\n       1.01407716, 0.99948586, 0.99485597, 0.98397104, 0.98633736,\n       1.01971231, 0.99582027, 0.99370409, 0.99524815, 1.01909814,\n       0.98958876, 0.98737507, 0.98295152, 0.98644986, 1.01373626,\n       1.03468835, 1.02671556, 1.0494898 , 1.0476422 , 1.00928074,\n       1.08045977, 0.94680851, 1.05393258, 1.02985075, 0.98671171,\n       1.01077586, 0.95095949, 1.01569507, 0.99779249, 1.01769912,\n       1.01521739, 1.00642398, 1.01276596, 1.05042017, 0.98      ,\n       0.98367347, 1.01452282, 0.98364008, 1.02494802, 0.97363083,\n       0.98333333, 1.0190678 , 1.01247401, 1.01848049, 1.05645161,\n       1.01526718, 1.        , 1.02443609, 0.97981651, 1.01866562,\n       1.00869565, 1.03275862, 0.93155259, 0.98207885, 1.04927007,\n       0.99130435, 1.00175439, 1.02101576, 1.00343053, 1.01025641,\n       0.98646362, 0.97598628, 1.01757469, 1.0328152 , 1.06187291,\n       1.00944882, 1.07800312, 1.05065123, 0.94490358, 0.94606414,\n       1.01694915, 0.96666667, 0.96551724, 1.02597403, 1.00949367,\n       0.97805643, 0.95833333, 1.01672241, 1.01973684, 0.9983871 ,\n       1.02423263, 1.00630915, 0.98275862, 0.97288676, 1.0557377 ,\n       1.04813665, 0.99851852, 1.01335312, 1.04245974, 1.06179775,\n       0.97751323, 1.0067659 , 0.9905914 , 0.95929444, 0.98302687,\n       0.96402878, 1.00895522, 0.9260355 , 0.97923323, 1.04404568,\n       1.0625    , 0.99259232, 1.03308271, 0.98107715, 1.07418398,\n       1.0179558 , 1.01221167, 0.98927614, 1.00542005, 1.08760108,\n       1.01610905, 1.00731707, 0.95520581, 1.04055767, 1.01339829,\n       1.01322115, 0.99169632, 0.99641148, 1.00840336, 1.01547619,\n       1.06330598, 1.06835722, 1.02167183, 1.03232323, 0.99804305,\n       0.92647059, 0.93650794, 1.06892655, 0.92811839, 0.96697039,\n       1.06007067, 0.99555556, 1.00558036, 0.97669256, 1.00227273,\n       1.02834467, 1.00330761, 0.98241758, 0.95637584, 0.98245614,\n       1.00119048, 0.97740785, 0.99756691, 1.00609756, 0.98909091,\n       0.9375    , 0.99346405, 0.94342105, 1.0474198 , 0.99733688,\n       1.01468625, 1.01315789, 1.02337662, 0.98984772, 1.00128205,\n       0.97823303, 1.03534031, 1.01517067, 1.0373599 , 0.97478992,\n       1.0270936 , 1.03597122, 0.96759259, 0.98205742, 0.97442144,\n       0.9625    , 1.01168831, 0.97175866, 1.        , 1.04359313,\n       0.97721519, 0.98316062, 1.00790514, 1.01699346, 0.98586118,\n       0.98565841, 1.03306878, 1.04737516, 1.00855746, 0.98060606,\n       1.00247219, 0.99876695, 0.99506173, 0.95905707, 1.0232859 ,\n       1.00884956, 0.9962406 , 0.99748428, 0.98360656, 1.        ,\n       1.01282051, 0.98227848, 1.01804124, 1.03164557, 1.        ,\n       1.00245399, 0.99020808, 1.01112485, 1.01222494, 1.01570048,\n       1.00356718, 1.0035545 , 0.9905549 , 1.00238379, 1.01070155,\n       1.00470588, 1.02107728, 0.99197248, 0.98959538, 1.        ,\n       0.98014019, 0.98927294, 0.98795181, 0.98780488, 1.00987654,\n       1.00122249, 1.002442  , 1.00121803, 1.00486618, 1.00484262,\n       1.03614458, 1.00930233, 0.98271889, 0.99531067, 1.01295642,\n       0.98255814, 1.        , 1.0035503 , 1.00943396, 1.01518692,\n       0.99309551, 0.99884125, 0.98607889, 1.02352941, 1.05172414,\n       0.97486339, 1.01345291, 1.01659292, 1.01523395, 0.97106109,\n       1.00883002, 1.00218818, 1.0349345 , 0.98312236, 0.97746781,\n       0.98792536, 1.01      , 0.98459846, 1.        , 0.98212291,\n       0.98407281, 1.00809249, 0.99885321, 1.00574053, 0.98744292,\n       0.97687861, 1.0035503 , 1.00235849, 1.01529412, 1.0405562 ,\n       1.        , 1.03563474, 0.98924731, 0.99456522, 0.99016393,\n       0.99668874, 1.00996678, 0.99890351, 1.00329308, 1.00984683,\n       1.03466956, 0.98010471, 0.99358974, 1.00215054, 0.99785408,\n       0.99569892, 0.99784017, 1.00757576, 1.01396348, 0.98622881,\n       0.98281418, 0.99562842, 1.        , 1.00878156, 1.00217628,\n       1.00542888, 1.0161987 , 1.02019129, 1.00833333, 1.00929752,\n       0.96724667, 1.02222222, 0.98343685, 0.97578947, 1.01402373,\n       0.99787234, 1.00852878, 1.01479915, 0.996875  , 0.99791014,\n       1.00104712, 1.01778243, 0.995889  , 1.00928793, 0.98773006,\n       0.99792961, 1.00311203, 1.02895553, 1.00703518])"
     },
     "execution_count": 61,
     "metadata": {},
     "output_type": "execute_result"
    }
   ],
   "source": [
    "return_data['فزر']"
   ],
   "metadata": {
    "collapsed": false,
    "pycharm": {
     "name": "#%%\n"
    }
   }
  },
  {
   "cell_type": "code",
   "execution_count": 62,
   "outputs": [
    {
     "data": {
      "text/plain": "<Figure size 640x480 with 1 Axes>",
      "image/png": "[encoded data removed]"
     },
     "metadata": {},
     "output_type": "display_data"
    }
   ],
   "source": [
    "b = plt.hist(return_data['فزر'][1:], bins=50)\n",
    "plt.plot([np.mean(return_data['فزر'])] * 50, b[0])\n",
    "plt.show()"
   ],
   "metadata": {
    "collapsed": false,
    "pycharm": {
     "name": "#%%\n"
    }
   }
  },
  {
   "cell_type": "code",
   "execution_count": 63,
   "outputs": [
    {
     "data": {
      "text/plain": "0.2100276061755898"
     },
     "execution_count": 63,
     "metadata": {},
     "output_type": "execute_result"
    }
   ],
   "source": [
    "skew(return_data['فزر'][1:])"
   ],
   "metadata": {
    "collapsed": false,
    "pycharm": {
     "name": "#%%\n"
    }
   }
  },
  {
   "cell_type": "code",
   "execution_count": 64,
   "outputs": [
    {
     "data": {
      "text/plain": "0.6389165971769435"
     },
     "execution_count": 64,
     "metadata": {},
     "output_type": "execute_result"
    }
   ],
   "source": [
    "kurtosis(return_data['فزر'][1:])"
   ],
   "metadata": {
    "collapsed": false,
    "pycharm": {
     "name": "#%%\n"
    }
   }
  },
  {
   "cell_type": "code",
   "execution_count": 65,
   "outputs": [
    {
     "data": {
      "text/plain": "0.6241704119609248"
     },
     "execution_count": 65,
     "metadata": {},
     "output_type": "execute_result"
    }
   ],
   "source": [
    "skew(return_data['شاخص_کل'])"
   ],
   "metadata": {
    "collapsed": false,
    "pycharm": {
     "name": "#%%\n"
    }
   }
  },
  {
   "cell_type": "code",
   "execution_count": 66,
   "outputs": [
    {
     "data": {
      "text/plain": "6.018290874146153"
     },
     "execution_count": 66,
     "metadata": {},
     "output_type": "execute_result"
    }
   ],
   "source": [
    "kurtosis(return_data['شاخص_کل'])"
   ],
   "metadata": {
    "collapsed": false,
    "pycharm": {
     "name": "#%%\n"
    }
   }
  },
  {
   "cell_type": "code",
   "execution_count": 68,
   "outputs": [
    {
     "data": {
      "text/plain": "             mean       var\nآباد     1.000953  0.000998\nآبادا    0.999515  0.000895\nآپ       1.000679  0.000816\nآسیا     1.001355  0.000916\nاپال     1.000220  0.000309\n...           ...       ...\nحتوکا    1.000846  0.000931\nتاپیکو   1.001293  0.000540\nتکمبا    1.001048  0.000887\nخبهمن    1.001194  0.000751\nشاخص_کل  1.001825  0.000155\n\n[575 rows x 2 columns]",
      "text/html": "<div>\n<style scoped>\n    .dataframe tbody tr th:only-of-type {\n        vertical-align: middle;\n    }\n\n    .dataframe tbody tr th {\n        vertical-align: top;\n    }\n\n    .dataframe thead th {\n        text-align: right;\n    }\n</style>\n<table border=\"1\" class=\"dataframe\">\n  <thead>\n    <tr style=\"text-align: right;\">\n      <th></th>\n      <th>mean</th>\n      <th>var</th>\n    </tr>\n  </thead>\n  <tbody>\n    <tr>\n      <th>آباد</th>\n      <td>1.000953</td>\n      <td>0.000998</td>\n    </tr>\n    <tr>\n      <th>آبادا</th>\n      <td>0.999515</td>\n      <td>0.000895</td>\n    </tr>\n    <tr>\n      <th>آپ</th>\n      <td>1.000679</td>\n      <td>0.000816</td>\n    </tr>\n    <tr>\n      <th>آسیا</th>\n      <td>1.001355</td>\n      <td>0.000916</td>\n    </tr>\n    <tr>\n      <th>اپال</th>\n      <td>1.000220</td>\n      <td>0.000309</td>\n    </tr>\n    <tr>\n      <th>...</th>\n      <td>...</td>\n      <td>...</td>\n    </tr>\n    <tr>\n      <th>حتوکا</th>\n      <td>1.000846</td>\n      <td>0.000931</td>\n    </tr>\n    <tr>\n      <th>تاپیکو</th>\n      <td>1.001293</td>\n      <td>0.000540</td>\n    </tr>\n    <tr>\n      <th>تکمبا</th>\n      <td>1.001048</td>\n      <td>0.000887</td>\n    </tr>\n    <tr>\n      <th>خبهمن</th>\n      <td>1.001194</td>\n      <td>0.000751</td>\n    </tr>\n    <tr>\n      <th>شاخص_کل</th>\n      <td>1.001825</td>\n      <td>0.000155</td>\n    </tr>\n  </tbody>\n</table>\n<p>575 rows × 2 columns</p>\n</div>"
     },
     "execution_count": 68,
     "metadata": {},
     "output_type": "execute_result"
    }
   ],
   "source": [
    "risk_return"
   ],
   "metadata": {
    "collapsed": false,
    "pycharm": {
     "name": "#%%\n"
    }
   }
  },
  {
   "cell_type": "code",
   "execution_count": 71,
   "outputs": [
    {
     "data": {
      "text/plain": "            mean       var\nکرومیت  1.030573  0.005559",
      "text/html": "<div>\n<style scoped>\n    .dataframe tbody tr th:only-of-type {\n        vertical-align: middle;\n    }\n\n    .dataframe tbody tr th {\n        vertical-align: top;\n    }\n\n    .dataframe thead th {\n        text-align: right;\n    }\n</style>\n<table border=\"1\" class=\"dataframe\">\n  <thead>\n    <tr style=\"text-align: right;\">\n      <th></th>\n      <th>mean</th>\n      <th>var</th>\n    </tr>\n  </thead>\n  <tbody>\n    <tr>\n      <th>کرومیت</th>\n      <td>1.030573</td>\n      <td>0.005559</td>\n    </tr>\n  </tbody>\n</table>\n</div>"
     },
     "execution_count": 71,
     "metadata": {},
     "output_type": "execute_result"
    }
   ],
   "source": [
    "risk_return[risk_return['var'] == np.max(risk_return['var'])]"
   ],
   "metadata": {
    "collapsed": false,
    "pycharm": {
     "name": "#%%\n"
    }
   }
  },
  {
   "cell_type": "code",
   "execution_count": 72,
   "outputs": [
    {
     "data": {
      "text/plain": "<Figure size 640x480 with 1 Axes>",
      "image/png": "[encoded data removed]"
     },
     "metadata": {},
     "output_type": "display_data"
    }
   ],
   "source": [
    "a = plt.hist(return_data['کرومیت'], bins=20)"
   ],
   "metadata": {
    "collapsed": false,
    "pycharm": {
     "name": "#%%\n"
    }
   }
  },
  {
   "cell_type": "code",
   "execution_count": 35,
   "outputs": [],
   "source": [
    "selected = cor_stock.loc[select_, select_]"
   ],
   "metadata": {
    "collapsed": false,
    "pycharm": {
     "name": "#%%\n"
    }
   }
  },
  {
   "cell_type": "code",
   "execution_count": 36,
   "outputs": [
    {
     "data": {
      "text/plain": "         اردستان    افق   بفجر  بوعلی   پارس  تاصیکو  جم پیلن  خراسان   دارو  \\\nاردستان    False  False  False   True  False    True    False   False  False   \nافق        False  False  False  False  False    True    False   False  False   \nبفجر       False  False  False  False  False   False     True   False  False   \nبوعلی       True  False  False  False   True    True     True    True  False   \nپارس       False  False  False   True  False   False    False    True  False   \nتاصیکو      True   True  False   True  False   False    False   False  False   \nجم پیلن    False  False   True   True  False   False    False   False   True   \nخراسان     False  False  False   True   True   False    False   False  False   \nدارو       False  False  False  False  False   False     True   False  False   \nدعبید      False  False   True  False   True    True    False    True  False   \nسآبیک       True  False  False  False  False   False    False   False  False   \nسپید       False  False   True   True  False    True    False   False  False   \nشاملا       True  False  False  False  False   False    False    True  False   \nشپدیس      False  False  False  False   True   False    False   False  False   \nلوتوس       True  False  False   True  False   False    False    True  False   \nنوری        True  False  False   True   True   False    False   False  False   \nوکغدیر     False  False  False  False  False   False     True   False  False   \nبپاس       False  False  False   True  False   False     True   False  False   \nتجلی       False  False  False  False  False    True    False   False  False   \nتوسن       False   True  False  False   True   False    False    True  False   \nساوه       False  False   True  False  False    True    False   False   True   \nسپیدار     False  False  False  False  False   False    False   False  False   \nغمایه      False  False  False  False   True   False     True   False  False   \nکگهر       False   True  False   True  False   False    False   False  False   \nگوهران     False  False  False   True  False   False     True   False  False   \nناما       False  False   True  False  False    True     True   False  False   \nنیان       False  False  False  False  False    True    False   False  False   \nوهامون      True   True  False   True  False    True    False   False  False   \nشاخص_کل    False  False  False   True   True   False    False   False  False   \n\n         دعبید  ...   توسن   ساوه  سپیدار  غمایه   کگهر  گوهران   ناما   نیان  \\\nاردستان  False  ...  False  False   False  False  False   False  False  False   \nافق      False  ...   True  False   False  False   True   False  False  False   \nبفجر      True  ...  False   True   False  False  False   False   True  False   \nبوعلی    False  ...  False  False   False  False   True    True  False  False   \nپارس      True  ...   True  False   False   True  False   False  False  False   \nتاصیکو    True  ...  False   True   False  False  False   False   True   True   \nجم پیلن  False  ...  False  False   False   True  False    True   True  False   \nخراسان    True  ...   True  False   False  False  False   False  False  False   \nدارو     False  ...  False   True   False  False  False   False  False  False   \nدعبید    False  ...   True  False   False  False   True   False  False  False   \nسآبیک    False  ...  False  False   False  False  False   False  False  False   \nسپید      True  ...   True  False   False  False  False   False  False  False   \nشاملا    False  ...   True   True   False  False   True   False  False  False   \nشپدیس     True  ...  False  False   False   True  False   False   True   True   \nلوتوس    False  ...   True  False   False  False  False   False  False  False   \nنوری     False  ...  False  False   False  False  False   False  False  False   \nوکغدیر   False  ...  False   True   False  False  False   False  False  False   \nبپاس     False  ...   True  False    True  False  False   False  False  False   \nتجلی      True  ...  False  False   False  False   True    True  False   True   \nتوسن      True  ...  False   True   False   True   True    True  False   True   \nساوه     False  ...   True  False   False  False   True    True  False  False   \nسپیدار   False  ...  False  False   False  False  False    True  False  False   \nغمایه    False  ...   True  False   False  False  False   False  False  False   \nکگهر      True  ...   True   True   False  False  False   False  False  False   \nگوهران   False  ...   True   True    True  False  False   False  False  False   \nناما     False  ...  False  False   False  False  False   False  False  False   \nنیان     False  ...   True  False   False  False  False   False  False  False   \nوهامون    True  ...   True  False   False  False   True    True   True  False   \nشاخص_کل  False  ...   True  False   False  False  False   False  False  False   \n\n         وهامون  شاخص_کل  \nاردستان    True    False  \nافق        True    False  \nبفجر      False    False  \nبوعلی      True     True  \nپارس      False     True  \nتاصیکو     True    False  \nجم پیلن   False    False  \nخراسان    False    False  \nدارو      False    False  \nدعبید      True    False  \nسآبیک     False    False  \nسپید      False    False  \nشاملا     False    False  \nشپدیس     False    False  \nلوتوس      True    False  \nنوری      False    False  \nوکغدیر    False    False  \nبپاس       True    False  \nتجلی      False    False  \nتوسن       True     True  \nساوه      False    False  \nسپیدار    False    False  \nغمایه     False    False  \nکگهر       True    False  \nگوهران     True    False  \nناما       True    False  \nنیان      False    False  \nوهامون    False    False  \nشاخص_کل   False    False  \n\n[29 rows x 29 columns]",
      "text/html": "<div>\n<style scoped>\n    .dataframe tbody tr th:only-of-type {\n        vertical-align: middle;\n    }\n\n    .dataframe tbody tr th {\n        vertical-align: top;\n    }\n\n    .dataframe thead th {\n        text-align: right;\n    }\n</style>\n<table border=\"1\" class=\"dataframe\">\n  <thead>\n    <tr style=\"text-align: right;\">\n      <th></th>\n      <th>اردستان</th>\n      <th>افق</th>\n      <th>بفجر</th>\n      <th>بوعلی</th>\n      <th>پارس</th>\n      <th>تاصیکو</th>\n      <th>جم پیلن</th>\n      <th>خراسان</th>\n      <th>دارو</th>\n      <th>دعبید</th>\n      <th>...</th>\n      <th>توسن</th>\n      <th>ساوه</th>\n      <th>سپیدار</th>\n      <th>غمایه</th>\n      <th>کگهر</th>\n      <th>گوهران</th>\n      <th>ناما</th>\n      <th>نیان</th>\n      <th>وهامون</th>\n      <th>شاخص_کل</th>\n    </tr>\n  </thead>\n  <tbody>\n    <tr>\n      <th>اردستان</th>\n      <td>False</td>\n      <td>False</td>\n      <td>False</td>\n      <td>True</td>\n      <td>False</td>\n      <td>True</td>\n      <td>False</td>\n      <td>False</td>\n      <td>False</td>\n      <td>False</td>\n      <td>...</td>\n      <td>False</td>\n      <td>False</td>\n      <td>False</td>\n      <td>False</td>\n      <td>False</td>\n      <td>False</td>\n      <td>False</td>\n      <td>False</td>\n      <td>True</td>\n      <td>False</td>\n    </tr>\n    <tr>\n      <th>افق</th>\n      <td>False</td>\n      <td>False</td>\n      <td>False</td>\n      <td>False</td>\n      <td>False</td>\n      <td>True</td>\n      <td>False</td>\n      <td>False</td>\n      <td>False</td>\n      <td>False</td>\n      <td>...</td>\n      <td>True</td>\n      <td>False</td>\n      <td>False</td>\n      <td>False</td>\n      <td>True</td>\n      <td>False</td>\n      <td>False</td>\n      <td>False</td>\n      <td>True</td>\n      <td>False</td>\n    </tr>\n    <tr>\n      <th>بفجر</th>\n      <td>False</td>\n      <td>False</td>\n      <td>False</td>\n      <td>False</td>\n      <td>False</td>\n      <td>False</td>\n      <td>True</td>\n      <td>False</td>\n      <td>False</td>\n      <td>True</td>\n      <td>...</td>\n      <td>False</td>\n      <td>True</td>\n      <td>False</td>\n      <td>False</td>\n      <td>False</td>\n      <td>False</td>\n      <td>True</td>\n      <td>False</td>\n      <td>False</td>\n      <td>False</td>\n    </tr>\n    <tr>\n      <th>بوعلی</th>\n      <td>True</td>\n      <td>False</td>\n      <td>False</td>\n      <td>False</td>\n      <td>True</td>\n      <td>True</td>\n      <td>True</td>\n      <td>True</td>\n      <td>False</td>\n      <td>False</td>\n      <td>...</td>\n      <td>False</td>\n      <td>False</td>\n      <td>False</td>\n      <td>False</td>\n      <td>True</td>\n      <td>True</td>\n      <td>False</td>\n      <td>False</td>\n      <td>True</td>\n      <td>True</td>\n    </tr>\n    <tr>\n      <th>پارس</th>\n      <td>False</td>\n      <td>False</td>\n      <td>False</td>\n      <td>True</td>\n      <td>False</td>\n      <td>False</td>\n      <td>False</td>\n      <td>True</td>\n      <td>False</td>\n      <td>True</td>\n      <td>...</td>\n      <td>True</td>\n      <td>False</td>\n      <td>False</td>\n      <td>True</td>\n      <td>False</td>\n      <td>False</td>\n      <td>False</td>\n      <td>False</td>\n      <td>False</td>\n      <td>True</td>\n    </tr>\n    <tr>\n      <th>تاصیکو</th>\n      <td>True</td>\n      <td>True</td>\n      <td>False</td>\n      <td>True</td>\n      <td>False</td>\n      <td>False</td>\n      <td>False</td>\n      <td>False</td>\n      <td>False</td>\n      <td>True</td>\n      <td>...</td>\n      <td>False</td>\n      <td>True</td>\n      <td>False</td>\n      <td>False</td>\n      <td>False</td>\n      <td>False</td>\n      <td>True</td>\n      <td>True</td>\n      <td>True</td>\n      <td>False</td>\n    </tr>\n    <tr>\n      <th>جم پیلن</th>\n      <td>False</td>\n      <td>False</td>\n      <td>True</td>\n      <td>True</td>\n      <td>False</td>\n      <td>False</td>\n      <td>False</td>\n      <td>False</td>\n      <td>True</td>\n      <td>False</td>\n      <td>...</td>\n      <td>False</td>\n      <td>False</td>\n      <td>False</td>\n      <td>True</td>\n      <td>False</td>\n      <td>True</td>\n      <td>True</td>\n      <td>False</td>\n      <td>False</td>\n      <td>False</td>\n    </tr>\n    <tr>\n      <th>خراسان</th>\n      <td>False</td>\n      <td>False</td>\n      <td>False</td>\n      <td>True</td>\n      <td>True</td>\n      <td>False</td>\n      <td>False</td>\n      <td>False</td>\n      <td>False</td>\n      <td>True</td>\n      <td>...</td>\n      <td>True</td>\n      <td>False</td>\n      <td>False</td>\n      <td>False</td>\n      <td>False</td>\n      <td>False</td>\n      <td>False</td>\n      <td>False</td>\n      <td>False</td>\n      <td>False</td>\n    </tr>\n    <tr>\n      <th>دارو</th>\n      <td>False</td>\n      <td>False</td>\n      <td>False</td>\n      <td>False</td>\n      <td>False</td>\n      <td>False</td>\n      <td>True</td>\n      <td>False</td>\n      <td>False</td>\n      <td>False</td>\n      <td>...</td>\n      <td>False</td>\n      <td>True</td>\n      <td>False</td>\n      <td>False</td>\n      <td>False</td>\n      <td>False</td>\n      <td>False</td>\n      <td>False</td>\n      <td>False</td>\n      <td>False</td>\n    </tr>\n    <tr>\n      <th>دعبید</th>\n      <td>False</td>\n      <td>False</td>\n      <td>True</td>\n      <td>False</td>\n      <td>True</td>\n      <td>True</td>\n      <td>False</td>\n      <td>True</td>\n      <td>False</td>\n      <td>False</td>\n      <td>...</td>\n      <td>True</td>\n      <td>False</td>\n      <td>False</td>\n      <td>False</td>\n      <td>True</td>\n      <td>False</td>\n      <td>False</td>\n      <td>False</td>\n      <td>True</td>\n      <td>False</td>\n    </tr>\n    <tr>\n      <th>سآبیک</th>\n      <td>True</td>\n      <td>False</td>\n      <td>False</td>\n      <td>False</td>\n      <td>False</td>\n      <td>False</td>\n      <td>False</td>\n      <td>False</td>\n      <td>False</td>\n      <td>False</td>\n      <td>...</td>\n      <td>False</td>\n      <td>False</td>\n      <td>False</td>\n      <td>False</td>\n      <td>False</td>\n      <td>False</td>\n      <td>False</td>\n      <td>False</td>\n      <td>False</td>\n      <td>False</td>\n    </tr>\n    <tr>\n      <th>سپید</th>\n      <td>False</td>\n      <td>False</td>\n      <td>True</td>\n      <td>True</td>\n      <td>False</td>\n      <td>True</td>\n      <td>False</td>\n      <td>False</td>\n      <td>False</td>\n      <td>True</td>\n      <td>...</td>\n      <td>True</td>\n      <td>False</td>\n      <td>False</td>\n      <td>False</td>\n      <td>False</td>\n      <td>False</td>\n      <td>False</td>\n      <td>False</td>\n      <td>False</td>\n      <td>False</td>\n    </tr>\n    <tr>\n      <th>شاملا</th>\n      <td>True</td>\n      <td>False</td>\n      <td>False</td>\n      <td>False</td>\n      <td>False</td>\n      <td>False</td>\n      <td>False</td>\n      <td>True</td>\n      <td>False</td>\n      <td>False</td>\n      <td>...</td>\n      <td>True</td>\n      <td>True</td>\n      <td>False</td>\n      <td>False</td>\n      <td>True</td>\n      <td>False</td>\n      <td>False</td>\n      <td>False</td>\n      <td>False</td>\n      <td>False</td>\n    </tr>\n    <tr>\n      <th>شپدیس</th>\n      <td>False</td>\n      <td>False</td>\n      <td>False</td>\n      <td>False</td>\n      <td>True</td>\n      <td>False</td>\n      <td>False</td>\n      <td>False</td>\n      <td>False</td>\n      <td>True</td>\n      <td>...</td>\n      <td>False</td>\n      <td>False</td>\n      <td>False</td>\n      <td>True</td>\n      <td>False</td>\n      <td>False</td>\n      <td>True</td>\n      <td>True</td>\n      <td>False</td>\n      <td>False</td>\n    </tr>\n    <tr>\n      <th>لوتوس</th>\n      <td>True</td>\n      <td>False</td>\n      <td>False</td>\n      <td>True</td>\n      <td>False</td>\n      <td>False</td>\n      <td>False</td>\n      <td>True</td>\n      <td>False</td>\n      <td>False</td>\n      <td>...</td>\n      <td>True</td>\n      <td>False</td>\n      <td>False</td>\n      <td>False</td>\n      <td>False</td>\n      <td>False</td>\n      <td>False</td>\n      <td>False</td>\n      <td>True</td>\n      <td>False</td>\n    </tr>\n    <tr>\n      <th>نوری</th>\n      <td>True</td>\n      <td>False</td>\n      <td>False</td>\n      <td>True</td>\n      <td>True</td>\n      <td>False</td>\n      <td>False</td>\n      <td>False</td>\n      <td>False</td>\n      <td>False</td>\n      <td>...</td>\n      <td>False</td>\n      <td>False</td>\n      <td>False</td>\n      <td>False</td>\n      <td>False</td>\n      <td>False</td>\n      <td>False</td>\n      <td>False</td>\n      <td>False</td>\n      <td>False</td>\n    </tr>\n    <tr>\n      <th>وکغدیر</th>\n      <td>False</td>\n      <td>False</td>\n      <td>False</td>\n      <td>False</td>\n      <td>False</td>\n      <td>False</td>\n      <td>True</td>\n      <td>False</td>\n      <td>False</td>\n      <td>False</td>\n      <td>...</td>\n      <td>False</td>\n      <td>True</td>\n      <td>False</td>\n      <td>False</td>\n      <td>False</td>\n      <td>False</td>\n      <td>False</td>\n      <td>False</td>\n      <td>False</td>\n      <td>False</td>\n    </tr>\n    <tr>\n      <th>بپاس</th>\n      <td>False</td>\n      <td>False</td>\n      <td>False</td>\n      <td>True</td>\n      <td>False</td>\n      <td>False</td>\n      <td>True</td>\n      <td>False</td>\n      <td>False</td>\n      <td>False</td>\n      <td>...</td>\n      <td>True</td>\n      <td>False</td>\n      <td>True</td>\n      <td>False</td>\n      <td>False</td>\n      <td>False</td>\n      <td>False</td>\n      <td>False</td>\n      <td>True</td>\n      <td>False</td>\n    </tr>\n    <tr>\n      <th>تجلی</th>\n      <td>False</td>\n      <td>False</td>\n      <td>False</td>\n      <td>False</td>\n      <td>False</td>\n      <td>True</td>\n      <td>False</td>\n      <td>False</td>\n      <td>False</td>\n      <td>True</td>\n      <td>...</td>\n      <td>False</td>\n      <td>False</td>\n      <td>False</td>\n      <td>False</td>\n      <td>True</td>\n      <td>True</td>\n      <td>False</td>\n      <td>True</td>\n      <td>False</td>\n      <td>False</td>\n    </tr>\n    <tr>\n      <th>توسن</th>\n      <td>False</td>\n      <td>True</td>\n      <td>False</td>\n      <td>False</td>\n      <td>True</td>\n      <td>False</td>\n      <td>False</td>\n      <td>True</td>\n      <td>False</td>\n      <td>True</td>\n      <td>...</td>\n      <td>False</td>\n      <td>True</td>\n      <td>False</td>\n      <td>True</td>\n      <td>True</td>\n      <td>True</td>\n      <td>False</td>\n      <td>True</td>\n      <td>True</td>\n      <td>True</td>\n    </tr>\n    <tr>\n      <th>ساوه</th>\n      <td>False</td>\n      <td>False</td>\n      <td>True</td>\n      <td>False</td>\n      <td>False</td>\n      <td>True</td>\n      <td>False</td>\n      <td>False</td>\n      <td>True</td>\n      <td>False</td>\n      <td>...</td>\n      <td>True</td>\n      <td>False</td>\n      <td>False</td>\n      <td>False</td>\n      <td>True</td>\n      <td>True</td>\n      <td>False</td>\n      <td>False</td>\n      <td>False</td>\n      <td>False</td>\n    </tr>\n    <tr>\n      <th>سپیدار</th>\n      <td>False</td>\n      <td>False</td>\n      <td>False</td>\n      <td>False</td>\n      <td>False</td>\n      <td>False</td>\n      <td>False</td>\n      <td>False</td>\n      <td>False</td>\n      <td>False</td>\n      <td>...</td>\n      <td>False</td>\n      <td>False</td>\n      <td>False</td>\n      <td>False</td>\n      <td>False</td>\n      <td>True</td>\n      <td>False</td>\n      <td>False</td>\n      <td>False</td>\n      <td>False</td>\n    </tr>\n    <tr>\n      <th>غمایه</th>\n      <td>False</td>\n      <td>False</td>\n      <td>False</td>\n      <td>False</td>\n      <td>True</td>\n      <td>False</td>\n      <td>True</td>\n      <td>False</td>\n      <td>False</td>\n      <td>False</td>\n      <td>...</td>\n      <td>True</td>\n      <td>False</td>\n      <td>False</td>\n      <td>False</td>\n      <td>False</td>\n      <td>False</td>\n      <td>False</td>\n      <td>False</td>\n      <td>False</td>\n      <td>False</td>\n    </tr>\n    <tr>\n      <th>کگهر</th>\n      <td>False</td>\n      <td>True</td>\n      <td>False</td>\n      <td>True</td>\n      <td>False</td>\n      <td>False</td>\n      <td>False</td>\n      <td>False</td>\n      <td>False</td>\n      <td>True</td>\n      <td>...</td>\n      <td>True</td>\n      <td>True</td>\n      <td>False</td>\n      <td>False</td>\n      <td>False</td>\n      <td>False</td>\n      <td>False</td>\n      <td>False</td>\n      <td>True</td>\n      <td>False</td>\n    </tr>\n    <tr>\n      <th>گوهران</th>\n      <td>False</td>\n      <td>False</td>\n      <td>False</td>\n      <td>True</td>\n      <td>False</td>\n      <td>False</td>\n      <td>True</td>\n      <td>False</td>\n      <td>False</td>\n      <td>False</td>\n      <td>...</td>\n      <td>True</td>\n      <td>True</td>\n      <td>True</td>\n      <td>False</td>\n      <td>False</td>\n      <td>False</td>\n      <td>False</td>\n      <td>False</td>\n      <td>True</td>\n      <td>False</td>\n    </tr>\n    <tr>\n      <th>ناما</th>\n      <td>False</td>\n      <td>False</td>\n      <td>True</td>\n      <td>False</td>\n      <td>False</td>\n      <td>True</td>\n      <td>True</td>\n      <td>False</td>\n      <td>False</td>\n      <td>False</td>\n      <td>...</td>\n      <td>False</td>\n      <td>False</td>\n      <td>False</td>\n      <td>False</td>\n      <td>False</td>\n      <td>False</td>\n      <td>False</td>\n      <td>False</td>\n      <td>True</td>\n      <td>False</td>\n    </tr>\n    <tr>\n      <th>نیان</th>\n      <td>False</td>\n      <td>False</td>\n      <td>False</td>\n      <td>False</td>\n      <td>False</td>\n      <td>True</td>\n      <td>False</td>\n      <td>False</td>\n      <td>False</td>\n      <td>False</td>\n      <td>...</td>\n      <td>True</td>\n      <td>False</td>\n      <td>False</td>\n      <td>False</td>\n      <td>False</td>\n      <td>False</td>\n      <td>False</td>\n      <td>False</td>\n      <td>False</td>\n      <td>False</td>\n    </tr>\n    <tr>\n      <th>وهامون</th>\n      <td>True</td>\n      <td>True</td>\n      <td>False</td>\n      <td>True</td>\n      <td>False</td>\n      <td>True</td>\n      <td>False</td>\n      <td>False</td>\n      <td>False</td>\n      <td>True</td>\n      <td>...</td>\n      <td>True</td>\n      <td>False</td>\n      <td>False</td>\n      <td>False</td>\n      <td>True</td>\n      <td>True</td>\n      <td>True</td>\n      <td>False</td>\n      <td>False</td>\n      <td>False</td>\n    </tr>\n    <tr>\n      <th>شاخص_کل</th>\n      <td>False</td>\n      <td>False</td>\n      <td>False</td>\n      <td>True</td>\n      <td>True</td>\n      <td>False</td>\n      <td>False</td>\n      <td>False</td>\n      <td>False</td>\n      <td>False</td>\n      <td>...</td>\n      <td>True</td>\n      <td>False</td>\n      <td>False</td>\n      <td>False</td>\n      <td>False</td>\n      <td>False</td>\n      <td>False</td>\n      <td>False</td>\n      <td>False</td>\n      <td>False</td>\n    </tr>\n  </tbody>\n</table>\n<p>29 rows × 29 columns</p>\n</div>"
     },
     "execution_count": 36,
     "metadata": {},
     "output_type": "execute_result"
    }
   ],
   "source": [
    "np.abs(selected) < 0.2"
   ],
   "metadata": {
    "collapsed": false,
    "pycharm": {
     "name": "#%%\n"
    }
   }
  },
  {
   "cell_type": "code",
   "execution_count": 37,
   "outputs": [
    {
     "data": {
      "text/plain": "          اردستان       افق      بفجر     بوعلی      پارس    تاصیکو   جم پیلن  \\\nاردستان       NaN       NaN       NaN  0.116283       NaN -0.198999       NaN   \nافق           NaN       NaN       NaN       NaN       NaN  0.090599       NaN   \nبفجر          NaN       NaN       NaN       NaN       NaN       NaN  0.164926   \nبوعلی    0.116283       NaN       NaN       NaN  0.072625 -0.198184  0.007267   \nپارس          NaN       NaN       NaN  0.072625       NaN       NaN       NaN   \nتاصیکو  -0.198999  0.090599       NaN -0.198184       NaN       NaN       NaN   \nجم پیلن       NaN       NaN  0.164926  0.007267       NaN       NaN       NaN   \nخراسان        NaN       NaN       NaN  0.047720 -0.107547       NaN       NaN   \nدارو          NaN       NaN       NaN       NaN       NaN       NaN -0.141501   \nدعبید         NaN       NaN  0.127937       NaN  0.185393 -0.071277       NaN   \nسآبیک    0.062474       NaN       NaN       NaN       NaN       NaN       NaN   \nسپید          NaN       NaN  0.098125  0.137171       NaN -0.056736       NaN   \nشاملا    0.140917       NaN       NaN       NaN       NaN       NaN       NaN   \nشپدیس         NaN       NaN       NaN       NaN  0.015030       NaN       NaN   \nلوتوس    0.012499       NaN       NaN  0.027945       NaN       NaN       NaN   \nنوری     0.170714       NaN       NaN  0.139923 -0.049407       NaN       NaN   \nوکغدیر        NaN       NaN       NaN       NaN       NaN       NaN -0.015683   \nبپاس          NaN       NaN       NaN -0.065760       NaN       NaN -0.086581   \nتجلی          NaN       NaN       NaN       NaN       NaN -0.189358       NaN   \nتوسن          NaN  0.180629       NaN       NaN  0.094274       NaN       NaN   \nساوه          NaN       NaN  0.147223       NaN       NaN  0.081321       NaN   \nسپیدار        NaN       NaN       NaN       NaN       NaN       NaN       NaN   \nغمایه         NaN       NaN       NaN       NaN -0.152475       NaN  0.125833   \nکگهر          NaN  0.094693       NaN  0.001520       NaN       NaN       NaN   \nگوهران        NaN       NaN       NaN -0.187746       NaN       NaN -0.025698   \nناما          NaN       NaN -0.090958       NaN       NaN  0.053735  0.061657   \nنیان          NaN       NaN       NaN       NaN       NaN  0.019647       NaN   \nوهامون   0.068705  0.065242       NaN -0.158946       NaN  0.004957       NaN   \n\n           خراسان      دارو     دعبید  ...      تجلی      توسن      ساوه  \\\nاردستان       NaN       NaN       NaN  ...       NaN       NaN       NaN   \nافق           NaN       NaN       NaN  ...       NaN  0.180629       NaN   \nبفجر          NaN       NaN  0.127937  ...       NaN       NaN  0.147223   \nبوعلی    0.047720       NaN       NaN  ...       NaN       NaN       NaN   \nپارس    -0.107547       NaN  0.185393  ...       NaN  0.094274       NaN   \nتاصیکو        NaN       NaN -0.071277  ... -0.189358       NaN  0.081321   \nجم پیلن       NaN -0.141501       NaN  ...       NaN       NaN       NaN   \nخراسان        NaN       NaN  0.097430  ...       NaN  0.160003       NaN   \nدارو          NaN       NaN       NaN  ...       NaN       NaN  0.060439   \nدعبید    0.097430       NaN       NaN  ... -0.144342  0.093008       NaN   \nسآبیک         NaN       NaN       NaN  ...       NaN       NaN       NaN   \nسپید          NaN       NaN  0.180460  ...       NaN -0.012432       NaN   \nشاملا    0.178544       NaN       NaN  ...       NaN -0.036086 -0.053051   \nشپدیس         NaN       NaN  0.098689  ...       NaN       NaN       NaN   \nلوتوس    0.016922       NaN       NaN  ...       NaN -0.024023       NaN   \nنوری          NaN       NaN       NaN  ...       NaN       NaN       NaN   \nوکغدیر        NaN       NaN       NaN  ...  0.023797       NaN -0.028584   \nبپاس          NaN       NaN       NaN  ...       NaN  0.046656       NaN   \nتجلی          NaN       NaN -0.144342  ...       NaN       NaN       NaN   \nتوسن     0.160003       NaN  0.093008  ...       NaN       NaN  0.194562   \nساوه          NaN  0.060439       NaN  ...       NaN  0.194562       NaN   \nسپیدار        NaN       NaN       NaN  ...       NaN       NaN       NaN   \nغمایه         NaN       NaN       NaN  ...       NaN -0.106254       NaN   \nکگهر          NaN       NaN -0.188820  ... -0.181618  0.018736 -0.098032   \nگوهران        NaN       NaN       NaN  ... -0.162089 -0.159222 -0.048321   \nناما          NaN       NaN       NaN  ...       NaN       NaN       NaN   \nنیان          NaN       NaN       NaN  ...  0.109347  0.116126       NaN   \nوهامون        NaN       NaN  0.164315  ...       NaN  0.150007       NaN   \n\n           سپیدار     غمایه      کگهر    گوهران      ناما      نیان    وهامون  \nاردستان       NaN       NaN       NaN       NaN       NaN       NaN  0.068705  \nافق           NaN       NaN  0.094693       NaN       NaN       NaN  0.065242  \nبفجر          NaN       NaN       NaN       NaN -0.090958       NaN       NaN  \nبوعلی         NaN       NaN  0.001520 -0.187746       NaN       NaN -0.158946  \nپارس          NaN -0.152475       NaN       NaN       NaN       NaN       NaN  \nتاصیکو        NaN       NaN       NaN       NaN  0.053735  0.019647  0.004957  \nجم پیلن       NaN  0.125833       NaN -0.025698  0.061657       NaN       NaN  \nخراسان        NaN       NaN       NaN       NaN       NaN       NaN       NaN  \nدارو          NaN       NaN       NaN       NaN       NaN       NaN       NaN  \nدعبید         NaN       NaN -0.188820       NaN       NaN       NaN  0.164315  \nسآبیک         NaN       NaN       NaN       NaN       NaN       NaN       NaN  \nسپید          NaN       NaN       NaN       NaN       NaN       NaN       NaN  \nشاملا         NaN       NaN  0.111856       NaN       NaN       NaN       NaN  \nشپدیس         NaN -0.061216       NaN       NaN  0.179666  0.048098       NaN  \nلوتوس         NaN       NaN       NaN       NaN       NaN       NaN  0.002932  \nنوری          NaN       NaN       NaN       NaN       NaN       NaN       NaN  \nوکغدیر        NaN       NaN       NaN       NaN       NaN       NaN       NaN  \nبپاس    -0.124833       NaN       NaN       NaN       NaN       NaN  0.190694  \nتجلی          NaN       NaN -0.181618 -0.162089       NaN  0.109347       NaN  \nتوسن          NaN -0.106254  0.018736 -0.159222       NaN  0.116126  0.150007  \nساوه          NaN       NaN -0.098032 -0.048321       NaN       NaN       NaN  \nسپیدار        NaN       NaN       NaN  0.039412       NaN       NaN       NaN  \nغمایه         NaN       NaN       NaN       NaN       NaN       NaN       NaN  \nکگهر          NaN       NaN       NaN       NaN       NaN       NaN -0.079312  \nگوهران   0.039412       NaN       NaN       NaN       NaN       NaN  0.071912  \nناما          NaN       NaN       NaN       NaN       NaN       NaN  0.183269  \nنیان          NaN       NaN       NaN       NaN       NaN       NaN       NaN  \nوهامون        NaN       NaN -0.079312  0.071912  0.183269       NaN       NaN  \n\n[28 rows x 28 columns]",
      "text/html": "<div>\n<style scoped>\n    .dataframe tbody tr th:only-of-type {\n        vertical-align: middle;\n    }\n\n    .dataframe tbody tr th {\n        vertical-align: top;\n    }\n\n    .dataframe thead th {\n        text-align: right;\n    }\n</style>\n<table border=\"1\" class=\"dataframe\">\n  <thead>\n    <tr style=\"text-align: right;\">\n      <th></th>\n      <th>اردستان</th>\n      <th>افق</th>\n      <th>بفجر</th>\n      <th>بوعلی</th>\n      <th>پارس</th>\n      <th>تاصیکو</th>\n      <th>جم پیلن</th>\n      <th>خراسان</th>\n      <th>دارو</th>\n      <th>دعبید</th>\n      <th>...</th>\n      <th>تجلی</th>\n      <th>توسن</th>\n      <th>ساوه</th>\n      <th>سپیدار</th>\n      <th>غمایه</th>\n      <th>کگهر</th>\n      <th>گوهران</th>\n      <th>ناما</th>\n      <th>نیان</th>\n      <th>وهامون</th>\n    </tr>\n  </thead>\n  <tbody>\n    <tr>\n      <th>اردستان</th>\n      <td>NaN</td>\n      <td>NaN</td>\n      <td>NaN</td>\n      <td>0.116283</td>\n      <td>NaN</td>\n      <td>-0.198999</td>\n      <td>NaN</td>\n      <td>NaN</td>\n      <td>NaN</td>\n      <td>NaN</td>\n      <td>...</td>\n      <td>NaN</td>\n      <td>NaN</td>\n      <td>NaN</td>\n      <td>NaN</td>\n      <td>NaN</td>\n      <td>NaN</td>\n      <td>NaN</td>\n      <td>NaN</td>\n      <td>NaN</td>\n      <td>0.068705</td>\n    </tr>\n    <tr>\n      <th>افق</th>\n      <td>NaN</td>\n      <td>NaN</td>\n      <td>NaN</td>\n      <td>NaN</td>\n      <td>NaN</td>\n      <td>0.090599</td>\n      <td>NaN</td>\n      <td>NaN</td>\n      <td>NaN</td>\n      <td>NaN</td>\n      <td>...</td>\n      <td>NaN</td>\n      <td>0.180629</td>\n      <td>NaN</td>\n      <td>NaN</td>\n      <td>NaN</td>\n      <td>0.094693</td>\n      <td>NaN</td>\n      <td>NaN</td>\n      <td>NaN</td>\n      <td>0.065242</td>\n    </tr>\n    <tr>\n      <th>بفجر</th>\n      <td>NaN</td>\n      <td>NaN</td>\n      <td>NaN</td>\n      <td>NaN</td>\n      <td>NaN</td>\n      <td>NaN</td>\n      <td>0.164926</td>\n      <td>NaN</td>\n      <td>NaN</td>\n      <td>0.127937</td>\n      <td>...</td>\n      <td>NaN</td>\n      <td>NaN</td>\n      <td>0.147223</td>\n      <td>NaN</td>\n      <td>NaN</td>\n      <td>NaN</td>\n      <td>NaN</td>\n      <td>-0.090958</td>\n      <td>NaN</td>\n      <td>NaN</td>\n    </tr>\n    <tr>\n      <th>بوعلی</th>\n      <td>0.116283</td>\n      <td>NaN</td>\n      <td>NaN</td>\n      <td>NaN</td>\n      <td>0.072625</td>\n      <td>-0.198184</td>\n      <td>0.007267</td>\n      <td>0.047720</td>\n      <td>NaN</td>\n      <td>NaN</td>\n      <td>...</td>\n      <td>NaN</td>\n      <td>NaN</td>\n      <td>NaN</td>\n      <td>NaN</td>\n      <td>NaN</td>\n      <td>0.001520</td>\n      <td>-0.187746</td>\n      <td>NaN</td>\n      <td>NaN</td>\n      <td>-0.158946</td>\n    </tr>\n    <tr>\n      <th>پارس</th>\n      <td>NaN</td>\n      <td>NaN</td>\n      <td>NaN</td>\n      <td>0.072625</td>\n      <td>NaN</td>\n      <td>NaN</td>\n      <td>NaN</td>\n      <td>-0.107547</td>\n      <td>NaN</td>\n      <td>0.185393</td>\n      <td>...</td>\n      <td>NaN</td>\n      <td>0.094274</td>\n      <td>NaN</td>\n      <td>NaN</td>\n      <td>-0.152475</td>\n      <td>NaN</td>\n      <td>NaN</td>\n      <td>NaN</td>\n      <td>NaN</td>\n      <td>NaN</td>\n    </tr>\n    <tr>\n      <th>تاصیکو</th>\n      <td>-0.198999</td>\n      <td>0.090599</td>\n      <td>NaN</td>\n      <td>-0.198184</td>\n      <td>NaN</td>\n      <td>NaN</td>\n      <td>NaN</td>\n      <td>NaN</td>\n      <td>NaN</td>\n      <td>-0.071277</td>\n      <td>...</td>\n      <td>-0.189358</td>\n      <td>NaN</td>\n      <td>0.081321</td>\n      <td>NaN</td>\n      <td>NaN</td>\n      <td>NaN</td>\n      <td>NaN</td>\n      <td>0.053735</td>\n      <td>0.019647</td>\n      <td>0.004957</td>\n    </tr>\n    <tr>\n      <th>جم پیلن</th>\n      <td>NaN</td>\n      <td>NaN</td>\n      <td>0.164926</td>\n      <td>0.007267</td>\n      <td>NaN</td>\n      <td>NaN</td>\n      <td>NaN</td>\n      <td>NaN</td>\n      <td>-0.141501</td>\n      <td>NaN</td>\n      <td>...</td>\n      <td>NaN</td>\n      <td>NaN</td>\n      <td>NaN</td>\n      <td>NaN</td>\n      <td>0.125833</td>\n      <td>NaN</td>\n      <td>-0.025698</td>\n      <td>0.061657</td>\n      <td>NaN</td>\n      <td>NaN</td>\n    </tr>\n    <tr>\n      <th>خراسان</th>\n      <td>NaN</td>\n      <td>NaN</td>\n      <td>NaN</td>\n      <td>0.047720</td>\n      <td>-0.107547</td>\n      <td>NaN</td>\n      <td>NaN</td>\n      <td>NaN</td>\n      <td>NaN</td>\n      <td>0.097430</td>\n      <td>...</td>\n      <td>NaN</td>\n      <td>0.160003</td>\n      <td>NaN</td>\n      <td>NaN</td>\n      <td>NaN</td>\n      <td>NaN</td>\n      <td>NaN</td>\n      <td>NaN</td>\n      <td>NaN</td>\n      <td>NaN</td>\n    </tr>\n    <tr>\n      <th>دارو</th>\n      <td>NaN</td>\n      <td>NaN</td>\n      <td>NaN</td>\n      <td>NaN</td>\n      <td>NaN</td>\n      <td>NaN</td>\n      <td>-0.141501</td>\n      <td>NaN</td>\n      <td>NaN</td>\n      <td>NaN</td>\n      <td>...</td>\n      <td>NaN</td>\n      <td>NaN</td>\n      <td>0.060439</td>\n      <td>NaN</td>\n      <td>NaN</td>\n      <td>NaN</td>\n      <td>NaN</td>\n      <td>NaN</td>\n      <td>NaN</td>\n      <td>NaN</td>\n    </tr>\n    <tr>\n      <th>دعبید</th>\n      <td>NaN</td>\n      <td>NaN</td>\n      <td>0.127937</td>\n      <td>NaN</td>\n      <td>0.185393</td>\n      <td>-0.071277</td>\n      <td>NaN</td>\n      <td>0.097430</td>\n      <td>NaN</td>\n      <td>NaN</td>\n      <td>...</td>\n      <td>-0.144342</td>\n      <td>0.093008</td>\n      <td>NaN</td>\n      <td>NaN</td>\n      <td>NaN</td>\n      <td>-0.188820</td>\n      <td>NaN</td>\n      <td>NaN</td>\n      <td>NaN</td>\n      <td>0.164315</td>\n    </tr>\n    <tr>\n      <th>سآبیک</th>\n      <td>0.062474</td>\n      <td>NaN</td>\n      <td>NaN</td>\n      <td>NaN</td>\n      <td>NaN</td>\n      <td>NaN</td>\n      <td>NaN</td>\n      <td>NaN</td>\n      <td>NaN</td>\n      <td>NaN</td>\n      <td>...</td>\n      <td>NaN</td>\n      <td>NaN</td>\n      <td>NaN</td>\n      <td>NaN</td>\n      <td>NaN</td>\n      <td>NaN</td>\n      <td>NaN</td>\n      <td>NaN</td>\n      <td>NaN</td>\n      <td>NaN</td>\n    </tr>\n    <tr>\n      <th>سپید</th>\n      <td>NaN</td>\n      <td>NaN</td>\n      <td>0.098125</td>\n      <td>0.137171</td>\n      <td>NaN</td>\n      <td>-0.056736</td>\n      <td>NaN</td>\n      <td>NaN</td>\n      <td>NaN</td>\n      <td>0.180460</td>\n      <td>...</td>\n      <td>NaN</td>\n      <td>-0.012432</td>\n      <td>NaN</td>\n      <td>NaN</td>\n      <td>NaN</td>\n      <td>NaN</td>\n      <td>NaN</td>\n      <td>NaN</td>\n      <td>NaN</td>\n      <td>NaN</td>\n    </tr>\n    <tr>\n      <th>شاملا</th>\n      <td>0.140917</td>\n      <td>NaN</td>\n      <td>NaN</td>\n      <td>NaN</td>\n      <td>NaN</td>\n      <td>NaN</td>\n      <td>NaN</td>\n      <td>0.178544</td>\n      <td>NaN</td>\n      <td>NaN</td>\n      <td>...</td>\n      <td>NaN</td>\n      <td>-0.036086</td>\n      <td>-0.053051</td>\n      <td>NaN</td>\n      <td>NaN</td>\n      <td>0.111856</td>\n      <td>NaN</td>\n      <td>NaN</td>\n      <td>NaN</td>\n      <td>NaN</td>\n    </tr>\n    <tr>\n      <th>شپدیس</th>\n      <td>NaN</td>\n      <td>NaN</td>\n      <td>NaN</td>\n      <td>NaN</td>\n      <td>0.015030</td>\n      <td>NaN</td>\n      <td>NaN</td>\n      <td>NaN</td>\n      <td>NaN</td>\n      <td>0.098689</td>\n      <td>...</td>\n      <td>NaN</td>\n      <td>NaN</td>\n      <td>NaN</td>\n      <td>NaN</td>\n      <td>-0.061216</td>\n      <td>NaN</td>\n      <td>NaN</td>\n      <td>0.179666</td>\n      <td>0.048098</td>\n      <td>NaN</td>\n    </tr>\n    <tr>\n      <th>لوتوس</th>\n      <td>0.012499</td>\n      <td>NaN</td>\n      <td>NaN</td>\n      <td>0.027945</td>\n      <td>NaN</td>\n      <td>NaN</td>\n      <td>NaN</td>\n      <td>0.016922</td>\n      <td>NaN</td>\n      <td>NaN</td>\n      <td>...</td>\n      <td>NaN</td>\n      <td>-0.024023</td>\n      <td>NaN</td>\n      <td>NaN</td>\n      <td>NaN</td>\n      <td>NaN</td>\n      <td>NaN</td>\n      <td>NaN</td>\n      <td>NaN</td>\n      <td>0.002932</td>\n    </tr>\n    <tr>\n      <th>نوری</th>\n      <td>0.170714</td>\n      <td>NaN</td>\n      <td>NaN</td>\n      <td>0.139923</td>\n      <td>-0.049407</td>\n      <td>NaN</td>\n      <td>NaN</td>\n      <td>NaN</td>\n      <td>NaN</td>\n      <td>NaN</td>\n      <td>...</td>\n      <td>NaN</td>\n      <td>NaN</td>\n      <td>NaN</td>\n      <td>NaN</td>\n      <td>NaN</td>\n      <td>NaN</td>\n      <td>NaN</td>\n      <td>NaN</td>\n      <td>NaN</td>\n      <td>NaN</td>\n    </tr>\n    <tr>\n      <th>وکغدیر</th>\n      <td>NaN</td>\n      <td>NaN</td>\n      <td>NaN</td>\n      <td>NaN</td>\n      <td>NaN</td>\n      <td>NaN</td>\n      <td>-0.015683</td>\n      <td>NaN</td>\n      <td>NaN</td>\n      <td>NaN</td>\n      <td>...</td>\n      <td>0.023797</td>\n      <td>NaN</td>\n      <td>-0.028584</td>\n      <td>NaN</td>\n      <td>NaN</td>\n      <td>NaN</td>\n      <td>NaN</td>\n      <td>NaN</td>\n      <td>NaN</td>\n      <td>NaN</td>\n    </tr>\n    <tr>\n      <th>بپاس</th>\n      <td>NaN</td>\n      <td>NaN</td>\n      <td>NaN</td>\n      <td>-0.065760</td>\n      <td>NaN</td>\n      <td>NaN</td>\n      <td>-0.086581</td>\n      <td>NaN</td>\n      <td>NaN</td>\n      <td>NaN</td>\n      <td>...</td>\n      <td>NaN</td>\n      <td>0.046656</td>\n      <td>NaN</td>\n      <td>-0.124833</td>\n      <td>NaN</td>\n      <td>NaN</td>\n      <td>NaN</td>\n      <td>NaN</td>\n      <td>NaN</td>\n      <td>0.190694</td>\n    </tr>\n    <tr>\n      <th>تجلی</th>\n      <td>NaN</td>\n      <td>NaN</td>\n      <td>NaN</td>\n      <td>NaN</td>\n      <td>NaN</td>\n      <td>-0.189358</td>\n      <td>NaN</td>\n      <td>NaN</td>\n      <td>NaN</td>\n      <td>-0.144342</td>\n      <td>...</td>\n      <td>NaN</td>\n      <td>NaN</td>\n      <td>NaN</td>\n      <td>NaN</td>\n      <td>NaN</td>\n      <td>-0.181618</td>\n      <td>-0.162089</td>\n      <td>NaN</td>\n      <td>0.109347</td>\n      <td>NaN</td>\n    </tr>\n    <tr>\n      <th>توسن</th>\n      <td>NaN</td>\n      <td>0.180629</td>\n      <td>NaN</td>\n      <td>NaN</td>\n      <td>0.094274</td>\n      <td>NaN</td>\n      <td>NaN</td>\n      <td>0.160003</td>\n      <td>NaN</td>\n      <td>0.093008</td>\n      <td>...</td>\n      <td>NaN</td>\n      <td>NaN</td>\n      <td>0.194562</td>\n      <td>NaN</td>\n      <td>-0.106254</td>\n      <td>0.018736</td>\n      <td>-0.159222</td>\n      <td>NaN</td>\n      <td>0.116126</td>\n      <td>0.150007</td>\n    </tr>\n    <tr>\n      <th>ساوه</th>\n      <td>NaN</td>\n      <td>NaN</td>\n      <td>0.147223</td>\n      <td>NaN</td>\n      <td>NaN</td>\n      <td>0.081321</td>\n      <td>NaN</td>\n      <td>NaN</td>\n      <td>0.060439</td>\n      <td>NaN</td>\n      <td>...</td>\n      <td>NaN</td>\n      <td>0.194562</td>\n      <td>NaN</td>\n      <td>NaN</td>\n      <td>NaN</td>\n      <td>-0.098032</td>\n      <td>-0.048321</td>\n      <td>NaN</td>\n      <td>NaN</td>\n      <td>NaN</td>\n    </tr>\n    <tr>\n      <th>سپیدار</th>\n      <td>NaN</td>\n      <td>NaN</td>\n      <td>NaN</td>\n      <td>NaN</td>\n      <td>NaN</td>\n      <td>NaN</td>\n      <td>NaN</td>\n      <td>NaN</td>\n      <td>NaN</td>\n      <td>NaN</td>\n      <td>...</td>\n      <td>NaN</td>\n      <td>NaN</td>\n      <td>NaN</td>\n      <td>NaN</td>\n      <td>NaN</td>\n      <td>NaN</td>\n      <td>0.039412</td>\n      <td>NaN</td>\n      <td>NaN</td>\n      <td>NaN</td>\n    </tr>\n    <tr>\n      <th>غمایه</th>\n      <td>NaN</td>\n      <td>NaN</td>\n      <td>NaN</td>\n      <td>NaN</td>\n      <td>-0.152475</td>\n      <td>NaN</td>\n      <td>0.125833</td>\n      <td>NaN</td>\n      <td>NaN</td>\n      <td>NaN</td>\n      <td>...</td>\n      <td>NaN</td>\n      <td>-0.106254</td>\n      <td>NaN</td>\n      <td>NaN</td>\n      <td>NaN</td>\n      <td>NaN</td>\n      <td>NaN</td>\n      <td>NaN</td>\n      <td>NaN</td>\n      <td>NaN</td>\n    </tr>\n    <tr>\n      <th>کگهر</th>\n      <td>NaN</td>\n      <td>0.094693</td>\n      <td>NaN</td>\n      <td>0.001520</td>\n      <td>NaN</td>\n      <td>NaN</td>\n      <td>NaN</td>\n      <td>NaN</td>\n      <td>NaN</td>\n      <td>-0.188820</td>\n      <td>...</td>\n      <td>-0.181618</td>\n      <td>0.018736</td>\n      <td>-0.098032</td>\n      <td>NaN</td>\n      <td>NaN</td>\n      <td>NaN</td>\n      <td>NaN</td>\n      <td>NaN</td>\n      <td>NaN</td>\n      <td>-0.079312</td>\n    </tr>\n    <tr>\n      <th>گوهران</th>\n      <td>NaN</td>\n      <td>NaN</td>\n      <td>NaN</td>\n      <td>-0.187746</td>\n      <td>NaN</td>\n      <td>NaN</td>\n      <td>-0.025698</td>\n      <td>NaN</td>\n      <td>NaN</td>\n      <td>NaN</td>\n      <td>...</td>\n      <td>-0.162089</td>\n      <td>-0.159222</td>\n      <td>-0.048321</td>\n      <td>0.039412</td>\n      <td>NaN</td>\n      <td>NaN</td>\n      <td>NaN</td>\n      <td>NaN</td>\n      <td>NaN</td>\n      <td>0.071912</td>\n    </tr>\n    <tr>\n      <th>ناما</th>\n      <td>NaN</td>\n      <td>NaN</td>\n      <td>-0.090958</td>\n      <td>NaN</td>\n      <td>NaN</td>\n      <td>0.053735</td>\n      <td>0.061657</td>\n      <td>NaN</td>\n      <td>NaN</td>\n      <td>NaN</td>\n      <td>...</td>\n      <td>NaN</td>\n      <td>NaN</td>\n      <td>NaN</td>\n      <td>NaN</td>\n      <td>NaN</td>\n      <td>NaN</td>\n      <td>NaN</td>\n      <td>NaN</td>\n      <td>NaN</td>\n      <td>0.183269</td>\n    </tr>\n    <tr>\n      <th>نیان</th>\n      <td>NaN</td>\n      <td>NaN</td>\n      <td>NaN</td>\n      <td>NaN</td>\n      <td>NaN</td>\n      <td>0.019647</td>\n      <td>NaN</td>\n      <td>NaN</td>\n      <td>NaN</td>\n      <td>NaN</td>\n      <td>...</td>\n      <td>0.109347</td>\n      <td>0.116126</td>\n      <td>NaN</td>\n      <td>NaN</td>\n      <td>NaN</td>\n      <td>NaN</td>\n      <td>NaN</td>\n      <td>NaN</td>\n      <td>NaN</td>\n      <td>NaN</td>\n    </tr>\n    <tr>\n      <th>وهامون</th>\n      <td>0.068705</td>\n      <td>0.065242</td>\n      <td>NaN</td>\n      <td>-0.158946</td>\n      <td>NaN</td>\n      <td>0.004957</td>\n      <td>NaN</td>\n      <td>NaN</td>\n      <td>NaN</td>\n      <td>0.164315</td>\n      <td>...</td>\n      <td>NaN</td>\n      <td>0.150007</td>\n      <td>NaN</td>\n      <td>NaN</td>\n      <td>NaN</td>\n      <td>-0.079312</td>\n      <td>0.071912</td>\n      <td>0.183269</td>\n      <td>NaN</td>\n      <td>NaN</td>\n    </tr>\n  </tbody>\n</table>\n<p>28 rows × 28 columns</p>\n</div>"
     },
     "execution_count": 37,
     "metadata": {},
     "output_type": "execute_result"
    }
   ],
   "source": [
    "selected[np.abs(selected) < 0.2].iloc[:-1, :-1]"
   ],
   "metadata": {
    "collapsed": false,
    "pycharm": {
     "name": "#%%\n"
    }
   }
  },
  {
   "cell_type": "code",
   "execution_count": 47,
   "outputs": [
    {
     "data": {
      "text/plain": "Index(['اردستان', 'افق', 'بفجر', 'بوعلی', 'پارس', 'تاصیکو', 'جم پیلن',\n       'خراسان', 'دارو', 'دعبید', 'سآبیک', 'سپید', 'شاملا', 'شپدیس', 'لوتوس',\n       'نوری', 'وکغدیر', 'بپاس', 'تجلی', 'توسن', 'ساوه', 'سپیدار', 'غمایه',\n       'کگهر', 'گوهران', 'ناما', 'نیان', 'وهامون'],\n      dtype='object')"
     },
     "execution_count": 47,
     "metadata": {},
     "output_type": "execute_result"
    }
   ],
   "source": [
    "selected.columns[:-1]"
   ],
   "metadata": {
    "collapsed": false,
    "pycharm": {
     "name": "#%%\n"
    }
   }
  },
  {
   "cell_type": "code",
   "execution_count": 38,
   "outputs": [],
   "source": [
    "col = selected.columns[:-1]"
   ],
   "metadata": {
    "collapsed": false,
    "pycharm": {
     "name": "#%%\n"
    }
   }
  },
  {
   "cell_type": "code",
   "execution_count": 39,
   "outputs": [
    {
     "data": {
      "text/plain": "Index(['اردستان', 'افق', 'بفجر', 'بوعلی', 'پارس', 'تاصیکو', 'جم پیلن',\n       'خراسان', 'دارو', 'دعبید', 'سآبیک', 'سپید', 'شاملا', 'شپدیس', 'لوتوس',\n       'نوری', 'وکغدیر', 'بپاس', 'تجلی', 'توسن', 'ساوه', 'سپیدار', 'غمایه',\n       'کگهر', 'گوهران', 'ناما', 'نیان', 'وهامون'],\n      dtype='object')"
     },
     "execution_count": 39,
     "metadata": {},
     "output_type": "execute_result"
    }
   ],
   "source": [
    "col"
   ],
   "metadata": {
    "collapsed": false,
    "pycharm": {
     "name": "#%%\n"
    }
   }
  },
  {
   "cell_type": "code",
   "execution_count": 57,
   "outputs": [],
   "source": [
    "selected.to_excel('portfollio.xlsx')"
   ],
   "metadata": {
    "collapsed": false,
    "pycharm": {
     "name": "#%%\n"
    }
   }
  },
  {
   "cell_type": "code",
   "execution_count": 40,
   "outputs": [],
   "source": [
    "#col.drop(['ناما', 'نیان', 'کگهر'])"
   ],
   "metadata": {
    "collapsed": false,
    "pycharm": {
     "name": "#%%\n"
    }
   }
  },
  {
   "cell_type": "code",
   "execution_count": 66,
   "outputs": [],
   "source": [
    "all=[]\n",
    "n_=0\n",
    "for i in range(s):\n",
    "    for j in range(0,i):\n",
    "        for k in range(0,j):\n",
    "            for l in range(0,k):\n",
    "                for m in range(0,l):\n",
    "                    all.append([col[i],col[j],col[k],col[l],col[m]])\n",
    "                    n_+=1\n",
    "                    if n_==98280:\n",
    "                        break"
   ],
   "metadata": {
    "collapsed": false,
    "pycharm": {
     "name": "#%%\n"
    }
   }
  },
  {
   "cell_type": "code",
   "execution_count": 67,
   "outputs": [
    {
     "data": {
      "text/plain": "['پارس', 'بوعلی', 'بفجر', 'افق', 'اردستان']"
     },
     "execution_count": 67,
     "metadata": {},
     "output_type": "execute_result"
    }
   ],
   "source": [
    "all[0]"
   ],
   "metadata": {
    "collapsed": false,
    "pycharm": {
     "name": "#%%\n"
    }
   }
  },
  {
   "cell_type": "code",
   "execution_count": 68,
   "outputs": [
    {
     "data": {
      "text/plain": "['تاصیکو', 'بوعلی', 'بفجر', 'افق', 'اردستان']"
     },
     "execution_count": 68,
     "metadata": {},
     "output_type": "execute_result"
    }
   ],
   "source": [
    "all[1]"
   ],
   "metadata": {
    "collapsed": false,
    "pycharm": {
     "name": "#%%\n"
    }
   }
  },
  {
   "cell_type": "code",
   "execution_count": 69,
   "outputs": [
    {
     "data": {
      "text/plain": "11.642875225810661"
     },
     "execution_count": 69,
     "metadata": {},
     "output_type": "execute_result"
    }
   ],
   "source": [
    "np.sum(np.sum(np.abs(selected.loc[all[0],all[0]])))"
   ],
   "metadata": {
    "collapsed": false,
    "pycharm": {
     "name": "#%%\n"
    }
   }
  },
  {
   "cell_type": "code",
   "execution_count": 70,
   "outputs": [
    {
     "data": {
      "text/plain": "اردستان    12.564644\nافق        13.357749\nبفجر       14.261992\nبوعلی       8.459123\nپارس       11.682576\nتاصیکو     10.608468\nجم پیلن    13.172059\nخراسان     14.593479\nدارو       16.620937\nدعبید      10.732833\nسآبیک      17.600608\nسپید       10.726293\nشاملا      14.577202\nشپدیس      12.357758\nلوتوس      13.340713\nنوری       13.662144\nوکغدیر     13.556603\nبپاس       14.447654\nتجلی       15.321168\nتوسن        7.818160\nساوه       12.009628\nسپیدار     12.579055\nغمایه      14.419416\nکگهر       12.668040\nگوهران     14.828843\nناما       11.661800\nنیان       15.903995\nوهامون     11.047697\nشاخص_کل    16.731417\ndtype: float64"
     },
     "execution_count": 70,
     "metadata": {},
     "output_type": "execute_result"
    }
   ],
   "source": [
    "np.sum(np.abs(selected))"
   ],
   "metadata": {
    "collapsed": false,
    "pycharm": {
     "name": "#%%\n"
    }
   }
  },
  {
   "cell_type": "code",
   "execution_count": 71,
   "outputs": [],
   "source": [
    "min_score = 26\n",
    "ind_=[]\n",
    "for i in all:\n",
    "    if np.sum(np.sum(np.abs(selected.loc[i, i]))) < min_score:\n",
    "        min_score =np.sum(np.sum(np.abs(selected.loc[i, i])))\n",
    "        ind_=i"
   ],
   "metadata": {
    "collapsed": false,
    "pycharm": {
     "name": "#%%\n"
    }
   }
  },
  {
   "cell_type": "code",
   "execution_count": 72,
   "outputs": [
    {
     "data": {
      "text/plain": "7.256196984781791"
     },
     "execution_count": 72,
     "metadata": {},
     "output_type": "execute_result"
    }
   ],
   "source": [
    "min_score"
   ],
   "metadata": {
    "collapsed": false,
    "pycharm": {
     "name": "#%%\n"
    }
   }
  },
  {
   "cell_type": "code",
   "execution_count": 73,
   "outputs": [
    {
     "data": {
      "text/plain": "['وهامون', 'توسن', 'لوتوس', 'خراسان', 'بوعلی']"
     },
     "execution_count": 73,
     "metadata": {},
     "output_type": "execute_result"
    }
   ],
   "source": [
    "ind_"
   ],
   "metadata": {
    "collapsed": false,
    "pycharm": {
     "name": "#%%\n"
    }
   }
  },
  {
   "cell_type": "code",
   "execution_count": null,
   "outputs": [],
   "source": [],
   "metadata": {
    "collapsed": false,
    "pycharm": {
     "name": "#%%\n"
    }
   }
  }
 ],
 "metadata": {
  "kernelspec": {
   "display_name": "Python 3",
   "language": "python",
   "name": "python3"
  },
  "language_info": {
   "codemirror_mode": {
    "name": "ipython",
    "version": 2
   },
   "file_extension": ".py",
   "mimetype": "text/x-python",
   "name": "python",
   "nbconvert_exporter": "python",
   "pygments_lexer": "ipython2",
   "version": "2.7.6"
  }
 },
 "nbformat": 4,
 "nbformat_minor": 0
}