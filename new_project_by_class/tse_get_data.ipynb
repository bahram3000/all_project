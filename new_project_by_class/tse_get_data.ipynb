{
 "cells": [
  {
   "cell_type": "code",
   "execution_count": 1,
   "metadata": {
    "collapsed": true,
    "pycharm": {
     "name": "#%%\n"
    }
   },
   "outputs": [],
   "source": [
    "import os\n",
    "\n",
    "import numpy as np\n",
    "import pandas as pd\n",
    "import finpy_tse as tse\n",
    "import time\n",
    "from persiantools.jdatetime import JalaliDate\n",
    "from tqdm import tqdm\n",
    "import requests"
   ]
  },
  {
   "cell_type": "code",
   "execution_count": 2,
   "outputs": [],
   "source": [
    "def get_path():\n",
    "    try:\n",
    "        path = input(\"Enter your Destination file location :\")\n",
    "        os.listdir(path)\n",
    "    except Exception as e:\n",
    "        with open('errors.txt', 'a') as f:\n",
    "            f.write(f'{e.__cause__}\\n')\n",
    "    return path"
   ],
   "metadata": {
    "collapsed": false,
    "pycharm": {
     "name": "#%%\n"
    }
   }
  },
  {
   "cell_type": "code",
   "execution_count": 3,
   "outputs": [],
   "source": [
    "def internet_connection():\n",
    "    try:\n",
    "        response = requests.get(\"https://www.google.com\", timeout=5)\n",
    "        return True\n",
    "    except requests.ConnectionError:\n",
    "        return False"
   ],
   "metadata": {
    "collapsed": false,
    "pycharm": {
     "name": "#%%\n"
    }
   }
  },
  {
   "cell_type": "code",
   "execution_count": 8,
   "outputs": [],
   "source": [
    "def get_method():\n",
    "    inp = input(\"Enter your get method (all=1,select=2,enter=3) :\")\n",
    "    if inp in ['1', '2', '3']:\n",
    "        return inp\n",
    "    else:\n",
    "        get_method()"
   ],
   "metadata": {
    "collapsed": false,
    "pycharm": {
     "name": "#%%\n"
    }
   }
  },
  {
   "cell_type": "code",
   "execution_count": 9,
   "outputs": [],
   "source": [
    "def create_log():\n",
    "    if 'log.txt' in os.listdir():\n",
    "        with open('log.txt', 'r') as f:\n",
    "            if f.read() == '':\n",
    "                f.close()\n",
    "                with open('log.txt', 'w+') as f:\n",
    "                    f.write(f'{0},{time.localtime(time.time())[:3]},{JalaliDate.today()}\\n')\n",
    "    else:\n",
    "        with open('log.txt', 'w') as f:\n",
    "            f.write(f'{0},{time.localtime(time.time())[:3]},{JalaliDate.today()}\\n')"
   ],
   "metadata": {
    "collapsed": false,
    "pycharm": {
     "name": "#%%\n"
    }
   }
  },
  {
   "cell_type": "code",
   "execution_count": 10,
   "outputs": [],
   "source": [
    "def get_data():\n",
    "    create_log()\n",
    "    with open('log.txt', 'r') as f:\n",
    "        msg = f.readlines()[-1].split(',')\n",
    "\n",
    "    def first_export_data(inp_symbols):\n",
    "        for i in tqdm(inp_symbols.index):\n",
    "            get_df = tse.get_price_history(stock=i, ignore_date=True, double_date=True)\n",
    "            get_df = get_df.loc[:, ['Date', 'Open', 'High', 'Low', 'Close', 'Volume']]\n",
    "            get_df.Date = np.array([str(i)[:10].replace('-', '') for i in get_df.Date])\n",
    "            get_df.reset_index(inplace=True)\n",
    "            get_df.drop('J-Date', axis=1, inplace=True)\n",
    "            get_df.rename(\n",
    "                columns={'Date': '<DTYYYYMMDD>', 'Open': '<Open>', 'High': '<HIGH>', 'Low': '<LOW>', 'Close': '<CLOSE>',\n",
    "                         'Volume': '<VOL>'}, inplace=True)\n",
    "            get_df.to_csv(get_path() + '\\\\' + f\"{inp_symbols['Name(EN)'][i]}\".replace(' ', '_') + \".prn\")\n",
    "\n",
    "    def second_export_data(inp_symbols):\n",
    "        for i in tqdm(inp_symbols.index):\n",
    "            get_df = tse.get_price_history(stock=i, start_date=msg[-1].replace('\\n', ''), double_date=True)\n",
    "            get_df = get_df.loc[:, ['Date', 'Open', 'High', 'Low', 'Close', 'Volume']]\n",
    "            get_df.Date = np.array([str(i)[:10].replace('-', '') for i in get_df.Date])\n",
    "            get_df.reset_index(inplace=True)\n",
    "            get_df.drop('J-Date', axis=1, inplace=True)\n",
    "            get_df.rename(\n",
    "                columns={'Date': '<DTYYYYMMDD>', 'Open': '<Open>', 'High': '<HIGH>', 'Low': '<LOW>',\n",
    "                         'Close': '<CLOSE>',\n",
    "                         'Volume': '<VOL>'}, inplace=True)\n",
    "            df = pd.read_csv(get_path() + '\\\\' + f\"{inp_symbols['Name(EN)'][i]}\".replace(' ', '_') + \".prn\")\n",
    "            get_df = pd.concat([df, get_df], axis=0)\n",
    "            get_df.to_csv(get_path() + '\\\\' + f\"{inp_symbols['Name(EN)'][i]}\".replace(' ', '_') + \".prn\")\n",
    "\n",
    "    def select_symbols(inp_symbols):\n",
    "        select_symbol = []\n",
    "        for i in symbols.index:\n",
    "            select = input(f'if you want this ticker(symbol) -> {i} <- enter 1 else enetr 0:')\n",
    "            if select == '1':\n",
    "                select_symbol.append(i)\n",
    "            elif select == 'end':\n",
    "                break\n",
    "        return inp_symbols.loc[select_symbol, :]\n",
    "\n",
    "    def enter_symbols(inp_symbols):\n",
    "        enter_symbol = []\n",
    "        while True:\n",
    "            inp = input(\"Enter your Ticker(symbol) :\")\n",
    "            if inp in symbols.index:\n",
    "                enter_symbol.append(inp)\n",
    "            else:\n",
    "                break\n",
    "        return inp_symbols.loc[enter_symbol, :]\n",
    "\n",
    "    if msg[0] == '0':\n",
    "        symbols = tse.Build_Market_StockList(\n",
    "            bourse=True,\n",
    "            farabourse=True,\n",
    "            payeh=True,\n",
    "            detailed_list=True,\n",
    "            show_progress=True, save_path='symbols.xlsx')\n",
    "        method = get_method()\n",
    "        if method == '1':\n",
    "            first_export_data(symbols)\n",
    "\n",
    "        elif method == '2':\n",
    "            selected = select_symbols(symbols)\n",
    "            selected.to_excel('select_symbols.xlsx')\n",
    "            selected = selected['Name(EN)']\n",
    "            first_export_data(selected)\n",
    "\n",
    "        elif method == '3':\n",
    "            entered = enter_symbols(symbols)\n",
    "            entered.to_excel(\"enter_symbols.xlsx\")\n",
    "            entered = entered[\"Name(EN)\"]\n",
    "            first_export_data(entered)\n",
    "        with open('log.txt', 'a') as f:\n",
    "            f.write(f'{1},{time.localtime(time.time())[:3]},{JalaliDate.today()}\\n')\n",
    "    else:\n",
    "        symbols = pd.read_excel('symbols.xlsx')\n",
    "        inp = input('if you want continue same as past enter 1 else 0 :')\n",
    "        if inp == '1':\n",
    "            if 'select_symbols.xlsx' or 'enter_symbols.xlsx' not in os.listdir():\n",
    "                uti_symbols = symbols[\"Name(EN)\"]\n",
    "                second_export_data(uti_symbols)\n",
    "            elif 'select_symbols.xlsx' in os.listdir():\n",
    "                uti_symbols = pd.read_excel('select_symbols.xlsx')[\"Name(EN)\"]\n",
    "                second_export_data(uti_symbols)\n",
    "            elif 'enter_symbols.xlsx' in os.listdir():\n",
    "                uti_symbols = pd.read_excel('enter_symbols.xlsx')[\"Name(EN)\"]\n",
    "                second_export_data(uti_symbols)\n",
    "            with open('log.txt', 'a') as f:\n",
    "                f.write(f'{int(msg[0]) + 1},{time.localtime(time.time())[:3]},{JalaliDate.today()}\\n')\n",
    "        elif inp == '0':\n",
    "            try:\n",
    "                os.rmdir('select_symbols.xlsx')\n",
    "                os.rmdir('enter_symbols.xlsx')\n",
    "            except:\n",
    "                pass\n",
    "            method = get_method()\n",
    "            if method == '1':\n",
    "                second_export_data(symbols)\n",
    "            elif method == '2':\n",
    "                selected = select_symbols(symbols)\n",
    "                selected.to_excel('select_symbols.xlsx')\n",
    "                selected = selected['Name(EN)']\n",
    "                second_export_data(selected)\n",
    "            elif method == '3':\n",
    "                entered = enter_symbols(symbols)\n",
    "                entered.to_excel(\"enter_symbols.xlsx\")\n",
    "                entered = entered[\"Name(EN)\"]\n",
    "                second_export_data(entered)\n",
    "            with open('log.txt', 'a') as f:\n",
    "                f.write(f'{int(msg[0]) + 1},{time.localtime(time.time())[:3]},{JalaliDate.today()}\\n')"
   ],
   "metadata": {
    "collapsed": false,
    "pycharm": {
     "name": "#%%\n"
    }
   }
  },
  {
   "cell_type": "code",
   "execution_count": 11,
   "outputs": [
    {
     "name": "stdout",
     "output_type": "stream",
     "text": [
      "Progress : 100 % , Done in 31 seconds!\n",
      "Save path does not exist, you can handle saving this data by returned dataframe as Excel using \".to_excel()\", if you will!\n",
      "Save path does not exist, you can handle saving this data by returned dataframe as CSV using \".to_csv()\", if you will!\n"
     ]
    },
    {
     "name": "stderr",
     "output_type": "stream",
     "text": [
      "  0%|          | 0/5 [00:28<?, ?it/s]\n"
     ]
    },
    {
     "ename": "KeyError",
     "evalue": "'Name(EN)'",
     "output_type": "error",
     "traceback": [
      "\u001B[1;31m---------------------------------------------------------------------------\u001B[0m",
      "\u001B[1;31mKeyError\u001B[0m                                  Traceback (most recent call last)",
      "File \u001B[1;32m~\\PycharmProjects\\venv\\lib\\site-packages\\pandas\\core\\indexes\\base.py:3802\u001B[0m, in \u001B[0;36mIndex.get_loc\u001B[1;34m(self, key, method, tolerance)\u001B[0m\n\u001B[0;32m   3801\u001B[0m \u001B[38;5;28;01mtry\u001B[39;00m:\n\u001B[1;32m-> 3802\u001B[0m     \u001B[38;5;28;01mreturn\u001B[39;00m \u001B[38;5;28;43mself\u001B[39;49m\u001B[38;5;241;43m.\u001B[39;49m\u001B[43m_engine\u001B[49m\u001B[38;5;241;43m.\u001B[39;49m\u001B[43mget_loc\u001B[49m\u001B[43m(\u001B[49m\u001B[43mcasted_key\u001B[49m\u001B[43m)\u001B[49m\n\u001B[0;32m   3803\u001B[0m \u001B[38;5;28;01mexcept\u001B[39;00m \u001B[38;5;167;01mKeyError\u001B[39;00m \u001B[38;5;28;01mas\u001B[39;00m err:\n",
      "File \u001B[1;32m~\\PycharmProjects\\venv\\lib\\site-packages\\pandas\\_libs\\index.pyx:138\u001B[0m, in \u001B[0;36mpandas._libs.index.IndexEngine.get_loc\u001B[1;34m()\u001B[0m\n",
      "File \u001B[1;32m~\\PycharmProjects\\venv\\lib\\site-packages\\pandas\\_libs\\index.pyx:165\u001B[0m, in \u001B[0;36mpandas._libs.index.IndexEngine.get_loc\u001B[1;34m()\u001B[0m\n",
      "File \u001B[1;32mpandas\\_libs\\hashtable_class_helper.pxi:5745\u001B[0m, in \u001B[0;36mpandas._libs.hashtable.PyObjectHashTable.get_item\u001B[1;34m()\u001B[0m\n",
      "File \u001B[1;32mpandas\\_libs\\hashtable_class_helper.pxi:5753\u001B[0m, in \u001B[0;36mpandas._libs.hashtable.PyObjectHashTable.get_item\u001B[1;34m()\u001B[0m\n",
      "\u001B[1;31mKeyError\u001B[0m: 'Name(EN)'",
      "\nThe above exception was the direct cause of the following exception:\n",
      "\u001B[1;31mKeyError\u001B[0m                                  Traceback (most recent call last)",
      "Cell \u001B[1;32mIn[11], line 2\u001B[0m\n\u001B[0;32m      1\u001B[0m \u001B[38;5;28;01mif\u001B[39;00m internet_connection():\n\u001B[1;32m----> 2\u001B[0m     \u001B[43mget_data\u001B[49m\u001B[43m(\u001B[49m\u001B[43m)\u001B[49m\n",
      "Cell \u001B[1;32mIn[10], line 68\u001B[0m, in \u001B[0;36mget_data\u001B[1;34m()\u001B[0m\n\u001B[0;32m     66\u001B[0m     selected\u001B[38;5;241m.\u001B[39mto_excel(\u001B[38;5;124m'\u001B[39m\u001B[38;5;124mselect_symbols.xlsx\u001B[39m\u001B[38;5;124m'\u001B[39m)\n\u001B[0;32m     67\u001B[0m     selected \u001B[38;5;241m=\u001B[39m selected[\u001B[38;5;124m'\u001B[39m\u001B[38;5;124mName(EN)\u001B[39m\u001B[38;5;124m'\u001B[39m]\n\u001B[1;32m---> 68\u001B[0m     \u001B[43mfirst_export_data\u001B[49m\u001B[43m(\u001B[49m\u001B[43mselected\u001B[49m\u001B[43m)\u001B[49m\n\u001B[0;32m     70\u001B[0m \u001B[38;5;28;01melif\u001B[39;00m method \u001B[38;5;241m==\u001B[39m \u001B[38;5;124m'\u001B[39m\u001B[38;5;124m3\u001B[39m\u001B[38;5;124m'\u001B[39m:\n\u001B[0;32m     71\u001B[0m     entered \u001B[38;5;241m=\u001B[39m enter_symbols(symbols)\n",
      "Cell \u001B[1;32mIn[10], line 16\u001B[0m, in \u001B[0;36mget_data.<locals>.first_export_data\u001B[1;34m(inp_symbols)\u001B[0m\n\u001B[0;32m     12\u001B[0m get_df\u001B[38;5;241m.\u001B[39mdrop(\u001B[38;5;124m'\u001B[39m\u001B[38;5;124mJ-Date\u001B[39m\u001B[38;5;124m'\u001B[39m, axis\u001B[38;5;241m=\u001B[39m\u001B[38;5;241m1\u001B[39m, inplace\u001B[38;5;241m=\u001B[39m\u001B[38;5;28;01mTrue\u001B[39;00m)\n\u001B[0;32m     13\u001B[0m get_df\u001B[38;5;241m.\u001B[39mrename(\n\u001B[0;32m     14\u001B[0m     columns\u001B[38;5;241m=\u001B[39m{\u001B[38;5;124m'\u001B[39m\u001B[38;5;124mDate\u001B[39m\u001B[38;5;124m'\u001B[39m: \u001B[38;5;124m'\u001B[39m\u001B[38;5;124m<DTYYYYMMDD>\u001B[39m\u001B[38;5;124m'\u001B[39m, \u001B[38;5;124m'\u001B[39m\u001B[38;5;124mOpen\u001B[39m\u001B[38;5;124m'\u001B[39m: \u001B[38;5;124m'\u001B[39m\u001B[38;5;124m<Open>\u001B[39m\u001B[38;5;124m'\u001B[39m, \u001B[38;5;124m'\u001B[39m\u001B[38;5;124mHigh\u001B[39m\u001B[38;5;124m'\u001B[39m: \u001B[38;5;124m'\u001B[39m\u001B[38;5;124m<HIGH>\u001B[39m\u001B[38;5;124m'\u001B[39m, \u001B[38;5;124m'\u001B[39m\u001B[38;5;124mLow\u001B[39m\u001B[38;5;124m'\u001B[39m: \u001B[38;5;124m'\u001B[39m\u001B[38;5;124m<LOW>\u001B[39m\u001B[38;5;124m'\u001B[39m, \u001B[38;5;124m'\u001B[39m\u001B[38;5;124mClose\u001B[39m\u001B[38;5;124m'\u001B[39m: \u001B[38;5;124m'\u001B[39m\u001B[38;5;124m<CLOSE>\u001B[39m\u001B[38;5;124m'\u001B[39m,\n\u001B[0;32m     15\u001B[0m              \u001B[38;5;124m'\u001B[39m\u001B[38;5;124mVolume\u001B[39m\u001B[38;5;124m'\u001B[39m: \u001B[38;5;124m'\u001B[39m\u001B[38;5;124m<VOL>\u001B[39m\u001B[38;5;124m'\u001B[39m}, inplace\u001B[38;5;241m=\u001B[39m\u001B[38;5;28;01mTrue\u001B[39;00m)\n\u001B[1;32m---> 16\u001B[0m get_df\u001B[38;5;241m.\u001B[39mto_csv(get_path() \u001B[38;5;241m+\u001B[39m \u001B[38;5;124m'\u001B[39m\u001B[38;5;130;01m\\\\\u001B[39;00m\u001B[38;5;124m'\u001B[39m \u001B[38;5;241m+\u001B[39m \u001B[38;5;124mf\u001B[39m\u001B[38;5;124m\"\u001B[39m\u001B[38;5;132;01m{\u001B[39;00m\u001B[43minp_symbols\u001B[49m\u001B[43m[\u001B[49m\u001B[38;5;124;43m'\u001B[39;49m\u001B[38;5;124;43mName(EN)\u001B[39;49m\u001B[38;5;124;43m'\u001B[39;49m\u001B[43m]\u001B[49m[i]\u001B[38;5;132;01m}\u001B[39;00m\u001B[38;5;124m\"\u001B[39m\u001B[38;5;241m.\u001B[39mreplace(\u001B[38;5;124m'\u001B[39m\u001B[38;5;124m \u001B[39m\u001B[38;5;124m'\u001B[39m, \u001B[38;5;124m'\u001B[39m\u001B[38;5;124m_\u001B[39m\u001B[38;5;124m'\u001B[39m) \u001B[38;5;241m+\u001B[39m \u001B[38;5;124m\"\u001B[39m\u001B[38;5;124m.prn\u001B[39m\u001B[38;5;124m\"\u001B[39m)\n",
      "File \u001B[1;32m~\\PycharmProjects\\venv\\lib\\site-packages\\pandas\\core\\series.py:981\u001B[0m, in \u001B[0;36mSeries.__getitem__\u001B[1;34m(self, key)\u001B[0m\n\u001B[0;32m    978\u001B[0m     \u001B[38;5;28;01mreturn\u001B[39;00m \u001B[38;5;28mself\u001B[39m\u001B[38;5;241m.\u001B[39m_values[key]\n\u001B[0;32m    980\u001B[0m \u001B[38;5;28;01melif\u001B[39;00m key_is_scalar:\n\u001B[1;32m--> 981\u001B[0m     \u001B[38;5;28;01mreturn\u001B[39;00m \u001B[38;5;28;43mself\u001B[39;49m\u001B[38;5;241;43m.\u001B[39;49m\u001B[43m_get_value\u001B[49m\u001B[43m(\u001B[49m\u001B[43mkey\u001B[49m\u001B[43m)\u001B[49m\n\u001B[0;32m    983\u001B[0m \u001B[38;5;28;01mif\u001B[39;00m is_hashable(key):\n\u001B[0;32m    984\u001B[0m     \u001B[38;5;66;03m# Otherwise index.get_value will raise InvalidIndexError\u001B[39;00m\n\u001B[0;32m    985\u001B[0m     \u001B[38;5;28;01mtry\u001B[39;00m:\n\u001B[0;32m    986\u001B[0m         \u001B[38;5;66;03m# For labels that don't resolve as scalars like tuples and frozensets\u001B[39;00m\n",
      "File \u001B[1;32m~\\PycharmProjects\\venv\\lib\\site-packages\\pandas\\core\\series.py:1089\u001B[0m, in \u001B[0;36mSeries._get_value\u001B[1;34m(self, label, takeable)\u001B[0m\n\u001B[0;32m   1086\u001B[0m     \u001B[38;5;28;01mreturn\u001B[39;00m \u001B[38;5;28mself\u001B[39m\u001B[38;5;241m.\u001B[39m_values[label]\n\u001B[0;32m   1088\u001B[0m \u001B[38;5;66;03m# Similar to Index.get_value, but we do not fall back to positional\u001B[39;00m\n\u001B[1;32m-> 1089\u001B[0m loc \u001B[38;5;241m=\u001B[39m \u001B[38;5;28;43mself\u001B[39;49m\u001B[38;5;241;43m.\u001B[39;49m\u001B[43mindex\u001B[49m\u001B[38;5;241;43m.\u001B[39;49m\u001B[43mget_loc\u001B[49m\u001B[43m(\u001B[49m\u001B[43mlabel\u001B[49m\u001B[43m)\u001B[49m\n\u001B[0;32m   1090\u001B[0m \u001B[38;5;28;01mreturn\u001B[39;00m \u001B[38;5;28mself\u001B[39m\u001B[38;5;241m.\u001B[39mindex\u001B[38;5;241m.\u001B[39m_get_values_for_loc(\u001B[38;5;28mself\u001B[39m, loc, label)\n",
      "File \u001B[1;32m~\\PycharmProjects\\venv\\lib\\site-packages\\pandas\\core\\indexes\\base.py:3804\u001B[0m, in \u001B[0;36mIndex.get_loc\u001B[1;34m(self, key, method, tolerance)\u001B[0m\n\u001B[0;32m   3802\u001B[0m     \u001B[38;5;28;01mreturn\u001B[39;00m \u001B[38;5;28mself\u001B[39m\u001B[38;5;241m.\u001B[39m_engine\u001B[38;5;241m.\u001B[39mget_loc(casted_key)\n\u001B[0;32m   3803\u001B[0m \u001B[38;5;28;01mexcept\u001B[39;00m \u001B[38;5;167;01mKeyError\u001B[39;00m \u001B[38;5;28;01mas\u001B[39;00m err:\n\u001B[1;32m-> 3804\u001B[0m     \u001B[38;5;28;01mraise\u001B[39;00m \u001B[38;5;167;01mKeyError\u001B[39;00m(key) \u001B[38;5;28;01mfrom\u001B[39;00m \u001B[38;5;21;01merr\u001B[39;00m\n\u001B[0;32m   3805\u001B[0m \u001B[38;5;28;01mexcept\u001B[39;00m \u001B[38;5;167;01mTypeError\u001B[39;00m:\n\u001B[0;32m   3806\u001B[0m     \u001B[38;5;66;03m# If we have a listlike key, _check_indexing_error will raise\u001B[39;00m\n\u001B[0;32m   3807\u001B[0m     \u001B[38;5;66;03m#  InvalidIndexError. Otherwise we fall through and re-raise\u001B[39;00m\n\u001B[0;32m   3808\u001B[0m     \u001B[38;5;66;03m#  the TypeError.\u001B[39;00m\n\u001B[0;32m   3809\u001B[0m     \u001B[38;5;28mself\u001B[39m\u001B[38;5;241m.\u001B[39m_check_indexing_error(key)\n",
      "\u001B[1;31mKeyError\u001B[0m: 'Name(EN)'"
     ]
    }
   ],
   "source": [
    "if internet_connection():\n",
    "\n",
    "    get_data()"
   ],
   "metadata": {
    "collapsed": false,
    "pycharm": {
     "name": "#%%\n"
    }
   }
  },
  {
   "cell_type": "code",
   "execution_count": null,
   "outputs": [],
   "source": [],
   "metadata": {
    "collapsed": false,
    "pycharm": {
     "name": "#%%\n"
    }
   }
  }
 ],
 "metadata": {
  "kernelspec": {
   "display_name": "Python 3",
   "language": "python",
   "name": "python3"
  },
  "language_info": {
   "codemirror_mode": {
    "name": "ipython",
    "version": 2
   },
   "file_extension": ".py",
   "mimetype": "text/x-python",
   "name": "python",
   "nbconvert_exporter": "python",
   "pygments_lexer": "ipython2",
   "version": "2.7.6"
  }
 },
 "nbformat": 4,
 "nbformat_minor": 0
}