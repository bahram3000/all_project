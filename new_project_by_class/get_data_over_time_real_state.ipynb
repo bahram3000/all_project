{
 "cells": [
  {
   "cell_type": "code",
   "execution_count": 1,
   "metadata": {
    "collapsed": true,
    "pycharm": {
     "name": "#%%\n"
    }
   },
   "outputs": [],
   "source": [
    "import requests\n",
    "import sqlite3\n",
    "import pandas as pd\n",
    "import numpy as np\n",
    "import time\n",
    "from tqdm import tqdm\n",
    "import os"
   ]
  },
  {
   "cell_type": "code",
   "execution_count": 2,
   "outputs": [],
   "source": [
    "#time.time()"
   ],
   "metadata": {
    "collapsed": false,
    "pycharm": {
     "name": "#%%\n"
    }
   }
  },
  {
   "cell_type": "code",
   "execution_count": 3,
   "outputs": [],
   "source": [
    "if 'log.txt' in os.listdir():\n",
    "    with open('log.txt', 'r') as f:\n",
    "        if f.read() == '':\n",
    "            f.close()\n",
    "            with open('log.txt','w+') as f:\n",
    "                f.write(f'{0},{time.time()}')\n",
    "else:\n",
    "    with open('log.txt', 'w') as f:\n",
    "        f.write(f'{0},{time.time()}')"
   ],
   "metadata": {
    "collapsed": false,
    "pycharm": {
     "name": "#%%\n"
    }
   }
  },
  {
   "cell_type": "code",
   "execution_count": 18,
   "outputs": [],
   "source": [
    "def internet_connection():\n",
    "    try:\n",
    "        response = requests.get(\"https://www.google.com\", timeout=5)\n",
    "        return True\n",
    "    except requests.ConnectionError:\n",
    "        return False"
   ],
   "metadata": {
    "collapsed": false,
    "pycharm": {
     "name": "#%%\n"
    }
   }
  },
  {
   "cell_type": "code",
   "execution_count": 4,
   "outputs": [],
   "source": [
    "def get_base_url(inp=\"https://api.divar.ir/v8/web-search/30/plot-old\"):\n",
    "    inp2 = input('Enter your url :')\n",
    "    if inp2 == '':\n",
    "        return inp\n",
    "    else:\n",
    "        return inp2\n",
    "\n",
    "\n",
    "def get_base_url2(inp=None):\n",
    "    if inp:\n",
    "        return inp\n",
    "    else:\n",
    "        return \"https://api.divar.ir/v8/web-search/30/plot-old\"\n",
    "\n",
    "\n",
    "def get_last_post_data(inp=None):\n",
    "    if inp:\n",
    "        return inp\n",
    "    else:\n",
    "        return int(str(time.time()).replace('.', ''))"
   ],
   "metadata": {
    "collapsed": false,
    "pycharm": {
     "name": "#%%\n"
    }
   }
  },
  {
   "cell_type": "code",
   "execution_count": 5,
   "outputs": [],
   "source": [
    "base_url = get_base_url2()\n",
    "last_post_date = get_last_post_data()"
   ],
   "metadata": {
    "collapsed": false,
    "pycharm": {
     "name": "#%%\n"
    }
   }
  },
  {
   "cell_type": "code",
   "execution_count": 6,
   "outputs": [],
   "source": [
    "def get_tokens(inp_url, inp_last_post_date):\n",
    "    tokens = []\n",
    "    k = 0\n",
    "    l_p_date = inp_last_post_date\n",
    "    while True:\n",
    "        js_v = {\"page\": k,\n",
    "                \"json_schema\": {\"category\": {\"value\": \"plot-old\"}, \"query\": \"زمین\", \"sort\": {\"value\": \"sort_date\"}},\n",
    "                \"last-post-date\": l_p_date}\n",
    "        res_v = requests.post(url=base_url, json=js_v)\n",
    "        if res_v.status_code == 200:\n",
    "            #print(k, ' done', end='')\n",
    "            data_v = res_v.json()\n",
    "            l_p_date = data_v['last_post_date']\n",
    "            for j in data_v[\"web_widgets\"][\"post_list\"]:\n",
    "                try:\n",
    "                    tokens.append(j['data']['token'])\n",
    "                except:\n",
    "                    continue\n",
    "            print(f'{k}:done', end=' ')\n",
    "        else:\n",
    "            print('end')\n",
    "            break\n",
    "        k += 1\n",
    "        time.sleep(0.5)\n",
    "\n",
    "    return tokens"
   ],
   "metadata": {
    "collapsed": false,
    "pycharm": {
     "name": "#%%\n"
    }
   }
  },
  {
   "cell_type": "code",
   "execution_count": 7,
   "outputs": [],
   "source": [
    "def second_get_tokens(inp_url, inp_date, end_date):\n",
    "    tokens = []\n",
    "    k = 0\n",
    "    l_p_date = inp_date\n",
    "    while True:\n",
    "        js_v = {\"page\": k,\n",
    "                \"json_schema\": {\"category\": {\"value\": \"plot-old\"}, \"query\": \"زمین\", \"sort\": {\"value\": \"sort_date\"}},\n",
    "                \"last-post-date\": l_p_date}\n",
    "        res_v = requests.post(url=base_url, json=js_v)\n",
    "        if res_v.json()['last_post_date'] > end_date and res_v.status_code == 200:\n",
    "            #print(k, ' done', end='')\n",
    "            data_v = res_v.json()\n",
    "            l_p_date = data_v['last_post_date']\n",
    "            for j in data_v[\"web_widgets\"][\"post_list\"]:\n",
    "                try:\n",
    "                    tokens.append(j['data']['token'])\n",
    "                except:\n",
    "                    continue\n",
    "            print(f'{k}:done', end=' ')\n",
    "        else:\n",
    "            print('end')\n",
    "            break\n",
    "        k += 1\n",
    "        time.sleep(0.5)\n",
    "    return tokens"
   ],
   "metadata": {
    "collapsed": false,
    "pycharm": {
     "name": "#%%\n"
    }
   }
  },
  {
   "cell_type": "code",
   "execution_count": 8,
   "outputs": [],
   "source": [
    "def adad_farsi_to_english(inp: str):\n",
    "    dc = {'۰': '0', '۱': '1', '۲': '2', '۳': '3', '۴': '4', '۵': '5', '۶': '6', '۷': '7', '۸': '8', '۹': '9'}\n",
    "    out = ''\n",
    "    for i in inp:\n",
    "        if i in dc.keys():\n",
    "            out += dc[i]\n",
    "        else:\n",
    "            out += ''\n",
    "    if out.isdecimal():\n",
    "        return int(out)\n",
    "    else:\n",
    "        return None"
   ],
   "metadata": {
    "collapsed": false,
    "pycharm": {
     "name": "#%%\n"
    }
   }
  },
  {
   "cell_type": "code",
   "execution_count": 9,
   "outputs": [],
   "source": [
    "def get_data_by_tokens(inp_tokens):\n",
    "    df_dict = {'addres': [], 'area': [], 'price': []}\n",
    "    k = 1\n",
    "    for i in inp_tokens:\n",
    "        print(k, end=' ')\n",
    "        url_v = \"https://api.divar.ir/v8/posts-v2/web/\" + i\n",
    "        res_v = requests.get(url_v)\n",
    "        if res_v.status_code == 200:\n",
    "            data_v = res_v.json()\n",
    "            try:\n",
    "                df_dict['addres'].append(data_v['seo']['title'])\n",
    "                for j in range(len(data_v['sections'])):\n",
    "                    if data_v['sections'][j]['section_name'] == 'LIST_DATA':\n",
    "                        df_dict['area'].append(\n",
    "                            adad_farsi_to_english(data_v['sections'][j]['widgets'][0]['data']['value']))\n",
    "                        df_dict['price'].append(adad_farsi_to_english(data_v[\n",
    "                                                                          'sections'][j]['widgets'][1]['data'][\n",
    "                                                                          'value']))\n",
    "                        #df_dict['unit_price'].append(adad_farsi_to_english(data_v[\n",
    "                        #'sections'][j]['widgets'][2]['data']['value']))\n",
    "            except:\n",
    "                continue\n",
    "        time.sleep(0.5)\n",
    "        k += 1\n",
    "    return pd.DataFrame(df_dict)"
   ],
   "metadata": {
    "collapsed": false,
    "pycharm": {
     "name": "#%%\n"
    }
   }
  },
  {
   "cell_type": "code",
   "execution_count": 10,
   "outputs": [],
   "source": [
    "#a = pd.DataFrame({'addres': [], 'area': [], 'price': []})\n",
    "#a.loc[len(a.index) + 1] = ['a', 200, 1000]\n",
    "#a"
   ],
   "metadata": {
    "collapsed": false,
    "pycharm": {
     "name": "#%%\n"
    }
   }
  },
  {
   "cell_type": "code",
   "execution_count": 11,
   "outputs": [],
   "source": [
    "#a.loc[len(a.index) + 1] = ['b', 2, 2000]\n",
    "#a"
   ],
   "metadata": {
    "collapsed": false,
    "pycharm": {
     "name": "#%%\n"
    }
   }
  },
  {
   "cell_type": "code",
   "execution_count": 12,
   "outputs": [],
   "source": [
    "#a.loc[len(a.index) + 1] = ['c', 3, 3500]\n",
    "#a"
   ],
   "metadata": {
    "collapsed": false,
    "pycharm": {
     "name": "#%%\n"
    }
   }
  },
  {
   "cell_type": "code",
   "execution_count": 13,
   "outputs": [],
   "source": [
    "def first_get_data_by_tokens(inp_tokens):\n",
    "    df_func = pd.DataFrame({'addres': [], 'area': [], 'price': []})\n",
    "    addres=''\n",
    "    area=0\n",
    "    price=0\n",
    "    for i in tqdm(inp_tokens):\n",
    "        #df_item = []\n",
    "        try:\n",
    "            url_v = \"https://api.divar.ir/v8/posts-v2/web/\" + i\n",
    "            res_v = requests.get(url_v)\n",
    "            if res_v.status_code == 200:\n",
    "                try:\n",
    "                    data_v = res_v.json()\n",
    "                    #print(k, end=' ')\n",
    "                    addres=data_v['seo']['title']\n",
    "                    for j in range(len(data_v['sections'])):\n",
    "                        if data_v['sections'][j]['section_name'] == 'LIST_DATA':\n",
    "                            area=adad_farsi_to_english(data_v['sections'][j]['widgets'][0]['data']['value'])\n",
    "                            price=adad_farsi_to_english(data_v['sections'][j]['widgets'][1]['data']['value'])\n",
    "                            #print([addres,area,price])\n",
    "                            df_func.loc[len(df_func.index) + 1] = [addres,area,price]\n",
    "                            break\n",
    "\n",
    "                except:\n",
    "                    continue\n",
    "        except:\n",
    "            continue\n",
    "\n",
    "    return df_func"
   ],
   "metadata": {
    "collapsed": false,
    "pycharm": {
     "name": "#%%\n"
    }
   }
  },
  {
   "cell_type": "code",
   "execution_count": 14,
   "outputs": [],
   "source": [
    "def second_get_data_by_tokens(inp_tokens):\n",
    "    df_func = pd.read_excel('out_data.xlsx')\n",
    "    for i in tqdm(inp_tokens):\n",
    "        try:\n",
    "            url_v = \"https://api.divar.ir/v8/posts-v2/web/\" + i\n",
    "            res_v = requests.get(url_v)\n",
    "            if res_v.status_code == 200:\n",
    "                data_v = res_v.json()\n",
    "                try:\n",
    "                    adres = data_v['seo']['title']\n",
    "                    for j in range(len(data_v['sections'])):\n",
    "                        if data_v['sections'][j]['section_name'] == 'LIST_DATA':\n",
    "                            area = adad_farsi_to_english(data_v['sections'][j]['widgets'][0]['data']['value'])\n",
    "                            price = adad_farsi_to_english(data_v[\n",
    "                                                              'sections'][j]['widgets'][1]['data'][\n",
    "                                                              'value'])\n",
    "                            df_func.loc[len(df_func.index) + 1] = [adres, area, price]\n",
    "                            break\n",
    "                except:\n",
    "                    continue\n",
    "        except:\n",
    "            continue\n",
    "    return df_func"
   ],
   "metadata": {
    "collapsed": false,
    "pycharm": {
     "name": "#%%\n"
    }
   }
  },
  {
   "cell_type": "code",
   "execution_count": 15,
   "outputs": [],
   "source": [
    "#first_url='https://api.divar.ir/v8/web-search/kashan/buy-old-house?goods-business-type=all&q=%D8%B2%D9%85%DB%8C%D9%86'\n",
    "#first_param='goods-business-type=all&q=%D8%B2%D9%85%DB%8C%D9%86'\n",
    "#requests.get(first_url,params=first_param).status_code\n",
    "#a=requests.get(first_url,params=first_param).json()"
   ],
   "metadata": {
    "collapsed": false,
    "pycharm": {
     "name": "#%%\n"
    }
   }
  },
  {
   "cell_type": "code",
   "execution_count": 16,
   "outputs": [],
   "source": [
    "#a['first_post_date']"
   ],
   "metadata": {
    "collapsed": false,
    "pycharm": {
     "name": "#%%\n"
    }
   }
  },
  {
   "cell_type": "code",
   "execution_count": 17,
   "outputs": [
    {
     "name": "stdout",
     "output_type": "stream",
     "text": [
      "end\n"
     ]
    },
    {
     "name": "stderr",
     "output_type": "stream",
     "text": [
      "0it [00:00, ?it/s]\n"
     ]
    }
   ],
   "source": [
    "if 'log.txt' in os.listdir() and internet_connection():\n",
    "    first_url = 'https://api.divar.ir/v8/web-search/kashan/buy-old-house?goods-business-type=all&q=%D8%B2%D9%85%DB%8C%D9%86'\n",
    "    first_param = 'goods-business-type=all&q=%D8%B2%D9%85%DB%8C%D9%86'\n",
    "    f = open('log.txt', 'r')\n",
    "    msg = f.read().split(',')\n",
    "    f.close()\n",
    "    if msg[0] == '0':\n",
    "        f = open('log.txt', 'w+')\n",
    "        a = requests.get(url=first_url, params=first_param).json()['first_post_date']\n",
    "        f.write(f'{1},{time.time()},{a}')\n",
    "        f.close()\n",
    "        tokens_ = get_tokens(base_url, last_post_date)\n",
    "        df = first_get_data_by_tokens(tokens_)\n",
    "        df.to_excel('out_data.xlsx')\n",
    "    else:\n",
    "        f = open('log.txt', 'w+')\n",
    "        #end_point_last_post_date = int(msg[2].replace('.', ''))\n",
    "        a = requests.get(url=first_url, params=first_param).json()['first_post_date']\n",
    "        f.write(f'{int(msg[0]) + 1},{time.time()},{a}')\n",
    "        f.close()\n",
    "        end_date = int(msg[2])\n",
    "        tokens_ = second_get_tokens(base_url, last_post_date, end_date)\n",
    "        df = second_get_data_by_tokens(tokens_)\n",
    "        df.to_excel('out_data.xlsx')"
   ],
   "metadata": {
    "collapsed": false,
    "pycharm": {
     "name": "#%%\n"
    }
   }
  },
  {
   "cell_type": "code",
   "execution_count": null,
   "outputs": [],
   "source": [
    "\n"
   ],
   "metadata": {
    "collapsed": false,
    "pycharm": {
     "name": "#%%\n",
     "is_executing": true
    }
   }
  },
  {
   "cell_type": "code",
   "execution_count": null,
   "outputs": [],
   "source": [],
   "metadata": {
    "collapsed": false,
    "pycharm": {
     "name": "#%%\n",
     "is_executing": true
    }
   }
  },
  {
   "cell_type": "code",
   "execution_count": 19,
   "outputs": [],
   "source": [],
   "metadata": {
    "collapsed": false,
    "pycharm": {
     "name": "#%%\n"
    }
   }
  },
  {
   "cell_type": "code",
   "execution_count": 19,
   "outputs": [],
   "source": [],
   "metadata": {
    "collapsed": false,
    "pycharm": {
     "name": "#%%\n"
    }
   }
  }
 ],
 "metadata": {
  "kernelspec": {
   "display_name": "Python 3",
   "language": "python",
   "name": "python3"
  },
  "language_info": {
   "codemirror_mode": {
    "name": "ipython",
    "version": 2
   },
   "file_extension": ".py",
   "mimetype": "text/x-python",
   "name": "python",
   "nbconvert_exporter": "python",
   "pygments_lexer": "ipython2",
   "version": "2.7.6"
  }
 },
 "nbformat": 4,
 "nbformat_minor": 0
}