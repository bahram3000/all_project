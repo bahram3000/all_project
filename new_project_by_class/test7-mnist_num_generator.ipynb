{
 "cells": [
  {
   "cell_type": "code",
   "execution_count": 1,
   "metadata": {
    "collapsed": true,
    "pycharm": {
     "name": "#%%\n"
    }
   },
   "outputs": [],
   "source": [
    "import numpy as np\n",
    "import pandas as pd\n",
    "import matplotlib.pyplot as plt\n",
    "from random import choice"
   ]
  },
  {
   "cell_type": "code",
   "execution_count": 2,
   "outputs": [],
   "source": [
    "from tensorflow.keras.datasets import mnist\n",
    "\n",
    "(x_train, y_train), (x_test, y_test) = mnist.load_data()"
   ],
   "metadata": {
    "collapsed": false,
    "pycharm": {
     "name": "#%%\n"
    }
   }
  },
  {
   "cell_type": "code",
   "execution_count": 3,
   "outputs": [],
   "source": [
    "x_train = x_train / 255\n",
    "x_test = x_test / 255"
   ],
   "metadata": {
    "collapsed": false,
    "pycharm": {
     "name": "#%%\n"
    }
   }
  },
  {
   "cell_type": "code",
   "execution_count": 4,
   "outputs": [
    {
     "data": {
      "text/plain": "(60000, 28, 28)"
     },
     "execution_count": 4,
     "metadata": {},
     "output_type": "execute_result"
    }
   ],
   "source": [
    "x_train.shape"
   ],
   "metadata": {
    "collapsed": false,
    "pycharm": {
     "name": "#%%\n"
    }
   }
  },
  {
   "cell_type": "code",
   "execution_count": 5,
   "outputs": [
    {
     "data": {
      "text/plain": "numpy.ndarray"
     },
     "execution_count": 5,
     "metadata": {},
     "output_type": "execute_result"
    }
   ],
   "source": [
    "type(x_train[0])"
   ],
   "metadata": {
    "collapsed": false,
    "pycharm": {
     "name": "#%%\n"
    }
   }
  },
  {
   "cell_type": "code",
   "execution_count": 8,
   "outputs": [
    {
     "data": {
      "text/plain": "<matplotlib.image.AxesImage at 0x200648643a0>"
     },
     "execution_count": 8,
     "metadata": {},
     "output_type": "execute_result"
    },
    {
     "data": {
      "text/plain": "<Figure size 640x480 with 1 Axes>",
      "image/png": "[encoded data removed]"
     },
     "metadata": {},
     "output_type": "display_data"
    }
   ],
   "source": [
    "plt.imshow(x_train[1])"
   ],
   "metadata": {
    "collapsed": false,
    "pycharm": {
     "name": "#%%\n"
    }
   }
  },
  {
   "cell_type": "code",
   "execution_count": 9,
   "outputs": [],
   "source": [
    "#x_train[0]"
   ],
   "metadata": {
    "collapsed": false,
    "pycharm": {
     "name": "#%%\n"
    }
   }
  },
  {
   "cell_type": "code",
   "execution_count": 10,
   "outputs": [],
   "source": [
    "#x_train.shape"
   ],
   "metadata": {
    "collapsed": false,
    "pycharm": {
     "name": "#%%\n"
    }
   }
  },
  {
   "cell_type": "code",
   "execution_count": 11,
   "outputs": [],
   "source": [
    "from tensorflow.keras.layers import Dense, Dropout, Flatten\n",
    "from tensorflow.keras.models import Sequential"
   ],
   "metadata": {
    "collapsed": false,
    "pycharm": {
     "name": "#%%\n"
    }
   }
  },
  {
   "cell_type": "code",
   "execution_count": 12,
   "outputs": [],
   "source": [
    "model = Sequential([Flatten(input_shape=(28, 28)), Dense(128, activation='relu'), Dense(10, activation='softmax')])"
   ],
   "metadata": {
    "collapsed": false,
    "pycharm": {
     "name": "#%%\n"
    }
   }
  },
  {
   "cell_type": "code",
   "execution_count": 13,
   "outputs": [],
   "source": [
    "model.compile(optimizer='adam', loss='sparse_categorical_crossentropy', metrics='accuracy')"
   ],
   "metadata": {
    "collapsed": false,
    "pycharm": {
     "name": "#%%\n"
    }
   }
  },
  {
   "cell_type": "code",
   "execution_count": 15,
   "outputs": [
    {
     "name": "stdout",
     "output_type": "stream",
     "text": [
      "Epoch 1/6\n",
      "6/6 [==============================] - 3s 221ms/step - loss: 0.1465 - accuracy: 0.9594\n",
      "Epoch 2/6\n",
      "6/6 [==============================] - 1s 130ms/step - loss: 0.1439 - accuracy: 0.9601\n",
      "Epoch 3/6\n",
      "6/6 [==============================] - 1s 134ms/step - loss: 0.1421 - accuracy: 0.9604\n",
      "Epoch 4/6\n",
      "6/6 [==============================] - 1s 122ms/step - loss: 0.1403 - accuracy: 0.9606\n",
      "Epoch 5/6\n",
      "6/6 [==============================] - 1s 124ms/step - loss: 0.1388 - accuracy: 0.9610\n",
      "Epoch 6/6\n",
      "6/6 [==============================] - 1s 117ms/step - loss: 0.1372 - accuracy: 0.9617\n"
     ]
    },
    {
     "data": {
      "text/plain": "<keras.callbacks.History at 0x20064cab640>"
     },
     "execution_count": 15,
     "metadata": {},
     "output_type": "execute_result"
    }
   ],
   "source": [
    "model.fit(x_train, y_train, epochs=6, batch_size=10000)"
   ],
   "metadata": {
    "collapsed": false,
    "pycharm": {
     "name": "#%%\n"
    }
   }
  },
  {
   "cell_type": "code",
   "execution_count": 16,
   "outputs": [
    {
     "name": "stdout",
     "output_type": "stream",
     "text": [
      "313/313 [==============================] - 3s 2ms/step\n"
     ]
    }
   ],
   "source": [
    "pr = model.predict(x_test)"
   ],
   "metadata": {
    "collapsed": false,
    "pycharm": {
     "name": "#%%\n"
    }
   }
  },
  {
   "cell_type": "code",
   "execution_count": 17,
   "outputs": [],
   "source": [
    "#pr"
   ],
   "metadata": {
    "collapsed": false,
    "pycharm": {
     "name": "#%%\n"
    }
   }
  },
  {
   "cell_type": "code",
   "execution_count": 18,
   "outputs": [],
   "source": [
    "#pr[0] == np.max(pr[0])"
   ],
   "metadata": {
    "collapsed": false,
    "pycharm": {
     "name": "#%%\n"
    }
   }
  },
  {
   "cell_type": "code",
   "execution_count": 19,
   "outputs": [],
   "source": [
    "#np.argmax(pr[0])"
   ],
   "metadata": {
    "collapsed": false,
    "pycharm": {
     "name": "#%%\n"
    }
   }
  },
  {
   "cell_type": "code",
   "execution_count": 20,
   "outputs": [
    {
     "data": {
      "text/plain": "array([7, 2, 1, ..., 4, 5, 6], dtype=int64)"
     },
     "execution_count": 20,
     "metadata": {},
     "output_type": "execute_result"
    }
   ],
   "source": [
    "pr2 = np.array([np.argmax(i) for i in pr])\n",
    "pr2"
   ],
   "metadata": {
    "collapsed": false,
    "pycharm": {
     "name": "#%%\n"
    }
   }
  },
  {
   "cell_type": "code",
   "execution_count": 21,
   "outputs": [
    {
     "data": {
      "text/plain": "0.9572"
     },
     "execution_count": 21,
     "metadata": {},
     "output_type": "execute_result"
    }
   ],
   "source": [
    "np.sum(y_test == pr2) / len(y_test)"
   ],
   "metadata": {
    "collapsed": false,
    "pycharm": {
     "name": "#%%\n"
    }
   }
  },
  {
   "cell_type": "code",
   "execution_count": 22,
   "outputs": [],
   "source": [
    "#np.where(y_train == y_train[0])[0]"
   ],
   "metadata": {
    "collapsed": false,
    "pycharm": {
     "name": "#%%\n"
    }
   }
  },
  {
   "cell_type": "code",
   "execution_count": 23,
   "outputs": [],
   "source": [
    "#choice(a)"
   ],
   "metadata": {
    "collapsed": false,
    "pycharm": {
     "name": "#%%\n"
    }
   }
  },
  {
   "cell_type": "code",
   "execution_count": 24,
   "outputs": [],
   "source": [
    "def build_shuffle(inp_x, inp_y):\n",
    "    out = []\n",
    "    for i in range(len(inp_x)):\n",
    "        l1 = np.where(inp_y == inp_y[i])[0]\n",
    "        l2 = np.delete(l1, np.where(l1 == i))\n",
    "        out.append(inp_x[choice(l2)])\n",
    "    return np.array(out)"
   ],
   "metadata": {
    "collapsed": false,
    "pycharm": {
     "name": "#%%\n"
    }
   }
  },
  {
   "cell_type": "code",
   "execution_count": 25,
   "outputs": [],
   "source": [
    "x_shuffle = build_shuffle(x_train, y_train)"
   ],
   "metadata": {
    "collapsed": false,
    "pycharm": {
     "name": "#%%\n"
    }
   }
  },
  {
   "cell_type": "code",
   "execution_count": 26,
   "outputs": [
    {
     "data": {
      "text/plain": "(60000, 28, 28)"
     },
     "execution_count": 26,
     "metadata": {},
     "output_type": "execute_result"
    }
   ],
   "source": [
    "x_shuffle.shape"
   ],
   "metadata": {
    "collapsed": false,
    "pycharm": {
     "name": "#%%\n"
    }
   }
  },
  {
   "cell_type": "code",
   "execution_count": 27,
   "outputs": [],
   "source": [
    "#x_train.shape"
   ],
   "metadata": {
    "collapsed": false,
    "pycharm": {
     "name": "#%%\n"
    }
   }
  },
  {
   "cell_type": "code",
   "execution_count": 28,
   "outputs": [],
   "source": [
    "#x_train[0]"
   ],
   "metadata": {
    "collapsed": false,
    "pycharm": {
     "name": "#%%\n"
    }
   }
  },
  {
   "cell_type": "code",
   "execution_count": 29,
   "outputs": [],
   "source": [
    "#x_shuffle[0]"
   ],
   "metadata": {
    "collapsed": false,
    "pycharm": {
     "name": "#%%\n"
    }
   }
  },
  {
   "cell_type": "code",
   "execution_count": 30,
   "outputs": [
    {
     "data": {
      "text/plain": "<matplotlib.image.AxesImage at 0x2005b4245b0>"
     },
     "execution_count": 30,
     "metadata": {},
     "output_type": "execute_result"
    },
    {
     "data": {
      "text/plain": "<Figure size 640x480 with 1 Axes>",
      "image/png": "[encoded data removed]"
     },
     "metadata": {},
     "output_type": "display_data"
    }
   ],
   "source": [
    "plt.imshow(x_train[25485])"
   ],
   "metadata": {
    "collapsed": false,
    "pycharm": {
     "name": "#%%\n"
    }
   }
  },
  {
   "cell_type": "code",
   "execution_count": 31,
   "outputs": [
    {
     "data": {
      "text/plain": "<matplotlib.image.AxesImage at 0x20064ca2500>"
     },
     "execution_count": 31,
     "metadata": {},
     "output_type": "execute_result"
    },
    {
     "data": {
      "text/plain": "<Figure size 640x480 with 1 Axes>",
      "image/png": "[encoded data removed]"
     },
     "metadata": {},
     "output_type": "display_data"
    }
   ],
   "source": [
    "plt.imshow(x_shuffle[25485])"
   ],
   "metadata": {
    "collapsed": false,
    "pycharm": {
     "name": "#%%\n"
    }
   }
  },
  {
   "cell_type": "code",
   "execution_count": 97,
   "outputs": [],
   "source": [
    "#x_shuffle.shape"
   ],
   "metadata": {
    "collapsed": false,
    "pycharm": {
     "name": "#%%\n"
    }
   }
  },
  {
   "cell_type": "code",
   "execution_count": 32,
   "outputs": [],
   "source": [
    "x_shuffle = x_shuffle.reshape(60000, 28 * 28)"
   ],
   "metadata": {
    "collapsed": false,
    "pycharm": {
     "name": "#%%\n"
    }
   }
  },
  {
   "cell_type": "code",
   "execution_count": 33,
   "outputs": [
    {
     "data": {
      "text/plain": "(60000, 784)"
     },
     "execution_count": 33,
     "metadata": {},
     "output_type": "execute_result"
    }
   ],
   "source": [
    "x_shuffle.shape"
   ],
   "metadata": {
    "collapsed": false,
    "pycharm": {
     "name": "#%%\n"
    }
   }
  },
  {
   "cell_type": "code",
   "execution_count": 34,
   "outputs": [],
   "source": [
    "model2 = Sequential()"
   ],
   "metadata": {
    "collapsed": false,
    "pycharm": {
     "name": "#%%\n"
    }
   }
  },
  {
   "cell_type": "code",
   "execution_count": 35,
   "outputs": [],
   "source": [
    "model2.add(Flatten(input_shape=(28, 28)))\n",
    "model2.add(Dense(28 * 28, activation='relu'))\n",
    "model2.add(Dense(28 * 28))"
   ],
   "metadata": {
    "collapsed": false,
    "pycharm": {
     "name": "#%%\n"
    }
   }
  },
  {
   "cell_type": "code",
   "execution_count": 36,
   "outputs": [],
   "source": [
    "model2.compile(optimizer='adam', loss='mean_squared_error', metrics='mean_absolute_error')"
   ],
   "metadata": {
    "collapsed": false,
    "pycharm": {
     "name": "#%%\n"
    }
   }
  },
  {
   "cell_type": "code",
   "execution_count": 37,
   "outputs": [
    {
     "name": "stdout",
     "output_type": "stream",
     "text": [
      "Epoch 1/12\n",
      "6/6 [==============================] - 10s 1s/step - loss: 0.1062 - mean_absolute_error: 0.2232\n",
      "Epoch 2/12\n",
      "6/6 [==============================] - 8s 1s/step - loss: 0.0739 - mean_absolute_error: 0.1836\n",
      "Epoch 3/12\n",
      "6/6 [==============================] - 8s 1s/step - loss: 0.0690 - mean_absolute_error: 0.1732\n",
      "Epoch 4/12\n",
      "6/6 [==============================] - 8s 1s/step - loss: 0.0660 - mean_absolute_error: 0.1664\n",
      "Epoch 5/12\n",
      "6/6 [==============================] - 10s 2s/step - loss: 0.0637 - mean_absolute_error: 0.1608\n",
      "Epoch 6/12\n",
      "6/6 [==============================] - 9s 1s/step - loss: 0.0619 - mean_absolute_error: 0.1557\n",
      "Epoch 7/12\n",
      "6/6 [==============================] - 9s 2s/step - loss: 0.0606 - mean_absolute_error: 0.1515\n",
      "Epoch 8/12\n",
      "6/6 [==============================] - 9s 2s/step - loss: 0.0597 - mean_absolute_error: 0.1485\n",
      "Epoch 9/12\n",
      "6/6 [==============================] - 8s 1s/step - loss: 0.0590 - mean_absolute_error: 0.1461\n",
      "Epoch 10/12\n",
      "6/6 [==============================] - 8s 1s/step - loss: 0.0584 - mean_absolute_error: 0.1443\n",
      "Epoch 11/12\n",
      "6/6 [==============================] - 8s 1s/step - loss: 0.0580 - mean_absolute_error: 0.1427\n",
      "Epoch 12/12\n",
      "6/6 [==============================] - 7s 1s/step - loss: 0.0576 - mean_absolute_error: 0.1415\n"
     ]
    },
    {
     "data": {
      "text/plain": "<keras.callbacks.History at 0x20064caa860>"
     },
     "execution_count": 37,
     "metadata": {},
     "output_type": "execute_result"
    }
   ],
   "source": [
    "model2.fit(x_train, x_shuffle, batch_size=10000, epochs=12)"
   ],
   "metadata": {
    "collapsed": false,
    "pycharm": {
     "name": "#%%\n"
    }
   }
  },
  {
   "cell_type": "code",
   "execution_count": 38,
   "outputs": [
    {
     "name": "stdout",
     "output_type": "stream",
     "text": [
      "313/313 [==============================] - 2s 5ms/step\n"
     ]
    }
   ],
   "source": [
    "pr3 = model2.predict(x_test)"
   ],
   "metadata": {
    "collapsed": false,
    "pycharm": {
     "name": "#%%\n"
    }
   }
  },
  {
   "cell_type": "code",
   "execution_count": 39,
   "outputs": [
    {
     "data": {
      "text/plain": "<matplotlib.image.AxesImage at 0x20064cb36d0>"
     },
     "execution_count": 39,
     "metadata": {},
     "output_type": "execute_result"
    },
    {
     "data": {
      "text/plain": "<Figure size 640x480 with 1 Axes>",
      "image/png": "[encoded data removed]"
     },
     "metadata": {},
     "output_type": "display_data"
    }
   ],
   "source": [
    "plt.imshow(pr3[302].reshape((28, 28)))"
   ],
   "metadata": {
    "collapsed": false,
    "pycharm": {
     "name": "#%%\n"
    }
   }
  },
  {
   "cell_type": "code",
   "execution_count": 40,
   "outputs": [
    {
     "data": {
      "text/plain": "<matplotlib.image.AxesImage at 0x2000419c280>"
     },
     "execution_count": 40,
     "metadata": {},
     "output_type": "execute_result"
    },
    {
     "data": {
      "text/plain": "<Figure size 640x480 with 1 Axes>",
      "image/png": "[encoded data removed]"
     },
     "metadata": {},
     "output_type": "display_data"
    }
   ],
   "source": [
    "plt.imshow(x_test[302])"
   ],
   "metadata": {
    "collapsed": false,
    "pycharm": {
     "name": "#%%\n"
    }
   }
  },
  {
   "cell_type": "code",
   "execution_count": 41,
   "outputs": [],
   "source": [
    "noise = np.random.randint(low=0, high=255, size=28 * 28) / 255"
   ],
   "metadata": {
    "collapsed": false,
    "pycharm": {
     "name": "#%%\n"
    }
   }
  },
  {
   "cell_type": "code",
   "execution_count": 42,
   "outputs": [],
   "source": [
    "#noise"
   ],
   "metadata": {
    "collapsed": false,
    "pycharm": {
     "name": "#%%\n"
    }
   }
  },
  {
   "cell_type": "code",
   "execution_count": 43,
   "outputs": [
    {
     "data": {
      "text/plain": "<matplotlib.image.AxesImage at 0x20004131c00>"
     },
     "execution_count": 43,
     "metadata": {},
     "output_type": "execute_result"
    },
    {
     "data": {
      "text/plain": "<Figure size 640x480 with 1 Axes>",
      "image/png": "[encoded data removed]"
     },
     "metadata": {},
     "output_type": "display_data"
    }
   ],
   "source": [
    "plt.imshow(noise.reshape((28, 28)))"
   ],
   "metadata": {
    "collapsed": false,
    "pycharm": {
     "name": "#%%\n"
    }
   }
  },
  {
   "cell_type": "code",
   "execution_count": 44,
   "outputs": [
    {
     "name": "stdout",
     "output_type": "stream",
     "text": [
      "1/1 [==============================] - 0s 108ms/step\n"
     ]
    }
   ],
   "source": [
    "noise_tr = model2.predict(noise.reshape(1, 28, 28))"
   ],
   "metadata": {
    "collapsed": false,
    "pycharm": {
     "name": "#%%\n"
    }
   }
  },
  {
   "cell_type": "code",
   "execution_count": 45,
   "outputs": [],
   "source": [
    "#noise_tr.shape"
   ],
   "metadata": {
    "collapsed": false,
    "pycharm": {
     "name": "#%%\n"
    }
   }
  },
  {
   "cell_type": "code",
   "execution_count": 46,
   "outputs": [
    {
     "data": {
      "text/plain": "<matplotlib.image.AxesImage at 0x20003e637f0>"
     },
     "execution_count": 46,
     "metadata": {},
     "output_type": "execute_result"
    },
    {
     "data": {
      "text/plain": "<Figure size 640x480 with 1 Axes>",
      "image/png": "[encoded data removed]"
     },
     "metadata": {},
     "output_type": "display_data"
    }
   ],
   "source": [
    "plt.imshow(noise_tr.reshape((28, 28)))"
   ],
   "metadata": {
    "collapsed": false,
    "pycharm": {
     "name": "#%%\n"
    }
   }
  },
  {
   "cell_type": "code",
   "execution_count": 47,
   "outputs": [
    {
     "name": "stdout",
     "output_type": "stream",
     "text": [
      "1/1 [==============================] - 0s 30ms/step\n"
     ]
    },
    {
     "data": {
      "text/plain": "array([[4.4275096e-04, 2.3208968e-06, 8.9190215e-02, 1.7441067e-01,\n        1.2065028e-05, 2.2170171e-03, 3.8984890e-05, 1.7467508e-05,\n        7.3051655e-01, 3.1519106e-03]], dtype=float32)"
     },
     "execution_count": 47,
     "metadata": {},
     "output_type": "execute_result"
    }
   ],
   "source": [
    "model.predict(noise_tr.reshape(1, 28, 28))"
   ],
   "metadata": {
    "collapsed": false,
    "pycharm": {
     "name": "#%%\n"
    }
   }
  },
  {
   "cell_type": "code",
   "execution_count": 54,
   "outputs": [],
   "source": [
    "#model2.predict(x_train[25485]).reshape"
   ],
   "metadata": {
    "collapsed": false,
    "pycharm": {
     "name": "#%%\n"
    }
   }
  },
  {
   "cell_type": "code",
   "execution_count": 53,
   "outputs": [
    {
     "name": "stdout",
     "output_type": "stream",
     "text": [
      "1/1 [==============================] - 0s 28ms/step\n"
     ]
    },
    {
     "data": {
      "text/plain": "<matplotlib.image.AxesImage at 0x2001ce75150>"
     },
     "execution_count": 53,
     "metadata": {},
     "output_type": "execute_result"
    },
    {
     "data": {
      "text/plain": "<Figure size 640x480 with 1 Axes>",
      "image/png": "[encoded data removed]"
     },
     "metadata": {},
     "output_type": "display_data"
    }
   ],
   "source": [
    "plt.imshow((model2.predict(x_train[25485]).reshape(28, 28)))"
   ],
   "metadata": {
    "collapsed": false,
    "pycharm": {
     "name": "#%%\n"
    }
   }
  },
  {
   "cell_type": "code",
   "execution_count": 57,
   "outputs": [
    {
     "name": "stdout",
     "output_type": "stream",
     "text": [
      "1/1 [==============================] - 0s 41ms/step\n"
     ]
    },
    {
     "data": {
      "text/plain": "array([[ 1.52371200e-02,  4.04779986e-02,  3.07913292e-02,\n        -3.31767015e-02, -1.77278761e-02, -2.72739455e-02,\n        -3.80629338e-02,  2.55893227e-02,  1.85590088e-02,\n        -2.25761365e-02,  4.56793755e-02, -1.85017195e-02,\n        -1.66371837e-02,  1.64295845e-02,  1.31487078e-03,\n         1.69717753e-03, -1.05084265e-02,  2.48214789e-03,\n         2.36329832e-03, -3.73978615e-02,  4.71027121e-02,\n         1.23201506e-02,  2.04860847e-02, -2.97914837e-02,\n         9.41687264e-03,  1.70472208e-02, -4.52514291e-02,\n        -3.90988571e-04],\n       [ 4.09925319e-02,  7.73585681e-03, -1.88413523e-02,\n         6.48593530e-03,  2.07791906e-02, -1.14554726e-02,\n         3.85664068e-02,  1.91114824e-02, -2.99352165e-02,\n         5.02973907e-02,  2.01994870e-02,  2.94665825e-02,\n         2.22520381e-02,  5.44232968e-03, -1.90069294e-03,\n         3.09344027e-02, -7.53063057e-03,  8.92580394e-03,\n         1.25241522e-02, -3.51867173e-03, -2.85497401e-04,\n         4.06388612e-03,  5.58289047e-03,  3.68061326e-02,\n        -2.58910526e-02, -3.24686989e-05, -4.33437712e-02,\n         1.52393403e-02],\n       [-4.68040667e-02, -8.88463110e-05, -3.00032347e-02,\n         1.74714047e-02, -2.02085190e-02,  2.11023130e-02,\n         1.38533507e-02,  8.70688073e-03,  3.40102287e-03,\n        -5.64092286e-02, -4.75677811e-02, -5.54146990e-02,\n         3.36442217e-02,  2.82674469e-02, -1.14627825e-02,\n         2.53465325e-02, -4.01927792e-02,  2.15246808e-02,\n         5.57587296e-03,  9.54665942e-04,  1.63593190e-03,\n         1.46643193e-02,  1.35114202e-02, -2.07610317e-02,\n        -1.22194123e-02, -2.61241174e-03,  7.65345874e-04,\n        -1.56766046e-02],\n       [-2.46727914e-02,  6.42946512e-02,  5.02425246e-03,\n         8.23876122e-04, -6.56997338e-02, -1.22503852e-02,\n        -3.95432524e-02,  2.69075707e-02,  7.36980233e-03,\n         5.22580333e-02, -1.85486116e-02,  1.26471762e-02,\n         3.47873457e-02, -6.60993531e-03, -3.17470171e-04,\n        -9.71996412e-03, -2.16260459e-02,  8.38591903e-03,\n         1.25861689e-02, -4.45348658e-02, -1.10522434e-02,\n        -2.97971051e-02,  2.64754090e-02, -2.27168836e-02,\n         2.67133731e-02,  2.40116660e-02,  2.38100830e-02,\n         2.04604603e-02],\n       [ 3.66204716e-02,  2.36884095e-02, -3.16914939e-03,\n         8.98161437e-03,  3.94590087e-02, -7.75061082e-03,\n         2.35854313e-02, -2.95557547e-05,  4.27304320e-02,\n         3.62787619e-02,  9.30171087e-03, -9.12468135e-03,\n         3.81301716e-02,  6.84800446e-02,  1.39156431e-01,\n         1.55054539e-01,  1.46017581e-01,  1.32068828e-01,\n         1.41090244e-01,  8.38634744e-02,  6.22087009e-02,\n         3.87771204e-02,  5.23349782e-03,  2.70034708e-02,\n         1.43085318e-02, -2.87950393e-02, -5.80564886e-03,\n         1.16159786e-02],\n       [-2.70649195e-02,  1.56606119e-02, -3.21169458e-02,\n         6.64725155e-03,  1.74453184e-02, -1.05634541e-03,\n        -7.57976435e-04,  1.02353971e-02,  2.03714799e-02,\n        -5.73253296e-02,  2.27254871e-02,  4.37931977e-02,\n         1.40329063e-01,  1.43493026e-01,  3.21100503e-01,\n         3.57825369e-01,  3.63132626e-01,  3.64267796e-01,\n         3.15489948e-01,  1.73096880e-01,  1.10157050e-01,\n         8.59661475e-02,  2.30906736e-02,  6.44592568e-04,\n         1.69111099e-02, -6.60421373e-03, -3.49403694e-02,\n        -1.16173970e-02],\n       [-1.00876391e-02,  1.01674609e-02, -1.26942899e-02,\n         7.96163641e-03,  2.12069377e-02,  6.74232282e-03,\n        -1.16373114e-02, -6.42107427e-03,  8.91588163e-03,\n        -4.74133119e-02,  2.40490343e-02,  8.99202079e-02,\n         1.93751961e-01,  3.24320823e-01,  4.43960756e-01,\n         4.36887741e-01,  3.97015303e-01,  4.33707416e-01,\n         3.83000046e-01,  2.30594844e-01,  1.35486573e-01,\n         1.14007175e-01,  1.12881530e-02,  1.71690248e-02,\n        -2.75558233e-03, -3.63544002e-02,  4.27062884e-02,\n         4.49910685e-02],\n       [ 1.47070233e-02, -2.77573355e-02, -2.18026470e-02,\n         5.99813322e-03,  2.02575140e-02, -4.89032492e-02,\n        -2.54459232e-02,  1.18483594e-02,  1.20533621e-02,\n         4.82119992e-02,  7.84592628e-02,  1.21076815e-01,\n         2.22745091e-01,  3.45273376e-01,  4.77633625e-01,\n         5.44134259e-01,  5.69482386e-01,  5.06137311e-01,\n         3.35545003e-01,  1.84252158e-01,  1.53338790e-01,\n         5.14719114e-02,  2.28546727e-02, -5.67908660e-02,\n         1.38460333e-03,  1.90050993e-02,  9.90595296e-03,\n         3.05179264e-02],\n       [-1.84154622e-02, -2.37256717e-02,  1.26784816e-02,\n         2.48290747e-02,  1.64856091e-02, -1.73722841e-02,\n         5.26789250e-03,  8.15819856e-03,  1.41524794e-02,\n         8.45064446e-02,  7.92851895e-02,  1.41904742e-01,\n         2.23440394e-01,  4.19021070e-01,  4.70548749e-01,\n         5.45988977e-01,  5.34648359e-01,  4.93884861e-01,\n         3.33169907e-01,  2.30521724e-01,  1.34033009e-01,\n         1.12765394e-01,  9.41770673e-02, -8.77584983e-03,\n         2.44911928e-02,  2.01002154e-02, -4.80097858e-03,\n        -7.44538475e-03],\n       [-3.58711742e-02, -2.66446397e-02,  1.09329000e-02,\n        -2.37207743e-04,  2.45556086e-02,  2.76145656e-02,\n         5.92572764e-02,  2.32842714e-02,  6.39441982e-02,\n         5.08455262e-02,  1.24383837e-01,  1.33980811e-01,\n         2.21107557e-01,  3.58311176e-01,  5.32121360e-01,\n         6.61753118e-01,  6.34239316e-01,  4.45217341e-01,\n         3.47488344e-01,  1.22997142e-01,  1.36972710e-01,\n         6.31817356e-02, -7.29989074e-03,  3.17246765e-02,\n         4.10598256e-02,  3.33183259e-02, -7.33604282e-03,\n         1.37684215e-02],\n       [-1.38419643e-02,  5.76543342e-03, -6.60721399e-03,\n         1.04709761e-02,  1.83819886e-02,  1.97466258e-02,\n         4.10599001e-02,  3.88671234e-02,  2.63873748e-02,\n         8.81714374e-02,  1.65315136e-01,  1.28749236e-01,\n         1.36248142e-01,  3.49705368e-01,  5.78027725e-01,\n         6.98419750e-01,  6.06774449e-01,  3.50111455e-01,\n         2.60061771e-01,  2.20026791e-01,  1.31188139e-01,\n         7.06652924e-02,  2.33568791e-02,  2.42775958e-02,\n         6.05246909e-02,  2.51079872e-02,  2.77309269e-02,\n         1.67079587e-02],\n       [-2.12702360e-02,  2.26036645e-03, -6.87463069e-03,\n        -2.71159187e-02,  1.01233125e-02,  7.71150319e-03,\n         1.17709357e-02,  3.65822837e-02,  2.60441750e-03,\n         7.00544864e-02,  1.48682490e-01,  6.05262630e-02,\n         2.10403100e-01,  4.48557705e-01,  6.61678195e-01,\n         7.95638204e-01,  5.67971587e-01,  3.67087722e-01,\n         1.73871368e-01,  1.66990086e-01,  5.05627990e-02,\n         3.17911468e-02,  2.93769240e-02,  3.50287892e-02,\n        -2.89246254e-02, -4.10325872e-03,  5.72550157e-03,\n        -3.16816978e-02],\n       [-1.19871916e-02,  1.40570407e-03,  2.27325549e-03,\n        -2.83804480e-02,  1.81790162e-02, -2.83209011e-02,\n        -4.56454530e-02, -1.18426047e-02,  3.06142960e-02,\n         1.73882283e-02,  9.04747248e-02,  1.00505672e-01,\n         1.66821957e-01,  4.83198971e-01,  8.31757069e-01,\n         8.18710327e-01,  5.12568891e-01,  2.56872535e-01,\n         1.40581965e-01,  8.03744942e-02,  3.91994789e-02,\n        -1.27056548e-02, -2.92553604e-02,  3.81117053e-02,\n        -1.06291547e-02,  1.99788585e-02,  4.09288220e-02,\n         2.58009657e-02],\n       [-1.88200958e-02,  3.27278115e-02, -4.88303564e-02,\n         8.39825161e-03,  1.05225528e-02, -5.02495542e-02,\n         4.26065437e-02, -2.79834978e-02, -2.07491405e-03,\n         3.87508646e-02,  5.13725132e-02,  6.83084577e-02,\n         2.56113678e-01,  6.51641250e-01,  8.40429842e-01,\n         8.86327267e-01,  4.56255466e-01,  2.06919342e-01,\n         6.27362505e-02,  1.40500348e-02,  2.54904926e-02,\n        -3.83896939e-03, -2.16749460e-02, -1.60602629e-02,\n        -2.62241182e-03, -1.24071743e-02, -3.69097386e-03,\n         2.67017968e-02],\n       [-1.11770472e-02, -4.53583430e-04, -3.01409364e-02,\n         3.65115516e-03,  2.54328679e-02, -4.28471453e-02,\n        -2.66253501e-02, -3.53564098e-02, -2.59824768e-02,\n        -2.73784418e-02,  5.77954873e-02,  6.64306581e-02,\n         2.53809184e-01,  7.55014837e-01,  9.50252533e-01,\n         8.15726817e-01,  3.34307581e-01,  1.13511689e-01,\n         2.40271445e-02,  2.37834454e-03, -4.61183414e-02,\n        -1.55343059e-02, -2.11163368e-02, -2.41942778e-02,\n        -1.98286995e-02, -1.01863854e-02, -5.21905161e-02,\n         3.70722031e-03],\n       [ 3.38929072e-02, -6.07383847e-02, -2.37197001e-02,\n         6.68671867e-03,  3.12416162e-03,  8.14723969e-03,\n        -5.46743814e-03, -2.40790844e-03, -4.34246138e-02,\n        -2.97092684e-02,  4.07899432e-02,  1.27425179e-01,\n         4.04937744e-01,  8.64475310e-01,  9.18671846e-01,\n         6.49197876e-01,  3.14617038e-01,  9.34664756e-02,\n         3.94219682e-02, -4.98569794e-02, -2.68956237e-02,\n        -1.61733422e-02, -3.98685504e-03, -3.57346772e-03,\n        -3.82298864e-02, -1.58120431e-02,  4.39886674e-02,\n        -3.80330905e-02],\n       [ 6.38349855e-04, -2.92904712e-02, -4.12871456e-03,\n         6.28488287e-02,  1.36222485e-02, -1.98372472e-02,\n         2.45147590e-02, -1.61520205e-02,  1.19550489e-02,\n         1.30000077e-02,  8.90871212e-02,  2.10369363e-01,\n         5.20786583e-01,  8.12863052e-01,  8.40232134e-01,\n         5.89627326e-01,  1.53089046e-01,  9.25479308e-02,\n         6.38625771e-03,  4.24415395e-02, -2.95501668e-02,\n         1.23640792e-02,  3.59205641e-02,  2.76849754e-02,\n        -2.98556872e-02,  2.11755605e-03, -1.04038678e-02,\n        -4.77838470e-03],\n       [-1.54601494e-02,  7.49579305e-03,  6.79596420e-03,\n        -6.62251050e-03, -2.42140368e-02, -2.11484842e-02,\n        -3.93583886e-02,  3.75505863e-03, -2.01821122e-02,\n         7.56902248e-02,  1.55763939e-01,  3.20932060e-01,\n         5.31676292e-01,  7.46131539e-01,  7.41801023e-01,\n         4.15450543e-01,  1.73187837e-01,  6.13969490e-02,\n         2.66440697e-02,  4.41031903e-03,  1.60741154e-03,\n        -2.03179885e-02,  6.59480691e-04, -2.42235288e-02,\n        -1.36129363e-02, -1.77615900e-02, -4.35700361e-03,\n        -5.51137626e-02],\n       [-3.98978852e-02,  7.49435043e-03, -3.11167585e-03,\n         5.42611443e-03,  2.36258339e-02, -3.52728218e-02,\n        -2.72224545e-02,  9.60604474e-03,  3.07335816e-02,\n         5.34347370e-02,  1.91147581e-01,  3.85952830e-01,\n         6.06059849e-01,  6.54878616e-01,  6.56785667e-01,\n         3.87504369e-01,  1.95775002e-01,  1.00174800e-01,\n         7.22548664e-02,  6.08635172e-02,  3.75482347e-03,\n         1.44796660e-02,  6.65838458e-03,  7.96780549e-03,\n         2.36513522e-02, -4.39544171e-02,  3.96527871e-02,\n         1.10295480e-02],\n       [-6.59299791e-02,  5.33139594e-02,  6.44969288e-04,\n         2.05026548e-02,  2.28943373e-03, -2.73681246e-02,\n        -1.76087767e-02,  3.22042070e-02,  7.09983185e-02,\n         1.65252835e-01,  3.42759103e-01,  4.13608104e-01,\n         5.73170185e-01,  5.95135331e-01,  5.59010327e-01,\n         3.12409282e-01,  2.05238789e-01,  8.56583267e-02,\n         5.53847998e-02,  3.01054809e-02,  3.02181207e-03,\n         3.27967703e-02, -2.28663832e-02,  2.03623418e-02,\n        -9.11380816e-03, -2.09675403e-03, -1.51798800e-02,\n        -2.92492285e-03],\n       [-8.70978925e-03, -2.07838835e-04,  1.80068035e-02,\n        -5.74488193e-03,  2.67854314e-02,  5.62268123e-02,\n         4.26048506e-03,  6.00575134e-02,  1.17385373e-01,\n         1.93813652e-01,  3.12034369e-01,  4.58338112e-01,\n         5.12134969e-01,  5.08627474e-01,  4.43695426e-01,\n         2.63979882e-01,  1.83962345e-01,  5.97360097e-02,\n         2.56054550e-02,  3.85811552e-02, -3.44247036e-02,\n        -1.58991423e-02, -4.17177528e-02, -3.04484717e-03,\n        -1.16133504e-02, -3.02496962e-02, -4.97441888e-02,\n         1.12808216e-02],\n       [ 2.49616969e-02, -2.82728821e-02, -3.66483927e-02,\n         1.21591249e-02,  4.57767397e-02, -1.78369693e-02,\n         4.00199816e-02,  7.30603859e-02,  1.48894817e-01,\n         2.77631521e-01,  3.77864480e-01,  4.23812956e-01,\n         5.02145767e-01,  4.94292229e-01,  4.44119036e-01,\n         3.24674606e-01,  2.07341999e-01,  1.29356995e-01,\n         1.31934837e-01,  4.31457236e-02,  6.72069639e-02,\n        -2.88535841e-04, -2.41543166e-02, -1.12203183e-04,\n        -6.98103162e-04, -2.24110559e-02,  1.65408235e-02,\n        -2.75649666e-03],\n       [-2.60995235e-03, -1.16588864e-02,  2.20530946e-02,\n         4.73508099e-03, -9.20768175e-03,  1.41076921e-02,\n         2.21945345e-03,  8.28154832e-02,  1.97754830e-01,\n         2.65560031e-01,  3.40729624e-01,  3.95865142e-01,\n         4.20894802e-01,  4.58769590e-01,  4.34133023e-01,\n         3.06128174e-01,  2.06469655e-01,  1.62107334e-01,\n         5.19594513e-02,  3.60855237e-02, -4.59093601e-02,\n         4.79885750e-03,  1.27563505e-02,  3.30454367e-03,\n        -3.38671692e-02, -1.47771277e-02, -4.91863973e-02,\n        -1.51862865e-02],\n       [ 4.17570770e-03,  3.69693525e-02,  8.65048170e-03,\n         1.92364044e-02, -3.27564627e-02,  5.75899705e-03,\n         3.80785391e-02,  6.88957721e-02,  1.23870954e-01,\n         2.22175241e-01,  3.23417664e-01,  3.12304378e-01,\n         3.87032181e-01,  4.04143095e-01,  3.31242651e-01,\n         2.52275527e-01,  1.36240140e-01,  1.08487763e-01,\n         5.68454266e-02,  1.37773920e-02,  3.67218591e-02,\n         1.45646911e-02, -2.79280599e-02, -5.47791179e-03,\n         5.03165461e-03, -2.54934980e-03,  1.74352564e-02,\n        -1.54229747e-02],\n       [-1.37511138e-02, -1.37755387e-02, -1.17108505e-02,\n         4.38792333e-02, -2.43654493e-02, -1.26180602e-02,\n         3.24529856e-02,  4.87067588e-02,  4.02304567e-02,\n         9.28384364e-02,  1.75761685e-01,  1.64566368e-01,\n         1.25005692e-01,  1.44834697e-01,  1.23271734e-01,\n         6.40271008e-02,  7.58958012e-02,  3.81908529e-02,\n         1.24575803e-02,  4.22214996e-03, -3.70119028e-02,\n         1.18052093e-02, -4.12137657e-02,  1.16491243e-02,\n         2.10005660e-02, -2.65849382e-02, -2.43394300e-02,\n        -2.77587119e-02],\n       [ 1.43785002e-02, -2.23948993e-02,  8.81293342e-02,\n         2.13030279e-02,  1.93381822e-03, -3.69923376e-02,\n         1.72557943e-02,  5.03709130e-02,  2.22549494e-03,\n        -7.17309024e-03, -9.19837132e-03,  5.11706769e-02,\n         6.03670850e-02,  2.21691709e-02,  3.57434005e-02,\n         8.66599008e-03,  1.94862708e-02,  1.44182630e-02,\n        -4.40276451e-02,  1.50438137e-02,  1.71313807e-02,\n         1.45568710e-03, -1.85612647e-04, -1.94549430e-02,\n         2.17700247e-02,  5.94179938e-03, -2.40473207e-02,\n        -6.46984428e-02],\n       [ 7.03967288e-02,  1.41289877e-02, -4.01015505e-02,\n         1.31296366e-02, -3.27985734e-02, -1.10955769e-03,\n        -2.68951934e-02,  1.28281545e-02,  8.02652386e-04,\n         1.40157109e-03,  7.96616450e-03,  2.40616836e-02,\n        -2.71322206e-02,  3.06197768e-03, -3.59379547e-03,\n         3.75483185e-04,  2.40606554e-02, -3.00049558e-02,\n         2.69038174e-02,  3.72725017e-02, -2.30278540e-02,\n         2.45160963e-02,  6.60850341e-03,  5.50659839e-03,\n         1.39304879e-03, -4.77058813e-02, -1.05803031e-02,\n        -9.43029858e-03],\n       [ 3.06941825e-03, -2.95118429e-03,  1.20823691e-03,\n        -1.26097063e-02, -2.09896173e-02,  7.60768820e-03,\n        -1.05733639e-02,  1.50505714e-02, -4.77039106e-02,\n        -4.37712409e-02,  4.48012119e-03, -4.93623912e-02,\n        -1.00651919e-03,  1.06714135e-02, -3.54843587e-03,\n         4.58314829e-02, -5.15471064e-02, -1.62322130e-02,\n         5.31867845e-03,  3.11175473e-02,  7.62221776e-03,\n        -4.72419746e-02, -2.56823115e-02, -4.18072753e-02,\n        -1.08448062e-02,  3.21233086e-02, -6.06501475e-02,\n        -5.37302308e-02]], dtype=float32)"
     },
     "execution_count": 57,
     "metadata": {},
     "output_type": "execute_result"
    }
   ],
   "source": [
    "a = model2.predict(x_train[25485]).reshape(28, 28)\n",
    "a"
   ],
   "metadata": {
    "collapsed": false,
    "pycharm": {
     "name": "#%%\n"
    }
   }
  },
  {
   "cell_type": "code",
   "execution_count": 73,
   "outputs": [
    {
     "data": {
      "text/plain": "<matplotlib.image.AxesImage at 0x2001c801630>"
     },
     "execution_count": 73,
     "metadata": {},
     "output_type": "execute_result"
    },
    {
     "data": {
      "text/plain": "<Figure size 640x480 with 1 Axes>",
      "image/png": "[encoded data removed]"
     },
     "metadata": {},
     "output_type": "display_data"
    }
   ],
   "source": [
    "plt.imshow(a[5:25,7:20])"
   ],
   "metadata": {
    "collapsed": false,
    "pycharm": {
     "name": "#%%\n"
    }
   }
  },
  {
   "cell_type": "code",
   "execution_count": 75,
   "outputs": [],
   "source": [
    "model2.save('mnist_generate_number.h5')"
   ],
   "metadata": {
    "collapsed": false,
    "pycharm": {
     "name": "#%%\n"
    }
   }
  },
  {
   "cell_type": "code",
   "execution_count": 81,
   "outputs": [
    {
     "name": "stdout",
     "output_type": "stream",
     "text": [
      "Model: \"sequential_1\"\n",
      "_________________________________________________________________\n",
      " Layer (type)                Output Shape              Param #   \n",
      "=================================================================\n",
      " flatten_1 (Flatten)         (None, 784)               0         \n",
      "                                                                 \n",
      " dense_2 (Dense)             (None, 784)               615440    \n",
      "                                                                 \n",
      " dense_3 (Dense)             (None, 784)               615440    \n",
      "                                                                 \n",
      "=================================================================\n",
      "Total params: 1,230,880\n",
      "Trainable params: 1,230,880\n",
      "Non-trainable params: 0\n",
      "_________________________________________________________________\n"
     ]
    }
   ],
   "source": [
    "model2.summary()"
   ],
   "metadata": {
    "collapsed": false,
    "pycharm": {
     "name": "#%%\n"
    }
   }
  },
  {
   "cell_type": "code",
   "execution_count": null,
   "outputs": [],
   "source": [],
   "metadata": {
    "collapsed": false,
    "pycharm": {
     "name": "#%%\n"
    }
   }
  }
 ],
 "metadata": {
  "kernelspec": {
   "display_name": "Python 3",
   "language": "python",
   "name": "python3"
  },
  "language_info": {
   "codemirror_mode": {
    "name": "ipython",
    "version": 2
   },
   "file_extension": ".py",
   "mimetype": "text/x-python",
   "name": "python",
   "nbconvert_exporter": "python",
   "pygments_lexer": "ipython2",
   "version": "2.7.6"
  }
 },
 "nbformat": 4,
 "nbformat_minor": 0
}