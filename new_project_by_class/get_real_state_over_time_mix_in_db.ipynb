{
 "cells": [
  {
   "cell_type": "code",
   "execution_count": 47,
   "metadata": {
    "collapsed": true,
    "pycharm": {
     "name": "#%%\n"
    }
   },
   "outputs": [],
   "source": [
    "import requests\n",
    "import numpy as np\n",
    "import pandas as pd\n",
    "import sqlite3\n",
    "import time\n",
    "from tqdm import tqdm\n",
    "import os\n",
    "from random import randint\n",
    "import string"
   ]
  },
  {
   "cell_type": "code",
   "execution_count": 48,
   "outputs": [
    {
     "name": "stdout",
     "output_type": "stream",
     "text": [
      "The sql extension is already loaded. To reload it, use:\n",
      "  %reload_ext sql\n"
     ]
    }
   ],
   "source": [
    "%load_ext sql"
   ],
   "metadata": {
    "collapsed": false,
    "pycharm": {
     "name": "#%%\n"
    }
   }
  },
  {
   "cell_type": "code",
   "execution_count": 49,
   "outputs": [],
   "source": [
    "def internet_connection():\n",
    "    try:\n",
    "        response = requests.get(\"https://www.google.com\", timeout=5)\n",
    "        return True\n",
    "    except requests.ConnectionError:\n",
    "        return False"
   ],
   "metadata": {
    "collapsed": false,
    "pycharm": {
     "name": "#%%\n"
    }
   }
  },
  {
   "cell_type": "code",
   "execution_count": 50,
   "outputs": [],
   "source": [
    "def adad_farsi_to_english(inp: str):\n",
    "    dc = {'۰': '0', '۱': '1', '۲': '2', '۳': '3', '۴': '4', '۵': '5', '۶': '6', '۷': '7', '۸': '8', '۹': '9'}\n",
    "    out = ''\n",
    "    for i in inp:\n",
    "        if i in dc.keys():\n",
    "            out += dc[i]\n",
    "        else:\n",
    "            out += ''\n",
    "    if out.isdecimal():\n",
    "        return int(out)\n",
    "    else:\n",
    "        return None"
   ],
   "metadata": {
    "collapsed": false,
    "pycharm": {
     "name": "#%%\n"
    }
   }
  },
  {
   "cell_type": "code",
   "execution_count": 51,
   "outputs": [],
   "source": [
    "def get_tokens(inp_url, inp_json):\n",
    "    out_tokens = []\n",
    "    resp = requests.post(url=inp_url, json=inp_json)\n",
    "    if resp.status_code == 200:\n",
    "        data_v = resp.json()\n",
    "        for j in data_v[\"web_widgets\"][\"post_list\"]:\n",
    "            try:\n",
    "                out_tokens.append(j['data']['token'])\n",
    "            except:\n",
    "                continue\n",
    "    else:\n",
    "        return 0\n",
    "    return out_tokens, data_v['last_post_date'], data_v['first_post_date']"
   ],
   "metadata": {
    "collapsed": false,
    "pycharm": {
     "name": "#%%\n"
    }
   }
  },
  {
   "cell_type": "code",
   "execution_count": 52,
   "outputs": [],
   "source": [
    "def first_get_tokens(inp_url):\n",
    "    f_post_date = 0\n",
    "    #l_post_date = 0\n",
    "    js_v = {\"page\": 0,\n",
    "            \"json_schema\": {\"category\": {\"value\": \"plot-old\"}, \"query\": \"زمین\",\n",
    "                            \"sort\": {\"value\": \"sort_date\"}},\n",
    "            \"last-post-date\": int(str(time.time()).replace('.', ''))}\n",
    "\n",
    "    try:\n",
    "        l_p_date = requests.post(url=inp_url, json=js_v).json()['last_post_date']\n",
    "    except:\n",
    "        l_p_date = int(str(time.time()).replace('.', ''))\n",
    "    out_tokens = []\n",
    "    k = 0\n",
    "    while True:\n",
    "        json_v = {\"page\": k,\n",
    "                  \"json_schema\": {\"category\": {\"value\": \"plot-old\"}, \"query\": \"زمین\",\n",
    "                                  \"sort\": {\"value\": \"sort_date\"}},\n",
    "                  \"last-post-date\": l_p_date}\n",
    "\n",
    "        result = get_tokens(inp_url, json_v)\n",
    "        if result == 0:\n",
    "            break\n",
    "        else:\n",
    "            if k == 0:\n",
    "                f_post_date = result[2]\n",
    "            out_tokens += result[0]\n",
    "            l_p_date = result[1]\n",
    "            k += 1\n",
    "    return out_tokens, l_p_date, f_post_date"
   ],
   "metadata": {
    "collapsed": false,
    "pycharm": {
     "name": "#%%\n"
    }
   }
  },
  {
   "cell_type": "code",
   "execution_count": 53,
   "outputs": [],
   "source": [
    "def second_get_tokens(inp_url, end_date):\n",
    "    f_post_date = 0\n",
    "    out_tokens = []\n",
    "    json_v = {\"page\": 0,\n",
    "              \"json_schema\": {\"category\": {\"value\": \"plot-old\"}, \"query\": \"زمین\",\n",
    "                              \"sort\": {\"value\": \"sort_date\"}},\n",
    "              \"last-post-date\": int(str(time.time()).replace('.', ''))}\n",
    "    try:\n",
    "        l_p_date = requests.post(url=inp_url, json=json_v).json()['last_post_date']\n",
    "    except:\n",
    "        l_p_date = int(str(time.time()).replace('.', ''))\n",
    "    k = 0\n",
    "    while True:\n",
    "        if l_p_date > end_date:\n",
    "            js_v = {\"page\": k,\n",
    "                    \"json_schema\": {\"category\": {\"value\": \"plot-old\"}, \"query\": \"زمین\",\n",
    "                                    \"sort\": {\"value\": \"sort_date\"}},\n",
    "                    \"last-post-date\": l_p_date}\n",
    "            result = get_tokens(inp_url, js_v)\n",
    "            if result != 0:\n",
    "                if k == 0:\n",
    "                    f_post_date = result[2]\n",
    "                out_tokens += result[0]\n",
    "                l_p_date = result[1]\n",
    "            else:\n",
    "                break\n",
    "        else:\n",
    "            break\n",
    "    return out_tokens, l_p_date, f_post_date"
   ],
   "metadata": {
    "collapsed": false,
    "pycharm": {
     "name": "#%%\n"
    }
   }
  },
  {
   "cell_type": "code",
   "execution_count": 54,
   "outputs": [],
   "source": [
    "def get_base_url(inp=\"https://api.divar.ir/v8/web-search/30/plot-old\"):\n",
    "    inp2 = input('Enter your url :')\n",
    "    if inp2 == '':\n",
    "        return inp\n",
    "    else:\n",
    "        return inp2\n",
    "\n",
    "\n",
    "def get_base_url2(inp=None):\n",
    "    if inp:\n",
    "        return inp\n",
    "    else:\n",
    "        return \"https://api.divar.ir/v8/web-search/30/plot-old\"\n",
    "\n",
    "\n",
    "def get_last_post_data(inp=None):\n",
    "    if inp:\n",
    "        return inp\n",
    "    else:\n",
    "        return int(str(time.time()).replace('.', ''))"
   ],
   "metadata": {
    "collapsed": false,
    "pycharm": {
     "name": "#%%\n"
    }
   }
  },
  {
   "cell_type": "code",
   "execution_count": 55,
   "outputs": [],
   "source": [
    "def true_get_data2(inp_url, try_num, timeout):\n",
    "    #o = string.ascii_letters + string.punctuation\n",
    "    #c = 0\n",
    "    make_url = inp_url\n",
    "    for i in range(try_num):\n",
    "        time.sleep(timeout)\n",
    "        #print('-', end='')\n",
    "        resp = requests.get(make_url)\n",
    "        #make_url = make_url.replace('-', o[randint(0, len(o) - 1)])\n",
    "        if resp.status_code == 200:\n",
    "            page_ = resp.text\n",
    "            if 'متر' in page_ and 'زمین' in page_ and 'متراژ' in page_ and 'قیمت کل' in page_ and 'قیمت هر متر' in page_:\n",
    "                return resp\n",
    "            else:\n",
    "                continue\n",
    "        else:\n",
    "            continue\n",
    "    return False"
   ],
   "metadata": {
    "collapsed": false,
    "pycharm": {
     "name": "#%%\n"
    }
   }
  },
  {
   "cell_type": "code",
   "execution_count": 56,
   "outputs": [],
   "source": [
    "def extract_json_data(inp_url,try_num,timeout):\n",
    "    true_req = true_get_data2(inp_url, try_num, timeout)\n",
    "    if true_req is not False:\n",
    "        out_data=[]\n",
    "        page_json= true_req.json()\n",
    "        for i in page_json['sections']:\n",
    "            if i['section_name'] == 'TITLE':\n",
    "                out_data.append(i['widgets'][0]['data']['title'])\n",
    "            if i['section_name']=='LIST_DATA':\n",
    "                out_data.append(adad_farsi_to_english(i['widgets'][0]['data']['value']))\n",
    "                out_data.append(adad_farsi_to_english(i['widgets'][1]['data']['value']))\n",
    "            if i['section_name'] == 'DESCRIPTION':\n",
    "                out_data.append(i['widgets'][1]['data']['text'])\n",
    "        if len(out_data)==4:\n",
    "            return out_data\n",
    "        else:\n",
    "            return False\n",
    "    else:\n",
    "        return False"
   ],
   "metadata": {
    "collapsed": false,
    "pycharm": {
     "name": "#%%\n"
    }
   }
  },
  {
   "cell_type": "code",
   "execution_count": 57,
   "outputs": [],
   "source": [
    "def get_data_by_tokens(inp_tokens,try_num,timeout):\n",
    "    df_out=pd.DataFrame({'address':[],'description':[],'area':[],'price':[]})\n",
    "    for i in tqdm(inp_tokens):\n",
    "        dest_url=f\"https://api.divar.ir/v8/posts-v2/web/{i}\"\n",
    "        dt=extract_json_data(dest_url,try_num,timeout)\n",
    "        if dt is not False:\n",
    "            df_out.loc[len(df_out.index)+1]=dt\n",
    "    return df_out"
   ],
   "metadata": {
    "collapsed": false,
    "pycharm": {
     "name": "#%%\n"
    }
   }
  },
  {
   "cell_type": "code",
   "execution_count": 58,
   "outputs": [],
   "source": [
    "def get_data_by_tokens2(inp_tokens,try_num,timeout):\n",
    "    con_db=sqlite3.connect('real_state.db')\n",
    "    %sql sqlite:///real_state.db\n",
    "    %sql CREATE TABLE IF NOT EXISTS out_data (Address TEXT,Description TEXT,Area INTEGER,Price INTEGER)\n",
    "    #df_out=pd.DataFrame({'address':[],'description':[],'area':[],'price':[]})\n",
    "    for i in tqdm(inp_tokens):\n",
    "        dest_url=f\"https://api.divar.ir/v8/posts-v2/web/{i}\"\n",
    "        dt=extract_json_data(dest_url,try_num,timeout)\n",
    "        if dt is not False:\n",
    "            %sql INSERT INTO out_data(Address,Description,Area,Price) VALUES (:dt[0],:dt[1],:dt[2],:dt[3]))\n",
    "    con_db.close()"
   ],
   "metadata": {
    "collapsed": false,
    "pycharm": {
     "name": "#%%\n"
    }
   }
  },
  {
   "cell_type": "code",
   "execution_count": 59,
   "outputs": [],
   "source": [
    "def create_log():\n",
    "    if 'log.txt' in os.listdir():\n",
    "        with open('log.txt', 'r') as f:\n",
    "            if f.read() == '':\n",
    "                f.close()\n",
    "                with open('log.txt', 'w+') as f:\n",
    "                    f.write(f'{0},{time.time()}\\n')\n",
    "    else:\n",
    "        with open('log.txt', 'w') as f:\n",
    "            f.write(f'{0},{time.time()}\\n')"
   ],
   "metadata": {
    "collapsed": false,
    "pycharm": {
     "name": "#%%\n"
    }
   }
  },
  {
   "cell_type": "code",
   "execution_count": 60,
   "outputs": [],
   "source": [
    "create_log()"
   ],
   "metadata": {
    "collapsed": false,
    "pycharm": {
     "name": "#%%\n"
    }
   }
  },
  {
   "cell_type": "code",
   "execution_count": 61,
   "outputs": [
    {
     "name": "stdout",
     "output_type": "stream",
     "text": [
      " * sqlite:///real_state.db\n",
      "Done.\n"
     ]
    },
    {
     "name": "stderr",
     "output_type": "stream",
     "text": [
      "  0%|          | 1/1553 [00:01<32:03,  1.24s/it]"
     ]
    },
    {
     "name": "stdout",
     "output_type": "stream",
     "text": [
      " * sqlite:///real_state.db\n",
      "(sqlite3.OperationalError) near \"[0]\": syntax error\n",
      "[SQL: INSERT INTO out_data(Address,Description,Area,Price) VALUES (?[0],?[1],?[2],?[3]))]\n",
      "[parameters: (['زمین قولنامه ای موقعیت مکانی', 'بلوار امام رضا کوچه بعداز پمپ بنزین؛بعداز چهارراه انبار فاطمی\\nتیر برق پا زمین \\nدیوارکشی شده ؛سقف آهنی؛استخر ۳×۴\\nآینده دار و ساخت ساز شده \\nتخفیف پای معامله\\nمعاوضه با۲۰۷هم دارم', 165, 720000000], ['زمین قولنامه ای موقعیت مکانی', 'بلوار امام رضا کوچه بعداز پمپ بنزین؛بعداز چهارراه انبار فاطمی\\nتیر برق پا زمین \\nدیوارکشی شده ؛سقف آهنی؛استخر ۳×۴\\nآینده دار و ساخت ساز شده \\nتخفیف پای معامله\\nمعاوضه با۲۰۷هم دارم', 165, 720000000], ['زمین قولنامه ای موقعیت مکانی', 'بلوار امام رضا کوچه بعداز پمپ بنزین؛بعداز چهارراه انبار فاطمی\\nتیر برق پا زمین \\nدیوارکشی شده ؛سقف آهنی؛استخر ۳×۴\\nآینده دار و ساخت ساز شده \\nتخفیف پای معامله\\nمعاوضه با۲۰۷هم دارم', 165, 720000000], ['زمین قولنامه ای موقعیت مکانی', 'بلوار امام رضا کوچه بعداز پمپ بنزین؛بعداز چهارراه انبار فاطمی\\nتیر برق پا زمین \\nدیوارکشی شده ؛سقف آهنی؛استخر ۳×۴\\nآینده دار و ساخت ساز شده \\nتخفیف پای معامله\\nمعاوضه با۲۰۷هم دارم', 165, 720000000])]\n",
      "(Background on this error at: https://sqlalche.me/e/20/e3q8)\n"
     ]
    },
    {
     "name": "stderr",
     "output_type": "stream",
     "text": [
      "  0%|          | 2/1553 [00:02<32:36,  1.26s/it]"
     ]
    },
    {
     "name": "stdout",
     "output_type": "stream",
     "text": [
      " * sqlite:///real_state.db\n",
      "(sqlite3.OperationalError) near \"[0]\": syntax error\n",
      "[SQL: INSERT INTO out_data(Address,Description,Area,Price) VALUES (?[0],?[1],?[2],?[3]))]\n",
      "[parameters: (['زمین قابل ساخت داخل بافت', 'زمین مسکونی روستای ارمک نزدیک امام زاده سند شورا بعد از ساخت سند ششدانگ میدن', 150, 450000000], ['زمین قابل ساخت داخل بافت', 'زمین مسکونی روستای ارمک نزدیک امام زاده سند شورا بعد از ساخت سند ششدانگ میدن', 150, 450000000], ['زمین قابل ساخت داخل بافت', 'زمین مسکونی روستای ارمک نزدیک امام زاده سند شورا بعد از ساخت سند ششدانگ میدن', 150, 450000000], ['زمین قابل ساخت داخل بافت', 'زمین مسکونی روستای ارمک نزدیک امام زاده سند شورا بعد از ساخت سند ششدانگ میدن', 150, 450000000])]\n",
      "(Background on this error at: https://sqlalche.me/e/20/e3q8)\n"
     ]
    },
    {
     "name": "stderr",
     "output_type": "stream",
     "text": [
      "  0%|          | 3/1553 [00:03<32:44,  1.27s/it]"
     ]
    },
    {
     "name": "stdout",
     "output_type": "stream",
     "text": [
      " * sqlite:///real_state.db\n",
      "(sqlite3.OperationalError) near \"[0]\": syntax error\n",
      "[SQL: INSERT INTO out_data(Address,Description,Area,Price) VALUES (?[0],?[1],?[2],?[3]))]\n",
      "[parameters: (['زمین تجاری بر میدان دو کله', 'سند شش دانگ تک برگی\\nبا توافق شهرداری دو طبقه ۱۰۰٪ تجاری و یک طبقه ۱۱۰٪ مسکونی به همراه پرداخت عدم پارکینگ\\nدو کله بر  ... (228 characters truncated) ... ت راحت و کم هزینه به علت دپو راحت مصالح و سرعت ساخت بالا و حمل و نقل آسان به همراه بازدهی سریع  و ارزش افزوده بالا\\nجای پارک فراوان', 140, 4060000000], ['زمین تجاری بر میدان دو کله', 'سند شش دانگ تک برگی\\nبا توافق شهرداری دو طبقه ۱۰۰٪ تجاری و یک طبقه ۱۱۰٪ مسکونی به همراه پرداخت عدم پارکینگ\\nدو کله بر  ... (228 characters truncated) ... ت راحت و کم هزینه به علت دپو راحت مصالح و سرعت ساخت بالا و حمل و نقل آسان به همراه بازدهی سریع  و ارزش افزوده بالا\\nجای پارک فراوان', 140, 4060000000], ['زمین تجاری بر میدان دو کله', 'سند شش دانگ تک برگی\\nبا توافق شهرداری دو طبقه ۱۰۰٪ تجاری و یک طبقه ۱۱۰٪ مسکونی به همراه پرداخت عدم پارکینگ\\nدو کله بر  ... (228 characters truncated) ... ت راحت و کم هزینه به علت دپو راحت مصالح و سرعت ساخت بالا و حمل و نقل آسان به همراه بازدهی سریع  و ارزش افزوده بالا\\nجای پارک فراوان', 140, 4060000000], ['زمین تجاری بر میدان دو کله', 'سند شش دانگ تک برگی\\nبا توافق شهرداری دو طبقه ۱۰۰٪ تجاری و یک طبقه ۱۱۰٪ مسکونی به همراه پرداخت عدم پارکینگ\\nدو کله بر  ... (228 characters truncated) ... ت راحت و کم هزینه به علت دپو راحت مصالح و سرعت ساخت بالا و حمل و نقل آسان به همراه بازدهی سریع  و ارزش افزوده بالا\\nجای پارک فراوان', 140, 4060000000])]\n",
      "(Background on this error at: https://sqlalche.me/e/20/e3q8)\n"
     ]
    },
    {
     "name": "stderr",
     "output_type": "stream",
     "text": [
      "  0%|          | 4/1553 [00:05<32:11,  1.25s/it]"
     ]
    },
    {
     "name": "stdout",
     "output_type": "stream",
     "text": [
      " * sqlite:///real_state.db\n",
      "(sqlite3.OperationalError) near \"[0]\": syntax error\n",
      "[SQL: INSERT INTO out_data(Address,Description,Area,Price) VALUES (?[0],?[1],?[2],?[3]))]\n",
      "[parameters: (['زمین سند دار مناسب سرمایه گذاری شب عید معاوضه', 'زمین منطقه روبه رشد\\n۵در ۲۰ \\nدیوارکشی شده \\nسند دار\\nقابل ساخت\\nآدرس  خیابان سالمندان گلابچی نزدیک مسکن مهر \\nمعاوضه با ماشین \\nو پرداخت شرایطی', 100, 495000000], ['زمین سند دار مناسب سرمایه گذاری شب عید معاوضه', 'زمین منطقه روبه رشد\\n۵در ۲۰ \\nدیوارکشی شده \\nسند دار\\nقابل ساخت\\nآدرس  خیابان سالمندان گلابچی نزدیک مسکن مهر \\nمعاوضه با ماشین \\nو پرداخت شرایطی', 100, 495000000], ['زمین سند دار مناسب سرمایه گذاری شب عید معاوضه', 'زمین منطقه روبه رشد\\n۵در ۲۰ \\nدیوارکشی شده \\nسند دار\\nقابل ساخت\\nآدرس  خیابان سالمندان گلابچی نزدیک مسکن مهر \\nمعاوضه با ماشین \\nو پرداخت شرایطی', 100, 495000000], ['زمین سند دار مناسب سرمایه گذاری شب عید معاوضه', 'زمین منطقه روبه رشد\\n۵در ۲۰ \\nدیوارکشی شده \\nسند دار\\nقابل ساخت\\nآدرس  خیابان سالمندان گلابچی نزدیک مسکن مهر \\nمعاوضه با ماشین \\nو پرداخت شرایطی', 100, 495000000])]\n",
      "(Background on this error at: https://sqlalche.me/e/20/e3q8)\n"
     ]
    },
    {
     "name": "stderr",
     "output_type": "stream",
     "text": [
      "  0%|          | 5/1553 [00:06<33:19,  1.29s/it]"
     ]
    },
    {
     "name": "stdout",
     "output_type": "stream",
     "text": [
      " * sqlite:///real_state.db\n",
      "(sqlite3.OperationalError) near \"[0]\": syntax error\n",
      "[SQL: INSERT INTO out_data(Address,Description,Area,Price) VALUES (?[0],?[1],?[2],?[3]))]\n",
      "[parameters: (['۵۰مترزمین بردوم خیابان اصلی سرمایه گذاری و معاوضه', '۵۰ متر زمین با حدود ۶ متر بر \\nد و  قواره\\nقابل ساخت \\nسند دار\\nمناسب خانه و مغازه \\nبر دوم خیابان\\u200cاصلی \\nاطراف زمین ساخته شده \\nآدرس خیابان سالمندان گلابچی . مسکن مهر \\nعالی برای سرمایه گذاری شب عید \\nقائل معاوضه', 50, 435000000], ['۵۰مترزمین بردوم خیابان اصلی سرمایه گذاری و معاوضه', '۵۰ متر زمین با حدود ۶ متر بر \\nد و  قواره\\nقابل ساخت \\nسند دار\\nمناسب خانه و مغازه \\nبر دوم خیابان\\u200cاصلی \\nاطراف زمین ساخته شده \\nآدرس خیابان سالمندان گلابچی . مسکن مهر \\nعالی برای سرمایه گذاری شب عید \\nقائل معاوضه', 50, 435000000], ['۵۰مترزمین بردوم خیابان اصلی سرمایه گذاری و معاوضه', '۵۰ متر زمین با حدود ۶ متر بر \\nد و  قواره\\nقابل ساخت \\nسند دار\\nمناسب خانه و مغازه \\nبر دوم خیابان\\u200cاصلی \\nاطراف زمین ساخته شده \\nآدرس خیابان سالمندان گلابچی . مسکن مهر \\nعالی برای سرمایه گذاری شب عید \\nقائل معاوضه', 50, 435000000], ['۵۰مترزمین بردوم خیابان اصلی سرمایه گذاری و معاوضه', '۵۰ متر زمین با حدود ۶ متر بر \\nد و  قواره\\nقابل ساخت \\nسند دار\\nمناسب خانه و مغازه \\nبر دوم خیابان\\u200cاصلی \\nاطراف زمین ساخته شده \\nآدرس خیابان سالمندان گلابچی . مسکن مهر \\nعالی برای سرمایه گذاری شب عید \\nقائل معاوضه', 50, 435000000])]\n",
      "(Background on this error at: https://sqlalche.me/e/20/e3q8)\n"
     ]
    },
    {
     "name": "stderr",
     "output_type": "stream",
     "text": [
      "  0%|          | 6/1553 [00:07<32:44,  1.27s/it]"
     ]
    },
    {
     "name": "stdout",
     "output_type": "stream",
     "text": [
      " * sqlite:///real_state.db\n",
      "(sqlite3.OperationalError) near \"[0]\": syntax error\n",
      "[SQL: INSERT INTO out_data(Address,Description,Area,Price) VALUES (?[0],?[1],?[2],?[3]))]\n",
      "[parameters: (['زمین ۲۱۲ متری   متری۳۷۰۰', 'انتهای فین بزرگ روبه رو مسکن مهر داخل کوچه برق کشی شده مناسب برای خانه باغ. کوچه باغ یاسین دارای نیم متر دیوار کشی', 212, 750000000], ['زمین ۲۱۲ متری   متری۳۷۰۰', 'انتهای فین بزرگ روبه رو مسکن مهر داخل کوچه برق کشی شده مناسب برای خانه باغ. کوچه باغ یاسین دارای نیم متر دیوار کشی', 212, 750000000], ['زمین ۲۱۲ متری   متری۳۷۰۰', 'انتهای فین بزرگ روبه رو مسکن مهر داخل کوچه برق کشی شده مناسب برای خانه باغ. کوچه باغ یاسین دارای نیم متر دیوار کشی', 212, 750000000], ['زمین ۲۱۲ متری   متری۳۷۰۰', 'انتهای فین بزرگ روبه رو مسکن مهر داخل کوچه برق کشی شده مناسب برای خانه باغ. کوچه باغ یاسین دارای نیم متر دیوار کشی', 212, 750000000])]\n",
      "(Background on this error at: https://sqlalche.me/e/20/e3q8)\n"
     ]
    },
    {
     "name": "stderr",
     "output_type": "stream",
     "text": [
      "  0%|          | 7/1553 [00:08<32:14,  1.25s/it]"
     ]
    },
    {
     "name": "stdout",
     "output_type": "stream",
     "text": [
      " * sqlite:///real_state.db\n",
      "(sqlite3.OperationalError) near \"[0]\": syntax error\n",
      "[SQL: INSERT INTO out_data(Address,Description,Area,Price) VALUES (?[0],?[1],?[2],?[3]))]\n",
      "[parameters: (['زمین یزدآباد، بلوار فاطمیه، 420 متری،', '♦با نام ویاد خدا، ♦♦♦\\nبهترین نقطه برای ویلاسازی، \\n♦بارجوع در پایان هر اگهی، فایل هایه اگهی شده دیده شود،  ... (417 characters truncated) ... فقط تماس، \\n♦بهترین گزینه برای سرمایه گذاری، \\n♦یزدآباد طلایه 24 عیاره، \\n♦ملک خودتان به مابسپارید،\\n♦عابدی  :  مشاور امور ملک، ♦♦♦', 420, 1590000000], ['زمین یزدآباد، بلوار فاطمیه، 420 متری،', '♦با نام ویاد خدا، ♦♦♦\\nبهترین نقطه برای ویلاسازی، \\n♦بارجوع در پایان هر اگهی، فایل هایه اگهی شده دیده شود،  ... (417 characters truncated) ... فقط تماس، \\n♦بهترین گزینه برای سرمایه گذاری، \\n♦یزدآباد طلایه 24 عیاره، \\n♦ملک خودتان به مابسپارید،\\n♦عابدی  :  مشاور امور ملک، ♦♦♦', 420, 1590000000], ['زمین یزدآباد، بلوار فاطمیه، 420 متری،', '♦با نام ویاد خدا، ♦♦♦\\nبهترین نقطه برای ویلاسازی، \\n♦بارجوع در پایان هر اگهی، فایل هایه اگهی شده دیده شود،  ... (417 characters truncated) ... فقط تماس، \\n♦بهترین گزینه برای سرمایه گذاری، \\n♦یزدآباد طلایه 24 عیاره، \\n♦ملک خودتان به مابسپارید،\\n♦عابدی  :  مشاور امور ملک، ♦♦♦', 420, 1590000000], ['زمین یزدآباد، بلوار فاطمیه، 420 متری،', '♦با نام ویاد خدا، ♦♦♦\\nبهترین نقطه برای ویلاسازی، \\n♦بارجوع در پایان هر اگهی، فایل هایه اگهی شده دیده شود،  ... (417 characters truncated) ... فقط تماس، \\n♦بهترین گزینه برای سرمایه گذاری، \\n♦یزدآباد طلایه 24 عیاره، \\n♦ملک خودتان به مابسپارید،\\n♦عابدی  :  مشاور امور ملک، ♦♦♦', 420, 1590000000])]\n",
      "(Background on this error at: https://sqlalche.me/e/20/e3q8)\n"
     ]
    },
    {
     "name": "stderr",
     "output_type": "stream",
     "text": [
      "  1%|          | 8/1553 [00:10<31:54,  1.24s/it]"
     ]
    },
    {
     "name": "stdout",
     "output_type": "stream",
     "text": [
      " * sqlite:///real_state.db\n",
      "(sqlite3.OperationalError) near \"[0]\": syntax error\n",
      "[SQL: INSERT INTO out_data(Address,Description,Area,Price) VALUES (?[0],?[1],?[2],?[3]))]\n",
      "[parameters: (['۲۰۰متر زمین حسن آباد', 'زمین ۲۰۰ متری حسن آباد خط گاز کوچه زراعت سوم وسط کوچه\\nابعاد زمین\\n۴۰×۵\\nزمین دوکله هست\\nآب برق گاز تلفن در دوسمت زمین موجوده\\nهمسایه ها عالی \\n(شرایطی هم میدم)\\n(معاوضه هم میکنم )', 200, 1500000000], ['۲۰۰متر زمین حسن آباد', 'زمین ۲۰۰ متری حسن آباد خط گاز کوچه زراعت سوم وسط کوچه\\nابعاد زمین\\n۴۰×۵\\nزمین دوکله هست\\nآب برق گاز تلفن در دوسمت زمین موجوده\\nهمسایه ها عالی \\n(شرایطی هم میدم)\\n(معاوضه هم میکنم )', 200, 1500000000], ['۲۰۰متر زمین حسن آباد', 'زمین ۲۰۰ متری حسن آباد خط گاز کوچه زراعت سوم وسط کوچه\\nابعاد زمین\\n۴۰×۵\\nزمین دوکله هست\\nآب برق گاز تلفن در دوسمت زمین موجوده\\nهمسایه ها عالی \\n(شرایطی هم میدم)\\n(معاوضه هم میکنم )', 200, 1500000000], ['۲۰۰متر زمین حسن آباد', 'زمین ۲۰۰ متری حسن آباد خط گاز کوچه زراعت سوم وسط کوچه\\nابعاد زمین\\n۴۰×۵\\nزمین دوکله هست\\nآب برق گاز تلفن در دوسمت زمین موجوده\\nهمسایه ها عالی \\n(شرایطی هم میدم)\\n(معاوضه هم میکنم )', 200, 1500000000])]\n",
      "(Background on this error at: https://sqlalche.me/e/20/e3q8)\n"
     ]
    },
    {
     "name": "stderr",
     "output_type": "stream",
     "text": [
      "  1%|          | 9/1553 [00:11<31:55,  1.24s/it]"
     ]
    },
    {
     "name": "stdout",
     "output_type": "stream",
     "text": [
      " * sqlite:///real_state.db\n",
      "(sqlite3.OperationalError) near \"[0]\": syntax error\n",
      "[SQL: INSERT INTO out_data(Address,Description,Area,Price) VALUES (?[0],?[1],?[2],?[3]))]\n",
      "[parameters: (['زمین مسکونی فتح المبین', 'زمین مسکونی\\nفتح المبین (شهرک فردوس)\\nهمراه با هزینه آب', 200, 480000000], ['زمین مسکونی فتح المبین', 'زمین مسکونی\\nفتح المبین (شهرک فردوس)\\nهمراه با هزینه آب', 200, 480000000], ['زمین مسکونی فتح المبین', 'زمین مسکونی\\nفتح المبین (شهرک فردوس)\\nهمراه با هزینه آب', 200, 480000000], ['زمین مسکونی فتح المبین', 'زمین مسکونی\\nفتح المبین (شهرک فردوس)\\nهمراه با هزینه آب', 200, 480000000])]\n",
      "(Background on this error at: https://sqlalche.me/e/20/e3q8)\n"
     ]
    },
    {
     "name": "stderr",
     "output_type": "stream",
     "text": [
      "  1%|          | 10/1553 [00:12<31:31,  1.23s/it]"
     ]
    },
    {
     "name": "stdout",
     "output_type": "stream",
     "text": [
      " * sqlite:///real_state.db\n",
      "(sqlite3.OperationalError) near \"[0]\": syntax error\n",
      "[SQL: INSERT INTO out_data(Address,Description,Area,Price) VALUES (?[0],?[1],?[2],?[3]))]\n",
      "[parameters: (['زمین ۲۰۰۰ متر بر ۳۶ متری پدیده', 'زمین به ابعاد ۲۰ در ۱۰۰\\n۲۰ متر بر جاده ۳۶ متری\\nمنطقه روبه رشد و در حال ساخت و ساز\\nداری تعهد آب و حق ریشه از کشاورز اصلی\\nبهترین موقعیت برای سرمایه گذاری \\nمعاوضه با ماشین هم دارم', 2000, 2400000000], ['زمین ۲۰۰۰ متر بر ۳۶ متری پدیده', 'زمین به ابعاد ۲۰ در ۱۰۰\\n۲۰ متر بر جاده ۳۶ متری\\nمنطقه روبه رشد و در حال ساخت و ساز\\nداری تعهد آب و حق ریشه از کشاورز اصلی\\nبهترین موقعیت برای سرمایه گذاری \\nمعاوضه با ماشین هم دارم', 2000, 2400000000], ['زمین ۲۰۰۰ متر بر ۳۶ متری پدیده', 'زمین به ابعاد ۲۰ در ۱۰۰\\n۲۰ متر بر جاده ۳۶ متری\\nمنطقه روبه رشد و در حال ساخت و ساز\\nداری تعهد آب و حق ریشه از کشاورز اصلی\\nبهترین موقعیت برای سرمایه گذاری \\nمعاوضه با ماشین هم دارم', 2000, 2400000000], ['زمین ۲۰۰۰ متر بر ۳۶ متری پدیده', 'زمین به ابعاد ۲۰ در ۱۰۰\\n۲۰ متر بر جاده ۳۶ متری\\nمنطقه روبه رشد و در حال ساخت و ساز\\nداری تعهد آب و حق ریشه از کشاورز اصلی\\nبهترین موقعیت برای سرمایه گذاری \\nمعاوضه با ماشین هم دارم', 2000, 2400000000])]\n",
      "(Background on this error at: https://sqlalche.me/e/20/e3q8)\n"
     ]
    },
    {
     "name": "stderr",
     "output_type": "stream",
     "text": [
      "  1%|          | 11/1553 [00:13<31:48,  1.24s/it]"
     ]
    },
    {
     "name": "stdout",
     "output_type": "stream",
     "text": [
      " * sqlite:///real_state.db\n",
      "(sqlite3.OperationalError) near \"[0]\": syntax error\n",
      "[SQL: INSERT INTO out_data(Address,Description,Area,Price) VALUES (?[0],?[1],?[2],?[3]))]\n",
      "[parameters: (['زمین شمشاد ۴', 'جای خوب عالی همه ساختن', 76, 1100000000], ['زمین شمشاد ۴', 'جای خوب عالی همه ساختن', 76, 1100000000], ['زمین شمشاد ۴', 'جای خوب عالی همه ساختن', 76, 1100000000], ['زمین شمشاد ۴', 'جای خوب عالی همه ساختن', 76, 1100000000])]\n",
      "(Background on this error at: https://sqlalche.me/e/20/e3q8)\n"
     ]
    },
    {
     "name": "stderr",
     "output_type": "stream",
     "text": [
      "  1%|          | 12/1553 [00:14<31:53,  1.24s/it]"
     ]
    },
    {
     "name": "stdout",
     "output_type": "stream",
     "text": [
      " * sqlite:///real_state.db\n",
      "(sqlite3.OperationalError) near \"[0]\": syntax error\n",
      "[SQL: INSERT INTO out_data(Address,Description,Area,Price) VALUES (?[0],?[1],?[2],?[3]))]\n",
      "[parameters: (['زمین سند دار بلوار امام رضا', '۲۷۰ متر مشاع \\nسند تک برگ بنام اماده انتقال قطعی \\nسرمایه گذاری مطمین\\nموقعیت عالی \\nبلوار امام رضا کوچه انبار فاطمی پشت مسجد روبروی الهیه\\nتخفیف خرید نقدی\\nقابل معاوضه با خودرو', 270, 850000000], ['زمین سند دار بلوار امام رضا', '۲۷۰ متر مشاع \\nسند تک برگ بنام اماده انتقال قطعی \\nسرمایه گذاری مطمین\\nموقعیت عالی \\nبلوار امام رضا کوچه انبار فاطمی پشت مسجد روبروی الهیه\\nتخفیف خرید نقدی\\nقابل معاوضه با خودرو', 270, 850000000], ['زمین سند دار بلوار امام رضا', '۲۷۰ متر مشاع \\nسند تک برگ بنام اماده انتقال قطعی \\nسرمایه گذاری مطمین\\nموقعیت عالی \\nبلوار امام رضا کوچه انبار فاطمی پشت مسجد روبروی الهیه\\nتخفیف خرید نقدی\\nقابل معاوضه با خودرو', 270, 850000000], ['زمین سند دار بلوار امام رضا', '۲۷۰ متر مشاع \\nسند تک برگ بنام اماده انتقال قطعی \\nسرمایه گذاری مطمین\\nموقعیت عالی \\nبلوار امام رضا کوچه انبار فاطمی پشت مسجد روبروی الهیه\\nتخفیف خرید نقدی\\nقابل معاوضه با خودرو', 270, 850000000])]\n",
      "(Background on this error at: https://sqlalche.me/e/20/e3q8)\n"
     ]
    },
    {
     "name": "stderr",
     "output_type": "stream",
     "text": [
      "  1%|          | 13/1553 [00:16<32:03,  1.25s/it]"
     ]
    },
    {
     "name": "stdout",
     "output_type": "stream",
     "text": [
      " * sqlite:///real_state.db\n",
      "(sqlite3.OperationalError) near \"[0]\": syntax error\n",
      "[SQL: INSERT INTO out_data(Address,Description,Area,Price) VALUES (?[0],?[1],?[2],?[3]))]\n",
      "[parameters: (['زمین پشت خط راه آهن مادرسنددار', 'زمین موقعیت عالی آب برق گاز بالاسرش مادرسنددار مدارک کامل منطقه کاملا مسکونی یحیی آباد کوچه سوم جنب حسینیه فاطمه الزهرا پول لازمم ۳۶۰نقد میخوام دوروزه بقیشو چک هم قبول میکنم بلندمدت زیر قیمت میدم فقط به مدت دوروز', 200, 500000000], ['زمین پشت خط راه آهن مادرسنددار', 'زمین موقعیت عالی آب برق گاز بالاسرش مادرسنددار مدارک کامل منطقه کاملا مسکونی یحیی آباد کوچه سوم جنب حسینیه فاطمه الزهرا پول لازمم ۳۶۰نقد میخوام دوروزه بقیشو چک هم قبول میکنم بلندمدت زیر قیمت میدم فقط به مدت دوروز', 200, 500000000], ['زمین پشت خط راه آهن مادرسنددار', 'زمین موقعیت عالی آب برق گاز بالاسرش مادرسنددار مدارک کامل منطقه کاملا مسکونی یحیی آباد کوچه سوم جنب حسینیه فاطمه الزهرا پول لازمم ۳۶۰نقد میخوام دوروزه بقیشو چک هم قبول میکنم بلندمدت زیر قیمت میدم فقط به مدت دوروز', 200, 500000000], ['زمین پشت خط راه آهن مادرسنددار', 'زمین موقعیت عالی آب برق گاز بالاسرش مادرسنددار مدارک کامل منطقه کاملا مسکونی یحیی آباد کوچه سوم جنب حسینیه فاطمه الزهرا پول لازمم ۳۶۰نقد میخوام دوروزه بقیشو چک هم قبول میکنم بلندمدت زیر قیمت میدم فقط به مدت دوروز', 200, 500000000])]\n",
      "(Background on this error at: https://sqlalche.me/e/20/e3q8)\n"
     ]
    },
    {
     "name": "stderr",
     "output_type": "stream",
     "text": [
      "  1%|          | 14/1553 [00:17<32:10,  1.25s/it]"
     ]
    },
    {
     "name": "stdout",
     "output_type": "stream",
     "text": [
      " * sqlite:///real_state.db\n",
      "(sqlite3.OperationalError) near \"[0]\": syntax error\n",
      "[SQL: INSERT INTO out_data(Address,Description,Area,Price) VALUES (?[0],?[1],?[2],?[3]))]\n",
      "[parameters: (['منزل فروشی.زمین فاز۲', 'زیرزمین ۱۰سال ساخت\\nنزدیک میدان کاظمیه \\n۶دانگ شمالی \\n۱۴۰متر زیربنا\\nامتیازات کامل \\nپایه های بالا پاکار\\nاین قیمت پول زمینشه فقط', 200, 3300000000], ['منزل فروشی.زمین فاز۲', 'زیرزمین ۱۰سال ساخت\\nنزدیک میدان کاظمیه \\n۶دانگ شمالی \\n۱۴۰متر زیربنا\\nامتیازات کامل \\nپایه های بالا پاکار\\nاین قیمت پول زمینشه فقط', 200, 3300000000], ['منزل فروشی.زمین فاز۲', 'زیرزمین ۱۰سال ساخت\\nنزدیک میدان کاظمیه \\n۶دانگ شمالی \\n۱۴۰متر زیربنا\\nامتیازات کامل \\nپایه های بالا پاکار\\nاین قیمت پول زمینشه فقط', 200, 3300000000], ['منزل فروشی.زمین فاز۲', 'زیرزمین ۱۰سال ساخت\\nنزدیک میدان کاظمیه \\n۶دانگ شمالی \\n۱۴۰متر زیربنا\\nامتیازات کامل \\nپایه های بالا پاکار\\nاین قیمت پول زمینشه فقط', 200, 3300000000])]\n",
      "(Background on this error at: https://sqlalche.me/e/20/e3q8)\n"
     ]
    },
    {
     "name": "stderr",
     "output_type": "stream",
     "text": [
      "  1%|          | 15/1553 [00:18<31:41,  1.24s/it]"
     ]
    },
    {
     "name": "stdout",
     "output_type": "stream",
     "text": [
      " * sqlite:///real_state.db\n",
      "(sqlite3.OperationalError) near \"[0]\": syntax error\n",
      "[SQL: INSERT INTO out_data(Address,Description,Area,Price) VALUES (?[0],?[1],?[2],?[3]))]\n",
      "[parameters: (['زمین جهت ساخت ویلا وخونه باغ ۸۰۰ متری', 'باغ قدیمی با موقعیت عالی برای ساخت خونه باغ و ویلا به متراژ حدود ۸۰۰ متر ۱۶.۸۰ در ۵۰ خوش قواره .با دیوار کش ... (59 characters truncated) ... حتی وخلج \\nبا قولنامه وحق ریشه وتقسیم نامه معتبر .\\nبصورت اقساط ۳۰ در صد نقد ومابقی چک چند ماهه\\nشما از مالک اصلی میخرید بدون واسطه', 800, 1600000000], ['زمین جهت ساخت ویلا وخونه باغ ۸۰۰ متری', 'باغ قدیمی با موقعیت عالی برای ساخت خونه باغ و ویلا به متراژ حدود ۸۰۰ متر ۱۶.۸۰ در ۵۰ خوش قواره .با دیوار کش ... (59 characters truncated) ... حتی وخلج \\nبا قولنامه وحق ریشه وتقسیم نامه معتبر .\\nبصورت اقساط ۳۰ در صد نقد ومابقی چک چند ماهه\\nشما از مالک اصلی میخرید بدون واسطه', 800, 1600000000], ['زمین جهت ساخت ویلا وخونه باغ ۸۰۰ متری', 'باغ قدیمی با موقعیت عالی برای ساخت خونه باغ و ویلا به متراژ حدود ۸۰۰ متر ۱۶.۸۰ در ۵۰ خوش قواره .با دیوار کش ... (59 characters truncated) ... حتی وخلج \\nبا قولنامه وحق ریشه وتقسیم نامه معتبر .\\nبصورت اقساط ۳۰ در صد نقد ومابقی چک چند ماهه\\nشما از مالک اصلی میخرید بدون واسطه', 800, 1600000000], ['زمین جهت ساخت ویلا وخونه باغ ۸۰۰ متری', 'باغ قدیمی با موقعیت عالی برای ساخت خونه باغ و ویلا به متراژ حدود ۸۰۰ متر ۱۶.۸۰ در ۵۰ خوش قواره .با دیوار کش ... (59 characters truncated) ... حتی وخلج \\nبا قولنامه وحق ریشه وتقسیم نامه معتبر .\\nبصورت اقساط ۳۰ در صد نقد ومابقی چک چند ماهه\\nشما از مالک اصلی میخرید بدون واسطه', 800, 1600000000])]\n",
      "(Background on this error at: https://sqlalche.me/e/20/e3q8)\n"
     ]
    },
    {
     "name": "stderr",
     "output_type": "stream",
     "text": [
      "  1%|          | 16/1553 [00:19<32:02,  1.25s/it]"
     ]
    },
    {
     "name": "stdout",
     "output_type": "stream",
     "text": [
      " * sqlite:///real_state.db\n",
      "(sqlite3.OperationalError) near \"[0]\": syntax error\n",
      "[SQL: INSERT INTO out_data(Address,Description,Area,Price) VALUES (?[0],?[1],?[2],?[3]))]\n",
      "[parameters: (['زمین ۵۰۰ متری', 'نصف نقد نصف چک معتبر نیاسر بالا تر از مسجد اتابکی', 502, 750000000], ['زمین ۵۰۰ متری', 'نصف نقد نصف چک معتبر نیاسر بالا تر از مسجد اتابکی', 502, 750000000], ['زمین ۵۰۰ متری', 'نصف نقد نصف چک معتبر نیاسر بالا تر از مسجد اتابکی', 502, 750000000], ['زمین ۵۰۰ متری', 'نصف نقد نصف چک معتبر نیاسر بالا تر از مسجد اتابکی', 502, 750000000])]\n",
      "(Background on this error at: https://sqlalche.me/e/20/e3q8)\n"
     ]
    },
    {
     "name": "stderr",
     "output_type": "stream",
     "text": [
      "  1%|          | 17/1553 [00:21<31:58,  1.25s/it]"
     ]
    },
    {
     "name": "stdout",
     "output_type": "stream",
     "text": [
      " * sqlite:///real_state.db\n",
      "(sqlite3.OperationalError) near \"[0]\": syntax error\n",
      "[SQL: INSERT INTO out_data(Address,Description,Area,Price) VALUES (?[0],?[1],?[2],?[3]))]\n",
      "[parameters: (['زمین فتح المبین صنعتی', 'زمینهای جدید \\nسند هنوز اماده نشده\\nدو بر', 850, 450000000], ['زمین فتح المبین صنعتی', 'زمینهای جدید \\nسند هنوز اماده نشده\\nدو بر', 850, 450000000], ['زمین فتح المبین صنعتی', 'زمینهای جدید \\nسند هنوز اماده نشده\\nدو بر', 850, 450000000], ['زمین فتح المبین صنعتی', 'زمینهای جدید \\nسند هنوز اماده نشده\\nدو بر', 850, 450000000])]\n",
      "(Background on this error at: https://sqlalche.me/e/20/e3q8)\n"
     ]
    },
    {
     "name": "stderr",
     "output_type": "stream",
     "text": [
      "  1%|          | 18/1553 [00:22<31:47,  1.24s/it]"
     ]
    },
    {
     "name": "stdout",
     "output_type": "stream",
     "text": [
      " * sqlite:///real_state.db\n",
      "(sqlite3.OperationalError) near \"[0]\": syntax error\n",
      "[SQL: INSERT INTO out_data(Address,Description,Area,Price) VALUES (?[0],?[1],?[2],?[3]))]\n",
      "[parameters: (['زمین ۶۰ متری', 'زمین مناسب مغازه و کارگاهی و صنعتی۵/۵×۱۱متر', 60, 500000000], ['زمین ۶۰ متری', 'زمین مناسب مغازه و کارگاهی و صنعتی۵/۵×۱۱متر', 60, 500000000], ['زمین ۶۰ متری', 'زمین مناسب مغازه و کارگاهی و صنعتی۵/۵×۱۱متر', 60, 500000000], ['زمین ۶۰ متری', 'زمین مناسب مغازه و کارگاهی و صنعتی۵/۵×۱۱متر', 60, 500000000])]\n",
      "(Background on this error at: https://sqlalche.me/e/20/e3q8)\n"
     ]
    },
    {
     "name": "stderr",
     "output_type": "stream",
     "text": [
      "  1%|          | 19/1553 [00:23<31:52,  1.25s/it]"
     ]
    },
    {
     "name": "stdout",
     "output_type": "stream",
     "text": [
      " * sqlite:///real_state.db\n",
      "(sqlite3.OperationalError) near \"[0]\": syntax error\n",
      "[SQL: INSERT INTO out_data(Address,Description,Area,Price) VALUES (?[0],?[1],?[2],?[3]))]\n",
      "[parameters: (['زمین با دیوارکشی', '117 متری\\n9متربر دارد\\nبر اصلی جاده 10 متری\\nدارای دیوار کشی\\nدارای قولنامه معتبر و حق ریشه\\nکروکی\\nبهترین سرمایه گذاری و روب رشد\\nصرفا جهت سرمایه گذاری خوبه یا باغچه\\nآدرس بعد از باغ سیاهکار، بر اصلی چاه امید', 117, 330000000], ['زمین با دیوارکشی', '117 متری\\n9متربر دارد\\nبر اصلی جاده 10 متری\\nدارای دیوار کشی\\nدارای قولنامه معتبر و حق ریشه\\nکروکی\\nبهترین سرمایه گذاری و روب رشد\\nصرفا جهت سرمایه گذاری خوبه یا باغچه\\nآدرس بعد از باغ سیاهکار، بر اصلی چاه امید', 117, 330000000], ['زمین با دیوارکشی', '117 متری\\n9متربر دارد\\nبر اصلی جاده 10 متری\\nدارای دیوار کشی\\nدارای قولنامه معتبر و حق ریشه\\nکروکی\\nبهترین سرمایه گذاری و روب رشد\\nصرفا جهت سرمایه گذاری خوبه یا باغچه\\nآدرس بعد از باغ سیاهکار، بر اصلی چاه امید', 117, 330000000], ['زمین با دیوارکشی', '117 متری\\n9متربر دارد\\nبر اصلی جاده 10 متری\\nدارای دیوار کشی\\nدارای قولنامه معتبر و حق ریشه\\nکروکی\\nبهترین سرمایه گذاری و روب رشد\\nصرفا جهت سرمایه گذاری خوبه یا باغچه\\nآدرس بعد از باغ سیاهکار، بر اصلی چاه امید', 117, 330000000])]\n",
      "(Background on this error at: https://sqlalche.me/e/20/e3q8)\n"
     ]
    },
    {
     "name": "stderr",
     "output_type": "stream",
     "text": [
      "  1%|▏         | 20/1553 [00:24<31:48,  1.24s/it]"
     ]
    },
    {
     "name": "stdout",
     "output_type": "stream",
     "text": [
      " * sqlite:///real_state.db\n",
      "(sqlite3.OperationalError) near \"[0]\": syntax error\n",
      "[SQL: INSERT INTO out_data(Address,Description,Area,Price) VALUES (?[0],?[1],?[2],?[3]))]\n",
      "[parameters: (['زمین حسن آباد / لوکیشن خوب/', '148 متر زمین \\nرو به رو مرکز درمانی \\nامتیازات پای زمین \\nمنطقه مسکونی \\nپول لازمی \\nقابلیت پرداخت شرایطی  \\nزیر قیمت \\nخرید و فروش املاک خود را ب مشاوران ما بسپارید', 148, 580000000], ['زمین حسن آباد / لوکیشن خوب/', '148 متر زمین \\nرو به رو مرکز درمانی \\nامتیازات پای زمین \\nمنطقه مسکونی \\nپول لازمی \\nقابلیت پرداخت شرایطی  \\nزیر قیمت \\nخرید و فروش املاک خود را ب مشاوران ما بسپارید', 148, 580000000], ['زمین حسن آباد / لوکیشن خوب/', '148 متر زمین \\nرو به رو مرکز درمانی \\nامتیازات پای زمین \\nمنطقه مسکونی \\nپول لازمی \\nقابلیت پرداخت شرایطی  \\nزیر قیمت \\nخرید و فروش املاک خود را ب مشاوران ما بسپارید', 148, 580000000], ['زمین حسن آباد / لوکیشن خوب/', '148 متر زمین \\nرو به رو مرکز درمانی \\nامتیازات پای زمین \\nمنطقه مسکونی \\nپول لازمی \\nقابلیت پرداخت شرایطی  \\nزیر قیمت \\nخرید و فروش املاک خود را ب مشاوران ما بسپارید', 148, 580000000])]\n",
      "(Background on this error at: https://sqlalche.me/e/20/e3q8)\n"
     ]
    },
    {
     "name": "stderr",
     "output_type": "stream",
     "text": [
      "  1%|▏         | 21/1553 [00:26<31:30,  1.23s/it]"
     ]
    },
    {
     "name": "stdout",
     "output_type": "stream",
     "text": [
      " * sqlite:///real_state.db\n",
      "(sqlite3.OperationalError) near \"[0]\": syntax error\n",
      "[SQL: INSERT INTO out_data(Address,Description,Area,Price) VALUES (?[0],?[1],?[2],?[3]))]\n",
      "[parameters: (['زمین قلفتی دو کله آماده ساخت محدوده چهار بانده', 'دو کله\\nسند و پروانه دار\\nمحدوده ۴ بانده\\nآماده ساخت', 200, 3500000000], ['زمین قلفتی دو کله آماده ساخت محدوده چهار بانده', 'دو کله\\nسند و پروانه دار\\nمحدوده ۴ بانده\\nآماده ساخت', 200, 3500000000], ['زمین قلفتی دو کله آماده ساخت محدوده چهار بانده', 'دو کله\\nسند و پروانه دار\\nمحدوده ۴ بانده\\nآماده ساخت', 200, 3500000000], ['زمین قلفتی دو کله آماده ساخت محدوده چهار بانده', 'دو کله\\nسند و پروانه دار\\nمحدوده ۴ بانده\\nآماده ساخت', 200, 3500000000])]\n",
      "(Background on this error at: https://sqlalche.me/e/20/e3q8)\n"
     ]
    },
    {
     "name": "stderr",
     "output_type": "stream",
     "text": [
      "  1%|▏         | 22/1553 [00:27<31:10,  1.22s/it]"
     ]
    },
    {
     "name": "stdout",
     "output_type": "stream",
     "text": [
      " * sqlite:///real_state.db\n",
      "(sqlite3.OperationalError) near \"[0]\": syntax error\n",
      "[SQL: INSERT INTO out_data(Address,Description,Area,Price) VALUES (?[0],?[1],?[2],?[3]))]\n",
      "[parameters: (['زمین چارراه مدرس اول مفتح', 'پیام چت دیوار\\n\\n* سند ۶ دانگ و پروانه دو طبقه روی پیلوت\\n* دو بر، هر بر ۱۰.۵ متر\\n* درصد ساخت بالا (بیش از ۹۸ متر ساخت ... (2 characters truncated) ... ن، کمتر از ۱۰ متر حیاط)\\n* دارای امتیاز آب و برق و گاز\\n* سه راه مدرس، ابتدای خیابان مفتح، کوچه گلساز *فاصله تا خیابان مفتح، ۶۰ متر', 108, 2200000000], ['زمین چارراه مدرس اول مفتح', 'پیام چت دیوار\\n\\n* سند ۶ دانگ و پروانه دو طبقه روی پیلوت\\n* دو بر، هر بر ۱۰.۵ متر\\n* درصد ساخت بالا (بیش از ۹۸ متر ساخت ... (2 characters truncated) ... ن، کمتر از ۱۰ متر حیاط)\\n* دارای امتیاز آب و برق و گاز\\n* سه راه مدرس، ابتدای خیابان مفتح، کوچه گلساز *فاصله تا خیابان مفتح، ۶۰ متر', 108, 2200000000], ['زمین چارراه مدرس اول مفتح', 'پیام چت دیوار\\n\\n* سند ۶ دانگ و پروانه دو طبقه روی پیلوت\\n* دو بر، هر بر ۱۰.۵ متر\\n* درصد ساخت بالا (بیش از ۹۸ متر ساخت ... (2 characters truncated) ... ن، کمتر از ۱۰ متر حیاط)\\n* دارای امتیاز آب و برق و گاز\\n* سه راه مدرس، ابتدای خیابان مفتح، کوچه گلساز *فاصله تا خیابان مفتح، ۶۰ متر', 108, 2200000000], ['زمین چارراه مدرس اول مفتح', 'پیام چت دیوار\\n\\n* سند ۶ دانگ و پروانه دو طبقه روی پیلوت\\n* دو بر، هر بر ۱۰.۵ متر\\n* درصد ساخت بالا (بیش از ۹۸ متر ساخت ... (2 characters truncated) ... ن، کمتر از ۱۰ متر حیاط)\\n* دارای امتیاز آب و برق و گاز\\n* سه راه مدرس، ابتدای خیابان مفتح، کوچه گلساز *فاصله تا خیابان مفتح، ۶۰ متر', 108, 2200000000])]\n",
      "(Background on this error at: https://sqlalche.me/e/20/e3q8)\n"
     ]
    },
    {
     "name": "stderr",
     "output_type": "stream",
     "text": [
      "  2%|▏         | 24/1553 [00:31<38:01,  1.49s/it]"
     ]
    },
    {
     "name": "stdout",
     "output_type": "stream",
     "text": [
      " * sqlite:///real_state.db\n",
      "(sqlite3.OperationalError) near \"[0]\": syntax error\n",
      "[SQL: INSERT INTO out_data(Address,Description,Area,Price) VALUES (?[0],?[1],?[2],?[3]))]\n",
      "[parameters: (['زمین راومد کوچه شهید عیوضی', 'سلام مساحت زمین ۱۶۵ متر منطقه مسکونی\\nکوچه ده متری\\nتمام امتیازها پای زمین\\nقولنامه از ریشه و معتبر\\nآدرس راوند \\nکوچه شهید عیوضی\\nکوچه سعدی (باغ رضا)\\nاطراف در حال ساخت میباشد\\nتشکر از عوامل ومدیر دیوار', 165, 430000000], ['زمین راومد کوچه شهید عیوضی', 'سلام مساحت زمین ۱۶۵ متر منطقه مسکونی\\nکوچه ده متری\\nتمام امتیازها پای زمین\\nقولنامه از ریشه و معتبر\\nآدرس راوند \\nکوچه شهید عیوضی\\nکوچه سعدی (باغ رضا)\\nاطراف در حال ساخت میباشد\\nتشکر از عوامل ومدیر دیوار', 165, 430000000], ['زمین راومد کوچه شهید عیوضی', 'سلام مساحت زمین ۱۶۵ متر منطقه مسکونی\\nکوچه ده متری\\nتمام امتیازها پای زمین\\nقولنامه از ریشه و معتبر\\nآدرس راوند \\nکوچه شهید عیوضی\\nکوچه سعدی (باغ رضا)\\nاطراف در حال ساخت میباشد\\nتشکر از عوامل ومدیر دیوار', 165, 430000000], ['زمین راومد کوچه شهید عیوضی', 'سلام مساحت زمین ۱۶۵ متر منطقه مسکونی\\nکوچه ده متری\\nتمام امتیازها پای زمین\\nقولنامه از ریشه و معتبر\\nآدرس راوند \\nکوچه شهید عیوضی\\nکوچه سعدی (باغ رضا)\\nاطراف در حال ساخت میباشد\\nتشکر از عوامل ومدیر دیوار', 165, 430000000])]\n",
      "(Background on this error at: https://sqlalche.me/e/20/e3q8)\n"
     ]
    },
    {
     "name": "stderr",
     "output_type": "stream",
     "text": [
      "  2%|▏         | 25/1553 [00:32<35:44,  1.40s/it]"
     ]
    },
    {
     "name": "stdout",
     "output_type": "stream",
     "text": [
      " * sqlite:///real_state.db\n",
      "(sqlite3.OperationalError) near \"[0]\": syntax error\n",
      "[SQL: INSERT INTO out_data(Address,Description,Area,Price) VALUES (?[0],?[1],?[2],?[3]))]\n",
      "[parameters: (['زمین ۱۲۰ متری بلوار امام رضا کوچه عمارت فخریه', 'فرصتی استثنایی \\nمعاوضه با خودرو و آپارتمان\\nنقد با تخفیف ویژه و شرایط اقساط \\nفقط و فقط تا پایان ر ... (209 characters truncated) ... ایتا به همین خط و ارسال موقعیت مکانی توسط من\\nقولنامه معتبر دست اول از رعیت منطقه\\nاولین بازدید=پسندیدن= خرید \\nتماس بگیرید۰\\nیا علی', 120, 350000000], ['زمین ۱۲۰ متری بلوار امام رضا کوچه عمارت فخریه', 'فرصتی استثنایی \\nمعاوضه با خودرو و آپارتمان\\nنقد با تخفیف ویژه و شرایط اقساط \\nفقط و فقط تا پایان ر ... (209 characters truncated) ... ایتا به همین خط و ارسال موقعیت مکانی توسط من\\nقولنامه معتبر دست اول از رعیت منطقه\\nاولین بازدید=پسندیدن= خرید \\nتماس بگیرید۰\\nیا علی', 120, 350000000], ['زمین ۱۲۰ متری بلوار امام رضا کوچه عمارت فخریه', 'فرصتی استثنایی \\nمعاوضه با خودرو و آپارتمان\\nنقد با تخفیف ویژه و شرایط اقساط \\nفقط و فقط تا پایان ر ... (209 characters truncated) ... ایتا به همین خط و ارسال موقعیت مکانی توسط من\\nقولنامه معتبر دست اول از رعیت منطقه\\nاولین بازدید=پسندیدن= خرید \\nتماس بگیرید۰\\nیا علی', 120, 350000000], ['زمین ۱۲۰ متری بلوار امام رضا کوچه عمارت فخریه', 'فرصتی استثنایی \\nمعاوضه با خودرو و آپارتمان\\nنقد با تخفیف ویژه و شرایط اقساط \\nفقط و فقط تا پایان ر ... (209 characters truncated) ... ایتا به همین خط و ارسال موقعیت مکانی توسط من\\nقولنامه معتبر دست اول از رعیت منطقه\\nاولین بازدید=پسندیدن= خرید \\nتماس بگیرید۰\\nیا علی', 120, 350000000])]\n",
      "(Background on this error at: https://sqlalche.me/e/20/e3q8)\n"
     ]
    },
    {
     "name": "stderr",
     "output_type": "stream",
     "text": [
      "  2%|▏         | 25/1553 [00:33<33:55,  1.33s/it]\n"
     ]
    },
    {
     "ename": "KeyboardInterrupt",
     "evalue": "",
     "output_type": "error",
     "traceback": [
      "\u001B[1;31m---------------------------------------------------------------------------\u001B[0m",
      "\u001B[1;31mKeyboardInterrupt\u001B[0m                         Traceback (most recent call last)",
      "Cell \u001B[1;32mIn[61], line 10\u001B[0m\n\u001B[0;32m      8\u001B[0m     \u001B[38;5;28;01mwith\u001B[39;00m \u001B[38;5;28mopen\u001B[39m(\u001B[38;5;124m'\u001B[39m\u001B[38;5;124mlog.txt\u001B[39m\u001B[38;5;124m'\u001B[39m, \u001B[38;5;124m'\u001B[39m\u001B[38;5;124ma\u001B[39m\u001B[38;5;124m'\u001B[39m) \u001B[38;5;28;01mas\u001B[39;00m f:\n\u001B[0;32m      9\u001B[0m         f\u001B[38;5;241m.\u001B[39mwrite(\u001B[38;5;124mf\u001B[39m\u001B[38;5;124m'\u001B[39m\u001B[38;5;132;01m{\u001B[39;00m\u001B[38;5;241m1\u001B[39m\u001B[38;5;132;01m}\u001B[39;00m\u001B[38;5;124m,\u001B[39m\u001B[38;5;132;01m{\u001B[39;00mtime\u001B[38;5;241m.\u001B[39mtime()\u001B[38;5;132;01m}\u001B[39;00m\u001B[38;5;124m,\u001B[39m\u001B[38;5;132;01m{\u001B[39;00mtokens[\u001B[38;5;241m1\u001B[39m]\u001B[38;5;132;01m}\u001B[39;00m\u001B[38;5;124m,\u001B[39m\u001B[38;5;132;01m{\u001B[39;00mtokens[\u001B[38;5;241m2\u001B[39m]\u001B[38;5;132;01m}\u001B[39;00m\u001B[38;5;130;01m\\n\u001B[39;00m\u001B[38;5;124m'\u001B[39m)\n\u001B[1;32m---> 10\u001B[0m     \u001B[43mget_data_by_tokens2\u001B[49m\u001B[43m(\u001B[49m\u001B[43mtokens\u001B[49m\u001B[43m[\u001B[49m\u001B[38;5;241;43m0\u001B[39;49m\u001B[43m]\u001B[49m\u001B[43m,\u001B[49m\u001B[43m \u001B[49m\u001B[43mtry_num\u001B[49m\u001B[43m,\u001B[49m\u001B[43m \u001B[49m\u001B[43mtimeout\u001B[49m\u001B[43m)\u001B[49m\n\u001B[0;32m     11\u001B[0m \u001B[38;5;28;01melse\u001B[39;00m:\n\u001B[0;32m     12\u001B[0m     finish_date\u001B[38;5;241m=\u001B[39m\u001B[38;5;28mint\u001B[39m(msg[\u001B[38;5;241m-\u001B[39m\u001B[38;5;241m1\u001B[39m]\u001B[38;5;241m.\u001B[39mreplace(\u001B[38;5;124m'\u001B[39m\u001B[38;5;130;01m\\n\u001B[39;00m\u001B[38;5;124m'\u001B[39m,\u001B[38;5;124m'\u001B[39m\u001B[38;5;124m'\u001B[39m))\n",
      "Cell \u001B[1;32mIn[58], line 8\u001B[0m, in \u001B[0;36mget_data_by_tokens2\u001B[1;34m(inp_tokens, try_num, timeout)\u001B[0m\n\u001B[0;32m      6\u001B[0m \u001B[38;5;28;01mfor\u001B[39;00m i \u001B[38;5;129;01min\u001B[39;00m tqdm(inp_tokens):\n\u001B[0;32m      7\u001B[0m     dest_url\u001B[38;5;241m=\u001B[39m\u001B[38;5;124mf\u001B[39m\u001B[38;5;124m\"\u001B[39m\u001B[38;5;124mhttps://api.divar.ir/v8/posts-v2/web/\u001B[39m\u001B[38;5;132;01m{\u001B[39;00mi\u001B[38;5;132;01m}\u001B[39;00m\u001B[38;5;124m\"\u001B[39m\n\u001B[1;32m----> 8\u001B[0m     dt\u001B[38;5;241m=\u001B[39m\u001B[43mextract_json_data\u001B[49m\u001B[43m(\u001B[49m\u001B[43mdest_url\u001B[49m\u001B[43m,\u001B[49m\u001B[43mtry_num\u001B[49m\u001B[43m,\u001B[49m\u001B[43mtimeout\u001B[49m\u001B[43m)\u001B[49m\n\u001B[0;32m      9\u001B[0m     \u001B[38;5;28;01mif\u001B[39;00m dt \u001B[38;5;129;01mis\u001B[39;00m \u001B[38;5;129;01mnot\u001B[39;00m \u001B[38;5;28;01mFalse\u001B[39;00m:\n\u001B[0;32m     10\u001B[0m         get_ipython()\u001B[38;5;241m.\u001B[39mrun_line_magic(\u001B[38;5;124m'\u001B[39m\u001B[38;5;124msql\u001B[39m\u001B[38;5;124m'\u001B[39m, \u001B[38;5;124m'\u001B[39m\u001B[38;5;124mINSERT INTO out_data(Address,Description,Area,Price) VALUES (:dt[0],:dt[1],:dt[2],:dt[3]))\u001B[39m\u001B[38;5;124m'\u001B[39m)\n",
      "Cell \u001B[1;32mIn[56], line 2\u001B[0m, in \u001B[0;36mextract_json_data\u001B[1;34m(inp_url, try_num, timeout)\u001B[0m\n\u001B[0;32m      1\u001B[0m \u001B[38;5;28;01mdef\u001B[39;00m \u001B[38;5;21mextract_json_data\u001B[39m(inp_url,try_num,timeout):\n\u001B[1;32m----> 2\u001B[0m     true_req \u001B[38;5;241m=\u001B[39m \u001B[43mtrue_get_data2\u001B[49m\u001B[43m(\u001B[49m\u001B[43minp_url\u001B[49m\u001B[43m,\u001B[49m\u001B[43m \u001B[49m\u001B[43mtry_num\u001B[49m\u001B[43m,\u001B[49m\u001B[43m \u001B[49m\u001B[43mtimeout\u001B[49m\u001B[43m)\u001B[49m\n\u001B[0;32m      3\u001B[0m     \u001B[38;5;28;01mif\u001B[39;00m true_req \u001B[38;5;129;01mis\u001B[39;00m \u001B[38;5;129;01mnot\u001B[39;00m \u001B[38;5;28;01mFalse\u001B[39;00m:\n\u001B[0;32m      4\u001B[0m         out_data\u001B[38;5;241m=\u001B[39m[]\n",
      "Cell \u001B[1;32mIn[55], line 6\u001B[0m, in \u001B[0;36mtrue_get_data2\u001B[1;34m(inp_url, try_num, timeout)\u001B[0m\n\u001B[0;32m      4\u001B[0m make_url \u001B[38;5;241m=\u001B[39m inp_url\n\u001B[0;32m      5\u001B[0m \u001B[38;5;28;01mfor\u001B[39;00m i \u001B[38;5;129;01min\u001B[39;00m \u001B[38;5;28mrange\u001B[39m(try_num):\n\u001B[1;32m----> 6\u001B[0m     \u001B[43mtime\u001B[49m\u001B[38;5;241;43m.\u001B[39;49m\u001B[43msleep\u001B[49m\u001B[43m(\u001B[49m\u001B[43mtimeout\u001B[49m\u001B[43m)\u001B[49m\n\u001B[0;32m      7\u001B[0m     \u001B[38;5;66;03m#print('-', end='')\u001B[39;00m\n\u001B[0;32m      8\u001B[0m     resp \u001B[38;5;241m=\u001B[39m requests\u001B[38;5;241m.\u001B[39mget(make_url)\n",
      "\u001B[1;31mKeyboardInterrupt\u001B[0m: "
     ]
    }
   ],
   "source": [
    "if internet_connection():\n",
    "    try_num = 2\n",
    "    timeout = 1\n",
    "    with open('log.txt', 'r') as f:\n",
    "        msg = f.readlines()[-1].split(',')\n",
    "    if msg[0] == '0':\n",
    "        tokens = first_get_tokens(get_base_url2())\n",
    "        with open('log.txt', 'a') as f:\n",
    "            f.write(f'{1},{time.time()},{tokens[1]},{tokens[2]}\\n')\n",
    "        get_data_by_tokens2(tokens[0], try_num, timeout)\n",
    "    else:\n",
    "        finish_date=int(msg[-1].replace('\\n',''))\n",
    "        tokens = second_get_tokens(get_base_url(),end_date=finish_date)\n",
    "        with open('log.txt', 'a') as f:\n",
    "            f.write(f'{int(msg[0]) + 1},{time.time()},{tokens[1]},{tokens[2]}\\n')\n",
    "        get_data_by_tokens2(tokens[0], try_num, timeout)"
   ],
   "metadata": {
    "collapsed": false,
    "pycharm": {
     "name": "#%%\n"
    }
   }
  },
  {
   "cell_type": "code",
   "execution_count": 64,
   "outputs": [],
   "source": [
    "with open('log.txt' ,'r') as f:\n",
    "    ms=(f.readlines())"
   ],
   "metadata": {
    "collapsed": false,
    "pycharm": {
     "name": "#%%\n"
    }
   }
  },
  {
   "cell_type": "code",
   "execution_count": 66,
   "outputs": [
    {
     "data": {
      "text/plain": "'1,1706872232.662624,-1,1706801518422228\\n'"
     },
     "execution_count": 66,
     "metadata": {},
     "output_type": "execute_result"
    }
   ],
   "source": [
    "ms[-1]"
   ],
   "metadata": {
    "collapsed": false,
    "pycharm": {
     "name": "#%%\n"
    }
   }
  },
  {
   "cell_type": "code",
   "execution_count": 24,
   "outputs": [],
   "source": [
    "with open('test.txt','r') as f:\n",
    "    ms=f.readline()"
   ],
   "metadata": {
    "collapsed": false,
    "pycharm": {
     "name": "#%%\n"
    }
   }
  },
  {
   "cell_type": "code",
   "execution_count": 28,
   "outputs": [
    {
     "data": {
      "text/plain": "'1706813896.9439313'"
     },
     "execution_count": 28,
     "metadata": {},
     "output_type": "execute_result"
    }
   ],
   "source": [
    "ms.split('-')[-1].replace('\\n','')"
   ],
   "metadata": {
    "collapsed": false,
    "pycharm": {
     "name": "#%%\n"
    }
   }
  },
  {
   "cell_type": "code",
   "execution_count": null,
   "outputs": [],
   "source": [],
   "metadata": {
    "collapsed": false,
    "pycharm": {
     "name": "#%%\n"
    }
   }
  }
 ],
 "metadata": {
  "kernelspec": {
   "display_name": "Python 3",
   "language": "python",
   "name": "python3"
  },
  "language_info": {
   "codemirror_mode": {
    "name": "ipython",
    "version": 2
   },
   "file_extension": ".py",
   "mimetype": "text/x-python",
   "name": "python",
   "nbconvert_exporter": "python",
   "pygments_lexer": "ipython2",
   "version": "2.7.6"
  }
 },
 "nbformat": 4,
 "nbformat_minor": 0
}