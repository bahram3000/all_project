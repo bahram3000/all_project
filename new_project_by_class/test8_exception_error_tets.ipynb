{
 "cells": [
  {
   "cell_type": "code",
   "execution_count": 22,
   "metadata": {
    "collapsed": true,
    "pycharm": {
     "name": "#%%\n"
    }
   },
   "outputs": [
    {
     "name": "stdout",
     "output_type": "stream",
     "text": [
      "2 division by zero\n"
     ]
    }
   ],
   "source": [
    "try:\n",
    "    1/0\n",
    "except Exception as e:\n",
    "    print(e.__traceback__.tb_lineno,e.__str__())"
   ]
  },
  {
   "cell_type": "code",
   "execution_count": 20,
   "outputs": [],
   "source": [
    "import finpy_tse as tse"
   ],
   "metadata": {
    "collapsed": false,
    "pycharm": {
     "name": "#%%\n"
    }
   }
  },
  {
   "cell_type": "code",
   "execution_count": 21,
   "outputs": [
    {
     "data": {
      "text/plain": "                 Date   Open   High    Low  Close  Final     Volume  \\\nJ-Date                                                                \n1400-11-20 2022-02-09  17726  21666  17726  17800  21429  299999591   \n1400-11-23 2022-02-12  22500  22500  22500  22500  22500    5647336   \n1400-11-24 2022-02-13  23600  23600  23600  23600  23600    8205025   \n1400-11-25 2022-02-14  24750  24750  24750  24750  24750    8782700   \n1400-11-27 2022-02-16  25950  25950  24850  25300  25700  129477173   \n...               ...    ...    ...    ...    ...    ...        ...   \n1402-11-17 2024-02-06  48450  48500  48050  48350  48300    3226785   \n1402-11-18 2024-02-07  48500  49850  48300  49750  48900    5218395   \n1402-11-21 2024-02-10  49750  50800  49650  50100  50100    8650666   \n1402-11-29 2024-02-18  45900  45900  41400  42100  42000    7020661   \n1402-11-30 2024-02-19  42000  42700  41600  41900  42050    7041926   \n\n                    Value       No Ticker               Name   Market  \\\nJ-Date                                                                  \n1400-11-20  6428779475028  1264932    فزر  پویا زرکان آق دره  فرابورس   \n1400-11-23   127065060000    29757    فزر  پویا زرکان آق دره  فرابورس   \n1400-11-24   193638590000    34375    فزر  پویا زرکان آق دره  فرابورس   \n1400-11-25   217371825000    38520    فزر  پویا زرکان آق دره  فرابورس   \n1400-11-27  3326995414950   526252    فزر  پویا زرکان آق دره  فرابورس   \n...                   ...      ...    ...                ...      ...   \n1402-11-17   155781413700     1589    فزر  پویا زرکان آق دره  فرابورس   \n1402-11-18   255286379950     1936    فزر  پویا زرکان آق دره  فرابورس   \n1402-11-21   433344125450     3571    فزر  پویا زرکان آق دره  فرابورس   \n1402-11-29   295019529400     3829    فزر  پویا زرکان آق دره  فرابورس   \n1402-11-30   295990700150     2775    فزر  پویا زرکان آق دره  فرابورس   \n\n            Adj Open  Adj High  Adj Low  Adj Close  Adj Final  \nJ-Date                                                         \n1400-11-20     11025     13476    11025      11071      13328  \n1400-11-23     13995     13995    13995      13995      13995  \n1400-11-24     14679     14679    14679      14679      14679  \n1400-11-25     15394     15394    15394      15394      15394  \n1400-11-27     16140     16140    15456      15736      15985  \n...              ...       ...      ...        ...        ...  \n1402-11-17     41487     41529    41144      41401      41358  \n1402-11-18     41529     42685    41358      42600      41872  \n1402-11-21     42600     43499    42514      42900      42900  \n1402-11-29     45900     45900    41400      42100      42000  \n1402-11-30     42000     42700    41600      41900      42050  \n\n[466 rows x 17 columns]",
      "text/html": "<div>\n<style scoped>\n    .dataframe tbody tr th:only-of-type {\n        vertical-align: middle;\n    }\n\n    .dataframe tbody tr th {\n        vertical-align: top;\n    }\n\n    .dataframe thead th {\n        text-align: right;\n    }\n</style>\n<table border=\"1\" class=\"dataframe\">\n  <thead>\n    <tr style=\"text-align: right;\">\n      <th></th>\n      <th>Date</th>\n      <th>Open</th>\n      <th>High</th>\n      <th>Low</th>\n      <th>Close</th>\n      <th>Final</th>\n      <th>Volume</th>\n      <th>Value</th>\n      <th>No</th>\n      <th>Ticker</th>\n      <th>Name</th>\n      <th>Market</th>\n      <th>Adj Open</th>\n      <th>Adj High</th>\n      <th>Adj Low</th>\n      <th>Adj Close</th>\n      <th>Adj Final</th>\n    </tr>\n    <tr>\n      <th>J-Date</th>\n      <th></th>\n      <th></th>\n      <th></th>\n      <th></th>\n      <th></th>\n      <th></th>\n      <th></th>\n      <th></th>\n      <th></th>\n      <th></th>\n      <th></th>\n      <th></th>\n      <th></th>\n      <th></th>\n      <th></th>\n      <th></th>\n      <th></th>\n    </tr>\n  </thead>\n  <tbody>\n    <tr>\n      <th>1400-11-20</th>\n      <td>2022-02-09</td>\n      <td>17726</td>\n      <td>21666</td>\n      <td>17726</td>\n      <td>17800</td>\n      <td>21429</td>\n      <td>299999591</td>\n      <td>6428779475028</td>\n      <td>1264932</td>\n      <td>فزر</td>\n      <td>پویا زرکان آق دره</td>\n      <td>فرابورس</td>\n      <td>11025</td>\n      <td>13476</td>\n      <td>11025</td>\n      <td>11071</td>\n      <td>13328</td>\n    </tr>\n    <tr>\n      <th>1400-11-23</th>\n      <td>2022-02-12</td>\n      <td>22500</td>\n      <td>22500</td>\n      <td>22500</td>\n      <td>22500</td>\n      <td>22500</td>\n      <td>5647336</td>\n      <td>127065060000</td>\n      <td>29757</td>\n      <td>فزر</td>\n      <td>پویا زرکان آق دره</td>\n      <td>فرابورس</td>\n      <td>13995</td>\n      <td>13995</td>\n      <td>13995</td>\n      <td>13995</td>\n      <td>13995</td>\n    </tr>\n    <tr>\n      <th>1400-11-24</th>\n      <td>2022-02-13</td>\n      <td>23600</td>\n      <td>23600</td>\n      <td>23600</td>\n      <td>23600</td>\n      <td>23600</td>\n      <td>8205025</td>\n      <td>193638590000</td>\n      <td>34375</td>\n      <td>فزر</td>\n      <td>پویا زرکان آق دره</td>\n      <td>فرابورس</td>\n      <td>14679</td>\n      <td>14679</td>\n      <td>14679</td>\n      <td>14679</td>\n      <td>14679</td>\n    </tr>\n    <tr>\n      <th>1400-11-25</th>\n      <td>2022-02-14</td>\n      <td>24750</td>\n      <td>24750</td>\n      <td>24750</td>\n      <td>24750</td>\n      <td>24750</td>\n      <td>8782700</td>\n      <td>217371825000</td>\n      <td>38520</td>\n      <td>فزر</td>\n      <td>پویا زرکان آق دره</td>\n      <td>فرابورس</td>\n      <td>15394</td>\n      <td>15394</td>\n      <td>15394</td>\n      <td>15394</td>\n      <td>15394</td>\n    </tr>\n    <tr>\n      <th>1400-11-27</th>\n      <td>2022-02-16</td>\n      <td>25950</td>\n      <td>25950</td>\n      <td>24850</td>\n      <td>25300</td>\n      <td>25700</td>\n      <td>129477173</td>\n      <td>3326995414950</td>\n      <td>526252</td>\n      <td>فزر</td>\n      <td>پویا زرکان آق دره</td>\n      <td>فرابورس</td>\n      <td>16140</td>\n      <td>16140</td>\n      <td>15456</td>\n      <td>15736</td>\n      <td>15985</td>\n    </tr>\n    <tr>\n      <th>...</th>\n      <td>...</td>\n      <td>...</td>\n      <td>...</td>\n      <td>...</td>\n      <td>...</td>\n      <td>...</td>\n      <td>...</td>\n      <td>...</td>\n      <td>...</td>\n      <td>...</td>\n      <td>...</td>\n      <td>...</td>\n      <td>...</td>\n      <td>...</td>\n      <td>...</td>\n      <td>...</td>\n      <td>...</td>\n    </tr>\n    <tr>\n      <th>1402-11-17</th>\n      <td>2024-02-06</td>\n      <td>48450</td>\n      <td>48500</td>\n      <td>48050</td>\n      <td>48350</td>\n      <td>48300</td>\n      <td>3226785</td>\n      <td>155781413700</td>\n      <td>1589</td>\n      <td>فزر</td>\n      <td>پویا زرکان آق دره</td>\n      <td>فرابورس</td>\n      <td>41487</td>\n      <td>41529</td>\n      <td>41144</td>\n      <td>41401</td>\n      <td>41358</td>\n    </tr>\n    <tr>\n      <th>1402-11-18</th>\n      <td>2024-02-07</td>\n      <td>48500</td>\n      <td>49850</td>\n      <td>48300</td>\n      <td>49750</td>\n      <td>48900</td>\n      <td>5218395</td>\n      <td>255286379950</td>\n      <td>1936</td>\n      <td>فزر</td>\n      <td>پویا زرکان آق دره</td>\n      <td>فرابورس</td>\n      <td>41529</td>\n      <td>42685</td>\n      <td>41358</td>\n      <td>42600</td>\n      <td>41872</td>\n    </tr>\n    <tr>\n      <th>1402-11-21</th>\n      <td>2024-02-10</td>\n      <td>49750</td>\n      <td>50800</td>\n      <td>49650</td>\n      <td>50100</td>\n      <td>50100</td>\n      <td>8650666</td>\n      <td>433344125450</td>\n      <td>3571</td>\n      <td>فزر</td>\n      <td>پویا زرکان آق دره</td>\n      <td>فرابورس</td>\n      <td>42600</td>\n      <td>43499</td>\n      <td>42514</td>\n      <td>42900</td>\n      <td>42900</td>\n    </tr>\n    <tr>\n      <th>1402-11-29</th>\n      <td>2024-02-18</td>\n      <td>45900</td>\n      <td>45900</td>\n      <td>41400</td>\n      <td>42100</td>\n      <td>42000</td>\n      <td>7020661</td>\n      <td>295019529400</td>\n      <td>3829</td>\n      <td>فزر</td>\n      <td>پویا زرکان آق دره</td>\n      <td>فرابورس</td>\n      <td>45900</td>\n      <td>45900</td>\n      <td>41400</td>\n      <td>42100</td>\n      <td>42000</td>\n    </tr>\n    <tr>\n      <th>1402-11-30</th>\n      <td>2024-02-19</td>\n      <td>42000</td>\n      <td>42700</td>\n      <td>41600</td>\n      <td>41900</td>\n      <td>42050</td>\n      <td>7041926</td>\n      <td>295990700150</td>\n      <td>2775</td>\n      <td>فزر</td>\n      <td>پویا زرکان آق دره</td>\n      <td>فرابورس</td>\n      <td>42000</td>\n      <td>42700</td>\n      <td>41600</td>\n      <td>41900</td>\n      <td>42050</td>\n    </tr>\n  </tbody>\n</table>\n<p>466 rows × 17 columns</p>\n</div>"
     },
     "execution_count": 21,
     "metadata": {},
     "output_type": "execute_result"
    }
   ],
   "source": [
    "tse.get_price_history('فزر',ignore_date=True,double_date=True,adjust_price=True)"
   ],
   "metadata": {
    "collapsed": false,
    "pycharm": {
     "name": "#%%\n"
    }
   }
  },
  {
   "cell_type": "code",
   "execution_count": null,
   "outputs": [],
   "source": [],
   "metadata": {
    "collapsed": false,
    "pycharm": {
     "name": "#%%\n"
    }
   }
  }
 ],
 "metadata": {
  "kernelspec": {
   "display_name": "Python 3",
   "language": "python",
   "name": "python3"
  },
  "language_info": {
   "codemirror_mode": {
    "name": "ipython",
    "version": 2
   },
   "file_extension": ".py",
   "mimetype": "text/x-python",
   "name": "python",
   "nbconvert_exporter": "python",
   "pygments_lexer": "ipython2",
   "version": "2.7.6"
  }
 },
 "nbformat": 4,
 "nbformat_minor": 0
}