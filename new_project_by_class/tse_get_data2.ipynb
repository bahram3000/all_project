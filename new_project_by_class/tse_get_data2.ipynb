{
 "cells": [
  {
   "cell_type": "code",
   "execution_count": 1,
   "metadata": {
    "collapsed": true,
    "pycharm": {
     "name": "#%%\n"
    }
   },
   "outputs": [],
   "source": [
    "import os\n",
    "\n",
    "import numpy as np\n",
    "import pandas as pd\n",
    "import finpy_tse as tse\n",
    "import time\n",
    "from persiantools.jdatetime import JalaliDate\n",
    "from tqdm import tqdm\n",
    "import requests"
   ]
  },
  {
   "cell_type": "code",
   "execution_count": 2,
   "outputs": [],
   "source": [
    "def get_path():\n",
    "    try:\n",
    "        path = input(\"Enter your Destination file location :\")\n",
    "        os.listdir(path)\n",
    "    except Exception as e:\n",
    "        path = os.getcwd()\n",
    "        with open('errors.txt', 'a') as f:\n",
    "            f.write(f'{e.__cause__}\\n')\n",
    "    return path"
   ],
   "metadata": {
    "collapsed": false,
    "pycharm": {
     "name": "#%%\n"
    }
   }
  },
  {
   "cell_type": "code",
   "execution_count": 3,
   "outputs": [],
   "source": [
    "#get_path()"
   ],
   "metadata": {
    "collapsed": false,
    "pycharm": {
     "name": "#%%\n"
    }
   }
  },
  {
   "cell_type": "code",
   "execution_count": 4,
   "outputs": [],
   "source": [
    "def internet_connection():\n",
    "    try:\n",
    "        response = requests.get(\"https://www.google.com\", timeout=5)\n",
    "        return True\n",
    "    except requests.ConnectionError:\n",
    "        return False"
   ],
   "metadata": {
    "collapsed": false,
    "pycharm": {
     "name": "#%%\n"
    }
   }
  },
  {
   "cell_type": "code",
   "execution_count": 5,
   "outputs": [],
   "source": [
    "def get_method():\n",
    "    inp = input(\"Enter your get method (all=1,select=2,enter=3) :\")\n",
    "    if inp in ['1', '2', '3']:\n",
    "        return inp\n",
    "    else:\n",
    "        get_method()"
   ],
   "metadata": {
    "collapsed": false,
    "pycharm": {
     "name": "#%%\n"
    }
   }
  },
  {
   "cell_type": "code",
   "execution_count": 26,
   "outputs": [],
   "source": [
    "def create_log():\n",
    "    if 'tse_log.txt' in os.listdir():\n",
    "        with open('tse_log.txt', 'r') as f:\n",
    "            if f.read() == '':\n",
    "                f.close()\n",
    "                with open('tse_log.txt', 'w+') as f:\n",
    "                    f.write(f'{0},{time.localtime(time.time())[:3]},{JalaliDate.today()}\\n')\n",
    "                    #f.write('\\n')\n",
    "    else:\n",
    "        with open('tse_log.txt', 'w') as f:\n",
    "            f.write(f'{0},{time.localtime(time.time())[:3]},{JalaliDate.today()}\\n')\n",
    "            #f.write('\\n')"
   ],
   "metadata": {
    "collapsed": false,
    "pycharm": {
     "name": "#%%\n"
    }
   }
  },
  {
   "cell_type": "code",
   "execution_count": 7,
   "outputs": [],
   "source": [
    "def select_symbols(inp_symbols):\n",
    "    select_symbol = []\n",
    "    for i in inp_symbols.index:\n",
    "        select = input(f'if you want this ticker(symbol) -> {i} <- enter 1 for end enter other key :')\n",
    "        if select == '1':\n",
    "            select_symbol.append(i)\n",
    "        elif select == '0':\n",
    "            continue\n",
    "        else:\n",
    "            break\n",
    "    return inp_symbols.loc[select_symbol, :]"
   ],
   "metadata": {
    "collapsed": false,
    "pycharm": {
     "name": "#%%\n"
    }
   }
  },
  {
   "cell_type": "code",
   "execution_count": 8,
   "outputs": [],
   "source": [
    "def enter_symbols(inp_symbols):\n",
    "    enter_symbol = []\n",
    "    while True:\n",
    "        inp = input(\"Enter your Ticker(symbol) :\")\n",
    "        if inp in inp_symbols.index:\n",
    "            enter_symbol.append(inp)\n",
    "        else:\n",
    "            break\n",
    "    return inp_symbols.loc[enter_symbol, :]"
   ],
   "metadata": {
    "collapsed": false,
    "pycharm": {
     "name": "#%%\n"
    }
   }
  },
  {
   "cell_type": "code",
   "execution_count": 9,
   "outputs": [],
   "source": [
    "def export_data(one_symbols, inp_start_date=None):\n",
    "    if inp_start_date:\n",
    "        get_df = tse.get_price_history(stock=one_symbols, start_date=inp_start_date, double_date=True)\n",
    "        get_df = get_df.loc[:, ['Date', 'Open', 'High', 'Low', 'Close', 'Volume']]\n",
    "        get_df.Date = np.array([str(i)[:10].replace('-', '') for i in get_df.Date])\n",
    "        get_df.reset_index(inplace=True)\n",
    "        get_df.drop('J-Date', axis=1, inplace=True)\n",
    "        get_df.rename(\n",
    "            columns={'Date': '<DTYYYYMMDD>', 'Open': '<Open>', 'High': '<HIGH>', 'Low': '<LOW>', 'Close': '<CLOSE>',\n",
    "\n",
    "                     'Volume': '<VOL>'}, inplace=True)\n",
    "    else:\n",
    "        get_df = tse.get_price_history(stock=one_symbols, ignore_date=True, double_date=True)\n",
    "        get_df = get_df.loc[:, ['Date', 'Open', 'High', 'Low', 'Close', 'Volume']]\n",
    "        get_df.Date = np.array([str(i)[:10].replace('-', '') for i in get_df.Date])\n",
    "        get_df.reset_index(inplace=True)\n",
    "        get_df.drop('J-Date', axis=1, inplace=True)\n",
    "        get_df.rename(\n",
    "            columns={'Date': '<DTYYYYMMDD>', 'Open': '<Open>', 'High': '<HIGH>', 'Low': '<LOW>', 'Close': '<CLOSE>',\n",
    "\n",
    "                     'Volume': '<VOL>'}, inplace=True)\n",
    "\n",
    "    return get_df"
   ],
   "metadata": {
    "collapsed": false,
    "pycharm": {
     "name": "#%%\n"
    }
   }
  },
  {
   "cell_type": "code",
   "execution_count": 10,
   "outputs": [],
   "source": [
    "def first_export_data(inp_symbols):\n",
    "    base_path = get_path()\n",
    "    for i in tqdm(inp_symbols.index):\n",
    "        try:\n",
    "            get_df = export_data(i)\n",
    "            path = base_path + '\\\\' + inp_symbols['Name(EN)'][i].replace(' ', '_').replace('*', '_') + '.prn'\n",
    "            #print(path)\n",
    "            #print(get_df)\n",
    "            time.sleep(1)\n",
    "            get_df.to_csv(path)\n",
    "        except Exception as e:\n",
    "            with open('tse_errors.txt', 'a') as f:\n",
    "                f.write(f'{time.localtime(time.time())[:3]}--{e.__cause__}--{e.__str__()}\\n')"
   ],
   "metadata": {
    "collapsed": false,
    "pycharm": {
     "name": "#%%\n"
    }
   }
  },
  {
   "cell_type": "code",
   "execution_count": 11,
   "outputs": [
    {
     "data": {
      "text/plain": "\"   except Exception as e:\\n        with open('tse_errors.txt', 'a') as f:\\n            f.write(f'{time.localtime(time.time())[:3]}--{e.__cause__}--{e.__str__()}\\n')\""
     },
     "execution_count": 11,
     "metadata": {},
     "output_type": "execute_result"
    }
   ],
   "source": [
    "'''   except Exception as e:\n",
    "        with open('tse_errors.txt', 'a') as f:\n",
    "            f.write(f'{time.localtime(time.time())[:3]}--{e.__cause__}--{e.__str__()}\\n')'''"
   ],
   "metadata": {
    "collapsed": false,
    "pycharm": {
     "name": "#%%\n"
    }
   }
  },
  {
   "cell_type": "code",
   "execution_count": 12,
   "outputs": [],
   "source": [
    "#msg[-1].replace('\\n', '')"
   ],
   "metadata": {
    "collapsed": false,
    "pycharm": {
     "name": "#%%\n"
    }
   }
  },
  {
   "cell_type": "code",
   "execution_count": 13,
   "outputs": [],
   "source": [
    "def second_export_data(inp_symbols, inp_start_date):\n",
    "    base_path = get_path()\n",
    "    for i in tqdm(inp_symbols.index):\n",
    "        try:\n",
    "            get_df = export_data(i, inp_start_date)\n",
    "            path = base_path + '\\\\' + inp_symbols['Name(EN)'][i].replace(' ', '_') + '.prn'\n",
    "            df = pd.read_csv(path)\n",
    "            df = df.loc[:, ['Date', 'Open', 'High', 'Low', 'Close', 'Volume']]\n",
    "            get_df = pd.concat([df, get_df], axis=0)\n",
    "            get_df.to_csv(path)\n",
    "        except Exception as e:\n",
    "            with open('tse_errors.txt', 'a') as f:\n",
    "                f.write(f'{time.localtime(time.time())[:3]}--{e.__cause__}--{e.__str__()}\\n')"
   ],
   "metadata": {
    "collapsed": false,
    "pycharm": {
     "name": "#%%\n"
    }
   }
  },
  {
   "cell_type": "code",
   "execution_count": 27,
   "outputs": [],
   "source": [
    "create_log()"
   ],
   "metadata": {
    "collapsed": false,
    "pycharm": {
     "name": "#%%\n"
    }
   }
  },
  {
   "cell_type": "code",
   "execution_count": 28,
   "outputs": [],
   "source": [
    "#symbols = pd.read_excel('symbols.xlsx')"
   ],
   "metadata": {
    "collapsed": false,
    "pycharm": {
     "name": "#%%\n"
    }
   }
  },
  {
   "cell_type": "code",
   "execution_count": 29,
   "outputs": [],
   "source": [
    "#symbols"
   ],
   "metadata": {
    "collapsed": false,
    "pycharm": {
     "name": "#%%\n"
    }
   }
  },
  {
   "cell_type": "code",
   "execution_count": 30,
   "outputs": [],
   "source": [
    "#symbols.index = symbols.Ticker"
   ],
   "metadata": {
    "collapsed": false,
    "pycharm": {
     "name": "#%%\n"
    }
   }
  },
  {
   "cell_type": "code",
   "execution_count": 31,
   "outputs": [],
   "source": [
    "#selected = select_symbols(symbols)\n",
    "#selected.to_excel('select_symbols.xlsx')"
   ],
   "metadata": {
    "collapsed": false,
    "pycharm": {
     "name": "#%%\n"
    }
   }
  },
  {
   "cell_type": "code",
   "execution_count": 32,
   "outputs": [],
   "source": [
    "#selected"
   ],
   "metadata": {
    "collapsed": false,
    "pycharm": {
     "name": "#%%\n"
    }
   }
  },
  {
   "cell_type": "code",
   "execution_count": 33,
   "outputs": [],
   "source": [
    "#type(selected['Name(EN)'])"
   ],
   "metadata": {
    "collapsed": false,
    "pycharm": {
     "name": "#%%\n"
    }
   }
  },
  {
   "cell_type": "code",
   "execution_count": 34,
   "outputs": [],
   "source": [
    "#export_data(selected.index[0])"
   ],
   "metadata": {
    "collapsed": false,
    "pycharm": {
     "name": "#%%\n"
    }
   }
  },
  {
   "cell_type": "code",
   "execution_count": 35,
   "outputs": [],
   "source": [
    "#first_export_data(selected)"
   ],
   "metadata": {
    "collapsed": false,
    "pycharm": {
     "name": "#%%\n"
    }
   }
  },
  {
   "cell_type": "code",
   "execution_count": 36,
   "outputs": [
    {
     "name": "stderr",
     "output_type": "stream",
     "text": [
      "100%|██████████| 2/2 [00:06<00:00,  3.22s/it]\n"
     ]
    }
   ],
   "source": [
    "if internet_connection():\n",
    "    with open('tse_log.txt', 'r') as f:\n",
    "        msg = f.readlines()[-1].split(',')\n",
    "    if msg[0] == '0':\n",
    "        if 'symbols.xlsx' in os.listdir():\n",
    "            #print('1',os.listdir())\n",
    "            symbols = pd.read_excel('symbols.xlsx')\n",
    "            symbols.index = symbols.Ticker\n",
    "        else:\n",
    "            symbols = tse.Build_Market_StockList(\n",
    "                bourse=True,\n",
    "                farabourse=True,\n",
    "                payeh=True,\n",
    "                detailed_list=True,\n",
    "                show_progress=True)\n",
    "            symbols.to_excel('symbols.xlsx')\n",
    "\n",
    "        method = get_method()\n",
    "        if method == '1':\n",
    "            first_export_data(symbols)\n",
    "\n",
    "        elif method == '2':\n",
    "            selected = select_symbols(symbols)\n",
    "            selected.to_excel('select_symbols.xlsx')\n",
    "            #selected = selected['Name(EN)']\n",
    "            first_export_data(selected)\n",
    "\n",
    "        elif method == '3':\n",
    "            entered = enter_symbols(symbols)\n",
    "            entered.to_excel(\"enter_symbols.xlsx\")\n",
    "            #entered = entered[\"Name(EN)\"]\n",
    "            first_export_data(entered)\n",
    "        with open('tse_log.txt', 'a') as f:\n",
    "            f.write(f'{1},{time.localtime(time.time())[:3]},{JalaliDate.today()}\\n')\n",
    "    else:\n",
    "        start_date_get = msg[-1].replace('\\n', '')\n",
    "        symbols = pd.read_excel('symbols.xlsx')\n",
    "        inp = input('if you want continue same as past enter 1 else 0 :')\n",
    "        if inp == '1':\n",
    "            if 'select_symbols.xlsx' or 'enter_symbols.xlsx' not in os.listdir():\n",
    "                uti_symbols = symbols[\"Name(EN)\"]\n",
    "                second_export_data(uti_symbols, start_date_get)\n",
    "            elif 'select_symbols.xlsx' in os.listdir():\n",
    "                uti_symbols = pd.read_excel('select_symbols.xlsx')\n",
    "                second_export_data(uti_symbols, start_date_get)\n",
    "            elif 'enter_symbols.xlsx' in os.listdir():\n",
    "                uti_symbols = pd.read_excel('enter_symbols.xlsx')\n",
    "                second_export_data(uti_symbols, start_date_get)\n",
    "            with open('tse_log.txt', 'a') as f:\n",
    "                f.write(f'{int(msg[0]) + 1},{time.localtime(time.time())[:3]},{JalaliDate.today()}\\n')\n",
    "        elif inp == '0':\n",
    "            try:\n",
    "                os.rmdir('select_symbols.xlsx')\n",
    "                os.rmdir('enter_symbols.xlsx')\n",
    "            except Exception as e:\n",
    "                with open('tse_errors.txt', 'a') as f:\n",
    "                    f.write(f'{time.localtime(time.time())[:3]}--{e.__cause__}--{e.__str__()}\\n')\n",
    "            method = get_method()\n",
    "            if method == '1':\n",
    "                second_export_data(symbols, start_date_get)\n",
    "            elif method == '2':\n",
    "                selected = select_symbols(symbols)\n",
    "                selected.to_excel('select_symbols.xlsx')\n",
    "                #selected = selected['Name(EN)']\n",
    "                second_export_data(selected, start_date_get)\n",
    "            elif method == '3':\n",
    "                entered = enter_symbols(symbols)\n",
    "                entered.to_excel(\"enter_symbols.xlsx\")\n",
    "                #entered = entered[\"Name(EN)\"]\n",
    "                second_export_data(entered, start_date_get)\n",
    "            with open('tse_log.txt', 'a') as f:\n",
    "                f.write(f'{int(msg[0]) + 1},{time.localtime(time.time())[:3]},{JalaliDate.today()}\\n')"
   ],
   "metadata": {
    "collapsed": false,
    "pycharm": {
     "name": "#%%\n"
    }
   }
  },
  {
   "cell_type": "code",
   "execution_count": null,
   "outputs": [],
   "source": [],
   "metadata": {
    "collapsed": false,
    "pycharm": {
     "name": "#%%\n"
    }
   }
  }
 ],
 "metadata": {
  "kernelspec": {
   "display_name": "Python 3",
   "language": "python",
   "name": "python3"
  },
  "language_info": {
   "codemirror_mode": {
    "name": "ipython",
    "version": 2
   },
   "file_extension": ".py",
   "mimetype": "text/x-python",
   "name": "python",
   "nbconvert_exporter": "python",
   "pygments_lexer": "ipython2",
   "version": "2.7.6"
  }
 },
 "nbformat": 4,
 "nbformat_minor": 0
}