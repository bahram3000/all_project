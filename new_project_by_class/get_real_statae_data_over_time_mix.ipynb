{
 "cells": [
  {
   "cell_type": "code",
   "execution_count": 1,
   "metadata": {
    "collapsed": true,
    "pycharm": {
     "name": "#%%\n"
    }
   },
   "outputs": [],
   "source": [
    "import requests\n",
    "import numpy as np\n",
    "import pandas as pd\n",
    "import sqlite3\n",
    "import time\n",
    "from tqdm import tqdm\n",
    "import os\n",
    "from random import randint\n",
    "import string"
   ]
  },
  {
   "cell_type": "code",
   "execution_count": 18,
   "outputs": [
    {
     "name": "stdout",
     "output_type": "stream",
     "text": [
      "The sql extension is already loaded. To reload it, use:\n",
      "  %reload_ext sql\n"
     ]
    }
   ],
   "source": [
    "%load_ext sql"
   ],
   "metadata": {
    "collapsed": false,
    "pycharm": {
     "name": "#%%\n"
    }
   }
  },
  {
   "cell_type": "code",
   "execution_count": 2,
   "outputs": [],
   "source": [
    "def internet_connection():\n",
    "    try:\n",
    "        response = requests.get(\"https://www.google.com\", timeout=5)\n",
    "        return True\n",
    "    except requests.ConnectionError:\n",
    "        return False"
   ],
   "metadata": {
    "collapsed": false,
    "pycharm": {
     "name": "#%%\n"
    }
   }
  },
  {
   "cell_type": "code",
   "execution_count": 3,
   "outputs": [],
   "source": [
    "def adad_farsi_to_english(inp: str):\n",
    "    dc = {'۰': '0', '۱': '1', '۲': '2', '۳': '3', '۴': '4', '۵': '5', '۶': '6', '۷': '7', '۸': '8', '۹': '9'}\n",
    "    out = ''\n",
    "    for i in inp:\n",
    "        if i in dc.keys():\n",
    "            out += dc[i]\n",
    "        else:\n",
    "            out += ''\n",
    "    if out.isdecimal():\n",
    "        return int(out)\n",
    "    else:\n",
    "        return None"
   ],
   "metadata": {
    "collapsed": false,
    "pycharm": {
     "name": "#%%\n"
    }
   }
  },
  {
   "cell_type": "code",
   "execution_count": 4,
   "outputs": [],
   "source": [
    "def get_tokens(inp_url, inp_json):\n",
    "    out_tokens = []\n",
    "    resp = requests.post(url=inp_url, json=inp_json)\n",
    "    if resp.status_code == 200:\n",
    "        data_v = resp.json()\n",
    "        for j in data_v[\"web_widgets\"][\"post_list\"]:\n",
    "            try:\n",
    "                out_tokens.append(j['data']['token'])\n",
    "            except:\n",
    "                continue\n",
    "    else:\n",
    "        return 0\n",
    "    return out_tokens, data_v['last_post_date'], data_v['first_post_date']"
   ],
   "metadata": {
    "collapsed": false,
    "pycharm": {
     "name": "#%%\n"
    }
   }
  },
  {
   "cell_type": "code",
   "execution_count": 5,
   "outputs": [],
   "source": [
    "def first_get_tokens(inp_url):\n",
    "    f_post_date = 0\n",
    "    #l_post_date = 0\n",
    "    js_v = {\"page\": 0,\n",
    "            \"json_schema\": {\"category\": {\"value\": \"plot-old\"}, \"query\": \"زمین\",\n",
    "                            \"sort\": {\"value\": \"sort_date\"}},\n",
    "            \"last-post-date\": int(str(time.time()).replace('.', ''))}\n",
    "\n",
    "    try:\n",
    "        l_p_date = requests.post(url=inp_url, json=js_v).json()['last_post_date']\n",
    "    except:\n",
    "        l_p_date = int(str(time.time()).replace('.', ''))\n",
    "    out_tokens = []\n",
    "    k = 0\n",
    "    while True:\n",
    "        json_v = {\"page\": k,\n",
    "                  \"json_schema\": {\"category\": {\"value\": \"plot-old\"}, \"query\": \"زمین\",\n",
    "                                  \"sort\": {\"value\": \"sort_date\"}},\n",
    "                  \"last-post-date\": l_p_date}\n",
    "\n",
    "        result = get_tokens(inp_url, json_v)\n",
    "        if result == 0:\n",
    "            break\n",
    "        else:\n",
    "            if k == 0:\n",
    "                f_post_date = result[2]\n",
    "            out_tokens += result[0]\n",
    "            l_p_date = result[1]\n",
    "            k += 1\n",
    "    return out_tokens, l_p_date, f_post_date"
   ],
   "metadata": {
    "collapsed": false,
    "pycharm": {
     "name": "#%%\n"
    }
   }
  },
  {
   "cell_type": "code",
   "execution_count": 6,
   "outputs": [],
   "source": [
    "def second_get_tokens(inp_url, end_date):\n",
    "    f_post_date = 0\n",
    "    out_tokens = []\n",
    "    json_v = {\"page\": 0,\n",
    "              \"json_schema\": {\"category\": {\"value\": \"plot-old\"}, \"query\": \"زمین\",\n",
    "                              \"sort\": {\"value\": \"sort_date\"}},\n",
    "              \"last-post-date\": int(str(time.time()).replace('.', ''))}\n",
    "    try:\n",
    "        l_p_date = requests.post(url=inp_url, json=json_v).json()['last_post_date']\n",
    "    except:\n",
    "        l_p_date = int(str(time.time()).replace('.', ''))\n",
    "    k = 0\n",
    "    while True:\n",
    "        if l_p_date > end_date:\n",
    "            js_v = {\"page\": k,\n",
    "                    \"json_schema\": {\"category\": {\"value\": \"plot-old\"}, \"query\": \"زمین\",\n",
    "                                    \"sort\": {\"value\": \"sort_date\"}},\n",
    "                    \"last-post-date\": l_p_date}\n",
    "            result = get_tokens(inp_url, js_v)\n",
    "            if result != 0:\n",
    "                if k == 0:\n",
    "                    f_post_date = result[2]\n",
    "                out_tokens += result[0]\n",
    "                l_p_date = result[1]\n",
    "            else:\n",
    "                break\n",
    "        else:\n",
    "            break\n",
    "    return out_tokens, l_p_date, f_post_date"
   ],
   "metadata": {
    "collapsed": false,
    "pycharm": {
     "name": "#%%\n"
    }
   }
  },
  {
   "cell_type": "code",
   "execution_count": 7,
   "outputs": [],
   "source": [
    "def get_base_url(inp=\"https://api.divar.ir/v8/web-search/30/plot-old\"):\n",
    "    inp2 = input('Enter your url :')\n",
    "    if inp2 == '':\n",
    "        return inp\n",
    "    else:\n",
    "        return inp2\n",
    "\n",
    "\n",
    "def get_base_url2(inp=None):\n",
    "    if inp:\n",
    "        return inp\n",
    "    else:\n",
    "        return \"https://api.divar.ir/v8/web-search/30/plot-old\"\n",
    "\n",
    "\n",
    "def get_last_post_data(inp=None):\n",
    "    if inp:\n",
    "        return inp\n",
    "    else:\n",
    "        return int(str(time.time()).replace('.', ''))"
   ],
   "metadata": {
    "collapsed": false,
    "pycharm": {
     "name": "#%%\n"
    }
   }
  },
  {
   "cell_type": "code",
   "execution_count": 8,
   "outputs": [],
   "source": [
    "def true_get_data2(inp_url, try_num, timeout):\n",
    "    #o = string.ascii_letters + string.punctuation\n",
    "    #c = 0\n",
    "    make_url = inp_url\n",
    "    for i in range(try_num):\n",
    "        time.sleep(timeout)\n",
    "        #print('-', end='')\n",
    "        resp = requests.get(make_url)\n",
    "        #make_url = make_url.replace('-', o[randint(0, len(o) - 1)])\n",
    "        if resp.status_code == 200:\n",
    "            page_ = resp.text\n",
    "            if 'متر' in page_ and 'زمین' in page_ and 'متراژ' in page_ and 'قیمت کل' in page_ and 'قیمت هر متر' in page_:\n",
    "                return resp\n",
    "            else:\n",
    "                continue\n",
    "        else:\n",
    "            continue\n",
    "    return False"
   ],
   "metadata": {
    "collapsed": false,
    "pycharm": {
     "name": "#%%\n"
    }
   }
  },
  {
   "cell_type": "code",
   "execution_count": 9,
   "outputs": [],
   "source": [
    "def extract_json_data(inp_url,try_num,timeout):\n",
    "    true_req = true_get_data2(inp_url, try_num, timeout)\n",
    "    if true_req is not False:\n",
    "        out_data=[]\n",
    "        page_json= true_req.json()\n",
    "        for i in page_json['sections']:\n",
    "            if i['section_name'] == 'TITLE':\n",
    "                out_data.append(i['widgets'][0]['data']['title'])\n",
    "            if i['section_name']=='LIST_DATA':\n",
    "                out_data.append(adad_farsi_to_english(i['widgets'][0]['data']['value']))\n",
    "                out_data.append(adad_farsi_to_english(i['widgets'][1]['data']['value']))\n",
    "            if i['section_name'] == 'DESCRIPTION':\n",
    "                out_data.append(i['widgets'][1]['data']['text'])\n",
    "        if len(out_data)==4:\n",
    "            return out_data\n",
    "        else:\n",
    "            return False\n",
    "    else:\n",
    "        return False"
   ],
   "metadata": {
    "collapsed": false,
    "pycharm": {
     "name": "#%%\n"
    }
   }
  },
  {
   "cell_type": "code",
   "execution_count": 10,
   "outputs": [],
   "source": [
    "def get_data_by_tokens(inp_tokens,try_num,timeout):\n",
    "    df_out=pd.DataFrame({'address':[],'description':[],'area':[],'price':[]})\n",
    "    for i in tqdm(inp_tokens):\n",
    "        dest_url=f\"https://api.divar.ir/v8/posts-v2/web/{i}\"\n",
    "        dt=extract_json_data(dest_url,try_num,timeout)\n",
    "        if dt is not False:\n",
    "            df_out.loc[len(df_out.index)+1]=dt\n",
    "    return df_out"
   ],
   "metadata": {
    "collapsed": false,
    "pycharm": {
     "name": "#%%\n"
    }
   }
  },
  {
   "cell_type": "code",
   "execution_count": 11,
   "outputs": [],
   "source": [
    "def create_log():\n",
    "    if 'log.txt' in os.listdir():\n",
    "        with open('log.txt', 'r') as f:\n",
    "            if f.read() == '':\n",
    "                f.close()\n",
    "                with open('log.txt', 'w+') as f:\n",
    "                    f.write(f'{0},{time.time()}\\n')\n",
    "    else:\n",
    "        with open('log.txt', 'w') as f:\n",
    "            f.write(f'{0},{time.time()}\\n')"
   ],
   "metadata": {
    "collapsed": false,
    "pycharm": {
     "name": "#%%\n"
    }
   }
  },
  {
   "cell_type": "code",
   "execution_count": 12,
   "outputs": [],
   "source": [
    "create_log()"
   ],
   "metadata": {
    "collapsed": false,
    "pycharm": {
     "name": "#%%\n"
    }
   }
  },
  {
   "cell_type": "code",
   "execution_count": 13,
   "outputs": [
    {
     "name": "stderr",
     "output_type": "stream",
     "text": [
      "100%|██████████| 1553/1553 [35:01<00:00,  1.35s/it]\n"
     ]
    }
   ],
   "source": [
    "if internet_connection():\n",
    "    try_num = 2\n",
    "    timeout = 1\n",
    "    with open('log.txt', 'r') as f:\n",
    "        msg = f.readlines()[-1].split(',')\n",
    "    if msg[0] == '0':\n",
    "        tokens = first_get_tokens(get_base_url2())\n",
    "        with open('log.txt', 'a') as f:\n",
    "            f.write(f'{1},{time.time()},{tokens[1]},{tokens[2]}\\n')\n",
    "        df = get_data_by_tokens(tokens[0], try_num, timeout)\n",
    "        df.to_excel('out_data.xlsx')\n",
    "        con=sqlite3.connect('real_state.db')\n",
    "        %sql sqlite:///real_state.db\n",
    "        df.to_sql('out_data',con)\n",
    "    else:\n",
    "        finish_date=int(msg[-1].replace('\\n',''))\n",
    "        df=pd.read_excel('out_data.xlsx')\n",
    "        tokens = second_get_tokens(get_base_url(),finish_date)\n",
    "        with open('log.txt', 'a') as f:\n",
    "            f.write(f'{int(msg[0]) + 1},{time.time()},{tokens[1]},{tokens[2]}\\n')\n",
    "        df2 = get_data_by_tokens(tokens[0], try_num, timeout)\n",
    "        df=pd.concat([df,df2],axis=0)\n",
    "        df.to_excel('out_data.xlsx')\n",
    "        con=sqlite3.connect('real_state.db')\n",
    "        %sql sqlite:///real_state.db\n",
    "        df.to_sql('out_data',con)"
   ],
   "metadata": {
    "collapsed": false,
    "pycharm": {
     "name": "#%%\n"
    }
   }
  },
  {
   "cell_type": "code",
   "execution_count": null,
   "outputs": [],
   "source": [],
   "metadata": {
    "collapsed": false,
    "pycharm": {
     "name": "#%%\n"
    }
   }
  },
  {
   "cell_type": "code",
   "execution_count": 36,
   "outputs": [],
   "source": [
    "#first_get_tokens(get_base_url2())"
   ],
   "metadata": {
    "collapsed": false,
    "pycharm": {
     "name": "#%%\n"
    }
   }
  },
  {
   "cell_type": "code",
   "execution_count": 13,
   "outputs": [
    {
     "data": {
      "text/plain": "      Unnamed: 0                                            address  \\\n0              1  زمین دارای پروانه ساختمان، به شرط سند فروخته م...   \n1              2                       زمین قولنامه ای موقعیت مکانی   \n2              3                           زمین قابل ساخت داخل بافت   \n3              4                         زمین تجاری بر میدان دو کله   \n4              5      زمین سند دار مناسب سرمایه گذاری شب عید معاوضه   \n...          ...                                                ...   \n1424        1425           زمین مناسب برای خانه و خانه باغ در راوند   \n1425        1426                                   فروش زمین درشمال   \n1426        1427      زمین ۱۶۰ متری مشهد اردهال موقعیت خوش اب و هوا   \n1427        1428                             زمین ۲۳۰متری دوبر فاز۲   \n1428        1429      دوقواره  زمین ۱۱۰ متری انتهای بلوار نارنجستان   \n\n                                            description  area         price  \n0     تخفیف خوبی برای مصرف کننده ارایه خواهد شد.\\nمت...   165  3.500000e+09  \n1     بلوار امام رضا کوچه بعداز پمپ بنزین؛بعداز چهار...   165  7.200000e+08  \n2     زمین مسکونی روستای ارمک نزدیک امام زاده سند شو...   150  4.500000e+08  \n3     سند شش دانگ تک برگی\\nبا توافق شهرداری دو طبقه ...   140  4.060000e+09  \n4     زمین منطقه روبه رشد\\n۵در ۲۰ \\nدیوارکشی شده \\nس...   100  4.950000e+08  \n...                                                 ...   ...           ...  \n1424  محله مسکونی آرام کوچه آسفالت شده تمام امتیازات...   171  6.000000e+08  \n1425  یک فرصت عالی جهت سرمایه گذاری، بافرصت محدود*\\n...   208  1.040000e+09  \n1426  زمین ۱۶۰ متری مشهد اردهال موقعیت عالی دارای اب...   160  2.400000e+08  \n1427  ▪️هوالرزاق▪️.                                 ...   230  3.350000e+09  \n1428  ▪️هوالرزاق▪️.                                 ...   110  1.070000e+09  \n\n[1429 rows x 5 columns]",
      "text/html": "<div>\n<style scoped>\n    .dataframe tbody tr th:only-of-type {\n        vertical-align: middle;\n    }\n\n    .dataframe tbody tr th {\n        vertical-align: top;\n    }\n\n    .dataframe thead th {\n        text-align: right;\n    }\n</style>\n<table border=\"1\" class=\"dataframe\">\n  <thead>\n    <tr style=\"text-align: right;\">\n      <th></th>\n      <th>Unnamed: 0</th>\n      <th>address</th>\n      <th>description</th>\n      <th>area</th>\n      <th>price</th>\n    </tr>\n  </thead>\n  <tbody>\n    <tr>\n      <th>0</th>\n      <td>1</td>\n      <td>زمین دارای پروانه ساختمان، به شرط سند فروخته م...</td>\n      <td>تخفیف خوبی برای مصرف کننده ارایه خواهد شد.\\nمت...</td>\n      <td>165</td>\n      <td>3.500000e+09</td>\n    </tr>\n    <tr>\n      <th>1</th>\n      <td>2</td>\n      <td>زمین قولنامه ای موقعیت مکانی</td>\n      <td>بلوار امام رضا کوچه بعداز پمپ بنزین؛بعداز چهار...</td>\n      <td>165</td>\n      <td>7.200000e+08</td>\n    </tr>\n    <tr>\n      <th>2</th>\n      <td>3</td>\n      <td>زمین قابل ساخت داخل بافت</td>\n      <td>زمین مسکونی روستای ارمک نزدیک امام زاده سند شو...</td>\n      <td>150</td>\n      <td>4.500000e+08</td>\n    </tr>\n    <tr>\n      <th>3</th>\n      <td>4</td>\n      <td>زمین تجاری بر میدان دو کله</td>\n      <td>سند شش دانگ تک برگی\\nبا توافق شهرداری دو طبقه ...</td>\n      <td>140</td>\n      <td>4.060000e+09</td>\n    </tr>\n    <tr>\n      <th>4</th>\n      <td>5</td>\n      <td>زمین سند دار مناسب سرمایه گذاری شب عید معاوضه</td>\n      <td>زمین منطقه روبه رشد\\n۵در ۲۰ \\nدیوارکشی شده \\nس...</td>\n      <td>100</td>\n      <td>4.950000e+08</td>\n    </tr>\n    <tr>\n      <th>...</th>\n      <td>...</td>\n      <td>...</td>\n      <td>...</td>\n      <td>...</td>\n      <td>...</td>\n    </tr>\n    <tr>\n      <th>1424</th>\n      <td>1425</td>\n      <td>زمین مناسب برای خانه و خانه باغ در راوند</td>\n      <td>محله مسکونی آرام کوچه آسفالت شده تمام امتیازات...</td>\n      <td>171</td>\n      <td>6.000000e+08</td>\n    </tr>\n    <tr>\n      <th>1425</th>\n      <td>1426</td>\n      <td>فروش زمین درشمال</td>\n      <td>یک فرصت عالی جهت سرمایه گذاری، بافرصت محدود*\\n...</td>\n      <td>208</td>\n      <td>1.040000e+09</td>\n    </tr>\n    <tr>\n      <th>1426</th>\n      <td>1427</td>\n      <td>زمین ۱۶۰ متری مشهد اردهال موقعیت خوش اب و هوا</td>\n      <td>زمین ۱۶۰ متری مشهد اردهال موقعیت عالی دارای اب...</td>\n      <td>160</td>\n      <td>2.400000e+08</td>\n    </tr>\n    <tr>\n      <th>1427</th>\n      <td>1428</td>\n      <td>زمین ۲۳۰متری دوبر فاز۲</td>\n      <td>▪️هوالرزاق▪️.                                 ...</td>\n      <td>230</td>\n      <td>3.350000e+09</td>\n    </tr>\n    <tr>\n      <th>1428</th>\n      <td>1429</td>\n      <td>دوقواره  زمین ۱۱۰ متری انتهای بلوار نارنجستان</td>\n      <td>▪️هوالرزاق▪️.                                 ...</td>\n      <td>110</td>\n      <td>1.070000e+09</td>\n    </tr>\n  </tbody>\n</table>\n<p>1429 rows × 5 columns</p>\n</div>"
     },
     "execution_count": 13,
     "metadata": {},
     "output_type": "execute_result"
    }
   ],
   "source": [
    "#dff=pd.read_excel('out_data.xlsx')\n",
    "#dff"
   ],
   "metadata": {
    "collapsed": false,
    "pycharm": {
     "name": "#%%\n"
    }
   }
  },
  {
   "cell_type": "code",
   "execution_count": 14,
   "outputs": [],
   "source": [],
   "metadata": {
    "collapsed": false,
    "pycharm": {
     "name": "#%%\n"
    }
   }
  }
 ],
 "metadata": {
  "kernelspec": {
   "display_name": "Python 3",
   "language": "python",
   "name": "python3"
  },
  "language_info": {
   "codemirror_mode": {
    "name": "ipython",
    "version": 2
   },
   "file_extension": ".py",
   "mimetype": "text/x-python",
   "name": "python",
   "nbconvert_exporter": "python",
   "pygments_lexer": "ipython2",
   "version": "2.7.6"
  }
 },
 "nbformat": 4,
 "nbformat_minor": 0
}