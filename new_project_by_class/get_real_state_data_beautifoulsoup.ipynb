{
 "cells": [
  {
   "cell_type": "code",
   "execution_count": 1,
   "metadata": {
    "collapsed": true,
    "pycharm": {
     "name": "#%%\n"
    }
   },
   "outputs": [],
   "source": [
    "import os\n",
    "import string\n",
    "\n",
    "import requests\n",
    "from bs4 import BeautifulSoup\n",
    "import time\n",
    "from tqdm import tqdm\n",
    "import pandas as pd\n",
    "import numpy as np\n",
    "from random import randint"
   ]
  },
  {
   "cell_type": "code",
   "execution_count": 2,
   "outputs": [],
   "source": [
    "def internet_connection():\n",
    "    try:\n",
    "        response = requests.get(\"https://www.google.com\", timeout=5)\n",
    "        return True\n",
    "    except requests.ConnectionError:\n",
    "        return False"
   ],
   "metadata": {
    "collapsed": false,
    "pycharm": {
     "name": "#%%\n"
    }
   }
  },
  {
   "cell_type": "code",
   "execution_count": 3,
   "outputs": [],
   "source": [
    "def adad_farsi_to_english(inp: str):\n",
    "    dc = {'۰': '0', '۱': '1', '۲': '2', '۳': '3', '۴': '4', '۵': '5', '۶': '6', '۷': '7', '۸': '8', '۹': '9'}\n",
    "    out = ''\n",
    "    for i in inp:\n",
    "        if i in dc.keys():\n",
    "            out += dc[i]\n",
    "        else:\n",
    "            out += ''\n",
    "    if out.isdecimal():\n",
    "        return int(out)\n",
    "    else:\n",
    "        return None"
   ],
   "metadata": {
    "collapsed": false,
    "pycharm": {
     "name": "#%%\n"
    }
   }
  },
  {
   "cell_type": "code",
   "execution_count": 4,
   "outputs": [],
   "source": [
    "def get_tokens(inp_url, inp_json):\n",
    "    out_tokens = []\n",
    "    resp = requests.post(url=inp_url, json=inp_json)\n",
    "    if resp.status_code == 200:\n",
    "        data_v = resp.json()\n",
    "        for j in data_v[\"web_widgets\"][\"post_list\"]:\n",
    "            try:\n",
    "                out_tokens.append(j['data']['token'])\n",
    "            except:\n",
    "                continue\n",
    "    else:\n",
    "        return 0\n",
    "    return out_tokens, data_v['last_post_date'], data_v['first_post_date']"
   ],
   "metadata": {
    "collapsed": false,
    "pycharm": {
     "name": "#%%\n"
    }
   }
  },
  {
   "cell_type": "code",
   "execution_count": 5,
   "outputs": [],
   "source": [
    "def first_get_tokens(inp_url):\n",
    "    f_post_date = 0\n",
    "    #l_post_date = 0\n",
    "    js_v = {\"page\": 0,\n",
    "            \"json_schema\": {\"category\": {\"value\": \"plot-old\"}, \"query\": \"زمین\",\n",
    "                            \"sort\": {\"value\": \"sort_date\"}},\n",
    "            \"last-post-date\": int(str(time.time()).replace('.', ''))}\n",
    "\n",
    "    try:\n",
    "        l_p_date = requests.post(url=inp_url, json=js_v).json()['last_post_date']\n",
    "    except:\n",
    "        l_p_date = int(str(time.time()).replace('.', ''))\n",
    "    out_tokens = []\n",
    "    k = 0\n",
    "    while True:\n",
    "        json_v = {\"page\": k,\n",
    "                  \"json_schema\": {\"category\": {\"value\": \"plot-old\"}, \"query\": \"زمین\",\n",
    "                                  \"sort\": {\"value\": \"sort_date\"}},\n",
    "                  \"last-post-date\": l_p_date}\n",
    "\n",
    "        result = get_tokens(inp_url, json_v)\n",
    "        if result == 0:\n",
    "            break\n",
    "        else:\n",
    "            if k == 0:\n",
    "                f_post_date = result[2]\n",
    "            out_tokens += result[0]\n",
    "            l_p_date = result[1]\n",
    "            k += 1\n",
    "    return out_tokens, l_p_date, f_post_date"
   ],
   "metadata": {
    "collapsed": false,
    "pycharm": {
     "name": "#%%\n"
    }
   }
  },
  {
   "cell_type": "code",
   "execution_count": 10,
   "outputs": [],
   "source": [
    "def second_get_tokens(inp_url, end_date):\n",
    "    f_post_date = 0\n",
    "    out_tokens = []\n",
    "    json_v = {\"page\": 0,\n",
    "              \"json_schema\": {\"category\": {\"value\": \"plot-old\"}, \"query\": \"زمین\",\n",
    "                              \"sort\": {\"value\": \"sort_date\"}},\n",
    "              \"last-post-date\": int(str(time.time()).replace('.', ''))}\n",
    "    try:\n",
    "        l_p_date = requests.post(url=inp_url, json=json_v).json()['last_post_date']\n",
    "    except:\n",
    "        l_p_date = int(str(time.time()).replace('.', ''))\n",
    "    k = 0\n",
    "    while True:\n",
    "        if l_p_date > end_date:\n",
    "            js_v = {\"page\": k,\n",
    "                    \"json_schema\": {\"category\": {\"value\": \"plot-old\"}, \"query\": \"زمین\",\n",
    "                                    \"sort\": {\"value\": \"sort_date\"}},\n",
    "                    \"last-post-date\": l_p_date}\n",
    "            result = get_tokens(inp_url, js_v)\n",
    "            if result != 0:\n",
    "                if k == 0:\n",
    "                    f_post_date = result[2]\n",
    "                out_tokens += result[0]\n",
    "                l_p_date = result[1]\n",
    "            else:\n",
    "                break\n",
    "        else:\n",
    "            break\n",
    "    return out_tokens, l_p_date, f_post_date"
   ],
   "metadata": {
    "collapsed": false,
    "pycharm": {
     "name": "#%%\n"
    }
   }
  },
  {
   "cell_type": "code",
   "execution_count": 11,
   "outputs": [],
   "source": [
    "def get_base_url(inp=\"https://api.divar.ir/v8/web-search/30/plot-old\"):\n",
    "    inp2 = input('Enter your url :')\n",
    "    if inp2 == '':\n",
    "        return inp\n",
    "    else:\n",
    "        return inp2\n",
    "\n",
    "\n",
    "def get_base_url2(inp=None):\n",
    "    if inp:\n",
    "        return inp\n",
    "    else:\n",
    "        return \"https://api.divar.ir/v8/web-search/30/plot-old\"\n",
    "\n",
    "\n",
    "def get_last_post_data(inp=None):\n",
    "    if inp:\n",
    "        return inp\n",
    "    else:\n",
    "        return int(str(time.time()).replace('.', ''))"
   ],
   "metadata": {
    "collapsed": false,
    "pycharm": {
     "name": "#%%\n"
    }
   }
  },
  {
   "cell_type": "code",
   "execution_count": 12,
   "outputs": [],
   "source": [
    "'''def true_get_data2(inp_url, try_num, timeout):\n",
    "    o = string.ascii_letters\n",
    "    c = 0\n",
    "    make_url = inp_url\n",
    "    while True:\n",
    "        time.sleep(timeout)\n",
    "        print('-', end='')\n",
    "        resp = requests.get(make_url)\n",
    "        make_url = make_url.replace('-', o[randint(0, len(o))])\n",
    "        if resp.status_code == 200:\n",
    "            page_ = resp.text\n",
    "            if 'متر' in page_ and 'زمین' in page_ and 'متراژ' in page_ and 'قیمت کل' in page_ and 'قیمت هر متر' in page_:\n",
    "                return resp\n",
    "            else:\n",
    "                if c < try_num:\n",
    "                    c += 1\n",
    "                    continue\n",
    "                else:\n",
    "                    return False\n",
    "        else:\n",
    "            if c < try_num:\n",
    "                c += 1\n",
    "                continue\n",
    "            else:\n",
    "                return False'''"
   ],
   "metadata": {
    "collapsed": false,
    "pycharm": {
     "name": "#%%\n"
    }
   }
  },
  {
   "cell_type": "code",
   "execution_count": 35,
   "outputs": [],
   "source": [
    "def true_get_data2(inp_url, try_num, timeout):\n",
    "    o = string.ascii_letters\n",
    "    #c = 0\n",
    "    make_url = inp_url\n",
    "    for i in range(try_num):\n",
    "        time.sleep(timeout)\n",
    "        #print('-', end='')\n",
    "        make_url = make_url.replace('-', o[randint(0, len(o)-1)])\n",
    "        resp = requests.get(make_url)\n",
    "        if resp.status_code == 200:\n",
    "            page_ = resp.text\n",
    "            if 'متر' in page_ and 'زمین' in page_ and 'متراژ' in page_ and 'قیمت کل' in page_ and 'قیمت هر متر' in page_:\n",
    "                return resp\n",
    "            else:\n",
    "                    continue\n",
    "        else:\n",
    "                continue\n",
    "    return False\n"
   ],
   "metadata": {
    "collapsed": false,
    "pycharm": {
     "name": "#%%\n"
    }
   }
  },
  {
   "cell_type": "code",
   "execution_count": 36,
   "outputs": [
    {
     "data": {
      "text/plain": "'def get_data(inp_url):\\n    out_data = []\\n    page_ = requests.get(inp_url)\\n    if page_.status_code == 200:\\n        soup_v = BeautifulSoup(page_.text, \\'html5lib\\')\\n        try:\\n            address = soup_v.find(\\'div\\', class_=\\'kt-page-title__title kt-page-title__title--responsive-sized\\')\\n            if address is not None:\\n                address = address.text\\n                #out_data.append(address.text)\\n            list_data = soup_v.find_all(\\'div\\', class_=\"kt-base-row__end kt-unexpandable-row__value-box\")\\n            attr = []\\n            for i in list_data:\\n                if len(list_data) > 0:\\n                    attr.append(adad_farsi_to_english(i.text))\\n                    #out_data.append(adad_farsi_to_english(i.text))\\n            description = soup_v.find_all(\\'p\\', class_=\"kt-description-row__text kt-description-row__text--primary\")[0]\\n            if description is not None:\\n                description = description.text\\n                #out_data.append(description.text)\\n            out_data = [address] + attr + [description]\\n        except:\\n            pass\\n\\n    return out_data'"
     },
     "execution_count": 36,
     "metadata": {},
     "output_type": "execute_result"
    }
   ],
   "source": [
    "'''def get_data(inp_url):\n",
    "    out_data = []\n",
    "    page_ = requests.get(inp_url)\n",
    "    if page_.status_code == 200:\n",
    "        soup_v = BeautifulSoup(page_.text, 'html5lib')\n",
    "        try:\n",
    "            address = soup_v.find('div', class_='kt-page-title__title kt-page-title__title--responsive-sized')\n",
    "            if address is not None:\n",
    "                address = address.text\n",
    "                #out_data.append(address.text)\n",
    "            list_data = soup_v.find_all('div', class_=\"kt-base-row__end kt-unexpandable-row__value-box\")\n",
    "            attr = []\n",
    "            for i in list_data:\n",
    "                if len(list_data) > 0:\n",
    "                    attr.append(adad_farsi_to_english(i.text))\n",
    "                    #out_data.append(adad_farsi_to_english(i.text))\n",
    "            description = soup_v.find_all('p', class_=\"kt-description-row__text kt-description-row__text--primary\")[0]\n",
    "            if description is not None:\n",
    "                description = description.text\n",
    "                #out_data.append(description.text)\n",
    "            out_data = [address] + attr + [description]\n",
    "        except:\n",
    "            pass\n",
    "\n",
    "    return out_data'''"
   ],
   "metadata": {
    "collapsed": false,
    "pycharm": {
     "name": "#%%\n"
    }
   }
  },
  {
   "cell_type": "code",
   "execution_count": 45,
   "outputs": [],
   "source": [
    "def get_data2(inp_url, try_num, timeout):\n",
    "    out_data = []\n",
    "    page_ = true_get_data2(inp_url, try_num, timeout)\n",
    "    if page_ is not False:\n",
    "        soup_v = BeautifulSoup(page_.text, 'html5lib')\n",
    "        try:\n",
    "            address = soup_v.find('div', class_='kt-page-title__title kt-page-title__title--responsive-sized')\n",
    "            if address is not None:\n",
    "                address = address.text\n",
    "                #out_data.append(address.text)\n",
    "            list_data = soup_v.find_all('div', class_=\"kt-base-row__end kt-unexpandable-row__value-box\")\n",
    "            attr = []\n",
    "            for i in list_data:\n",
    "                if len(list_data) > 0:\n",
    "                    attr.append(adad_farsi_to_english(i.text))\n",
    "                    #out_data.append(adad_farsi_to_english(i.text))\n",
    "            description = soup_v.find_all('p', class_=\"kt-description-row__text kt-description-row__text--primary\")[0]\n",
    "            if description is not None:\n",
    "                description = description.text\n",
    "                #out_data.append(description.text)\n",
    "            out_data = [address] + attr + [description]\n",
    "        except:\n",
    "            pass\n",
    "    if len(out_data) == 5:\n",
    "        return out_data\n",
    "    else:\n",
    "        return False"
   ],
   "metadata": {
    "collapsed": false,
    "pycharm": {
     "name": "#%%\n"
    }
   }
  },
  {
   "cell_type": "code",
   "execution_count": 46,
   "outputs": [],
   "source": [
    "def get_data_by_tokens(inp_tokens, try_num, timeout):\n",
    "    df_out = pd.DataFrame({'address': [], 'area': [], 'price': [], 'unit_price': [], 'description': []})\n",
    "    base_url = 'https://divar.ir/v/-/'\n",
    "    for i in tqdm(inp_tokens[0]):\n",
    "        dest_url = base_url + i\n",
    "        data_v = get_data2(dest_url, try_num, timeout)\n",
    "        if data_v is not False:\n",
    "            #df_out.append(pd.Series(data_v, index=df_out.columns[:len(data_v)]), ignore_index=True)\n",
    "            df_out.loc[len(df_out.index) + 1] = data_v\n",
    "    return df_out"
   ],
   "metadata": {
    "collapsed": false,
    "pycharm": {
     "name": "#%%\n"
    }
   }
  },
  {
   "cell_type": "code",
   "execution_count": 39,
   "outputs": [
    {
     "data": {
      "text/plain": "\"def get_data_by_tokens(inp_tokens, try_num, timeout):\\n    df_out = pd.DataFrame({'address': [], 'area': [], 'price': [], 'unit_price': [], 'description': []})\\n    base_url = 'https://divar.ir/v/-/'\\n    with open('log.txt','r') as f:\\n        msg=f.readline()[-1].split(',')\\n    if msg[0]==0:\\n        with open('log.txt', 'a') as f:\\n            f.write(f'{int(msg[0]+1)},{time.time()},{inp_tokens[1]},{inp_tokens[2]}\\n')\\n        for i in tqdm(inp_tokens[0]):\\n            dest_url = base_url + i\\n            data_v = get_data2(dest_url, try_num, timeout)\\n            if data_v is not False:\\n                df_out.append(pd.Series(data_v, index=df_out.columns[:len(data_v)]), ignore_index=True)\\n            #df_out.loc[len(df_out.index) + 1] = data_v\\n        return df_out\\n    else:\\n        with open('log.txt', 'a') as f:\\n            f.write(f'{int(msg[0]+1)},{time.time()},{inp_tokens[1]},{inp_tokens[2]}\\n')\\n        for i in tqdm(inp_tokens[0]):\\n            dest_url = base_url + i\\n            data_v = get_data2(dest_url, try_num, timeout)\\n            if data_v is not False:\\n                df_out.append(pd.Series(data_v, index=df_out.columns[:len(data_v)]), ignore_index=True)\\n            #df_out.loc[len(df_out.index) + 1] = data_v\\n        return df_out\""
     },
     "execution_count": 39,
     "metadata": {},
     "output_type": "execute_result"
    }
   ],
   "source": [
    "'''def get_data_by_tokens(inp_tokens, try_num, timeout):\n",
    "    df_out = pd.DataFrame({'address': [], 'area': [], 'price': [], 'unit_price': [], 'description': []})\n",
    "    base_url = 'https://divar.ir/v/-/'\n",
    "    with open('log.txt','r') as f:\n",
    "        msg=f.readline()[-1].split(',')\n",
    "    if msg[0]==0:\n",
    "        with open('log.txt', 'a') as f:\n",
    "            f.write(f'{int(msg[0]+1)},{time.time()},{inp_tokens[1]},{inp_tokens[2]}\\n')\n",
    "        for i in tqdm(inp_tokens[0]):\n",
    "            dest_url = base_url + i\n",
    "            data_v = get_data2(dest_url, try_num, timeout)\n",
    "            if data_v is not False:\n",
    "                df_out.append(pd.Series(data_v, index=df_out.columns[:len(data_v)]), ignore_index=True)\n",
    "            #df_out.loc[len(df_out.index) + 1] = data_v\n",
    "        return df_out\n",
    "    else:\n",
    "        with open('log.txt', 'a') as f:\n",
    "            f.write(f'{int(msg[0]+1)},{time.time()},{inp_tokens[1]},{inp_tokens[2]}\\n')\n",
    "        for i in tqdm(inp_tokens[0]):\n",
    "            dest_url = base_url + i\n",
    "            data_v = get_data2(dest_url, try_num, timeout)\n",
    "            if data_v is not False:\n",
    "                df_out.append(pd.Series(data_v, index=df_out.columns[:len(data_v)]), ignore_index=True)\n",
    "            #df_out.loc[len(df_out.index) + 1] = data_v\n",
    "        return df_out'''"
   ],
   "metadata": {
    "collapsed": false,
    "pycharm": {
     "name": "#%%\n"
    }
   }
  },
  {
   "cell_type": "code",
   "execution_count": 42,
   "outputs": [],
   "source": [
    "if 'log.txt' in os.listdir():\n",
    "    with open('log.txt', 'r') as f:\n",
    "        if f.read() == '':\n",
    "            f.close()\n",
    "            with open('log.txt', 'w+') as f:\n",
    "                f.write(f'{0},{time.time()}')\n",
    "else:\n",
    "    with open('log.txt', 'w') as f:\n",
    "        f.write(f'{0},{time.time()}')"
   ],
   "metadata": {
    "collapsed": false,
    "pycharm": {
     "name": "#%%\n"
    }
   }
  },
  {
   "cell_type": "code",
   "execution_count": 50,
   "outputs": [
    {
     "name": "stderr",
     "output_type": "stream",
     "text": [
      "100%|██████████| 48/48 [08:12<00:00, 10.27s/it]\n"
     ]
    }
   ],
   "source": [
    "try_num = 5\n",
    "timeout = 2\n",
    "with open('log.txt', 'r') as f:\n",
    "    msg = f.readlines()[-1].split(',')\n",
    "    if msg[0] == '0':\n",
    "        tokens = first_get_tokens(get_base_url2())\n",
    "        with open('log.txt', 'a') as f:\n",
    "            f.write(f'\\n{1},{time.time()},{tokens[1]},{tokens[2]}')\n",
    "        df = get_data_by_tokens(tokens, try_num, timeout)\n",
    "    else:\n",
    "        df=pd.read_excel('out_data.xlsx')\n",
    "        tokens = second_get_tokens(get_base_url2(), int(msg[3]))\n",
    "        with open('log.txt', 'a') as f:\n",
    "            f.write(f'\\n{int(msg[0]) + 1},{time.time()},{tokens[1]},{tokens[2]}')\n",
    "        df2 = get_data_by_tokens(tokens, try_num, timeout)\n",
    "        pd.concat([df,df2],axis=0)\n",
    "\n",
    "df.to_excel('out_data.xlsx')"
   ],
   "metadata": {
    "collapsed": false,
    "pycharm": {
     "name": "#%%\n"
    }
   }
  },
  {
   "cell_type": "code",
   "execution_count": 51,
   "outputs": [
    {
     "data": {
      "text/plain": "   Unnamed: 0                                         address  area  \\\n0           1  زمین فروشی ناجی آباد بلوار امام رضا روبرو مصلا   100   \n1           2               زمین مزروعی آینده دار یا خونه باغ   460   \n2           3                    زمین جهت ساخت و سرمایه گذاری   189   \n\n        price  unit_price                                        description  \n0   350000000     3500000  سلام زمین فروشی ناجی آباد بهترین موقعیت برای س...  \n1   460000000     1000000  یک قطعه زمین مزروعی مناسب برای ساخت خونه باغ،....  \n2  1480000000     7830000  زمین شمالی بر دوم خیابان اصلی\\nکوچه 10متری \\n9...  ",
      "text/html": "<div>\n<style scoped>\n    .dataframe tbody tr th:only-of-type {\n        vertical-align: middle;\n    }\n\n    .dataframe tbody tr th {\n        vertical-align: top;\n    }\n\n    .dataframe thead th {\n        text-align: right;\n    }\n</style>\n<table border=\"1\" class=\"dataframe\">\n  <thead>\n    <tr style=\"text-align: right;\">\n      <th></th>\n      <th>Unnamed: 0</th>\n      <th>address</th>\n      <th>area</th>\n      <th>price</th>\n      <th>unit_price</th>\n      <th>description</th>\n    </tr>\n  </thead>\n  <tbody>\n    <tr>\n      <th>0</th>\n      <td>1</td>\n      <td>زمین فروشی ناجی آباد بلوار امام رضا روبرو مصلا</td>\n      <td>100</td>\n      <td>350000000</td>\n      <td>3500000</td>\n      <td>سلام زمین فروشی ناجی آباد بهترین موقعیت برای س...</td>\n    </tr>\n    <tr>\n      <th>1</th>\n      <td>2</td>\n      <td>زمین مزروعی آینده دار یا خونه باغ</td>\n      <td>460</td>\n      <td>460000000</td>\n      <td>1000000</td>\n      <td>یک قطعه زمین مزروعی مناسب برای ساخت خونه باغ،....</td>\n    </tr>\n    <tr>\n      <th>2</th>\n      <td>3</td>\n      <td>زمین جهت ساخت و سرمایه گذاری</td>\n      <td>189</td>\n      <td>1480000000</td>\n      <td>7830000</td>\n      <td>زمین شمالی بر دوم خیابان اصلی\\nکوچه 10متری \\n9...</td>\n    </tr>\n  </tbody>\n</table>\n</div>"
     },
     "execution_count": 51,
     "metadata": {},
     "output_type": "execute_result"
    }
   ],
   "source": [
    "df"
   ],
   "metadata": {
    "collapsed": false,
    "pycharm": {
     "name": "#%%\n"
    }
   }
  },
  {
   "cell_type": "code",
   "execution_count": null,
   "outputs": [],
   "source": [],
   "metadata": {
    "collapsed": false,
    "pycharm": {
     "name": "#%%\n"
    }
   }
  }
 ],
 "metadata": {
  "kernelspec": {
   "display_name": "Python 3",
   "language": "python",
   "name": "python3"
  },
  "language_info": {
   "codemirror_mode": {
    "name": "ipython",
    "version": 2
   },
   "file_extension": ".py",
   "mimetype": "text/x-python",
   "name": "python",
   "nbconvert_exporter": "python",
   "pygments_lexer": "ipython2",
   "version": "2.7.6"
  }
 },
 "nbformat": 4,
 "nbformat_minor": 0
}