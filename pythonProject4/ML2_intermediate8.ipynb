{
 "cells": [
  {
   "cell_type": "code",
   "execution_count": 1,
   "metadata": {
    "collapsed": true
   },
   "outputs": [],
   "source": [
    "import numpy as np\n",
    "import pandas as pd\n",
    "import matplotlib.pyplot as plt\n",
    "from sklearn.metrics import accuracy_score\n",
    "from sklearn.model_selection import  train_test_split"
   ]
  },
  {
   "cell_type": "code",
   "execution_count": 2,
   "outputs": [
    {
     "data": {
      "text/plain": "     age  sex  cp  trestbps  chol  fbs  restecg  thalach  exang  oldpeak  \\\n0     69    1   0       160   234    1        2      131      0      0.1   \n1     69    0   0       140   239    0        0      151      0      1.8   \n2     66    0   0       150   226    0        0      114      0      2.6   \n3     65    1   0       138   282    1        2      174      0      1.4   \n4     64    1   0       110   211    0        2      144      1      1.8   \n..   ...  ...  ..       ...   ...  ...      ...      ...    ...      ...   \n292   40    1   3       152   223    0        0      181      0      0.0   \n293   39    1   3       118   219    0        0      140      0      1.2   \n294   35    1   3       120   198    0        0      130      1      1.6   \n295   35    0   3       138   183    0        0      182      0      1.4   \n296   35    1   3       126   282    0        2      156      1      0.0   \n\n     slope  ca  thal  condition  \n0        1   1     0          0  \n1        0   2     0          0  \n2        2   0     0          0  \n3        1   1     0          1  \n4        1   0     0          0  \n..     ...  ..   ...        ...  \n292      0   0     2          1  \n293      1   0     2          1  \n294      1   0     2          1  \n295      0   0     0          0  \n296      0   0     2          1  \n\n[297 rows x 14 columns]",
      "text/html": "<div>\n<style scoped>\n    .dataframe tbody tr th:only-of-type {\n        vertical-align: middle;\n    }\n\n    .dataframe tbody tr th {\n        vertical-align: top;\n    }\n\n    .dataframe thead th {\n        text-align: right;\n    }\n</style>\n<table border=\"1\" class=\"dataframe\">\n  <thead>\n    <tr style=\"text-align: right;\">\n      <th></th>\n      <th>age</th>\n      <th>sex</th>\n      <th>cp</th>\n      <th>trestbps</th>\n      <th>chol</th>\n      <th>fbs</th>\n      <th>restecg</th>\n      <th>thalach</th>\n      <th>exang</th>\n      <th>oldpeak</th>\n      <th>slope</th>\n      <th>ca</th>\n      <th>thal</th>\n      <th>condition</th>\n    </tr>\n  </thead>\n  <tbody>\n    <tr>\n      <th>0</th>\n      <td>69</td>\n      <td>1</td>\n      <td>0</td>\n      <td>160</td>\n      <td>234</td>\n      <td>1</td>\n      <td>2</td>\n      <td>131</td>\n      <td>0</td>\n      <td>0.1</td>\n      <td>1</td>\n      <td>1</td>\n      <td>0</td>\n      <td>0</td>\n    </tr>\n    <tr>\n      <th>1</th>\n      <td>69</td>\n      <td>0</td>\n      <td>0</td>\n      <td>140</td>\n      <td>239</td>\n      <td>0</td>\n      <td>0</td>\n      <td>151</td>\n      <td>0</td>\n      <td>1.8</td>\n      <td>0</td>\n      <td>2</td>\n      <td>0</td>\n      <td>0</td>\n    </tr>\n    <tr>\n      <th>2</th>\n      <td>66</td>\n      <td>0</td>\n      <td>0</td>\n      <td>150</td>\n      <td>226</td>\n      <td>0</td>\n      <td>0</td>\n      <td>114</td>\n      <td>0</td>\n      <td>2.6</td>\n      <td>2</td>\n      <td>0</td>\n      <td>0</td>\n      <td>0</td>\n    </tr>\n    <tr>\n      <th>3</th>\n      <td>65</td>\n      <td>1</td>\n      <td>0</td>\n      <td>138</td>\n      <td>282</td>\n      <td>1</td>\n      <td>2</td>\n      <td>174</td>\n      <td>0</td>\n      <td>1.4</td>\n      <td>1</td>\n      <td>1</td>\n      <td>0</td>\n      <td>1</td>\n    </tr>\n    <tr>\n      <th>4</th>\n      <td>64</td>\n      <td>1</td>\n      <td>0</td>\n      <td>110</td>\n      <td>211</td>\n      <td>0</td>\n      <td>2</td>\n      <td>144</td>\n      <td>1</td>\n      <td>1.8</td>\n      <td>1</td>\n      <td>0</td>\n      <td>0</td>\n      <td>0</td>\n    </tr>\n    <tr>\n      <th>...</th>\n      <td>...</td>\n      <td>...</td>\n      <td>...</td>\n      <td>...</td>\n      <td>...</td>\n      <td>...</td>\n      <td>...</td>\n      <td>...</td>\n      <td>...</td>\n      <td>...</td>\n      <td>...</td>\n      <td>...</td>\n      <td>...</td>\n      <td>...</td>\n    </tr>\n    <tr>\n      <th>292</th>\n      <td>40</td>\n      <td>1</td>\n      <td>3</td>\n      <td>152</td>\n      <td>223</td>\n      <td>0</td>\n      <td>0</td>\n      <td>181</td>\n      <td>0</td>\n      <td>0.0</td>\n      <td>0</td>\n      <td>0</td>\n      <td>2</td>\n      <td>1</td>\n    </tr>\n    <tr>\n      <th>293</th>\n      <td>39</td>\n      <td>1</td>\n      <td>3</td>\n      <td>118</td>\n      <td>219</td>\n      <td>0</td>\n      <td>0</td>\n      <td>140</td>\n      <td>0</td>\n      <td>1.2</td>\n      <td>1</td>\n      <td>0</td>\n      <td>2</td>\n      <td>1</td>\n    </tr>\n    <tr>\n      <th>294</th>\n      <td>35</td>\n      <td>1</td>\n      <td>3</td>\n      <td>120</td>\n      <td>198</td>\n      <td>0</td>\n      <td>0</td>\n      <td>130</td>\n      <td>1</td>\n      <td>1.6</td>\n      <td>1</td>\n      <td>0</td>\n      <td>2</td>\n      <td>1</td>\n    </tr>\n    <tr>\n      <th>295</th>\n      <td>35</td>\n      <td>0</td>\n      <td>3</td>\n      <td>138</td>\n      <td>183</td>\n      <td>0</td>\n      <td>0</td>\n      <td>182</td>\n      <td>0</td>\n      <td>1.4</td>\n      <td>0</td>\n      <td>0</td>\n      <td>0</td>\n      <td>0</td>\n    </tr>\n    <tr>\n      <th>296</th>\n      <td>35</td>\n      <td>1</td>\n      <td>3</td>\n      <td>126</td>\n      <td>282</td>\n      <td>0</td>\n      <td>2</td>\n      <td>156</td>\n      <td>1</td>\n      <td>0.0</td>\n      <td>0</td>\n      <td>0</td>\n      <td>2</td>\n      <td>1</td>\n    </tr>\n  </tbody>\n</table>\n<p>297 rows × 14 columns</p>\n</div>"
     },
     "execution_count": 2,
     "metadata": {},
     "output_type": "execute_result"
    }
   ],
   "source": [
    "df=pd.read_csv('F:\\my project\\dataset\\learning_dataset\\\\heart_cleveland_upload.csv')\n",
    "df"
   ],
   "metadata": {
    "collapsed": false,
    "pycharm": {
     "name": "#%%\n"
    }
   }
  },
  {
   "cell_type": "code",
   "execution_count": 3,
   "outputs": [],
   "source": [
    "x=df.drop('condition',axis=1).values\n",
    "y=df.condition.values"
   ],
   "metadata": {
    "collapsed": false,
    "pycharm": {
     "name": "#%%\n"
    }
   }
  },
  {
   "cell_type": "code",
   "execution_count": 4,
   "outputs": [],
   "source": [
    "from sklearn.svm import SVC"
   ],
   "metadata": {
    "collapsed": false,
    "pycharm": {
     "name": "#%%\n"
    }
   }
  },
  {
   "cell_type": "code",
   "execution_count": 5,
   "outputs": [],
   "source": [
    "x_tr,x_ts,y_tr,y_ts=train_test_split(x,y,test_size=0.2,shuffle=True)"
   ],
   "metadata": {
    "collapsed": false,
    "pycharm": {
     "name": "#%%\n"
    }
   }
  },
  {
   "cell_type": "code",
   "execution_count": 6,
   "outputs": [
    {
     "data": {
      "text/plain": "0.7"
     },
     "execution_count": 6,
     "metadata": {},
     "output_type": "execute_result"
    }
   ],
   "source": [
    "svc=SVC()\n",
    "svc.fit(x_tr,y_tr)\n",
    "svc.score(x_ts,y_ts)"
   ],
   "metadata": {
    "collapsed": false,
    "pycharm": {
     "name": "#%%\n"
    }
   }
  },
  {
   "cell_type": "code",
   "execution_count": 7,
   "outputs": [],
   "source": [
    "from sklearn.metrics import accuracy_score,precision_recall_fscore_support,confusion_matrix"
   ],
   "metadata": {
    "collapsed": false,
    "pycharm": {
     "name": "#%%\n"
    }
   }
  },
  {
   "cell_type": "code",
   "execution_count": 11,
   "outputs": [
    {
     "data": {
      "text/plain": "array([[28, 11],\n       [ 7, 14]], dtype=int64)"
     },
     "execution_count": 11,
     "metadata": {},
     "output_type": "execute_result"
    }
   ],
   "source": [
    "cm=confusion_matrix(y_ts,svc.predict(x_ts))\n",
    "cm"
   ],
   "metadata": {
    "collapsed": false,
    "pycharm": {
     "name": "#%%\n"
    }
   }
  },
  {
   "cell_type": "code",
   "execution_count": 12,
   "outputs": [
    {
     "data": {
      "text/plain": "(array([0.8 , 0.56]),\n array([0.71794872, 0.66666667]),\n array([0.75675676, 0.60869565]),\n array([39, 21], dtype=int64))"
     },
     "execution_count": 12,
     "metadata": {},
     "output_type": "execute_result"
    }
   ],
   "source": [
    "pr=precision_recall_fscore_support(y_ts,svc.predict(x_ts))\n",
    "pr"
   ],
   "metadata": {
    "collapsed": false,
    "pycharm": {
     "name": "#%%\n"
    }
   }
  },
  {
   "cell_type": "code",
   "execution_count": 13,
   "outputs": [
    {
     "data": {
      "text/plain": "<matplotlib.image.AxesImage at 0x2245cbccf40>"
     },
     "execution_count": 13,
     "metadata": {},
     "output_type": "execute_result"
    },
    {
     "data": {
      "text/plain": "<Figure size 480x480 with 1 Axes>",
      "image/png": "[encoded data removed]"
     },
     "metadata": {},
     "output_type": "display_data"
    }
   ],
   "source": [
    "plt.matshow(cm)"
   ],
   "metadata": {
    "collapsed": false,
    "pycharm": {
     "name": "#%%\n"
    }
   }
  },
  {
   "cell_type": "code",
   "execution_count": null,
   "outputs": [],
   "source": [],
   "metadata": {
    "collapsed": false,
    "pycharm": {
     "name": "#%%\n"
    }
   }
  }
 ],
 "metadata": {
  "kernelspec": {
   "display_name": "Python 3",
   "language": "python",
   "name": "python3"
  },
  "language_info": {
   "codemirror_mode": {
    "name": "ipython",
    "version": 2
   },
   "file_extension": ".py",
   "mimetype": "text/x-python",
   "name": "python",
   "nbconvert_exporter": "python",
   "pygments_lexer": "ipython2",
   "version": "2.7.6"
  }
 },
 "nbformat": 4,
 "nbformat_minor": 0
}