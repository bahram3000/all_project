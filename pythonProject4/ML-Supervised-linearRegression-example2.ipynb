{
 "cells": [
  {
   "cell_type": "code",
   "execution_count": 74,
   "outputs": [],
   "source": [
    "import numpy as np\n",
    "import pandas as pd\n",
    "import matplotlib.pyplot as plt\n",
    "from sklearn.linear_model import LinearRegression\n",
    "from sklearn.model_selection import train_test_split"
   ],
   "metadata": {
    "collapsed": false,
    "pycharm": {
     "name": "#%%\n"
    }
   }
  },
  {
   "cell_type": "code",
   "execution_count": 75,
   "outputs": [
    {
     "name": "stderr",
     "output_type": "stream",
     "text": [
      "C:\\Users\\ADMIN\\AppData\\Local\\Temp\\ipykernel_7884\\2006265213.py:2: DtypeWarning: Columns (12) have mixed types. Specify dtype option on import or set low_memory=False.\n",
      "  house_data = pd.read_csv(path)\n"
     ]
    }
   ],
   "source": [
    "path = 'C:\\\\Users\\\\ADMIN\\\\Desktop\\\\my project\\\\House_Price_divar_pyfinance_aliraoofi.csv'\n",
    "house_data = pd.read_csv(path)"
   ],
   "metadata": {
    "collapsed": false,
    "pycharm": {
     "name": "#%%\n"
    }
   }
  },
  {
   "cell_type": "code",
   "execution_count": 76,
   "outputs": [
    {
     "data": {
      "text/plain": "      Area Construction Room Warehouse Parking Elevator  \\\n0      150         1388    3      TRUE    TRUE     TRUE   \n1       54         1389    1     FALSE    TRUE     TRUE   \n2       69         1390    2     FALSE    TRUE     TRUE   \n3       52         1388    1      TRUE    TRUE     TRUE   \n4      135         1401    3      TRUE    TRUE     TRUE   \n...    ...          ...  ...       ...     ...      ...   \n38183   50         1396    1     FALSE    TRUE     TRUE   \n38184   47         1397    1      TRUE    TRUE     TRUE   \n38185  190         1399    3      TRUE    TRUE     TRUE   \n38186   48         1383    1     FALSE   FALSE    FALSE   \n38187  150         1401    3      TRUE    TRUE     TRUE   \n\n                                              Address                Price  \\\n0       ۲ ساعت پیش در تهران، مرزداران | فروش آپارتمان  ۸٬۸۰۰٬۰۰۰٬۰۰۰ تومان   \n1         ۲ ساعت پیش در تهران، اندیشه | فروش آپارتمان    ۸۶۸٬۰۰۰٬۰۰۰ تومان   \n2         ۲ ساعت پیش در تهران، سلسبیل | فروش آپارتمان  ۲٬۱۰۰٬۰۰۰٬۰۰۰ تومان   \n3        ۲ ساعت پیش در تهران، باغ فیض | فروش آپارتمان  ۲٬۸۵۰٬۰۰۰٬۰۰۰ تومان   \n4        ۲ ساعت پیش در تهران، نیاوران | فروش آپارتمان  ۹٬۵۰۰٬۰۰۰٬۰۰۰ تومان   \n...                                               ...                  ...   \n38183      ۶ روز پیش در تهران، اندیشه | فروش آپارتمان    ۷۰۰٬۰۰۰٬۰۰۰ تومان   \n38184     ۳ ساعت پیش در تهران، اندیشه | فروش آپارتمان    ۸۰۰٬۰۰۰٬۰۰۰ تومان   \n38185    ۶ روز پیش در تهران، آجودانیه | فروش آپارتمان               توافقی   \n38186      ۶ روز پیش در تهران، بریانک | فروش آپارتمان  ۱٬۰۸۰٬۰۰۰٬۰۰۰ تومان   \n38187  ۶ روز پیش در تهران، سعادت‌آباد | فروش آپارتمان               توافقی   \n\n       Unnamed: 8  Unnamed: 9  Unnamed: 10  Unnamed: 11  \\\n0             NaN         NaN          NaN          NaN   \n1             NaN         NaN          NaN          NaN   \n2             NaN         NaN          NaN          NaN   \n3             NaN         NaN          NaN          NaN   \n4             NaN         NaN          NaN          NaN   \n...           ...         ...          ...          ...   \n38183         NaN         NaN          NaN          NaN   \n38184         NaN         NaN          NaN          NaN   \n38185         NaN         NaN          NaN          NaN   \n38186         NaN         NaN          NaN          NaN   \n38187         NaN         NaN          NaN          NaN   \n\n                 Unnamed: 12  Unnamed: 13  Unnamed: 14  Unnamed: 15  \n0                        NaN          NaN          NaN          NaN  \n1                        NaN          NaN          NaN          NaN  \n2                        NaN          NaN          NaN          NaN  \n3      for more information:          NaN          NaN          NaN  \n4        telegram: @pyfiance          NaN          NaN          NaN  \n...                      ...          ...          ...          ...  \n38183                    NaN          NaN          NaN          NaN  \n38184                    NaN          NaN          NaN          NaN  \n38185                    NaN          NaN          NaN          NaN  \n38186                    NaN          NaN          NaN          NaN  \n38187                    NaN          NaN          NaN          NaN  \n\n[38188 rows x 16 columns]",
      "text/html": "<div>\n<style scoped>\n    .dataframe tbody tr th:only-of-type {\n        vertical-align: middle;\n    }\n\n    .dataframe tbody tr th {\n        vertical-align: top;\n    }\n\n    .dataframe thead th {\n        text-align: right;\n    }\n</style>\n<table border=\"1\" class=\"dataframe\">\n  <thead>\n    <tr style=\"text-align: right;\">\n      <th></th>\n      <th>Area</th>\n      <th>Construction</th>\n      <th>Room</th>\n      <th>Warehouse</th>\n      <th>Parking</th>\n      <th>Elevator</th>\n      <th>Address</th>\n      <th>Price</th>\n      <th>Unnamed: 8</th>\n      <th>Unnamed: 9</th>\n      <th>Unnamed: 10</th>\n      <th>Unnamed: 11</th>\n      <th>Unnamed: 12</th>\n      <th>Unnamed: 13</th>\n      <th>Unnamed: 14</th>\n      <th>Unnamed: 15</th>\n    </tr>\n  </thead>\n  <tbody>\n    <tr>\n      <th>0</th>\n      <td>150</td>\n      <td>1388</td>\n      <td>3</td>\n      <td>TRUE</td>\n      <td>TRUE</td>\n      <td>TRUE</td>\n      <td>۲ ساعت پیش در تهران، مرزداران | فروش آپارتمان</td>\n      <td>۸٬۸۰۰٬۰۰۰٬۰۰۰ تومان</td>\n      <td>NaN</td>\n      <td>NaN</td>\n      <td>NaN</td>\n      <td>NaN</td>\n      <td>NaN</td>\n      <td>NaN</td>\n      <td>NaN</td>\n      <td>NaN</td>\n    </tr>\n    <tr>\n      <th>1</th>\n      <td>54</td>\n      <td>1389</td>\n      <td>1</td>\n      <td>FALSE</td>\n      <td>TRUE</td>\n      <td>TRUE</td>\n      <td>۲ ساعت پیش در تهران، اندیشه | فروش آپارتمان</td>\n      <td>۸۶۸٬۰۰۰٬۰۰۰ تومان</td>\n      <td>NaN</td>\n      <td>NaN</td>\n      <td>NaN</td>\n      <td>NaN</td>\n      <td>NaN</td>\n      <td>NaN</td>\n      <td>NaN</td>\n      <td>NaN</td>\n    </tr>\n    <tr>\n      <th>2</th>\n      <td>69</td>\n      <td>1390</td>\n      <td>2</td>\n      <td>FALSE</td>\n      <td>TRUE</td>\n      <td>TRUE</td>\n      <td>۲ ساعت پیش در تهران، سلسبیل | فروش آپارتمان</td>\n      <td>۲٬۱۰۰٬۰۰۰٬۰۰۰ تومان</td>\n      <td>NaN</td>\n      <td>NaN</td>\n      <td>NaN</td>\n      <td>NaN</td>\n      <td>NaN</td>\n      <td>NaN</td>\n      <td>NaN</td>\n      <td>NaN</td>\n    </tr>\n    <tr>\n      <th>3</th>\n      <td>52</td>\n      <td>1388</td>\n      <td>1</td>\n      <td>TRUE</td>\n      <td>TRUE</td>\n      <td>TRUE</td>\n      <td>۲ ساعت پیش در تهران، باغ فیض | فروش آپارتمان</td>\n      <td>۲٬۸۵۰٬۰۰۰٬۰۰۰ تومان</td>\n      <td>NaN</td>\n      <td>NaN</td>\n      <td>NaN</td>\n      <td>NaN</td>\n      <td>for more information:</td>\n      <td>NaN</td>\n      <td>NaN</td>\n      <td>NaN</td>\n    </tr>\n    <tr>\n      <th>4</th>\n      <td>135</td>\n      <td>1401</td>\n      <td>3</td>\n      <td>TRUE</td>\n      <td>TRUE</td>\n      <td>TRUE</td>\n      <td>۲ ساعت پیش در تهران، نیاوران | فروش آپارتمان</td>\n      <td>۹٬۵۰۰٬۰۰۰٬۰۰۰ تومان</td>\n      <td>NaN</td>\n      <td>NaN</td>\n      <td>NaN</td>\n      <td>NaN</td>\n      <td>telegram: @pyfiance</td>\n      <td>NaN</td>\n      <td>NaN</td>\n      <td>NaN</td>\n    </tr>\n    <tr>\n      <th>...</th>\n      <td>...</td>\n      <td>...</td>\n      <td>...</td>\n      <td>...</td>\n      <td>...</td>\n      <td>...</td>\n      <td>...</td>\n      <td>...</td>\n      <td>...</td>\n      <td>...</td>\n      <td>...</td>\n      <td>...</td>\n      <td>...</td>\n      <td>...</td>\n      <td>...</td>\n      <td>...</td>\n    </tr>\n    <tr>\n      <th>38183</th>\n      <td>50</td>\n      <td>1396</td>\n      <td>1</td>\n      <td>FALSE</td>\n      <td>TRUE</td>\n      <td>TRUE</td>\n      <td>۶ روز پیش در تهران، اندیشه | فروش آپارتمان</td>\n      <td>۷۰۰٬۰۰۰٬۰۰۰ تومان</td>\n      <td>NaN</td>\n      <td>NaN</td>\n      <td>NaN</td>\n      <td>NaN</td>\n      <td>NaN</td>\n      <td>NaN</td>\n      <td>NaN</td>\n      <td>NaN</td>\n    </tr>\n    <tr>\n      <th>38184</th>\n      <td>47</td>\n      <td>1397</td>\n      <td>1</td>\n      <td>TRUE</td>\n      <td>TRUE</td>\n      <td>TRUE</td>\n      <td>۳ ساعت پیش در تهران، اندیشه | فروش آپارتمان</td>\n      <td>۸۰۰٬۰۰۰٬۰۰۰ تومان</td>\n      <td>NaN</td>\n      <td>NaN</td>\n      <td>NaN</td>\n      <td>NaN</td>\n      <td>NaN</td>\n      <td>NaN</td>\n      <td>NaN</td>\n      <td>NaN</td>\n    </tr>\n    <tr>\n      <th>38185</th>\n      <td>190</td>\n      <td>1399</td>\n      <td>3</td>\n      <td>TRUE</td>\n      <td>TRUE</td>\n      <td>TRUE</td>\n      <td>۶ روز پیش در تهران، آجودانیه | فروش آپارتمان</td>\n      <td>توافقی</td>\n      <td>NaN</td>\n      <td>NaN</td>\n      <td>NaN</td>\n      <td>NaN</td>\n      <td>NaN</td>\n      <td>NaN</td>\n      <td>NaN</td>\n      <td>NaN</td>\n    </tr>\n    <tr>\n      <th>38186</th>\n      <td>48</td>\n      <td>1383</td>\n      <td>1</td>\n      <td>FALSE</td>\n      <td>FALSE</td>\n      <td>FALSE</td>\n      <td>۶ روز پیش در تهران، بریانک | فروش آپارتمان</td>\n      <td>۱٬۰۸۰٬۰۰۰٬۰۰۰ تومان</td>\n      <td>NaN</td>\n      <td>NaN</td>\n      <td>NaN</td>\n      <td>NaN</td>\n      <td>NaN</td>\n      <td>NaN</td>\n      <td>NaN</td>\n      <td>NaN</td>\n    </tr>\n    <tr>\n      <th>38187</th>\n      <td>150</td>\n      <td>1401</td>\n      <td>3</td>\n      <td>TRUE</td>\n      <td>TRUE</td>\n      <td>TRUE</td>\n      <td>۶ روز پیش در تهران، سعادت‌آباد | فروش آپارتمان</td>\n      <td>توافقی</td>\n      <td>NaN</td>\n      <td>NaN</td>\n      <td>NaN</td>\n      <td>NaN</td>\n      <td>NaN</td>\n      <td>NaN</td>\n      <td>NaN</td>\n      <td>NaN</td>\n    </tr>\n  </tbody>\n</table>\n<p>38188 rows × 16 columns</p>\n</div>"
     },
     "execution_count": 76,
     "metadata": {},
     "output_type": "execute_result"
    }
   ],
   "source": [
    "house_data"
   ],
   "metadata": {
    "collapsed": false,
    "pycharm": {
     "name": "#%%\n"
    }
   }
  },
  {
   "cell_type": "code",
   "execution_count": 77,
   "outputs": [
    {
     "data": {
      "text/plain": "      Area Construction Room Warehouse Parking Elevator  \\\n0      150         1388    3      TRUE    TRUE     TRUE   \n1       54         1389    1     FALSE    TRUE     TRUE   \n2       69         1390    2     FALSE    TRUE     TRUE   \n3       52         1388    1      TRUE    TRUE     TRUE   \n4      135         1401    3      TRUE    TRUE     TRUE   \n...    ...          ...  ...       ...     ...      ...   \n38183   50         1396    1     FALSE    TRUE     TRUE   \n38184   47         1397    1      TRUE    TRUE     TRUE   \n38185  190         1399    3      TRUE    TRUE     TRUE   \n38186   48         1383    1     FALSE   FALSE    FALSE   \n38187  150         1401    3      TRUE    TRUE     TRUE   \n\n                                              Address                Price  \n0       ۲ ساعت پیش در تهران، مرزداران | فروش آپارتمان  ۸٬۸۰۰٬۰۰۰٬۰۰۰ تومان  \n1         ۲ ساعت پیش در تهران، اندیشه | فروش آپارتمان    ۸۶۸٬۰۰۰٬۰۰۰ تومان  \n2         ۲ ساعت پیش در تهران، سلسبیل | فروش آپارتمان  ۲٬۱۰۰٬۰۰۰٬۰۰۰ تومان  \n3        ۲ ساعت پیش در تهران، باغ فیض | فروش آپارتمان  ۲٬۸۵۰٬۰۰۰٬۰۰۰ تومان  \n4        ۲ ساعت پیش در تهران، نیاوران | فروش آپارتمان  ۹٬۵۰۰٬۰۰۰٬۰۰۰ تومان  \n...                                               ...                  ...  \n38183      ۶ روز پیش در تهران، اندیشه | فروش آپارتمان    ۷۰۰٬۰۰۰٬۰۰۰ تومان  \n38184     ۳ ساعت پیش در تهران، اندیشه | فروش آپارتمان    ۸۰۰٬۰۰۰٬۰۰۰ تومان  \n38185    ۶ روز پیش در تهران، آجودانیه | فروش آپارتمان               توافقی  \n38186      ۶ روز پیش در تهران، بریانک | فروش آپارتمان  ۱٬۰۸۰٬۰۰۰٬۰۰۰ تومان  \n38187  ۶ روز پیش در تهران، سعادت‌آباد | فروش آپارتمان               توافقی  \n\n[38188 rows x 8 columns]",
      "text/html": "<div>\n<style scoped>\n    .dataframe tbody tr th:only-of-type {\n        vertical-align: middle;\n    }\n\n    .dataframe tbody tr th {\n        vertical-align: top;\n    }\n\n    .dataframe thead th {\n        text-align: right;\n    }\n</style>\n<table border=\"1\" class=\"dataframe\">\n  <thead>\n    <tr style=\"text-align: right;\">\n      <th></th>\n      <th>Area</th>\n      <th>Construction</th>\n      <th>Room</th>\n      <th>Warehouse</th>\n      <th>Parking</th>\n      <th>Elevator</th>\n      <th>Address</th>\n      <th>Price</th>\n    </tr>\n  </thead>\n  <tbody>\n    <tr>\n      <th>0</th>\n      <td>150</td>\n      <td>1388</td>\n      <td>3</td>\n      <td>TRUE</td>\n      <td>TRUE</td>\n      <td>TRUE</td>\n      <td>۲ ساعت پیش در تهران، مرزداران | فروش آپارتمان</td>\n      <td>۸٬۸۰۰٬۰۰۰٬۰۰۰ تومان</td>\n    </tr>\n    <tr>\n      <th>1</th>\n      <td>54</td>\n      <td>1389</td>\n      <td>1</td>\n      <td>FALSE</td>\n      <td>TRUE</td>\n      <td>TRUE</td>\n      <td>۲ ساعت پیش در تهران، اندیشه | فروش آپارتمان</td>\n      <td>۸۶۸٬۰۰۰٬۰۰۰ تومان</td>\n    </tr>\n    <tr>\n      <th>2</th>\n      <td>69</td>\n      <td>1390</td>\n      <td>2</td>\n      <td>FALSE</td>\n      <td>TRUE</td>\n      <td>TRUE</td>\n      <td>۲ ساعت پیش در تهران، سلسبیل | فروش آپارتمان</td>\n      <td>۲٬۱۰۰٬۰۰۰٬۰۰۰ تومان</td>\n    </tr>\n    <tr>\n      <th>3</th>\n      <td>52</td>\n      <td>1388</td>\n      <td>1</td>\n      <td>TRUE</td>\n      <td>TRUE</td>\n      <td>TRUE</td>\n      <td>۲ ساعت پیش در تهران، باغ فیض | فروش آپارتمان</td>\n      <td>۲٬۸۵۰٬۰۰۰٬۰۰۰ تومان</td>\n    </tr>\n    <tr>\n      <th>4</th>\n      <td>135</td>\n      <td>1401</td>\n      <td>3</td>\n      <td>TRUE</td>\n      <td>TRUE</td>\n      <td>TRUE</td>\n      <td>۲ ساعت پیش در تهران، نیاوران | فروش آپارتمان</td>\n      <td>۹٬۵۰۰٬۰۰۰٬۰۰۰ تومان</td>\n    </tr>\n    <tr>\n      <th>...</th>\n      <td>...</td>\n      <td>...</td>\n      <td>...</td>\n      <td>...</td>\n      <td>...</td>\n      <td>...</td>\n      <td>...</td>\n      <td>...</td>\n    </tr>\n    <tr>\n      <th>38183</th>\n      <td>50</td>\n      <td>1396</td>\n      <td>1</td>\n      <td>FALSE</td>\n      <td>TRUE</td>\n      <td>TRUE</td>\n      <td>۶ روز پیش در تهران، اندیشه | فروش آپارتمان</td>\n      <td>۷۰۰٬۰۰۰٬۰۰۰ تومان</td>\n    </tr>\n    <tr>\n      <th>38184</th>\n      <td>47</td>\n      <td>1397</td>\n      <td>1</td>\n      <td>TRUE</td>\n      <td>TRUE</td>\n      <td>TRUE</td>\n      <td>۳ ساعت پیش در تهران، اندیشه | فروش آپارتمان</td>\n      <td>۸۰۰٬۰۰۰٬۰۰۰ تومان</td>\n    </tr>\n    <tr>\n      <th>38185</th>\n      <td>190</td>\n      <td>1399</td>\n      <td>3</td>\n      <td>TRUE</td>\n      <td>TRUE</td>\n      <td>TRUE</td>\n      <td>۶ روز پیش در تهران، آجودانیه | فروش آپارتمان</td>\n      <td>توافقی</td>\n    </tr>\n    <tr>\n      <th>38186</th>\n      <td>48</td>\n      <td>1383</td>\n      <td>1</td>\n      <td>FALSE</td>\n      <td>FALSE</td>\n      <td>FALSE</td>\n      <td>۶ روز پیش در تهران، بریانک | فروش آپارتمان</td>\n      <td>۱٬۰۸۰٬۰۰۰٬۰۰۰ تومان</td>\n    </tr>\n    <tr>\n      <th>38187</th>\n      <td>150</td>\n      <td>1401</td>\n      <td>3</td>\n      <td>TRUE</td>\n      <td>TRUE</td>\n      <td>TRUE</td>\n      <td>۶ روز پیش در تهران، سعادت‌آباد | فروش آپارتمان</td>\n      <td>توافقی</td>\n    </tr>\n  </tbody>\n</table>\n<p>38188 rows × 8 columns</p>\n</div>"
     },
     "execution_count": 77,
     "metadata": {},
     "output_type": "execute_result"
    }
   ],
   "source": [
    "house_data.drop(['Unnamed: 9', 'Unnamed: 8', 'Unnamed: 15', 'Unnamed: 14', 'Unnamed: 13', 'Unnamed: 13', 'Unnamed: 12',\n",
    "                 'Unnamed: 11', 'Unnamed: 10'], axis=1, inplace=True)\n",
    "house_data"
   ],
   "metadata": {
    "collapsed": false,
    "pycharm": {
     "name": "#%%\n"
    }
   }
  },
  {
   "cell_type": "code",
   "execution_count": 78,
   "outputs": [
    {
     "data": {
      "text/plain": "      Area Construction Room Warehouse Parking Elevator  \\\n0      150         1388    3         0       0        0   \n1       54         1389    1         1       1        1   \n2       69         1390    2         0       0        0   \n3       52         1388    1         0       0        0   \n4      135         1401    3         0       0        0   \n...    ...          ...  ...       ...     ...      ...   \n38183   50         1396    1         0       0        0   \n38184   47         1397    1         0       0        0   \n38185  190         1399    3         0       0        0   \n38186   48         1383    1         0       0        0   \n38187  150         1401    3         0       0        0   \n\n                                              Address                Price  \n0       ۲ ساعت پیش در تهران، مرزداران | فروش آپارتمان  ۸٬۸۰۰٬۰۰۰٬۰۰۰ تومان  \n1         ۲ ساعت پیش در تهران، اندیشه | فروش آپارتمان    ۸۶۸٬۰۰۰٬۰۰۰ تومان  \n2         ۲ ساعت پیش در تهران، سلسبیل | فروش آپارتمان  ۲٬۱۰۰٬۰۰۰٬۰۰۰ تومان  \n3        ۲ ساعت پیش در تهران، باغ فیض | فروش آپارتمان  ۲٬۸۵۰٬۰۰۰٬۰۰۰ تومان  \n4        ۲ ساعت پیش در تهران، نیاوران | فروش آپارتمان  ۹٬۵۰۰٬۰۰۰٬۰۰۰ تومان  \n...                                               ...                  ...  \n38183      ۶ روز پیش در تهران، اندیشه | فروش آپارتمان    ۷۰۰٬۰۰۰٬۰۰۰ تومان  \n38184     ۳ ساعت پیش در تهران، اندیشه | فروش آپارتمان    ۸۰۰٬۰۰۰٬۰۰۰ تومان  \n38185    ۶ روز پیش در تهران، آجودانیه | فروش آپارتمان               توافقی  \n38186      ۶ روز پیش در تهران، بریانک | فروش آپارتمان  ۱٬۰۸۰٬۰۰۰٬۰۰۰ تومان  \n38187  ۶ روز پیش در تهران، سعادت‌آباد | فروش آپارتمان               توافقی  \n\n[38188 rows x 8 columns]",
      "text/html": "<div>\n<style scoped>\n    .dataframe tbody tr th:only-of-type {\n        vertical-align: middle;\n    }\n\n    .dataframe tbody tr th {\n        vertical-align: top;\n    }\n\n    .dataframe thead th {\n        text-align: right;\n    }\n</style>\n<table border=\"1\" class=\"dataframe\">\n  <thead>\n    <tr style=\"text-align: right;\">\n      <th></th>\n      <th>Area</th>\n      <th>Construction</th>\n      <th>Room</th>\n      <th>Warehouse</th>\n      <th>Parking</th>\n      <th>Elevator</th>\n      <th>Address</th>\n      <th>Price</th>\n    </tr>\n  </thead>\n  <tbody>\n    <tr>\n      <th>0</th>\n      <td>150</td>\n      <td>1388</td>\n      <td>3</td>\n      <td>0</td>\n      <td>0</td>\n      <td>0</td>\n      <td>۲ ساعت پیش در تهران، مرزداران | فروش آپارتمان</td>\n      <td>۸٬۸۰۰٬۰۰۰٬۰۰۰ تومان</td>\n    </tr>\n    <tr>\n      <th>1</th>\n      <td>54</td>\n      <td>1389</td>\n      <td>1</td>\n      <td>1</td>\n      <td>1</td>\n      <td>1</td>\n      <td>۲ ساعت پیش در تهران، اندیشه | فروش آپارتمان</td>\n      <td>۸۶۸٬۰۰۰٬۰۰۰ تومان</td>\n    </tr>\n    <tr>\n      <th>2</th>\n      <td>69</td>\n      <td>1390</td>\n      <td>2</td>\n      <td>0</td>\n      <td>0</td>\n      <td>0</td>\n      <td>۲ ساعت پیش در تهران، سلسبیل | فروش آپارتمان</td>\n      <td>۲٬۱۰۰٬۰۰۰٬۰۰۰ تومان</td>\n    </tr>\n    <tr>\n      <th>3</th>\n      <td>52</td>\n      <td>1388</td>\n      <td>1</td>\n      <td>0</td>\n      <td>0</td>\n      <td>0</td>\n      <td>۲ ساعت پیش در تهران، باغ فیض | فروش آپارتمان</td>\n      <td>۲٬۸۵۰٬۰۰۰٬۰۰۰ تومان</td>\n    </tr>\n    <tr>\n      <th>4</th>\n      <td>135</td>\n      <td>1401</td>\n      <td>3</td>\n      <td>0</td>\n      <td>0</td>\n      <td>0</td>\n      <td>۲ ساعت پیش در تهران، نیاوران | فروش آپارتمان</td>\n      <td>۹٬۵۰۰٬۰۰۰٬۰۰۰ تومان</td>\n    </tr>\n    <tr>\n      <th>...</th>\n      <td>...</td>\n      <td>...</td>\n      <td>...</td>\n      <td>...</td>\n      <td>...</td>\n      <td>...</td>\n      <td>...</td>\n      <td>...</td>\n    </tr>\n    <tr>\n      <th>38183</th>\n      <td>50</td>\n      <td>1396</td>\n      <td>1</td>\n      <td>0</td>\n      <td>0</td>\n      <td>0</td>\n      <td>۶ روز پیش در تهران، اندیشه | فروش آپارتمان</td>\n      <td>۷۰۰٬۰۰۰٬۰۰۰ تومان</td>\n    </tr>\n    <tr>\n      <th>38184</th>\n      <td>47</td>\n      <td>1397</td>\n      <td>1</td>\n      <td>0</td>\n      <td>0</td>\n      <td>0</td>\n      <td>۳ ساعت پیش در تهران، اندیشه | فروش آپارتمان</td>\n      <td>۸۰۰٬۰۰۰٬۰۰۰ تومان</td>\n    </tr>\n    <tr>\n      <th>38185</th>\n      <td>190</td>\n      <td>1399</td>\n      <td>3</td>\n      <td>0</td>\n      <td>0</td>\n      <td>0</td>\n      <td>۶ روز پیش در تهران، آجودانیه | فروش آپارتمان</td>\n      <td>توافقی</td>\n    </tr>\n    <tr>\n      <th>38186</th>\n      <td>48</td>\n      <td>1383</td>\n      <td>1</td>\n      <td>0</td>\n      <td>0</td>\n      <td>0</td>\n      <td>۶ روز پیش در تهران، بریانک | فروش آپارتمان</td>\n      <td>۱٬۰۸۰٬۰۰۰٬۰۰۰ تومان</td>\n    </tr>\n    <tr>\n      <th>38187</th>\n      <td>150</td>\n      <td>1401</td>\n      <td>3</td>\n      <td>0</td>\n      <td>0</td>\n      <td>0</td>\n      <td>۶ روز پیش در تهران، سعادت‌آباد | فروش آپارتمان</td>\n      <td>توافقی</td>\n    </tr>\n  </tbody>\n</table>\n<p>38188 rows × 8 columns</p>\n</div>"
     },
     "execution_count": 78,
     "metadata": {},
     "output_type": "execute_result"
    }
   ],
   "source": [
    "for i in ['Warehouse', 'Parking', 'Elevator']:\n",
    "    for j in range(len(house_data[i])):\n",
    "        if j == True:\n",
    "            house_data[i][j] = 1\n",
    "        else:\n",
    "            house_data[i][j] = 0\n",
    "house_data"
   ],
   "metadata": {
    "collapsed": false,
    "pycharm": {
     "name": "#%%\n"
    }
   }
  },
  {
   "cell_type": "code",
   "execution_count": 79,
   "outputs": [
    {
     "data": {
      "text/plain": "array([['150', '1388', '3', ..., 0,\n        '۲ ساعت پیش در تهران، مرزداران | فروش آپارتمان',\n        '۸٬۸۰۰٬۰۰۰٬۰۰۰ تومان'],\n       ['54', '1389', '1', ..., 1,\n        '۲ ساعت پیش در تهران، اندیشه | فروش آپارتمان',\n        '۸۶۸٬۰۰۰٬۰۰۰ تومان'],\n       ['69', '1390', '2', ..., 0,\n        '۲ ساعت پیش در تهران، سلسبیل | فروش آپارتمان',\n        '۲٬۱۰۰٬۰۰۰٬۰۰۰ تومان'],\n       ...,\n       ['151', '1397', '3', ..., 0,\n        '۱۱ ساعت پیش در تهران، اختیاریه | فروش آپارتمان',\n        '۱۴٬۳۵۰٬۰۰۰٬۰۰۰ تومان'],\n       ['130', '1397', '3', ..., 0,\n        '۱۱ ساعت پیش در تهران، شهرآرا | فروش آپارتمان',\n        '۶٬۲۰۰٬۰۰۰٬۰۰۰ تومان'],\n       ['180', '1401', '3', ..., 0,\n        '۱۱ ساعت پیش در تهران، فرمانیه | فروش آپارتمان',\n        '۳۱٬۰۰۰٬۰۰۰٬۰۰۰ تومان']], dtype=object)"
     },
     "execution_count": 79,
     "metadata": {},
     "output_type": "execute_result"
    }
   ],
   "source": [
    "val = house_data.values\n",
    "val = val[:1000, :]\n",
    "val"
   ],
   "metadata": {
    "collapsed": false,
    "pycharm": {
     "name": "#%%\n"
    }
   }
  },
  {
   "cell_type": "code",
   "execution_count": 80,
   "outputs": [
    {
     "data": {
      "text/plain": "    Area Construction Room Warehouse Parking Elevator                 Price\n0    150         1388    3         0       0        0   ۸٬۸۰۰٬۰۰۰٬۰۰۰ تومان\n1     54         1389    1         1       1        1     ۸۶۸٬۰۰۰٬۰۰۰ تومان\n2     69         1390    2         0       0        0   ۲٬۱۰۰٬۰۰۰٬۰۰۰ تومان\n3     52         1388    1         0       0        0   ۲٬۸۵۰٬۰۰۰٬۰۰۰ تومان\n4    135         1401    3         0       0        0   ۹٬۵۰۰٬۰۰۰٬۰۰۰ تومان\n..   ...          ...  ...       ...     ...      ...                   ...\n995   54         1400    2         0       0        0   ۳٬۱۰۰٬۰۰۰٬۰۰۰ تومان\n996   90         1393    2         0       0        0   ۵٬۲۰۰٬۰۰۰٬۰۰۰ تومان\n997  151         1397    3         0       0        0  ۱۴٬۳۵۰٬۰۰۰٬۰۰۰ تومان\n998  130         1397    3         0       0        0   ۶٬۲۰۰٬۰۰۰٬۰۰۰ تومان\n999  180         1401    3         0       0        0  ۳۱٬۰۰۰٬۰۰۰٬۰۰۰ تومان\n\n[1000 rows x 7 columns]",
      "text/html": "<div>\n<style scoped>\n    .dataframe tbody tr th:only-of-type {\n        vertical-align: middle;\n    }\n\n    .dataframe tbody tr th {\n        vertical-align: top;\n    }\n\n    .dataframe thead th {\n        text-align: right;\n    }\n</style>\n<table border=\"1\" class=\"dataframe\">\n  <thead>\n    <tr style=\"text-align: right;\">\n      <th></th>\n      <th>Area</th>\n      <th>Construction</th>\n      <th>Room</th>\n      <th>Warehouse</th>\n      <th>Parking</th>\n      <th>Elevator</th>\n      <th>Price</th>\n    </tr>\n  </thead>\n  <tbody>\n    <tr>\n      <th>0</th>\n      <td>150</td>\n      <td>1388</td>\n      <td>3</td>\n      <td>0</td>\n      <td>0</td>\n      <td>0</td>\n      <td>۸٬۸۰۰٬۰۰۰٬۰۰۰ تومان</td>\n    </tr>\n    <tr>\n      <th>1</th>\n      <td>54</td>\n      <td>1389</td>\n      <td>1</td>\n      <td>1</td>\n      <td>1</td>\n      <td>1</td>\n      <td>۸۶۸٬۰۰۰٬۰۰۰ تومان</td>\n    </tr>\n    <tr>\n      <th>2</th>\n      <td>69</td>\n      <td>1390</td>\n      <td>2</td>\n      <td>0</td>\n      <td>0</td>\n      <td>0</td>\n      <td>۲٬۱۰۰٬۰۰۰٬۰۰۰ تومان</td>\n    </tr>\n    <tr>\n      <th>3</th>\n      <td>52</td>\n      <td>1388</td>\n      <td>1</td>\n      <td>0</td>\n      <td>0</td>\n      <td>0</td>\n      <td>۲٬۸۵۰٬۰۰۰٬۰۰۰ تومان</td>\n    </tr>\n    <tr>\n      <th>4</th>\n      <td>135</td>\n      <td>1401</td>\n      <td>3</td>\n      <td>0</td>\n      <td>0</td>\n      <td>0</td>\n      <td>۹٬۵۰۰٬۰۰۰٬۰۰۰ تومان</td>\n    </tr>\n    <tr>\n      <th>...</th>\n      <td>...</td>\n      <td>...</td>\n      <td>...</td>\n      <td>...</td>\n      <td>...</td>\n      <td>...</td>\n      <td>...</td>\n    </tr>\n    <tr>\n      <th>995</th>\n      <td>54</td>\n      <td>1400</td>\n      <td>2</td>\n      <td>0</td>\n      <td>0</td>\n      <td>0</td>\n      <td>۳٬۱۰۰٬۰۰۰٬۰۰۰ تومان</td>\n    </tr>\n    <tr>\n      <th>996</th>\n      <td>90</td>\n      <td>1393</td>\n      <td>2</td>\n      <td>0</td>\n      <td>0</td>\n      <td>0</td>\n      <td>۵٬۲۰۰٬۰۰۰٬۰۰۰ تومان</td>\n    </tr>\n    <tr>\n      <th>997</th>\n      <td>151</td>\n      <td>1397</td>\n      <td>3</td>\n      <td>0</td>\n      <td>0</td>\n      <td>0</td>\n      <td>۱۴٬۳۵۰٬۰۰۰٬۰۰۰ تومان</td>\n    </tr>\n    <tr>\n      <th>998</th>\n      <td>130</td>\n      <td>1397</td>\n      <td>3</td>\n      <td>0</td>\n      <td>0</td>\n      <td>0</td>\n      <td>۶٬۲۰۰٬۰۰۰٬۰۰۰ تومان</td>\n    </tr>\n    <tr>\n      <th>999</th>\n      <td>180</td>\n      <td>1401</td>\n      <td>3</td>\n      <td>0</td>\n      <td>0</td>\n      <td>0</td>\n      <td>۳۱٬۰۰۰٬۰۰۰٬۰۰۰ تومان</td>\n    </tr>\n  </tbody>\n</table>\n<p>1000 rows × 7 columns</p>\n</div>"
     },
     "execution_count": 80,
     "metadata": {},
     "output_type": "execute_result"
    }
   ],
   "source": [
    "ind = house_data.index\n",
    "col = house_data.columns\n",
    "house_data2 = pd.DataFrame(val, columns=col)\n",
    "house_data2.drop(['Address'], axis=1, inplace=True)\n",
    "house_data2"
   ],
   "metadata": {
    "collapsed": false,
    "pycharm": {
     "name": "#%%\n"
    }
   }
  },
  {
   "cell_type": "code",
   "execution_count": 81,
   "outputs": [],
   "source": [
    "#house_data2 = house_data[:][:1000]"
   ],
   "metadata": {
    "collapsed": false,
    "pycharm": {
     "name": "#%%\n"
    }
   }
  },
  {
   "cell_type": "code",
   "execution_count": 82,
   "outputs": [],
   "source": [
    "#house_data2"
   ],
   "metadata": {
    "collapsed": false,
    "pycharm": {
     "name": "#%%\n"
    }
   }
  },
  {
   "cell_type": "code",
   "execution_count": 83,
   "outputs": [],
   "source": [
    "def substr(primal_str: str, start_pos: int, length: int):\n",
    "    return primal_str[start_pos:start_pos + length]"
   ],
   "metadata": {
    "collapsed": false,
    "pycharm": {
     "name": "#%%\n"
    }
   }
  },
  {
   "cell_type": "code",
   "execution_count": 84,
   "outputs": [],
   "source": [
    "name = 'bahram papaki kashani'"
   ],
   "metadata": {
    "collapsed": false,
    "pycharm": {
     "name": "#%%\n"
    }
   }
  },
  {
   "cell_type": "code",
   "execution_count": 85,
   "outputs": [
    {
     "data": {
      "text/plain": "'ram'"
     },
     "execution_count": 85,
     "metadata": {},
     "output_type": "execute_result"
    }
   ],
   "source": [
    "substr(name, 3, 3)"
   ],
   "metadata": {
    "collapsed": false,
    "pycharm": {
     "name": "#%%\n"
    }
   }
  },
  {
   "cell_type": "code",
   "execution_count": 86,
   "outputs": [],
   "source": [
    "def remove_substr_from_primalstr(primal_str: str, sub_str: str):\n",
    "    assert len(sub_str) < len(primal_str)\n",
    "    ln_pr = len(primal_str)\n",
    "    ln_sb = len(sub_str)\n",
    "    for i in range(0, (ln_pr - ln_sb) + 1):\n",
    "        #print(substr(primal_str,i,ln_sb))\n",
    "        if substr(primal_str, i, ln_sb) == sub_str:\n",
    "            return primal_str[0:i] + primal_str[i + ln_sb:]\n",
    "    else:\n",
    "        return primal_str\n"
   ],
   "metadata": {
    "collapsed": false,
    "pycharm": {
     "name": "#%%\n"
    }
   }
  },
  {
   "cell_type": "code",
   "execution_count": 87,
   "outputs": [
    {
     "data": {
      "text/plain": "'bahram papaki kash'"
     },
     "execution_count": 87,
     "metadata": {},
     "output_type": "execute_result"
    }
   ],
   "source": [
    "remove_substr_from_primalstr(name, 'ani')"
   ],
   "metadata": {
    "collapsed": false,
    "pycharm": {
     "name": "#%%\n"
    }
   }
  },
  {
   "cell_type": "markdown",
   "source": [],
   "metadata": {
    "collapsed": false
   }
  },
  {
   "cell_type": "code",
   "execution_count": 88,
   "outputs": [
    {
     "data": {
      "text/plain": "'۸٬۸۰۰٬۰۰۰٬۰۰۰'"
     },
     "execution_count": 88,
     "metadata": {},
     "output_type": "execute_result"
    }
   ],
   "source": [
    "remove_substr_from_primalstr(house_data.Price[0], ' تومان')"
   ],
   "metadata": {
    "collapsed": false,
    "pycharm": {
     "name": "#%%\n"
    }
   }
  },
  {
   "cell_type": "code",
   "execution_count": 89,
   "outputs": [
    {
     "data": {
      "text/plain": "'۸۶۸٬۰۰۰٬۰۰۰'"
     },
     "execution_count": 89,
     "metadata": {},
     "output_type": "execute_result"
    }
   ],
   "source": [
    "remove_substr_from_primalstr(house_data.Price[1], ' تومان')"
   ],
   "metadata": {
    "collapsed": false,
    "pycharm": {
     "name": "#%%\n"
    }
   }
  },
  {
   "cell_type": "code",
   "execution_count": 90,
   "outputs": [
    {
     "data": {
      "text/plain": "'توافقی'"
     },
     "execution_count": 90,
     "metadata": {},
     "output_type": "execute_result"
    }
   ],
   "source": [
    "house_data.Price[34]"
   ],
   "metadata": {
    "collapsed": false,
    "pycharm": {
     "name": "#%%\n"
    }
   }
  },
  {
   "cell_type": "code",
   "execution_count": 91,
   "outputs": [
    {
     "data": {
      "text/plain": "Int64Index([   11,    17,    21,    24,    27,    28,    34,    36,    42,\n               51,\n            ...\n            38138, 38141, 38143, 38159, 38161, 38176, 38177, 38182, 38185,\n            38187],\n           dtype='int64', length=8304)"
     },
     "execution_count": 91,
     "metadata": {},
     "output_type": "execute_result"
    }
   ],
   "source": [
    "mask = house_data.Price == 'توافقی'\n",
    "p = house_data.Price[mask]\n",
    "p.index"
   ],
   "metadata": {
    "collapsed": false,
    "pycharm": {
     "name": "#%%\n"
    }
   }
  },
  {
   "cell_type": "code",
   "execution_count": 92,
   "outputs": [],
   "source": [
    "mask = house_data2.Price == 'توافقی'\n",
    "p = house_data2.Price[mask]\n",
    "house_data2.drop(p.index, axis=0, inplace=True)"
   ],
   "metadata": {
    "collapsed": false,
    "pycharm": {
     "name": "#%%\n"
    }
   }
  },
  {
   "cell_type": "code",
   "execution_count": 93,
   "outputs": [
    {
     "data": {
      "text/plain": "    Area Construction Room Warehouse Parking Elevator                 Price\n0    150         1388    3         0       0        0   ۸٬۸۰۰٬۰۰۰٬۰۰۰ تومان\n1     54         1389    1         1       1        1     ۸۶۸٬۰۰۰٬۰۰۰ تومان\n2     69         1390    2         0       0        0   ۲٬۱۰۰٬۰۰۰٬۰۰۰ تومان\n3     52         1388    1         0       0        0   ۲٬۸۵۰٬۰۰۰٬۰۰۰ تومان\n4    135         1401    3         0       0        0   ۹٬۵۰۰٬۰۰۰٬۰۰۰ تومان\n..   ...          ...  ...       ...     ...      ...                   ...\n995   54         1400    2         0       0        0   ۳٬۱۰۰٬۰۰۰٬۰۰۰ تومان\n996   90         1393    2         0       0        0   ۵٬۲۰۰٬۰۰۰٬۰۰۰ تومان\n997  151         1397    3         0       0        0  ۱۴٬۳۵۰٬۰۰۰٬۰۰۰ تومان\n998  130         1397    3         0       0        0   ۶٬۲۰۰٬۰۰۰٬۰۰۰ تومان\n999  180         1401    3         0       0        0  ۳۱٬۰۰۰٬۰۰۰٬۰۰۰ تومان\n\n[805 rows x 7 columns]",
      "text/html": "<div>\n<style scoped>\n    .dataframe tbody tr th:only-of-type {\n        vertical-align: middle;\n    }\n\n    .dataframe tbody tr th {\n        vertical-align: top;\n    }\n\n    .dataframe thead th {\n        text-align: right;\n    }\n</style>\n<table border=\"1\" class=\"dataframe\">\n  <thead>\n    <tr style=\"text-align: right;\">\n      <th></th>\n      <th>Area</th>\n      <th>Construction</th>\n      <th>Room</th>\n      <th>Warehouse</th>\n      <th>Parking</th>\n      <th>Elevator</th>\n      <th>Price</th>\n    </tr>\n  </thead>\n  <tbody>\n    <tr>\n      <th>0</th>\n      <td>150</td>\n      <td>1388</td>\n      <td>3</td>\n      <td>0</td>\n      <td>0</td>\n      <td>0</td>\n      <td>۸٬۸۰۰٬۰۰۰٬۰۰۰ تومان</td>\n    </tr>\n    <tr>\n      <th>1</th>\n      <td>54</td>\n      <td>1389</td>\n      <td>1</td>\n      <td>1</td>\n      <td>1</td>\n      <td>1</td>\n      <td>۸۶۸٬۰۰۰٬۰۰۰ تومان</td>\n    </tr>\n    <tr>\n      <th>2</th>\n      <td>69</td>\n      <td>1390</td>\n      <td>2</td>\n      <td>0</td>\n      <td>0</td>\n      <td>0</td>\n      <td>۲٬۱۰۰٬۰۰۰٬۰۰۰ تومان</td>\n    </tr>\n    <tr>\n      <th>3</th>\n      <td>52</td>\n      <td>1388</td>\n      <td>1</td>\n      <td>0</td>\n      <td>0</td>\n      <td>0</td>\n      <td>۲٬۸۵۰٬۰۰۰٬۰۰۰ تومان</td>\n    </tr>\n    <tr>\n      <th>4</th>\n      <td>135</td>\n      <td>1401</td>\n      <td>3</td>\n      <td>0</td>\n      <td>0</td>\n      <td>0</td>\n      <td>۹٬۵۰۰٬۰۰۰٬۰۰۰ تومان</td>\n    </tr>\n    <tr>\n      <th>...</th>\n      <td>...</td>\n      <td>...</td>\n      <td>...</td>\n      <td>...</td>\n      <td>...</td>\n      <td>...</td>\n      <td>...</td>\n    </tr>\n    <tr>\n      <th>995</th>\n      <td>54</td>\n      <td>1400</td>\n      <td>2</td>\n      <td>0</td>\n      <td>0</td>\n      <td>0</td>\n      <td>۳٬۱۰۰٬۰۰۰٬۰۰۰ تومان</td>\n    </tr>\n    <tr>\n      <th>996</th>\n      <td>90</td>\n      <td>1393</td>\n      <td>2</td>\n      <td>0</td>\n      <td>0</td>\n      <td>0</td>\n      <td>۵٬۲۰۰٬۰۰۰٬۰۰۰ تومان</td>\n    </tr>\n    <tr>\n      <th>997</th>\n      <td>151</td>\n      <td>1397</td>\n      <td>3</td>\n      <td>0</td>\n      <td>0</td>\n      <td>0</td>\n      <td>۱۴٬۳۵۰٬۰۰۰٬۰۰۰ تومان</td>\n    </tr>\n    <tr>\n      <th>998</th>\n      <td>130</td>\n      <td>1397</td>\n      <td>3</td>\n      <td>0</td>\n      <td>0</td>\n      <td>0</td>\n      <td>۶٬۲۰۰٬۰۰۰٬۰۰۰ تومان</td>\n    </tr>\n    <tr>\n      <th>999</th>\n      <td>180</td>\n      <td>1401</td>\n      <td>3</td>\n      <td>0</td>\n      <td>0</td>\n      <td>0</td>\n      <td>۳۱٬۰۰۰٬۰۰۰٬۰۰۰ تومان</td>\n    </tr>\n  </tbody>\n</table>\n<p>805 rows × 7 columns</p>\n</div>"
     },
     "execution_count": 93,
     "metadata": {},
     "output_type": "execute_result"
    }
   ],
   "source": [
    "house_data2"
   ],
   "metadata": {
    "collapsed": false,
    "pycharm": {
     "name": "#%%\n"
    }
   }
  },
  {
   "cell_type": "code",
   "execution_count": 94,
   "outputs": [
    {
     "data": {
      "text/plain": "str"
     },
     "execution_count": 94,
     "metadata": {},
     "output_type": "execute_result"
    }
   ],
   "source": [
    "type(house_data2.Area[0])"
   ],
   "metadata": {
    "collapsed": false,
    "pycharm": {
     "name": "#%%\n"
    }
   }
  },
  {
   "cell_type": "code",
   "execution_count": 95,
   "outputs": [],
   "source": [
    "def convert_per_to_eng(str_num: str):\n",
    "    str_c = ''\n",
    "    a = {'۱': '1', '۲': '2', '۳': '3', '۴': '4', '۵': '5', '۶': '6', '۷': '7', '۸': '8', '۹': '9', '۰': '0'}\n",
    "    ln_str = len(str_num)\n",
    "    for i in range(ln_str):\n",
    "        if str_num[i] in a.keys():\n",
    "            d = str_num[i]\n",
    "            d = a[d]\n",
    "            str_c += d\n",
    "\n",
    "    return str_c"
   ],
   "metadata": {
    "collapsed": false,
    "pycharm": {
     "name": "#%%\n"
    }
   }
  },
  {
   "cell_type": "code",
   "execution_count": 96,
   "outputs": [
    {
     "data": {
      "text/plain": "'8800000000'"
     },
     "execution_count": 96,
     "metadata": {},
     "output_type": "execute_result"
    }
   ],
   "source": [
    "convert_per_to_eng(house_data2.Price[0])"
   ],
   "metadata": {
    "collapsed": false,
    "pycharm": {
     "name": "#%%\n"
    }
   }
  },
  {
   "cell_type": "code",
   "execution_count": 97,
   "outputs": [],
   "source": [
    "for i in house_data2.index:\n",
    "    s_n = house_data2.Price[i]\n",
    "    #s_n=remove_substr_from_primalstr(s_n,' تومان')\n",
    "    if type(s_n) is str:\n",
    "        s_n = convert_per_to_eng(s_n)\n",
    "        if s_n.isdecimal():\n",
    "            s_n = int(s_n)\n",
    "            house_data2.Price[i] = s_n\n"
   ],
   "metadata": {
    "collapsed": false,
    "pycharm": {
     "name": "#%%\n"
    }
   }
  },
  {
   "cell_type": "code",
   "execution_count": 98,
   "outputs": [
    {
     "data": {
      "text/plain": "0       8800000000\n1        868000000\n2       2100000000\n3       2850000000\n4       9500000000\n          ...     \n995     3100000000\n996     5200000000\n997    14350000000\n998     6200000000\n999    31000000000\nName: Price, Length: 805, dtype: object"
     },
     "execution_count": 98,
     "metadata": {},
     "output_type": "execute_result"
    }
   ],
   "source": [
    "house_data2.Price"
   ],
   "metadata": {
    "collapsed": false,
    "pycharm": {
     "name": "#%%\n"
    }
   }
  },
  {
   "cell_type": "code",
   "execution_count": 99,
   "outputs": [
    {
     "data": {
      "text/plain": "str"
     },
     "execution_count": 99,
     "metadata": {},
     "output_type": "execute_result"
    }
   ],
   "source": [
    "type(house_data2.Room[0])"
   ],
   "metadata": {
    "collapsed": false,
    "pycharm": {
     "name": "#%%\n"
    }
   }
  },
  {
   "cell_type": "code",
   "execution_count": 100,
   "outputs": [],
   "source": [
    "for i in house_data2.index:\n",
    "    s = house_data2.Area[i]\n",
    "    if s.isdecimal():\n",
    "        house_data2.Area[i] = int(house_data2.Area[i])"
   ],
   "metadata": {
    "collapsed": false,
    "pycharm": {
     "name": "#%%\n"
    }
   }
  },
  {
   "cell_type": "code",
   "execution_count": 101,
   "outputs": [],
   "source": [
    "for i in house_data2.index:\n",
    "    s = house_data2.Construction[i]\n",
    "    if s.isdecimal():\n",
    "        house_data2.Construction[i] = int(house_data2.Construction[i])"
   ],
   "metadata": {
    "collapsed": false,
    "pycharm": {
     "name": "#%%\n"
    }
   }
  },
  {
   "cell_type": "code",
   "execution_count": 102,
   "outputs": [],
   "source": [
    "for i in house_data2.index:\n",
    "    s = house_data2.Room[i]\n",
    "    if s.isdecimal():\n",
    "        house_data2.Room[i] = int(house_data2.Room[i])"
   ],
   "metadata": {
    "collapsed": false,
    "pycharm": {
     "name": "#%%\n"
    }
   }
  },
  {
   "cell_type": "code",
   "execution_count": 103,
   "outputs": [],
   "source": [
    "mask = house_data2.Area == 'ali raoofi'\n",
    "p2 = house_data2.Area[mask].index\n",
    "\n",
    "mask = house_data2.Area == 'Area'\n",
    "p3 = house_data2.Area[mask].index\n",
    "\n",
    "mask = house_data2.Area == '@pyfinance'\n",
    "p4 = house_data2.Area[mask].index\n",
    "\n",
    "l_remove = list(p2) + list(p3) + list(p4)\n",
    "l_remove = set(l_remove)\n",
    "l_remove = list(l_remove)"
   ],
   "metadata": {
    "collapsed": false,
    "pycharm": {
     "name": "#%%\n"
    }
   }
  },
  {
   "cell_type": "code",
   "execution_count": 104,
   "outputs": [],
   "source": [
    "house_data2.drop(l_remove, axis=0, inplace=True)"
   ],
   "metadata": {
    "collapsed": false,
    "pycharm": {
     "name": "#%%\n"
    }
   }
  },
  {
   "cell_type": "code",
   "execution_count": 105,
   "outputs": [],
   "source": [
    "for i in house_data.index:\n",
    "    #print(i)\n",
    "    #a= ' | فروش آپارتمان'\n",
    "    #b='پیش در تهران'\n",
    "    if len(house_data.Address[i]) > len(' | فروش آپارتمان'):\n",
    "        s1 = house_data.Address[i]\n",
    "        #print(s1)\n",
    "        s1 = remove_substr_from_primalstr(s1, ' | فروش آپارتمان')\n",
    "        s1 = remove_substr_from_primalstr(s1, 'پیش در تهران')\n",
    "        if 'ساعت' in s1:\n",
    "            s1 = remove_substr_from_primalstr(s1, 'ساعت')\n",
    "        elif 'روز' in s1:\n",
    "            s1 = remove_substr_from_primalstr(s1, 'روز')\n",
    "        for j in range(31):\n",
    "            a = convert_per_to_eng(s1[0:2])\n",
    "            if a.isdecimal():\n",
    "                a = int(a)\n",
    "                if a == j:\n",
    "                    s1 = remove_substr_from_primalstr(s1, s1[0:2])\n",
    "        s1 = remove_substr_from_primalstr(s1, '،')\n",
    "        #s1 = s1.replace(' ', '')\n",
    "        house_data.Address[i] = s1.strip()\n",
    "\n"
   ],
   "metadata": {
    "collapsed": false,
    "pycharm": {
     "name": "#%%\n"
    }
   }
  },
  {
   "cell_type": "code",
   "execution_count": 144,
   "outputs": [],
   "source": [
    "mask = house_data.Address == 'ali raoofi'\n",
    "l1 = house_data.Address[mask].index\n",
    "house_data.drop(l1, axis=0, inplace=True)"
   ],
   "metadata": {
    "collapsed": false,
    "pycharm": {
     "name": "#%%\n"
    }
   }
  },
  {
   "cell_type": "code",
   "execution_count": 145,
   "outputs": [
    {
     "data": {
      "text/plain": "array([[150, 1388, 3, 0, 0, 0],\n       [54, 1389, 1, 1, 1, 1],\n       [69, 1390, 2, 0, 0, 0],\n       ...,\n       [151, 1397, 3, 0, 0, 0],\n       [130, 1397, 3, 0, 0, 0],\n       [180, 1401, 3, 0, 0, 0]], dtype=object)"
     },
     "execution_count": 145,
     "metadata": {},
     "output_type": "execute_result"
    }
   ],
   "source": [
    "x = house_data2.drop(['Price'], axis=1)\n",
    "x = x.values\n",
    "x"
   ],
   "metadata": {
    "collapsed": false,
    "pycharm": {
     "name": "#%%\n"
    }
   }
  },
  {
   "cell_type": "code",
   "execution_count": 146,
   "outputs": [
    {
     "data": {
      "text/plain": "array([8800000000, 868000000, 2100000000, 2850000000, 9500000000,\n       15760000000, 11000000000, 4590000000, 10500000000, 4500000000,\n       20500000000, 23000000000, 3800000000, 3600000000, 1700000000,\n       910000000, 1495000000, 23800000000, 3600000000, 7050000000,\n       8400000000, 7100000000, 6100000000, 4000000000, 2200000000,\n       2720000000, 5100000000, 1150000000, 990000000, 910000000,\n       8750000000, 12000000000, 3990000000, 11000000000, 1460000000,\n       1780000000, 5350000000, 26000000000, 2820000000, 570000000,\n       7000000000, 10600000000, 1020000000, 10500000000, 1340000000,\n       1250000000, 72000000000, 4300000000, 40800000000, 6650000000,\n       13700000000, 44800000000, 45000000000, 24000000000, 9580000000,\n       490000000, 36150000000, 7000000000, 12900000000, 1680000000,\n       5400000000, 6700000000, 4330000000, 10850000000, 7550000000,\n       14400000000, 5100000000, 6800000000, 1200000000, 32000000000,\n       5300000000, 32000000000, 11500000000, 100000000000, 9000000000,\n       5850000000, 4700000000, 16950000000, 2900000000, 1800000000,\n       1500000000, 8942000000, 7100000000, 4850000000, 5350000000,\n       1685000000, 800000000, 2630000000, 1230000000, 2620000000,\n       10700000000, 4200000000, 10500000000, 8800000000, 2100000000,\n       9500000000, 2850000000, 4500000000, 11000000000, 868000000,\n       10500000000, 4590000000, 20500000000, 15760000000, 3600000000,\n       7050000000, 910000000, 23000000000, 7100000000, 23800000000,\n       6100000000, 1700000000, 1495000000, 1150000000, 3600000000,\n       3800000000, 2720000000, 4000000000, 5350000000, 8400000000,\n       990000000, 8750000000, 11000000000, 12000000000, 1460000000,\n       2200000000, 5100000000, 910000000, 7000000000, 4300000000,\n       3990000000, 570000000, 1250000000, 1780000000, 2820000000,\n       1020000000, 24000000000, 44800000000, 45000000000, 26000000000,\n       1340000000, 10600000000, 10500000000, 13700000000, 40800000000,\n       72000000000, 490000000, 9580000000, 7000000000, 6650000000,\n       5400000000, 14400000000, 10850000000, 4330000000, 1680000000,\n       6700000000, 5300000000, 6800000000, 7550000000, 12900000000,\n       36150000000, 100000000000, 1200000000, 5100000000, 7400000000,\n       16950000000, 1685000000, 32000000000, 11500000000, 32000000000,\n       1500000000, 9000000000, 4850000000, 4700000000, 5350000000,\n       1800000000, 5850000000, 2900000000, 1230000000, 10700000000,\n       7100000000, 4200000000, 800000000, 2630000000, 8942000000,\n       2620000000, 10500000000, 3780000000, 4500000000, 3800000000,\n       2600000000, 5800000000, 9000000000, 7500000000, 1850000000,\n       2200000000, 13000000000, 3140000000, 1220000000, 13350000000,\n       3400000000, 7100000000, 2990000000, 3700000000, 1275000000,\n       1050000000, 3930000000, 880000000, 3900000000, 1780000000,\n       11000000000, 1795000000, 12500000000, 1570000000, 8500000000,\n       915000000, 3220000000, 1050000000, 1250000000, 2980000000,\n       1580000000, 4248000000, 7500000000, 1650000000, 4900000000,\n       10800000000, 787000000, 5000000000, 5100000000, 4680000000,\n       18750000000, 4990000000, 5900000000, 6200000000, 19000000000,\n       3700000000, 4500000000, 6400000000, 1150000000, 6800000000,\n       630000000, 7000000000, 2300000000, 2450000000, 11000000000,\n       5450000000, 6100000000, 9750000000, 1250000000, 806000000,\n       14000000000, 5400000000, 4000000000, 6400000000, 7900000000,\n       3600000000, 3050000000, 5180000000, 9200000000, 2700000000,\n       7020000000, 1150000000, 8400000000, 4900000000, 4480000000,\n       6500000000, 6900000000, 1400000000, 6650000000, 1000000000,\n       9180000000, 5300000000, 42500000000, 3650000000, 5670000000,\n       2880000000, 3120000000, 1300000000, 5780000000, 5720000000,\n       6750000000, 3200000000, 4400000000, 25000000000, 6600000000,\n       1460000000, 1920000000, 1380000000, 1330000000, 1090000000,\n       1850000000, 18000000000, 2180000000, 1150000000, 13300000000,\n       1450000000, 7900000000, 1000000000, 6600000000, 1365000000,\n       8200000000, 1700000000, 870000000, 1290000000, 4180000000,\n       2230000000, 3150000000, 4700000000, 10500000000, 2930000000,\n       2700000000, 4200000000, 8509000000, 6000000000, 7300000000,\n       6600000000, 6500000000, 4050000000, 5000000000, 6700000000,\n       2500000000, 7200000000, 1518000000, 21000000000, 5300000000,\n       920000000, 5100000000, 6450000000, 45050000000, 980000000,\n       34000000000, 6250000000, 1880000000, 25000000000, 6000000000,\n       9000000000, 7050000000, 9072000000, 1600000000, 6500000000,\n       4650000000, 19000000000, 1470000000, 5750000000, 990000000,\n       6800000000, 1235000000, 970000000, 8000000000, 14385000000,\n       27950000000, 4400000000, 3500000000, 8040000000, 9420000000,\n       1550000000, 11250000000, 5349000000, 1800000000, 1730000000,\n       870000000, 4900000000, 160000000000, 50000000000, 280000000000,\n       120000000000, 140000000000, 58000000000, 4900000000, 58000000000,\n       3400000000, 5200000000, 11000000000, 17000000000, 4900000000,\n       4080000000, 5200000000, 1920000000, 1280000000, 11000000000,\n       3400000000, 7500000000, 15730000000, 2680000000, 17000000000,\n       27600000000, 15000000000, 1950000000, 3750000000, 4300000000,\n       4850000000, 1070000000, 2880000000, 1300000000, 340000000,\n       6400000000, 1100000000, 3000000000, 5500000000, 4900000000,\n       11000000000, 1280000000, 1920000000, 4080000000, 5200000000,\n       2680000000, 3400000000, 17000000000, 7500000000, 15730000000,\n       27600000000, 1070000000, 3750000000, 15000000000, 4300000000,\n       1950000000, 4850000000, 5400000000, 6400000000, 2290000000,\n       1100000000, 2880000000, 1300000000, 340000000, 420000000,\n       5500000000, 3100000000, 7600000000, 5350000000, 1040000000,\n       3000000000, 2750000000, 5950000000, 21800000000, 350000000,\n       2800000000, 6350000000, 12900000000, 12500000000, 40000000000,\n       12400000000, 3990000000, 1380000000, 5150000000, 5400000000,\n       6700000000, 9720000000, 10680000000, 1340000000, 2800000000,\n       1300000000, 12100000000, 4000000000, 1300000000, 7000000000,\n       10000000000, 12200000000, 2130000000, 2799000000, 1880000000,\n       7500000000, 2900000000, 2500000000, 5200000000, 18700000000,\n       9200000000, 6190000000, 3100000000, 5590000000, 3050000000,\n       1440000000, 1100000000, 24700000000, 7800000000, 1450000000,\n       3100000000, 4950000000, 1500000000, 3200000000, 7410000000,\n       10800000000, 3100000000, 1325000000, 3250000000, 1370000000,\n       6190000000, 3480000000, 1290000000, 18975000000, 1890000000,\n       5600000000, 1400000000, 2000000000, 8300000000, 8000000000,\n       1100000000, 32000000000, 5900000000, 1385000000, 850000000,\n       720000000, 910000000, 7700000000, 3900000000, 4400000000,\n       1700000000, 6150000000, 21500000000, 2150000000, 8100000000,\n       4400000000, 3680000000, 4700000000, 2520000000, 5120000000,\n       3980000000, 1750000000, 1700000000, 6300000000, 3000000000,\n       5800000000, 5200000000, 8990000000, 2400000000, 1620000000,\n       1015000000, 1239000000, 3100000000, 1490000000, 3800000000,\n       6500000000, 9500000000, 8900000000, 7350000000, 3100000000,\n       2850000000, 19700000000, 9000000000, 6400000000, 2400000000,\n       670000000, 17850000000, 2950000000, 39500000000, 6150000000,\n       1150000000, 3340925000, 7600000000, 19285000000, 840000000,\n       6630000000, 10000000000, 10500000000, 8800000000, 4500000000,\n       7300000000, 7600000000, 1780000000, 1325000000, 46000000000,\n       1700000000, 1348000000, 33000000000, 6900000000, 52000000000,\n       45000000000, 1650000000, 21500000000, 22000000000, 2680000000,\n       2000000000, 8500000000, 9000000000, 1490000000, 3100000000,\n       2750000000, 2600000000, 11000000000, 4200000000, 1800000000,\n       8580000000, 5400000000, 4800000000, 2440000000, 6350000000,\n       5500000000, 28000000000, 1780000000, 1600000000, 4200000000,\n       5000000000, 4380000000, 7000000000, 1400000000, 2830000000,\n       3230000000, 1700000000, 66000000000, 3500000000, 9480000000,\n       4224000000, 7250000000, 8500000000, 3500000000, 9500000000,\n       1677000000, 530000000, 4160000000, 2400000000, 1350000000,\n       14500000000, 3060000000, 4600000000, 6140000000, 21300000000,\n       31000000000, 8000000000, 2220000000, 9900000000, 43000000000,\n       37000000000, 5600000000, 12495000000, 14600000000, 9620000000,\n       2200000000, 5400000000, 4750000000, 3850000000, 6350000000,\n       1630000000, 3000000000, 14500000000, 6300000000, 2400000000,\n       2220000000, 3350000000, 1380000000, 5000000000, 3130000000,\n       4160000000, 22000000000, 27700000000, 2950000000, 2600000000,\n       4100000000, 4850000000, 4080000000, 10900000000, 16950000000,\n       1930000000, 6400000000, 3050000000, 9400000000, 1530000000,\n       4500000000, 1700000000, 3100000000, 7000000000, 1550000000,\n       3300000000, 3600000000, 623000000, 2050000000, 1500000000,\n       4700000000, 1400000000, 4150000000, 2740000000, 7400000000,\n       6400000000, 1610000000, 4550000000, 1265000000, 1800000000,\n       1850000000, 5300000000, 7000000000, 1420000000, 4000000000,\n       11500000000, 1900000000, 630000000, 5550000000, 25000000000,\n       7150000000, 5600000000, 810000000, 5250000000, 6200000000,\n       1636800000, 11560000000, 8000000000, 7050000000, 5450000000,\n       4600000000, 3800000000, 3250000000, 3190000000, 3700000000,\n       8000000000, 7700000000, 7370000000, 1660000000, 10950000000,\n       11040000000, 4350000000, 13550000000, 5700000000, 4600000000,\n       18800000000, 7900000000, 7370000000, 13600000000, 46750000000,\n       5400000000, 14500000000, 5600000000, 1280000000, 5625000000,\n       6400000000, 4700000000, 1380000000, 4620000000, 2020000000,\n       22000000000, 2900000000, 4450000000, 6400000000, 2900000000,\n       470000000, 6500000000, 700000000, 8550000000, 4250000000,\n       11650000000, 4180000000, 4300000000, 3200000000, 7750000000,\n       1820000000, 6080000000, 3700000000, 4600000000, 4430000000,\n       7000000000, 5900000000, 13580000000, 9900000000, 13950000000,\n       3850000000, 6490000000, 1920000000, 2002000000, 20000000000,\n       5520000000, 2580000000, 20700000000, 32400000000, 13500000000,\n       158000000000, 35000000000, 9450000000, 1610000000, 11500000000,\n       9750000000, 1152000000, 12000000000, 25000000000, 1790000000,\n       1500000000, 19500000000, 3450000000, 7200000000, 11500000000,\n       6300000000, 9800000000, 16300000000, 8380000000, 1400000000,\n       7200000000, 1803500000, 1545500000, 60000000000, 6000000000,\n       18500000000, 33000000000, 2250000000, 6540000000, 3100000000,\n       5200000000, 14350000000, 6200000000, 31000000000], dtype=object)"
     },
     "execution_count": 146,
     "metadata": {},
     "output_type": "execute_result"
    }
   ],
   "source": [
    "y = house_data2.Price.values\n",
    "y"
   ],
   "metadata": {
    "collapsed": false,
    "pycharm": {
     "name": "#%%\n"
    }
   }
  },
  {
   "cell_type": "code",
   "execution_count": 147,
   "outputs": [],
   "source": [
    "x_train, x_test, y_train, y_test = train_test_split(x, y, train_size=0.7, shuffle=True)\n"
   ],
   "metadata": {
    "collapsed": false,
    "pycharm": {
     "name": "#%%\n"
    }
   }
  },
  {
   "cell_type": "code",
   "execution_count": 148,
   "outputs": [],
   "source": [
    "reg = LinearRegression()"
   ],
   "metadata": {
    "collapsed": false,
    "pycharm": {
     "name": "#%%\n"
    }
   }
  },
  {
   "cell_type": "code",
   "execution_count": 149,
   "outputs": [
    {
     "data": {
      "text/plain": "array([[98, 1400, 2, 0, 0, 0],\n       [82, 1400, 3, 0, 0, 0],\n       [48, 1383, 1, 0, 0, 0],\n       ...,\n       [130, 1400, 3, 0, 0, 0],\n       [90, 1401, 2, 0, 0, 0],\n       [88, 1400, 2, 0, 0, 0]], dtype=object)"
     },
     "execution_count": 149,
     "metadata": {},
     "output_type": "execute_result"
    }
   ],
   "source": [
    "x_train"
   ],
   "metadata": {
    "collapsed": false,
    "pycharm": {
     "name": "#%%\n"
    }
   }
  },
  {
   "cell_type": "code",
   "execution_count": 150,
   "outputs": [
    {
     "data": {
      "text/plain": "LinearRegression()",
      "text/html": "<style>#sk-container-id-7 {color: black;background-color: white;}#sk-container-id-7 pre{padding: 0;}#sk-container-id-7 div.sk-toggleable {background-color: white;}#sk-container-id-7 label.sk-toggleable__label {cursor: pointer;display: block;width: 100%;margin-bottom: 0;padding: 0.3em;box-sizing: border-box;text-align: center;}#sk-container-id-7 label.sk-toggleable__label-arrow:before {content: \"▸\";float: left;margin-right: 0.25em;color: #696969;}#sk-container-id-7 label.sk-toggleable__label-arrow:hover:before {color: black;}#sk-container-id-7 div.sk-estimator:hover label.sk-toggleable__label-arrow:before {color: black;}#sk-container-id-7 div.sk-toggleable__content {max-height: 0;max-width: 0;overflow: hidden;text-align: left;background-color: #f0f8ff;}#sk-container-id-7 div.sk-toggleable__content pre {margin: 0.2em;color: black;border-radius: 0.25em;background-color: #f0f8ff;}#sk-container-id-7 input.sk-toggleable__control:checked~div.sk-toggleable__content {max-height: 200px;max-width: 100%;overflow: auto;}#sk-container-id-7 input.sk-toggleable__control:checked~label.sk-toggleable__label-arrow:before {content: \"▾\";}#sk-container-id-7 div.sk-estimator input.sk-toggleable__control:checked~label.sk-toggleable__label {background-color: #d4ebff;}#sk-container-id-7 div.sk-label input.sk-toggleable__control:checked~label.sk-toggleable__label {background-color: #d4ebff;}#sk-container-id-7 input.sk-hidden--visually {border: 0;clip: rect(1px 1px 1px 1px);clip: rect(1px, 1px, 1px, 1px);height: 1px;margin: -1px;overflow: hidden;padding: 0;position: absolute;width: 1px;}#sk-container-id-7 div.sk-estimator {font-family: monospace;background-color: #f0f8ff;border: 1px dotted black;border-radius: 0.25em;box-sizing: border-box;margin-bottom: 0.5em;}#sk-container-id-7 div.sk-estimator:hover {background-color: #d4ebff;}#sk-container-id-7 div.sk-parallel-item::after {content: \"\";width: 100%;border-bottom: 1px solid gray;flex-grow: 1;}#sk-container-id-7 div.sk-label:hover label.sk-toggleable__label {background-color: #d4ebff;}#sk-container-id-7 div.sk-serial::before {content: \"\";position: absolute;border-left: 1px solid gray;box-sizing: border-box;top: 0;bottom: 0;left: 50%;z-index: 0;}#sk-container-id-7 div.sk-serial {display: flex;flex-direction: column;align-items: center;background-color: white;padding-right: 0.2em;padding-left: 0.2em;position: relative;}#sk-container-id-7 div.sk-item {position: relative;z-index: 1;}#sk-container-id-7 div.sk-parallel {display: flex;align-items: stretch;justify-content: center;background-color: white;position: relative;}#sk-container-id-7 div.sk-item::before, #sk-container-id-7 div.sk-parallel-item::before {content: \"\";position: absolute;border-left: 1px solid gray;box-sizing: border-box;top: 0;bottom: 0;left: 50%;z-index: -1;}#sk-container-id-7 div.sk-parallel-item {display: flex;flex-direction: column;z-index: 1;position: relative;background-color: white;}#sk-container-id-7 div.sk-parallel-item:first-child::after {align-self: flex-end;width: 50%;}#sk-container-id-7 div.sk-parallel-item:last-child::after {align-self: flex-start;width: 50%;}#sk-container-id-7 div.sk-parallel-item:only-child::after {width: 0;}#sk-container-id-7 div.sk-dashed-wrapped {border: 1px dashed gray;margin: 0 0.4em 0.5em 0.4em;box-sizing: border-box;padding-bottom: 0.4em;background-color: white;}#sk-container-id-7 div.sk-label label {font-family: monospace;font-weight: bold;display: inline-block;line-height: 1.2em;}#sk-container-id-7 div.sk-label-container {text-align: center;}#sk-container-id-7 div.sk-container {/* jupyter's `normalize.less` sets `[hidden] { display: none; }` but bootstrap.min.css set `[hidden] { display: none !important; }` so we also need the `!important` here to be able to override the default hidden behavior on the sphinx rendered scikit-learn.org. See: https://github.com/scikit-learn/scikit-learn/issues/21755 */display: inline-block !important;position: relative;}#sk-container-id-7 div.sk-text-repr-fallback {display: none;}</style><div id=\"sk-container-id-7\" class=\"sk-top-container\"><div class=\"sk-text-repr-fallback\"><pre>LinearRegression()</pre><b>In a Jupyter environment, please rerun this cell to show the HTML representation or trust the notebook. <br />On GitHub, the HTML representation is unable to render, please try loading this page with nbviewer.org.</b></div><div class=\"sk-container\" hidden><div class=\"sk-item\"><div class=\"sk-estimator sk-toggleable\"><input class=\"sk-toggleable__control sk-hidden--visually\" id=\"sk-estimator-id-7\" type=\"checkbox\" checked><label for=\"sk-estimator-id-7\" class=\"sk-toggleable__label sk-toggleable__label-arrow\">LinearRegression</label><div class=\"sk-toggleable__content\"><pre>LinearRegression()</pre></div></div></div></div></div>"
     },
     "execution_count": 150,
     "metadata": {},
     "output_type": "execute_result"
    }
   ],
   "source": [
    "reg.fit(x_train, y_train)"
   ],
   "metadata": {
    "collapsed": false,
    "pycharm": {
     "name": "#%%\n"
    }
   }
  },
  {
   "cell_type": "code",
   "execution_count": 151,
   "outputs": [],
   "source": [
    "y_predict = reg.predict(x_test)"
   ],
   "metadata": {
    "collapsed": false,
    "pycharm": {
     "name": "#%%\n"
    }
   }
  },
  {
   "cell_type": "code",
   "execution_count": 152,
   "outputs": [
    {
     "data": {
      "text/plain": "<matplotlib.collections.PathCollection at 0x2930f825c60>"
     },
     "execution_count": 152,
     "metadata": {},
     "output_type": "execute_result"
    },
    {
     "data": {
      "text/plain": "<Figure size 432x288 with 1 Axes>",
      "image/png": "[encoded data removed]"
     },
     "metadata": {
      "needs_background": "light"
     },
     "output_type": "display_data"
    }
   ],
   "source": [
    "plt.scatter(y_test, y_predict)"
   ],
   "metadata": {
    "collapsed": false,
    "pycharm": {
     "name": "#%%\n"
    }
   }
  },
  {
   "cell_type": "code",
   "execution_count": 153,
   "outputs": [
    {
     "data": {
      "text/plain": "0.6137092534879125"
     },
     "execution_count": 153,
     "metadata": {},
     "output_type": "execute_result"
    }
   ],
   "source": [
    "reg.score(x_test, y_test)"
   ],
   "metadata": {
    "collapsed": false,
    "pycharm": {
     "name": "#%%\n"
    }
   }
  },
  {
   "cell_type": "code",
   "execution_count": 154,
   "outputs": [
    {
     "data": {
      "text/plain": "array([[150, 1388, 3, 0, 0, 0],\n       [54, 1389, 1, 1, 1, 1],\n       [69, 1390, 2, 0, 0, 0],\n       ...,\n       [151, 1397, 3, 0, 0, 0],\n       [130, 1397, 3, 0, 0, 0],\n       [180, 1401, 3, 0, 0, 0]], dtype=object)"
     },
     "execution_count": 154,
     "metadata": {},
     "output_type": "execute_result"
    }
   ],
   "source": [
    "x"
   ],
   "metadata": {
    "collapsed": false,
    "pycharm": {
     "name": "#%%\n"
    }
   }
  },
  {
   "cell_type": "code",
   "execution_count": 155,
   "outputs": [
    {
     "data": {
      "text/plain": "array([8800000000, 868000000, 2100000000, 2850000000, 9500000000,\n       15760000000, 11000000000, 4590000000, 10500000000, 4500000000,\n       20500000000, 23000000000, 3800000000, 3600000000, 1700000000,\n       910000000, 1495000000, 23800000000, 3600000000, 7050000000,\n       8400000000, 7100000000, 6100000000, 4000000000, 2200000000,\n       2720000000, 5100000000, 1150000000, 990000000, 910000000,\n       8750000000, 12000000000, 3990000000, 11000000000, 1460000000,\n       1780000000, 5350000000, 26000000000, 2820000000, 570000000,\n       7000000000, 10600000000, 1020000000, 10500000000, 1340000000,\n       1250000000, 72000000000, 4300000000, 40800000000, 6650000000,\n       13700000000, 44800000000, 45000000000, 24000000000, 9580000000,\n       490000000, 36150000000, 7000000000, 12900000000, 1680000000,\n       5400000000, 6700000000, 4330000000, 10850000000, 7550000000,\n       14400000000, 5100000000, 6800000000, 1200000000, 32000000000,\n       5300000000, 32000000000, 11500000000, 100000000000, 9000000000,\n       5850000000, 4700000000, 16950000000, 2900000000, 1800000000,\n       1500000000, 8942000000, 7100000000, 4850000000, 5350000000,\n       1685000000, 800000000, 2630000000, 1230000000, 2620000000,\n       10700000000, 4200000000, 10500000000, 8800000000, 2100000000,\n       9500000000, 2850000000, 4500000000, 11000000000, 868000000,\n       10500000000, 4590000000, 20500000000, 15760000000, 3600000000,\n       7050000000, 910000000, 23000000000, 7100000000, 23800000000,\n       6100000000, 1700000000, 1495000000, 1150000000, 3600000000,\n       3800000000, 2720000000, 4000000000, 5350000000, 8400000000,\n       990000000, 8750000000, 11000000000, 12000000000, 1460000000,\n       2200000000, 5100000000, 910000000, 7000000000, 4300000000,\n       3990000000, 570000000, 1250000000, 1780000000, 2820000000,\n       1020000000, 24000000000, 44800000000, 45000000000, 26000000000,\n       1340000000, 10600000000, 10500000000, 13700000000, 40800000000,\n       72000000000, 490000000, 9580000000, 7000000000, 6650000000,\n       5400000000, 14400000000, 10850000000, 4330000000, 1680000000,\n       6700000000, 5300000000, 6800000000, 7550000000, 12900000000,\n       36150000000, 100000000000, 1200000000, 5100000000, 7400000000,\n       16950000000, 1685000000, 32000000000, 11500000000, 32000000000,\n       1500000000, 9000000000, 4850000000, 4700000000, 5350000000,\n       1800000000, 5850000000, 2900000000, 1230000000, 10700000000,\n       7100000000, 4200000000, 800000000, 2630000000, 8942000000,\n       2620000000, 10500000000, 3780000000, 4500000000, 3800000000,\n       2600000000, 5800000000, 9000000000, 7500000000, 1850000000,\n       2200000000, 13000000000, 3140000000, 1220000000, 13350000000,\n       3400000000, 7100000000, 2990000000, 3700000000, 1275000000,\n       1050000000, 3930000000, 880000000, 3900000000, 1780000000,\n       11000000000, 1795000000, 12500000000, 1570000000, 8500000000,\n       915000000, 3220000000, 1050000000, 1250000000, 2980000000,\n       1580000000, 4248000000, 7500000000, 1650000000, 4900000000,\n       10800000000, 787000000, 5000000000, 5100000000, 4680000000,\n       18750000000, 4990000000, 5900000000, 6200000000, 19000000000,\n       3700000000, 4500000000, 6400000000, 1150000000, 6800000000,\n       630000000, 7000000000, 2300000000, 2450000000, 11000000000,\n       5450000000, 6100000000, 9750000000, 1250000000, 806000000,\n       14000000000, 5400000000, 4000000000, 6400000000, 7900000000,\n       3600000000, 3050000000, 5180000000, 9200000000, 2700000000,\n       7020000000, 1150000000, 8400000000, 4900000000, 4480000000,\n       6500000000, 6900000000, 1400000000, 6650000000, 1000000000,\n       9180000000, 5300000000, 42500000000, 3650000000, 5670000000,\n       2880000000, 3120000000, 1300000000, 5780000000, 5720000000,\n       6750000000, 3200000000, 4400000000, 25000000000, 6600000000,\n       1460000000, 1920000000, 1380000000, 1330000000, 1090000000,\n       1850000000, 18000000000, 2180000000, 1150000000, 13300000000,\n       1450000000, 7900000000, 1000000000, 6600000000, 1365000000,\n       8200000000, 1700000000, 870000000, 1290000000, 4180000000,\n       2230000000, 3150000000, 4700000000, 10500000000, 2930000000,\n       2700000000, 4200000000, 8509000000, 6000000000, 7300000000,\n       6600000000, 6500000000, 4050000000, 5000000000, 6700000000,\n       2500000000, 7200000000, 1518000000, 21000000000, 5300000000,\n       920000000, 5100000000, 6450000000, 45050000000, 980000000,\n       34000000000, 6250000000, 1880000000, 25000000000, 6000000000,\n       9000000000, 7050000000, 9072000000, 1600000000, 6500000000,\n       4650000000, 19000000000, 1470000000, 5750000000, 990000000,\n       6800000000, 1235000000, 970000000, 8000000000, 14385000000,\n       27950000000, 4400000000, 3500000000, 8040000000, 9420000000,\n       1550000000, 11250000000, 5349000000, 1800000000, 1730000000,\n       870000000, 4900000000, 160000000000, 50000000000, 280000000000,\n       120000000000, 140000000000, 58000000000, 4900000000, 58000000000,\n       3400000000, 5200000000, 11000000000, 17000000000, 4900000000,\n       4080000000, 5200000000, 1920000000, 1280000000, 11000000000,\n       3400000000, 7500000000, 15730000000, 2680000000, 17000000000,\n       27600000000, 15000000000, 1950000000, 3750000000, 4300000000,\n       4850000000, 1070000000, 2880000000, 1300000000, 340000000,\n       6400000000, 1100000000, 3000000000, 5500000000, 4900000000,\n       11000000000, 1280000000, 1920000000, 4080000000, 5200000000,\n       2680000000, 3400000000, 17000000000, 7500000000, 15730000000,\n       27600000000, 1070000000, 3750000000, 15000000000, 4300000000,\n       1950000000, 4850000000, 5400000000, 6400000000, 2290000000,\n       1100000000, 2880000000, 1300000000, 340000000, 420000000,\n       5500000000, 3100000000, 7600000000, 5350000000, 1040000000,\n       3000000000, 2750000000, 5950000000, 21800000000, 350000000,\n       2800000000, 6350000000, 12900000000, 12500000000, 40000000000,\n       12400000000, 3990000000, 1380000000, 5150000000, 5400000000,\n       6700000000, 9720000000, 10680000000, 1340000000, 2800000000,\n       1300000000, 12100000000, 4000000000, 1300000000, 7000000000,\n       10000000000, 12200000000, 2130000000, 2799000000, 1880000000,\n       7500000000, 2900000000, 2500000000, 5200000000, 18700000000,\n       9200000000, 6190000000, 3100000000, 5590000000, 3050000000,\n       1440000000, 1100000000, 24700000000, 7800000000, 1450000000,\n       3100000000, 4950000000, 1500000000, 3200000000, 7410000000,\n       10800000000, 3100000000, 1325000000, 3250000000, 1370000000,\n       6190000000, 3480000000, 1290000000, 18975000000, 1890000000,\n       5600000000, 1400000000, 2000000000, 8300000000, 8000000000,\n       1100000000, 32000000000, 5900000000, 1385000000, 850000000,\n       720000000, 910000000, 7700000000, 3900000000, 4400000000,\n       1700000000, 6150000000, 21500000000, 2150000000, 8100000000,\n       4400000000, 3680000000, 4700000000, 2520000000, 5120000000,\n       3980000000, 1750000000, 1700000000, 6300000000, 3000000000,\n       5800000000, 5200000000, 8990000000, 2400000000, 1620000000,\n       1015000000, 1239000000, 3100000000, 1490000000, 3800000000,\n       6500000000, 9500000000, 8900000000, 7350000000, 3100000000,\n       2850000000, 19700000000, 9000000000, 6400000000, 2400000000,\n       670000000, 17850000000, 2950000000, 39500000000, 6150000000,\n       1150000000, 3340925000, 7600000000, 19285000000, 840000000,\n       6630000000, 10000000000, 10500000000, 8800000000, 4500000000,\n       7300000000, 7600000000, 1780000000, 1325000000, 46000000000,\n       1700000000, 1348000000, 33000000000, 6900000000, 52000000000,\n       45000000000, 1650000000, 21500000000, 22000000000, 2680000000,\n       2000000000, 8500000000, 9000000000, 1490000000, 3100000000,\n       2750000000, 2600000000, 11000000000, 4200000000, 1800000000,\n       8580000000, 5400000000, 4800000000, 2440000000, 6350000000,\n       5500000000, 28000000000, 1780000000, 1600000000, 4200000000,\n       5000000000, 4380000000, 7000000000, 1400000000, 2830000000,\n       3230000000, 1700000000, 66000000000, 3500000000, 9480000000,\n       4224000000, 7250000000, 8500000000, 3500000000, 9500000000,\n       1677000000, 530000000, 4160000000, 2400000000, 1350000000,\n       14500000000, 3060000000, 4600000000, 6140000000, 21300000000,\n       31000000000, 8000000000, 2220000000, 9900000000, 43000000000,\n       37000000000, 5600000000, 12495000000, 14600000000, 9620000000,\n       2200000000, 5400000000, 4750000000, 3850000000, 6350000000,\n       1630000000, 3000000000, 14500000000, 6300000000, 2400000000,\n       2220000000, 3350000000, 1380000000, 5000000000, 3130000000,\n       4160000000, 22000000000, 27700000000, 2950000000, 2600000000,\n       4100000000, 4850000000, 4080000000, 10900000000, 16950000000,\n       1930000000, 6400000000, 3050000000, 9400000000, 1530000000,\n       4500000000, 1700000000, 3100000000, 7000000000, 1550000000,\n       3300000000, 3600000000, 623000000, 2050000000, 1500000000,\n       4700000000, 1400000000, 4150000000, 2740000000, 7400000000,\n       6400000000, 1610000000, 4550000000, 1265000000, 1800000000,\n       1850000000, 5300000000, 7000000000, 1420000000, 4000000000,\n       11500000000, 1900000000, 630000000, 5550000000, 25000000000,\n       7150000000, 5600000000, 810000000, 5250000000, 6200000000,\n       1636800000, 11560000000, 8000000000, 7050000000, 5450000000,\n       4600000000, 3800000000, 3250000000, 3190000000, 3700000000,\n       8000000000, 7700000000, 7370000000, 1660000000, 10950000000,\n       11040000000, 4350000000, 13550000000, 5700000000, 4600000000,\n       18800000000, 7900000000, 7370000000, 13600000000, 46750000000,\n       5400000000, 14500000000, 5600000000, 1280000000, 5625000000,\n       6400000000, 4700000000, 1380000000, 4620000000, 2020000000,\n       22000000000, 2900000000, 4450000000, 6400000000, 2900000000,\n       470000000, 6500000000, 700000000, 8550000000, 4250000000,\n       11650000000, 4180000000, 4300000000, 3200000000, 7750000000,\n       1820000000, 6080000000, 3700000000, 4600000000, 4430000000,\n       7000000000, 5900000000, 13580000000, 9900000000, 13950000000,\n       3850000000, 6490000000, 1920000000, 2002000000, 20000000000,\n       5520000000, 2580000000, 20700000000, 32400000000, 13500000000,\n       158000000000, 35000000000, 9450000000, 1610000000, 11500000000,\n       9750000000, 1152000000, 12000000000, 25000000000, 1790000000,\n       1500000000, 19500000000, 3450000000, 7200000000, 11500000000,\n       6300000000, 9800000000, 16300000000, 8380000000, 1400000000,\n       7200000000, 1803500000, 1545500000, 60000000000, 6000000000,\n       18500000000, 33000000000, 2250000000, 6540000000, 3100000000,\n       5200000000, 14350000000, 6200000000, 31000000000], dtype=object)"
     },
     "execution_count": 155,
     "metadata": {},
     "output_type": "execute_result"
    }
   ],
   "source": [
    "y"
   ],
   "metadata": {
    "collapsed": false,
    "pycharm": {
     "name": "#%%\n"
    }
   }
  },
  {
   "cell_type": "code",
   "execution_count": 156,
   "outputs": [
    {
     "data": {
      "text/plain": "    Area Construction Room Warehouse Parking Elevator        Price\n0    150         1388    3         0       0        0   8800000000\n1     54         1389    1         1       1        1    868000000\n2     69         1390    2         0       0        0   2100000000\n3     52         1388    1         0       0        0   2850000000\n4    135         1401    3         0       0        0   9500000000\n..   ...          ...  ...       ...     ...      ...          ...\n995   54         1400    2         0       0        0   3100000000\n996   90         1393    2         0       0        0   5200000000\n997  151         1397    3         0       0        0  14350000000\n998  130         1397    3         0       0        0   6200000000\n999  180         1401    3         0       0        0  31000000000\n\n[794 rows x 7 columns]",
      "text/html": "<div>\n<style scoped>\n    .dataframe tbody tr th:only-of-type {\n        vertical-align: middle;\n    }\n\n    .dataframe tbody tr th {\n        vertical-align: top;\n    }\n\n    .dataframe thead th {\n        text-align: right;\n    }\n</style>\n<table border=\"1\" class=\"dataframe\">\n  <thead>\n    <tr style=\"text-align: right;\">\n      <th></th>\n      <th>Area</th>\n      <th>Construction</th>\n      <th>Room</th>\n      <th>Warehouse</th>\n      <th>Parking</th>\n      <th>Elevator</th>\n      <th>Price</th>\n    </tr>\n  </thead>\n  <tbody>\n    <tr>\n      <th>0</th>\n      <td>150</td>\n      <td>1388</td>\n      <td>3</td>\n      <td>0</td>\n      <td>0</td>\n      <td>0</td>\n      <td>8800000000</td>\n    </tr>\n    <tr>\n      <th>1</th>\n      <td>54</td>\n      <td>1389</td>\n      <td>1</td>\n      <td>1</td>\n      <td>1</td>\n      <td>1</td>\n      <td>868000000</td>\n    </tr>\n    <tr>\n      <th>2</th>\n      <td>69</td>\n      <td>1390</td>\n      <td>2</td>\n      <td>0</td>\n      <td>0</td>\n      <td>0</td>\n      <td>2100000000</td>\n    </tr>\n    <tr>\n      <th>3</th>\n      <td>52</td>\n      <td>1388</td>\n      <td>1</td>\n      <td>0</td>\n      <td>0</td>\n      <td>0</td>\n      <td>2850000000</td>\n    </tr>\n    <tr>\n      <th>4</th>\n      <td>135</td>\n      <td>1401</td>\n      <td>3</td>\n      <td>0</td>\n      <td>0</td>\n      <td>0</td>\n      <td>9500000000</td>\n    </tr>\n    <tr>\n      <th>...</th>\n      <td>...</td>\n      <td>...</td>\n      <td>...</td>\n      <td>...</td>\n      <td>...</td>\n      <td>...</td>\n      <td>...</td>\n    </tr>\n    <tr>\n      <th>995</th>\n      <td>54</td>\n      <td>1400</td>\n      <td>2</td>\n      <td>0</td>\n      <td>0</td>\n      <td>0</td>\n      <td>3100000000</td>\n    </tr>\n    <tr>\n      <th>996</th>\n      <td>90</td>\n      <td>1393</td>\n      <td>2</td>\n      <td>0</td>\n      <td>0</td>\n      <td>0</td>\n      <td>5200000000</td>\n    </tr>\n    <tr>\n      <th>997</th>\n      <td>151</td>\n      <td>1397</td>\n      <td>3</td>\n      <td>0</td>\n      <td>0</td>\n      <td>0</td>\n      <td>14350000000</td>\n    </tr>\n    <tr>\n      <th>998</th>\n      <td>130</td>\n      <td>1397</td>\n      <td>3</td>\n      <td>0</td>\n      <td>0</td>\n      <td>0</td>\n      <td>6200000000</td>\n    </tr>\n    <tr>\n      <th>999</th>\n      <td>180</td>\n      <td>1401</td>\n      <td>3</td>\n      <td>0</td>\n      <td>0</td>\n      <td>0</td>\n      <td>31000000000</td>\n    </tr>\n  </tbody>\n</table>\n<p>794 rows × 7 columns</p>\n</div>"
     },
     "execution_count": 156,
     "metadata": {},
     "output_type": "execute_result"
    }
   ],
   "source": [
    "house_data2"
   ],
   "metadata": {
    "collapsed": false,
    "pycharm": {
     "name": "#%%\n"
    }
   }
  },
  {
   "cell_type": "code",
   "execution_count": 157,
   "outputs": [
    {
     "data": {
      "text/plain": "int"
     },
     "execution_count": 157,
     "metadata": {},
     "output_type": "execute_result"
    }
   ],
   "source": [
    "type(house_data2.Construction[0])"
   ],
   "metadata": {
    "collapsed": false,
    "pycharm": {
     "name": "#%%\n"
    }
   }
  },
  {
   "cell_type": "code",
   "execution_count": 158,
   "outputs": [],
   "source": [
    "import seaborn as sb"
   ],
   "metadata": {
    "collapsed": false,
    "pycharm": {
     "name": "#%%\n"
    }
   }
  },
  {
   "cell_type": "code",
   "execution_count": 159,
   "outputs": [
    {
     "data": {
      "text/plain": "<seaborn.axisgrid.PairGrid at 0x29313e82680>"
     },
     "execution_count": 159,
     "metadata": {},
     "output_type": "execute_result"
    },
    {
     "data": {
      "text/plain": "<Figure size 1260x1260 with 56 Axes>",
      "image/png": "[encoded data removed]"
     },
     "metadata": {
      "needs_background": "light"
     },
     "output_type": "display_data"
    }
   ],
   "source": [
    "sb.pairplot(house_data2)"
   ],
   "metadata": {
    "collapsed": false,
    "pycharm": {
     "name": "#%%\n"
    }
   }
  },
  {
   "cell_type": "code",
   "execution_count": 160,
   "outputs": [
    {
     "data": {
      "text/plain": "Empty DataFrame\nColumns: []\nIndex: []",
      "text/html": "<div>\n<style scoped>\n    .dataframe tbody tr th:only-of-type {\n        vertical-align: middle;\n    }\n\n    .dataframe tbody tr th {\n        vertical-align: top;\n    }\n\n    .dataframe thead th {\n        text-align: right;\n    }\n</style>\n<table border=\"1\" class=\"dataframe\">\n  <thead>\n    <tr style=\"text-align: right;\">\n      <th></th>\n    </tr>\n  </thead>\n  <tbody>\n  </tbody>\n</table>\n</div>"
     },
     "execution_count": 160,
     "metadata": {},
     "output_type": "execute_result"
    }
   ],
   "source": [
    "house_data2.corr()"
   ],
   "metadata": {
    "collapsed": false,
    "pycharm": {
     "name": "#%%\n"
    }
   }
  },
  {
   "cell_type": "code",
   "execution_count": 161,
   "outputs": [],
   "source": [
    "y_train_pr = reg.predict(x_train)"
   ],
   "metadata": {
    "collapsed": false,
    "pycharm": {
     "name": "#%%\n"
    }
   }
  },
  {
   "cell_type": "code",
   "execution_count": 163,
   "outputs": [
    {
     "data": {
      "text/plain": "<matplotlib.collections.PathCollection at 0x29313ea4880>"
     },
     "execution_count": 163,
     "metadata": {},
     "output_type": "execute_result"
    },
    {
     "data": {
      "text/plain": "<Figure size 432x288 with 1 Axes>",
      "image/png": "[encoded data removed]"
     },
     "metadata": {
      "needs_background": "light"
     },
     "output_type": "display_data"
    }
   ],
   "source": [
    "plt.scatter(y_train, y_train_pr)"
   ],
   "metadata": {
    "collapsed": false,
    "pycharm": {
     "name": "#%%\n"
    }
   }
  },
  {
   "cell_type": "code",
   "execution_count": 164,
   "outputs": [],
   "source": [
    "from sklearn.linear_model import Lasso"
   ],
   "metadata": {
    "collapsed": false,
    "pycharm": {
     "name": "#%%\n"
    }
   }
  },
  {
   "cell_type": "code",
   "execution_count": 165,
   "outputs": [],
   "source": [
    "lasso = Lasso(alpha=0.1, normalize=True)"
   ],
   "metadata": {
    "collapsed": false,
    "pycharm": {
     "name": "#%%\n"
    }
   }
  },
  {
   "cell_type": "code",
   "execution_count": 166,
   "outputs": [
    {
     "name": "stderr",
     "output_type": "stream",
     "text": [
      "c:\\users\\admin\\pycharmprojects\\pythonproject4\\venv\\lib\\site-packages\\sklearn\\linear_model\\_base.py:141: FutureWarning: 'normalize' was deprecated in version 1.0 and will be removed in 1.2.\n",
      "If you wish to scale the data, use Pipeline with a StandardScaler in a preprocessing stage. To reproduce the previous behavior:\n",
      "\n",
      "from sklearn.pipeline import make_pipeline\n",
      "\n",
      "model = make_pipeline(StandardScaler(with_mean=False), Lasso())\n",
      "\n",
      "If you wish to pass a sample_weight parameter, you need to pass it as a fit parameter to each step of the pipeline as follows:\n",
      "\n",
      "kwargs = {s[0] + '__sample_weight': sample_weight for s in model.steps}\n",
      "model.fit(X, y, **kwargs)\n",
      "\n",
      "Set parameter alpha to: original_alpha * np.sqrt(n_samples). \n",
      "  warnings.warn(\n"
     ]
    },
    {
     "data": {
      "text/plain": "Lasso(alpha=0.1, normalize=True)",
      "text/html": "<style>#sk-container-id-8 {color: black;background-color: white;}#sk-container-id-8 pre{padding: 0;}#sk-container-id-8 div.sk-toggleable {background-color: white;}#sk-container-id-8 label.sk-toggleable__label {cursor: pointer;display: block;width: 100%;margin-bottom: 0;padding: 0.3em;box-sizing: border-box;text-align: center;}#sk-container-id-8 label.sk-toggleable__label-arrow:before {content: \"▸\";float: left;margin-right: 0.25em;color: #696969;}#sk-container-id-8 label.sk-toggleable__label-arrow:hover:before {color: black;}#sk-container-id-8 div.sk-estimator:hover label.sk-toggleable__label-arrow:before {color: black;}#sk-container-id-8 div.sk-toggleable__content {max-height: 0;max-width: 0;overflow: hidden;text-align: left;background-color: #f0f8ff;}#sk-container-id-8 div.sk-toggleable__content pre {margin: 0.2em;color: black;border-radius: 0.25em;background-color: #f0f8ff;}#sk-container-id-8 input.sk-toggleable__control:checked~div.sk-toggleable__content {max-height: 200px;max-width: 100%;overflow: auto;}#sk-container-id-8 input.sk-toggleable__control:checked~label.sk-toggleable__label-arrow:before {content: \"▾\";}#sk-container-id-8 div.sk-estimator input.sk-toggleable__control:checked~label.sk-toggleable__label {background-color: #d4ebff;}#sk-container-id-8 div.sk-label input.sk-toggleable__control:checked~label.sk-toggleable__label {background-color: #d4ebff;}#sk-container-id-8 input.sk-hidden--visually {border: 0;clip: rect(1px 1px 1px 1px);clip: rect(1px, 1px, 1px, 1px);height: 1px;margin: -1px;overflow: hidden;padding: 0;position: absolute;width: 1px;}#sk-container-id-8 div.sk-estimator {font-family: monospace;background-color: #f0f8ff;border: 1px dotted black;border-radius: 0.25em;box-sizing: border-box;margin-bottom: 0.5em;}#sk-container-id-8 div.sk-estimator:hover {background-color: #d4ebff;}#sk-container-id-8 div.sk-parallel-item::after {content: \"\";width: 100%;border-bottom: 1px solid gray;flex-grow: 1;}#sk-container-id-8 div.sk-label:hover label.sk-toggleable__label {background-color: #d4ebff;}#sk-container-id-8 div.sk-serial::before {content: \"\";position: absolute;border-left: 1px solid gray;box-sizing: border-box;top: 0;bottom: 0;left: 50%;z-index: 0;}#sk-container-id-8 div.sk-serial {display: flex;flex-direction: column;align-items: center;background-color: white;padding-right: 0.2em;padding-left: 0.2em;position: relative;}#sk-container-id-8 div.sk-item {position: relative;z-index: 1;}#sk-container-id-8 div.sk-parallel {display: flex;align-items: stretch;justify-content: center;background-color: white;position: relative;}#sk-container-id-8 div.sk-item::before, #sk-container-id-8 div.sk-parallel-item::before {content: \"\";position: absolute;border-left: 1px solid gray;box-sizing: border-box;top: 0;bottom: 0;left: 50%;z-index: -1;}#sk-container-id-8 div.sk-parallel-item {display: flex;flex-direction: column;z-index: 1;position: relative;background-color: white;}#sk-container-id-8 div.sk-parallel-item:first-child::after {align-self: flex-end;width: 50%;}#sk-container-id-8 div.sk-parallel-item:last-child::after {align-self: flex-start;width: 50%;}#sk-container-id-8 div.sk-parallel-item:only-child::after {width: 0;}#sk-container-id-8 div.sk-dashed-wrapped {border: 1px dashed gray;margin: 0 0.4em 0.5em 0.4em;box-sizing: border-box;padding-bottom: 0.4em;background-color: white;}#sk-container-id-8 div.sk-label label {font-family: monospace;font-weight: bold;display: inline-block;line-height: 1.2em;}#sk-container-id-8 div.sk-label-container {text-align: center;}#sk-container-id-8 div.sk-container {/* jupyter's `normalize.less` sets `[hidden] { display: none; }` but bootstrap.min.css set `[hidden] { display: none !important; }` so we also need the `!important` here to be able to override the default hidden behavior on the sphinx rendered scikit-learn.org. See: https://github.com/scikit-learn/scikit-learn/issues/21755 */display: inline-block !important;position: relative;}#sk-container-id-8 div.sk-text-repr-fallback {display: none;}</style><div id=\"sk-container-id-8\" class=\"sk-top-container\"><div class=\"sk-text-repr-fallback\"><pre>Lasso(alpha=0.1, normalize=True)</pre><b>In a Jupyter environment, please rerun this cell to show the HTML representation or trust the notebook. <br />On GitHub, the HTML representation is unable to render, please try loading this page with nbviewer.org.</b></div><div class=\"sk-container\" hidden><div class=\"sk-item\"><div class=\"sk-estimator sk-toggleable\"><input class=\"sk-toggleable__control sk-hidden--visually\" id=\"sk-estimator-id-8\" type=\"checkbox\" checked><label for=\"sk-estimator-id-8\" class=\"sk-toggleable__label sk-toggleable__label-arrow\">Lasso</label><div class=\"sk-toggleable__content\"><pre>Lasso(alpha=0.1, normalize=True)</pre></div></div></div></div></div>"
     },
     "execution_count": 166,
     "metadata": {},
     "output_type": "execute_result"
    }
   ],
   "source": [
    "lasso.fit(x_train, y_train)"
   ],
   "metadata": {
    "collapsed": false,
    "pycharm": {
     "name": "#%%\n"
    }
   }
  },
  {
   "cell_type": "code",
   "execution_count": 167,
   "outputs": [
    {
     "data": {
      "text/plain": "array([1.31078151e+08, 7.77818769e+07, 1.83629263e+08, 2.75314085e+08,\n       2.36769336e-07, 5.77940898e-08])"
     },
     "execution_count": 167,
     "metadata": {},
     "output_type": "execute_result"
    }
   ],
   "source": [
    "lasso.coef_"
   ],
   "metadata": {
    "collapsed": false,
    "pycharm": {
     "name": "#%%\n"
    }
   }
  },
  {
   "cell_type": "code",
   "execution_count": 168,
   "outputs": [
    {
     "data": {
      "text/plain": "'Price'"
     },
     "execution_count": 168,
     "metadata": {},
     "output_type": "execute_result"
    }
   ],
   "source": [
    "feature_name = list(house_data2.columns)\n",
    "feature_name.pop(feature_name.index('Price'))"
   ],
   "metadata": {
    "collapsed": false,
    "pycharm": {
     "name": "#%%\n"
    }
   }
  },
  {
   "cell_type": "code",
   "execution_count": 169,
   "outputs": [
    {
     "data": {
      "text/plain": "([<matplotlib.axis.XTick at 0x29317e50c40>,\n  <matplotlib.axis.XTick at 0x29317e50c10>,\n  <matplotlib.axis.XTick at 0x29317e50340>,\n  <matplotlib.axis.XTick at 0x29317e69390>,\n  <matplotlib.axis.XTick at 0x29317e69ae0>,\n  <matplotlib.axis.XTick at 0x29317e6a230>],\n [Text(0, 0, 'Area'),\n  Text(1, 0, 'Construction'),\n  Text(2, 0, 'Room'),\n  Text(3, 0, 'Warehouse'),\n  Text(4, 0, 'Parking'),\n  Text(5, 0, 'Elevator')])"
     },
     "execution_count": 169,
     "metadata": {},
     "output_type": "execute_result"
    },
    {
     "data": {
      "text/plain": "<Figure size 432x288 with 1 Axes>",
      "image/png": "[encoded data removed]"
     },
     "metadata": {
      "needs_background": "light"
     },
     "output_type": "display_data"
    }
   ],
   "source": [
    "plt.plot(range(6), lasso.coef_)\n",
    "plt.xticks(range(6), feature_name)"
   ],
   "metadata": {
    "collapsed": false,
    "pycharm": {
     "name": "#%%\n"
    }
   }
  },
  {
   "cell_type": "code",
   "execution_count": 170,
   "outputs": [
    {
     "data": {
      "text/plain": "<matplotlib.collections.PathCollection at 0x29317eb2d70>"
     },
     "execution_count": 170,
     "metadata": {},
     "output_type": "execute_result"
    },
    {
     "data": {
      "text/plain": "<Figure size 432x288 with 1 Axes>",
      "image/png": "[encoded data removed]"
     },
     "metadata": {
      "needs_background": "light"
     },
     "output_type": "display_data"
    }
   ],
   "source": [
    "y_p_lasso = lasso.predict(x_test)\n",
    "plt.scatter(y_test, y_p_lasso)"
   ],
   "metadata": {
    "collapsed": false,
    "pycharm": {
     "name": "#%%\n"
    }
   }
  },
  {
   "cell_type": "code",
   "execution_count": 171,
   "outputs": [
    {
     "data": {
      "text/plain": "0.6137092534879125"
     },
     "execution_count": 171,
     "metadata": {},
     "output_type": "execute_result"
    }
   ],
   "source": [
    "reg.score(x_test, y_test)"
   ],
   "metadata": {
    "collapsed": false,
    "pycharm": {
     "name": "#%%\n"
    }
   }
  },
  {
   "cell_type": "code",
   "execution_count": 172,
   "outputs": [
    {
     "data": {
      "text/plain": "0.6137092534870744"
     },
     "execution_count": 172,
     "metadata": {},
     "output_type": "execute_result"
    }
   ],
   "source": [
    "lasso.score(x_test, y_test)"
   ],
   "metadata": {
    "collapsed": false,
    "pycharm": {
     "name": "#%%\n"
    }
   }
  },
  {
   "cell_type": "code",
   "execution_count": 173,
   "outputs": [],
   "source": [
    "from sklearn.metrics import mean_squared_error"
   ],
   "metadata": {
    "collapsed": false,
    "pycharm": {
     "name": "#%%\n"
    }
   }
  },
  {
   "cell_type": "code",
   "execution_count": 174,
   "outputs": [
    {
     "data": {
      "text/plain": "9.396004518187154e+19"
     },
     "execution_count": 174,
     "metadata": {},
     "output_type": "execute_result"
    }
   ],
   "source": [
    "mean_squared_error(y_test, y_predict)"
   ],
   "metadata": {
    "collapsed": false,
    "pycharm": {
     "name": "#%%\n"
    }
   }
  },
  {
   "cell_type": "code",
   "execution_count": 175,
   "outputs": [
    {
     "data": {
      "text/plain": "9.396004518207542e+19"
     },
     "execution_count": 175,
     "metadata": {},
     "output_type": "execute_result"
    }
   ],
   "source": [
    "mean_squared_error(y_test, y_p_lasso)"
   ],
   "metadata": {
    "collapsed": false,
    "pycharm": {
     "name": "#%%\n"
    }
   }
  },
  {
   "cell_type": "code",
   "execution_count": 176,
   "outputs": [],
   "source": [
    "from sklearn.linear_model import Ridge"
   ],
   "metadata": {
    "collapsed": false,
    "pycharm": {
     "name": "#%%\n"
    }
   }
  },
  {
   "cell_type": "code",
   "execution_count": 177,
   "outputs": [],
   "source": [
    "ridge = Ridge(alpha=0.1, normalize=True)"
   ],
   "metadata": {
    "collapsed": false,
    "pycharm": {
     "name": "#%%\n"
    }
   }
  },
  {
   "cell_type": "code",
   "execution_count": 178,
   "outputs": [
    {
     "name": "stderr",
     "output_type": "stream",
     "text": [
      "c:\\users\\admin\\pycharmprojects\\pythonproject4\\venv\\lib\\site-packages\\sklearn\\linear_model\\_base.py:141: FutureWarning: 'normalize' was deprecated in version 1.0 and will be removed in 1.2.\n",
      "If you wish to scale the data, use Pipeline with a StandardScaler in a preprocessing stage. To reproduce the previous behavior:\n",
      "\n",
      "from sklearn.pipeline import make_pipeline\n",
      "\n",
      "model = make_pipeline(StandardScaler(with_mean=False), Ridge())\n",
      "\n",
      "If you wish to pass a sample_weight parameter, you need to pass it as a fit parameter to each step of the pipeline as follows:\n",
      "\n",
      "kwargs = {s[0] + '__sample_weight': sample_weight for s in model.steps}\n",
      "model.fit(X, y, **kwargs)\n",
      "\n",
      "Set parameter alpha to: original_alpha * n_samples. \n",
      "  warnings.warn(\n"
     ]
    },
    {
     "data": {
      "text/plain": "Ridge(alpha=0.1, normalize=True)",
      "text/html": "<style>#sk-container-id-9 {color: black;background-color: white;}#sk-container-id-9 pre{padding: 0;}#sk-container-id-9 div.sk-toggleable {background-color: white;}#sk-container-id-9 label.sk-toggleable__label {cursor: pointer;display: block;width: 100%;margin-bottom: 0;padding: 0.3em;box-sizing: border-box;text-align: center;}#sk-container-id-9 label.sk-toggleable__label-arrow:before {content: \"▸\";float: left;margin-right: 0.25em;color: #696969;}#sk-container-id-9 label.sk-toggleable__label-arrow:hover:before {color: black;}#sk-container-id-9 div.sk-estimator:hover label.sk-toggleable__label-arrow:before {color: black;}#sk-container-id-9 div.sk-toggleable__content {max-height: 0;max-width: 0;overflow: hidden;text-align: left;background-color: #f0f8ff;}#sk-container-id-9 div.sk-toggleable__content pre {margin: 0.2em;color: black;border-radius: 0.25em;background-color: #f0f8ff;}#sk-container-id-9 input.sk-toggleable__control:checked~div.sk-toggleable__content {max-height: 200px;max-width: 100%;overflow: auto;}#sk-container-id-9 input.sk-toggleable__control:checked~label.sk-toggleable__label-arrow:before {content: \"▾\";}#sk-container-id-9 div.sk-estimator input.sk-toggleable__control:checked~label.sk-toggleable__label {background-color: #d4ebff;}#sk-container-id-9 div.sk-label input.sk-toggleable__control:checked~label.sk-toggleable__label {background-color: #d4ebff;}#sk-container-id-9 input.sk-hidden--visually {border: 0;clip: rect(1px 1px 1px 1px);clip: rect(1px, 1px, 1px, 1px);height: 1px;margin: -1px;overflow: hidden;padding: 0;position: absolute;width: 1px;}#sk-container-id-9 div.sk-estimator {font-family: monospace;background-color: #f0f8ff;border: 1px dotted black;border-radius: 0.25em;box-sizing: border-box;margin-bottom: 0.5em;}#sk-container-id-9 div.sk-estimator:hover {background-color: #d4ebff;}#sk-container-id-9 div.sk-parallel-item::after {content: \"\";width: 100%;border-bottom: 1px solid gray;flex-grow: 1;}#sk-container-id-9 div.sk-label:hover label.sk-toggleable__label {background-color: #d4ebff;}#sk-container-id-9 div.sk-serial::before {content: \"\";position: absolute;border-left: 1px solid gray;box-sizing: border-box;top: 0;bottom: 0;left: 50%;z-index: 0;}#sk-container-id-9 div.sk-serial {display: flex;flex-direction: column;align-items: center;background-color: white;padding-right: 0.2em;padding-left: 0.2em;position: relative;}#sk-container-id-9 div.sk-item {position: relative;z-index: 1;}#sk-container-id-9 div.sk-parallel {display: flex;align-items: stretch;justify-content: center;background-color: white;position: relative;}#sk-container-id-9 div.sk-item::before, #sk-container-id-9 div.sk-parallel-item::before {content: \"\";position: absolute;border-left: 1px solid gray;box-sizing: border-box;top: 0;bottom: 0;left: 50%;z-index: -1;}#sk-container-id-9 div.sk-parallel-item {display: flex;flex-direction: column;z-index: 1;position: relative;background-color: white;}#sk-container-id-9 div.sk-parallel-item:first-child::after {align-self: flex-end;width: 50%;}#sk-container-id-9 div.sk-parallel-item:last-child::after {align-self: flex-start;width: 50%;}#sk-container-id-9 div.sk-parallel-item:only-child::after {width: 0;}#sk-container-id-9 div.sk-dashed-wrapped {border: 1px dashed gray;margin: 0 0.4em 0.5em 0.4em;box-sizing: border-box;padding-bottom: 0.4em;background-color: white;}#sk-container-id-9 div.sk-label label {font-family: monospace;font-weight: bold;display: inline-block;line-height: 1.2em;}#sk-container-id-9 div.sk-label-container {text-align: center;}#sk-container-id-9 div.sk-container {/* jupyter's `normalize.less` sets `[hidden] { display: none; }` but bootstrap.min.css set `[hidden] { display: none !important; }` so we also need the `!important` here to be able to override the default hidden behavior on the sphinx rendered scikit-learn.org. See: https://github.com/scikit-learn/scikit-learn/issues/21755 */display: inline-block !important;position: relative;}#sk-container-id-9 div.sk-text-repr-fallback {display: none;}</style><div id=\"sk-container-id-9\" class=\"sk-top-container\"><div class=\"sk-text-repr-fallback\"><pre>Ridge(alpha=0.1, normalize=True)</pre><b>In a Jupyter environment, please rerun this cell to show the HTML representation or trust the notebook. <br />On GitHub, the HTML representation is unable to render, please try loading this page with nbviewer.org.</b></div><div class=\"sk-container\" hidden><div class=\"sk-item\"><div class=\"sk-estimator sk-toggleable\"><input class=\"sk-toggleable__control sk-hidden--visually\" id=\"sk-estimator-id-9\" type=\"checkbox\" checked><label for=\"sk-estimator-id-9\" class=\"sk-toggleable__label sk-toggleable__label-arrow\">Ridge</label><div class=\"sk-toggleable__content\"><pre>Ridge(alpha=0.1, normalize=True)</pre></div></div></div></div></div>"
     },
     "execution_count": 178,
     "metadata": {},
     "output_type": "execute_result"
    }
   ],
   "source": [
    "ridge.fit(x_train, y_train)"
   ],
   "metadata": {
    "collapsed": false,
    "pycharm": {
     "name": "#%%\n"
    }
   }
  },
  {
   "cell_type": "code",
   "execution_count": 179,
   "outputs": [
    {
     "data": {
      "text/plain": "0.5833829911102358"
     },
     "execution_count": 179,
     "metadata": {},
     "output_type": "execute_result"
    }
   ],
   "source": [
    "y_p_ridge = ridge.predict(x_test)\n",
    "ridge.score(x_test, y_test)"
   ],
   "metadata": {
    "collapsed": false,
    "pycharm": {
     "name": "#%%\n"
    }
   }
  },
  {
   "cell_type": "code",
   "execution_count": 180,
   "outputs": [
    {
     "data": {
      "text/plain": "1.0133650192833061e+20"
     },
     "execution_count": 180,
     "metadata": {},
     "output_type": "execute_result"
    }
   ],
   "source": [
    "mean_squared_error(y_test, y_p_ridge)"
   ],
   "metadata": {
    "collapsed": false,
    "pycharm": {
     "name": "#%%\n"
    }
   }
  },
  {
   "cell_type": "code",
   "execution_count": 180,
   "outputs": [],
   "source": [],
   "metadata": {
    "collapsed": false,
    "pycharm": {
     "name": "#%%\n"
    }
   }
  },
  {
   "cell_type": "code",
   "execution_count": 180,
   "outputs": [],
   "source": [],
   "metadata": {
    "collapsed": false,
    "pycharm": {
     "name": "#%%\n"
    }
   }
  },
  {
   "cell_type": "code",
   "execution_count": 143,
   "outputs": [],
   "source": [],
   "metadata": {
    "collapsed": false,
    "pycharm": {
     "name": "#%%\n"
    }
   }
  },
  {
   "cell_type": "code",
   "execution_count": 143,
   "outputs": [],
   "source": [],
   "metadata": {
    "collapsed": false,
    "pycharm": {
     "name": "#%%\n"
    }
   }
  },
  {
   "cell_type": "code",
   "execution_count": 143,
   "outputs": [],
   "source": [],
   "metadata": {
    "collapsed": false,
    "pycharm": {
     "name": "#%%\n"
    }
   }
  },
  {
   "cell_type": "code",
   "execution_count": 143,
   "outputs": [],
   "source": [],
   "metadata": {
    "collapsed": false,
    "pycharm": {
     "name": "#%%\n"
    }
   }
  },
  {
   "cell_type": "code",
   "execution_count": 143,
   "outputs": [],
   "source": [],
   "metadata": {
    "collapsed": false,
    "pycharm": {
     "name": "#%%\n"
    }
   }
  },
  {
   "cell_type": "code",
   "execution_count": 143,
   "outputs": [],
   "source": [],
   "metadata": {
    "collapsed": false,
    "pycharm": {
     "name": "#%%\n"
    }
   }
  },
  {
   "cell_type": "code",
   "execution_count": 143,
   "outputs": [],
   "source": [],
   "metadata": {
    "collapsed": false,
    "pycharm": {
     "name": "#%%\n"
    }
   }
  },
  {
   "cell_type": "code",
   "execution_count": 143,
   "outputs": [],
   "source": [],
   "metadata": {
    "collapsed": false,
    "pycharm": {
     "name": "#%%\n"
    }
   }
  },
  {
   "cell_type": "code",
   "execution_count": 143,
   "outputs": [],
   "source": [],
   "metadata": {
    "collapsed": false,
    "pycharm": {
     "name": "#%%\n"
    }
   }
  },
  {
   "cell_type": "code",
   "execution_count": 143,
   "outputs": [],
   "source": [],
   "metadata": {
    "collapsed": false,
    "pycharm": {
     "name": "#%%\n"
    }
   }
  },
  {
   "cell_type": "code",
   "execution_count": 143,
   "outputs": [],
   "source": [],
   "metadata": {
    "collapsed": false,
    "pycharm": {
     "name": "#%%\n"
    }
   }
  },
  {
   "cell_type": "code",
   "execution_count": 143,
   "outputs": [],
   "source": [],
   "metadata": {
    "collapsed": false,
    "pycharm": {
     "name": "#%%\n"
    }
   }
  },
  {
   "cell_type": "code",
   "execution_count": 143,
   "outputs": [],
   "source": [],
   "metadata": {
    "collapsed": false,
    "pycharm": {
     "name": "#%%\n"
    }
   }
  },
  {
   "cell_type": "code",
   "execution_count": 143,
   "outputs": [],
   "source": [],
   "metadata": {
    "collapsed": false,
    "pycharm": {
     "name": "#%%\n"
    }
   }
  }
 ],
 "metadata": {
  "kernelspec": {
   "display_name": "Python 3",
   "language": "python",
   "name": "python3"
  },
  "language_info": {
   "codemirror_mode": {
    "name": "ipython",
    "version": 2
   },
   "file_extension": ".py",
   "mimetype": "text/x-python",
   "name": "python",
   "nbconvert_exporter": "python",
   "pygments_lexer": "ipython2",
   "version": "2.7.6"
  }
 },
 "nbformat": 4,
 "nbformat_minor": 0
}