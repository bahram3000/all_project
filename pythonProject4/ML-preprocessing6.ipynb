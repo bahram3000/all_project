{
 "cells": [
  {
   "cell_type": "code",
   "execution_count": 136,
   "outputs": [],
   "source": [
    "import numpy as np\n",
    "import pandas as pd\n"
   ],
   "metadata": {
    "collapsed": false,
    "pycharm": {
     "name": "#%%\n"
    }
   }
  },
  {
   "cell_type": "code",
   "execution_count": 137,
   "metadata": {
    "collapsed": true
   },
   "outputs": [],
   "source": [
    "path1 = 'C:\\\\Users\\\\ADMIN\\\\Desktop\\\\my project\\\\concat\\\\1.xlsx'\n",
    "path2 = 'C:\\\\Users\\\\ADMIN\\\\Desktop\\\\my project\\\\concat\\\\2.xlsx'"
   ]
  },
  {
   "cell_type": "code",
   "execution_count": 138,
   "outputs": [
    {
     "data": {
      "text/plain": "                                     Country Name      2021     2021.1\n0                                           Aruba  0.401008        NaN\n1                     Africa Eastern and Southern  2.572461   4.303667\n2                                     Afghanistan  2.303412        NaN\n3                      Africa Western and Central  2.636291   3.914799\n4                                          Angola  3.195916   0.700000\n..                                            ...       ...        ...\n131                                       Liberia  2.393792   4.000010\n132                                         Libya  1.261797  31.372422\n133                                     St. Lucia  0.419532   6.599327\n134                     Latin America & Caribbean  0.877415   6.752375\n135  Least developed countries: UN classification  2.305655   2.296664\n\n[136 rows x 3 columns]",
      "text/html": "<div>\n<style scoped>\n    .dataframe tbody tr th:only-of-type {\n        vertical-align: middle;\n    }\n\n    .dataframe tbody tr th {\n        vertical-align: top;\n    }\n\n    .dataframe thead th {\n        text-align: right;\n    }\n</style>\n<table border=\"1\" class=\"dataframe\">\n  <thead>\n    <tr style=\"text-align: right;\">\n      <th></th>\n      <th>Country Name</th>\n      <th>2021</th>\n      <th>2021.1</th>\n    </tr>\n  </thead>\n  <tbody>\n    <tr>\n      <th>0</th>\n      <td>Aruba</td>\n      <td>0.401008</td>\n      <td>NaN</td>\n    </tr>\n    <tr>\n      <th>1</th>\n      <td>Africa Eastern and Southern</td>\n      <td>2.572461</td>\n      <td>4.303667</td>\n    </tr>\n    <tr>\n      <th>2</th>\n      <td>Afghanistan</td>\n      <td>2.303412</td>\n      <td>NaN</td>\n    </tr>\n    <tr>\n      <th>3</th>\n      <td>Africa Western and Central</td>\n      <td>2.636291</td>\n      <td>3.914799</td>\n    </tr>\n    <tr>\n      <th>4</th>\n      <td>Angola</td>\n      <td>3.195916</td>\n      <td>0.700000</td>\n    </tr>\n    <tr>\n      <th>...</th>\n      <td>...</td>\n      <td>...</td>\n      <td>...</td>\n    </tr>\n    <tr>\n      <th>131</th>\n      <td>Liberia</td>\n      <td>2.393792</td>\n      <td>4.000010</td>\n    </tr>\n    <tr>\n      <th>132</th>\n      <td>Libya</td>\n      <td>1.261797</td>\n      <td>31.372422</td>\n    </tr>\n    <tr>\n      <th>133</th>\n      <td>St. Lucia</td>\n      <td>0.419532</td>\n      <td>6.599327</td>\n    </tr>\n    <tr>\n      <th>134</th>\n      <td>Latin America &amp; Caribbean</td>\n      <td>0.877415</td>\n      <td>6.752375</td>\n    </tr>\n    <tr>\n      <th>135</th>\n      <td>Least developed countries: UN classification</td>\n      <td>2.305655</td>\n      <td>2.296664</td>\n    </tr>\n  </tbody>\n</table>\n<p>136 rows × 3 columns</p>\n</div>"
     },
     "execution_count": 138,
     "metadata": {},
     "output_type": "execute_result"
    }
   ],
   "source": [
    "data1 = pd.read_excel(path1, header=3)\n",
    "data2 = pd.read_excel(path2)\n",
    "data1"
   ],
   "metadata": {
    "collapsed": false,
    "pycharm": {
     "name": "#%%\n"
    }
   }
  },
  {
   "cell_type": "code",
   "execution_count": 139,
   "outputs": [
    {
     "data": {
      "text/plain": "                                              pop_grow  gdp_growth\nAruba                                         0.401008         NaN\nAfrica Eastern and Southern                   2.572461    4.303667\nAfghanistan                                   2.303412         NaN\nAfrica Western and Central                    2.636291    3.914799\nAngola                                        3.195916    0.700000\n...                                                ...         ...\nLiberia                                       2.393792    4.000010\nLibya                                         1.261797   31.372422\nSt. Lucia                                     0.419532    6.599327\nLatin America & Caribbean                     0.877415    6.752375\nLeast developed countries: UN classification  2.305655    2.296664\n\n[136 rows x 2 columns]",
      "text/html": "<div>\n<style scoped>\n    .dataframe tbody tr th:only-of-type {\n        vertical-align: middle;\n    }\n\n    .dataframe tbody tr th {\n        vertical-align: top;\n    }\n\n    .dataframe thead th {\n        text-align: right;\n    }\n</style>\n<table border=\"1\" class=\"dataframe\">\n  <thead>\n    <tr style=\"text-align: right;\">\n      <th></th>\n      <th>pop_grow</th>\n      <th>gdp_growth</th>\n    </tr>\n  </thead>\n  <tbody>\n    <tr>\n      <th>Aruba</th>\n      <td>0.401008</td>\n      <td>NaN</td>\n    </tr>\n    <tr>\n      <th>Africa Eastern and Southern</th>\n      <td>2.572461</td>\n      <td>4.303667</td>\n    </tr>\n    <tr>\n      <th>Afghanistan</th>\n      <td>2.303412</td>\n      <td>NaN</td>\n    </tr>\n    <tr>\n      <th>Africa Western and Central</th>\n      <td>2.636291</td>\n      <td>3.914799</td>\n    </tr>\n    <tr>\n      <th>Angola</th>\n      <td>3.195916</td>\n      <td>0.700000</td>\n    </tr>\n    <tr>\n      <th>...</th>\n      <td>...</td>\n      <td>...</td>\n    </tr>\n    <tr>\n      <th>Liberia</th>\n      <td>2.393792</td>\n      <td>4.000010</td>\n    </tr>\n    <tr>\n      <th>Libya</th>\n      <td>1.261797</td>\n      <td>31.372422</td>\n    </tr>\n    <tr>\n      <th>St. Lucia</th>\n      <td>0.419532</td>\n      <td>6.599327</td>\n    </tr>\n    <tr>\n      <th>Latin America &amp; Caribbean</th>\n      <td>0.877415</td>\n      <td>6.752375</td>\n    </tr>\n    <tr>\n      <th>Least developed countries: UN classification</th>\n      <td>2.305655</td>\n      <td>2.296664</td>\n    </tr>\n  </tbody>\n</table>\n<p>136 rows × 2 columns</p>\n</div>"
     },
     "execution_count": 139,
     "metadata": {},
     "output_type": "execute_result"
    }
   ],
   "source": [
    "data1.rename(index=data1[\"Country Name\"], inplace=True)\n",
    "data1.drop(['Country Name'], axis=1, inplace=True)\n",
    "data1.rename(columns={'2021': 'pop_grow', '2021.1': 'gdp_growth'}, inplace=True)\n",
    "data1"
   ],
   "metadata": {
    "collapsed": false,
    "pycharm": {
     "name": "#%%\n"
    }
   }
  },
  {
   "cell_type": "code",
   "execution_count": 140,
   "outputs": [
    {
     "data": {
      "text/plain": "                     pop growth  gdp growth\nLow income             2.691016    3.013900\nLiechtenstein          0.306319         NaN\nSri Lanka              1.075450    3.655632\nLower middle income    1.341333    5.591395\nLow & middle income    1.104564    6.892505\n...                         ...         ...\nKosovo                 0.897901    9.127578\nYemen, Rep.            2.204030   -2.061513\nSouth Africa           1.228841    4.914603\nZambia                 2.877596    3.572815\nZimbabwe               1.530614    5.849420\n\n[130 rows x 2 columns]",
      "text/html": "<div>\n<style scoped>\n    .dataframe tbody tr th:only-of-type {\n        vertical-align: middle;\n    }\n\n    .dataframe tbody tr th {\n        vertical-align: top;\n    }\n\n    .dataframe thead th {\n        text-align: right;\n    }\n</style>\n<table border=\"1\" class=\"dataframe\">\n  <thead>\n    <tr style=\"text-align: right;\">\n      <th></th>\n      <th>pop growth</th>\n      <th>gdp growth</th>\n    </tr>\n  </thead>\n  <tbody>\n    <tr>\n      <th>Low income</th>\n      <td>2.691016</td>\n      <td>3.013900</td>\n    </tr>\n    <tr>\n      <th>Liechtenstein</th>\n      <td>0.306319</td>\n      <td>NaN</td>\n    </tr>\n    <tr>\n      <th>Sri Lanka</th>\n      <td>1.075450</td>\n      <td>3.655632</td>\n    </tr>\n    <tr>\n      <th>Lower middle income</th>\n      <td>1.341333</td>\n      <td>5.591395</td>\n    </tr>\n    <tr>\n      <th>Low &amp; middle income</th>\n      <td>1.104564</td>\n      <td>6.892505</td>\n    </tr>\n    <tr>\n      <th>...</th>\n      <td>...</td>\n      <td>...</td>\n    </tr>\n    <tr>\n      <th>Kosovo</th>\n      <td>0.897901</td>\n      <td>9.127578</td>\n    </tr>\n    <tr>\n      <th>Yemen, Rep.</th>\n      <td>2.204030</td>\n      <td>-2.061513</td>\n    </tr>\n    <tr>\n      <th>South Africa</th>\n      <td>1.228841</td>\n      <td>4.914603</td>\n    </tr>\n    <tr>\n      <th>Zambia</th>\n      <td>2.877596</td>\n      <td>3.572815</td>\n    </tr>\n    <tr>\n      <th>Zimbabwe</th>\n      <td>1.530614</td>\n      <td>5.849420</td>\n    </tr>\n  </tbody>\n</table>\n<p>130 rows × 2 columns</p>\n</div>"
     },
     "execution_count": 140,
     "metadata": {},
     "output_type": "execute_result"
    }
   ],
   "source": [
    "data2.rename(index=data2['name'], inplace=True)\n",
    "data2.drop(['name'], axis=1, inplace=True)\n",
    "data2"
   ],
   "metadata": {
    "collapsed": false,
    "pycharm": {
     "name": "#%%\n"
    }
   }
  },
  {
   "cell_type": "code",
   "execution_count": 141,
   "outputs": [
    {
     "data": {
      "text/plain": "pandas.core.series.Series"
     },
     "execution_count": 141,
     "metadata": {},
     "output_type": "execute_result"
    }
   ],
   "source": [
    "type(data1.pop_grow)"
   ],
   "metadata": {
    "collapsed": false,
    "pycharm": {
     "name": "#%%\n"
    }
   }
  },
  {
   "cell_type": "code",
   "execution_count": 142,
   "outputs": [
    {
     "data": {
      "text/plain": "                                              pop_grow  gdp_growth\nAruba                                         0.401008         NaN\nAfrica Eastern and Southern                   2.572461    4.303667\nAfghanistan                                   2.303412         NaN\nAfrica Western and Central                    2.636291    3.914799\nAngola                                        3.195916    0.700000\n...                                                ...         ...\nLiberia                                       2.393792    4.000010\nLibya                                         1.261797   31.372422\nSt. Lucia                                     0.419532    6.599327\nLatin America & Caribbean                     0.877415    6.752375\nLeast developed countries: UN classification  2.305655    2.296664\n\n[136 rows x 2 columns]",
      "text/html": "<div>\n<style scoped>\n    .dataframe tbody tr th:only-of-type {\n        vertical-align: middle;\n    }\n\n    .dataframe tbody tr th {\n        vertical-align: top;\n    }\n\n    .dataframe thead th {\n        text-align: right;\n    }\n</style>\n<table border=\"1\" class=\"dataframe\">\n  <thead>\n    <tr style=\"text-align: right;\">\n      <th></th>\n      <th>pop_grow</th>\n      <th>gdp_growth</th>\n    </tr>\n  </thead>\n  <tbody>\n    <tr>\n      <th>Aruba</th>\n      <td>0.401008</td>\n      <td>NaN</td>\n    </tr>\n    <tr>\n      <th>Africa Eastern and Southern</th>\n      <td>2.572461</td>\n      <td>4.303667</td>\n    </tr>\n    <tr>\n      <th>Afghanistan</th>\n      <td>2.303412</td>\n      <td>NaN</td>\n    </tr>\n    <tr>\n      <th>Africa Western and Central</th>\n      <td>2.636291</td>\n      <td>3.914799</td>\n    </tr>\n    <tr>\n      <th>Angola</th>\n      <td>3.195916</td>\n      <td>0.700000</td>\n    </tr>\n    <tr>\n      <th>...</th>\n      <td>...</td>\n      <td>...</td>\n    </tr>\n    <tr>\n      <th>Liberia</th>\n      <td>2.393792</td>\n      <td>4.000010</td>\n    </tr>\n    <tr>\n      <th>Libya</th>\n      <td>1.261797</td>\n      <td>31.372422</td>\n    </tr>\n    <tr>\n      <th>St. Lucia</th>\n      <td>0.419532</td>\n      <td>6.599327</td>\n    </tr>\n    <tr>\n      <th>Latin America &amp; Caribbean</th>\n      <td>0.877415</td>\n      <td>6.752375</td>\n    </tr>\n    <tr>\n      <th>Least developed countries: UN classification</th>\n      <td>2.305655</td>\n      <td>2.296664</td>\n    </tr>\n  </tbody>\n</table>\n<p>136 rows × 2 columns</p>\n</div>"
     },
     "execution_count": 142,
     "metadata": {},
     "output_type": "execute_result"
    }
   ],
   "source": [
    "col = data1.columns\n",
    "\n",
    "\n",
    "def change_column(data_1, data_2):\n",
    "    assert len(data_1.columns) == len(data_2.columns)\n",
    "    col_1 = data_1.columns\n",
    "    col_2 = data_2.columns\n",
    "    dic = {}\n",
    "    ln = len(data_2.columns)\n",
    "    for i in range(ln):\n",
    "        dic[col_2[i]] = col_1[i]\n",
    "    return dic\n",
    "\n",
    "\n",
    "data1\n"
   ],
   "metadata": {
    "collapsed": false,
    "pycharm": {
     "name": "#%%\n"
    }
   }
  },
  {
   "cell_type": "code",
   "execution_count": 143,
   "outputs": [
    {
     "data": {
      "text/plain": "                     pop growth  gdp growth\nLow income             2.691016    3.013900\nLiechtenstein          0.306319         NaN\nSri Lanka              1.075450    3.655632\nLower middle income    1.341333    5.591395\nLow & middle income    1.104564    6.892505\n...                         ...         ...\nKosovo                 0.897901    9.127578\nYemen, Rep.            2.204030   -2.061513\nSouth Africa           1.228841    4.914603\nZambia                 2.877596    3.572815\nZimbabwe               1.530614    5.849420\n\n[130 rows x 2 columns]",
      "text/html": "<div>\n<style scoped>\n    .dataframe tbody tr th:only-of-type {\n        vertical-align: middle;\n    }\n\n    .dataframe tbody tr th {\n        vertical-align: top;\n    }\n\n    .dataframe thead th {\n        text-align: right;\n    }\n</style>\n<table border=\"1\" class=\"dataframe\">\n  <thead>\n    <tr style=\"text-align: right;\">\n      <th></th>\n      <th>pop growth</th>\n      <th>gdp growth</th>\n    </tr>\n  </thead>\n  <tbody>\n    <tr>\n      <th>Low income</th>\n      <td>2.691016</td>\n      <td>3.013900</td>\n    </tr>\n    <tr>\n      <th>Liechtenstein</th>\n      <td>0.306319</td>\n      <td>NaN</td>\n    </tr>\n    <tr>\n      <th>Sri Lanka</th>\n      <td>1.075450</td>\n      <td>3.655632</td>\n    </tr>\n    <tr>\n      <th>Lower middle income</th>\n      <td>1.341333</td>\n      <td>5.591395</td>\n    </tr>\n    <tr>\n      <th>Low &amp; middle income</th>\n      <td>1.104564</td>\n      <td>6.892505</td>\n    </tr>\n    <tr>\n      <th>...</th>\n      <td>...</td>\n      <td>...</td>\n    </tr>\n    <tr>\n      <th>Kosovo</th>\n      <td>0.897901</td>\n      <td>9.127578</td>\n    </tr>\n    <tr>\n      <th>Yemen, Rep.</th>\n      <td>2.204030</td>\n      <td>-2.061513</td>\n    </tr>\n    <tr>\n      <th>South Africa</th>\n      <td>1.228841</td>\n      <td>4.914603</td>\n    </tr>\n    <tr>\n      <th>Zambia</th>\n      <td>2.877596</td>\n      <td>3.572815</td>\n    </tr>\n    <tr>\n      <th>Zimbabwe</th>\n      <td>1.530614</td>\n      <td>5.849420</td>\n    </tr>\n  </tbody>\n</table>\n<p>130 rows × 2 columns</p>\n</div>"
     },
     "execution_count": 143,
     "metadata": {},
     "output_type": "execute_result"
    }
   ],
   "source": [
    "data2"
   ],
   "metadata": {
    "collapsed": false,
    "pycharm": {
     "name": "#%%\n"
    }
   }
  },
  {
   "cell_type": "code",
   "execution_count": 144,
   "outputs": [
    {
     "data": {
      "text/plain": "{'pop growth': 'pop_grow', 'gdp growth': 'gdp_growth'}"
     },
     "execution_count": 144,
     "metadata": {},
     "output_type": "execute_result"
    }
   ],
   "source": [
    "change_column(data1, data2)"
   ],
   "metadata": {
    "collapsed": false,
    "pycharm": {
     "name": "#%%\n"
    }
   }
  },
  {
   "cell_type": "code",
   "execution_count": 145,
   "outputs": [
    {
     "data": {
      "text/plain": "                     pop_grow  gdp_growth\nLow income           2.691016    3.013900\nLiechtenstein        0.306319         NaN\nSri Lanka            1.075450    3.655632\nLower middle income  1.341333    5.591395\nLow & middle income  1.104564    6.892505\n...                       ...         ...\nKosovo               0.897901    9.127578\nYemen, Rep.          2.204030   -2.061513\nSouth Africa         1.228841    4.914603\nZambia               2.877596    3.572815\nZimbabwe             1.530614    5.849420\n\n[130 rows x 2 columns]",
      "text/html": "<div>\n<style scoped>\n    .dataframe tbody tr th:only-of-type {\n        vertical-align: middle;\n    }\n\n    .dataframe tbody tr th {\n        vertical-align: top;\n    }\n\n    .dataframe thead th {\n        text-align: right;\n    }\n</style>\n<table border=\"1\" class=\"dataframe\">\n  <thead>\n    <tr style=\"text-align: right;\">\n      <th></th>\n      <th>pop_grow</th>\n      <th>gdp_growth</th>\n    </tr>\n  </thead>\n  <tbody>\n    <tr>\n      <th>Low income</th>\n      <td>2.691016</td>\n      <td>3.013900</td>\n    </tr>\n    <tr>\n      <th>Liechtenstein</th>\n      <td>0.306319</td>\n      <td>NaN</td>\n    </tr>\n    <tr>\n      <th>Sri Lanka</th>\n      <td>1.075450</td>\n      <td>3.655632</td>\n    </tr>\n    <tr>\n      <th>Lower middle income</th>\n      <td>1.341333</td>\n      <td>5.591395</td>\n    </tr>\n    <tr>\n      <th>Low &amp; middle income</th>\n      <td>1.104564</td>\n      <td>6.892505</td>\n    </tr>\n    <tr>\n      <th>...</th>\n      <td>...</td>\n      <td>...</td>\n    </tr>\n    <tr>\n      <th>Kosovo</th>\n      <td>0.897901</td>\n      <td>9.127578</td>\n    </tr>\n    <tr>\n      <th>Yemen, Rep.</th>\n      <td>2.204030</td>\n      <td>-2.061513</td>\n    </tr>\n    <tr>\n      <th>South Africa</th>\n      <td>1.228841</td>\n      <td>4.914603</td>\n    </tr>\n    <tr>\n      <th>Zambia</th>\n      <td>2.877596</td>\n      <td>3.572815</td>\n    </tr>\n    <tr>\n      <th>Zimbabwe</th>\n      <td>1.530614</td>\n      <td>5.849420</td>\n    </tr>\n  </tbody>\n</table>\n<p>130 rows × 2 columns</p>\n</div>"
     },
     "execution_count": 145,
     "metadata": {},
     "output_type": "execute_result"
    }
   ],
   "source": [
    "data2.rename(columns=change_column(data1, data2), inplace=True)\n",
    "data2"
   ],
   "metadata": {
    "collapsed": false,
    "pycharm": {
     "name": "#%%\n"
    }
   }
  },
  {
   "cell_type": "code",
   "execution_count": 146,
   "outputs": [
    {
     "data": {
      "text/plain": "Index(['Aruba', 'Africa Eastern and Southern', 'Afghanistan',\n       'Africa Western and Central', 'Angola', 'Albania', 'Andorra',\n       'Arab World', 'United Arab Emirates', 'Argentina',\n       ...\n       'Korea, Rep.', 'Kuwait',\n       'Latin America & Caribbean (excluding high income)', 'Lao PDR',\n       'Lebanon', 'Liberia', 'Libya', 'St. Lucia', 'Latin America & Caribbean',\n       'Least developed countries: UN classification'],\n      dtype='object', length=136)"
     },
     "execution_count": 146,
     "metadata": {},
     "output_type": "execute_result"
    }
   ],
   "source": [
    "ind1 = data1.index\n",
    "ind2 = data2.index\n",
    "ind1"
   ],
   "metadata": {
    "collapsed": false,
    "pycharm": {
     "name": "#%%\n"
    }
   }
  },
  {
   "cell_type": "code",
   "execution_count": 147,
   "outputs": [
    {
     "data": {
      "text/plain": "Index(['Low income', 'Liechtenstein', 'Sri Lanka', 'Lower middle income',\n       'Low & middle income', 'Lesotho', 'Late-demographic dividend',\n       'Lithuania', 'Luxembourg', 'Latvia',\n       ...\n       'Virgin Islands (U.S.)', 'Vietnam', 'Vanuatu', 'World', 'Samoa',\n       'Kosovo', 'Yemen, Rep.', 'South Africa', 'Zambia', 'Zimbabwe'],\n      dtype='object', length=130)"
     },
     "execution_count": 147,
     "metadata": {},
     "output_type": "execute_result"
    }
   ],
   "source": [
    "ind2"
   ],
   "metadata": {
    "collapsed": false,
    "pycharm": {
     "name": "#%%\n"
    }
   }
  },
  {
   "cell_type": "code",
   "execution_count": 148,
   "outputs": [
    {
     "data": {
      "text/plain": "['Aruba',\n 'Africa Eastern and Southern',\n 'Afghanistan',\n 'Africa Western and Central',\n 'Angola',\n 'Albania',\n 'Andorra',\n 'Arab World',\n 'United Arab Emirates',\n 'Argentina',\n 'Armenia',\n 'American Samoa',\n 'Antigua and Barbuda',\n 'Australia',\n 'Austria',\n 'Azerbaijan',\n 'Burundi',\n 'Belgium',\n 'Benin',\n 'Burkina Faso',\n 'Bangladesh',\n 'Bulgaria',\n 'Bahrain',\n 'Bahamas, The',\n 'Bosnia and Herzegovina',\n 'Belarus',\n 'Belize',\n 'Bermuda',\n 'Bolivia',\n 'Brazil',\n 'Barbados',\n 'Brunei Darussalam',\n 'Bhutan',\n 'Botswana',\n 'Central African Republic',\n 'Canada',\n 'Central Europe and the Baltics',\n 'Switzerland',\n 'Channel Islands',\n 'Chile',\n 'China',\n \"Cote d'Ivoire\",\n 'Cameroon',\n 'Congo, Dem. Rep.',\n 'Congo, Rep.',\n 'Colombia',\n 'Comoros',\n 'Cabo Verde',\n 'Costa Rica',\n 'Caribbean small states',\n 'Cuba',\n 'Curacao',\n 'Cayman Islands',\n 'Cyprus',\n 'Czech Republic',\n 'Germany',\n 'Djibouti',\n 'Dominica',\n 'Denmark',\n 'Dominican Republic',\n 'Algeria',\n 'East Asia & Pacific (excluding high income)',\n 'Early-demographic dividend',\n 'East Asia & Pacific',\n 'Europe & Central Asia (excluding high income)',\n 'Europe & Central Asia',\n 'Ecuador',\n 'Egypt, Arab Rep.',\n 'Euro area',\n 'Eritrea',\n 'Spain',\n 'Estonia',\n 'Ethiopia',\n 'European Union',\n 'Fragile and conflict affected situations',\n 'Finland',\n 'Fiji',\n 'France',\n 'Faroe Islands',\n 'Micronesia, Fed. Sts.',\n 'Gabon',\n 'United Kingdom',\n 'Georgia',\n 'Ghana',\n 'Gibraltar',\n 'Guinea',\n 'Gambia, The',\n 'Guinea-Bissau',\n 'Equatorial Guinea',\n 'Greece',\n 'Grenada',\n 'Greenland',\n 'Guatemala',\n 'Guam',\n 'Guyana',\n 'High income',\n 'Hong Kong SAR, China',\n 'Honduras',\n 'Heavily indebted poor countries (HIPC)',\n 'Croatia',\n 'Haiti',\n 'Hungary',\n 'IBRD only',\n 'IDA & IBRD total',\n 'IDA total',\n 'IDA blend',\n 'Indonesia',\n 'IDA only',\n 'Isle of Man',\n 'India',\n 'Not classified',\n 'Ireland',\n 'Iran, Islamic Rep.',\n 'Iraq',\n 'Iceland',\n 'Israel',\n 'Italy',\n 'Jamaica',\n 'Jordan',\n 'Japan',\n 'Kazakhstan',\n 'Kenya',\n 'Kyrgyz Republic',\n 'Cambodia',\n 'Kiribati',\n 'St. Kitts and Nevis',\n 'Korea, Rep.',\n 'Kuwait',\n 'Latin America & Caribbean (excluding high income)',\n 'Lao PDR',\n 'Lebanon',\n 'Liberia',\n 'Libya',\n 'St. Lucia',\n 'Latin America & Caribbean',\n 'Least developed countries: UN classification',\n 'Low income',\n 'Liechtenstein',\n 'Sri Lanka',\n 'Lower middle income',\n 'Low & middle income',\n 'Lesotho',\n 'Late-demographic dividend',\n 'Lithuania',\n 'Luxembourg',\n 'Latvia',\n 'Macao SAR, China',\n 'St. Martin (French part)',\n 'Morocco',\n 'Monaco',\n 'Moldova',\n 'Madagascar',\n 'Maldives',\n 'Middle East & North Africa',\n 'Mexico',\n 'Marshall Islands',\n 'Middle income',\n 'North Macedonia',\n 'Mali',\n 'Malta',\n 'Myanmar',\n 'Middle East & North Africa (excluding high income)',\n 'Montenegro',\n 'Mongolia',\n 'Northern Mariana Islands',\n 'Mozambique',\n 'Mauritania',\n 'Mauritius',\n 'Malawi',\n 'Malaysia',\n 'North America',\n 'Namibia',\n 'New Caledonia',\n 'Niger',\n 'Nigeria',\n 'Nicaragua',\n 'Netherlands',\n 'Norway',\n 'Nepal',\n 'Nauru',\n 'New Zealand',\n 'OECD members',\n 'Oman',\n 'Other small states',\n 'Pakistan',\n 'Panama',\n 'Peru',\n 'Philippines',\n 'Palau',\n 'Papua New Guinea',\n 'Poland',\n 'Pre-demographic dividend',\n 'Puerto Rico',\n \"Korea, Dem. People's Rep.\",\n 'Portugal',\n 'Paraguay',\n 'West Bank and Gaza',\n 'Pacific island small states',\n 'Post-demographic dividend',\n 'French Polynesia',\n 'Qatar',\n 'Romania',\n 'Russian Federation',\n 'Rwanda',\n 'South Asia',\n 'Saudi Arabia',\n 'Sudan',\n 'Senegal',\n 'Singapore',\n 'Solomon Islands',\n 'Sierra Leone',\n 'El Salvador',\n 'San Marino',\n 'Somalia',\n 'Serbia',\n 'Sub-Saharan Africa (excluding high income)',\n 'South Sudan',\n 'Sub-Saharan Africa',\n 'Small states',\n 'Sao Tome and Principe',\n 'Suriname',\n 'Slovak Republic',\n 'Slovenia',\n 'Sweden',\n 'Eswatini',\n 'Sint Maarten (Dutch part)',\n 'Seychelles',\n 'Syrian Arab Republic',\n 'Turks and Caicos Islands',\n 'Chad',\n 'East Asia & Pacific (IDA & IBRD countries)',\n 'Europe & Central Asia (IDA & IBRD countries)',\n 'Togo',\n 'Thailand',\n 'Tajikistan',\n 'Turkmenistan',\n 'Latin America & the Caribbean (IDA & IBRD countries)',\n 'Timor-Leste',\n 'Middle East & North Africa (IDA & IBRD countries)',\n 'Tonga',\n 'South Asia (IDA & IBRD)',\n 'Sub-Saharan Africa (IDA & IBRD countries)',\n 'Trinidad and Tobago',\n 'Tunisia',\n 'Turkiye',\n 'Tuvalu',\n 'Tanzania',\n 'Uganda',\n 'Ukraine',\n 'Upper middle income',\n 'Uruguay',\n 'United States',\n 'Uzbekistan',\n 'St. Vincent and the Grenadines',\n 'Venezuela, RB',\n 'British Virgin Islands',\n 'Virgin Islands (U.S.)',\n 'Vietnam',\n 'Vanuatu',\n 'World',\n 'Samoa',\n 'Kosovo',\n 'Yemen, Rep.',\n 'South Africa',\n 'Zambia',\n 'Zimbabwe']"
     },
     "execution_count": 148,
     "metadata": {},
     "output_type": "execute_result"
    }
   ],
   "source": [
    "ind_ = list(ind1) + list(ind2)\n",
    "ind_"
   ],
   "metadata": {
    "collapsed": false,
    "pycharm": {
     "name": "#%%\n"
    }
   }
  },
  {
   "cell_type": "code",
   "execution_count": 149,
   "outputs": [
    {
     "data": {
      "text/plain": "'ind_ = pd.Series(ind_)\\ndata3 = data1\\nind_'"
     },
     "execution_count": 149,
     "metadata": {},
     "output_type": "execute_result"
    }
   ],
   "source": [
    "'''ind_ = pd.Series(ind_)\n",
    "data3 = data1\n",
    "ind_'''"
   ],
   "metadata": {
    "collapsed": false,
    "pycharm": {
     "name": "#%%\n"
    }
   }
  },
  {
   "cell_type": "code",
   "execution_count": 150,
   "outputs": [
    {
     "data": {
      "text/plain": "array([[ 4.01008198e-01,             nan],\n       [ 2.57246074e+00,  4.30366702e+00],\n       [ 2.30341213e+00,             nan],\n       [ 2.63629084e+00,  3.91479896e+00],\n       [ 3.19591551e+00,  7.00000005e-01],\n       [-9.26918062e-01,  8.54408325e+00],\n       [ 1.15121699e-01,  8.94941798e+00],\n       [ 1.93474613e+00,  3.53029406e+00],\n       [ 1.01284055e+00,             nan],\n       [ 9.47490959e-01,  1.02637609e+01],\n       [ 1.65021157e-01,  5.70000000e+00],\n       [-1.70444284e-01,             nan],\n       [ 8.13607938e-01,  5.27084884e+00],\n       [ 1.78832418e-01,  1.47516288e+00],\n       [ 4.41053528e-01,  4.48396921e+00],\n       [ 5.14776736e-01,  5.60003727e+00],\n       [ 3.02056285e+00,  1.79530000e+00],\n       [ 3.77319901e-01,  6.24472195e+00],\n       [ 2.66826235e+00,  6.60000101e+00],\n       [ 2.80119140e+00,  6.90634167e+00],\n       [ 9.75322375e-01,  6.93867509e+00],\n       [-5.04441855e-01,  4.17787358e+00],\n       [ 2.70820330e+00,  2.22535124e+00],\n       [ 9.27917643e-01,  1.37197349e+01],\n       [-5.30419133e-01,  7.10223883e+00],\n       [-4.23477521e-01,  2.50674235e+00],\n       [ 1.81778782e+00,  9.75316324e+00],\n       [-4.07013155e-02,  1.85259003e+00],\n       [ 1.36058628e+00,  6.10580420e+00],\n       [ 6.72384396e-01,  4.61942162e+00],\n       [ 1.17201302e-01,  1.40000000e+00],\n       [ 9.21264970e-01, -1.60554515e+00],\n       [ 1.06838733e+00,             nan],\n       [ 1.92114970e+00,  1.13641364e+01],\n       [ 1.85082830e+00,  9.00000007e-01],\n       [ 5.47707006e-01,  4.56289386e+00],\n       [-4.92044076e-01,  5.56424854e+00],\n       [ 7.05679609e-01,  3.69215263e+00],\n       [ 7.93466264e-01,             nan],\n       [ 5.01731211e-01,  1.16682247e+01],\n       [ 8.92522000e-02,  8.10979258e+00],\n       [ 2.52804006e+00,  7.02150184e+00],\n       [ 2.52346070e+00,  3.48659924e+00],\n       [ 3.09642353e+00,  5.71220368e+00],\n       [ 2.48645731e+00, -3.50000000e+00],\n       [ 7.49806313e-01,  1.05632927e+01],\n       [ 2.14575387e+00,  2.34780357e+00],\n       [ 1.05789665e+00,  6.95244869e+00],\n       [ 8.78306567e-01,  7.57956530e+00],\n       [ 5.28600669e-01,  5.15433915e+00],\n       [-8.05330736e-02,             nan],\n       [-1.67779125e+00,             nan],\n       [ 1.17685789e+00,             nan],\n       [ 6.79092430e-01,  5.51268536e+00],\n       [ 5.22211182e-02,  3.34265301e+00],\n       [-3.79890201e-02,  2.89260243e+00],\n       [ 1.42651471e+00,  4.30966145e+00],\n       [ 2.51104784e-01,  6.53574657e+00],\n       [ 4.33414489e-01,  4.69343302e+00],\n       [ 9.70669524e-01,  1.22719902e+01],\n       [ 1.73080657e+00,  3.84779349e+00],\n       [ 3.82062241e-01,  7.26715685e+00],\n       [ 1.25336104e+00,  6.75252145e+00],\n       [ 3.00873335e-01,  5.75940214e+00],\n       [ 2.32701752e-01,  6.89740101e+00],\n       [ 8.42560337e-02,  5.80419959e+00],\n       [ 1.38140899e+00,  4.23525124e+00],\n       [ 1.86258212e+00,  3.32674209e+00],\n       [-4.13803743e-02,  5.39770788e+00],\n       [            nan,             nan],\n       [-7.75836112e-02,  5.12945513e+00],\n       [-1.69253551e-02,  8.34945362e+00],\n       [ 2.50197331e+00,  5.63730301e+00],\n       [-1.19062663e-01,  5.38022448e+00],\n       [ 2.29148448e+00,  2.52544269e+00],\n       [ 2.19541912e-01,  3.47454718e+00],\n       [ 7.17487182e-01, -4.08142494e+00],\n       [ 1.77099191e-01,  6.96357079e+00],\n       [ 3.83995243e-01,             nan],\n       [ 1.06713339e+00, -3.18820993e+00],\n       [ 2.35776614e+00,  1.50535940e+00],\n       [ 3.65409887e-01,  7.44127309e+00],\n       [-3.79636607e-01,  1.03589427e+01],\n       [ 2.09921643e+00,  5.35647790e+00],\n       [ 0.00000000e+00,             nan],\n       [ 2.73726893e+00,  3.12323000e+00],\n       [ 2.86637560e+00,  5.62649914e+00],\n       [ 2.38455596e+00,  3.80000243e+00],\n       [ 3.28862715e+00, -9.45391900e-01],\n       [-3.36885796e-01,  8.33610201e+00],\n       [ 4.39845699e-01,  5.31632530e+00],\n       [ 5.06106194e-01,             nan],\n       [ 1.48031681e+00,  7.52762878e+00],\n       [ 8.26633848e-01,             nan],\n       [ 4.78157889e-01,  1.99272289e+01],\n       [ 5.55943098e-02,  5.10798986e+00],\n       [-9.11776749e-01,  6.41847110e+00],\n       [ 1.58646313e+00,  1.25340960e+01],\n       [ 2.67671747e+00,  4.59438259e+00],\n       [-3.74237675e+00,  1.04488725e+01],\n       [ 1.21295673e+00, -1.79823989e+00],\n       [-4.13802518e-01,  7.09661223e+00],\n       [ 6.75561417e-01,  7.13113339e+00],\n       [ 1.08903321e+00,  6.91194428e+00],\n       [ 2.26571383e+00,  4.08081566e+00],\n       [ 2.21615980e+00,  4.90586521e+00],\n       [ 1.03228497e+00,  3.69124011e+00],\n       [ 2.29079380e+00,  3.33876028e+00],\n       [ 4.43553373e-01,             nan],\n       [ 9.66660960e-01,  8.94796267e+00],\n       [            nan,             nan],\n       [ 8.49943363e-01,  1.34786580e+01],\n       [ 1.22566497e+00,             nan],\n       [ 2.35103263e+00,  2.78333544e+00],\n       [ 1.57889895e+00,  3.69979240e+00],\n       [ 1.60291067e+00,  8.18804046e+00],\n       [-6.46839479e-01,  6.64379019e+00],\n       [ 4.14550937e-01,  4.60000000e+00],\n       [ 6.43627453e-01,  2.20976477e+00],\n       [-4.59952416e-01,  1.62079553e+00],\n       [ 1.30791817e+00,  4.00000000e+00],\n       [ 2.23333202e+00,  7.51735539e+00],\n       [ 1.72219322e+00,  3.61061270e+00],\n       [ 1.35140736e+00,  3.02638936e+00],\n       [ 1.61276406e+00,             nan],\n       [ 6.63308846e-01, -1.02457864e+00],\n       [-1.76408651e-01,  4.02115847e+00],\n       [ 1.34876374e+00,             nan],\n       [ 8.95108072e-01,  6.43213926e+00],\n       [ 1.41664067e+00,  2.52835100e+00],\n       [-8.28142802e-01, -1.05193894e+01],\n       [ 2.39379229e+00,  4.00001000e+00],\n       [ 1.26179699e+00,  3.13724222e+01],\n       [ 4.19531632e-01,  6.59932736e+00],\n       [ 8.77414594e-01,  6.75237549e+00],\n       [ 2.30565471e+00,  2.29666423e+00]])"
     },
     "execution_count": 150,
     "metadata": {},
     "output_type": "execute_result"
    }
   ],
   "source": [
    "val1 = data1.values\n",
    "val1"
   ],
   "metadata": {
    "collapsed": false,
    "pycharm": {
     "name": "#%%\n"
    }
   }
  },
  {
   "cell_type": "code",
   "execution_count": 151,
   "outputs": [
    {
     "data": {
      "text/plain": "array([[ 4.01008198e-01,             nan],\n       [ 2.57246074e+00,  4.30366702e+00],\n       [ 2.30341213e+00,             nan],\n       [ 2.63629084e+00,  3.91479896e+00],\n       [ 3.19591551e+00,  7.00000005e-01],\n       [-9.26918062e-01,  8.54408325e+00],\n       [ 1.15121699e-01,  8.94941798e+00],\n       [ 1.93474613e+00,  3.53029406e+00],\n       [ 1.01284055e+00,             nan],\n       [ 9.47490959e-01,  1.02637609e+01],\n       [ 1.65021157e-01,  5.70000000e+00],\n       [-1.70444284e-01,             nan],\n       [ 8.13607938e-01,  5.27084884e+00],\n       [ 1.78832418e-01,  1.47516288e+00],\n       [ 4.41053528e-01,  4.48396921e+00],\n       [ 5.14776736e-01,  5.60003727e+00],\n       [ 3.02056285e+00,  1.79530000e+00],\n       [ 3.77319901e-01,  6.24472195e+00],\n       [ 2.66826235e+00,  6.60000101e+00],\n       [ 2.80119140e+00,  6.90634167e+00],\n       [ 9.75322375e-01,  6.93867509e+00],\n       [-5.04441855e-01,  4.17787358e+00],\n       [ 2.70820330e+00,  2.22535124e+00],\n       [ 9.27917643e-01,  1.37197349e+01],\n       [-5.30419133e-01,  7.10223883e+00],\n       [-4.23477521e-01,  2.50674235e+00],\n       [ 1.81778782e+00,  9.75316324e+00],\n       [-4.07013155e-02,  1.85259003e+00],\n       [ 1.36058628e+00,  6.10580420e+00],\n       [ 6.72384396e-01,  4.61942162e+00],\n       [ 1.17201302e-01,  1.40000000e+00],\n       [ 9.21264970e-01, -1.60554515e+00],\n       [ 1.06838733e+00,             nan],\n       [ 1.92114970e+00,  1.13641364e+01],\n       [ 1.85082830e+00,  9.00000007e-01],\n       [ 5.47707006e-01,  4.56289386e+00],\n       [-4.92044076e-01,  5.56424854e+00],\n       [ 7.05679609e-01,  3.69215263e+00],\n       [ 7.93466264e-01,             nan],\n       [ 5.01731211e-01,  1.16682247e+01],\n       [ 8.92522000e-02,  8.10979258e+00],\n       [ 2.52804006e+00,  7.02150184e+00],\n       [ 2.52346070e+00,  3.48659924e+00],\n       [ 3.09642353e+00,  5.71220368e+00],\n       [ 2.48645731e+00, -3.50000000e+00],\n       [ 7.49806313e-01,  1.05632927e+01],\n       [ 2.14575387e+00,  2.34780357e+00],\n       [ 1.05789665e+00,  6.95244869e+00],\n       [ 8.78306567e-01,  7.57956530e+00],\n       [ 5.28600669e-01,  5.15433915e+00],\n       [-8.05330736e-02,             nan],\n       [-1.67779125e+00,             nan],\n       [ 1.17685789e+00,             nan],\n       [ 6.79092430e-01,  5.51268536e+00],\n       [ 5.22211182e-02,  3.34265301e+00],\n       [-3.79890201e-02,  2.89260243e+00],\n       [ 1.42651471e+00,  4.30966145e+00],\n       [ 2.51104784e-01,  6.53574657e+00],\n       [ 4.33414489e-01,  4.69343302e+00],\n       [ 9.70669524e-01,  1.22719902e+01],\n       [ 1.73080657e+00,  3.84779349e+00],\n       [ 3.82062241e-01,  7.26715685e+00],\n       [ 1.25336104e+00,  6.75252145e+00],\n       [ 3.00873335e-01,  5.75940214e+00],\n       [ 2.32701752e-01,  6.89740101e+00],\n       [ 8.42560337e-02,  5.80419959e+00],\n       [ 1.38140899e+00,  4.23525124e+00],\n       [ 1.86258212e+00,  3.32674209e+00],\n       [-4.13803743e-02,  5.39770788e+00],\n       [            nan,             nan],\n       [-7.75836112e-02,  5.12945513e+00],\n       [-1.69253551e-02,  8.34945362e+00],\n       [ 2.50197331e+00,  5.63730301e+00],\n       [-1.19062663e-01,  5.38022448e+00],\n       [ 2.29148448e+00,  2.52544269e+00],\n       [ 2.19541912e-01,  3.47454718e+00],\n       [ 7.17487182e-01, -4.08142494e+00],\n       [ 1.77099191e-01,  6.96357079e+00],\n       [ 3.83995243e-01,             nan],\n       [ 1.06713339e+00, -3.18820993e+00],\n       [ 2.35776614e+00,  1.50535940e+00],\n       [ 3.65409887e-01,  7.44127309e+00],\n       [-3.79636607e-01,  1.03589427e+01],\n       [ 2.09921643e+00,  5.35647790e+00],\n       [ 0.00000000e+00,             nan],\n       [ 2.73726893e+00,  3.12323000e+00],\n       [ 2.86637560e+00,  5.62649914e+00],\n       [ 2.38455596e+00,  3.80000243e+00],\n       [ 3.28862715e+00, -9.45391900e-01],\n       [-3.36885796e-01,  8.33610201e+00],\n       [ 4.39845699e-01,  5.31632530e+00],\n       [ 5.06106194e-01,             nan],\n       [ 1.48031681e+00,  7.52762878e+00],\n       [ 8.26633848e-01,             nan],\n       [ 4.78157889e-01,  1.99272289e+01],\n       [ 5.55943098e-02,  5.10798986e+00],\n       [-9.11776749e-01,  6.41847110e+00],\n       [ 1.58646313e+00,  1.25340960e+01],\n       [ 2.67671747e+00,  4.59438259e+00],\n       [-3.74237675e+00,  1.04488725e+01],\n       [ 1.21295673e+00, -1.79823989e+00],\n       [-4.13802518e-01,  7.09661223e+00],\n       [ 6.75561417e-01,  7.13113339e+00],\n       [ 1.08903321e+00,  6.91194428e+00],\n       [ 2.26571383e+00,  4.08081566e+00],\n       [ 2.21615980e+00,  4.90586521e+00],\n       [ 1.03228497e+00,  3.69124011e+00],\n       [ 2.29079380e+00,  3.33876028e+00],\n       [ 4.43553373e-01,             nan],\n       [ 9.66660960e-01,  8.94796267e+00],\n       [            nan,             nan],\n       [ 8.49943363e-01,  1.34786580e+01],\n       [ 1.22566497e+00,             nan],\n       [ 2.35103263e+00,  2.78333544e+00],\n       [ 1.57889895e+00,  3.69979240e+00],\n       [ 1.60291067e+00,  8.18804046e+00],\n       [-6.46839479e-01,  6.64379019e+00],\n       [ 4.14550937e-01,  4.60000000e+00],\n       [ 6.43627453e-01,  2.20976477e+00],\n       [-4.59952416e-01,  1.62079553e+00],\n       [ 1.30791817e+00,  4.00000000e+00],\n       [ 2.23333202e+00,  7.51735539e+00],\n       [ 1.72219322e+00,  3.61061270e+00],\n       [ 1.35140736e+00,  3.02638936e+00],\n       [ 1.61276406e+00,             nan],\n       [ 6.63308846e-01, -1.02457864e+00],\n       [-1.76408651e-01,  4.02115847e+00],\n       [ 1.34876374e+00,             nan],\n       [ 8.95108072e-01,  6.43213926e+00],\n       [ 1.41664067e+00,  2.52835100e+00],\n       [-8.28142802e-01, -1.05193894e+01],\n       [ 2.39379229e+00,  4.00001000e+00],\n       [ 1.26179699e+00,  3.13724222e+01],\n       [ 4.19531632e-01,  6.59932736e+00],\n       [ 8.77414594e-01,  6.75237549e+00],\n       [ 2.30565471e+00,  2.29666423e+00]])"
     },
     "execution_count": 151,
     "metadata": {},
     "output_type": "execute_result"
    }
   ],
   "source": [
    "val2 = data1.values\n",
    "val2"
   ],
   "metadata": {
    "collapsed": false,
    "pycharm": {
     "name": "#%%\n"
    }
   }
  },
  {
   "cell_type": "code",
   "execution_count": 152,
   "outputs": [
    {
     "data": {
      "text/plain": "'lnx_1 = len(ind1)\\nlny_1 = len(col1)\\nl1 = []\\nfor i in range(lnx_1):\\n    l0 = []\\n    for j in range(lny_1):\\n        l0.append(val1[i][j])\\n    l1.append(l0)\\nlnx_2 = len(ind2)\\nlny_2 = len(col2)\\nl2 = []\\nfor i in range(lnx_2):\\n    l00 = []\\n    for j in range(lny_2):\\n        l00.append(val2[i][j])\\n    l2.append(l00)\\n\\nl1 + l2'"
     },
     "execution_count": 152,
     "metadata": {},
     "output_type": "execute_result"
    }
   ],
   "source": [
    "col1 = data1.columns\n",
    "col2 = data2.columns\n",
    "'''lnx_1 = len(ind1)\n",
    "lny_1 = len(col1)\n",
    "l1 = []\n",
    "for i in range(lnx_1):\n",
    "    l0 = []\n",
    "    for j in range(lny_1):\n",
    "        l0.append(val1[i][j])\n",
    "    l1.append(l0)\n",
    "lnx_2 = len(ind2)\n",
    "lny_2 = len(col2)\n",
    "l2 = []\n",
    "for i in range(lnx_2):\n",
    "    l00 = []\n",
    "    for j in range(lny_2):\n",
    "        l00.append(val2[i][j])\n",
    "    l2.append(l00)\n",
    "\n",
    "l1 + l2'''"
   ],
   "metadata": {
    "collapsed": false,
    "pycharm": {
     "name": "#%%\n"
    }
   }
  },
  {
   "cell_type": "code",
   "execution_count": 153,
   "outputs": [],
   "source": [
    "def eqauly_data(data_1, data_2):\n",
    "    assert len(data_1) == len(data_2)\n",
    "    b = 1\n",
    "    for i in range(len(data_1)):\n",
    "        if data_1[i] == data_2[i]:\n",
    "            b *= 1\n",
    "        else:\n",
    "            b *= 0\n",
    "    return bool(b)"
   ],
   "metadata": {
    "collapsed": false,
    "pycharm": {
     "name": "#%%\n"
    }
   }
  },
  {
   "cell_type": "code",
   "execution_count": 153,
   "outputs": [],
   "source": [],
   "metadata": {
    "collapsed": false,
    "pycharm": {
     "name": "#%%\n"
    }
   }
  },
  {
   "cell_type": "code",
   "execution_count": 154,
   "outputs": [],
   "source": [
    "def concat(data_1: pd.core.series.Series, data_2: pd.core.series.Series, axis: int):\n",
    "    col_1 = data_1.columns\n",
    "    col_2 = data_2.columns\n",
    "    ind_1 = data_1.index\n",
    "    ind_2 = data_2.index\n",
    "    val_1 = data_1.values\n",
    "    val_2 = data_2.values\n",
    "    lnx_1 = len(ind_1)\n",
    "    lny_1 = len(col_1)\n",
    "    lnx_2 = len(ind2)\n",
    "    lny_2 = len(col2)\n",
    "    if axis == 0:\n",
    "        assert len(data_1.columns) == len(data_2.columns)\n",
    "    if axis == 0:\n",
    "\n",
    "        assert eqauly_data(col_1, col_2)\n",
    "\n",
    "        ind = list(ind_1) + list(ind_2)\n",
    "        ind = pd.Series(ind)\n",
    "        #data_2.rename(columns=change_column(data_1, data_2), inplace=True)\n",
    "        l1 = []\n",
    "        for i in range(lnx_1 + lnx_2):\n",
    "            l0 = []\n",
    "            for j in range(lny_1):\n",
    "                if i < lnx_1:\n",
    "                    l0.append(val1[i][j])\n",
    "                else:\n",
    "                    i2=i-lnx_1\n",
    "                    l0.append(val_2[i2][j])\n",
    "            l1.append(l0)\n",
    "        val = np.array(l1)\n",
    "        return pd.DataFrame(val, index=ind_, columns=col1)\n",
    "    if axis == 1:\n",
    "        assert len(data_1.index) == len(data_2.index)\n",
    "        assert eqauly_data(ind_1, ind_2)\n",
    "        col_a = list(col_1) + list(col_2)\n",
    "        col_a = pd.Series(col_a)\n",
    "        l1 = []\n",
    "        for i in range(lnx_1):\n",
    "            l0 = []\n",
    "            for j in range(lny_1 + lny_2):\n",
    "                if j < lny_1:\n",
    "                    l0.append(val_1[i][j])\n",
    "                else:\n",
    "                    j2=j-lny_1\n",
    "                    l0.append(val_2[i][j])\n",
    "            l1.append(l0)\n",
    "        val = np.array(l1)\n",
    "        return pd.DataFrame(val, index=ind_, columns=col1)"
   ],
   "metadata": {
    "collapsed": false,
    "pycharm": {
     "name": "#%%\n"
    }
   }
  },
  {
   "cell_type": "code",
   "execution_count": 155,
   "outputs": [
    {
     "data": {
      "text/plain": "                             pop_grow  gdp_growth\nAruba                        0.401008         NaN\nAfrica Eastern and Southern  2.572461    4.303667\nAfghanistan                  2.303412         NaN\nAfrica Western and Central   2.636291    3.914799\nAngola                       3.195916    0.700000\n...                               ...         ...\nKosovo                       0.897901    9.127578\nYemen, Rep.                  2.204030   -2.061513\nSouth Africa                 1.228841    4.914603\nZambia                       2.877596    3.572815\nZimbabwe                     1.530614    5.849420\n\n[266 rows x 2 columns]",
      "text/html": "<div>\n<style scoped>\n    .dataframe tbody tr th:only-of-type {\n        vertical-align: middle;\n    }\n\n    .dataframe tbody tr th {\n        vertical-align: top;\n    }\n\n    .dataframe thead th {\n        text-align: right;\n    }\n</style>\n<table border=\"1\" class=\"dataframe\">\n  <thead>\n    <tr style=\"text-align: right;\">\n      <th></th>\n      <th>pop_grow</th>\n      <th>gdp_growth</th>\n    </tr>\n  </thead>\n  <tbody>\n    <tr>\n      <th>Aruba</th>\n      <td>0.401008</td>\n      <td>NaN</td>\n    </tr>\n    <tr>\n      <th>Africa Eastern and Southern</th>\n      <td>2.572461</td>\n      <td>4.303667</td>\n    </tr>\n    <tr>\n      <th>Afghanistan</th>\n      <td>2.303412</td>\n      <td>NaN</td>\n    </tr>\n    <tr>\n      <th>Africa Western and Central</th>\n      <td>2.636291</td>\n      <td>3.914799</td>\n    </tr>\n    <tr>\n      <th>Angola</th>\n      <td>3.195916</td>\n      <td>0.700000</td>\n    </tr>\n    <tr>\n      <th>...</th>\n      <td>...</td>\n      <td>...</td>\n    </tr>\n    <tr>\n      <th>Kosovo</th>\n      <td>0.897901</td>\n      <td>9.127578</td>\n    </tr>\n    <tr>\n      <th>Yemen, Rep.</th>\n      <td>2.204030</td>\n      <td>-2.061513</td>\n    </tr>\n    <tr>\n      <th>South Africa</th>\n      <td>1.228841</td>\n      <td>4.914603</td>\n    </tr>\n    <tr>\n      <th>Zambia</th>\n      <td>2.877596</td>\n      <td>3.572815</td>\n    </tr>\n    <tr>\n      <th>Zimbabwe</th>\n      <td>1.530614</td>\n      <td>5.849420</td>\n    </tr>\n  </tbody>\n</table>\n<p>266 rows × 2 columns</p>\n</div>"
     },
     "execution_count": 155,
     "metadata": {},
     "output_type": "execute_result"
    }
   ],
   "source": [
    "data3 = concat(data1, data2, axis=0)\n",
    "data3"
   ],
   "metadata": {
    "collapsed": false,
    "pycharm": {
     "name": "#%%\n"
    }
   }
  },
  {
   "cell_type": "code",
   "execution_count": 155,
   "outputs": [],
   "source": [],
   "metadata": {
    "collapsed": false,
    "pycharm": {
     "name": "#%%\n"
    }
   }
  }
 ],
 "metadata": {
  "kernelspec": {
   "display_name": "Python 3",
   "language": "python",
   "name": "python3"
  },
  "language_info": {
   "codemirror_mode": {
    "name": "ipython",
    "version": 2
   },
   "file_extension": ".py",
   "mimetype": "text/x-python",
   "name": "python",
   "nbconvert_exporter": "python",
   "pygments_lexer": "ipython2",
   "version": "2.7.6"
  }
 },
 "nbformat": 4,
 "nbformat_minor": 0
}