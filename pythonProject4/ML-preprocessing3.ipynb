{
 "cells": [
  {
   "cell_type": "code",
   "execution_count": 1,
   "metadata": {
    "collapsed": true
   },
   "outputs": [],
   "source": [
    "import numpy as np\n",
    "import pandas as pd\n",
    "from sklearn import preprocessing as pr"
   ]
  },
  {
   "cell_type": "code",
   "execution_count": 2,
   "outputs": [
    {
     "data": {
      "text/plain": "                    Country Name Country Code         2021          2018\n0                          Aruba          ABW     107195.0  1.800000e+02\n1    Africa Eastern and Southern          AFE  694665117.0  1.512116e+07\n2                    Afghanistan          AFG   39835428.0  6.528600e+05\n3     Africa Western and Central          AFW  470898870.0  9.166270e+06\n4                         Angola          AGO   33933611.0  1.246700e+06\n..                           ...          ...          ...           ...\n261                       Kosovo          XKX    1806279.0           NaN\n262                  Yemen, Rep.          YEM   30490639.0  5.279700e+05\n263                 South Africa          ZAF   60041996.0  1.219090e+06\n264                       Zambia          ZMB   18920657.0  7.526100e+05\n265                     Zimbabwe          ZWE   15092171.0  3.907600e+05\n\n[266 rows x 4 columns]",
      "text/html": "<div>\n<style scoped>\n    .dataframe tbody tr th:only-of-type {\n        vertical-align: middle;\n    }\n\n    .dataframe tbody tr th {\n        vertical-align: top;\n    }\n\n    .dataframe thead th {\n        text-align: right;\n    }\n</style>\n<table border=\"1\" class=\"dataframe\">\n  <thead>\n    <tr style=\"text-align: right;\">\n      <th></th>\n      <th>Country Name</th>\n      <th>Country Code</th>\n      <th>2021</th>\n      <th>2018</th>\n    </tr>\n  </thead>\n  <tbody>\n    <tr>\n      <th>0</th>\n      <td>Aruba</td>\n      <td>ABW</td>\n      <td>107195.0</td>\n      <td>1.800000e+02</td>\n    </tr>\n    <tr>\n      <th>1</th>\n      <td>Africa Eastern and Southern</td>\n      <td>AFE</td>\n      <td>694665117.0</td>\n      <td>1.512116e+07</td>\n    </tr>\n    <tr>\n      <th>2</th>\n      <td>Afghanistan</td>\n      <td>AFG</td>\n      <td>39835428.0</td>\n      <td>6.528600e+05</td>\n    </tr>\n    <tr>\n      <th>3</th>\n      <td>Africa Western and Central</td>\n      <td>AFW</td>\n      <td>470898870.0</td>\n      <td>9.166270e+06</td>\n    </tr>\n    <tr>\n      <th>4</th>\n      <td>Angola</td>\n      <td>AGO</td>\n      <td>33933611.0</td>\n      <td>1.246700e+06</td>\n    </tr>\n    <tr>\n      <th>...</th>\n      <td>...</td>\n      <td>...</td>\n      <td>...</td>\n      <td>...</td>\n    </tr>\n    <tr>\n      <th>261</th>\n      <td>Kosovo</td>\n      <td>XKX</td>\n      <td>1806279.0</td>\n      <td>NaN</td>\n    </tr>\n    <tr>\n      <th>262</th>\n      <td>Yemen, Rep.</td>\n      <td>YEM</td>\n      <td>30490639.0</td>\n      <td>5.279700e+05</td>\n    </tr>\n    <tr>\n      <th>263</th>\n      <td>South Africa</td>\n      <td>ZAF</td>\n      <td>60041996.0</td>\n      <td>1.219090e+06</td>\n    </tr>\n    <tr>\n      <th>264</th>\n      <td>Zambia</td>\n      <td>ZMB</td>\n      <td>18920657.0</td>\n      <td>7.526100e+05</td>\n    </tr>\n    <tr>\n      <th>265</th>\n      <td>Zimbabwe</td>\n      <td>ZWE</td>\n      <td>15092171.0</td>\n      <td>3.907600e+05</td>\n    </tr>\n  </tbody>\n</table>\n<p>266 rows × 4 columns</p>\n</div>"
     },
     "execution_count": 2,
     "metadata": {},
     "output_type": "execute_result"
    }
   ],
   "source": [
    "path = 'C:\\\\Users\\\\ADMIN\\\\Desktop\\\\my project\\\\pop_area.xlsx'\n",
    "data = pd.read_excel(path, header=3)\n",
    "data"
   ],
   "metadata": {
    "collapsed": false,
    "pycharm": {
     "name": "#%%\n"
    }
   }
  },
  {
   "cell_type": "code",
   "execution_count": 3,
   "outputs": [
    {
     "data": {
      "text/plain": "                    Country Name         2021          2018\n0                          Aruba     107195.0  1.800000e+02\n1    Africa Eastern and Southern  694665117.0  1.512116e+07\n2                    Afghanistan   39835428.0  6.528600e+05\n3     Africa Western and Central  470898870.0  9.166270e+06\n4                         Angola   33933611.0  1.246700e+06\n..                           ...          ...           ...\n261                       Kosovo    1806279.0           NaN\n262                  Yemen, Rep.   30490639.0  5.279700e+05\n263                 South Africa   60041996.0  1.219090e+06\n264                       Zambia   18920657.0  7.526100e+05\n265                     Zimbabwe   15092171.0  3.907600e+05\n\n[266 rows x 3 columns]",
      "text/html": "<div>\n<style scoped>\n    .dataframe tbody tr th:only-of-type {\n        vertical-align: middle;\n    }\n\n    .dataframe tbody tr th {\n        vertical-align: top;\n    }\n\n    .dataframe thead th {\n        text-align: right;\n    }\n</style>\n<table border=\"1\" class=\"dataframe\">\n  <thead>\n    <tr style=\"text-align: right;\">\n      <th></th>\n      <th>Country Name</th>\n      <th>2021</th>\n      <th>2018</th>\n    </tr>\n  </thead>\n  <tbody>\n    <tr>\n      <th>0</th>\n      <td>Aruba</td>\n      <td>107195.0</td>\n      <td>1.800000e+02</td>\n    </tr>\n    <tr>\n      <th>1</th>\n      <td>Africa Eastern and Southern</td>\n      <td>694665117.0</td>\n      <td>1.512116e+07</td>\n    </tr>\n    <tr>\n      <th>2</th>\n      <td>Afghanistan</td>\n      <td>39835428.0</td>\n      <td>6.528600e+05</td>\n    </tr>\n    <tr>\n      <th>3</th>\n      <td>Africa Western and Central</td>\n      <td>470898870.0</td>\n      <td>9.166270e+06</td>\n    </tr>\n    <tr>\n      <th>4</th>\n      <td>Angola</td>\n      <td>33933611.0</td>\n      <td>1.246700e+06</td>\n    </tr>\n    <tr>\n      <th>...</th>\n      <td>...</td>\n      <td>...</td>\n      <td>...</td>\n    </tr>\n    <tr>\n      <th>261</th>\n      <td>Kosovo</td>\n      <td>1806279.0</td>\n      <td>NaN</td>\n    </tr>\n    <tr>\n      <th>262</th>\n      <td>Yemen, Rep.</td>\n      <td>30490639.0</td>\n      <td>5.279700e+05</td>\n    </tr>\n    <tr>\n      <th>263</th>\n      <td>South Africa</td>\n      <td>60041996.0</td>\n      <td>1.219090e+06</td>\n    </tr>\n    <tr>\n      <th>264</th>\n      <td>Zambia</td>\n      <td>18920657.0</td>\n      <td>7.526100e+05</td>\n    </tr>\n    <tr>\n      <th>265</th>\n      <td>Zimbabwe</td>\n      <td>15092171.0</td>\n      <td>3.907600e+05</td>\n    </tr>\n  </tbody>\n</table>\n<p>266 rows × 3 columns</p>\n</div>"
     },
     "execution_count": 3,
     "metadata": {},
     "output_type": "execute_result"
    }
   ],
   "source": [
    "data.drop(['Country Code'], axis=1, inplace=True)\n",
    "data"
   ],
   "metadata": {
    "collapsed": false,
    "pycharm": {
     "name": "#%%\n"
    }
   }
  },
  {
   "cell_type": "code",
   "execution_count": 4,
   "outputs": [
    {
     "data": {
      "text/plain": "                                            Country Name         2021  \\\nAruba                                              Aruba     107195.0   \nAfrica Eastern and Southern  Africa Eastern and Southern  694665117.0   \nAfghanistan                                  Afghanistan   39835428.0   \nAfrica Western and Central    Africa Western and Central  470898870.0   \nAngola                                            Angola   33933611.0   \n...                                                  ...          ...   \nKosovo                                            Kosovo    1806279.0   \nYemen, Rep.                                  Yemen, Rep.   30490639.0   \nSouth Africa                                South Africa   60041996.0   \nZambia                                            Zambia   18920657.0   \nZimbabwe                                        Zimbabwe   15092171.0   \n\n                                     2018  \nAruba                        1.800000e+02  \nAfrica Eastern and Southern  1.512116e+07  \nAfghanistan                  6.528600e+05  \nAfrica Western and Central   9.166270e+06  \nAngola                       1.246700e+06  \n...                                   ...  \nKosovo                                NaN  \nYemen, Rep.                  5.279700e+05  \nSouth Africa                 1.219090e+06  \nZambia                       7.526100e+05  \nZimbabwe                     3.907600e+05  \n\n[266 rows x 3 columns]",
      "text/html": "<div>\n<style scoped>\n    .dataframe tbody tr th:only-of-type {\n        vertical-align: middle;\n    }\n\n    .dataframe tbody tr th {\n        vertical-align: top;\n    }\n\n    .dataframe thead th {\n        text-align: right;\n    }\n</style>\n<table border=\"1\" class=\"dataframe\">\n  <thead>\n    <tr style=\"text-align: right;\">\n      <th></th>\n      <th>Country Name</th>\n      <th>2021</th>\n      <th>2018</th>\n    </tr>\n  </thead>\n  <tbody>\n    <tr>\n      <th>Aruba</th>\n      <td>Aruba</td>\n      <td>107195.0</td>\n      <td>1.800000e+02</td>\n    </tr>\n    <tr>\n      <th>Africa Eastern and Southern</th>\n      <td>Africa Eastern and Southern</td>\n      <td>694665117.0</td>\n      <td>1.512116e+07</td>\n    </tr>\n    <tr>\n      <th>Afghanistan</th>\n      <td>Afghanistan</td>\n      <td>39835428.0</td>\n      <td>6.528600e+05</td>\n    </tr>\n    <tr>\n      <th>Africa Western and Central</th>\n      <td>Africa Western and Central</td>\n      <td>470898870.0</td>\n      <td>9.166270e+06</td>\n    </tr>\n    <tr>\n      <th>Angola</th>\n      <td>Angola</td>\n      <td>33933611.0</td>\n      <td>1.246700e+06</td>\n    </tr>\n    <tr>\n      <th>...</th>\n      <td>...</td>\n      <td>...</td>\n      <td>...</td>\n    </tr>\n    <tr>\n      <th>Kosovo</th>\n      <td>Kosovo</td>\n      <td>1806279.0</td>\n      <td>NaN</td>\n    </tr>\n    <tr>\n      <th>Yemen, Rep.</th>\n      <td>Yemen, Rep.</td>\n      <td>30490639.0</td>\n      <td>5.279700e+05</td>\n    </tr>\n    <tr>\n      <th>South Africa</th>\n      <td>South Africa</td>\n      <td>60041996.0</td>\n      <td>1.219090e+06</td>\n    </tr>\n    <tr>\n      <th>Zambia</th>\n      <td>Zambia</td>\n      <td>18920657.0</td>\n      <td>7.526100e+05</td>\n    </tr>\n    <tr>\n      <th>Zimbabwe</th>\n      <td>Zimbabwe</td>\n      <td>15092171.0</td>\n      <td>3.907600e+05</td>\n    </tr>\n  </tbody>\n</table>\n<p>266 rows × 3 columns</p>\n</div>"
     },
     "execution_count": 4,
     "metadata": {},
     "output_type": "execute_result"
    }
   ],
   "source": [
    "data.rename(index=data['Country Name'], inplace=True)\n",
    "data"
   ],
   "metadata": {
    "collapsed": false,
    "pycharm": {
     "name": "#%%\n"
    }
   }
  },
  {
   "cell_type": "code",
   "execution_count": 5,
   "outputs": [
    {
     "data": {
      "text/plain": "                                    2021          2018\nAruba                           107195.0  1.800000e+02\nAfrica Eastern and Southern  694665117.0  1.512116e+07\nAfghanistan                   39835428.0  6.528600e+05\nAfrica Western and Central   470898870.0  9.166270e+06\nAngola                        33933611.0  1.246700e+06\n...                                  ...           ...\nKosovo                         1806279.0           NaN\nYemen, Rep.                   30490639.0  5.279700e+05\nSouth Africa                  60041996.0  1.219090e+06\nZambia                        18920657.0  7.526100e+05\nZimbabwe                      15092171.0  3.907600e+05\n\n[266 rows x 2 columns]",
      "text/html": "<div>\n<style scoped>\n    .dataframe tbody tr th:only-of-type {\n        vertical-align: middle;\n    }\n\n    .dataframe tbody tr th {\n        vertical-align: top;\n    }\n\n    .dataframe thead th {\n        text-align: right;\n    }\n</style>\n<table border=\"1\" class=\"dataframe\">\n  <thead>\n    <tr style=\"text-align: right;\">\n      <th></th>\n      <th>2021</th>\n      <th>2018</th>\n    </tr>\n  </thead>\n  <tbody>\n    <tr>\n      <th>Aruba</th>\n      <td>107195.0</td>\n      <td>1.800000e+02</td>\n    </tr>\n    <tr>\n      <th>Africa Eastern and Southern</th>\n      <td>694665117.0</td>\n      <td>1.512116e+07</td>\n    </tr>\n    <tr>\n      <th>Afghanistan</th>\n      <td>39835428.0</td>\n      <td>6.528600e+05</td>\n    </tr>\n    <tr>\n      <th>Africa Western and Central</th>\n      <td>470898870.0</td>\n      <td>9.166270e+06</td>\n    </tr>\n    <tr>\n      <th>Angola</th>\n      <td>33933611.0</td>\n      <td>1.246700e+06</td>\n    </tr>\n    <tr>\n      <th>...</th>\n      <td>...</td>\n      <td>...</td>\n    </tr>\n    <tr>\n      <th>Kosovo</th>\n      <td>1806279.0</td>\n      <td>NaN</td>\n    </tr>\n    <tr>\n      <th>Yemen, Rep.</th>\n      <td>30490639.0</td>\n      <td>5.279700e+05</td>\n    </tr>\n    <tr>\n      <th>South Africa</th>\n      <td>60041996.0</td>\n      <td>1.219090e+06</td>\n    </tr>\n    <tr>\n      <th>Zambia</th>\n      <td>18920657.0</td>\n      <td>7.526100e+05</td>\n    </tr>\n    <tr>\n      <th>Zimbabwe</th>\n      <td>15092171.0</td>\n      <td>3.907600e+05</td>\n    </tr>\n  </tbody>\n</table>\n<p>266 rows × 2 columns</p>\n</div>"
     },
     "execution_count": 5,
     "metadata": {},
     "output_type": "execute_result"
    }
   ],
   "source": [
    "data.drop(['Country Name'], axis=1, inplace=True)\n",
    "data"
   ],
   "metadata": {
    "collapsed": false,
    "pycharm": {
     "name": "#%%\n"
    }
   }
  },
  {
   "cell_type": "code",
   "execution_count": 6,
   "outputs": [
    {
     "data": {
      "text/plain": "                              population          area\nAruba                           107195.0  1.800000e+02\nAfrica Eastern and Southern  694665117.0  1.512116e+07\nAfghanistan                   39835428.0  6.528600e+05\nAfrica Western and Central   470898870.0  9.166270e+06\nAngola                        33933611.0  1.246700e+06\n...                                  ...           ...\nKosovo                         1806279.0           NaN\nYemen, Rep.                   30490639.0  5.279700e+05\nSouth Africa                  60041996.0  1.219090e+06\nZambia                        18920657.0  7.526100e+05\nZimbabwe                      15092171.0  3.907600e+05\n\n[266 rows x 2 columns]",
      "text/html": "<div>\n<style scoped>\n    .dataframe tbody tr th:only-of-type {\n        vertical-align: middle;\n    }\n\n    .dataframe tbody tr th {\n        vertical-align: top;\n    }\n\n    .dataframe thead th {\n        text-align: right;\n    }\n</style>\n<table border=\"1\" class=\"dataframe\">\n  <thead>\n    <tr style=\"text-align: right;\">\n      <th></th>\n      <th>population</th>\n      <th>area</th>\n    </tr>\n  </thead>\n  <tbody>\n    <tr>\n      <th>Aruba</th>\n      <td>107195.0</td>\n      <td>1.800000e+02</td>\n    </tr>\n    <tr>\n      <th>Africa Eastern and Southern</th>\n      <td>694665117.0</td>\n      <td>1.512116e+07</td>\n    </tr>\n    <tr>\n      <th>Afghanistan</th>\n      <td>39835428.0</td>\n      <td>6.528600e+05</td>\n    </tr>\n    <tr>\n      <th>Africa Western and Central</th>\n      <td>470898870.0</td>\n      <td>9.166270e+06</td>\n    </tr>\n    <tr>\n      <th>Angola</th>\n      <td>33933611.0</td>\n      <td>1.246700e+06</td>\n    </tr>\n    <tr>\n      <th>...</th>\n      <td>...</td>\n      <td>...</td>\n    </tr>\n    <tr>\n      <th>Kosovo</th>\n      <td>1806279.0</td>\n      <td>NaN</td>\n    </tr>\n    <tr>\n      <th>Yemen, Rep.</th>\n      <td>30490639.0</td>\n      <td>5.279700e+05</td>\n    </tr>\n    <tr>\n      <th>South Africa</th>\n      <td>60041996.0</td>\n      <td>1.219090e+06</td>\n    </tr>\n    <tr>\n      <th>Zambia</th>\n      <td>18920657.0</td>\n      <td>7.526100e+05</td>\n    </tr>\n    <tr>\n      <th>Zimbabwe</th>\n      <td>15092171.0</td>\n      <td>3.907600e+05</td>\n    </tr>\n  </tbody>\n</table>\n<p>266 rows × 2 columns</p>\n</div>"
     },
     "execution_count": 6,
     "metadata": {},
     "output_type": "execute_result"
    }
   ],
   "source": [
    "data.rename(columns={'2021': 'population', '2018': 'area'}, inplace=True)\n",
    "data"
   ],
   "metadata": {
    "collapsed": false,
    "pycharm": {
     "name": "#%%\n"
    }
   }
  },
  {
   "cell_type": "code",
   "execution_count": 8,
   "outputs": [
    {
     "data": {
      "text/plain": "321089333.8787879"
     },
     "execution_count": 8,
     "metadata": {},
     "output_type": "execute_result"
    }
   ],
   "source": [
    "data.population.mean()"
   ],
   "metadata": {
    "collapsed": false,
    "pycharm": {
     "name": "#%%\n"
    }
   }
  },
  {
   "cell_type": "code",
   "execution_count": 13,
   "outputs": [
    {
     "data": {
      "text/plain": "                              population          area\nAruba                           107195.0  1.800000e+02\nAfrica Eastern and Southern  694665117.0  1.512116e+07\nAfghanistan                   39835428.0  6.528600e+05\nAfrica Western and Central   470898870.0  9.166270e+06\nAngola                        33933611.0  1.246700e+06\n...                                  ...           ...\nKosovo                         1806279.0  0.000000e+00\nYemen, Rep.                   30490639.0  5.279700e+05\nSouth Africa                  60041996.0  1.219090e+06\nZambia                        18920657.0  7.526100e+05\nZimbabwe                      15092171.0  3.907600e+05\n\n[266 rows x 2 columns]",
      "text/html": "<div>\n<style scoped>\n    .dataframe tbody tr th:only-of-type {\n        vertical-align: middle;\n    }\n\n    .dataframe tbody tr th {\n        vertical-align: top;\n    }\n\n    .dataframe thead th {\n        text-align: right;\n    }\n</style>\n<table border=\"1\" class=\"dataframe\">\n  <thead>\n    <tr style=\"text-align: right;\">\n      <th></th>\n      <th>population</th>\n      <th>area</th>\n    </tr>\n  </thead>\n  <tbody>\n    <tr>\n      <th>Aruba</th>\n      <td>107195.0</td>\n      <td>1.800000e+02</td>\n    </tr>\n    <tr>\n      <th>Africa Eastern and Southern</th>\n      <td>694665117.0</td>\n      <td>1.512116e+07</td>\n    </tr>\n    <tr>\n      <th>Afghanistan</th>\n      <td>39835428.0</td>\n      <td>6.528600e+05</td>\n    </tr>\n    <tr>\n      <th>Africa Western and Central</th>\n      <td>470898870.0</td>\n      <td>9.166270e+06</td>\n    </tr>\n    <tr>\n      <th>Angola</th>\n      <td>33933611.0</td>\n      <td>1.246700e+06</td>\n    </tr>\n    <tr>\n      <th>...</th>\n      <td>...</td>\n      <td>...</td>\n    </tr>\n    <tr>\n      <th>Kosovo</th>\n      <td>1806279.0</td>\n      <td>0.000000e+00</td>\n    </tr>\n    <tr>\n      <th>Yemen, Rep.</th>\n      <td>30490639.0</td>\n      <td>5.279700e+05</td>\n    </tr>\n    <tr>\n      <th>South Africa</th>\n      <td>60041996.0</td>\n      <td>1.219090e+06</td>\n    </tr>\n    <tr>\n      <th>Zambia</th>\n      <td>18920657.0</td>\n      <td>7.526100e+05</td>\n    </tr>\n    <tr>\n      <th>Zimbabwe</th>\n      <td>15092171.0</td>\n      <td>3.907600e+05</td>\n    </tr>\n  </tbody>\n</table>\n<p>266 rows × 2 columns</p>\n</div>"
     },
     "execution_count": 13,
     "metadata": {},
     "output_type": "execute_result"
    }
   ],
   "source": [
    "data.area.replace(np.nan, 0, inplace=True)\n",
    "data.population.replace(np.nan, data.population.mean(), inplace=True)\n",
    "data"
   ],
   "metadata": {
    "collapsed": false,
    "pycharm": {
     "name": "#%%\n"
    }
   }
  },
  {
   "cell_type": "code",
   "execution_count": 14,
   "outputs": [
    {
     "data": {
      "text/plain": "Eritrea           3.210893e+08\nNot classified    3.210893e+08\nName: population, dtype: float64"
     },
     "execution_count": 14,
     "metadata": {},
     "output_type": "execute_result"
    }
   ],
   "source": [
    "mask = data.population == data.population.mean()\n",
    "data.population[mask]"
   ],
   "metadata": {
    "collapsed": false,
    "pycharm": {
     "name": "#%%\n"
    }
   }
  },
  {
   "cell_type": "code",
   "execution_count": 15,
   "outputs": [
    {
     "data": {
      "text/plain": "                              population          area\nAruba                           107195.0  1.800000e+02\nAfrica Eastern and Southern  694665117.0  1.512116e+07\nAfghanistan                   39835428.0  6.528600e+05\nAfrica Western and Central   470898870.0  9.166270e+06\nAngola                        33933611.0  1.246700e+06\n...                                  ...           ...\nKosovo                         1806279.0  0.000000e+00\nYemen, Rep.                   30490639.0  5.279700e+05\nSouth Africa                  60041996.0  1.219090e+06\nZambia                        18920657.0  7.526100e+05\nZimbabwe                      15092171.0  3.907600e+05\n\n[265 rows x 2 columns]",
      "text/html": "<div>\n<style scoped>\n    .dataframe tbody tr th:only-of-type {\n        vertical-align: middle;\n    }\n\n    .dataframe tbody tr th {\n        vertical-align: top;\n    }\n\n    .dataframe thead th {\n        text-align: right;\n    }\n</style>\n<table border=\"1\" class=\"dataframe\">\n  <thead>\n    <tr style=\"text-align: right;\">\n      <th></th>\n      <th>population</th>\n      <th>area</th>\n    </tr>\n  </thead>\n  <tbody>\n    <tr>\n      <th>Aruba</th>\n      <td>107195.0</td>\n      <td>1.800000e+02</td>\n    </tr>\n    <tr>\n      <th>Africa Eastern and Southern</th>\n      <td>694665117.0</td>\n      <td>1.512116e+07</td>\n    </tr>\n    <tr>\n      <th>Afghanistan</th>\n      <td>39835428.0</td>\n      <td>6.528600e+05</td>\n    </tr>\n    <tr>\n      <th>Africa Western and Central</th>\n      <td>470898870.0</td>\n      <td>9.166270e+06</td>\n    </tr>\n    <tr>\n      <th>Angola</th>\n      <td>33933611.0</td>\n      <td>1.246700e+06</td>\n    </tr>\n    <tr>\n      <th>...</th>\n      <td>...</td>\n      <td>...</td>\n    </tr>\n    <tr>\n      <th>Kosovo</th>\n      <td>1806279.0</td>\n      <td>0.000000e+00</td>\n    </tr>\n    <tr>\n      <th>Yemen, Rep.</th>\n      <td>30490639.0</td>\n      <td>5.279700e+05</td>\n    </tr>\n    <tr>\n      <th>South Africa</th>\n      <td>60041996.0</td>\n      <td>1.219090e+06</td>\n    </tr>\n    <tr>\n      <th>Zambia</th>\n      <td>18920657.0</td>\n      <td>7.526100e+05</td>\n    </tr>\n    <tr>\n      <th>Zimbabwe</th>\n      <td>15092171.0</td>\n      <td>3.907600e+05</td>\n    </tr>\n  </tbody>\n</table>\n<p>265 rows × 2 columns</p>\n</div>"
     },
     "execution_count": 15,
     "metadata": {},
     "output_type": "execute_result"
    }
   ],
   "source": [
    "data.drop(['Not classified'], axis=0, inplace=True)\n",
    "data"
   ],
   "metadata": {
    "collapsed": false,
    "pycharm": {
     "name": "#%%\n"
    }
   }
  },
  {
   "cell_type": "markdown",
   "source": [
    "data.fillna(method='ffill'))"
   ],
   "metadata": {
    "collapsed": false
   }
  },
  {
   "cell_type": "code",
   "execution_count": 16,
   "outputs": [],
   "source": [],
   "metadata": {
    "collapsed": false,
    "pycharm": {
     "name": "#%%\n"
    }
   }
  },
  {
   "cell_type": "code",
   "execution_count": null,
   "outputs": [],
   "source": [],
   "metadata": {
    "collapsed": false,
    "pycharm": {
     "name": "#%%\n"
    }
   }
  }
 ],
 "metadata": {
  "kernelspec": {
   "display_name": "Python 3",
   "language": "python",
   "name": "python3"
  },
  "language_info": {
   "codemirror_mode": {
    "name": "ipython",
    "version": 2
   },
   "file_extension": ".py",
   "mimetype": "text/x-python",
   "name": "python",
   "nbconvert_exporter": "python",
   "pygments_lexer": "ipython2",
   "version": "2.7.6"
  }
 },
 "nbformat": 4,
 "nbformat_minor": 0
}