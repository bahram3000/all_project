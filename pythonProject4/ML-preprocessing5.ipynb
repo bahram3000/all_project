{
 "cells": [
  {
   "cell_type": "code",
   "execution_count": 258,
   "outputs": [],
   "source": [
    "import numpy as np\n",
    "import pandas as pd"
   ],
   "metadata": {
    "collapsed": false,
    "pycharm": {
     "name": "#%%\n"
    }
   }
  },
  {
   "cell_type": "code",
   "execution_count": 259,
   "outputs": [],
   "source": [
    "path = 'C:\\\\Users\\\\ADMIN\\\\Desktop\\\\my project\\\\ex1.xlsx'"
   ],
   "metadata": {
    "collapsed": false,
    "pycharm": {
     "name": "#%%\n"
    }
   }
  },
  {
   "cell_type": "code",
   "execution_count": 260,
   "outputs": [
    {
     "data": {
      "text/plain": "   Unnamed: 0  A  B  C\n0           1  a  A  a\n1           2  a  A  a\n2           3  a  A  B\n3           4  a  B  B\n4           5  b  B  b\n5           6  b  B  b\n6           7  b  B  A\n7           7  b  A  A",
      "text/html": "<div>\n<style scoped>\n    .dataframe tbody tr th:only-of-type {\n        vertical-align: middle;\n    }\n\n    .dataframe tbody tr th {\n        vertical-align: top;\n    }\n\n    .dataframe thead th {\n        text-align: right;\n    }\n</style>\n<table border=\"1\" class=\"dataframe\">\n  <thead>\n    <tr style=\"text-align: right;\">\n      <th></th>\n      <th>Unnamed: 0</th>\n      <th>A</th>\n      <th>B</th>\n      <th>C</th>\n    </tr>\n  </thead>\n  <tbody>\n    <tr>\n      <th>0</th>\n      <td>1</td>\n      <td>a</td>\n      <td>A</td>\n      <td>a</td>\n    </tr>\n    <tr>\n      <th>1</th>\n      <td>2</td>\n      <td>a</td>\n      <td>A</td>\n      <td>a</td>\n    </tr>\n    <tr>\n      <th>2</th>\n      <td>3</td>\n      <td>a</td>\n      <td>A</td>\n      <td>B</td>\n    </tr>\n    <tr>\n      <th>3</th>\n      <td>4</td>\n      <td>a</td>\n      <td>B</td>\n      <td>B</td>\n    </tr>\n    <tr>\n      <th>4</th>\n      <td>5</td>\n      <td>b</td>\n      <td>B</td>\n      <td>b</td>\n    </tr>\n    <tr>\n      <th>5</th>\n      <td>6</td>\n      <td>b</td>\n      <td>B</td>\n      <td>b</td>\n    </tr>\n    <tr>\n      <th>6</th>\n      <td>7</td>\n      <td>b</td>\n      <td>B</td>\n      <td>A</td>\n    </tr>\n    <tr>\n      <th>7</th>\n      <td>7</td>\n      <td>b</td>\n      <td>A</td>\n      <td>A</td>\n    </tr>\n  </tbody>\n</table>\n</div>"
     },
     "execution_count": 260,
     "metadata": {},
     "output_type": "execute_result"
    }
   ],
   "source": [
    "data = pd.read_excel(path)\n",
    "data"
   ],
   "metadata": {
    "collapsed": false,
    "pycharm": {
     "name": "#%%\n"
    }
   }
  },
  {
   "cell_type": "code",
   "execution_count": 261,
   "outputs": [
    {
     "data": {
      "text/plain": "   A  B  C\n0  a  A  a\n1  a  A  a\n2  a  A  B\n3  a  B  B\n4  b  B  b\n5  b  B  b\n6  b  B  A\n7  b  A  A",
      "text/html": "<div>\n<style scoped>\n    .dataframe tbody tr th:only-of-type {\n        vertical-align: middle;\n    }\n\n    .dataframe tbody tr th {\n        vertical-align: top;\n    }\n\n    .dataframe thead th {\n        text-align: right;\n    }\n</style>\n<table border=\"1\" class=\"dataframe\">\n  <thead>\n    <tr style=\"text-align: right;\">\n      <th></th>\n      <th>A</th>\n      <th>B</th>\n      <th>C</th>\n    </tr>\n  </thead>\n  <tbody>\n    <tr>\n      <th>0</th>\n      <td>a</td>\n      <td>A</td>\n      <td>a</td>\n    </tr>\n    <tr>\n      <th>1</th>\n      <td>a</td>\n      <td>A</td>\n      <td>a</td>\n    </tr>\n    <tr>\n      <th>2</th>\n      <td>a</td>\n      <td>A</td>\n      <td>B</td>\n    </tr>\n    <tr>\n      <th>3</th>\n      <td>a</td>\n      <td>B</td>\n      <td>B</td>\n    </tr>\n    <tr>\n      <th>4</th>\n      <td>b</td>\n      <td>B</td>\n      <td>b</td>\n    </tr>\n    <tr>\n      <th>5</th>\n      <td>b</td>\n      <td>B</td>\n      <td>b</td>\n    </tr>\n    <tr>\n      <th>6</th>\n      <td>b</td>\n      <td>B</td>\n      <td>A</td>\n    </tr>\n    <tr>\n      <th>7</th>\n      <td>b</td>\n      <td>A</td>\n      <td>A</td>\n    </tr>\n  </tbody>\n</table>\n</div>"
     },
     "execution_count": 261,
     "metadata": {},
     "output_type": "execute_result"
    }
   ],
   "source": [
    "data.drop(['Unnamed: 0'], axis=1, inplace=True)\n",
    "data"
   ],
   "metadata": {
    "collapsed": false,
    "pycharm": {
     "name": "#%%\n"
    }
   }
  },
  {
   "cell_type": "markdown",
   "source": [
    "for i in data.index:\n",
    "    for j in data.index:\n",
    "        if j < i:\n",
    "            b = False\n",
    "            for k in range(len(data.loc[i][:])):\n",
    "                if data.loc[i][:][k] == data.loc[j][:][k]:\n",
    "                    b = True\n",
    "                else:\n",
    "                    b = False\n",
    "            if b:\n",
    "                print(i, j, 'ok')"
   ],
   "metadata": {
    "collapsed": false
   }
  },
  {
   "cell_type": "code",
   "execution_count": 262,
   "outputs": [],
   "source": [
    "def eqauly_data(data1, data2):\n",
    "    assert len(data1) == len(data2)\n",
    "    b = 1\n",
    "    for i in range(len(data1)):\n",
    "        if data1[i] == data2[i]:\n",
    "            b *= 1\n",
    "        else:\n",
    "            b *= 0\n",
    "    return bool(b)"
   ],
   "metadata": {
    "collapsed": false,
    "pycharm": {
     "name": "#%%\n"
    }
   }
  },
  {
   "cell_type": "code",
   "execution_count": 263,
   "outputs": [
    {
     "data": {
      "text/plain": "True"
     },
     "execution_count": 263,
     "metadata": {},
     "output_type": "execute_result"
    }
   ],
   "source": [
    "eqauly_data(data.loc[1][:], data.loc[0][:])"
   ],
   "metadata": {
    "collapsed": false,
    "pycharm": {
     "name": "#%%\n"
    }
   }
  },
  {
   "cell_type": "code",
   "execution_count": 264,
   "outputs": [
    {
     "data": {
      "text/plain": "   index  A  B  C\n0      0  a  A  a\n1      1  a  A  a\n2      2  a  A  B\n3      3  a  B  B\n4      4  b  B  b\n5      5  b  B  b\n6      6  b  B  A\n7      7  b  A  A",
      "text/html": "<div>\n<style scoped>\n    .dataframe tbody tr th:only-of-type {\n        vertical-align: middle;\n    }\n\n    .dataframe tbody tr th {\n        vertical-align: top;\n    }\n\n    .dataframe thead th {\n        text-align: right;\n    }\n</style>\n<table border=\"1\" class=\"dataframe\">\n  <thead>\n    <tr style=\"text-align: right;\">\n      <th></th>\n      <th>index</th>\n      <th>A</th>\n      <th>B</th>\n      <th>C</th>\n    </tr>\n  </thead>\n  <tbody>\n    <tr>\n      <th>0</th>\n      <td>0</td>\n      <td>a</td>\n      <td>A</td>\n      <td>a</td>\n    </tr>\n    <tr>\n      <th>1</th>\n      <td>1</td>\n      <td>a</td>\n      <td>A</td>\n      <td>a</td>\n    </tr>\n    <tr>\n      <th>2</th>\n      <td>2</td>\n      <td>a</td>\n      <td>A</td>\n      <td>B</td>\n    </tr>\n    <tr>\n      <th>3</th>\n      <td>3</td>\n      <td>a</td>\n      <td>B</td>\n      <td>B</td>\n    </tr>\n    <tr>\n      <th>4</th>\n      <td>4</td>\n      <td>b</td>\n      <td>B</td>\n      <td>b</td>\n    </tr>\n    <tr>\n      <th>5</th>\n      <td>5</td>\n      <td>b</td>\n      <td>B</td>\n      <td>b</td>\n    </tr>\n    <tr>\n      <th>6</th>\n      <td>6</td>\n      <td>b</td>\n      <td>B</td>\n      <td>A</td>\n    </tr>\n    <tr>\n      <th>7</th>\n      <td>7</td>\n      <td>b</td>\n      <td>A</td>\n      <td>A</td>\n    </tr>\n  </tbody>\n</table>\n</div>"
     },
     "execution_count": 264,
     "metadata": {},
     "output_type": "execute_result"
    }
   ],
   "source": [
    "data.reset_index()\n"
   ],
   "metadata": {
    "collapsed": false,
    "pycharm": {
     "name": "#%%\n"
    }
   }
  },
  {
   "cell_type": "code",
   "execution_count": 265,
   "outputs": [],
   "source": [
    "def reset_ind(data1, axis1: int):\n",
    "    dic = {}\n",
    "    if axis1 == 0:\n",
    "        ind = data1.index\n",
    "        ln = len(ind)\n",
    "        l = [str(i) for i in range(ln)]\n",
    "        for i in range(ln):\n",
    "            dic[ind[i]] = l[i]\n",
    "        return dic\n",
    "    if axis1 == 1:\n",
    "        col = data1.columns\n",
    "        ln = len(col)\n",
    "        l = [str(i) for i in range(ln)]\n",
    "        for i in range(ln):\n",
    "            dic[col[i]] = l[i]\n",
    "        return dic\n",
    "\n"
   ],
   "metadata": {
    "collapsed": false,
    "pycharm": {
     "name": "#%%\n"
    }
   }
  },
  {
   "cell_type": "code",
   "execution_count": 266,
   "outputs": [],
   "source": [
    "def reap(data1, axis1=int):\n",
    "    assert axis1 == 0 or axis1 == 1\n",
    "    c_data = data1\n",
    "    l_reap = []\n",
    "    c_data = c_data.rename(index=reset_ind(c_data, 0))\n",
    "    c_data = c_data.rename(columns=reset_ind(c_data, 1))\n",
    "    ln = len(c_data.index)\n",
    "    ln2 = len(c_data.columns)\n",
    "\n",
    "    if axis1 == 0:\n",
    "        for i in range(ln - 1, -1, -1):\n",
    "            for j in range(0, i):\n",
    "                #print('ax0', i, j)\n",
    "                #print(eqauly_data(c_data.loc[str(i)][:], c_data.loc[str(j)][:]))\n",
    "                if eqauly_data(c_data.loc[str(i)][:], c_data.loc[str(j)][:]):\n",
    "                    #print('row ok', i, j)\n",
    "                    l_reap.append((i, j))\n",
    "    elif axis1 == 1:\n",
    "        for i in range(ln2 - 1, -1, -1):\n",
    "            for j in range(0, i):\n",
    "                #print('ax1', i, j)\n",
    "                #print(eqauly_data(c_data[str(i)], c_data[str(j)]))\n",
    "                if eqauly_data(c_data[str(i)], c_data[str(j)]):\n",
    "                    #print('column ok', i, j)\n",
    "                    l_reap.append((i, j))\n",
    "    return l_reap\n"
   ],
   "metadata": {
    "collapsed": false,
    "pycharm": {
     "name": "#%%\n"
    }
   }
  },
  {
   "cell_type": "code",
   "execution_count": 266,
   "outputs": [],
   "source": [],
   "metadata": {
    "collapsed": false,
    "pycharm": {
     "name": "#%%\n"
    }
   }
  },
  {
   "cell_type": "code",
   "execution_count": 267,
   "outputs": [
    {
     "data": {
      "text/plain": "   A  B  C\n0  a  A  a\n1  a  A  a\n2  a  A  B\n3  a  B  B\n4  b  B  b\n5  b  B  b\n6  b  B  A\n7  b  A  A",
      "text/html": "<div>\n<style scoped>\n    .dataframe tbody tr th:only-of-type {\n        vertical-align: middle;\n    }\n\n    .dataframe tbody tr th {\n        vertical-align: top;\n    }\n\n    .dataframe thead th {\n        text-align: right;\n    }\n</style>\n<table border=\"1\" class=\"dataframe\">\n  <thead>\n    <tr style=\"text-align: right;\">\n      <th></th>\n      <th>A</th>\n      <th>B</th>\n      <th>C</th>\n    </tr>\n  </thead>\n  <tbody>\n    <tr>\n      <th>0</th>\n      <td>a</td>\n      <td>A</td>\n      <td>a</td>\n    </tr>\n    <tr>\n      <th>1</th>\n      <td>a</td>\n      <td>A</td>\n      <td>a</td>\n    </tr>\n    <tr>\n      <th>2</th>\n      <td>a</td>\n      <td>A</td>\n      <td>B</td>\n    </tr>\n    <tr>\n      <th>3</th>\n      <td>a</td>\n      <td>B</td>\n      <td>B</td>\n    </tr>\n    <tr>\n      <th>4</th>\n      <td>b</td>\n      <td>B</td>\n      <td>b</td>\n    </tr>\n    <tr>\n      <th>5</th>\n      <td>b</td>\n      <td>B</td>\n      <td>b</td>\n    </tr>\n    <tr>\n      <th>6</th>\n      <td>b</td>\n      <td>B</td>\n      <td>A</td>\n    </tr>\n    <tr>\n      <th>7</th>\n      <td>b</td>\n      <td>A</td>\n      <td>A</td>\n    </tr>\n  </tbody>\n</table>\n</div>"
     },
     "execution_count": 267,
     "metadata": {},
     "output_type": "execute_result"
    }
   ],
   "source": [
    "data"
   ],
   "metadata": {
    "collapsed": false,
    "pycharm": {
     "name": "#%%\n"
    }
   }
  },
  {
   "cell_type": "code",
   "execution_count": 268,
   "outputs": [
    {
     "data": {
      "text/plain": "A    b\nB    A\nC    A\nName: 7, dtype: object"
     },
     "execution_count": 268,
     "metadata": {},
     "output_type": "execute_result"
    }
   ],
   "source": [
    "data.loc[7][:]"
   ],
   "metadata": {
    "collapsed": false,
    "pycharm": {
     "name": "#%%\n"
    }
   }
  },
  {
   "cell_type": "code",
   "execution_count": 269,
   "outputs": [
    {
     "data": {
      "text/plain": "[(5, 4), (1, 0)]"
     },
     "execution_count": 269,
     "metadata": {},
     "output_type": "execute_result"
    }
   ],
   "source": [
    "reap(data, 0)"
   ],
   "metadata": {
    "collapsed": false,
    "pycharm": {
     "name": "#%%\n"
    }
   }
  },
  {
   "cell_type": "code",
   "execution_count": 271,
   "outputs": [
    {
     "data": {
      "text/plain": "[]"
     },
     "execution_count": 271,
     "metadata": {},
     "output_type": "execute_result"
    }
   ],
   "source": [
    "reap(data,1)"
   ],
   "metadata": {
    "collapsed": false,
    "pycharm": {
     "name": "#%%\n"
    }
   }
  },
  {
   "cell_type": "code",
   "execution_count": 272,
   "outputs": [
    {
     "data": {
      "text/plain": "0    False\n1     True\n2    False\n3    False\n4    False\n5     True\n6    False\n7    False\ndtype: bool"
     },
     "execution_count": 272,
     "metadata": {},
     "output_type": "execute_result"
    }
   ],
   "source": [
    "data.duplicated()\n"
   ],
   "metadata": {
    "collapsed": false,
    "pycharm": {
     "name": "#%%\n"
    }
   }
  },
  {
   "cell_type": "code",
   "execution_count": 273,
   "outputs": [
    {
     "data": {
      "text/plain": "   A  B  C\n0  a  A  a\n2  a  A  B\n3  a  B  B\n4  b  B  b\n6  b  B  A\n7  b  A  A",
      "text/html": "<div>\n<style scoped>\n    .dataframe tbody tr th:only-of-type {\n        vertical-align: middle;\n    }\n\n    .dataframe tbody tr th {\n        vertical-align: top;\n    }\n\n    .dataframe thead th {\n        text-align: right;\n    }\n</style>\n<table border=\"1\" class=\"dataframe\">\n  <thead>\n    <tr style=\"text-align: right;\">\n      <th></th>\n      <th>A</th>\n      <th>B</th>\n      <th>C</th>\n    </tr>\n  </thead>\n  <tbody>\n    <tr>\n      <th>0</th>\n      <td>a</td>\n      <td>A</td>\n      <td>a</td>\n    </tr>\n    <tr>\n      <th>2</th>\n      <td>a</td>\n      <td>A</td>\n      <td>B</td>\n    </tr>\n    <tr>\n      <th>3</th>\n      <td>a</td>\n      <td>B</td>\n      <td>B</td>\n    </tr>\n    <tr>\n      <th>4</th>\n      <td>b</td>\n      <td>B</td>\n      <td>b</td>\n    </tr>\n    <tr>\n      <th>6</th>\n      <td>b</td>\n      <td>B</td>\n      <td>A</td>\n    </tr>\n    <tr>\n      <th>7</th>\n      <td>b</td>\n      <td>A</td>\n      <td>A</td>\n    </tr>\n  </tbody>\n</table>\n</div>"
     },
     "execution_count": 273,
     "metadata": {},
     "output_type": "execute_result"
    }
   ],
   "source": [
    "data.drop_duplicates()"
   ],
   "metadata": {
    "collapsed": false,
    "pycharm": {
     "name": "#%%\n"
    }
   }
  },
  {
   "cell_type": "markdown",
   "source": [
    "data.drop_duplicates(['A'])"
   ],
   "metadata": {
    "collapsed": false
   }
  },
  {
   "cell_type": "code",
   "execution_count": 270,
   "outputs": [],
   "source": [],
   "metadata": {
    "collapsed": false,
    "pycharm": {
     "name": "#%%\n"
    }
   }
  },
  {
   "cell_type": "code",
   "execution_count": 270,
   "outputs": [],
   "source": [],
   "metadata": {
    "collapsed": false,
    "pycharm": {
     "name": "#%%\n"
    }
   }
  },
  {
   "cell_type": "code",
   "execution_count": 270,
   "outputs": [],
   "source": [],
   "metadata": {
    "collapsed": false,
    "pycharm": {
     "name": "#%%\n"
    }
   }
  },
  {
   "cell_type": "code",
   "execution_count": 270,
   "outputs": [],
   "source": [],
   "metadata": {
    "collapsed": false,
    "pycharm": {
     "name": "#%%\n"
    }
   }
  },
  {
   "cell_type": "code",
   "execution_count": 270,
   "outputs": [],
   "source": [],
   "metadata": {
    "collapsed": false,
    "pycharm": {
     "name": "#%%\n"
    }
   }
  },
  {
   "cell_type": "code",
   "execution_count": 270,
   "outputs": [],
   "source": [],
   "metadata": {
    "collapsed": false,
    "pycharm": {
     "name": "#%%\n"
    }
   }
  },
  {
   "cell_type": "code",
   "execution_count": 270,
   "outputs": [],
   "source": [],
   "metadata": {
    "collapsed": false,
    "pycharm": {
     "name": "#%%\n"
    }
   }
  },
  {
   "cell_type": "code",
   "execution_count": 270,
   "outputs": [],
   "source": [],
   "metadata": {
    "collapsed": false,
    "pycharm": {
     "name": "#%%\n"
    }
   }
  },
  {
   "cell_type": "code",
   "execution_count": 270,
   "outputs": [],
   "source": [],
   "metadata": {
    "collapsed": false,
    "pycharm": {
     "name": "#%%\n"
    }
   }
  }
 ],
 "metadata": {
  "kernelspec": {
   "display_name": "Python 3",
   "language": "python",
   "name": "python3"
  },
  "language_info": {
   "codemirror_mode": {
    "name": "ipython",
    "version": 2
   },
   "file_extension": ".py",
   "mimetype": "text/x-python",
   "name": "python",
   "nbconvert_exporter": "python",
   "pygments_lexer": "ipython2",
   "version": "2.7.6"
  }
 },
 "nbformat": 4,
 "nbformat_minor": 0
}