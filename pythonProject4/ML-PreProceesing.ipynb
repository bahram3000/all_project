{
 "cells": [
  {
   "cell_type": "code",
   "execution_count": 393,
   "metadata": {
    "collapsed": true
   },
   "outputs": [],
   "source": [
    "import numpy as np\n",
    "import pandas as pd\n",
    "from sklearn import preprocessing as pr"
   ]
  },
  {
   "cell_type": "code",
   "execution_count": 394,
   "outputs": [
    {
     "data": {
      "text/plain": "    year  infaltion  gdp growth        low       high  Unnamed: 5  Unnamed: 6  \\\n0   1371       24.4         3.3      410.0      488.0         NaN         NaN   \n1   1372       22.9        -1.5      378.0      447.0         NaN         NaN   \n2   1373       35.2        -1.7      427.0      929.0         NaN         NaN   \n3   1374       49.4         2.4      878.0     2108.0         NaN         NaN   \n4   1375       23.2         6.4     1673.0     2161.0         NaN         NaN   \n5   1376       17.3         1.4     1466.0     1680.0         NaN         NaN   \n6   1377       18.1         2.1     1517.0     1766.0         NaN         NaN   \n7   1378       20.1         2.0     1765.0     2565.0         NaN         NaN   \n8   1379       12.6         5.8     2565.0     3493.0         NaN         NaN   \n9   1380       11.4         2.4     3194.0     4831.0         NaN         NaN   \n10  1381       15.8         8.1     4445.0     9592.0         NaN         NaN   \n11  1382       15.6         8.6     8742.0    13895.0         NaN         NaN   \n12  1383       15.2         4.3     9801.0    13895.0         NaN         NaN   \n13  1384       10.4         3.2     9016.0    10522.0         NaN         NaN   \n14  1385       11.9         5.0     9016.0    10522.0         NaN         NaN   \n15  1386       18.4         8.2     8742.0    12941.0         NaN         NaN   \n16  1387       25.4         0.3     7969.0    12703.0         NaN         NaN   \n17  1388       10.8         1.0    11159.0    19697.0         NaN         NaN   \n18  1389       12.4         5.8    19697.0    27241.0         NaN         NaN   \n19  1390       21.5         2.6    23780.0    38144.0         NaN         NaN   \n20  1391       30.5        -3.7    36305.0    90012.0         NaN         NaN   \n21  1392       34.7        -1.5    64285.0    81542.0         NaN         NaN   \n22  1393       15.6         5.0    61374.0    71622.0         NaN         NaN   \n23  1394       11.9        -1.4    63888.0    82556.0         NaN         NaN   \n24  1395        9.0         8.8    75717.0    85939.0         NaN         NaN   \n25  1396        9.6         2.8    83840.0   115598.0         NaN         NaN   \n26  1397       31.2        -2.3   115598.0   227289.0         NaN         NaN   \n27  1398       41.2        -1.3   227289.0   564617.0         NaN         NaN   \n28  1399       36.4         1.8   564617.0  2056766.0         NaN         NaN   \n29  1400       40.0         4.4  1097858.0  1595580.0         NaN         NaN   \n30  1401       52.0         2.4  1328000.0  1608000.0         NaN         NaN   \n31  1402        NaN         NaN        NaN        NaN         NaN         NaN   \n\n    Unnamed: 7 Unnamed: 8  \n0          NaN        NaN  \n1          NaN        NaN  \n2          NaN        NaN  \n3          NaN        NaN  \n4          NaN        NaN  \n5          NaN        NaN  \n6          NaN        NaN  \n7          NaN        NaN  \n8          NaN        NaN  \n9          NaN        NaN  \n10         NaN        NaN  \n11         NaN        NaN  \n12         NaN        NaN  \n13         NaN        NaN  \n14         NaN        NaN  \n15         NaN        NaN  \n16         NaN        NaN  \n17         NaN        NaN  \n18         NaN        NaN  \n19         NaN        NaN  \n20         NaN        NaN  \n21         NaN        NaN  \n22         NaN        NaN  \n23         NaN        NaN  \n24         NaN        NaN  \n25         NaN        NaN  \n26         NaN        NaN  \n27         NaN        NaN  \n28         NaN        NaN  \n29         NaN        ُُُ  \n30         NaN        NaN  \n31         NaN        NaN  ",
      "text/html": "<div>\n<style scoped>\n    .dataframe tbody tr th:only-of-type {\n        vertical-align: middle;\n    }\n\n    .dataframe tbody tr th {\n        vertical-align: top;\n    }\n\n    .dataframe thead th {\n        text-align: right;\n    }\n</style>\n<table border=\"1\" class=\"dataframe\">\n  <thead>\n    <tr style=\"text-align: right;\">\n      <th></th>\n      <th>year</th>\n      <th>infaltion</th>\n      <th>gdp growth</th>\n      <th>low</th>\n      <th>high</th>\n      <th>Unnamed: 5</th>\n      <th>Unnamed: 6</th>\n      <th>Unnamed: 7</th>\n      <th>Unnamed: 8</th>\n    </tr>\n  </thead>\n  <tbody>\n    <tr>\n      <th>0</th>\n      <td>1371</td>\n      <td>24.4</td>\n      <td>3.3</td>\n      <td>410.0</td>\n      <td>488.0</td>\n      <td>NaN</td>\n      <td>NaN</td>\n      <td>NaN</td>\n      <td>NaN</td>\n    </tr>\n    <tr>\n      <th>1</th>\n      <td>1372</td>\n      <td>22.9</td>\n      <td>-1.5</td>\n      <td>378.0</td>\n      <td>447.0</td>\n      <td>NaN</td>\n      <td>NaN</td>\n      <td>NaN</td>\n      <td>NaN</td>\n    </tr>\n    <tr>\n      <th>2</th>\n      <td>1373</td>\n      <td>35.2</td>\n      <td>-1.7</td>\n      <td>427.0</td>\n      <td>929.0</td>\n      <td>NaN</td>\n      <td>NaN</td>\n      <td>NaN</td>\n      <td>NaN</td>\n    </tr>\n    <tr>\n      <th>3</th>\n      <td>1374</td>\n      <td>49.4</td>\n      <td>2.4</td>\n      <td>878.0</td>\n      <td>2108.0</td>\n      <td>NaN</td>\n      <td>NaN</td>\n      <td>NaN</td>\n      <td>NaN</td>\n    </tr>\n    <tr>\n      <th>4</th>\n      <td>1375</td>\n      <td>23.2</td>\n      <td>6.4</td>\n      <td>1673.0</td>\n      <td>2161.0</td>\n      <td>NaN</td>\n      <td>NaN</td>\n      <td>NaN</td>\n      <td>NaN</td>\n    </tr>\n    <tr>\n      <th>5</th>\n      <td>1376</td>\n      <td>17.3</td>\n      <td>1.4</td>\n      <td>1466.0</td>\n      <td>1680.0</td>\n      <td>NaN</td>\n      <td>NaN</td>\n      <td>NaN</td>\n      <td>NaN</td>\n    </tr>\n    <tr>\n      <th>6</th>\n      <td>1377</td>\n      <td>18.1</td>\n      <td>2.1</td>\n      <td>1517.0</td>\n      <td>1766.0</td>\n      <td>NaN</td>\n      <td>NaN</td>\n      <td>NaN</td>\n      <td>NaN</td>\n    </tr>\n    <tr>\n      <th>7</th>\n      <td>1378</td>\n      <td>20.1</td>\n      <td>2.0</td>\n      <td>1765.0</td>\n      <td>2565.0</td>\n      <td>NaN</td>\n      <td>NaN</td>\n      <td>NaN</td>\n      <td>NaN</td>\n    </tr>\n    <tr>\n      <th>8</th>\n      <td>1379</td>\n      <td>12.6</td>\n      <td>5.8</td>\n      <td>2565.0</td>\n      <td>3493.0</td>\n      <td>NaN</td>\n      <td>NaN</td>\n      <td>NaN</td>\n      <td>NaN</td>\n    </tr>\n    <tr>\n      <th>9</th>\n      <td>1380</td>\n      <td>11.4</td>\n      <td>2.4</td>\n      <td>3194.0</td>\n      <td>4831.0</td>\n      <td>NaN</td>\n      <td>NaN</td>\n      <td>NaN</td>\n      <td>NaN</td>\n    </tr>\n    <tr>\n      <th>10</th>\n      <td>1381</td>\n      <td>15.8</td>\n      <td>8.1</td>\n      <td>4445.0</td>\n      <td>9592.0</td>\n      <td>NaN</td>\n      <td>NaN</td>\n      <td>NaN</td>\n      <td>NaN</td>\n    </tr>\n    <tr>\n      <th>11</th>\n      <td>1382</td>\n      <td>15.6</td>\n      <td>8.6</td>\n      <td>8742.0</td>\n      <td>13895.0</td>\n      <td>NaN</td>\n      <td>NaN</td>\n      <td>NaN</td>\n      <td>NaN</td>\n    </tr>\n    <tr>\n      <th>12</th>\n      <td>1383</td>\n      <td>15.2</td>\n      <td>4.3</td>\n      <td>9801.0</td>\n      <td>13895.0</td>\n      <td>NaN</td>\n      <td>NaN</td>\n      <td>NaN</td>\n      <td>NaN</td>\n    </tr>\n    <tr>\n      <th>13</th>\n      <td>1384</td>\n      <td>10.4</td>\n      <td>3.2</td>\n      <td>9016.0</td>\n      <td>10522.0</td>\n      <td>NaN</td>\n      <td>NaN</td>\n      <td>NaN</td>\n      <td>NaN</td>\n    </tr>\n    <tr>\n      <th>14</th>\n      <td>1385</td>\n      <td>11.9</td>\n      <td>5.0</td>\n      <td>9016.0</td>\n      <td>10522.0</td>\n      <td>NaN</td>\n      <td>NaN</td>\n      <td>NaN</td>\n      <td>NaN</td>\n    </tr>\n    <tr>\n      <th>15</th>\n      <td>1386</td>\n      <td>18.4</td>\n      <td>8.2</td>\n      <td>8742.0</td>\n      <td>12941.0</td>\n      <td>NaN</td>\n      <td>NaN</td>\n      <td>NaN</td>\n      <td>NaN</td>\n    </tr>\n    <tr>\n      <th>16</th>\n      <td>1387</td>\n      <td>25.4</td>\n      <td>0.3</td>\n      <td>7969.0</td>\n      <td>12703.0</td>\n      <td>NaN</td>\n      <td>NaN</td>\n      <td>NaN</td>\n      <td>NaN</td>\n    </tr>\n    <tr>\n      <th>17</th>\n      <td>1388</td>\n      <td>10.8</td>\n      <td>1.0</td>\n      <td>11159.0</td>\n      <td>19697.0</td>\n      <td>NaN</td>\n      <td>NaN</td>\n      <td>NaN</td>\n      <td>NaN</td>\n    </tr>\n    <tr>\n      <th>18</th>\n      <td>1389</td>\n      <td>12.4</td>\n      <td>5.8</td>\n      <td>19697.0</td>\n      <td>27241.0</td>\n      <td>NaN</td>\n      <td>NaN</td>\n      <td>NaN</td>\n      <td>NaN</td>\n    </tr>\n    <tr>\n      <th>19</th>\n      <td>1390</td>\n      <td>21.5</td>\n      <td>2.6</td>\n      <td>23780.0</td>\n      <td>38144.0</td>\n      <td>NaN</td>\n      <td>NaN</td>\n      <td>NaN</td>\n      <td>NaN</td>\n    </tr>\n    <tr>\n      <th>20</th>\n      <td>1391</td>\n      <td>30.5</td>\n      <td>-3.7</td>\n      <td>36305.0</td>\n      <td>90012.0</td>\n      <td>NaN</td>\n      <td>NaN</td>\n      <td>NaN</td>\n      <td>NaN</td>\n    </tr>\n    <tr>\n      <th>21</th>\n      <td>1392</td>\n      <td>34.7</td>\n      <td>-1.5</td>\n      <td>64285.0</td>\n      <td>81542.0</td>\n      <td>NaN</td>\n      <td>NaN</td>\n      <td>NaN</td>\n      <td>NaN</td>\n    </tr>\n    <tr>\n      <th>22</th>\n      <td>1393</td>\n      <td>15.6</td>\n      <td>5.0</td>\n      <td>61374.0</td>\n      <td>71622.0</td>\n      <td>NaN</td>\n      <td>NaN</td>\n      <td>NaN</td>\n      <td>NaN</td>\n    </tr>\n    <tr>\n      <th>23</th>\n      <td>1394</td>\n      <td>11.9</td>\n      <td>-1.4</td>\n      <td>63888.0</td>\n      <td>82556.0</td>\n      <td>NaN</td>\n      <td>NaN</td>\n      <td>NaN</td>\n      <td>NaN</td>\n    </tr>\n    <tr>\n      <th>24</th>\n      <td>1395</td>\n      <td>9.0</td>\n      <td>8.8</td>\n      <td>75717.0</td>\n      <td>85939.0</td>\n      <td>NaN</td>\n      <td>NaN</td>\n      <td>NaN</td>\n      <td>NaN</td>\n    </tr>\n    <tr>\n      <th>25</th>\n      <td>1396</td>\n      <td>9.6</td>\n      <td>2.8</td>\n      <td>83840.0</td>\n      <td>115598.0</td>\n      <td>NaN</td>\n      <td>NaN</td>\n      <td>NaN</td>\n      <td>NaN</td>\n    </tr>\n    <tr>\n      <th>26</th>\n      <td>1397</td>\n      <td>31.2</td>\n      <td>-2.3</td>\n      <td>115598.0</td>\n      <td>227289.0</td>\n      <td>NaN</td>\n      <td>NaN</td>\n      <td>NaN</td>\n      <td>NaN</td>\n    </tr>\n    <tr>\n      <th>27</th>\n      <td>1398</td>\n      <td>41.2</td>\n      <td>-1.3</td>\n      <td>227289.0</td>\n      <td>564617.0</td>\n      <td>NaN</td>\n      <td>NaN</td>\n      <td>NaN</td>\n      <td>NaN</td>\n    </tr>\n    <tr>\n      <th>28</th>\n      <td>1399</td>\n      <td>36.4</td>\n      <td>1.8</td>\n      <td>564617.0</td>\n      <td>2056766.0</td>\n      <td>NaN</td>\n      <td>NaN</td>\n      <td>NaN</td>\n      <td>NaN</td>\n    </tr>\n    <tr>\n      <th>29</th>\n      <td>1400</td>\n      <td>40.0</td>\n      <td>4.4</td>\n      <td>1097858.0</td>\n      <td>1595580.0</td>\n      <td>NaN</td>\n      <td>NaN</td>\n      <td>NaN</td>\n      <td>ُُُ</td>\n    </tr>\n    <tr>\n      <th>30</th>\n      <td>1401</td>\n      <td>52.0</td>\n      <td>2.4</td>\n      <td>1328000.0</td>\n      <td>1608000.0</td>\n      <td>NaN</td>\n      <td>NaN</td>\n      <td>NaN</td>\n      <td>NaN</td>\n    </tr>\n    <tr>\n      <th>31</th>\n      <td>1402</td>\n      <td>NaN</td>\n      <td>NaN</td>\n      <td>NaN</td>\n      <td>NaN</td>\n      <td>NaN</td>\n      <td>NaN</td>\n      <td>NaN</td>\n      <td>NaN</td>\n    </tr>\n  </tbody>\n</table>\n</div>"
     },
     "execution_count": 394,
     "metadata": {},
     "output_type": "execute_result"
    }
   ],
   "source": [
    "path = 'C:\\\\Users\\\\ADMIN\\\\Desktop\\\\my project\\\\بورس.xlsx'\n",
    "data = pd.read_excel(path)\n",
    "data"
   ],
   "metadata": {
    "collapsed": false,
    "pycharm": {
     "name": "#%%\n"
    }
   }
  },
  {
   "cell_type": "code",
   "execution_count": 395,
   "outputs": [
    {
     "data": {
      "text/plain": "    year  infaltion  gdp growth        low       high\n0   1371       24.4         3.3      410.0      488.0\n1   1372       22.9        -1.5      378.0      447.0\n2   1373       35.2        -1.7      427.0      929.0\n3   1374       49.4         2.4      878.0     2108.0\n4   1375       23.2         6.4     1673.0     2161.0\n5   1376       17.3         1.4     1466.0     1680.0\n6   1377       18.1         2.1     1517.0     1766.0\n7   1378       20.1         2.0     1765.0     2565.0\n8   1379       12.6         5.8     2565.0     3493.0\n9   1380       11.4         2.4     3194.0     4831.0\n10  1381       15.8         8.1     4445.0     9592.0\n11  1382       15.6         8.6     8742.0    13895.0\n12  1383       15.2         4.3     9801.0    13895.0\n13  1384       10.4         3.2     9016.0    10522.0\n14  1385       11.9         5.0     9016.0    10522.0\n15  1386       18.4         8.2     8742.0    12941.0\n16  1387       25.4         0.3     7969.0    12703.0\n17  1388       10.8         1.0    11159.0    19697.0\n18  1389       12.4         5.8    19697.0    27241.0\n19  1390       21.5         2.6    23780.0    38144.0\n20  1391       30.5        -3.7    36305.0    90012.0\n21  1392       34.7        -1.5    64285.0    81542.0\n22  1393       15.6         5.0    61374.0    71622.0\n23  1394       11.9        -1.4    63888.0    82556.0\n24  1395        9.0         8.8    75717.0    85939.0\n25  1396        9.6         2.8    83840.0   115598.0\n26  1397       31.2        -2.3   115598.0   227289.0\n27  1398       41.2        -1.3   227289.0   564617.0\n28  1399       36.4         1.8   564617.0  2056766.0\n29  1400       40.0         4.4  1097858.0  1595580.0\n30  1401       52.0         2.4  1328000.0  1608000.0\n31  1402        NaN         NaN        NaN        NaN",
      "text/html": "<div>\n<style scoped>\n    .dataframe tbody tr th:only-of-type {\n        vertical-align: middle;\n    }\n\n    .dataframe tbody tr th {\n        vertical-align: top;\n    }\n\n    .dataframe thead th {\n        text-align: right;\n    }\n</style>\n<table border=\"1\" class=\"dataframe\">\n  <thead>\n    <tr style=\"text-align: right;\">\n      <th></th>\n      <th>year</th>\n      <th>infaltion</th>\n      <th>gdp growth</th>\n      <th>low</th>\n      <th>high</th>\n    </tr>\n  </thead>\n  <tbody>\n    <tr>\n      <th>0</th>\n      <td>1371</td>\n      <td>24.4</td>\n      <td>3.3</td>\n      <td>410.0</td>\n      <td>488.0</td>\n    </tr>\n    <tr>\n      <th>1</th>\n      <td>1372</td>\n      <td>22.9</td>\n      <td>-1.5</td>\n      <td>378.0</td>\n      <td>447.0</td>\n    </tr>\n    <tr>\n      <th>2</th>\n      <td>1373</td>\n      <td>35.2</td>\n      <td>-1.7</td>\n      <td>427.0</td>\n      <td>929.0</td>\n    </tr>\n    <tr>\n      <th>3</th>\n      <td>1374</td>\n      <td>49.4</td>\n      <td>2.4</td>\n      <td>878.0</td>\n      <td>2108.0</td>\n    </tr>\n    <tr>\n      <th>4</th>\n      <td>1375</td>\n      <td>23.2</td>\n      <td>6.4</td>\n      <td>1673.0</td>\n      <td>2161.0</td>\n    </tr>\n    <tr>\n      <th>5</th>\n      <td>1376</td>\n      <td>17.3</td>\n      <td>1.4</td>\n      <td>1466.0</td>\n      <td>1680.0</td>\n    </tr>\n    <tr>\n      <th>6</th>\n      <td>1377</td>\n      <td>18.1</td>\n      <td>2.1</td>\n      <td>1517.0</td>\n      <td>1766.0</td>\n    </tr>\n    <tr>\n      <th>7</th>\n      <td>1378</td>\n      <td>20.1</td>\n      <td>2.0</td>\n      <td>1765.0</td>\n      <td>2565.0</td>\n    </tr>\n    <tr>\n      <th>8</th>\n      <td>1379</td>\n      <td>12.6</td>\n      <td>5.8</td>\n      <td>2565.0</td>\n      <td>3493.0</td>\n    </tr>\n    <tr>\n      <th>9</th>\n      <td>1380</td>\n      <td>11.4</td>\n      <td>2.4</td>\n      <td>3194.0</td>\n      <td>4831.0</td>\n    </tr>\n    <tr>\n      <th>10</th>\n      <td>1381</td>\n      <td>15.8</td>\n      <td>8.1</td>\n      <td>4445.0</td>\n      <td>9592.0</td>\n    </tr>\n    <tr>\n      <th>11</th>\n      <td>1382</td>\n      <td>15.6</td>\n      <td>8.6</td>\n      <td>8742.0</td>\n      <td>13895.0</td>\n    </tr>\n    <tr>\n      <th>12</th>\n      <td>1383</td>\n      <td>15.2</td>\n      <td>4.3</td>\n      <td>9801.0</td>\n      <td>13895.0</td>\n    </tr>\n    <tr>\n      <th>13</th>\n      <td>1384</td>\n      <td>10.4</td>\n      <td>3.2</td>\n      <td>9016.0</td>\n      <td>10522.0</td>\n    </tr>\n    <tr>\n      <th>14</th>\n      <td>1385</td>\n      <td>11.9</td>\n      <td>5.0</td>\n      <td>9016.0</td>\n      <td>10522.0</td>\n    </tr>\n    <tr>\n      <th>15</th>\n      <td>1386</td>\n      <td>18.4</td>\n      <td>8.2</td>\n      <td>8742.0</td>\n      <td>12941.0</td>\n    </tr>\n    <tr>\n      <th>16</th>\n      <td>1387</td>\n      <td>25.4</td>\n      <td>0.3</td>\n      <td>7969.0</td>\n      <td>12703.0</td>\n    </tr>\n    <tr>\n      <th>17</th>\n      <td>1388</td>\n      <td>10.8</td>\n      <td>1.0</td>\n      <td>11159.0</td>\n      <td>19697.0</td>\n    </tr>\n    <tr>\n      <th>18</th>\n      <td>1389</td>\n      <td>12.4</td>\n      <td>5.8</td>\n      <td>19697.0</td>\n      <td>27241.0</td>\n    </tr>\n    <tr>\n      <th>19</th>\n      <td>1390</td>\n      <td>21.5</td>\n      <td>2.6</td>\n      <td>23780.0</td>\n      <td>38144.0</td>\n    </tr>\n    <tr>\n      <th>20</th>\n      <td>1391</td>\n      <td>30.5</td>\n      <td>-3.7</td>\n      <td>36305.0</td>\n      <td>90012.0</td>\n    </tr>\n    <tr>\n      <th>21</th>\n      <td>1392</td>\n      <td>34.7</td>\n      <td>-1.5</td>\n      <td>64285.0</td>\n      <td>81542.0</td>\n    </tr>\n    <tr>\n      <th>22</th>\n      <td>1393</td>\n      <td>15.6</td>\n      <td>5.0</td>\n      <td>61374.0</td>\n      <td>71622.0</td>\n    </tr>\n    <tr>\n      <th>23</th>\n      <td>1394</td>\n      <td>11.9</td>\n      <td>-1.4</td>\n      <td>63888.0</td>\n      <td>82556.0</td>\n    </tr>\n    <tr>\n      <th>24</th>\n      <td>1395</td>\n      <td>9.0</td>\n      <td>8.8</td>\n      <td>75717.0</td>\n      <td>85939.0</td>\n    </tr>\n    <tr>\n      <th>25</th>\n      <td>1396</td>\n      <td>9.6</td>\n      <td>2.8</td>\n      <td>83840.0</td>\n      <td>115598.0</td>\n    </tr>\n    <tr>\n      <th>26</th>\n      <td>1397</td>\n      <td>31.2</td>\n      <td>-2.3</td>\n      <td>115598.0</td>\n      <td>227289.0</td>\n    </tr>\n    <tr>\n      <th>27</th>\n      <td>1398</td>\n      <td>41.2</td>\n      <td>-1.3</td>\n      <td>227289.0</td>\n      <td>564617.0</td>\n    </tr>\n    <tr>\n      <th>28</th>\n      <td>1399</td>\n      <td>36.4</td>\n      <td>1.8</td>\n      <td>564617.0</td>\n      <td>2056766.0</td>\n    </tr>\n    <tr>\n      <th>29</th>\n      <td>1400</td>\n      <td>40.0</td>\n      <td>4.4</td>\n      <td>1097858.0</td>\n      <td>1595580.0</td>\n    </tr>\n    <tr>\n      <th>30</th>\n      <td>1401</td>\n      <td>52.0</td>\n      <td>2.4</td>\n      <td>1328000.0</td>\n      <td>1608000.0</td>\n    </tr>\n    <tr>\n      <th>31</th>\n      <td>1402</td>\n      <td>NaN</td>\n      <td>NaN</td>\n      <td>NaN</td>\n      <td>NaN</td>\n    </tr>\n  </tbody>\n</table>\n</div>"
     },
     "execution_count": 395,
     "metadata": {},
     "output_type": "execute_result"
    }
   ],
   "source": [
    "data = data.drop(['Unnamed: 8', 'Unnamed: 7', 'Unnamed: 6', 'Unnamed: 5'], axis=1)\n",
    "data"
   ],
   "metadata": {
    "collapsed": false,
    "pycharm": {
     "name": "#%%\n"
    }
   }
  },
  {
   "cell_type": "code",
   "execution_count": 396,
   "outputs": [
    {
     "data": {
      "text/plain": "array([[ 1.371000e+03,  2.440000e+01,  3.300000e+00,  4.100000e+02,\n         4.880000e+02],\n       [ 1.372000e+03,  2.290000e+01, -1.500000e+00,  3.780000e+02,\n         4.470000e+02],\n       [ 1.373000e+03,  3.520000e+01, -1.700000e+00,  4.270000e+02,\n         9.290000e+02],\n       [ 1.374000e+03,  4.940000e+01,  2.400000e+00,  8.780000e+02,\n         2.108000e+03],\n       [ 1.375000e+03,  2.320000e+01,  6.400000e+00,  1.673000e+03,\n         2.161000e+03],\n       [ 1.376000e+03,  1.730000e+01,  1.400000e+00,  1.466000e+03,\n         1.680000e+03],\n       [ 1.377000e+03,  1.810000e+01,  2.100000e+00,  1.517000e+03,\n         1.766000e+03],\n       [ 1.378000e+03,  2.010000e+01,  2.000000e+00,  1.765000e+03,\n         2.565000e+03],\n       [ 1.379000e+03,  1.260000e+01,  5.800000e+00,  2.565000e+03,\n         3.493000e+03],\n       [ 1.380000e+03,  1.140000e+01,  2.400000e+00,  3.194000e+03,\n         4.831000e+03],\n       [ 1.381000e+03,  1.580000e+01,  8.100000e+00,  4.445000e+03,\n         9.592000e+03],\n       [ 1.382000e+03,  1.560000e+01,  8.600000e+00,  8.742000e+03,\n         1.389500e+04],\n       [ 1.383000e+03,  1.520000e+01,  4.300000e+00,  9.801000e+03,\n         1.389500e+04],\n       [ 1.384000e+03,  1.040000e+01,  3.200000e+00,  9.016000e+03,\n         1.052200e+04],\n       [ 1.385000e+03,  1.190000e+01,  5.000000e+00,  9.016000e+03,\n         1.052200e+04],\n       [ 1.386000e+03,  1.840000e+01,  8.200000e+00,  8.742000e+03,\n         1.294100e+04],\n       [ 1.387000e+03,  2.540000e+01,  3.000000e-01,  7.969000e+03,\n         1.270300e+04],\n       [ 1.388000e+03,  1.080000e+01,  1.000000e+00,  1.115900e+04,\n         1.969700e+04],\n       [ 1.389000e+03,  1.240000e+01,  5.800000e+00,  1.969700e+04,\n         2.724100e+04],\n       [ 1.390000e+03,  2.150000e+01,  2.600000e+00,  2.378000e+04,\n         3.814400e+04],\n       [ 1.391000e+03,  3.050000e+01, -3.700000e+00,  3.630500e+04,\n         9.001200e+04],\n       [ 1.392000e+03,  3.470000e+01, -1.500000e+00,  6.428500e+04,\n         8.154200e+04],\n       [ 1.393000e+03,  1.560000e+01,  5.000000e+00,  6.137400e+04,\n         7.162200e+04],\n       [ 1.394000e+03,  1.190000e+01, -1.400000e+00,  6.388800e+04,\n         8.255600e+04],\n       [ 1.395000e+03,  9.000000e+00,  8.800000e+00,  7.571700e+04,\n         8.593900e+04],\n       [ 1.396000e+03,  9.600000e+00,  2.800000e+00,  8.384000e+04,\n         1.155980e+05],\n       [ 1.397000e+03,  3.120000e+01, -2.300000e+00,  1.155980e+05,\n         2.272890e+05],\n       [ 1.398000e+03,  4.120000e+01, -1.300000e+00,  2.272890e+05,\n         5.646170e+05],\n       [ 1.399000e+03,  3.640000e+01,  1.800000e+00,  5.646170e+05,\n         2.056766e+06],\n       [ 1.400000e+03,  4.000000e+01,  4.400000e+00,  1.097858e+06,\n         1.595580e+06],\n       [ 1.401000e+03,  5.200000e+01,  2.400000e+00,  1.328000e+06,\n         1.608000e+06],\n       [ 1.402000e+03,           nan,           nan,           nan,\n                  nan]])"
     },
     "execution_count": 396,
     "metadata": {},
     "output_type": "execute_result"
    }
   ],
   "source": [
    "year = data.year\n",
    "val = data.values\n",
    "col = data.columns\n",
    "val"
   ],
   "metadata": {
    "collapsed": false,
    "pycharm": {
     "name": "#%%\n"
    }
   }
  },
  {
   "cell_type": "code",
   "execution_count": 397,
   "outputs": [
    {
     "data": {
      "text/plain": "        year  infaltion  gdp growth        low       high\nyear                                                     \n1371  1371.0       24.4         3.3      410.0      488.0\n1372  1372.0       22.9        -1.5      378.0      447.0\n1373  1373.0       35.2        -1.7      427.0      929.0\n1374  1374.0       49.4         2.4      878.0     2108.0\n1375  1375.0       23.2         6.4     1673.0     2161.0\n1376  1376.0       17.3         1.4     1466.0     1680.0\n1377  1377.0       18.1         2.1     1517.0     1766.0\n1378  1378.0       20.1         2.0     1765.0     2565.0\n1379  1379.0       12.6         5.8     2565.0     3493.0\n1380  1380.0       11.4         2.4     3194.0     4831.0\n1381  1381.0       15.8         8.1     4445.0     9592.0\n1382  1382.0       15.6         8.6     8742.0    13895.0\n1383  1383.0       15.2         4.3     9801.0    13895.0\n1384  1384.0       10.4         3.2     9016.0    10522.0\n1385  1385.0       11.9         5.0     9016.0    10522.0\n1386  1386.0       18.4         8.2     8742.0    12941.0\n1387  1387.0       25.4         0.3     7969.0    12703.0\n1388  1388.0       10.8         1.0    11159.0    19697.0\n1389  1389.0       12.4         5.8    19697.0    27241.0\n1390  1390.0       21.5         2.6    23780.0    38144.0\n1391  1391.0       30.5        -3.7    36305.0    90012.0\n1392  1392.0       34.7        -1.5    64285.0    81542.0\n1393  1393.0       15.6         5.0    61374.0    71622.0\n1394  1394.0       11.9        -1.4    63888.0    82556.0\n1395  1395.0        9.0         8.8    75717.0    85939.0\n1396  1396.0        9.6         2.8    83840.0   115598.0\n1397  1397.0       31.2        -2.3   115598.0   227289.0\n1398  1398.0       41.2        -1.3   227289.0   564617.0\n1399  1399.0       36.4         1.8   564617.0  2056766.0\n1400  1400.0       40.0         4.4  1097858.0  1595580.0\n1401  1401.0       52.0         2.4  1328000.0  1608000.0\n1402  1402.0        NaN         NaN        NaN        NaN",
      "text/html": "<div>\n<style scoped>\n    .dataframe tbody tr th:only-of-type {\n        vertical-align: middle;\n    }\n\n    .dataframe tbody tr th {\n        vertical-align: top;\n    }\n\n    .dataframe thead th {\n        text-align: right;\n    }\n</style>\n<table border=\"1\" class=\"dataframe\">\n  <thead>\n    <tr style=\"text-align: right;\">\n      <th></th>\n      <th>year</th>\n      <th>infaltion</th>\n      <th>gdp growth</th>\n      <th>low</th>\n      <th>high</th>\n    </tr>\n    <tr>\n      <th>year</th>\n      <th></th>\n      <th></th>\n      <th></th>\n      <th></th>\n      <th></th>\n    </tr>\n  </thead>\n  <tbody>\n    <tr>\n      <th>1371</th>\n      <td>1371.0</td>\n      <td>24.4</td>\n      <td>3.3</td>\n      <td>410.0</td>\n      <td>488.0</td>\n    </tr>\n    <tr>\n      <th>1372</th>\n      <td>1372.0</td>\n      <td>22.9</td>\n      <td>-1.5</td>\n      <td>378.0</td>\n      <td>447.0</td>\n    </tr>\n    <tr>\n      <th>1373</th>\n      <td>1373.0</td>\n      <td>35.2</td>\n      <td>-1.7</td>\n      <td>427.0</td>\n      <td>929.0</td>\n    </tr>\n    <tr>\n      <th>1374</th>\n      <td>1374.0</td>\n      <td>49.4</td>\n      <td>2.4</td>\n      <td>878.0</td>\n      <td>2108.0</td>\n    </tr>\n    <tr>\n      <th>1375</th>\n      <td>1375.0</td>\n      <td>23.2</td>\n      <td>6.4</td>\n      <td>1673.0</td>\n      <td>2161.0</td>\n    </tr>\n    <tr>\n      <th>1376</th>\n      <td>1376.0</td>\n      <td>17.3</td>\n      <td>1.4</td>\n      <td>1466.0</td>\n      <td>1680.0</td>\n    </tr>\n    <tr>\n      <th>1377</th>\n      <td>1377.0</td>\n      <td>18.1</td>\n      <td>2.1</td>\n      <td>1517.0</td>\n      <td>1766.0</td>\n    </tr>\n    <tr>\n      <th>1378</th>\n      <td>1378.0</td>\n      <td>20.1</td>\n      <td>2.0</td>\n      <td>1765.0</td>\n      <td>2565.0</td>\n    </tr>\n    <tr>\n      <th>1379</th>\n      <td>1379.0</td>\n      <td>12.6</td>\n      <td>5.8</td>\n      <td>2565.0</td>\n      <td>3493.0</td>\n    </tr>\n    <tr>\n      <th>1380</th>\n      <td>1380.0</td>\n      <td>11.4</td>\n      <td>2.4</td>\n      <td>3194.0</td>\n      <td>4831.0</td>\n    </tr>\n    <tr>\n      <th>1381</th>\n      <td>1381.0</td>\n      <td>15.8</td>\n      <td>8.1</td>\n      <td>4445.0</td>\n      <td>9592.0</td>\n    </tr>\n    <tr>\n      <th>1382</th>\n      <td>1382.0</td>\n      <td>15.6</td>\n      <td>8.6</td>\n      <td>8742.0</td>\n      <td>13895.0</td>\n    </tr>\n    <tr>\n      <th>1383</th>\n      <td>1383.0</td>\n      <td>15.2</td>\n      <td>4.3</td>\n      <td>9801.0</td>\n      <td>13895.0</td>\n    </tr>\n    <tr>\n      <th>1384</th>\n      <td>1384.0</td>\n      <td>10.4</td>\n      <td>3.2</td>\n      <td>9016.0</td>\n      <td>10522.0</td>\n    </tr>\n    <tr>\n      <th>1385</th>\n      <td>1385.0</td>\n      <td>11.9</td>\n      <td>5.0</td>\n      <td>9016.0</td>\n      <td>10522.0</td>\n    </tr>\n    <tr>\n      <th>1386</th>\n      <td>1386.0</td>\n      <td>18.4</td>\n      <td>8.2</td>\n      <td>8742.0</td>\n      <td>12941.0</td>\n    </tr>\n    <tr>\n      <th>1387</th>\n      <td>1387.0</td>\n      <td>25.4</td>\n      <td>0.3</td>\n      <td>7969.0</td>\n      <td>12703.0</td>\n    </tr>\n    <tr>\n      <th>1388</th>\n      <td>1388.0</td>\n      <td>10.8</td>\n      <td>1.0</td>\n      <td>11159.0</td>\n      <td>19697.0</td>\n    </tr>\n    <tr>\n      <th>1389</th>\n      <td>1389.0</td>\n      <td>12.4</td>\n      <td>5.8</td>\n      <td>19697.0</td>\n      <td>27241.0</td>\n    </tr>\n    <tr>\n      <th>1390</th>\n      <td>1390.0</td>\n      <td>21.5</td>\n      <td>2.6</td>\n      <td>23780.0</td>\n      <td>38144.0</td>\n    </tr>\n    <tr>\n      <th>1391</th>\n      <td>1391.0</td>\n      <td>30.5</td>\n      <td>-3.7</td>\n      <td>36305.0</td>\n      <td>90012.0</td>\n    </tr>\n    <tr>\n      <th>1392</th>\n      <td>1392.0</td>\n      <td>34.7</td>\n      <td>-1.5</td>\n      <td>64285.0</td>\n      <td>81542.0</td>\n    </tr>\n    <tr>\n      <th>1393</th>\n      <td>1393.0</td>\n      <td>15.6</td>\n      <td>5.0</td>\n      <td>61374.0</td>\n      <td>71622.0</td>\n    </tr>\n    <tr>\n      <th>1394</th>\n      <td>1394.0</td>\n      <td>11.9</td>\n      <td>-1.4</td>\n      <td>63888.0</td>\n      <td>82556.0</td>\n    </tr>\n    <tr>\n      <th>1395</th>\n      <td>1395.0</td>\n      <td>9.0</td>\n      <td>8.8</td>\n      <td>75717.0</td>\n      <td>85939.0</td>\n    </tr>\n    <tr>\n      <th>1396</th>\n      <td>1396.0</td>\n      <td>9.6</td>\n      <td>2.8</td>\n      <td>83840.0</td>\n      <td>115598.0</td>\n    </tr>\n    <tr>\n      <th>1397</th>\n      <td>1397.0</td>\n      <td>31.2</td>\n      <td>-2.3</td>\n      <td>115598.0</td>\n      <td>227289.0</td>\n    </tr>\n    <tr>\n      <th>1398</th>\n      <td>1398.0</td>\n      <td>41.2</td>\n      <td>-1.3</td>\n      <td>227289.0</td>\n      <td>564617.0</td>\n    </tr>\n    <tr>\n      <th>1399</th>\n      <td>1399.0</td>\n      <td>36.4</td>\n      <td>1.8</td>\n      <td>564617.0</td>\n      <td>2056766.0</td>\n    </tr>\n    <tr>\n      <th>1400</th>\n      <td>1400.0</td>\n      <td>40.0</td>\n      <td>4.4</td>\n      <td>1097858.0</td>\n      <td>1595580.0</td>\n    </tr>\n    <tr>\n      <th>1401</th>\n      <td>1401.0</td>\n      <td>52.0</td>\n      <td>2.4</td>\n      <td>1328000.0</td>\n      <td>1608000.0</td>\n    </tr>\n    <tr>\n      <th>1402</th>\n      <td>1402.0</td>\n      <td>NaN</td>\n      <td>NaN</td>\n      <td>NaN</td>\n      <td>NaN</td>\n    </tr>\n  </tbody>\n</table>\n</div>"
     },
     "execution_count": 397,
     "metadata": {},
     "output_type": "execute_result"
    }
   ],
   "source": [
    "data = pd.DataFrame(val, index=year, columns=col)\n",
    "data"
   ],
   "metadata": {
    "collapsed": false,
    "pycharm": {
     "name": "#%%\n"
    }
   }
  },
  {
   "cell_type": "code",
   "execution_count": 398,
   "outputs": [
    {
     "data": {
      "text/plain": "        year  infaltion  gdp growth        low       high\nyear                                                     \n1371  1371.0       24.4         3.3      410.0      488.0\n1372  1372.0       22.9        -1.5      378.0      447.0\n1373  1373.0       35.2        -1.7      427.0      929.0\n1374  1374.0       49.4         2.4      878.0     2108.0\n1375  1375.0       23.2         6.4     1673.0     2161.0\n1376  1376.0       17.3         1.4     1466.0     1680.0\n1377  1377.0       18.1         2.1     1517.0     1766.0\n1378  1378.0       20.1         2.0     1765.0     2565.0\n1379  1379.0       12.6         5.8     2565.0     3493.0\n1380  1380.0       11.4         2.4     3194.0     4831.0\n1381  1381.0       15.8         8.1     4445.0     9592.0\n1382  1382.0       15.6         8.6     8742.0    13895.0\n1383  1383.0       15.2         4.3     9801.0    13895.0\n1384  1384.0       10.4         3.2     9016.0    10522.0\n1385  1385.0       11.9         5.0     9016.0    10522.0\n1386  1386.0       18.4         8.2     8742.0    12941.0\n1387  1387.0       25.4         0.3     7969.0    12703.0\n1388  1388.0       10.8         1.0    11159.0    19697.0\n1389  1389.0       12.4         5.8    19697.0    27241.0\n1390  1390.0       21.5         2.6    23780.0    38144.0\n1391  1391.0       30.5        -3.7    36305.0    90012.0\n1392  1392.0       34.7        -1.5    64285.0    81542.0\n1393  1393.0       15.6         5.0    61374.0    71622.0\n1394  1394.0       11.9        -1.4    63888.0    82556.0\n1395  1395.0        9.0         8.8    75717.0    85939.0\n1396  1396.0        9.6         2.8    83840.0   115598.0\n1397  1397.0       31.2        -2.3   115598.0   227289.0\n1398  1398.0       41.2        -1.3   227289.0   564617.0\n1399  1399.0       36.4         1.8   564617.0  2056766.0\n1400  1400.0       40.0         4.4  1097858.0  1595580.0\n1401  1401.0       52.0         2.4  1328000.0  1608000.0",
      "text/html": "<div>\n<style scoped>\n    .dataframe tbody tr th:only-of-type {\n        vertical-align: middle;\n    }\n\n    .dataframe tbody tr th {\n        vertical-align: top;\n    }\n\n    .dataframe thead th {\n        text-align: right;\n    }\n</style>\n<table border=\"1\" class=\"dataframe\">\n  <thead>\n    <tr style=\"text-align: right;\">\n      <th></th>\n      <th>year</th>\n      <th>infaltion</th>\n      <th>gdp growth</th>\n      <th>low</th>\n      <th>high</th>\n    </tr>\n    <tr>\n      <th>year</th>\n      <th></th>\n      <th></th>\n      <th></th>\n      <th></th>\n      <th></th>\n    </tr>\n  </thead>\n  <tbody>\n    <tr>\n      <th>1371</th>\n      <td>1371.0</td>\n      <td>24.4</td>\n      <td>3.3</td>\n      <td>410.0</td>\n      <td>488.0</td>\n    </tr>\n    <tr>\n      <th>1372</th>\n      <td>1372.0</td>\n      <td>22.9</td>\n      <td>-1.5</td>\n      <td>378.0</td>\n      <td>447.0</td>\n    </tr>\n    <tr>\n      <th>1373</th>\n      <td>1373.0</td>\n      <td>35.2</td>\n      <td>-1.7</td>\n      <td>427.0</td>\n      <td>929.0</td>\n    </tr>\n    <tr>\n      <th>1374</th>\n      <td>1374.0</td>\n      <td>49.4</td>\n      <td>2.4</td>\n      <td>878.0</td>\n      <td>2108.0</td>\n    </tr>\n    <tr>\n      <th>1375</th>\n      <td>1375.0</td>\n      <td>23.2</td>\n      <td>6.4</td>\n      <td>1673.0</td>\n      <td>2161.0</td>\n    </tr>\n    <tr>\n      <th>1376</th>\n      <td>1376.0</td>\n      <td>17.3</td>\n      <td>1.4</td>\n      <td>1466.0</td>\n      <td>1680.0</td>\n    </tr>\n    <tr>\n      <th>1377</th>\n      <td>1377.0</td>\n      <td>18.1</td>\n      <td>2.1</td>\n      <td>1517.0</td>\n      <td>1766.0</td>\n    </tr>\n    <tr>\n      <th>1378</th>\n      <td>1378.0</td>\n      <td>20.1</td>\n      <td>2.0</td>\n      <td>1765.0</td>\n      <td>2565.0</td>\n    </tr>\n    <tr>\n      <th>1379</th>\n      <td>1379.0</td>\n      <td>12.6</td>\n      <td>5.8</td>\n      <td>2565.0</td>\n      <td>3493.0</td>\n    </tr>\n    <tr>\n      <th>1380</th>\n      <td>1380.0</td>\n      <td>11.4</td>\n      <td>2.4</td>\n      <td>3194.0</td>\n      <td>4831.0</td>\n    </tr>\n    <tr>\n      <th>1381</th>\n      <td>1381.0</td>\n      <td>15.8</td>\n      <td>8.1</td>\n      <td>4445.0</td>\n      <td>9592.0</td>\n    </tr>\n    <tr>\n      <th>1382</th>\n      <td>1382.0</td>\n      <td>15.6</td>\n      <td>8.6</td>\n      <td>8742.0</td>\n      <td>13895.0</td>\n    </tr>\n    <tr>\n      <th>1383</th>\n      <td>1383.0</td>\n      <td>15.2</td>\n      <td>4.3</td>\n      <td>9801.0</td>\n      <td>13895.0</td>\n    </tr>\n    <tr>\n      <th>1384</th>\n      <td>1384.0</td>\n      <td>10.4</td>\n      <td>3.2</td>\n      <td>9016.0</td>\n      <td>10522.0</td>\n    </tr>\n    <tr>\n      <th>1385</th>\n      <td>1385.0</td>\n      <td>11.9</td>\n      <td>5.0</td>\n      <td>9016.0</td>\n      <td>10522.0</td>\n    </tr>\n    <tr>\n      <th>1386</th>\n      <td>1386.0</td>\n      <td>18.4</td>\n      <td>8.2</td>\n      <td>8742.0</td>\n      <td>12941.0</td>\n    </tr>\n    <tr>\n      <th>1387</th>\n      <td>1387.0</td>\n      <td>25.4</td>\n      <td>0.3</td>\n      <td>7969.0</td>\n      <td>12703.0</td>\n    </tr>\n    <tr>\n      <th>1388</th>\n      <td>1388.0</td>\n      <td>10.8</td>\n      <td>1.0</td>\n      <td>11159.0</td>\n      <td>19697.0</td>\n    </tr>\n    <tr>\n      <th>1389</th>\n      <td>1389.0</td>\n      <td>12.4</td>\n      <td>5.8</td>\n      <td>19697.0</td>\n      <td>27241.0</td>\n    </tr>\n    <tr>\n      <th>1390</th>\n      <td>1390.0</td>\n      <td>21.5</td>\n      <td>2.6</td>\n      <td>23780.0</td>\n      <td>38144.0</td>\n    </tr>\n    <tr>\n      <th>1391</th>\n      <td>1391.0</td>\n      <td>30.5</td>\n      <td>-3.7</td>\n      <td>36305.0</td>\n      <td>90012.0</td>\n    </tr>\n    <tr>\n      <th>1392</th>\n      <td>1392.0</td>\n      <td>34.7</td>\n      <td>-1.5</td>\n      <td>64285.0</td>\n      <td>81542.0</td>\n    </tr>\n    <tr>\n      <th>1393</th>\n      <td>1393.0</td>\n      <td>15.6</td>\n      <td>5.0</td>\n      <td>61374.0</td>\n      <td>71622.0</td>\n    </tr>\n    <tr>\n      <th>1394</th>\n      <td>1394.0</td>\n      <td>11.9</td>\n      <td>-1.4</td>\n      <td>63888.0</td>\n      <td>82556.0</td>\n    </tr>\n    <tr>\n      <th>1395</th>\n      <td>1395.0</td>\n      <td>9.0</td>\n      <td>8.8</td>\n      <td>75717.0</td>\n      <td>85939.0</td>\n    </tr>\n    <tr>\n      <th>1396</th>\n      <td>1396.0</td>\n      <td>9.6</td>\n      <td>2.8</td>\n      <td>83840.0</td>\n      <td>115598.0</td>\n    </tr>\n    <tr>\n      <th>1397</th>\n      <td>1397.0</td>\n      <td>31.2</td>\n      <td>-2.3</td>\n      <td>115598.0</td>\n      <td>227289.0</td>\n    </tr>\n    <tr>\n      <th>1398</th>\n      <td>1398.0</td>\n      <td>41.2</td>\n      <td>-1.3</td>\n      <td>227289.0</td>\n      <td>564617.0</td>\n    </tr>\n    <tr>\n      <th>1399</th>\n      <td>1399.0</td>\n      <td>36.4</td>\n      <td>1.8</td>\n      <td>564617.0</td>\n      <td>2056766.0</td>\n    </tr>\n    <tr>\n      <th>1400</th>\n      <td>1400.0</td>\n      <td>40.0</td>\n      <td>4.4</td>\n      <td>1097858.0</td>\n      <td>1595580.0</td>\n    </tr>\n    <tr>\n      <th>1401</th>\n      <td>1401.0</td>\n      <td>52.0</td>\n      <td>2.4</td>\n      <td>1328000.0</td>\n      <td>1608000.0</td>\n    </tr>\n  </tbody>\n</table>\n</div>"
     },
     "execution_count": 398,
     "metadata": {},
     "output_type": "execute_result"
    }
   ],
   "source": [
    "data = data.drop([1402], axis=0)\n",
    "data"
   ],
   "metadata": {
    "collapsed": false,
    "pycharm": {
     "name": "#%%\n"
    }
   }
  },
  {
   "cell_type": "code",
   "execution_count": 399,
   "outputs": [
    {
     "name": "stderr",
     "output_type": "stream",
     "text": [
      "C:\\Users\\ADMIN\\AppData\\Local\\Temp\\ipykernel_12780\\2742540259.py:2: DtypeWarning: Columns (12) have mixed types. Specify dtype option on import or set low_memory=False.\n",
      "  data2 = pd.read_csv(path2)\n"
     ]
    },
    {
     "data": {
      "text/plain": "      Area Construction Room Warehouse Parking Elevator  \\\n0      150         1388    3      TRUE    TRUE     TRUE   \n1       54         1389    1     FALSE    TRUE     TRUE   \n2       69         1390    2     FALSE    TRUE     TRUE   \n3       52         1388    1      TRUE    TRUE     TRUE   \n4      135         1401    3      TRUE    TRUE     TRUE   \n...    ...          ...  ...       ...     ...      ...   \n38183   50         1396    1     FALSE    TRUE     TRUE   \n38184   47         1397    1      TRUE    TRUE     TRUE   \n38185  190         1399    3      TRUE    TRUE     TRUE   \n38186   48         1383    1     FALSE   FALSE    FALSE   \n38187  150         1401    3      TRUE    TRUE     TRUE   \n\n                                              Address                Price  \\\n0       ۲ ساعت پیش در تهران، مرزداران | فروش آپارتمان  ۸٬۸۰۰٬۰۰۰٬۰۰۰ تومان   \n1         ۲ ساعت پیش در تهران، اندیشه | فروش آپارتمان    ۸۶۸٬۰۰۰٬۰۰۰ تومان   \n2         ۲ ساعت پیش در تهران، سلسبیل | فروش آپارتمان  ۲٬۱۰۰٬۰۰۰٬۰۰۰ تومان   \n3        ۲ ساعت پیش در تهران، باغ فیض | فروش آپارتمان  ۲٬۸۵۰٬۰۰۰٬۰۰۰ تومان   \n4        ۲ ساعت پیش در تهران، نیاوران | فروش آپارتمان  ۹٬۵۰۰٬۰۰۰٬۰۰۰ تومان   \n...                                               ...                  ...   \n38183      ۶ روز پیش در تهران، اندیشه | فروش آپارتمان    ۷۰۰٬۰۰۰٬۰۰۰ تومان   \n38184     ۳ ساعت پیش در تهران، اندیشه | فروش آپارتمان    ۸۰۰٬۰۰۰٬۰۰۰ تومان   \n38185    ۶ روز پیش در تهران، آجودانیه | فروش آپارتمان               توافقی   \n38186      ۶ روز پیش در تهران، بریانک | فروش آپارتمان  ۱٬۰۸۰٬۰۰۰٬۰۰۰ تومان   \n38187  ۶ روز پیش در تهران، سعادت‌آباد | فروش آپارتمان               توافقی   \n\n       Unnamed: 8  Unnamed: 9  Unnamed: 10  Unnamed: 11  \\\n0             NaN         NaN          NaN          NaN   \n1             NaN         NaN          NaN          NaN   \n2             NaN         NaN          NaN          NaN   \n3             NaN         NaN          NaN          NaN   \n4             NaN         NaN          NaN          NaN   \n...           ...         ...          ...          ...   \n38183         NaN         NaN          NaN          NaN   \n38184         NaN         NaN          NaN          NaN   \n38185         NaN         NaN          NaN          NaN   \n38186         NaN         NaN          NaN          NaN   \n38187         NaN         NaN          NaN          NaN   \n\n                 Unnamed: 12  Unnamed: 13  Unnamed: 14  Unnamed: 15  \n0                        NaN          NaN          NaN          NaN  \n1                        NaN          NaN          NaN          NaN  \n2                        NaN          NaN          NaN          NaN  \n3      for more information:          NaN          NaN          NaN  \n4        telegram: @pyfiance          NaN          NaN          NaN  \n...                      ...          ...          ...          ...  \n38183                    NaN          NaN          NaN          NaN  \n38184                    NaN          NaN          NaN          NaN  \n38185                    NaN          NaN          NaN          NaN  \n38186                    NaN          NaN          NaN          NaN  \n38187                    NaN          NaN          NaN          NaN  \n\n[38188 rows x 16 columns]",
      "text/html": "<div>\n<style scoped>\n    .dataframe tbody tr th:only-of-type {\n        vertical-align: middle;\n    }\n\n    .dataframe tbody tr th {\n        vertical-align: top;\n    }\n\n    .dataframe thead th {\n        text-align: right;\n    }\n</style>\n<table border=\"1\" class=\"dataframe\">\n  <thead>\n    <tr style=\"text-align: right;\">\n      <th></th>\n      <th>Area</th>\n      <th>Construction</th>\n      <th>Room</th>\n      <th>Warehouse</th>\n      <th>Parking</th>\n      <th>Elevator</th>\n      <th>Address</th>\n      <th>Price</th>\n      <th>Unnamed: 8</th>\n      <th>Unnamed: 9</th>\n      <th>Unnamed: 10</th>\n      <th>Unnamed: 11</th>\n      <th>Unnamed: 12</th>\n      <th>Unnamed: 13</th>\n      <th>Unnamed: 14</th>\n      <th>Unnamed: 15</th>\n    </tr>\n  </thead>\n  <tbody>\n    <tr>\n      <th>0</th>\n      <td>150</td>\n      <td>1388</td>\n      <td>3</td>\n      <td>TRUE</td>\n      <td>TRUE</td>\n      <td>TRUE</td>\n      <td>۲ ساعت پیش در تهران، مرزداران | فروش آپارتمان</td>\n      <td>۸٬۸۰۰٬۰۰۰٬۰۰۰ تومان</td>\n      <td>NaN</td>\n      <td>NaN</td>\n      <td>NaN</td>\n      <td>NaN</td>\n      <td>NaN</td>\n      <td>NaN</td>\n      <td>NaN</td>\n      <td>NaN</td>\n    </tr>\n    <tr>\n      <th>1</th>\n      <td>54</td>\n      <td>1389</td>\n      <td>1</td>\n      <td>FALSE</td>\n      <td>TRUE</td>\n      <td>TRUE</td>\n      <td>۲ ساعت پیش در تهران، اندیشه | فروش آپارتمان</td>\n      <td>۸۶۸٬۰۰۰٬۰۰۰ تومان</td>\n      <td>NaN</td>\n      <td>NaN</td>\n      <td>NaN</td>\n      <td>NaN</td>\n      <td>NaN</td>\n      <td>NaN</td>\n      <td>NaN</td>\n      <td>NaN</td>\n    </tr>\n    <tr>\n      <th>2</th>\n      <td>69</td>\n      <td>1390</td>\n      <td>2</td>\n      <td>FALSE</td>\n      <td>TRUE</td>\n      <td>TRUE</td>\n      <td>۲ ساعت پیش در تهران، سلسبیل | فروش آپارتمان</td>\n      <td>۲٬۱۰۰٬۰۰۰٬۰۰۰ تومان</td>\n      <td>NaN</td>\n      <td>NaN</td>\n      <td>NaN</td>\n      <td>NaN</td>\n      <td>NaN</td>\n      <td>NaN</td>\n      <td>NaN</td>\n      <td>NaN</td>\n    </tr>\n    <tr>\n      <th>3</th>\n      <td>52</td>\n      <td>1388</td>\n      <td>1</td>\n      <td>TRUE</td>\n      <td>TRUE</td>\n      <td>TRUE</td>\n      <td>۲ ساعت پیش در تهران، باغ فیض | فروش آپارتمان</td>\n      <td>۲٬۸۵۰٬۰۰۰٬۰۰۰ تومان</td>\n      <td>NaN</td>\n      <td>NaN</td>\n      <td>NaN</td>\n      <td>NaN</td>\n      <td>for more information:</td>\n      <td>NaN</td>\n      <td>NaN</td>\n      <td>NaN</td>\n    </tr>\n    <tr>\n      <th>4</th>\n      <td>135</td>\n      <td>1401</td>\n      <td>3</td>\n      <td>TRUE</td>\n      <td>TRUE</td>\n      <td>TRUE</td>\n      <td>۲ ساعت پیش در تهران، نیاوران | فروش آپارتمان</td>\n      <td>۹٬۵۰۰٬۰۰۰٬۰۰۰ تومان</td>\n      <td>NaN</td>\n      <td>NaN</td>\n      <td>NaN</td>\n      <td>NaN</td>\n      <td>telegram: @pyfiance</td>\n      <td>NaN</td>\n      <td>NaN</td>\n      <td>NaN</td>\n    </tr>\n    <tr>\n      <th>...</th>\n      <td>...</td>\n      <td>...</td>\n      <td>...</td>\n      <td>...</td>\n      <td>...</td>\n      <td>...</td>\n      <td>...</td>\n      <td>...</td>\n      <td>...</td>\n      <td>...</td>\n      <td>...</td>\n      <td>...</td>\n      <td>...</td>\n      <td>...</td>\n      <td>...</td>\n      <td>...</td>\n    </tr>\n    <tr>\n      <th>38183</th>\n      <td>50</td>\n      <td>1396</td>\n      <td>1</td>\n      <td>FALSE</td>\n      <td>TRUE</td>\n      <td>TRUE</td>\n      <td>۶ روز پیش در تهران، اندیشه | فروش آپارتمان</td>\n      <td>۷۰۰٬۰۰۰٬۰۰۰ تومان</td>\n      <td>NaN</td>\n      <td>NaN</td>\n      <td>NaN</td>\n      <td>NaN</td>\n      <td>NaN</td>\n      <td>NaN</td>\n      <td>NaN</td>\n      <td>NaN</td>\n    </tr>\n    <tr>\n      <th>38184</th>\n      <td>47</td>\n      <td>1397</td>\n      <td>1</td>\n      <td>TRUE</td>\n      <td>TRUE</td>\n      <td>TRUE</td>\n      <td>۳ ساعت پیش در تهران، اندیشه | فروش آپارتمان</td>\n      <td>۸۰۰٬۰۰۰٬۰۰۰ تومان</td>\n      <td>NaN</td>\n      <td>NaN</td>\n      <td>NaN</td>\n      <td>NaN</td>\n      <td>NaN</td>\n      <td>NaN</td>\n      <td>NaN</td>\n      <td>NaN</td>\n    </tr>\n    <tr>\n      <th>38185</th>\n      <td>190</td>\n      <td>1399</td>\n      <td>3</td>\n      <td>TRUE</td>\n      <td>TRUE</td>\n      <td>TRUE</td>\n      <td>۶ روز پیش در تهران، آجودانیه | فروش آپارتمان</td>\n      <td>توافقی</td>\n      <td>NaN</td>\n      <td>NaN</td>\n      <td>NaN</td>\n      <td>NaN</td>\n      <td>NaN</td>\n      <td>NaN</td>\n      <td>NaN</td>\n      <td>NaN</td>\n    </tr>\n    <tr>\n      <th>38186</th>\n      <td>48</td>\n      <td>1383</td>\n      <td>1</td>\n      <td>FALSE</td>\n      <td>FALSE</td>\n      <td>FALSE</td>\n      <td>۶ روز پیش در تهران، بریانک | فروش آپارتمان</td>\n      <td>۱٬۰۸۰٬۰۰۰٬۰۰۰ تومان</td>\n      <td>NaN</td>\n      <td>NaN</td>\n      <td>NaN</td>\n      <td>NaN</td>\n      <td>NaN</td>\n      <td>NaN</td>\n      <td>NaN</td>\n      <td>NaN</td>\n    </tr>\n    <tr>\n      <th>38187</th>\n      <td>150</td>\n      <td>1401</td>\n      <td>3</td>\n      <td>TRUE</td>\n      <td>TRUE</td>\n      <td>TRUE</td>\n      <td>۶ روز پیش در تهران، سعادت‌آباد | فروش آپارتمان</td>\n      <td>توافقی</td>\n      <td>NaN</td>\n      <td>NaN</td>\n      <td>NaN</td>\n      <td>NaN</td>\n      <td>NaN</td>\n      <td>NaN</td>\n      <td>NaN</td>\n      <td>NaN</td>\n    </tr>\n  </tbody>\n</table>\n<p>38188 rows × 16 columns</p>\n</div>"
     },
     "execution_count": 399,
     "metadata": {},
     "output_type": "execute_result"
    }
   ],
   "source": [
    "path2 = \"C:\\\\Users\\\\ADMIN\\\\Desktop\\\\House_Price_divar_pyfinance_aliraoofi.csv\"\n",
    "data2 = pd.read_csv(path2)\n",
    "data2"
   ],
   "metadata": {
    "collapsed": false,
    "pycharm": {
     "name": "#%%\n"
    }
   }
  },
  {
   "cell_type": "code",
   "execution_count": 400,
   "outputs": [
    {
     "data": {
      "text/plain": "      Area Construction Room Warehouse Parking Elevator  \\\n0      150         1388    3      TRUE    TRUE     TRUE   \n1       54         1389    1     FALSE    TRUE     TRUE   \n2       69         1390    2     FALSE    TRUE     TRUE   \n3       52         1388    1      TRUE    TRUE     TRUE   \n4      135         1401    3      TRUE    TRUE     TRUE   \n...    ...          ...  ...       ...     ...      ...   \n38183   50         1396    1     FALSE    TRUE     TRUE   \n38184   47         1397    1      TRUE    TRUE     TRUE   \n38185  190         1399    3      TRUE    TRUE     TRUE   \n38186   48         1383    1     FALSE   FALSE    FALSE   \n38187  150         1401    3      TRUE    TRUE     TRUE   \n\n                                              Address                Price  \n0       ۲ ساعت پیش در تهران، مرزداران | فروش آپارتمان  ۸٬۸۰۰٬۰۰۰٬۰۰۰ تومان  \n1         ۲ ساعت پیش در تهران، اندیشه | فروش آپارتمان    ۸۶۸٬۰۰۰٬۰۰۰ تومان  \n2         ۲ ساعت پیش در تهران، سلسبیل | فروش آپارتمان  ۲٬۱۰۰٬۰۰۰٬۰۰۰ تومان  \n3        ۲ ساعت پیش در تهران، باغ فیض | فروش آپارتمان  ۲٬۸۵۰٬۰۰۰٬۰۰۰ تومان  \n4        ۲ ساعت پیش در تهران، نیاوران | فروش آپارتمان  ۹٬۵۰۰٬۰۰۰٬۰۰۰ تومان  \n...                                               ...                  ...  \n38183      ۶ روز پیش در تهران، اندیشه | فروش آپارتمان    ۷۰۰٬۰۰۰٬۰۰۰ تومان  \n38184     ۳ ساعت پیش در تهران، اندیشه | فروش آپارتمان    ۸۰۰٬۰۰۰٬۰۰۰ تومان  \n38185    ۶ روز پیش در تهران، آجودانیه | فروش آپارتمان               توافقی  \n38186      ۶ روز پیش در تهران، بریانک | فروش آپارتمان  ۱٬۰۸۰٬۰۰۰٬۰۰۰ تومان  \n38187  ۶ روز پیش در تهران، سعادت‌آباد | فروش آپارتمان               توافقی  \n\n[38188 rows x 8 columns]",
      "text/html": "<div>\n<style scoped>\n    .dataframe tbody tr th:only-of-type {\n        vertical-align: middle;\n    }\n\n    .dataframe tbody tr th {\n        vertical-align: top;\n    }\n\n    .dataframe thead th {\n        text-align: right;\n    }\n</style>\n<table border=\"1\" class=\"dataframe\">\n  <thead>\n    <tr style=\"text-align: right;\">\n      <th></th>\n      <th>Area</th>\n      <th>Construction</th>\n      <th>Room</th>\n      <th>Warehouse</th>\n      <th>Parking</th>\n      <th>Elevator</th>\n      <th>Address</th>\n      <th>Price</th>\n    </tr>\n  </thead>\n  <tbody>\n    <tr>\n      <th>0</th>\n      <td>150</td>\n      <td>1388</td>\n      <td>3</td>\n      <td>TRUE</td>\n      <td>TRUE</td>\n      <td>TRUE</td>\n      <td>۲ ساعت پیش در تهران، مرزداران | فروش آپارتمان</td>\n      <td>۸٬۸۰۰٬۰۰۰٬۰۰۰ تومان</td>\n    </tr>\n    <tr>\n      <th>1</th>\n      <td>54</td>\n      <td>1389</td>\n      <td>1</td>\n      <td>FALSE</td>\n      <td>TRUE</td>\n      <td>TRUE</td>\n      <td>۲ ساعت پیش در تهران، اندیشه | فروش آپارتمان</td>\n      <td>۸۶۸٬۰۰۰٬۰۰۰ تومان</td>\n    </tr>\n    <tr>\n      <th>2</th>\n      <td>69</td>\n      <td>1390</td>\n      <td>2</td>\n      <td>FALSE</td>\n      <td>TRUE</td>\n      <td>TRUE</td>\n      <td>۲ ساعت پیش در تهران، سلسبیل | فروش آپارتمان</td>\n      <td>۲٬۱۰۰٬۰۰۰٬۰۰۰ تومان</td>\n    </tr>\n    <tr>\n      <th>3</th>\n      <td>52</td>\n      <td>1388</td>\n      <td>1</td>\n      <td>TRUE</td>\n      <td>TRUE</td>\n      <td>TRUE</td>\n      <td>۲ ساعت پیش در تهران، باغ فیض | فروش آپارتمان</td>\n      <td>۲٬۸۵۰٬۰۰۰٬۰۰۰ تومان</td>\n    </tr>\n    <tr>\n      <th>4</th>\n      <td>135</td>\n      <td>1401</td>\n      <td>3</td>\n      <td>TRUE</td>\n      <td>TRUE</td>\n      <td>TRUE</td>\n      <td>۲ ساعت پیش در تهران، نیاوران | فروش آپارتمان</td>\n      <td>۹٬۵۰۰٬۰۰۰٬۰۰۰ تومان</td>\n    </tr>\n    <tr>\n      <th>...</th>\n      <td>...</td>\n      <td>...</td>\n      <td>...</td>\n      <td>...</td>\n      <td>...</td>\n      <td>...</td>\n      <td>...</td>\n      <td>...</td>\n    </tr>\n    <tr>\n      <th>38183</th>\n      <td>50</td>\n      <td>1396</td>\n      <td>1</td>\n      <td>FALSE</td>\n      <td>TRUE</td>\n      <td>TRUE</td>\n      <td>۶ روز پیش در تهران، اندیشه | فروش آپارتمان</td>\n      <td>۷۰۰٬۰۰۰٬۰۰۰ تومان</td>\n    </tr>\n    <tr>\n      <th>38184</th>\n      <td>47</td>\n      <td>1397</td>\n      <td>1</td>\n      <td>TRUE</td>\n      <td>TRUE</td>\n      <td>TRUE</td>\n      <td>۳ ساعت پیش در تهران، اندیشه | فروش آپارتمان</td>\n      <td>۸۰۰٬۰۰۰٬۰۰۰ تومان</td>\n    </tr>\n    <tr>\n      <th>38185</th>\n      <td>190</td>\n      <td>1399</td>\n      <td>3</td>\n      <td>TRUE</td>\n      <td>TRUE</td>\n      <td>TRUE</td>\n      <td>۶ روز پیش در تهران، آجودانیه | فروش آپارتمان</td>\n      <td>توافقی</td>\n    </tr>\n    <tr>\n      <th>38186</th>\n      <td>48</td>\n      <td>1383</td>\n      <td>1</td>\n      <td>FALSE</td>\n      <td>FALSE</td>\n      <td>FALSE</td>\n      <td>۶ روز پیش در تهران، بریانک | فروش آپارتمان</td>\n      <td>۱٬۰۸۰٬۰۰۰٬۰۰۰ تومان</td>\n    </tr>\n    <tr>\n      <th>38187</th>\n      <td>150</td>\n      <td>1401</td>\n      <td>3</td>\n      <td>TRUE</td>\n      <td>TRUE</td>\n      <td>TRUE</td>\n      <td>۶ روز پیش در تهران، سعادت‌آباد | فروش آپارتمان</td>\n      <td>توافقی</td>\n    </tr>\n  </tbody>\n</table>\n<p>38188 rows × 8 columns</p>\n</div>"
     },
     "execution_count": 400,
     "metadata": {},
     "output_type": "execute_result"
    }
   ],
   "source": [
    "data2 = data2.drop(\n",
    "    ['Unnamed: 8', 'Unnamed: 10', 'Unnamed: 9', 'Unnamed: 11', 'Unnamed: 12', 'Unnamed: 13', 'Unnamed: 14',\n",
    "     'Unnamed: 15'], axis=1)\n",
    "data2"
   ],
   "metadata": {
    "collapsed": false,
    "pycharm": {
     "name": "#%%\n"
    }
   }
  },
  {
   "cell_type": "code",
   "execution_count": 401,
   "outputs": [
    {
     "data": {
      "text/plain": "'۸٬۸۰۰٬۰۰۰٬۰۰۰ تومان'"
     },
     "execution_count": 401,
     "metadata": {},
     "output_type": "execute_result"
    }
   ],
   "source": [
    "data2.Price[0]"
   ],
   "metadata": {
    "collapsed": false,
    "pycharm": {
     "name": "#%%\n"
    }
   }
  },
  {
   "cell_type": "code",
   "execution_count": 402,
   "outputs": [
    {
     "name": "stdout",
     "output_type": "stream",
     "text": [
      "۸\n",
      "٬\n",
      "۸\n",
      "۰\n",
      "۰\n",
      "٬\n",
      "۰\n",
      "۰\n",
      "۰\n",
      "٬\n",
      "۰\n",
      "۰\n",
      "۰\n",
      " \n",
      "ت\n",
      "و\n",
      "م\n",
      "ا\n",
      "ن\n"
     ]
    }
   ],
   "source": [
    "#def rem_str_exc(str_:str):\n",
    "for i in data2.Price[0]:\n",
    "    print(i)"
   ],
   "metadata": {
    "collapsed": false,
    "pycharm": {
     "name": "#%%\n"
    }
   }
  },
  {
   "cell_type": "code",
   "execution_count": 403,
   "outputs": [],
   "source": [
    "def substr(str_: str, start_position: int, length: int):\n",
    "    assert length <= len(str_)\n",
    "    return str_[start_position:start_position + length]"
   ],
   "metadata": {
    "collapsed": false,
    "pycharm": {
     "name": "#%%\n"
    }
   }
  },
  {
   "cell_type": "code",
   "execution_count": 404,
   "outputs": [
    {
     "data": {
      "text/plain": "'۸٬۸۰۰'"
     },
     "execution_count": 404,
     "metadata": {},
     "output_type": "execute_result"
    }
   ],
   "source": [
    "substr(data2.Price[0], 0, 5)"
   ],
   "metadata": {
    "collapsed": false,
    "pycharm": {
     "name": "#%%\n"
    }
   }
  },
  {
   "cell_type": "code",
   "execution_count": null,
   "outputs": [],
   "source": [
    "def remove_substr(primal: str, intended: str):\n",
    "    ln_pr = len(primal)\n",
    "    ln_ind = len(intended)\n",
    "    for i in range(ln_pr - ln_ind + 1):\n",
    "        if primal[i:i + ln_ind] == intended:\n",
    "            return primal[0:i]+primal[i+ln_ind-1:]\n",
    "    else:\n",
    "        return primal\n",
    "\n"
   ],
   "metadata": {
    "collapsed": false,
    "pycharm": {
     "name": "#%%\n"
    }
   }
  },
  {
   "cell_type": "code",
   "execution_count": 405,
   "outputs": [],
   "source": [
    "def remove_intended_str(primal_str, intended_str):\n",
    "    ln_ind = len(intended_str)\n",
    "    ln_pr = len(primal_str)\n",
    "    for i in range((ln_pr - ln_ind) + 1):\n",
    "        #print(substr(primal_str, i, ln_ind))\n",
    "        if intended_str == substr(primal_str, i, ln_ind):\n",
    "            if (i + ln_ind) >= ln_pr:\n",
    "                return substr(primal_str, 0, i)\n",
    "            else:\n",
    "                return substr(primal_str, 0, i) + substr(primal_str, i + ln_ind, ln_pr - ln_ind)\n",
    "    else:\n",
    "        return primal_str\n",
    "\n",
    "\n",
    "\n",
    "\n",
    "\n"
   ],
   "metadata": {
    "collapsed": false,
    "pycharm": {
     "name": "#%%\n"
    }
   }
  },
  {
   "cell_type": "code",
   "execution_count": 406,
   "outputs": [
    {
     "data": {
      "text/plain": "'bahram papaki kashani'"
     },
     "execution_count": 406,
     "metadata": {},
     "output_type": "execute_result"
    }
   ],
   "source": [
    "a = 'bahram papaki kashani'\n",
    "r = remove_intended_str(a, 'stu')\n",
    "r"
   ],
   "metadata": {
    "collapsed": false,
    "pycharm": {
     "name": "#%%\n"
    }
   }
  },
  {
   "cell_type": "code",
   "execution_count": 407,
   "outputs": [
    {
     "data": {
      "text/plain": "'۸٬۸۰۰٬۰۰۰٬۰۰۰ '"
     },
     "execution_count": 407,
     "metadata": {},
     "output_type": "execute_result"
    }
   ],
   "source": [
    "a = remove_intended_str(data2.Price[0], 'تومان')\n",
    "a"
   ],
   "metadata": {
    "collapsed": false,
    "pycharm": {
     "name": "#%%\n"
    }
   }
  },
  {
   "cell_type": "code",
   "execution_count": 407,
   "outputs": [],
   "source": [],
   "metadata": {
    "collapsed": false,
    "pycharm": {
     "name": "#%%\n"
    }
   }
  },
  {
   "cell_type": "code",
   "execution_count": 408,
   "outputs": [],
   "source": [
    "b = a.replace('٬', '')\n",
    "b = b.replace(\" \", '')"
   ],
   "metadata": {
    "collapsed": false,
    "pycharm": {
     "name": "#%%\n"
    }
   }
  },
  {
   "cell_type": "code",
   "execution_count": 409,
   "outputs": [],
   "source": [
    "def change_num_per_to_eng(str_num: str):\n",
    "    str_c = ''\n",
    "    a = {'۱': '1', '۲': '2', '۳': '3', '۴': '4', '۵': '5', '۶': '6', '۷': '7', '۸': '8', '۹': '9', '۰': '0'}\n",
    "    ln_str = len(str_num)\n",
    "    for i in range(ln_str):\n",
    "        if str_num[i] in a.keys():\n",
    "            d = str_num[i]\n",
    "            d = a[d]\n",
    "            str_c += d\n",
    "\n",
    "    return str_c"
   ],
   "metadata": {
    "collapsed": false,
    "pycharm": {
     "name": "#%%\n"
    }
   }
  },
  {
   "cell_type": "code",
   "execution_count": 410,
   "outputs": [
    {
     "data": {
      "text/plain": "'8800000000'"
     },
     "execution_count": 410,
     "metadata": {},
     "output_type": "execute_result"
    }
   ],
   "source": [
    "change_num_per_to_eng(b)"
   ],
   "metadata": {
    "collapsed": false,
    "pycharm": {
     "name": "#%%\n"
    }
   }
  },
  {
   "cell_type": "code",
   "execution_count": 411,
   "outputs": [],
   "source": [
    "def pre_price_ch(str_num):\n",
    "    a_st = ''\n",
    "    if str_num != None:\n",
    "        a_st = remove_intended_str(str_num, 'تومان')\n",
    "        a_st = a_st.replace('٬', '')\n",
    "        a_st = a_st.replace(' ', '')\n",
    "        a_st = change_num_per_to_eng(a_st)\n",
    "    return a_st\n"
   ],
   "metadata": {
    "collapsed": false,
    "pycharm": {
     "name": "#%%\n"
    }
   }
  },
  {
   "cell_type": "code",
   "execution_count": 412,
   "outputs": [
    {
     "data": {
      "text/plain": "'8800000000'"
     },
     "execution_count": 412,
     "metadata": {},
     "output_type": "execute_result"
    }
   ],
   "source": [
    "pre_price_ch(data2.Price[0])\n"
   ],
   "metadata": {
    "collapsed": false,
    "pycharm": {
     "name": "#%%\n"
    }
   }
  },
  {
   "cell_type": "code",
   "execution_count": 413,
   "outputs": [
    {
     "data": {
      "text/plain": "0        ۸٬۸۰۰٬۰۰۰٬۰۰۰ تومان\n1          ۸۶۸٬۰۰۰٬۰۰۰ تومان\n2        ۲٬۱۰۰٬۰۰۰٬۰۰۰ تومان\n3        ۲٬۸۵۰٬۰۰۰٬۰۰۰ تومان\n4        ۹٬۵۰۰٬۰۰۰٬۰۰۰ تومان\n                ...         \n38183      ۷۰۰٬۰۰۰٬۰۰۰ تومان\n38184      ۸۰۰٬۰۰۰٬۰۰۰ تومان\n38185                 توافقی\n38186    ۱٬۰۸۰٬۰۰۰٬۰۰۰ تومان\n38187                 توافقی\nName: Price, Length: 38188, dtype: object"
     },
     "execution_count": 413,
     "metadata": {},
     "output_type": "execute_result"
    }
   ],
   "source": [
    "data2.Price"
   ],
   "metadata": {
    "collapsed": false,
    "pycharm": {
     "name": "#%%\n"
    }
   }
  },
  {
   "cell_type": "code",
   "execution_count": 414,
   "outputs": [
    {
     "data": {
      "text/plain": "'۸٬۸۰۰٬۰۰۰٬۰۰۰ تومان'"
     },
     "execution_count": 414,
     "metadata": {},
     "output_type": "execute_result"
    }
   ],
   "source": [
    "data2.Price[0]"
   ],
   "metadata": {
    "collapsed": false,
    "pycharm": {
     "name": "#%%\n"
    }
   }
  },
  {
   "cell_type": "code",
   "execution_count": 415,
   "outputs": [
    {
     "data": {
      "text/plain": "'۸۸۰۰۰۰۰۰۰۰ '"
     },
     "execution_count": 415,
     "metadata": {},
     "output_type": "execute_result"
    }
   ],
   "source": [
    "a = data2.Price[0]\n",
    "a = remove_intended_str(a, 'تومان')\n",
    "a\n",
    "a = a.replace('٬', '')\n",
    "a\n"
   ],
   "metadata": {
    "collapsed": false,
    "pycharm": {
     "name": "#%%\n"
    }
   }
  },
  {
   "cell_type": "code",
   "execution_count": 416,
   "outputs": [
    {
     "data": {
      "text/plain": "RangeIndex(start=0, stop=38188, step=1)"
     },
     "execution_count": 416,
     "metadata": {},
     "output_type": "execute_result"
    }
   ],
   "source": [
    "data2.index"
   ],
   "metadata": {
    "collapsed": false,
    "pycharm": {
     "name": "#%%\n"
    }
   }
  },
  {
   "cell_type": "code",
   "execution_count": 417,
   "outputs": [
    {
     "data": {
      "text/plain": "0        ۸٬۸۰۰٬۰۰۰٬۰۰۰ تومان\n1          ۸۶۸٬۰۰۰٬۰۰۰ تومان\n2        ۲٬۱۰۰٬۰۰۰٬۰۰۰ تومان\n3        ۲٬۸۵۰٬۰۰۰٬۰۰۰ تومان\n4        ۹٬۵۰۰٬۰۰۰٬۰۰۰ تومان\n                ...         \n38183      ۷۰۰٬۰۰۰٬۰۰۰ تومان\n38184      ۸۰۰٬۰۰۰٬۰۰۰ تومان\n38185                 توافقی\n38186    ۱٬۰۸۰٬۰۰۰٬۰۰۰ تومان\n38187                 توافقی\nName: Price, Length: 38188, dtype: object"
     },
     "execution_count": 417,
     "metadata": {},
     "output_type": "execute_result"
    }
   ],
   "source": [
    "data2.Price"
   ],
   "metadata": {
    "collapsed": false,
    "pycharm": {
     "name": "#%%\n"
    }
   }
  },
  {
   "cell_type": "code",
   "execution_count": 418,
   "outputs": [],
   "source": [
    "for i in data2.index:\n",
    "    if (data2.Price[i] != 'توافقی') and (type(data2.Price[i]) != float) and (data2.Price[i] != None):\n",
    "        data2.Price[i] = pre_price_ch(data2.Price[i])\n",
    "\n",
    "\n"
   ],
   "metadata": {
    "collapsed": false,
    "pycharm": {
     "name": "#%%\n"
    }
   }
  },
  {
   "cell_type": "code",
   "execution_count": 419,
   "outputs": [
    {
     "data": {
      "text/plain": "0        8800000000\n1         868000000\n2        2100000000\n3        2850000000\n4        9500000000\n            ...    \n38183     700000000\n38184     800000000\n38185        توافقی\n38186    1080000000\n38187        توافقی\nName: Price, Length: 38188, dtype: object"
     },
     "execution_count": 419,
     "metadata": {},
     "output_type": "execute_result"
    }
   ],
   "source": [
    "data2.Price"
   ],
   "metadata": {
    "collapsed": false,
    "pycharm": {
     "name": "#%%\n"
    }
   }
  },
  {
   "cell_type": "code",
   "execution_count": 420,
   "outputs": [
    {
     "data": {
      "text/plain": "      Area Construction Room Warehouse Parking Elevator  \\\n0      150         1388    3      TRUE    TRUE     TRUE   \n1       54         1389    1     FALSE    TRUE     TRUE   \n2       69         1390    2     FALSE    TRUE     TRUE   \n3       52         1388    1      TRUE    TRUE     TRUE   \n4      135         1401    3      TRUE    TRUE     TRUE   \n...    ...          ...  ...       ...     ...      ...   \n38183   50         1396    1     FALSE    TRUE     TRUE   \n38184   47         1397    1      TRUE    TRUE     TRUE   \n38185  190         1399    3      TRUE    TRUE     TRUE   \n38186   48         1383    1     FALSE   FALSE    FALSE   \n38187  150         1401    3      TRUE    TRUE     TRUE   \n\n                                              Address       Price  \n0       ۲ ساعت پیش در تهران، مرزداران | فروش آپارتمان  8800000000  \n1         ۲ ساعت پیش در تهران، اندیشه | فروش آپارتمان   868000000  \n2         ۲ ساعت پیش در تهران، سلسبیل | فروش آپارتمان  2100000000  \n3        ۲ ساعت پیش در تهران، باغ فیض | فروش آپارتمان  2850000000  \n4        ۲ ساعت پیش در تهران، نیاوران | فروش آپارتمان  9500000000  \n...                                               ...         ...  \n38183      ۶ روز پیش در تهران، اندیشه | فروش آپارتمان   700000000  \n38184     ۳ ساعت پیش در تهران، اندیشه | فروش آپارتمان   800000000  \n38185    ۶ روز پیش در تهران، آجودانیه | فروش آپارتمان      توافقی  \n38186      ۶ روز پیش در تهران، بریانک | فروش آپارتمان  1080000000  \n38187  ۶ روز پیش در تهران، سعادت‌آباد | فروش آپارتمان      توافقی  \n\n[38188 rows x 8 columns]",
      "text/html": "<div>\n<style scoped>\n    .dataframe tbody tr th:only-of-type {\n        vertical-align: middle;\n    }\n\n    .dataframe tbody tr th {\n        vertical-align: top;\n    }\n\n    .dataframe thead th {\n        text-align: right;\n    }\n</style>\n<table border=\"1\" class=\"dataframe\">\n  <thead>\n    <tr style=\"text-align: right;\">\n      <th></th>\n      <th>Area</th>\n      <th>Construction</th>\n      <th>Room</th>\n      <th>Warehouse</th>\n      <th>Parking</th>\n      <th>Elevator</th>\n      <th>Address</th>\n      <th>Price</th>\n    </tr>\n  </thead>\n  <tbody>\n    <tr>\n      <th>0</th>\n      <td>150</td>\n      <td>1388</td>\n      <td>3</td>\n      <td>TRUE</td>\n      <td>TRUE</td>\n      <td>TRUE</td>\n      <td>۲ ساعت پیش در تهران، مرزداران | فروش آپارتمان</td>\n      <td>8800000000</td>\n    </tr>\n    <tr>\n      <th>1</th>\n      <td>54</td>\n      <td>1389</td>\n      <td>1</td>\n      <td>FALSE</td>\n      <td>TRUE</td>\n      <td>TRUE</td>\n      <td>۲ ساعت پیش در تهران، اندیشه | فروش آپارتمان</td>\n      <td>868000000</td>\n    </tr>\n    <tr>\n      <th>2</th>\n      <td>69</td>\n      <td>1390</td>\n      <td>2</td>\n      <td>FALSE</td>\n      <td>TRUE</td>\n      <td>TRUE</td>\n      <td>۲ ساعت پیش در تهران، سلسبیل | فروش آپارتمان</td>\n      <td>2100000000</td>\n    </tr>\n    <tr>\n      <th>3</th>\n      <td>52</td>\n      <td>1388</td>\n      <td>1</td>\n      <td>TRUE</td>\n      <td>TRUE</td>\n      <td>TRUE</td>\n      <td>۲ ساعت پیش در تهران، باغ فیض | فروش آپارتمان</td>\n      <td>2850000000</td>\n    </tr>\n    <tr>\n      <th>4</th>\n      <td>135</td>\n      <td>1401</td>\n      <td>3</td>\n      <td>TRUE</td>\n      <td>TRUE</td>\n      <td>TRUE</td>\n      <td>۲ ساعت پیش در تهران، نیاوران | فروش آپارتمان</td>\n      <td>9500000000</td>\n    </tr>\n    <tr>\n      <th>...</th>\n      <td>...</td>\n      <td>...</td>\n      <td>...</td>\n      <td>...</td>\n      <td>...</td>\n      <td>...</td>\n      <td>...</td>\n      <td>...</td>\n    </tr>\n    <tr>\n      <th>38183</th>\n      <td>50</td>\n      <td>1396</td>\n      <td>1</td>\n      <td>FALSE</td>\n      <td>TRUE</td>\n      <td>TRUE</td>\n      <td>۶ روز پیش در تهران، اندیشه | فروش آپارتمان</td>\n      <td>700000000</td>\n    </tr>\n    <tr>\n      <th>38184</th>\n      <td>47</td>\n      <td>1397</td>\n      <td>1</td>\n      <td>TRUE</td>\n      <td>TRUE</td>\n      <td>TRUE</td>\n      <td>۳ ساعت پیش در تهران، اندیشه | فروش آپارتمان</td>\n      <td>800000000</td>\n    </tr>\n    <tr>\n      <th>38185</th>\n      <td>190</td>\n      <td>1399</td>\n      <td>3</td>\n      <td>TRUE</td>\n      <td>TRUE</td>\n      <td>TRUE</td>\n      <td>۶ روز پیش در تهران، آجودانیه | فروش آپارتمان</td>\n      <td>توافقی</td>\n    </tr>\n    <tr>\n      <th>38186</th>\n      <td>48</td>\n      <td>1383</td>\n      <td>1</td>\n      <td>FALSE</td>\n      <td>FALSE</td>\n      <td>FALSE</td>\n      <td>۶ روز پیش در تهران، بریانک | فروش آپارتمان</td>\n      <td>1080000000</td>\n    </tr>\n    <tr>\n      <th>38187</th>\n      <td>150</td>\n      <td>1401</td>\n      <td>3</td>\n      <td>TRUE</td>\n      <td>TRUE</td>\n      <td>TRUE</td>\n      <td>۶ روز پیش در تهران، سعادت‌آباد | فروش آپارتمان</td>\n      <td>توافقی</td>\n    </tr>\n  </tbody>\n</table>\n<p>38188 rows × 8 columns</p>\n</div>"
     },
     "execution_count": 420,
     "metadata": {},
     "output_type": "execute_result"
    }
   ],
   "source": [
    "data2"
   ],
   "metadata": {
    "collapsed": false,
    "pycharm": {
     "name": "#%%\n"
    }
   }
  },
  {
   "cell_type": "code",
   "execution_count": 419,
   "outputs": [],
   "source": [],
   "metadata": {
    "collapsed": false,
    "pycharm": {
     "name": "#%%\n"
    }
   }
  }
 ],
 "metadata": {
  "kernelspec": {
   "display_name": "Python 3",
   "language": "python",
   "name": "python3"
  },
  "language_info": {
   "codemirror_mode": {
    "name": "ipython",
    "version": 2
   },
   "file_extension": ".py",
   "mimetype": "text/x-python",
   "name": "python",
   "nbconvert_exporter": "python",
   "pygments_lexer": "ipython2",
   "version": "2.7.6"
  }
 },
 "nbformat": 4,
 "nbformat_minor": 0
}