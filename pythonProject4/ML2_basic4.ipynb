{
 "cells": [
  {
   "cell_type": "code",
   "execution_count": 1,
   "metadata": {
    "collapsed": true
   },
   "outputs": [],
   "source": [
    "import numpy as np\n",
    "import pandas as pd\n",
    "import matplotlib.pyplot as plt"
   ]
  },
  {
   "cell_type": "code",
   "execution_count": 6,
   "outputs": [
    {
     "data": {
      "text/plain": "        userId  movieId  rating\n0            1        1     4.0\n1            1        3     4.0\n2            1        6     4.0\n3            1       47     5.0\n4            1       50     5.0\n...        ...      ...     ...\n100831     610   166534     4.0\n100832     610   168248     5.0\n100833     610   168250     5.0\n100834     610   168252     5.0\n100835     610   170875     3.0\n\n[100836 rows x 3 columns]",
      "text/html": "<div>\n<style scoped>\n    .dataframe tbody tr th:only-of-type {\n        vertical-align: middle;\n    }\n\n    .dataframe tbody tr th {\n        vertical-align: top;\n    }\n\n    .dataframe thead th {\n        text-align: right;\n    }\n</style>\n<table border=\"1\" class=\"dataframe\">\n  <thead>\n    <tr style=\"text-align: right;\">\n      <th></th>\n      <th>userId</th>\n      <th>movieId</th>\n      <th>rating</th>\n    </tr>\n  </thead>\n  <tbody>\n    <tr>\n      <th>0</th>\n      <td>1</td>\n      <td>1</td>\n      <td>4.0</td>\n    </tr>\n    <tr>\n      <th>1</th>\n      <td>1</td>\n      <td>3</td>\n      <td>4.0</td>\n    </tr>\n    <tr>\n      <th>2</th>\n      <td>1</td>\n      <td>6</td>\n      <td>4.0</td>\n    </tr>\n    <tr>\n      <th>3</th>\n      <td>1</td>\n      <td>47</td>\n      <td>5.0</td>\n    </tr>\n    <tr>\n      <th>4</th>\n      <td>1</td>\n      <td>50</td>\n      <td>5.0</td>\n    </tr>\n    <tr>\n      <th>...</th>\n      <td>...</td>\n      <td>...</td>\n      <td>...</td>\n    </tr>\n    <tr>\n      <th>100831</th>\n      <td>610</td>\n      <td>166534</td>\n      <td>4.0</td>\n    </tr>\n    <tr>\n      <th>100832</th>\n      <td>610</td>\n      <td>168248</td>\n      <td>5.0</td>\n    </tr>\n    <tr>\n      <th>100833</th>\n      <td>610</td>\n      <td>168250</td>\n      <td>5.0</td>\n    </tr>\n    <tr>\n      <th>100834</th>\n      <td>610</td>\n      <td>168252</td>\n      <td>5.0</td>\n    </tr>\n    <tr>\n      <th>100835</th>\n      <td>610</td>\n      <td>170875</td>\n      <td>3.0</td>\n    </tr>\n  </tbody>\n</table>\n<p>100836 rows × 3 columns</p>\n</div>"
     },
     "execution_count": 6,
     "metadata": {},
     "output_type": "execute_result"
    }
   ],
   "source": [
    "imdb_df = pd.read_csv('F:\\my project\\dataset\\learning_dataset\\\\ratings.csv', usecols=range(3))\n",
    "imdb_df"
   ],
   "metadata": {
    "collapsed": false,
    "pycharm": {
     "name": "#%%\n"
    }
   }
  },
  {
   "cell_type": "code",
   "execution_count": 10,
   "outputs": [
    {
     "data": {
      "text/plain": "                                             title\nmovieId                                           \n1                                 Toy Story (1995)\n2                                   Jumanji (1995)\n3                          Grumpier Old Men (1995)\n4                         Waiting to Exhale (1995)\n5               Father of the Bride Part II (1995)\n...                                            ...\n193581   Black Butler: Book of the Atlantic (2017)\n193583                No Game No Life: Zero (2017)\n193585                                Flint (2017)\n193587         Bungo Stray Dogs: Dead Apple (2018)\n193609         Andrew Dice Clay: Dice Rules (1991)\n\n[9742 rows x 1 columns]",
      "text/html": "<div>\n<style scoped>\n    .dataframe tbody tr th:only-of-type {\n        vertical-align: middle;\n    }\n\n    .dataframe tbody tr th {\n        vertical-align: top;\n    }\n\n    .dataframe thead th {\n        text-align: right;\n    }\n</style>\n<table border=\"1\" class=\"dataframe\">\n  <thead>\n    <tr style=\"text-align: right;\">\n      <th></th>\n      <th>title</th>\n    </tr>\n    <tr>\n      <th>movieId</th>\n      <th></th>\n    </tr>\n  </thead>\n  <tbody>\n    <tr>\n      <th>1</th>\n      <td>Toy Story (1995)</td>\n    </tr>\n    <tr>\n      <th>2</th>\n      <td>Jumanji (1995)</td>\n    </tr>\n    <tr>\n      <th>3</th>\n      <td>Grumpier Old Men (1995)</td>\n    </tr>\n    <tr>\n      <th>4</th>\n      <td>Waiting to Exhale (1995)</td>\n    </tr>\n    <tr>\n      <th>5</th>\n      <td>Father of the Bride Part II (1995)</td>\n    </tr>\n    <tr>\n      <th>...</th>\n      <td>...</td>\n    </tr>\n    <tr>\n      <th>193581</th>\n      <td>Black Butler: Book of the Atlantic (2017)</td>\n    </tr>\n    <tr>\n      <th>193583</th>\n      <td>No Game No Life: Zero (2017)</td>\n    </tr>\n    <tr>\n      <th>193585</th>\n      <td>Flint (2017)</td>\n    </tr>\n    <tr>\n      <th>193587</th>\n      <td>Bungo Stray Dogs: Dead Apple (2018)</td>\n    </tr>\n    <tr>\n      <th>193609</th>\n      <td>Andrew Dice Clay: Dice Rules (1991)</td>\n    </tr>\n  </tbody>\n</table>\n<p>9742 rows × 1 columns</p>\n</div>"
     },
     "execution_count": 10,
     "metadata": {},
     "output_type": "execute_result"
    }
   ],
   "source": [
    "movie_name_df = pd.read_csv('F:\\my project\\dataset\\learning_dataset\\\\movies.csv', usecols=range(2), index_col=0)\n",
    "movie_name_df"
   ],
   "metadata": {
    "collapsed": false,
    "pycharm": {
     "name": "#%%\n"
    }
   }
  },
  {
   "cell_type": "code",
   "execution_count": 11,
   "outputs": [
    {
     "name": "stderr",
     "output_type": "stream",
     "text": [
      "C:\\Users\\ADMIN\\AppData\\Local\\Temp\\ipykernel_7916\\2152222115.py:3: SettingWithCopyWarning: \n",
      "A value is trying to be set on a copy of a slice from a DataFrame\n",
      "\n",
      "See the caveats in the documentation: https://pandas.pydata.org/pandas-docs/stable/user_guide/indexing.html#returning-a-view-versus-a-copy\n",
      "  imdb_df['name_film'][i]=movie_name_df['title'][imdb_df.movieId[i]]\n"
     ]
    }
   ],
   "source": [
    "imdb_df['name_film'] = ''\n",
    "for i in imdb_df.index:\n",
    "    imdb_df['name_film'][i] = movie_name_df['title'][imdb_df.movieId[i]]"
   ],
   "metadata": {
    "collapsed": false,
    "pycharm": {
     "name": "#%%\n"
    }
   }
  },
  {
   "cell_type": "code",
   "execution_count": 12,
   "outputs": [
    {
     "data": {
      "text/plain": "        userId  movieId  rating                       name_film\n0            1        1     4.0                Toy Story (1995)\n1            1        3     4.0         Grumpier Old Men (1995)\n2            1        6     4.0                     Heat (1995)\n3            1       47     5.0     Seven (a.k.a. Se7en) (1995)\n4            1       50     5.0      Usual Suspects, The (1995)\n...        ...      ...     ...                             ...\n100831     610   166534     4.0                    Split (2017)\n100832     610   168248     5.0   John Wick: Chapter Two (2017)\n100833     610   168250     5.0                  Get Out (2017)\n100834     610   168252     5.0                    Logan (2017)\n100835     610   170875     3.0  The Fate of the Furious (2017)\n\n[100836 rows x 4 columns]",
      "text/html": "<div>\n<style scoped>\n    .dataframe tbody tr th:only-of-type {\n        vertical-align: middle;\n    }\n\n    .dataframe tbody tr th {\n        vertical-align: top;\n    }\n\n    .dataframe thead th {\n        text-align: right;\n    }\n</style>\n<table border=\"1\" class=\"dataframe\">\n  <thead>\n    <tr style=\"text-align: right;\">\n      <th></th>\n      <th>userId</th>\n      <th>movieId</th>\n      <th>rating</th>\n      <th>name_film</th>\n    </tr>\n  </thead>\n  <tbody>\n    <tr>\n      <th>0</th>\n      <td>1</td>\n      <td>1</td>\n      <td>4.0</td>\n      <td>Toy Story (1995)</td>\n    </tr>\n    <tr>\n      <th>1</th>\n      <td>1</td>\n      <td>3</td>\n      <td>4.0</td>\n      <td>Grumpier Old Men (1995)</td>\n    </tr>\n    <tr>\n      <th>2</th>\n      <td>1</td>\n      <td>6</td>\n      <td>4.0</td>\n      <td>Heat (1995)</td>\n    </tr>\n    <tr>\n      <th>3</th>\n      <td>1</td>\n      <td>47</td>\n      <td>5.0</td>\n      <td>Seven (a.k.a. Se7en) (1995)</td>\n    </tr>\n    <tr>\n      <th>4</th>\n      <td>1</td>\n      <td>50</td>\n      <td>5.0</td>\n      <td>Usual Suspects, The (1995)</td>\n    </tr>\n    <tr>\n      <th>...</th>\n      <td>...</td>\n      <td>...</td>\n      <td>...</td>\n      <td>...</td>\n    </tr>\n    <tr>\n      <th>100831</th>\n      <td>610</td>\n      <td>166534</td>\n      <td>4.0</td>\n      <td>Split (2017)</td>\n    </tr>\n    <tr>\n      <th>100832</th>\n      <td>610</td>\n      <td>168248</td>\n      <td>5.0</td>\n      <td>John Wick: Chapter Two (2017)</td>\n    </tr>\n    <tr>\n      <th>100833</th>\n      <td>610</td>\n      <td>168250</td>\n      <td>5.0</td>\n      <td>Get Out (2017)</td>\n    </tr>\n    <tr>\n      <th>100834</th>\n      <td>610</td>\n      <td>168252</td>\n      <td>5.0</td>\n      <td>Logan (2017)</td>\n    </tr>\n    <tr>\n      <th>100835</th>\n      <td>610</td>\n      <td>170875</td>\n      <td>3.0</td>\n      <td>The Fate of the Furious (2017)</td>\n    </tr>\n  </tbody>\n</table>\n<p>100836 rows × 4 columns</p>\n</div>"
     },
     "execution_count": 12,
     "metadata": {},
     "output_type": "execute_result"
    }
   ],
   "source": [
    "imdb_df"
   ],
   "metadata": {
    "collapsed": false,
    "pycharm": {
     "name": "#%%\n"
    }
   }
  },
  {
   "cell_type": "code",
   "execution_count": 27,
   "outputs": [
    {
     "data": {
      "text/plain": "movieId  1       2       3       4       5       6       7       8       \\\nuserId                                                                    \n1           4.0     NaN     4.0     NaN     NaN     4.0     NaN     NaN   \n2           NaN     NaN     NaN     NaN     NaN     NaN     NaN     NaN   \n3           NaN     NaN     NaN     NaN     NaN     NaN     NaN     NaN   \n4           NaN     NaN     NaN     NaN     NaN     NaN     NaN     NaN   \n5           4.0     NaN     NaN     NaN     NaN     NaN     NaN     NaN   \n...         ...     ...     ...     ...     ...     ...     ...     ...   \n606         2.5     NaN     NaN     NaN     NaN     NaN     2.5     NaN   \n607         4.0     NaN     NaN     NaN     NaN     NaN     NaN     NaN   \n608         2.5     2.0     2.0     NaN     NaN     NaN     NaN     NaN   \n609         3.0     NaN     NaN     NaN     NaN     NaN     NaN     NaN   \n610         5.0     NaN     NaN     NaN     NaN     5.0     NaN     NaN   \n\nmovieId  9       10      ...  193565  193567  193571  193573  193579  193581  \\\nuserId                   ...                                                   \n1           NaN     NaN  ...     NaN     NaN     NaN     NaN     NaN     NaN   \n2           NaN     NaN  ...     NaN     NaN     NaN     NaN     NaN     NaN   \n3           NaN     NaN  ...     NaN     NaN     NaN     NaN     NaN     NaN   \n4           NaN     NaN  ...     NaN     NaN     NaN     NaN     NaN     NaN   \n5           NaN     NaN  ...     NaN     NaN     NaN     NaN     NaN     NaN   \n...         ...     ...  ...     ...     ...     ...     ...     ...     ...   \n606         NaN     NaN  ...     NaN     NaN     NaN     NaN     NaN     NaN   \n607         NaN     NaN  ...     NaN     NaN     NaN     NaN     NaN     NaN   \n608         NaN     4.0  ...     NaN     NaN     NaN     NaN     NaN     NaN   \n609         NaN     4.0  ...     NaN     NaN     NaN     NaN     NaN     NaN   \n610         NaN     NaN  ...     NaN     NaN     NaN     NaN     NaN     NaN   \n\nmovieId  193583  193585  193587  193609  \nuserId                                   \n1           NaN     NaN     NaN     NaN  \n2           NaN     NaN     NaN     NaN  \n3           NaN     NaN     NaN     NaN  \n4           NaN     NaN     NaN     NaN  \n5           NaN     NaN     NaN     NaN  \n...         ...     ...     ...     ...  \n606         NaN     NaN     NaN     NaN  \n607         NaN     NaN     NaN     NaN  \n608         NaN     NaN     NaN     NaN  \n609         NaN     NaN     NaN     NaN  \n610         NaN     NaN     NaN     NaN  \n\n[610 rows x 9724 columns]",
      "text/html": "<div>\n<style scoped>\n    .dataframe tbody tr th:only-of-type {\n        vertical-align: middle;\n    }\n\n    .dataframe tbody tr th {\n        vertical-align: top;\n    }\n\n    .dataframe thead th {\n        text-align: right;\n    }\n</style>\n<table border=\"1\" class=\"dataframe\">\n  <thead>\n    <tr style=\"text-align: right;\">\n      <th>movieId</th>\n      <th>1</th>\n      <th>2</th>\n      <th>3</th>\n      <th>4</th>\n      <th>5</th>\n      <th>6</th>\n      <th>7</th>\n      <th>8</th>\n      <th>9</th>\n      <th>10</th>\n      <th>...</th>\n      <th>193565</th>\n      <th>193567</th>\n      <th>193571</th>\n      <th>193573</th>\n      <th>193579</th>\n      <th>193581</th>\n      <th>193583</th>\n      <th>193585</th>\n      <th>193587</th>\n      <th>193609</th>\n    </tr>\n    <tr>\n      <th>userId</th>\n      <th></th>\n      <th></th>\n      <th></th>\n      <th></th>\n      <th></th>\n      <th></th>\n      <th></th>\n      <th></th>\n      <th></th>\n      <th></th>\n      <th></th>\n      <th></th>\n      <th></th>\n      <th></th>\n      <th></th>\n      <th></th>\n      <th></th>\n      <th></th>\n      <th></th>\n      <th></th>\n      <th></th>\n    </tr>\n  </thead>\n  <tbody>\n    <tr>\n      <th>1</th>\n      <td>4.0</td>\n      <td>NaN</td>\n      <td>4.0</td>\n      <td>NaN</td>\n      <td>NaN</td>\n      <td>4.0</td>\n      <td>NaN</td>\n      <td>NaN</td>\n      <td>NaN</td>\n      <td>NaN</td>\n      <td>...</td>\n      <td>NaN</td>\n      <td>NaN</td>\n      <td>NaN</td>\n      <td>NaN</td>\n      <td>NaN</td>\n      <td>NaN</td>\n      <td>NaN</td>\n      <td>NaN</td>\n      <td>NaN</td>\n      <td>NaN</td>\n    </tr>\n    <tr>\n      <th>2</th>\n      <td>NaN</td>\n      <td>NaN</td>\n      <td>NaN</td>\n      <td>NaN</td>\n      <td>NaN</td>\n      <td>NaN</td>\n      <td>NaN</td>\n      <td>NaN</td>\n      <td>NaN</td>\n      <td>NaN</td>\n      <td>...</td>\n      <td>NaN</td>\n      <td>NaN</td>\n      <td>NaN</td>\n      <td>NaN</td>\n      <td>NaN</td>\n      <td>NaN</td>\n      <td>NaN</td>\n      <td>NaN</td>\n      <td>NaN</td>\n      <td>NaN</td>\n    </tr>\n    <tr>\n      <th>3</th>\n      <td>NaN</td>\n      <td>NaN</td>\n      <td>NaN</td>\n      <td>NaN</td>\n      <td>NaN</td>\n      <td>NaN</td>\n      <td>NaN</td>\n      <td>NaN</td>\n      <td>NaN</td>\n      <td>NaN</td>\n      <td>...</td>\n      <td>NaN</td>\n      <td>NaN</td>\n      <td>NaN</td>\n      <td>NaN</td>\n      <td>NaN</td>\n      <td>NaN</td>\n      <td>NaN</td>\n      <td>NaN</td>\n      <td>NaN</td>\n      <td>NaN</td>\n    </tr>\n    <tr>\n      <th>4</th>\n      <td>NaN</td>\n      <td>NaN</td>\n      <td>NaN</td>\n      <td>NaN</td>\n      <td>NaN</td>\n      <td>NaN</td>\n      <td>NaN</td>\n      <td>NaN</td>\n      <td>NaN</td>\n      <td>NaN</td>\n      <td>...</td>\n      <td>NaN</td>\n      <td>NaN</td>\n      <td>NaN</td>\n      <td>NaN</td>\n      <td>NaN</td>\n      <td>NaN</td>\n      <td>NaN</td>\n      <td>NaN</td>\n      <td>NaN</td>\n      <td>NaN</td>\n    </tr>\n    <tr>\n      <th>5</th>\n      <td>4.0</td>\n      <td>NaN</td>\n      <td>NaN</td>\n      <td>NaN</td>\n      <td>NaN</td>\n      <td>NaN</td>\n      <td>NaN</td>\n      <td>NaN</td>\n      <td>NaN</td>\n      <td>NaN</td>\n      <td>...</td>\n      <td>NaN</td>\n      <td>NaN</td>\n      <td>NaN</td>\n      <td>NaN</td>\n      <td>NaN</td>\n      <td>NaN</td>\n      <td>NaN</td>\n      <td>NaN</td>\n      <td>NaN</td>\n      <td>NaN</td>\n    </tr>\n    <tr>\n      <th>...</th>\n      <td>...</td>\n      <td>...</td>\n      <td>...</td>\n      <td>...</td>\n      <td>...</td>\n      <td>...</td>\n      <td>...</td>\n      <td>...</td>\n      <td>...</td>\n      <td>...</td>\n      <td>...</td>\n      <td>...</td>\n      <td>...</td>\n      <td>...</td>\n      <td>...</td>\n      <td>...</td>\n      <td>...</td>\n      <td>...</td>\n      <td>...</td>\n      <td>...</td>\n      <td>...</td>\n    </tr>\n    <tr>\n      <th>606</th>\n      <td>2.5</td>\n      <td>NaN</td>\n      <td>NaN</td>\n      <td>NaN</td>\n      <td>NaN</td>\n      <td>NaN</td>\n      <td>2.5</td>\n      <td>NaN</td>\n      <td>NaN</td>\n      <td>NaN</td>\n      <td>...</td>\n      <td>NaN</td>\n      <td>NaN</td>\n      <td>NaN</td>\n      <td>NaN</td>\n      <td>NaN</td>\n      <td>NaN</td>\n      <td>NaN</td>\n      <td>NaN</td>\n      <td>NaN</td>\n      <td>NaN</td>\n    </tr>\n    <tr>\n      <th>607</th>\n      <td>4.0</td>\n      <td>NaN</td>\n      <td>NaN</td>\n      <td>NaN</td>\n      <td>NaN</td>\n      <td>NaN</td>\n      <td>NaN</td>\n      <td>NaN</td>\n      <td>NaN</td>\n      <td>NaN</td>\n      <td>...</td>\n      <td>NaN</td>\n      <td>NaN</td>\n      <td>NaN</td>\n      <td>NaN</td>\n      <td>NaN</td>\n      <td>NaN</td>\n      <td>NaN</td>\n      <td>NaN</td>\n      <td>NaN</td>\n      <td>NaN</td>\n    </tr>\n    <tr>\n      <th>608</th>\n      <td>2.5</td>\n      <td>2.0</td>\n      <td>2.0</td>\n      <td>NaN</td>\n      <td>NaN</td>\n      <td>NaN</td>\n      <td>NaN</td>\n      <td>NaN</td>\n      <td>NaN</td>\n      <td>4.0</td>\n      <td>...</td>\n      <td>NaN</td>\n      <td>NaN</td>\n      <td>NaN</td>\n      <td>NaN</td>\n      <td>NaN</td>\n      <td>NaN</td>\n      <td>NaN</td>\n      <td>NaN</td>\n      <td>NaN</td>\n      <td>NaN</td>\n    </tr>\n    <tr>\n      <th>609</th>\n      <td>3.0</td>\n      <td>NaN</td>\n      <td>NaN</td>\n      <td>NaN</td>\n      <td>NaN</td>\n      <td>NaN</td>\n      <td>NaN</td>\n      <td>NaN</td>\n      <td>NaN</td>\n      <td>4.0</td>\n      <td>...</td>\n      <td>NaN</td>\n      <td>NaN</td>\n      <td>NaN</td>\n      <td>NaN</td>\n      <td>NaN</td>\n      <td>NaN</td>\n      <td>NaN</td>\n      <td>NaN</td>\n      <td>NaN</td>\n      <td>NaN</td>\n    </tr>\n    <tr>\n      <th>610</th>\n      <td>5.0</td>\n      <td>NaN</td>\n      <td>NaN</td>\n      <td>NaN</td>\n      <td>NaN</td>\n      <td>5.0</td>\n      <td>NaN</td>\n      <td>NaN</td>\n      <td>NaN</td>\n      <td>NaN</td>\n      <td>...</td>\n      <td>NaN</td>\n      <td>NaN</td>\n      <td>NaN</td>\n      <td>NaN</td>\n      <td>NaN</td>\n      <td>NaN</td>\n      <td>NaN</td>\n      <td>NaN</td>\n      <td>NaN</td>\n      <td>NaN</td>\n    </tr>\n  </tbody>\n</table>\n<p>610 rows × 9724 columns</p>\n</div>"
     },
     "execution_count": 27,
     "metadata": {},
     "output_type": "execute_result"
    }
   ],
   "source": [
    "user_movie_df = pd.pivot_table(index='userId', columns='movieId', values='rating', data=imdb_df)\n",
    "user_movie_df"
   ],
   "metadata": {
    "collapsed": false,
    "pycharm": {
     "name": "#%%\n"
    }
   }
  },
  {
   "cell_type": "code",
   "execution_count": 17,
   "outputs": [
    {
     "data": {
      "text/plain": "userId\n1      4.0\n2      NaN\n3      NaN\n4      NaN\n5      4.0\n      ... \n606    2.5\n607    4.0\n608    2.5\n609    3.0\n610    5.0\nName: 1, Length: 610, dtype: float64"
     },
     "execution_count": 17,
     "metadata": {},
     "output_type": "execute_result"
    }
   ],
   "source": [
    "toystory_rating = user_movie_df[1]\n",
    "toystory_rating"
   ],
   "metadata": {
    "collapsed": false,
    "pycharm": {
     "name": "#%%\n"
    }
   }
  },
  {
   "cell_type": "code",
   "execution_count": 42,
   "outputs": [
    {
     "data": {
      "text/plain": "215"
     },
     "execution_count": 42,
     "metadata": {},
     "output_type": "execute_result"
    }
   ],
   "source": [
    "toystory_rating[toystory_rating >= 0].size"
   ],
   "metadata": {
    "collapsed": false,
    "pycharm": {
     "name": "#%%\n"
    }
   }
  },
  {
   "cell_type": "code",
   "execution_count": 43,
   "outputs": [
    {
     "data": {
      "text/plain": "110"
     },
     "execution_count": 43,
     "metadata": {},
     "output_type": "execute_result"
    }
   ],
   "source": [
    "user_movie_df[2][user_movie_df[2] >= 0].size"
   ],
   "metadata": {
    "collapsed": false,
    "pycharm": {
     "name": "#%%\n"
    }
   }
  },
  {
   "cell_type": "code",
   "execution_count": 18,
   "outputs": [
    {
     "name": "stderr",
     "output_type": "stream",
     "text": [
      "c:\\users\\admin\\pycharmprojects\\pythonproject5\\venv\\lib\\site-packages\\numpy\\lib\\function_base.py:2846: RuntimeWarning: Degrees of freedom <= 0 for slice\n",
      "  c = cov(x, y, rowvar, dtype=dtype)\n",
      "c:\\users\\admin\\pycharmprojects\\pythonproject5\\venv\\lib\\site-packages\\numpy\\lib\\function_base.py:2705: RuntimeWarning: divide by zero encountered in divide\n",
      "  c *= np.true_divide(1, fact)\n"
     ]
    },
    {
     "data": {
      "text/plain": "movieId\n1         1.000000\n2         0.330978\n3         0.487109\n4         1.000000\n5         0.310971\n            ...   \n193581         NaN\n193583         NaN\n193585         NaN\n193587         NaN\n193609         NaN\nLength: 9724, dtype: float64"
     },
     "execution_count": 18,
     "metadata": {},
     "output_type": "execute_result"
    }
   ],
   "source": [
    "similar = user_movie_df.corrwith(toystory_rating)\n",
    "similar"
   ],
   "metadata": {
    "collapsed": false,
    "pycharm": {
     "name": "#%%\n"
    }
   }
  },
  {
   "cell_type": "code",
   "execution_count": 23,
   "outputs": [
    {
     "data": {
      "text/plain": "movieId\n1         1.000000\n4         1.000000\n8         0.968246\n61        1.000000\n102       0.970725\n            ...   \n179817    1.000000\n180031    0.904534\n180985    0.981981\n184253    1.000000\n184471    0.944911\nLength: 612, dtype: float64"
     },
     "execution_count": 23,
     "metadata": {},
     "output_type": "execute_result"
    }
   ],
   "source": [
    "similar[similar >= 0.9]"
   ],
   "metadata": {
    "collapsed": false,
    "pycharm": {
     "name": "#%%\n"
    }
   }
  },
  {
   "cell_type": "code",
   "execution_count": 24,
   "outputs": [
    {
     "data": {
      "text/plain": "'Tom and Huck (1995)'"
     },
     "execution_count": 24,
     "metadata": {},
     "output_type": "execute_result"
    }
   ],
   "source": [
    "movie_name_df.title[similar[similar >= 0.9].index[2]]"
   ],
   "metadata": {
    "collapsed": false,
    "pycharm": {
     "name": "#%%\n"
    }
   }
  },
  {
   "cell_type": "code",
   "execution_count": 92,
   "outputs": [
    {
     "data": {
      "text/plain": "        userId  movieId  rating\n0            1        1     4.0\n1            1        3     4.0\n2            1        6     4.0\n3            1       47     5.0\n4            1       50     5.0\n...        ...      ...     ...\n100831     610   166534     4.0\n100832     610   168248     5.0\n100833     610   168250     5.0\n100834     610   168252     5.0\n100835     610   170875     3.0\n\n[100836 rows x 3 columns]",
      "text/html": "<div>\n<style scoped>\n    .dataframe tbody tr th:only-of-type {\n        vertical-align: middle;\n    }\n\n    .dataframe tbody tr th {\n        vertical-align: top;\n    }\n\n    .dataframe thead th {\n        text-align: right;\n    }\n</style>\n<table border=\"1\" class=\"dataframe\">\n  <thead>\n    <tr style=\"text-align: right;\">\n      <th></th>\n      <th>userId</th>\n      <th>movieId</th>\n      <th>rating</th>\n    </tr>\n  </thead>\n  <tbody>\n    <tr>\n      <th>0</th>\n      <td>1</td>\n      <td>1</td>\n      <td>4.0</td>\n    </tr>\n    <tr>\n      <th>1</th>\n      <td>1</td>\n      <td>3</td>\n      <td>4.0</td>\n    </tr>\n    <tr>\n      <th>2</th>\n      <td>1</td>\n      <td>6</td>\n      <td>4.0</td>\n    </tr>\n    <tr>\n      <th>3</th>\n      <td>1</td>\n      <td>47</td>\n      <td>5.0</td>\n    </tr>\n    <tr>\n      <th>4</th>\n      <td>1</td>\n      <td>50</td>\n      <td>5.0</td>\n    </tr>\n    <tr>\n      <th>...</th>\n      <td>...</td>\n      <td>...</td>\n      <td>...</td>\n    </tr>\n    <tr>\n      <th>100831</th>\n      <td>610</td>\n      <td>166534</td>\n      <td>4.0</td>\n    </tr>\n    <tr>\n      <th>100832</th>\n      <td>610</td>\n      <td>168248</td>\n      <td>5.0</td>\n    </tr>\n    <tr>\n      <th>100833</th>\n      <td>610</td>\n      <td>168250</td>\n      <td>5.0</td>\n    </tr>\n    <tr>\n      <th>100834</th>\n      <td>610</td>\n      <td>168252</td>\n      <td>5.0</td>\n    </tr>\n    <tr>\n      <th>100835</th>\n      <td>610</td>\n      <td>170875</td>\n      <td>3.0</td>\n    </tr>\n  </tbody>\n</table>\n<p>100836 rows × 3 columns</p>\n</div>"
     },
     "execution_count": 92,
     "metadata": {},
     "output_type": "execute_result"
    }
   ],
   "source": [
    "rating = pd.read_csv('F:\\my project\\dataset\\learning_dataset\\\\ratings.csv', usecols=range(3))\n",
    "rating"
   ],
   "metadata": {
    "collapsed": false,
    "pycharm": {
     "name": "#%%\n"
    }
   }
  },
  {
   "cell_type": "code",
   "execution_count": 93,
   "outputs": [
    {
     "data": {
      "text/plain": "      movieId                                      title\n0           1                           Toy Story (1995)\n1           2                             Jumanji (1995)\n2           3                    Grumpier Old Men (1995)\n3           4                   Waiting to Exhale (1995)\n4           5         Father of the Bride Part II (1995)\n...       ...                                        ...\n9737   193581  Black Butler: Book of the Atlantic (2017)\n9738   193583               No Game No Life: Zero (2017)\n9739   193585                               Flint (2017)\n9740   193587        Bungo Stray Dogs: Dead Apple (2018)\n9741   193609        Andrew Dice Clay: Dice Rules (1991)\n\n[9742 rows x 2 columns]",
      "text/html": "<div>\n<style scoped>\n    .dataframe tbody tr th:only-of-type {\n        vertical-align: middle;\n    }\n\n    .dataframe tbody tr th {\n        vertical-align: top;\n    }\n\n    .dataframe thead th {\n        text-align: right;\n    }\n</style>\n<table border=\"1\" class=\"dataframe\">\n  <thead>\n    <tr style=\"text-align: right;\">\n      <th></th>\n      <th>movieId</th>\n      <th>title</th>\n    </tr>\n  </thead>\n  <tbody>\n    <tr>\n      <th>0</th>\n      <td>1</td>\n      <td>Toy Story (1995)</td>\n    </tr>\n    <tr>\n      <th>1</th>\n      <td>2</td>\n      <td>Jumanji (1995)</td>\n    </tr>\n    <tr>\n      <th>2</th>\n      <td>3</td>\n      <td>Grumpier Old Men (1995)</td>\n    </tr>\n    <tr>\n      <th>3</th>\n      <td>4</td>\n      <td>Waiting to Exhale (1995)</td>\n    </tr>\n    <tr>\n      <th>4</th>\n      <td>5</td>\n      <td>Father of the Bride Part II (1995)</td>\n    </tr>\n    <tr>\n      <th>...</th>\n      <td>...</td>\n      <td>...</td>\n    </tr>\n    <tr>\n      <th>9737</th>\n      <td>193581</td>\n      <td>Black Butler: Book of the Atlantic (2017)</td>\n    </tr>\n    <tr>\n      <th>9738</th>\n      <td>193583</td>\n      <td>No Game No Life: Zero (2017)</td>\n    </tr>\n    <tr>\n      <th>9739</th>\n      <td>193585</td>\n      <td>Flint (2017)</td>\n    </tr>\n    <tr>\n      <th>9740</th>\n      <td>193587</td>\n      <td>Bungo Stray Dogs: Dead Apple (2018)</td>\n    </tr>\n    <tr>\n      <th>9741</th>\n      <td>193609</td>\n      <td>Andrew Dice Clay: Dice Rules (1991)</td>\n    </tr>\n  </tbody>\n</table>\n<p>9742 rows × 2 columns</p>\n</div>"
     },
     "execution_count": 93,
     "metadata": {},
     "output_type": "execute_result"
    }
   ],
   "source": [
    "movies = pd.read_csv('F:\\my project\\dataset\\learning_dataset\\\\movies.csv', usecols=range(2))\n",
    "movies"
   ],
   "metadata": {
    "collapsed": false,
    "pycharm": {
     "name": "#%%\n"
    }
   }
  },
  {
   "cell_type": "code",
   "execution_count": 94,
   "outputs": [
    {
     "data": {
      "text/plain": "        userId  movieId  rating                             title\n0            1        1     4.0                  Toy Story (1995)\n1            5        1     4.0                  Toy Story (1995)\n2            7        1     4.5                  Toy Story (1995)\n3           15        1     2.5                  Toy Story (1995)\n4           17        1     4.5                  Toy Story (1995)\n...        ...      ...     ...                               ...\n100831     610   160341     2.5                  Bloodmoon (1997)\n100832     610   160527     4.5  Sympathy for the Underdog (1971)\n100833     610   160836     3.0                     Hazard (2005)\n100834     610   163937     3.5                Blair Witch (2016)\n100835     610   163981     3.5                         31 (2016)\n\n[100836 rows x 4 columns]",
      "text/html": "<div>\n<style scoped>\n    .dataframe tbody tr th:only-of-type {\n        vertical-align: middle;\n    }\n\n    .dataframe tbody tr th {\n        vertical-align: top;\n    }\n\n    .dataframe thead th {\n        text-align: right;\n    }\n</style>\n<table border=\"1\" class=\"dataframe\">\n  <thead>\n    <tr style=\"text-align: right;\">\n      <th></th>\n      <th>userId</th>\n      <th>movieId</th>\n      <th>rating</th>\n      <th>title</th>\n    </tr>\n  </thead>\n  <tbody>\n    <tr>\n      <th>0</th>\n      <td>1</td>\n      <td>1</td>\n      <td>4.0</td>\n      <td>Toy Story (1995)</td>\n    </tr>\n    <tr>\n      <th>1</th>\n      <td>5</td>\n      <td>1</td>\n      <td>4.0</td>\n      <td>Toy Story (1995)</td>\n    </tr>\n    <tr>\n      <th>2</th>\n      <td>7</td>\n      <td>1</td>\n      <td>4.5</td>\n      <td>Toy Story (1995)</td>\n    </tr>\n    <tr>\n      <th>3</th>\n      <td>15</td>\n      <td>1</td>\n      <td>2.5</td>\n      <td>Toy Story (1995)</td>\n    </tr>\n    <tr>\n      <th>4</th>\n      <td>17</td>\n      <td>1</td>\n      <td>4.5</td>\n      <td>Toy Story (1995)</td>\n    </tr>\n    <tr>\n      <th>...</th>\n      <td>...</td>\n      <td>...</td>\n      <td>...</td>\n      <td>...</td>\n    </tr>\n    <tr>\n      <th>100831</th>\n      <td>610</td>\n      <td>160341</td>\n      <td>2.5</td>\n      <td>Bloodmoon (1997)</td>\n    </tr>\n    <tr>\n      <th>100832</th>\n      <td>610</td>\n      <td>160527</td>\n      <td>4.5</td>\n      <td>Sympathy for the Underdog (1971)</td>\n    </tr>\n    <tr>\n      <th>100833</th>\n      <td>610</td>\n      <td>160836</td>\n      <td>3.0</td>\n      <td>Hazard (2005)</td>\n    </tr>\n    <tr>\n      <th>100834</th>\n      <td>610</td>\n      <td>163937</td>\n      <td>3.5</td>\n      <td>Blair Witch (2016)</td>\n    </tr>\n    <tr>\n      <th>100835</th>\n      <td>610</td>\n      <td>163981</td>\n      <td>3.5</td>\n      <td>31 (2016)</td>\n    </tr>\n  </tbody>\n</table>\n<p>100836 rows × 4 columns</p>\n</div>"
     },
     "execution_count": 94,
     "metadata": {},
     "output_type": "execute_result"
    }
   ],
   "source": [
    "rating_full = pd.merge(rating, movies)\n",
    "rating_full"
   ],
   "metadata": {
    "collapsed": false,
    "pycharm": {
     "name": "#%%\n"
    }
   }
  },
  {
   "cell_type": "code",
   "execution_count": 95,
   "outputs": [
    {
     "data": {
      "text/plain": "movieId  1       2       3       4       5       6       7       8       \\\nuserId                                                                    \n1           4.0     NaN     4.0     NaN     NaN     4.0     NaN     NaN   \n2           NaN     NaN     NaN     NaN     NaN     NaN     NaN     NaN   \n3           NaN     NaN     NaN     NaN     NaN     NaN     NaN     NaN   \n4           NaN     NaN     NaN     NaN     NaN     NaN     NaN     NaN   \n5           4.0     NaN     NaN     NaN     NaN     NaN     NaN     NaN   \n...         ...     ...     ...     ...     ...     ...     ...     ...   \n606         2.5     NaN     NaN     NaN     NaN     NaN     2.5     NaN   \n607         4.0     NaN     NaN     NaN     NaN     NaN     NaN     NaN   \n608         2.5     2.0     2.0     NaN     NaN     NaN     NaN     NaN   \n609         3.0     NaN     NaN     NaN     NaN     NaN     NaN     NaN   \n610         5.0     NaN     NaN     NaN     NaN     5.0     NaN     NaN   \n\nmovieId  9       10      ...  193565  193567  193571  193573  193579  193581  \\\nuserId                   ...                                                   \n1           NaN     NaN  ...     NaN     NaN     NaN     NaN     NaN     NaN   \n2           NaN     NaN  ...     NaN     NaN     NaN     NaN     NaN     NaN   \n3           NaN     NaN  ...     NaN     NaN     NaN     NaN     NaN     NaN   \n4           NaN     NaN  ...     NaN     NaN     NaN     NaN     NaN     NaN   \n5           NaN     NaN  ...     NaN     NaN     NaN     NaN     NaN     NaN   \n...         ...     ...  ...     ...     ...     ...     ...     ...     ...   \n606         NaN     NaN  ...     NaN     NaN     NaN     NaN     NaN     NaN   \n607         NaN     NaN  ...     NaN     NaN     NaN     NaN     NaN     NaN   \n608         NaN     4.0  ...     NaN     NaN     NaN     NaN     NaN     NaN   \n609         NaN     4.0  ...     NaN     NaN     NaN     NaN     NaN     NaN   \n610         NaN     NaN  ...     NaN     NaN     NaN     NaN     NaN     NaN   \n\nmovieId  193583  193585  193587  193609  \nuserId                                   \n1           NaN     NaN     NaN     NaN  \n2           NaN     NaN     NaN     NaN  \n3           NaN     NaN     NaN     NaN  \n4           NaN     NaN     NaN     NaN  \n5           NaN     NaN     NaN     NaN  \n...         ...     ...     ...     ...  \n606         NaN     NaN     NaN     NaN  \n607         NaN     NaN     NaN     NaN  \n608         NaN     NaN     NaN     NaN  \n609         NaN     NaN     NaN     NaN  \n610         NaN     NaN     NaN     NaN  \n\n[610 rows x 9724 columns]",
      "text/html": "<div>\n<style scoped>\n    .dataframe tbody tr th:only-of-type {\n        vertical-align: middle;\n    }\n\n    .dataframe tbody tr th {\n        vertical-align: top;\n    }\n\n    .dataframe thead th {\n        text-align: right;\n    }\n</style>\n<table border=\"1\" class=\"dataframe\">\n  <thead>\n    <tr style=\"text-align: right;\">\n      <th>movieId</th>\n      <th>1</th>\n      <th>2</th>\n      <th>3</th>\n      <th>4</th>\n      <th>5</th>\n      <th>6</th>\n      <th>7</th>\n      <th>8</th>\n      <th>9</th>\n      <th>10</th>\n      <th>...</th>\n      <th>193565</th>\n      <th>193567</th>\n      <th>193571</th>\n      <th>193573</th>\n      <th>193579</th>\n      <th>193581</th>\n      <th>193583</th>\n      <th>193585</th>\n      <th>193587</th>\n      <th>193609</th>\n    </tr>\n    <tr>\n      <th>userId</th>\n      <th></th>\n      <th></th>\n      <th></th>\n      <th></th>\n      <th></th>\n      <th></th>\n      <th></th>\n      <th></th>\n      <th></th>\n      <th></th>\n      <th></th>\n      <th></th>\n      <th></th>\n      <th></th>\n      <th></th>\n      <th></th>\n      <th></th>\n      <th></th>\n      <th></th>\n      <th></th>\n      <th></th>\n    </tr>\n  </thead>\n  <tbody>\n    <tr>\n      <th>1</th>\n      <td>4.0</td>\n      <td>NaN</td>\n      <td>4.0</td>\n      <td>NaN</td>\n      <td>NaN</td>\n      <td>4.0</td>\n      <td>NaN</td>\n      <td>NaN</td>\n      <td>NaN</td>\n      <td>NaN</td>\n      <td>...</td>\n      <td>NaN</td>\n      <td>NaN</td>\n      <td>NaN</td>\n      <td>NaN</td>\n      <td>NaN</td>\n      <td>NaN</td>\n      <td>NaN</td>\n      <td>NaN</td>\n      <td>NaN</td>\n      <td>NaN</td>\n    </tr>\n    <tr>\n      <th>2</th>\n      <td>NaN</td>\n      <td>NaN</td>\n      <td>NaN</td>\n      <td>NaN</td>\n      <td>NaN</td>\n      <td>NaN</td>\n      <td>NaN</td>\n      <td>NaN</td>\n      <td>NaN</td>\n      <td>NaN</td>\n      <td>...</td>\n      <td>NaN</td>\n      <td>NaN</td>\n      <td>NaN</td>\n      <td>NaN</td>\n      <td>NaN</td>\n      <td>NaN</td>\n      <td>NaN</td>\n      <td>NaN</td>\n      <td>NaN</td>\n      <td>NaN</td>\n    </tr>\n    <tr>\n      <th>3</th>\n      <td>NaN</td>\n      <td>NaN</td>\n      <td>NaN</td>\n      <td>NaN</td>\n      <td>NaN</td>\n      <td>NaN</td>\n      <td>NaN</td>\n      <td>NaN</td>\n      <td>NaN</td>\n      <td>NaN</td>\n      <td>...</td>\n      <td>NaN</td>\n      <td>NaN</td>\n      <td>NaN</td>\n      <td>NaN</td>\n      <td>NaN</td>\n      <td>NaN</td>\n      <td>NaN</td>\n      <td>NaN</td>\n      <td>NaN</td>\n      <td>NaN</td>\n    </tr>\n    <tr>\n      <th>4</th>\n      <td>NaN</td>\n      <td>NaN</td>\n      <td>NaN</td>\n      <td>NaN</td>\n      <td>NaN</td>\n      <td>NaN</td>\n      <td>NaN</td>\n      <td>NaN</td>\n      <td>NaN</td>\n      <td>NaN</td>\n      <td>...</td>\n      <td>NaN</td>\n      <td>NaN</td>\n      <td>NaN</td>\n      <td>NaN</td>\n      <td>NaN</td>\n      <td>NaN</td>\n      <td>NaN</td>\n      <td>NaN</td>\n      <td>NaN</td>\n      <td>NaN</td>\n    </tr>\n    <tr>\n      <th>5</th>\n      <td>4.0</td>\n      <td>NaN</td>\n      <td>NaN</td>\n      <td>NaN</td>\n      <td>NaN</td>\n      <td>NaN</td>\n      <td>NaN</td>\n      <td>NaN</td>\n      <td>NaN</td>\n      <td>NaN</td>\n      <td>...</td>\n      <td>NaN</td>\n      <td>NaN</td>\n      <td>NaN</td>\n      <td>NaN</td>\n      <td>NaN</td>\n      <td>NaN</td>\n      <td>NaN</td>\n      <td>NaN</td>\n      <td>NaN</td>\n      <td>NaN</td>\n    </tr>\n    <tr>\n      <th>...</th>\n      <td>...</td>\n      <td>...</td>\n      <td>...</td>\n      <td>...</td>\n      <td>...</td>\n      <td>...</td>\n      <td>...</td>\n      <td>...</td>\n      <td>...</td>\n      <td>...</td>\n      <td>...</td>\n      <td>...</td>\n      <td>...</td>\n      <td>...</td>\n      <td>...</td>\n      <td>...</td>\n      <td>...</td>\n      <td>...</td>\n      <td>...</td>\n      <td>...</td>\n      <td>...</td>\n    </tr>\n    <tr>\n      <th>606</th>\n      <td>2.5</td>\n      <td>NaN</td>\n      <td>NaN</td>\n      <td>NaN</td>\n      <td>NaN</td>\n      <td>NaN</td>\n      <td>2.5</td>\n      <td>NaN</td>\n      <td>NaN</td>\n      <td>NaN</td>\n      <td>...</td>\n      <td>NaN</td>\n      <td>NaN</td>\n      <td>NaN</td>\n      <td>NaN</td>\n      <td>NaN</td>\n      <td>NaN</td>\n      <td>NaN</td>\n      <td>NaN</td>\n      <td>NaN</td>\n      <td>NaN</td>\n    </tr>\n    <tr>\n      <th>607</th>\n      <td>4.0</td>\n      <td>NaN</td>\n      <td>NaN</td>\n      <td>NaN</td>\n      <td>NaN</td>\n      <td>NaN</td>\n      <td>NaN</td>\n      <td>NaN</td>\n      <td>NaN</td>\n      <td>NaN</td>\n      <td>...</td>\n      <td>NaN</td>\n      <td>NaN</td>\n      <td>NaN</td>\n      <td>NaN</td>\n      <td>NaN</td>\n      <td>NaN</td>\n      <td>NaN</td>\n      <td>NaN</td>\n      <td>NaN</td>\n      <td>NaN</td>\n    </tr>\n    <tr>\n      <th>608</th>\n      <td>2.5</td>\n      <td>2.0</td>\n      <td>2.0</td>\n      <td>NaN</td>\n      <td>NaN</td>\n      <td>NaN</td>\n      <td>NaN</td>\n      <td>NaN</td>\n      <td>NaN</td>\n      <td>4.0</td>\n      <td>...</td>\n      <td>NaN</td>\n      <td>NaN</td>\n      <td>NaN</td>\n      <td>NaN</td>\n      <td>NaN</td>\n      <td>NaN</td>\n      <td>NaN</td>\n      <td>NaN</td>\n      <td>NaN</td>\n      <td>NaN</td>\n    </tr>\n    <tr>\n      <th>609</th>\n      <td>3.0</td>\n      <td>NaN</td>\n      <td>NaN</td>\n      <td>NaN</td>\n      <td>NaN</td>\n      <td>NaN</td>\n      <td>NaN</td>\n      <td>NaN</td>\n      <td>NaN</td>\n      <td>4.0</td>\n      <td>...</td>\n      <td>NaN</td>\n      <td>NaN</td>\n      <td>NaN</td>\n      <td>NaN</td>\n      <td>NaN</td>\n      <td>NaN</td>\n      <td>NaN</td>\n      <td>NaN</td>\n      <td>NaN</td>\n      <td>NaN</td>\n    </tr>\n    <tr>\n      <th>610</th>\n      <td>5.0</td>\n      <td>NaN</td>\n      <td>NaN</td>\n      <td>NaN</td>\n      <td>NaN</td>\n      <td>5.0</td>\n      <td>NaN</td>\n      <td>NaN</td>\n      <td>NaN</td>\n      <td>NaN</td>\n      <td>...</td>\n      <td>NaN</td>\n      <td>NaN</td>\n      <td>NaN</td>\n      <td>NaN</td>\n      <td>NaN</td>\n      <td>NaN</td>\n      <td>NaN</td>\n      <td>NaN</td>\n      <td>NaN</td>\n      <td>NaN</td>\n    </tr>\n  </tbody>\n</table>\n<p>610 rows × 9724 columns</p>\n</div>"
     },
     "execution_count": 95,
     "metadata": {},
     "output_type": "execute_result"
    }
   ],
   "source": [
    "user_movies = pd.pivot_table(index='userId', columns='movieId', values='rating', data=rating_full)\n",
    "user_movies"
   ],
   "metadata": {
    "collapsed": false,
    "pycharm": {
     "name": "#%%\n"
    }
   }
  },
  {
   "cell_type": "code",
   "execution_count": 96,
   "outputs": [
    {
     "data": {
      "text/plain": "     userId  movieId  rating                           title\n0         1        1     4.0                Toy Story (1995)\n1         1        3     4.0         Grumpier Old Men (1995)\n2         1        6     4.0                     Heat (1995)\n3         1       47     5.0     Seven (a.k.a. Se7en) (1995)\n4         1       50     5.0      Usual Suspects, The (1995)\n..      ...      ...     ...                             ...\n227       1     3744     4.0                    Shaft (2000)\n228       1     3793     5.0                    X-Men (2000)\n229       1     3809     4.0          What About Bob? (1991)\n230       1     4006     4.0  Transformers: The Movie (1986)\n231       1     5060     5.0    M*A*S*H (a.k.a. MASH) (1970)\n\n[232 rows x 4 columns]",
      "text/html": "<div>\n<style scoped>\n    .dataframe tbody tr th:only-of-type {\n        vertical-align: middle;\n    }\n\n    .dataframe tbody tr th {\n        vertical-align: top;\n    }\n\n    .dataframe thead th {\n        text-align: right;\n    }\n</style>\n<table border=\"1\" class=\"dataframe\">\n  <thead>\n    <tr style=\"text-align: right;\">\n      <th></th>\n      <th>userId</th>\n      <th>movieId</th>\n      <th>rating</th>\n      <th>title</th>\n    </tr>\n  </thead>\n  <tbody>\n    <tr>\n      <th>0</th>\n      <td>1</td>\n      <td>1</td>\n      <td>4.0</td>\n      <td>Toy Story (1995)</td>\n    </tr>\n    <tr>\n      <th>1</th>\n      <td>1</td>\n      <td>3</td>\n      <td>4.0</td>\n      <td>Grumpier Old Men (1995)</td>\n    </tr>\n    <tr>\n      <th>2</th>\n      <td>1</td>\n      <td>6</td>\n      <td>4.0</td>\n      <td>Heat (1995)</td>\n    </tr>\n    <tr>\n      <th>3</th>\n      <td>1</td>\n      <td>47</td>\n      <td>5.0</td>\n      <td>Seven (a.k.a. Se7en) (1995)</td>\n    </tr>\n    <tr>\n      <th>4</th>\n      <td>1</td>\n      <td>50</td>\n      <td>5.0</td>\n      <td>Usual Suspects, The (1995)</td>\n    </tr>\n    <tr>\n      <th>...</th>\n      <td>...</td>\n      <td>...</td>\n      <td>...</td>\n      <td>...</td>\n    </tr>\n    <tr>\n      <th>227</th>\n      <td>1</td>\n      <td>3744</td>\n      <td>4.0</td>\n      <td>Shaft (2000)</td>\n    </tr>\n    <tr>\n      <th>228</th>\n      <td>1</td>\n      <td>3793</td>\n      <td>5.0</td>\n      <td>X-Men (2000)</td>\n    </tr>\n    <tr>\n      <th>229</th>\n      <td>1</td>\n      <td>3809</td>\n      <td>4.0</td>\n      <td>What About Bob? (1991)</td>\n    </tr>\n    <tr>\n      <th>230</th>\n      <td>1</td>\n      <td>4006</td>\n      <td>4.0</td>\n      <td>Transformers: The Movie (1986)</td>\n    </tr>\n    <tr>\n      <th>231</th>\n      <td>1</td>\n      <td>5060</td>\n      <td>5.0</td>\n      <td>M*A*S*H (a.k.a. MASH) (1970)</td>\n    </tr>\n  </tbody>\n</table>\n<p>232 rows × 4 columns</p>\n</div>"
     },
     "execution_count": 96,
     "metadata": {},
     "output_type": "execute_result"
    }
   ],
   "source": [
    "user1_rates = pd.merge(rating[rating.userId == 1], movies)\n",
    "user1_rates"
   ],
   "metadata": {
    "collapsed": false,
    "pycharm": {
     "name": "#%%\n"
    }
   }
  },
  {
   "cell_type": "code",
   "execution_count": 97,
   "outputs": [
    {
     "data": {
      "text/plain": "movieId    1         2         3         4         5         6         7       \\\nmovieId                                                                         \n1        1.000000  0.330978  0.487109  1.000000  0.310971  0.106465  0.208402   \n2        0.330978  1.000000  0.419564       NaN  0.562791  0.163510  0.430261   \n3        0.487109  0.419564  1.000000       NaN  0.602266  0.345069  0.554088   \n4        1.000000       NaN       NaN  1.000000  0.654654       NaN  0.203653   \n5        0.310971  0.562791  0.602266  0.654654  1.000000  0.291302  0.609119   \n...           ...       ...       ...       ...       ...       ...       ...   \n193581        NaN       NaN       NaN       NaN       NaN       NaN       NaN   \n193583        NaN       NaN       NaN       NaN       NaN       NaN       NaN   \n193585        NaN       NaN       NaN       NaN       NaN       NaN       NaN   \n193587        NaN       NaN       NaN       NaN       NaN       NaN       NaN   \n193609        NaN       NaN       NaN       NaN       NaN       NaN       NaN   \n\nmovieId    8         9         10      ...  193565  193567  193571  193573  \\\nmovieId                                ...                                   \n1        0.968246  0.095913 -0.021409  ...     NaN     NaN     NaN     NaN   \n2        0.415227  0.277350  0.016626  ...     NaN     NaN     NaN     NaN   \n3        0.333333  0.458591 -0.050276  ...     NaN     NaN     NaN     NaN   \n4             NaN       NaN  0.870388  ...     NaN     NaN     NaN     NaN   \n5        0.555556  0.319173  0.218263  ...     NaN     NaN     NaN     NaN   \n...           ...       ...       ...  ...     ...     ...     ...     ...   \n193581        NaN       NaN       NaN  ...     NaN     NaN     NaN     NaN   \n193583        NaN       NaN       NaN  ...     NaN     NaN     NaN     NaN   \n193585        NaN       NaN       NaN  ...     NaN     NaN     NaN     NaN   \n193587        NaN       NaN       NaN  ...     NaN     NaN     NaN     NaN   \n193609        NaN       NaN       NaN  ...     NaN     NaN     NaN     NaN   \n\nmovieId  193579  193581  193583  193585  193587  193609  \nmovieId                                                  \n1           NaN     NaN     NaN     NaN     NaN     NaN  \n2           NaN     NaN     NaN     NaN     NaN     NaN  \n3           NaN     NaN     NaN     NaN     NaN     NaN  \n4           NaN     NaN     NaN     NaN     NaN     NaN  \n5           NaN     NaN     NaN     NaN     NaN     NaN  \n...         ...     ...     ...     ...     ...     ...  \n193581      NaN     NaN     NaN     NaN     NaN     NaN  \n193583      NaN     NaN     NaN     NaN     NaN     NaN  \n193585      NaN     NaN     NaN     NaN     NaN     NaN  \n193587      NaN     NaN     NaN     NaN     NaN     NaN  \n193609      NaN     NaN     NaN     NaN     NaN     NaN  \n\n[9724 rows x 9724 columns]",
      "text/html": "<div>\n<style scoped>\n    .dataframe tbody tr th:only-of-type {\n        vertical-align: middle;\n    }\n\n    .dataframe tbody tr th {\n        vertical-align: top;\n    }\n\n    .dataframe thead th {\n        text-align: right;\n    }\n</style>\n<table border=\"1\" class=\"dataframe\">\n  <thead>\n    <tr style=\"text-align: right;\">\n      <th>movieId</th>\n      <th>1</th>\n      <th>2</th>\n      <th>3</th>\n      <th>4</th>\n      <th>5</th>\n      <th>6</th>\n      <th>7</th>\n      <th>8</th>\n      <th>9</th>\n      <th>10</th>\n      <th>...</th>\n      <th>193565</th>\n      <th>193567</th>\n      <th>193571</th>\n      <th>193573</th>\n      <th>193579</th>\n      <th>193581</th>\n      <th>193583</th>\n      <th>193585</th>\n      <th>193587</th>\n      <th>193609</th>\n    </tr>\n    <tr>\n      <th>movieId</th>\n      <th></th>\n      <th></th>\n      <th></th>\n      <th></th>\n      <th></th>\n      <th></th>\n      <th></th>\n      <th></th>\n      <th></th>\n      <th></th>\n      <th></th>\n      <th></th>\n      <th></th>\n      <th></th>\n      <th></th>\n      <th></th>\n      <th></th>\n      <th></th>\n      <th></th>\n      <th></th>\n      <th></th>\n    </tr>\n  </thead>\n  <tbody>\n    <tr>\n      <th>1</th>\n      <td>1.000000</td>\n      <td>0.330978</td>\n      <td>0.487109</td>\n      <td>1.000000</td>\n      <td>0.310971</td>\n      <td>0.106465</td>\n      <td>0.208402</td>\n      <td>0.968246</td>\n      <td>0.095913</td>\n      <td>-0.021409</td>\n      <td>...</td>\n      <td>NaN</td>\n      <td>NaN</td>\n      <td>NaN</td>\n      <td>NaN</td>\n      <td>NaN</td>\n      <td>NaN</td>\n      <td>NaN</td>\n      <td>NaN</td>\n      <td>NaN</td>\n      <td>NaN</td>\n    </tr>\n    <tr>\n      <th>2</th>\n      <td>0.330978</td>\n      <td>1.000000</td>\n      <td>0.419564</td>\n      <td>NaN</td>\n      <td>0.562791</td>\n      <td>0.163510</td>\n      <td>0.430261</td>\n      <td>0.415227</td>\n      <td>0.277350</td>\n      <td>0.016626</td>\n      <td>...</td>\n      <td>NaN</td>\n      <td>NaN</td>\n      <td>NaN</td>\n      <td>NaN</td>\n      <td>NaN</td>\n      <td>NaN</td>\n      <td>NaN</td>\n      <td>NaN</td>\n      <td>NaN</td>\n      <td>NaN</td>\n    </tr>\n    <tr>\n      <th>3</th>\n      <td>0.487109</td>\n      <td>0.419564</td>\n      <td>1.000000</td>\n      <td>NaN</td>\n      <td>0.602266</td>\n      <td>0.345069</td>\n      <td>0.554088</td>\n      <td>0.333333</td>\n      <td>0.458591</td>\n      <td>-0.050276</td>\n      <td>...</td>\n      <td>NaN</td>\n      <td>NaN</td>\n      <td>NaN</td>\n      <td>NaN</td>\n      <td>NaN</td>\n      <td>NaN</td>\n      <td>NaN</td>\n      <td>NaN</td>\n      <td>NaN</td>\n      <td>NaN</td>\n    </tr>\n    <tr>\n      <th>4</th>\n      <td>1.000000</td>\n      <td>NaN</td>\n      <td>NaN</td>\n      <td>1.000000</td>\n      <td>0.654654</td>\n      <td>NaN</td>\n      <td>0.203653</td>\n      <td>NaN</td>\n      <td>NaN</td>\n      <td>0.870388</td>\n      <td>...</td>\n      <td>NaN</td>\n      <td>NaN</td>\n      <td>NaN</td>\n      <td>NaN</td>\n      <td>NaN</td>\n      <td>NaN</td>\n      <td>NaN</td>\n      <td>NaN</td>\n      <td>NaN</td>\n      <td>NaN</td>\n    </tr>\n    <tr>\n      <th>5</th>\n      <td>0.310971</td>\n      <td>0.562791</td>\n      <td>0.602266</td>\n      <td>0.654654</td>\n      <td>1.000000</td>\n      <td>0.291302</td>\n      <td>0.609119</td>\n      <td>0.555556</td>\n      <td>0.319173</td>\n      <td>0.218263</td>\n      <td>...</td>\n      <td>NaN</td>\n      <td>NaN</td>\n      <td>NaN</td>\n      <td>NaN</td>\n      <td>NaN</td>\n      <td>NaN</td>\n      <td>NaN</td>\n      <td>NaN</td>\n      <td>NaN</td>\n      <td>NaN</td>\n    </tr>\n    <tr>\n      <th>...</th>\n      <td>...</td>\n      <td>...</td>\n      <td>...</td>\n      <td>...</td>\n      <td>...</td>\n      <td>...</td>\n      <td>...</td>\n      <td>...</td>\n      <td>...</td>\n      <td>...</td>\n      <td>...</td>\n      <td>...</td>\n      <td>...</td>\n      <td>...</td>\n      <td>...</td>\n      <td>...</td>\n      <td>...</td>\n      <td>...</td>\n      <td>...</td>\n      <td>...</td>\n      <td>...</td>\n    </tr>\n    <tr>\n      <th>193581</th>\n      <td>NaN</td>\n      <td>NaN</td>\n      <td>NaN</td>\n      <td>NaN</td>\n      <td>NaN</td>\n      <td>NaN</td>\n      <td>NaN</td>\n      <td>NaN</td>\n      <td>NaN</td>\n      <td>NaN</td>\n      <td>...</td>\n      <td>NaN</td>\n      <td>NaN</td>\n      <td>NaN</td>\n      <td>NaN</td>\n      <td>NaN</td>\n      <td>NaN</td>\n      <td>NaN</td>\n      <td>NaN</td>\n      <td>NaN</td>\n      <td>NaN</td>\n    </tr>\n    <tr>\n      <th>193583</th>\n      <td>NaN</td>\n      <td>NaN</td>\n      <td>NaN</td>\n      <td>NaN</td>\n      <td>NaN</td>\n      <td>NaN</td>\n      <td>NaN</td>\n      <td>NaN</td>\n      <td>NaN</td>\n      <td>NaN</td>\n      <td>...</td>\n      <td>NaN</td>\n      <td>NaN</td>\n      <td>NaN</td>\n      <td>NaN</td>\n      <td>NaN</td>\n      <td>NaN</td>\n      <td>NaN</td>\n      <td>NaN</td>\n      <td>NaN</td>\n      <td>NaN</td>\n    </tr>\n    <tr>\n      <th>193585</th>\n      <td>NaN</td>\n      <td>NaN</td>\n      <td>NaN</td>\n      <td>NaN</td>\n      <td>NaN</td>\n      <td>NaN</td>\n      <td>NaN</td>\n      <td>NaN</td>\n      <td>NaN</td>\n      <td>NaN</td>\n      <td>...</td>\n      <td>NaN</td>\n      <td>NaN</td>\n      <td>NaN</td>\n      <td>NaN</td>\n      <td>NaN</td>\n      <td>NaN</td>\n      <td>NaN</td>\n      <td>NaN</td>\n      <td>NaN</td>\n      <td>NaN</td>\n    </tr>\n    <tr>\n      <th>193587</th>\n      <td>NaN</td>\n      <td>NaN</td>\n      <td>NaN</td>\n      <td>NaN</td>\n      <td>NaN</td>\n      <td>NaN</td>\n      <td>NaN</td>\n      <td>NaN</td>\n      <td>NaN</td>\n      <td>NaN</td>\n      <td>...</td>\n      <td>NaN</td>\n      <td>NaN</td>\n      <td>NaN</td>\n      <td>NaN</td>\n      <td>NaN</td>\n      <td>NaN</td>\n      <td>NaN</td>\n      <td>NaN</td>\n      <td>NaN</td>\n      <td>NaN</td>\n    </tr>\n    <tr>\n      <th>193609</th>\n      <td>NaN</td>\n      <td>NaN</td>\n      <td>NaN</td>\n      <td>NaN</td>\n      <td>NaN</td>\n      <td>NaN</td>\n      <td>NaN</td>\n      <td>NaN</td>\n      <td>NaN</td>\n      <td>NaN</td>\n      <td>...</td>\n      <td>NaN</td>\n      <td>NaN</td>\n      <td>NaN</td>\n      <td>NaN</td>\n      <td>NaN</td>\n      <td>NaN</td>\n      <td>NaN</td>\n      <td>NaN</td>\n      <td>NaN</td>\n      <td>NaN</td>\n    </tr>\n  </tbody>\n</table>\n<p>9724 rows × 9724 columns</p>\n</div>"
     },
     "execution_count": 97,
     "metadata": {},
     "output_type": "execute_result"
    }
   ],
   "source": [
    "all_corr_df = user_movies.corr()\n",
    "all_corr_df"
   ],
   "metadata": {
    "collapsed": false,
    "pycharm": {
     "name": "#%%\n"
    }
   }
  },
  {
   "cell_type": "code",
   "execution_count": 98,
   "outputs": [
    {
     "data": {
      "text/plain": "movieId  1       2       3       4       5       6       7         8       \\\nmovieId                                                                     \n1           1.0     NaN     NaN     1.0     NaN     NaN     NaN  0.968246   \n2           NaN     1.0     NaN     NaN     NaN     NaN     NaN       NaN   \n3           NaN     NaN     1.0     NaN     NaN     NaN     NaN       NaN   \n4           1.0     NaN     NaN     1.0     NaN     NaN     NaN       NaN   \n5           NaN     NaN     NaN     NaN     1.0     NaN     NaN       NaN   \n...         ...     ...     ...     ...     ...     ...     ...       ...   \n193581      NaN     NaN     NaN     NaN     NaN     NaN     NaN       NaN   \n193583      NaN     NaN     NaN     NaN     NaN     NaN     NaN       NaN   \n193585      NaN     NaN     NaN     NaN     NaN     NaN     NaN       NaN   \n193587      NaN     NaN     NaN     NaN     NaN     NaN     NaN       NaN   \n193609      NaN     NaN     NaN     NaN     NaN     NaN     NaN       NaN   \n\nmovieId  9       10      ...  193565  193567  193571  193573  193579  193581  \\\nmovieId                  ...                                                   \n1           NaN     NaN  ...     NaN     NaN     NaN     NaN     NaN     NaN   \n2           NaN     NaN  ...     NaN     NaN     NaN     NaN     NaN     NaN   \n3           NaN     NaN  ...     NaN     NaN     NaN     NaN     NaN     NaN   \n4           NaN     NaN  ...     NaN     NaN     NaN     NaN     NaN     NaN   \n5           NaN     NaN  ...     NaN     NaN     NaN     NaN     NaN     NaN   \n...         ...     ...  ...     ...     ...     ...     ...     ...     ...   \n193581      NaN     NaN  ...     NaN     NaN     NaN     NaN     NaN     NaN   \n193583      NaN     NaN  ...     NaN     NaN     NaN     NaN     NaN     NaN   \n193585      NaN     NaN  ...     NaN     NaN     NaN     NaN     NaN     NaN   \n193587      NaN     NaN  ...     NaN     NaN     NaN     NaN     NaN     NaN   \n193609      NaN     NaN  ...     NaN     NaN     NaN     NaN     NaN     NaN   \n\nmovieId  193583  193585  193587  193609  \nmovieId                                  \n1           NaN     NaN     NaN     NaN  \n2           NaN     NaN     NaN     NaN  \n3           NaN     NaN     NaN     NaN  \n4           NaN     NaN     NaN     NaN  \n5           NaN     NaN     NaN     NaN  \n...         ...     ...     ...     ...  \n193581      NaN     NaN     NaN     NaN  \n193583      NaN     NaN     NaN     NaN  \n193585      NaN     NaN     NaN     NaN  \n193587      NaN     NaN     NaN     NaN  \n193609      NaN     NaN     NaN     NaN  \n\n[9724 rows x 9724 columns]",
      "text/html": "<div>\n<style scoped>\n    .dataframe tbody tr th:only-of-type {\n        vertical-align: middle;\n    }\n\n    .dataframe tbody tr th {\n        vertical-align: top;\n    }\n\n    .dataframe thead th {\n        text-align: right;\n    }\n</style>\n<table border=\"1\" class=\"dataframe\">\n  <thead>\n    <tr style=\"text-align: right;\">\n      <th>movieId</th>\n      <th>1</th>\n      <th>2</th>\n      <th>3</th>\n      <th>4</th>\n      <th>5</th>\n      <th>6</th>\n      <th>7</th>\n      <th>8</th>\n      <th>9</th>\n      <th>10</th>\n      <th>...</th>\n      <th>193565</th>\n      <th>193567</th>\n      <th>193571</th>\n      <th>193573</th>\n      <th>193579</th>\n      <th>193581</th>\n      <th>193583</th>\n      <th>193585</th>\n      <th>193587</th>\n      <th>193609</th>\n    </tr>\n    <tr>\n      <th>movieId</th>\n      <th></th>\n      <th></th>\n      <th></th>\n      <th></th>\n      <th></th>\n      <th></th>\n      <th></th>\n      <th></th>\n      <th></th>\n      <th></th>\n      <th></th>\n      <th></th>\n      <th></th>\n      <th></th>\n      <th></th>\n      <th></th>\n      <th></th>\n      <th></th>\n      <th></th>\n      <th></th>\n      <th></th>\n    </tr>\n  </thead>\n  <tbody>\n    <tr>\n      <th>1</th>\n      <td>1.0</td>\n      <td>NaN</td>\n      <td>NaN</td>\n      <td>1.0</td>\n      <td>NaN</td>\n      <td>NaN</td>\n      <td>NaN</td>\n      <td>0.968246</td>\n      <td>NaN</td>\n      <td>NaN</td>\n      <td>...</td>\n      <td>NaN</td>\n      <td>NaN</td>\n      <td>NaN</td>\n      <td>NaN</td>\n      <td>NaN</td>\n      <td>NaN</td>\n      <td>NaN</td>\n      <td>NaN</td>\n      <td>NaN</td>\n      <td>NaN</td>\n    </tr>\n    <tr>\n      <th>2</th>\n      <td>NaN</td>\n      <td>1.0</td>\n      <td>NaN</td>\n      <td>NaN</td>\n      <td>NaN</td>\n      <td>NaN</td>\n      <td>NaN</td>\n      <td>NaN</td>\n      <td>NaN</td>\n      <td>NaN</td>\n      <td>...</td>\n      <td>NaN</td>\n      <td>NaN</td>\n      <td>NaN</td>\n      <td>NaN</td>\n      <td>NaN</td>\n      <td>NaN</td>\n      <td>NaN</td>\n      <td>NaN</td>\n      <td>NaN</td>\n      <td>NaN</td>\n    </tr>\n    <tr>\n      <th>3</th>\n      <td>NaN</td>\n      <td>NaN</td>\n      <td>1.0</td>\n      <td>NaN</td>\n      <td>NaN</td>\n      <td>NaN</td>\n      <td>NaN</td>\n      <td>NaN</td>\n      <td>NaN</td>\n      <td>NaN</td>\n      <td>...</td>\n      <td>NaN</td>\n      <td>NaN</td>\n      <td>NaN</td>\n      <td>NaN</td>\n      <td>NaN</td>\n      <td>NaN</td>\n      <td>NaN</td>\n      <td>NaN</td>\n      <td>NaN</td>\n      <td>NaN</td>\n    </tr>\n    <tr>\n      <th>4</th>\n      <td>1.0</td>\n      <td>NaN</td>\n      <td>NaN</td>\n      <td>1.0</td>\n      <td>NaN</td>\n      <td>NaN</td>\n      <td>NaN</td>\n      <td>NaN</td>\n      <td>NaN</td>\n      <td>NaN</td>\n      <td>...</td>\n      <td>NaN</td>\n      <td>NaN</td>\n      <td>NaN</td>\n      <td>NaN</td>\n      <td>NaN</td>\n      <td>NaN</td>\n      <td>NaN</td>\n      <td>NaN</td>\n      <td>NaN</td>\n      <td>NaN</td>\n    </tr>\n    <tr>\n      <th>5</th>\n      <td>NaN</td>\n      <td>NaN</td>\n      <td>NaN</td>\n      <td>NaN</td>\n      <td>1.0</td>\n      <td>NaN</td>\n      <td>NaN</td>\n      <td>NaN</td>\n      <td>NaN</td>\n      <td>NaN</td>\n      <td>...</td>\n      <td>NaN</td>\n      <td>NaN</td>\n      <td>NaN</td>\n      <td>NaN</td>\n      <td>NaN</td>\n      <td>NaN</td>\n      <td>NaN</td>\n      <td>NaN</td>\n      <td>NaN</td>\n      <td>NaN</td>\n    </tr>\n    <tr>\n      <th>...</th>\n      <td>...</td>\n      <td>...</td>\n      <td>...</td>\n      <td>...</td>\n      <td>...</td>\n      <td>...</td>\n      <td>...</td>\n      <td>...</td>\n      <td>...</td>\n      <td>...</td>\n      <td>...</td>\n      <td>...</td>\n      <td>...</td>\n      <td>...</td>\n      <td>...</td>\n      <td>...</td>\n      <td>...</td>\n      <td>...</td>\n      <td>...</td>\n      <td>...</td>\n      <td>...</td>\n    </tr>\n    <tr>\n      <th>193581</th>\n      <td>NaN</td>\n      <td>NaN</td>\n      <td>NaN</td>\n      <td>NaN</td>\n      <td>NaN</td>\n      <td>NaN</td>\n      <td>NaN</td>\n      <td>NaN</td>\n      <td>NaN</td>\n      <td>NaN</td>\n      <td>...</td>\n      <td>NaN</td>\n      <td>NaN</td>\n      <td>NaN</td>\n      <td>NaN</td>\n      <td>NaN</td>\n      <td>NaN</td>\n      <td>NaN</td>\n      <td>NaN</td>\n      <td>NaN</td>\n      <td>NaN</td>\n    </tr>\n    <tr>\n      <th>193583</th>\n      <td>NaN</td>\n      <td>NaN</td>\n      <td>NaN</td>\n      <td>NaN</td>\n      <td>NaN</td>\n      <td>NaN</td>\n      <td>NaN</td>\n      <td>NaN</td>\n      <td>NaN</td>\n      <td>NaN</td>\n      <td>...</td>\n      <td>NaN</td>\n      <td>NaN</td>\n      <td>NaN</td>\n      <td>NaN</td>\n      <td>NaN</td>\n      <td>NaN</td>\n      <td>NaN</td>\n      <td>NaN</td>\n      <td>NaN</td>\n      <td>NaN</td>\n    </tr>\n    <tr>\n      <th>193585</th>\n      <td>NaN</td>\n      <td>NaN</td>\n      <td>NaN</td>\n      <td>NaN</td>\n      <td>NaN</td>\n      <td>NaN</td>\n      <td>NaN</td>\n      <td>NaN</td>\n      <td>NaN</td>\n      <td>NaN</td>\n      <td>...</td>\n      <td>NaN</td>\n      <td>NaN</td>\n      <td>NaN</td>\n      <td>NaN</td>\n      <td>NaN</td>\n      <td>NaN</td>\n      <td>NaN</td>\n      <td>NaN</td>\n      <td>NaN</td>\n      <td>NaN</td>\n    </tr>\n    <tr>\n      <th>193587</th>\n      <td>NaN</td>\n      <td>NaN</td>\n      <td>NaN</td>\n      <td>NaN</td>\n      <td>NaN</td>\n      <td>NaN</td>\n      <td>NaN</td>\n      <td>NaN</td>\n      <td>NaN</td>\n      <td>NaN</td>\n      <td>...</td>\n      <td>NaN</td>\n      <td>NaN</td>\n      <td>NaN</td>\n      <td>NaN</td>\n      <td>NaN</td>\n      <td>NaN</td>\n      <td>NaN</td>\n      <td>NaN</td>\n      <td>NaN</td>\n      <td>NaN</td>\n    </tr>\n    <tr>\n      <th>193609</th>\n      <td>NaN</td>\n      <td>NaN</td>\n      <td>NaN</td>\n      <td>NaN</td>\n      <td>NaN</td>\n      <td>NaN</td>\n      <td>NaN</td>\n      <td>NaN</td>\n      <td>NaN</td>\n      <td>NaN</td>\n      <td>...</td>\n      <td>NaN</td>\n      <td>NaN</td>\n      <td>NaN</td>\n      <td>NaN</td>\n      <td>NaN</td>\n      <td>NaN</td>\n      <td>NaN</td>\n      <td>NaN</td>\n      <td>NaN</td>\n      <td>NaN</td>\n    </tr>\n  </tbody>\n</table>\n<p>9724 rows × 9724 columns</p>\n</div>"
     },
     "execution_count": 98,
     "metadata": {},
     "output_type": "execute_result"
    }
   ],
   "source": [
    "movie1 = all_corr_df[all_corr_df >= 0.9][1]\n",
    "all_corr_df[all_corr_df >= 0.9]"
   ],
   "metadata": {
    "collapsed": false,
    "pycharm": {
     "name": "#%%\n"
    }
   }
  },
  {
   "cell_type": "code",
   "execution_count": 99,
   "outputs": [
    {
     "data": {
      "text/plain": "movieId\n1         1.000000\n4         1.000000\n8         0.968246\n61        1.000000\n102       0.970725\n            ...   \n179817    1.000000\n180031    0.904534\n180985    0.981981\n184253    1.000000\n184471    0.944911\nName: 1, Length: 612, dtype: float64"
     },
     "execution_count": 99,
     "metadata": {},
     "output_type": "execute_result"
    }
   ],
   "source": [
    "movie1.dropna()"
   ],
   "metadata": {
    "collapsed": false,
    "pycharm": {
     "name": "#%%\n"
    }
   }
  },
  {
   "cell_type": "code",
   "execution_count": 100,
   "outputs": [],
   "source": [
    "#'Star Wars (1977)' in 'Star Wars (1977) abc'"
   ],
   "metadata": {
    "collapsed": false,
    "pycharm": {
     "name": "#%%\n"
    }
   }
  },
  {
   "cell_type": "code",
   "execution_count": 101,
   "outputs": [
    {
     "name": "stdout",
     "output_type": "stream",
     "text": [
      "Star Wars: Episode IV - A New Hope (1977)\n",
      "Star Wars: Episode V - The Empire Strikes Back (1980)\n",
      "Star Wars: Episode VI - Return of the Jedi (1983)\n",
      "Star Wars: Episode I - The Phantom Menace (1999)\n",
      "Star Wars: Episode II - Attack of the Clones (2002)\n",
      "Star Wars: Episode III - Revenge of the Sith (2005)\n",
      "Star Wars: The Clone Wars (2008)\n",
      "Empire of Dreams: The Story of the 'Star Wars' Trilogy (2004)\n",
      "Star Wars: Episode VII - The Force Awakens (2015)\n",
      "The Star Wars Holiday Special (1978)\n",
      "Rogue One: A Star Wars Story (2016)\n",
      "Star Wars: The Last Jedi (2017)\n",
      "Solo: A Star Wars Story (2018)\n"
     ]
    }
   ],
   "source": [
    "for i in movies.title:\n",
    "    if 'Star Wars' in i:\n",
    "        print(i)"
   ],
   "metadata": {
    "collapsed": false,
    "pycharm": {
     "name": "#%%\n"
    }
   }
  },
  {
   "cell_type": "code",
   "execution_count": 102,
   "outputs": [],
   "source": [
    "#'Star Wars: Episode IV - A New Hope (1977)' in movies['title']"
   ],
   "metadata": {
    "collapsed": false,
    "pycharm": {
     "name": "#%%\n"
    }
   }
  },
  {
   "cell_type": "code",
   "execution_count": 103,
   "outputs": [],
   "source": [
    "#movies['title'][movies['title']=='Star Wars: Episode IV - A New Hope (1977)']"
   ],
   "metadata": {
    "collapsed": false,
    "pycharm": {
     "name": "#%%\n"
    }
   }
  },
  {
   "cell_type": "code",
   "execution_count": 104,
   "outputs": [
    {
     "data": {
      "text/plain": "movieId                                          260\ntitle      Star Wars: Episode IV - A New Hope (1977)\nName: 224, dtype: object"
     },
     "execution_count": 104,
     "metadata": {},
     "output_type": "execute_result"
    }
   ],
   "source": [
    "movies.loc[224]"
   ],
   "metadata": {
    "collapsed": false,
    "pycharm": {
     "name": "#%%\n"
    }
   }
  },
  {
   "cell_type": "code",
   "execution_count": 105,
   "outputs": [
    {
     "data": {
      "text/plain": "userId\n1      NaN\n2      NaN\n3      NaN\n4      NaN\n5      NaN\n      ... \n606    4.0\n607    NaN\n608    NaN\n609    NaN\n610    NaN\nName: 224, Length: 610, dtype: float64"
     },
     "execution_count": 105,
     "metadata": {},
     "output_type": "execute_result"
    }
   ],
   "source": [
    "StarWarsRating = user_movies[224]\n",
    "StarWarsRating"
   ],
   "metadata": {
    "collapsed": false,
    "pycharm": {
     "name": "#%%\n"
    }
   }
  },
  {
   "cell_type": "code",
   "execution_count": 106,
   "outputs": [
    {
     "data": {
      "text/plain": "40"
     },
     "execution_count": 106,
     "metadata": {},
     "output_type": "execute_result"
    }
   ],
   "source": [
    "StarWarsRating[StarWarsRating >= 0].size"
   ],
   "metadata": {
    "collapsed": false,
    "pycharm": {
     "name": "#%%\n"
    }
   }
  },
  {
   "cell_type": "code",
   "execution_count": 107,
   "outputs": [
    {
     "name": "stderr",
     "output_type": "stream",
     "text": [
      "c:\\users\\admin\\pycharmprojects\\pythonproject5\\venv\\lib\\site-packages\\numpy\\lib\\function_base.py:2846: RuntimeWarning: Degrees of freedom <= 0 for slice\n",
      "  c = cov(x, y, rowvar, dtype=dtype)\n",
      "c:\\users\\admin\\pycharmprojects\\pythonproject5\\venv\\lib\\site-packages\\numpy\\lib\\function_base.py:2705: RuntimeWarning: divide by zero encountered in divide\n",
      "  c *= np.true_divide(1, fact)\n"
     ]
    },
    {
     "data": {
      "text/plain": "movieId\n1         0.206940\n2        -0.251390\n3        -0.408248\n4         0.456435\n5        -0.140068\n            ...   \n193581         NaN\n193583         NaN\n193585         NaN\n193587         NaN\n193609         NaN\nLength: 9724, dtype: float64"
     },
     "execution_count": 107,
     "metadata": {},
     "output_type": "execute_result"
    }
   ],
   "source": [
    "SimilarMovies = user_movies.corrwith(StarWarsRating)\n",
    "SimilarMovies"
   ],
   "metadata": {
    "collapsed": false,
    "pycharm": {
     "name": "#%%\n"
    }
   }
  },
  {
   "cell_type": "code",
   "execution_count": 108,
   "outputs": [
    {
     "data": {
      "text/plain": "movieId\n1         0.206940\n2        -0.251390\n3        -0.408248\n4         0.456435\n5        -0.140068\n            ...   \n193581         NaN\n193583         NaN\n193585         NaN\n193587         NaN\n193609         NaN\nName: 224, Length: 9724, dtype: float64"
     },
     "execution_count": 108,
     "metadata": {},
     "output_type": "execute_result"
    }
   ],
   "source": [
    "SimilarMovies2 = all_corr_df[224]\n",
    "SimilarMovies2"
   ],
   "metadata": {
    "collapsed": false,
    "pycharm": {
     "name": "#%%\n"
    }
   }
  },
  {
   "cell_type": "code",
   "execution_count": 109,
   "outputs": [
    {
     "data": {
      "text/plain": "movieId\n1        0.206940\n2       -0.251390\n3       -0.408248\n4        0.456435\n5       -0.140068\n           ...   \n91542   -1.000000\n91658    1.000000\n95105   -1.000000\n95510    1.000000\n96079   -1.000000\nLength: 1993, dtype: float64"
     },
     "execution_count": 109,
     "metadata": {},
     "output_type": "execute_result"
    }
   ],
   "source": [
    "SimilarMovies = SimilarMovies.dropna()\n",
    "SimilarMovies"
   ],
   "metadata": {
    "collapsed": false,
    "pycharm": {
     "name": "#%%\n"
    }
   }
  },
  {
   "cell_type": "code",
   "execution_count": 118,
   "outputs": [
    {
     "data": {
      "text/plain": "pandas.core.frame.DataFrame"
     },
     "execution_count": 118,
     "metadata": {},
     "output_type": "execute_result"
    }
   ],
   "source": [
    "type(SimilarMovies)"
   ],
   "metadata": {
    "collapsed": false,
    "pycharm": {
     "name": "#%%\n"
    }
   }
  },
  {
   "cell_type": "code",
   "execution_count": 119,
   "outputs": [
    {
     "data": {
      "text/plain": "                0\nmovieId          \n1        0.206940\n2       -0.251390\n3       -0.408248\n4        0.456435\n5       -0.140068\n...           ...\n91542   -1.000000\n91658    1.000000\n95105   -1.000000\n95510    1.000000\n96079   -1.000000\n\n[1993 rows x 1 columns]",
      "text/html": "<div>\n<style scoped>\n    .dataframe tbody tr th:only-of-type {\n        vertical-align: middle;\n    }\n\n    .dataframe tbody tr th {\n        vertical-align: top;\n    }\n\n    .dataframe thead th {\n        text-align: right;\n    }\n</style>\n<table border=\"1\" class=\"dataframe\">\n  <thead>\n    <tr style=\"text-align: right;\">\n      <th></th>\n      <th>0</th>\n    </tr>\n    <tr>\n      <th>movieId</th>\n      <th></th>\n    </tr>\n  </thead>\n  <tbody>\n    <tr>\n      <th>1</th>\n      <td>0.206940</td>\n    </tr>\n    <tr>\n      <th>2</th>\n      <td>-0.251390</td>\n    </tr>\n    <tr>\n      <th>3</th>\n      <td>-0.408248</td>\n    </tr>\n    <tr>\n      <th>4</th>\n      <td>0.456435</td>\n    </tr>\n    <tr>\n      <th>5</th>\n      <td>-0.140068</td>\n    </tr>\n    <tr>\n      <th>...</th>\n      <td>...</td>\n    </tr>\n    <tr>\n      <th>91542</th>\n      <td>-1.000000</td>\n    </tr>\n    <tr>\n      <th>91658</th>\n      <td>1.000000</td>\n    </tr>\n    <tr>\n      <th>95105</th>\n      <td>-1.000000</td>\n    </tr>\n    <tr>\n      <th>95510</th>\n      <td>1.000000</td>\n    </tr>\n    <tr>\n      <th>96079</th>\n      <td>-1.000000</td>\n    </tr>\n  </tbody>\n</table>\n<p>1993 rows × 1 columns</p>\n</div>"
     },
     "execution_count": 119,
     "metadata": {},
     "output_type": "execute_result"
    }
   ],
   "source": [
    "SimilarMovies = pd.DataFrame(SimilarMovies)\n",
    "SimilarMovies"
   ],
   "metadata": {
    "collapsed": false,
    "pycharm": {
     "name": "#%%\n"
    }
   }
  },
  {
   "cell_type": "code",
   "execution_count": 120,
   "outputs": [
    {
     "data": {
      "text/plain": "RangeIndex(start=0, stop=1, step=1)"
     },
     "execution_count": 120,
     "metadata": {},
     "output_type": "execute_result"
    }
   ],
   "source": [
    "SimilarMovies.columns"
   ],
   "metadata": {
    "collapsed": false,
    "pycharm": {
     "name": "#%%\n"
    }
   }
  },
  {
   "cell_type": "code",
   "execution_count": 121,
   "outputs": [
    {
     "data": {
      "text/plain": "           0\nmovieId     \n3606     1.0\n612      1.0\n2906     1.0\n2908     1.0\n2334     1.0\n...      ...\n5379    -1.0\n5420    -1.0\n3503    -1.0\n8781    -1.0\n6341    -1.0\n\n[1993 rows x 1 columns]",
      "text/html": "<div>\n<style scoped>\n    .dataframe tbody tr th:only-of-type {\n        vertical-align: middle;\n    }\n\n    .dataframe tbody tr th {\n        vertical-align: top;\n    }\n\n    .dataframe thead th {\n        text-align: right;\n    }\n</style>\n<table border=\"1\" class=\"dataframe\">\n  <thead>\n    <tr style=\"text-align: right;\">\n      <th></th>\n      <th>0</th>\n    </tr>\n    <tr>\n      <th>movieId</th>\n      <th></th>\n    </tr>\n  </thead>\n  <tbody>\n    <tr>\n      <th>3606</th>\n      <td>1.0</td>\n    </tr>\n    <tr>\n      <th>612</th>\n      <td>1.0</td>\n    </tr>\n    <tr>\n      <th>2906</th>\n      <td>1.0</td>\n    </tr>\n    <tr>\n      <th>2908</th>\n      <td>1.0</td>\n    </tr>\n    <tr>\n      <th>2334</th>\n      <td>1.0</td>\n    </tr>\n    <tr>\n      <th>...</th>\n      <td>...</td>\n    </tr>\n    <tr>\n      <th>5379</th>\n      <td>-1.0</td>\n    </tr>\n    <tr>\n      <th>5420</th>\n      <td>-1.0</td>\n    </tr>\n    <tr>\n      <th>3503</th>\n      <td>-1.0</td>\n    </tr>\n    <tr>\n      <th>8781</th>\n      <td>-1.0</td>\n    </tr>\n    <tr>\n      <th>6341</th>\n      <td>-1.0</td>\n    </tr>\n  </tbody>\n</table>\n<p>1993 rows × 1 columns</p>\n</div>"
     },
     "execution_count": 121,
     "metadata": {},
     "output_type": "execute_result"
    }
   ],
   "source": [
    "SimilarMovies.sort_values(by=0, axis=0, ascending=False, inplace=True)\n",
    "SimilarMovies"
   ],
   "metadata": {
    "collapsed": false,
    "pycharm": {
     "name": "#%%\n"
    }
   }
  },
  {
   "cell_type": "code",
   "execution_count": 122,
   "outputs": [
    {
     "data": {
      "text/plain": "      movieId    0\n0        3606  1.0\n1         612  1.0\n2        2906  1.0\n3        2908  1.0\n4        2334  1.0\n...       ...  ...\n1988     5379 -1.0\n1989     5420 -1.0\n1990     3503 -1.0\n1991     8781 -1.0\n1992     6341 -1.0\n\n[1993 rows x 2 columns]",
      "text/html": "<div>\n<style scoped>\n    .dataframe tbody tr th:only-of-type {\n        vertical-align: middle;\n    }\n\n    .dataframe tbody tr th {\n        vertical-align: top;\n    }\n\n    .dataframe thead th {\n        text-align: right;\n    }\n</style>\n<table border=\"1\" class=\"dataframe\">\n  <thead>\n    <tr style=\"text-align: right;\">\n      <th></th>\n      <th>movieId</th>\n      <th>0</th>\n    </tr>\n  </thead>\n  <tbody>\n    <tr>\n      <th>0</th>\n      <td>3606</td>\n      <td>1.0</td>\n    </tr>\n    <tr>\n      <th>1</th>\n      <td>612</td>\n      <td>1.0</td>\n    </tr>\n    <tr>\n      <th>2</th>\n      <td>2906</td>\n      <td>1.0</td>\n    </tr>\n    <tr>\n      <th>3</th>\n      <td>2908</td>\n      <td>1.0</td>\n    </tr>\n    <tr>\n      <th>4</th>\n      <td>2334</td>\n      <td>1.0</td>\n    </tr>\n    <tr>\n      <th>...</th>\n      <td>...</td>\n      <td>...</td>\n    </tr>\n    <tr>\n      <th>1988</th>\n      <td>5379</td>\n      <td>-1.0</td>\n    </tr>\n    <tr>\n      <th>1989</th>\n      <td>5420</td>\n      <td>-1.0</td>\n    </tr>\n    <tr>\n      <th>1990</th>\n      <td>3503</td>\n      <td>-1.0</td>\n    </tr>\n    <tr>\n      <th>1991</th>\n      <td>8781</td>\n      <td>-1.0</td>\n    </tr>\n    <tr>\n      <th>1992</th>\n      <td>6341</td>\n      <td>-1.0</td>\n    </tr>\n  </tbody>\n</table>\n<p>1993 rows × 2 columns</p>\n</div>"
     },
     "execution_count": 122,
     "metadata": {},
     "output_type": "execute_result"
    }
   ],
   "source": [
    "SimilarMovies.reset_index()"
   ],
   "metadata": {
    "collapsed": false,
    "pycharm": {
     "name": "#%%\n"
    }
   }
  },
  {
   "cell_type": "code",
   "execution_count": 86,
   "outputs": [
    {
     "data": {
      "text/plain": "7327    Star Wars: Episode IV - A New Hope (1977)\nName: title, dtype: object"
     },
     "execution_count": 86,
     "metadata": {},
     "output_type": "execute_result"
    }
   ],
   "source": [
    "#movies.title[movies.movieId[movies.movieId==7327]]"
   ],
   "metadata": {
    "collapsed": false,
    "pycharm": {
     "name": "#%%\n"
    }
   }
  },
  {
   "cell_type": "code",
   "execution_count": 123,
   "outputs": [
    {
     "data": {
      "text/plain": "      movieId                                      title\n0           1                           Toy Story (1995)\n1           2                             Jumanji (1995)\n2           3                    Grumpier Old Men (1995)\n3           4                   Waiting to Exhale (1995)\n4           5         Father of the Bride Part II (1995)\n...       ...                                        ...\n9737   193581  Black Butler: Book of the Atlantic (2017)\n9738   193583               No Game No Life: Zero (2017)\n9739   193585                               Flint (2017)\n9740   193587        Bungo Stray Dogs: Dead Apple (2018)\n9741   193609        Andrew Dice Clay: Dice Rules (1991)\n\n[9742 rows x 2 columns]",
      "text/html": "<div>\n<style scoped>\n    .dataframe tbody tr th:only-of-type {\n        vertical-align: middle;\n    }\n\n    .dataframe tbody tr th {\n        vertical-align: top;\n    }\n\n    .dataframe thead th {\n        text-align: right;\n    }\n</style>\n<table border=\"1\" class=\"dataframe\">\n  <thead>\n    <tr style=\"text-align: right;\">\n      <th></th>\n      <th>movieId</th>\n      <th>title</th>\n    </tr>\n  </thead>\n  <tbody>\n    <tr>\n      <th>0</th>\n      <td>1</td>\n      <td>Toy Story (1995)</td>\n    </tr>\n    <tr>\n      <th>1</th>\n      <td>2</td>\n      <td>Jumanji (1995)</td>\n    </tr>\n    <tr>\n      <th>2</th>\n      <td>3</td>\n      <td>Grumpier Old Men (1995)</td>\n    </tr>\n    <tr>\n      <th>3</th>\n      <td>4</td>\n      <td>Waiting to Exhale (1995)</td>\n    </tr>\n    <tr>\n      <th>4</th>\n      <td>5</td>\n      <td>Father of the Bride Part II (1995)</td>\n    </tr>\n    <tr>\n      <th>...</th>\n      <td>...</td>\n      <td>...</td>\n    </tr>\n    <tr>\n      <th>9737</th>\n      <td>193581</td>\n      <td>Black Butler: Book of the Atlantic (2017)</td>\n    </tr>\n    <tr>\n      <th>9738</th>\n      <td>193583</td>\n      <td>No Game No Life: Zero (2017)</td>\n    </tr>\n    <tr>\n      <th>9739</th>\n      <td>193585</td>\n      <td>Flint (2017)</td>\n    </tr>\n    <tr>\n      <th>9740</th>\n      <td>193587</td>\n      <td>Bungo Stray Dogs: Dead Apple (2018)</td>\n    </tr>\n    <tr>\n      <th>9741</th>\n      <td>193609</td>\n      <td>Andrew Dice Clay: Dice Rules (1991)</td>\n    </tr>\n  </tbody>\n</table>\n<p>9742 rows × 2 columns</p>\n</div>"
     },
     "execution_count": 123,
     "metadata": {},
     "output_type": "execute_result"
    }
   ],
   "source": [
    "movies"
   ],
   "metadata": {
    "collapsed": false,
    "pycharm": {
     "name": "#%%\n"
    }
   }
  },
  {
   "cell_type": "code",
   "execution_count": 124,
   "outputs": [
    {
     "data": {
      "text/plain": "movieId                      6313\ntitle      Sibling Rivalry (1990)\nName: 4320, dtype: object"
     },
     "execution_count": 124,
     "metadata": {},
     "output_type": "execute_result"
    }
   ],
   "source": [
    "movies.loc[4320]"
   ],
   "metadata": {
    "collapsed": false,
    "pycharm": {
     "name": "#%%\n"
    }
   }
  },
  {
   "cell_type": "code",
   "execution_count": 168,
   "outputs": [
    {
     "data": {
      "text/plain": "      movieId  similarity                             title\n0        3606         1.0                On the Town (1949)\n1         612         1.0            Pallbearer, The (1996)\n2        2906         1.0              Random Hearts (1999)\n3        2908         1.0             Boys Don't Cry (1999)\n4        2334         1.0                 Siege, The (1998)\n...       ...         ...                               ...\n1988     5379        -1.0              Believer, The (2001)\n1989     5420        -1.0                Windtalkers (2002)\n1990     3503        -1.0         Solaris (Solyaris) (1972)\n1991     8781        -1.0  Manchurian Candidate, The (2004)\n1992     6341        -1.0       Shape of Things, The (2003)\n\n[1993 rows x 3 columns]",
      "text/html": "<div>\n<style scoped>\n    .dataframe tbody tr th:only-of-type {\n        vertical-align: middle;\n    }\n\n    .dataframe tbody tr th {\n        vertical-align: top;\n    }\n\n    .dataframe thead th {\n        text-align: right;\n    }\n</style>\n<table border=\"1\" class=\"dataframe\">\n  <thead>\n    <tr style=\"text-align: right;\">\n      <th></th>\n      <th>movieId</th>\n      <th>similarity</th>\n      <th>title</th>\n    </tr>\n  </thead>\n  <tbody>\n    <tr>\n      <th>0</th>\n      <td>3606</td>\n      <td>1.0</td>\n      <td>On the Town (1949)</td>\n    </tr>\n    <tr>\n      <th>1</th>\n      <td>612</td>\n      <td>1.0</td>\n      <td>Pallbearer, The (1996)</td>\n    </tr>\n    <tr>\n      <th>2</th>\n      <td>2906</td>\n      <td>1.0</td>\n      <td>Random Hearts (1999)</td>\n    </tr>\n    <tr>\n      <th>3</th>\n      <td>2908</td>\n      <td>1.0</td>\n      <td>Boys Don't Cry (1999)</td>\n    </tr>\n    <tr>\n      <th>4</th>\n      <td>2334</td>\n      <td>1.0</td>\n      <td>Siege, The (1998)</td>\n    </tr>\n    <tr>\n      <th>...</th>\n      <td>...</td>\n      <td>...</td>\n      <td>...</td>\n    </tr>\n    <tr>\n      <th>1988</th>\n      <td>5379</td>\n      <td>-1.0</td>\n      <td>Believer, The (2001)</td>\n    </tr>\n    <tr>\n      <th>1989</th>\n      <td>5420</td>\n      <td>-1.0</td>\n      <td>Windtalkers (2002)</td>\n    </tr>\n    <tr>\n      <th>1990</th>\n      <td>3503</td>\n      <td>-1.0</td>\n      <td>Solaris (Solyaris) (1972)</td>\n    </tr>\n    <tr>\n      <th>1991</th>\n      <td>8781</td>\n      <td>-1.0</td>\n      <td>Manchurian Candidate, The (2004)</td>\n    </tr>\n    <tr>\n      <th>1992</th>\n      <td>6341</td>\n      <td>-1.0</td>\n      <td>Shape of Things, The (2003)</td>\n    </tr>\n  </tbody>\n</table>\n<p>1993 rows × 3 columns</p>\n</div>"
     },
     "execution_count": 168,
     "metadata": {},
     "output_type": "execute_result"
    }
   ],
   "source": [
    "SimilarMovies_full=pd.merge(SimilarMovies.reset_index(), movies)\n",
    "SimilarMovies_full.rename(columns={0:'rating'},inplace=True)\n",
    "SimilarMovies_full"
   ],
   "metadata": {
    "collapsed": false,
    "pycharm": {
     "name": "#%%\n"
    }
   }
  },
  {
   "cell_type": "code",
   "execution_count": 169,
   "outputs": [],
   "source": [
    "#movies['movieId'][movies['movieId'][movies['movieId']==6313].index]"
   ],
   "metadata": {
    "collapsed": false,
    "pycharm": {
     "name": "#%%\n"
    }
   }
  },
  {
   "cell_type": "code",
   "execution_count": 170,
   "outputs": [],
   "source": [
    "#movies.title[4320]"
   ],
   "metadata": {
    "collapsed": false,
    "pycharm": {
     "name": "#%%\n"
    }
   }
  },
  {
   "cell_type": "code",
   "execution_count": 171,
   "outputs": [],
   "source": [
    "movie_title = {movies.movieId[i]: movies.title[i] for i in movies.index}"
   ],
   "metadata": {
    "collapsed": false,
    "pycharm": {
     "name": "#%%\n"
    }
   }
  },
  {
   "cell_type": "code",
   "execution_count": 172,
   "outputs": [
    {
     "data": {
      "text/plain": "{1: 'Toy Story (1995)',\n 2: 'Jumanji (1995)',\n 3: 'Grumpier Old Men (1995)',\n 4: 'Waiting to Exhale (1995)',\n 5: 'Father of the Bride Part II (1995)',\n 6: 'Heat (1995)',\n 7: 'Sabrina (1995)',\n 8: 'Tom and Huck (1995)',\n 9: 'Sudden Death (1995)',\n 10: 'GoldenEye (1995)',\n 11: 'American President, The (1995)',\n 12: 'Dracula: Dead and Loving It (1995)',\n 13: 'Balto (1995)',\n 14: 'Nixon (1995)',\n 15: 'Cutthroat Island (1995)',\n 16: 'Casino (1995)',\n 17: 'Sense and Sensibility (1995)',\n 18: 'Four Rooms (1995)',\n 19: 'Ace Ventura: When Nature Calls (1995)',\n 20: 'Money Train (1995)',\n 21: 'Get Shorty (1995)',\n 22: 'Copycat (1995)',\n 23: 'Assassins (1995)',\n 24: 'Powder (1995)',\n 25: 'Leaving Las Vegas (1995)',\n 26: 'Othello (1995)',\n 27: 'Now and Then (1995)',\n 28: 'Persuasion (1995)',\n 29: 'City of Lost Children, The (Cité des enfants perdus, La) (1995)',\n 30: 'Shanghai Triad (Yao a yao yao dao waipo qiao) (1995)',\n 31: 'Dangerous Minds (1995)',\n 32: 'Twelve Monkeys (a.k.a. 12 Monkeys) (1995)',\n 34: 'Babe (1995)',\n 36: 'Dead Man Walking (1995)',\n 38: 'It Takes Two (1995)',\n 39: 'Clueless (1995)',\n 40: 'Cry, the Beloved Country (1995)',\n 41: 'Richard III (1995)',\n 42: 'Dead Presidents (1995)',\n 43: 'Restoration (1995)',\n 44: 'Mortal Kombat (1995)',\n 45: 'To Die For (1995)',\n 46: 'How to Make an American Quilt (1995)',\n 47: 'Seven (a.k.a. Se7en) (1995)',\n 48: 'Pocahontas (1995)',\n 49: 'When Night Is Falling (1995)',\n 50: 'Usual Suspects, The (1995)',\n 52: 'Mighty Aphrodite (1995)',\n 53: 'Lamerica (1994)',\n 54: 'Big Green, The (1995)',\n 55: 'Georgia (1995)',\n 57: 'Home for the Holidays (1995)',\n 58: 'Postman, The (Postino, Il) (1994)',\n 60: 'Indian in the Cupboard, The (1995)',\n 61: 'Eye for an Eye (1996)',\n 62: \"Mr. Holland's Opus (1995)\",\n 63: \"Don't Be a Menace to South Central While Drinking Your Juice in the Hood (1996)\",\n 64: 'Two if by Sea (1996)',\n 65: 'Bio-Dome (1996)',\n 66: 'Lawnmower Man 2: Beyond Cyberspace (1996)',\n 68: 'French Twist (Gazon maudit) (1995)',\n 69: 'Friday (1995)',\n 70: 'From Dusk Till Dawn (1996)',\n 71: 'Fair Game (1995)',\n 72: 'Kicking and Screaming (1995)',\n 73: 'Misérables, Les (1995)',\n 74: 'Bed of Roses (1996)',\n 75: 'Big Bully (1996)',\n 76: 'Screamers (1995)',\n 77: 'Nico Icon (1995)',\n 78: 'Crossing Guard, The (1995)',\n 79: 'Juror, The (1996)',\n 80: 'White Balloon, The (Badkonake sefid) (1995)',\n 81: \"Things to Do in Denver When You're Dead (1995)\",\n 82: \"Antonia's Line (Antonia) (1995)\",\n 83: 'Once Upon a Time... When We Were Colored (1995)',\n 85: 'Angels and Insects (1995)',\n 86: 'White Squall (1996)',\n 87: 'Dunston Checks In (1996)',\n 88: 'Black Sheep (1996)',\n 89: 'Nick of Time (1995)',\n 92: 'Mary Reilly (1996)',\n 93: 'Vampire in Brooklyn (1995)',\n 94: 'Beautiful Girls (1996)',\n 95: 'Broken Arrow (1996)',\n 96: 'In the Bleak Midwinter (1995)',\n 97: 'Hate (Haine, La) (1995)',\n 99: 'Heidi Fleiss: Hollywood Madam (1995)',\n 100: 'City Hall (1996)',\n 101: 'Bottle Rocket (1996)',\n 102: 'Mr. Wrong (1996)',\n 103: 'Unforgettable (1996)',\n 104: 'Happy Gilmore (1996)',\n 105: 'Bridges of Madison County, The (1995)',\n 106: 'Nobody Loves Me (Keiner liebt mich) (1994)',\n 107: 'Muppet Treasure Island (1996)',\n 108: 'Catwalk (1996)',\n 110: 'Braveheart (1995)',\n 111: 'Taxi Driver (1976)',\n 112: 'Rumble in the Bronx (Hont faan kui) (1995)',\n 113: 'Before and After (1996)',\n 116: 'Anne Frank Remembered (1995)',\n 117: \"Young Poisoner's Handbook, The (1995)\",\n 118: 'If Lucy Fell (1996)',\n 119: 'Steal Big, Steal Little (1995)',\n 121: 'Boys of St. Vincent, The (1992)',\n 122: 'Boomerang (1992)',\n 123: 'Chungking Express (Chung Hing sam lam) (1994)',\n 125: 'Flirting With Disaster (1996)',\n 126: 'NeverEnding Story III, The (1994)',\n 128: \"Jupiter's Wife (1994)\",\n 129: 'Pie in the Sky (1996)',\n 132: 'Jade (1995)',\n 135: 'Down Periscope (1996)',\n 137: 'Man of the Year (1995)',\n 140: 'Up Close and Personal (1996)',\n 141: 'Birdcage, The (1996)',\n 144: 'Brothers McMullen, The (1995)',\n 145: 'Bad Boys (1995)',\n 146: 'Amazing Panda Adventure, The (1995)',\n 147: 'Basketball Diaries, The (1995)',\n 148: 'Awfully Big Adventure, An (1995)',\n 149: 'Amateur (1994)',\n 150: 'Apollo 13 (1995)',\n 151: 'Rob Roy (1995)',\n 152: 'Addiction, The (1995)',\n 153: 'Batman Forever (1995)',\n 154: 'Beauty of the Day (Belle de jour) (1967)',\n 155: 'Beyond Rangoon (1995)',\n 156: 'Blue in the Face (1995)',\n 157: 'Canadian Bacon (1995)',\n 158: 'Casper (1995)',\n 159: 'Clockers (1995)',\n 160: 'Congo (1995)',\n 161: 'Crimson Tide (1995)',\n 162: 'Crumb (1994)',\n 163: 'Desperado (1995)',\n 164: 'Devil in a Blue Dress (1995)',\n 165: 'Die Hard: With a Vengeance (1995)',\n 166: 'Doom Generation, The (1995)',\n 168: 'First Knight (1995)',\n 169: 'Free Willy 2: The Adventure Home (1995)',\n 170: 'Hackers (1995)',\n 171: 'Jeffrey (1995)',\n 172: 'Johnny Mnemonic (1995)',\n 173: 'Judge Dredd (1995)',\n 174: 'Jury Duty (1995)',\n 175: 'Kids (1995)',\n 176: 'Living in Oblivion (1995)',\n 177: 'Lord of Illusions (1995)',\n 178: 'Love & Human Remains (1993)',\n 179: 'Mad Love (1995)',\n 180: 'Mallrats (1995)',\n 181: 'Mighty Morphin Power Rangers: The Movie (1995)',\n 183: 'Mute Witness (1994)',\n 184: 'Nadja (1994)',\n 185: 'Net, The (1995)',\n 186: 'Nine Months (1995)',\n 187: 'Party Girl (1995)',\n 188: 'Prophecy, The (1995)',\n 189: 'Reckless (1995)',\n 190: 'Safe (1995)',\n 191: 'Scarlet Letter, The (1995)',\n 193: 'Showgirls (1995)',\n 194: 'Smoke (1995)',\n 195: 'Something to Talk About (1995)',\n 196: 'Species (1995)',\n 198: 'Strange Days (1995)',\n 199: 'Umbrellas of Cherbourg, The (Parapluies de Cherbourg, Les) (1964)',\n 201: 'Three Wishes (1995)',\n 202: 'Total Eclipse (1995)',\n 203: 'To Wong Foo, Thanks for Everything! Julie Newmar (1995)',\n 204: 'Under Siege 2: Dark Territory (1995)',\n 205: 'Unstrung Heroes (1995)',\n 206: 'Unzipped (1995)',\n 207: 'Walk in the Clouds, A (1995)',\n 208: 'Waterworld (1995)',\n 209: \"White Man's Burden (1995)\",\n 210: 'Wild Bill (1995)',\n 211: 'Browning Version, The (1994)',\n 212: 'Bushwhacked (1995)',\n 213: 'Burnt by the Sun (Utomlyonnye solntsem) (1994)',\n 214: 'Before the Rain (Pred dozhdot) (1994)',\n 215: 'Before Sunrise (1995)',\n 216: 'Billy Madison (1995)',\n 217: 'Babysitter, The (1995)',\n 218: 'Boys on the Side (1995)',\n 219: 'Cure, The (1995)',\n 220: 'Castle Freak (1995)',\n 222: 'Circle of Friends (1995)',\n 223: 'Clerks (1994)',\n 224: 'Don Juan DeMarco (1995)',\n 225: 'Disclosure (1994)',\n 227: 'Drop Zone (1994)',\n 228: 'Destiny Turns on the Radio (1995)',\n 229: 'Death and the Maiden (1994)',\n 230: 'Dolores Claiborne (1995)',\n 231: 'Dumb & Dumber (Dumb and Dumber) (1994)',\n 232: 'Eat Drink Man Woman (Yin shi nan nu) (1994)',\n 233: 'Exotica (1994)',\n 234: 'Exit to Eden (1994)',\n 235: 'Ed Wood (1994)',\n 236: 'French Kiss (1995)',\n 237: 'Forget Paris (1995)',\n 238: 'Far From Home: The Adventures of Yellow Dog (1995)',\n 239: 'Goofy Movie, A (1995)',\n 240: 'Hideaway (1995)',\n 241: 'Fluke (1995)',\n 242: 'Farinelli: il castrato (1994)',\n 243: 'Gordy (1995)',\n 246: 'Hoop Dreams (1994)',\n 247: 'Heavenly Creatures (1994)',\n 248: 'Houseguest (1994)',\n 249: 'Immortal Beloved (1994)',\n 250: 'Heavyweights (Heavy Weights) (1995)',\n 251: 'Hunted, The (1995)',\n 252: 'I.Q. (1994)',\n 253: 'Interview with the Vampire: The Vampire Chronicles (1994)',\n 254: 'Jefferson in Paris (1995)',\n 255: 'Jerky Boys, The (1995)',\n 256: 'Junior (1994)',\n 257: 'Just Cause (1995)',\n 258: \"Kid in King Arthur's Court, A (1995)\",\n 259: 'Kiss of Death (1995)',\n 260: 'Star Wars: Episode IV - A New Hope (1977)',\n 261: 'Little Women (1994)',\n 262: 'Little Princess, A (1995)',\n 263: 'Ladybird Ladybird (1994)',\n 265: 'Like Water for Chocolate (Como agua para chocolate) (1992)',\n 266: 'Legends of the Fall (1994)',\n 267: 'Major Payne (1995)',\n 269: 'My Crazy Life (Mi vida loca) (1993)',\n 270: 'Love Affair (1994)',\n 271: 'Losing Isaiah (1995)',\n 272: 'Madness of King George, The (1994)',\n 273: \"Mary Shelley's Frankenstein (Frankenstein) (1994)\",\n 274: 'Man of the House (1995)',\n 275: 'Mixed Nuts (1994)',\n 276: 'Milk Money (1994)',\n 277: 'Miracle on 34th Street (1994)',\n 278: 'Miami Rhapsody (1995)',\n 279: 'My Family (1995)',\n 280: 'Murder in the First (1995)',\n 281: \"Nobody's Fool (1994)\",\n 282: 'Nell (1994)',\n 283: 'New Jersey Drive (1995)',\n 284: 'New York Cop (Nyû Yôku no koppu) (1993)',\n 285: 'Beyond Bedlam (1993)',\n 287: 'Nina Takes a Lover (1994)',\n 288: 'Natural Born Killers (1994)',\n 289: 'Only You (1994)',\n 290: 'Once Were Warriors (1994)',\n 291: 'Poison Ivy II (1996)',\n 292: 'Outbreak (1995)',\n 293: 'Léon: The Professional (a.k.a. The Professional) (Léon) (1994)',\n 294: 'Perez Family, The (1995)',\n 295: \"Pyromaniac's Love Story, A (1995)\",\n 296: 'Pulp Fiction (1994)',\n 298: 'Pushing Hands (Tui shou) (1992)',\n 299: 'Priest (1994)',\n 300: 'Quiz Show (1994)',\n 301: 'Picture Bride (Bijo photo) (1994)',\n 302: 'Queen Margot (Reine Margot, La) (1994)',\n 303: 'Quick and the Dead, The (1995)',\n 304: 'Roommates (1995)',\n 305: 'Ready to Wear (Pret-A-Porter) (1994)',\n 306: 'Three Colors: Red (Trois couleurs: Rouge) (1994)',\n 307: 'Three Colors: Blue (Trois couleurs: Bleu) (1993)',\n 308: 'Three Colors: White (Trzy kolory: Bialy) (1994)',\n 310: 'Rent-a-Kid (1995)',\n 311: 'Relative Fear (1994)',\n 312: 'Stuart Saves His Family (1995)',\n 313: 'Swan Princess, The (1994)',\n 314: 'Secret of Roan Inish, The (1994)',\n 315: 'Specialist, The (1994)',\n 316: 'Stargate (1994)',\n 317: 'Santa Clause, The (1994)',\n 318: 'Shawshank Redemption, The (1994)',\n 319: 'Shallow Grave (1994)',\n 320: 'Suture (1993)',\n 321: 'Strawberry and Chocolate (Fresa y chocolate) (1993)',\n 322: 'Swimming with Sharks (1995)',\n 324: 'Sum of Us, The (1994)',\n 325: \"National Lampoon's Senior Trip (1995)\",\n 326: 'To Live (Huozhe) (1994)',\n 327: 'Tank Girl (1995)',\n 328: 'Tales from the Crypt Presents: Demon Knight (1995)',\n 329: 'Star Trek: Generations (1994)',\n 330: 'Tales from the Hood (1995)',\n 331: 'Tom & Viv (1994)',\n 332: 'Village of the Damned (1995)',\n 333: 'Tommy Boy (1995)',\n 334: 'Vanya on 42nd Street (1994)',\n 335: 'Underneath (1995)',\n 336: 'Walking Dead, The (1995)',\n 337: \"What's Eating Gilbert Grape (1993)\",\n 338: 'Virtuosity (1995)',\n 339: 'While You Were Sleeping (1995)',\n 340: 'War, The (1994)',\n 341: 'Double Happiness (1994)',\n 342: \"Muriel's Wedding (1994)\",\n 343: 'Baby-Sitters Club, The (1995)',\n 344: 'Ace Ventura: Pet Detective (1994)',\n 345: 'Adventures of Priscilla, Queen of the Desert, The (1994)',\n 346: 'Backbeat (1993)',\n 347: 'Bitter Moon (1992)',\n 348: 'Bullets Over Broadway (1994)',\n 349: 'Clear and Present Danger (1994)',\n 350: 'Client, The (1994)',\n 351: 'Corrina, Corrina (1994)',\n 352: 'Crooklyn (1994)',\n 353: 'Crow, The (1994)',\n 354: 'Cobb (1994)',\n 355: 'Flintstones, The (1994)',\n 356: 'Forrest Gump (1994)',\n 357: 'Four Weddings and a Funeral (1994)',\n 358: 'Higher Learning (1995)',\n 359: 'I Like It Like That (1994)',\n 360: 'I Love Trouble (1994)',\n 361: 'It Could Happen to You (1994)',\n 362: 'Jungle Book, The (1994)',\n 363: 'Wonderful, Horrible Life of Leni Riefenstahl, The (Macht der Bilder: Leni Riefenstahl, Die) (1993)',\n 364: 'Lion King, The (1994)',\n 365: 'Little Buddha (1993)',\n 366: \"Wes Craven's New Nightmare (Nightmare on Elm Street Part 7: Freddy's Finale, A) (1994)\",\n 367: 'Mask, The (1994)',\n 368: 'Maverick (1994)',\n 369: 'Mrs. Parker and the Vicious Circle (1994)',\n 370: 'Naked Gun 33 1/3: The Final Insult (1994)',\n 371: 'Paper, The (1994)',\n 372: 'Reality Bites (1994)',\n 373: 'Red Rock West (1992)',\n 374: 'Richie Rich (1994)',\n 376: 'River Wild, The (1994)',\n 377: 'Speed (1994)',\n 378: 'Speechless (1994)',\n 379: 'Timecop (1994)',\n 380: 'True Lies (1994)',\n 381: 'When a Man Loves a Woman (1994)',\n 382: 'Wolf (1994)',\n 383: 'Wyatt Earp (1994)',\n 384: 'Bad Company (1995)',\n 385: 'Man of No Importance, A (1994)',\n 386: 'S.F.W. (1994)',\n 387: 'Low Down Dirty Shame, A (1994)',\n 388: 'Boys Life (1995)',\n 389: 'Colonel Chabert, Le (1994)',\n 390: 'Faster Pussycat! Kill! Kill! (1965)',\n 391: \"Jason's Lyric (1994)\",\n 393: 'Street Fighter (1994)',\n 405: 'Highlander III: The Sorcerer (a.k.a. Highlander: The Final Dimension) (1994)',\n 406: 'Federal Hill (1994)',\n 407: 'In the Mouth of Madness (1995)',\n 408: '8 Seconds (1994)',\n 409: 'Above the Rim (1994)',\n 410: 'Addams Family Values (1993)',\n 412: 'Age of Innocence, The (1993)',\n 413: 'Airheads (1994)',\n 414: 'Air Up There, The (1994)',\n 415: 'Another Stakeout (1993)',\n 416: 'Bad Girls (1994)',\n 417: 'Barcelona (1994)',\n 418: 'Being Human (1993)',\n 419: 'Beverly Hillbillies, The (1993)',\n 420: 'Beverly Hills Cop III (1994)',\n 421: 'Black Beauty (1994)',\n 422: 'Blink (1994)',\n 423: 'Blown Away (1994)',\n 424: 'Blue Chips (1994)',\n 425: 'Blue Sky (1994)',\n 426: 'Body Snatchers (1993)',\n 427: 'Boxing Helena (1993)',\n 428: 'Bronx Tale, A (1993)',\n 429: 'Cabin Boy (1994)',\n 430: 'Calendar Girl (1993)',\n 431: \"Carlito's Way (1993)\",\n 432: \"City Slickers II: The Legend of Curly's Gold (1994)\",\n 433: 'Clean Slate (1994)',\n 434: 'Cliffhanger (1993)',\n 435: 'Coneheads (1993)',\n 436: 'Color of Night (1994)',\n 437: 'Cops and Robbersons (1994)',\n 438: 'Cowboy Way, The (1994)',\n 440: 'Dave (1993)',\n 441: 'Dazed and Confused (1993)',\n 442: 'Demolition Man (1993)',\n 444: 'Even Cowgirls Get the Blues (1993)',\n 445: 'Fatal Instinct (1993)',\n 446: 'Farewell My Concubine (Ba wang bie ji) (1993)',\n 448: 'Fearless (1993)',\n 449: 'Fear of a Black Hat (1994)',\n 450: 'With Honors (1994)',\n 451: 'Flesh and Bone (1993)',\n 452: \"Widows' Peak (1994)\",\n 453: 'For Love or Money (1993)',\n 454: 'Firm, The (1993)',\n 455: 'Free Willy (1993)',\n 456: 'Fresh (1994)',\n 457: 'Fugitive, The (1993)',\n 458: 'Geronimo: An American Legend (1993)',\n 459: 'Getaway, The (1994)',\n 460: 'Getting Even with Dad (1994)',\n 461: 'Go Fish (1994)',\n 464: 'Hard Target (1993)',\n 466: 'Hot Shots! Part Deux (1993)',\n 467: 'Live Nude Girls (1995)',\n 468: 'Englishman Who Went Up a Hill But Came Down a Mountain, The (1995)',\n 469: 'House of the Spirits, The (1993)',\n 470: 'House Party 3 (1994)',\n 471: 'Hudsucker Proxy, The (1994)',\n 472: \"I'll Do Anything (1994)\",\n 473: 'In the Army Now (1994)',\n 474: 'In the Line of Fire (1993)',\n 475: 'In the Name of the Father (1993)',\n 476: 'Inkwell, The (1994)',\n 477: \"What's Love Got to Do with It? (1993)\",\n 478: 'Jimmy Hollywood (1994)',\n 479: 'Judgment Night (1993)',\n 480: 'Jurassic Park (1993)',\n 481: 'Kalifornia (1993)',\n 482: 'Killing Zoe (1994)',\n 484: 'Lassie (1994)',\n 485: 'Last Action Hero (1993)',\n 486: 'Life with Mikey (1993)',\n 487: 'Lightning Jack (1994)',\n 488: 'M. Butterfly (1993)',\n 489: 'Made in America (1993)',\n 490: 'Malice (1993)',\n 491: 'Man Without a Face, The (1993)',\n 492: 'Manhattan Murder Mystery (1993)',\n 493: 'Menace II Society (1993)',\n 494: 'Executive Decision (1996)',\n 495: 'In the Realm of the Senses (Ai no corrida) (1976)',\n 496: 'What Happened Was... (1994)',\n 497: 'Much Ado About Nothing (1993)',\n 499: 'Mr. Wonderful (1993)',\n 500: 'Mrs. Doubtfire (1993)',\n 501: 'Naked (1993)',\n 502: 'Next Karate Kid, The (1994)',\n 504: 'No Escape (1994)',\n 505: 'North (1994)',\n 506: 'Orlando (1992)',\n 507: 'Perfect World, A (1993)',\n 508: 'Philadelphia (1993)',\n 509: 'Piano, The (1993)',\n 510: 'Poetic Justice (1993)',\n 511: 'Program, The (1993)',\n 512: 'Puppet Masters, The (1994)',\n 513: 'Radioland Murders (1994)',\n 514: 'Ref, The (1994)',\n 515: 'Remains of the Day, The (1993)',\n 516: 'Renaissance Man (1994)',\n 517: 'Rising Sun (1993)',\n 518: 'Road to Wellville, The (1994)',\n 519: 'RoboCop 3 (1993)',\n 520: 'Robin Hood: Men in Tights (1993)',\n 521: 'Romeo Is Bleeding (1993)',\n 522: 'Romper Stomper (1992)',\n 523: 'Ruby in Paradise (1993)',\n 524: 'Rudy (1993)',\n 526: 'Savage Nights (Nuits fauves, Les) (1992)',\n 527: \"Schindler's List (1993)\",\n 528: 'Scout, The (1994)',\n 529: 'Searching for Bobby Fischer (1993)',\n 531: 'Secret Garden, The (1993)',\n 532: 'Serial Mom (1994)',\n 533: 'Shadow, The (1994)',\n 534: 'Shadowlands (1993)',\n 535: 'Short Cuts (1993)',\n 536: 'Simple Twist of Fate, A (1994)',\n 537: 'Sirens (1994)',\n 538: 'Six Degrees of Separation (1993)',\n 539: 'Sleepless in Seattle (1993)',\n 540: 'Sliver (1993)',\n 541: 'Blade Runner (1982)',\n 542: 'Son in Law (1993)',\n 543: 'So I Married an Axe Murderer (1993)',\n 544: 'Striking Distance (1993)',\n 546: 'Super Mario Bros. (1993)',\n 547: 'Surviving the Game (1994)',\n 548: 'Terminal Velocity (1994)',\n 549: 'Thirty-Two Short Films About Glenn Gould (1993)',\n 550: 'Threesome (1994)',\n 551: 'Nightmare Before Christmas, The (1993)',\n 552: 'Three Musketeers, The (1993)',\n 553: 'Tombstone (1993)',\n 555: 'True Romance (1993)',\n 556: 'War Room, The (1993)',\n 558: 'Pagemaster, The (1994)',\n 562: 'Welcome to the Dollhouse (1995)',\n 563: 'Germinal (1993)',\n 564: 'Chasers (1994)',\n 567: 'Kika (1993)',\n 568: 'Bhaji on the Beach (1993)',\n 569: 'Little Big League (1994)',\n 573: 'Ciao, Professore! (Io speriamo che me la cavo) (1992)',\n 574: 'Spanking the Monkey (1994)',\n 575: 'Little Rascals, The (1994)',\n 577: 'Andre (1994)',\n 579: 'Escort, The (Scorta, La) (1993)',\n 580: 'Princess Caraboo (1994)',\n 581: 'Celluloid Closet, The (1995)',\n 583: 'Dear Diary (Caro Diario) (1994)',\n 585: 'Brady Bunch Movie, The (1995)',\n 586: 'Home Alone (1990)',\n 587: 'Ghost (1990)',\n 588: 'Aladdin (1992)',\n 589: 'Terminator 2: Judgment Day (1991)',\n 590: 'Dances with Wolves (1990)',\n 592: 'Batman (1989)',\n 593: 'Silence of the Lambs, The (1991)',\n 594: 'Snow White and the Seven Dwarfs (1937)',\n 595: 'Beauty and the Beast (1991)',\n 596: 'Pinocchio (1940)',\n 597: 'Pretty Woman (1990)',\n 599: 'Wild Bunch, The (1969)',\n 600: 'Love and a .45 (1994)',\n 602: 'Great Day in Harlem, A (1994)',\n 605: 'One Fine Day (1996)',\n 606: 'Candyman: Farewell to the Flesh (1995)',\n 608: 'Fargo (1996)',\n 609: 'Homeward Bound II: Lost in San Francisco (1996)',\n 610: 'Heavy Metal (1981)',\n 611: 'Hellraiser: Bloodline (1996)',\n 612: 'Pallbearer, The (1996)',\n 613: 'Jane Eyre (1996)',\n 615: 'Bread and Chocolate (Pane e cioccolata) (1973)',\n 616: 'Aristocats, The (1970)',\n 617: 'Flower of My Secret, The (La flor de mi secreto) (1995)',\n 618: 'Two Much (1995)',\n 619: 'Ed (1996)',\n 626: 'Thin Line Between Love and Hate, A (1996)',\n 627: 'Last Supper, The (1995)',\n 628: 'Primal Fear (1996)',\n 631: 'All Dogs Go to Heaven 2 (1996)',\n 632: 'Land and Freedom (Tierra y libertad) (1995)',\n 633: 'Denise Calls Up (1995)',\n 634: 'Theodore Rex (1995)',\n 635: 'Family Thing, A (1996)',\n 636: 'Frisk (1995)',\n 637: 'Sgt. Bilko (1996)',\n 638: 'Jack and Sarah (1995)',\n 639: 'Girl 6 (1996)',\n 640: 'Diabolique (1996)',\n 645: 'Nelly & Monsieur Arnaud (1995)',\n 647: 'Courage Under Fire (1996)',\n 648: 'Mission: Impossible (1996)',\n 649: 'Cold Fever (Á köldum klaka) (1995)',\n 650: 'Moll Flanders (1996)',\n 653: 'Dragonheart (1996)',\n 656: 'Eddie (1996)',\n 661: 'James and the Giant Peach (1996)',\n 662: 'Fear (1996)',\n 663: 'Kids in the Hall: Brain Candy (1996)',\n 665: 'Underground (1995)',\n 667: 'Bloodsport 2 (a.k.a. Bloodsport II: The Next Kumite) (1996)',\n 668: 'Song of the Little Road (Pather Panchali) (1955)',\n 670: 'World of Apu, The (Apur Sansar) (1959)',\n 671: 'Mystery Science Theater 3000: The Movie (1996)',\n 673: 'Space Jam (1996)',\n 674: 'Barbarella (1968)',\n 678: 'Some Folks Call It a Sling Blade (1993)',\n 679: 'Run of the Country, The (1995)',\n 680: 'Alphaville (Alphaville, une étrange aventure de Lemmy Caution) (1965)',\n 685: \"It's My Party (1996)\",\n 688: 'Operation Dumbo Drop (1995)',\n 691: 'Mrs. Winterbourne (1996)',\n 692: 'Solo (1996)',\n 694: 'Substitute, The (1996)',\n 695: 'True Crime (1996)',\n 697: 'Feeling Minnesota (1996)',\n 698: 'Delta of Venus (1995)',\n 700: 'Angus (1995)',\n 703: 'Boys (1996)',\n 704: 'Quest, The (1996)',\n 706: 'Sunset Park (1996)',\n 707: 'Mulholland Falls (1996)',\n 708: 'Truth About Cats & Dogs, The (1996)',\n 709: 'Oliver & Company (1988)',\n 710: 'Celtic Pride (1996)',\n 711: 'Flipper (1996)',\n 714: 'Dead Man (1995)',\n 715: 'Horseman on the Roof, The (Hussard sur le toit, Le) (1995)',\n 718: 'Visitors, The (Visiteurs, Les) (1993)',\n 719: 'Multiplicity (1996)',\n 720: 'Wallace & Gromit: The Best of Aardman Animation (1996)',\n 722: 'Haunted World of Edward D. Wood Jr., The (1996)',\n 724: 'Craft, The (1996)',\n 725: 'Great White Hype, The (1996)',\n 726: 'Last Dance (1996)',\n 728: 'Cold Comfort Farm (1995)',\n 731: \"Heaven's Prisoners (1996)\",\n 733: 'Rock, The (1996)',\n 735: 'Cemetery Man (Dellamorte Dellamore) (1994)',\n 736: 'Twister (1996)',\n 737: 'Barb Wire (1996)',\n 741: 'Ghost in the Shell (Kôkaku kidôtai) (1995)',\n 742: 'Thinner (1996)',\n 743: 'Spy Hard (1996)',\n 745: 'Wallace & Gromit: A Close Shave (1995)',\n 747: 'Stupids, The (1996)',\n 748: 'Arrival, The (1996)',\n 750: 'Dr. Strangelove or: How I Learned to Stop Worrying and Love the Bomb (1964)',\n 757: 'Ashes of Time (Dung che sai duk) (1994)',\n 759: 'Maya Lin: A Strong Clear Vision (1994)',\n 760: 'Stalingrad (1993)',\n 761: 'Phantom, The (1996)',\n 762: 'Striptease (1996)',\n 764: 'Heavy (1995)',\n 765: 'Jack (1996)',\n 766: 'I Shot Andy Warhol (1996)',\n 773: 'Touki Bouki (1973)',\n 775: 'Spirits of the Dead (1968)',\n 778: 'Trainspotting (1996)',\n 779: \"'Til There Was You (1997)\",\n 780: 'Independence Day (a.k.a. ID4) (1996)',\n 781: 'Stealing Beauty (1996)',\n 782: 'Fan, The (1996)',\n 783: 'Hunchback of Notre Dame, The (1996)',\n 784: 'Cable Guy, The (1996)',\n 785: 'Kingpin (1996)',\n 786: 'Eraser (1996)',\n 788: 'Nutty Professor, The (1996)',\n 790: 'Unforgettable Summer, An (Un été inoubliable) (1994)',\n 791: 'Last Klezmer: Leopold Kozlowski, His Life and Music, The (1994)',\n 795: 'Somebody to Love (1994)',\n 798: 'Daylight (1996)',\n 799: 'Frighteners, The (1996)',\n 800: 'Lone Star (1996)',\n 801: 'Harriet the Spy (1996)',\n 802: 'Phenomenon (1996)',\n 803: 'Walking and Talking (1996)',\n 804: \"She's the One (1996)\",\n 805: 'Time to Kill, A (1996)',\n 806: 'American Buffalo (1996)',\n 808: 'Alaska (1996)',\n 809: 'Fled (1996)',\n 810: 'Kazaam (1996)',\n 813: 'Larger Than Life (1996)',\n 818: 'Very Brady Sequel, A (1996)',\n 823: 'Collector, The (La collectionneuse) (1967)',\n 824: 'Kaspar Hauser (1993)',\n 828: 'Adventures of Pinocchio, The (1996)',\n 829: \"Joe's Apartment (1996)\",\n 830: 'First Wives Club, The (1996)',\n 832: 'Ransom (1996)',\n 833: 'High School High (1996)',\n 835: 'Foxfire (1996)',\n 836: 'Chain Reaction (1996)',\n 837: 'Matilda (1996)',\n 838: 'Emma (1996)',\n 839: 'Crow: City of Angels, The (1996)',\n 840: 'House Arrest (1996)',\n 841: 'Eyes Without a Face (Yeux sans visage, Les) (1959)',\n 842: 'Tales from the Crypt Presents: Bordello of Blood (1996)',\n 848: 'Spitfire Grill, The (1996)',\n 849: 'Escape from L.A. (1996)',\n 851: 'Basquiat (1996)',\n 852: 'Tin Cup (1996)',\n 858: 'Godfather, The (1972)',\n 861: 'Supercop (Police Story 3: Supercop) (Jing cha gu shi III: Chao ji jing cha) (1992)',\n 866: 'Bound (1996)',\n 867: 'Carpool (1996)',\n 869: 'Kansas City (1996)',\n 870: \"Gone Fishin' (1997)\",\n 875: 'Nothing to Lose (1994)',\n 876: 'Supercop 2 (Project S) (Chao ji ji hua) (1993)',\n 879: 'Relic, The (1997)',\n 880: 'Island of Dr. Moreau, The (1996)',\n 881: 'First Kid (1996)',\n 882: 'Trigger Effect, The (1996)',\n 885: 'Bogus (1996)',\n 886: 'Bulletproof (1996)',\n 888: 'Land Before Time III: The Time of the Great Giving (1995)',\n 889: '1-900 (06) (1994)',\n 891: 'Halloween: The Curse of Michael Myers (Halloween 6: The Curse of Michael Myers) (1995)',\n 892: 'Twelfth Night (1996)',\n 893: 'Mother Night (1996)',\n 896: 'Wild Reeds (Les roseaux sauvages) (1994)',\n 897: 'For Whom the Bell Tolls (1943)',\n 898: 'Philadelphia Story, The (1940)',\n 899: \"Singin' in the Rain (1952)\",\n 900: 'American in Paris, An (1951)',\n 901: 'Funny Face (1957)',\n 902: \"Breakfast at Tiffany's (1961)\",\n 903: 'Vertigo (1958)',\n 904: 'Rear Window (1954)',\n 905: 'It Happened One Night (1934)',\n 906: 'Gaslight (1944)',\n 907: 'Gay Divorcee, The (1934)',\n 908: 'North by Northwest (1959)',\n 909: 'Apartment, The (1960)',\n 910: 'Some Like It Hot (1959)',\n 911: 'Charade (1963)',\n 912: 'Casablanca (1942)',\n 913: 'Maltese Falcon, The (1941)',\n 914: 'My Fair Lady (1964)',\n 915: 'Sabrina (1954)',\n 916: 'Roman Holiday (1953)',\n 917: 'Little Princess, The (1939)',\n 918: 'Meet Me in St. Louis (1944)',\n 919: 'Wizard of Oz, The (1939)',\n 920: 'Gone with the Wind (1939)',\n 921: 'My Favorite Year (1982)',\n 922: 'Sunset Blvd. (a.k.a. Sunset Boulevard) (1950)',\n 923: 'Citizen Kane (1941)',\n 924: '2001: A Space Odyssey (1968)',\n 926: 'All About Eve (1950)',\n 927: 'Women, The (1939)',\n 928: 'Rebecca (1940)',\n 929: 'Foreign Correspondent (1940)',\n 930: 'Notorious (1946)',\n 931: 'Spellbound (1945)',\n 932: 'Affair to Remember, An (1957)',\n 933: 'To Catch a Thief (1955)',\n 934: 'Father of the Bride (1950)',\n 935: 'Band Wagon, The (1953)',\n 936: 'Ninotchka (1939)',\n 937: 'Love in the Afternoon (1957)',\n 938: 'Gigi (1958)',\n 940: 'Adventures of Robin Hood, The (1938)',\n 941: 'Mark of Zorro, The (1940)',\n 942: 'Laura (1944)',\n 943: 'Ghost and Mrs. Muir, The (1947)',\n 944: 'Lost Horizon (1937)',\n 945: 'Top Hat (1935)',\n 946: 'To Be or Not to Be (1942)',\n 947: 'My Man Godfrey (1936)',\n 948: 'Giant (1956)',\n 949: 'East of Eden (1955)',\n 950: 'Thin Man, The (1934)',\n 951: 'His Girl Friday (1940)',\n 952: 'Around the World in 80 Days (1956)',\n 953: \"It's a Wonderful Life (1946)\",\n 954: 'Mr. Smith Goes to Washington (1939)',\n 955: 'Bringing Up Baby (1938)',\n 956: 'Penny Serenade (1941)',\n 959: 'Of Human Bondage (1934)',\n 961: 'Little Lord Fauntleroy (1936)',\n 963: 'Inspector General, The (1949)',\n 965: '39 Steps, The (1935)',\n 968: 'Night of the Living Dead (1968)',\n 969: 'African Queen, The (1951)',\n 970: 'Beat the Devil (1953)',\n 971: 'Cat on a Hot Tin Roof (1958)',\n 973: 'Meet John Doe (1941)',\n 976: 'Farewell to Arms, A (1932)',\n 979: 'Nothing Personal (1995)',\n 981: 'Dangerous Ground (1997)',\n 982: 'Picnic (1955)',\n 984: 'Pompatus of Love, The (1996)',\n 986: 'Fly Away Home (1996)',\n 987: 'Bliss (1997)',\n 988: 'Grace of My Heart (1996)',\n 990: 'Maximum Risk (1996)',\n 991: 'Michael Collins (1996)',\n 993: 'Infinity (1996)',\n 994: 'Big Night (1996)',\n 996: 'Last Man Standing (1996)',\n 998: 'Set It Off (1996)',\n 999: '2 Days in the Valley (1996)',\n 1003: 'Extreme Measures (1996)',\n 1004: 'Glimmer Man, The (1996)',\n 1005: 'D3: The Mighty Ducks (1996)',\n 1006: 'Chamber, The (1996)',\n 1007: 'Apple Dumpling Gang, The (1975)',\n 1008: 'Davy Crockett, King of the Wild Frontier (1955)',\n 1009: 'Escape to Witch Mountain (1975)',\n 1010: 'Love Bug, The (1969)',\n 1011: 'Herbie Rides Again (1974)',\n 1012: 'Old Yeller (1957)',\n 1013: 'Parent Trap, The (1961)',\n 1014: 'Pollyanna (1960)',\n 1015: 'Homeward Bound: The Incredible Journey (1993)',\n 1016: 'Shaggy Dog, The (1959)',\n 1017: 'Swiss Family Robinson (1960)',\n 1018: 'That Darn Cat! (1965)',\n 1019: '20,000 Leagues Under the Sea (1954)',\n 1020: 'Cool Runnings (1993)',\n 1021: 'Angels in the Outfield (1994)',\n 1022: 'Cinderella (1950)',\n 1023: 'Winnie the Pooh and the Blustery Day (1968)',\n 1024: 'Three Caballeros, The (1945)',\n 1025: 'Sword in the Stone, The (1963)',\n 1027: 'Robin Hood: Prince of Thieves (1991)',\n 1028: 'Mary Poppins (1964)',\n 1029: 'Dumbo (1941)',\n 1030: \"Pete's Dragon (1977)\",\n 1031: 'Bedknobs and Broomsticks (1971)',\n 1032: 'Alice in Wonderland (1951)',\n 1033: 'Fox and the Hound, The (1981)',\n 1034: 'Freeway (1996)',\n 1035: 'Sound of Music, The (1965)',\n 1036: 'Die Hard (1988)',\n 1037: 'Lawnmower Man, The (1992)',\n 1040: 'Secret Agent, The (1996)',\n 1041: 'Secrets & Lies (1996)',\n 1042: 'That Thing You Do! (1996)',\n 1043: 'To Gillian on Her 37th Birthday (1996)',\n 1046: 'Beautiful Thing (1996)',\n 1047: 'Long Kiss Goodnight, The (1996)',\n 1049: 'Ghost and the Darkness, The (1996)',\n 1050: 'Looking for Richard (1996)',\n 1051: 'Trees Lounge (1996)',\n 1053: 'Normal Life (1996)',\n 1054: 'Get on the Bus (1996)',\n 1055: 'Shadow Conspiracy (1997)',\n 1056: 'Jude (1996)',\n 1057: 'Everyone Says I Love You (1996)',\n 1059: \"William Shakespeare's Romeo + Juliet (1996)\",\n 1060: 'Swingers (1996)',\n 1061: 'Sleepers (1996)',\n 1064: 'Aladdin and the King of Thieves (1996)',\n 1066: 'Shall We Dance (1937)',\n 1068: 'Crossfire (1947)',\n 1073: 'Willy Wonka & the Chocolate Factory (1971)',\n 1076: 'Innocents, The (1961)',\n 1077: 'Sleeper (1973)',\n 1078: 'Bananas (1971)',\n 1079: 'Fish Called Wanda, A (1988)',\n 1080: \"Monty Python's Life of Brian (1979)\",\n 1081: 'Victor/Victoria (1982)',\n 1082: 'Candidate, The (1972)',\n 1083: 'Great Race, The (1965)',\n 1084: 'Bonnie and Clyde (1967)',\n 1085: 'Old Man and the Sea, The (1958)',\n 1086: 'Dial M for Murder (1954)',\n 1088: 'Dirty Dancing (1987)',\n 1089: 'Reservoir Dogs (1992)',\n 1090: 'Platoon (1986)',\n 1091: \"Weekend at Bernie's (1989)\",\n 1092: 'Basic Instinct (1992)',\n 1093: 'Doors, The (1991)',\n 1094: 'Crying Game, The (1992)',\n 1095: 'Glengarry Glen Ross (1992)',\n 1096: \"Sophie's Choice (1982)\",\n 1097: 'E.T. the Extra-Terrestrial (1982)',\n 1099: 'Christmas Carol, A (1938)',\n 1100: 'Days of Thunder (1990)',\n 1101: 'Top Gun (1986)',\n 1103: 'Rebel Without a Cause (1955)',\n 1104: 'Streetcar Named Desire, A (1951)',\n 1105: 'Children of the Corn IV: The Gathering (1996)',\n 1107: 'Loser (1991)',\n 1111: \"Microcosmos (Microcosmos: Le peuple de l'herbe) (1996)\",\n 1112: 'Palookaville (1996)',\n 1114: 'Funeral, The (1996)',\n 1116: 'Single Girl, A (Fille seule, La) (1995)',\n 1117: 'Eighth Day, The (Huitième jour, Le) (1996)',\n 1119: 'Drunks (1995)',\n 1120: 'People vs. Larry Flynt, The (1996)',\n 1121: 'Glory Daze (1995)',\n 1123: 'Perfect Candidate, A (1996)',\n 1124: 'On Golden Pond (1981)',\n 1125: 'Return of the Pink Panther, The (1975)',\n 1126: 'Drop Dead Fred (1991)',\n 1127: 'Abyss, The (1989)',\n 1128: 'Fog, The (1980)',\n 1129: 'Escape from New York (1981)',\n 1130: 'Howling, The (1980)',\n 1131: 'Jean de Florette (1986)',\n 1132: 'Manon of the Spring (Manon des sources) (1986)',\n 1135: 'Private Benjamin (1980)',\n 1136: 'Monty Python and the Holy Grail (1975)',\n 1137: 'Hustler White (1996)',\n 1140: 'Entertaining Angels: The Dorothy Day Story (1996)',\n 1144: 'Line King: The Al Hirschfeld Story, The (1996)',\n 1147: 'When We Were Kings (1996)',\n 1148: 'Wallace & Gromit: The Wrong Trousers (1993)',\n 1150: 'Return of Martin Guerre, The (Retour de Martin Guerre, Le) (1982)',\n 1151: 'Lesson Faust (1994)',\n 1156: 'Children Are Watching Us, The (Bambini ci guardano, I) (1944)',\n 1161: 'Tin Drum, The (Blechtrommel, Die) (1979)',\n 1162: 'Ruling Class, The (1972)',\n 1163: 'Mina Tannenbaum (1994)',\n 1167: 'Dear God (1996)',\n 1170: 'Best of the Best 3: No Turning Back (1995)',\n 1171: 'Bob Roberts (1992)',\n 1172: 'Cinema Paradiso (Nuovo cinema Paradiso) (1989)',\n 1173: 'Cook the Thief His Wife & Her Lover, The (1989)',\n 1175: 'Delicatessen (1991)',\n 1176: 'Double Life of Veronique, The (Double Vie de Véronique, La) (1991)',\n 1177: 'Enchanted April (1992)',\n 1178: 'Paths of Glory (1957)',\n 1179: 'Grifters, The (1990)',\n 1180: 'Hear My Song (1991)',\n 1183: 'English Patient, The (1996)',\n 1184: 'Mediterraneo (1991)',\n 1185: 'My Left Foot (1989)',\n 1186: 'Sex, Lies, and Videotape (1989)',\n 1187: 'Passion Fish (1992)',\n 1188: 'Strictly Ballroom (1992)',\n 1189: 'Thin Blue Line, The (1988)',\n 1190: 'Tie Me Up! Tie Me Down! (¡Átame!) (1990)',\n 1191: 'Madonna: Truth or Dare (1991)',\n 1192: 'Paris Is Burning (1990)',\n 1193: \"One Flew Over the Cuckoo's Nest (1975)\",\n 1194: \"Cheech and Chong's Up in Smoke (1978)\",\n 1196: 'Star Wars: Episode V - The Empire Strikes Back (1980)',\n 1197: 'Princess Bride, The (1987)',\n 1198: 'Raiders of the Lost Ark (Indiana Jones and the Raiders of the Lost Ark) (1981)',\n 1199: 'Brazil (1985)',\n 1200: 'Aliens (1986)',\n 1201: 'Good, the Bad and the Ugly, The (Buono, il brutto, il cattivo, Il) (1966)',\n 1202: 'Withnail & I (1987)',\n 1203: '12 Angry Men (1957)',\n 1204: 'Lawrence of Arabia (1962)',\n 1206: 'Clockwork Orange, A (1971)',\n 1207: 'To Kill a Mockingbird (1962)',\n 1208: 'Apocalypse Now (1979)',\n 1209: \"Once Upon a Time in the West (C'era una volta il West) (1968)\",\n 1210: 'Star Wars: Episode VI - Return of the Jedi (1983)',\n 1211: 'Wings of Desire (Himmel über Berlin, Der) (1987)',\n 1212: 'Third Man, The (1949)',\n 1213: 'Goodfellas (1990)',\n 1214: 'Alien (1979)',\n 1215: 'Army of Darkness (1993)',\n 1216: 'Big Blue, The (Grand bleu, Le) (1988)',\n 1217: 'Ran (1985)',\n 1218: 'Killer, The (Die xue shuang xiong) (1989)',\n 1219: 'Psycho (1960)',\n 1220: 'Blues Brothers, The (1980)',\n 1221: 'Godfather: Part II, The (1974)',\n 1222: 'Full Metal Jacket (1987)',\n 1223: 'Grand Day Out with Wallace and Gromit, A (1989)',\n 1224: 'Henry V (1989)',\n 1225: 'Amadeus (1984)',\n 1226: 'Quiet Man, The (1952)',\n 1227: 'Once Upon a Time in America (1984)',\n 1228: 'Raging Bull (1980)',\n 1230: 'Annie Hall (1977)',\n 1231: 'Right Stuff, The (1983)',\n 1232: 'Stalker (1979)',\n 1233: 'Boot, Das (Boat, The) (1981)',\n 1234: 'Sting, The (1973)',\n 1235: 'Harold and Maude (1971)',\n 1236: 'Trust (1990)',\n 1237: 'Seventh Seal, The (Sjunde inseglet, Det) (1957)',\n 1238: 'Local Hero (1983)',\n 1240: 'Terminator, The (1984)',\n 1241: 'Dead Alive (Braindead) (1992)',\n 1242: 'Glory (1989)',\n 1243: 'Rosencrantz and Guildenstern Are Dead (1990)',\n 1244: 'Manhattan (1979)',\n 1245: \"Miller's Crossing (1990)\",\n 1246: 'Dead Poets Society (1989)',\n 1247: 'Graduate, The (1967)',\n 1248: 'Touch of Evil (1958)',\n 1249: 'Femme Nikita, La (Nikita) (1990)',\n 1250: 'Bridge on the River Kwai, The (1957)',\n 1251: '8 1/2 (8½) (1963)',\n 1252: 'Chinatown (1974)',\n 1253: 'Day the Earth Stood Still, The (1951)',\n 1254: 'Treasure of the Sierra Madre, The (1948)',\n 1255: 'Bad Taste (1987)',\n 1256: 'Duck Soup (1933)',\n 1257: 'Better Off Dead... (1985)',\n 1258: 'Shining, The (1980)',\n 1259: 'Stand by Me (1986)',\n 1260: 'M (1931)',\n 1261: 'Evil Dead II (Dead by Dawn) (1987)',\n 1262: 'Great Escape, The (1963)',\n 1263: 'Deer Hunter, The (1978)',\n 1264: 'Diva (1981)',\n 1265: 'Groundhog Day (1993)',\n 1266: 'Unforgiven (1992)',\n 1267: 'Manchurian Candidate, The (1962)',\n 1268: 'Pump Up the Volume (1990)',\n 1269: 'Arsenic and Old Lace (1944)',\n 1270: 'Back to the Future (1985)',\n 1271: 'Fried Green Tomatoes (1991)',\n 1272: 'Patton (1970)',\n 1273: 'Down by Law (1986)',\n 1274: 'Akira (1988)',\n 1275: 'Highlander (1986)',\n 1276: 'Cool Hand Luke (1967)',\n 1277: 'Cyrano de Bergerac (1990)',\n 1278: 'Young Frankenstein (1974)',\n 1279: 'Night on Earth (1991)',\n 1280: 'Raise the Red Lantern (Da hong deng long gao gao gua) (1991)',\n 1281: 'Great Dictator, The (1940)',\n 1282: 'Fantasia (1940)',\n 1283: 'High Noon (1952)',\n 1284: 'Big Sleep, The (1946)',\n 1285: 'Heathers (1989)',\n 1286: 'Somewhere in Time (1980)',\n 1287: 'Ben-Hur (1959)',\n 1288: 'This Is Spinal Tap (1984)',\n 1289: 'Koyaanisqatsi (a.k.a. Koyaanisqatsi: Life Out of Balance) (1983)',\n 1290: 'Some Kind of Wonderful (1987)',\n 1291: 'Indiana Jones and the Last Crusade (1989)',\n 1292: 'Being There (1979)',\n 1293: 'Gandhi (1982)',\n 1295: 'Unbearable Lightness of Being, The (1988)',\n 1296: 'Room with a View, A (1986)',\n 1297: 'Real Genius (1985)',\n 1298: 'Pink Floyd: The Wall (1982)',\n 1299: 'Killing Fields, The (1984)',\n 1300: 'My Life as a Dog (Mitt liv som hund) (1985)',\n 1301: 'Forbidden Planet (1956)',\n ...}"
     },
     "execution_count": 172,
     "metadata": {},
     "output_type": "execute_result"
    }
   ],
   "source": [
    "movie_title"
   ],
   "metadata": {
    "collapsed": false,
    "pycharm": {
     "name": "#%%\n"
    }
   }
  },
  {
   "cell_type": "code",
   "execution_count": 173,
   "outputs": [
    {
     "data": {
      "text/plain": "        userId  movieId  rating                             title\n0            1        1     4.0                  Toy Story (1995)\n1            5        1     4.0                  Toy Story (1995)\n2            7        1     4.5                  Toy Story (1995)\n3           15        1     2.5                  Toy Story (1995)\n4           17        1     4.5                  Toy Story (1995)\n...        ...      ...     ...                               ...\n100831     610   160341     2.5                  Bloodmoon (1997)\n100832     610   160527     4.5  Sympathy for the Underdog (1971)\n100833     610   160836     3.0                     Hazard (2005)\n100834     610   163937     3.5                Blair Witch (2016)\n100835     610   163981     3.5                         31 (2016)\n\n[100836 rows x 4 columns]",
      "text/html": "<div>\n<style scoped>\n    .dataframe tbody tr th:only-of-type {\n        vertical-align: middle;\n    }\n\n    .dataframe tbody tr th {\n        vertical-align: top;\n    }\n\n    .dataframe thead th {\n        text-align: right;\n    }\n</style>\n<table border=\"1\" class=\"dataframe\">\n  <thead>\n    <tr style=\"text-align: right;\">\n      <th></th>\n      <th>userId</th>\n      <th>movieId</th>\n      <th>rating</th>\n      <th>title</th>\n    </tr>\n  </thead>\n  <tbody>\n    <tr>\n      <th>0</th>\n      <td>1</td>\n      <td>1</td>\n      <td>4.0</td>\n      <td>Toy Story (1995)</td>\n    </tr>\n    <tr>\n      <th>1</th>\n      <td>5</td>\n      <td>1</td>\n      <td>4.0</td>\n      <td>Toy Story (1995)</td>\n    </tr>\n    <tr>\n      <th>2</th>\n      <td>7</td>\n      <td>1</td>\n      <td>4.5</td>\n      <td>Toy Story (1995)</td>\n    </tr>\n    <tr>\n      <th>3</th>\n      <td>15</td>\n      <td>1</td>\n      <td>2.5</td>\n      <td>Toy Story (1995)</td>\n    </tr>\n    <tr>\n      <th>4</th>\n      <td>17</td>\n      <td>1</td>\n      <td>4.5</td>\n      <td>Toy Story (1995)</td>\n    </tr>\n    <tr>\n      <th>...</th>\n      <td>...</td>\n      <td>...</td>\n      <td>...</td>\n      <td>...</td>\n    </tr>\n    <tr>\n      <th>100831</th>\n      <td>610</td>\n      <td>160341</td>\n      <td>2.5</td>\n      <td>Bloodmoon (1997)</td>\n    </tr>\n    <tr>\n      <th>100832</th>\n      <td>610</td>\n      <td>160527</td>\n      <td>4.5</td>\n      <td>Sympathy for the Underdog (1971)</td>\n    </tr>\n    <tr>\n      <th>100833</th>\n      <td>610</td>\n      <td>160836</td>\n      <td>3.0</td>\n      <td>Hazard (2005)</td>\n    </tr>\n    <tr>\n      <th>100834</th>\n      <td>610</td>\n      <td>163937</td>\n      <td>3.5</td>\n      <td>Blair Witch (2016)</td>\n    </tr>\n    <tr>\n      <th>100835</th>\n      <td>610</td>\n      <td>163981</td>\n      <td>3.5</td>\n      <td>31 (2016)</td>\n    </tr>\n  </tbody>\n</table>\n<p>100836 rows × 4 columns</p>\n</div>"
     },
     "execution_count": 173,
     "metadata": {},
     "output_type": "execute_result"
    }
   ],
   "source": [
    "rating_full"
   ],
   "metadata": {
    "collapsed": false,
    "pycharm": {
     "name": "#%%\n"
    }
   }
  },
  {
   "cell_type": "code",
   "execution_count": 174,
   "outputs": [
    {
     "data": {
      "text/plain": "                                          rating          \n                                            size      mean\ntitle                                                     \n'71 (2014)                                     1  4.000000\n'Hellboy': The Seeds of Creation (2004)        1  4.000000\n'Round Midnight (1986)                         2  3.500000\n'Salem's Lot (2004)                            1  5.000000\n'Til There Was You (1997)                      2  4.000000\n...                                          ...       ...\neXistenZ (1999)                               22  3.863636\nxXx (2002)                                    24  2.770833\nxXx: State of the Union (2005)                 5  2.000000\n¡Three Amigos! (1986)                         26  3.134615\nÀ nous la liberté (Freedom for Us) (1931)      1  1.000000\n\n[9719 rows x 2 columns]",
      "text/html": "<div>\n<style scoped>\n    .dataframe tbody tr th:only-of-type {\n        vertical-align: middle;\n    }\n\n    .dataframe tbody tr th {\n        vertical-align: top;\n    }\n\n    .dataframe thead tr th {\n        text-align: left;\n    }\n\n    .dataframe thead tr:last-of-type th {\n        text-align: right;\n    }\n</style>\n<table border=\"1\" class=\"dataframe\">\n  <thead>\n    <tr>\n      <th></th>\n      <th colspan=\"2\" halign=\"left\">rating</th>\n    </tr>\n    <tr>\n      <th></th>\n      <th>size</th>\n      <th>mean</th>\n    </tr>\n    <tr>\n      <th>title</th>\n      <th></th>\n      <th></th>\n    </tr>\n  </thead>\n  <tbody>\n    <tr>\n      <th>'71 (2014)</th>\n      <td>1</td>\n      <td>4.000000</td>\n    </tr>\n    <tr>\n      <th>'Hellboy': The Seeds of Creation (2004)</th>\n      <td>1</td>\n      <td>4.000000</td>\n    </tr>\n    <tr>\n      <th>'Round Midnight (1986)</th>\n      <td>2</td>\n      <td>3.500000</td>\n    </tr>\n    <tr>\n      <th>'Salem's Lot (2004)</th>\n      <td>1</td>\n      <td>5.000000</td>\n    </tr>\n    <tr>\n      <th>'Til There Was You (1997)</th>\n      <td>2</td>\n      <td>4.000000</td>\n    </tr>\n    <tr>\n      <th>...</th>\n      <td>...</td>\n      <td>...</td>\n    </tr>\n    <tr>\n      <th>eXistenZ (1999)</th>\n      <td>22</td>\n      <td>3.863636</td>\n    </tr>\n    <tr>\n      <th>xXx (2002)</th>\n      <td>24</td>\n      <td>2.770833</td>\n    </tr>\n    <tr>\n      <th>xXx: State of the Union (2005)</th>\n      <td>5</td>\n      <td>2.000000</td>\n    </tr>\n    <tr>\n      <th>¡Three Amigos! (1986)</th>\n      <td>26</td>\n      <td>3.134615</td>\n    </tr>\n    <tr>\n      <th>À nous la liberté (Freedom for Us) (1931)</th>\n      <td>1</td>\n      <td>1.000000</td>\n    </tr>\n  </tbody>\n</table>\n<p>9719 rows × 2 columns</p>\n</div>"
     },
     "execution_count": 174,
     "metadata": {},
     "output_type": "execute_result"
    }
   ],
   "source": [
    "movieStat = rating_full.groupby('title').agg({'rating': [np.size, np.mean]})\n",
    "movieStat"
   ],
   "metadata": {
    "collapsed": false,
    "pycharm": {
     "name": "#%%\n"
    }
   }
  },
  {
   "cell_type": "code",
   "execution_count": 175,
   "outputs": [
    {
     "data": {
      "text/plain": "title\n'71 (2014)                                   False\n'Hellboy': The Seeds of Creation (2004)      False\n'Round Midnight (1986)                       False\n'Salem's Lot (2004)                          False\n'Til There Was You (1997)                    False\n                                             ...  \neXistenZ (1999)                              False\nxXx (2002)                                   False\nxXx: State of the Union (2005)               False\n¡Three Amigos! (1986)                        False\nÀ nous la liberté (Freedom for Us) (1931)    False\nName: (rating, size), Length: 9719, dtype: bool"
     },
     "execution_count": 175,
     "metadata": {},
     "output_type": "execute_result"
    }
   ],
   "source": [
    "popularMovie = movieStat[('rating', 'size')] > 100\n",
    "popularMovie"
   ],
   "metadata": {
    "collapsed": false,
    "pycharm": {
     "name": "#%%\n"
    }
   }
  },
  {
   "cell_type": "code",
   "execution_count": 176,
   "outputs": [
    {
     "data": {
      "text/plain": "                                 rating          \n                                   size      mean\ntitle                                            \nForrest Gump (1994)                 329  4.164134\nShawshank Redemption, The (1994)    317  4.429022\nPulp Fiction (1994)                 307  4.197068\nSilence of the Lambs, The (1991)    279  4.161290\nMatrix, The (1999)                  278  4.192446\n...                                 ...       ...\nFull Metal Jacket (1987)            102  4.098039\nHeat (1995)                         102  3.946078\nCliffhanger (1993)                  101  3.034653\nOutbreak (1995)                     101  3.425743\nFirm, The (1993)                    101  3.534653\n\n[134 rows x 2 columns]",
      "text/html": "<div>\n<style scoped>\n    .dataframe tbody tr th:only-of-type {\n        vertical-align: middle;\n    }\n\n    .dataframe tbody tr th {\n        vertical-align: top;\n    }\n\n    .dataframe thead tr th {\n        text-align: left;\n    }\n\n    .dataframe thead tr:last-of-type th {\n        text-align: right;\n    }\n</style>\n<table border=\"1\" class=\"dataframe\">\n  <thead>\n    <tr>\n      <th></th>\n      <th colspan=\"2\" halign=\"left\">rating</th>\n    </tr>\n    <tr>\n      <th></th>\n      <th>size</th>\n      <th>mean</th>\n    </tr>\n    <tr>\n      <th>title</th>\n      <th></th>\n      <th></th>\n    </tr>\n  </thead>\n  <tbody>\n    <tr>\n      <th>Forrest Gump (1994)</th>\n      <td>329</td>\n      <td>4.164134</td>\n    </tr>\n    <tr>\n      <th>Shawshank Redemption, The (1994)</th>\n      <td>317</td>\n      <td>4.429022</td>\n    </tr>\n    <tr>\n      <th>Pulp Fiction (1994)</th>\n      <td>307</td>\n      <td>4.197068</td>\n    </tr>\n    <tr>\n      <th>Silence of the Lambs, The (1991)</th>\n      <td>279</td>\n      <td>4.161290</td>\n    </tr>\n    <tr>\n      <th>Matrix, The (1999)</th>\n      <td>278</td>\n      <td>4.192446</td>\n    </tr>\n    <tr>\n      <th>...</th>\n      <td>...</td>\n      <td>...</td>\n    </tr>\n    <tr>\n      <th>Full Metal Jacket (1987)</th>\n      <td>102</td>\n      <td>4.098039</td>\n    </tr>\n    <tr>\n      <th>Heat (1995)</th>\n      <td>102</td>\n      <td>3.946078</td>\n    </tr>\n    <tr>\n      <th>Cliffhanger (1993)</th>\n      <td>101</td>\n      <td>3.034653</td>\n    </tr>\n    <tr>\n      <th>Outbreak (1995)</th>\n      <td>101</td>\n      <td>3.425743</td>\n    </tr>\n    <tr>\n      <th>Firm, The (1993)</th>\n      <td>101</td>\n      <td>3.534653</td>\n    </tr>\n  </tbody>\n</table>\n<p>134 rows × 2 columns</p>\n</div>"
     },
     "execution_count": 176,
     "metadata": {},
     "output_type": "execute_result"
    }
   ],
   "source": [
    "movieStat[popularMovie].sort_values(by=[('rating', 'size')],ascending=False)"
   ],
   "metadata": {
    "collapsed": false,
    "pycharm": {
     "name": "#%%\n"
    }
   }
  },
  {
   "cell_type": "code",
   "execution_count": 177,
   "outputs": [],
   "source": [
    "#stat=SimilarMovies_full.groupby('title').agg({'rating':[np.size,np.mean]})\n",
    "#stat"
   ],
   "metadata": {
    "collapsed": false,
    "pycharm": {
     "name": "#%%\n"
    }
   }
  },
  {
   "cell_type": "code",
   "execution_count": 178,
   "outputs": [
    {
     "data": {
      "text/plain": "pandas.core.frame.DataFrame"
     },
     "execution_count": 178,
     "metadata": {},
     "output_type": "execute_result"
    }
   ],
   "source": [
    "type(SimilarMovies)"
   ],
   "metadata": {
    "collapsed": false,
    "pycharm": {
     "name": "#%%\n"
    }
   }
  },
  {
   "cell_type": "code",
   "execution_count": 179,
   "outputs": [
    {
     "data": {
      "text/plain": "                                  movieId  similarity\ntitle                                                \nOn the Town (1949)                   3606         1.0\nPallbearer, The (1996)                612         1.0\nRandom Hearts (1999)                 2906         1.0\nBoys Don't Cry (1999)                2908         1.0\nSiege, The (1998)                    2334         1.0\n...                                   ...         ...\nBeliever, The (2001)                 5379        -1.0\nWindtalkers (2002)                   5420        -1.0\nSolaris (Solyaris) (1972)            3503        -1.0\nManchurian Candidate, The (2004)     8781        -1.0\nShape of Things, The (2003)          6341        -1.0\n\n[1993 rows x 2 columns]",
      "text/html": "<div>\n<style scoped>\n    .dataframe tbody tr th:only-of-type {\n        vertical-align: middle;\n    }\n\n    .dataframe tbody tr th {\n        vertical-align: top;\n    }\n\n    .dataframe thead th {\n        text-align: right;\n    }\n</style>\n<table border=\"1\" class=\"dataframe\">\n  <thead>\n    <tr style=\"text-align: right;\">\n      <th></th>\n      <th>movieId</th>\n      <th>similarity</th>\n    </tr>\n    <tr>\n      <th>title</th>\n      <th></th>\n      <th></th>\n    </tr>\n  </thead>\n  <tbody>\n    <tr>\n      <th>On the Town (1949)</th>\n      <td>3606</td>\n      <td>1.0</td>\n    </tr>\n    <tr>\n      <th>Pallbearer, The (1996)</th>\n      <td>612</td>\n      <td>1.0</td>\n    </tr>\n    <tr>\n      <th>Random Hearts (1999)</th>\n      <td>2906</td>\n      <td>1.0</td>\n    </tr>\n    <tr>\n      <th>Boys Don't Cry (1999)</th>\n      <td>2908</td>\n      <td>1.0</td>\n    </tr>\n    <tr>\n      <th>Siege, The (1998)</th>\n      <td>2334</td>\n      <td>1.0</td>\n    </tr>\n    <tr>\n      <th>...</th>\n      <td>...</td>\n      <td>...</td>\n    </tr>\n    <tr>\n      <th>Believer, The (2001)</th>\n      <td>5379</td>\n      <td>-1.0</td>\n    </tr>\n    <tr>\n      <th>Windtalkers (2002)</th>\n      <td>5420</td>\n      <td>-1.0</td>\n    </tr>\n    <tr>\n      <th>Solaris (Solyaris) (1972)</th>\n      <td>3503</td>\n      <td>-1.0</td>\n    </tr>\n    <tr>\n      <th>Manchurian Candidate, The (2004)</th>\n      <td>8781</td>\n      <td>-1.0</td>\n    </tr>\n    <tr>\n      <th>Shape of Things, The (2003)</th>\n      <td>6341</td>\n      <td>-1.0</td>\n    </tr>\n  </tbody>\n</table>\n<p>1993 rows × 2 columns</p>\n</div>"
     },
     "execution_count": 179,
     "metadata": {},
     "output_type": "execute_result"
    }
   ],
   "source": [
    "SimilarMovies.rename(columns={'rating':'similarity'},inplace=True)\n",
    "SimilarMovies_full.index=SimilarMovies_full.title\n",
    "SimilarMovies_full.drop('title',axis=1,inplace=True)\n",
    "SimilarMovies_full"
   ],
   "metadata": {
    "collapsed": false,
    "pycharm": {
     "name": "#%%\n"
    }
   }
  },
  {
   "cell_type": "code",
   "execution_count": 180,
   "outputs": [
    {
     "name": "stderr",
     "output_type": "stream",
     "text": [
      "C:\\Users\\ADMIN\\AppData\\Local\\Temp\\ipykernel_15348\\1539156425.py:1: FutureWarning: merging between different levels is deprecated and will be removed in a future version. (2 levels on the left, 1 on the right)\n",
      "  final=movieStat[popularMovie].join(SimilarMovies_full)\n"
     ]
    }
   ],
   "source": [
    "final=movieStat[popularMovie].join(SimilarMovies_full)\n"
   ],
   "metadata": {
    "collapsed": false,
    "pycharm": {
     "name": "#%%\n"
    }
   }
  },
  {
   "cell_type": "code",
   "execution_count": 181,
   "outputs": [
    {
     "data": {
      "text/plain": "                                            (rating, size)  (rating, mean)  \\\ntitle                                                                        \n2001: A Space Odyssey (1968)                           109        3.894495   \nAce Ventura: Pet Detective (1994)                      161        3.040373   \nAladdin (1992)                                         183        3.792350   \nAlien (1979)                                           146        3.969178   \nAliens (1986)                                          126        3.964286   \n...                                                    ...             ...   \nUsual Suspects, The (1995)                             204        4.237745   \nWALL·E (2008)                                          104        4.057692   \nWaterworld (1995)                                      115        2.913043   \nWilly Wonka & the Chocolate Factory (1971)             119        3.873950   \nX-Men (2000)                                           133        3.699248   \n\n                                            movieId  similarity  \ntitle                                                            \n2001: A Space Odyssey (1968)                    924    0.070535  \nAce Ventura: Pet Detective (1994)               344    0.300885  \nAladdin (1992)                                  588    0.117892  \nAlien (1979)                                   1214    0.000000  \nAliens (1986)                                  1200    0.199982  \n...                                             ...         ...  \nUsual Suspects, The (1995)                       50    0.387613  \nWALL·E (2008)                                 60069    0.090909  \nWaterworld (1995)                               208   -0.254476  \nWilly Wonka & the Chocolate Factory (1971)     1073    0.051075  \nX-Men (2000)                                   3793   -0.022542  \n\n[134 rows x 4 columns]",
      "text/html": "<div>\n<style scoped>\n    .dataframe tbody tr th:only-of-type {\n        vertical-align: middle;\n    }\n\n    .dataframe tbody tr th {\n        vertical-align: top;\n    }\n\n    .dataframe thead th {\n        text-align: right;\n    }\n</style>\n<table border=\"1\" class=\"dataframe\">\n  <thead>\n    <tr style=\"text-align: right;\">\n      <th></th>\n      <th>(rating, size)</th>\n      <th>(rating, mean)</th>\n      <th>movieId</th>\n      <th>similarity</th>\n    </tr>\n    <tr>\n      <th>title</th>\n      <th></th>\n      <th></th>\n      <th></th>\n      <th></th>\n    </tr>\n  </thead>\n  <tbody>\n    <tr>\n      <th>2001: A Space Odyssey (1968)</th>\n      <td>109</td>\n      <td>3.894495</td>\n      <td>924</td>\n      <td>0.070535</td>\n    </tr>\n    <tr>\n      <th>Ace Ventura: Pet Detective (1994)</th>\n      <td>161</td>\n      <td>3.040373</td>\n      <td>344</td>\n      <td>0.300885</td>\n    </tr>\n    <tr>\n      <th>Aladdin (1992)</th>\n      <td>183</td>\n      <td>3.792350</td>\n      <td>588</td>\n      <td>0.117892</td>\n    </tr>\n    <tr>\n      <th>Alien (1979)</th>\n      <td>146</td>\n      <td>3.969178</td>\n      <td>1214</td>\n      <td>0.000000</td>\n    </tr>\n    <tr>\n      <th>Aliens (1986)</th>\n      <td>126</td>\n      <td>3.964286</td>\n      <td>1200</td>\n      <td>0.199982</td>\n    </tr>\n    <tr>\n      <th>...</th>\n      <td>...</td>\n      <td>...</td>\n      <td>...</td>\n      <td>...</td>\n    </tr>\n    <tr>\n      <th>Usual Suspects, The (1995)</th>\n      <td>204</td>\n      <td>4.237745</td>\n      <td>50</td>\n      <td>0.387613</td>\n    </tr>\n    <tr>\n      <th>WALL·E (2008)</th>\n      <td>104</td>\n      <td>4.057692</td>\n      <td>60069</td>\n      <td>0.090909</td>\n    </tr>\n    <tr>\n      <th>Waterworld (1995)</th>\n      <td>115</td>\n      <td>2.913043</td>\n      <td>208</td>\n      <td>-0.254476</td>\n    </tr>\n    <tr>\n      <th>Willy Wonka &amp; the Chocolate Factory (1971)</th>\n      <td>119</td>\n      <td>3.873950</td>\n      <td>1073</td>\n      <td>0.051075</td>\n    </tr>\n    <tr>\n      <th>X-Men (2000)</th>\n      <td>133</td>\n      <td>3.699248</td>\n      <td>3793</td>\n      <td>-0.022542</td>\n    </tr>\n  </tbody>\n</table>\n<p>134 rows × 4 columns</p>\n</div>"
     },
     "execution_count": 181,
     "metadata": {},
     "output_type": "execute_result"
    }
   ],
   "source": [
    "final"
   ],
   "metadata": {
    "collapsed": false,
    "pycharm": {
     "name": "#%%\n"
    }
   }
  },
  {
   "cell_type": "code",
   "execution_count": 183,
   "outputs": [
    {
     "data": {
      "text/plain": "Index([('rating', 'size'), ('rating', 'mean'), 'movieId', 'similarity'], dtype='object')"
     },
     "execution_count": 183,
     "metadata": {},
     "output_type": "execute_result"
    }
   ],
   "source": [
    "final.columns"
   ],
   "metadata": {
    "collapsed": false,
    "pycharm": {
     "name": "#%%\n"
    }
   }
  },
  {
   "cell_type": "code",
   "execution_count": 186,
   "outputs": [
    {
     "data": {
      "text/plain": "                                                    (rating, size)  \\\ntitle                                                                \nDark Knight, The (2008)                                        149   \nE.T. the Extra-Terrestrial (1982)                              122   \nBourne Identity, The (2002)                                    112   \nTruman Show, The (1998)                                        125   \nBeautiful Mind, A (2001)                                       123   \n...                                                            ...   \nMrs. Doubtfire (1993)                                          144   \nMission: Impossible (1996)                                     162   \nHarry Potter and the Sorcerer's Stone (a.k.a. H...             107   \nShining, The (1980)                                            109   \nUp (2009)                                                      105   \n\n                                                    (rating, mean)  movieId  \\\ntitle                                                                         \nDark Knight, The (2008)                                   4.238255    58559   \nE.T. the Extra-Terrestrial (1982)                         3.766393     1097   \nBourne Identity, The (2002)                               3.816964     5418   \nTruman Show, The (1998)                                   3.812000     1682   \nBeautiful Mind, A (2001)                                  4.000000     4995   \n...                                                            ...      ...   \nMrs. Doubtfire (1993)                                     3.388889      500   \nMission: Impossible (1996)                                3.537037      648   \nHarry Potter and the Sorcerer's Stone (a.k.a. H...        3.761682     4896   \nShining, The (1980)                                       4.082569     1258   \nUp (2009)                                                 4.004762    68954   \n\n                                                    similarity  \ntitle                                                           \nDark Knight, The (2008)                               1.000000  \nE.T. the Extra-Terrestrial (1982)                     0.710047  \nBourne Identity, The (2002)                           0.677209  \nTruman Show, The (1998)                               0.650202  \nBeautiful Mind, A (2001)                              0.611577  \n...                                                        ...  \nMrs. Doubtfire (1993)                                -0.347637  \nMission: Impossible (1996)                           -0.391017  \nHarry Potter and the Sorcerer's Stone (a.k.a. H...   -0.417365  \nShining, The (1980)                                  -0.485643  \nUp (2009)                                            -1.000000  \n\n[134 rows x 4 columns]",
      "text/html": "<div>\n<style scoped>\n    .dataframe tbody tr th:only-of-type {\n        vertical-align: middle;\n    }\n\n    .dataframe tbody tr th {\n        vertical-align: top;\n    }\n\n    .dataframe thead th {\n        text-align: right;\n    }\n</style>\n<table border=\"1\" class=\"dataframe\">\n  <thead>\n    <tr style=\"text-align: right;\">\n      <th></th>\n      <th>(rating, size)</th>\n      <th>(rating, mean)</th>\n      <th>movieId</th>\n      <th>similarity</th>\n    </tr>\n    <tr>\n      <th>title</th>\n      <th></th>\n      <th></th>\n      <th></th>\n      <th></th>\n    </tr>\n  </thead>\n  <tbody>\n    <tr>\n      <th>Dark Knight, The (2008)</th>\n      <td>149</td>\n      <td>4.238255</td>\n      <td>58559</td>\n      <td>1.000000</td>\n    </tr>\n    <tr>\n      <th>E.T. the Extra-Terrestrial (1982)</th>\n      <td>122</td>\n      <td>3.766393</td>\n      <td>1097</td>\n      <td>0.710047</td>\n    </tr>\n    <tr>\n      <th>Bourne Identity, The (2002)</th>\n      <td>112</td>\n      <td>3.816964</td>\n      <td>5418</td>\n      <td>0.677209</td>\n    </tr>\n    <tr>\n      <th>Truman Show, The (1998)</th>\n      <td>125</td>\n      <td>3.812000</td>\n      <td>1682</td>\n      <td>0.650202</td>\n    </tr>\n    <tr>\n      <th>Beautiful Mind, A (2001)</th>\n      <td>123</td>\n      <td>4.000000</td>\n      <td>4995</td>\n      <td>0.611577</td>\n    </tr>\n    <tr>\n      <th>...</th>\n      <td>...</td>\n      <td>...</td>\n      <td>...</td>\n      <td>...</td>\n    </tr>\n    <tr>\n      <th>Mrs. Doubtfire (1993)</th>\n      <td>144</td>\n      <td>3.388889</td>\n      <td>500</td>\n      <td>-0.347637</td>\n    </tr>\n    <tr>\n      <th>Mission: Impossible (1996)</th>\n      <td>162</td>\n      <td>3.537037</td>\n      <td>648</td>\n      <td>-0.391017</td>\n    </tr>\n    <tr>\n      <th>Harry Potter and the Sorcerer's Stone (a.k.a. Harry Potter and the Philosopher's Stone) (2001)</th>\n      <td>107</td>\n      <td>3.761682</td>\n      <td>4896</td>\n      <td>-0.417365</td>\n    </tr>\n    <tr>\n      <th>Shining, The (1980)</th>\n      <td>109</td>\n      <td>4.082569</td>\n      <td>1258</td>\n      <td>-0.485643</td>\n    </tr>\n    <tr>\n      <th>Up (2009)</th>\n      <td>105</td>\n      <td>4.004762</td>\n      <td>68954</td>\n      <td>-1.000000</td>\n    </tr>\n  </tbody>\n</table>\n<p>134 rows × 4 columns</p>\n</div>"
     },
     "execution_count": 186,
     "metadata": {},
     "output_type": "execute_result"
    }
   ],
   "source": [
    "final.sort_values(by='similarity',ascending=False)"
   ],
   "metadata": {
    "collapsed": false,
    "pycharm": {
     "name": "#%%\n"
    }
   }
  },
  {
   "cell_type": "code",
   "execution_count": null,
   "outputs": [],
   "source": [],
   "metadata": {
    "collapsed": false,
    "pycharm": {
     "name": "#%%\n"
    }
   }
  }
 ],
 "metadata": {
  "kernelspec": {
   "display_name": "Python 3",
   "language": "python",
   "name": "python3"
  },
  "language_info": {
   "codemirror_mode": {
    "name": "ipython",
    "version": 2
   },
   "file_extension": ".py",
   "mimetype": "text/x-python",
   "name": "python",
   "nbconvert_exporter": "python",
   "pygments_lexer": "ipython2",
   "version": "2.7.6"
  }
 },
 "nbformat": 4,
 "nbformat_minor": 0
}