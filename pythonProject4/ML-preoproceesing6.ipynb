{
 "cells": [
  {
   "cell_type": "code",
   "execution_count": 42,
   "metadata": {
    "collapsed": true
   },
   "outputs": [],
   "source": [
    "import numpy as np\n",
    "import pandas as pd"
   ]
  },
  {
   "cell_type": "code",
   "execution_count": 43,
   "outputs": [],
   "source": [
    "path1 = 'C:\\\\Users\\\\ADMIN\\\\Desktop\\\\my project\\\\concat\\\\1.xlsx'\n",
    "path2 = 'C:\\\\Users\\\\ADMIN\\\\Desktop\\\\my project\\\\concat\\\\2.xlsx'"
   ],
   "metadata": {
    "collapsed": false,
    "pycharm": {
     "name": "#%%\n"
    }
   }
  },
  {
   "cell_type": "code",
   "execution_count": 44,
   "outputs": [
    {
     "data": {
      "text/plain": "                                     Country Name      2021     2021.1\n0                                           Aruba  0.401008        NaN\n1                     Africa Eastern and Southern  2.572461   4.303667\n2                                     Afghanistan  2.303412        NaN\n3                      Africa Western and Central  2.636291   3.914799\n4                                          Angola  3.195916   0.700000\n..                                            ...       ...        ...\n131                                       Liberia  2.393792   4.000010\n132                                         Libya  1.261797  31.372422\n133                                     St. Lucia  0.419532   6.599327\n134                     Latin America & Caribbean  0.877415   6.752375\n135  Least developed countries: UN classification  2.305655   2.296664\n\n[136 rows x 3 columns]",
      "text/html": "<div>\n<style scoped>\n    .dataframe tbody tr th:only-of-type {\n        vertical-align: middle;\n    }\n\n    .dataframe tbody tr th {\n        vertical-align: top;\n    }\n\n    .dataframe thead th {\n        text-align: right;\n    }\n</style>\n<table border=\"1\" class=\"dataframe\">\n  <thead>\n    <tr style=\"text-align: right;\">\n      <th></th>\n      <th>Country Name</th>\n      <th>2021</th>\n      <th>2021.1</th>\n    </tr>\n  </thead>\n  <tbody>\n    <tr>\n      <th>0</th>\n      <td>Aruba</td>\n      <td>0.401008</td>\n      <td>NaN</td>\n    </tr>\n    <tr>\n      <th>1</th>\n      <td>Africa Eastern and Southern</td>\n      <td>2.572461</td>\n      <td>4.303667</td>\n    </tr>\n    <tr>\n      <th>2</th>\n      <td>Afghanistan</td>\n      <td>2.303412</td>\n      <td>NaN</td>\n    </tr>\n    <tr>\n      <th>3</th>\n      <td>Africa Western and Central</td>\n      <td>2.636291</td>\n      <td>3.914799</td>\n    </tr>\n    <tr>\n      <th>4</th>\n      <td>Angola</td>\n      <td>3.195916</td>\n      <td>0.700000</td>\n    </tr>\n    <tr>\n      <th>...</th>\n      <td>...</td>\n      <td>...</td>\n      <td>...</td>\n    </tr>\n    <tr>\n      <th>131</th>\n      <td>Liberia</td>\n      <td>2.393792</td>\n      <td>4.000010</td>\n    </tr>\n    <tr>\n      <th>132</th>\n      <td>Libya</td>\n      <td>1.261797</td>\n      <td>31.372422</td>\n    </tr>\n    <tr>\n      <th>133</th>\n      <td>St. Lucia</td>\n      <td>0.419532</td>\n      <td>6.599327</td>\n    </tr>\n    <tr>\n      <th>134</th>\n      <td>Latin America &amp; Caribbean</td>\n      <td>0.877415</td>\n      <td>6.752375</td>\n    </tr>\n    <tr>\n      <th>135</th>\n      <td>Least developed countries: UN classification</td>\n      <td>2.305655</td>\n      <td>2.296664</td>\n    </tr>\n  </tbody>\n</table>\n<p>136 rows × 3 columns</p>\n</div>"
     },
     "execution_count": 44,
     "metadata": {},
     "output_type": "execute_result"
    }
   ],
   "source": [
    "data1 = pd.read_excel(path1, header=3)\n",
    "data2 = pd.read_excel(path2)\n",
    "data1"
   ],
   "metadata": {
    "collapsed": false,
    "pycharm": {
     "name": "#%%\n"
    }
   }
  },
  {
   "cell_type": "code",
   "execution_count": 45,
   "outputs": [
    {
     "data": {
      "text/plain": "                                              pop_grow   gdp_grow\nAruba                                         0.401008        NaN\nAfrica Eastern and Southern                   2.572461   4.303667\nAfghanistan                                   2.303412        NaN\nAfrica Western and Central                    2.636291   3.914799\nAngola                                        3.195916   0.700000\n...                                                ...        ...\nLiberia                                       2.393792   4.000010\nLibya                                         1.261797  31.372422\nSt. Lucia                                     0.419532   6.599327\nLatin America & Caribbean                     0.877415   6.752375\nLeast developed countries: UN classification  2.305655   2.296664\n\n[136 rows x 2 columns]",
      "text/html": "<div>\n<style scoped>\n    .dataframe tbody tr th:only-of-type {\n        vertical-align: middle;\n    }\n\n    .dataframe tbody tr th {\n        vertical-align: top;\n    }\n\n    .dataframe thead th {\n        text-align: right;\n    }\n</style>\n<table border=\"1\" class=\"dataframe\">\n  <thead>\n    <tr style=\"text-align: right;\">\n      <th></th>\n      <th>pop_grow</th>\n      <th>gdp_grow</th>\n    </tr>\n  </thead>\n  <tbody>\n    <tr>\n      <th>Aruba</th>\n      <td>0.401008</td>\n      <td>NaN</td>\n    </tr>\n    <tr>\n      <th>Africa Eastern and Southern</th>\n      <td>2.572461</td>\n      <td>4.303667</td>\n    </tr>\n    <tr>\n      <th>Afghanistan</th>\n      <td>2.303412</td>\n      <td>NaN</td>\n    </tr>\n    <tr>\n      <th>Africa Western and Central</th>\n      <td>2.636291</td>\n      <td>3.914799</td>\n    </tr>\n    <tr>\n      <th>Angola</th>\n      <td>3.195916</td>\n      <td>0.700000</td>\n    </tr>\n    <tr>\n      <th>...</th>\n      <td>...</td>\n      <td>...</td>\n    </tr>\n    <tr>\n      <th>Liberia</th>\n      <td>2.393792</td>\n      <td>4.000010</td>\n    </tr>\n    <tr>\n      <th>Libya</th>\n      <td>1.261797</td>\n      <td>31.372422</td>\n    </tr>\n    <tr>\n      <th>St. Lucia</th>\n      <td>0.419532</td>\n      <td>6.599327</td>\n    </tr>\n    <tr>\n      <th>Latin America &amp; Caribbean</th>\n      <td>0.877415</td>\n      <td>6.752375</td>\n    </tr>\n    <tr>\n      <th>Least developed countries: UN classification</th>\n      <td>2.305655</td>\n      <td>2.296664</td>\n    </tr>\n  </tbody>\n</table>\n<p>136 rows × 2 columns</p>\n</div>"
     },
     "execution_count": 45,
     "metadata": {},
     "output_type": "execute_result"
    }
   ],
   "source": [
    "data1.rename(index=data1['Country Name'], inplace=True)\n",
    "data1.drop(['Country Name'], axis=1, inplace=True)\n",
    "data1.rename(columns={'2021': 'pop_grow', '2021.1': 'gdp_grow'}, inplace=True)\n",
    "data1"
   ],
   "metadata": {
    "collapsed": false,
    "pycharm": {
     "name": "#%%\n"
    }
   }
  },
  {
   "cell_type": "code",
   "execution_count": 46,
   "outputs": [
    {
     "data": {
      "text/plain": "                    name  pop growth  gdp growth\n0             Low income    2.691016    3.013900\n1          Liechtenstein    0.306319         NaN\n2              Sri Lanka    1.075450    3.655632\n3    Lower middle income    1.341333    5.591395\n4    Low & middle income    1.104564    6.892505\n..                   ...         ...         ...\n125               Kosovo    0.897901    9.127578\n126          Yemen, Rep.    2.204030   -2.061513\n127         South Africa    1.228841    4.914603\n128               Zambia    2.877596    3.572815\n129             Zimbabwe    1.530614    5.849420\n\n[130 rows x 3 columns]",
      "text/html": "<div>\n<style scoped>\n    .dataframe tbody tr th:only-of-type {\n        vertical-align: middle;\n    }\n\n    .dataframe tbody tr th {\n        vertical-align: top;\n    }\n\n    .dataframe thead th {\n        text-align: right;\n    }\n</style>\n<table border=\"1\" class=\"dataframe\">\n  <thead>\n    <tr style=\"text-align: right;\">\n      <th></th>\n      <th>name</th>\n      <th>pop growth</th>\n      <th>gdp growth</th>\n    </tr>\n  </thead>\n  <tbody>\n    <tr>\n      <th>0</th>\n      <td>Low income</td>\n      <td>2.691016</td>\n      <td>3.013900</td>\n    </tr>\n    <tr>\n      <th>1</th>\n      <td>Liechtenstein</td>\n      <td>0.306319</td>\n      <td>NaN</td>\n    </tr>\n    <tr>\n      <th>2</th>\n      <td>Sri Lanka</td>\n      <td>1.075450</td>\n      <td>3.655632</td>\n    </tr>\n    <tr>\n      <th>3</th>\n      <td>Lower middle income</td>\n      <td>1.341333</td>\n      <td>5.591395</td>\n    </tr>\n    <tr>\n      <th>4</th>\n      <td>Low &amp; middle income</td>\n      <td>1.104564</td>\n      <td>6.892505</td>\n    </tr>\n    <tr>\n      <th>...</th>\n      <td>...</td>\n      <td>...</td>\n      <td>...</td>\n    </tr>\n    <tr>\n      <th>125</th>\n      <td>Kosovo</td>\n      <td>0.897901</td>\n      <td>9.127578</td>\n    </tr>\n    <tr>\n      <th>126</th>\n      <td>Yemen, Rep.</td>\n      <td>2.204030</td>\n      <td>-2.061513</td>\n    </tr>\n    <tr>\n      <th>127</th>\n      <td>South Africa</td>\n      <td>1.228841</td>\n      <td>4.914603</td>\n    </tr>\n    <tr>\n      <th>128</th>\n      <td>Zambia</td>\n      <td>2.877596</td>\n      <td>3.572815</td>\n    </tr>\n    <tr>\n      <th>129</th>\n      <td>Zimbabwe</td>\n      <td>1.530614</td>\n      <td>5.849420</td>\n    </tr>\n  </tbody>\n</table>\n<p>130 rows × 3 columns</p>\n</div>"
     },
     "execution_count": 46,
     "metadata": {},
     "output_type": "execute_result"
    }
   ],
   "source": [
    "data2"
   ],
   "metadata": {
    "collapsed": false,
    "pycharm": {
     "name": "#%%\n"
    }
   }
  },
  {
   "cell_type": "code",
   "execution_count": 47,
   "outputs": [
    {
     "data": {
      "text/plain": "                     pop growth  gdp growth\nLow income             2.691016    3.013900\nLiechtenstein          0.306319         NaN\nSri Lanka              1.075450    3.655632\nLower middle income    1.341333    5.591395\nLow & middle income    1.104564    6.892505\n...                         ...         ...\nKosovo                 0.897901    9.127578\nYemen, Rep.            2.204030   -2.061513\nSouth Africa           1.228841    4.914603\nZambia                 2.877596    3.572815\nZimbabwe               1.530614    5.849420\n\n[130 rows x 2 columns]",
      "text/html": "<div>\n<style scoped>\n    .dataframe tbody tr th:only-of-type {\n        vertical-align: middle;\n    }\n\n    .dataframe tbody tr th {\n        vertical-align: top;\n    }\n\n    .dataframe thead th {\n        text-align: right;\n    }\n</style>\n<table border=\"1\" class=\"dataframe\">\n  <thead>\n    <tr style=\"text-align: right;\">\n      <th></th>\n      <th>pop growth</th>\n      <th>gdp growth</th>\n    </tr>\n  </thead>\n  <tbody>\n    <tr>\n      <th>Low income</th>\n      <td>2.691016</td>\n      <td>3.013900</td>\n    </tr>\n    <tr>\n      <th>Liechtenstein</th>\n      <td>0.306319</td>\n      <td>NaN</td>\n    </tr>\n    <tr>\n      <th>Sri Lanka</th>\n      <td>1.075450</td>\n      <td>3.655632</td>\n    </tr>\n    <tr>\n      <th>Lower middle income</th>\n      <td>1.341333</td>\n      <td>5.591395</td>\n    </tr>\n    <tr>\n      <th>Low &amp; middle income</th>\n      <td>1.104564</td>\n      <td>6.892505</td>\n    </tr>\n    <tr>\n      <th>...</th>\n      <td>...</td>\n      <td>...</td>\n    </tr>\n    <tr>\n      <th>Kosovo</th>\n      <td>0.897901</td>\n      <td>9.127578</td>\n    </tr>\n    <tr>\n      <th>Yemen, Rep.</th>\n      <td>2.204030</td>\n      <td>-2.061513</td>\n    </tr>\n    <tr>\n      <th>South Africa</th>\n      <td>1.228841</td>\n      <td>4.914603</td>\n    </tr>\n    <tr>\n      <th>Zambia</th>\n      <td>2.877596</td>\n      <td>3.572815</td>\n    </tr>\n    <tr>\n      <th>Zimbabwe</th>\n      <td>1.530614</td>\n      <td>5.849420</td>\n    </tr>\n  </tbody>\n</table>\n<p>130 rows × 2 columns</p>\n</div>"
     },
     "execution_count": 47,
     "metadata": {},
     "output_type": "execute_result"
    }
   ],
   "source": [
    "data2.rename(index=data2['name'], inplace=True)\n",
    "data2.drop(['name'], axis=1, inplace=True)\n",
    "data2"
   ],
   "metadata": {
    "collapsed": false,
    "pycharm": {
     "name": "#%%\n"
    }
   }
  },
  {
   "cell_type": "code",
   "execution_count": 48,
   "outputs": [
    {
     "data": {
      "text/plain": "                                              pop growth  gdp growth\nAruba                                           0.401008         NaN\nAfrica Eastern and Southern                     2.572461    4.303667\nAfghanistan                                     2.303412         NaN\nAfrica Western and Central                      2.636291    3.914799\nAngola                                          3.195916    0.700000\n...                                                  ...         ...\nLiberia                                         2.393792    4.000010\nLibya                                           1.261797   31.372422\nSt. Lucia                                       0.419532    6.599327\nLatin America & Caribbean                       0.877415    6.752375\nLeast developed countries: UN classification    2.305655    2.296664\n\n[136 rows x 2 columns]",
      "text/html": "<div>\n<style scoped>\n    .dataframe tbody tr th:only-of-type {\n        vertical-align: middle;\n    }\n\n    .dataframe tbody tr th {\n        vertical-align: top;\n    }\n\n    .dataframe thead th {\n        text-align: right;\n    }\n</style>\n<table border=\"1\" class=\"dataframe\">\n  <thead>\n    <tr style=\"text-align: right;\">\n      <th></th>\n      <th>pop growth</th>\n      <th>gdp growth</th>\n    </tr>\n  </thead>\n  <tbody>\n    <tr>\n      <th>Aruba</th>\n      <td>0.401008</td>\n      <td>NaN</td>\n    </tr>\n    <tr>\n      <th>Africa Eastern and Southern</th>\n      <td>2.572461</td>\n      <td>4.303667</td>\n    </tr>\n    <tr>\n      <th>Afghanistan</th>\n      <td>2.303412</td>\n      <td>NaN</td>\n    </tr>\n    <tr>\n      <th>Africa Western and Central</th>\n      <td>2.636291</td>\n      <td>3.914799</td>\n    </tr>\n    <tr>\n      <th>Angola</th>\n      <td>3.195916</td>\n      <td>0.700000</td>\n    </tr>\n    <tr>\n      <th>...</th>\n      <td>...</td>\n      <td>...</td>\n    </tr>\n    <tr>\n      <th>Liberia</th>\n      <td>2.393792</td>\n      <td>4.000010</td>\n    </tr>\n    <tr>\n      <th>Libya</th>\n      <td>1.261797</td>\n      <td>31.372422</td>\n    </tr>\n    <tr>\n      <th>St. Lucia</th>\n      <td>0.419532</td>\n      <td>6.599327</td>\n    </tr>\n    <tr>\n      <th>Latin America &amp; Caribbean</th>\n      <td>0.877415</td>\n      <td>6.752375</td>\n    </tr>\n    <tr>\n      <th>Least developed countries: UN classification</th>\n      <td>2.305655</td>\n      <td>2.296664</td>\n    </tr>\n  </tbody>\n</table>\n<p>136 rows × 2 columns</p>\n</div>"
     },
     "execution_count": 48,
     "metadata": {},
     "output_type": "execute_result"
    }
   ],
   "source": [
    "data1.rename(columns={'pop_grow': 'pop growth', 'gdp_grow': 'gdp growth'}, inplace=True)\n",
    "data1"
   ],
   "metadata": {
    "collapsed": false,
    "pycharm": {
     "name": "#%%\n"
    }
   }
  },
  {
   "cell_type": "code",
   "execution_count": 49,
   "outputs": [
    {
     "data": {
      "text/plain": "                             pop growth  gdp growth\nAruba                          0.401008         NaN\nAfrica Eastern and Southern    2.572461    4.303667\nAfghanistan                    2.303412         NaN\nAfrica Western and Central     2.636291    3.914799\nAngola                         3.195916    0.700000\n...                                 ...         ...\nKosovo                         0.897901    9.127578\nYemen, Rep.                    2.204030   -2.061513\nSouth Africa                   1.228841    4.914603\nZambia                         2.877596    3.572815\nZimbabwe                       1.530614    5.849420\n\n[266 rows x 2 columns]",
      "text/html": "<div>\n<style scoped>\n    .dataframe tbody tr th:only-of-type {\n        vertical-align: middle;\n    }\n\n    .dataframe tbody tr th {\n        vertical-align: top;\n    }\n\n    .dataframe thead th {\n        text-align: right;\n    }\n</style>\n<table border=\"1\" class=\"dataframe\">\n  <thead>\n    <tr style=\"text-align: right;\">\n      <th></th>\n      <th>pop growth</th>\n      <th>gdp growth</th>\n    </tr>\n  </thead>\n  <tbody>\n    <tr>\n      <th>Aruba</th>\n      <td>0.401008</td>\n      <td>NaN</td>\n    </tr>\n    <tr>\n      <th>Africa Eastern and Southern</th>\n      <td>2.572461</td>\n      <td>4.303667</td>\n    </tr>\n    <tr>\n      <th>Afghanistan</th>\n      <td>2.303412</td>\n      <td>NaN</td>\n    </tr>\n    <tr>\n      <th>Africa Western and Central</th>\n      <td>2.636291</td>\n      <td>3.914799</td>\n    </tr>\n    <tr>\n      <th>Angola</th>\n      <td>3.195916</td>\n      <td>0.700000</td>\n    </tr>\n    <tr>\n      <th>...</th>\n      <td>...</td>\n      <td>...</td>\n    </tr>\n    <tr>\n      <th>Kosovo</th>\n      <td>0.897901</td>\n      <td>9.127578</td>\n    </tr>\n    <tr>\n      <th>Yemen, Rep.</th>\n      <td>2.204030</td>\n      <td>-2.061513</td>\n    </tr>\n    <tr>\n      <th>South Africa</th>\n      <td>1.228841</td>\n      <td>4.914603</td>\n    </tr>\n    <tr>\n      <th>Zambia</th>\n      <td>2.877596</td>\n      <td>3.572815</td>\n    </tr>\n    <tr>\n      <th>Zimbabwe</th>\n      <td>1.530614</td>\n      <td>5.849420</td>\n    </tr>\n  </tbody>\n</table>\n<p>266 rows × 2 columns</p>\n</div>"
     },
     "execution_count": 49,
     "metadata": {},
     "output_type": "execute_result"
    }
   ],
   "source": [
    "concat = pd.concat([data1, data2], axis=0)\n",
    "concat"
   ],
   "metadata": {
    "collapsed": false,
    "pycharm": {
     "name": "#%%\n"
    }
   }
  },
  {
   "cell_type": "code",
   "execution_count": 49,
   "outputs": [],
   "source": [],
   "metadata": {
    "collapsed": false,
    "pycharm": {
     "name": "#%%\n"
    }
   }
  },
  {
   "cell_type": "markdown",
   "source": [
    "data.values_count()\n",
    "data.groupby(data[column])\n"
   ],
   "metadata": {
    "collapsed": false
   }
  }
 ],
 "metadata": {
  "kernelspec": {
   "display_name": "Python 3",
   "language": "python",
   "name": "python3"
  },
  "language_info": {
   "codemirror_mode": {
    "name": "ipython",
    "version": 2
   },
   "file_extension": ".py",
   "mimetype": "text/x-python",
   "name": "python",
   "nbconvert_exporter": "python",
   "pygments_lexer": "ipython2",
   "version": "2.7.6"
  }
 },
 "nbformat": 4,
 "nbformat_minor": 0
}