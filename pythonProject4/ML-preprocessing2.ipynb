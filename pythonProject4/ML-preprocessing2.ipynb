{
 "cells": [
  {
   "cell_type": "code",
   "execution_count": 211,
   "metadata": {
    "collapsed": true
   },
   "outputs": [],
   "source": [
    "import numpy as np\n",
    "import pandas as pd\n",
    "from sklearn import preprocessing as pr"
   ]
  },
  {
   "cell_type": "code",
   "execution_count": 212,
   "outputs": [
    {
     "data": {
      "text/plain": "                    Country Name Country Code         2021          2018\n0                          Aruba          ABW     107195.0  1.800000e+02\n1    Africa Eastern and Southern          AFE  694665117.0  1.512116e+07\n2                    Afghanistan          AFG   39835428.0  6.528600e+05\n3     Africa Western and Central          AFW  470898870.0  9.166270e+06\n4                         Angola          AGO   33933611.0  1.246700e+06\n..                           ...          ...          ...           ...\n261                       Kosovo          XKX    1806279.0           NaN\n262                  Yemen, Rep.          YEM   30490639.0  5.279700e+05\n263                 South Africa          ZAF   60041996.0  1.219090e+06\n264                       Zambia          ZMB   18920657.0  7.526100e+05\n265                     Zimbabwe          ZWE   15092171.0  3.907600e+05\n\n[266 rows x 4 columns]",
      "text/html": "<div>\n<style scoped>\n    .dataframe tbody tr th:only-of-type {\n        vertical-align: middle;\n    }\n\n    .dataframe tbody tr th {\n        vertical-align: top;\n    }\n\n    .dataframe thead th {\n        text-align: right;\n    }\n</style>\n<table border=\"1\" class=\"dataframe\">\n  <thead>\n    <tr style=\"text-align: right;\">\n      <th></th>\n      <th>Country Name</th>\n      <th>Country Code</th>\n      <th>2021</th>\n      <th>2018</th>\n    </tr>\n  </thead>\n  <tbody>\n    <tr>\n      <th>0</th>\n      <td>Aruba</td>\n      <td>ABW</td>\n      <td>107195.0</td>\n      <td>1.800000e+02</td>\n    </tr>\n    <tr>\n      <th>1</th>\n      <td>Africa Eastern and Southern</td>\n      <td>AFE</td>\n      <td>694665117.0</td>\n      <td>1.512116e+07</td>\n    </tr>\n    <tr>\n      <th>2</th>\n      <td>Afghanistan</td>\n      <td>AFG</td>\n      <td>39835428.0</td>\n      <td>6.528600e+05</td>\n    </tr>\n    <tr>\n      <th>3</th>\n      <td>Africa Western and Central</td>\n      <td>AFW</td>\n      <td>470898870.0</td>\n      <td>9.166270e+06</td>\n    </tr>\n    <tr>\n      <th>4</th>\n      <td>Angola</td>\n      <td>AGO</td>\n      <td>33933611.0</td>\n      <td>1.246700e+06</td>\n    </tr>\n    <tr>\n      <th>...</th>\n      <td>...</td>\n      <td>...</td>\n      <td>...</td>\n      <td>...</td>\n    </tr>\n    <tr>\n      <th>261</th>\n      <td>Kosovo</td>\n      <td>XKX</td>\n      <td>1806279.0</td>\n      <td>NaN</td>\n    </tr>\n    <tr>\n      <th>262</th>\n      <td>Yemen, Rep.</td>\n      <td>YEM</td>\n      <td>30490639.0</td>\n      <td>5.279700e+05</td>\n    </tr>\n    <tr>\n      <th>263</th>\n      <td>South Africa</td>\n      <td>ZAF</td>\n      <td>60041996.0</td>\n      <td>1.219090e+06</td>\n    </tr>\n    <tr>\n      <th>264</th>\n      <td>Zambia</td>\n      <td>ZMB</td>\n      <td>18920657.0</td>\n      <td>7.526100e+05</td>\n    </tr>\n    <tr>\n      <th>265</th>\n      <td>Zimbabwe</td>\n      <td>ZWE</td>\n      <td>15092171.0</td>\n      <td>3.907600e+05</td>\n    </tr>\n  </tbody>\n</table>\n<p>266 rows × 4 columns</p>\n</div>"
     },
     "execution_count": 212,
     "metadata": {},
     "output_type": "execute_result"
    }
   ],
   "source": [
    "path = 'C:\\\\Users\\\\ADMIN\\\\Desktop\\\\my project\\\\pop_area.xlsx'\n",
    "data = pd.read_excel(path, header=3)\n",
    "data"
   ],
   "metadata": {
    "collapsed": false,
    "pycharm": {
     "name": "#%%\n"
    }
   }
  },
  {
   "cell_type": "code",
   "execution_count": 213,
   "outputs": [
    {
     "data": {
      "text/plain": "                    Country Name Country Code         2021          2018\n0                          Aruba          ABW     107195.0  1.800000e+02\n1    Africa Eastern and Southern          AFE  694665117.0  1.512116e+07\n2                    Afghanistan          AFG   39835428.0  6.528600e+05\n3     Africa Western and Central          AFW  470898870.0  9.166270e+06\n4                         Angola          AGO   33933611.0  1.246700e+06\n..                           ...          ...          ...           ...\n261                       Kosovo          XKX    1806279.0           NaN\n262                  Yemen, Rep.          YEM   30490639.0  5.279700e+05\n263                 South Africa          ZAF   60041996.0  1.219090e+06\n264                       Zambia          ZMB   18920657.0  7.526100e+05\n265                     Zimbabwe          ZWE   15092171.0  3.907600e+05\n\n[266 rows x 4 columns]",
      "text/html": "<div>\n<style scoped>\n    .dataframe tbody tr th:only-of-type {\n        vertical-align: middle;\n    }\n\n    .dataframe tbody tr th {\n        vertical-align: top;\n    }\n\n    .dataframe thead th {\n        text-align: right;\n    }\n</style>\n<table border=\"1\" class=\"dataframe\">\n  <thead>\n    <tr style=\"text-align: right;\">\n      <th></th>\n      <th>Country Name</th>\n      <th>Country Code</th>\n      <th>2021</th>\n      <th>2018</th>\n    </tr>\n  </thead>\n  <tbody>\n    <tr>\n      <th>0</th>\n      <td>Aruba</td>\n      <td>ABW</td>\n      <td>107195.0</td>\n      <td>1.800000e+02</td>\n    </tr>\n    <tr>\n      <th>1</th>\n      <td>Africa Eastern and Southern</td>\n      <td>AFE</td>\n      <td>694665117.0</td>\n      <td>1.512116e+07</td>\n    </tr>\n    <tr>\n      <th>2</th>\n      <td>Afghanistan</td>\n      <td>AFG</td>\n      <td>39835428.0</td>\n      <td>6.528600e+05</td>\n    </tr>\n    <tr>\n      <th>3</th>\n      <td>Africa Western and Central</td>\n      <td>AFW</td>\n      <td>470898870.0</td>\n      <td>9.166270e+06</td>\n    </tr>\n    <tr>\n      <th>4</th>\n      <td>Angola</td>\n      <td>AGO</td>\n      <td>33933611.0</td>\n      <td>1.246700e+06</td>\n    </tr>\n    <tr>\n      <th>...</th>\n      <td>...</td>\n      <td>...</td>\n      <td>...</td>\n      <td>...</td>\n    </tr>\n    <tr>\n      <th>261</th>\n      <td>Kosovo</td>\n      <td>XKX</td>\n      <td>1806279.0</td>\n      <td>NaN</td>\n    </tr>\n    <tr>\n      <th>262</th>\n      <td>Yemen, Rep.</td>\n      <td>YEM</td>\n      <td>30490639.0</td>\n      <td>5.279700e+05</td>\n    </tr>\n    <tr>\n      <th>263</th>\n      <td>South Africa</td>\n      <td>ZAF</td>\n      <td>60041996.0</td>\n      <td>1.219090e+06</td>\n    </tr>\n    <tr>\n      <th>264</th>\n      <td>Zambia</td>\n      <td>ZMB</td>\n      <td>18920657.0</td>\n      <td>7.526100e+05</td>\n    </tr>\n    <tr>\n      <th>265</th>\n      <td>Zimbabwe</td>\n      <td>ZWE</td>\n      <td>15092171.0</td>\n      <td>3.907600e+05</td>\n    </tr>\n  </tbody>\n</table>\n<p>266 rows × 4 columns</p>\n</div>"
     },
     "execution_count": 213,
     "metadata": {},
     "output_type": "execute_result"
    }
   ],
   "source": [
    "#data.drop([0, 1], axis=0, inplace=True)\n",
    "data"
   ],
   "metadata": {
    "collapsed": false,
    "pycharm": {
     "name": "#%%\n"
    }
   }
  },
  {
   "cell_type": "code",
   "execution_count": 214,
   "outputs": [],
   "source": [
    "data.rename(index=data['Country Name'], inplace=True)\n"
   ],
   "metadata": {
    "collapsed": false,
    "pycharm": {
     "name": "#%%\n"
    }
   }
  },
  {
   "cell_type": "code",
   "execution_count": 215,
   "outputs": [
    {
     "data": {
      "text/plain": "                              population          area\nAruba                           107195.0  1.800000e+02\nAfrica Eastern and Southern  694665117.0  1.512116e+07\nAfghanistan                   39835428.0  6.528600e+05\nAfrica Western and Central   470898870.0  9.166270e+06\nAngola                        33933611.0  1.246700e+06\n...                                  ...           ...\nKosovo                         1806279.0           NaN\nYemen, Rep.                   30490639.0  5.279700e+05\nSouth Africa                  60041996.0  1.219090e+06\nZambia                        18920657.0  7.526100e+05\nZimbabwe                      15092171.0  3.907600e+05\n\n[266 rows x 2 columns]",
      "text/html": "<div>\n<style scoped>\n    .dataframe tbody tr th:only-of-type {\n        vertical-align: middle;\n    }\n\n    .dataframe tbody tr th {\n        vertical-align: top;\n    }\n\n    .dataframe thead th {\n        text-align: right;\n    }\n</style>\n<table border=\"1\" class=\"dataframe\">\n  <thead>\n    <tr style=\"text-align: right;\">\n      <th></th>\n      <th>population</th>\n      <th>area</th>\n    </tr>\n  </thead>\n  <tbody>\n    <tr>\n      <th>Aruba</th>\n      <td>107195.0</td>\n      <td>1.800000e+02</td>\n    </tr>\n    <tr>\n      <th>Africa Eastern and Southern</th>\n      <td>694665117.0</td>\n      <td>1.512116e+07</td>\n    </tr>\n    <tr>\n      <th>Afghanistan</th>\n      <td>39835428.0</td>\n      <td>6.528600e+05</td>\n    </tr>\n    <tr>\n      <th>Africa Western and Central</th>\n      <td>470898870.0</td>\n      <td>9.166270e+06</td>\n    </tr>\n    <tr>\n      <th>Angola</th>\n      <td>33933611.0</td>\n      <td>1.246700e+06</td>\n    </tr>\n    <tr>\n      <th>...</th>\n      <td>...</td>\n      <td>...</td>\n    </tr>\n    <tr>\n      <th>Kosovo</th>\n      <td>1806279.0</td>\n      <td>NaN</td>\n    </tr>\n    <tr>\n      <th>Yemen, Rep.</th>\n      <td>30490639.0</td>\n      <td>5.279700e+05</td>\n    </tr>\n    <tr>\n      <th>South Africa</th>\n      <td>60041996.0</td>\n      <td>1.219090e+06</td>\n    </tr>\n    <tr>\n      <th>Zambia</th>\n      <td>18920657.0</td>\n      <td>7.526100e+05</td>\n    </tr>\n    <tr>\n      <th>Zimbabwe</th>\n      <td>15092171.0</td>\n      <td>3.907600e+05</td>\n    </tr>\n  </tbody>\n</table>\n<p>266 rows × 2 columns</p>\n</div>"
     },
     "execution_count": 215,
     "metadata": {},
     "output_type": "execute_result"
    }
   ],
   "source": [
    "data.rename(columns={'2021': 'population', '2018': 'area'}, inplace=True)\n",
    "data.drop(['Country Name', \"Country Code\"], axis=1, inplace=True)\n",
    "data"
   ],
   "metadata": {
    "collapsed": false,
    "pycharm": {
     "name": "#%%\n"
    }
   }
  },
  {
   "cell_type": "code",
   "execution_count": 216,
   "outputs": [
    {
     "name": "stdout",
     "output_type": "stream",
     "text": [
      "<class 'pandas.core.frame.DataFrame'>\n",
      "Index: 266 entries, Aruba to Zimbabwe\n",
      "Data columns (total 2 columns):\n",
      " #   Column      Non-Null Count  Dtype  \n",
      "---  ------      --------------  -----  \n",
      " 0   population  264 non-null    float64\n",
      " 1   area        264 non-null    float64\n",
      "dtypes: float64(2)\n",
      "memory usage: 6.2+ KB\n"
     ]
    }
   ],
   "source": [
    "data.info()"
   ],
   "metadata": {
    "collapsed": false,
    "pycharm": {
     "name": "#%%\n"
    }
   }
  },
  {
   "cell_type": "code",
   "execution_count": 217,
   "outputs": [
    {
     "data": {
      "text/plain": "         population          area\ncount  2.640000e+02  2.640000e+02\nmean   3.210893e+08  5.337684e+06\nstd    9.988295e+08  1.550969e+07\nmin    1.087300e+04  1.000000e+01\n25%    1.791783e+06  2.090000e+04\n50%    1.054019e+07  2.037750e+05\n75%    6.295547e+07  1.251775e+06\nmax    7.836631e+09  1.345427e+08",
      "text/html": "<div>\n<style scoped>\n    .dataframe tbody tr th:only-of-type {\n        vertical-align: middle;\n    }\n\n    .dataframe tbody tr th {\n        vertical-align: top;\n    }\n\n    .dataframe thead th {\n        text-align: right;\n    }\n</style>\n<table border=\"1\" class=\"dataframe\">\n  <thead>\n    <tr style=\"text-align: right;\">\n      <th></th>\n      <th>population</th>\n      <th>area</th>\n    </tr>\n  </thead>\n  <tbody>\n    <tr>\n      <th>count</th>\n      <td>2.640000e+02</td>\n      <td>2.640000e+02</td>\n    </tr>\n    <tr>\n      <th>mean</th>\n      <td>3.210893e+08</td>\n      <td>5.337684e+06</td>\n    </tr>\n    <tr>\n      <th>std</th>\n      <td>9.988295e+08</td>\n      <td>1.550969e+07</td>\n    </tr>\n    <tr>\n      <th>min</th>\n      <td>1.087300e+04</td>\n      <td>1.000000e+01</td>\n    </tr>\n    <tr>\n      <th>25%</th>\n      <td>1.791783e+06</td>\n      <td>2.090000e+04</td>\n    </tr>\n    <tr>\n      <th>50%</th>\n      <td>1.054019e+07</td>\n      <td>2.037750e+05</td>\n    </tr>\n    <tr>\n      <th>75%</th>\n      <td>6.295547e+07</td>\n      <td>1.251775e+06</td>\n    </tr>\n    <tr>\n      <th>max</th>\n      <td>7.836631e+09</td>\n      <td>1.345427e+08</td>\n    </tr>\n  </tbody>\n</table>\n</div>"
     },
     "execution_count": 217,
     "metadata": {},
     "output_type": "execute_result"
    }
   ],
   "source": [
    "data.describe()"
   ],
   "metadata": {
    "collapsed": false,
    "pycharm": {
     "name": "#%%\n"
    }
   }
  },
  {
   "cell_type": "code",
   "execution_count": 218,
   "outputs": [],
   "source": [
    "popmax = data.population.max()"
   ],
   "metadata": {
    "collapsed": false,
    "pycharm": {
     "name": "#%%\n"
    }
   }
  },
  {
   "cell_type": "code",
   "execution_count": 219,
   "outputs": [],
   "source": [
    "re = data.population[data.population == popmax]\n",
    "data.drop(re.index, axis=0, inplace=True)\n"
   ],
   "metadata": {
    "collapsed": false,
    "pycharm": {
     "name": "#%%\n"
    }
   }
  },
  {
   "cell_type": "code",
   "execution_count": 220,
   "outputs": [
    {
     "data": {
      "text/plain": "                              population          area\nAruba                           107195.0  1.800000e+02\nAfrica Eastern and Southern  694665117.0  1.512116e+07\nAfghanistan                   39835428.0  6.528600e+05\nAfrica Western and Central   470898870.0  9.166270e+06\nAngola                        33933611.0  1.246700e+06\n...                                  ...           ...\nKosovo                         1806279.0           NaN\nYemen, Rep.                   30490639.0  5.279700e+05\nSouth Africa                  60041996.0  1.219090e+06\nZambia                        18920657.0  7.526100e+05\nZimbabwe                      15092171.0  3.907600e+05\n\n[265 rows x 2 columns]",
      "text/html": "<div>\n<style scoped>\n    .dataframe tbody tr th:only-of-type {\n        vertical-align: middle;\n    }\n\n    .dataframe tbody tr th {\n        vertical-align: top;\n    }\n\n    .dataframe thead th {\n        text-align: right;\n    }\n</style>\n<table border=\"1\" class=\"dataframe\">\n  <thead>\n    <tr style=\"text-align: right;\">\n      <th></th>\n      <th>population</th>\n      <th>area</th>\n    </tr>\n  </thead>\n  <tbody>\n    <tr>\n      <th>Aruba</th>\n      <td>107195.0</td>\n      <td>1.800000e+02</td>\n    </tr>\n    <tr>\n      <th>Africa Eastern and Southern</th>\n      <td>694665117.0</td>\n      <td>1.512116e+07</td>\n    </tr>\n    <tr>\n      <th>Afghanistan</th>\n      <td>39835428.0</td>\n      <td>6.528600e+05</td>\n    </tr>\n    <tr>\n      <th>Africa Western and Central</th>\n      <td>470898870.0</td>\n      <td>9.166270e+06</td>\n    </tr>\n    <tr>\n      <th>Angola</th>\n      <td>33933611.0</td>\n      <td>1.246700e+06</td>\n    </tr>\n    <tr>\n      <th>...</th>\n      <td>...</td>\n      <td>...</td>\n    </tr>\n    <tr>\n      <th>Kosovo</th>\n      <td>1806279.0</td>\n      <td>NaN</td>\n    </tr>\n    <tr>\n      <th>Yemen, Rep.</th>\n      <td>30490639.0</td>\n      <td>5.279700e+05</td>\n    </tr>\n    <tr>\n      <th>South Africa</th>\n      <td>60041996.0</td>\n      <td>1.219090e+06</td>\n    </tr>\n    <tr>\n      <th>Zambia</th>\n      <td>18920657.0</td>\n      <td>7.526100e+05</td>\n    </tr>\n    <tr>\n      <th>Zimbabwe</th>\n      <td>15092171.0</td>\n      <td>3.907600e+05</td>\n    </tr>\n  </tbody>\n</table>\n<p>265 rows × 2 columns</p>\n</div>"
     },
     "execution_count": 220,
     "metadata": {},
     "output_type": "execute_result"
    }
   ],
   "source": [
    "data"
   ],
   "metadata": {
    "collapsed": false,
    "pycharm": {
     "name": "#%%\n"
    }
   }
  },
  {
   "cell_type": "code",
   "execution_count": 221,
   "outputs": [
    {
     "data": {
      "text/plain": "population    2\narea          2\ndtype: int64"
     },
     "execution_count": 221,
     "metadata": {},
     "output_type": "execute_result"
    }
   ],
   "source": [
    "data.isnull().sum()"
   ],
   "metadata": {
    "collapsed": false,
    "pycharm": {
     "name": "#%%\n"
    }
   }
  },
  {
   "cell_type": "code",
   "execution_count": 222,
   "outputs": [
    {
     "data": {
      "text/plain": "                              population          area\nAruba                           107195.0  1.800000e+02\nAfrica Eastern and Southern  694665117.0  1.512116e+07\nAfghanistan                   39835428.0  6.528600e+05\nAfrica Western and Central   470898870.0  9.166270e+06\nAngola                        33933611.0  1.246700e+06\n...                                  ...           ...\nKosovo                         1806279.0  0.000000e+00\nYemen, Rep.                   30490639.0  5.279700e+05\nSouth Africa                  60041996.0  1.219090e+06\nZambia                        18920657.0  7.526100e+05\nZimbabwe                      15092171.0  3.907600e+05\n\n[265 rows x 2 columns]",
      "text/html": "<div>\n<style scoped>\n    .dataframe tbody tr th:only-of-type {\n        vertical-align: middle;\n    }\n\n    .dataframe tbody tr th {\n        vertical-align: top;\n    }\n\n    .dataframe thead th {\n        text-align: right;\n    }\n</style>\n<table border=\"1\" class=\"dataframe\">\n  <thead>\n    <tr style=\"text-align: right;\">\n      <th></th>\n      <th>population</th>\n      <th>area</th>\n    </tr>\n  </thead>\n  <tbody>\n    <tr>\n      <th>Aruba</th>\n      <td>107195.0</td>\n      <td>1.800000e+02</td>\n    </tr>\n    <tr>\n      <th>Africa Eastern and Southern</th>\n      <td>694665117.0</td>\n      <td>1.512116e+07</td>\n    </tr>\n    <tr>\n      <th>Afghanistan</th>\n      <td>39835428.0</td>\n      <td>6.528600e+05</td>\n    </tr>\n    <tr>\n      <th>Africa Western and Central</th>\n      <td>470898870.0</td>\n      <td>9.166270e+06</td>\n    </tr>\n    <tr>\n      <th>Angola</th>\n      <td>33933611.0</td>\n      <td>1.246700e+06</td>\n    </tr>\n    <tr>\n      <th>...</th>\n      <td>...</td>\n      <td>...</td>\n    </tr>\n    <tr>\n      <th>Kosovo</th>\n      <td>1806279.0</td>\n      <td>0.000000e+00</td>\n    </tr>\n    <tr>\n      <th>Yemen, Rep.</th>\n      <td>30490639.0</td>\n      <td>5.279700e+05</td>\n    </tr>\n    <tr>\n      <th>South Africa</th>\n      <td>60041996.0</td>\n      <td>1.219090e+06</td>\n    </tr>\n    <tr>\n      <th>Zambia</th>\n      <td>18920657.0</td>\n      <td>7.526100e+05</td>\n    </tr>\n    <tr>\n      <th>Zimbabwe</th>\n      <td>15092171.0</td>\n      <td>3.907600e+05</td>\n    </tr>\n  </tbody>\n</table>\n<p>265 rows × 2 columns</p>\n</div>"
     },
     "execution_count": 222,
     "metadata": {},
     "output_type": "execute_result"
    }
   ],
   "source": [
    "data.replace(np.nan, 0, inplace=True)\n",
    "data\n"
   ],
   "metadata": {
    "collapsed": false,
    "pycharm": {
     "name": "#%%\n"
    }
   }
  },
  {
   "cell_type": "code",
   "execution_count": 223,
   "outputs": [
    {
     "data": {
      "text/plain": "Aruba                          1.800000e+02\nAfrica Eastern and Southern    1.512116e+07\nAfghanistan                    6.528600e+05\nAfrica Western and Central     9.166270e+06\nAngola                         1.246700e+06\n                                   ...     \nSamoa                          2.840000e+03\nYemen, Rep.                    5.279700e+05\nSouth Africa                   1.219090e+06\nZambia                         7.526100e+05\nZimbabwe                       3.907600e+05\nName: area, Length: 263, dtype: float64"
     },
     "execution_count": 223,
     "metadata": {},
     "output_type": "execute_result"
    }
   ],
   "source": [
    "mask2 = data.area != 0\n",
    "a = data.area[mask2]\n",
    "a"
   ],
   "metadata": {
    "collapsed": false,
    "pycharm": {
     "name": "#%%\n"
    }
   }
  },
  {
   "cell_type": "markdown",
   "source": [
    "data.fillna(0)"
   ],
   "metadata": {
    "collapsed": false
   }
  },
  {
   "cell_type": "code",
   "execution_count": 224,
   "outputs": [
    {
     "data": {
      "text/plain": "Eritrea           0.0\nNot classified    0.0\nName: population, dtype: float64"
     },
     "execution_count": 224,
     "metadata": {},
     "output_type": "execute_result"
    }
   ],
   "source": [
    "a = data.population[data.population == 0]\n",
    "l1 = a.index\n",
    "a"
   ],
   "metadata": {
    "collapsed": false,
    "pycharm": {
     "name": "#%%\n"
    }
   }
  },
  {
   "cell_type": "code",
   "execution_count": 225,
   "outputs": [
    {
     "data": {
      "text/plain": "Not classified    0.0\nKosovo            0.0\nName: area, dtype: float64"
     },
     "execution_count": 225,
     "metadata": {},
     "output_type": "execute_result"
    }
   ],
   "source": [
    "b = data.area[data.area == 0]\n",
    "l2 = b.index\n",
    "b"
   ],
   "metadata": {
    "collapsed": false,
    "pycharm": {
     "name": "#%%\n"
    }
   }
  },
  {
   "cell_type": "code",
   "execution_count": 226,
   "outputs": [],
   "source": [
    "data.area[data.area == 0] = 1"
   ],
   "metadata": {
    "collapsed": false,
    "pycharm": {
     "name": "#%%\n"
    }
   }
  },
  {
   "cell_type": "code",
   "execution_count": 227,
   "outputs": [
    {
     "data": {
      "text/plain": "Not classified    1.0\nKosovo            1.0\nName: area, dtype: float64"
     },
     "execution_count": 227,
     "metadata": {},
     "output_type": "execute_result"
    }
   ],
   "source": [
    "data.area[data.area == 1]"
   ],
   "metadata": {
    "collapsed": false,
    "pycharm": {
     "name": "#%%\n"
    }
   }
  },
  {
   "cell_type": "code",
   "execution_count": 228,
   "outputs": [],
   "source": [
    "data.area[data.area == 1] = 0"
   ],
   "metadata": {
    "collapsed": false,
    "pycharm": {
     "name": "#%%\n"
    }
   }
  },
  {
   "cell_type": "code",
   "execution_count": 229,
   "outputs": [
    {
     "data": {
      "text/plain": "                              population          area\nAruba                           107195.0  1.800000e+02\nAfrica Eastern and Southern  694665117.0  1.512116e+07\nAfghanistan                   39835428.0  6.528600e+05\nAfrica Western and Central   470898870.0  9.166270e+06\nAngola                        33933611.0  1.246700e+06\n...                                  ...           ...\nKosovo                         1806279.0  0.000000e+00\nYemen, Rep.                   30490639.0  5.279700e+05\nSouth Africa                  60041996.0  1.219090e+06\nZambia                        18920657.0  7.526100e+05\nZimbabwe                      15092171.0  3.907600e+05\n\n[265 rows x 2 columns]",
      "text/html": "<div>\n<style scoped>\n    .dataframe tbody tr th:only-of-type {\n        vertical-align: middle;\n    }\n\n    .dataframe tbody tr th {\n        vertical-align: top;\n    }\n\n    .dataframe thead th {\n        text-align: right;\n    }\n</style>\n<table border=\"1\" class=\"dataframe\">\n  <thead>\n    <tr style=\"text-align: right;\">\n      <th></th>\n      <th>population</th>\n      <th>area</th>\n    </tr>\n  </thead>\n  <tbody>\n    <tr>\n      <th>Aruba</th>\n      <td>107195.0</td>\n      <td>1.800000e+02</td>\n    </tr>\n    <tr>\n      <th>Africa Eastern and Southern</th>\n      <td>694665117.0</td>\n      <td>1.512116e+07</td>\n    </tr>\n    <tr>\n      <th>Afghanistan</th>\n      <td>39835428.0</td>\n      <td>6.528600e+05</td>\n    </tr>\n    <tr>\n      <th>Africa Western and Central</th>\n      <td>470898870.0</td>\n      <td>9.166270e+06</td>\n    </tr>\n    <tr>\n      <th>Angola</th>\n      <td>33933611.0</td>\n      <td>1.246700e+06</td>\n    </tr>\n    <tr>\n      <th>...</th>\n      <td>...</td>\n      <td>...</td>\n    </tr>\n    <tr>\n      <th>Kosovo</th>\n      <td>1806279.0</td>\n      <td>0.000000e+00</td>\n    </tr>\n    <tr>\n      <th>Yemen, Rep.</th>\n      <td>30490639.0</td>\n      <td>5.279700e+05</td>\n    </tr>\n    <tr>\n      <th>South Africa</th>\n      <td>60041996.0</td>\n      <td>1.219090e+06</td>\n    </tr>\n    <tr>\n      <th>Zambia</th>\n      <td>18920657.0</td>\n      <td>7.526100e+05</td>\n    </tr>\n    <tr>\n      <th>Zimbabwe</th>\n      <td>15092171.0</td>\n      <td>3.907600e+05</td>\n    </tr>\n  </tbody>\n</table>\n<p>265 rows × 2 columns</p>\n</div>"
     },
     "execution_count": 229,
     "metadata": {},
     "output_type": "execute_result"
    }
   ],
   "source": [
    "data"
   ],
   "metadata": {
    "collapsed": false,
    "pycharm": {
     "name": "#%%\n"
    }
   }
  },
  {
   "cell_type": "code",
   "execution_count": 230,
   "outputs": [
    {
     "data": {
      "text/plain": "['Eritrea', 'Kosovo', 'Not classified']"
     },
     "execution_count": 230,
     "metadata": {},
     "output_type": "execute_result"
    }
   ],
   "source": [
    "l3=list(l1)\n",
    "l3=l3+list(l2)\n",
    "l3=set(l3)\n",
    "l3=list(l3)\n",
    "l3"
   ],
   "metadata": {
    "collapsed": false,
    "pycharm": {
     "name": "#%%\n"
    }
   }
  },
  {
   "cell_type": "code",
   "execution_count": 231,
   "outputs": [
    {
     "data": {
      "text/plain": "                              population          area\nAruba                           107195.0  1.800000e+02\nAfrica Eastern and Southern  694665117.0  1.512116e+07\nAfghanistan                   39835428.0  6.528600e+05\nAfrica Western and Central   470898870.0  9.166270e+06\nAngola                        33933611.0  1.246700e+06\n...                                  ...           ...\nSamoa                           200144.0  2.840000e+03\nYemen, Rep.                   30490639.0  5.279700e+05\nSouth Africa                  60041996.0  1.219090e+06\nZambia                        18920657.0  7.526100e+05\nZimbabwe                      15092171.0  3.907600e+05\n\n[262 rows x 2 columns]",
      "text/html": "<div>\n<style scoped>\n    .dataframe tbody tr th:only-of-type {\n        vertical-align: middle;\n    }\n\n    .dataframe tbody tr th {\n        vertical-align: top;\n    }\n\n    .dataframe thead th {\n        text-align: right;\n    }\n</style>\n<table border=\"1\" class=\"dataframe\">\n  <thead>\n    <tr style=\"text-align: right;\">\n      <th></th>\n      <th>population</th>\n      <th>area</th>\n    </tr>\n  </thead>\n  <tbody>\n    <tr>\n      <th>Aruba</th>\n      <td>107195.0</td>\n      <td>1.800000e+02</td>\n    </tr>\n    <tr>\n      <th>Africa Eastern and Southern</th>\n      <td>694665117.0</td>\n      <td>1.512116e+07</td>\n    </tr>\n    <tr>\n      <th>Afghanistan</th>\n      <td>39835428.0</td>\n      <td>6.528600e+05</td>\n    </tr>\n    <tr>\n      <th>Africa Western and Central</th>\n      <td>470898870.0</td>\n      <td>9.166270e+06</td>\n    </tr>\n    <tr>\n      <th>Angola</th>\n      <td>33933611.0</td>\n      <td>1.246700e+06</td>\n    </tr>\n    <tr>\n      <th>...</th>\n      <td>...</td>\n      <td>...</td>\n    </tr>\n    <tr>\n      <th>Samoa</th>\n      <td>200144.0</td>\n      <td>2.840000e+03</td>\n    </tr>\n    <tr>\n      <th>Yemen, Rep.</th>\n      <td>30490639.0</td>\n      <td>5.279700e+05</td>\n    </tr>\n    <tr>\n      <th>South Africa</th>\n      <td>60041996.0</td>\n      <td>1.219090e+06</td>\n    </tr>\n    <tr>\n      <th>Zambia</th>\n      <td>18920657.0</td>\n      <td>7.526100e+05</td>\n    </tr>\n    <tr>\n      <th>Zimbabwe</th>\n      <td>15092171.0</td>\n      <td>3.907600e+05</td>\n    </tr>\n  </tbody>\n</table>\n<p>262 rows × 2 columns</p>\n</div>"
     },
     "execution_count": 231,
     "metadata": {},
     "output_type": "execute_result"
    }
   ],
   "source": [
    "data.drop(l3, axis=0, inplace=True)\n",
    "data"
   ],
   "metadata": {
    "collapsed": false,
    "pycharm": {
     "name": "#%%\n"
    }
   }
  },
  {
   "cell_type": "code",
   "execution_count": 231,
   "outputs": [],
   "source": [],
   "metadata": {
    "collapsed": false,
    "pycharm": {
     "name": "#%%\n"
    }
   }
  }
 ],
 "metadata": {
  "kernelspec": {
   "display_name": "Python 3",
   "language": "python",
   "name": "python3"
  },
  "language_info": {
   "codemirror_mode": {
    "name": "ipython",
    "version": 2
   },
   "file_extension": ".py",
   "mimetype": "text/x-python",
   "name": "python",
   "nbconvert_exporter": "python",
   "pygments_lexer": "ipython2",
   "version": "2.7.6"
  }
 },
 "nbformat": 4,
 "nbformat_minor": 0
}