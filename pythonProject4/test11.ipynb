{
 "cells": [
  {
   "cell_type": "code",
   "execution_count": 1,
   "metadata": {
    "collapsed": true,
    "pycharm": {
     "name": "#%%\n"
    }
   },
   "outputs": [],
   "source": [
    "a='https://dl.farachart.com/movie/AlgorithmicTrading_SaghiZadeh/00_AlgorithmicTrading_SaghiZadeh.mp4'"
   ]
  },
  {
   "cell_type": "code",
   "execution_count": 3,
   "outputs": [
    {
     "name": "stdout",
     "output_type": "stream",
     "text": [
      "https://dl.farachart.com/movie/AlgorithmicTrading_SaghiZadeh/00_AlgorithmicTrading_SaghiZadeh.mp4\n",
      "https://dl.farachart.com/movie/AlgorithmicTrading_SaghiZadeh/01_AlgorithmicTrading_SaghiZadeh.mp4\n",
      "https://dl.farachart.com/movie/AlgorithmicTrading_SaghiZadeh/02_AlgorithmicTrading_SaghiZadeh.mp4\n",
      "https://dl.farachart.com/movie/AlgorithmicTrading_SaghiZadeh/03_AlgorithmicTrading_SaghiZadeh.mp4\n",
      "https://dl.farachart.com/movie/AlgorithmicTrading_SaghiZadeh/04_AlgorithmicTrading_SaghiZadeh.mp4\n",
      "https://dl.farachart.com/movie/AlgorithmicTrading_SaghiZadeh/05_AlgorithmicTrading_SaghiZadeh.mp4\n",
      "https://dl.farachart.com/movie/AlgorithmicTrading_SaghiZadeh/06_AlgorithmicTrading_SaghiZadeh.mp4\n",
      "https://dl.farachart.com/movie/AlgorithmicTrading_SaghiZadeh/07_AlgorithmicTrading_SaghiZadeh.mp4\n",
      "https://dl.farachart.com/movie/AlgorithmicTrading_SaghiZadeh/08_AlgorithmicTrading_SaghiZadeh.mp4\n",
      "https://dl.farachart.com/movie/AlgorithmicTrading_SaghiZadeh/09_AlgorithmicTrading_SaghiZadeh.mp4\n",
      "https://dl.farachart.com/movie/AlgorithmicTrading_SaghiZadeh/10_AlgorithmicTrading_SaghiZadeh.mp4\n",
      "https://dl.farachart.com/movie/AlgorithmicTrading_SaghiZadeh/11_AlgorithmicTrading_SaghiZadeh.mp4\n",
      "https://dl.farachart.com/movie/AlgorithmicTrading_SaghiZadeh/12_AlgorithmicTrading_SaghiZadeh.mp4\n",
      "https://dl.farachart.com/movie/AlgorithmicTrading_SaghiZadeh/13_AlgorithmicTrading_SaghiZadeh.mp4\n",
      "https://dl.farachart.com/movie/AlgorithmicTrading_SaghiZadeh/14_AlgorithmicTrading_SaghiZadeh.mp4\n",
      "https://dl.farachart.com/movie/AlgorithmicTrading_SaghiZadeh/15_AlgorithmicTrading_SaghiZadeh.mp4\n",
      "https://dl.farachart.com/movie/AlgorithmicTrading_SaghiZadeh/16_AlgorithmicTrading_SaghiZadeh.mp4\n",
      "https://dl.farachart.com/movie/AlgorithmicTrading_SaghiZadeh/17_AlgorithmicTrading_SaghiZadeh.mp4\n",
      "https://dl.farachart.com/movie/AlgorithmicTrading_SaghiZadeh/18_AlgorithmicTrading_SaghiZadeh.mp4\n",
      "https://dl.farachart.com/movie/AlgorithmicTrading_SaghiZadeh/19_AlgorithmicTrading_SaghiZadeh.mp4\n",
      "https://dl.farachart.com/movie/AlgorithmicTrading_SaghiZadeh/20_AlgorithmicTrading_SaghiZadeh.mp4\n",
      "https://dl.farachart.com/movie/AlgorithmicTrading_SaghiZadeh/21_AlgorithmicTrading_SaghiZadeh.mp4\n",
      "https://dl.farachart.com/movie/AlgorithmicTrading_SaghiZadeh/22_AlgorithmicTrading_SaghiZadeh.mp4\n"
     ]
    }
   ],
   "source": [
    "for i in range(23):\n",
    "    if i <10:\n",
    "        print(f'https://dl.farachart.com/movie/AlgorithmicTrading_SaghiZadeh/0{i}_AlgorithmicTrading_SaghiZadeh.mp4')\n",
    "    else:\n",
    "        print(f'https://dl.farachart.com/movie/AlgorithmicTrading_SaghiZadeh/{i}_AlgorithmicTrading_SaghiZadeh.mp4')\n"
   ],
   "metadata": {
    "collapsed": false,
    "pycharm": {
     "name": "#%%\n"
    }
   }
  },
  {
   "cell_type": "code",
   "execution_count": 6,
   "outputs": [],
   "source": [
    "file=open('C:\\\\Users\\\\ADMIN\\Desktop\\\\1.txt','w')\n",
    "for i in range(23):\n",
    "    if i<10:\n",
    "        file.write(f\"https://dl.farachart.com/movie/AlgorithmicTrading_SaghiZadeh/0{i}_AlgorithmicTrading_SaghiZadeh.mp4\")\n",
    "        file.write('\\n')\n",
    "    else:\n",
    "        file.write(f\"https://dl.farachart.com/movie/AlgorithmicTrading_SaghiZadeh/{i}_AlgorithmicTrading_SaghiZadeh.mp4\")\n",
    "        file.write('\\n')\n",
    "file.close()\n",
    "\n"
   ],
   "metadata": {
    "collapsed": false,
    "pycharm": {
     "name": "#%%\n"
    }
   }
  },
  {
   "cell_type": "code",
   "execution_count": null,
   "outputs": [],
   "source": [],
   "metadata": {
    "collapsed": false,
    "pycharm": {
     "name": "#%%\n"
    }
   }
  }
 ],
 "metadata": {
  "kernelspec": {
   "display_name": "Python 3",
   "language": "python",
   "name": "python3"
  },
  "language_info": {
   "codemirror_mode": {
    "name": "ipython",
    "version": 2
   },
   "file_extension": ".py",
   "mimetype": "text/x-python",
   "name": "python",
   "nbconvert_exporter": "python",
   "pygments_lexer": "ipython2",
   "version": "2.7.6"
  }
 },
 "nbformat": 4,
 "nbformat_minor": 0
}