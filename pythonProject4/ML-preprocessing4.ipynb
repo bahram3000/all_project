{
 "cells": [
  {
   "cell_type": "code",
   "execution_count": 1,
   "metadata": {
    "collapsed": true
   },
   "outputs": [],
   "source": [
    "import numpy as np\n",
    "import pandas as pd\n",
    "from sklearn import preprocessing as pr"
   ]
  },
  {
   "cell_type": "code",
   "execution_count": 2,
   "outputs": [
    {
     "data": {
      "text/plain": "                                    2021          2018    2021.1\nAruba                           107195.0  1.800000e+02  0.401008\nAfrica Eastern and Southern  694665117.0  1.512116e+07  2.572461\nAfghanistan                   39835428.0  6.528600e+05  2.303412\nAfrica Western and Central   470898870.0  9.166270e+06  2.636291\nAngola                        33933611.0  1.246700e+06  3.195916\n...                                  ...           ...       ...\nKosovo                         1806279.0           NaN  0.897901\nYemen, Rep.                   30490639.0  5.279700e+05  2.204030\nSouth Africa                  60041996.0  1.219090e+06  1.228841\nZambia                        18920657.0  7.526100e+05  2.877596\nZimbabwe                      15092171.0  3.907600e+05  1.530614\n\n[266 rows x 3 columns]",
      "text/html": "<div>\n<style scoped>\n    .dataframe tbody tr th:only-of-type {\n        vertical-align: middle;\n    }\n\n    .dataframe tbody tr th {\n        vertical-align: top;\n    }\n\n    .dataframe thead th {\n        text-align: right;\n    }\n</style>\n<table border=\"1\" class=\"dataframe\">\n  <thead>\n    <tr style=\"text-align: right;\">\n      <th></th>\n      <th>2021</th>\n      <th>2018</th>\n      <th>2021.1</th>\n    </tr>\n  </thead>\n  <tbody>\n    <tr>\n      <th>Aruba</th>\n      <td>107195.0</td>\n      <td>1.800000e+02</td>\n      <td>0.401008</td>\n    </tr>\n    <tr>\n      <th>Africa Eastern and Southern</th>\n      <td>694665117.0</td>\n      <td>1.512116e+07</td>\n      <td>2.572461</td>\n    </tr>\n    <tr>\n      <th>Afghanistan</th>\n      <td>39835428.0</td>\n      <td>6.528600e+05</td>\n      <td>2.303412</td>\n    </tr>\n    <tr>\n      <th>Africa Western and Central</th>\n      <td>470898870.0</td>\n      <td>9.166270e+06</td>\n      <td>2.636291</td>\n    </tr>\n    <tr>\n      <th>Angola</th>\n      <td>33933611.0</td>\n      <td>1.246700e+06</td>\n      <td>3.195916</td>\n    </tr>\n    <tr>\n      <th>...</th>\n      <td>...</td>\n      <td>...</td>\n      <td>...</td>\n    </tr>\n    <tr>\n      <th>Kosovo</th>\n      <td>1806279.0</td>\n      <td>NaN</td>\n      <td>0.897901</td>\n    </tr>\n    <tr>\n      <th>Yemen, Rep.</th>\n      <td>30490639.0</td>\n      <td>5.279700e+05</td>\n      <td>2.204030</td>\n    </tr>\n    <tr>\n      <th>South Africa</th>\n      <td>60041996.0</td>\n      <td>1.219090e+06</td>\n      <td>1.228841</td>\n    </tr>\n    <tr>\n      <th>Zambia</th>\n      <td>18920657.0</td>\n      <td>7.526100e+05</td>\n      <td>2.877596</td>\n    </tr>\n    <tr>\n      <th>Zimbabwe</th>\n      <td>15092171.0</td>\n      <td>3.907600e+05</td>\n      <td>1.530614</td>\n    </tr>\n  </tbody>\n</table>\n<p>266 rows × 3 columns</p>\n</div>"
     },
     "execution_count": 2,
     "metadata": {},
     "output_type": "execute_result"
    }
   ],
   "source": [
    "path = 'C:\\\\Users\\\\ADMIN\\\\Desktop\\\\my project\\\\pop_area.xlsx'\n",
    "data = pd.read_excel(path, header=3)\n",
    "data.drop(['Country Code'], axis=1, inplace=True)\n",
    "data.rename(index=data['Country Name'], inplace=True)\n",
    "data.drop(['Country Name'], axis=1, inplace=True)\n",
    "data"
   ],
   "metadata": {
    "collapsed": false,
    "pycharm": {
     "name": "#%%\n"
    }
   }
  },
  {
   "cell_type": "code",
   "execution_count": 3,
   "outputs": [
    {
     "data": {
      "text/plain": "                              population          area  pop_growth\nAruba                           107195.0  1.800000e+02    0.401008\nAfrica Eastern and Southern  694665117.0  1.512116e+07    2.572461\nAfghanistan                   39835428.0  6.528600e+05    2.303412\nAfrica Western and Central   470898870.0  9.166270e+06    2.636291\nAngola                        33933611.0  1.246700e+06    3.195916\n...                                  ...           ...         ...\nKosovo                         1806279.0           NaN    0.897901\nYemen, Rep.                   30490639.0  5.279700e+05    2.204030\nSouth Africa                  60041996.0  1.219090e+06    1.228841\nZambia                        18920657.0  7.526100e+05    2.877596\nZimbabwe                      15092171.0  3.907600e+05    1.530614\n\n[266 rows x 3 columns]",
      "text/html": "<div>\n<style scoped>\n    .dataframe tbody tr th:only-of-type {\n        vertical-align: middle;\n    }\n\n    .dataframe tbody tr th {\n        vertical-align: top;\n    }\n\n    .dataframe thead th {\n        text-align: right;\n    }\n</style>\n<table border=\"1\" class=\"dataframe\">\n  <thead>\n    <tr style=\"text-align: right;\">\n      <th></th>\n      <th>population</th>\n      <th>area</th>\n      <th>pop_growth</th>\n    </tr>\n  </thead>\n  <tbody>\n    <tr>\n      <th>Aruba</th>\n      <td>107195.0</td>\n      <td>1.800000e+02</td>\n      <td>0.401008</td>\n    </tr>\n    <tr>\n      <th>Africa Eastern and Southern</th>\n      <td>694665117.0</td>\n      <td>1.512116e+07</td>\n      <td>2.572461</td>\n    </tr>\n    <tr>\n      <th>Afghanistan</th>\n      <td>39835428.0</td>\n      <td>6.528600e+05</td>\n      <td>2.303412</td>\n    </tr>\n    <tr>\n      <th>Africa Western and Central</th>\n      <td>470898870.0</td>\n      <td>9.166270e+06</td>\n      <td>2.636291</td>\n    </tr>\n    <tr>\n      <th>Angola</th>\n      <td>33933611.0</td>\n      <td>1.246700e+06</td>\n      <td>3.195916</td>\n    </tr>\n    <tr>\n      <th>...</th>\n      <td>...</td>\n      <td>...</td>\n      <td>...</td>\n    </tr>\n    <tr>\n      <th>Kosovo</th>\n      <td>1806279.0</td>\n      <td>NaN</td>\n      <td>0.897901</td>\n    </tr>\n    <tr>\n      <th>Yemen, Rep.</th>\n      <td>30490639.0</td>\n      <td>5.279700e+05</td>\n      <td>2.204030</td>\n    </tr>\n    <tr>\n      <th>South Africa</th>\n      <td>60041996.0</td>\n      <td>1.219090e+06</td>\n      <td>1.228841</td>\n    </tr>\n    <tr>\n      <th>Zambia</th>\n      <td>18920657.0</td>\n      <td>7.526100e+05</td>\n      <td>2.877596</td>\n    </tr>\n    <tr>\n      <th>Zimbabwe</th>\n      <td>15092171.0</td>\n      <td>3.907600e+05</td>\n      <td>1.530614</td>\n    </tr>\n  </tbody>\n</table>\n<p>266 rows × 3 columns</p>\n</div>"
     },
     "execution_count": 3,
     "metadata": {},
     "output_type": "execute_result"
    }
   ],
   "source": [
    "data.rename(columns={'2021': 'population', '2018': 'area', '2021.1': 'pop_growth'}, inplace=True)\n",
    "data"
   ],
   "metadata": {
    "collapsed": false,
    "pycharm": {
     "name": "#%%\n"
    }
   }
  },
  {
   "cell_type": "code",
   "execution_count": 4,
   "outputs": [
    {
     "data": {
      "text/plain": "                              population          area  pop_growth\nAruba                           107195.0  1.800000e+02    0.401008\nAfrica Eastern and Southern  694665117.0  1.512116e+07    2.572461\nAfghanistan                   39835428.0  6.528600e+05    2.303412\nAfrica Western and Central   470898870.0  9.166270e+06    2.636291\nAngola                        33933611.0  1.246700e+06    3.195916\n...                                  ...           ...         ...\nKosovo                         1806279.0           NaN    0.897901\nYemen, Rep.                   30490639.0  5.279700e+05    2.204030\nSouth Africa                  60041996.0  1.219090e+06    1.228841\nZambia                        18920657.0  7.526100e+05    2.877596\nZimbabwe                      15092171.0  3.907600e+05    1.530614\n\n[265 rows x 3 columns]",
      "text/html": "<div>\n<style scoped>\n    .dataframe tbody tr th:only-of-type {\n        vertical-align: middle;\n    }\n\n    .dataframe tbody tr th {\n        vertical-align: top;\n    }\n\n    .dataframe thead th {\n        text-align: right;\n    }\n</style>\n<table border=\"1\" class=\"dataframe\">\n  <thead>\n    <tr style=\"text-align: right;\">\n      <th></th>\n      <th>population</th>\n      <th>area</th>\n      <th>pop_growth</th>\n    </tr>\n  </thead>\n  <tbody>\n    <tr>\n      <th>Aruba</th>\n      <td>107195.0</td>\n      <td>1.800000e+02</td>\n      <td>0.401008</td>\n    </tr>\n    <tr>\n      <th>Africa Eastern and Southern</th>\n      <td>694665117.0</td>\n      <td>1.512116e+07</td>\n      <td>2.572461</td>\n    </tr>\n    <tr>\n      <th>Afghanistan</th>\n      <td>39835428.0</td>\n      <td>6.528600e+05</td>\n      <td>2.303412</td>\n    </tr>\n    <tr>\n      <th>Africa Western and Central</th>\n      <td>470898870.0</td>\n      <td>9.166270e+06</td>\n      <td>2.636291</td>\n    </tr>\n    <tr>\n      <th>Angola</th>\n      <td>33933611.0</td>\n      <td>1.246700e+06</td>\n      <td>3.195916</td>\n    </tr>\n    <tr>\n      <th>...</th>\n      <td>...</td>\n      <td>...</td>\n      <td>...</td>\n    </tr>\n    <tr>\n      <th>Kosovo</th>\n      <td>1806279.0</td>\n      <td>NaN</td>\n      <td>0.897901</td>\n    </tr>\n    <tr>\n      <th>Yemen, Rep.</th>\n      <td>30490639.0</td>\n      <td>5.279700e+05</td>\n      <td>2.204030</td>\n    </tr>\n    <tr>\n      <th>South Africa</th>\n      <td>60041996.0</td>\n      <td>1.219090e+06</td>\n      <td>1.228841</td>\n    </tr>\n    <tr>\n      <th>Zambia</th>\n      <td>18920657.0</td>\n      <td>7.526100e+05</td>\n      <td>2.877596</td>\n    </tr>\n    <tr>\n      <th>Zimbabwe</th>\n      <td>15092171.0</td>\n      <td>3.907600e+05</td>\n      <td>1.530614</td>\n    </tr>\n  </tbody>\n</table>\n<p>265 rows × 3 columns</p>\n</div>"
     },
     "execution_count": 4,
     "metadata": {},
     "output_type": "execute_result"
    }
   ],
   "source": [
    "data.drop(['Not classified'], axis=0, inplace=True)\n",
    "data"
   ],
   "metadata": {
    "collapsed": false,
    "pycharm": {
     "name": "#%%\n"
    }
   }
  },
  {
   "cell_type": "code",
   "execution_count": 7,
   "outputs": [
    {
     "name": "stderr",
     "output_type": "stream",
     "text": [
      "c:\\users\\admin\\pycharmprojects\\pythonproject4\\venv\\lib\\site-packages\\sklearn\\impute\\_base.py:356: FutureWarning: The 'verbose' parameter was deprecated in version 1.1 and will be removed in 1.3. A warning will always be raised upon the removal of empty columns in the future version.\n",
      "  warnings.warn(\n"
     ]
    },
    {
     "data": {
      "text/plain": "SimpleImputer(verbose=0)",
      "text/html": "<style>#sk-container-id-3 {color: black;background-color: white;}#sk-container-id-3 pre{padding: 0;}#sk-container-id-3 div.sk-toggleable {background-color: white;}#sk-container-id-3 label.sk-toggleable__label {cursor: pointer;display: block;width: 100%;margin-bottom: 0;padding: 0.3em;box-sizing: border-box;text-align: center;}#sk-container-id-3 label.sk-toggleable__label-arrow:before {content: \"▸\";float: left;margin-right: 0.25em;color: #696969;}#sk-container-id-3 label.sk-toggleable__label-arrow:hover:before {color: black;}#sk-container-id-3 div.sk-estimator:hover label.sk-toggleable__label-arrow:before {color: black;}#sk-container-id-3 div.sk-toggleable__content {max-height: 0;max-width: 0;overflow: hidden;text-align: left;background-color: #f0f8ff;}#sk-container-id-3 div.sk-toggleable__content pre {margin: 0.2em;color: black;border-radius: 0.25em;background-color: #f0f8ff;}#sk-container-id-3 input.sk-toggleable__control:checked~div.sk-toggleable__content {max-height: 200px;max-width: 100%;overflow: auto;}#sk-container-id-3 input.sk-toggleable__control:checked~label.sk-toggleable__label-arrow:before {content: \"▾\";}#sk-container-id-3 div.sk-estimator input.sk-toggleable__control:checked~label.sk-toggleable__label {background-color: #d4ebff;}#sk-container-id-3 div.sk-label input.sk-toggleable__control:checked~label.sk-toggleable__label {background-color: #d4ebff;}#sk-container-id-3 input.sk-hidden--visually {border: 0;clip: rect(1px 1px 1px 1px);clip: rect(1px, 1px, 1px, 1px);height: 1px;margin: -1px;overflow: hidden;padding: 0;position: absolute;width: 1px;}#sk-container-id-3 div.sk-estimator {font-family: monospace;background-color: #f0f8ff;border: 1px dotted black;border-radius: 0.25em;box-sizing: border-box;margin-bottom: 0.5em;}#sk-container-id-3 div.sk-estimator:hover {background-color: #d4ebff;}#sk-container-id-3 div.sk-parallel-item::after {content: \"\";width: 100%;border-bottom: 1px solid gray;flex-grow: 1;}#sk-container-id-3 div.sk-label:hover label.sk-toggleable__label {background-color: #d4ebff;}#sk-container-id-3 div.sk-serial::before {content: \"\";position: absolute;border-left: 1px solid gray;box-sizing: border-box;top: 0;bottom: 0;left: 50%;z-index: 0;}#sk-container-id-3 div.sk-serial {display: flex;flex-direction: column;align-items: center;background-color: white;padding-right: 0.2em;padding-left: 0.2em;position: relative;}#sk-container-id-3 div.sk-item {position: relative;z-index: 1;}#sk-container-id-3 div.sk-parallel {display: flex;align-items: stretch;justify-content: center;background-color: white;position: relative;}#sk-container-id-3 div.sk-item::before, #sk-container-id-3 div.sk-parallel-item::before {content: \"\";position: absolute;border-left: 1px solid gray;box-sizing: border-box;top: 0;bottom: 0;left: 50%;z-index: -1;}#sk-container-id-3 div.sk-parallel-item {display: flex;flex-direction: column;z-index: 1;position: relative;background-color: white;}#sk-container-id-3 div.sk-parallel-item:first-child::after {align-self: flex-end;width: 50%;}#sk-container-id-3 div.sk-parallel-item:last-child::after {align-self: flex-start;width: 50%;}#sk-container-id-3 div.sk-parallel-item:only-child::after {width: 0;}#sk-container-id-3 div.sk-dashed-wrapped {border: 1px dashed gray;margin: 0 0.4em 0.5em 0.4em;box-sizing: border-box;padding-bottom: 0.4em;background-color: white;}#sk-container-id-3 div.sk-label label {font-family: monospace;font-weight: bold;display: inline-block;line-height: 1.2em;}#sk-container-id-3 div.sk-label-container {text-align: center;}#sk-container-id-3 div.sk-container {/* jupyter's `normalize.less` sets `[hidden] { display: none; }` but bootstrap.min.css set `[hidden] { display: none !important; }` so we also need the `!important` here to be able to override the default hidden behavior on the sphinx rendered scikit-learn.org. See: https://github.com/scikit-learn/scikit-learn/issues/21755 */display: inline-block !important;position: relative;}#sk-container-id-3 div.sk-text-repr-fallback {display: none;}</style><div id=\"sk-container-id-3\" class=\"sk-top-container\"><div class=\"sk-text-repr-fallback\"><pre>SimpleImputer(verbose=0)</pre><b>In a Jupyter environment, please rerun this cell to show the HTML representation or trust the notebook. <br />On GitHub, the HTML representation is unable to render, please try loading this page with nbviewer.org.</b></div><div class=\"sk-container\" hidden><div class=\"sk-item\"><div class=\"sk-estimator sk-toggleable\"><input class=\"sk-toggleable__control sk-hidden--visually\" id=\"sk-estimator-id-3\" type=\"checkbox\" checked><label for=\"sk-estimator-id-3\" class=\"sk-toggleable__label sk-toggleable__label-arrow\">SimpleImputer</label><div class=\"sk-toggleable__content\"><pre>SimpleImputer(verbose=0)</pre></div></div></div></div></div>"
     },
     "execution_count": 7,
     "metadata": {},
     "output_type": "execute_result"
    }
   ],
   "source": [
    "from sklearn.impute import SimpleImputer\n",
    "\n",
    "i = SimpleImputer(missing_values=np.nan, strategy='mean', verbose=0)\n",
    "i.fit(data)"
   ],
   "metadata": {
    "collapsed": false,
    "pycharm": {
     "name": "#%%\n"
    }
   }
  },
  {
   "cell_type": "code",
   "execution_count": 8,
   "outputs": [
    {
     "data": {
      "text/plain": "array([[ 1.07195000e+05,  1.80000000e+02,  4.01008198e-01],\n       [ 6.94665117e+08,  1.51211574e+07,  2.57246074e+00],\n       [ 3.98354280e+07,  6.52860000e+05,  2.30341213e+00],\n       [ 4.70898870e+08,  9.16627000e+06,  2.63629084e+00],\n       [ 3.39336110e+07,  1.24670000e+06,  3.19591551e+00],\n       [ 2.81166600e+06,  2.87500000e+04, -9.26918062e-01],\n       [ 7.73540000e+04,  4.70000000e+02,  1.15121699e-01],\n       [ 4.44517783e+08,  1.31423373e+07,  1.93474613e+00],\n       [ 9.99108300e+06,  9.86479000e+04,  1.01284055e+00],\n       [ 4.58087470e+07,  2.78040000e+06,  9.47490959e-01],\n       [ 2.96812800e+06,  2.97400000e+04,  1.65021157e-01],\n       [ 5.51030000e+04,  2.00000000e+02, -1.70444284e-01],\n       [ 9.87280000e+04,  4.40000000e+02,  8.13607938e-01],\n       [ 2.57392560e+07,  7.74122000e+06,  1.78832418e-01],\n       [ 8.95627900e+06,  8.38790000e+04,  4.41053528e-01],\n       [ 1.01452120e+07,  8.66000000e+04,  5.14776736e-01],\n       [ 1.22554290e+07,  2.78300000e+04,  3.02056285e+00],\n       [ 1.15878820e+07,  3.05300000e+04,  3.77319901e-01],\n       [ 1.24510310e+07,  1.14760000e+05,  2.66826235e+00],\n       [ 2.14970970e+07,  2.74220000e+05,  2.80119140e+00],\n       [ 1.66303494e+08,  1.47570000e+05,  9.75322375e-01],\n       [ 6.89912500e+06,  1.11000000e+05, -5.04441855e-01],\n       [ 1.74829500e+06,  7.80000000e+02,  2.70820330e+00],\n       [ 3.96914000e+05,  1.38800000e+04,  9.27917643e-01],\n       [ 3.26345900e+06,  5.12100000e+04, -5.30419133e-01],\n       [ 9.34031400e+06,  2.07600000e+05, -4.23477521e-01],\n       [ 4.04915000e+05,  2.29700000e+04,  1.81778782e+00],\n       [ 6.38670000e+04,  4.29000000e+03, -4.07013155e-02],\n       [ 1.18329360e+07,  1.09858000e+06,  1.36058628e+00],\n       [ 2.13993441e+08,  8.51577000e+06,  6.72384396e-01],\n       [ 2.87708000e+05,  4.30000000e+02,  1.17201302e-01],\n       [ 4.41532000e+05,  5.77000000e+03,  9.21264970e-01],\n       [ 7.79900000e+05,  3.83900000e+04,  1.06838733e+00],\n       [ 2.39724000e+06,  5.81730000e+05,  1.92114970e+00],\n       [ 4.91998700e+06,  6.22980000e+05,  1.85082830e+00],\n       [ 3.82461080e+07,  9.87975000e+06,  5.47707006e-01],\n       [ 1.01669618e+08,  1.16677000e+06, -4.92044076e-01],\n       [ 8.69772300e+06,  4.12903900e+04,  7.05679609e-01],\n       [ 1.75244000e+05,  1.98000000e+02,  7.93466264e-01],\n       [ 1.92123620e+07,  7.56700000e+05,  5.01731211e-01],\n       [ 1.41236000e+09,  9.60001290e+06,  8.92522000e-02],\n       [ 2.70536290e+07,  3.22460000e+05,  2.52804006e+00],\n       [ 2.72242620e+07,  4.75440000e+05,  2.52346070e+00],\n       [ 9.23779860e+07,  2.34486000e+06,  3.09642353e+00],\n       [ 5.65701700e+06,  3.42000000e+05,  2.48645731e+00],\n       [ 5.12658410e+07,  1.14175000e+06,  7.49806313e-01],\n       [ 8.88456000e+05,  1.86100000e+03,  2.14575387e+00],\n       [ 5.61901000e+05,  4.03000000e+03,  1.05789665e+00],\n       [ 5.13905300e+06,  5.11000000e+04,  8.78306567e-01],\n       [ 7.48163100e+06,  4.34990000e+05,  5.28600669e-01],\n       [ 1.13174980e+07,  1.09880000e+05, -8.05330736e-02],\n       [ 1.52369000e+05,  4.44000000e+02, -1.67779125e+00],\n       [ 6.64980000e+04,  2.64000000e+02,  1.17685789e+00],\n       [ 1.21558800e+06,  9.25000000e+03,  6.79092430e-01],\n       [ 1.07034460e+07,  7.88700000e+04,  5.22211182e-02],\n       [ 8.31292850e+07,  3.57580000e+05, -3.79890201e-02],\n       [ 1.00219700e+06,  2.32000000e+04,  1.42651471e+00],\n       [ 7.21720000e+04,  7.50000000e+02,  2.51104784e-01],\n       [ 5.85673300e+06,  4.29200000e+04,  4.33414489e-01],\n       [ 1.09537140e+07,  4.86700000e+04,  9.70669524e-01],\n       [ 4.46166260e+07,  2.38174100e+06,  1.73080657e+00],\n       [ 2.12208632e+09,  1.63136961e+07,  3.82062241e-01],\n       [ 3.37386685e+09,  3.41448226e+07,  1.25336104e+00],\n       [ 2.36862286e+09,  2.48681620e+07,  3.00873335e-01],\n       [ 4.01828885e+08,  2.32367360e+07,  2.32701752e-01],\n       [ 9.23753699e+08,  2.87247658e+07,  8.42560337e-02],\n       [ 1.78884740e+07,  2.56370000e+05,  1.38140899e+00],\n       [ 1.04258327e+08,  1.00145000e+06,  1.86258212e+00],\n       [ 3.42566541e+08,  2.76042889e+06, -4.13803743e-02],\n       [ 3.21089334e+08,  1.17600000e+05,  1.05759117e+00],\n       [ 4.73266870e+07,  5.05957289e+05, -7.75836112e-02],\n       [ 1.32925400e+06,  4.53400000e+04, -1.69253551e-02],\n       [ 1.17876226e+08,  1.13625941e+06,  2.50197331e+00],\n       [ 4.46946712e+08,  4.17283889e+06, -1.19062663e-01],\n       [ 9.82980816e+08,  2.02280844e+07,  2.29148448e+00],\n       [ 5.54169600e+06,  3.38450000e+05,  2.19541912e-01],\n       [ 9.02899000e+05,  1.82700000e+04,  7.17487182e-01],\n       [ 6.74993430e+07,  5.49087000e+05,  1.77099191e-01],\n       [ 4.90530000e+04,  1.39600000e+03,  3.83995243e-01],\n       [ 1.16255000e+05,  7.00000000e+02,  1.06713339e+00],\n       [ 2.27882900e+06,  2.67670000e+05,  2.35776614e+00],\n       [ 6.73265690e+07,  2.43610000e+05,  3.65409887e-01],\n       [ 3.70861000e+06,  6.97000000e+04, -3.79636607e-01],\n       [ 3.17321280e+07,  2.38540000e+05,  2.09921643e+00],\n       [ 3.36910000e+04,  1.00000000e+01,  0.00000000e+00],\n       [ 1.34972370e+07,  2.45860000e+05,  2.73726893e+00],\n       [ 2.48693700e+06,  1.13000000e+04,  2.86637560e+00],\n       [ 2.01549000e+06,  3.61300000e+04,  2.38455596e+00],\n       [ 1.44989100e+06,  2.80500000e+04,  3.28862715e+00],\n       [ 1.06645680e+07,  1.31960000e+05, -3.36885796e-01],\n       [ 1.13015000e+05,  3.40000000e+02,  4.39845699e-01],\n       [ 5.66530000e+04,  4.10450000e+05,  5.06106194e-01],\n       [ 1.71097460e+07,  1.08890000e+05,  1.48031681e+00],\n       [ 1.70184000e+05,  5.40000000e+02,  8.26633848e-01],\n       [ 7.90329000e+05,  2.14970000e+05,  4.78157889e-01],\n       [ 1.24137428e+09,  3.74084956e+07,  5.55943098e-02],\n       [ 7.41310000e+06,  1.11000000e+03, -9.11776749e-01],\n       [ 1.00629940e+07,  1.12490000e+05,  1.58646313e+00],\n       [ 8.45522272e+08,  1.97738608e+07,  2.67671747e+00],\n       [ 3.89900000e+06,  8.80700000e+04, -3.74237675e+00],\n       [ 1.15416830e+07,  2.77500000e+04,  1.21295673e+00],\n       [ 9.70988600e+06,  9.30300000e+04, -4.13802518e-01],\n       [ 4.89529524e+09,  7.30177471e+07,  6.75561417e-01],\n       [ 6.64261411e+09,  9.85512785e+07,  1.08903321e+00],\n       [ 1.74731887e+09,  2.55335314e+07,  2.26571383e+00],\n       [ 5.86883422e+08,  4.45947400e+06,  2.21615980e+00],\n       [ 2.76361788e+08,  1.91686220e+06,  1.03228497e+00],\n       [ 1.16043544e+09,  2.10740574e+07,  2.29079380e+00],\n       [ 8.54100000e+04,  5.70000000e+02,  4.43553373e-01],\n       [ 1.39340903e+09,  3.28725900e+06,  9.66660960e-01],\n       [ 5.02823000e+06,  7.02800000e+04,  8.49943363e-01],\n       [ 8.50287600e+07,  1.74515000e+06,  1.22566497e+00],\n       [ 4.11793510e+07,  4.35052000e+05,  2.35103263e+00],\n       [ 3.72295000e+05,  1.03000000e+05,  1.57889895e+00],\n       [ 9.36400000e+06,  2.20700000e+04,  1.60291067e+00],\n       [ 5.90662250e+07,  3.02070000e+05, -6.46839479e-01],\n       [ 2.97346200e+06,  1.09900000e+04,  4.14550937e-01],\n       [ 1.02690220e+07,  8.93200000e+04,  6.43627453e-01],\n       [ 1.25681593e+08,  3.77974000e+05, -4.59952416e-01],\n       [ 1.90025860e+07,  2.72490200e+06,  1.30791817e+00],\n       [ 5.49857020e+07,  5.80370000e+05,  2.23333202e+00],\n       [ 6.69420000e+06,  1.99950000e+05,  1.72219322e+00],\n       [ 1.69464460e+07,  1.81040000e+05,  1.35140736e+00],\n       [ 1.21388000e+05,  8.10000000e+02,  1.61276406e+00],\n       [ 5.35460000e+04,  2.60000000e+02,  6.63308846e-01],\n       [ 5.17448760e+07,  1.00370000e+05, -1.76408651e-01],\n       [ 4.32855300e+06,  1.78200000e+04,  1.34876374e+00],\n       [ 5.96217644e+08,  1.84742570e+07,  8.95108072e-01],\n       [ 7.37935800e+06,  2.36800000e+05,  1.41664067e+00],\n       [ 6.76915100e+06,  1.04500000e+04, -8.28142802e-01],\n       [ 5.18020800e+06,  1.11370000e+05,  2.39379229e+00],\n       [ 6.95853800e+06,  1.75954000e+06,  1.26179699e+00],\n       [ 1.84401000e+05,  6.20000000e+02,  4.19531632e-01],\n       [ 6.58089208e+08,  2.04259790e+07,  8.77414594e-01],\n       [ 1.08150480e+09,  2.07733274e+07,  2.30565471e+00],\n       [ 7.01926973e+08,  1.59865664e+07,  2.69101598e+00],\n       [ 3.82540000e+04,  1.60000000e+02,  3.06319047e-01],\n       [ 2.21560000e+07,  6.56100000e+04,  1.07544996e+00],\n       [ 3.36319666e+09,  2.56381832e+07,  1.34133331e+00],\n       [ 6.56655157e+09,  9.62221585e+07,  1.10456366e+00],\n       [ 2.15906700e+06,  3.03600000e+04,  7.81857177e-01],\n       [ 2.32207039e+09,  4.58218038e+07,  2.27329886e-01],\n       [ 2.79532100e+06,  6.52900000e+04,  1.55987096e-02],\n       [ 6.39070000e+05,  2.59000000e+03,  1.36293169e+00],\n       [ 1.88316200e+06,  6.45700000e+04, -9.13789514e-01],\n       [ 6.58391000e+05,  3.29000000e+01,  1.38394373e+00],\n       [ 3.92390000e+04,  5.00000000e+01,  1.48915433e+00],\n       [ 3.73447870e+07,  4.46550000e+05,  1.16956954e+00],\n       [ 3.95200000e+04,  7.49200000e+01,  7.00830658e-01],\n       [ 2.57392800e+06,  3.38500000e+04, -1.79300945e+00],\n       [ 2.84273330e+07,  5.87295000e+05,  2.62429751e+00],\n       [ 5.43620000e+05,  3.00000000e+02,  5.67813347e-01],\n       [ 4.72494995e+08,  1.13855509e+07,  1.71192673e+00],\n       [ 1.30262220e+08,  1.96437500e+06,  1.02585219e+00],\n       [ 5.96180000e+04,  1.80000000e+02,  7.13735650e-01],\n       [ 5.86462460e+09,  8.02355921e+07,  9.17962324e-01],\n       [ 2.06509200e+06,  2.57100000e+04, -3.59578822e-01],\n       [ 2.08557240e+07,  1.24019000e+06,  2.94324651e+00],\n       [ 5.16869000e+05,  3.20000000e+02,  2.97810433e-01],\n       [ 5.48060140e+07,  6.76590000e+05,  7.25575804e-01],\n       [ 4.03051615e+08,  8.77523300e+06,  1.74272614e+00],\n       [ 6.20173000e+05,  1.38100000e+04, -1.82524282e-01],\n       [ 3.32928200e+06,  1.56411600e+06,  1.54341101e+00],\n       [ 5.79100000e+04,  4.60000000e+02,  6.11432010e-01],\n       [ 3.21630450e+07,  7.99380000e+05,  2.86248416e+00],\n       [ 4.77511000e+06,  1.03070000e+06,  2.66229117e+00],\n       [ 1.26606000e+06,  2.04000000e+03,  2.52784581e-02],\n       [ 1.96476810e+07,  1.18480000e+05,  2.67038850e+00],\n       [ 3.27761950e+07,  3.30345000e+05,  1.25940624e+00],\n       [ 3.70203720e+08,  1.97155500e+07,  1.62754182e-01],\n       [ 2.58734400e+06,  8.24290000e+05,  1.81072210e+00],\n       [ 2.72620000e+05,  1.85800000e+04,  2.42388748e-01],\n       [ 2.51308100e+07,  1.26700000e+06,  3.74677730e+00],\n       [ 2.11400704e+08,  9.23770000e+05,  2.52018575e+00],\n       [ 6.70237900e+06,  1.30370000e+05,  1.16794891e+00],\n       [ 1.75334050e+07,  4.15400000e+04,  5.25549456e-01],\n       [ 5.40832000e+06,  6.25221590e+05,  5.34772282e-01],\n       [ 2.96749200e+07,  1.47180000e+05,  1.82999900e+00],\n       [ 1.08730000e+04,  2.00000000e+01,  3.59331478e-01],\n       [ 5.12260000e+06,  2.67710000e+05,  6.34500014e-01],\n       [ 1.37582028e+09,  3.76587999e+07,  2.06855131e-01],\n       [ 5.22337600e+06,  3.09500000e+05,  2.26058073e+00],\n       [ 3.24642820e+07,  2.07282100e+06,  1.67367050e+00],\n       [ 2.25199929e+08,  7.96100000e+05,  1.93131882e+00],\n       [ 4.38158300e+06,  7.53200000e+04,  1.53665175e+00],\n       [ 3.33594160e+07,  1.28522000e+06,  1.16860255e+00],\n       [ 1.11046910e+08,  3.00000000e+05,  1.32879471e+00],\n       [ 1.81740000e+04,  4.60000000e+02,  4.52214966e-01],\n       [ 9.11900500e+06,  4.62840000e+05,  1.90393989e+00],\n       [ 3.77810240e+07,  3.12690000e+05, -3.11960753e-01],\n       [ 9.97158227e+08,  2.06503200e+07,  2.71556176e+00],\n       [ 3.26358400e+06,  8.87000000e+03, -5.48623694e-01],\n       [ 2.58870450e+07,  1.20540000e+05,  4.18961993e-01],\n       [ 1.02994230e+07,  9.22256000e+04,  2.27417236e-02],\n       [ 7.21964100e+06,  4.06752000e+05,  1.21392185e+00],\n       [ 4.92274900e+06,  6.02000000e+03,  2.45703865e+00],\n       [ 2.56649400e+06,  6.51500000e+04,  1.48424766e+00],\n       [ 1.11665520e+09,  3.34669068e+07, -5.57446750e-02],\n       [ 2.82534000e+05,  4.00000000e+03,  5.78592337e-01],\n       [ 2.93052400e+06,  1.14900000e+04,  1.70229646e+00],\n       [ 1.91151460e+07,  2.38400000e+05, -7.42062870e-01],\n       [ 1.43446060e+08,  1.70982500e+07, -4.36200432e-01],\n       [ 1.32765170e+07,  2.63400000e+04,  2.47304828e+00],\n       [ 1.87790232e+09,  5.13526900e+06,  1.13200071e+00],\n       [ 3.53406800e+07,  2.14969000e+06,  1.50189239e+00],\n       [ 4.49093510e+07,  1.85410541e+06,  2.38879877e+00],\n       [ 1.71963080e+07,  1.96710000e+05,  2.66589051e+00],\n       [ 5.45356600e+06,  7.19000000e+02, -4.17033630e+00],\n       [ 7.03995000e+05,  2.89000000e+04,  2.46145611e+00],\n       [ 8.14134300e+06,  7.23000000e+04,  2.03946336e+00],\n       [ 6.51850000e+06,  2.10400000e+04,  4.96729089e-01],\n       [ 3.40100000e+04,  6.00000000e+01,  2.11926847e-01],\n       [ 1.63595000e+07,  6.37660000e+05,  2.89162281e+00],\n       [ 6.84407800e+06,  8.83600000e+04, -8.01098410e-01],\n       [ 1.16546478e+09,  2.42869674e+07,  2.59839921e+00],\n       [ 1.13813770e+07,  6.33906576e+05,  1.66247124e+00],\n       [ 1.16556399e+09,  2.42874274e+07,  2.59823914e+00],\n       [ 4.25124070e+07,  2.57296100e+06,  1.45885564e+00],\n       [ 2.23364000e+05,  9.60000000e+02,  1.89961082e+00],\n       [ 5.91798000e+05,  1.63820000e+05,  8.76424444e-01],\n       [ 5.44724700e+06,  4.90300000e+04, -2.12358808e-01],\n       [ 2.10700700e+06,  2.04800000e+04,  2.17987052e-01],\n       [ 1.04158110e+07,  4.47430000e+05,  6.00591533e-01],\n       [ 1.17236900e+06,  1.73600000e+04,  1.04651136e+00],\n       [ 4.28460000e+04,  3.40000000e+01,  1.25888271e+00],\n       [ 9.92020000e+04,  4.60000000e+02,  7.48748844e-01],\n       [ 1.82757040e+07,  1.85180000e+05,  4.33341044e+00],\n       [ 3.92260000e+04,  9.50000000e+02,  1.30351841e+00],\n       [ 1.69149850e+07,  1.28400000e+06,  2.93430541e+00],\n       [ 2.09615504e+09,  1.61929761e+07,  3.81610347e-01],\n       [ 4.62624055e+08,  2.38758960e+07,  1.13350293e-01],\n       [ 8.47824200e+06,  5.67900000e+04,  2.38126965e+00],\n       [ 6.99508440e+07,  5.13120000e+05,  2.15907222e-01],\n       [ 9.74962500e+06,  1.41380000e+05,  2.19825376e+00],\n       [ 6.11793300e+06,  4.88100000e+05,  1.42804539e+00],\n       [ 6.42239838e+08,  2.02904970e+07,  9.02916363e-01],\n       [ 1.34387500e+06,  1.48700000e+04,  1.91064954e+00],\n       [ 3.98128866e+08,  8.76921300e+06,  1.73358530e+00],\n       [ 1.06759000e+05,  7.50000000e+02,  9.99744743e-01],\n       [ 1.87790232e+09,  5.13526900e+06,  1.13200071e+00],\n       [ 1.16556399e+09,  2.42874274e+07,  2.59823914e+00],\n       [ 1.40337400e+06,  5.13000000e+03,  2.77073814e-01],\n       [ 1.19357640e+07,  1.63610000e+05,  9.86318648e-01],\n       [ 8.50427360e+07,  7.85350000e+05,  8.30872072e-01],\n       [ 1.19250000e+04,  3.00000000e+01,  1.12157013e+00],\n       [ 6.14984380e+07,  9.47300000e+05,  2.91068378e+00],\n       [ 4.71235330e+07,  2.41550000e+05,  2.97774643e+00],\n       [ 4.38145810e+07,  6.03550000e+05, -7.21959168e-01],\n       [ 2.50142794e+09,  5.45974089e+07,  3.54279709e-01],\n       [ 3.48515200e+06,  1.76220000e+05,  3.28357779e-01],\n       [ 3.31893745e+08,  9.83151000e+06,  1.18380497e-01],\n       [ 3.49151000e+07,  4.48924000e+05,  1.97570607e+00],\n       [ 1.11269000e+05,  3.90000000e+02,  2.89808317e-01],\n       [ 2.87049470e+07,  9.12050000e+05,  9.41553369e-01],\n       [ 3.04230000e+04,  1.50000000e+02,  6.13256126e-01],\n       [ 1.05870000e+05,  3.50000000e+02, -3.95928119e-01],\n       [ 9.81688290e+07,  3.31230000e+05,  8.49329427e-01],\n       [ 3.14464000e+05,  1.21900000e+04,  2.35333746e+00],\n       [ 7.83663079e+09,  1.34542704e+08,  9.36356519e-01],\n       [ 2.00144000e+05,  2.84000000e+03,  8.70151067e-01],\n       [ 1.80627900e+06,  5.33768357e+06,  8.97900934e-01],\n       [ 3.04906390e+07,  5.27970000e+05,  2.20402950e+00],\n       [ 6.00419960e+07,  1.21909000e+06,  1.22884124e+00],\n       [ 1.89206570e+07,  7.52610000e+05,  2.87759605e+00],\n       [ 1.50921710e+07,  3.90760000e+05,  1.53061409e+00]])"
     },
     "execution_count": 8,
     "metadata": {},
     "output_type": "execute_result"
    }
   ],
   "source": [
    "new_data=i.transform(data)\n",
    "new_data"
   ],
   "metadata": {
    "collapsed": false,
    "pycharm": {
     "name": "#%%\n"
    }
   }
  },
  {
   "cell_type": "code",
   "execution_count": 9,
   "outputs": [
    {
     "data": {
      "text/plain": "Index(['Aruba', 'Africa Eastern and Southern', 'Afghanistan',\n       'Africa Western and Central', 'Angola', 'Albania', 'Andorra',\n       'Arab World', 'United Arab Emirates', 'Argentina',\n       ...\n       'Virgin Islands (U.S.)', 'Vietnam', 'Vanuatu', 'World', 'Samoa',\n       'Kosovo', 'Yemen, Rep.', 'South Africa', 'Zambia', 'Zimbabwe'],\n      dtype='object', length=265)"
     },
     "execution_count": 9,
     "metadata": {},
     "output_type": "execute_result"
    }
   ],
   "source": [
    "ind=data.index\n",
    "col=data.columns\n",
    "ind"
   ],
   "metadata": {
    "collapsed": false,
    "pycharm": {
     "name": "#%%\n"
    }
   }
  },
  {
   "cell_type": "code",
   "execution_count": 10,
   "outputs": [
    {
     "data": {
      "text/plain": "Index(['population', 'area', 'pop_growth'], dtype='object')"
     },
     "execution_count": 10,
     "metadata": {},
     "output_type": "execute_result"
    }
   ],
   "source": [
    "col"
   ],
   "metadata": {
    "collapsed": false,
    "pycharm": {
     "name": "#%%\n"
    }
   }
  },
  {
   "cell_type": "code",
   "execution_count": 11,
   "outputs": [
    {
     "data": {
      "text/plain": "                              population          area  pop_growth\nAruba                           107195.0  1.800000e+02    0.401008\nAfrica Eastern and Southern  694665117.0  1.512116e+07    2.572461\nAfghanistan                   39835428.0  6.528600e+05    2.303412\nAfrica Western and Central   470898870.0  9.166270e+06    2.636291\nAngola                        33933611.0  1.246700e+06    3.195916\n...                                  ...           ...         ...\nKosovo                         1806279.0  5.337684e+06    0.897901\nYemen, Rep.                   30490639.0  5.279700e+05    2.204030\nSouth Africa                  60041996.0  1.219090e+06    1.228841\nZambia                        18920657.0  7.526100e+05    2.877596\nZimbabwe                      15092171.0  3.907600e+05    1.530614\n\n[265 rows x 3 columns]",
      "text/html": "<div>\n<style scoped>\n    .dataframe tbody tr th:only-of-type {\n        vertical-align: middle;\n    }\n\n    .dataframe tbody tr th {\n        vertical-align: top;\n    }\n\n    .dataframe thead th {\n        text-align: right;\n    }\n</style>\n<table border=\"1\" class=\"dataframe\">\n  <thead>\n    <tr style=\"text-align: right;\">\n      <th></th>\n      <th>population</th>\n      <th>area</th>\n      <th>pop_growth</th>\n    </tr>\n  </thead>\n  <tbody>\n    <tr>\n      <th>Aruba</th>\n      <td>107195.0</td>\n      <td>1.800000e+02</td>\n      <td>0.401008</td>\n    </tr>\n    <tr>\n      <th>Africa Eastern and Southern</th>\n      <td>694665117.0</td>\n      <td>1.512116e+07</td>\n      <td>2.572461</td>\n    </tr>\n    <tr>\n      <th>Afghanistan</th>\n      <td>39835428.0</td>\n      <td>6.528600e+05</td>\n      <td>2.303412</td>\n    </tr>\n    <tr>\n      <th>Africa Western and Central</th>\n      <td>470898870.0</td>\n      <td>9.166270e+06</td>\n      <td>2.636291</td>\n    </tr>\n    <tr>\n      <th>Angola</th>\n      <td>33933611.0</td>\n      <td>1.246700e+06</td>\n      <td>3.195916</td>\n    </tr>\n    <tr>\n      <th>...</th>\n      <td>...</td>\n      <td>...</td>\n      <td>...</td>\n    </tr>\n    <tr>\n      <th>Kosovo</th>\n      <td>1806279.0</td>\n      <td>5.337684e+06</td>\n      <td>0.897901</td>\n    </tr>\n    <tr>\n      <th>Yemen, Rep.</th>\n      <td>30490639.0</td>\n      <td>5.279700e+05</td>\n      <td>2.204030</td>\n    </tr>\n    <tr>\n      <th>South Africa</th>\n      <td>60041996.0</td>\n      <td>1.219090e+06</td>\n      <td>1.228841</td>\n    </tr>\n    <tr>\n      <th>Zambia</th>\n      <td>18920657.0</td>\n      <td>7.526100e+05</td>\n      <td>2.877596</td>\n    </tr>\n    <tr>\n      <th>Zimbabwe</th>\n      <td>15092171.0</td>\n      <td>3.907600e+05</td>\n      <td>1.530614</td>\n    </tr>\n  </tbody>\n</table>\n<p>265 rows × 3 columns</p>\n</div>"
     },
     "execution_count": 11,
     "metadata": {},
     "output_type": "execute_result"
    }
   ],
   "source": [
    "new_data=pd.DataFrame(new_data,index=ind,columns=col)\n",
    "new_data"
   ],
   "metadata": {
    "collapsed": false,
    "pycharm": {
     "name": "#%%\n"
    }
   }
  },
  {
   "cell_type": "code",
   "execution_count": null,
   "outputs": [],
   "source": [],
   "metadata": {
    "collapsed": false,
    "pycharm": {
     "name": "#%%\n"
    }
   }
  }
 ],
 "metadata": {
  "kernelspec": {
   "display_name": "Python 3",
   "language": "python",
   "name": "python3"
  },
  "language_info": {
   "codemirror_mode": {
    "name": "ipython",
    "version": 2
   },
   "file_extension": ".py",
   "mimetype": "text/x-python",
   "name": "python",
   "nbconvert_exporter": "python",
   "pygments_lexer": "ipython2",
   "version": "2.7.6"
  }
 },
 "nbformat": 4,
 "nbformat_minor": 0
}