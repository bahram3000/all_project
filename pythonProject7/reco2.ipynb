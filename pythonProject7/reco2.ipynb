{
 "cells": [
  {
   "cell_type": "code",
   "execution_count": 30,
   "metadata": {
    "collapsed": true,
    "pycharm": {
     "name": "#%%\n"
    }
   },
   "outputs": [],
   "source": [
    "class FileHandle():\n",
    "    def __init__(self):\n",
    "        pass\n",
    "\n",
    "    def readline(self, path):\n",
    "        file = open(path, mode='r', encoding='utf8')\n",
    "        content = []\n",
    "        while True:\n",
    "            content.append(file.readline())\n",
    "            if file.readline() == '':\n",
    "                if file.readline() == \"\":\n",
    "                    if file.readline() == '':\n",
    "                        file.close()\n",
    "                        break\n",
    "        return ''.join(content)\n",
    "\n",
    "    def copy_paste(self, path1, path2):\n",
    "        contetnt = self.readline(path1)\n",
    "        file=open(path2,mode='w',encoding='utf8')\n",
    "        file.write(contetnt)\n",
    "        file.close()"
   ]
  },
  {
   "cell_type": "code",
   "execution_count": 31,
   "outputs": [],
   "source": [
    "f = FileHandle()"
   ],
   "metadata": {
    "collapsed": false,
    "pycharm": {
     "name": "#%%\n"
    }
   }
  },
  {
   "cell_type": "code",
   "execution_count": 32,
   "outputs": [
    {
     "data": {
      "text/plain": "'https://dl.farachart.com/movie/AlgorithmicTrading_SaghiZadeh/00_AlgorithmicTrading_SaghiZadeh.mp4\\nhttps://dl.farachart.com/movie/AlgorithmicTrading_SaghiZadeh/04_AlgorithmicTrading_SaghiZadeh.mp4\\nhttps://dl.farachart.com/movie/AlgorithmicTrading_SaghiZadeh/08_AlgorithmicTrading_SaghiZadeh.mp4\\nhttps://dl.farachart.com/movie/AlgorithmicTrading_SaghiZadeh/12_AlgorithmicTrading_SaghiZadeh.mp4\\nhttps://dl.farachart.com/movie/AlgorithmicTrading_SaghiZadeh/16_AlgorithmicTrading_SaghiZadeh.mp4\\nhttps://dl.farachart.com/movie/AlgorithmicTrading_SaghiZadeh/20_AlgorithmicTrading_SaghiZadeh.mp4\\n'"
     },
     "execution_count": 32,
     "metadata": {},
     "output_type": "execute_result"
    }
   ],
   "source": [
    "f.readline(\"C:\\\\Users\\ADMIN\\Desktop\\\\1.txt\")"
   ],
   "metadata": {
    "collapsed": false,
    "pycharm": {
     "name": "#%%\n"
    }
   }
  },
  {
   "cell_type": "code",
   "execution_count": 33,
   "outputs": [],
   "source": [
    "f.copy_paste(\"C:\\\\Users\\ADMIN\\Desktop\\\\1.txt\",\"C:\\\\Users\\ADMIN\\Desktop\\\\2.txt\")"
   ],
   "metadata": {
    "collapsed": false,
    "pycharm": {
     "name": "#%%\n"
    }
   }
  },
  {
   "cell_type": "code",
   "execution_count": 25,
   "outputs": [],
   "source": [],
   "metadata": {
    "collapsed": false,
    "pycharm": {
     "name": "#%%\n"
    }
   }
  },
  {
   "cell_type": "code",
   "execution_count": 8,
   "outputs": [],
   "source": [],
   "metadata": {
    "collapsed": false,
    "pycharm": {
     "name": "#%%\n"
    }
   }
  },
  {
   "cell_type": "code",
   "execution_count": null,
   "outputs": [],
   "source": [],
   "metadata": {
    "collapsed": false,
    "pycharm": {
     "name": "#%%\n"
    }
   }
  }
 ],
 "metadata": {
  "kernelspec": {
   "display_name": "Python 3",
   "language": "python",
   "name": "python3"
  },
  "language_info": {
   "codemirror_mode": {
    "name": "ipython",
    "version": 2
   },
   "file_extension": ".py",
   "mimetype": "text/x-python",
   "name": "python",
   "nbconvert_exporter": "python",
   "pygments_lexer": "ipython2",
   "version": "2.7.6"
  }
 },
 "nbformat": 4,
 "nbformat_minor": 0
}