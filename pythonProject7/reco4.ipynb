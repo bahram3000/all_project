{
 "cells": [
  {
   "cell_type": "code",
   "execution_count": 1,
   "metadata": {
    "collapsed": true,
    "pycharm": {
     "name": "#%%\n"
    }
   },
   "outputs": [],
   "source": [
    "import math\n",
    "\n",
    "import numpy as np"
   ]
  },
  {
   "cell_type": "code",
   "execution_count": 2,
   "outputs": [
    {
     "data": {
      "text/plain": "array([[1, 2, 3],\n       [6, 5, 4]])"
     },
     "execution_count": 2,
     "metadata": {},
     "output_type": "execute_result"
    }
   ],
   "source": [
    "arr1 = np.array([[1, 2, 3], [6, 5, 4]])\n",
    "arr1"
   ],
   "metadata": {
    "collapsed": false,
    "pycharm": {
     "name": "#%%\n"
    }
   }
  },
  {
   "cell_type": "code",
   "execution_count": 3,
   "outputs": [
    {
     "data": {
      "text/plain": "(2, 3)"
     },
     "execution_count": 3,
     "metadata": {},
     "output_type": "execute_result"
    }
   ],
   "source": [
    "arr1.shape"
   ],
   "metadata": {
    "collapsed": false,
    "pycharm": {
     "name": "#%%\n"
    }
   }
  },
  {
   "cell_type": "code",
   "execution_count": 4,
   "outputs": [
    {
     "data": {
      "text/plain": "2"
     },
     "execution_count": 4,
     "metadata": {},
     "output_type": "execute_result"
    }
   ],
   "source": [
    "arr1.ndim"
   ],
   "metadata": {
    "collapsed": false,
    "pycharm": {
     "name": "#%%\n"
    }
   }
  },
  {
   "cell_type": "code",
   "execution_count": 5,
   "outputs": [
    {
     "data": {
      "text/plain": "numpy.ndarray"
     },
     "execution_count": 5,
     "metadata": {},
     "output_type": "execute_result"
    }
   ],
   "source": [
    "type(arr1)"
   ],
   "metadata": {
    "collapsed": false,
    "pycharm": {
     "name": "#%%\n"
    }
   }
  },
  {
   "cell_type": "code",
   "execution_count": 6,
   "outputs": [
    {
     "data": {
      "text/plain": "array([[1, 2],\n       [3, 6],\n       [5, 4]])"
     },
     "execution_count": 6,
     "metadata": {},
     "output_type": "execute_result"
    }
   ],
   "source": [
    "arr1.reshape((3, 2))"
   ],
   "metadata": {
    "collapsed": false,
    "pycharm": {
     "name": "#%%\n"
    }
   }
  },
  {
   "cell_type": "code",
   "execution_count": 9,
   "outputs": [
    {
     "data": {
      "text/plain": "array([[0, 2, 3],\n       [6, 5, 4]])"
     },
     "execution_count": 9,
     "metadata": {},
     "output_type": "execute_result"
    }
   ],
   "source": [
    "arr1[0][0] = 0\n",
    "arr1"
   ],
   "metadata": {
    "collapsed": false,
    "pycharm": {
     "name": "#%%\n"
    }
   }
  },
  {
   "cell_type": "code",
   "execution_count": 10,
   "outputs": [
    {
     "data": {
      "text/plain": "0"
     },
     "execution_count": 10,
     "metadata": {},
     "output_type": "execute_result"
    }
   ],
   "source": [
    "arr1[0, 0]"
   ],
   "metadata": {
    "collapsed": false,
    "pycharm": {
     "name": "#%%\n"
    }
   }
  },
  {
   "cell_type": "code",
   "execution_count": 11,
   "outputs": [
    {
     "data": {
      "text/plain": "array([[0., 0., 0., 0.],\n       [0., 0., 0., 0.],\n       [0., 0., 0., 0.],\n       [0., 0., 0., 0.]])"
     },
     "execution_count": 11,
     "metadata": {},
     "output_type": "execute_result"
    }
   ],
   "source": [
    "arr2 = np.zeros(shape=(4, 4))\n",
    "arr2"
   ],
   "metadata": {
    "collapsed": false,
    "pycharm": {
     "name": "#%%\n"
    }
   }
  },
  {
   "cell_type": "code",
   "execution_count": 13,
   "outputs": [
    {
     "data": {
      "text/plain": "array([[[1., 1., 1., 1.],\n        [1., 1., 1., 1.],\n        [1., 1., 1., 1.]],\n\n       [[1., 1., 1., 1.],\n        [1., 1., 1., 1.],\n        [1., 1., 1., 1.]]])"
     },
     "execution_count": 13,
     "metadata": {},
     "output_type": "execute_result"
    }
   ],
   "source": [
    "arr3 = np.ones(shape=(2, 3, 4))\n",
    "arr3"
   ],
   "metadata": {
    "collapsed": false,
    "pycharm": {
     "name": "#%%\n"
    }
   }
  },
  {
   "cell_type": "code",
   "execution_count": 14,
   "outputs": [
    {
     "data": {
      "text/plain": "array([[1., 1., 1., 1.],\n       [1., 1., 1., 1.],\n       [1., 1., 1., 1.]])"
     },
     "execution_count": 14,
     "metadata": {},
     "output_type": "execute_result"
    }
   ],
   "source": [
    "arr3[0]"
   ],
   "metadata": {
    "collapsed": false,
    "pycharm": {
     "name": "#%%\n"
    }
   }
  },
  {
   "cell_type": "code",
   "execution_count": 15,
   "outputs": [
    {
     "data": {
      "text/plain": "array([[1., 1., 1., 1.],\n       [1., 1., 1., 1.],\n       [1., 1., 1., 1.]])"
     },
     "execution_count": 15,
     "metadata": {},
     "output_type": "execute_result"
    }
   ],
   "source": [
    "np.empty((3, 4))"
   ],
   "metadata": {
    "collapsed": false,
    "pycharm": {
     "name": "#%%\n"
    }
   }
  },
  {
   "cell_type": "code",
   "execution_count": 17,
   "outputs": [
    {
     "data": {
      "text/plain": "array([[0, 1, 2, 3, 4],\n       [5, 6, 7, 8, 9]])"
     },
     "execution_count": 17,
     "metadata": {},
     "output_type": "execute_result"
    }
   ],
   "source": [
    "np.arange(0, 10).reshape((2, 5))"
   ],
   "metadata": {
    "collapsed": false,
    "pycharm": {
     "name": "#%%\n"
    }
   }
  },
  {
   "cell_type": "code",
   "execution_count": 24,
   "outputs": [
    {
     "data": {
      "text/plain": "array([0.        , 0.06346652, 0.12693304, 0.19039955, 0.25386607,\n       0.31733259, 0.38079911, 0.44426563, 0.50773215, 0.57119866,\n       0.63466518, 0.6981317 , 0.76159822, 0.82506474, 0.88853126,\n       0.95199777, 1.01546429, 1.07893081, 1.14239733, 1.20586385,\n       1.26933037, 1.33279688, 1.3962634 , 1.45972992, 1.52319644,\n       1.58666296, 1.65012947, 1.71359599, 1.77706251, 1.84052903,\n       1.90399555, 1.96746207, 2.03092858, 2.0943951 , 2.15786162,\n       2.22132814, 2.28479466, 2.34826118, 2.41172769, 2.47519421,\n       2.53866073, 2.60212725, 2.66559377, 2.72906028, 2.7925268 ,\n       2.85599332, 2.91945984, 2.98292636, 3.04639288, 3.10985939,\n       3.17332591, 3.23679243, 3.30025895, 3.36372547, 3.42719199,\n       3.4906585 , 3.55412502, 3.61759154, 3.68105806, 3.74452458,\n       3.8079911 , 3.87145761, 3.93492413, 3.99839065, 4.06185717,\n       4.12532369, 4.1887902 , 4.25225672, 4.31572324, 4.37918976,\n       4.44265628, 4.5061228 , 4.56958931, 4.63305583, 4.69652235,\n       4.75998887, 4.82345539, 4.88692191, 4.95038842, 5.01385494,\n       5.07732146, 5.14078798, 5.2042545 , 5.26772102, 5.33118753,\n       5.39465405, 5.45812057, 5.52158709, 5.58505361, 5.64852012,\n       5.71198664, 5.77545316, 5.83891968, 5.9023862 , 5.96585272,\n       6.02931923, 6.09278575, 6.15625227, 6.21971879, 6.28318531])"
     },
     "execution_count": 24,
     "metadata": {},
     "output_type": "execute_result"
    }
   ],
   "source": [
    "np.linspace(0, 2 * np.pi, 100)"
   ],
   "metadata": {
    "collapsed": false,
    "pycharm": {
     "name": "#%%\n"
    }
   }
  },
  {
   "cell_type": "code",
   "execution_count": 26,
   "outputs": [
    {
     "data": {
      "text/plain": "array([ 0.00000000e+00,  3.15685498e-02,  6.31056313e-02,  9.45798078e-02,\n        1.25959705e-01,  1.57214043e-01,  1.88311666e-01,  2.19221577e-01,\n        2.49912962e-01,  2.80355229e-01,  3.10518032e-01,  3.40371303e-01,\n        3.69885285e-01,  3.99030558e-01,  4.27778068e-01,  4.56099159e-01,\n        4.83965601e-01,  5.11349616e-01,  5.38223906e-01,  5.64561683e-01,\n        5.90336692e-01,  6.15523241e-01,  6.40096223e-01,  6.64031143e-01,\n        6.87304143e-01,  7.09892022e-01,  7.31772266e-01,  7.52923064e-01,\n        7.73323331e-01,  7.92952733e-01,  8.11791702e-01,  8.29821460e-01,\n        8.47024034e-01,  8.63382275e-01,  8.78879879e-01,  8.93501396e-01,\n        9.07232251e-01,  9.20058757e-01,  9.31968129e-01,  9.42948495e-01,\n        9.52988909e-01,  9.62079363e-01,  9.70210796e-01,  9.77375101e-01,\n        9.83565137e-01,  9.88774735e-01,  9.92998700e-01,  9.96232822e-01,\n        9.98473878e-01,  9.99719634e-01,  9.99968847e-01,  9.99221269e-01,\n        9.97477646e-01,  9.94739716e-01,  9.91010207e-01,  9.86292838e-01,\n        9.80592311e-01,  9.73914308e-01,  9.66265486e-01,  9.57653470e-01,\n        9.48086844e-01,  9.37575144e-01,  9.26128849e-01,  9.13759368e-01,\n        9.00479032e-01,  8.86301080e-01,  8.71239643e-01,  8.55309735e-01,\n        8.38527236e-01,  8.20908875e-01,  8.02472214e-01,  7.83235632e-01,\n        7.63218303e-01,  7.42440181e-01,  7.20921979e-01,  6.98685146e-01,\n        6.75751849e-01,  6.52144947e-01,  6.27887973e-01,  6.03005107e-01,\n        5.77521152e-01,  5.51461512e-01,  5.24852163e-01,  4.97719629e-01,\n        4.70090958e-01,  4.41993691e-01,  4.13455834e-01,  3.84505835e-01,\n        3.55172553e-01,  3.25485227e-01,  2.95473450e-01,  2.65167138e-01,\n        2.34596503e-01,  2.03792016e-01,  1.72784385e-01,  1.41604519e-01,\n        1.10283499e-01,  7.88525454e-02,  4.73429900e-02,  1.57862420e-02,\n       -1.57862420e-02, -4.73429900e-02, -7.88525454e-02, -1.10283499e-01,\n       -1.41604519e-01, -1.72784385e-01, -2.03792016e-01, -2.34596503e-01,\n       -2.65167138e-01, -2.95473450e-01, -3.25485227e-01, -3.55172553e-01,\n       -3.84505835e-01, -4.13455834e-01, -4.41993691e-01, -4.70090958e-01,\n       -4.97719629e-01, -5.24852163e-01, -5.51461512e-01, -5.77521152e-01,\n       -6.03005107e-01, -6.27887973e-01, -6.52144947e-01, -6.75751849e-01,\n       -6.98685146e-01, -7.20921979e-01, -7.42440181e-01, -7.63218303e-01,\n       -7.83235632e-01, -8.02472214e-01, -8.20908875e-01, -8.38527236e-01,\n       -8.55309735e-01, -8.71239643e-01, -8.86301080e-01, -9.00479032e-01,\n       -9.13759368e-01, -9.26128849e-01, -9.37575144e-01, -9.48086844e-01,\n       -9.57653470e-01, -9.66265486e-01, -9.73914308e-01, -9.80592311e-01,\n       -9.86292838e-01, -9.91010207e-01, -9.94739716e-01, -9.97477646e-01,\n       -9.99221269e-01, -9.99968847e-01, -9.99719634e-01, -9.98473878e-01,\n       -9.96232822e-01, -9.92998700e-01, -9.88774735e-01, -9.83565137e-01,\n       -9.77375101e-01, -9.70210796e-01, -9.62079363e-01, -9.52988909e-01,\n       -9.42948495e-01, -9.31968129e-01, -9.20058757e-01, -9.07232251e-01,\n       -8.93501396e-01, -8.78879879e-01, -8.63382275e-01, -8.47024034e-01,\n       -8.29821460e-01, -8.11791702e-01, -7.92952733e-01, -7.73323331e-01,\n       -7.52923064e-01, -7.31772266e-01, -7.09892022e-01, -6.87304143e-01,\n       -6.64031143e-01, -6.40096223e-01, -6.15523241e-01, -5.90336692e-01,\n       -5.64561683e-01, -5.38223906e-01, -5.11349616e-01, -4.83965601e-01,\n       -4.56099159e-01, -4.27778068e-01, -3.99030558e-01, -3.69885285e-01,\n       -3.40371303e-01, -3.10518032e-01, -2.80355229e-01, -2.49912962e-01,\n       -2.19221577e-01, -1.88311666e-01, -1.57214043e-01, -1.25959705e-01,\n       -9.45798078e-02, -6.31056313e-02, -3.15685498e-02, -2.44929360e-16])"
     },
     "execution_count": 26,
     "metadata": {},
     "output_type": "execute_result"
    }
   ],
   "source": [
    "np.sin(np.linspace(0, 2 * np.pi, 200))"
   ],
   "metadata": {
    "collapsed": false,
    "pycharm": {
     "name": "#%%\n"
    }
   }
  },
  {
   "cell_type": "code",
   "execution_count": 27,
   "outputs": [],
   "source": [
    "ar1 = np.arange(0, 9).reshape((3, 3))\n",
    "ar2 = np.arange(9, 18).reshape((3, 3))"
   ],
   "metadata": {
    "collapsed": false,
    "pycharm": {
     "name": "#%%\n"
    }
   }
  },
  {
   "cell_type": "code",
   "execution_count": 30,
   "outputs": [],
   "source": [
    "del arr1, arr2, arr3"
   ],
   "metadata": {
    "collapsed": false,
    "pycharm": {
     "name": "#%%\n"
    }
   }
  },
  {
   "cell_type": "code",
   "execution_count": 31,
   "outputs": [
    {
     "data": {
      "text/plain": "array([[0, 1, 2],\n       [3, 4, 5],\n       [6, 7, 8]])"
     },
     "execution_count": 31,
     "metadata": {},
     "output_type": "execute_result"
    }
   ],
   "source": [
    "ar1"
   ],
   "metadata": {
    "collapsed": false,
    "pycharm": {
     "name": "#%%\n"
    }
   }
  },
  {
   "cell_type": "code",
   "execution_count": 32,
   "outputs": [
    {
     "data": {
      "text/plain": "array([[ 9, 10, 11],\n       [12, 13, 14],\n       [15, 16, 17]])"
     },
     "execution_count": 32,
     "metadata": {},
     "output_type": "execute_result"
    }
   ],
   "source": [
    "ar2"
   ],
   "metadata": {
    "collapsed": false,
    "pycharm": {
     "name": "#%%\n"
    }
   }
  },
  {
   "cell_type": "code",
   "execution_count": 34,
   "outputs": [
    {
     "data": {
      "text/plain": "array([[ 9, 11, 13],\n       [15, 17, 19],\n       [21, 23, 25]])"
     },
     "execution_count": 34,
     "metadata": {},
     "output_type": "execute_result"
    }
   ],
   "source": [
    "ar1 + ar2"
   ],
   "metadata": {
    "collapsed": false,
    "pycharm": {
     "name": "#%%\n"
    }
   }
  },
  {
   "cell_type": "code",
   "execution_count": 35,
   "outputs": [
    {
     "data": {
      "text/plain": "array([[ 0,  1,  4],\n       [ 9, 16, 25],\n       [36, 49, 64]])"
     },
     "execution_count": 35,
     "metadata": {},
     "output_type": "execute_result"
    }
   ],
   "source": [
    "ar1 ** 2"
   ],
   "metadata": {
    "collapsed": false,
    "pycharm": {
     "name": "#%%\n"
    }
   }
  },
  {
   "cell_type": "code",
   "execution_count": 38,
   "outputs": [
    {
     "data": {
      "text/plain": "array([[False, False, False],\n       [False, False, False],\n       [ True,  True,  True]])"
     },
     "execution_count": 38,
     "metadata": {},
     "output_type": "execute_result"
    }
   ],
   "source": [
    "ar1 > 5"
   ],
   "metadata": {
    "collapsed": false,
    "pycharm": {
     "name": "#%%\n"
    }
   }
  },
  {
   "cell_type": "code",
   "execution_count": 37,
   "outputs": [
    {
     "data": {
      "text/plain": "array([6, 7, 8])"
     },
     "execution_count": 37,
     "metadata": {},
     "output_type": "execute_result"
    }
   ],
   "source": [
    "ar1[ar1 > 5]"
   ],
   "metadata": {
    "collapsed": false,
    "pycharm": {
     "name": "#%%\n"
    }
   }
  },
  {
   "cell_type": "code",
   "execution_count": 39,
   "outputs": [
    {
     "data": {
      "text/plain": "array([[ 42,  45,  48],\n       [150, 162, 174],\n       [258, 279, 300]])"
     },
     "execution_count": 39,
     "metadata": {},
     "output_type": "execute_result"
    }
   ],
   "source": [
    "ar1 @ ar2"
   ],
   "metadata": {
    "collapsed": false,
    "pycharm": {
     "name": "#%%\n"
    }
   }
  },
  {
   "cell_type": "code",
   "execution_count": 40,
   "outputs": [
    {
     "data": {
      "text/plain": "array([[  0,  10,  22],\n       [ 36,  52,  70],\n       [ 90, 112, 136]])"
     },
     "execution_count": 40,
     "metadata": {},
     "output_type": "execute_result"
    }
   ],
   "source": [
    "ar1 * ar2"
   ],
   "metadata": {
    "collapsed": false,
    "pycharm": {
     "name": "#%%\n"
    }
   }
  },
  {
   "cell_type": "code",
   "execution_count": 41,
   "outputs": [
    {
     "data": {
      "text/plain": "array([[ 42,  45,  48],\n       [150, 162, 174],\n       [258, 279, 300]])"
     },
     "execution_count": 41,
     "metadata": {},
     "output_type": "execute_result"
    }
   ],
   "source": [
    "np.dot(ar1, ar2)"
   ],
   "metadata": {
    "collapsed": false,
    "pycharm": {
     "name": "#%%\n"
    }
   }
  },
  {
   "cell_type": "code",
   "execution_count": 42,
   "outputs": [
    {
     "data": {
      "text/plain": "array([ 9, 12, 15])"
     },
     "execution_count": 42,
     "metadata": {},
     "output_type": "execute_result"
    }
   ],
   "source": [
    "ar1.sum(axis=0)"
   ],
   "metadata": {
    "collapsed": false,
    "pycharm": {
     "name": "#%%\n"
    }
   }
  },
  {
   "cell_type": "code",
   "execution_count": 43,
   "outputs": [
    {
     "data": {
      "text/plain": "array([[1.00000000e+00, 2.71828183e+00, 7.38905610e+00],\n       [2.00855369e+01, 5.45981500e+01, 1.48413159e+02],\n       [4.03428793e+02, 1.09663316e+03, 2.98095799e+03]])"
     },
     "execution_count": 43,
     "metadata": {},
     "output_type": "execute_result"
    }
   ],
   "source": [
    "np.exp(ar1)"
   ],
   "metadata": {
    "collapsed": false,
    "pycharm": {
     "name": "#%%\n"
    }
   }
  },
  {
   "cell_type": "code",
   "execution_count": 44,
   "outputs": [
    {
     "data": {
      "text/plain": "array([[3.        , 3.16227766, 3.31662479],\n       [3.46410162, 3.60555128, 3.74165739],\n       [3.87298335, 4.        , 4.12310563]])"
     },
     "execution_count": 44,
     "metadata": {},
     "output_type": "execute_result"
    }
   ],
   "source": [
    "np.sqrt(ar2)"
   ],
   "metadata": {
    "collapsed": false,
    "pycharm": {
     "name": "#%%\n"
    }
   }
  },
  {
   "cell_type": "code",
   "execution_count": 45,
   "outputs": [
    {
     "data": {
      "text/plain": "array([[0.        , 1.        , 1.25992105],\n       [1.44224957, 1.58740105, 1.70997595],\n       [1.81712059, 1.91293118, 2.        ]])"
     },
     "execution_count": 45,
     "metadata": {},
     "output_type": "execute_result"
    }
   ],
   "source": [
    "np.power(ar1, 1 / 3)"
   ],
   "metadata": {
    "collapsed": false,
    "pycharm": {
     "name": "#%%\n"
    }
   }
  },
  {
   "cell_type": "code",
   "execution_count": 47,
   "outputs": [
    {
     "data": {
      "text/plain": "array([[0, 1, 2],\n       [3, 4, 5],\n       [6, 7, 8]])"
     },
     "execution_count": 47,
     "metadata": {},
     "output_type": "execute_result"
    }
   ],
   "source": [
    "ar1"
   ],
   "metadata": {
    "collapsed": false,
    "pycharm": {
     "name": "#%%\n"
    }
   }
  },
  {
   "cell_type": "code",
   "execution_count": 46,
   "outputs": [
    {
     "data": {
      "text/plain": "array([[0, 0, 0],\n       [1, 1, 1],\n       [2, 2, 2]], dtype=int64)"
     },
     "execution_count": 46,
     "metadata": {},
     "output_type": "execute_result"
    }
   ],
   "source": [
    "np.argsort(ar1, axis=0)"
   ],
   "metadata": {
    "collapsed": false,
    "pycharm": {
     "name": "#%%\n"
    }
   }
  },
  {
   "cell_type": "code",
   "execution_count": 48,
   "outputs": [
    {
     "data": {
      "text/plain": "array([[0, 1, 2],\n       [0, 1, 2],\n       [0, 1, 2]], dtype=int64)"
     },
     "execution_count": 48,
     "metadata": {},
     "output_type": "execute_result"
    }
   ],
   "source": [
    "np.argsort(ar1, axis=1)"
   ],
   "metadata": {
    "collapsed": false,
    "pycharm": {
     "name": "#%%\n"
    }
   }
  },
  {
   "cell_type": "code",
   "execution_count": 53,
   "outputs": [
    {
     "data": {
      "text/plain": "(array([0, 0, 0, 1, 1], dtype=int64), array([0, 1, 2, 0, 1], dtype=int64))"
     },
     "execution_count": 53,
     "metadata": {},
     "output_type": "execute_result"
    }
   ],
   "source": [
    "np.where(ar1 < 5)"
   ],
   "metadata": {
    "collapsed": false,
    "pycharm": {
     "name": "#%%\n"
    }
   }
  },
  {
   "cell_type": "code",
   "execution_count": 51,
   "outputs": [
    {
     "data": {
      "text/plain": "array([[ 0,  1,  2],\n       [ 3,  4, 50],\n       [60, 70, 80]])"
     },
     "execution_count": 51,
     "metadata": {},
     "output_type": "execute_result"
    }
   ],
   "source": [
    "np.where(ar1 < 5, ar1, ar1 * 10)"
   ],
   "metadata": {
    "collapsed": false,
    "pycharm": {
     "name": "#%%\n"
    }
   }
  },
  {
   "cell_type": "code",
   "execution_count": 3,
   "outputs": [
    {
     "data": {
      "text/plain": "array([[15.21029101, 14.45327944, 15.5347892 , 19.05956609, 14.95339208,\n        17.66655773, 17.33004528, 15.75168876, 18.79560041, 18.23600818],\n       [16.76728283, 14.63553957, 14.51589027, 17.34070298, 13.33500975,\n        12.96169688, 15.39612215, 16.10293572, 17.86656687, 16.87673936],\n       [14.5504052 , 18.32509036, 10.6663457 , 14.2041881 , 17.69747412,\n        15.15484629, 14.39583467, 15.14363498, 13.26173963, 17.61823163],\n       [15.45664759, 17.18086347, 15.58194201, 16.13093568, 15.4610119 ,\n        14.90880144, 13.39325348, 13.2667868 , 16.8921439 , 15.28078015],\n       [17.07307066, 16.49986675, 13.61557886, 15.09884043, 12.91350431,\n        14.54262671, 15.53423563, 14.42467574, 15.79035317, 15.06627115]])"
     },
     "execution_count": 3,
     "metadata": {},
     "output_type": "execute_result"
    }
   ],
   "source": [
    "ex_ar1 = np.random.normal(15, 5 ** (1 / 2), 50).reshape((5, 10))\n",
    "ex_ar1"
   ],
   "metadata": {
    "collapsed": false,
    "pycharm": {
     "name": "#%%\n"
    }
   }
  },
  {
   "cell_type": "code",
   "execution_count": 13,
   "outputs": [
    {
     "data": {
      "text/plain": "array([[ 0.,  1.,  2.,  3.,  4.,  5.,  6.,  7.,  8.,  9.],\n       [10., 11., 12., 13., 14., 15., 16., 17., 18., 19.],\n       [20., 21., 22., 23., 24., 25., 26., 27., 28., 29.],\n       [30., 31., 32., 33., 34., 35., 36., 37., 38., 39.],\n       [40., 41., 42., 43., 44., 45., 46., 47., 48., 49.],\n       [50., 51., 52., 53., 54., 55., 56., 57., 58., 59.],\n       [60., 61., 62., 63., 64., 65., 66., 67., 68., 69.],\n       [70., 71., 72., 73., 74., 75., 76., 77., 78., 79.],\n       [80., 81., 82., 83., 84., 85., 86., 87., 88., 89.],\n       [90., 91., 92., 93., 94., 95., 96., 97., 98., 99.]])"
     },
     "execution_count": 13,
     "metadata": {},
     "output_type": "execute_result"
    }
   ],
   "source": [
    "def f(x, y):\n",
    "    return 10 * x + y\n",
    "\n",
    "\n",
    "b = np.fromfunction(f, (10, 10))\n",
    "b"
   ],
   "metadata": {
    "collapsed": false,
    "pycharm": {
     "name": "#%%\n"
    }
   }
  },
  {
   "cell_type": "code",
   "execution_count": 14,
   "outputs": [
    {
     "data": {
      "text/plain": "array([10., 11., 12., 13., 14., 15., 16., 17., 18., 19.])"
     },
     "execution_count": 14,
     "metadata": {},
     "output_type": "execute_result"
    }
   ],
   "source": [
    "b[1]"
   ],
   "metadata": {
    "collapsed": false,
    "pycharm": {
     "name": "#%%\n"
    }
   }
  },
  {
   "cell_type": "code",
   "execution_count": 15,
   "outputs": [
    {
     "data": {
      "text/plain": "array([ 1., 11., 21., 31., 41., 51., 61., 71., 81., 91.])"
     },
     "execution_count": 15,
     "metadata": {},
     "output_type": "execute_result"
    }
   ],
   "source": [
    "b[:, 1]"
   ],
   "metadata": {
    "collapsed": false,
    "pycharm": {
     "name": "#%%\n"
    }
   }
  },
  {
   "cell_type": "code",
   "execution_count": 16,
   "outputs": [
    {
     "data": {
      "text/plain": "0.0"
     },
     "execution_count": 16,
     "metadata": {},
     "output_type": "execute_result"
    }
   ],
   "source": [
    "b[0][0]"
   ],
   "metadata": {
    "collapsed": false,
    "pycharm": {
     "name": "#%%\n"
    }
   }
  },
  {
   "cell_type": "code",
   "execution_count": 17,
   "outputs": [
    {
     "data": {
      "text/plain": "0.0"
     },
     "execution_count": 17,
     "metadata": {},
     "output_type": "execute_result"
    }
   ],
   "source": [
    "b[0, 0]"
   ],
   "metadata": {
    "collapsed": false,
    "pycharm": {
     "name": "#%%\n"
    }
   }
  },
  {
   "cell_type": "code",
   "execution_count": 18,
   "outputs": [
    {
     "data": {
      "text/plain": "array([ 0., 10., 20., 30., 40.])"
     },
     "execution_count": 18,
     "metadata": {},
     "output_type": "execute_result"
    }
   ],
   "source": [
    "b[:5, 0]"
   ],
   "metadata": {
    "collapsed": false,
    "pycharm": {
     "name": "#%%\n"
    }
   }
  },
  {
   "cell_type": "code",
   "execution_count": 20,
   "outputs": [
    {
     "name": "stdout",
     "output_type": "stream",
     "text": [
      "[0. 1. 2. 3. 4. 5. 6. 7. 8. 9.]\n",
      "[10. 11. 12. 13. 14. 15. 16. 17. 18. 19.]\n",
      "[20. 21. 22. 23. 24. 25. 26. 27. 28. 29.]\n",
      "[30. 31. 32. 33. 34. 35. 36. 37. 38. 39.]\n",
      "[40. 41. 42. 43. 44. 45. 46. 47. 48. 49.]\n",
      "[50. 51. 52. 53. 54. 55. 56. 57. 58. 59.]\n",
      "[60. 61. 62. 63. 64. 65. 66. 67. 68. 69.]\n",
      "[70. 71. 72. 73. 74. 75. 76. 77. 78. 79.]\n",
      "[80. 81. 82. 83. 84. 85. 86. 87. 88. 89.]\n",
      "[90. 91. 92. 93. 94. 95. 96. 97. 98. 99.]\n"
     ]
    }
   ],
   "source": [
    "for i in b:\n",
    "    print(i)"
   ],
   "metadata": {
    "collapsed": false,
    "pycharm": {
     "name": "#%%\n"
    }
   }
  },
  {
   "cell_type": "code",
   "execution_count": 24,
   "outputs": [
    {
     "name": "stdout",
     "output_type": "stream",
     "text": [
      "[ 0.  1.  2.  3.  4.  5.  6.  7.  8.  9. 10. 11. 12. 13. 14. 15. 16. 17.\n",
      " 18. 19. 20. 21. 22. 23. 24. 25. 26. 27. 28. 29. 30. 31. 32. 33. 34. 35.\n",
      " 36. 37. 38. 39. 40. 41. 42. 43. 44. 45. 46. 47. 48. 49. 50. 51. 52. 53.\n",
      " 54. 55. 56. 57. 58. 59. 60. 61. 62. 63. 64. 65. 66. 67. 68. 69. 70. 71.\n",
      " 72. 73. 74. 75. 76. 77. 78. 79. 80. 81. 82. 83. 84. 85. 86. 87. 88. 89.\n",
      " 90. 91. 92. 93. 94. 95. 96. 97. 98. 99.]\n"
     ]
    }
   ],
   "source": [
    "print(b.flat[:])"
   ],
   "metadata": {
    "collapsed": false,
    "pycharm": {
     "name": "#%%\n"
    }
   }
  },
  {
   "cell_type": "code",
   "execution_count": 28,
   "outputs": [
    {
     "data": {
      "text/plain": "array([ 0.,  1.,  2.,  3.,  4.,  5.,  6.,  7.,  8.,  9., 10., 11., 12.,\n       13., 14., 15., 16., 17., 18., 19., 20., 21., 22., 23., 24., 25.,\n       26., 27., 28., 29., 30., 31., 32., 33., 34., 35., 36., 37., 38.,\n       39., 40., 41., 42., 43., 44., 45., 46., 47., 48., 49., 50., 51.,\n       52., 53., 54., 55., 56., 57., 58., 59., 60., 61., 62., 63., 64.,\n       65., 66., 67., 68., 69., 70., 71., 72., 73., 74., 75., 76., 77.,\n       78., 79., 80., 81., 82., 83., 84., 85., 86., 87., 88., 89., 90.,\n       91., 92., 93., 94., 95., 96., 97., 98., 99.])"
     },
     "execution_count": 28,
     "metadata": {},
     "output_type": "execute_result"
    }
   ],
   "source": [
    "b.ravel()"
   ],
   "metadata": {
    "collapsed": false,
    "pycharm": {
     "name": "#%%\n"
    }
   }
  },
  {
   "cell_type": "code",
   "execution_count": 29,
   "outputs": [
    {
     "data": {
      "text/plain": "array([[ 0.],\n       [ 1.],\n       [ 2.],\n       [ 3.],\n       [ 4.],\n       [ 5.],\n       [ 6.],\n       [ 7.],\n       [ 8.],\n       [ 9.],\n       [10.],\n       [11.],\n       [12.],\n       [13.],\n       [14.],\n       [15.],\n       [16.],\n       [17.],\n       [18.],\n       [19.],\n       [20.],\n       [21.],\n       [22.],\n       [23.],\n       [24.],\n       [25.],\n       [26.],\n       [27.],\n       [28.],\n       [29.],\n       [30.],\n       [31.],\n       [32.],\n       [33.],\n       [34.],\n       [35.],\n       [36.],\n       [37.],\n       [38.],\n       [39.],\n       [40.],\n       [41.],\n       [42.],\n       [43.],\n       [44.],\n       [45.],\n       [46.],\n       [47.],\n       [48.],\n       [49.],\n       [50.],\n       [51.],\n       [52.],\n       [53.],\n       [54.],\n       [55.],\n       [56.],\n       [57.],\n       [58.],\n       [59.],\n       [60.],\n       [61.],\n       [62.],\n       [63.],\n       [64.],\n       [65.],\n       [66.],\n       [67.],\n       [68.],\n       [69.],\n       [70.],\n       [71.],\n       [72.],\n       [73.],\n       [74.],\n       [75.],\n       [76.],\n       [77.],\n       [78.],\n       [79.],\n       [80.],\n       [81.],\n       [82.],\n       [83.],\n       [84.],\n       [85.],\n       [86.],\n       [87.],\n       [88.],\n       [89.],\n       [90.],\n       [91.],\n       [92.],\n       [93.],\n       [94.],\n       [95.],\n       [96.],\n       [97.],\n       [98.],\n       [99.]])"
     },
     "execution_count": 29,
     "metadata": {},
     "output_type": "execute_result"
    }
   ],
   "source": [
    "b.reshape(-1, 1)"
   ],
   "metadata": {
    "collapsed": false,
    "pycharm": {
     "name": "#%%\n"
    }
   }
  },
  {
   "cell_type": "code",
   "execution_count": 30,
   "outputs": [
    {
     "data": {
      "text/plain": "array([[ 0., 10., 20., 30., 40., 50., 60., 70., 80., 90.],\n       [ 1., 11., 21., 31., 41., 51., 61., 71., 81., 91.],\n       [ 2., 12., 22., 32., 42., 52., 62., 72., 82., 92.],\n       [ 3., 13., 23., 33., 43., 53., 63., 73., 83., 93.],\n       [ 4., 14., 24., 34., 44., 54., 64., 74., 84., 94.],\n       [ 5., 15., 25., 35., 45., 55., 65., 75., 85., 95.],\n       [ 6., 16., 26., 36., 46., 56., 66., 76., 86., 96.],\n       [ 7., 17., 27., 37., 47., 57., 67., 77., 87., 97.],\n       [ 8., 18., 28., 38., 48., 58., 68., 78., 88., 98.],\n       [ 9., 19., 29., 39., 49., 59., 69., 79., 89., 99.]])"
     },
     "execution_count": 30,
     "metadata": {},
     "output_type": "execute_result"
    }
   ],
   "source": [
    "np.transpose(b)"
   ],
   "metadata": {
    "collapsed": false,
    "pycharm": {
     "name": "#%%\n"
    }
   }
  },
  {
   "cell_type": "code",
   "execution_count": 31,
   "outputs": [
    {
     "data": {
      "text/plain": "array([[ 0., 10., 20., 30., 40., 50., 60., 70., 80., 90.],\n       [ 1., 11., 21., 31., 41., 51., 61., 71., 81., 91.],\n       [ 2., 12., 22., 32., 42., 52., 62., 72., 82., 92.],\n       [ 3., 13., 23., 33., 43., 53., 63., 73., 83., 93.],\n       [ 4., 14., 24., 34., 44., 54., 64., 74., 84., 94.],\n       [ 5., 15., 25., 35., 45., 55., 65., 75., 85., 95.],\n       [ 6., 16., 26., 36., 46., 56., 66., 76., 86., 96.],\n       [ 7., 17., 27., 37., 47., 57., 67., 77., 87., 97.],\n       [ 8., 18., 28., 38., 48., 58., 68., 78., 88., 98.],\n       [ 9., 19., 29., 39., 49., 59., 69., 79., 89., 99.]])"
     },
     "execution_count": 31,
     "metadata": {},
     "output_type": "execute_result"
    }
   ],
   "source": [
    "b.T"
   ],
   "metadata": {
    "collapsed": false,
    "pycharm": {
     "name": "#%%\n"
    }
   }
  },
  {
   "cell_type": "code",
   "execution_count": 32,
   "outputs": [
    {
     "data": {
      "text/plain": "array([[ 0.,  1.,  2.,  3.,  4.,  5.,  6.,  7.,  8.,  9.],\n       [10., 11., 12., 13., 14., 15., 16., 17., 18., 19.],\n       [20., 21., 22., 23., 24., 25., 26., 27., 28., 29.],\n       [30., 31., 32., 33., 34., 35., 36., 37., 38., 39.],\n       [40., 41., 42., 43., 44., 45., 46., 47., 48., 49.],\n       [50., 51., 52., 53., 54., 55., 56., 57., 58., 59.],\n       [60., 61., 62., 63., 64., 65., 66., 67., 68., 69.],\n       [70., 71., 72., 73., 74., 75., 76., 77., 78., 79.],\n       [80., 81., 82., 83., 84., 85., 86., 87., 88., 89.],\n       [90., 91., 92., 93., 94., 95., 96., 97., 98., 99.]])"
     },
     "execution_count": 32,
     "metadata": {},
     "output_type": "execute_result"
    }
   ],
   "source": [
    "b"
   ],
   "metadata": {
    "collapsed": false,
    "pycharm": {
     "name": "#%%\n"
    }
   }
  },
  {
   "cell_type": "code",
   "execution_count": 33,
   "outputs": [],
   "source": [
    "b.resize((5, 20))"
   ],
   "metadata": {
    "collapsed": false,
    "pycharm": {
     "name": "#%%\n"
    }
   }
  },
  {
   "cell_type": "code",
   "execution_count": 34,
   "outputs": [
    {
     "data": {
      "text/plain": "array([[ 0.,  1.,  2.,  3.,  4.,  5.,  6.,  7.,  8.,  9., 10., 11., 12.,\n        13., 14., 15., 16., 17., 18., 19.],\n       [20., 21., 22., 23., 24., 25., 26., 27., 28., 29., 30., 31., 32.,\n        33., 34., 35., 36., 37., 38., 39.],\n       [40., 41., 42., 43., 44., 45., 46., 47., 48., 49., 50., 51., 52.,\n        53., 54., 55., 56., 57., 58., 59.],\n       [60., 61., 62., 63., 64., 65., 66., 67., 68., 69., 70., 71., 72.,\n        73., 74., 75., 76., 77., 78., 79.],\n       [80., 81., 82., 83., 84., 85., 86., 87., 88., 89., 90., 91., 92.,\n        93., 94., 95., 96., 97., 98., 99.]])"
     },
     "execution_count": 34,
     "metadata": {},
     "output_type": "execute_result"
    }
   ],
   "source": [
    "b"
   ],
   "metadata": {
    "collapsed": false,
    "pycharm": {
     "name": "#%%\n"
    }
   }
  },
  {
   "cell_type": "code",
   "execution_count": 35,
   "outputs": [],
   "source": [
    "a1 = np.random.random((4, 4))\n",
    "a2 = np.random.random((4, 4))\n",
    "a3 = np.random.random((4, 4))\n",
    "a4 = np.random.random((4, 4))"
   ],
   "metadata": {
    "collapsed": false,
    "pycharm": {
     "name": "#%%\n"
    }
   }
  },
  {
   "cell_type": "code",
   "execution_count": 36,
   "outputs": [
    {
     "data": {
      "text/plain": "array([[0.89822123, 0.16200335, 0.58361004, 0.73594599],\n       [0.20299861, 0.14453533, 0.33332127, 0.74935352],\n       [0.79658448, 0.10817381, 0.83174057, 0.18635331],\n       [0.77070132, 0.41611153, 0.37899681, 0.96951422]])"
     },
     "execution_count": 36,
     "metadata": {},
     "output_type": "execute_result"
    }
   ],
   "source": [
    "a1"
   ],
   "metadata": {
    "collapsed": false,
    "pycharm": {
     "name": "#%%\n"
    }
   }
  },
  {
   "cell_type": "code",
   "execution_count": 37,
   "outputs": [
    {
     "data": {
      "text/plain": "array([[0.18752938, 0.21224679, 0.47505777, 0.91532796],\n       [0.71321967, 0.32737527, 0.16847434, 0.30730677],\n       [0.3710947 , 0.15935927, 0.12229602, 0.78439459],\n       [0.70439684, 0.78494169, 0.81444986, 0.50512962]])"
     },
     "execution_count": 37,
     "metadata": {},
     "output_type": "execute_result"
    }
   ],
   "source": [
    "a2"
   ],
   "metadata": {
    "collapsed": false,
    "pycharm": {
     "name": "#%%\n"
    }
   }
  },
  {
   "cell_type": "code",
   "execution_count": 38,
   "outputs": [
    {
     "data": {
      "text/plain": "array([[0.55727819, 0.18248334, 0.91473434, 0.83657004],\n       [0.38231277, 0.21888221, 0.41874973, 0.93940145],\n       [0.78848789, 0.89556558, 0.99514798, 0.1073427 ],\n       [0.25771922, 0.9165717 , 0.02668184, 0.01861682]])"
     },
     "execution_count": 38,
     "metadata": {},
     "output_type": "execute_result"
    }
   ],
   "source": [
    "a3"
   ],
   "metadata": {
    "collapsed": false,
    "pycharm": {
     "name": "#%%\n"
    }
   }
  },
  {
   "cell_type": "code",
   "execution_count": 39,
   "outputs": [
    {
     "data": {
      "text/plain": "array([[0.53604032, 0.44187923, 0.1479229 , 0.24530132],\n       [0.54592246, 0.88097318, 0.49576139, 0.50455755],\n       [0.57041093, 0.41185635, 0.66037075, 0.41843032],\n       [0.90237196, 0.12369869, 0.54489277, 0.32257002]])"
     },
     "execution_count": 39,
     "metadata": {},
     "output_type": "execute_result"
    }
   ],
   "source": [
    "a4"
   ],
   "metadata": {
    "collapsed": false,
    "pycharm": {
     "name": "#%%\n"
    }
   }
  },
  {
   "cell_type": "code",
   "execution_count": 41,
   "outputs": [
    {
     "data": {
      "text/plain": "array([[[0.53604032, 0.44187923],\n        [0.1479229 , 0.24530132]],\n\n       [[0.54592246, 0.88097318],\n        [0.49576139, 0.50455755]],\n\n       [[0.57041093, 0.41185635],\n        [0.66037075, 0.41843032]],\n\n       [[0.90237196, 0.12369869],\n        [0.54489277, 0.32257002]]])"
     },
     "execution_count": 41,
     "metadata": {},
     "output_type": "execute_result"
    }
   ],
   "source": [
    "a5 = a4.reshape((4, 2, 2))\n",
    "a5"
   ],
   "metadata": {
    "collapsed": false,
    "pycharm": {
     "name": "#%%\n"
    }
   }
  },
  {
   "cell_type": "code",
   "execution_count": 43,
   "outputs": [
    {
     "data": {
      "text/plain": "array([[0.89822123, 0.16200335, 0.58361004, 0.73594599],\n       [0.20299861, 0.14453533, 0.33332127, 0.74935352],\n       [0.79658448, 0.10817381, 0.83174057, 0.18635331],\n       [0.77070132, 0.41611153, 0.37899681, 0.96951422],\n       [0.18752938, 0.21224679, 0.47505777, 0.91532796],\n       [0.71321967, 0.32737527, 0.16847434, 0.30730677],\n       [0.3710947 , 0.15935927, 0.12229602, 0.78439459],\n       [0.70439684, 0.78494169, 0.81444986, 0.50512962]])"
     },
     "execution_count": 43,
     "metadata": {},
     "output_type": "execute_result"
    }
   ],
   "source": [
    "np.vstack((a1, a2))"
   ],
   "metadata": {
    "collapsed": false,
    "pycharm": {
     "name": "#%%\n"
    }
   }
  },
  {
   "cell_type": "code",
   "execution_count": 44,
   "outputs": [
    {
     "data": {
      "text/plain": "array([[0.55727819, 0.18248334, 0.91473434, 0.83657004, 0.53604032,\n        0.44187923, 0.1479229 , 0.24530132],\n       [0.38231277, 0.21888221, 0.41874973, 0.93940145, 0.54592246,\n        0.88097318, 0.49576139, 0.50455755],\n       [0.78848789, 0.89556558, 0.99514798, 0.1073427 , 0.57041093,\n        0.41185635, 0.66037075, 0.41843032],\n       [0.25771922, 0.9165717 , 0.02668184, 0.01861682, 0.90237196,\n        0.12369869, 0.54489277, 0.32257002]])"
     },
     "execution_count": 44,
     "metadata": {},
     "output_type": "execute_result"
    }
   ],
   "source": [
    "np.hstack((a3, a4))"
   ],
   "metadata": {
    "collapsed": false,
    "pycharm": {
     "name": "#%%\n"
    }
   }
  },
  {
   "cell_type": "code",
   "execution_count": 47,
   "outputs": [
    {
     "data": {
      "text/plain": "array([[0.31303675, 0.2648125 ]])"
     },
     "execution_count": 47,
     "metadata": {},
     "output_type": "execute_result"
    }
   ],
   "source": [
    "a5 = np.random.random((1, 2))\n",
    "a5"
   ],
   "metadata": {
    "collapsed": false,
    "pycharm": {
     "name": "#%%\n"
    }
   }
  },
  {
   "cell_type": "code",
   "execution_count": 49,
   "outputs": [
    {
     "name": "stdout",
     "output_type": "stream",
     "text": [
      "[0.31303675 0.2648125 ]\n"
     ]
    }
   ],
   "source": [
    "print(a5[0])"
   ],
   "metadata": {
    "collapsed": false,
    "pycharm": {
     "name": "#%%\n"
    }
   }
  },
  {
   "cell_type": "code",
   "execution_count": 50,
   "outputs": [
    {
     "data": {
      "text/plain": "array([[0.31303675],\n       [0.2648125 ]])"
     },
     "execution_count": 50,
     "metadata": {},
     "output_type": "execute_result"
    }
   ],
   "source": [
    "a5[0][:, np.newaxis]"
   ],
   "metadata": {
    "collapsed": false,
    "pycharm": {
     "name": "#%%\n"
    }
   }
  },
  {
   "cell_type": "code",
   "execution_count": 3,
   "outputs": [
    {
     "data": {
      "text/plain": "array([[0.12846393, 0.39749253]])"
     },
     "execution_count": 3,
     "metadata": {},
     "output_type": "execute_result"
    }
   ],
   "source": [
    "np.random.random(2).reshape((1, 2))"
   ],
   "metadata": {
    "collapsed": false,
    "pycharm": {
     "name": "#%%\n"
    }
   }
  },
  {
   "cell_type": "code",
   "execution_count": 4,
   "outputs": [
    {
     "data": {
      "text/plain": "array([[0.94275686, 0.50387285, 0.26622173, 0.55188792, 0.81135373,\n        0.57233034],\n       [0.97551818, 0.63088733, 0.34941605, 0.23096944, 0.85312886,\n        0.22088918],\n       [0.01117057, 0.13570776, 0.81318535, 0.77104633, 0.00388107,\n        0.08498896],\n       [0.6661657 , 0.13620375, 0.2261874 , 0.373317  , 0.37513594,\n        0.32965613],\n       [0.66365898, 0.17585472, 0.7348024 , 0.03535932, 0.58421487,\n        0.18001401],\n       [0.34366021, 0.60777849, 0.956079  , 0.16022578, 0.31667321,\n        0.07019118]])"
     },
     "execution_count": 4,
     "metadata": {},
     "output_type": "execute_result"
    }
   ],
   "source": [
    "a6 = np.random.random(36).reshape((6, 6))\n",
    "a6"
   ],
   "metadata": {
    "collapsed": false,
    "pycharm": {
     "name": "#%%\n"
    }
   }
  },
  {
   "cell_type": "code",
   "execution_count": 5,
   "outputs": [
    {
     "data": {
      "text/plain": "[array([[0.94275686, 0.50387285],\n        [0.97551818, 0.63088733],\n        [0.01117057, 0.13570776],\n        [0.6661657 , 0.13620375],\n        [0.66365898, 0.17585472],\n        [0.34366021, 0.60777849]]),\n array([[0.26622173, 0.55188792],\n        [0.34941605, 0.23096944],\n        [0.81318535, 0.77104633],\n        [0.2261874 , 0.373317  ],\n        [0.7348024 , 0.03535932],\n        [0.956079  , 0.16022578]]),\n array([[0.81135373, 0.57233034],\n        [0.85312886, 0.22088918],\n        [0.00388107, 0.08498896],\n        [0.37513594, 0.32965613],\n        [0.58421487, 0.18001401],\n        [0.31667321, 0.07019118]])]"
     },
     "execution_count": 5,
     "metadata": {},
     "output_type": "execute_result"
    }
   ],
   "source": [
    "np.hsplit(a6, 3)"
   ],
   "metadata": {
    "collapsed": false,
    "pycharm": {
     "name": "#%%\n"
    }
   }
  },
  {
   "cell_type": "code",
   "execution_count": 6,
   "outputs": [
    {
     "data": {
      "text/plain": "[array([[0.94275686, 0.50387285, 0.26622173, 0.55188792, 0.81135373,\n         0.57233034],\n        [0.97551818, 0.63088733, 0.34941605, 0.23096944, 0.85312886,\n         0.22088918]]),\n array([[0.01117057, 0.13570776, 0.81318535, 0.77104633, 0.00388107,\n         0.08498896],\n        [0.6661657 , 0.13620375, 0.2261874 , 0.373317  , 0.37513594,\n         0.32965613]]),\n array([[0.66365898, 0.17585472, 0.7348024 , 0.03535932, 0.58421487,\n         0.18001401],\n        [0.34366021, 0.60777849, 0.956079  , 0.16022578, 0.31667321,\n         0.07019118]])]"
     },
     "execution_count": 6,
     "metadata": {},
     "output_type": "execute_result"
    }
   ],
   "source": [
    "np.vsplit(a6, 3)"
   ],
   "metadata": {
    "collapsed": false,
    "pycharm": {
     "name": "#%%\n"
    }
   }
  },
  {
   "cell_type": "code",
   "execution_count": 7,
   "outputs": [
    {
     "data": {
      "text/plain": "[array([[0.94275686, 0.50387285, 0.26622173],\n        [0.97551818, 0.63088733, 0.34941605],\n        [0.01117057, 0.13570776, 0.81318535],\n        [0.6661657 , 0.13620375, 0.2261874 ],\n        [0.66365898, 0.17585472, 0.7348024 ],\n        [0.34366021, 0.60777849, 0.956079  ]]),\n array([[0.55188792, 0.81135373, 0.57233034],\n        [0.23096944, 0.85312886, 0.22088918],\n        [0.77104633, 0.00388107, 0.08498896],\n        [0.373317  , 0.37513594, 0.32965613],\n        [0.03535932, 0.58421487, 0.18001401],\n        [0.16022578, 0.31667321, 0.07019118]])]"
     },
     "execution_count": 7,
     "metadata": {},
     "output_type": "execute_result"
    }
   ],
   "source": [
    "np.hsplit(a6, 2)"
   ],
   "metadata": {
    "collapsed": false,
    "pycharm": {
     "name": "#%%\n"
    }
   }
  },
  {
   "cell_type": "code",
   "execution_count": 8,
   "outputs": [
    {
     "data": {
      "text/plain": "[array([[0.94275686, 0.50387285, 0.26622173, 0.55188792, 0.81135373,\n         0.57233034],\n        [0.97551818, 0.63088733, 0.34941605, 0.23096944, 0.85312886,\n         0.22088918],\n        [0.01117057, 0.13570776, 0.81318535, 0.77104633, 0.00388107,\n         0.08498896]]),\n array([[0.6661657 , 0.13620375, 0.2261874 , 0.373317  , 0.37513594,\n         0.32965613],\n        [0.66365898, 0.17585472, 0.7348024 , 0.03535932, 0.58421487,\n         0.18001401],\n        [0.34366021, 0.60777849, 0.956079  , 0.16022578, 0.31667321,\n         0.07019118]])]"
     },
     "execution_count": 8,
     "metadata": {},
     "output_type": "execute_result"
    }
   ],
   "source": [
    "np.vsplit(a6, 2)"
   ],
   "metadata": {
    "collapsed": false,
    "pycharm": {
     "name": "#%%\n"
    }
   }
  },
  {
   "cell_type": "code",
   "execution_count": 11,
   "outputs": [
    {
     "data": {
      "text/plain": "array([[0.94275686, 0.50387285, 0.26622173, 0.55188792, 0.81135373,\n        0.57233034],\n       [0.97551818, 0.63088733, 0.34941605, 0.23096944, 0.85312886,\n        0.22088918],\n       [0.01117057, 0.13570776, 0.81318535, 0.77104633, 0.00388107,\n        0.08498896],\n       [0.6661657 , 0.13620375, 0.2261874 , 0.373317  , 0.37513594,\n        0.32965613],\n       [0.66365898, 0.17585472, 0.7348024 , 0.03535932, 0.58421487,\n        0.18001401],\n       [0.34366021, 0.60777849, 0.956079  , 0.16022578, 0.31667321,\n        0.07019118]])"
     },
     "execution_count": 11,
     "metadata": {},
     "output_type": "execute_result"
    }
   ],
   "source": [
    "a6"
   ],
   "metadata": {
    "collapsed": false,
    "pycharm": {
     "name": "#%%\n"
    }
   }
  },
  {
   "cell_type": "code",
   "execution_count": 15,
   "outputs": [
    {
     "data": {
      "text/plain": "[array([[0.94275686, 0.50387285],\n        [0.97551818, 0.63088733],\n        [0.01117057, 0.13570776],\n        [0.6661657 , 0.13620375],\n        [0.66365898, 0.17585472],\n        [0.34366021, 0.60777849]]),\n array([[0.26622173, 0.55188792, 0.81135373],\n        [0.34941605, 0.23096944, 0.85312886],\n        [0.81318535, 0.77104633, 0.00388107],\n        [0.2261874 , 0.373317  , 0.37513594],\n        [0.7348024 , 0.03535932, 0.58421487],\n        [0.956079  , 0.16022578, 0.31667321]]),\n array([[0.57233034],\n        [0.22088918],\n        [0.08498896],\n        [0.32965613],\n        [0.18001401],\n        [0.07019118]])]"
     },
     "execution_count": 15,
     "metadata": {},
     "output_type": "execute_result"
    }
   ],
   "source": [
    "np.hsplit(a6, (2, 5))"
   ],
   "metadata": {
    "collapsed": false,
    "pycharm": {
     "name": "#%%\n"
    }
   }
  },
  {
   "cell_type": "code",
   "execution_count": 16,
   "outputs": [
    {
     "data": {
      "text/plain": "array([ 0,  1,  2,  3,  4,  5,  6,  7,  8,  9, 10, 11])"
     },
     "execution_count": 16,
     "metadata": {},
     "output_type": "execute_result"
    }
   ],
   "source": [
    "a7 = np.arange(12)\n",
    "a7"
   ],
   "metadata": {
    "collapsed": false,
    "pycharm": {
     "name": "#%%\n"
    }
   }
  },
  {
   "cell_type": "code",
   "execution_count": 17,
   "outputs": [],
   "source": [
    "b = a7"
   ],
   "metadata": {
    "collapsed": false,
    "pycharm": {
     "name": "#%%\n"
    }
   }
  },
  {
   "cell_type": "code",
   "execution_count": 18,
   "outputs": [
    {
     "data": {
      "text/plain": "True"
     },
     "execution_count": 18,
     "metadata": {},
     "output_type": "execute_result"
    }
   ],
   "source": [
    "b is a7"
   ],
   "metadata": {
    "collapsed": false,
    "pycharm": {
     "name": "#%%\n"
    }
   }
  },
  {
   "cell_type": "code",
   "execution_count": 19,
   "outputs": [
    {
     "data": {
      "text/plain": "array([ 0,  1,  2,  3,  4,  5,  6,  7,  8,  9, 10, 11])"
     },
     "execution_count": 19,
     "metadata": {},
     "output_type": "execute_result"
    }
   ],
   "source": [
    "b"
   ],
   "metadata": {
    "collapsed": false,
    "pycharm": {
     "name": "#%%\n"
    }
   }
  },
  {
   "cell_type": "code",
   "execution_count": 20,
   "outputs": [],
   "source": [
    "b[0] = -250"
   ],
   "metadata": {
    "collapsed": false,
    "pycharm": {
     "name": "#%%\n"
    }
   }
  },
  {
   "cell_type": "code",
   "execution_count": 21,
   "outputs": [
    {
     "data": {
      "text/plain": "array([-250,    1,    2,    3,    4,    5,    6,    7,    8,    9,   10,\n         11])"
     },
     "execution_count": 21,
     "metadata": {},
     "output_type": "execute_result"
    }
   ],
   "source": [
    "b"
   ],
   "metadata": {
    "collapsed": false,
    "pycharm": {
     "name": "#%%\n"
    }
   }
  },
  {
   "cell_type": "code",
   "execution_count": 22,
   "outputs": [
    {
     "data": {
      "text/plain": "array([-250,    1,    2,    3,    4,    5,    6,    7,    8,    9,   10,\n         11])"
     },
     "execution_count": 22,
     "metadata": {},
     "output_type": "execute_result"
    }
   ],
   "source": [
    "a7"
   ],
   "metadata": {
    "collapsed": false,
    "pycharm": {
     "name": "#%%\n"
    }
   }
  },
  {
   "cell_type": "code",
   "execution_count": 23,
   "outputs": [
    {
     "data": {
      "text/plain": "2199935894608"
     },
     "execution_count": 23,
     "metadata": {},
     "output_type": "execute_result"
    }
   ],
   "source": [
    "id(a7)"
   ],
   "metadata": {
    "collapsed": false,
    "pycharm": {
     "name": "#%%\n"
    }
   }
  },
  {
   "cell_type": "code",
   "execution_count": 24,
   "outputs": [
    {
     "data": {
      "text/plain": "2199935894608"
     },
     "execution_count": 24,
     "metadata": {},
     "output_type": "execute_result"
    }
   ],
   "source": [
    "id(b)"
   ],
   "metadata": {
    "collapsed": false,
    "pycharm": {
     "name": "#%%\n"
    }
   }
  },
  {
   "cell_type": "code",
   "execution_count": 25,
   "outputs": [
    {
     "data": {
      "text/plain": "True"
     },
     "execution_count": 25,
     "metadata": {},
     "output_type": "execute_result"
    }
   ],
   "source": [
    "id(a7) == id(b)"
   ],
   "metadata": {
    "collapsed": false,
    "pycharm": {
     "name": "#%%\n"
    }
   }
  },
  {
   "cell_type": "code",
   "execution_count": 26,
   "outputs": [],
   "source": [
    "c = a7.view()"
   ],
   "metadata": {
    "collapsed": false,
    "pycharm": {
     "name": "#%%\n"
    }
   }
  },
  {
   "cell_type": "code",
   "execution_count": 27,
   "outputs": [
    {
     "data": {
      "text/plain": "array([-250,    1,    2,    3,    4,    5,    6,    7,    8,    9,   10,\n         11])"
     },
     "execution_count": 27,
     "metadata": {},
     "output_type": "execute_result"
    }
   ],
   "source": [
    "c"
   ],
   "metadata": {
    "collapsed": false,
    "pycharm": {
     "name": "#%%\n"
    }
   }
  },
  {
   "cell_type": "code",
   "execution_count": 28,
   "outputs": [],
   "source": [
    "c[0] = 600"
   ],
   "metadata": {
    "collapsed": false,
    "pycharm": {
     "name": "#%%\n"
    }
   }
  },
  {
   "cell_type": "code",
   "execution_count": 29,
   "outputs": [
    {
     "data": {
      "text/plain": "False"
     },
     "execution_count": 29,
     "metadata": {},
     "output_type": "execute_result"
    }
   ],
   "source": [
    "c is a7"
   ],
   "metadata": {
    "collapsed": false,
    "pycharm": {
     "name": "#%%\n"
    }
   }
  },
  {
   "cell_type": "code",
   "execution_count": 30,
   "outputs": [
    {
     "data": {
      "text/plain": "array([600,   1,   2,   3,   4,   5,   6,   7,   8,   9,  10,  11])"
     },
     "execution_count": 30,
     "metadata": {},
     "output_type": "execute_result"
    }
   ],
   "source": [
    "c"
   ],
   "metadata": {
    "collapsed": false,
    "pycharm": {
     "name": "#%%\n"
    }
   }
  },
  {
   "cell_type": "code",
   "execution_count": 31,
   "outputs": [
    {
     "data": {
      "text/plain": "array([600,   1,   2,   3,   4,   5,   6,   7,   8,   9,  10,  11])"
     },
     "execution_count": 31,
     "metadata": {},
     "output_type": "execute_result"
    }
   ],
   "source": [
    "a7"
   ],
   "metadata": {
    "collapsed": false,
    "pycharm": {
     "name": "#%%\n"
    }
   }
  },
  {
   "cell_type": "code",
   "execution_count": 32,
   "outputs": [
    {
     "data": {
      "text/plain": "array([600,   1,   2,   3,   4,   5,   6,   7,   8,   9,  10,  11])"
     },
     "execution_count": 32,
     "metadata": {},
     "output_type": "execute_result"
    }
   ],
   "source": [
    "b"
   ],
   "metadata": {
    "collapsed": false,
    "pycharm": {
     "name": "#%%\n"
    }
   }
  },
  {
   "cell_type": "code",
   "execution_count": 33,
   "outputs": [
    {
     "data": {
      "text/plain": "2199940790864"
     },
     "execution_count": 33,
     "metadata": {},
     "output_type": "execute_result"
    }
   ],
   "source": [
    "id(c)"
   ],
   "metadata": {
    "collapsed": false,
    "pycharm": {
     "name": "#%%\n"
    }
   }
  },
  {
   "cell_type": "code",
   "execution_count": 34,
   "outputs": [
    {
     "data": {
      "text/plain": "2199935894608"
     },
     "execution_count": 34,
     "metadata": {},
     "output_type": "execute_result"
    }
   ],
   "source": [
    "id(a7)"
   ],
   "metadata": {
    "collapsed": false,
    "pycharm": {
     "name": "#%%\n"
    }
   }
  },
  {
   "cell_type": "code",
   "execution_count": 35,
   "outputs": [
    {
     "data": {
      "text/plain": "False"
     },
     "execution_count": 35,
     "metadata": {},
     "output_type": "execute_result"
    }
   ],
   "source": [
    "id(c) == id(a7)"
   ],
   "metadata": {
    "collapsed": false,
    "pycharm": {
     "name": "#%%\n"
    }
   }
  },
  {
   "cell_type": "code",
   "execution_count": 36,
   "outputs": [],
   "source": [
    "d = a7.copy()"
   ],
   "metadata": {
    "collapsed": false,
    "pycharm": {
     "name": "#%%\n"
    }
   }
  },
  {
   "cell_type": "code",
   "execution_count": 37,
   "outputs": [
    {
     "data": {
      "text/plain": "False"
     },
     "execution_count": 37,
     "metadata": {},
     "output_type": "execute_result"
    }
   ],
   "source": [
    "d is a7"
   ],
   "metadata": {
    "collapsed": false,
    "pycharm": {
     "name": "#%%\n"
    }
   }
  },
  {
   "cell_type": "code",
   "execution_count": 38,
   "outputs": [],
   "source": [
    "d[0] = 0"
   ],
   "metadata": {
    "collapsed": false,
    "pycharm": {
     "name": "#%%\n"
    }
   }
  },
  {
   "cell_type": "code",
   "execution_count": 39,
   "outputs": [
    {
     "data": {
      "text/plain": "array([ 0,  1,  2,  3,  4,  5,  6,  7,  8,  9, 10, 11])"
     },
     "execution_count": 39,
     "metadata": {},
     "output_type": "execute_result"
    }
   ],
   "source": [
    "d"
   ],
   "metadata": {
    "collapsed": false,
    "pycharm": {
     "name": "#%%\n"
    }
   }
  },
  {
   "cell_type": "code",
   "execution_count": 40,
   "outputs": [
    {
     "data": {
      "text/plain": "array([600,   1,   2,   3,   4,   5,   6,   7,   8,   9,  10,  11])"
     },
     "execution_count": 40,
     "metadata": {},
     "output_type": "execute_result"
    }
   ],
   "source": [
    "a7"
   ],
   "metadata": {
    "collapsed": false,
    "pycharm": {
     "name": "#%%\n"
    }
   }
  },
  {
   "cell_type": "code",
   "execution_count": 41,
   "outputs": [
    {
     "data": {
      "text/plain": "2199942364688"
     },
     "execution_count": 41,
     "metadata": {},
     "output_type": "execute_result"
    }
   ],
   "source": [
    "id(d)"
   ],
   "metadata": {
    "collapsed": false,
    "pycharm": {
     "name": "#%%\n"
    }
   }
  },
  {
   "cell_type": "code",
   "execution_count": 42,
   "outputs": [
    {
     "data": {
      "text/plain": "2199935894608"
     },
     "execution_count": 42,
     "metadata": {},
     "output_type": "execute_result"
    }
   ],
   "source": [
    "id(a7)"
   ],
   "metadata": {
    "collapsed": false,
    "pycharm": {
     "name": "#%%\n"
    }
   }
  },
  {
   "cell_type": "code",
   "execution_count": 43,
   "outputs": [
    {
     "data": {
      "text/plain": "False"
     },
     "execution_count": 43,
     "metadata": {},
     "output_type": "execute_result"
    }
   ],
   "source": [
    "id(d) == id(a7)"
   ],
   "metadata": {
    "collapsed": false,
    "pycharm": {
     "name": "#%%\n"
    }
   }
  },
  {
   "cell_type": "code",
   "execution_count": 15,
   "outputs": [],
   "source": [
    "a8 = np.arange(0, 9)\n",
    "b8 = np.array([10])"
   ],
   "metadata": {
    "collapsed": false,
    "pycharm": {
     "name": "#%%\n"
    }
   }
  },
  {
   "cell_type": "code",
   "execution_count": 16,
   "outputs": [
    {
     "data": {
      "text/plain": "array([0, 1, 2, 3, 4, 5, 6, 7, 8])"
     },
     "execution_count": 16,
     "metadata": {},
     "output_type": "execute_result"
    }
   ],
   "source": [
    "a8"
   ],
   "metadata": {
    "collapsed": false,
    "pycharm": {
     "name": "#%%\n"
    }
   }
  },
  {
   "cell_type": "code",
   "execution_count": 17,
   "outputs": [
    {
     "data": {
      "text/plain": "array([10])"
     },
     "execution_count": 17,
     "metadata": {},
     "output_type": "execute_result"
    }
   ],
   "source": [
    "b8"
   ],
   "metadata": {
    "collapsed": false,
    "pycharm": {
     "name": "#%%\n"
    }
   }
  },
  {
   "cell_type": "code",
   "execution_count": 18,
   "outputs": [
    {
     "data": {
      "text/plain": "array([10, 11, 12, 13, 14, 15, 16, 17, 18])"
     },
     "execution_count": 18,
     "metadata": {},
     "output_type": "execute_result"
    }
   ],
   "source": [
    "a8 + b8"
   ],
   "metadata": {
    "collapsed": false,
    "pycharm": {
     "name": "#%%\n"
    }
   }
  },
  {
   "cell_type": "code",
   "execution_count": 19,
   "outputs": [],
   "source": [
    "a9 = np.arange(0, 9).reshape((3, 3))\n",
    "b9 = np.arange(0, 3)"
   ],
   "metadata": {
    "collapsed": false,
    "pycharm": {
     "name": "#%%\n"
    }
   }
  },
  {
   "cell_type": "code",
   "execution_count": 20,
   "outputs": [
    {
     "data": {
      "text/plain": "array([[0, 1, 2],\n       [3, 4, 5],\n       [6, 7, 8]])"
     },
     "execution_count": 20,
     "metadata": {},
     "output_type": "execute_result"
    }
   ],
   "source": [
    "a9"
   ],
   "metadata": {
    "collapsed": false,
    "pycharm": {
     "name": "#%%\n"
    }
   }
  },
  {
   "cell_type": "code",
   "execution_count": 21,
   "outputs": [
    {
     "data": {
      "text/plain": "array([0, 1, 2])"
     },
     "execution_count": 21,
     "metadata": {},
     "output_type": "execute_result"
    }
   ],
   "source": [
    "b9"
   ],
   "metadata": {
    "collapsed": false,
    "pycharm": {
     "name": "#%%\n"
    }
   }
  },
  {
   "cell_type": "code",
   "execution_count": 22,
   "outputs": [
    {
     "data": {
      "text/plain": "array([[ 0,  2,  4],\n       [ 3,  5,  7],\n       [ 6,  8, 10]])"
     },
     "execution_count": 22,
     "metadata": {},
     "output_type": "execute_result"
    }
   ],
   "source": [
    "a9 + b9"
   ],
   "metadata": {
    "collapsed": false,
    "pycharm": {
     "name": "#%%\n"
    }
   }
  },
  {
   "cell_type": "code",
   "execution_count": 23,
   "outputs": [],
   "source": [
    "a10 = np.array([[1, 2], [3, 4]])\n"
   ],
   "metadata": {
    "collapsed": false,
    "pycharm": {
     "name": "#%%\n"
    }
   }
  },
  {
   "cell_type": "code",
   "execution_count": 24,
   "outputs": [
    {
     "data": {
      "text/plain": "array([[1, 3],\n       [2, 4]])"
     },
     "execution_count": 24,
     "metadata": {},
     "output_type": "execute_result"
    }
   ],
   "source": [
    "a10.transpose()"
   ],
   "metadata": {
    "collapsed": false,
    "pycharm": {
     "name": "#%%\n"
    }
   }
  },
  {
   "cell_type": "code",
   "execution_count": 25,
   "outputs": [
    {
     "data": {
      "text/plain": "array([[-2. ,  1. ],\n       [ 1.5, -0.5]])"
     },
     "execution_count": 25,
     "metadata": {},
     "output_type": "execute_result"
    }
   ],
   "source": [
    "np.linalg.inv(a10)"
   ],
   "metadata": {
    "collapsed": false,
    "pycharm": {
     "name": "#%%\n"
    }
   }
  },
  {
   "cell_type": "code",
   "execution_count": 26,
   "outputs": [
    {
     "data": {
      "text/plain": "array([[1.0000000e+00, 0.0000000e+00],\n       [8.8817842e-16, 1.0000000e+00]])"
     },
     "execution_count": 26,
     "metadata": {},
     "output_type": "execute_result"
    }
   ],
   "source": [
    "np.dot(a10,np.linalg.inv(a10))"
   ],
   "metadata": {
    "collapsed": false,
    "pycharm": {
     "name": "#%%\n"
    }
   }
  },
  {
   "cell_type": "code",
   "execution_count": 28,
   "outputs": [
    {
     "data": {
      "text/plain": "array([[1., 0.],\n       [0., 0.]])"
     },
     "execution_count": 28,
     "metadata": {},
     "output_type": "execute_result"
    }
   ],
   "source": [
    "np.floor(a10@np.linalg.inv(a10))"
   ],
   "metadata": {
    "collapsed": false,
    "pycharm": {
     "name": "#%%\n"
    }
   }
  },
  {
   "cell_type": "code",
   "execution_count": 29,
   "outputs": [],
   "source": [
    "y=np.array([[5],[8]])"
   ],
   "metadata": {
    "collapsed": false,
    "pycharm": {
     "name": "#%%\n"
    }
   }
  },
  {
   "cell_type": "code",
   "execution_count": 30,
   "outputs": [
    {
     "data": {
      "text/plain": "array([[-2. ],\n       [ 3.5]])"
     },
     "execution_count": 30,
     "metadata": {},
     "output_type": "execute_result"
    }
   ],
   "source": [
    "np.linalg.solve(a10,y)"
   ],
   "metadata": {
    "collapsed": false,
    "pycharm": {
     "name": "#%%\n"
    }
   }
  },
  {
   "cell_type": "code",
   "execution_count": 31,
   "outputs": [
    {
     "data": {
      "text/plain": "array([[-2. ],\n       [ 3.5]])"
     },
     "execution_count": 31,
     "metadata": {},
     "output_type": "execute_result"
    }
   ],
   "source": [
    "np.linalg.inv(a10)@y"
   ],
   "metadata": {
    "collapsed": false,
    "pycharm": {
     "name": "#%%\n"
    }
   }
  },
  {
   "cell_type": "code",
   "execution_count": null,
   "outputs": [],
   "source": [],
   "metadata": {
    "collapsed": false,
    "pycharm": {
     "name": "#%%\n"
    }
   }
  }
 ],
 "metadata": {
  "kernelspec": {
   "display_name": "Python 3",
   "language": "python",
   "name": "python3"
  },
  "language_info": {
   "codemirror_mode": {
    "name": "ipython",
    "version": 2
   },
   "file_extension": ".py",
   "mimetype": "text/x-python",
   "name": "python",
   "nbconvert_exporter": "python",
   "pygments_lexer": "ipython2",
   "version": "2.7.6"
  }
 },
 "nbformat": 4,
 "nbformat_minor": 0
}