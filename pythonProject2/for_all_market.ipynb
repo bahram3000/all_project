{
 "cells": [
  {
   "cell_type": "code",
   "execution_count": 1,
   "metadata": {
    "collapsed": true
   },
   "outputs": [],
   "source": [
    "import numpy as np\n",
    "import pandas as pd\n",
    "import matplotlib.pyplot as plt"
   ]
  },
  {
   "cell_type": "code",
   "execution_count": 9,
   "outputs": [],
   "source": [
    "path0='C:\\\\Users\\\\ADMIN\\AppData\\Roaming\\MetaQuotes\\Terminal\\\\2506E8E7E4116548D478CE2C3598FAB1\\MQL5\\Files\\shakhS kl6-D1.prn'\n",
    "path1='C:\\\\Users\\\\ADMIN\\AppData\\Roaming\\MetaQuotes\\Terminal\\\\2506E8E7E4116548D478CE2C3598FAB1\\MQL5\\Files\\\\USDIRR-D1.prn'\n",
    "path2='C:\\\\Users\\\\ADMIN\\AppData\\Roaming\\MetaQuotes\\Terminal\\\\2506E8E7E4116548D478CE2C3598FAB1\\MQL5\\Files\\\\skh-jdid-D1.prn'\n",
    "path3='C:\\\\Users\\\\ADMIN\\AppData\\Roaming\\MetaQuotes\\Terminal\\\\D0E8209F77C8CF37AD8BF550E51FF075\\MQL5\\Files\\\\XAUUSD-D1.prn'\n",
    "path4='C:\\\\Users\\\\ADMIN\\AppData\\Roaming\\MetaQuotes\\Terminal\\\\D0E8209F77C8CF37AD8BF550E51FF075\\MQL5\\Files\\\\BTCUSD-D1.prn'\n",
    "files=[path0,path1,path2,path3,path4]"
   ],
   "metadata": {
    "collapsed": false,
    "pycharm": {
     "name": "#%%\n"
    }
   }
  },
  {
   "cell_type": "code",
   "execution_count": 10,
   "outputs": [
    {
     "data": {
      "text/plain": "'USDIRR-D1.prn'"
     },
     "execution_count": 10,
     "metadata": {},
     "output_type": "execute_result"
    }
   ],
   "source": [
    "path1.split('\\\\')[-1]"
   ],
   "metadata": {
    "collapsed": false,
    "pycharm": {
     "name": "#%%\n"
    }
   }
  },
  {
   "cell_type": "code",
   "execution_count": 11,
   "outputs": [],
   "source": [
    "def mean_exp(data_in):\n",
    "    p = 1\n",
    "    n = 0\n",
    "    for i in data_in:\n",
    "        if i != 0:\n",
    "            p*=i\n",
    "            n+=1\n",
    "    return p**(1/n)"
   ],
   "metadata": {
    "collapsed": false,
    "pycharm": {
     "name": "#%%\n"
    }
   }
  },
  {
   "cell_type": "code",
   "execution_count": 16,
   "outputs": [],
   "source": [
    "for K in files:\n",
    "    data_df=pd.read_csv(K)\n",
    "    date=data_df['<DTYYYYMMDD>']\n",
    "    vol=data_df['<VOL>']\n",
    "    data_df.drop(['<DTYYYYMMDD>','<TIME>','<VOL>'],axis=1,inplace=True)\n",
    "    col=data_df.columns\n",
    "    data_df.rename(columns={'<OPEN>':'open','<HIGH>':'high','<LOW>':'low','<CLOSE>':'close'},inplace=True)\n",
    "    mapper={i:f'{i}_return_1d' for i in data_df.columns}\n",
    "    data_exp={f'{mapper[i]}':[1] for i in mapper.keys()}\n",
    "    for i in data_df.columns:\n",
    "        for j in data_df.index[1:]:\n",
    "            data_exp[mapper[i]].append(data_df[i][j]/data_df[i][j-1])\n",
    "    data2=pd.DataFrame(data_exp)\n",
    "    mean_col={}\n",
    "    for i in data_df.columns:\n",
    "        mean_col[f'{i}']=mean_exp(data2[f'{i}_return_1d'])\n",
    "    expected_data={}\n",
    "    for i in data_df.columns:\n",
    "        expected_data[f'exp_{i}']=[]\n",
    "        for j in data_df.index:\n",
    "            expected_data[f'exp_{i}'].append(data_df[i][0]*mean_col[i]**j)\n",
    "    expected_data=pd.DataFrame(expected_data)\n",
    "    final_data=pd.concat([date,expected_data],axis=1)\n",
    "    final_data2=data_df.values/expected_data.values\n",
    "    final_data2=pd.DataFrame(final_data2)\n",
    "    for_export_data=pd.concat([date,final_data2,vol],axis=1)\n",
    "    for_export_data.rename(columns={0:'<OPEN>',1:'<HIGH>',2:'<LOW>',3:'<CLOSE>'},inplace=True)\n",
    "    plt.plot(range(len(for_export_data.index)),for_export_data['<CLOSE>'],c='blue')\n",
    "    plt.plot([for_export_data['<CLOSE>'].mean()]*len(for_export_data.index),c='red')\n",
    "    plt.legend(['Close','Mean_return'])\n",
    "    plt.text(0,for_export_data['<CLOSE>'].mean(),f\"{for_export_data['<CLOSE>'].mean()}\",c='black')\n",
    "    plt.title(K.split('\\\\')[-1][-4])\n",
    "    plt.grid()\n",
    "    plt.show()\n",
    "    file=open('C:\\\\Users\\ADMIN\\Desktop\\\\tse\\\\'+'Expected-'+K.split('\\\\')[-1],'w')\n",
    "    file.write('<DTYYYYMMDD>,<OPEN>,<HIGH>,<LOW>,<CLOSE>,<VOL>')\n",
    "    file.write('\\n')\n",
    "    for i in for_export_data.index:\n",
    "        for j in for_export_data.columns:\n",
    "            if j != for_export_data.columns[-1]:\n",
    "                file.write(str(for_export_data[j][i]))\n",
    "                file.write(',')\n",
    "            else:\n",
    "                file.write(str(for_export_data[j][i]))\n",
    "        file.write('\\n')\n",
    "    file.close()\n",
    "\n"
   ],
   "metadata": {
    "collapsed": false,
    "pycharm": {
     "name": "#%%\n"
    }
   }
  },
  {
   "cell_type": "code",
   "execution_count": 17,
   "outputs": [
    {
     "data": {
      "text/plain": "'1'"
     },
     "execution_count": 17,
     "metadata": {},
     "output_type": "execute_result"
    }
   ],
   "source": [],
   "metadata": {
    "collapsed": false,
    "pycharm": {
     "name": "#%%\n"
    }
   }
  },
  {
   "cell_type": "code",
   "execution_count": null,
   "outputs": [],
   "source": [],
   "metadata": {
    "collapsed": false,
    "pycharm": {
     "name": "#%%\n"
    }
   }
  }
 ],
 "metadata": {
  "kernelspec": {
   "display_name": "Python 3",
   "language": "python",
   "name": "python3"
  },
  "language_info": {
   "codemirror_mode": {
    "name": "ipython",
    "version": 2
   },
   "file_extension": ".py",
   "mimetype": "text/x-python",
   "name": "python",
   "nbconvert_exporter": "python",
   "pygments_lexer": "ipython2",
   "version": "2.7.6"
  }
 },
 "nbformat": 4,
 "nbformat_minor": 0
}