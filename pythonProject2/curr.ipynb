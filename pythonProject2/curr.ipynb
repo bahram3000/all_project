{
 "cells": [
  {
   "cell_type": "code",
   "execution_count": 1,
   "metadata": {
    "collapsed": true
   },
   "outputs": [],
   "source": [
    "import numpy as np\n",
    "import pandas as pd\n",
    "import matplotlib.pyplot as plt"
   ]
  },
  {
   "cell_type": "code",
   "execution_count": 5,
   "outputs": [],
   "source": [
    "#!pip install openpyxl"
   ],
   "metadata": {
    "collapsed": false,
    "pycharm": {
     "name": "#%%\n"
    }
   }
  },
  {
   "cell_type": "code",
   "execution_count": 7,
   "outputs": [
    {
     "data": {
      "text/plain": "                            1960          1961          1962          1963  \\\nIRN_gdp_n           3.180844e+11  3.353414e+11  3.555377e+11  3.733436e+11   \niran,M2                      NaN           NaN           NaN           NaN   \nIRN_inflation       9.822411e+00  3.162564e+00  7.213206e-01  3.718496e-01   \ngdp_rate                     NaN  1.054253e+00  1.060226e+00  1.050082e+00   \nM2_rate                      NaN           NaN           NaN           NaN   \ninf_acc                      NaN           NaN           NaN           NaN   \nIran_constanat_gdp  1.629367e+15  1.798673e+15  1.940935e+15  2.077617e+15   \ngdp_growth                   NaN  1.103909e+00  1.079093e+00  1.070421e+00   \nexc_inf                      NaN           NaN           NaN           NaN   \nexc_inf_acc                  NaN           NaN           NaN           NaN   \nreal/exc_acc                 NaN           NaN           NaN           NaN   \nreal/exc                     NaN           NaN           NaN           NaN   \n\n                            1964          1965          1966          1967  \\\nIRN_gdp_n           4.075233e+11  4.694470e+11  5.143379e+11  5.723203e+11   \niran,M2                      NaN           NaN           NaN           NaN   \nIRN_inflation       3.814490e+00  2.154375e+00 -3.881485e-01  1.597610e+00   \ngdp_rate            1.091550e+00  1.151951e+00  1.095625e+00  1.112732e+00   \nM2_rate                      NaN           NaN           NaN           NaN   \ninf_acc                      NaN           NaN           NaN           NaN   \nIran_constanat_gdp  2.253700e+15  2.637633e+15  2.941025e+15  3.271972e+15   \ngdp_growth          1.084752e+00  1.170357e+00  1.115024e+00  1.112528e+00   \nexc_inf                      NaN           NaN           NaN           NaN   \nexc_inf_acc                  NaN           NaN           NaN           NaN   \nreal/exc_acc                 NaN           NaN           NaN           NaN   \nreal/exc                     NaN           NaN           NaN           NaN   \n\n                            1968          1969  ...          2013  \\\nIRN_gdp_n           6.532054e+11  7.380390e+11  ...  1.063500e+16   \niran,M2                      NaN           NaN  ...  7.823800e+06   \nIRN_inflation       6.903605e-01  3.593195e+00  ...  3.660304e+01   \ngdp_rate            1.141328e+00  1.129873e+00  ...  1.346939e+00   \nM2_rate                      NaN           NaN  ...  1.315466e+00   \ninf_acc                      NaN           NaN  ...  5.264131e+02   \nIran_constanat_gdp  3.743273e+15  4.324104e+15  ...  1.279522e+16   \ngdp_growth          1.144042e+00  1.155167e+00  ...  9.847802e-01   \nexc_inf                      NaN           NaN  ...  1.335797e+00   \nexc_inf_acc                  NaN           NaN  ...  1.681398e+03   \nreal/exc_acc                 NaN           NaN  ...  3.130807e-01   \nreal/exc                     NaN           NaN  ...  1.022634e+00   \n\n                            2014          2015          2016          2017  \\\nIRN_gdp_n           1.225471e+16  1.210389e+16  1.440889e+16  1.673642e+16   \niran,M2             1.017280e+07  1.253390e+07  1.529980e+07  1.882800e+07   \nIRN_inflation       1.660655e+01  1.248468e+01  7.245425e+00  8.044924e+00   \ngdp_rate            1.152300e+00  9.876931e-01  1.190435e+00  1.161534e+00   \nM2_rate             1.300238e+00  1.232099e+00  1.220674e+00  1.230604e+00   \ninf_acc             6.138322e+02  6.904672e+02  7.404945e+02  8.000667e+02   \nIran_constanat_gdp  1.343303e+16  1.324163e+16  1.440889e+16  1.480636e+16   \ngdp_growth          1.049848e+00  9.857512e-01  1.088151e+00  1.027585e+00   \nexc_inf             1.238501e+00  1.249909e+00  1.121787e+00  1.197569e+00   \nexc_inf_acc         2.082413e+03  2.602827e+03  2.919818e+03  3.496684e+03   \nreal/exc_acc        2.947697e-01  2.652759e-01  2.536098e-01  2.288073e-01   \nreal/exc            9.415134e-01  8.999429e-01  9.560230e-01  9.022018e-01   \n\n                            2018          2019          2020          2021  \\\nIRN_gdp_n           2.150957e+16  2.736401e+16  4.079138e+16  6.677450e+16   \niran,M2             2.470000e+07  3.476000e+07  4.832440e+07  6.548000e+07   \nIRN_inflation       1.801412e+01  3.990735e+01  3.059414e+01  4.338902e+01   \ngdp_rate            1.285195e+00  1.272179e+00  1.490694e+00  1.636976e+00   \nM2_rate             1.311876e+00  1.407287e+00  1.390230e+00  1.355009e+00   \ninf_acc             9.441916e+02  1.320993e+03  1.725140e+03  2.473661e+03   \nIran_constanat_gdp  1.447265e+16  1.408793e+16  1.455710e+16  1.524416e+16   \ngdp_growth          9.774614e-01  9.734179e-01  1.033303e+00  1.047198e+00   \nexc_inf             1.342126e+00  1.445718e+00  1.345424e+00  1.293938e+00   \nexc_inf_acc         4.692989e+03  6.784737e+03  9.128346e+03  1.181151e+04   \nreal/exc_acc        2.011920e-01  1.947008e-01  1.889871e-01  2.094280e-01   \nreal/exc            8.793076e-01  9.677363e-01  9.706544e-01  1.108160e+00   \n\n                           2022  \nIRN_gdp_n                   NaN  \niran,M2                     NaN  \nIRN_inflation         52.000000  \ngdp_rate                    NaN  \nM2_rate                     NaN  \ninf_acc             3759.965178  \nIran_constanat_gdp          NaN  \ngdp_growth                  NaN  \nexc_inf                     NaN  \nexc_inf_acc                 NaN  \nreal/exc_acc                NaN  \nreal/exc                    NaN  \n\n[12 rows x 63 columns]",
      "text/html": "<div>\n<style scoped>\n    .dataframe tbody tr th:only-of-type {\n        vertical-align: middle;\n    }\n\n    .dataframe tbody tr th {\n        vertical-align: top;\n    }\n\n    .dataframe thead th {\n        text-align: right;\n    }\n</style>\n<table border=\"1\" class=\"dataframe\">\n  <thead>\n    <tr style=\"text-align: right;\">\n      <th></th>\n      <th>1960</th>\n      <th>1961</th>\n      <th>1962</th>\n      <th>1963</th>\n      <th>1964</th>\n      <th>1965</th>\n      <th>1966</th>\n      <th>1967</th>\n      <th>1968</th>\n      <th>1969</th>\n      <th>...</th>\n      <th>2013</th>\n      <th>2014</th>\n      <th>2015</th>\n      <th>2016</th>\n      <th>2017</th>\n      <th>2018</th>\n      <th>2019</th>\n      <th>2020</th>\n      <th>2021</th>\n      <th>2022</th>\n    </tr>\n  </thead>\n  <tbody>\n    <tr>\n      <th>IRN_gdp_n</th>\n      <td>3.180844e+11</td>\n      <td>3.353414e+11</td>\n      <td>3.555377e+11</td>\n      <td>3.733436e+11</td>\n      <td>4.075233e+11</td>\n      <td>4.694470e+11</td>\n      <td>5.143379e+11</td>\n      <td>5.723203e+11</td>\n      <td>6.532054e+11</td>\n      <td>7.380390e+11</td>\n      <td>...</td>\n      <td>1.063500e+16</td>\n      <td>1.225471e+16</td>\n      <td>1.210389e+16</td>\n      <td>1.440889e+16</td>\n      <td>1.673642e+16</td>\n      <td>2.150957e+16</td>\n      <td>2.736401e+16</td>\n      <td>4.079138e+16</td>\n      <td>6.677450e+16</td>\n      <td>NaN</td>\n    </tr>\n    <tr>\n      <th>iran,M2</th>\n      <td>NaN</td>\n      <td>NaN</td>\n      <td>NaN</td>\n      <td>NaN</td>\n      <td>NaN</td>\n      <td>NaN</td>\n      <td>NaN</td>\n      <td>NaN</td>\n      <td>NaN</td>\n      <td>NaN</td>\n      <td>...</td>\n      <td>7.823800e+06</td>\n      <td>1.017280e+07</td>\n      <td>1.253390e+07</td>\n      <td>1.529980e+07</td>\n      <td>1.882800e+07</td>\n      <td>2.470000e+07</td>\n      <td>3.476000e+07</td>\n      <td>4.832440e+07</td>\n      <td>6.548000e+07</td>\n      <td>NaN</td>\n    </tr>\n    <tr>\n      <th>IRN_inflation</th>\n      <td>9.822411e+00</td>\n      <td>3.162564e+00</td>\n      <td>7.213206e-01</td>\n      <td>3.718496e-01</td>\n      <td>3.814490e+00</td>\n      <td>2.154375e+00</td>\n      <td>-3.881485e-01</td>\n      <td>1.597610e+00</td>\n      <td>6.903605e-01</td>\n      <td>3.593195e+00</td>\n      <td>...</td>\n      <td>3.660304e+01</td>\n      <td>1.660655e+01</td>\n      <td>1.248468e+01</td>\n      <td>7.245425e+00</td>\n      <td>8.044924e+00</td>\n      <td>1.801412e+01</td>\n      <td>3.990735e+01</td>\n      <td>3.059414e+01</td>\n      <td>4.338902e+01</td>\n      <td>52.000000</td>\n    </tr>\n    <tr>\n      <th>gdp_rate</th>\n      <td>NaN</td>\n      <td>1.054253e+00</td>\n      <td>1.060226e+00</td>\n      <td>1.050082e+00</td>\n      <td>1.091550e+00</td>\n      <td>1.151951e+00</td>\n      <td>1.095625e+00</td>\n      <td>1.112732e+00</td>\n      <td>1.141328e+00</td>\n      <td>1.129873e+00</td>\n      <td>...</td>\n      <td>1.346939e+00</td>\n      <td>1.152300e+00</td>\n      <td>9.876931e-01</td>\n      <td>1.190435e+00</td>\n      <td>1.161534e+00</td>\n      <td>1.285195e+00</td>\n      <td>1.272179e+00</td>\n      <td>1.490694e+00</td>\n      <td>1.636976e+00</td>\n      <td>NaN</td>\n    </tr>\n    <tr>\n      <th>M2_rate</th>\n      <td>NaN</td>\n      <td>NaN</td>\n      <td>NaN</td>\n      <td>NaN</td>\n      <td>NaN</td>\n      <td>NaN</td>\n      <td>NaN</td>\n      <td>NaN</td>\n      <td>NaN</td>\n      <td>NaN</td>\n      <td>...</td>\n      <td>1.315466e+00</td>\n      <td>1.300238e+00</td>\n      <td>1.232099e+00</td>\n      <td>1.220674e+00</td>\n      <td>1.230604e+00</td>\n      <td>1.311876e+00</td>\n      <td>1.407287e+00</td>\n      <td>1.390230e+00</td>\n      <td>1.355009e+00</td>\n      <td>NaN</td>\n    </tr>\n    <tr>\n      <th>inf_acc</th>\n      <td>NaN</td>\n      <td>NaN</td>\n      <td>NaN</td>\n      <td>NaN</td>\n      <td>NaN</td>\n      <td>NaN</td>\n      <td>NaN</td>\n      <td>NaN</td>\n      <td>NaN</td>\n      <td>NaN</td>\n      <td>...</td>\n      <td>5.264131e+02</td>\n      <td>6.138322e+02</td>\n      <td>6.904672e+02</td>\n      <td>7.404945e+02</td>\n      <td>8.000667e+02</td>\n      <td>9.441916e+02</td>\n      <td>1.320993e+03</td>\n      <td>1.725140e+03</td>\n      <td>2.473661e+03</td>\n      <td>3759.965178</td>\n    </tr>\n    <tr>\n      <th>Iran_constanat_gdp</th>\n      <td>1.629367e+15</td>\n      <td>1.798673e+15</td>\n      <td>1.940935e+15</td>\n      <td>2.077617e+15</td>\n      <td>2.253700e+15</td>\n      <td>2.637633e+15</td>\n      <td>2.941025e+15</td>\n      <td>3.271972e+15</td>\n      <td>3.743273e+15</td>\n      <td>4.324104e+15</td>\n      <td>...</td>\n      <td>1.279522e+16</td>\n      <td>1.343303e+16</td>\n      <td>1.324163e+16</td>\n      <td>1.440889e+16</td>\n      <td>1.480636e+16</td>\n      <td>1.447265e+16</td>\n      <td>1.408793e+16</td>\n      <td>1.455710e+16</td>\n      <td>1.524416e+16</td>\n      <td>NaN</td>\n    </tr>\n    <tr>\n      <th>gdp_growth</th>\n      <td>NaN</td>\n      <td>1.103909e+00</td>\n      <td>1.079093e+00</td>\n      <td>1.070421e+00</td>\n      <td>1.084752e+00</td>\n      <td>1.170357e+00</td>\n      <td>1.115024e+00</td>\n      <td>1.112528e+00</td>\n      <td>1.144042e+00</td>\n      <td>1.155167e+00</td>\n      <td>...</td>\n      <td>9.847802e-01</td>\n      <td>1.049848e+00</td>\n      <td>9.857512e-01</td>\n      <td>1.088151e+00</td>\n      <td>1.027585e+00</td>\n      <td>9.774614e-01</td>\n      <td>9.734179e-01</td>\n      <td>1.033303e+00</td>\n      <td>1.047198e+00</td>\n      <td>NaN</td>\n    </tr>\n    <tr>\n      <th>exc_inf</th>\n      <td>NaN</td>\n      <td>NaN</td>\n      <td>NaN</td>\n      <td>NaN</td>\n      <td>NaN</td>\n      <td>NaN</td>\n      <td>NaN</td>\n      <td>NaN</td>\n      <td>NaN</td>\n      <td>NaN</td>\n      <td>...</td>\n      <td>1.335797e+00</td>\n      <td>1.238501e+00</td>\n      <td>1.249909e+00</td>\n      <td>1.121787e+00</td>\n      <td>1.197569e+00</td>\n      <td>1.342126e+00</td>\n      <td>1.445718e+00</td>\n      <td>1.345424e+00</td>\n      <td>1.293938e+00</td>\n      <td>NaN</td>\n    </tr>\n    <tr>\n      <th>exc_inf_acc</th>\n      <td>NaN</td>\n      <td>NaN</td>\n      <td>NaN</td>\n      <td>NaN</td>\n      <td>NaN</td>\n      <td>NaN</td>\n      <td>NaN</td>\n      <td>NaN</td>\n      <td>NaN</td>\n      <td>NaN</td>\n      <td>...</td>\n      <td>1.681398e+03</td>\n      <td>2.082413e+03</td>\n      <td>2.602827e+03</td>\n      <td>2.919818e+03</td>\n      <td>3.496684e+03</td>\n      <td>4.692989e+03</td>\n      <td>6.784737e+03</td>\n      <td>9.128346e+03</td>\n      <td>1.181151e+04</td>\n      <td>NaN</td>\n    </tr>\n    <tr>\n      <th>real/exc_acc</th>\n      <td>NaN</td>\n      <td>NaN</td>\n      <td>NaN</td>\n      <td>NaN</td>\n      <td>NaN</td>\n      <td>NaN</td>\n      <td>NaN</td>\n      <td>NaN</td>\n      <td>NaN</td>\n      <td>NaN</td>\n      <td>...</td>\n      <td>3.130807e-01</td>\n      <td>2.947697e-01</td>\n      <td>2.652759e-01</td>\n      <td>2.536098e-01</td>\n      <td>2.288073e-01</td>\n      <td>2.011920e-01</td>\n      <td>1.947008e-01</td>\n      <td>1.889871e-01</td>\n      <td>2.094280e-01</td>\n      <td>NaN</td>\n    </tr>\n    <tr>\n      <th>real/exc</th>\n      <td>NaN</td>\n      <td>NaN</td>\n      <td>NaN</td>\n      <td>NaN</td>\n      <td>NaN</td>\n      <td>NaN</td>\n      <td>NaN</td>\n      <td>NaN</td>\n      <td>NaN</td>\n      <td>NaN</td>\n      <td>...</td>\n      <td>1.022634e+00</td>\n      <td>9.415134e-01</td>\n      <td>8.999429e-01</td>\n      <td>9.560230e-01</td>\n      <td>9.022018e-01</td>\n      <td>8.793076e-01</td>\n      <td>9.677363e-01</td>\n      <td>9.706544e-01</td>\n      <td>1.108160e+00</td>\n      <td>NaN</td>\n    </tr>\n  </tbody>\n</table>\n<p>12 rows × 63 columns</p>\n</div>"
     },
     "execution_count": 7,
     "metadata": {},
     "output_type": "execute_result"
    }
   ],
   "source": [
    "cur_df=pd.read_excel('F:\\my project\\dataset\\curr\\monetary.xlsx')\n",
    "cur_df.rename(index=cur_df.Index,inplace=True)\n",
    "cur_df.drop('Index',axis=1,inplace=True)\n",
    "cur_df"
   ],
   "metadata": {
    "collapsed": false,
    "pycharm": {
     "name": "#%%\n"
    }
   }
  },
  {
   "cell_type": "code",
   "execution_count": 9,
   "outputs": [
    {
     "data": {
      "text/plain": "         IRN_gdp_n     iran,M2  IRN_inflation  gdp_rate   M2_rate  \\\n1960  3.180844e+11         NaN       9.822411       NaN       NaN   \n1961  3.353414e+11         NaN       3.162564  1.054253       NaN   \n1962  3.555377e+11         NaN       0.721321  1.060226       NaN   \n1963  3.733436e+11         NaN       0.371850  1.050082       NaN   \n1964  4.075233e+11         NaN       3.814490  1.091550       NaN   \n...            ...         ...            ...       ...       ...   \n2018  2.150957e+16  24700000.0      18.014118  1.285195  1.311876   \n2019  2.736401e+16  34760000.0      39.907346  1.272179  1.407287   \n2020  4.079138e+16  48324400.0      30.594139  1.490694  1.390230   \n2021  6.677450e+16  65480000.0      43.389016  1.636976  1.355009   \n2022           NaN         NaN      52.000000       NaN       NaN   \n\n          inf_acc  Iran_constanat_gdp  gdp_growth   exc_inf   exc_inf_acc  \\\n1960          NaN        1.629367e+15         NaN       NaN           NaN   \n1961          NaN        1.798673e+15    1.103909       NaN           NaN   \n1962          NaN        1.940935e+15    1.079093       NaN           NaN   \n1963          NaN        2.077617e+15    1.070421       NaN           NaN   \n1964          NaN        2.253700e+15    1.084752       NaN           NaN   \n...           ...                 ...         ...       ...           ...   \n2018   944.191630        1.447265e+16    0.977461  1.342126   4692.989075   \n2019  1320.993446        1.408793e+16    0.973418  1.445718   6784.736955   \n2020  1725.140018        1.455710e+16    1.033303  1.345424   9128.345631   \n2021  2473.661301        1.524416e+16    1.047198  1.293938  11811.513865   \n2022  3759.965178                 NaN         NaN       NaN           NaN   \n\n      real/exc_acc  real/exc  \n1960           NaN       NaN  \n1961           NaN       NaN  \n1962           NaN       NaN  \n1963           NaN       NaN  \n1964           NaN       NaN  \n...            ...       ...  \n2018      0.201192  0.879308  \n2019      0.194701  0.967736  \n2020      0.188987  0.970654  \n2021      0.209428  1.108160  \n2022           NaN       NaN  \n\n[63 rows x 12 columns]",
      "text/html": "<div>\n<style scoped>\n    .dataframe tbody tr th:only-of-type {\n        vertical-align: middle;\n    }\n\n    .dataframe tbody tr th {\n        vertical-align: top;\n    }\n\n    .dataframe thead th {\n        text-align: right;\n    }\n</style>\n<table border=\"1\" class=\"dataframe\">\n  <thead>\n    <tr style=\"text-align: right;\">\n      <th></th>\n      <th>IRN_gdp_n</th>\n      <th>iran,M2</th>\n      <th>IRN_inflation</th>\n      <th>gdp_rate</th>\n      <th>M2_rate</th>\n      <th>inf_acc</th>\n      <th>Iran_constanat_gdp</th>\n      <th>gdp_growth</th>\n      <th>exc_inf</th>\n      <th>exc_inf_acc</th>\n      <th>real/exc_acc</th>\n      <th>real/exc</th>\n    </tr>\n  </thead>\n  <tbody>\n    <tr>\n      <th>1960</th>\n      <td>3.180844e+11</td>\n      <td>NaN</td>\n      <td>9.822411</td>\n      <td>NaN</td>\n      <td>NaN</td>\n      <td>NaN</td>\n      <td>1.629367e+15</td>\n      <td>NaN</td>\n      <td>NaN</td>\n      <td>NaN</td>\n      <td>NaN</td>\n      <td>NaN</td>\n    </tr>\n    <tr>\n      <th>1961</th>\n      <td>3.353414e+11</td>\n      <td>NaN</td>\n      <td>3.162564</td>\n      <td>1.054253</td>\n      <td>NaN</td>\n      <td>NaN</td>\n      <td>1.798673e+15</td>\n      <td>1.103909</td>\n      <td>NaN</td>\n      <td>NaN</td>\n      <td>NaN</td>\n      <td>NaN</td>\n    </tr>\n    <tr>\n      <th>1962</th>\n      <td>3.555377e+11</td>\n      <td>NaN</td>\n      <td>0.721321</td>\n      <td>1.060226</td>\n      <td>NaN</td>\n      <td>NaN</td>\n      <td>1.940935e+15</td>\n      <td>1.079093</td>\n      <td>NaN</td>\n      <td>NaN</td>\n      <td>NaN</td>\n      <td>NaN</td>\n    </tr>\n    <tr>\n      <th>1963</th>\n      <td>3.733436e+11</td>\n      <td>NaN</td>\n      <td>0.371850</td>\n      <td>1.050082</td>\n      <td>NaN</td>\n      <td>NaN</td>\n      <td>2.077617e+15</td>\n      <td>1.070421</td>\n      <td>NaN</td>\n      <td>NaN</td>\n      <td>NaN</td>\n      <td>NaN</td>\n    </tr>\n    <tr>\n      <th>1964</th>\n      <td>4.075233e+11</td>\n      <td>NaN</td>\n      <td>3.814490</td>\n      <td>1.091550</td>\n      <td>NaN</td>\n      <td>NaN</td>\n      <td>2.253700e+15</td>\n      <td>1.084752</td>\n      <td>NaN</td>\n      <td>NaN</td>\n      <td>NaN</td>\n      <td>NaN</td>\n    </tr>\n    <tr>\n      <th>...</th>\n      <td>...</td>\n      <td>...</td>\n      <td>...</td>\n      <td>...</td>\n      <td>...</td>\n      <td>...</td>\n      <td>...</td>\n      <td>...</td>\n      <td>...</td>\n      <td>...</td>\n      <td>...</td>\n      <td>...</td>\n    </tr>\n    <tr>\n      <th>2018</th>\n      <td>2.150957e+16</td>\n      <td>24700000.0</td>\n      <td>18.014118</td>\n      <td>1.285195</td>\n      <td>1.311876</td>\n      <td>944.191630</td>\n      <td>1.447265e+16</td>\n      <td>0.977461</td>\n      <td>1.342126</td>\n      <td>4692.989075</td>\n      <td>0.201192</td>\n      <td>0.879308</td>\n    </tr>\n    <tr>\n      <th>2019</th>\n      <td>2.736401e+16</td>\n      <td>34760000.0</td>\n      <td>39.907346</td>\n      <td>1.272179</td>\n      <td>1.407287</td>\n      <td>1320.993446</td>\n      <td>1.408793e+16</td>\n      <td>0.973418</td>\n      <td>1.445718</td>\n      <td>6784.736955</td>\n      <td>0.194701</td>\n      <td>0.967736</td>\n    </tr>\n    <tr>\n      <th>2020</th>\n      <td>4.079138e+16</td>\n      <td>48324400.0</td>\n      <td>30.594139</td>\n      <td>1.490694</td>\n      <td>1.390230</td>\n      <td>1725.140018</td>\n      <td>1.455710e+16</td>\n      <td>1.033303</td>\n      <td>1.345424</td>\n      <td>9128.345631</td>\n      <td>0.188987</td>\n      <td>0.970654</td>\n    </tr>\n    <tr>\n      <th>2021</th>\n      <td>6.677450e+16</td>\n      <td>65480000.0</td>\n      <td>43.389016</td>\n      <td>1.636976</td>\n      <td>1.355009</td>\n      <td>2473.661301</td>\n      <td>1.524416e+16</td>\n      <td>1.047198</td>\n      <td>1.293938</td>\n      <td>11811.513865</td>\n      <td>0.209428</td>\n      <td>1.108160</td>\n    </tr>\n    <tr>\n      <th>2022</th>\n      <td>NaN</td>\n      <td>NaN</td>\n      <td>52.000000</td>\n      <td>NaN</td>\n      <td>NaN</td>\n      <td>3759.965178</td>\n      <td>NaN</td>\n      <td>NaN</td>\n      <td>NaN</td>\n      <td>NaN</td>\n      <td>NaN</td>\n      <td>NaN</td>\n    </tr>\n  </tbody>\n</table>\n<p>63 rows × 12 columns</p>\n</div>"
     },
     "execution_count": 9,
     "metadata": {},
     "output_type": "execute_result"
    }
   ],
   "source": [
    "curr_index_df=pd.DataFrame(cur_df.values.transpose(),index=cur_df.columns,columns=cur_df.index)\n",
    "curr_index_df"
   ],
   "metadata": {
    "collapsed": false,
    "pycharm": {
     "name": "#%%\n"
    }
   }
  },
  {
   "cell_type": "code",
   "execution_count": 11,
   "outputs": [],
   "source": [
    "curr_index_df.to_csv('F:\\my project\\dataset\\curr\\monetary2.csv')"
   ],
   "metadata": {
    "collapsed": false,
    "pycharm": {
     "name": "#%%\n"
    }
   }
  },
  {
   "cell_type": "code",
   "execution_count": 14,
   "outputs": [
    {
     "data": {
      "text/plain": "         IRN_gdp_n     iran,M2  IRN_inflation  gdp_rate   M2_rate  \\\n1960  3.180844e+11         NaN       9.822411       NaN       NaN   \n1961  3.353414e+11         NaN       3.162564  1.054253       NaN   \n1962  3.555377e+11         NaN       0.721321  1.060226       NaN   \n1963  3.733436e+11         NaN       0.371850  1.050082       NaN   \n1964  4.075233e+11         NaN       3.814490  1.091550       NaN   \n...            ...         ...            ...       ...       ...   \n2018  2.150957e+16  24700000.0      18.014118  1.285195  1.311876   \n2019  2.736401e+16  34760000.0      39.907346  1.272179  1.407287   \n2020  4.079138e+16  48324400.0      30.594139  1.490694  1.390230   \n2021  6.677450e+16  65480000.0      43.389016  1.636976  1.355009   \n2022           NaN         NaN      52.000000       NaN       NaN   \n\n          inf_acc  Iran_constanat_gdp  gdp_growth   exc_inf   exc_inf_acc  \\\n1960          NaN        1.629367e+15         NaN       NaN           NaN   \n1961          NaN        1.798673e+15    1.103909       NaN           NaN   \n1962          NaN        1.940935e+15    1.079093       NaN           NaN   \n1963          NaN        2.077617e+15    1.070421       NaN           NaN   \n1964          NaN        2.253700e+15    1.084752       NaN           NaN   \n...           ...                 ...         ...       ...           ...   \n2018   944.191630        1.447265e+16    0.977461  1.342126   4692.989075   \n2019  1320.993446        1.408793e+16    0.973418  1.445718   6784.736955   \n2020  1725.140018        1.455710e+16    1.033303  1.345424   9128.345631   \n2021  2473.661301        1.524416e+16    1.047198  1.293938  11811.513865   \n2022  3759.965178                 NaN         NaN       NaN           NaN   \n\n      real/exc_acc  real/exc  usd/irr   gold_coin  stock_ind  hosing_prm  \\\n1960           NaN       NaN      NaN         NaN        NaN         NaN   \n1961           NaN       NaN      NaN         NaN        NaN         NaN   \n1962           NaN       NaN      NaN         NaN        NaN         NaN   \n1963           NaN       NaN      NaN         NaN        NaN         NaN   \n1964           NaN       NaN      NaN         NaN        NaN         NaN   \n...            ...       ...      ...         ...        ...         ...   \n2018      0.201192  0.879308  15067.0   3825000.0   171443.5   8200000.0   \n2019      0.194701  0.967736  15757.0   5012000.0   395953.0  13000000.0   \n2020      0.188987  0.970654  31050.0  10360000.0  1310691.5  25000000.0   \n2021      0.209428  1.108160  26000.0  12150000.0  1346719.0  35000000.0   \n2022           NaN       NaN  42000.0  19651000.0  1468000.0  46700000.0   \n\n        all_pr_ind  all_ind_rate   all_ind_acc  all/exc_inf_acc  \n1960  0.000000e+00           NaN           NaN              NaN  \n1961  0.000000e+00           NaN           NaN              NaN  \n1962  0.000000e+00           NaN           NaN              NaN  \n1963  0.000000e+00           NaN           NaN              NaN  \n1964  0.000000e+00           NaN           NaN              NaN  \n...            ...           ...           ...              ...  \n2018  1.221245e+07      1.796010   9920.759295         0.473047  \n2019  1.842503e+07      1.508708  14967.531270         0.453297  \n2020  3.670347e+07      1.992044  29815.976149         0.306156  \n2021  4.852519e+07      1.322087  39419.327913         0.299638  \n2022  6.786476e+07      1.398547  55129.780638         0.000000  \n\n[63 rows x 20 columns]",
      "text/html": "<div>\n<style scoped>\n    .dataframe tbody tr th:only-of-type {\n        vertical-align: middle;\n    }\n\n    .dataframe tbody tr th {\n        vertical-align: top;\n    }\n\n    .dataframe thead th {\n        text-align: right;\n    }\n</style>\n<table border=\"1\" class=\"dataframe\">\n  <thead>\n    <tr style=\"text-align: right;\">\n      <th></th>\n      <th>IRN_gdp_n</th>\n      <th>iran,M2</th>\n      <th>IRN_inflation</th>\n      <th>gdp_rate</th>\n      <th>M2_rate</th>\n      <th>inf_acc</th>\n      <th>Iran_constanat_gdp</th>\n      <th>gdp_growth</th>\n      <th>exc_inf</th>\n      <th>exc_inf_acc</th>\n      <th>real/exc_acc</th>\n      <th>real/exc</th>\n      <th>usd/irr</th>\n      <th>gold_coin</th>\n      <th>stock_ind</th>\n      <th>hosing_prm</th>\n      <th>all_pr_ind</th>\n      <th>all_ind_rate</th>\n      <th>all_ind_acc</th>\n      <th>all/exc_inf_acc</th>\n    </tr>\n  </thead>\n  <tbody>\n    <tr>\n      <th>1960</th>\n      <td>3.180844e+11</td>\n      <td>NaN</td>\n      <td>9.822411</td>\n      <td>NaN</td>\n      <td>NaN</td>\n      <td>NaN</td>\n      <td>1.629367e+15</td>\n      <td>NaN</td>\n      <td>NaN</td>\n      <td>NaN</td>\n      <td>NaN</td>\n      <td>NaN</td>\n      <td>NaN</td>\n      <td>NaN</td>\n      <td>NaN</td>\n      <td>NaN</td>\n      <td>0.000000e+00</td>\n      <td>NaN</td>\n      <td>NaN</td>\n      <td>NaN</td>\n    </tr>\n    <tr>\n      <th>1961</th>\n      <td>3.353414e+11</td>\n      <td>NaN</td>\n      <td>3.162564</td>\n      <td>1.054253</td>\n      <td>NaN</td>\n      <td>NaN</td>\n      <td>1.798673e+15</td>\n      <td>1.103909</td>\n      <td>NaN</td>\n      <td>NaN</td>\n      <td>NaN</td>\n      <td>NaN</td>\n      <td>NaN</td>\n      <td>NaN</td>\n      <td>NaN</td>\n      <td>NaN</td>\n      <td>0.000000e+00</td>\n      <td>NaN</td>\n      <td>NaN</td>\n      <td>NaN</td>\n    </tr>\n    <tr>\n      <th>1962</th>\n      <td>3.555377e+11</td>\n      <td>NaN</td>\n      <td>0.721321</td>\n      <td>1.060226</td>\n      <td>NaN</td>\n      <td>NaN</td>\n      <td>1.940935e+15</td>\n      <td>1.079093</td>\n      <td>NaN</td>\n      <td>NaN</td>\n      <td>NaN</td>\n      <td>NaN</td>\n      <td>NaN</td>\n      <td>NaN</td>\n      <td>NaN</td>\n      <td>NaN</td>\n      <td>0.000000e+00</td>\n      <td>NaN</td>\n      <td>NaN</td>\n      <td>NaN</td>\n    </tr>\n    <tr>\n      <th>1963</th>\n      <td>3.733436e+11</td>\n      <td>NaN</td>\n      <td>0.371850</td>\n      <td>1.050082</td>\n      <td>NaN</td>\n      <td>NaN</td>\n      <td>2.077617e+15</td>\n      <td>1.070421</td>\n      <td>NaN</td>\n      <td>NaN</td>\n      <td>NaN</td>\n      <td>NaN</td>\n      <td>NaN</td>\n      <td>NaN</td>\n      <td>NaN</td>\n      <td>NaN</td>\n      <td>0.000000e+00</td>\n      <td>NaN</td>\n      <td>NaN</td>\n      <td>NaN</td>\n    </tr>\n    <tr>\n      <th>1964</th>\n      <td>4.075233e+11</td>\n      <td>NaN</td>\n      <td>3.814490</td>\n      <td>1.091550</td>\n      <td>NaN</td>\n      <td>NaN</td>\n      <td>2.253700e+15</td>\n      <td>1.084752</td>\n      <td>NaN</td>\n      <td>NaN</td>\n      <td>NaN</td>\n      <td>NaN</td>\n      <td>NaN</td>\n      <td>NaN</td>\n      <td>NaN</td>\n      <td>NaN</td>\n      <td>0.000000e+00</td>\n      <td>NaN</td>\n      <td>NaN</td>\n      <td>NaN</td>\n    </tr>\n    <tr>\n      <th>...</th>\n      <td>...</td>\n      <td>...</td>\n      <td>...</td>\n      <td>...</td>\n      <td>...</td>\n      <td>...</td>\n      <td>...</td>\n      <td>...</td>\n      <td>...</td>\n      <td>...</td>\n      <td>...</td>\n      <td>...</td>\n      <td>...</td>\n      <td>...</td>\n      <td>...</td>\n      <td>...</td>\n      <td>...</td>\n      <td>...</td>\n      <td>...</td>\n      <td>...</td>\n    </tr>\n    <tr>\n      <th>2018</th>\n      <td>2.150957e+16</td>\n      <td>24700000.0</td>\n      <td>18.014118</td>\n      <td>1.285195</td>\n      <td>1.311876</td>\n      <td>944.191630</td>\n      <td>1.447265e+16</td>\n      <td>0.977461</td>\n      <td>1.342126</td>\n      <td>4692.989075</td>\n      <td>0.201192</td>\n      <td>0.879308</td>\n      <td>15067.0</td>\n      <td>3825000.0</td>\n      <td>171443.5</td>\n      <td>8200000.0</td>\n      <td>1.221245e+07</td>\n      <td>1.796010</td>\n      <td>9920.759295</td>\n      <td>0.473047</td>\n    </tr>\n    <tr>\n      <th>2019</th>\n      <td>2.736401e+16</td>\n      <td>34760000.0</td>\n      <td>39.907346</td>\n      <td>1.272179</td>\n      <td>1.407287</td>\n      <td>1320.993446</td>\n      <td>1.408793e+16</td>\n      <td>0.973418</td>\n      <td>1.445718</td>\n      <td>6784.736955</td>\n      <td>0.194701</td>\n      <td>0.967736</td>\n      <td>15757.0</td>\n      <td>5012000.0</td>\n      <td>395953.0</td>\n      <td>13000000.0</td>\n      <td>1.842503e+07</td>\n      <td>1.508708</td>\n      <td>14967.531270</td>\n      <td>0.453297</td>\n    </tr>\n    <tr>\n      <th>2020</th>\n      <td>4.079138e+16</td>\n      <td>48324400.0</td>\n      <td>30.594139</td>\n      <td>1.490694</td>\n      <td>1.390230</td>\n      <td>1725.140018</td>\n      <td>1.455710e+16</td>\n      <td>1.033303</td>\n      <td>1.345424</td>\n      <td>9128.345631</td>\n      <td>0.188987</td>\n      <td>0.970654</td>\n      <td>31050.0</td>\n      <td>10360000.0</td>\n      <td>1310691.5</td>\n      <td>25000000.0</td>\n      <td>3.670347e+07</td>\n      <td>1.992044</td>\n      <td>29815.976149</td>\n      <td>0.306156</td>\n    </tr>\n    <tr>\n      <th>2021</th>\n      <td>6.677450e+16</td>\n      <td>65480000.0</td>\n      <td>43.389016</td>\n      <td>1.636976</td>\n      <td>1.355009</td>\n      <td>2473.661301</td>\n      <td>1.524416e+16</td>\n      <td>1.047198</td>\n      <td>1.293938</td>\n      <td>11811.513865</td>\n      <td>0.209428</td>\n      <td>1.108160</td>\n      <td>26000.0</td>\n      <td>12150000.0</td>\n      <td>1346719.0</td>\n      <td>35000000.0</td>\n      <td>4.852519e+07</td>\n      <td>1.322087</td>\n      <td>39419.327913</td>\n      <td>0.299638</td>\n    </tr>\n    <tr>\n      <th>2022</th>\n      <td>NaN</td>\n      <td>NaN</td>\n      <td>52.000000</td>\n      <td>NaN</td>\n      <td>NaN</td>\n      <td>3759.965178</td>\n      <td>NaN</td>\n      <td>NaN</td>\n      <td>NaN</td>\n      <td>NaN</td>\n      <td>NaN</td>\n      <td>NaN</td>\n      <td>42000.0</td>\n      <td>19651000.0</td>\n      <td>1468000.0</td>\n      <td>46700000.0</td>\n      <td>6.786476e+07</td>\n      <td>1.398547</td>\n      <td>55129.780638</td>\n      <td>0.000000</td>\n    </tr>\n  </tbody>\n</table>\n<p>63 rows × 20 columns</p>\n</div>"
     },
     "execution_count": 14,
     "metadata": {},
     "output_type": "execute_result"
    }
   ],
   "source": [
    "index_df=pd.read_excel('F:\\my project\\dataset\\curr\\monetary2.xlsx')\n",
    "index_df.rename(index=index_df['Unnamed: 0'],inplace=True)\n",
    "index_df.drop('Unnamed: 0',axis=1,inplace=True)\n",
    "index_df"
   ],
   "metadata": {
    "collapsed": false,
    "pycharm": {
     "name": "#%%\n"
    }
   }
  },
  {
   "cell_type": "code",
   "execution_count": 31,
   "outputs": [
    {
     "data": {
      "text/plain": "             0\n1960  1.000000\n1961  1.054253\n1962  1.060226\n1963  1.050082\n1964  1.091550\n...        ...\n2018  1.285195\n2019  1.272179\n2020  1.490694\n2021  1.636976\n2022       NaN\n\n[63 rows x 1 columns]",
      "text/html": "<div>\n<style scoped>\n    .dataframe tbody tr th:only-of-type {\n        vertical-align: middle;\n    }\n\n    .dataframe tbody tr th {\n        vertical-align: top;\n    }\n\n    .dataframe thead th {\n        text-align: right;\n    }\n</style>\n<table border=\"1\" class=\"dataframe\">\n  <thead>\n    <tr style=\"text-align: right;\">\n      <th></th>\n      <th>0</th>\n    </tr>\n  </thead>\n  <tbody>\n    <tr>\n      <th>1960</th>\n      <td>1.000000</td>\n    </tr>\n    <tr>\n      <th>1961</th>\n      <td>1.054253</td>\n    </tr>\n    <tr>\n      <th>1962</th>\n      <td>1.060226</td>\n    </tr>\n    <tr>\n      <th>1963</th>\n      <td>1.050082</td>\n    </tr>\n    <tr>\n      <th>1964</th>\n      <td>1.091550</td>\n    </tr>\n    <tr>\n      <th>...</th>\n      <td>...</td>\n    </tr>\n    <tr>\n      <th>2018</th>\n      <td>1.285195</td>\n    </tr>\n    <tr>\n      <th>2019</th>\n      <td>1.272179</td>\n    </tr>\n    <tr>\n      <th>2020</th>\n      <td>1.490694</td>\n    </tr>\n    <tr>\n      <th>2021</th>\n      <td>1.636976</td>\n    </tr>\n    <tr>\n      <th>2022</th>\n      <td>NaN</td>\n    </tr>\n  </tbody>\n</table>\n<p>63 rows × 1 columns</p>\n</div>"
     },
     "execution_count": 31,
     "metadata": {},
     "output_type": "execute_result"
    }
   ],
   "source": [
    "a=[index_df['IRN_gdp_n'][i]/index_df['IRN_gdp_n'][i-1] for i in index_df.index[1:]]\n",
    "a.insert(0,1)\n",
    "a=pd.DataFrame(np.array(a).reshape(-1,1),index=index_df.index)\n",
    "a"
   ],
   "metadata": {
    "collapsed": false,
    "pycharm": {
     "name": "#%%\n"
    }
   }
  },
  {
   "cell_type": "code",
   "execution_count": 32,
   "outputs": [
    {
     "data": {
      "text/plain": "       M2_rate  gdp_n_rate\n1960       NaN    1.000000\n1961       NaN    1.054253\n1962       NaN    1.060226\n1963       NaN    1.050082\n1964       NaN    1.091550\n...        ...         ...\n2018  1.311876    1.285195\n2019  1.407287    1.272179\n2020  1.390230    1.490694\n2021  1.355009    1.636976\n2022       NaN         NaN\n\n[63 rows x 2 columns]",
      "text/html": "<div>\n<style scoped>\n    .dataframe tbody tr th:only-of-type {\n        vertical-align: middle;\n    }\n\n    .dataframe tbody tr th {\n        vertical-align: top;\n    }\n\n    .dataframe thead th {\n        text-align: right;\n    }\n</style>\n<table border=\"1\" class=\"dataframe\">\n  <thead>\n    <tr style=\"text-align: right;\">\n      <th></th>\n      <th>M2_rate</th>\n      <th>gdp_n_rate</th>\n    </tr>\n  </thead>\n  <tbody>\n    <tr>\n      <th>1960</th>\n      <td>NaN</td>\n      <td>1.000000</td>\n    </tr>\n    <tr>\n      <th>1961</th>\n      <td>NaN</td>\n      <td>1.054253</td>\n    </tr>\n    <tr>\n      <th>1962</th>\n      <td>NaN</td>\n      <td>1.060226</td>\n    </tr>\n    <tr>\n      <th>1963</th>\n      <td>NaN</td>\n      <td>1.050082</td>\n    </tr>\n    <tr>\n      <th>1964</th>\n      <td>NaN</td>\n      <td>1.091550</td>\n    </tr>\n    <tr>\n      <th>...</th>\n      <td>...</td>\n      <td>...</td>\n    </tr>\n    <tr>\n      <th>2018</th>\n      <td>1.311876</td>\n      <td>1.285195</td>\n    </tr>\n    <tr>\n      <th>2019</th>\n      <td>1.407287</td>\n      <td>1.272179</td>\n    </tr>\n    <tr>\n      <th>2020</th>\n      <td>1.390230</td>\n      <td>1.490694</td>\n    </tr>\n    <tr>\n      <th>2021</th>\n      <td>1.355009</td>\n      <td>1.636976</td>\n    </tr>\n    <tr>\n      <th>2022</th>\n      <td>NaN</td>\n      <td>NaN</td>\n    </tr>\n  </tbody>\n</table>\n<p>63 rows × 2 columns</p>\n</div>"
     },
     "execution_count": 32,
     "metadata": {},
     "output_type": "execute_result"
    }
   ],
   "source": [
    "my_index_df=index_df['M2_rate']\n",
    "my_index_df=pd.concat([my_index_df,a],axis=1)\n",
    "my_index_df.rename(columns={0:'gdp_n_rate'},inplace=True)\n",
    "my_index_df"
   ],
   "metadata": {
    "collapsed": false,
    "pycharm": {
     "name": "#%%\n"
    }
   }
  },
  {
   "cell_type": "code",
   "execution_count": 33,
   "outputs": [
    {
     "data": {
      "text/plain": "       M2_rate  gdp_n_rate  IRN_inflation\n1960       NaN    1.000000       1.098224\n1961       NaN    1.054253       1.031626\n1962       NaN    1.060226       1.007213\n1963       NaN    1.050082       1.003718\n1964       NaN    1.091550       1.038145\n...        ...         ...            ...\n2018  1.311876    1.285195       1.180141\n2019  1.407287    1.272179       1.399073\n2020  1.390230    1.490694       1.305941\n2021  1.355009    1.636976       1.433890\n2022       NaN         NaN       1.520000\n\n[63 rows x 3 columns]",
      "text/html": "<div>\n<style scoped>\n    .dataframe tbody tr th:only-of-type {\n        vertical-align: middle;\n    }\n\n    .dataframe tbody tr th {\n        vertical-align: top;\n    }\n\n    .dataframe thead th {\n        text-align: right;\n    }\n</style>\n<table border=\"1\" class=\"dataframe\">\n  <thead>\n    <tr style=\"text-align: right;\">\n      <th></th>\n      <th>M2_rate</th>\n      <th>gdp_n_rate</th>\n      <th>IRN_inflation</th>\n    </tr>\n  </thead>\n  <tbody>\n    <tr>\n      <th>1960</th>\n      <td>NaN</td>\n      <td>1.000000</td>\n      <td>1.098224</td>\n    </tr>\n    <tr>\n      <th>1961</th>\n      <td>NaN</td>\n      <td>1.054253</td>\n      <td>1.031626</td>\n    </tr>\n    <tr>\n      <th>1962</th>\n      <td>NaN</td>\n      <td>1.060226</td>\n      <td>1.007213</td>\n    </tr>\n    <tr>\n      <th>1963</th>\n      <td>NaN</td>\n      <td>1.050082</td>\n      <td>1.003718</td>\n    </tr>\n    <tr>\n      <th>1964</th>\n      <td>NaN</td>\n      <td>1.091550</td>\n      <td>1.038145</td>\n    </tr>\n    <tr>\n      <th>...</th>\n      <td>...</td>\n      <td>...</td>\n      <td>...</td>\n    </tr>\n    <tr>\n      <th>2018</th>\n      <td>1.311876</td>\n      <td>1.285195</td>\n      <td>1.180141</td>\n    </tr>\n    <tr>\n      <th>2019</th>\n      <td>1.407287</td>\n      <td>1.272179</td>\n      <td>1.399073</td>\n    </tr>\n    <tr>\n      <th>2020</th>\n      <td>1.390230</td>\n      <td>1.490694</td>\n      <td>1.305941</td>\n    </tr>\n    <tr>\n      <th>2021</th>\n      <td>1.355009</td>\n      <td>1.636976</td>\n      <td>1.433890</td>\n    </tr>\n    <tr>\n      <th>2022</th>\n      <td>NaN</td>\n      <td>NaN</td>\n      <td>1.520000</td>\n    </tr>\n  </tbody>\n</table>\n<p>63 rows × 3 columns</p>\n</div>"
     },
     "execution_count": 33,
     "metadata": {},
     "output_type": "execute_result"
    }
   ],
   "source": [
    "my_index_df=pd.concat([my_index_df,1+index_df['IRN_inflation']/100],axis=1)\n",
    "my_index_df"
   ],
   "metadata": {
    "collapsed": false,
    "pycharm": {
     "name": "#%%\n"
    }
   }
  },
  {
   "cell_type": "code",
   "execution_count": 34,
   "outputs": [
    {
     "data": {
      "text/plain": "             0\n1960  1.000000\n1961       NaN\n1962       NaN\n1963       NaN\n1964       NaN\n...        ...\n2018  3.545176\n2019  1.045795\n2020  1.970553\n2021  0.837359\n2022  1.615385\n\n[63 rows x 1 columns]",
      "text/html": "<div>\n<style scoped>\n    .dataframe tbody tr th:only-of-type {\n        vertical-align: middle;\n    }\n\n    .dataframe tbody tr th {\n        vertical-align: top;\n    }\n\n    .dataframe thead th {\n        text-align: right;\n    }\n</style>\n<table border=\"1\" class=\"dataframe\">\n  <thead>\n    <tr style=\"text-align: right;\">\n      <th></th>\n      <th>0</th>\n    </tr>\n  </thead>\n  <tbody>\n    <tr>\n      <th>1960</th>\n      <td>1.000000</td>\n    </tr>\n    <tr>\n      <th>1961</th>\n      <td>NaN</td>\n    </tr>\n    <tr>\n      <th>1962</th>\n      <td>NaN</td>\n    </tr>\n    <tr>\n      <th>1963</th>\n      <td>NaN</td>\n    </tr>\n    <tr>\n      <th>1964</th>\n      <td>NaN</td>\n    </tr>\n    <tr>\n      <th>...</th>\n      <td>...</td>\n    </tr>\n    <tr>\n      <th>2018</th>\n      <td>3.545176</td>\n    </tr>\n    <tr>\n      <th>2019</th>\n      <td>1.045795</td>\n    </tr>\n    <tr>\n      <th>2020</th>\n      <td>1.970553</td>\n    </tr>\n    <tr>\n      <th>2021</th>\n      <td>0.837359</td>\n    </tr>\n    <tr>\n      <th>2022</th>\n      <td>1.615385</td>\n    </tr>\n  </tbody>\n</table>\n<p>63 rows × 1 columns</p>\n</div>"
     },
     "execution_count": 34,
     "metadata": {},
     "output_type": "execute_result"
    }
   ],
   "source": [
    "a2=[index_df['usd/irr'][i]/index_df['usd/irr'][i-1] for i in index_df.index[1:]]\n",
    "a2.insert(0,1)\n",
    "a2=pd.DataFrame(np.array(a2).reshape(-1,1),index=index_df.index)\n",
    "a2"
   ],
   "metadata": {
    "collapsed": false,
    "pycharm": {
     "name": "#%%\n"
    }
   }
  },
  {
   "cell_type": "code",
   "execution_count": null,
   "outputs": [],
   "source": [],
   "metadata": {
    "collapsed": false,
    "pycharm": {
     "name": "#%%\n"
    }
   }
  },
  {
   "cell_type": "code",
   "execution_count": null,
   "outputs": [],
   "source": [],
   "metadata": {
    "collapsed": false,
    "pycharm": {
     "name": "#%%\n"
    }
   }
  }
 ],
 "metadata": {
  "kernelspec": {
   "display_name": "Python 3",
   "language": "python",
   "name": "python3"
  },
  "language_info": {
   "codemirror_mode": {
    "name": "ipython",
    "version": 2
   },
   "file_extension": ".py",
   "mimetype": "text/x-python",
   "name": "python",
   "nbconvert_exporter": "python",
   "pygments_lexer": "ipython2",
   "version": "2.7.6"
  }
 },
 "nbformat": 4,
 "nbformat_minor": 0
}